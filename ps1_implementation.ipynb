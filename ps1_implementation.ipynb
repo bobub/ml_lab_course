{
 "cells": [
  {
   "cell_type": "code",
   "execution_count": 1,
   "metadata": {},
   "outputs": [
    {
     "data": {
      "text/plain": [
       "' sheet1_implementation.py\\n\\nPUT YOUR NAME HERE:\\nBoris Bubla\\nLeonard Paeleke\\n\\n\\nWrite the functions\\n- pca\\n- gammaidx\\n- lle\\nWrite your implementations in the given functions stubs!\\n\\n\\n(c) Daniel Bartz, TU Berlin, 2013\\n'"
      ]
     },
     "execution_count": 1,
     "metadata": {},
     "output_type": "execute_result"
    }
   ],
   "source": [
    "\"\"\" sheet1_implementation.py\n",
    "\n",
    "PUT YOUR NAME HERE:\n",
    "Boris Bubla\n",
    "Leonard Paeleke\n",
    "\n",
    "\n",
    "Write the functions\n",
    "- pca\n",
    "- gammaidx\n",
    "- lle\n",
    "Write your implementations in the given functions stubs!\n",
    "\n",
    "\n",
    "(c) Daniel Bartz, TU Berlin, 2013\n",
    "\"\"\"\n"
   ]
  },
  {
   "cell_type": "code",
   "execution_count": 2,
   "metadata": {},
   "outputs": [],
   "source": [
    "import numpy as np\n",
    "import scipy.linalg as la\n",
    "import scipy.spatial as sp\n",
    "import matplotlib.pyplot as plt"
   ]
  },
  {
   "cell_type": "code",
   "execution_count": 3,
   "metadata": {},
   "outputs": [],
   "source": [
    "X = np.array([[ -2.133268233289599,   0.903819474847349,   2.217823388231679, -0.444779660856219,\n",
    "                -0.661480010318842,  -0.163814281248453,  -0.608167714051449,  0.949391996219125],\n",
    "            [ -1.273486742804804,  -1.270450725314960,  -2.873297536940942,   1.819616794091556,\n",
    "              -2.617784834189455,   1.706200163080549,   0.196983250752276,   0.501491995499840],\n",
    "            [ -0.935406638147949,   0.298594472836292,   1.520579082270122,  -1.390457671168661,\n",
    "              -1.180253547776717,  -0.194988736923602,  -0.645052874385757,  -1.400566775105519]]).T\n",
    "m = 2;"
   ]
  },
  {
   "cell_type": "code",
   "execution_count": 4,
   "metadata": {},
   "outputs": [],
   "source": [
    "class PCA():\n",
    "    \"\"\"\n",
    "        Definition of PCA Class\n",
    "        Algorithms in guide.pdf used, pg 15-17\n",
    "    \"\"\"\n",
    "    def __init__(self, Xtrain):\n",
    "        \"\"\"\n",
    "            Compute Principal Components\n",
    "        \"\"\"\n",
    "        # 1. centre data\n",
    "        self.Xmean = np.mean(Xtrain, axis = 0)\n",
    "        self.C = Xtrain - self.Xmean\n",
    "        # 2. generate covariance marix\n",
    "        self.C = np.cov(self.C.T)\n",
    "        # 3. calculate eigenvalues and eigenvectors\n",
    "        self.D, self.U = np.linalg.eig(self.C)\n",
    "        # Make a list of (eigenvalue, eigenvector) tuples\n",
    "        self.pairs = [(np.abs(self.D[i]), self.U[i]) for i in range(len(self.D))]\n",
    "        # Sort the (eigenvalue, eigenvector) tuples from high to low\n",
    "        self.pairs.sort()\n",
    "        self.pairs.reverse()\n",
    "        \n",
    "        self.U = -1*np.array([self.pairs[i][1] for i in range(len(self.pairs))]) # eigencevtors CAVEAT: mulitplying by -1 because numpy.eig routine delivers wrong sign\n",
    "        self.D = np.array([self.pairs[i][0] for i in range(len(self.pairs))]) # eigenvalues\n",
    "    def project(self, Xtest, m):\n",
    "        \"\"\"\n",
    "            Projecting to the low-dimensional sub-space\n",
    "        \"\"\"\n",
    "        # 1. centre data by mean of training\n",
    "        Xtest = Xtest - self.Xmean\n",
    "        # 2. project data to m principal components\n",
    "        Z = self.U.T[range(m)].dot(Xtest.T).T    \n",
    "        return Z\n",
    "    def denoise(self, Xtest, m):\n",
    "        \"\"\"\n",
    "            Reconstructing projected data points in the original space\n",
    "        \"\"\"\n",
    "        # 1. projection to the low-dimencsional sub-space\n",
    "        Z = self.project(Xtest, m)\n",
    "        # 2. recontraction by m dimensions\n",
    "        Y = Z.dot(pca1.U.T[range(m)])+self.Xmean\n",
    "        return Y"
   ]
  },
  {
   "cell_type": "code",
   "execution_count": 5,
   "metadata": {},
   "outputs": [],
   "source": [
    "pca1 = PCA(X)"
   ]
  },
  {
   "cell_type": "code",
   "execution_count": 6,
   "metadata": {},
   "outputs": [
    {
     "data": {
      "text/plain": [
       "array([[-0.26424835,  2.25344912],\n",
       "       [ 1.29695602, -0.60127941],\n",
       "       [ 3.59711235, -1.28967825],\n",
       "       [-2.45930604, -0.45229125],\n",
       "       [ 1.33335186,  1.82830153],\n",
       "       [-1.82020954, -1.04090645],\n",
       "       [-0.85747383,  0.21347615],\n",
       "       [-0.82618248, -0.91107143]])"
      ]
     },
     "execution_count": 6,
     "metadata": {},
     "output_type": "execute_result"
    }
   ],
   "source": [
    "Z = pca1.project(X,m)\n",
    "Z"
   ]
  },
  {
   "cell_type": "code",
   "execution_count": 7,
   "metadata": {},
   "outputs": [
    {
     "data": {
      "text/plain": [
       "array([[-1.88406616, -1.35842791, -1.38087939],\n",
       "       [ 0.96048487, -1.28976527,  0.19729962],\n",
       "       [ 2.34965134, -2.91823143,  1.28492391],\n",
       "       [-0.53132686,  1.84911663, -1.23574621],\n",
       "       [-0.96141012, -2.51555289, -0.64409954],\n",
       "       [ 0.17114282,  1.59202918, -0.79375686],\n",
       "       [-0.47605492,  0.15195227, -0.88121723],\n",
       "       [ 0.43110399,  0.67815178, -0.47407698]])"
      ]
     },
     "execution_count": 7,
     "metadata": {},
     "output_type": "execute_result"
    }
   ],
   "source": [
    "Y = pca1.denoise(X,m)\n",
    "Y"
   ]
  },
  {
   "cell_type": "code",
   "execution_count": 8,
   "metadata": {},
   "outputs": [],
   "source": [
    "X = np.array([  [   0.5376671395461, -2.25884686100365, 0.318765239858981, -0.433592022305684, 3.57839693972576,\n",
    "                    -1.34988694015652, 0.725404224946106, 0.714742903826096, -0.124144348216312, 1.40903448980048,\n",
    "                    0.67149713360808, 0.717238651328838, 0.488893770311789, 0.726885133383238, 0.293871467096658,\n",
    "                    0.888395631757642, -1.06887045816803, -2.9442841619949, 0.325190539456198, 1.37029854009523],\n",
    "                [   1.83388501459509, 0.862173320368121, -1.30768829630527, 0.34262446653865, 2.76943702988488,\n",
    "                    3.03492346633185, -0.0630548731896562, -0.204966058299775, 1.48969760778546, 1.41719241342961,\n",
    "                    -1.20748692268504, 1.63023528916473, 1.03469300991786, -0.303440924786016, -0.787282803758638,\n",
    "                    -1.14707010696915, -0.809498694424876, 1.4383802928151, -0.754928319169703, -1.7115164188537]]).T\n",
    "\n",
    "k = 3;"
   ]
  },
  {
   "cell_type": "code",
   "execution_count": 9,
   "metadata": {},
   "outputs": [
    {
     "data": {
      "text/plain": [
       "[<matplotlib.lines.Line2D at 0x2593e68f6a0>]"
      ]
     },
     "execution_count": 9,
     "metadata": {},
     "output_type": "execute_result"
    },
    {
     "data": {
      "image/png": "[encoded data removed]",
      "text/plain": [
       "<Figure size 432x288 with 1 Axes>"
      ]
     },
     "metadata": {
      "needs_background": "light"
     },
     "output_type": "display_data"
    }
   ],
   "source": [
    "plt.plot(X.T[0],X.T[1], 'o')"
   ]
  },
  {
   "cell_type": "code",
   "execution_count": 10,
   "metadata": {},
   "outputs": [
    {
     "data": {
      "text/plain": [
       "array([[0.        , 2.960526  , 3.14919052, 1.77966356, 3.18139832,\n",
       "        2.2372648 , 1.90620727, 2.04652621, 0.74596207, 0.96587462,\n",
       "        3.04431499, 0.27151269, 0.8006789 , 2.14568535, 2.63248116,\n",
       "        3.00151694, 3.09328959, 3.50434143, 2.5975182 , 3.64186029],\n",
       "       [2.960526  , 0.        , 3.36932984, 1.89775821, 6.14093397,\n",
       "        2.3552179 , 3.12438822, 3.15927564, 2.22502619, 3.70963607,\n",
       "        3.58753529, 3.07359792, 2.75315122, 3.20519143, 3.03925589,\n",
       "        3.73392481, 2.05195789, 0.8954545 , 3.048322  , 4.44910949],\n",
       "       [3.14919052, 3.36932984, 0.        , 1.81371819, 5.21997603,\n",
       "        4.65216907, 1.30937681, 1.1716632 , 2.83223177, 2.93490407,\n",
       "        0.36668802, 2.96482311, 2.34855145, 1.08400859, 0.52100055,\n",
       "        0.59184203, 1.47435603, 4.26478418, 0.55279732, 1.12640998],\n",
       "       [1.77966356, 1.89775821, 1.81371819, 0.        , 4.6888671 ,\n",
       "        2.84395328, 1.22794464, 1.27221401, 1.18808024, 2.13306557,\n",
       "        1.90369834, 1.72694901, 1.15322977, 1.32819717, 1.34383539,\n",
       "        1.99169307, 1.31566199, 2.73938969, 1.33430622, 2.73377321],\n",
       "       [3.18139832, 6.14093397, 5.21997603, 4.6888671 , 0.        ,\n",
       "        4.93542957, 4.02027086, 4.12887251, 3.91746665, 2.55630572,\n",
       "        4.92605223, 3.07961156, 3.54321417, 4.19209953, 4.84131837,\n",
       "        4.75132983, 5.86565215, 6.65710754, 4.79630097, 4.99546218],\n",
       "       [2.2372648 , 2.3552179 , 4.65216907, 2.84395328, 4.93542957,\n",
       "        0.        , 3.72884744, 3.84181995, 1.97235084, 3.19823408,\n",
       "        4.69936586, 2.4992313 , 2.71699032, 3.93162295, 4.16067332,\n",
       "        4.74330888, 3.85467924, 2.2563361 , 4.14353244, 5.47065815],\n",
       "       [1.90620727, 3.12438822, 1.30937681, 1.22794464, 4.02027086,\n",
       "        3.72884744, 0.        , 0.1423111 , 1.76996414, 1.63048532,\n",
       "        1.14570096, 1.69330985, 1.12293705, 0.24039061, 0.84304603,\n",
       "        1.09620036, 1.94334763, 3.96496159, 0.79928709, 1.77011699],\n",
       "       [2.04652621, 3.15927564, 1.1716632 , 1.27221401, 4.12887251,\n",
       "        3.84181995, 0.1423111 , 0.        , 1.89093013, 1.76449395,\n",
       "        1.00345318, 1.83520304, 1.26006446, 0.09922063, 0.71848838,\n",
       "        0.95797459, 1.88327808, 4.01111784, 0.67395069, 1.64299945],\n",
       "       [0.74596207, 2.22502619, 2.83223177, 1.18808024, 3.91746665,\n",
       "        1.97235084, 1.76996414, 1.89093013, 0.        , 1.53489229,\n",
       "        2.81208993, 0.85303938, 0.76344281, 1.9848418 , 2.31503283,\n",
       "        2.82449663, 2.48572144, 2.82060668, 2.28915866, 3.53286439],\n",
       "       [0.96587462, 3.70963607, 2.93490407, 2.13306557, 2.55630572,\n",
       "        3.19823408, 1.63048532, 1.76449395, 1.53489229, 0.        ,\n",
       "        2.72633508, 0.72385686, 0.99647616, 1.85092054, 2.47048569,\n",
       "        2.6165831 , 3.33139103, 4.35337021, 2.4275144 , 3.12894861],\n",
       "       [3.04431499, 3.58753529, 0.36668802, 1.90369834, 4.92605223,\n",
       "        4.69936586, 1.14570096, 1.00345318, 2.81208993, 2.72633508,\n",
       "        0.        , 2.83809084, 2.24960326, 0.90574113, 0.56495367,\n",
       "        0.22515584, 1.78529381, 4.48045619, 0.56985748, 0.86160846],\n",
       "       [0.27151269, 3.07359792, 2.96482311, 1.72694901, 3.07961156,\n",
       "        2.4992313 , 1.69330985, 1.83520304, 0.85303938, 0.72385686,\n",
       "        2.83809084, 0.        , 0.63781815, 1.93370028, 2.45430917,\n",
       "        2.78257434, 3.02365469, 3.66654574, 2.41716925, 3.40496574],\n",
       "       [0.8006789 , 2.75315122, 2.34855145, 1.15322977, 3.54321417,\n",
       "        2.71699032, 1.12293705, 1.26006446, 0.76344281, 0.99647616,\n",
       "        2.24960326, 0.63781815, 0.        , 1.35913293, 1.83238357,\n",
       "        2.21803788, 2.41405726, 3.45683007, 1.797093  , 2.88418803],\n",
       "       [2.14568535, 3.20519143, 1.08400859, 1.32819717, 4.19209953,\n",
       "        3.93162295, 0.24039061, 0.09922063, 1.9848418 , 1.85092054,\n",
       "        0.90574113, 1.93370028, 1.35913293, 0.        , 0.64931025,\n",
       "        0.85895043, 1.86569896, 4.0634253 , 0.60431731, 1.54811415],\n",
       "       [2.63248116, 3.03925589, 0.52100055, 1.34383539, 4.84131837,\n",
       "        4.16067332, 0.84304603, 0.71848838, 2.31503283, 2.47048569,\n",
       "        0.56495367, 2.45430917, 1.83238357, 0.64931025, 0.        ,\n",
       "        0.6949143 , 1.362923  , 3.92927832, 0.04502996, 1.41876813],\n",
       "       [3.00151694, 3.73392481, 0.59184203, 1.99169307, 4.75132983,\n",
       "        4.74330888, 1.09620036, 0.95797459, 2.82449663, 2.6165831 ,\n",
       "        0.22515584, 2.78257434, 2.21803788, 0.85895043, 0.6949143 ,\n",
       "        0.        , 1.98616339, 4.62320107, 0.6862763 , 0.74217926],\n",
       "       [3.09328959, 2.05195789, 1.47435603, 1.31566199, 5.86565215,\n",
       "        3.85467924, 1.94334763, 1.88327808, 2.48572144, 3.33139103,\n",
       "        1.78529381, 3.02365469, 2.41405726, 1.86569896, 1.362923  ,\n",
       "        1.98616339, 0.        , 2.92747955, 1.39512866, 2.60061173],\n",
       "       [3.50434143, 0.8954545 , 4.26478418, 2.73938969, 6.65710754,\n",
       "        2.2563361 , 3.96496159, 4.01111784, 2.82060668, 4.35337021,\n",
       "        4.48045619, 3.66654574, 3.45683007, 4.0634253 , 3.92927832,\n",
       "        4.62320107, 2.92747955, 0.        , 3.93701251, 5.34204766],\n",
       "       [2.5975182 , 3.048322  , 0.55279732, 1.33430622, 4.79630097,\n",
       "        4.14353244, 0.79928709, 0.67395069, 2.28915866, 2.4275144 ,\n",
       "        0.56985748, 2.41716925, 1.797093  , 0.60431731, 0.04502996,\n",
       "        0.6862763 , 1.39512866, 3.93701251, 0.        , 1.41679622],\n",
       "       [3.64186029, 4.44910949, 1.12640998, 2.73377321, 4.99546218,\n",
       "        5.47065815, 1.77011699, 1.64299945, 3.53286439, 3.12894861,\n",
       "        0.86160846, 3.40496574, 2.88418803, 1.54811415, 1.41876813,\n",
       "        0.74217926, 2.60061173, 5.34204766, 1.41679622, 0.        ]])"
      ]
     },
     "execution_count": 10,
     "metadata": {},
     "output_type": "execute_result"
    }
   ],
   "source": [
    "z = np.array([complex(c[0], c[1]) for c in X])\n",
    "m, n = np.meshgrid(z, z)\n",
    "# get the distance via the norm\n",
    "D = abs(m-n)\n",
    "D"
   ]
  },
  {
   "cell_type": "code",
   "execution_count": 11,
   "metadata": {},
   "outputs": [],
   "source": [
    "D = sp.distance_matrix(X, X)"
   ]
  },
  {
   "cell_type": "code",
   "execution_count": 12,
   "metadata": {},
   "outputs": [],
   "source": [
    "pairs = [list(zip(np.linspace(0,len(X)-1,len(X)), D[i])) for i in range(len(X))]\n",
    "Y = pairs[0]"
   ]
  },
  {
   "cell_type": "code",
   "execution_count": 13,
   "metadata": {},
   "outputs": [
    {
     "data": {
      "text/plain": [
       "[(0.0, 0.0),\n",
       " (1.0, 2.960525995827129),\n",
       " (2.0, 3.1491905165372387),\n",
       " (3.0, 1.7796635585611749),\n",
       " (4.0, 3.1813983232241485),\n",
       " (5.0, 2.2372647957611633),\n",
       " (6.0, 1.9062072686629057),\n",
       " (7.0, 2.0465262089061764),\n",
       " (8.0, 0.7459620743312859),\n",
       " (9.0, 0.9658746207222721),\n",
       " (10.0, 3.0443149850476576),\n",
       " (11.0, 0.27151268572904474),\n",
       " (12.0, 0.8006789006127712),\n",
       " (13.0, 2.145685349799238),\n",
       " (14.0, 2.6324811607831724),\n",
       " (15.0, 3.0015169351561313),\n",
       " (16.0, 3.0932895897379606),\n",
       " (17.0, 3.504341429035323),\n",
       " (18.0, 2.5975181967917274),\n",
       " (19.0, 3.6418602902199773)]"
      ]
     },
     "execution_count": 13,
     "metadata": {},
     "output_type": "execute_result"
    }
   ],
   "source": [
    "Y"
   ]
  },
  {
   "cell_type": "code",
   "execution_count": 14,
   "metadata": {},
   "outputs": [
    {
     "data": {
      "text/plain": [
       "array([[ 0.        ,  0.        ],\n",
       "       [11.        ,  0.27151269],\n",
       "       [ 8.        ,  0.74596207],\n",
       "       [12.        ,  0.8006789 ],\n",
       "       [ 9.        ,  0.96587462],\n",
       "       [ 3.        ,  1.77966356],\n",
       "       [ 6.        ,  1.90620727],\n",
       "       [ 7.        ,  2.04652621],\n",
       "       [13.        ,  2.14568535],\n",
       "       [ 5.        ,  2.2372648 ],\n",
       "       [18.        ,  2.5975182 ],\n",
       "       [14.        ,  2.63248116],\n",
       "       [ 1.        ,  2.960526  ],\n",
       "       [15.        ,  3.00151694],\n",
       "       [10.        ,  3.04431499],\n",
       "       [16.        ,  3.09328959],\n",
       "       [ 2.        ,  3.14919052],\n",
       "       [ 4.        ,  3.18139832],\n",
       "       [17.        ,  3.50434143],\n",
       "       [19.        ,  3.64186029]])"
      ]
     },
     "execution_count": 14,
     "metadata": {},
     "output_type": "execute_result"
    }
   ],
   "source": [
    "Y = np.array(sorted(Y, key=lambda x: x[1]))\n",
    "Y"
   ]
  },
  {
   "cell_type": "code",
   "execution_count": 15,
   "metadata": {},
   "outputs": [
    {
     "name": "stdout",
     "output_type": "stream",
     "text": [
      "[0.53766714 1.83388501]\n",
      "[[ 0.71723865  1.63023529]\n",
      " [-0.12414435  1.48969761]\n",
      " [ 0.48889377  1.03469301]]\n"
     ]
    }
   ],
   "source": [
    "print(X[0])\n",
    "print (X[Y[1:k+1,0].astype(int)])\n",
    "diff = X[0] - X[Y[1:k+1,0].astype(int)]"
   ]
  },
  {
   "cell_type": "code",
   "execution_count": 16,
   "metadata": {},
   "outputs": [
    {
     "data": {
      "text/plain": [
       "array([[ 0.71723865,  1.63023529],\n",
       "       [-0.12414435,  1.48969761],\n",
       "       [ 0.48889377,  1.03469301]])"
      ]
     },
     "execution_count": 16,
     "metadata": {},
     "output_type": "execute_result"
    }
   ],
   "source": [
    "X[Y[1:k+1,0].astype(int)]"
   ]
  },
  {
   "cell_type": "code",
   "execution_count": 17,
   "metadata": {},
   "outputs": [
    {
     "data": {
      "text/plain": [
       "array([[ 0.71723865,  1.63023529],\n",
       "       [-0.12414435,  1.48969761]])"
      ]
     },
     "execution_count": 17,
     "metadata": {},
     "output_type": "execute_result"
    }
   ],
   "source": [
    "X[Y[1:k,0].astype(int)]"
   ]
  },
  {
   "cell_type": "code",
   "execution_count": 19,
   "metadata": {},
   "outputs": [],
   "source": [
    "#int(list(Y[1:k][0]))"
   ]
  },
  {
   "cell_type": "code",
   "execution_count": 20,
   "metadata": {},
   "outputs": [
    {
     "data": {
      "text/plain": [
       "array([[-0.17957151,  0.20364973],\n",
       "       [ 0.66181149,  0.34418741],\n",
       "       [ 0.04877337,  0.799192  ]])"
      ]
     },
     "execution_count": 20,
     "metadata": {},
     "output_type": "execute_result"
    }
   ],
   "source": [
    "diff"
   ]
  },
  {
   "cell_type": "code",
   "execution_count": 21,
   "metadata": {},
   "outputs": [
    {
     "data": {
      "text/plain": [
       "0.6060512202243673"
      ]
     },
     "execution_count": 21,
     "metadata": {},
     "output_type": "execute_result"
    }
   ],
   "source": [
    "sum([np.linalg.norm(diff[i]) for i in range(len(diff))])/k"
   ]
  },
  {
   "cell_type": "code",
   "execution_count": 22,
   "metadata": {},
   "outputs": [],
   "source": [
    "def gammaidx(X, k):\n",
    "    \"\"\"\n",
    "    Gamma identification for outlier detection by ranking\n",
    "    \"\"\"\n",
    "    y = []\n",
    "    # Calculate distance matrix\n",
    "    D = sp.distance_matrix(X, X)\n",
    "    pairs = [list(zip(np.linspace(0,len(X)-1,len(X)), D[i])) for i in range(len(X))]\n",
    "    for idx in range(len(X)):\n",
    "        #print(idx)\n",
    "        Y = pairs[idx]\n",
    "        #print(Y)\n",
    "        Y = np.array(sorted(Y, key=lambda x: x[1])) # sort according to euclidean distance to all neighbors\n",
    "        #print(k)\n",
    "        diff = X[idx] - X[Y[1:k+1,0].astype(int)]\n",
    "        y.append(sum([np.linalg.norm(diff[i]) for i in range(len(diff))])/k)\n",
    "    return np.array(y)"
   ]
  },
  {
   "cell_type": "code",
   "execution_count": 23,
   "metadata": {},
   "outputs": [],
   "source": [
    "y = gammaidx(X, k)"
   ]
  },
  {
   "cell_type": "code",
   "execution_count": 24,
   "metadata": {},
   "outputs": [
    {
     "data": {
      "text/plain": [
       "array([0.60605122, 1.61505687, 0.48016196, 1.18975155, 2.9391052 ,\n",
       "       2.15531725, 0.39399627, 0.30516081, 0.78748142, 0.89540255,\n",
       "       0.38559917, 0.5443959 , 0.73397995, 0.31464285, 0.37699473,\n",
       "       0.50109139, 1.35790455, 1.96372676, 0.38922825, 0.9100659 ])"
      ]
     },
     "execution_count": 24,
     "metadata": {},
     "output_type": "execute_result"
    }
   ],
   "source": [
    "y"
   ]
  },
  {
   "cell_type": "code",
   "execution_count": 25,
   "metadata": {},
   "outputs": [],
   "source": [
    "correct_gamma = np.array([ 0.606051220224367, 1.61505686776722, 0.480161964450438, 1.18975154873627,\n",
    "                                    2.93910520141032, 2.15531724762712, 0.393996268071324, 0.30516080506303,\n",
    "                                    0.787481421847747, 0.895402545799062, 0.385599174039363, 0.544395897115756,\n",
    "                                    0.73397995201338, 0.314642851266896, 0.376994725474732, 0.501091387197748,\n",
    "                                    1.3579045507961, 1.96372676400505, 0.389228251829715, 0.910065898315003])"
   ]
  },
  {
   "cell_type": "code",
   "execution_count": 26,
   "metadata": {},
   "outputs": [],
   "source": [
    "def auc(y_true,y_pred,plot=False):\n",
    "    #1. FIND ROC CURVE POINTS & FPR/TPR\n",
    "    pos_label=1\n",
    "    y_true=(y_true==pos_label) #boolean vec of true labels\n",
    "\n",
    "    #arrange predictions in descending order (indexes)\n",
    "    descending_scores=np.argsort(y_pred,kind='mergesort')[::-1]\n",
    "    #ascending_scores=np.argsort(y_pred,kind='mergesort')[::1]\n",
    "    y_pred=y_pred[descending_scores]\n",
    "    y_true=y_true[descending_scores]\n",
    "\n",
    "    #determine distinct values to create an index of decreasing values\n",
    "    #'predicted value in y_pred where lower values tend to correspond to label -1 and higher values to label +1'\n",
    "    distinct_values_idx=np.where(np.diff(y_pred))[0]#length n-1 as calculating differences\n",
    "    distinct_descending_scores_idx=np.r_[distinct_values_idx,y_true.size-1]# add last entry\n",
    "\n",
    "    tps=np.cumsum(y_true)[distinct_descending_scores_idx]#cumulative sum of true positives using idx\n",
    "    fps=1-tps+distinct_descending_scores_idx #same as cum sum of false positives\n",
    "\n",
    "    #add 0,0 position for ROC curve\n",
    "    tps=np.r_[0,tps]\n",
    "    fps=np.r_[0,fps]\n",
    "\n",
    "    #false/true positive rate\n",
    "    fpr=fps/fps[-1] #rate=sum/max\n",
    "    tpr=tps/tps[-1]\n",
    "    \n",
    "    #2.PLOT ROC CURVE POINTS\n",
    "    if plot==True:\n",
    "        plt.plot(fpr,tpr,label='Algorithm')\n",
    "        plt.plot(np.arange(0,1.1,0.1),np.arange(0,1.1,0.1),label='Random guesses')\n",
    "        plt.ylabel('True Positive Rate (TPR)')\n",
    "        plt.xlabel('False Positive Rate (FPR)')\n",
    "        plt.title('ROC Curve')\n",
    "        plt.legend()\n",
    "\n",
    "    #3. CALCULATE AUC\n",
    "    #reshape needed\n",
    "    fpr=fpr.reshape(1,fpr.shape[0])\n",
    "    tpr=tpr.reshape(1,tpr.shape[0])\n",
    "    \n",
    "    #assume positive area\n",
    "    end=1\n",
    "    #check if negative area (good discrimination, just switch labels)\n",
    "    diff_fpr=np.diff(fpr)\n",
    "    if np.all(diff_fpr<=0):\n",
    "        end=-1\n",
    "    #calculate area using trapezoidal approach\n",
    "    area=end*np.trapz(tpr,fpr)\n",
    "\n",
    "    return area"
   ]
  },
  {
   "cell_type": "code",
   "execution_count": 27,
   "metadata": {},
   "outputs": [],
   "source": [
    "test1_y_true=np.array([-1, -1, -1, +1, +1])\n",
    "test1_y_pred=np.array([0.3, 0.4, 0.5, 0.6, 0.7])#ans=1.0\n",
    "test2_y_true=np.array([-1, -1, -1, +1, +1, +1])\n",
    "test2_y_pred=np.array([0.3, 0.4, 0.6, 0.5, 0.7, 0.8])#ans=0.89\n",
    "test3_y_true=np.array([+1, -1, -1, +1, +1, -1])\n",
    "test3_y_pred=np.array([0.3, 0.4, 0.6, 0.5, 0.7, 0.8])#ans=1/3"
   ]
  },
  {
   "cell_type": "code",
   "execution_count": 30,
   "metadata": {},
   "outputs": [
    {
     "data": {
      "text/plain": [
       "array([1.])"
      ]
     },
     "execution_count": 30,
     "metadata": {},
     "output_type": "execute_result"
    },
    {
     "data": {
      "image/png": "[encoded data removed]",
      "text/plain": [
       "<Figure size 432x288 with 1 Axes>"
      ]
     },
     "metadata": {
      "needs_background": "light"
     },
     "output_type": "display_data"
    }
   ],
   "source": [
    "auc(test1_y_true,test1_y_pred,plot=True)"
   ]
  },
  {
   "cell_type": "code",
   "execution_count": 31,
   "metadata": {},
   "outputs": [
    {
     "data": {
      "text/plain": [
       "array([0.88888889])"
      ]
     },
     "execution_count": 31,
     "metadata": {},
     "output_type": "execute_result"
    },
    {
     "data": {
      "image/png": "[encoded data removed]",
      "text/plain": [
       "<Figure size 432x288 with 1 Axes>"
      ]
     },
     "metadata": {
      "needs_background": "light"
     },
     "output_type": "display_data"
    }
   ],
   "source": [
    "auc(test2_y_true,test2_y_pred,plot=True)"
   ]
  },
  {
   "cell_type": "code",
   "execution_count": 32,
   "metadata": {},
   "outputs": [
    {
     "data": {
      "text/plain": [
       "array([0.33333333])"
      ]
     },
     "execution_count": 32,
     "metadata": {},
     "output_type": "execute_result"
    }
   ],
   "source": [
    "auc(test3_y_true,test3_y_pred,plot=False)"
   ]
  },
  {
   "cell_type": "code",
   "execution_count": null,
   "metadata": {},
   "outputs": [],
   "source": [
    "#Incorrect old version\n",
    "class PCA():  \n",
    "    \"\"\"\n",
    "    Definition of PCA Class\n",
    "    Algorithms in guide.pdf used, pg 15-17\n",
    "    \"\"\"\n",
    "    def __init__(self, Xtrain):\n",
    "        # Alg 1: Compute principal components\n",
    "        self.C = np.cov(Xtrain)\n",
    "        self.D, self.U = la.eigh(self.C)  # eigenvalues,eigenvectors\n",
    "\n",
    "        # arrange in descending order\n",
    "        descending = np.flip(np.argsort(self.D))\n",
    "        self.D = self.D[descending]\n",
    "        self.U = self.U[:, descending]\n",
    "\n",
    "        self.mean_ = np.mean(Xtrain, axis=0)  # mean\n",
    "\n",
    "    def project(self, Xtest, m):\n",
    "        # Alg 2: Project to low dim space\n",
    "        Z = np.empty((Xtest.shape[0], m))  # create output array\n",
    "        X_center = np.subtract(Xtest, self.mean_)  # center data\n",
    "        for i in range(Xtest.shape[0]):  # loop through samples\n",
    "            z = np.multiply(self.U[i][:m].T, X_center[i][:m]).T  # compute\n",
    "            Z = np.append(Z, [z], axis=0)\n",
    "        return Z\n",
    "\n",
    "    def denoise(self, Xtest, m):\n",
    "        Z = self.project(Xtest, m)\n",
    "        # Alg 3: Reconstruct in original space after project to low space\n",
    "        Y = np.empty(Xtest.shape)  # create output array\n",
    "        for i in range(Xtest.shape[0]):  # loop through samples\n",
    "            y = self.mean_ + Z[i][:m].dot(self.U[i][:m])  # compute\n",
    "            Y = np.append(Y, [y], axis=0)\n",
    "        return Y"
   ]
  },
  {
   "cell_type": "code",
   "execution_count": null,
   "metadata": {},
   "outputs": [],
   "source": [
    "#Incorrect old version\n",
    "def gammaidx(X, k):\n",
    "    n, d = X.shape\n",
    "    # Calculate distance matrix\n",
    "    D = sp.distance_matrix(X, X)\n",
    "    # y=np.empty((n,1))#create output array\n",
    "    y = []\n",
    "    # Find all k nearest neigbours\n",
    "    for i in range(n):\n",
    "        D_0 = np.asarray(D[i][:])  # array of distances relative to i'th data point\n",
    "        point = D_0[i]  # value at i'th data point\n",
    "        gamma = 0\n",
    "        for j in range(k):  # repeat for k nearest neigbours\n",
    "            idx = (np.abs(D_0 - point)).argmin()  # find nearest neighbour\n",
    "            gamma += np.abs(D_0[idx] - point)  # add distance/k to gamma for that point\n",
    "            D_0 = np.delete(D_0, idx)  # remove nearest neighbour from list\n",
    "        gamma = gamma/5\n",
    "        y = np.append(y, [gamma], axis=0)\n",
    "\n",
    "    return y\n"
   ]
  }
 ],
 "metadata": {
  "kernelspec": {
   "display_name": "Python 3",
   "language": "python",
   "name": "python3"
  },
  "language_info": {
   "codemirror_mode": {
    "name": "ipython",
    "version": 3
   },
   "file_extension": ".py",
   "mimetype": "text/x-python",
   "name": "python",
   "nbconvert_exporter": "python",
   "pygments_lexer": "ipython3",
   "version": "3.7.3"
  }
 },
 "nbformat": 4,
 "nbformat_minor": 4
}
