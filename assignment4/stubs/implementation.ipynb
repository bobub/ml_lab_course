{
 "cells": [
  {
   "cell_type": "code",
   "execution_count": 3,
   "metadata": {},
   "outputs": [],
   "source": [
    "#imports\n",
    "import numpy as np\n",
    "import torch as tr\n",
    "from scipy.stats import bernoulli\n",
    "import matplotlib.pyplot as plt\n",
    "import sklearn.svm\n",
    "from cvxopt.solvers import qp\n",
    "from cvxopt import matrix as cvxmatrix"
   ]
  },
  {
   "cell_type": "code",
   "execution_count": 4,
   "metadata": {},
   "outputs": [],
   "source": [
    "# provided stub\n",
    "\n",
    "class neural_network():\n",
    "    def __init__(self, layers=[2, 100, 2], scale=.1, p=.1, lr=.1, lam=.1):\n",
    "        super().__init__()\n",
    "        self.weights = tr.nn.ParameterList([tr.nn.Parameter(scale * tr.randn(m, n)) for m, n in zip(layers[:-1], layers[1:])])\n",
    "        self.biases = tr.nn.ParameterList([tr.nn.Parameter(scale * tr.randn(n)) for n in layers[1:]])\n",
    "        self.parameters = list(self.weights) + list(self.biases)\n",
    "\n",
    "        self.p = p\n",
    "        self.lr = lr\n",
    "        self.lam = lam\n",
    "        self.train = False\n",
    "\n",
    "    def relu(self, X, W, b):\n",
    "        # algorithm 15, pg 46 from guide.pdf\n",
    "        if self.train:\n",
    "            delta = bernoulli.rvs(1 - self.p,\n",
    "                                  size=W.shape[1])  # sample 'out' many samples from Bernoulli distribution B(1-p)\n",
    "            Z = tr.from_numpy(delta) * tr.max(tr.zeros(X.shape[0], W.shape[1]), tr.mm(X, W) + b)\n",
    "\n",
    "        else:\n",
    "            Z = tr.max(tr.zeros(X.shape[0], W.shape[1]), (1 - self.p) * tr.mm(X, W) + b)\n",
    "\n",
    "        return Z\n",
    "\n",
    "    def softmax(self, Z, W, b):\n",
    "        # algorithm 16, pg 46 from guide.pdf\n",
    "        Z = tr.mm(Z, W) + b\n",
    "        y_hat = tr.div(tr.exp(Z).T, tr.sum(tr.exp(Z), dim=1)).T\n",
    "\n",
    "        return y_hat\n",
    "\n",
    "    def forward(self, X):\n",
    "        # algorithm 14, pg 45 from guide.pdf\n",
    "        X = tr.tensor(X, dtype=tr.float)\n",
    "        Z = X\n",
    "        # apply ReLU to all layers but the last\n",
    "        for w, b in zip(self.weights[:len(self.weights) - 1],\n",
    "                        self.biases[:len(self.biases) - 1]):  # iterate through L-1 layers\n",
    "            Z = self.relu(Z, w, b)\n",
    "        # apply softmax to last layer\n",
    "        y_hat = self.softmax(Z, self.weights[len(self.weights) - 1], self.biases[len(self.biases) - 1])\n",
    "\n",
    "        return y_hat\n",
    "\n",
    "    def predict(self, X):\n",
    "        return self.forward(X).detach().numpy()\n",
    "\n",
    "    def loss(self, ypred, ytrue):\n",
    "        # compute cross entropy loss according to pg47 from guide.pdf\n",
    "        loss = (-1 / ytrue.shape[0]) * tr.sum(ytrue * tr.log(ypred))\n",
    "\n",
    "        return loss\n",
    "\n",
    "    def fit(self, X, y, nsteps=1000, bs=100, plot=False):\n",
    "        X, y = tr.tensor(X), tr.tensor(y)\n",
    "        optimizer = tr.optim.SGD(self.parameters, lr=self.lr, weight_decay=self.lam)\n",
    "\n",
    "        I = tr.randperm(X.shape[0])\n",
    "        n = int(np.ceil(.1 * X.shape[0]))\n",
    "        Xtrain, ytrain = X[I[:n]], y[I[:n]]\n",
    "        Xval, yval = X[I[n:]], y[I[n:]]\n",
    "\n",
    "        Ltrain, Lval, Aval = [], [], []\n",
    "        for i in range(nsteps):\n",
    "            optimizer.zero_grad()\n",
    "            I = tr.randperm(Xtrain.shape[0])[:bs]\n",
    "            self.train = True\n",
    "            output = self.loss(self.forward(Xtrain[I]), ytrain[I])\n",
    "            self.train = False\n",
    "            Ltrain += [output.item()]\n",
    "            output.backward()\n",
    "            optimizer.step()\n",
    "\n",
    "            outval = self.forward(Xval)\n",
    "            Lval += [self.loss(outval, yval).item()]\n",
    "            Aval += [np.array(outval.argmax(-1) == yval.argmax(-1)).mean()]\n",
    "\n",
    "        if plot:\n",
    "            plt.plot(range(nsteps), Ltrain, label='Training loss')\n",
    "            plt.plot(range(nsteps), Lval, label='Validation loss')\n",
    "            plt.plot(range(nsteps), Aval, label='Validation acc')\n",
    "            plt.legend()\n",
    "            plt.show()"
   ]
  },
  {
   "cell_type": "code",
   "execution_count": 13,
   "metadata": {},
   "outputs": [
    {
     "name": "stdout",
     "output_type": "stream",
     "text": [
      "tensor([-0.1495,  0.5810])\n",
      "tensor([0.0000, 0.5810])\n"
     ]
    }
   ],
   "source": [
    "#from ps4_tests.py\n",
    "m = tr.nn.ReLU()\n",
    "inp = tr.randn(2)\n",
    "print(inp)\n",
    "output = m(inp)\n",
    "print(output)"
   ]
  },
  {
   "cell_type": "code",
   "execution_count": 15,
   "metadata": {},
   "outputs": [
    {
     "name": "stdout",
     "output_type": "stream",
     "text": [
      "tensor([[0.5000, 0.2000],\n",
      "        [0.0000, 0.0000]])\n"
     ]
    }
   ],
   "source": [
    "#from ps4_tests.py\n",
    "\n",
    "X = tr.tensor([[1, 1], [0, 0]], dtype=tr.float)\n",
    "y = tr.tensor([[0, 1], [1, 0]], dtype=tr.int)\n",
    "W = tr.tensor([[1, .2], [.5, 1]], dtype=tr.float)\n",
    "b = tr.tensor([-1, -1], dtype=tr.float)\n",
    "#m = neural_network(layers=[2,2,2], p=0, lam=0)\n",
    "\n",
    "#m.fit(X, y, nsteps=1, bs=1, plot=False)\n",
    "\n",
    "relu_out = tr.tensor([[.5,.2],[0, 0]])\n",
    "#self.assertTrue(np.allclose(m.relu(X, W, b), relu_out), msg='neural_network: Error. ReLU output not correct')\n",
    "print(relu_out)"
   ]
  },
  {
   "cell_type": "code",
   "execution_count": 16,
   "metadata": {},
   "outputs": [],
   "source": [
    "#testing relu\n",
    "def relu(p, X, W, b):\n",
    "    # YOUR CODE HERE!\n",
    "    #algorithm 15, pg 46 from guide.pdf\n",
    "    if train:\n",
    "        delta = bernoulli.rvs(1-p, size=W.shape[1]) #sample 'out' many samples from Bernoulli distribution B(1-p) \n",
    "        Z = tr.from_numpy(delta) * tr.max(tr.zeros(X.shape[0],W.shape[1]),tr.mm(X,W)+b)\n",
    "        #Z = delta.detach().numpy() * np.maximum(0,torch.mm(X,W)+b)\n",
    "        \n",
    "    else:\n",
    "        Z = tr.max(tr.zeros(X.shape[0],W.shape[1]),(1-p)*tr.mm(X,W)+b)\n",
    "            \n",
    "    return Z"
   ]
  },
  {
   "cell_type": "code",
   "execution_count": 17,
   "metadata": {},
   "outputs": [
    {
     "ename": "NameError",
     "evalue": "name 'p' is not defined",
     "output_type": "error",
     "traceback": [
      "\u001b[1;31m---------------------------------------------------------------------------\u001b[0m",
      "\u001b[1;31mNameError\u001b[0m                                 Traceback (most recent call last)",
      "\u001b[1;32m<ipython-input-17-3c962dbc55d6>\u001b[0m in \u001b[0;36m<module>\u001b[1;34m\u001b[0m\n\u001b[1;32m----> 1\u001b[1;33m \u001b[0mZ\u001b[0m \u001b[1;33m=\u001b[0m \u001b[0mrelu\u001b[0m\u001b[1;33m(\u001b[0m\u001b[0mp\u001b[0m\u001b[1;33m,\u001b[0m \u001b[0mX\u001b[0m\u001b[1;33m,\u001b[0m \u001b[0mW\u001b[0m\u001b[1;33m,\u001b[0m \u001b[0mb\u001b[0m\u001b[1;33m)\u001b[0m\u001b[1;33m\u001b[0m\u001b[1;33m\u001b[0m\u001b[0m\n\u001b[0m\u001b[0;32m      2\u001b[0m \u001b[0mprint\u001b[0m\u001b[1;33m(\u001b[0m\u001b[0mZ\u001b[0m\u001b[1;33m)\u001b[0m\u001b[1;33m\u001b[0m\u001b[1;33m\u001b[0m\u001b[0m\n",
      "\u001b[1;31mNameError\u001b[0m: name 'p' is not defined"
     ]
    }
   ],
   "source": [
    "Z = relu(p, X, W, b)\n",
    "print(Z)"
   ]
  },
  {
   "cell_type": "code",
   "execution_count": 18,
   "metadata": {},
   "outputs": [
    {
     "ename": "NameError",
     "evalue": "name 'Z' is not defined",
     "output_type": "error",
     "traceback": [
      "\u001b[1;31m---------------------------------------------------------------------------\u001b[0m",
      "\u001b[1;31mNameError\u001b[0m                                 Traceback (most recent call last)",
      "\u001b[1;32m<ipython-input-18-3701a86130ba>\u001b[0m in \u001b[0;36m<module>\u001b[1;34m\u001b[0m\n\u001b[1;32m----> 1\u001b[1;33m \u001b[0mprint\u001b[0m\u001b[1;33m(\u001b[0m\u001b[0mZ\u001b[0m\u001b[1;33m.\u001b[0m\u001b[0mT\u001b[0m\u001b[1;33m)\u001b[0m\u001b[1;33m\u001b[0m\u001b[1;33m\u001b[0m\u001b[0m\n\u001b[0m",
      "\u001b[1;31mNameError\u001b[0m: name 'Z' is not defined"
     ]
    }
   ],
   "source": [
    "print(Z.T)"
   ]
  },
  {
   "cell_type": "code",
   "execution_count": null,
   "metadata": {},
   "outputs": [],
   "source": [
    "#testing softmax\n",
    "def softmax(Z, W, b):\n",
    "    # algorithm 16, pg 46 from guide.pdf\n",
    "    Z = torch.mm(Z,W)+b\n",
    "    y_hat = torch.div(torch.exp(Z).T,torch.sum(torch.exp(Z),dim=1)).T #can't specify division dim so double transpose to get desired behaviour\n",
    "    return y_hat"
   ]
  },
  {
   "cell_type": "code",
   "execution_count": null,
   "metadata": {},
   "outputs": [],
   "source": [
    "y_hat = softmax(Z, W, b)"
   ]
  },
  {
   "cell_type": "code",
   "execution_count": null,
   "metadata": {},
   "outputs": [],
   "source": [
    "y_hat"
   ]
  },
  {
   "cell_type": "code",
   "execution_count": 6,
   "metadata": {},
   "outputs": [
    {
     "ename": "NameError",
     "evalue": "name 'torch' is not defined",
     "output_type": "error",
     "traceback": [
      "\u001b[1;31m---------------------------------------------------------------------------\u001b[0m",
      "\u001b[1;31mNameError\u001b[0m                                 Traceback (most recent call last)",
      "\u001b[1;32m<ipython-input-6-86d6646c764c>\u001b[0m in \u001b[0;36m<module>\u001b[1;34m\u001b[0m\n\u001b[0;32m      1\u001b[0m \u001b[0mlayers\u001b[0m \u001b[1;33m=\u001b[0m \u001b[1;33m[\u001b[0m\u001b[1;36m2\u001b[0m\u001b[1;33m,\u001b[0m\u001b[1;36m100\u001b[0m\u001b[1;33m,\u001b[0m\u001b[1;36m2\u001b[0m\u001b[1;33m]\u001b[0m\u001b[1;33m\u001b[0m\u001b[1;33m\u001b[0m\u001b[0m\n\u001b[0;32m      2\u001b[0m \u001b[0mscale\u001b[0m \u001b[1;33m=\u001b[0m \u001b[1;36m.1\u001b[0m\u001b[1;33m\u001b[0m\u001b[1;33m\u001b[0m\u001b[0m\n\u001b[1;32m----> 3\u001b[1;33m \u001b[0mweights\u001b[0m \u001b[1;33m=\u001b[0m \u001b[0mtorch\u001b[0m\u001b[1;33m.\u001b[0m\u001b[0mnn\u001b[0m\u001b[1;33m.\u001b[0m\u001b[0mParameterList\u001b[0m\u001b[1;33m(\u001b[0m\u001b[1;33m[\u001b[0m\u001b[0mtorch\u001b[0m\u001b[1;33m.\u001b[0m\u001b[0mnn\u001b[0m\u001b[1;33m.\u001b[0m\u001b[0mParameter\u001b[0m\u001b[1;33m(\u001b[0m\u001b[0mscale\u001b[0m\u001b[1;33m*\u001b[0m\u001b[0mtorch\u001b[0m\u001b[1;33m.\u001b[0m\u001b[0mrandn\u001b[0m\u001b[1;33m(\u001b[0m\u001b[0mm\u001b[0m\u001b[1;33m,\u001b[0m \u001b[0mn\u001b[0m\u001b[1;33m)\u001b[0m\u001b[1;33m)\u001b[0m \u001b[1;32mfor\u001b[0m \u001b[0mm\u001b[0m\u001b[1;33m,\u001b[0m \u001b[0mn\u001b[0m \u001b[1;32min\u001b[0m \u001b[0mzip\u001b[0m\u001b[1;33m(\u001b[0m\u001b[0mlayers\u001b[0m\u001b[1;33m[\u001b[0m\u001b[1;33m:\u001b[0m\u001b[1;33m-\u001b[0m\u001b[1;36m1\u001b[0m\u001b[1;33m]\u001b[0m\u001b[1;33m,\u001b[0m \u001b[0mlayers\u001b[0m\u001b[1;33m[\u001b[0m\u001b[1;36m1\u001b[0m\u001b[1;33m:\u001b[0m\u001b[1;33m]\u001b[0m\u001b[1;33m)\u001b[0m\u001b[1;33m]\u001b[0m\u001b[1;33m)\u001b[0m\u001b[1;33m\u001b[0m\u001b[1;33m\u001b[0m\u001b[0m\n\u001b[0m\u001b[0;32m      4\u001b[0m \u001b[0mbiases\u001b[0m \u001b[1;33m=\u001b[0m \u001b[0mtorch\u001b[0m\u001b[1;33m.\u001b[0m\u001b[0mnn\u001b[0m\u001b[1;33m.\u001b[0m\u001b[0mParameterList\u001b[0m\u001b[1;33m(\u001b[0m\u001b[1;33m[\u001b[0m\u001b[0mtorch\u001b[0m\u001b[1;33m.\u001b[0m\u001b[0mnn\u001b[0m\u001b[1;33m.\u001b[0m\u001b[0mParameter\u001b[0m\u001b[1;33m(\u001b[0m\u001b[0mscale\u001b[0m\u001b[1;33m*\u001b[0m\u001b[0mtorch\u001b[0m\u001b[1;33m.\u001b[0m\u001b[0mrandn\u001b[0m\u001b[1;33m(\u001b[0m\u001b[0mn\u001b[0m\u001b[1;33m)\u001b[0m\u001b[1;33m)\u001b[0m \u001b[1;32mfor\u001b[0m \u001b[0mn\u001b[0m \u001b[1;32min\u001b[0m \u001b[0mlayers\u001b[0m\u001b[1;33m[\u001b[0m\u001b[1;36m1\u001b[0m\u001b[1;33m:\u001b[0m\u001b[1;33m]\u001b[0m\u001b[1;33m]\u001b[0m\u001b[1;33m)\u001b[0m\u001b[1;33m\u001b[0m\u001b[1;33m\u001b[0m\u001b[0m\n",
      "\u001b[1;31mNameError\u001b[0m: name 'torch' is not defined"
     ]
    }
   ],
   "source": [
    "layers = [2,100,2]\n",
    "scale = .1\n",
    "weights = torch.nn.ParameterList([torch.nn.Parameter(scale*torch.randn(m, n)) for m, n in zip(layers[:-1], layers[1:])])\n",
    "biases = torch.nn.ParameterList([torch.nn.Parameter(scale*torch.randn(n)) for n in layers[1:]])"
   ]
  },
  {
   "cell_type": "code",
   "execution_count": 7,
   "metadata": {},
   "outputs": [
    {
     "ename": "NameError",
     "evalue": "name 'weights' is not defined",
     "output_type": "error",
     "traceback": [
      "\u001b[1;31m---------------------------------------------------------------------------\u001b[0m",
      "\u001b[1;31mNameError\u001b[0m                                 Traceback (most recent call last)",
      "\u001b[1;32m<ipython-input-7-802f9fef9139>\u001b[0m in \u001b[0;36m<module>\u001b[1;34m\u001b[0m\n\u001b[1;32m----> 1\u001b[1;33m \u001b[0mprint\u001b[0m\u001b[1;33m(\u001b[0m\u001b[0mweights\u001b[0m\u001b[1;33m[\u001b[0m\u001b[1;33m:\u001b[0m\u001b[1;36m2\u001b[0m\u001b[1;33m]\u001b[0m\u001b[1;33m)\u001b[0m\u001b[1;33m\u001b[0m\u001b[1;33m\u001b[0m\u001b[0m\n\u001b[0m",
      "\u001b[1;31mNameError\u001b[0m: name 'weights' is not defined"
     ]
    }
   ],
   "source": [
    "print(weights[:2])"
   ]
  },
  {
   "cell_type": "code",
   "execution_count": 8,
   "metadata": {},
   "outputs": [],
   "source": [
    "#testing forward\n",
    "def forward(weights,biases, X):\n",
    "    # algorithm 14, pg 45 from guide.pdf\n",
    "    X = torch.tensor(X, dtype=torch.float)\n",
    "    Z = X\n",
    "    #apply ReLU to all layers but the last\n",
    "    for w, b in zip(weights[:len(weights)-1], biases[:len(biases)-1]): #iterate through L-1 layers\n",
    "        Z = relu(p, Z, w, b)\n",
    "    #apply softmax to last layer\n",
    "    y_hat = softmax(Z, weights[len(weights)-1], biases[len(biases)-1])\n",
    "    \n",
    "    return y_hat"
   ]
  },
  {
   "cell_type": "code",
   "execution_count": 9,
   "metadata": {},
   "outputs": [
    {
     "ename": "NameError",
     "evalue": "name 'weights' is not defined",
     "output_type": "error",
     "traceback": [
      "\u001b[1;31m---------------------------------------------------------------------------\u001b[0m",
      "\u001b[1;31mNameError\u001b[0m                                 Traceback (most recent call last)",
      "\u001b[1;32m<ipython-input-9-2cb6353c072c>\u001b[0m in \u001b[0;36m<module>\u001b[1;34m\u001b[0m\n\u001b[1;32m----> 1\u001b[1;33m \u001b[0my_hat\u001b[0m\u001b[1;33m=\u001b[0m\u001b[0mforward\u001b[0m\u001b[1;33m(\u001b[0m\u001b[0mweights\u001b[0m\u001b[1;33m,\u001b[0m\u001b[0mbiases\u001b[0m\u001b[1;33m,\u001b[0m\u001b[0mX\u001b[0m\u001b[1;33m)\u001b[0m\u001b[1;33m\u001b[0m\u001b[1;33m\u001b[0m\u001b[0m\n\u001b[0m",
      "\u001b[1;31mNameError\u001b[0m: name 'weights' is not defined"
     ]
    }
   ],
   "source": [
    "y_hat=forward(weights,biases,X)"
   ]
  },
  {
   "cell_type": "code",
   "execution_count": 10,
   "metadata": {},
   "outputs": [],
   "source": [
    "def loss(self, ypred, ytrue):\n",
    "    # compute cross entropy loss according to pg47 from guide.pdf\n",
    "    loss = (-1/ytrue.shape[0])*torch.sum(ytrue*torch.log(ypred))\n",
    "    \n",
    "    return loss"
   ]
  },
  {
   "cell_type": "code",
   "execution_count": 129,
   "metadata": {},
   "outputs": [],
   "source": [
    "#Assignment 2\n",
    "\n",
    "def plot_boundary_2d(X, y, model):\n",
    "    \"\"\"\n",
    "    Plots a 2 dimensional boundary of a model.\n",
    "    \n",
    "    Inputs:\n",
    "    X = 2d data array (nx2) \n",
    "    y = labels (nx1)\n",
    "    model = model (typically SVM or neural net)\n",
    "    \"\"\"\n",
    "    #1. plot points X\n",
    "    plt.scatter(X.T[0][np.argwhere(y==1)],X.T[1][np.argwhere(y==1)],c='b',label='Positive class')\n",
    "    plt.scatter(X.T[0][np.argwhere(y==-1)],X.T[1][np.argwhere(y==-1)],c='r',label='Negative class')\n",
    "    \n",
    "    #2. mark support vectors with a cross if SVM\n",
    "    if isinstance(model, svm_sklearn):\n",
    "        plt.scatter(model.X_sv.T[0],model.X_sv.T[1],s=80,c='y',marker='x',label='Support vectors')\n",
    "    \n",
    "    #3. plot separating hyperplane\n",
    "    #3a. create grid of predictions\n",
    "    x_max = np.amax(X,axis=0)\n",
    "    x_min = np.amin(X,axis=0)\n",
    "    x0 = np.linspace(x_min[0],x_max[0],50)\n",
    "    x1 = np.linspace(x_min[1],x_max[1],50)\n",
    "    x0v, x1v = np.meshgrid(x0, x1)\n",
    "    Xv = np.squeeze(np.array((x0v.reshape(2500,1),x1v.reshape(2500,1))))\n",
    "    grid_pred = model.predict(Xv.T)\n",
    "    #3b plot level 0 contour line\n",
    "    plt.contour(x0,x1,grid_pred.reshape(50,50),levels=0)\n",
    "    \n",
    "    #format plot\n",
    "    plt.ylabel('X1')\n",
    "    plt.xlabel('X0')\n",
    "    plt.title('2D visualisation of model classifications with a separating hyperplane')\n",
    "    plt.legend()\n",
    "    "
   ]
  },
  {
   "cell_type": "code",
   "execution_count": 67,
   "metadata": {},
   "outputs": [
    {
     "data": {
      "text/plain": [
       "[<matplotlib.lines.Line2D at 0x196cecbe240>]"
      ]
     },
     "execution_count": 67,
     "metadata": {},
     "output_type": "execute_result"
    },
    {
     "data": {
      "image/png": "[encoded data removed]",
      "text/plain": [
       "<Figure size 432x288 with 1 Axes>"
      ]
     },
     "metadata": {
      "needs_background": "light"
     },
     "output_type": "display_data"
    }
   ],
   "source": [
    "plt.plot(X.T[0],X.T[1])"
   ]
  },
  {
   "cell_type": "code",
   "execution_count": 52,
   "metadata": {},
   "outputs": [
    {
     "name": "stdout",
     "output_type": "stream",
     "text": [
      "(3, 2)\n"
     ]
    },
    {
     "data": {
      "text/plain": [
       "<matplotlib.collections.PathCollection at 0x196ced55eb8>"
      ]
     },
     "execution_count": 52,
     "metadata": {},
     "output_type": "execute_result"
    },
    {
     "data": {
      "image/png": "[encoded data removed]",
      "text/plain": [
       "<Figure size 432x288 with 1 Axes>"
      ]
     },
     "metadata": {
      "needs_background": "light"
     },
     "output_type": "display_data"
    }
   ],
   "source": [
    "X = np.array([[1,2],[1,3],[2,1]])\n",
    "y = np.array([1,1,-1])\n",
    "print(X.shape)\n",
    "plt.scatter(X.T[0][np.argwhere(y==1)],X.T[1][np.argwhere(y==1)],c='b',label='Positive class')\n",
    "plt.scatter(X.T[0][np.argwhere(y==-1)],X.T[1][np.argwhere(y==-1)],c='y',label='Negative class')\n",
    "\n",
    "\n"
   ]
  },
  {
   "cell_type": "code",
   "execution_count": 37,
   "metadata": {},
   "outputs": [],
   "source": [
    "class svm_sklearn():\n",
    "    \"\"\" SVM via scikit-learn \"\"\"\n",
    "    def __init__(self, kernel='linear', kernelparameter=1., C=1.):\n",
    "        if kernel == 'gaussian':\n",
    "            kernel = 'rbf'\n",
    "        self.clf = sklearn.svm.SVC(C=C,\n",
    "                                   kernel=kernel,\n",
    "                                   gamma=1./(1./2. * kernelparameter ** 2),\n",
    "                                   degree=kernelparameter,\n",
    "                                   coef0=kernelparameter)\n",
    "\n",
    "    def fit(self, X, y):\n",
    "        self.clf.fit(X, y)\n",
    "        self.X_sv = X[self.clf.support_, :]\n",
    "        self.y_sv = y[self.clf.support_]\n",
    "\n",
    "    def predict(self, X):\n",
    "        return self.clf.decision_function(X)"
   ]
  },
  {
   "cell_type": "code",
   "execution_count": 57,
   "metadata": {},
   "outputs": [],
   "source": [
    "class neural_network():\n",
    "    def __init__(self, layers=[2, 100, 2], scale=.1, p=.1, lr=.1, lam=.1):\n",
    "        super().__init__()\n",
    "        self.weights = tr.nn.ParameterList([tr.nn.Parameter(scale * tr.randn(m, n)) for m, n in zip(layers[:-1], layers[1:])])\n",
    "        self.biases = tr.nn.ParameterList([tr.nn.Parameter(scale * tr.randn(n)) for n in layers[1:]])\n",
    "        self.parameters = list(self.weights) + list(self.biases)\n",
    "\n",
    "        self.p = p\n",
    "        self.lr = lr\n",
    "        self.lam = lam\n",
    "        self.train = False\n",
    "\n",
    "    def relu(self, X, W, b):\n",
    "        # algorithm 15, pg 46 from guide.pdf\n",
    "        if self.train:\n",
    "            delta = bernoulli.rvs(1 - self.p,\n",
    "                                  size=W.shape[1])  # sample 'out' many samples from Bernoulli distribution B(1-p)\n",
    "            Z = tr.from_numpy(delta) * tr.max(tr.zeros(X.shape[0], W.shape[1]), tr.mm(X, W) + b)\n",
    "\n",
    "        else:\n",
    "            Z = tr.max(tr.zeros(X.shape[0], W.shape[1]), (1 - self.p) * tr.mm(X, W) + b)\n",
    "\n",
    "        return Z\n",
    "\n",
    "    def softmax(self, Z, W, b):\n",
    "        # algorithm 16, pg 46 from guide.pdf\n",
    "        Z = tr.mm(Z, W) + b\n",
    "        y_hat = tr.div(tr.exp(Z).T, tr.sum(tr.exp(Z), dim=1)).T\n",
    "\n",
    "        return y_hat\n",
    "\n",
    "    def forward(self, X):\n",
    "        # algorithm 14, pg 45 from guide.pdf\n",
    "        X = tr.tensor(X, dtype=tr.float)\n",
    "        Z = X\n",
    "        # apply ReLU to all layers but the last\n",
    "        for w, b in zip(self.weights[:len(self.weights) - 1],\n",
    "                        self.biases[:len(self.biases) - 1]):  # iterate through L-1 layers\n",
    "            Z = self.relu(Z, w, b)\n",
    "        # apply softmax to last layer\n",
    "        y_hat = self.softmax(Z, self.weights[len(self.weights) - 1], self.biases[len(self.biases) - 1])\n",
    "\n",
    "        return y_hat\n",
    "\n",
    "    def predict(self, X):\n",
    "        return self.forward(X).detach().numpy()\n",
    "\n",
    "    def loss(self, ypred, ytrue):\n",
    "        # compute cross entropy loss according to pg47 from guide.pdf\n",
    "        loss = (-1 / ytrue.shape[0]) * tr.sum(ytrue * tr.log(ypred))\n",
    "\n",
    "        return loss\n",
    "\n",
    "    def fit(self, X, y, nsteps=1000, bs=100, plot=False):\n",
    "        X, y = tr.tensor(X), tr.tensor(y)\n",
    "        optimizer = tr.optim.SGD(self.parameters, lr=self.lr, weight_decay=self.lam)\n",
    "\n",
    "        I = tr.randperm(X.shape[0])\n",
    "        n = int(np.ceil(.1 * X.shape[0]))\n",
    "        Xtrain, ytrain = X[I[:n]], y[I[:n]]\n",
    "        Xval, yval = X[I[n:]], y[I[n:]]\n",
    "\n",
    "        Ltrain, Lval, Aval = [], [], []\n",
    "        for i in range(nsteps):\n",
    "            optimizer.zero_grad()\n",
    "            I = tr.randperm(Xtrain.shape[0])[:bs]\n",
    "            self.train = True\n",
    "            output = self.loss(self.forward(Xtrain[I]), ytrain[I])\n",
    "            self.train = False\n",
    "            Ltrain += [output.item()]\n",
    "            output.backward()\n",
    "            optimizer.step()\n",
    "\n",
    "            outval = self.forward(Xval)\n",
    "            Lval += [self.loss(outval, yval).item()]\n",
    "            Aval += [np.array(outval.argmax(-1) == yval.argmax(-1)).mean()]\n",
    "\n",
    "        if plot:\n",
    "            plt.plot(range(nsteps), Ltrain, label='Training loss')\n",
    "            plt.plot(range(nsteps), Lval, label='Validation loss')\n",
    "            plt.plot(range(nsteps), Aval, label='Validation acc')\n",
    "            plt.legend()\n",
    "            plt.show()"
   ]
  },
  {
   "cell_type": "code",
   "execution_count": 126,
   "metadata": {},
   "outputs": [
    {
     "name": "stdout",
     "output_type": "stream",
     "text": [
      "(2, 2500)\n",
      "(2500, 1)\n",
      "[[-0.         -0.02040816 -0.04081633 ... -0.95918367 -0.97959184\n",
      "  -1.        ]\n",
      " [ 0.04081633  0.02040816 -0.         ... -0.91836735 -0.93877551\n",
      "  -0.95918367]\n",
      " [ 0.08163265  0.06122449  0.04081633 ... -0.87755102 -0.89795918\n",
      "  -0.91836735]\n",
      " ...\n",
      " [ 1.91836735  1.89795918  1.87755102 ...  0.95918367  0.93877551\n",
      "   0.91836735]\n",
      " [ 1.95918367  1.93877551  1.91836735 ...  1.          0.97959184\n",
      "   0.95918367]\n",
      " [ 2.          1.97959184  1.95918367 ...  1.04081633  1.02040816\n",
      "   1.        ]]\n",
      "(2, 2500)\n",
      "[[1.         1.02040816 1.04081633 ... 1.95918367 1.97959184 2.        ]\n",
      " [1.         1.         1.         ... 3.         3.         3.        ]]\n"
     ]
    },
    {
     "data": {
      "image/png": "[encoded data removed]",
      "text/plain": [
       "<Figure size 432x288 with 1 Axes>"
      ]
     },
     "metadata": {
      "needs_background": "light"
     },
     "output_type": "display_data"
    }
   ],
   "source": [
    "model = svm_sklearn()\n",
    "model.fit(X,y)\n",
    "\n",
    "#model = neural_network()\n",
    "#model.fit(X,y)\n",
    "\n",
    "x_max = np.amax(X,axis=0)\n",
    "x_min = np.amin(X,axis=0)\n",
    "\n",
    "x0 = np.linspace(x_min[0],x_max[0],50)\n",
    "x1 = np.linspace(x_min[1],x_max[1],50)\n",
    "\n",
    "x0v, x1v = np.meshgrid(x0, x1)\n",
    "Xv = np.squeeze(np.array((x0v.reshape(2500,1),x1v.reshape(2500,1))))\n",
    "print(Xv.shape)\n",
    "\n",
    "grid_pred = model.predict(Xv.T)\n",
    "print(np.vstack(grid_pred).shape)\n",
    "print(grid_pred.reshape(50,50))\n",
    "\n",
    "#plt.contour(x0,x1,grid_pred.reshape(50,50))\n",
    "#plt.clabel()\n",
    "\n",
    "fig, ax = plt.subplots()\n",
    "CS = ax.contour(x0,x1,grid_pred.reshape(50,50),levels=0)\n",
    "ax.set_title('Simplest default with labels')\n",
    "\n",
    "print((np.squeeze(Xv).shape))\n",
    "print(np.squeeze(Xv))\n"
   ]
  },
  {
   "cell_type": "code",
   "execution_count": 130,
   "metadata": {},
   "outputs": [
    {
     "name": "stderr",
     "output_type": "stream",
     "text": [
      "C:\\Users\\Boris\\Anaconda3\\lib\\site-packages\\ipykernel_launcher.py:31: UserWarning: The following kwargs were not used by contour: 'label'\n"
     ]
    },
    {
     "data": {
      "image/png": "[encoded data removed]",
      "text/plain": [
       "<Figure size 432x288 with 1 Axes>"
      ]
     },
     "metadata": {
      "needs_background": "light"
     },
     "output_type": "display_data"
    }
   ],
   "source": [
    "plot_boundary_2d(X,y,model)"
   ]
  },
  {
   "cell_type": "code",
   "execution_count": 74,
   "metadata": {},
   "outputs": [
    {
     "data": {
      "text/plain": [
       "<__main__.svm_sklearn at 0x196cee0bf98>"
      ]
     },
     "execution_count": 74,
     "metadata": {},
     "output_type": "execute_result"
    }
   ],
   "source": [
    "svm_sklearn()"
   ]
  },
  {
   "cell_type": "code",
   "execution_count": null,
   "metadata": {},
   "outputs": [],
   "source": []
  }
 ],
 "metadata": {
  "kernelspec": {
   "display_name": "Python 3",
   "language": "python",
   "name": "python3"
  },
  "language_info": {
   "codemirror_mode": {
    "name": "ipython",
    "version": 3
   },
   "file_extension": ".py",
   "mimetype": "text/x-python",
   "name": "python",
   "nbconvert_exporter": "python",
   "pygments_lexer": "ipython3",
   "version": "3.7.3"
  }
 },
 "nbformat": 4,
 "nbformat_minor": 2
}
