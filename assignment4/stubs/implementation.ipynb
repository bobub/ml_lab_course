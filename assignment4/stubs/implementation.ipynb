{
 "cells": [
  {
   "cell_type": "code",
   "execution_count": 309,
   "metadata": {},
   "outputs": [],
   "source": [
    "#imports\n",
    "import numpy as np\n",
    "import torch as tr\n",
    "from scipy.stats import bernoulli\n",
    "import matplotlib.pyplot as plt\n",
    "import sklearn.svm\n",
    "from cvxopt.solvers import qp\n",
    "from cvxopt import matrix as cvxmatrix"
   ]
  },
  {
   "cell_type": "code",
   "execution_count": 307,
   "metadata": {},
   "outputs": [],
   "source": [
    "# provided stub\n",
    "\n",
    "class neural_network():\n",
    "    def __init__(self, layers=[2, 100, 2], scale=.1, p=.1, lr=.1, lam=.1):\n",
    "        super().__init__()\n",
    "        self.weights = tr.nn.ParameterList([tr.nn.Parameter(scale * tr.randn(m, n)) for m, n in zip(layers[:-1], layers[1:])])\n",
    "        self.biases = tr.nn.ParameterList([tr.nn.Parameter(scale * tr.randn(n)) for n in layers[1:]])\n",
    "        self.parameters = list(self.weights) + list(self.biases)\n",
    "\n",
    "        self.p = p\n",
    "        self.lr = lr\n",
    "        self.lam = lam\n",
    "        self.train = False\n",
    "\n",
    "    def relu(self, X, W, b):\n",
    "        # algorithm 15, pg 46 from guide.pdf\n",
    "        if self.train:\n",
    "            delta = bernoulli.rvs(1 - self.p,\n",
    "                                  size=W.shape[1])  # sample 'out' many samples from Bernoulli distribution B(1-p)\n",
    "            Z = tr.from_numpy(delta) * tr.max(tr.zeros(X.shape[0], W.shape[1]), tr.mm(X, W) + b)\n",
    "\n",
    "        else:\n",
    "            Z = tr.max(tr.zeros(X.shape[0], W.shape[1]), (1 - self.p) * tr.mm(X, W) + b)\n",
    "\n",
    "        return Z\n",
    "\n",
    "    def softmax(self, Z, W, b):\n",
    "        # algorithm 16, pg 46 from guide.pdf\n",
    "        Z = tr.mm(Z, W) + b\n",
    "        y_hat = tr.div(tr.exp(Z).T, tr.sum(tr.exp(Z), dim=1)).T\n",
    "\n",
    "        return y_hat\n",
    "\n",
    "    def forward(self, X):\n",
    "        # algorithm 14, pg 45 from guide.pdf\n",
    "        X = tr.tensor(X, dtype=tr.float)\n",
    "        Z = X\n",
    "        # apply ReLU to all layers but the last\n",
    "        for w, b in zip(self.weights[:len(self.weights) - 1],\n",
    "                        self.biases[:len(self.biases) - 1]):  # iterate through L-1 layers\n",
    "            Z = self.relu(Z, w, b)\n",
    "        # apply softmax to last layer\n",
    "        y_hat = self.softmax(Z, self.weights[len(self.weights) - 1], self.biases[len(self.biases) - 1])\n",
    "\n",
    "        return y_hat\n",
    "\n",
    "    def predict(self, X):\n",
    "        return self.forward(X).detach().numpy()\n",
    "\n",
    "    def loss(self, ypred, ytrue):\n",
    "        # compute cross entropy loss according to pg47 from guide.pdf\n",
    "        loss = (-1 / ytrue.shape[0]) * tr.sum(ytrue * tr.log(ypred))\n",
    "\n",
    "        return loss\n",
    "\n",
    "    def fit(self, X, y, nsteps=1000, bs=100, plot=False):\n",
    "        X, y = tr.tensor(X), tr.tensor(y)\n",
    "        optimizer = tr.optim.SGD(self.parameters, lr=self.lr, weight_decay=self.lam)\n",
    "\n",
    "        I = tr.randperm(X.shape[0])\n",
    "        n = int(np.ceil(.1 * X.shape[0]))\n",
    "        Xtrain, ytrain = X[I[:n]], y[I[:n]]\n",
    "        Xval, yval = X[I[n:]], y[I[n:]]\n",
    "\n",
    "        Ltrain, Lval, Aval = [], [], []\n",
    "        for i in range(nsteps):\n",
    "            optimizer.zero_grad()\n",
    "            I = tr.randperm(Xtrain.shape[0])[:bs]\n",
    "            self.train = True\n",
    "            output = self.loss(self.forward(Xtrain[I]), ytrain[I])\n",
    "            self.train = False\n",
    "            Ltrain += [output.item()]\n",
    "            output.backward()\n",
    "            optimizer.step()\n",
    "\n",
    "            outval = self.forward(Xval)\n",
    "            Lval += [self.loss(outval, yval).item()]\n",
    "            Aval += [np.array(outval.argmax(-1) == yval.argmax(-1)).mean()]\n",
    "\n",
    "        if plot:\n",
    "            plt.plot(range(nsteps), Ltrain, label='Training loss')\n",
    "            plt.plot(range(nsteps), Lval, label='Validation loss')\n",
    "            plt.plot(range(nsteps), Aval, label='Validation acc')\n",
    "            plt.legend()\n",
    "            plt.show()"
   ]
  },
  {
   "cell_type": "code",
   "execution_count": 11,
   "metadata": {},
   "outputs": [
    {
     "name": "stdout",
     "output_type": "stream",
     "text": [
      "tensor([-0.5478, -1.0110])\n",
      "tensor([0., 0.])\n"
     ]
    }
   ],
   "source": [
    "#from ps4_tests.py\n",
    "m = torch.nn.ReLU()\n",
    "inp = torch.randn(2)\n",
    "print(inp)\n",
    "output = m(inp)\n",
    "print(output)"
   ]
  },
  {
   "cell_type": "code",
   "execution_count": 287,
   "metadata": {},
   "outputs": [
    {
     "name": "stdout",
     "output_type": "stream",
     "text": [
      "tensor([[0.5000, 0.2000],\n",
      "        [0.0000, 0.0000]])\n"
     ]
    }
   ],
   "source": [
    "#from ps4_tests.py\n",
    "\n",
    "X = torch.tensor([[1, 1], [0, 0]], dtype=torch.float)\n",
    "y = torch.tensor([[0, 1], [1, 0]], dtype=torch.int)\n",
    "W = torch.tensor([[1, .2], [.5, 1]], dtype=torch.float)\n",
    "b = torch.tensor([-1, -1], dtype=torch.float)\n",
    "#m = neural_network(layers=[2,2,2], p=0, lam=0)\n",
    "\n",
    "#m.fit(X, y, nsteps=1, bs=1, plot=False)\n",
    "\n",
    "relu_out = torch.tensor([[.5,.2],[0, 0]])\n",
    "#self.assertTrue(np.allclose(m.relu(X, W, b), relu_out), msg='neural_network: Error. ReLU output not correct')\n",
    "print(relu_out)"
   ]
  },
  {
   "cell_type": "code",
   "execution_count": 288,
   "metadata": {},
   "outputs": [],
   "source": [
    "#testing relu\n",
    "def relu(p, X, W, b):\n",
    "    # YOUR CODE HERE!\n",
    "    #algorithm 15, pg 46 from guide.pdf\n",
    "    if train:\n",
    "        delta = bernoulli.rvs(1-p, size=W.shape[1]) #sample 'out' many samples from Bernoulli distribution B(1-p) \n",
    "        Z = torch.from_numpy(delta) * torch.max(torch.zeros(X.shape[0],W.shape[1]),torch.mm(X,W)+b)\n",
    "        #Z = delta.detach().numpy() * np.maximum(0,torch.mm(X,W)+b)\n",
    "        \n",
    "    else:\n",
    "        Z = torch.max(torch.zeros(X.shape[0],W.shape[1]),(1-p)*torch.mm(X,W)+b)\n",
    "            \n",
    "    return Z"
   ]
  },
  {
   "cell_type": "code",
   "execution_count": 289,
   "metadata": {},
   "outputs": [
    {
     "name": "stdout",
     "output_type": "stream",
     "text": [
      "tensor([[0.5000, 0.2000],\n",
      "        [0.0000, 0.0000]])\n"
     ]
    }
   ],
   "source": [
    "Z = relu(p, X, W, b)\n",
    "print(Z)"
   ]
  },
  {
   "cell_type": "code",
   "execution_count": 290,
   "metadata": {},
   "outputs": [
    {
     "name": "stdout",
     "output_type": "stream",
     "text": [
      "tensor([[0.5000, 0.0000],\n",
      "        [0.2000, 0.0000]])\n"
     ]
    }
   ],
   "source": [
    "print(Z.T)"
   ]
  },
  {
   "cell_type": "code",
   "execution_count": 291,
   "metadata": {},
   "outputs": [],
   "source": [
    "#testing softmax\n",
    "def softmax(Z, W, b):\n",
    "    # algorithm 16, pg 46 from guide.pdf\n",
    "    Z = torch.mm(Z,W)+b\n",
    "    y_hat = torch.div(torch.exp(Z).T,torch.sum(torch.exp(Z),dim=1)).T #can't specify division dim so double transpose to get desired behaviour\n",
    "    return y_hat"
   ]
  },
  {
   "cell_type": "code",
   "execution_count": 292,
   "metadata": {},
   "outputs": [],
   "source": [
    "y_hat = softmax(Z, W, b)"
   ]
  },
  {
   "cell_type": "code",
   "execution_count": 293,
   "metadata": {},
   "outputs": [
    {
     "data": {
      "text/plain": [
       "tensor([[0.5744, 0.4256],\n",
       "        [0.5000, 0.5000]])"
      ]
     },
     "execution_count": 293,
     "metadata": {},
     "output_type": "execute_result"
    }
   ],
   "source": [
    "y_hat"
   ]
  },
  {
   "cell_type": "code",
   "execution_count": 295,
   "metadata": {},
   "outputs": [],
   "source": [
    "layers = [2,100,2]\n",
    "scale = .1\n",
    "weights = torch.nn.ParameterList([torch.nn.Parameter(scale*torch.randn(m, n)) for m, n in zip(layers[:-1], layers[1:])])\n",
    "biases = torch.nn.ParameterList([torch.nn.Parameter(scale*torch.randn(n)) for n in layers[1:]])"
   ]
  },
  {
   "cell_type": "code",
   "execution_count": 296,
   "metadata": {},
   "outputs": [
    {
     "name": "stdout",
     "output_type": "stream",
     "text": [
      "ParameterList(\n",
      "    (0): Parameter containing: [torch.FloatTensor of size 2x100]\n",
      "    (1): Parameter containing: [torch.FloatTensor of size 100x2]\n",
      ")\n"
     ]
    }
   ],
   "source": [
    "print(weights[:2])"
   ]
  },
  {
   "cell_type": "code",
   "execution_count": 297,
   "metadata": {},
   "outputs": [],
   "source": [
    "#testing forward\n",
    "def forward(weights,biases, X):\n",
    "    # algorithm 14, pg 45 from guide.pdf\n",
    "    X = torch.tensor(X, dtype=torch.float)\n",
    "    Z = X\n",
    "    #apply ReLU to all layers but the last\n",
    "    for w, b in zip(weights[:len(weights)-1], biases[:len(biases)-1]): #iterate through L-1 layers\n",
    "        Z = relu(p, Z, w, b)\n",
    "    #apply softmax to last layer\n",
    "    y_hat = softmax(Z, weights[len(weights)-1], biases[len(biases)-1])\n",
    "    \n",
    "    return y_hat"
   ]
  },
  {
   "cell_type": "code",
   "execution_count": 299,
   "metadata": {},
   "outputs": [
    {
     "name": "stderr",
     "output_type": "stream",
     "text": [
      "C:\\Users\\Boris\\Anaconda3\\lib\\site-packages\\ipykernel_launcher.py:3: UserWarning: To copy construct from a tensor, it is recommended to use sourceTensor.clone().detach() or sourceTensor.clone().detach().requires_grad_(True), rather than torch.tensor(sourceTensor).\n",
      "  This is separate from the ipykernel package so we can avoid doing imports until\n"
     ]
    }
   ],
   "source": [
    "y_hat=forward(weights,biases,X)"
   ]
  },
  {
   "cell_type": "code",
   "execution_count": 304,
   "metadata": {},
   "outputs": [],
   "source": [
    "def loss(self, ypred, ytrue):\n",
    "    # compute cross entropy loss according to pg47 from guide.pdf\n",
    "    loss = (-1/ytrue.shape[0])*torch.sum(ytrue*torch.log(ypred))\n",
    "    \n",
    "    return loss"
   ]
  }
 ],
 "metadata": {
  "kernelspec": {
   "display_name": "Python 3",
   "language": "python",
   "name": "python3"
  },
  "language_info": {
   "codemirror_mode": {
    "name": "ipython",
    "version": 3
   },
   "file_extension": ".py",
   "mimetype": "text/x-python",
   "name": "python",
   "nbconvert_exporter": "python",
   "pygments_lexer": "ipython3",
   "version": "3.7.3"
  }
 },
 "nbformat": 4,
 "nbformat_minor": 2
}
