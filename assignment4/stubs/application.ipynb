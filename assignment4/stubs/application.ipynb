{
 "cells": [
  {
   "cell_type": "code",
   "execution_count": 1,
   "metadata": {},
   "outputs": [],
   "source": [
    "import os\n",
    "import ps4_implementation as imp \n",
    "import numpy as np\n",
    "import itertools as it\n",
    "import time\n",
    "import pylab as pl\n",
    "import random\n",
    "import matplotlib.pyplot as plt\n",
    "from scipy.stats import lognorm\n",
    "from tqdm import tqdm\n",
    "import sklearn.svm\n",
    "from copy import deepcopy"
   ]
  },
  {
   "cell_type": "code",
   "execution_count": 2,
   "metadata": {},
   "outputs": [],
   "source": [
    " def mean_absolute_error(y_true, y_pred):\n",
    "    ''' \n",
    "    your code here \n",
    "    '''\n",
    "    loss = np.mean(abs(y_pred-y_true))\n",
    "    #loss = np.sum(np.sum((y_pred-y_true)**2)**0.5, axis = 1) / len(y_pred)\n",
    "    return loss"
   ]
  },
  {
   "cell_type": "code",
   "execution_count": 3,
   "metadata": {},
   "outputs": [],
   "source": [
    "def zero_one_loss(y_true, y_pred):\n",
    "    '''\n",
    "    Applies a the zero one loss function to predictions.\n",
    "\n",
    "    Input:\n",
    "    y_true = the true data labels (nx1)\n",
    "    y_pred = the predicted data labels (nx1)\n",
    "\n",
    "    Output:\n",
    "    loss = the zero one loss\n",
    "    '''\n",
    "    loss = np.count_nonzero(y_true != np.sign(y_pred))\n",
    "    return loss\n"
   ]
  },
  {
   "cell_type": "code",
   "execution_count": 28,
   "metadata": {},
   "outputs": [],
   "source": [
    "def cv(X, y, method, params, loss_function=mean_absolute_error, nfolds=10, nrepetitions=5):\n",
    "    ''' \n",
    "    your header here!\n",
    "    '''\n",
    "    # TODO progress bar, run time estimation\n",
    "    length, width = np.shape(X)\n",
    "    # model = method\n",
    "    method.cvloss = 1000000\n",
    "    method.params = None\n",
    "    params_combinations = list(it.product(params['kernel'], params['kernelparameter'], params['regularization']))\n",
    "    for parameter in tqdm(params_combinations):\n",
    "        #print(parameter[1])\n",
    "        model = method(parameter[0], parameter[1], parameter[2])\n",
    "        e = 0\n",
    "        for i in range(nrepetitions):\n",
    "            # Random Partitioning\n",
    "            X_pos = np.linspace(0,length-1, length)\n",
    "            random.shuffle(X_pos)\n",
    "            part = np.array_split(X_pos, nfolds)\n",
    "            for j in range(nfolds):\n",
    "                # Assign every part not j as training set\n",
    "                # Xtr indices\n",
    "                train = np.concatenate(np.array(part)[tuple([np.array(range(nfolds)) != j])].astype('int')) \n",
    "                X_j = X[train,:]\n",
    "                y_j = y[train]\n",
    "                model.fit(X_j, y_j)\n",
    "                y_pred = np.sign(model.predict(X[part[j].astype('int')]))\n",
    "                e = e + loss_function(y[part[j].astype('int')], y_pred)\n",
    "        e = e / (nfolds * nrepetitions)\n",
    "        #print('Loss:' + str(e))\n",
    "        if e < method.cvloss:\n",
    "            print(e)\n",
    "            method.cvloss = e\n",
    "            #print('Loss in if:' + str(model.cvloss))\n",
    "            method.params = parameter\n",
    "    #print(method.params)\n",
    "    model = method(method.params[0],method.params[1],method.params[2])\n",
    "    model.fit(X,y)\n",
    "    method = model\n",
    "    return method"
   ]
  },
  {
   "cell_type": "code",
   "execution_count": 79,
   "metadata": {},
   "outputs": [],
   "source": [
    "class ASSIGNMENT4():\n",
    "    def __init__(self):\n",
    "        DATA_PATH = os.path.join(os.path.dirname(os.getcwd()),\"data/easy_2d.npz\")\n",
    "        assert os.path.exists(DATA_PATH), \"The path does not excist.\"\n",
    "        data = np.load(DATA_PATH)\n",
    "        print(data.files)\n",
    "        self.X_tr = data['X_tr'].T\n",
    "        self.Y_tr = data['Y_tr'].T\n",
    "        self.X_te = data['X_te'].T\n",
    "        self.Y_te = data['Y_te'].T\n",
    "        plt.scatter(self.X_tr[self.Y_tr == -1,0], self.X_tr[self.Y_tr == -1,1], marker = 'x', color = 'r', label = 'Negative -1')\n",
    "        plt.scatter(self.X_tr[self.Y_tr == 1,0], self.X_tr[self.Y_tr == 1,1], marker = 'o', color = 'b',label = 'Positive +1')\n",
    "    def find_opti_parameters(self):\n",
    "        params = { 'kernel': ['gaussian'], 'kernelparameter': np.logspace(-5,3, 50), 'regularization': np.logspace(-2,3, 10) }\n",
    "        self.cvsvm = cv(self.X_tr, self.Y_tr, imp.svm_qp, params, loss_function=zero_one_loss, nfolds=5)\n",
    "        self.params = self.cvsvm.params\n",
    "        print(\"paramters found: {}\".format(self.cvsvm.params))\n",
    "        print(\"accuracy: {}\".format(np.sum(np.sign(self.cvsvm.predict(self.X_te)) == self.Y_te)/ len(self.X_te)))\n",
    "        imp.plot_boundary_2d(self.X_tr, self.Y_tr, self.cvsvm)\n",
    "    def find_over_parameters(self):\n",
    "        params = { 'kernel': ['gaussian'], 'kernelparameter': np.logspace(-5,3, 50), 'regularization': [10**14]}#np.logspace(13,16, 4) }\n",
    "        self.cvsvm = cv(self.X_tr, self.Y_tr, imp.svm_qp, params, loss_function=zero_one_loss, nfolds=5)\n",
    "        print(\"paramters found: {}\".format(self.cvsvm.params))\n",
    "        imp.plot_boundary_2d(self.X_tr, self.Y_tr, self.cvsvm)\n",
    "    def find_under_parameters(self):\n",
    "        params = { 'kernel': ['gaussian'], 'kernelparameter': np.logspace(-7,-4, 50), 'regularization': [1]}#np.logspace(1,10, 10) }\n",
    "        self.cvsvm = cv(self.X_tr, self.Y_tr, imp.svm_qp, params, loss_function=zero_one_loss, nfolds=5)\n",
    "        print(\"paramters found: {}\".format(self.cvsvm.params))\n",
    "        imp.plot_boundary_2d(self.X_tr, self.Y_tr, self.cvsvm)\n",
    "    def ROC(self):\n",
    "        print(\"find optimal parameters\")\n",
    "        self.cvsvm = self.find_opti_parameters()\n",
    "        print(\"now create ROC curve\")\n",
    "        tpr = [np.zeros(1)]\n",
    "        fpr = [np.zeros(1)]\n",
    "        threshold = 0\n",
    "        pos_label=-1\n",
    "        neg = np.sum(np.array(self.Y_te.flatten() == -1))\n",
    "        pos = len(self.Y_te) - neg\n",
    "        #y_true=(y_true==pos_label) #boolean vec of true labels\n",
    "        model = imp.svm_qp(self.params[0],self.params[1],self.params[2])\n",
    "        model.fit(self.X_tr,self.Y_tr)\n",
    "        y_pred = model.predict(self.X_te)\n",
    "        biases = y_pred\n",
    "        # Use test predictions as bias \n",
    "        #biases = np.linspace(-1,4,200)\n",
    "        for bias in biases:\n",
    "            prediction = y_pred.T + bias > threshold\n",
    "            tpr.append(prediction[self.Y_te == 1].sum(axis=0) / pos)\n",
    "            fpr.append(prediction[self.Y_te == -1, :].sum(axis=0) / neg)\n",
    "        fpr = np.concatenate(fpr)\n",
    "        tpr = np.concatenate(tpr)\n",
    "        idx = np.argsort(fpr) # sort by fpr in increasing order\n",
    "        fpr = fpr[idx]\n",
    "        tpr = tpr[idx]\n",
    "        plt.plot(fpr,tpr,label='SVM')\n",
    "        plt.plot(np.arange(0,1.1,0.1),np.arange(0,1.1,0.1),label='Random guesses')\n",
    "        plt.ylabel('True Positive Rate (TPR)')\n",
    "        plt.xlabel('False Positive Rate (FPR)')\n",
    "        plt.title('ROC Curve')\n",
    "        plt.legend()\n",
    "    "
   ]
  },
  {
   "cell_type": "code",
   "execution_count": 106,
   "metadata": {},
   "outputs": [],
   "source": [
    "class ASSIGNMENT5():\n",
    "    def __init__(self):\n",
    "        # Load data for #5\n",
    "        DATA_PATH = os.path.join(os.path.dirname(os.getcwd()),\"data/iris.npz\")\n",
    "        assert os.path.exists(DATA_PATH), \"The path does not excist.\"\n",
    "        data = np.load(DATA_PATH)\n",
    "        print(data.files)\n",
    "        self.X = data['X'].T\n",
    "        self.Y = data['Y'].T\n",
    "        print(\"Shape of X: {}\".format(self.X.shape))\n",
    "        print(\"Shape of Y: {}\".format(self.Y.shape))\n",
    "        # train test split\n",
    "        test_size = 1/3\n",
    "        idx = np.linspace(0,len(self.X)-1,len(self.X)).astype(int)\n",
    "        random.shuffle(idx)\n",
    "        self.X_tr = self.X[idx[:int((1-test_size)*len(self.X))],:]\n",
    "        self.X_te = self.X[idx[int((1-test_size)*len(self.X)):],:]\n",
    "        self.y_tr = self.Y[idx[:int((1-test_size)*len(self.X))]]\n",
    "        self.y_te = self.Y[idx[int((1-test_size)*len(self.X)):]]\n",
    "    def visualize_data(self):\n",
    "        fig, axs = plt.subplots(2, 2)\n",
    "        axs[0, 0].scatter(self.X[self.Y == 1,0], self.X[self.Y == 1,1], marker = 'o', color = 'r', label = 'setosa')\n",
    "        axs[0, 0].scatter(self.X[self.Y == 2,0], self.X[self.Y == 2,1], marker = 'o', color = 'b',label = 'versicolor')\n",
    "        axs[0, 0].scatter(self.X[self.Y == 3,0], self.X[self.Y == 3,1], marker = 'o', color = 'g',label = 'virginica')\n",
    "        axs[0, 1].scatter(self.X[self.Y == 1,2], self.X[self.Y == 1,1], marker = 'o', color = 'r', label = 'setosa')\n",
    "        axs[0, 1].scatter(self.X[self.Y == 2,2], self.X[self.Y == 2,1], marker = 'o', color = 'b',label = 'versicolor')\n",
    "        axs[0, 1].scatter(self.X[self.Y == 3,2], self.X[self.Y == 3,1], marker = 'o', color = 'g',label = 'virginica')\n",
    "        axs[1, 0].scatter(self.X[self.Y == 1,0], self.X[self.Y == 1,3], marker = 'o', color = 'r', label = 'setosa')\n",
    "        axs[1, 0].scatter(self.X[self.Y == 2,0], self.X[self.Y == 2,3], marker = 'o', color = 'b',label = 'versicolor')\n",
    "        axs[1, 0].scatter(self.X[self.Y == 3,0], self.X[self.Y == 3,3], marker = 'o', color = 'g',label = 'virginica')\n",
    "        axs[1, 1].scatter(self.X[self.Y == 1,2], self.X[self.Y == 1,3], marker = 'o', color = 'r', label = 'setosa')\n",
    "        axs[1, 1].scatter(self.X[self.Y == 2,2], self.X[self.Y == 2,3], marker = 'o', color = 'b',label = 'versicolor')\n",
    "        axs[1, 1].scatter(self.X[self.Y == 3,2], self.X[self.Y == 3,3], marker = 'o', color = 'g',label = 'virginica')\n",
    "\n",
    "        axs[0, 0].set(ylabel = 'sepal width')\n",
    "        axs[1, 0].set(xlabel = 'sepal length')\n",
    "        axs[1, 0].set(ylabel = 'petal width')\n",
    "        axs[1, 1].set(xlabel = 'petal length')\n",
    "    def linear_hard_svm(self):\n",
    "        accuracy = []\n",
    "        for target in np.unique(self.Y):\n",
    "            # relabel class data into 1 and -1\n",
    "            # target is 1, rest -1\n",
    "            y_tr_r = deepcopy(self.y_tr)\n",
    "            y_tr_r[np.where(y_tr_r != target)] = -1\n",
    "            y_tr_r[y_tr_r == target] = 1\n",
    "            y_te_r = deepcopy(self.y_te)\n",
    "            y_te_r[np.where(y_te_r != target)] = -1   \n",
    "            y_te_r[y_te_r == target] = 1\n",
    "    \n",
    "                # SVM with hard-margin\n",
    "            params = { 'kernel': ['linear'], 'kernelparameter': [1], 'regularization': [None]}#np.logspace(-2,4, 200)*len(y_tr_r) }\n",
    "            cvsvm = cv(self.X_tr, y_tr_r, imp.svm_qp, params, loss_function=zero_one_loss, nfolds=5)\n",
    "            print('Target class: {}'.format(target))\n",
    "            print('Loss: {}'.format(cvsvm.cvloss))\n",
    "            print('Parameters: {}'.format(cvsvm.params))\n",
    "            accuracy.append(np.sum(np.sign(cvsvm.predict(self.X_te)) == y_te_r) / len(y_te_r))\n",
    "        print('accuracy: {}'.format(accuracy))\n",
    "    def gaussian_hard_svm(self):\n",
    "    # gaussian kernel\n",
    "    # hard margin\n",
    "        accuracy = []\n",
    "        for target in np.unique(self.Y):\n",
    "            # relabel class data into 1 and -1\n",
    "            # target is 1, rest -1\n",
    "            y_tr_r = deepcopy(self.y_tr)\n",
    "            y_tr_r[np.where(y_tr_r != target)] = -1\n",
    "            y_tr_r[y_tr_r == target] = 1\n",
    "            y_te_r = deepcopy(self.y_te)\n",
    "            y_te_r[np.where(y_te_r != target)] = -1\n",
    "            y_te_r[y_te_r == target] = 1\n",
    "    \n",
    "            # SVM with hard-margin\n",
    "            params = { 'kernel': ['gaussian'], 'kernelparameter': np.logspace(-2,5,100), 'regularization': [None] }\n",
    "            cvsvm = cv(self.X_tr, y_tr_r, imp.svm_qp, params, loss_function=zero_one_loss, nfolds=5)\n",
    "            print('Target class: {}'.format(target))\n",
    "            print('Loss: {}'.format(cvsvm.cvloss))\n",
    "            print('Parameters: {}'.format(cvsvm.params))\n",
    "            accuracy.append(np.sum(np.sign(cvsvm.predict(self.X_te)) == y_te_r) / len(y_te_r))\n",
    "        print('accuracy: {}'.format(accuracy))\n",
    "    def polynomial_hard_svm(self):\n",
    "        # polynomial kernel\n",
    "        # hard margin\n",
    "        accuracy = []\n",
    "        for target in np.unique(self.Y):\n",
    "            # relabel class data into 1 and -1\n",
    "            # target is 1, rest -1\n",
    "            y_tr_r = deepcopy(self.y_tr)\n",
    "            y_tr_r[np.where(y_tr_r != target)] = -1\n",
    "            y_tr_r[y_tr_r == target] = 1\n",
    "            y_te_r = deepcopy(self.y_te)\n",
    "            y_te_r[np.where(y_te_r != target)] = -1\n",
    "            y_te_r[y_te_r == target] = 1\n",
    "    \n",
    "            # SVM with hard-margin\n",
    "            params = { 'kernel': ['polynomial'], 'kernelparameter': np.logspace(-2,1,25), 'regularization': [None] }\n",
    "            cvsvm = cv(self.X_tr, y_tr_r, imp.svm_qp, params, loss_function=zero_one_loss, nfolds=5)\n",
    "            print('Target class: {}'.format(target))\n",
    "            print('Loss: {}'.format(cvsvm.cvloss))\n",
    "            print('Parameters: {}'.format(cvsvm.params))\n",
    "            accuracy.append(np.sum(np.sign(cvsvm.predict(self.X_te)) == y_te_r) / len(y_te_r))\n",
    "        print('accuracy: {}'.format(accuracy))"
   ]
  },
  {
   "cell_type": "code",
   "execution_count": 107,
   "metadata": {},
   "outputs": [
    {
     "name": "stdout",
     "output_type": "stream",
     "text": [
      "['Y', 'X']\n",
      "Shape of X: (135, 4)\n",
      "Shape of Y: (135,)\n"
     ]
    }
   ],
   "source": [
    "test = ASSIGNMENT5()"
   ]
  },
  {
   "cell_type": "code",
   "execution_count": 100,
   "metadata": {},
   "outputs": [
    {
     "data": {
      "image/png": "[encoded data removed]",
      "text/plain": [
       "<Figure size 432x288 with 4 Axes>"
      ]
     },
     "metadata": {
      "needs_background": "light"
     },
     "output_type": "display_data"
    }
   ],
   "source": [
    "test.visualize_data()"
   ]
  },
  {
   "cell_type": "code",
   "execution_count": 108,
   "metadata": {},
   "outputs": [
    {
     "name": "stderr",
     "output_type": "stream",
     "text": [
      " 12%|█▏        | 3/25 [00:00<00:03,  6.55it/s]"
     ]
    },
    {
     "name": "stdout",
     "output_type": "stream",
     "text": [
      "0.0\n"
     ]
    },
    {
     "name": "stderr",
     "output_type": "stream",
     "text": [
      " 80%|████████  | 20/25 [00:01<00:00, 11.03it/s]/Users/leo/anaconda3/envs/Python37/lib/python3.7/site-packages/numpy/core/fromnumeric.py:3335: RuntimeWarning: Mean of empty slice.\n",
      "  out=out, **kwargs)\n",
      "/Users/leo/anaconda3/envs/Python37/lib/python3.7/site-packages/numpy/core/_methods.py:161: RuntimeWarning: invalid value encountered in double_scalars\n",
      "  ret = ret.dtype.type(ret / rcount)\n",
      "100%|██████████| 25/25 [00:02<00:00,  9.98it/s]\n",
      "  4%|▍         | 1/25 [00:00<00:02,  9.97it/s]"
     ]
    },
    {
     "name": "stdout",
     "output_type": "stream",
     "text": [
      "Target class: 1.0\n",
      "Loss: 0.0\n",
      "Parameters: ('polynomial', 0.01, None)\n",
      "6.0\n"
     ]
    },
    {
     "name": "stderr",
     "output_type": "stream",
     "text": [
      " 76%|███████▌  | 19/25 [00:01<00:00, 13.30it/s]"
     ]
    },
    {
     "name": "stdout",
     "output_type": "stream",
     "text": [
      "0.92\n",
      "0.72\n"
     ]
    },
    {
     "name": "stderr",
     "output_type": "stream",
     "text": [
      "100%|██████████| 25/25 [00:02<00:00, 11.88it/s]\n",
      "  4%|▍         | 1/25 [00:00<00:04,  5.72it/s]"
     ]
    },
    {
     "name": "stdout",
     "output_type": "stream",
     "text": [
      "Target class: 2.0\n",
      "Loss: 0.72\n",
      "Parameters: ('polynomial', 2.371373705661655, None)\n",
      "0.88\n"
     ]
    },
    {
     "name": "stderr",
     "output_type": "stream",
     "text": [
      " 16%|█▌        | 4/25 [00:00<00:03,  6.19it/s]"
     ]
    },
    {
     "name": "stdout",
     "output_type": "stream",
     "text": [
      "0.64\n",
      "0.6\n"
     ]
    },
    {
     "name": "stderr",
     "output_type": "stream",
     "text": [
      " 68%|██████▊   | 17/25 [00:02<00:00,  8.58it/s]"
     ]
    },
    {
     "name": "stdout",
     "output_type": "stream",
     "text": [
      "0.52\n"
     ]
    },
    {
     "name": "stderr",
     "output_type": "stream",
     "text": [
      "100%|██████████| 25/25 [00:03<00:00,  6.52it/s]"
     ]
    },
    {
     "name": "stdout",
     "output_type": "stream",
     "text": [
      "Target class: 3.0\n",
      "Loss: 0.52\n",
      "Parameters: ('polynomial', 0.7498942093324559, None)\n",
      "accuracy: [1.0, 0.9555555555555556, 0.9555555555555556]\n"
     ]
    },
    {
     "name": "stderr",
     "output_type": "stream",
     "text": [
      "\n"
     ]
    }
   ],
   "source": [
    "test.polynomial_hard_svm()"
   ]
  },
  {
   "cell_type": "code",
   "execution_count": 51,
   "metadata": {},
   "outputs": [
    {
     "name": "stderr",
     "output_type": "stream",
     "text": [
      " 40%|████      | 2/5 [00:00<00:00,  6.37it/s]"
     ]
    },
    {
     "name": "stdout",
     "output_type": "stream",
     "text": [
      "11.6\n"
     ]
    },
    {
     "name": "stderr",
     "output_type": "stream",
     "text": [
      " 80%|████████  | 4/5 [00:00<00:00,  6.83it/s]"
     ]
    },
    {
     "name": "stdout",
     "output_type": "stream",
     "text": [
      "11.28\n"
     ]
    },
    {
     "name": "stderr",
     "output_type": "stream",
     "text": [
      "100%|██████████| 5/5 [00:00<00:00,  7.24it/s]\n"
     ]
    },
    {
     "name": "stdout",
     "output_type": "stream",
     "text": [
      "paramters found: ('gaussian', 3.162277660168379e-06, 1)\n"
     ]
    },
    {
     "data": {
      "image/png": "[encoded data removed]",
      "text/plain": [
       "<Figure size 432x288 with 1 Axes>"
      ]
     },
     "metadata": {
      "needs_background": "light"
     },
     "output_type": "display_data"
    }
   ],
   "source": [
    "test.find_under_parameters()"
   ]
  },
  {
   "cell_type": "code",
   "execution_count": 81,
   "metadata": {},
   "outputs": [
    {
     "name": "stderr",
     "output_type": "stream",
     "text": [
      "  0%|          | 0/50 [00:00<?, ?it/s]/Users/leo/anaconda3/envs/Python37/lib/python3.7/site-packages/numpy/core/fromnumeric.py:3335: RuntimeWarning: Mean of empty slice.\n",
      "  out=out, **kwargs)\n",
      "/Users/leo/anaconda3/envs/Python37/lib/python3.7/site-packages/numpy/core/_methods.py:161: RuntimeWarning: invalid value encountered in double_scalars\n",
      "  ret = ret.dtype.type(ret / rcount)\n",
      "  2%|▏         | 1/50 [00:00<00:08,  5.94it/s]"
     ]
    },
    {
     "name": "stdout",
     "output_type": "stream",
     "text": [
      "find optimal parameters\n",
      "13.76\n"
     ]
    },
    {
     "name": "stderr",
     "output_type": "stream",
     "text": [
      "  6%|▌         | 3/50 [00:00<00:07,  6.53it/s]"
     ]
    },
    {
     "name": "stdout",
     "output_type": "stream",
     "text": [
      "11.68\n"
     ]
    },
    {
     "name": "stderr",
     "output_type": "stream",
     "text": [
      " 14%|█▍        | 7/50 [00:00<00:05,  8.09it/s]"
     ]
    },
    {
     "name": "stdout",
     "output_type": "stream",
     "text": [
      "11.44\n"
     ]
    },
    {
     "name": "stderr",
     "output_type": "stream",
     "text": [
      " 40%|████      | 20/50 [00:02<00:02, 10.24it/s]"
     ]
    },
    {
     "name": "stdout",
     "output_type": "stream",
     "text": [
      "11.36\n",
      "11.28\n"
     ]
    },
    {
     "name": "stderr",
     "output_type": "stream",
     "text": [
      " 46%|████▌     | 23/50 [00:02<00:03,  8.39it/s]"
     ]
    },
    {
     "name": "stdout",
     "output_type": "stream",
     "text": [
      "10.28\n"
     ]
    },
    {
     "name": "stderr",
     "output_type": "stream",
     "text": [
      " 54%|█████▍    | 27/50 [00:03<00:03,  7.50it/s]"
     ]
    },
    {
     "name": "stdout",
     "output_type": "stream",
     "text": [
      "7.28\n"
     ]
    },
    {
     "name": "stderr",
     "output_type": "stream",
     "text": [
      " 58%|█████▊    | 29/50 [00:03<00:02,  7.04it/s]"
     ]
    },
    {
     "name": "stdout",
     "output_type": "stream",
     "text": [
      "4.6\n"
     ]
    },
    {
     "name": "stderr",
     "output_type": "stream",
     "text": [
      " 82%|████████▏ | 41/50 [00:05<00:01,  7.75it/s]"
     ]
    },
    {
     "name": "stdout",
     "output_type": "stream",
     "text": [
      "4.28\n"
     ]
    },
    {
     "name": "stderr",
     "output_type": "stream",
     "text": [
      "100%|██████████| 50/50 [00:06<00:00,  7.85it/s]\n"
     ]
    },
    {
     "name": "stdout",
     "output_type": "stream",
     "text": [
      "paramters found: ('gaussian', 10.0, 1000.0)\n",
      "accuracy: 0.85\n"
     ]
    },
    {
     "data": {
      "image/png": "[encoded data removed]",
      "text/plain": [
       "<Figure size 432x288 with 1 Axes>"
      ]
     },
     "metadata": {
      "needs_background": "light"
     },
     "output_type": "display_data"
    },
    {
     "name": "stdout",
     "output_type": "stream",
     "text": [
      "now create ROC curve\n"
     ]
    },
    {
     "data": {
      "image/png": "[encoded data removed]",
      "text/plain": [
       "<Figure size 432x288 with 1 Axes>"
      ]
     },
     "metadata": {
      "needs_background": "light"
     },
     "output_type": "display_data"
    }
   ],
   "source": [
    "test.ROC()"
   ]
  },
  {
   "cell_type": "code",
   "execution_count": 17,
   "metadata": {},
   "outputs": [
    {
     "data": {
      "text/plain": [
       "50"
      ]
     },
     "execution_count": 17,
     "metadata": {},
     "output_type": "execute_result"
    }
   ],
   "source": [
    "np.sum(Y_tr == 1)"
   ]
  },
  {
   "cell_type": "code",
   "execution_count": 39,
   "metadata": {},
   "outputs": [],
   "source": [
    "X_tr = data['X_tr'].T\n",
    "Y_tr = data['Y_tr'].T\n",
    "X_te = data['X_te'].T\n",
    "Y_te = data['Y_te'].T"
   ]
  },
  {
   "cell_type": "code",
   "execution_count": 40,
   "metadata": {},
   "outputs": [
    {
     "data": {
      "text/plain": [
       "<matplotlib.collections.PathCollection at 0x1a27de7ed0>"
      ]
     },
     "execution_count": 40,
     "metadata": {},
     "output_type": "execute_result"
    },
    {
     "data": {
      "image/png": "[encoded data removed]",
      "text/plain": [
       "<Figure size 432x288 with 1 Axes>"
      ]
     },
     "metadata": {
      "needs_background": "light"
     },
     "output_type": "display_data"
    }
   ],
   "source": [
    "# Visualize data\n",
    "plt.scatter(X_tr[Y_tr == -1,0], X_tr[Y_tr == -1,1], marker = 'x', color = 'r', label = 'Negative -1')\n",
    "plt.scatter(X_tr[Y_tr == 1,0], X_tr[Y_tr == 1,1], marker = 'o', color = 'b',label = 'Positive +1')\n",
    "#plt.scatter(X_te[Y_te == -1,0], X_te[Y_te == -1,1], marker = 'x', color = 'g', label = 'Negative -1')\n",
    "#plt.scatter(X_te[Y_te == 1,0], X_te[Y_te == 1,1], marker = 'o', color = 'g',label = 'Positive +1')"
   ]
  },
  {
   "cell_type": "code",
   "execution_count": 47,
   "metadata": {},
   "outputs": [
    {
     "name": "stderr",
     "output_type": "stream",
     "text": [
      "  0%|          | 2/500 [00:00<01:13,  6.74it/s]"
     ]
    },
    {
     "name": "stdout",
     "output_type": "stream",
     "text": [
      "12.48\n",
      "11.44\n"
     ]
    },
    {
     "name": "stderr",
     "output_type": "stream",
     "text": [
      "  2%|▏         | 11/500 [00:01<00:58,  8.43it/s]"
     ]
    },
    {
     "name": "stdout",
     "output_type": "stream",
     "text": [
      "11.12\n"
     ]
    },
    {
     "name": "stderr",
     "output_type": "stream",
     "text": [
      "  4%|▍         | 21/500 [00:02<00:48,  9.92it/s]"
     ]
    },
    {
     "name": "stdout",
     "output_type": "stream",
     "text": [
      "11.04\n"
     ]
    },
    {
     "name": "stderr",
     "output_type": "stream",
     "text": [
      " 38%|███▊      | 188/500 [00:19<00:27, 11.27it/s]"
     ]
    },
    {
     "name": "stdout",
     "output_type": "stream",
     "text": [
      "10.96\n"
     ]
    },
    {
     "name": "stderr",
     "output_type": "stream",
     "text": [
      " 42%|████▏     | 209/500 [00:21<00:29,  9.96it/s]"
     ]
    },
    {
     "name": "stdout",
     "output_type": "stream",
     "text": [
      "10.84\n"
     ]
    },
    {
     "name": "stderr",
     "output_type": "stream",
     "text": [
      " 44%|████▍     | 219/500 [00:22<00:34,  8.23it/s]"
     ]
    },
    {
     "name": "stdout",
     "output_type": "stream",
     "text": [
      "9.96\n"
     ]
    },
    {
     "name": "stderr",
     "output_type": "stream",
     "text": [
      " 46%|████▌     | 230/500 [00:24<00:36,  7.48it/s]"
     ]
    },
    {
     "name": "stdout",
     "output_type": "stream",
     "text": [
      "8.76\n"
     ]
    },
    {
     "name": "stderr",
     "output_type": "stream",
     "text": [
      " 48%|████▊     | 239/500 [00:25<00:33,  7.77it/s]"
     ]
    },
    {
     "name": "stdout",
     "output_type": "stream",
     "text": [
      "7.4\n",
      "7.32\n"
     ]
    },
    {
     "name": "stderr",
     "output_type": "stream",
     "text": [
      " 48%|████▊     | 241/500 [00:25<00:34,  7.46it/s]"
     ]
    },
    {
     "name": "stdout",
     "output_type": "stream",
     "text": [
      "6.8\n"
     ]
    },
    {
     "name": "stderr",
     "output_type": "stream",
     "text": [
      " 50%|████▉     | 249/500 [00:27<00:45,  5.47it/s]"
     ]
    },
    {
     "name": "stdout",
     "output_type": "stream",
     "text": [
      "5.2\n",
      "5.12\n"
     ]
    },
    {
     "name": "stderr",
     "output_type": "stream",
     "text": [
      " 52%|█████▏    | 259/500 [00:28<00:30,  7.93it/s]"
     ]
    },
    {
     "name": "stdout",
     "output_type": "stream",
     "text": [
      "3.92\n"
     ]
    },
    {
     "name": "stderr",
     "output_type": "stream",
     "text": [
      " 53%|█████▎    | 267/500 [00:29<00:29,  7.86it/s]"
     ]
    },
    {
     "name": "stdout",
     "output_type": "stream",
     "text": [
      "3.32\n"
     ]
    },
    {
     "name": "stderr",
     "output_type": "stream",
     "text": [
      " 54%|█████▍    | 269/500 [00:30<00:39,  5.88it/s]"
     ]
    },
    {
     "name": "stdout",
     "output_type": "stream",
     "text": [
      "3.28\n"
     ]
    },
    {
     "name": "stderr",
     "output_type": "stream",
     "text": [
      " 55%|█████▌    | 277/500 [00:32<00:38,  5.72it/s]"
     ]
    },
    {
     "name": "stdout",
     "output_type": "stream",
     "text": [
      "2.84\n"
     ]
    },
    {
     "name": "stderr",
     "output_type": "stream",
     "text": [
      " 56%|█████▌    | 279/500 [00:32<00:32,  6.82it/s]"
     ]
    },
    {
     "name": "stdout",
     "output_type": "stream",
     "text": [
      "2.52\n"
     ]
    },
    {
     "name": "stderr",
     "output_type": "stream",
     "text": [
      " 58%|█████▊    | 289/500 [00:33<00:26,  8.06it/s]"
     ]
    },
    {
     "name": "stdout",
     "output_type": "stream",
     "text": [
      "2.28\n"
     ]
    },
    {
     "name": "stderr",
     "output_type": "stream",
     "text": [
      "100%|██████████| 500/500 [01:01<00:00,  8.09it/s]\n"
     ]
    }
   ],
   "source": [
    "# Fivefold Cross validation\n",
    "# identify suitable gaussian kernels \n",
    "#D = imp.sqdistmat(X_tr)\n",
    "#quantiles = np.quantile(D,[0.1,0.5, 0.9])\n",
    "params = { 'kernel': ['gaussian'], 'kernelparameter': np.logspace(-5,3, 50), 'regularization': np.logspace(-2,3, 10) }\n",
    "cvsvm = cv(X_tr, Y_tr, imp.svm_qp, params, loss_function=zero_one_loss, nfolds=5)\n"
   ]
  },
  {
   "cell_type": "code",
   "execution_count": 45,
   "metadata": {},
   "outputs": [
    {
     "name": "stdout",
     "output_type": "stream",
     "text": [
      "accuracy: 0.92\n"
     ]
    },
    {
     "data": {
      "image/png": "[encoded data removed]",
      "text/plain": [
       "<Figure size 432x288 with 1 Axes>"
      ]
     },
     "metadata": {
      "needs_background": "light"
     },
     "output_type": "display_data"
    }
   ],
   "source": [
    "cvsvm.__params\n",
    "print(\"accuracy: {}\".format(np.sum(np.sign(cvsvm.predict(X_te)) == Y_te)/ len(X_te)))\n",
    "imp.plot_boundary_2d(X_tr, Y_tr, cvsvm)"
   ]
  },
  {
   "cell_type": "code",
   "execution_count": 21,
   "metadata": {},
   "outputs": [
    {
     "data": {
      "text/plain": [
       "92"
      ]
     },
     "execution_count": 21,
     "metadata": {},
     "output_type": "execute_result"
    }
   ],
   "source": []
  },
  {
   "cell_type": "code",
   "execution_count": 22,
   "metadata": {},
   "outputs": [
    {
     "data": {
      "image/png": "[encoded data removed]",
      "text/plain": [
       "<Figure size 432x288 with 1 Axes>"
      ]
     },
     "metadata": {
      "needs_background": "light"
     },
     "output_type": "display_data"
    }
   ],
   "source": []
  },
  {
   "cell_type": "code",
   "execution_count": 46,
   "metadata": {},
   "outputs": [
    {
     "data": {
      "text/plain": [
       "(16,)"
      ]
     },
     "execution_count": 46,
     "metadata": {},
     "output_type": "execute_result"
    }
   ],
   "source": [
    "cvsvm.alpha_sv.shape"
   ]
  },
  {
   "cell_type": "code",
   "execution_count": 19,
   "metadata": {},
   "outputs": [
    {
     "name": "stderr",
     "output_type": "stream",
     "text": [
      "  1%|          | 3/500 [00:00<00:21, 23.34it/s]"
     ]
    },
    {
     "name": "stdout",
     "output_type": "stream",
     "text": [
      "12.32\n"
     ]
    },
    {
     "name": "stderr",
     "output_type": "stream",
     "text": [
      "  4%|▍         | 19/500 [00:00<00:15, 30.34it/s]"
     ]
    },
    {
     "name": "stdout",
     "output_type": "stream",
     "text": [
      "12.16\n"
     ]
    },
    {
     "name": "stderr",
     "output_type": "stream",
     "text": [
      " 34%|███▎      | 168/500 [00:04<00:08, 41.46it/s]"
     ]
    },
    {
     "name": "stdout",
     "output_type": "stream",
     "text": [
      "11.52\n"
     ]
    },
    {
     "name": "stderr",
     "output_type": "stream",
     "text": [
      " 36%|███▌      | 181/500 [00:04<00:08, 36.63it/s]"
     ]
    },
    {
     "name": "stdout",
     "output_type": "stream",
     "text": [
      "11.44\n",
      "11.32\n",
      "11.12\n"
     ]
    },
    {
     "name": "stderr",
     "output_type": "stream",
     "text": [
      " 40%|███▉      | 199/500 [00:05<00:07, 38.35it/s]"
     ]
    },
    {
     "name": "stdout",
     "output_type": "stream",
     "text": [
      "11.08\n"
     ]
    },
    {
     "name": "stderr",
     "output_type": "stream",
     "text": [
      " 43%|████▎     | 216/500 [00:05<00:07, 38.00it/s]"
     ]
    },
    {
     "name": "stdout",
     "output_type": "stream",
     "text": [
      "10.88\n"
     ]
    },
    {
     "name": "stderr",
     "output_type": "stream",
     "text": [
      " 46%|████▋     | 232/500 [00:06<00:08, 31.10it/s]"
     ]
    },
    {
     "name": "stdout",
     "output_type": "stream",
     "text": [
      "10.6\n"
     ]
    },
    {
     "name": "stderr",
     "output_type": "stream",
     "text": [
      " 49%|████▉     | 244/500 [00:06<00:08, 28.64it/s]"
     ]
    },
    {
     "name": "stdout",
     "output_type": "stream",
     "text": [
      "10.44\n",
      "9.6\n"
     ]
    },
    {
     "name": "stderr",
     "output_type": "stream",
     "text": [
      " 51%|█████     | 255/500 [00:07<00:08, 29.25it/s]"
     ]
    },
    {
     "name": "stdout",
     "output_type": "stream",
     "text": [
      "9.12\n"
     ]
    },
    {
     "name": "stderr",
     "output_type": "stream",
     "text": [
      " 53%|█████▎    | 263/500 [00:07<00:07, 30.13it/s]"
     ]
    },
    {
     "name": "stdout",
     "output_type": "stream",
     "text": [
      "7.8\n",
      "6.96\n"
     ]
    },
    {
     "name": "stderr",
     "output_type": "stream",
     "text": [
      " 55%|█████▌    | 275/500 [00:07<00:07, 30.26it/s]"
     ]
    },
    {
     "name": "stdout",
     "output_type": "stream",
     "text": [
      "5.44\n"
     ]
    },
    {
     "name": "stderr",
     "output_type": "stream",
     "text": [
      " 57%|█████▋    | 283/500 [00:08<00:07, 30.31it/s]"
     ]
    },
    {
     "name": "stdout",
     "output_type": "stream",
     "text": [
      "5.0\n",
      "3.96\n"
     ]
    },
    {
     "name": "stderr",
     "output_type": "stream",
     "text": [
      " 59%|█████▉    | 294/500 [00:08<00:07, 29.33it/s]"
     ]
    },
    {
     "name": "stdout",
     "output_type": "stream",
     "text": [
      "3.2\n",
      "3.16\n"
     ]
    },
    {
     "name": "stderr",
     "output_type": "stream",
     "text": [
      " 61%|██████    | 304/500 [00:08<00:07, 27.83it/s]"
     ]
    },
    {
     "name": "stdout",
     "output_type": "stream",
     "text": [
      "2.64\n",
      "2.32\n"
     ]
    },
    {
     "name": "stderr",
     "output_type": "stream",
     "text": [
      " 65%|██████▍   | 324/500 [00:09<00:05, 34.16it/s]"
     ]
    },
    {
     "name": "stdout",
     "output_type": "stream",
     "text": [
      "2.08\n"
     ]
    },
    {
     "name": "stderr",
     "output_type": "stream",
     "text": [
      "100%|██████████| 500/500 [00:13<00:00, 35.98it/s]\n"
     ]
    }
   ],
   "source": [
    "# Sklearn results\n",
    "\n",
    "# Fivefold Cross validation\n",
    "# identify suitable gaussian kernels from training data quantiles\n",
    "D = imp.sqdistmat(X_tr)\n",
    "quantiles = np.quantile(D,[0.1,0.5, 0.9])\n",
    "params = { 'kernel': ['gaussian'], 'kernelparameter': np.logspace(-5,3, 50), 'regularization': np.logspace(-5,1, 10) }\n",
    "cvsvm_sk = cv(X_tr, Y_tr, imp.svm_sklearn, params, loss_function=zero_one_loss, nfolds=5)"
   ]
  },
  {
   "cell_type": "code",
   "execution_count": 20,
   "metadata": {},
   "outputs": [
    {
     "data": {
      "text/plain": [
       "('gaussian', 1.1513953993264456, 2.154434690031882)"
      ]
     },
     "execution_count": 20,
     "metadata": {},
     "output_type": "execute_result"
    }
   ],
   "source": [
    "cvsvm_sk.__params"
   ]
  },
  {
   "cell_type": "code",
   "execution_count": 21,
   "metadata": {},
   "outputs": [],
   "source": [
    "def plot_boundary_2d_sk(X, y, model):\n",
    "    \"\"\"\n",
    "    Plots a 2 dimensional boundary of a model.\n",
    "\n",
    "    Inputs:\n",
    "    X = 2d data array (nx2)\n",
    "    y = labels (nx1)\n",
    "    model = model (typically SVM or neural net)\n",
    "    \"\"\"\n",
    "    # 1. plot points X\n",
    "    plt.scatter(X.T[0][np.argwhere(y == 1)], X.T[1][np.argwhere(y == 1)], c='b', label='Positive class')\n",
    "    plt.scatter(X.T[0][np.argwhere(y == -1)], X.T[1][np.argwhere(y == -1)], c='r', label='Negative class')\n",
    "\n",
    "    # 2. mark support vectors with a cross if svm\n",
    "    if isinstance(model, imp.svm_sklearn):\n",
    "        plt.scatter(model.X_sv.T[0], model.X_sv.T[1], s=80, c='y', marker='x', label='Support vectors')\n",
    "\n",
    "    # 3. plot separating hyperplane\n",
    "    # 3a. create grid of predictions\n",
    "    x_max = np.amax(X, axis=0)\n",
    "    x_min = np.amin(X, axis=0)\n",
    "    x0 = np.linspace(x_min[0], x_max[0], 50)\n",
    "    x1 = np.linspace(x_min[1], x_max[1], 50)\n",
    "    x0v, x1v = np.meshgrid(x0, x1)\n",
    "    Xv = np.squeeze(np.array((x0v.reshape(2500, 1), x1v.reshape(2500, 1))))\n",
    "    grid_pred = model.predict(Xv.T)\n",
    "    # 3b plot level 0 contour line\n",
    "    plt.contour(x0, x1, grid_pred.reshape(50, 50), levels=0)\n",
    "\n",
    "    # format plot\n",
    "    plt.ylabel('X1')\n",
    "    plt.xlabel('X0')\n",
    "    plt.title('2D visualisation of model classifications with a separating hyperplane')\n",
    "    plt.legend()\n",
    "    plt.show()"
   ]
  },
  {
   "cell_type": "code",
   "execution_count": 22,
   "metadata": {},
   "outputs": [
    {
     "data": {
      "image/png": "[encoded data removed]",
      "text/plain": [
       "<Figure size 432x288 with 1 Axes>"
      ]
     },
     "metadata": {
      "needs_background": "light"
     },
     "output_type": "display_data"
    }
   ],
   "source": [
    "plot_boundary_2d_sk(X_tr, Y_tr, cvsvm_sk)"
   ]
  },
  {
   "cell_type": "code",
   "execution_count": 23,
   "metadata": {},
   "outputs": [
    {
     "data": {
      "text/plain": [
       "(42, 2)"
      ]
     },
     "execution_count": 23,
     "metadata": {},
     "output_type": "execute_result"
    }
   ],
   "source": [
    "cvsvm_sk.X_sv.shape"
   ]
  },
  {
   "cell_type": "code",
   "execution_count": 31,
   "metadata": {},
   "outputs": [
    {
     "name": "stderr",
     "output_type": "stream",
     "text": [
      "  2%|▏         | 1/50 [00:00<00:23,  2.11it/s]"
     ]
    },
    {
     "name": "stdout",
     "output_type": "stream",
     "text": [
      "11.36\n"
     ]
    },
    {
     "name": "stderr",
     "output_type": "stream",
     "text": [
      "  6%|▌         | 3/50 [00:01<00:20,  2.34it/s]"
     ]
    },
    {
     "name": "stdout",
     "output_type": "stream",
     "text": [
      "10.64\n"
     ]
    },
    {
     "name": "stderr",
     "output_type": "stream",
     "text": [
      " 44%|████▍     | 22/50 [00:07<00:10,  2.78it/s]"
     ]
    },
    {
     "name": "stdout",
     "output_type": "stream",
     "text": [
      "10.04\n"
     ]
    },
    {
     "name": "stderr",
     "output_type": "stream",
     "text": [
      "\r",
      " 46%|████▌     | 23/50 [00:08<00:10,  2.50it/s]"
     ]
    },
    {
     "name": "stdout",
     "output_type": "stream",
     "text": [
      "9.52\n"
     ]
    },
    {
     "name": "stderr",
     "output_type": "stream",
     "text": [
      "\r",
      " 48%|████▊     | 24/50 [00:08<00:10,  2.39it/s]"
     ]
    },
    {
     "name": "stdout",
     "output_type": "stream",
     "text": [
      "6.8\n"
     ]
    },
    {
     "name": "stderr",
     "output_type": "stream",
     "text": [
      "\r",
      " 50%|█████     | 25/50 [00:09<00:10,  2.36it/s]"
     ]
    },
    {
     "name": "stdout",
     "output_type": "stream",
     "text": [
      "5.48\n"
     ]
    },
    {
     "name": "stderr",
     "output_type": "stream",
     "text": [
      "\r",
      " 52%|█████▏    | 26/50 [00:09<00:10,  2.33it/s]"
     ]
    },
    {
     "name": "stdout",
     "output_type": "stream",
     "text": [
      "4.56\n"
     ]
    },
    {
     "name": "stderr",
     "output_type": "stream",
     "text": [
      "\r",
      " 54%|█████▍    | 27/50 [00:09<00:09,  2.32it/s]"
     ]
    },
    {
     "name": "stdout",
     "output_type": "stream",
     "text": [
      "4.0\n"
     ]
    },
    {
     "name": "stderr",
     "output_type": "stream",
     "text": [
      "100%|██████████| 50/50 [00:28<00:00,  1.74it/s]\n"
     ]
    },
    {
     "name": "stdout",
     "output_type": "stream",
     "text": [
      "('gaussian', 0.17575106248547895, 100000000000000)\n"
     ]
    },
    {
     "data": {
      "image/png": "[encoded data removed]",
      "text/plain": [
       "<Figure size 432x288 with 1 Axes>"
      ]
     },
     "metadata": {
      "needs_background": "light"
     },
     "output_type": "display_data"
    }
   ],
   "source": [
    "# Produce Overfitting\n",
    "# Fivefold Cross validation\n",
    "# identify suitable gaussian kernels from training data quantiles\n",
    "D = imp.sqdistmat(X_tr)\n",
    "#quantiles = np.quantile(D,[0.1,0.5, 0.9])\n",
    "params = { 'kernel': ['gaussian'], 'kernelparameter': np.logspace(-5,3, 50), 'regularization': [10**14]}#np.logspace(13,16, 4) }\n",
    "cvsvm = cv(X_tr, Y_tr, imp.svm_qp, params, loss_function=zero_one_loss, nfolds=5)\n",
    "print(cvsvm.__params)\n",
    "imp.plot_boundary_2d(X_tr, Y_tr, cvsvm)"
   ]
  },
  {
   "cell_type": "code",
   "execution_count": 32,
   "metadata": {},
   "outputs": [
    {
     "name": "stdout",
     "output_type": "stream",
     "text": [
      "(69, 2)\n",
      "4.0\n",
      "Number of correct classified test data: 80\n",
      "accuracy: 0.8\n",
      "('gaussian', 0.17575106248547895, 100000000000000)\n"
     ]
    }
   ],
   "source": [
    "print(cvsvm.X_sv.shape)\n",
    "print(cvsvm.cvloss)\n",
    "print('Number of correct classified test data: {}'.format(np.sum(np.sign(cvsvm.predict(X_te)) == Y_te)))\n",
    "print('accuracy: {}'.format(np.sum(np.sign(cvsvm.predict(X_te)) == Y_te)/len(X_te)))\n",
    "print(cvsvm.__params)"
   ]
  },
  {
   "cell_type": "code",
   "execution_count": 35,
   "metadata": {
    "scrolled": true
   },
   "outputs": [
    {
     "name": "stderr",
     "output_type": "stream",
     "text": [
      "  4%|▍         | 2/50 [00:00<00:07,  6.68it/s]"
     ]
    },
    {
     "name": "stdout",
     "output_type": "stream",
     "text": [
      "11.44\n"
     ]
    },
    {
     "name": "stderr",
     "output_type": "stream",
     "text": [
      " 14%|█▍        | 7/50 [00:00<00:05,  8.12it/s]"
     ]
    },
    {
     "name": "stdout",
     "output_type": "stream",
     "text": [
      "11.36\n",
      "11.28\n"
     ]
    },
    {
     "name": "stderr",
     "output_type": "stream",
     "text": [
      " 18%|█▊        | 9/50 [00:01<00:05,  7.49it/s]"
     ]
    },
    {
     "name": "stdout",
     "output_type": "stream",
     "text": [
      "11.12\n"
     ]
    },
    {
     "name": "stderr",
     "output_type": "stream",
     "text": [
      "100%|██████████| 50/50 [00:05<00:00,  8.42it/s]\n"
     ]
    },
    {
     "name": "stdout",
     "output_type": "stream",
     "text": [
      "('gaussian', 2.6826957952797275e-07, 1)\n"
     ]
    },
    {
     "data": {
      "image/png": "[encoded data removed]",
      "text/plain": [
       "<Figure size 432x288 with 1 Axes>"
      ]
     },
     "metadata": {
      "needs_background": "light"
     },
     "output_type": "display_data"
    }
   ],
   "source": [
    "# Produce Underfitting\n",
    "# Fivefold Cross validation\n",
    "# identify suitable gaussian kernels from training data quantiles\n",
    "#D = imp.sqdistmat(X_tr)\n",
    "#quantiles = np.quantile(D,[0.1,0.5, 0.9])\n",
    "params = { 'kernel': ['gaussian'], 'kernelparameter': np.logspace(-7,-4, 50), 'regularization': [1]}#np.logspace(1,10, 10) }\n",
    "cvsvm = cv(X_tr, Y_tr, imp.svm_qp, params, loss_function=zero_one_loss, nfolds=5)\n",
    "print(cvsvm.__params)\n",
    "imp.plot_boundary_2d(X_tr, Y_tr, cvsvm)"
   ]
  },
  {
   "cell_type": "code",
   "execution_count": 37,
   "metadata": {},
   "outputs": [
    {
     "name": "stdout",
     "output_type": "stream",
     "text": [
      "(100, 2)\n",
      "11.12\n",
      "Number of correct classified test data: 40\n",
      "accuracy: 0.4\n",
      "('gaussian', 2.6826957952797275e-07, 1)\n"
     ]
    }
   ],
   "source": [
    "print(cvsvm.X_sv.shape)\n",
    "print(cvsvm.cvloss)\n",
    "print('Number of correct classified test data: {}'.format(np.sum(np.sign(cvsvm.predict(X_te)) == Y_te)))\n",
    "print('accuracy: {}'.format(np.sum(np.sign(cvsvm.predict(X_te)) == Y_te)/len(X_te)))\n",
    "print(cvsvm.__params)\n",
    "# everything predicted to class 1"
   ]
  },
  {
   "cell_type": "code",
   "execution_count": 38,
   "metadata": {},
   "outputs": [
    {
     "data": {
      "text/plain": [
       "array([0.01, 0.01, 0.01, 0.01, 0.01, 0.01, 0.01, 0.01, 0.01, 0.01, 0.01,\n",
       "       0.01, 0.01, 0.01, 0.01, 0.01, 0.01, 0.01, 0.01, 0.01, 0.01, 0.01,\n",
       "       0.01, 0.01, 0.01, 0.01, 0.01, 0.01, 0.01, 0.01, 0.01, 0.01, 0.01,\n",
       "       0.01, 0.01, 0.01, 0.01, 0.01, 0.01, 0.01, 0.01, 0.01, 0.01, 0.01,\n",
       "       0.01, 0.01, 0.01, 0.01, 0.01, 0.01, 0.01, 0.01, 0.01, 0.01, 0.01,\n",
       "       0.01, 0.01, 0.01, 0.01, 0.01, 0.01, 0.01, 0.01, 0.01, 0.01, 0.01,\n",
       "       0.01, 0.01, 0.01, 0.01, 0.01, 0.01, 0.01, 0.01, 0.01, 0.01, 0.01,\n",
       "       0.01, 0.01, 0.01, 0.01, 0.01, 0.01, 0.01, 0.01, 0.01, 0.01, 0.01,\n",
       "       0.01, 0.01, 0.01, 0.01, 0.01, 0.01, 0.01, 0.01, 0.01, 0.01, 0.01,\n",
       "       0.01])"
      ]
     },
     "execution_count": 38,
     "metadata": {},
     "output_type": "execute_result"
    }
   ],
   "source": [
    "cvsvm.alpha_sv"
   ]
  },
  {
   "cell_type": "code",
   "execution_count": 36,
   "metadata": {},
   "outputs": [
    {
     "data": {
      "text/plain": [
       "array([[2.74714043e-06, 2.74714043e-06, 2.74714043e-06, 2.74714043e-06,\n",
       "        2.74714043e-06, 2.74714043e-06, 2.74714043e-06, 2.74714043e-06,\n",
       "        2.74714043e-06, 2.74714043e-06, 2.74714043e-06, 2.74714043e-06,\n",
       "        2.74714043e-06, 2.74714043e-06, 2.74714043e-06, 2.74714043e-06,\n",
       "        2.74714043e-06, 2.74714043e-06, 2.74714043e-06, 2.74714043e-06,\n",
       "        2.74714043e-06, 2.74714043e-06, 2.74714043e-06, 2.74714043e-06,\n",
       "        2.74714043e-06, 2.74714043e-06, 2.74714043e-06, 2.74714043e-06,\n",
       "        2.74714043e-06, 2.74714043e-06, 2.74714043e-06, 2.74714043e-06,\n",
       "        2.74714043e-06, 2.74714043e-06, 2.74714043e-06, 2.74714043e-06,\n",
       "        2.74714043e-06, 2.74714043e-06, 2.74714043e-06, 2.74714043e-06,\n",
       "        2.74714043e-06, 2.74714043e-06, 2.74714043e-06, 2.74714043e-06,\n",
       "        2.74714043e-06, 2.74714043e-06, 2.74714043e-06, 2.74714043e-06,\n",
       "        2.74714043e-06, 2.74714043e-06, 2.74714043e-06, 2.74714043e-06,\n",
       "        2.74714043e-06, 2.74714043e-06, 2.74714043e-06, 2.74714043e-06,\n",
       "        2.74714043e-06, 2.74714043e-06, 2.74714043e-06, 2.74714043e-06,\n",
       "        2.74714043e-06, 2.74714043e-06, 2.74714043e-06, 2.74714043e-06,\n",
       "        2.74714043e-06, 2.74714043e-06, 2.74714043e-06, 2.74714043e-06,\n",
       "        2.74714043e-06, 2.74714043e-06, 2.74714043e-06, 2.74714043e-06,\n",
       "        2.74714043e-06, 2.74714043e-06, 2.74714043e-06, 2.74714043e-06,\n",
       "        2.74714043e-06, 2.74714043e-06, 2.74714043e-06, 2.74714043e-06,\n",
       "        2.74714043e-06, 2.74714043e-06, 2.74714043e-06, 2.74714043e-06,\n",
       "        2.74714043e-06, 2.74714043e-06, 2.74714043e-06, 2.74714043e-06,\n",
       "        2.74714043e-06, 2.74714043e-06, 2.74714043e-06, 2.74714043e-06,\n",
       "        2.74714043e-06, 2.74714043e-06, 2.74714043e-06, 2.74714043e-06,\n",
       "        2.74714043e-06, 2.74714043e-06, 2.74714043e-06, 2.74714043e-06]])"
      ]
     },
     "execution_count": 36,
     "metadata": {},
     "output_type": "execute_result"
    }
   ],
   "source": [
    "cvsvm.predict(X_te)"
   ]
  },
  {
   "cell_type": "markdown",
   "metadata": {},
   "source": [
    "Technically, the gamma parameter is the inverse of the standard deviation of the RBF kernel (Gaussian function), which is used as similarity measure between two points. Intuitively, a small gamma value define a Gaussian function with a large variance. In this case, two points can be considered similar even if are far from each other. In the other hand, a large gamma value means define a Gaussian function with a small variance and in this case, two points are considered similar just if they are close to each other.\n",
    "\n",
    "When gamma is very small, the model is too constrained and cannot capture the complexity or “shape” of the data. The region of influence of any selected support vector would include the whole training set. The resulting model will behave similarly to a linear model with a set of hyperplanes that separate the centers of high density of any pair of two classes"
   ]
  },
  {
   "cell_type": "code",
   "execution_count": 28,
   "metadata": {},
   "outputs": [],
   "source": [
    "# ROC"
   ]
  },
  {
   "cell_type": "code",
   "execution_count": 47,
   "metadata": {},
   "outputs": [],
   "source": [
    "def ROC (y_true,xtrain,ytrain,xtest,params,method):\n",
    "    tpr = [np.zeros(1)]\n",
    "    fpr = [np.zeros(1)]\n",
    "    threshold = 0\n",
    "    pos_label=-1\n",
    "    neg = np.sum(np.array(y_true.flatten() == -1))\n",
    "    pos = len(y_true) - neg\n",
    "    #y_true=(y_true==pos_label) #boolean vec of true labels\n",
    "    model = method(params[0],params[1],params[2])\n",
    "    model.fit(X_tr,Y_tr)\n",
    "    y_pred = model.predict(X_te)\n",
    "    biases = y_pred\n",
    "    # Use test predictions as bias \n",
    "    #biases = np.linspace(-1,4,200)\n",
    "    for bias in biases:\n",
    "        prediction = y_pred.T + bias > threshold\n",
    "        tpr.append(prediction[y_true == 1].sum(axis=0) / pos)\n",
    "        fpr.append(prediction[y_true == -1, :].sum(axis=0) / neg)\n",
    "    fpr = np.concatenate(fpr)\n",
    "    tpr = np.concatenate(tpr)\n",
    "    idx = np.argsort(fpr) # sort by fpr in increasing order\n",
    "    fpr = fpr[idx]\n",
    "    tpr = tpr[idx]\n",
    "    plt.plot(fpr,tpr,label='SVM')\n",
    "    plt.plot(np.arange(0,1.1,0.1),np.arange(0,1.1,0.1),label='Random guesses')\n",
    "    plt.ylabel('True Positive Rate (TPR)')\n",
    "    plt.xlabel('False Positive Rate (FPR)')\n",
    "    plt.title('ROC Curve')\n",
    "    plt.legend()\n"
   ]
  },
  {
   "cell_type": "code",
   "execution_count": 54,
   "metadata": {},
   "outputs": [
    {
     "data": {
      "image/png": "[encoded data removed]",
      "text/plain": [
       "<Figure size 432x288 with 1 Axes>"
      ]
     },
     "metadata": {
      "needs_background": "light"
     },
     "output_type": "display_data"
    }
   ],
   "source": [
    "ROC(Y_te,X_tr,Y_tr,X_te,params = cvsvm.__params, method = imp.svm_qp)"
   ]
  },
  {
   "cell_type": "code",
   "execution_count": 48,
   "metadata": {},
   "outputs": [
    {
     "data": {
      "text/plain": [
       "('gaussian', 0.3727593720314938, 77.42636826811278)"
      ]
     },
     "execution_count": 48,
     "metadata": {},
     "output_type": "execute_result"
    }
   ],
   "source": [
    "cvsvm.__params"
   ]
  },
  {
   "cell_type": "code",
   "execution_count": 49,
   "metadata": {},
   "outputs": [],
   "source": [
    "############# 5"
   ]
  },
  {
   "cell_type": "code",
   "execution_count": 117,
   "metadata": {},
   "outputs": [
    {
     "name": "stdout",
     "output_type": "stream",
     "text": [
      "['Y', 'X']\n",
      "Shape of X: (135, 4)\n",
      "Shape of Y: (135,)\n"
     ]
    }
   ],
   "source": [
    "# Load data for #5\n",
    "DATA_PATH = os.path.join(os.path.dirname(os.getcwd()),\"data/iris.npz\")\n",
    "assert os.path.exists(DATA_PATH), \"The path does not excist.\"\n",
    "data = np.load(DATA_PATH)\n",
    "print(data.files)\n",
    "X = data['X'].T\n",
    "Y = data['Y'].T\n",
    "print(\"Shape of X: {}\".format(X.shape))\n",
    "print(\"Shape of Y: {}\".format(Y.shape))\n",
    "# train test split\n",
    "test_size = 1/3\n",
    "idx = np.linspace(0,len(X)-1,len(X)).astype(int)\n",
    "random.shuffle(idx)\n",
    "X_tr = X[idx[:int((1-test_size)*len(X))],:]\n",
    "X_te = X[idx[int((1-test_size)*len(X)):],:]\n",
    "y_tr = Y[idx[:int((1-test_size)*len(X))]]\n",
    "y_te = Y[idx[int((1-test_size)*len(X)):]]"
   ]
  },
  {
   "cell_type": "code",
   "execution_count": 95,
   "metadata": {},
   "outputs": [
    {
     "data": {
      "text/plain": [
       "Text(0, 0.5, 'sepal width')"
      ]
     },
     "execution_count": 95,
     "metadata": {},
     "output_type": "execute_result"
    },
    {
     "data": {
      "image/png": "[encoded data removed]",
      "text/plain": [
       "<Figure size 432x288 with 1 Axes>"
      ]
     },
     "metadata": {
      "needs_background": "light"
     },
     "output_type": "display_data"
    }
   ],
   "source": [
    "# Visualize data\n",
    "plt.scatter(X[Y == 1,0], X[Y == 1,1], marker = 'o', color = 'r', label = 'setosa')\n",
    "plt.scatter(X[Y == 2,0], X[Y == 2,1], marker = 'o', color = 'b',label = 'versicolor')\n",
    "plt.scatter(X[Y == 3,0], X[Y == 3,1], marker = 'o', color = 'g',label = 'virginica')\n",
    "plt.xlabel('sepal length')\n",
    "plt.ylabel('sepal width')"
   ]
  },
  {
   "cell_type": "code",
   "execution_count": 397,
   "metadata": {},
   "outputs": [
    {
     "data": {
      "text/plain": [
       "Text(0, 0.5, 'petal width')"
      ]
     },
     "execution_count": 397,
     "metadata": {},
     "output_type": "execute_result"
    },
    {
     "data": {
      "image/png": "[encoded data removed]",
      "text/plain": [
       "<Figure size 432x288 with 1 Axes>"
      ]
     },
     "metadata": {
      "needs_background": "light"
     },
     "output_type": "display_data"
    }
   ],
   "source": [
    "# Visualize data\n",
    "plt.scatter(X[Y == 1,2], X[Y == 1,3], marker = 'o', color = 'r', label = 'setosa')\n",
    "plt.scatter(X[Y == 2,2], X[Y == 2,3], marker = 'o', color = 'b',label = 'versicolor')\n",
    "plt.scatter(X[Y == 3,2], X[Y == 3,3], marker = 'o', color = 'g',label = 'virginica')\n",
    "plt.xlabel('petal length')\n",
    "plt.ylabel('petal width')"
   ]
  },
  {
   "cell_type": "code",
   "execution_count": 83,
   "metadata": {},
   "outputs": [
    {
     "data": {
      "text/plain": [
       "[Text(0.5, 0, 'petal length')]"
      ]
     },
     "execution_count": 83,
     "metadata": {},
     "output_type": "execute_result"
    },
    {
     "data": {
      "image/png": "[encoded data removed]",
      "text/plain": [
       "<Figure size 432x288 with 4 Axes>"
      ]
     },
     "metadata": {
      "needs_background": "light"
     },
     "output_type": "display_data"
    }
   ],
   "source": [
    "fig, axs = plt.subplots(2, 2)\n",
    "axs[0, 0].scatter(X[Y == 1,0], X[Y == 1,1], marker = 'o', color = 'r', label = 'setosa')\n",
    "axs[0, 0].scatter(X[Y == 2,0], X[Y == 2,1], marker = 'o', color = 'b',label = 'versicolor')\n",
    "axs[0, 0].scatter(X[Y == 3,0], X[Y == 3,1], marker = 'o', color = 'g',label = 'virginica')\n",
    "axs[0, 1].scatter(X[Y == 1,2], X[Y == 1,1], marker = 'o', color = 'r', label = 'setosa')\n",
    "axs[0, 1].scatter(X[Y == 2,2], X[Y == 2,1], marker = 'o', color = 'b',label = 'versicolor')\n",
    "axs[0, 1].scatter(X[Y == 3,2], X[Y == 3,1], marker = 'o', color = 'g',label = 'virginica')\n",
    "axs[1, 0].scatter(X[Y == 1,0], X[Y == 1,3], marker = 'o', color = 'r', label = 'setosa')\n",
    "axs[1, 0].scatter(X[Y == 2,0], X[Y == 2,3], marker = 'o', color = 'b',label = 'versicolor')\n",
    "axs[1, 0].scatter(X[Y == 3,0], X[Y == 3,3], marker = 'o', color = 'g',label = 'virginica')\n",
    "axs[1, 1].scatter(X[Y == 1,2], X[Y == 1,3], marker = 'o', color = 'r', label = 'setosa')\n",
    "axs[1, 1].scatter(X[Y == 2,2], X[Y == 2,3], marker = 'o', color = 'b',label = 'versicolor')\n",
    "axs[1, 1].scatter(X[Y == 3,2], X[Y == 3,3], marker = 'o', color = 'g',label = 'virginica')\n",
    "\n",
    "axs[0, 0].set(ylabel = 'sepal width')\n",
    "axs[1, 0].set(xlabel = 'sepal length')\n",
    "axs[1, 0].set(ylabel = 'petal width')\n",
    "axs[1, 1].set(xlabel = 'petal length')"
   ]
  },
  {
   "cell_type": "code",
   "execution_count": 84,
   "metadata": {},
   "outputs": [
    {
     "data": {
      "text/plain": [
       "<matplotlib.collections.PathCollection at 0x1a2aebd450>"
      ]
     },
     "execution_count": 84,
     "metadata": {},
     "output_type": "execute_result"
    },
    {
     "data": {
      "image/png": "[encoded data removed]",
      "text/plain": [
       "<Figure size 432x288 with 1 Axes>"
      ]
     },
     "metadata": {
      "needs_background": "light"
     },
     "output_type": "display_data"
    }
   ],
   "source": [
    "plt.scatter(X[Y == 1,2], X[Y == 1,0], marker = 'o', color = 'r', label = 'setosa')\n",
    "plt.scatter(X[Y == 2,2], X[Y == 2,0], marker = 'o', color = 'b',label = 'versicolor')\n",
    "plt.scatter(X[Y == 3,2], X[Y == 3,0], marker = 'o', color = 'g',label = 'virginica')"
   ]
  },
  {
   "cell_type": "code",
   "execution_count": 104,
   "metadata": {
    "scrolled": false
   },
   "outputs": [
    {
     "name": "stderr",
     "output_type": "stream",
     "text": [
      "100%|██████████| 1/1 [00:00<00:00,  6.05it/s]\n",
      "100%|██████████| 1/1 [00:00<00:00,  8.09it/s]\n",
      "  0%|          | 0/1 [00:00<?, ?it/s]"
     ]
    },
    {
     "name": "stdout",
     "output_type": "stream",
     "text": [
      "0.0\n",
      "Target class: 1.0\n",
      "Loss: 0.0\n",
      "Parameters: ('linear', 1, None)\n",
      "5.8\n",
      "Target class: 2.0\n",
      "Loss: 5.8\n",
      "Parameters: ('linear', 1, None)\n"
     ]
    },
    {
     "name": "stderr",
     "output_type": "stream",
     "text": [
      "100%|██████████| 1/1 [00:00<00:00,  6.98it/s]"
     ]
    },
    {
     "name": "stdout",
     "output_type": "stream",
     "text": [
      "0.48\n",
      "Target class: 3.0\n",
      "Loss: 0.48\n",
      "Parameters: ('linear', 1, None)\n",
      "accuracy: [1.0, 0.6444444444444445, 0.9555555555555556]\n"
     ]
    },
    {
     "name": "stderr",
     "output_type": "stream",
     "text": [
      "\n"
     ]
    }
   ],
   "source": [
    "# linear kernel hard margin\n",
    "# Hard margin SVM can work only when data is completely linearly separable without any errors (noise or outliers).\n",
    "accuracy = []\n",
    "for target in np.unique(Y):\n",
    "    # relabel class data into 1 and -1\n",
    "    # target is 1, rest -1\n",
    "    y_tr_r = deepcopy(y_tr)\n",
    "    y_tr_r[np.where(y_tr_r != target)] = -1\n",
    "    y_tr_r[y_tr_r == target] = 1\n",
    "    y_te_r = deepcopy(y_te)\n",
    "    y_te_r[np.where(y_te_r != target)] = -1\n",
    "    y_te_r[y_te_r == target] = 1\n",
    "    \n",
    "    # SVM with hard-margin\n",
    "    params = { 'kernel': ['linear'], 'kernelparameter': [1], 'regularization': [None]}#np.logspace(-2,4, 200)*len(y_tr_r) }\n",
    "    cvsvm = cv(X_tr, y_tr_r, imp.svm_qp, params, loss_function=zero_one_loss, nfolds=5)\n",
    "    print('Target class: {}'.format(target))\n",
    "    print('Loss: {}'.format(cvsvm.cvloss))\n",
    "    print('Parameters: {}'.format(cvsvm.__params))\n",
    "    accuracy.append(np.sum(np.sign(cvsvm.predict(X_te)) == y_te_r) / len(y_te_r))\n",
    "print('accuracy: {}'.format(accuracy))"
   ]
  },
  {
   "cell_type": "code",
   "execution_count": 107,
   "metadata": {},
   "outputs": [
    {
     "name": "stderr",
     "output_type": "stream",
     "text": [
      "  3%|▎         | 3/100 [00:00<00:09, 10.34it/s]"
     ]
    },
    {
     "name": "stdout",
     "output_type": "stream",
     "text": [
      "5.4\n"
     ]
    },
    {
     "name": "stderr",
     "output_type": "stream",
     "text": [
      " 14%|█▍        | 14/100 [00:01<00:07, 11.60it/s]"
     ]
    },
    {
     "name": "stdout",
     "output_type": "stream",
     "text": [
      "5.04\n",
      "4.12\n"
     ]
    },
    {
     "name": "stderr",
     "output_type": "stream",
     "text": [
      "\r",
      " 16%|█▌        | 16/100 [00:01<00:07, 11.56it/s]"
     ]
    },
    {
     "name": "stdout",
     "output_type": "stream",
     "text": [
      "3.24\n",
      "3.12\n"
     ]
    },
    {
     "name": "stderr",
     "output_type": "stream",
     "text": [
      " 20%|██        | 20/100 [00:01<00:07, 11.07it/s]"
     ]
    },
    {
     "name": "stdout",
     "output_type": "stream",
     "text": [
      "2.24\n",
      "1.88\n",
      "1.36\n"
     ]
    },
    {
     "name": "stderr",
     "output_type": "stream",
     "text": [
      "\r",
      " 22%|██▏       | 22/100 [00:01<00:07, 10.60it/s]"
     ]
    },
    {
     "name": "stdout",
     "output_type": "stream",
     "text": [
      "0.68\n",
      "0.2\n"
     ]
    },
    {
     "name": "stderr",
     "output_type": "stream",
     "text": [
      "\r",
      " 24%|██▍       | 24/100 [00:02<00:07,  9.74it/s]"
     ]
    },
    {
     "name": "stdout",
     "output_type": "stream",
     "text": [
      "0.12\n",
      "0.0\n"
     ]
    },
    {
     "name": "stderr",
     "output_type": "stream",
     "text": [
      "100%|██████████| 100/100 [00:17<00:00,  5.86it/s]\n",
      "  2%|▏         | 2/100 [00:00<00:06, 14.36it/s]"
     ]
    },
    {
     "name": "stdout",
     "output_type": "stream",
     "text": [
      "Target class: 1.0\n",
      "Loss: 0.0\n",
      "Parameters: ('gaussian', 0.4229242874389499, None)\n",
      "5.8\n"
     ]
    },
    {
     "name": "stderr",
     "output_type": "stream",
     "text": [
      " 14%|█▍        | 14/100 [00:01<00:06, 12.37it/s]"
     ]
    },
    {
     "name": "stdout",
     "output_type": "stream",
     "text": [
      "5.76\n",
      "5.52\n",
      "4.0\n"
     ]
    },
    {
     "name": "stderr",
     "output_type": "stream",
     "text": [
      " 18%|█▊        | 18/100 [00:01<00:06, 13.14it/s]"
     ]
    },
    {
     "name": "stdout",
     "output_type": "stream",
     "text": [
      "3.72\n",
      "2.88\n",
      "1.84\n"
     ]
    },
    {
     "name": "stderr",
     "output_type": "stream",
     "text": [
      "\r",
      " 20%|██        | 20/100 [00:01<00:06, 12.98it/s]"
     ]
    },
    {
     "name": "stdout",
     "output_type": "stream",
     "text": [
      "1.16\n",
      "0.88\n"
     ]
    },
    {
     "name": "stderr",
     "output_type": "stream",
     "text": [
      "\r",
      " 22%|██▏       | 22/100 [00:01<00:06, 11.28it/s]"
     ]
    },
    {
     "name": "stdout",
     "output_type": "stream",
     "text": [
      "0.64\n",
      "0.52\n"
     ]
    },
    {
     "name": "stderr",
     "output_type": "stream",
     "text": [
      " 35%|███▌      | 35/100 [00:03<00:10,  6.08it/s]"
     ]
    },
    {
     "name": "stdout",
     "output_type": "stream",
     "text": [
      "0.36\n"
     ]
    },
    {
     "name": "stderr",
     "output_type": "stream",
     "text": [
      "100%|██████████| 100/100 [00:26<00:00,  3.71it/s]\n",
      "  2%|▏         | 2/100 [00:00<00:07, 13.37it/s]"
     ]
    },
    {
     "name": "stdout",
     "output_type": "stream",
     "text": [
      "Target class: 2.0\n",
      "Loss: 0.36\n",
      "Parameters: ('gaussian', 2.154434690031882, None)\n",
      "6.4\n"
     ]
    },
    {
     "name": "stderr",
     "output_type": "stream",
     "text": [
      " 16%|█▌        | 16/100 [00:01<00:06, 12.51it/s]"
     ]
    },
    {
     "name": "stdout",
     "output_type": "stream",
     "text": [
      "6.12\n",
      "6.0\n",
      "5.6\n"
     ]
    },
    {
     "name": "stderr",
     "output_type": "stream",
     "text": [
      "\r",
      " 18%|█▊        | 18/100 [00:01<00:08,  9.88it/s]"
     ]
    },
    {
     "name": "stdout",
     "output_type": "stream",
     "text": [
      "4.6\n",
      "4.08\n"
     ]
    },
    {
     "name": "stderr",
     "output_type": "stream",
     "text": [
      " 21%|██        | 21/100 [00:01<00:08,  9.11it/s]"
     ]
    },
    {
     "name": "stdout",
     "output_type": "stream",
     "text": [
      "2.92\n",
      "1.88\n",
      "1.24\n"
     ]
    },
    {
     "name": "stderr",
     "output_type": "stream",
     "text": [
      " 23%|██▎       | 23/100 [00:02<00:08,  8.71it/s]"
     ]
    },
    {
     "name": "stdout",
     "output_type": "stream",
     "text": [
      "0.96\n"
     ]
    },
    {
     "name": "stderr",
     "output_type": "stream",
     "text": [
      "\r",
      " 25%|██▌       | 25/100 [00:02<00:08,  9.01it/s]"
     ]
    },
    {
     "name": "stdout",
     "output_type": "stream",
     "text": [
      "0.92\n"
     ]
    },
    {
     "name": "stderr",
     "output_type": "stream",
     "text": [
      " 27%|██▋       | 27/100 [00:02<00:09,  7.97it/s]"
     ]
    },
    {
     "name": "stdout",
     "output_type": "stream",
     "text": [
      "0.8\n"
     ]
    },
    {
     "name": "stderr",
     "output_type": "stream",
     "text": [
      " 29%|██▉       | 29/100 [00:02<00:09,  7.78it/s]"
     ]
    },
    {
     "name": "stdout",
     "output_type": "stream",
     "text": [
      "0.76\n",
      "0.72\n"
     ]
    },
    {
     "name": "stderr",
     "output_type": "stream",
     "text": [
      " 34%|███▍      | 34/100 [00:03<00:10,  6.48it/s]"
     ]
    },
    {
     "name": "stdout",
     "output_type": "stream",
     "text": [
      "0.6\n",
      "0.56\n"
     ]
    },
    {
     "name": "stderr",
     "output_type": "stream",
     "text": [
      " 39%|███▉      | 39/100 [00:04<00:09,  6.36it/s]"
     ]
    },
    {
     "name": "stdout",
     "output_type": "stream",
     "text": [
      "0.44\n"
     ]
    },
    {
     "name": "stderr",
     "output_type": "stream",
     "text": [
      " 44%|████▍     | 44/100 [00:05<00:09,  6.13it/s]"
     ]
    },
    {
     "name": "stdout",
     "output_type": "stream",
     "text": [
      "0.4\n",
      "0.36\n"
     ]
    },
    {
     "name": "stderr",
     "output_type": "stream",
     "text": [
      "100%|██████████| 100/100 [00:24<00:00,  4.10it/s]"
     ]
    },
    {
     "name": "stdout",
     "output_type": "stream",
     "text": [
      "Target class: 3.0\n",
      "Loss: 0.36\n",
      "Parameters: ('gaussian', 10.974987654930557, None)\n",
      "accuracy: [0.9777777777777777, 0.9555555555555556, 0.9555555555555556]\n"
     ]
    },
    {
     "name": "stderr",
     "output_type": "stream",
     "text": [
      "\n"
     ]
    }
   ],
   "source": [
    "# gaussian kernel\n",
    "# hard margin\n",
    "accuracy = []\n",
    "for target in np.unique(Y):\n",
    "    # relabel class data into 1 and -1\n",
    "    # target is 1, rest -1\n",
    "    y_tr_r = deepcopy(y_tr)\n",
    "    y_tr_r[np.where(y_tr_r != target)] = -1\n",
    "    y_tr_r[y_tr_r == target] = 1\n",
    "    y_te_r = deepcopy(y_te)\n",
    "    y_te_r[np.where(y_te_r != target)] = -1\n",
    "    y_te_r[y_te_r == target] = 1\n",
    "    \n",
    "    # SVM with hard-margin\n",
    "    params = { 'kernel': ['gaussian'], 'kernelparameter': np.logspace(-2,5,100), 'regularization': [None] }\n",
    "    cvsvm = cv(X_tr, y_tr_r, imp.svm_qp, params, loss_function=zero_one_loss, nfolds=5)\n",
    "    print('Target class: {}'.format(target))\n",
    "    print('Loss: {}'.format(cvsvm.cvloss))\n",
    "    print('Parameters: {}'.format(cvsvm.__params))\n",
    "    accuracy.append(np.sum(np.sign(cvsvm.predict(X_te)) == y_te_r) / len(y_te_r))\n",
    "print('accuracy: {}'.format(accuracy))"
   ]
  },
  {
   "cell_type": "code",
   "execution_count": 113,
   "metadata": {},
   "outputs": [
    {
     "name": "stderr",
     "output_type": "stream",
     "text": [
      " 12%|█▏        | 3/25 [00:00<00:02,  7.42it/s]"
     ]
    },
    {
     "name": "stdout",
     "output_type": "stream",
     "text": [
      "0.0\n"
     ]
    },
    {
     "name": "stderr",
     "output_type": "stream",
     "text": [
      "100%|██████████| 25/25 [00:02<00:00, 10.78it/s]\n",
      "  8%|▊         | 2/25 [00:00<00:01, 12.78it/s]"
     ]
    },
    {
     "name": "stdout",
     "output_type": "stream",
     "text": [
      "Target class: 1.0\n",
      "Loss: 0.0\n",
      "Parameters: ('polynomial', 0.01, None)\n",
      "5.8\n"
     ]
    },
    {
     "name": "stderr",
     "output_type": "stream",
     "text": [
      " 72%|███████▏  | 18/25 [00:01<00:00, 10.14it/s]"
     ]
    },
    {
     "name": "stdout",
     "output_type": "stream",
     "text": [
      "0.76\n",
      "0.72\n"
     ]
    },
    {
     "name": "stderr",
     "output_type": "stream",
     "text": [
      "\r",
      " 80%|████████  | 20/25 [00:02<00:00,  9.29it/s]"
     ]
    },
    {
     "name": "stdout",
     "output_type": "stream",
     "text": [
      "0.64\n",
      "0.52\n"
     ]
    },
    {
     "name": "stderr",
     "output_type": "stream",
     "text": [
      "100%|██████████| 25/25 [00:02<00:00,  9.54it/s]\n",
      "  4%|▍         | 1/25 [00:00<00:03,  6.04it/s]"
     ]
    },
    {
     "name": "stdout",
     "output_type": "stream",
     "text": [
      "Target class: 2.0\n",
      "Loss: 0.52\n",
      "Parameters: ('polynomial', 3.1622776601683795, None)\n",
      "0.56\n"
     ]
    },
    {
     "name": "stderr",
     "output_type": "stream",
     "text": [
      " 28%|██▊       | 7/25 [00:01<00:03,  5.69it/s]"
     ]
    },
    {
     "name": "stdout",
     "output_type": "stream",
     "text": [
      "0.52\n",
      "0.36\n"
     ]
    },
    {
     "name": "stderr",
     "output_type": "stream",
     "text": [
      " 52%|█████▏    | 13/25 [00:01<00:01,  7.89it/s]"
     ]
    },
    {
     "name": "stdout",
     "output_type": "stream",
     "text": [
      "0.32\n"
     ]
    },
    {
     "name": "stderr",
     "output_type": "stream",
     "text": [
      "100%|██████████| 25/25 [00:03<00:00,  7.62it/s]"
     ]
    },
    {
     "name": "stdout",
     "output_type": "stream",
     "text": [
      "Target class: 3.0\n",
      "Loss: 0.32\n",
      "Parameters: ('polynomial', 0.23713737056616552, None)\n",
      "accuracy: [1.0, 0.9333333333333333, 0.9555555555555556]\n"
     ]
    },
    {
     "name": "stderr",
     "output_type": "stream",
     "text": [
      "\n"
     ]
    }
   ],
   "source": [
    "# polynomial kernel\n",
    "# hard margin\n",
    "accuracy = []\n",
    "for target in np.unique(Y):\n",
    "    # relabel class data into 1 and -1\n",
    "    # target is 1, rest -1\n",
    "    y_tr_r = deepcopy(y_tr)\n",
    "    y_tr_r[np.where(y_tr_r != target)] = -1\n",
    "    y_tr_r[y_tr_r == target] = 1\n",
    "    y_te_r = deepcopy(y_te)\n",
    "    y_te_r[np.where(y_te_r != target)] = -1\n",
    "    y_te_r[y_te_r == target] = 1\n",
    "    \n",
    "    # SVM with hard-margin\n",
    "    params = { 'kernel': ['polynomial'], 'kernelparameter': np.logspace(-2,1,25), 'regularization': [None] }\n",
    "    cvsvm = cv(X_tr, y_tr_r, imp.svm_qp, params, loss_function=zero_one_loss, nfolds=5)\n",
    "    print('Target class: {}'.format(target))\n",
    "    print('Loss: {}'.format(cvsvm.cvloss))\n",
    "    print('Parameters: {}'.format(cvsvm.__params))\n",
    "    accuracy.append(np.sum(np.sign(cvsvm.predict(X_te)) == y_te_r) / len(y_te_r))\n",
    "print('accuracy: {}'.format(accuracy))"
   ]
  },
  {
   "cell_type": "code",
   "execution_count": 118,
   "metadata": {},
   "outputs": [
    {
     "name": "stderr",
     "output_type": "stream",
     "text": [
      "  1%|          | 3/500 [00:00<01:47,  4.63it/s]"
     ]
    },
    {
     "name": "stdout",
     "output_type": "stream",
     "text": [
      "18.0\n",
      "6.0\n"
     ]
    },
    {
     "name": "stderr",
     "output_type": "stream",
     "text": [
      "  3%|▎         | 16/500 [00:02<01:08,  7.08it/s]"
     ]
    },
    {
     "name": "stdout",
     "output_type": "stream",
     "text": [
      "5.68\n"
     ]
    },
    {
     "name": "stderr",
     "output_type": "stream",
     "text": [
      "  4%|▍         | 19/500 [00:03<01:07,  7.15it/s]"
     ]
    },
    {
     "name": "stdout",
     "output_type": "stream",
     "text": [
      "5.6\n"
     ]
    },
    {
     "name": "stderr",
     "output_type": "stream",
     "text": [
      " 16%|█▌        | 78/500 [00:07<00:34, 12.22it/s]"
     ]
    },
    {
     "name": "stdout",
     "output_type": "stream",
     "text": [
      "5.56\n",
      "5.48\n",
      "5.44\n"
     ]
    },
    {
     "name": "stderr",
     "output_type": "stream",
     "text": [
      " 19%|█▉        | 96/500 [00:09<00:33, 11.93it/s]"
     ]
    },
    {
     "name": "stdout",
     "output_type": "stream",
     "text": [
      "3.08\n",
      "2.92\n"
     ]
    },
    {
     "name": "stderr",
     "output_type": "stream",
     "text": [
      " 23%|██▎       | 116/500 [00:11<00:32, 11.84it/s]"
     ]
    },
    {
     "name": "stdout",
     "output_type": "stream",
     "text": [
      "2.84\n",
      "1.64\n",
      "1.52\n"
     ]
    },
    {
     "name": "stderr",
     "output_type": "stream",
     "text": [
      " 24%|██▍       | 122/500 [00:11<00:33, 11.36it/s]"
     ]
    },
    {
     "name": "stdout",
     "output_type": "stream",
     "text": [
      "1.4\n"
     ]
    },
    {
     "name": "stderr",
     "output_type": "stream",
     "text": [
      " 27%|██▋       | 136/500 [00:13<00:32, 11.24it/s]"
     ]
    },
    {
     "name": "stdout",
     "output_type": "stream",
     "text": [
      "1.36\n",
      "0.32\n",
      "0.24\n"
     ]
    },
    {
     "name": "stderr",
     "output_type": "stream",
     "text": [
      " 31%|███       | 156/500 [00:15<00:31, 11.08it/s]"
     ]
    },
    {
     "name": "stdout",
     "output_type": "stream",
     "text": [
      "0.04\n"
     ]
    },
    {
     "name": "stderr",
     "output_type": "stream",
     "text": [
      " 32%|███▏      | 160/500 [00:15<00:33, 10.09it/s]"
     ]
    },
    {
     "name": "stdout",
     "output_type": "stream",
     "text": [
      "0.0\n"
     ]
    },
    {
     "name": "stderr",
     "output_type": "stream",
     "text": [
      "100%|██████████| 500/500 [00:49<00:00, 10.08it/s]\n",
      "  0%|          | 2/500 [00:00<00:39, 12.68it/s]"
     ]
    },
    {
     "name": "stdout",
     "output_type": "stream",
     "text": [
      "Target class: 1.0\n",
      "Loss: 0.0\n",
      "Parameters: ('gaussian', 0.5623413251903491, 4281.332398719387)\n",
      "18.0\n",
      "5.2\n"
     ]
    },
    {
     "name": "stderr",
     "output_type": "stream",
     "text": [
      " 19%|█▉        | 96/500 [00:09<00:38, 10.43it/s]"
     ]
    },
    {
     "name": "stdout",
     "output_type": "stream",
     "text": [
      "4.12\n",
      "3.76\n"
     ]
    },
    {
     "name": "stderr",
     "output_type": "stream",
     "text": [
      " 23%|██▎       | 115/500 [00:11<00:37, 10.34it/s]"
     ]
    },
    {
     "name": "stdout",
     "output_type": "stream",
     "text": [
      "2.28\n",
      "1.92\n"
     ]
    },
    {
     "name": "stderr",
     "output_type": "stream",
     "text": [
      " 24%|██▍       | 120/500 [00:11<00:41,  9.11it/s]"
     ]
    },
    {
     "name": "stdout",
     "output_type": "stream",
     "text": [
      "1.8\n"
     ]
    },
    {
     "name": "stderr",
     "output_type": "stream",
     "text": [
      " 27%|██▋       | 136/500 [00:13<00:34, 10.53it/s]"
     ]
    },
    {
     "name": "stdout",
     "output_type": "stream",
     "text": [
      "0.68\n",
      "0.56\n"
     ]
    },
    {
     "name": "stderr",
     "output_type": "stream",
     "text": [
      " 39%|███▉      | 196/500 [00:20<00:39,  7.61it/s]"
     ]
    },
    {
     "name": "stdout",
     "output_type": "stream",
     "text": [
      "0.44\n"
     ]
    },
    {
     "name": "stderr",
     "output_type": "stream",
     "text": [
      " 40%|███▉      | 199/500 [00:20<00:36,  8.16it/s]"
     ]
    },
    {
     "name": "stdout",
     "output_type": "stream",
     "text": [
      "0.4\n",
      "0.28\n"
     ]
    },
    {
     "name": "stderr",
     "output_type": "stream",
     "text": [
      "100%|██████████| 500/500 [00:51<00:00,  9.78it/s]\n",
      "  0%|          | 1/500 [00:00<01:15,  6.62it/s]"
     ]
    },
    {
     "name": "stdout",
     "output_type": "stream",
     "text": [
      "Target class: 2.0\n",
      "Loss: 0.28\n",
      "Parameters: ('gaussian', 1.7782794100389228, 4281.332398719387)\n",
      "18.0\n"
     ]
    },
    {
     "name": "stderr",
     "output_type": "stream",
     "text": [
      "  1%|          | 4/500 [00:00<01:01,  8.12it/s]"
     ]
    },
    {
     "name": "stdout",
     "output_type": "stream",
     "text": [
      "6.8\n"
     ]
    },
    {
     "name": "stderr",
     "output_type": "stream",
     "text": [
      " 19%|█▉        | 96/500 [00:08<00:35, 11.50it/s]"
     ]
    },
    {
     "name": "stdout",
     "output_type": "stream",
     "text": [
      "6.08\n",
      "6.0\n"
     ]
    },
    {
     "name": "stderr",
     "output_type": "stream",
     "text": [
      " 23%|██▎       | 114/500 [00:10<00:39,  9.89it/s]"
     ]
    },
    {
     "name": "stdout",
     "output_type": "stream",
     "text": [
      "5.76\n",
      "2.4\n"
     ]
    },
    {
     "name": "stderr",
     "output_type": "stream",
     "text": [
      " 24%|██▎       | 118/500 [00:10<00:38, 10.05it/s]"
     ]
    },
    {
     "name": "stdout",
     "output_type": "stream",
     "text": [
      "2.32\n"
     ]
    },
    {
     "name": "stderr",
     "output_type": "stream",
     "text": [
      " 27%|██▋       | 135/500 [00:12<00:42,  8.63it/s]"
     ]
    },
    {
     "name": "stdout",
     "output_type": "stream",
     "text": [
      "1.28\n",
      "0.84\n"
     ]
    },
    {
     "name": "stderr",
     "output_type": "stream",
     "text": [
      " 27%|██▋       | 137/500 [00:12<00:39,  9.18it/s]"
     ]
    },
    {
     "name": "stdout",
     "output_type": "stream",
     "text": [
      "0.76\n"
     ]
    },
    {
     "name": "stderr",
     "output_type": "stream",
     "text": [
      " 31%|███       | 155/500 [00:14<00:39,  8.76it/s]"
     ]
    },
    {
     "name": "stdout",
     "output_type": "stream",
     "text": [
      "0.52\n"
     ]
    },
    {
     "name": "stderr",
     "output_type": "stream",
     "text": [
      " 39%|███▉      | 197/500 [00:19<00:31,  9.60it/s]"
     ]
    },
    {
     "name": "stdout",
     "output_type": "stream",
     "text": [
      "0.36\n"
     ]
    },
    {
     "name": "stderr",
     "output_type": "stream",
     "text": [
      " 44%|████▍     | 220/500 [00:22<00:31,  8.94it/s]"
     ]
    },
    {
     "name": "stdout",
     "output_type": "stream",
     "text": [
      "0.32\n",
      "0.2\n"
     ]
    },
    {
     "name": "stderr",
     "output_type": "stream",
     "text": [
      "100%|██████████| 500/500 [00:47<00:00, 10.45it/s]"
     ]
    },
    {
     "name": "stdout",
     "output_type": "stream",
     "text": [
      "Target class: 3.0\n",
      "Loss: 0.2\n",
      "Parameters: ('gaussian', 3.1622776601683795, 10000.0)\n",
      "accuracy: [1.0, 0.9555555555555556, 0.9555555555555556]\n"
     ]
    },
    {
     "name": "stderr",
     "output_type": "stream",
     "text": [
      "\n"
     ]
    }
   ],
   "source": [
    "# gaussian kernel\n",
    "# soft margin\n",
    "accuracy = []\n",
    "for target in np.unique(Y):\n",
    "    # relabel class data into 1 and -1\n",
    "    # target is 1, rest -1\n",
    "    y_tr_r = deepcopy(y_tr)\n",
    "    y_tr_r[np.where(y_tr_r != target)] = -1\n",
    "    y_tr_r[y_tr_r == target] = 1\n",
    "    y_te_r = deepcopy(y_te)\n",
    "    y_te_r[np.where(y_te_r != target)] = -1\n",
    "    y_te_r[y_te_r == target] = 1\n",
    "    \n",
    "    # SVM with hard-margin\n",
    "    params = { 'kernel': ['gaussian'], 'kernelparameter': np.logspace(-2,4,25), 'regularization': np.logspace(-3,4,20) }\n",
    "    cvsvm = cv(X_tr, y_tr_r, imp.svm_qp, params, loss_function=zero_one_loss, nfolds=5)\n",
    "    print('Target class: {}'.format(target))\n",
    "    print('Loss: {}'.format(cvsvm.cvloss))\n",
    "    print('Parameters: {}'.format(cvsvm.__params))\n",
    "    accuracy.append(np.sum(np.sign(cvsvm.predict(X_te)) == y_te_r) / len(y_te_r))\n",
    "print('accuracy: {}'.format(accuracy))"
   ]
  },
  {
   "cell_type": "code",
   "execution_count": 115,
   "metadata": {},
   "outputs": [
    {
     "name": "stderr",
     "output_type": "stream",
     "text": [
      "  0%|          | 2/500 [00:00<01:50,  4.50it/s]"
     ]
    },
    {
     "name": "stdout",
     "output_type": "stream",
     "text": [
      "18.0\n",
      "5.8\n"
     ]
    },
    {
     "name": "stderr",
     "output_type": "stream",
     "text": [
      "  3%|▎         | 16/500 [00:02<01:08,  7.02it/s]"
     ]
    },
    {
     "name": "stdout",
     "output_type": "stream",
     "text": [
      "5.12\n",
      "4.84\n"
     ]
    },
    {
     "name": "stderr",
     "output_type": "stream",
     "text": [
      "  4%|▍         | 19/500 [00:02<01:06,  7.28it/s]"
     ]
    },
    {
     "name": "stdout",
     "output_type": "stream",
     "text": [
      "0.0\n"
     ]
    },
    {
     "name": "stderr",
     "output_type": "stream",
     "text": [
      "100%|██████████| 500/500 [00:54<00:00,  9.26it/s]\n",
      "  0%|          | 2/500 [00:00<00:38, 12.80it/s]"
     ]
    },
    {
     "name": "stdout",
     "output_type": "stream",
     "text": [
      "Target class: 1.0\n",
      "Loss: 0.0\n",
      "Parameters: ('polynomial', 0.01, 1832.9807108324337)\n",
      "18.0\n",
      "5.8\n"
     ]
    },
    {
     "name": "stderr",
     "output_type": "stream",
     "text": [
      " 59%|█████▉    | 296/500 [00:33<00:32,  6.22it/s]"
     ]
    },
    {
     "name": "stdout",
     "output_type": "stream",
     "text": [
      "5.76\n"
     ]
    },
    {
     "name": "stderr",
     "output_type": "stream",
     "text": [
      " 63%|██████▎   | 316/500 [00:36<00:23,  7.96it/s]"
     ]
    },
    {
     "name": "stdout",
     "output_type": "stream",
     "text": [
      "5.36\n"
     ]
    },
    {
     "name": "stderr",
     "output_type": "stream",
     "text": [
      " 67%|██████▋   | 337/500 [00:38<00:18,  8.84it/s]"
     ]
    },
    {
     "name": "stdout",
     "output_type": "stream",
     "text": [
      "5.04\n"
     ]
    },
    {
     "name": "stderr",
     "output_type": "stream",
     "text": [
      " 70%|███████   | 351/500 [00:40<00:16,  8.86it/s]"
     ]
    },
    {
     "name": "stdout",
     "output_type": "stream",
     "text": [
      "4.48\n"
     ]
    },
    {
     "name": "stderr",
     "output_type": "stream",
     "text": [
      " 71%|███████   | 356/500 [00:41<00:15,  9.05it/s]"
     ]
    },
    {
     "name": "stdout",
     "output_type": "stream",
     "text": [
      "0.76\n"
     ]
    },
    {
     "name": "stderr",
     "output_type": "stream",
     "text": [
      " 72%|███████▏  | 359/500 [00:41<00:18,  7.60it/s]"
     ]
    },
    {
     "name": "stdout",
     "output_type": "stream",
     "text": [
      "0.48\n"
     ]
    },
    {
     "name": "stderr",
     "output_type": "stream",
     "text": [
      "100%|██████████| 500/500 [01:01<00:00,  8.17it/s]\n",
      "  0%|          | 1/500 [00:00<00:56,  8.76it/s]"
     ]
    },
    {
     "name": "stdout",
     "output_type": "stream",
     "text": [
      "Target class: 2.0\n",
      "Loss: 0.48\n",
      "Parameters: ('polynomial', 1.333521432163324, 4281.332398719387)\n",
      "18.0\n"
     ]
    },
    {
     "name": "stderr",
     "output_type": "stream",
     "text": [
      "\r",
      "  1%|          | 3/500 [00:00<00:54,  9.12it/s]"
     ]
    },
    {
     "name": "stdout",
     "output_type": "stream",
     "text": [
      "6.4\n"
     ]
    },
    {
     "name": "stderr",
     "output_type": "stream",
     "text": [
      "  2%|▏         | 11/500 [00:01<00:58,  8.36it/s]"
     ]
    },
    {
     "name": "stdout",
     "output_type": "stream",
     "text": [
      "5.88\n"
     ]
    },
    {
     "name": "stderr",
     "output_type": "stream",
     "text": [
      "  4%|▍         | 19/500 [00:02<01:03,  7.53it/s]"
     ]
    },
    {
     "name": "stdout",
     "output_type": "stream",
     "text": [
      "4.44\n",
      "2.88\n"
     ]
    },
    {
     "name": "stderr",
     "output_type": "stream",
     "text": [
      "  8%|▊         | 40/500 [00:04<00:58,  7.80it/s]"
     ]
    },
    {
     "name": "stdout",
     "output_type": "stream",
     "text": [
      "2.44\n",
      "2.28\n"
     ]
    },
    {
     "name": "stderr",
     "output_type": "stream",
     "text": [
      " 12%|█▏        | 58/500 [00:06<00:43, 10.09it/s]"
     ]
    },
    {
     "name": "stdout",
     "output_type": "stream",
     "text": [
      "2.08\n"
     ]
    },
    {
     "name": "stderr",
     "output_type": "stream",
     "text": [
      " 16%|█▌        | 81/500 [00:09<00:41, 10.14it/s]"
     ]
    },
    {
     "name": "stdout",
     "output_type": "stream",
     "text": [
      "0.76\n"
     ]
    },
    {
     "name": "stderr",
     "output_type": "stream",
     "text": [
      " 24%|██▍       | 120/500 [00:13<00:37, 10.23it/s]"
     ]
    },
    {
     "name": "stdout",
     "output_type": "stream",
     "text": [
      "0.68\n",
      "0.4\n"
     ]
    },
    {
     "name": "stderr",
     "output_type": "stream",
     "text": [
      " 28%|██▊       | 141/500 [00:15<00:34, 10.43it/s]"
     ]
    },
    {
     "name": "stdout",
     "output_type": "stream",
     "text": [
      "0.28\n"
     ]
    },
    {
     "name": "stderr",
     "output_type": "stream",
     "text": [
      " 32%|███▏      | 161/500 [00:17<00:32, 10.56it/s]"
     ]
    },
    {
     "name": "stdout",
     "output_type": "stream",
     "text": [
      "0.24\n"
     ]
    },
    {
     "name": "stderr",
     "output_type": "stream",
     "text": [
      " 36%|███▌      | 180/500 [00:19<00:31, 10.21it/s]"
     ]
    },
    {
     "name": "stdout",
     "output_type": "stream",
     "text": [
      "0.2\n"
     ]
    },
    {
     "name": "stderr",
     "output_type": "stream",
     "text": [
      " 40%|████      | 202/500 [00:21<00:27, 10.70it/s]"
     ]
    },
    {
     "name": "stdout",
     "output_type": "stream",
     "text": [
      "0.16\n"
     ]
    },
    {
     "name": "stderr",
     "output_type": "stream",
     "text": [
      "100%|██████████| 500/500 [00:55<00:00,  8.93it/s]\n"
     ]
    },
    {
     "name": "stdout",
     "output_type": "stream",
     "text": [
      "Target class: 3.0\n",
      "Loss: 0.16\n",
      "Parameters: ('polynomial', 0.1333521432163324, 10000.0)\n",
      "accuracy: [0.8888888888888888, 0.9333333333333333, 0.8888888888888888]\n"
     ]
    }
   ],
   "source": [
    "# polynomial kernel\n",
    "# soft margin\n",
    "accuracy = []\n",
    "for target in np.unique(Y):\n",
    "    # relabel class data into 1 and -1\n",
    "    # target is 1, rest -1\n",
    "    y_tr_r = deepcopy(y_tr)\n",
    "    y_tr_r[np.where(y_tr_r != target)] = -1\n",
    "    y_tr_r[y_tr_r == target] = 1\n",
    "    y_te_r = deepcopy(y_te)\n",
    "    y_te_r[np.where(y_te_r != target)] = -1\n",
    "    y_te_r[y_te_r == target] = 1\n",
    "    \n",
    "    # SVM with hard-margin\n",
    "    params = { 'kernel': ['polynomial'], 'kernelparameter': np.logspace(-2,1,25), 'regularization': np.logspace(-3,4,20) }\n",
    "    cvsvm = cv(X_tr, y_tr_r, imp.svm_qp, params, loss_function=zero_one_loss, nfolds=5)\n",
    "    print('Target class: {}'.format(target))\n",
    "    print('Loss: {}'.format(cvsvm.cvloss))\n",
    "    print('Parameters: {}'.format(cvsvm.__params))\n",
    "    accuracy.append(np.sum(np.sign(cvsvm.predict(X_te)) == y_te_r) / len(y_te_r))\n",
    "print('accuracy: {}'.format(accuracy))"
   ]
  },
  {
   "cell_type": "code",
   "execution_count": 119,
   "metadata": {},
   "outputs": [],
   "source": [
    "class TestSheet4():\n",
    "    def test_svm_qp(self):\n",
    "        C = imp.svm_qp(kernel='linear', C=1.)\n",
    "        np.random.seed(1)\n",
    "        X_tr = np.hstack((np.random.normal(size=[2, 30]), np.random.normal(size=[2, 30]) + np.array([2., 2.])[:, np.newaxis])).T\n",
    "        Y_tr = np.array([1] * 30 + [-1] * 30)\n",
    "        X_te = np.hstack((np.random.normal(size=[2, 30]), np.random.normal(size=[2, 30]) + np.array([2., 2.])[:, np.newaxis])).T\n",
    "        Y_te = np.array([1] * 30 + [-1] * 30)\n",
    "        C.fit(X_tr, Y_tr)\n",
    "        Y_pred = C.predict(X_te)\n",
    "        loss = float(np.sum(np.sign(Y_te) != np.sign(Y_pred)))/float(len(Y_te))\n",
    "        imp.plot_boundary_2d(X_tr, Y_tr, C)\n",
    "        print('test case loss', loss)\n",
    "        #self.assertTrue(loss < 0.25, msg='svm_qp: Error. The loss is %.2f and should be below 0.25' % loss)\n",
    "\n",
    "        \n",
    "    def test_plot_boundary_2d(self):\n",
    "        C = imp.svm_sklearn(kernel='gaussian', C=1.)\n",
    "        np.random.seed(1)\n",
    "        X_tr = np.hstack((np.random.normal(size=[2, 30]), np.random.normal(size=[2, 30]) + np.array([2., 2.])[:, np.newaxis])).T\n",
    "        Y_tr = np.array([1] * 30 + [-1] * 30)\n",
    "        C.fit(X_tr, Y_tr)\n",
    "        imp.plot_boundary_2d(X_tr, Y_tr, C)\n"
   ]
  },
  {
   "cell_type": "code",
   "execution_count": 120,
   "metadata": {},
   "outputs": [],
   "source": [
    "test = TestSheet4()"
   ]
  },
  {
   "cell_type": "code",
   "execution_count": 122,
   "metadata": {},
   "outputs": [
    {
     "data": {
      "image/png": "[encoded data removed]",
      "text/plain": [
       "<Figure size 432x288 with 1 Axes>"
      ]
     },
     "metadata": {
      "needs_background": "light"
     },
     "output_type": "display_data"
    },
    {
     "name": "stdout",
     "output_type": "stream",
     "text": [
      "test case loss 0.11666666666666667\n"
     ]
    }
   ],
   "source": [
    "test.test_svm_qp()"
   ]
  },
  {
   "cell_type": "code",
   "execution_count": 124,
   "metadata": {},
   "outputs": [
    {
     "data": {
      "image/png": "[encoded data removed]",
      "text/plain": [
       "<Figure size 432x288 with 1 Axes>"
      ]
     },
     "metadata": {
      "needs_background": "light"
     },
     "output_type": "display_data"
    }
   ],
   "source": [
    "test.test_plot_boundary_2d()"
   ]
  },
  {
   "cell_type": "code",
   "execution_count": 229,
   "metadata": {},
   "outputs": [],
   "source": [
    "class PCA():\n",
    "    \"\"\"\n",
    "        Definition of PCA Class\n",
    "        Algorithms in guide.pdf used, pg 15-17\n",
    "    \"\"\"\n",
    "\n",
    "    def __init__(self, Xtrain):\n",
    "        \"\"\"\n",
    "            Compute Principal Components\n",
    "        \"\"\"\n",
    "        # 1. centre data\n",
    "        self.Xmean = np.mean(Xtrain, axis=0)\n",
    "        self.C = Xtrain - self.Xmean\n",
    "        # 2. generate covariance marix\n",
    "        self.C = np.cov(self.C, rowvar=False)\n",
    "        # 3. calculate eigenvalues and eigenvectors\n",
    "        self.D, self.U = np.linalg.eigh(self.C)\n",
    "\n",
    "        self.idx = np.argsort(self.D)[::-1]\n",
    "        # Sort the eigenvalue from high to low\n",
    "        self.D = self.D[self.idx]\n",
    "        # sort eigenvectors according to same index\n",
    "        self.U = self.U[:, self.idx]\n",
    "\n",
    "    def project(self, Xtest, m):\n",
    "        \"\"\"\n",
    "            Projecting to the low-dimensional sub-space\n",
    "        \"\"\"\n",
    "        # 1. centre data by mean of training\n",
    "        Xtest = Xtest - self.Xmean\n",
    "        # 2. project data to m principal components\n",
    "        Z = self.U.T[range(m)].dot(Xtest.T).T\n",
    "        return Z\n",
    "\n",
    "    def denoise(self, Xtest, m):\n",
    "        \"\"\"\n",
    "            Reconstructing projected data points in the original space\n",
    "        \"\"\"\n",
    "        # 1. projection to the low-dimencsional sub-space\n",
    "        Z = self.project(Xtest, m)\n",
    "        # 2. recontruction by m dimensions\n",
    "        Y = Z.dot(self.U.T[range(m)]) + self.Xmean\n",
    "        return Y\n",
    "\n"
   ]
  },
  {
   "cell_type": "code",
   "execution_count": 238,
   "metadata": {},
   "outputs": [],
   "source": [
    "def plot_fun(pca):\n",
    "    \"\"\"\n",
    "    Plot function for Assignment 5\n",
    "    Arranges the prinicple components plots\n",
    "    \"\"\"\n",
    "    # intialize figure environment\n",
    "    fig = plt.figure(figsize=(14, 8))\n",
    "    gs = fig.add_gridspec(5, 3)\n",
    "\n",
    "    # first plot: all principle components\n",
    "    f_ax1 = fig.add_subplot(gs[:, 0])\n",
    "    plt.bar(range(len(pca.D)), pca.D)\n",
    "    plt.xticks(range(0, len(pca.D), 50), np.append(1, np.arange(50, len(pca.D), 50)))\n",
    "    plt.title('all principle components')\n",
    "\n",
    "    plt.show()\n"
   ]
  },
  {
   "cell_type": "code",
   "execution_count": 239,
   "metadata": {},
   "outputs": [],
   "source": [
    "pca = PCA(X_tr)"
   ]
  },
  {
   "cell_type": "code",
   "execution_count": 240,
   "metadata": {},
   "outputs": [
    {
     "data": {
      "image/png": "[encoded data removed]",
      "text/plain": [
       "<Figure size 1008x576 with 1 Axes>"
      ]
     },
     "metadata": {
      "needs_background": "light"
     },
     "output_type": "display_data"
    }
   ],
   "source": [
    "plot_fun(pca)"
   ]
  },
  {
   "cell_type": "code",
   "execution_count": 283,
   "metadata": {},
   "outputs": [],
   "source": [
    "X_tr_test = pca.project(X_tr,2)\n",
    "X_te_test = pca.project(X_te,2)"
   ]
  },
  {
   "cell_type": "code",
   "execution_count": 284,
   "metadata": {},
   "outputs": [
    {
     "data": {
      "text/plain": [
       "Text(0, 0.5, 'x2')"
      ]
     },
     "execution_count": 284,
     "metadata": {},
     "output_type": "execute_result"
    },
    {
     "data": {
      "image/png": "[encoded data removed]",
      "text/plain": [
       "<Figure size 432x288 with 1 Axes>"
      ]
     },
     "metadata": {
      "needs_background": "light"
     },
     "output_type": "display_data"
    }
   ],
   "source": [
    "# Visualize data\n",
    "plt.scatter(X_tr_test[y_tr == 1,0], X_tr_test[y_tr == 1,1], marker = 'o', color = 'r', label = 'setosa')\n",
    "plt.scatter(X_tr_test[y_tr == 2,0], X_tr_test[y_tr == 2,1], marker = 'o', color = 'b',label = 'versicolor')\n",
    "plt.scatter(X_tr_test[y_tr == 3,0], X_tr_test[y_tr == 3,1], marker = 'o', color = 'g',label = 'virginica')\n",
    "plt.xlabel('x1')\n",
    "plt.ylabel('x2')"
   ]
  },
  {
   "cell_type": "code",
   "execution_count": 367,
   "metadata": {},
   "outputs": [
    {
     "name": "stderr",
     "output_type": "stream",
     "text": [
      "  2%|▏         | 3/200 [00:00<00:29,  6.75it/s]"
     ]
    },
    {
     "name": "stdout",
     "output_type": "stream",
     "text": [
      "6.2\n"
     ]
    },
    {
     "name": "stderr",
     "output_type": "stream",
     "text": [
      " 11%|█         | 22/200 [00:02<00:17, 10.41it/s]"
     ]
    },
    {
     "name": "stdout",
     "output_type": "stream",
     "text": [
      "5.8\n"
     ]
    },
    {
     "name": "stderr",
     "output_type": "stream",
     "text": [
      " 20%|██        | 40/200 [00:03<00:12, 13.09it/s]"
     ]
    },
    {
     "name": "stdout",
     "output_type": "stream",
     "text": [
      "5.64\n"
     ]
    },
    {
     "name": "stderr",
     "output_type": "stream",
     "text": [
      "100%|██████████| 200/200 [00:16<00:00, 12.04it/s]\n",
      "  0%|          | 0/200 [00:00<?, ?it/s]"
     ]
    },
    {
     "name": "stdout",
     "output_type": "stream",
     "text": [
      "Target class: 1.0\n",
      "Loss: 5.64\n",
      "Parameters: ('linear', 1, 11.74411780212962)\n"
     ]
    },
    {
     "name": "stderr",
     "output_type": "stream",
     "text": [
      "\r",
      "  0%|          | 1/200 [00:00<00:40,  4.91it/s]"
     ]
    },
    {
     "name": "stdout",
     "output_type": "stream",
     "text": [
      "6.4\n"
     ]
    },
    {
     "name": "stderr",
     "output_type": "stream",
     "text": [
      " 10%|█         | 21/200 [00:02<00:16, 10.64it/s]"
     ]
    },
    {
     "name": "stdout",
     "output_type": "stream",
     "text": [
      "6.28\n"
     ]
    },
    {
     "name": "stderr",
     "output_type": "stream",
     "text": [
      "\r",
      " 12%|█▏        | 23/200 [00:02<00:17, 10.00it/s]"
     ]
    },
    {
     "name": "stdout",
     "output_type": "stream",
     "text": [
      "6.24\n"
     ]
    },
    {
     "name": "stderr",
     "output_type": "stream",
     "text": [
      "100%|██████████| 200/200 [00:16<00:00, 11.76it/s]\n",
      "  0%|          | 1/200 [00:00<00:21,  9.05it/s]"
     ]
    },
    {
     "name": "stdout",
     "output_type": "stream",
     "text": [
      "Target class: 2.0\n",
      "Loss: 6.24\n",
      "Parameters: ('linear', 1, 3.8673042338887553)\n",
      "5.4\n"
     ]
    },
    {
     "name": "stderr",
     "output_type": "stream",
     "text": [
      "100%|██████████| 200/200 [00:14<00:00, 13.53it/s]"
     ]
    },
    {
     "name": "stdout",
     "output_type": "stream",
     "text": [
      "Target class: 3.0\n",
      "Loss: 5.4\n",
      "Parameters: ('linear', 1, 0.9)\n",
      "accuracy: [0.6888888888888889, 0.7111111111111111, 0.6]\n"
     ]
    },
    {
     "name": "stderr",
     "output_type": "stream",
     "text": [
      "\n"
     ]
    }
   ],
   "source": [
    "# linear kernel\n",
    "accuracy = []\n",
    "for target in np.unique(Y):\n",
    "    # relabel class data into 1 and -1\n",
    "    # target is 1, rest -1\n",
    "    y_tr_r = deepcopy(y_tr)\n",
    "    y_tr_r[np.where(y_tr_r != target)] = -1\n",
    "    y_tr_r[y_tr_r == target] = 1\n",
    "    y_te_r = deepcopy(y_te)\n",
    "    y_te_r[np.where(y_te_r != target)] = -1\n",
    "    y_te_r[y_te_r == target] = 1\n",
    "    \n",
    "    # SVM with hard-margin\n",
    "    params = { 'kernel': ['linear'], 'kernelparameter': [1], 'regularization': np.logspace(-2,4, 200)*len(y_tr_r) }\n",
    "    cvsvm = cv(X_tr_test, y_tr_r, imp.svm_qp, params, loss_function=zero_one_loss, nfolds=5)\n",
    "    print('Target class: {}'.format(target))\n",
    "    print('Loss: {}'.format(cvsvm.cvloss))\n",
    "    print('Parameters: {}'.format(cvsvm.__params))\n",
    "    accuracy.append(np.sum(np.sign(cvsvm.predict(X_te_test)) == y_te_r) / len(y_te_r))\n",
    "print('accuracy: {}'.format(accuracy))"
   ]
  },
  {
   "cell_type": "code",
   "execution_count": 413,
   "metadata": {
    "scrolled": true
   },
   "outputs": [
    {
     "name": "stderr",
     "output_type": "stream",
     "text": [
      "  1%|          | 3/250 [00:00<00:48,  5.12it/s]"
     ]
    },
    {
     "name": "stdout",
     "output_type": "stream",
     "text": [
      "5.8\n"
     ]
    },
    {
     "name": "stderr",
     "output_type": "stream",
     "text": [
      "  4%|▍         | 10/250 [00:01<00:41,  5.77it/s]"
     ]
    },
    {
     "name": "stdout",
     "output_type": "stream",
     "text": [
      "1.36\n",
      "0.0\n"
     ]
    },
    {
     "name": "stderr",
     "output_type": "stream",
     "text": [
      "100%|██████████| 250/250 [00:55<00:00,  4.50it/s]\n",
      "  1%|          | 2/250 [00:00<00:19, 12.78it/s]"
     ]
    },
    {
     "name": "stdout",
     "output_type": "stream",
     "text": [
      "Target class: 1.0\n",
      "Loss: 0.0\n",
      "Parameters: ('polynomial', 0.01, 10000.0)\n",
      "6.4\n"
     ]
    },
    {
     "name": "stderr",
     "output_type": "stream",
     "text": [
      " 47%|████▋     | 117/250 [00:13<00:14,  9.04it/s]"
     ]
    },
    {
     "name": "stdout",
     "output_type": "stream",
     "text": [
      "6.24\n"
     ]
    },
    {
     "name": "stderr",
     "output_type": "stream",
     "text": [
      " 52%|█████▏    | 129/250 [00:14<00:12,  9.81it/s]"
     ]
    },
    {
     "name": "stdout",
     "output_type": "stream",
     "text": [
      "5.56\n"
     ]
    },
    {
     "name": "stderr",
     "output_type": "stream",
     "text": [
      " 54%|█████▍    | 135/250 [00:15<00:12,  8.90it/s]"
     ]
    },
    {
     "name": "stdout",
     "output_type": "stream",
     "text": [
      "4.84\n",
      "4.6\n",
      "1.76\n"
     ]
    },
    {
     "name": "stderr",
     "output_type": "stream",
     "text": [
      " 55%|█████▌    | 138/250 [00:15<00:12,  9.10it/s]"
     ]
    },
    {
     "name": "stdout",
     "output_type": "stream",
     "text": [
      "0.68\n"
     ]
    },
    {
     "name": "stderr",
     "output_type": "stream",
     "text": [
      "100%|██████████| 250/250 [00:54<00:00,  4.57it/s]\n",
      "  1%|          | 2/250 [00:00<00:23, 10.60it/s]"
     ]
    },
    {
     "name": "stdout",
     "output_type": "stream",
     "text": [
      "Target class: 2.0\n",
      "Loss: 0.68\n",
      "Parameters: ('polynomial', 1.467799267622069, 100.0)\n",
      "5.8\n"
     ]
    },
    {
     "name": "stderr",
     "output_type": "stream",
     "text": [
      "  2%|▏         | 6/250 [00:00<00:24,  9.83it/s]"
     ]
    },
    {
     "name": "stdout",
     "output_type": "stream",
     "text": [
      "5.56\n"
     ]
    },
    {
     "name": "stderr",
     "output_type": "stream",
     "text": [
      "  5%|▍         | 12/250 [00:01<00:22, 10.47it/s]"
     ]
    },
    {
     "name": "stdout",
     "output_type": "stream",
     "text": [
      "2.84\n"
     ]
    },
    {
     "name": "stderr",
     "output_type": "stream",
     "text": [
      "  8%|▊         | 21/250 [00:02<00:22, 10.39it/s]"
     ]
    },
    {
     "name": "stdout",
     "output_type": "stream",
     "text": [
      "1.76\n"
     ]
    },
    {
     "name": "stderr",
     "output_type": "stream",
     "text": [
      " 16%|█▋        | 41/250 [00:03<00:19, 10.49it/s]"
     ]
    },
    {
     "name": "stdout",
     "output_type": "stream",
     "text": [
      "0.76\n"
     ]
    },
    {
     "name": "stderr",
     "output_type": "stream",
     "text": [
      " 20%|██        | 51/250 [00:04<00:19, 10.40it/s]"
     ]
    },
    {
     "name": "stdout",
     "output_type": "stream",
     "text": [
      "0.4\n"
     ]
    },
    {
     "name": "stderr",
     "output_type": "stream",
     "text": [
      " 24%|██▍       | 61/250 [00:05<00:18, 10.43it/s]"
     ]
    },
    {
     "name": "stdout",
     "output_type": "stream",
     "text": [
      "0.32\n"
     ]
    },
    {
     "name": "stderr",
     "output_type": "stream",
     "text": [
      "100%|██████████| 250/250 [00:47<00:00,  5.24it/s]"
     ]
    },
    {
     "name": "stdout",
     "output_type": "stream",
     "text": [
      "Target class: 3.0\n",
      "Loss: 0.32\n",
      "Parameters: ('polynomial', 0.06812920690579612, 10000.0)\n",
      "accuracy: [1.0, 0.5777777777777777, 0.9777777777777777]\n"
     ]
    },
    {
     "name": "stderr",
     "output_type": "stream",
     "text": [
      "\n"
     ]
    }
   ],
   "source": [
    "# polynomial kernel\n",
    "accuracy = []\n",
    "for target in np.unique(Y):\n",
    "    # relabel class data into 1 and -1\n",
    "    # target is 1, rest -1\n",
    "    y_tr_r = deepcopy(y_tr)\n",
    "    y_tr_r[np.where(y_tr_r != target)] = -1\n",
    "    y_tr_r[y_tr_r == target] = 1\n",
    "    y_te_r = deepcopy(y_te)\n",
    "    y_te_r[np.where(y_te_r != target)] = -1\n",
    "    y_te_r[y_te_r == target] = 1\n",
    "    \n",
    "    # SVM with hard-margin\n",
    "    params = { 'kernel': ['polynomial'], 'kernelparameter': np.logspace(-2,2, 25), 'regularization': np.logspace(-2,4,10) }\n",
    "    cvsvm = cv(X_tr, y_tr_r, imp.svm_qp, params, loss_function=zero_one_loss, nfolds=5)\n",
    "    print('Target class: {}'.format(target))\n",
    "    print('Loss: {}'.format(cvsvm.cvloss))\n",
    "    print('Parameters: {}'.format(cvsvm.__params))\n",
    "    accuracy.append(np.sum(np.sign(cvsvm.predict(X_te)) == y_te_r) / len(y_te_r))\n",
    "print('accuracy: {}'.format(accuracy))"
   ]
  },
  {
   "cell_type": "code",
   "execution_count": 411,
   "metadata": {},
   "outputs": [
    {
     "name": "stderr",
     "output_type": "stream",
     "text": [
      "  0%|          | 2/500 [00:00<01:22,  6.07it/s]"
     ]
    },
    {
     "name": "stdout",
     "output_type": "stream",
     "text": [
      "5.8\n"
     ]
    },
    {
     "name": "stderr",
     "output_type": "stream",
     "text": [
      " 18%|█▊        | 89/500 [00:09<00:40, 10.14it/s]"
     ]
    },
    {
     "name": "stdout",
     "output_type": "stream",
     "text": [
      "5.52\n",
      "5.12\n",
      "3.84\n"
     ]
    },
    {
     "name": "stderr",
     "output_type": "stream",
     "text": [
      " 19%|█▉        | 94/500 [00:10<00:45,  8.95it/s]"
     ]
    },
    {
     "name": "stdout",
     "output_type": "stream",
     "text": [
      "3.6\n"
     ]
    },
    {
     "name": "stderr",
     "output_type": "stream",
     "text": [
      " 19%|█▉        | 97/500 [00:10<01:08,  5.85it/s]"
     ]
    },
    {
     "name": "stdout",
     "output_type": "stream",
     "text": [
      "3.48\n"
     ]
    },
    {
     "name": "stderr",
     "output_type": "stream",
     "text": [
      " 22%|██▏       | 110/500 [00:12<00:41,  9.30it/s]"
     ]
    },
    {
     "name": "stdout",
     "output_type": "stream",
     "text": [
      "2.64\n",
      "2.24\n"
     ]
    },
    {
     "name": "stderr",
     "output_type": "stream",
     "text": [
      " 22%|██▏       | 112/500 [00:12<00:48,  7.97it/s]"
     ]
    },
    {
     "name": "stdout",
     "output_type": "stream",
     "text": [
      "2.16\n",
      "2.04\n"
     ]
    },
    {
     "name": "stderr",
     "output_type": "stream",
     "text": [
      " 26%|██▌       | 130/500 [00:15<00:37,  9.83it/s]"
     ]
    },
    {
     "name": "stdout",
     "output_type": "stream",
     "text": [
      "0.8\n",
      "0.44\n",
      "0.32\n"
     ]
    },
    {
     "name": "stderr",
     "output_type": "stream",
     "text": [
      " 30%|███       | 150/500 [00:17<00:36,  9.60it/s]"
     ]
    },
    {
     "name": "stdout",
     "output_type": "stream",
     "text": [
      "0.0\n"
     ]
    },
    {
     "name": "stderr",
     "output_type": "stream",
     "text": [
      "100%|██████████| 500/500 [01:11<00:00,  7.01it/s]\n",
      "  0%|          | 1/500 [00:00<00:56,  8.77it/s]"
     ]
    },
    {
     "name": "stdout",
     "output_type": "stream",
     "text": [
      "Target class: 1.0\n",
      "Loss: 0.0\n",
      "Parameters: ('gaussian', 0.5623413251903491, 34.134211716590244)\n",
      "6.4\n"
     ]
    },
    {
     "name": "stderr",
     "output_type": "stream",
     "text": [
      " 18%|█▊        | 90/500 [00:09<00:39, 10.36it/s]"
     ]
    },
    {
     "name": "stdout",
     "output_type": "stream",
     "text": [
      "6.28\n",
      "5.44\n"
     ]
    },
    {
     "name": "stderr",
     "output_type": "stream",
     "text": [
      " 20%|█▉        | 98/500 [00:10<00:57,  6.98it/s]"
     ]
    },
    {
     "name": "stdout",
     "output_type": "stream",
     "text": [
      "5.32\n"
     ]
    },
    {
     "name": "stderr",
     "output_type": "stream",
     "text": [
      " 22%|██▏       | 109/500 [00:11<00:40,  9.61it/s]"
     ]
    },
    {
     "name": "stdout",
     "output_type": "stream",
     "text": [
      "3.0\n",
      "2.76\n",
      "2.12\n"
     ]
    },
    {
     "name": "stderr",
     "output_type": "stream",
     "text": [
      " 22%|██▏       | 112/500 [00:12<00:42,  9.21it/s]"
     ]
    },
    {
     "name": "stdout",
     "output_type": "stream",
     "text": [
      "1.96\n"
     ]
    },
    {
     "name": "stderr",
     "output_type": "stream",
     "text": [
      " 23%|██▎       | 115/500 [00:12<00:48,  7.89it/s]"
     ]
    },
    {
     "name": "stdout",
     "output_type": "stream",
     "text": [
      "1.92\n"
     ]
    },
    {
     "name": "stderr",
     "output_type": "stream",
     "text": [
      " 24%|██▍       | 120/500 [00:13<01:02,  6.06it/s]"
     ]
    },
    {
     "name": "stdout",
     "output_type": "stream",
     "text": [
      "1.84\n"
     ]
    },
    {
     "name": "stderr",
     "output_type": "stream",
     "text": [
      " 26%|██▌       | 129/500 [00:14<00:41,  8.87it/s]"
     ]
    },
    {
     "name": "stdout",
     "output_type": "stream",
     "text": [
      "1.04\n",
      "0.92\n"
     ]
    },
    {
     "name": "stderr",
     "output_type": "stream",
     "text": [
      " 26%|██▋       | 132/500 [00:14<00:42,  8.72it/s]"
     ]
    },
    {
     "name": "stdout",
     "output_type": "stream",
     "text": [
      "0.72\n"
     ]
    },
    {
     "name": "stderr",
     "output_type": "stream",
     "text": [
      " 27%|██▋       | 134/500 [00:15<00:48,  7.58it/s]"
     ]
    },
    {
     "name": "stdout",
     "output_type": "stream",
     "text": [
      "0.6\n"
     ]
    },
    {
     "name": "stderr",
     "output_type": "stream",
     "text": [
      " 43%|████▎     | 214/500 [00:24<00:31,  9.15it/s]"
     ]
    },
    {
     "name": "stdout",
     "output_type": "stream",
     "text": [
      "0.48\n"
     ]
    },
    {
     "name": "stderr",
     "output_type": "stream",
     "text": [
      "100%|██████████| 500/500 [00:54<00:00,  9.26it/s]\n",
      "  0%|          | 1/500 [00:00<00:49, 10.00it/s]"
     ]
    },
    {
     "name": "stdout",
     "output_type": "stream",
     "text": [
      "Target class: 2.0\n",
      "Loss: 0.48\n",
      "Parameters: ('gaussian', 3.1622776601683795, 2372.98580885732)\n",
      "5.8\n"
     ]
    },
    {
     "name": "stderr",
     "output_type": "stream",
     "text": [
      " 18%|█▊        | 92/500 [00:08<00:37, 10.80it/s]"
     ]
    },
    {
     "name": "stdout",
     "output_type": "stream",
     "text": [
      "5.16\n"
     ]
    },
    {
     "name": "stderr",
     "output_type": "stream",
     "text": [
      " 19%|█▉        | 97/500 [00:09<00:48,  8.27it/s]"
     ]
    },
    {
     "name": "stdout",
     "output_type": "stream",
     "text": [
      "5.08\n"
     ]
    },
    {
     "name": "stderr",
     "output_type": "stream",
     "text": [
      " 22%|██▏       | 109/500 [00:10<00:39, 10.01it/s]"
     ]
    },
    {
     "name": "stdout",
     "output_type": "stream",
     "text": [
      "4.64\n",
      "4.12\n",
      "3.32\n"
     ]
    },
    {
     "name": "stderr",
     "output_type": "stream",
     "text": [
      " 23%|██▎       | 113/500 [00:11<00:38, 10.04it/s]"
     ]
    },
    {
     "name": "stdout",
     "output_type": "stream",
     "text": [
      "3.28\n",
      "3.0\n"
     ]
    },
    {
     "name": "stderr",
     "output_type": "stream",
     "text": [
      " 26%|██▌       | 130/500 [00:13<00:37,  9.93it/s]"
     ]
    },
    {
     "name": "stdout",
     "output_type": "stream",
     "text": [
      "1.56\n",
      "1.04\n"
     ]
    },
    {
     "name": "stderr",
     "output_type": "stream",
     "text": [
      " 30%|███       | 150/500 [00:15<00:35,  9.74it/s]"
     ]
    },
    {
     "name": "stdout",
     "output_type": "stream",
     "text": [
      "0.64\n"
     ]
    },
    {
     "name": "stderr",
     "output_type": "stream",
     "text": [
      " 34%|███▍      | 170/500 [00:17<00:34,  9.65it/s]"
     ]
    },
    {
     "name": "stdout",
     "output_type": "stream",
     "text": [
      "0.56\n"
     ]
    },
    {
     "name": "stderr",
     "output_type": "stream",
     "text": [
      " 47%|████▋     | 233/500 [00:24<00:25, 10.49it/s]"
     ]
    },
    {
     "name": "stdout",
     "output_type": "stream",
     "text": [
      "0.48\n"
     ]
    },
    {
     "name": "stderr",
     "output_type": "stream",
     "text": [
      " 51%|█████     | 255/500 [00:27<00:24, 10.07it/s]"
     ]
    },
    {
     "name": "stdout",
     "output_type": "stream",
     "text": [
      "0.4\n"
     ]
    },
    {
     "name": "stderr",
     "output_type": "stream",
     "text": [
      "100%|██████████| 500/500 [00:51<00:00,  9.65it/s]"
     ]
    },
    {
     "name": "stdout",
     "output_type": "stream",
     "text": [
      "Target class: 3.0\n",
      "Loss: 0.4\n",
      "Parameters: ('gaussian', 10.0, 5542.63389959423)\n",
      "accuracy: [1.0, 0.9777777777777777, 0.9777777777777777]\n"
     ]
    },
    {
     "name": "stderr",
     "output_type": "stream",
     "text": [
      "\n"
     ]
    }
   ],
   "source": [
    "# gaussian kernel\n",
    "accuracy = []\n",
    "for target in np.unique(Y):\n",
    "    # relabel class data into 1 and -1\n",
    "    # target is 1, rest -1\n",
    "    y_tr_r = deepcopy(y_tr)\n",
    "    y_tr_r[np.where(y_tr_r != target)] = -1\n",
    "    y_tr_r[y_tr_r == target] = 1\n",
    "    y_te_r = deepcopy(y_te)\n",
    "    y_te_r[np.where(y_te_r != target)] = -1\n",
    "    y_te_r[y_te_r == target] = 1\n",
    "    \n",
    "    # SVM with hard-margin\n",
    "    params = { 'kernel': ['gaussian'], 'kernelparameter': np.logspace(-2,4, 25), 'regularization': np.logspace(-3,4,20)*len(y_tr_r) }\n",
    "    cvsvm = cv(X_tr, y_tr_r, imp.svm_qp, params, loss_function=zero_one_loss, nfolds=5)\n",
    "    print('Target class: {}'.format(target))\n",
    "    print('Loss: {}'.format(cvsvm.cvloss))\n",
    "    print('Parameters: {}'.format(cvsvm.__params))\n",
    "    accuracy.append(np.sum(np.sign(cvsvm.predict(X_te)) == y_te_r) / len(y_te_r))\n",
    "print('accuracy: {}'.format(accuracy))"
   ]
  },
  {
   "cell_type": "code",
   "execution_count": null,
   "metadata": {},
   "outputs": [],
   "source": []
  }
 ],
 "metadata": {
  "kernelspec": {
   "display_name": "Python 3",
   "language": "python",
   "name": "python3"
  },
  "language_info": {
   "codemirror_mode": {
    "name": "ipython",
    "version": 3
   },
   "file_extension": ".py",
   "mimetype": "text/x-python",
   "name": "python",
   "nbconvert_exporter": "python",
   "pygments_lexer": "ipython3",
   "version": "3.7.7"
  }
 },
 "nbformat": 4,
 "nbformat_minor": 4
}
