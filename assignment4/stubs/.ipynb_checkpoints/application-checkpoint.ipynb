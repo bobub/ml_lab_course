{
 "cells": [
  {
   "cell_type": "code",
   "execution_count": 1,
   "metadata": {},
   "outputs": [],
   "source": [
    "import os\n",
    "import ps4_implementation as imp \n",
    "import numpy as np\n",
    "import itertools as it\n",
    "import time\n",
    "import pylab as pl\n",
    "import random\n",
    "import matplotlib.pyplot as plt\n",
    "from scipy.stats import lognorm\n",
    "from tqdm import tqdm\n",
    "import sklearn.svm"
   ]
  },
  {
   "cell_type": "code",
   "execution_count": 2,
   "metadata": {},
   "outputs": [],
   "source": [
    " def mean_absolute_error(y_true, y_pred):\n",
    "    ''' \n",
    "    your code here \n",
    "    '''\n",
    "    loss = np.mean(abs(y_pred-y_true))\n",
    "    #loss = np.sum(np.sum((y_pred-y_true)**2)**0.5, axis = 1) / len(y_pred)\n",
    "    return loss"
   ]
  },
  {
   "cell_type": "code",
   "execution_count": 3,
   "metadata": {},
   "outputs": [],
   "source": [
    "def cv(X, y, method, params, loss_function=mean_absolute_error, nfolds=10, nrepetitions=5):\n",
    "    ''' \n",
    "    your header here!\n",
    "    '''\n",
    "    # TODO progress bar, run time estimation\n",
    "    length, width = np.shape(X)\n",
    "    # model = method\n",
    "    method.cvloss = 1000000\n",
    "    params_combinations = list(it.product(params['kernel'], params['kernelparameter'], params['regularization']))\n",
    "    for parameter in tqdm(params_combinations):\n",
    "        #print(parameter[1])\n",
    "        model = method(parameter[0], parameter[1], parameter[2])\n",
    "        e = 0\n",
    "        for i in range(nrepetitions):\n",
    "            # Random Partitioning\n",
    "            X_pos = np.linspace(0,length-1, length)\n",
    "            random.shuffle(X_pos)\n",
    "            part = np.array_split(X_pos, nfolds)\n",
    "            for j in range(nfolds):\n",
    "                # Assign every part not j as training set\n",
    "                # Xtr indices\n",
    "                train = np.concatenate(np.array(part)[tuple([np.array(range(nfolds)) != j])].astype('int')) \n",
    "                X_j = X[train]\n",
    "                y_j = y[train]\n",
    "                model.fit(X_j, y_j)\n",
    "                y_pred = model.predict(X[part[j].astype('int')])\n",
    "                e = e + loss_function(y[part[j].astype('int')], y_pred)\n",
    "        e = e / (nfolds * nrepetitions)\n",
    "        print('Loss:' + str(e))\n",
    "        if e < method.cvloss:\n",
    "            #print(e)\n",
    "            method.cvloss = e\n",
    "            #print('Loss in if:' + str(model.cvloss))\n",
    "            method.__params = parameter\n",
    "    #print(method.params)\n",
    "    model = method(method.__params[0],method.__params[1],method.__params[2])\n",
    "    model.fit(X,y)\n",
    "    method = model\n",
    "    return method"
   ]
  },
  {
   "cell_type": "code",
   "execution_count": 4,
   "metadata": {},
   "outputs": [],
   "source": [
    "DATA_PATH = os.path.join(os.path.dirname(os.getcwd()),\"data/easy_2d.npz\")\n",
    "assert os.path.exists(DATA_PATH), \"The path does not excist.\""
   ]
  },
  {
   "cell_type": "code",
   "execution_count": 5,
   "metadata": {},
   "outputs": [
    {
     "name": "stdout",
     "output_type": "stream",
     "text": [
      "['Y_te', 'X_te', 'X_tr', 'Y_tr']\n"
     ]
    }
   ],
   "source": [
    "data = np.load(DATA_PATH)\n",
    "print(data.files)"
   ]
  },
  {
   "cell_type": "code",
   "execution_count": 6,
   "metadata": {},
   "outputs": [],
   "source": [
    "X_tr = data['X_tr'].T\n",
    "Y_tr = data['Y_tr'].T\n",
    "X_te = data['X_te'].T\n",
    "Y_te = data['Y_te'].T"
   ]
  },
  {
   "cell_type": "code",
   "execution_count": 55,
   "metadata": {},
   "outputs": [
    {
     "data": {
      "text/plain": [
       "<matplotlib.collections.PathCollection at 0x1a28e28590>"
      ]
     },
     "execution_count": 55,
     "metadata": {},
     "output_type": "execute_result"
    },
    {
     "data": {
      "image/png": "[encoded data removed]",
      "text/plain": [
       "<Figure size 432x288 with 1 Axes>"
      ]
     },
     "metadata": {
      "needs_background": "light"
     },
     "output_type": "display_data"
    }
   ],
   "source": [
    "# Visualize data\n",
    "plt.scatter(X_tr[Y_tr == -1,0], X_tr[Y_tr == -1,1], marker = 'x', color = 'r', label = 'Negative -1')\n",
    "plt.scatter(X_tr[Y_tr == 1,0], X_tr[Y_tr == 1,1], marker = 'o', color = 'b',label = 'Positive +1')\n",
    "#plt.scatter(X_te[Y_te == -1,0], X_te[Y_te == -1,1], marker = 'x', color = 'g', label = 'Negative -1')\n",
    "#plt.scatter(X_te[Y_te == 1,0], X_te[Y_te == 1,1], marker = 'o', color = 'g',label = 'Positive +1')"
   ]
  },
  {
   "cell_type": "code",
   "execution_count": 90,
   "metadata": {},
   "outputs": [
    {
     "name": "stderr",
     "output_type": "stream",
     "text": [
      "  0%|          | 2/500 [00:00<01:12,  6.86it/s]"
     ]
    },
    {
     "name": "stdout",
     "output_type": "stream",
     "text": [
      "Loss:1.1680000000000001\n",
      "Loss:1.1280000000000003\n"
     ]
    },
    {
     "name": "stderr",
     "output_type": "stream",
     "text": [
      "  1%|          | 4/500 [00:00<01:03,  7.85it/s]"
     ]
    },
    {
     "name": "stdout",
     "output_type": "stream",
     "text": [
      "Loss:nan\n",
      "Loss:nan\n"
     ]
    },
    {
     "name": "stderr",
     "output_type": "stream",
     "text": [
      "  1%|          | 6/500 [00:00<01:04,  7.63it/s]"
     ]
    },
    {
     "name": "stdout",
     "output_type": "stream",
     "text": [
      "Loss:nan\n",
      "Loss:1.112\n"
     ]
    },
    {
     "name": "stderr",
     "output_type": "stream",
     "text": [
      "  2%|▏         | 8/500 [00:01<01:03,  7.74it/s]"
     ]
    },
    {
     "name": "stdout",
     "output_type": "stream",
     "text": [
      "Loss:nan\n",
      "Loss:nan\n"
     ]
    },
    {
     "name": "stderr",
     "output_type": "stream",
     "text": [
      "  2%|▏         | 10/500 [00:01<01:13,  6.71it/s]"
     ]
    },
    {
     "name": "stdout",
     "output_type": "stream",
     "text": [
      "Loss:1.1920000000000004\n",
      "Loss:1.1600000000000001\n"
     ]
    },
    {
     "name": "stderr",
     "output_type": "stream",
     "text": [
      "  2%|▏         | 12/500 [00:01<01:12,  6.69it/s]"
     ]
    },
    {
     "name": "stdout",
     "output_type": "stream",
     "text": [
      "Loss:1.144\n",
      "Loss:1.176\n"
     ]
    },
    {
     "name": "stderr",
     "output_type": "stream",
     "text": [
      "  3%|▎         | 14/500 [00:01<01:10,  6.87it/s]"
     ]
    },
    {
     "name": "stdout",
     "output_type": "stream",
     "text": [
      "Loss:nan\n",
      "Loss:nan\n"
     ]
    },
    {
     "name": "stderr",
     "output_type": "stream",
     "text": [
      "  3%|▎         | 16/500 [00:02<01:07,  7.14it/s]"
     ]
    },
    {
     "name": "stdout",
     "output_type": "stream",
     "text": [
      "Loss:nan\n",
      "Loss:1.1040000000000003\n"
     ]
    },
    {
     "name": "stderr",
     "output_type": "stream",
     "text": [
      "  4%|▎         | 18/500 [00:02<01:04,  7.45it/s]"
     ]
    },
    {
     "name": "stdout",
     "output_type": "stream",
     "text": [
      "Loss:nan\n",
      "Loss:nan\n"
     ]
    },
    {
     "name": "stderr",
     "output_type": "stream",
     "text": [
      "  4%|▍         | 20/500 [00:02<01:03,  7.60it/s]"
     ]
    },
    {
     "name": "stdout",
     "output_type": "stream",
     "text": [
      "Loss:1.2080000000000002\n",
      "Loss:1.1680000000000001\n"
     ]
    },
    {
     "name": "stderr",
     "output_type": "stream",
     "text": [
      "  4%|▍         | 22/500 [00:02<01:04,  7.41it/s]"
     ]
    },
    {
     "name": "stdout",
     "output_type": "stream",
     "text": [
      "Loss:1.144\n",
      "Loss:1.1360000000000001\n"
     ]
    },
    {
     "name": "stderr",
     "output_type": "stream",
     "text": [
      "  5%|▍         | 24/500 [00:03<01:05,  7.30it/s]"
     ]
    },
    {
     "name": "stdout",
     "output_type": "stream",
     "text": [
      "Loss:nan\n",
      "Loss:nan\n"
     ]
    },
    {
     "name": "stderr",
     "output_type": "stream",
     "text": [
      "  5%|▌         | 26/500 [00:03<01:04,  7.33it/s]"
     ]
    },
    {
     "name": "stdout",
     "output_type": "stream",
     "text": [
      "Loss:nan\n",
      "Loss:1.176\n"
     ]
    },
    {
     "name": "stderr",
     "output_type": "stream",
     "text": [
      "  6%|▌         | 28/500 [00:03<01:00,  7.78it/s]"
     ]
    },
    {
     "name": "stdout",
     "output_type": "stream",
     "text": [
      "Loss:nan\n",
      "Loss:nan\n"
     ]
    },
    {
     "name": "stderr",
     "output_type": "stream",
     "text": [
      "  6%|▌         | 30/500 [00:04<01:00,  7.81it/s]"
     ]
    },
    {
     "name": "stdout",
     "output_type": "stream",
     "text": [
      "Loss:1.1680000000000001\n",
      "Loss:1.1920000000000002\n"
     ]
    },
    {
     "name": "stderr",
     "output_type": "stream",
     "text": [
      "  6%|▋         | 32/500 [00:04<01:04,  7.26it/s]"
     ]
    },
    {
     "name": "stdout",
     "output_type": "stream",
     "text": [
      "Loss:1.1360000000000001\n",
      "Loss:1.1840000000000002\n"
     ]
    },
    {
     "name": "stderr",
     "output_type": "stream",
     "text": [
      "  7%|▋         | 34/500 [00:04<01:02,  7.43it/s]"
     ]
    },
    {
     "name": "stdout",
     "output_type": "stream",
     "text": [
      "Loss:nan\n",
      "Loss:nan\n"
     ]
    },
    {
     "name": "stderr",
     "output_type": "stream",
     "text": [
      "  7%|▋         | 36/500 [00:04<01:01,  7.50it/s]"
     ]
    },
    {
     "name": "stdout",
     "output_type": "stream",
     "text": [
      "Loss:nan\n",
      "Loss:1.1840000000000002\n"
     ]
    },
    {
     "name": "stderr",
     "output_type": "stream",
     "text": [
      "  8%|▊         | 38/500 [00:05<01:02,  7.40it/s]"
     ]
    },
    {
     "name": "stdout",
     "output_type": "stream",
     "text": [
      "Loss:nan\n",
      "Loss:nan\n"
     ]
    },
    {
     "name": "stderr",
     "output_type": "stream",
     "text": [
      "  8%|▊         | 40/500 [00:05<01:00,  7.56it/s]"
     ]
    },
    {
     "name": "stdout",
     "output_type": "stream",
     "text": [
      "Loss:1.1600000000000001\n",
      "Loss:1.1600000000000001\n"
     ]
    },
    {
     "name": "stderr",
     "output_type": "stream",
     "text": [
      "  8%|▊         | 42/500 [00:05<01:00,  7.51it/s]"
     ]
    },
    {
     "name": "stdout",
     "output_type": "stream",
     "text": [
      "Loss:1.2160000000000004\n",
      "Loss:1.112\n"
     ]
    },
    {
     "name": "stderr",
     "output_type": "stream",
     "text": [
      "  9%|▉         | 44/500 [00:05<01:00,  7.54it/s]"
     ]
    },
    {
     "name": "stdout",
     "output_type": "stream",
     "text": [
      "Loss:nan\n",
      "Loss:nan\n"
     ]
    },
    {
     "name": "stderr",
     "output_type": "stream",
     "text": [
      "  9%|▉         | 46/500 [00:06<00:59,  7.59it/s]"
     ]
    },
    {
     "name": "stdout",
     "output_type": "stream",
     "text": [
      "Loss:nan\n",
      "Loss:1.168\n"
     ]
    },
    {
     "name": "stderr",
     "output_type": "stream",
     "text": [
      " 10%|▉         | 48/500 [00:06<01:04,  7.03it/s]"
     ]
    },
    {
     "name": "stdout",
     "output_type": "stream",
     "text": [
      "Loss:nan\n",
      "Loss:nan\n"
     ]
    },
    {
     "name": "stderr",
     "output_type": "stream",
     "text": [
      " 10%|█         | 51/500 [00:06<00:54,  8.25it/s]"
     ]
    },
    {
     "name": "stdout",
     "output_type": "stream",
     "text": [
      "Loss:1.1440000000000001\n",
      "Loss:1.2080000000000002\n",
      "Loss:1.112\n"
     ]
    },
    {
     "name": "stderr",
     "output_type": "stream",
     "text": [
      " 11%|█         | 53/500 [00:07<01:06,  6.75it/s]"
     ]
    },
    {
     "name": "stdout",
     "output_type": "stream",
     "text": [
      "Loss:1.1520000000000001\n",
      "Loss:nan\n"
     ]
    },
    {
     "name": "stderr",
     "output_type": "stream",
     "text": [
      " 11%|█         | 55/500 [00:07<01:00,  7.30it/s]"
     ]
    },
    {
     "name": "stdout",
     "output_type": "stream",
     "text": [
      "Loss:nan\n",
      "Loss:nan\n"
     ]
    },
    {
     "name": "stderr",
     "output_type": "stream",
     "text": [
      " 11%|█▏        | 57/500 [00:07<00:55,  7.97it/s]"
     ]
    },
    {
     "name": "stdout",
     "output_type": "stream",
     "text": [
      "Loss:1.192\n",
      "Loss:nan\n"
     ]
    },
    {
     "name": "stderr",
     "output_type": "stream",
     "text": [
      " 12%|█▏        | 59/500 [00:07<00:50,  8.65it/s]"
     ]
    },
    {
     "name": "stdout",
     "output_type": "stream",
     "text": [
      "Loss:nan\n",
      "Loss:1.1680000000000004\n"
     ]
    },
    {
     "name": "stderr",
     "output_type": "stream",
     "text": [
      " 12%|█▏        | 61/500 [00:08<00:52,  8.33it/s]"
     ]
    },
    {
     "name": "stdout",
     "output_type": "stream",
     "text": [
      "Loss:1.1520000000000001\n",
      "Loss:1.2000000000000002\n"
     ]
    },
    {
     "name": "stderr",
     "output_type": "stream",
     "text": [
      " 13%|█▎        | 63/500 [00:08<00:54,  8.02it/s]"
     ]
    },
    {
     "name": "stdout",
     "output_type": "stream",
     "text": [
      "Loss:1.1920000000000002\n",
      "Loss:nan\n"
     ]
    },
    {
     "name": "stderr",
     "output_type": "stream",
     "text": [
      " 13%|█▎        | 65/500 [00:08<00:55,  7.78it/s]"
     ]
    },
    {
     "name": "stdout",
     "output_type": "stream",
     "text": [
      "Loss:nan\n",
      "Loss:nan\n"
     ]
    },
    {
     "name": "stderr",
     "output_type": "stream",
     "text": [
      " 13%|█▎        | 67/500 [00:08<00:51,  8.33it/s]"
     ]
    },
    {
     "name": "stdout",
     "output_type": "stream",
     "text": [
      "Loss:1.112\n",
      "Loss:nan\n"
     ]
    },
    {
     "name": "stderr",
     "output_type": "stream",
     "text": [
      " 14%|█▍        | 69/500 [00:09<00:48,  8.82it/s]"
     ]
    },
    {
     "name": "stdout",
     "output_type": "stream",
     "text": [
      "Loss:nan\n",
      "Loss:1.2079999999999997\n"
     ]
    },
    {
     "name": "stderr",
     "output_type": "stream",
     "text": [
      " 14%|█▍        | 71/500 [00:09<00:52,  8.21it/s]"
     ]
    },
    {
     "name": "stdout",
     "output_type": "stream",
     "text": [
      "Loss:1.1360000000000001\n",
      "Loss:1.1520000000000001\n"
     ]
    },
    {
     "name": "stderr",
     "output_type": "stream",
     "text": [
      " 15%|█▍        | 73/500 [00:09<00:52,  8.08it/s]"
     ]
    },
    {
     "name": "stdout",
     "output_type": "stream",
     "text": [
      "Loss:1.1360000000000001\n",
      "Loss:nan\n"
     ]
    },
    {
     "name": "stderr",
     "output_type": "stream",
     "text": [
      " 15%|█▌        | 75/500 [00:09<00:51,  8.23it/s]"
     ]
    },
    {
     "name": "stdout",
     "output_type": "stream",
     "text": [
      "Loss:nan\n",
      "Loss:nan\n"
     ]
    },
    {
     "name": "stderr",
     "output_type": "stream",
     "text": [
      " 15%|█▌        | 77/500 [00:10<00:49,  8.53it/s]"
     ]
    },
    {
     "name": "stdout",
     "output_type": "stream",
     "text": [
      "Loss:1.1439999999999997\n",
      "Loss:nan\n"
     ]
    },
    {
     "name": "stderr",
     "output_type": "stream",
     "text": [
      " 16%|█▌        | 79/500 [00:10<00:46,  9.02it/s]"
     ]
    },
    {
     "name": "stdout",
     "output_type": "stream",
     "text": [
      "Loss:nan\n",
      "Loss:1.104\n"
     ]
    },
    {
     "name": "stderr",
     "output_type": "stream",
     "text": [
      " 16%|█▌        | 81/500 [00:10<00:51,  8.17it/s]"
     ]
    },
    {
     "name": "stdout",
     "output_type": "stream",
     "text": [
      "Loss:1.1040000000000003\n",
      "Loss:1.2\n"
     ]
    },
    {
     "name": "stderr",
     "output_type": "stream",
     "text": [
      " 17%|█▋        | 83/500 [00:10<00:51,  8.07it/s]"
     ]
    },
    {
     "name": "stdout",
     "output_type": "stream",
     "text": [
      "Loss:1.1520000000000001\n",
      "Loss:nan\n"
     ]
    },
    {
     "name": "stderr",
     "output_type": "stream",
     "text": [
      " 17%|█▋        | 85/500 [00:10<00:51,  8.13it/s]"
     ]
    },
    {
     "name": "stdout",
     "output_type": "stream",
     "text": [
      "Loss:nan\n",
      "Loss:nan\n"
     ]
    },
    {
     "name": "stderr",
     "output_type": "stream",
     "text": [
      " 17%|█▋        | 87/500 [00:11<00:49,  8.30it/s]"
     ]
    },
    {
     "name": "stdout",
     "output_type": "stream",
     "text": [
      "Loss:1.1520000000000001\n",
      "Loss:nan\n"
     ]
    },
    {
     "name": "stderr",
     "output_type": "stream",
     "text": [
      " 18%|█▊        | 89/500 [00:11<00:47,  8.70it/s]"
     ]
    },
    {
     "name": "stdout",
     "output_type": "stream",
     "text": [
      "Loss:nan\n",
      "Loss:1.144\n"
     ]
    },
    {
     "name": "stderr",
     "output_type": "stream",
     "text": [
      " 18%|█▊        | 91/500 [00:11<00:49,  8.34it/s]"
     ]
    },
    {
     "name": "stdout",
     "output_type": "stream",
     "text": [
      "Loss:1.1840000000000002\n",
      "Loss:1.216\n"
     ]
    },
    {
     "name": "stderr",
     "output_type": "stream",
     "text": [
      " 19%|█▊        | 93/500 [00:11<00:52,  7.76it/s]"
     ]
    },
    {
     "name": "stdout",
     "output_type": "stream",
     "text": [
      "Loss:1.2\n",
      "Loss:nan\n"
     ]
    },
    {
     "name": "stderr",
     "output_type": "stream",
     "text": [
      " 19%|█▉        | 95/500 [00:12<00:52,  7.74it/s]"
     ]
    },
    {
     "name": "stdout",
     "output_type": "stream",
     "text": [
      "Loss:nan\n",
      "Loss:nan\n"
     ]
    },
    {
     "name": "stderr",
     "output_type": "stream",
     "text": [
      " 19%|█▉        | 97/500 [00:12<00:49,  8.08it/s]"
     ]
    },
    {
     "name": "stdout",
     "output_type": "stream",
     "text": [
      "Loss:1.1440000000000003\n",
      "Loss:nan\n"
     ]
    },
    {
     "name": "stderr",
     "output_type": "stream",
     "text": [
      " 20%|█▉        | 99/500 [00:12<00:45,  8.81it/s]"
     ]
    },
    {
     "name": "stdout",
     "output_type": "stream",
     "text": [
      "Loss:nan\n",
      "Loss:1.1920000000000002\n"
     ]
    },
    {
     "name": "stderr",
     "output_type": "stream",
     "text": [
      " 20%|██        | 101/500 [00:12<00:48,  8.20it/s]"
     ]
    },
    {
     "name": "stdout",
     "output_type": "stream",
     "text": [
      "Loss:1.1520000000000001\n",
      "Loss:1.1680000000000001\n"
     ]
    },
    {
     "name": "stderr",
     "output_type": "stream",
     "text": [
      " 21%|██        | 103/500 [00:13<00:49,  8.05it/s]"
     ]
    },
    {
     "name": "stdout",
     "output_type": "stream",
     "text": [
      "Loss:1.192\n",
      "Loss:nan\n"
     ]
    },
    {
     "name": "stderr",
     "output_type": "stream",
     "text": [
      " 21%|██        | 105/500 [00:13<00:48,  8.08it/s]"
     ]
    },
    {
     "name": "stdout",
     "output_type": "stream",
     "text": [
      "Loss:nan\n",
      "Loss:nan\n"
     ]
    },
    {
     "name": "stderr",
     "output_type": "stream",
     "text": [
      " 21%|██▏       | 107/500 [00:13<00:46,  8.38it/s]"
     ]
    },
    {
     "name": "stdout",
     "output_type": "stream",
     "text": [
      "Loss:1.184\n",
      "Loss:nan\n"
     ]
    },
    {
     "name": "stderr",
     "output_type": "stream",
     "text": [
      " 22%|██▏       | 109/500 [00:13<00:46,  8.48it/s]"
     ]
    },
    {
     "name": "stdout",
     "output_type": "stream",
     "text": [
      "Loss:nan\n",
      "Loss:1.1600000000000001\n"
     ]
    },
    {
     "name": "stderr",
     "output_type": "stream",
     "text": [
      " 22%|██▏       | 111/500 [00:14<00:46,  8.30it/s]"
     ]
    },
    {
     "name": "stdout",
     "output_type": "stream",
     "text": [
      "Loss:1.184\n",
      "Loss:1.1920000000000004\n"
     ]
    },
    {
     "name": "stderr",
     "output_type": "stream",
     "text": [
      " 23%|██▎       | 113/500 [00:14<00:47,  8.06it/s]"
     ]
    },
    {
     "name": "stdout",
     "output_type": "stream",
     "text": [
      "Loss:1.1680000000000001\n",
      "Loss:nan\n"
     ]
    },
    {
     "name": "stderr",
     "output_type": "stream",
     "text": [
      " 23%|██▎       | 115/500 [00:14<00:47,  8.17it/s]"
     ]
    },
    {
     "name": "stdout",
     "output_type": "stream",
     "text": [
      "Loss:nan\n",
      "Loss:nan\n"
     ]
    },
    {
     "name": "stderr",
     "output_type": "stream",
     "text": [
      " 23%|██▎       | 117/500 [00:14<00:45,  8.47it/s]"
     ]
    },
    {
     "name": "stdout",
     "output_type": "stream",
     "text": [
      "Loss:1.2079999999999997\n",
      "Loss:nan\n"
     ]
    },
    {
     "name": "stderr",
     "output_type": "stream",
     "text": [
      " 24%|██▍       | 119/500 [00:15<00:44,  8.48it/s]"
     ]
    },
    {
     "name": "stdout",
     "output_type": "stream",
     "text": [
      "Loss:nan\n",
      "Loss:1.1280000000000001\n"
     ]
    },
    {
     "name": "stderr",
     "output_type": "stream",
     "text": [
      " 24%|██▍       | 121/500 [00:15<00:46,  8.22it/s]"
     ]
    },
    {
     "name": "stdout",
     "output_type": "stream",
     "text": [
      "Loss:1.176\n",
      "Loss:1.128\n"
     ]
    },
    {
     "name": "stderr",
     "output_type": "stream",
     "text": [
      " 25%|██▍       | 123/500 [00:15<00:48,  7.75it/s]"
     ]
    },
    {
     "name": "stdout",
     "output_type": "stream",
     "text": [
      "Loss:1.104\n",
      "Loss:nan\n"
     ]
    },
    {
     "name": "stderr",
     "output_type": "stream",
     "text": [
      " 25%|██▌       | 125/500 [00:15<00:47,  7.84it/s]"
     ]
    },
    {
     "name": "stdout",
     "output_type": "stream",
     "text": [
      "Loss:nan\n",
      "Loss:nan\n"
     ]
    },
    {
     "name": "stderr",
     "output_type": "stream",
     "text": [
      " 25%|██▌       | 127/500 [00:16<00:45,  8.26it/s]"
     ]
    },
    {
     "name": "stdout",
     "output_type": "stream",
     "text": [
      "Loss:1.1440000000000001\n",
      "Loss:nan\n"
     ]
    },
    {
     "name": "stderr",
     "output_type": "stream",
     "text": [
      " 26%|██▌       | 129/500 [00:16<00:41,  8.97it/s]"
     ]
    },
    {
     "name": "stdout",
     "output_type": "stream",
     "text": [
      "Loss:nan\n",
      "Loss:1.1680000000000001\n"
     ]
    },
    {
     "name": "stderr",
     "output_type": "stream",
     "text": [
      " 26%|██▌       | 131/500 [00:16<00:43,  8.50it/s]"
     ]
    },
    {
     "name": "stdout",
     "output_type": "stream",
     "text": [
      "Loss:1.2000000000000002\n",
      "Loss:1.1360000000000001\n"
     ]
    },
    {
     "name": "stderr",
     "output_type": "stream",
     "text": [
      " 27%|██▋       | 133/500 [00:16<00:44,  8.21it/s]"
     ]
    },
    {
     "name": "stdout",
     "output_type": "stream",
     "text": [
      "Loss:1.1440000000000001\n",
      "Loss:nan\n"
     ]
    },
    {
     "name": "stderr",
     "output_type": "stream",
     "text": [
      " 27%|██▋       | 135/500 [00:17<00:43,  8.36it/s]"
     ]
    },
    {
     "name": "stdout",
     "output_type": "stream",
     "text": [
      "Loss:nan\n",
      "Loss:nan\n"
     ]
    },
    {
     "name": "stderr",
     "output_type": "stream",
     "text": [
      " 27%|██▋       | 137/500 [00:17<00:43,  8.42it/s]"
     ]
    },
    {
     "name": "stdout",
     "output_type": "stream",
     "text": [
      "Loss:1.1520000000000001\n",
      "Loss:nan\n"
     ]
    },
    {
     "name": "stderr",
     "output_type": "stream",
     "text": [
      " 28%|██▊       | 139/500 [00:17<00:44,  8.10it/s]"
     ]
    },
    {
     "name": "stdout",
     "output_type": "stream",
     "text": [
      "Loss:nan\n",
      "Loss:1.1280000000000003\n"
     ]
    },
    {
     "name": "stderr",
     "output_type": "stream",
     "text": [
      " 28%|██▊       | 141/500 [00:17<00:53,  6.65it/s]"
     ]
    },
    {
     "name": "stdout",
     "output_type": "stream",
     "text": [
      "Loss:1.12\n",
      "Loss:1.1760000000000002\n"
     ]
    },
    {
     "name": "stderr",
     "output_type": "stream",
     "text": [
      "\r",
      " 28%|██▊       | 142/500 [00:18<00:58,  6.08it/s]"
     ]
    },
    {
     "name": "stdout",
     "output_type": "stream",
     "text": [
      "Loss:1.064\n"
     ]
    },
    {
     "name": "stderr",
     "output_type": "stream",
     "text": [
      "\r",
      " 29%|██▊       | 143/500 [00:18<01:04,  5.49it/s]"
     ]
    },
    {
     "name": "stdout",
     "output_type": "stream",
     "text": [
      "Loss:nan\n"
     ]
    },
    {
     "name": "stderr",
     "output_type": "stream",
     "text": [
      "\r",
      " 29%|██▉       | 144/500 [00:18<01:08,  5.20it/s]"
     ]
    },
    {
     "name": "stdout",
     "output_type": "stream",
     "text": [
      "Loss:nan\n"
     ]
    },
    {
     "name": "stderr",
     "output_type": "stream",
     "text": [
      "\r",
      " 29%|██▉       | 145/500 [00:18<01:14,  4.78it/s]"
     ]
    },
    {
     "name": "stdout",
     "output_type": "stream",
     "text": [
      "Loss:nan\n"
     ]
    },
    {
     "name": "stderr",
     "output_type": "stream",
     "text": [
      "\r",
      " 29%|██▉       | 146/500 [00:19<01:22,  4.31it/s]"
     ]
    },
    {
     "name": "stdout",
     "output_type": "stream",
     "text": [
      "Loss:1.2\n"
     ]
    },
    {
     "name": "stderr",
     "output_type": "stream",
     "text": [
      "\r",
      " 29%|██▉       | 147/500 [00:19<01:20,  4.36it/s]"
     ]
    },
    {
     "name": "stdout",
     "output_type": "stream",
     "text": [
      "Loss:nan\n"
     ]
    },
    {
     "name": "stderr",
     "output_type": "stream",
     "text": [
      "\r",
      " 30%|██▉       | 148/500 [00:19<01:18,  4.50it/s]"
     ]
    },
    {
     "name": "stdout",
     "output_type": "stream",
     "text": [
      "Loss:nan\n",
      "Loss:1.1280000000000001\n"
     ]
    },
    {
     "name": "stderr",
     "output_type": "stream",
     "text": [
      " 30%|███       | 151/500 [00:19<00:58,  5.92it/s]"
     ]
    },
    {
     "name": "stdout",
     "output_type": "stream",
     "text": [
      "Loss:1.1520000000000001\n",
      "Loss:1.1520000000000004\n"
     ]
    },
    {
     "name": "stderr",
     "output_type": "stream",
     "text": [
      " 31%|███       | 153/500 [00:20<00:51,  6.72it/s]"
     ]
    },
    {
     "name": "stdout",
     "output_type": "stream",
     "text": [
      "Loss:1.1680000000000001\n",
      "Loss:nan\n"
     ]
    },
    {
     "name": "stderr",
     "output_type": "stream",
     "text": [
      " 31%|███       | 155/500 [00:20<00:47,  7.31it/s]"
     ]
    },
    {
     "name": "stdout",
     "output_type": "stream",
     "text": [
      "Loss:nan\n",
      "Loss:nan\n"
     ]
    },
    {
     "name": "stderr",
     "output_type": "stream",
     "text": [
      " 31%|███▏      | 157/500 [00:20<00:42,  8.00it/s]"
     ]
    },
    {
     "name": "stdout",
     "output_type": "stream",
     "text": [
      "Loss:1.1680000000000001\n",
      "Loss:nan\n"
     ]
    },
    {
     "name": "stderr",
     "output_type": "stream",
     "text": [
      " 32%|███▏      | 159/500 [00:20<00:39,  8.65it/s]"
     ]
    },
    {
     "name": "stdout",
     "output_type": "stream",
     "text": [
      "Loss:nan\n",
      "Loss:1.1280000000000003\n"
     ]
    },
    {
     "name": "stderr",
     "output_type": "stream",
     "text": [
      " 32%|███▏      | 161/500 [00:21<00:42,  8.04it/s]"
     ]
    },
    {
     "name": "stdout",
     "output_type": "stream",
     "text": [
      "Loss:1.12\n",
      "Loss:1.1320000000000001\n"
     ]
    },
    {
     "name": "stderr",
     "output_type": "stream",
     "text": [
      " 33%|███▎      | 163/500 [00:21<00:42,  7.87it/s]"
     ]
    },
    {
     "name": "stdout",
     "output_type": "stream",
     "text": [
      "Loss:1.144\n",
      "Loss:nan\n"
     ]
    },
    {
     "name": "stderr",
     "output_type": "stream",
     "text": [
      " 33%|███▎      | 165/500 [00:21<00:42,  7.92it/s]"
     ]
    },
    {
     "name": "stdout",
     "output_type": "stream",
     "text": [
      "Loss:nan\n",
      "Loss:nan\n"
     ]
    },
    {
     "name": "stderr",
     "output_type": "stream",
     "text": [
      " 33%|███▎      | 167/500 [00:21<00:39,  8.43it/s]"
     ]
    },
    {
     "name": "stdout",
     "output_type": "stream",
     "text": [
      "Loss:1.1200000000000003\n",
      "Loss:nan\n"
     ]
    },
    {
     "name": "stderr",
     "output_type": "stream",
     "text": [
      "\r",
      " 34%|███▎      | 168/500 [00:21<00:38,  8.58it/s]"
     ]
    },
    {
     "name": "stdout",
     "output_type": "stream",
     "text": [
      "Loss:nan\n",
      "Loss:1.2080000000000002\n"
     ]
    },
    {
     "name": "stderr",
     "output_type": "stream",
     "text": [
      " 34%|███▍      | 171/500 [00:22<00:37,  8.72it/s]"
     ]
    },
    {
     "name": "stdout",
     "output_type": "stream",
     "text": [
      "Loss:1.1520000000000001\n",
      "Loss:1.1440000000000001\n"
     ]
    },
    {
     "name": "stderr",
     "output_type": "stream",
     "text": [
      " 35%|███▍      | 173/500 [00:22<00:38,  8.56it/s]"
     ]
    },
    {
     "name": "stdout",
     "output_type": "stream",
     "text": [
      "Loss:1.0759999999999998\n",
      "Loss:nan\n"
     ]
    },
    {
     "name": "stderr",
     "output_type": "stream",
     "text": [
      " 35%|███▌      | 175/500 [00:22<00:40,  8.07it/s]"
     ]
    },
    {
     "name": "stdout",
     "output_type": "stream",
     "text": [
      "Loss:nan\n",
      "Loss:nan\n"
     ]
    },
    {
     "name": "stderr",
     "output_type": "stream",
     "text": [
      " 35%|███▌      | 177/500 [00:22<00:37,  8.55it/s]"
     ]
    },
    {
     "name": "stdout",
     "output_type": "stream",
     "text": [
      "Loss:1.1760000000000002\n",
      "Loss:nan\n"
     ]
    },
    {
     "name": "stderr",
     "output_type": "stream",
     "text": [
      "\r",
      " 36%|███▌      | 178/500 [00:23<00:36,  8.94it/s]"
     ]
    },
    {
     "name": "stdout",
     "output_type": "stream",
     "text": [
      "Loss:nan\n",
      "Loss:1.1880000000000002\n"
     ]
    },
    {
     "name": "stderr",
     "output_type": "stream",
     "text": [
      " 36%|███▌      | 181/500 [00:23<00:36,  8.85it/s]"
     ]
    },
    {
     "name": "stdout",
     "output_type": "stream",
     "text": [
      "Loss:1.1440000000000001\n",
      "Loss:1.1240000000000003\n"
     ]
    },
    {
     "name": "stderr",
     "output_type": "stream",
     "text": [
      " 37%|███▋      | 183/500 [00:23<00:38,  8.27it/s]"
     ]
    },
    {
     "name": "stdout",
     "output_type": "stream",
     "text": [
      "Loss:1.1400000000000001\n",
      "Loss:nan\n"
     ]
    },
    {
     "name": "stderr",
     "output_type": "stream",
     "text": [
      " 37%|███▋      | 185/500 [00:23<00:37,  8.33it/s]"
     ]
    },
    {
     "name": "stdout",
     "output_type": "stream",
     "text": [
      "Loss:nan\n",
      "Loss:nan\n"
     ]
    },
    {
     "name": "stderr",
     "output_type": "stream",
     "text": [
      " 37%|███▋      | 187/500 [00:24<00:36,  8.56it/s]"
     ]
    },
    {
     "name": "stdout",
     "output_type": "stream",
     "text": [
      "Loss:1.2040000000000004\n",
      "Loss:nan\n"
     ]
    },
    {
     "name": "stderr",
     "output_type": "stream",
     "text": [
      "\r",
      " 38%|███▊      | 188/500 [00:24<00:35,  8.83it/s]"
     ]
    },
    {
     "name": "stdout",
     "output_type": "stream",
     "text": [
      "Loss:nan\n",
      "Loss:1.12\n"
     ]
    },
    {
     "name": "stderr",
     "output_type": "stream",
     "text": [
      " 38%|███▊      | 191/500 [00:24<00:35,  8.59it/s]"
     ]
    },
    {
     "name": "stdout",
     "output_type": "stream",
     "text": [
      "Loss:1.1400000000000001\n",
      "Loss:1.1640000000000001\n"
     ]
    },
    {
     "name": "stderr",
     "output_type": "stream",
     "text": [
      " 39%|███▊      | 193/500 [00:24<00:38,  7.88it/s]"
     ]
    },
    {
     "name": "stdout",
     "output_type": "stream",
     "text": [
      "Loss:1.2\n",
      "Loss:nan\n"
     ]
    },
    {
     "name": "stderr",
     "output_type": "stream",
     "text": [
      " 39%|███▉      | 195/500 [00:25<00:39,  7.80it/s]"
     ]
    },
    {
     "name": "stdout",
     "output_type": "stream",
     "text": [
      "Loss:nan\n",
      "Loss:nan\n"
     ]
    },
    {
     "name": "stderr",
     "output_type": "stream",
     "text": [
      " 39%|███▉      | 197/500 [00:25<00:37,  8.09it/s]"
     ]
    },
    {
     "name": "stdout",
     "output_type": "stream",
     "text": [
      "Loss:1.1199999999999999\n",
      "Loss:nan\n"
     ]
    },
    {
     "name": "stderr",
     "output_type": "stream",
     "text": [
      " 40%|███▉      | 199/500 [00:25<00:34,  8.71it/s]"
     ]
    },
    {
     "name": "stdout",
     "output_type": "stream",
     "text": [
      "Loss:nan\n",
      "Loss:1.1360000000000001\n"
     ]
    },
    {
     "name": "stderr",
     "output_type": "stream",
     "text": [
      " 40%|████      | 201/500 [00:25<00:37,  7.98it/s]"
     ]
    },
    {
     "name": "stdout",
     "output_type": "stream",
     "text": [
      "Loss:1.1320000000000003\n",
      "Loss:1.18\n"
     ]
    },
    {
     "name": "stderr",
     "output_type": "stream",
     "text": [
      " 41%|████      | 203/500 [00:26<00:39,  7.54it/s]"
     ]
    },
    {
     "name": "stdout",
     "output_type": "stream",
     "text": [
      "Loss:1.1760000000000002\n",
      "Loss:nan\n"
     ]
    },
    {
     "name": "stderr",
     "output_type": "stream",
     "text": [
      " 41%|████      | 205/500 [00:26<00:41,  7.17it/s]"
     ]
    },
    {
     "name": "stdout",
     "output_type": "stream",
     "text": [
      "Loss:nan\n",
      "Loss:nan\n"
     ]
    },
    {
     "name": "stderr",
     "output_type": "stream",
     "text": [
      " 41%|████▏     | 207/500 [00:26<00:39,  7.38it/s]"
     ]
    },
    {
     "name": "stdout",
     "output_type": "stream",
     "text": [
      "Loss:1.112\n",
      "Loss:nan\n"
     ]
    },
    {
     "name": "stderr",
     "output_type": "stream",
     "text": [
      " 42%|████▏     | 209/500 [00:26<00:35,  8.10it/s]"
     ]
    },
    {
     "name": "stdout",
     "output_type": "stream",
     "text": [
      "Loss:nan\n",
      "Loss:1.016\n"
     ]
    },
    {
     "name": "stderr",
     "output_type": "stream",
     "text": [
      " 42%|████▏     | 211/500 [00:27<00:38,  7.49it/s]"
     ]
    },
    {
     "name": "stdout",
     "output_type": "stream",
     "text": [
      "Loss:1.1\n",
      "Loss:1.1360000000000001\n"
     ]
    },
    {
     "name": "stderr",
     "output_type": "stream",
     "text": [
      " 43%|████▎     | 213/500 [00:27<00:43,  6.57it/s]"
     ]
    },
    {
     "name": "stdout",
     "output_type": "stream",
     "text": [
      "Loss:1.092\n",
      "Loss:nan\n"
     ]
    },
    {
     "name": "stderr",
     "output_type": "stream",
     "text": [
      " 43%|████▎     | 215/500 [00:27<00:44,  6.41it/s]"
     ]
    },
    {
     "name": "stdout",
     "output_type": "stream",
     "text": [
      "Loss:nan\n",
      "Loss:nan\n"
     ]
    },
    {
     "name": "stderr",
     "output_type": "stream",
     "text": [
      " 43%|████▎     | 217/500 [00:28<00:45,  6.24it/s]"
     ]
    },
    {
     "name": "stdout",
     "output_type": "stream",
     "text": [
      "Loss:1.1879999999999997\n",
      "Loss:nan\n"
     ]
    },
    {
     "name": "stderr",
     "output_type": "stream",
     "text": [
      " 44%|████▍     | 219/500 [00:28<00:41,  6.85it/s]"
     ]
    },
    {
     "name": "stdout",
     "output_type": "stream",
     "text": [
      "Loss:nan\n",
      "Loss:1.056\n"
     ]
    },
    {
     "name": "stderr",
     "output_type": "stream",
     "text": [
      " 44%|████▍     | 221/500 [00:28<00:42,  6.55it/s]"
     ]
    },
    {
     "name": "stdout",
     "output_type": "stream",
     "text": [
      "Loss:0.9999999999999997\n",
      "Loss:1.136\n"
     ]
    },
    {
     "name": "stderr",
     "output_type": "stream",
     "text": [
      " 45%|████▍     | 223/500 [00:29<00:47,  5.85it/s]"
     ]
    },
    {
     "name": "stdout",
     "output_type": "stream",
     "text": [
      "Loss:1.0320000000000005\n",
      "Loss:nan\n"
     ]
    },
    {
     "name": "stderr",
     "output_type": "stream",
     "text": [
      " 45%|████▌     | 225/500 [00:29<00:48,  5.69it/s]"
     ]
    },
    {
     "name": "stdout",
     "output_type": "stream",
     "text": [
      "Loss:nan\n",
      "Loss:nan\n"
     ]
    },
    {
     "name": "stderr",
     "output_type": "stream",
     "text": [
      " 45%|████▌     | 227/500 [00:29<00:48,  5.65it/s]"
     ]
    },
    {
     "name": "stdout",
     "output_type": "stream",
     "text": [
      "Loss:1.0919999999999999\n",
      "Loss:nan\n"
     ]
    },
    {
     "name": "stderr",
     "output_type": "stream",
     "text": [
      " 46%|████▌     | 229/500 [00:30<00:43,  6.24it/s]"
     ]
    },
    {
     "name": "stdout",
     "output_type": "stream",
     "text": [
      "Loss:1.1440000000000001\n",
      "Loss:0.92\n"
     ]
    },
    {
     "name": "stderr",
     "output_type": "stream",
     "text": [
      " 46%|████▌     | 231/500 [00:30<00:42,  6.40it/s]"
     ]
    },
    {
     "name": "stdout",
     "output_type": "stream",
     "text": [
      "Loss:0.9239999999999999\n",
      "Loss:1.1400000000000001\n"
     ]
    },
    {
     "name": "stderr",
     "output_type": "stream",
     "text": [
      " 47%|████▋     | 233/500 [00:30<00:43,  6.18it/s]"
     ]
    },
    {
     "name": "stdout",
     "output_type": "stream",
     "text": [
      "Loss:1.104\n",
      "Loss:nan\n"
     ]
    },
    {
     "name": "stderr",
     "output_type": "stream",
     "text": [
      "\r",
      " 47%|████▋     | 234/500 [00:31<00:45,  5.83it/s]"
     ]
    },
    {
     "name": "stdout",
     "output_type": "stream",
     "text": [
      "Loss:nan\n"
     ]
    },
    {
     "name": "stderr",
     "output_type": "stream",
     "text": [
      "\r",
      " 47%|████▋     | 235/500 [00:31<00:56,  4.71it/s]"
     ]
    },
    {
     "name": "stdout",
     "output_type": "stream",
     "text": [
      "Loss:nan\n"
     ]
    },
    {
     "name": "stderr",
     "output_type": "stream",
     "text": [
      " 47%|████▋     | 237/500 [00:31<00:52,  4.97it/s]"
     ]
    },
    {
     "name": "stdout",
     "output_type": "stream",
     "text": [
      "Loss:0.9800000000000001\n",
      "Loss:nan\n"
     ]
    },
    {
     "name": "stderr",
     "output_type": "stream",
     "text": [
      " 48%|████▊     | 239/500 [00:32<00:44,  5.88it/s]"
     ]
    },
    {
     "name": "stdout",
     "output_type": "stream",
     "text": [
      "Loss:1.0999999999999996\n",
      "Loss:0.772\n"
     ]
    },
    {
     "name": "stderr",
     "output_type": "stream",
     "text": [
      " 48%|████▊     | 241/500 [00:32<00:44,  5.85it/s]"
     ]
    },
    {
     "name": "stdout",
     "output_type": "stream",
     "text": [
      "Loss:0.7199999999999999\n",
      "Loss:1.0520000000000003\n"
     ]
    },
    {
     "name": "stderr",
     "output_type": "stream",
     "text": [
      " 49%|████▊     | 243/500 [00:32<00:47,  5.43it/s]"
     ]
    },
    {
     "name": "stdout",
     "output_type": "stream",
     "text": [
      "Loss:1.028\n",
      "Loss:nan\n"
     ]
    },
    {
     "name": "stderr",
     "output_type": "stream",
     "text": [
      " 49%|████▉     | 245/500 [00:33<00:40,  6.29it/s]"
     ]
    },
    {
     "name": "stdout",
     "output_type": "stream",
     "text": [
      "Loss:nan\n",
      "Loss:nan\n"
     ]
    },
    {
     "name": "stderr",
     "output_type": "stream",
     "text": [
      " 49%|████▉     | 247/500 [00:33<00:39,  6.36it/s]"
     ]
    },
    {
     "name": "stdout",
     "output_type": "stream",
     "text": [
      "Loss:0.8360000000000001\n",
      "Loss:nan\n"
     ]
    },
    {
     "name": "stderr",
     "output_type": "stream",
     "text": [
      " 50%|████▉     | 249/500 [00:33<00:35,  7.05it/s]"
     ]
    },
    {
     "name": "stdout",
     "output_type": "stream",
     "text": [
      "Loss:0.9760000000000001\n",
      "Loss:0.544\n"
     ]
    },
    {
     "name": "stderr",
     "output_type": "stream",
     "text": [
      " 50%|█████     | 251/500 [00:33<00:35,  7.10it/s]"
     ]
    },
    {
     "name": "stdout",
     "output_type": "stream",
     "text": [
      "Loss:0.548\n",
      "Loss:1.056\n"
     ]
    },
    {
     "name": "stderr",
     "output_type": "stream",
     "text": [
      " 51%|█████     | 253/500 [00:34<00:36,  6.76it/s]"
     ]
    },
    {
     "name": "stdout",
     "output_type": "stream",
     "text": [
      "Loss:1.0200000000000002\n",
      "Loss:nan\n"
     ]
    },
    {
     "name": "stderr",
     "output_type": "stream",
     "text": [
      " 51%|█████     | 255/500 [00:34<00:36,  6.73it/s]"
     ]
    },
    {
     "name": "stdout",
     "output_type": "stream",
     "text": [
      "Loss:nan\n",
      "Loss:nan\n"
     ]
    },
    {
     "name": "stderr",
     "output_type": "stream",
     "text": [
      " 51%|█████▏    | 257/500 [00:34<00:34,  6.98it/s]"
     ]
    },
    {
     "name": "stdout",
     "output_type": "stream",
     "text": [
      "Loss:0.716\n",
      "Loss:nan\n"
     ]
    },
    {
     "name": "stderr",
     "output_type": "stream",
     "text": [
      " 52%|█████▏    | 259/500 [00:35<00:35,  6.80it/s]"
     ]
    },
    {
     "name": "stdout",
     "output_type": "stream",
     "text": [
      "Loss:0.6079999999999999\n",
      "Loss:0.41200000000000003\n"
     ]
    },
    {
     "name": "stderr",
     "output_type": "stream",
     "text": [
      " 52%|█████▏    | 261/500 [00:35<00:34,  6.92it/s]"
     ]
    },
    {
     "name": "stdout",
     "output_type": "stream",
     "text": [
      "Loss:0.46800000000000014\n",
      "Loss:0.8600000000000003\n"
     ]
    },
    {
     "name": "stderr",
     "output_type": "stream",
     "text": [
      " 53%|█████▎    | 263/500 [00:35<00:35,  6.61it/s]"
     ]
    },
    {
     "name": "stdout",
     "output_type": "stream",
     "text": [
      "Loss:1.0560000000000003\n",
      "Loss:nan\n"
     ]
    },
    {
     "name": "stderr",
     "output_type": "stream",
     "text": [
      " 53%|█████▎    | 265/500 [00:35<00:34,  6.73it/s]"
     ]
    },
    {
     "name": "stdout",
     "output_type": "stream",
     "text": [
      "Loss:nan\n",
      "Loss:nan\n"
     ]
    },
    {
     "name": "stderr",
     "output_type": "stream",
     "text": [
      " 53%|█████▎    | 267/500 [00:36<00:33,  7.00it/s]"
     ]
    },
    {
     "name": "stdout",
     "output_type": "stream",
     "text": [
      "Loss:0.376\n",
      "Loss:1.1280000000000001\n"
     ]
    },
    {
     "name": "stderr",
     "output_type": "stream",
     "text": [
      " 54%|█████▍    | 269/500 [00:36<00:33,  6.93it/s]"
     ]
    },
    {
     "name": "stdout",
     "output_type": "stream",
     "text": [
      "Loss:0.292\n",
      "Loss:0.37599999999999995\n"
     ]
    },
    {
     "name": "stderr",
     "output_type": "stream",
     "text": [
      " 54%|█████▍    | 271/500 [00:36<00:34,  6.73it/s]"
     ]
    },
    {
     "name": "stdout",
     "output_type": "stream",
     "text": [
      "Loss:0.3960000000000001\n",
      "Loss:1.0000000000000002\n"
     ]
    },
    {
     "name": "stderr",
     "output_type": "stream",
     "text": [
      " 55%|█████▍    | 273/500 [00:37<00:34,  6.67it/s]"
     ]
    },
    {
     "name": "stdout",
     "output_type": "stream",
     "text": [
      "Loss:1.04\n",
      "Loss:nan\n"
     ]
    },
    {
     "name": "stderr",
     "output_type": "stream",
     "text": [
      " 55%|█████▌    | 275/500 [00:37<00:33,  6.69it/s]"
     ]
    },
    {
     "name": "stdout",
     "output_type": "stream",
     "text": [
      "Loss:nan\n",
      "Loss:nan\n"
     ]
    },
    {
     "name": "stderr",
     "output_type": "stream",
     "text": [
      " 55%|█████▌    | 277/500 [00:37<00:35,  6.33it/s]"
     ]
    },
    {
     "name": "stdout",
     "output_type": "stream",
     "text": [
      "Loss:0.276\n",
      "Loss:1.056\n"
     ]
    },
    {
     "name": "stderr",
     "output_type": "stream",
     "text": [
      " 56%|█████▌    | 279/500 [00:38<00:32,  6.80it/s]"
     ]
    },
    {
     "name": "stdout",
     "output_type": "stream",
     "text": [
      "Loss:0.26\n",
      "Loss:0.28\n"
     ]
    },
    {
     "name": "stderr",
     "output_type": "stream",
     "text": [
      "\r",
      " 56%|█████▌    | 280/500 [00:38<00:32,  6.77it/s]"
     ]
    },
    {
     "name": "stdout",
     "output_type": "stream",
     "text": [
      "Loss:0.3600000000000001\n"
     ]
    },
    {
     "name": "stderr",
     "output_type": "stream",
     "text": [
      "\r",
      " 56%|█████▌    | 281/500 [00:38<00:40,  5.38it/s]"
     ]
    },
    {
     "name": "stdout",
     "output_type": "stream",
     "text": [
      "Loss:0.8719999999999999\n"
     ]
    },
    {
     "name": "stderr",
     "output_type": "stream",
     "text": [
      "\r",
      " 56%|█████▋    | 282/500 [00:38<00:47,  4.56it/s]"
     ]
    },
    {
     "name": "stdout",
     "output_type": "stream",
     "text": [
      "Loss:1.044\n"
     ]
    },
    {
     "name": "stderr",
     "output_type": "stream",
     "text": [
      "\r",
      " 57%|█████▋    | 283/500 [00:39<00:52,  4.12it/s]"
     ]
    },
    {
     "name": "stdout",
     "output_type": "stream",
     "text": [
      "Loss:nan\n"
     ]
    },
    {
     "name": "stderr",
     "output_type": "stream",
     "text": [
      "\r",
      " 57%|█████▋    | 284/500 [00:39<00:51,  4.16it/s]"
     ]
    },
    {
     "name": "stdout",
     "output_type": "stream",
     "text": [
      "Loss:nan\n"
     ]
    },
    {
     "name": "stderr",
     "output_type": "stream",
     "text": [
      " 57%|█████▋    | 286/500 [00:39<00:47,  4.49it/s]"
     ]
    },
    {
     "name": "stdout",
     "output_type": "stream",
     "text": [
      "Loss:nan\n",
      "Loss:0.2720000000000001\n"
     ]
    },
    {
     "name": "stderr",
     "output_type": "stream",
     "text": [
      " 58%|█████▊    | 288/500 [00:40<00:40,  5.29it/s]"
     ]
    },
    {
     "name": "stdout",
     "output_type": "stream",
     "text": [
      "Loss:0.8360000000000001\n",
      "Loss:0.22000000000000003\n"
     ]
    },
    {
     "name": "stderr",
     "output_type": "stream",
     "text": [
      " 58%|█████▊    | 290/500 [00:40<00:37,  5.61it/s]"
     ]
    },
    {
     "name": "stdout",
     "output_type": "stream",
     "text": [
      "Loss:0.264\n",
      "Loss:0.28400000000000003\n"
     ]
    },
    {
     "name": "stderr",
     "output_type": "stream",
     "text": [
      " 58%|█████▊    | 292/500 [00:40<00:35,  5.79it/s]"
     ]
    },
    {
     "name": "stdout",
     "output_type": "stream",
     "text": [
      "Loss:1.04\n",
      "Loss:1.06\n"
     ]
    },
    {
     "name": "stderr",
     "output_type": "stream",
     "text": [
      " 59%|█████▉    | 294/500 [00:41<00:34,  6.01it/s]"
     ]
    },
    {
     "name": "stdout",
     "output_type": "stream",
     "text": [
      "Loss:nan\n",
      "Loss:nan\n"
     ]
    },
    {
     "name": "stderr",
     "output_type": "stream",
     "text": [
      " 59%|█████▉    | 296/500 [00:41<00:32,  6.32it/s]"
     ]
    },
    {
     "name": "stdout",
     "output_type": "stream",
     "text": [
      "Loss:nan\n",
      "Loss:0.3\n"
     ]
    },
    {
     "name": "stderr",
     "output_type": "stream",
     "text": [
      " 60%|█████▉    | 298/500 [00:41<00:30,  6.72it/s]"
     ]
    },
    {
     "name": "stdout",
     "output_type": "stream",
     "text": [
      "Loss:0.764\n",
      "Loss:0.292\n"
     ]
    },
    {
     "name": "stderr",
     "output_type": "stream",
     "text": [
      "\r",
      " 60%|█████▉    | 299/500 [00:41<00:36,  5.54it/s]"
     ]
    },
    {
     "name": "stdout",
     "output_type": "stream",
     "text": [
      "Loss:0.23199999999999996\n"
     ]
    },
    {
     "name": "stderr",
     "output_type": "stream",
     "text": [
      " 60%|██████    | 301/500 [00:42<00:38,  5.16it/s]"
     ]
    },
    {
     "name": "stdout",
     "output_type": "stream",
     "text": [
      "Loss:0.252\n",
      "Loss:0.9640000000000005\n"
     ]
    },
    {
     "name": "stderr",
     "output_type": "stream",
     "text": [
      " 61%|██████    | 303/500 [00:42<00:35,  5.54it/s]"
     ]
    },
    {
     "name": "stdout",
     "output_type": "stream",
     "text": [
      "Loss:0.9119999999999999\n",
      "Loss:nan\n"
     ]
    },
    {
     "name": "stderr",
     "output_type": "stream",
     "text": [
      " 61%|██████    | 305/500 [00:42<00:30,  6.39it/s]"
     ]
    },
    {
     "name": "stdout",
     "output_type": "stream",
     "text": [
      "Loss:nan\n",
      "Loss:nan\n"
     ]
    },
    {
     "name": "stderr",
     "output_type": "stream",
     "text": [
      " 61%|██████▏   | 307/500 [00:43<00:29,  6.48it/s]"
     ]
    },
    {
     "name": "stdout",
     "output_type": "stream",
     "text": [
      "Loss:0.4040000000000001\n",
      "Loss:0.6200000000000001\n"
     ]
    },
    {
     "name": "stderr",
     "output_type": "stream",
     "text": [
      " 62%|██████▏   | 309/500 [00:43<00:28,  6.68it/s]"
     ]
    },
    {
     "name": "stdout",
     "output_type": "stream",
     "text": [
      "Loss:0.43599999999999994\n",
      "Loss:0.22799999999999998\n"
     ]
    },
    {
     "name": "stderr",
     "output_type": "stream",
     "text": [
      " 62%|██████▏   | 311/500 [00:43<00:30,  6.22it/s]"
     ]
    },
    {
     "name": "stdout",
     "output_type": "stream",
     "text": [
      "Loss:0.22399999999999998\n",
      "Loss:1.1159999999999999\n"
     ]
    },
    {
     "name": "stderr",
     "output_type": "stream",
     "text": [
      " 63%|██████▎   | 313/500 [00:44<00:30,  6.21it/s]"
     ]
    },
    {
     "name": "stdout",
     "output_type": "stream",
     "text": [
      "Loss:1.04\n",
      "Loss:nan\n"
     ]
    },
    {
     "name": "stderr",
     "output_type": "stream",
     "text": [
      " 63%|██████▎   | 315/500 [00:44<00:29,  6.19it/s]"
     ]
    },
    {
     "name": "stdout",
     "output_type": "stream",
     "text": [
      "Loss:nan\n",
      "Loss:nan\n"
     ]
    },
    {
     "name": "stderr",
     "output_type": "stream",
     "text": [
      " 63%|██████▎   | 317/500 [00:44<00:28,  6.46it/s]"
     ]
    },
    {
     "name": "stdout",
     "output_type": "stream",
     "text": [
      "Loss:0.4599999999999999\n",
      "Loss:0.748\n"
     ]
    },
    {
     "name": "stderr",
     "output_type": "stream",
     "text": [
      " 64%|██████▍   | 319/500 [00:45<00:27,  6.61it/s]"
     ]
    },
    {
     "name": "stdout",
     "output_type": "stream",
     "text": [
      "Loss:0.47600000000000003\n",
      "Loss:0.30399999999999994\n"
     ]
    },
    {
     "name": "stderr",
     "output_type": "stream",
     "text": [
      " 64%|██████▍   | 321/500 [00:45<00:27,  6.53it/s]"
     ]
    },
    {
     "name": "stdout",
     "output_type": "stream",
     "text": [
      "Loss:0.22400000000000003\n",
      "Loss:0.9280000000000004\n"
     ]
    },
    {
     "name": "stderr",
     "output_type": "stream",
     "text": [
      " 65%|██████▍   | 323/500 [00:45<00:29,  5.90it/s]"
     ]
    },
    {
     "name": "stdout",
     "output_type": "stream",
     "text": [
      "Loss:1.048\n",
      "Loss:nan\n"
     ]
    },
    {
     "name": "stderr",
     "output_type": "stream",
     "text": [
      " 65%|██████▌   | 325/500 [00:46<00:28,  6.22it/s]"
     ]
    },
    {
     "name": "stdout",
     "output_type": "stream",
     "text": [
      "Loss:nan\n",
      "Loss:nan\n"
     ]
    },
    {
     "name": "stderr",
     "output_type": "stream",
     "text": [
      " 65%|██████▌   | 327/500 [00:46<00:26,  6.48it/s]"
     ]
    },
    {
     "name": "stdout",
     "output_type": "stream",
     "text": [
      "Loss:0.512\n",
      "Loss:0.7560000000000001\n"
     ]
    },
    {
     "name": "stderr",
     "output_type": "stream",
     "text": [
      " 66%|██████▌   | 329/500 [00:46<00:26,  6.54it/s]"
     ]
    },
    {
     "name": "stdout",
     "output_type": "stream",
     "text": [
      "Loss:0.516\n",
      "Loss:0.3919999999999999\n"
     ]
    },
    {
     "name": "stderr",
     "output_type": "stream",
     "text": [
      " 66%|██████▌   | 331/500 [00:47<00:25,  6.55it/s]"
     ]
    },
    {
     "name": "stdout",
     "output_type": "stream",
     "text": [
      "Loss:0.344\n",
      "Loss:0.9280000000000003\n"
     ]
    },
    {
     "name": "stderr",
     "output_type": "stream",
     "text": [
      " 67%|██████▋   | 333/500 [00:47<00:27,  6.05it/s]"
     ]
    },
    {
     "name": "stdout",
     "output_type": "stream",
     "text": [
      "Loss:0.696\n",
      "Loss:nan\n"
     ]
    },
    {
     "name": "stderr",
     "output_type": "stream",
     "text": [
      "\r",
      " 67%|██████▋   | 334/500 [00:47<00:29,  5.70it/s]"
     ]
    },
    {
     "name": "stdout",
     "output_type": "stream",
     "text": [
      "Loss:nan\n"
     ]
    },
    {
     "name": "stderr",
     "output_type": "stream",
     "text": [
      "\r",
      " 67%|██████▋   | 335/500 [00:47<00:32,  5.05it/s]"
     ]
    },
    {
     "name": "stdout",
     "output_type": "stream",
     "text": [
      "Loss:nan\n"
     ]
    },
    {
     "name": "stderr",
     "output_type": "stream",
     "text": [
      "\r",
      " 67%|██████▋   | 336/500 [00:48<00:33,  4.93it/s]"
     ]
    },
    {
     "name": "stdout",
     "output_type": "stream",
     "text": [
      "Loss:0.524\n"
     ]
    },
    {
     "name": "stderr",
     "output_type": "stream",
     "text": [
      "\r",
      " 67%|██████▋   | 337/500 [00:48<00:34,  4.76it/s]"
     ]
    },
    {
     "name": "stdout",
     "output_type": "stream",
     "text": [
      "Loss:0.8440000000000001\n"
     ]
    },
    {
     "name": "stderr",
     "output_type": "stream",
     "text": [
      " 68%|██████▊   | 339/500 [00:48<00:33,  4.86it/s]"
     ]
    },
    {
     "name": "stdout",
     "output_type": "stream",
     "text": [
      "Loss:nan\n",
      "Loss:0.38\n"
     ]
    },
    {
     "name": "stderr",
     "output_type": "stream",
     "text": [
      " 68%|██████▊   | 341/500 [00:49<00:29,  5.32it/s]"
     ]
    },
    {
     "name": "stdout",
     "output_type": "stream",
     "text": [
      "Loss:0.384\n",
      "Loss:1.0439999999999998\n"
     ]
    },
    {
     "name": "stderr",
     "output_type": "stream",
     "text": [
      " 69%|██████▊   | 343/500 [00:49<00:31,  5.03it/s]"
     ]
    },
    {
     "name": "stdout",
     "output_type": "stream",
     "text": [
      "Loss:0.8560000000000001\n",
      "Loss:nan\n"
     ]
    },
    {
     "name": "stderr",
     "output_type": "stream",
     "text": [
      " 69%|██████▉   | 345/500 [00:49<00:28,  5.48it/s]"
     ]
    },
    {
     "name": "stdout",
     "output_type": "stream",
     "text": [
      "Loss:nan\n",
      "Loss:nan\n"
     ]
    },
    {
     "name": "stderr",
     "output_type": "stream",
     "text": [
      " 69%|██████▉   | 347/500 [00:50<00:26,  5.86it/s]"
     ]
    },
    {
     "name": "stdout",
     "output_type": "stream",
     "text": [
      "Loss:0.512\n",
      "Loss:nan\n"
     ]
    },
    {
     "name": "stderr",
     "output_type": "stream",
     "text": [
      " 70%|██████▉   | 349/500 [00:50<00:24,  6.22it/s]"
     ]
    },
    {
     "name": "stdout",
     "output_type": "stream",
     "text": [
      "Loss:0.7759999999999999\n",
      "Loss:0.4\n"
     ]
    },
    {
     "name": "stderr",
     "output_type": "stream",
     "text": [
      "\r",
      " 70%|███████   | 350/500 [00:50<00:26,  5.77it/s]"
     ]
    },
    {
     "name": "stdout",
     "output_type": "stream",
     "text": [
      "Loss:0.368\n"
     ]
    },
    {
     "name": "stderr",
     "output_type": "stream",
     "text": [
      "\r",
      " 70%|███████   | 351/500 [00:50<00:34,  4.31it/s]"
     ]
    },
    {
     "name": "stdout",
     "output_type": "stream",
     "text": [
      "Loss:1.0560000000000003\n"
     ]
    },
    {
     "name": "stderr",
     "output_type": "stream",
     "text": [
      "\r",
      " 70%|███████   | 352/500 [00:51<00:36,  4.03it/s]"
     ]
    },
    {
     "name": "stdout",
     "output_type": "stream",
     "text": [
      "Loss:0.852\n"
     ]
    },
    {
     "name": "stderr",
     "output_type": "stream",
     "text": [
      "\r",
      " 71%|███████   | 353/500 [00:51<00:36,  3.99it/s]"
     ]
    },
    {
     "name": "stdout",
     "output_type": "stream",
     "text": [
      "Loss:nan\n"
     ]
    },
    {
     "name": "stderr",
     "output_type": "stream",
     "text": [
      "\r",
      " 71%|███████   | 354/500 [00:51<00:38,  3.78it/s]"
     ]
    },
    {
     "name": "stdout",
     "output_type": "stream",
     "text": [
      "Loss:nan\n"
     ]
    },
    {
     "name": "stderr",
     "output_type": "stream",
     "text": [
      " 71%|███████   | 356/500 [00:52<00:34,  4.19it/s]"
     ]
    },
    {
     "name": "stdout",
     "output_type": "stream",
     "text": [
      "Loss:nan\n",
      "Loss:0.544\n"
     ]
    },
    {
     "name": "stderr",
     "output_type": "stream",
     "text": [
      " 72%|███████▏  | 358/500 [00:52<00:26,  5.30it/s]"
     ]
    },
    {
     "name": "stdout",
     "output_type": "stream",
     "text": [
      "Loss:nan\n",
      "Loss:0.8840000000000003\n"
     ]
    },
    {
     "name": "stderr",
     "output_type": "stream",
     "text": [
      " 72%|███████▏  | 360/500 [00:52<00:24,  5.83it/s]"
     ]
    },
    {
     "name": "stdout",
     "output_type": "stream",
     "text": [
      "Loss:0.43200000000000005\n",
      "Loss:0.37199999999999994\n"
     ]
    },
    {
     "name": "stderr",
     "output_type": "stream",
     "text": [
      " 72%|███████▏  | 362/500 [00:53<00:24,  5.73it/s]"
     ]
    },
    {
     "name": "stdout",
     "output_type": "stream",
     "text": [
      "Loss:1.032\n",
      "Loss:0.98\n"
     ]
    },
    {
     "name": "stderr",
     "output_type": "stream",
     "text": [
      " 73%|███████▎  | 364/500 [00:53<00:24,  5.50it/s]"
     ]
    },
    {
     "name": "stdout",
     "output_type": "stream",
     "text": [
      "Loss:nan\n",
      "Loss:nan\n"
     ]
    },
    {
     "name": "stderr",
     "output_type": "stream",
     "text": [
      " 73%|███████▎  | 366/500 [00:53<00:22,  5.86it/s]"
     ]
    },
    {
     "name": "stdout",
     "output_type": "stream",
     "text": [
      "Loss:nan\n",
      "Loss:0.5519999999999999\n"
     ]
    },
    {
     "name": "stderr",
     "output_type": "stream",
     "text": [
      " 74%|███████▎  | 368/500 [00:54<00:20,  6.34it/s]"
     ]
    },
    {
     "name": "stdout",
     "output_type": "stream",
     "text": [
      "Loss:nan\n",
      "Loss:nan\n"
     ]
    },
    {
     "name": "stderr",
     "output_type": "stream",
     "text": [
      "\r",
      " 74%|███████▍  | 369/500 [00:54<00:20,  6.50it/s]"
     ]
    },
    {
     "name": "stdout",
     "output_type": "stream",
     "text": [
      "Loss:0.46400000000000013\n"
     ]
    },
    {
     "name": "stderr",
     "output_type": "stream",
     "text": [
      " 74%|███████▍  | 371/500 [00:54<00:22,  5.61it/s]"
     ]
    },
    {
     "name": "stdout",
     "output_type": "stream",
     "text": [
      "Loss:0.4\n",
      "Loss:1.1520000000000001\n"
     ]
    },
    {
     "name": "stderr",
     "output_type": "stream",
     "text": [
      " 75%|███████▍  | 373/500 [00:55<00:23,  5.35it/s]"
     ]
    },
    {
     "name": "stdout",
     "output_type": "stream",
     "text": [
      "Loss:1.092\n",
      "Loss:nan\n"
     ]
    },
    {
     "name": "stderr",
     "output_type": "stream",
     "text": [
      "\r",
      " 75%|███████▍  | 374/500 [00:55<00:23,  5.47it/s]"
     ]
    },
    {
     "name": "stdout",
     "output_type": "stream",
     "text": [
      "Loss:nan\n"
     ]
    },
    {
     "name": "stderr",
     "output_type": "stream",
     "text": [
      " 75%|███████▌  | 376/500 [00:55<00:23,  5.26it/s]"
     ]
    },
    {
     "name": "stdout",
     "output_type": "stream",
     "text": [
      "Loss:nan\n",
      "Loss:0.5679999999999998\n"
     ]
    },
    {
     "name": "stderr",
     "output_type": "stream",
     "text": [
      " 76%|███████▌  | 378/500 [00:56<00:20,  5.83it/s]"
     ]
    },
    {
     "name": "stdout",
     "output_type": "stream",
     "text": [
      "Loss:nan\n",
      "Loss:nan\n"
     ]
    },
    {
     "name": "stderr",
     "output_type": "stream",
     "text": [
      " 76%|███████▌  | 380/500 [00:56<00:19,  6.03it/s]"
     ]
    },
    {
     "name": "stdout",
     "output_type": "stream",
     "text": [
      "Loss:0.524\n",
      "Loss:0.46\n"
     ]
    },
    {
     "name": "stderr",
     "output_type": "stream",
     "text": [
      " 76%|███████▋  | 382/500 [00:56<00:20,  5.88it/s]"
     ]
    },
    {
     "name": "stdout",
     "output_type": "stream",
     "text": [
      "Loss:1.088\n",
      "Loss:1.0639999999999998\n"
     ]
    },
    {
     "name": "stderr",
     "output_type": "stream",
     "text": [
      " 77%|███████▋  | 384/500 [00:57<00:21,  5.47it/s]"
     ]
    },
    {
     "name": "stdout",
     "output_type": "stream",
     "text": [
      "Loss:nan\n",
      "Loss:nan\n"
     ]
    },
    {
     "name": "stderr",
     "output_type": "stream",
     "text": [
      " 77%|███████▋  | 386/500 [00:57<00:21,  5.40it/s]"
     ]
    },
    {
     "name": "stdout",
     "output_type": "stream",
     "text": [
      "Loss:nan\n",
      "Loss:0.796\n"
     ]
    },
    {
     "name": "stderr",
     "output_type": "stream",
     "text": [
      " 78%|███████▊  | 388/500 [00:57<00:19,  5.80it/s]"
     ]
    },
    {
     "name": "stdout",
     "output_type": "stream",
     "text": [
      "Loss:nan\n",
      "Loss:nan\n"
     ]
    },
    {
     "name": "stderr",
     "output_type": "stream",
     "text": [
      " 78%|███████▊  | 390/500 [00:58<00:19,  5.72it/s]"
     ]
    },
    {
     "name": "stdout",
     "output_type": "stream",
     "text": [
      "Loss:0.524\n",
      "Loss:0.488\n"
     ]
    },
    {
     "name": "stderr",
     "output_type": "stream",
     "text": [
      " 78%|███████▊  | 392/500 [00:58<00:18,  5.80it/s]"
     ]
    },
    {
     "name": "stdout",
     "output_type": "stream",
     "text": [
      "Loss:1.0879999999999999\n",
      "Loss:1.0840000000000003\n"
     ]
    },
    {
     "name": "stderr",
     "output_type": "stream",
     "text": [
      " 79%|███████▉  | 394/500 [00:58<00:18,  5.71it/s]"
     ]
    },
    {
     "name": "stdout",
     "output_type": "stream",
     "text": [
      "Loss:nan\n",
      "Loss:nan\n"
     ]
    },
    {
     "name": "stderr",
     "output_type": "stream",
     "text": [
      " 79%|███████▉  | 396/500 [00:59<00:18,  5.54it/s]"
     ]
    },
    {
     "name": "stdout",
     "output_type": "stream",
     "text": [
      "Loss:nan\n",
      "Loss:0.9640000000000001\n"
     ]
    },
    {
     "name": "stderr",
     "output_type": "stream",
     "text": [
      " 80%|███████▉  | 398/500 [00:59<00:17,  5.96it/s]"
     ]
    },
    {
     "name": "stdout",
     "output_type": "stream",
     "text": [
      "Loss:nan\n",
      "Loss:nan\n"
     ]
    },
    {
     "name": "stderr",
     "output_type": "stream",
     "text": [
      " 80%|████████  | 400/500 [00:59<00:16,  6.22it/s]"
     ]
    },
    {
     "name": "stdout",
     "output_type": "stream",
     "text": [
      "Loss:0.552\n",
      "Loss:0.5080000000000001\n"
     ]
    },
    {
     "name": "stderr",
     "output_type": "stream",
     "text": [
      " 80%|████████  | 402/500 [01:00<00:15,  6.48it/s]"
     ]
    },
    {
     "name": "stdout",
     "output_type": "stream",
     "text": [
      "Loss:1.1400000000000001\n",
      "Loss:1.2160000000000004\n"
     ]
    },
    {
     "name": "stderr",
     "output_type": "stream",
     "text": [
      " 81%|████████  | 404/500 [01:00<00:15,  6.29it/s]"
     ]
    },
    {
     "name": "stdout",
     "output_type": "stream",
     "text": [
      "Loss:nan\n",
      "Loss:nan\n"
     ]
    },
    {
     "name": "stderr",
     "output_type": "stream",
     "text": [
      " 81%|████████  | 406/500 [01:00<00:15,  5.97it/s]"
     ]
    },
    {
     "name": "stdout",
     "output_type": "stream",
     "text": [
      "Loss:nan\n",
      "Loss:1.1159999999999999\n"
     ]
    },
    {
     "name": "stderr",
     "output_type": "stream",
     "text": [
      " 82%|████████▏ | 408/500 [01:01<00:15,  6.00it/s]"
     ]
    },
    {
     "name": "stdout",
     "output_type": "stream",
     "text": [
      "Loss:nan\n",
      "Loss:nan\n"
     ]
    },
    {
     "name": "stderr",
     "output_type": "stream",
     "text": [
      " 82%|████████▏ | 410/500 [01:01<00:14,  6.04it/s]"
     ]
    },
    {
     "name": "stdout",
     "output_type": "stream",
     "text": [
      "Loss:0.5799999999999998\n",
      "Loss:0.5640000000000001\n"
     ]
    },
    {
     "name": "stderr",
     "output_type": "stream",
     "text": [
      " 82%|████████▏ | 412/500 [01:01<00:13,  6.70it/s]"
     ]
    },
    {
     "name": "stdout",
     "output_type": "stream",
     "text": [
      "Loss:1.1760000000000002\n",
      "Loss:0.988\n"
     ]
    },
    {
     "name": "stderr",
     "output_type": "stream",
     "text": [
      " 83%|████████▎ | 414/500 [01:02<00:14,  5.99it/s]"
     ]
    },
    {
     "name": "stdout",
     "output_type": "stream",
     "text": [
      "Loss:nan\n",
      "Loss:nan\n"
     ]
    },
    {
     "name": "stderr",
     "output_type": "stream",
     "text": [
      " 83%|████████▎ | 416/500 [01:02<00:14,  5.75it/s]"
     ]
    },
    {
     "name": "stdout",
     "output_type": "stream",
     "text": [
      "Loss:nan\n",
      "Loss:1.0720000000000005\n"
     ]
    },
    {
     "name": "stderr",
     "output_type": "stream",
     "text": [
      " 84%|████████▎ | 418/500 [01:02<00:14,  5.48it/s]"
     ]
    },
    {
     "name": "stdout",
     "output_type": "stream",
     "text": [
      "Loss:nan\n",
      "Loss:nan\n"
     ]
    },
    {
     "name": "stderr",
     "output_type": "stream",
     "text": [
      "\r",
      " 84%|████████▍ | 419/500 [01:03<00:14,  5.67it/s]"
     ]
    },
    {
     "name": "stdout",
     "output_type": "stream",
     "text": [
      "Loss:0.664\n"
     ]
    },
    {
     "name": "stderr",
     "output_type": "stream",
     "text": [
      "\r",
      " 84%|████████▍ | 420/500 [01:03<00:16,  4.86it/s]"
     ]
    },
    {
     "name": "stdout",
     "output_type": "stream",
     "text": [
      "Loss:0.528\n"
     ]
    },
    {
     "name": "stderr",
     "output_type": "stream",
     "text": [
      " 84%|████████▍ | 422/500 [01:03<00:16,  4.82it/s]"
     ]
    },
    {
     "name": "stdout",
     "output_type": "stream",
     "text": [
      "Loss:1.1400000000000001\n",
      "Loss:1.0919999999999999\n"
     ]
    },
    {
     "name": "stderr",
     "output_type": "stream",
     "text": [
      "\r",
      " 85%|████████▍ | 423/500 [01:04<00:16,  4.64it/s]"
     ]
    },
    {
     "name": "stdout",
     "output_type": "stream",
     "text": [
      "Loss:nan\n"
     ]
    },
    {
     "name": "stderr",
     "output_type": "stream",
     "text": [
      " 85%|████████▌ | 425/500 [01:04<00:14,  5.03it/s]"
     ]
    },
    {
     "name": "stdout",
     "output_type": "stream",
     "text": [
      "Loss:nan\n",
      "Loss:nan\n"
     ]
    },
    {
     "name": "stderr",
     "output_type": "stream",
     "text": [
      " 85%|████████▌ | 427/500 [01:04<00:13,  5.48it/s]"
     ]
    },
    {
     "name": "stdout",
     "output_type": "stream",
     "text": [
      "Loss:0.972\n",
      "Loss:nan\n"
     ]
    },
    {
     "name": "stderr",
     "output_type": "stream",
     "text": [
      "\r",
      " 86%|████████▌ | 428/500 [01:04<00:12,  5.67it/s]"
     ]
    },
    {
     "name": "stdout",
     "output_type": "stream",
     "text": [
      "Loss:nan\n"
     ]
    },
    {
     "name": "stderr",
     "output_type": "stream",
     "text": [
      " 86%|████████▌ | 430/500 [01:05<00:13,  5.31it/s]"
     ]
    },
    {
     "name": "stdout",
     "output_type": "stream",
     "text": [
      "Loss:0.8160000000000004\n",
      "Loss:0.5720000000000001\n"
     ]
    },
    {
     "name": "stderr",
     "output_type": "stream",
     "text": [
      " 86%|████████▋ | 432/500 [01:05<00:10,  6.20it/s]"
     ]
    },
    {
     "name": "stdout",
     "output_type": "stream",
     "text": [
      "Loss:1.04\n",
      "Loss:1.1080000000000003\n"
     ]
    },
    {
     "name": "stderr",
     "output_type": "stream",
     "text": [
      " 87%|████████▋ | 434/500 [01:05<00:10,  6.53it/s]"
     ]
    },
    {
     "name": "stdout",
     "output_type": "stream",
     "text": [
      "Loss:nan\n",
      "Loss:nan\n"
     ]
    },
    {
     "name": "stderr",
     "output_type": "stream",
     "text": [
      " 87%|████████▋ | 436/500 [01:06<00:09,  6.48it/s]"
     ]
    },
    {
     "name": "stdout",
     "output_type": "stream",
     "text": [
      "Loss:nan\n",
      "Loss:1.104\n"
     ]
    },
    {
     "name": "stderr",
     "output_type": "stream",
     "text": [
      " 88%|████████▊ | 438/500 [01:06<00:09,  6.23it/s]"
     ]
    },
    {
     "name": "stdout",
     "output_type": "stream",
     "text": [
      "Loss:nan\n",
      "Loss:nan\n"
     ]
    },
    {
     "name": "stderr",
     "output_type": "stream",
     "text": [
      " 88%|████████▊ | 440/500 [01:06<00:09,  6.04it/s]"
     ]
    },
    {
     "name": "stdout",
     "output_type": "stream",
     "text": [
      "Loss:0.9799999999999999\n",
      "Loss:0.604\n"
     ]
    },
    {
     "name": "stderr",
     "output_type": "stream",
     "text": [
      " 88%|████████▊ | 442/500 [01:07<00:08,  6.79it/s]"
     ]
    },
    {
     "name": "stdout",
     "output_type": "stream",
     "text": [
      "Loss:1.148\n",
      "Loss:1.1440000000000001\n"
     ]
    },
    {
     "name": "stderr",
     "output_type": "stream",
     "text": [
      "\r",
      " 89%|████████▊ | 443/500 [01:07<00:09,  6.02it/s]"
     ]
    },
    {
     "name": "stdout",
     "output_type": "stream",
     "text": [
      "Loss:nan\n"
     ]
    },
    {
     "name": "stderr",
     "output_type": "stream",
     "text": [
      "\r",
      " 89%|████████▉ | 444/500 [01:07<00:10,  5.42it/s]"
     ]
    },
    {
     "name": "stdout",
     "output_type": "stream",
     "text": [
      "Loss:nan\n"
     ]
    },
    {
     "name": "stderr",
     "output_type": "stream",
     "text": [
      " 89%|████████▉ | 446/500 [01:07<00:10,  5.39it/s]"
     ]
    },
    {
     "name": "stdout",
     "output_type": "stream",
     "text": [
      "Loss:nan\n",
      "Loss:1.0279999999999998\n"
     ]
    },
    {
     "name": "stderr",
     "output_type": "stream",
     "text": [
      " 90%|████████▉ | 448/500 [01:08<00:09,  5.25it/s]"
     ]
    },
    {
     "name": "stdout",
     "output_type": "stream",
     "text": [
      "Loss:nan\n",
      "Loss:nan\n"
     ]
    },
    {
     "name": "stderr",
     "output_type": "stream",
     "text": [
      " 90%|█████████ | 450/500 [01:08<00:09,  5.42it/s]"
     ]
    },
    {
     "name": "stdout",
     "output_type": "stream",
     "text": [
      "Loss:1.08\n",
      "Loss:0.8\n"
     ]
    },
    {
     "name": "stderr",
     "output_type": "stream",
     "text": [
      " 90%|█████████ | 452/500 [01:09<00:08,  5.71it/s]"
     ]
    },
    {
     "name": "stdout",
     "output_type": "stream",
     "text": [
      "Loss:1.192\n",
      "Loss:1.0480000000000003\n"
     ]
    },
    {
     "name": "stderr",
     "output_type": "stream",
     "text": [
      " 91%|█████████ | 454/500 [01:09<00:07,  6.11it/s]"
     ]
    },
    {
     "name": "stdout",
     "output_type": "stream",
     "text": [
      "Loss:nan\n",
      "Loss:nan\n"
     ]
    },
    {
     "name": "stderr",
     "output_type": "stream",
     "text": [
      " 91%|█████████ | 456/500 [01:09<00:07,  5.59it/s]"
     ]
    },
    {
     "name": "stdout",
     "output_type": "stream",
     "text": [
      "Loss:nan\n",
      "Loss:0.976\n"
     ]
    },
    {
     "name": "stderr",
     "output_type": "stream",
     "text": [
      " 92%|█████████▏| 458/500 [01:10<00:07,  5.56it/s]"
     ]
    },
    {
     "name": "stdout",
     "output_type": "stream",
     "text": [
      "Loss:nan\n",
      "Loss:nan\n"
     ]
    },
    {
     "name": "stderr",
     "output_type": "stream",
     "text": [
      " 92%|█████████▏| 460/500 [01:10<00:07,  5.60it/s]"
     ]
    },
    {
     "name": "stdout",
     "output_type": "stream",
     "text": [
      "Loss:1.128\n",
      "Loss:1.0200000000000002\n"
     ]
    },
    {
     "name": "stderr",
     "output_type": "stream",
     "text": [
      " 92%|█████████▏| 462/500 [01:10<00:06,  5.94it/s]"
     ]
    },
    {
     "name": "stdout",
     "output_type": "stream",
     "text": [
      "Loss:1.04\n",
      "Loss:0.9280000000000002\n"
     ]
    },
    {
     "name": "stderr",
     "output_type": "stream",
     "text": [
      " 93%|█████████▎| 464/500 [01:11<00:05,  6.42it/s]"
     ]
    },
    {
     "name": "stdout",
     "output_type": "stream",
     "text": [
      "Loss:nan\n",
      "Loss:nan\n"
     ]
    },
    {
     "name": "stderr",
     "output_type": "stream",
     "text": [
      " 93%|█████████▎| 466/500 [01:11<00:05,  5.98it/s]"
     ]
    },
    {
     "name": "stdout",
     "output_type": "stream",
     "text": [
      "Loss:nan\n",
      "Loss:1.1560000000000001\n"
     ]
    },
    {
     "name": "stderr",
     "output_type": "stream",
     "text": [
      " 94%|█████████▎| 468/500 [01:11<00:05,  5.78it/s]"
     ]
    },
    {
     "name": "stdout",
     "output_type": "stream",
     "text": [
      "Loss:nan\n",
      "Loss:nan\n"
     ]
    },
    {
     "name": "stderr",
     "output_type": "stream",
     "text": [
      " 94%|█████████▍| 470/500 [01:12<00:05,  5.50it/s]"
     ]
    },
    {
     "name": "stdout",
     "output_type": "stream",
     "text": [
      "Loss:0.9520000000000001\n",
      "Loss:1.06\n"
     ]
    },
    {
     "name": "stderr",
     "output_type": "stream",
     "text": [
      " 94%|█████████▍| 472/500 [01:12<00:04,  5.93it/s]"
     ]
    },
    {
     "name": "stdout",
     "output_type": "stream",
     "text": [
      "Loss:1.048\n",
      "Loss:1.052\n"
     ]
    },
    {
     "name": "stderr",
     "output_type": "stream",
     "text": [
      " 95%|█████████▍| 474/500 [01:12<00:04,  6.10it/s]"
     ]
    },
    {
     "name": "stdout",
     "output_type": "stream",
     "text": [
      "Loss:nan\n",
      "Loss:nan\n"
     ]
    },
    {
     "name": "stderr",
     "output_type": "stream",
     "text": [
      " 95%|█████████▌| 476/500 [01:13<00:03,  6.35it/s]"
     ]
    },
    {
     "name": "stdout",
     "output_type": "stream",
     "text": [
      "Loss:nan\n",
      "Loss:1.024\n"
     ]
    },
    {
     "name": "stderr",
     "output_type": "stream",
     "text": [
      " 96%|█████████▌| 478/500 [01:13<00:03,  5.89it/s]"
     ]
    },
    {
     "name": "stdout",
     "output_type": "stream",
     "text": [
      "Loss:nan\n",
      "Loss:nan\n"
     ]
    },
    {
     "name": "stderr",
     "output_type": "stream",
     "text": [
      " 96%|█████████▌| 480/500 [01:13<00:03,  5.71it/s]"
     ]
    },
    {
     "name": "stdout",
     "output_type": "stream",
     "text": [
      "Loss:1.0800000000000003\n",
      "Loss:1.1119999999999999\n"
     ]
    },
    {
     "name": "stderr",
     "output_type": "stream",
     "text": [
      " 96%|█████████▋| 482/500 [01:14<00:02,  6.27it/s]"
     ]
    },
    {
     "name": "stdout",
     "output_type": "stream",
     "text": [
      "Loss:1.1040000000000003\n",
      "Loss:1.1\n"
     ]
    },
    {
     "name": "stderr",
     "output_type": "stream",
     "text": [
      " 97%|█████████▋| 484/500 [01:14<00:02,  6.81it/s]"
     ]
    },
    {
     "name": "stdout",
     "output_type": "stream",
     "text": [
      "Loss:nan\n",
      "Loss:nan\n"
     ]
    },
    {
     "name": "stderr",
     "output_type": "stream",
     "text": [
      " 97%|█████████▋| 486/500 [01:14<00:01,  7.28it/s]"
     ]
    },
    {
     "name": "stdout",
     "output_type": "stream",
     "text": [
      "Loss:nan\n",
      "Loss:1.112\n"
     ]
    },
    {
     "name": "stderr",
     "output_type": "stream",
     "text": [
      " 98%|█████████▊| 488/500 [01:14<00:01,  6.96it/s]"
     ]
    },
    {
     "name": "stdout",
     "output_type": "stream",
     "text": [
      "Loss:nan\n",
      "Loss:nan\n"
     ]
    },
    {
     "name": "stderr",
     "output_type": "stream",
     "text": [
      "\r",
      " 98%|█████████▊| 489/500 [01:15<00:01,  6.59it/s]"
     ]
    },
    {
     "name": "stdout",
     "output_type": "stream",
     "text": [
      "Loss:0.9839999999999999\n"
     ]
    },
    {
     "name": "stderr",
     "output_type": "stream",
     "text": [
      " 98%|█████████▊| 491/500 [01:15<00:01,  5.87it/s]"
     ]
    },
    {
     "name": "stdout",
     "output_type": "stream",
     "text": [
      "Loss:1.092\n",
      "Loss:1.1\n"
     ]
    },
    {
     "name": "stderr",
     "output_type": "stream",
     "text": [
      " 99%|█████████▊| 493/500 [01:15<00:01,  6.13it/s]"
     ]
    },
    {
     "name": "stdout",
     "output_type": "stream",
     "text": [
      "Loss:1.016\n",
      "Loss:nan\n"
     ]
    },
    {
     "name": "stderr",
     "output_type": "stream",
     "text": [
      " 99%|█████████▉| 495/500 [01:16<00:00,  6.70it/s]"
     ]
    },
    {
     "name": "stdout",
     "output_type": "stream",
     "text": [
      "Loss:nan\n",
      "Loss:nan\n"
     ]
    },
    {
     "name": "stderr",
     "output_type": "stream",
     "text": [
      " 99%|█████████▉| 497/500 [01:16<00:00,  6.92it/s]"
     ]
    },
    {
     "name": "stdout",
     "output_type": "stream",
     "text": [
      "Loss:1.1360000000000001\n",
      "Loss:nan\n"
     ]
    },
    {
     "name": "stderr",
     "output_type": "stream",
     "text": [
      "100%|█████████▉| 499/500 [01:16<00:00,  6.62it/s]"
     ]
    },
    {
     "name": "stdout",
     "output_type": "stream",
     "text": [
      "Loss:nan\n",
      "Loss:1.044\n"
     ]
    },
    {
     "name": "stderr",
     "output_type": "stream",
     "text": [
      "100%|██████████| 500/500 [01:16<00:00,  6.51it/s]"
     ]
    },
    {
     "name": "stdout",
     "output_type": "stream",
     "text": [
      "Loss:1.0479999999999998\n"
     ]
    },
    {
     "name": "stderr",
     "output_type": "stream",
     "text": [
      "\n"
     ]
    }
   ],
   "source": [
    "# Fivefold Cross validation\n",
    "# identify suitable gaussian kernels from training data quantiles\n",
    "D = imp.sqdistmat(X_tr)\n",
    "quantiles = np.quantile(D,[0.1,0.5, 0.9])\n",
    "params = { 'kernel': ['gaussian'], 'kernelparameter': np.logspace(-5,3, 50), 'regularization': np.logspace(-4,1, 10) }\n",
    "cvsvm = cv(X_tr, Y_tr, imp.svm_qp, params, loss_function=mean_absolute_error, nfolds=5)\n"
   ]
  },
  {
   "cell_type": "code",
   "execution_count": 91,
   "metadata": {},
   "outputs": [
    {
     "data": {
      "text/plain": [
       "('gaussian', 0.3727593720314938, 0.7742636826811278)"
      ]
     },
     "execution_count": 91,
     "metadata": {},
     "output_type": "execute_result"
    }
   ],
   "source": [
    "cvsvm.__params"
   ]
  },
  {
   "cell_type": "code",
   "execution_count": 92,
   "metadata": {},
   "outputs": [
    {
     "data": {
      "text/plain": [
       "94"
      ]
     },
     "execution_count": 92,
     "metadata": {},
     "output_type": "execute_result"
    }
   ],
   "source": [
    "np.sum(cvsvm.predict(X_te) == Y_te)"
   ]
  },
  {
   "cell_type": "code",
   "execution_count": 93,
   "metadata": {},
   "outputs": [
    {
     "data": {
      "image/png": "[encoded data removed]",
      "text/plain": [
       "<Figure size 432x288 with 1 Axes>"
      ]
     },
     "metadata": {
      "needs_background": "light"
     },
     "output_type": "display_data"
    }
   ],
   "source": [
    "imp.plot_boundary_2d(X_tr, Y_tr, cvsvm)"
   ]
  },
  {
   "cell_type": "code",
   "execution_count": 25,
   "metadata": {},
   "outputs": [
    {
     "name": "stderr",
     "output_type": "stream",
     "text": [
      "  2%|▏         | 9/500 [00:00<00:13, 35.72it/s]"
     ]
    },
    {
     "name": "stdout",
     "output_type": "stream",
     "text": [
      "Loss:1.13599932\n",
      "Loss:1.1039975863738065\n",
      "Loss:1.1519836262963559\n",
      "Loss:1.103948\n",
      "Loss:1.191252641526787\n",
      "Loss:1.1570328626625164\n",
      "Loss:1.1456173926281694\n",
      "Loss:1.136209518775649\n",
      "Loss:1.0150000000000001\n"
     ]
    },
    {
     "name": "stderr",
     "output_type": "stream",
     "text": [
      "\r",
      "  3%|▎         | 13/500 [00:00<00:13, 35.20it/s]"
     ]
    },
    {
     "name": "stdout",
     "output_type": "stream",
     "text": [
      "Loss:1.0096000000000003\n",
      "Loss:1.1519992399999999\n",
      "Loss:1.1759959154018262\n",
      "Loss:1.1919793174269757\n",
      "Loss:1.1919039999999999\n",
      "Loss:1.1593640603516016\n",
      "Loss:1.133382599953024\n"
     ]
    },
    {
     "name": "stderr",
     "output_type": "stream",
     "text": [
      "  4%|▍         | 20/500 [00:00<00:15, 30.77it/s]"
     ]
    },
    {
     "name": "stdout",
     "output_type": "stream",
     "text": [
      "Loss:1.1238165320656526\n",
      "Loss:1.0954719543434432\n",
      "Loss:1.0090000000000003\n",
      "Loss:1.0080000000000002\n",
      "Loss:1.16799916\n",
      "Loss:1.1679961010653799\n",
      "Loss:1.1599827645224798\n"
     ]
    },
    {
     "name": "stderr",
     "output_type": "stream",
     "text": [
      "  6%|▌         | 29/500 [00:00<00:14, 32.86it/s]"
     ]
    },
    {
     "name": "stdout",
     "output_type": "stream",
     "text": [
      "Loss:1.1759119999999998\n",
      "Loss:1.1673327740584394\n",
      "Loss:1.1647981704115773\n",
      "Loss:1.1310701976412694\n",
      "Loss:1.0942298602646465\n",
      "Loss:1.0080000000000005\n",
      "Loss:1.0110000000000001\n"
     ]
    },
    {
     "name": "stderr",
     "output_type": "stream",
     "text": [
      "  7%|▋         | 37/500 [00:01<00:14, 32.80it/s]"
     ]
    },
    {
     "name": "stdout",
     "output_type": "stream",
     "text": [
      "Loss:1.1839990799999998\n",
      "Loss:1.1439966580560397\n",
      "Loss:1.111987935165736\n",
      "Loss:1.1439279999999998\n",
      "Loss:1.0956109161174243\n",
      "Loss:1.1568869719315573\n",
      "Loss:1.1385168963764538\n"
     ]
    },
    {
     "name": "stderr",
     "output_type": "stream",
     "text": [
      "\r",
      "  8%|▊         | 41/500 [00:01<00:14, 30.87it/s]"
     ]
    },
    {
     "name": "stdout",
     "output_type": "stream",
     "text": [
      "Loss:1.0801362291852585\n",
      "Loss:1.0088000000000001\n",
      "Loss:1.0154\n",
      "Loss:1.1679991599999997\n",
      "Loss:1.1759959154018265\n",
      "Loss:1.1679819027486038\n"
     ]
    },
    {
     "name": "stderr",
     "output_type": "stream",
     "text": [
      " 10%|▉         | 48/500 [00:01<00:15, 28.67it/s]"
     ]
    },
    {
     "name": "stdout",
     "output_type": "stream",
     "text": [
      "Loss:1.1519239999999997\n",
      "Loss:1.1593634742924055\n",
      "Loss:1.1490727569489831\n",
      "Loss:1.1754293874437698\n",
      "Loss:1.084306122010467\n",
      "Loss:1.0072000000000003\n"
     ]
    },
    {
     "name": "stderr",
     "output_type": "stream",
     "text": [
      " 11%|█         | 54/500 [00:01<00:16, 27.22it/s]"
     ]
    },
    {
     "name": "stdout",
     "output_type": "stream",
     "text": [
      "Loss:1.0088000000000004\n",
      "Loss:1.16799916\n",
      "Loss:1.1439966580560395\n",
      "Loss:1.1679819027486038\n",
      "Loss:1.11994\n",
      "Loss:1.1593610455540624\n",
      "Loss:1.1333622405849675\n"
     ]
    },
    {
     "name": "stderr",
     "output_type": "stream",
     "text": [
      " 12%|█▏        | 61/500 [00:01<00:15, 27.68it/s]"
     ]
    },
    {
     "name": "stdout",
     "output_type": "stream",
     "text": [
      "Loss:1.153336878385999\n",
      "Loss:1.0931043530725648\n",
      "Loss:1.0122000000000002\n",
      "Loss:1.0092000000000003\n",
      "Loss:1.1439992799999996\n",
      "Loss:1.1999953584111662"
     ]
    },
    {
     "name": "stderr",
     "output_type": "stream",
     "text": [
      "\r",
      " 13%|█▎        | 64/500 [00:02<00:19, 22.85it/s]"
     ]
    },
    {
     "name": "stdout",
     "output_type": "stream",
     "text": [
      "\n",
      "Loss:1.1599827645224798\n",
      "Loss:1.103948\n",
      "Loss:1.1673331883886617\n"
     ]
    },
    {
     "name": "stderr",
     "output_type": "stream",
     "text": [
      " 14%|█▍        | 70/500 [00:02<00:19, 22.49it/s]"
     ]
    },
    {
     "name": "stdout",
     "output_type": "stream",
     "text": [
      "Loss:1.1569690583304257\n",
      "Loss:1.1237170820104454\n",
      "Loss:1.0990077312133808\n",
      "Loss:1.0098000000000005\n",
      "Loss:1.0078000000000003\n",
      "Loss:1.1439992799999998\n"
     ]
    },
    {
     "name": "stderr",
     "output_type": "stream",
     "text": [
      " 15%|█▌        | 76/500 [00:02<00:18, 22.75it/s]"
     ]
    },
    {
     "name": "stdout",
     "output_type": "stream",
     "text": [
      "Loss:1.1839957297382728\n",
      "Loss:1.1919793174269762\n",
      "Loss:1.1279359999999998\n",
      "Loss:1.1434183981247559\n",
      "Loss:1.125487827781322\n"
     ]
    },
    {
     "name": "stderr",
     "output_type": "stream",
     "text": [
      "\r",
      " 16%|█▌        | 79/500 [00:02<00:18, 22.23it/s]"
     ]
    },
    {
     "name": "stdout",
     "output_type": "stream",
     "text": [
      "Loss:1.1461279221188465\n",
      "Loss:1.0793207288348063\n",
      "Loss:1.0150000000000001\n",
      "Loss:1.0064000000000002\n",
      "Loss:1.1599991999999997\n",
      "Loss:1.1519964723924865\n"
     ]
    },
    {
     "name": "stderr",
     "output_type": "stream",
     "text": [
      " 17%|█▋        | 86/500 [00:03<00:16, 25.20it/s]"
     ]
    },
    {
     "name": "stdout",
     "output_type": "stream",
     "text": [
      "Loss:1.1679819027486038\n",
      "Loss:1.1599199999999998\n",
      "Loss:1.1513901266291329\n",
      "Loss:1.164798729052774\n",
      "Loss:1.131238793902889\n",
      "Loss:1.100582809111481\n"
     ]
    },
    {
     "name": "stderr",
     "output_type": "stream",
     "text": [
      " 18%|█▊        | 92/500 [00:03<00:16, 25.15it/s]"
     ]
    },
    {
     "name": "stdout",
     "output_type": "stream",
     "text": [
      "Loss:1.0114\n",
      "Loss:1.0126000000000002\n",
      "Loss:1.1919990399999998\n",
      "Loss:1.1679961010653794\n",
      "Loss:1.1439844880702317\n"
     ]
    },
    {
     "name": "stderr",
     "output_type": "stream",
     "text": [
      " 20%|█▉        | 99/500 [00:03<00:14, 26.84it/s]"
     ]
    },
    {
     "name": "stdout",
     "output_type": "stream",
     "text": [
      "Loss:1.1599199999999998\n",
      "Loss:1.1992090108951505\n",
      "Loss:1.164889224019817\n",
      "Loss:1.1313611651511573\n",
      "Loss:1.104798655892037\n",
      "Loss:1.0072000000000003\n",
      "Loss:1.0128000000000004\n"
     ]
    },
    {
     "name": "stderr",
     "output_type": "stream",
     "text": [
      " 22%|██▏       | 108/500 [00:03<00:12, 32.12it/s]"
     ]
    },
    {
     "name": "stdout",
     "output_type": "stream",
     "text": [
      "Loss:1.17599912\n",
      "Loss:1.1519964723924863\n",
      "Loss:1.1839801792008517\n",
      "Loss:1.1759119999999998\n",
      "Loss:1.127493386988469\n",
      "Loss:1.1490573012092091\n",
      "Loss:1.1387522815874487\n",
      "Loss:1.0844436191625781\n"
     ]
    },
    {
     "name": "stderr",
     "output_type": "stream",
     "text": [
      "\r",
      " 22%|██▏       | 112/500 [00:03<00:14, 27.41it/s]"
     ]
    },
    {
     "name": "stdout",
     "output_type": "stream",
     "text": [
      "Loss:1.0142000000000002\n",
      "Loss:1.0078000000000003\n",
      "Loss:1.1359993199999998\n",
      "Loss:1.1519964723924863\n"
     ]
    },
    {
     "name": "stderr",
     "output_type": "stream",
     "text": [
      " 24%|██▎       | 118/500 [00:04<00:14, 25.88it/s]"
     ]
    },
    {
     "name": "stdout",
     "output_type": "stream",
     "text": [
      "Loss:1.1919793174269757\n",
      "Loss:1.1599199999999998\n",
      "Loss:1.1753067077809078\n",
      "Loss:1.1727019711278717\n",
      "Loss:1.1237937714393753\n",
      "Loss:1.1193486656708282\n"
     ]
    },
    {
     "name": "stderr",
     "output_type": "stream",
     "text": [
      " 25%|██▌       | 125/500 [00:04<00:13, 27.33it/s]"
     ]
    },
    {
     "name": "stdout",
     "output_type": "stream",
     "text": [
      "Loss:1.0128\n",
      "Loss:1.0092000000000003\n",
      "Loss:1.1599991999999997\n",
      "Loss:1.1519964723924863\n",
      "Loss:1.15998276452248\n",
      "Loss:1.167916\n",
      "Loss:1.1832643817680042\n"
     ]
    },
    {
     "name": "stderr",
     "output_type": "stream",
     "text": [
      " 26%|██▋       | 132/500 [00:04<00:12, 29.05it/s]"
     ]
    },
    {
     "name": "stdout",
     "output_type": "stream",
     "text": [
      "Loss:1.1569675291206856\n",
      "Loss:1.1607565472404948\n",
      "Loss:1.1067353027245226\n",
      "Loss:1.0068000000000004\n",
      "Loss:1.0131999999999999\n",
      "Loss:1.1599992000000001\n",
      "Loss:1.1759959154018262\n",
      "Loss:1.1279862116179842\n"
     ]
    },
    {
     "name": "stderr",
     "output_type": "stream",
     "text": [
      " 28%|██▊       | 140/500 [00:04<00:11, 32.40it/s]"
     ]
    },
    {
     "name": "stdout",
     "output_type": "stream",
     "text": [
      "Loss:1.1839079999999997\n",
      "Loss:1.1832677918147687\n",
      "Loss:1.1569328312952478\n",
      "Loss:1.1163369364989328\n",
      "Loss:1.1163210885927979\n",
      "Loss:1.0086000000000004\n",
      "Loss:1.0072\n",
      "Loss:1.1519992399999994\n"
     ]
    },
    {
     "name": "stderr",
     "output_type": "stream",
     "text": [
      " 30%|██▉       | 148/500 [00:05<00:10, 34.84it/s]"
     ]
    },
    {
     "name": "stdout",
     "output_type": "stream",
     "text": [
      "Loss:1.1439966580560397\n",
      "Loss:1.191979317426976\n",
      "Loss:1.1519239999999997\n",
      "Loss:1.1274825707889786\n",
      "Loss:1.1255459885370203\n",
      "Loss:1.175078493221658\n",
      "Loss:1.1114872948412597\n",
      "Loss:1.0052000000000003\n"
     ]
    },
    {
     "name": "stderr",
     "output_type": "stream",
     "text": [
      "\r",
      " 30%|███       | 152/500 [00:05<00:10, 33.72it/s]"
     ]
    },
    {
     "name": "stdout",
     "output_type": "stream",
     "text": [
      "Loss:1.0078000000000005\n",
      "Loss:1.0719996399999998\n",
      "Loss:1.1039975863738065\n",
      "Loss:1.151983626296356\n",
      "Loss:1.1759119999999998\n",
      "Loss:1.1912496267292476\n"
     ]
    },
    {
     "name": "stderr",
     "output_type": "stream",
     "text": [
      " 32%|███▏      | 159/500 [00:05<00:14, 23.31it/s]"
     ]
    },
    {
     "name": "stdout",
     "output_type": "stream",
     "text": [
      "Loss:1.1490642419028645\n",
      "Loss:1.1531781826039338\n",
      "Loss:1.1097720135079638\n",
      "Loss:1.0064000000000004\n"
     ]
    },
    {
     "name": "stderr",
     "output_type": "stream",
     "text": [
      " 33%|███▎      | 167/500 [00:05<00:11, 28.24it/s]"
     ]
    },
    {
     "name": "stdout",
     "output_type": "stream",
     "text": [
      "Loss:1.0062000000000002\n",
      "Loss:1.199999\n",
      "Loss:1.1519964723924863\n",
      "Loss:1.1359853498441081\n",
      "Loss:1.1839079999999997\n",
      "Loss:1.1195176623781309\n",
      "Loss:1.1176592235558038\n",
      "Loss:1.205081163939789\n"
     ]
    },
    {
     "name": "stderr",
     "output_type": "stream",
     "text": [
      " 35%|███▌      | 175/500 [00:06<00:10, 32.07it/s]"
     ]
    },
    {
     "name": "stdout",
     "output_type": "stream",
     "text": [
      "Loss:1.0985481916599058\n",
      "Loss:1.0051999999999992\n",
      "Loss:1.0039999999999993\n",
      "Loss:1.1599991999999222\n",
      "Loss:1.1599962867285714\n",
      "Loss:1.2399741467828806\n",
      "Loss:1.1839079999931865\n",
      "Loss:1.1673319644539\n"
     ]
    },
    {
     "name": "stderr",
     "output_type": "stream",
     "text": [
      " 37%|███▋      | 183/500 [00:06<00:09, 33.36it/s]"
     ]
    },
    {
     "name": "stdout",
     "output_type": "stream",
     "text": [
      "Loss:1.1963372752071022\n",
      "Loss:1.1235785530311797\n",
      "Loss:1.0991593267000423\n",
      "Loss:1.0095999896097565\n",
      "Loss:1.0071999903186077\n",
      "Loss:1.1519992398310288\n",
      "Loss:1.1679961002810253\n",
      "Loss:1.127986207067405\n"
     ]
    },
    {
     "name": "stderr",
     "output_type": "stream",
     "text": [
      " 38%|███▊      | 191/500 [00:06<00:08, 35.52it/s]"
     ]
    },
    {
     "name": "stdout",
     "output_type": "stream",
     "text": [
      "Loss:1.135931978878084\n",
      "Loss:1.1673330898256058\n",
      "Loss:1.1963561691915816\n",
      "Loss:1.08712395233994\n",
      "Loss:1.0745322507517279\n",
      "Loss:1.0063872085809666\n",
      "Loss:1.0097777748216714\n",
      "Loss:1.183999075215889\n"
     ]
    },
    {
     "name": "stderr",
     "output_type": "stream",
     "text": [
      " 40%|███▉      | 199/500 [00:06<00:08, 36.47it/s]"
     ]
    },
    {
     "name": "stdout",
     "output_type": "stream",
     "text": [
      "Loss:1.1919955141321597\n",
      "Loss:1.143984349399941\n",
      "Loss:1.1279353534648136\n",
      "Loss:1.1673309631614128\n",
      "Loss:1.1490624146539485\n",
      "Loss:1.1237028267244655\n",
      "Loss:1.0846226388178015\n",
      "Loss:1.0091212088014694\n"
     ]
    },
    {
     "name": "stderr",
     "output_type": "stream",
     "text": [
      "\r",
      " 41%|████      | 203/500 [00:06<00:08, 35.24it/s]"
     ]
    },
    {
     "name": "stdout",
     "output_type": "stream",
     "text": [
      "Loss:1.0057790648106788\n",
      "Loss:1.1759990824364932\n",
      "Loss:1.1439965119346143\n",
      "Loss:1.1599816818698412\n",
      "Loss:1.151919007261155\n",
      "Loss:1.1354367544033155\n",
      "Loss:1.1333524850150585\n"
     ]
    },
    {
     "name": "stderr",
     "output_type": "stream",
     "text": [
      " 42%|████▏     | 211/500 [00:07<00:08, 32.28it/s]"
     ]
    },
    {
     "name": "stdout",
     "output_type": "stream",
     "text": [
      "Loss:1.1894398944818603\n",
      "Loss:1.0813795332821785\n",
      "Loss:1.0088436250318948\n",
      "Loss:1.0071506314550585\n",
      "Loss:1.1439991939908891\n",
      "Loss:1.1919949192988453\n",
      "Loss:1.2239732379740003\n"
     ]
    },
    {
     "name": "stderr",
     "output_type": "stream",
     "text": [
      " 44%|████▍     | 219/500 [00:07<00:08, 33.44it/s]"
     ]
    },
    {
     "name": "stdout",
     "output_type": "stream",
     "text": [
      "Loss:1.1599093890564736\n",
      "Loss:1.1593013131406678\n",
      "Loss:1.180401677468931\n",
      "Loss:1.1521625769576287\n",
      "Loss:1.0888987347970716\n",
      "Loss:0.9969887686469514\n",
      "Loss:1.0053870280852681\n"
     ]
    },
    {
     "name": "stderr",
     "output_type": "stream",
     "text": [
      " 45%|████▌     | 227/500 [00:07<00:08, 33.69it/s]"
     ]
    },
    {
     "name": "stdout",
     "output_type": "stream",
     "text": [
      "Loss:1.1359990959653243\n",
      "Loss:1.1119964724145457\n",
      "Loss:1.1439786525821634\n",
      "Loss:1.1758855126703307\n",
      "Loss:1.1911706536480837\n",
      "Loss:1.1642266749984977\n",
      "Loss:1.114178061880322\n",
      "Loss:1.0793051694913638\n"
     ]
    },
    {
     "name": "stderr",
     "output_type": "stream",
     "text": [
      " 47%|████▋     | 235/500 [00:07<00:08, 33.11it/s]"
     ]
    },
    {
     "name": "stdout",
     "output_type": "stream",
     "text": [
      "Loss:0.9838240723492356\n",
      "Loss:0.9928502614382819\n",
      "Loss:1.1679986182438558\n",
      "Loss:1.2479920977634849\n",
      "Loss:1.1999659408556866\n",
      "Loss:1.1278874501907306\n",
      "Loss:1.1830594722883427\n"
     ]
    },
    {
     "name": "stderr",
     "output_type": "stream",
     "text": [
      "\r",
      " 48%|████▊     | 239/500 [00:07<00:08, 30.61it/s]"
     ]
    },
    {
     "name": "stdout",
     "output_type": "stream",
     "text": [
      "Loss:1.124502661569339\n",
      "Loss:1.2068301089826854\n",
      "Loss:1.0851807472945143\n",
      "Loss:0.962074593267862\n",
      "Loss:0.9614749348959201\n",
      "Loss:1.1439981786345101\n"
     ]
    },
    {
     "name": "stderr",
     "output_type": "stream",
     "text": [
      " 49%|████▉     | 246/500 [00:08<00:08, 29.34it/s]"
     ]
    },
    {
     "name": "stdout",
     "output_type": "stream",
     "text": [
      "Loss:1.1519914914311098\n",
      "Loss:1.1599602821474486\n",
      "Loss:1.1518079260811074\n",
      "Loss:1.1509993537837235\n",
      "Loss:1.1785621281027137\n",
      "Loss:1.1443851754910417\n"
     ]
    },
    {
     "name": "stderr",
     "output_type": "stream",
     "text": [
      " 51%|█████     | 253/500 [00:08<00:08, 28.97it/s]"
     ]
    },
    {
     "name": "stdout",
     "output_type": "stream",
     "text": [
      "Loss:1.0378925364302607\n",
      "Loss:0.9209415692268061\n",
      "Loss:0.9172688048344025\n",
      "Loss:1.1679968211462082\n",
      "Loss:1.183985209169951\n",
      "Loss:1.1679340228490598\n",
      "Loss:1.159689676474073\n"
     ]
    },
    {
     "name": "stderr",
     "output_type": "stream",
     "text": [
      "\r",
      " 51%|█████▏    | 257/500 [00:08<00:08, 30.07it/s]"
     ]
    },
    {
     "name": "stdout",
     "output_type": "stream",
     "text": [
      "Loss:1.134504251264839\n",
      "Loss:1.1212272073525527\n",
      "Loss:1.1638537002465763\n",
      "Loss:1.0030158455968856\n",
      "Loss:0.8630347554933389\n",
      "Loss:0.8586043325410517\n"
     ]
    },
    {
     "name": "stderr",
     "output_type": "stream",
     "text": [
      " 53%|█████▎    | 264/500 [00:08<00:08, 27.75it/s]"
     ]
    },
    {
     "name": "stdout",
     "output_type": "stream",
     "text": [
      "Loss:1.1439946971855595\n",
      "Loss:1.1679739408907925\n",
      "Loss:1.1998785818629878\n",
      "Loss:1.159439622516767\n",
      "Loss:1.157379138630744\n",
      "Loss:1.1870463454114928\n"
     ]
    },
    {
     "name": "stderr",
     "output_type": "stream",
     "text": [
      " 54%|█████▍    | 270/500 [00:09<00:09, 24.97it/s]"
     ]
    },
    {
     "name": "stdout",
     "output_type": "stream",
     "text": [
      "Loss:1.0457147219019596\n",
      "Loss:0.9123449426123833\n",
      "Loss:0.7490065975187805\n",
      "Loss:0.7700530991271504\n",
      "Loss:1.119990581542845\n"
     ]
    },
    {
     "name": "stderr",
     "output_type": "stream",
     "text": [
      " 55%|█████▌    | 277/500 [00:09<00:07, 28.01it/s]"
     ]
    },
    {
     "name": "stdout",
     "output_type": "stream",
     "text": [
      "Loss:1.1279551228815106\n",
      "Loss:1.175781642905856\n",
      "Loss:1.174932507700129\n",
      "Loss:1.1473145118331334\n",
      "Loss:1.0997787305513236\n",
      "Loss:1.092463180665729\n",
      "Loss:0.7480574460331517\n"
     ]
    },
    {
     "name": "stderr",
     "output_type": "stream",
     "text": [
      " 57%|█████▋    | 284/500 [00:09<00:07, 29.55it/s]"
     ]
    },
    {
     "name": "stdout",
     "output_type": "stream",
     "text": [
      "Loss:0.6567824034762737\n",
      "Loss:0.7036184007353685\n",
      "Loss:1.159981880971884\n",
      "Loss:1.1839154587583811\n",
      "Loss:1.1436113451353416\n",
      "Loss:1.1741484328074605\n",
      "Loss:1.1435781849650393\n"
     ]
    },
    {
     "name": "stderr",
     "output_type": "stream",
     "text": [
      " 58%|█████▊    | 292/500 [00:09<00:06, 31.58it/s]"
     ]
    },
    {
     "name": "stdout",
     "output_type": "stream",
     "text": [
      "Loss:1.0896330754849195\n",
      "Loss:0.9682402251951965\n",
      "Loss:0.5477985152365289\n",
      "Loss:0.4737384459578472\n",
      "Loss:0.6236585400167177\n",
      "Loss:1.1359676685383493\n",
      "Loss:1.1438489614677188\n",
      "Loss:1.1672835819444498\n"
     ]
    },
    {
     "name": "stderr",
     "output_type": "stream",
     "text": [
      " 60%|██████    | 300/500 [00:10<00:06, 31.78it/s]"
     ]
    },
    {
     "name": "stdout",
     "output_type": "stream",
     "text": [
      "Loss:1.1487588681700265\n",
      "Loss:1.168606675627946\n",
      "Loss:1.0819347467401004\n",
      "Loss:0.8592078218328609\n",
      "Loss:0.4191404308898946\n",
      "Loss:0.40344896533972935\n",
      "Loss:0.5486687318284873\n"
     ]
    },
    {
     "name": "stderr",
     "output_type": "stream",
     "text": [
      "\r",
      " 61%|██████    | 304/500 [00:10<00:06, 31.48it/s]"
     ]
    },
    {
     "name": "stdout",
     "output_type": "stream",
     "text": [
      "Loss:1.1679472608659907\n",
      "Loss:1.1277680792234106\n",
      "Loss:1.1109303713031828\n",
      "Loss:1.2025882423847325\n",
      "Loss:1.1042582743929983\n",
      "Loss:0.974216928803266\n",
      "Loss:0.6107071621734567\n"
     ]
    },
    {
     "name": "stderr",
     "output_type": "stream",
     "text": [
      " 62%|██████▏   | 312/500 [00:10<00:05, 32.42it/s]"
     ]
    },
    {
     "name": "stdout",
     "output_type": "stream",
     "text": [
      "Loss:0.36250328780732377\n",
      "Loss:0.4047799535075957\n",
      "Loss:0.5367928278970606\n",
      "Loss:1.151931753736858\n",
      "Loss:1.0877066242816102\n",
      "Loss:1.1505571739164053\n",
      "Loss:1.1691137427046134\n",
      "Loss:1.0895709654968113\n"
     ]
    },
    {
     "name": "stderr",
     "output_type": "stream",
     "text": [
      " 64%|██████▍   | 320/500 [00:10<00:05, 34.81it/s]"
     ]
    },
    {
     "name": "stdout",
     "output_type": "stream",
     "text": [
      "Loss:0.9940443986274451\n",
      "Loss:0.5163030154412974\n",
      "Loss:0.3638998992390923\n",
      "Loss:0.4403974966342127\n",
      "Loss:0.5592438439673092\n",
      "Loss:1.1839262090542144\n",
      "Loss:1.1356550648450605\n",
      "Loss:1.1902573924028765\n"
     ]
    },
    {
     "name": "stderr",
     "output_type": "stream",
     "text": [
      " 66%|██████▌   | 328/500 [00:10<00:05, 30.43it/s]"
     ]
    },
    {
     "name": "stdout",
     "output_type": "stream",
     "text": [
      "Loss:1.12821746968425\n",
      "Loss:1.0997209992936414\n",
      "Loss:0.9695213741239044\n",
      "Loss:0.5065715843867253\n",
      "Loss:0.41585068188292035\n",
      "Loss:0.5325850386725947\n"
     ]
    },
    {
     "name": "stderr",
     "output_type": "stream",
     "text": [
      " 67%|██████▋   | 336/500 [00:11<00:05, 31.47it/s]"
     ]
    },
    {
     "name": "stdout",
     "output_type": "stream",
     "text": [
      "Loss:0.7455821066383028\n",
      "Loss:1.1759191114010108\n",
      "Loss:1.1596260836736456\n",
      "Loss:1.174098874374074\n",
      "Loss:1.1514407845938093\n",
      "Loss:1.1118740286532043\n",
      "Loss:0.9579963208934508\n"
     ]
    },
    {
     "name": "stderr",
     "output_type": "stream",
     "text": [
      "\r",
      " 68%|██████▊   | 340/500 [00:11<00:05, 30.81it/s]"
     ]
    },
    {
     "name": "stdout",
     "output_type": "stream",
     "text": [
      "Loss:0.5277635908283927\n",
      "Loss:0.48404420199395615\n",
      "Loss:0.5515820743075275\n",
      "Loss:0.8627338643413698\n",
      "Loss:1.1519220958827776\n",
      "Loss:1.1356466896066137\n"
     ]
    },
    {
     "name": "stderr",
     "output_type": "stream",
     "text": [
      " 70%|██████▉   | 348/500 [00:11<00:04, 31.43it/s]"
     ]
    },
    {
     "name": "stdout",
     "output_type": "stream",
     "text": [
      "Loss:1.1423475099002334\n",
      "Loss:1.12036781906746\n",
      "Loss:1.0924775631506818\n",
      "Loss:1.003348333254169\n",
      "Loss:0.551290530708419\n",
      "Loss:0.5511865302192498\n",
      "Loss:0.6346743812955885\n"
     ]
    },
    {
     "name": "stderr",
     "output_type": "stream",
     "text": [
      " 71%|███████   | 356/500 [00:11<00:04, 33.61it/s]"
     ]
    },
    {
     "name": "stdout",
     "output_type": "stream",
     "text": [
      "Loss:0.7427626756332737\n",
      "Loss:1.1439450978455283\n",
      "Loss:1.1597396198796772\n",
      "Loss:1.1587845573049123\n",
      "Loss:1.1863105154911542\n",
      "Loss:1.1342958646332857\n",
      "Loss:1.06031127953078\n",
      "Loss:0.6087474831512435\n"
     ]
    },
    {
     "name": "stderr",
     "output_type": "stream",
     "text": [
      " 73%|███████▎  | 364/500 [00:12<00:04, 33.93it/s]"
     ]
    },
    {
     "name": "stdout",
     "output_type": "stream",
     "text": [
      "Loss:0.5673756169840576\n",
      "Loss:0.7098801315880227\n",
      "Loss:0.8434076701682726\n",
      "Loss:1.15996695698828\n",
      "Loss:1.167844288814512\n",
      "Loss:1.1673018839981018\n",
      "Loss:1.1327057520906738\n"
     ]
    },
    {
     "name": "stderr",
     "output_type": "stream",
     "text": [
      "\r",
      " 74%|███████▎  | 368/500 [00:12<00:04, 32.28it/s]"
     ]
    },
    {
     "name": "stdout",
     "output_type": "stream",
     "text": [
      "Loss:1.1050465909799305\n",
      "Loss:1.0961428695402156\n",
      "Loss:0.8315679951820735\n",
      "Loss:0.5623854580319846\n",
      "Loss:0.6522122252001946\n",
      "Loss:0.8742743598152802\n",
      "Loss:1.1679828682660398\n"
     ]
    },
    {
     "name": "stderr",
     "output_type": "stream",
     "text": [
      " 75%|███████▌  | 376/500 [00:12<00:03, 32.62it/s]"
     ]
    },
    {
     "name": "stdout",
     "output_type": "stream",
     "text": [
      "Loss:1.127920962968756\n",
      "Loss:1.1436303932459528\n",
      "Loss:1.1502720292839448\n",
      "Loss:1.1757711688148116\n",
      "Loss:1.0993461696264173\n",
      "Loss:0.9876155158518019\n",
      "Loss:0.58705915847274\n",
      "Loss:0.6046476021728197\n"
     ]
    },
    {
     "name": "stderr",
     "output_type": "stream",
     "text": [
      " 77%|███████▋  | 384/500 [00:12<00:03, 30.95it/s]"
     ]
    },
    {
     "name": "stdout",
     "output_type": "stream",
     "text": [
      "Loss:0.8151666806052411\n",
      "Loss:1.1279915397031477\n",
      "Loss:1.1279606716143558\n",
      "Loss:1.1918107062026408\n",
      "Loss:1.1751338165585568\n",
      "Loss:1.1560317500189496\n"
     ]
    },
    {
     "name": "stderr",
     "output_type": "stream",
     "text": [
      " 78%|███████▊  | 392/500 [00:12<00:03, 31.29it/s]"
     ]
    },
    {
     "name": "stdout",
     "output_type": "stream",
     "text": [
      "Loss:1.1175929073464912\n",
      "Loss:1.036474523441635\n",
      "Loss:0.7514621169779868\n",
      "Loss:0.5751916554588489\n",
      "Loss:0.6851744339986462\n",
      "Loss:1.1359959925659266\n",
      "Loss:1.143980364873502\n"
     ]
    },
    {
     "name": "stderr",
     "output_type": "stream",
     "text": [
      " 80%|████████  | 400/500 [00:13<00:02, 34.36it/s]"
     ]
    },
    {
     "name": "stdout",
     "output_type": "stream",
     "text": [
      "Loss:1.1359105108140277\n",
      "Loss:1.2075655055811607\n",
      "Loss:1.126106671807106\n",
      "Loss:1.1986781205988113\n",
      "Loss:1.0944912964360998\n",
      "Loss:0.94857192128176\n",
      "Loss:0.5885103018764609\n",
      "Loss:0.6213412692692772\n"
     ]
    },
    {
     "name": "stderr",
     "output_type": "stream",
     "text": [
      " 82%|████████▏ | 408/500 [00:13<00:02, 35.05it/s]"
     ]
    },
    {
     "name": "stdout",
     "output_type": "stream",
     "text": [
      "Loss:1.1839979745403193\n",
      "Loss:1.1039911621618392\n",
      "Loss:1.1679567265959607\n",
      "Loss:1.191796728132971\n",
      "Loss:1.1031282691330953\n",
      "Loss:1.1397791020652994\n",
      "Loss:1.16416233680185\n",
      "Loss:1.0381347904913552\n"
     ]
    },
    {
     "name": "stderr",
     "output_type": "stream",
     "text": [
      " 83%|████████▎ | 416/500 [00:13<00:02, 34.55it/s]"
     ]
    },
    {
     "name": "stdout",
     "output_type": "stream",
     "text": [
      "Loss:0.7468655791757286\n",
      "Loss:0.5721153675997929\n",
      "Loss:1.1759990425545994\n",
      "Loss:1.1839955494860894\n",
      "Loss:1.1439798355566806\n",
      "Loss:1.1519042736225182\n",
      "Loss:1.1835563081385159\n",
      "Loss:1.1579497834681955\n"
     ]
    },
    {
     "name": "stderr",
     "output_type": "stream",
     "text": [
      " 85%|████████▍ | 424/500 [00:13<00:02, 34.84it/s]"
     ]
    },
    {
     "name": "stdout",
     "output_type": "stream",
     "text": [
      "Loss:1.1029261469570388\n",
      "Loss:1.1466543725408953\n",
      "Loss:0.968283334806122\n",
      "Loss:0.5833189550532921\n",
      "Loss:1.1839995558859093\n",
      "Loss:1.127998035934218\n",
      "Loss:1.1759904693765193\n",
      "Loss:1.1839554868667752\n"
     ]
    },
    {
     "name": "stderr",
     "output_type": "stream",
     "text": [
      " 86%|████████▋ | 432/500 [00:14<00:01, 36.35it/s]"
     ]
    },
    {
     "name": "stdout",
     "output_type": "stream",
     "text": [
      "Loss:1.143794158416132\n",
      "Loss:1.1270565103014514\n",
      "Loss:1.1714848101806963\n",
      "Loss:1.1629734412520343\n",
      "Loss:1.0767837859257339\n",
      "Loss:0.734377969306303\n",
      "Loss:1.1599997896776488\n",
      "Loss:1.1679990134053138\n"
     ]
    },
    {
     "name": "stderr",
     "output_type": "stream",
     "text": [
      " 88%|████████▊ | 440/500 [00:14<00:01, 35.96it/s]"
     ]
    },
    {
     "name": "stdout",
     "output_type": "stream",
     "text": [
      "Loss:1.1439954489955255\n",
      "Loss:1.1759787781818165\n",
      "Loss:1.191899615912186\n",
      "Loss:1.1595468470707113\n",
      "Loss:1.1658674621785061\n",
      "Loss:1.1976981821653316\n",
      "Loss:1.1135553422066695\n",
      "Loss:0.9471356128551218\n"
     ]
    },
    {
     "name": "stderr",
     "output_type": "stream",
     "text": [
      " 90%|████████▉ | 448/500 [00:14<00:01, 35.54it/s]"
     ]
    },
    {
     "name": "stdout",
     "output_type": "stream",
     "text": [
      "Loss:1.1839999006924606\n",
      "Loss:1.135999550770668\n",
      "Loss:1.1359978829453201\n",
      "Loss:1.1439902266995547\n",
      "Loss:1.1599534775982294\n",
      "Loss:1.1757825074376052\n",
      "Loss:1.1589922021181065\n",
      "Loss:1.1554175175178905\n"
     ]
    },
    {
     "name": "stderr",
     "output_type": "stream",
     "text": [
      " 91%|█████████ | 456/500 [00:14<00:01, 36.34it/s]"
     ]
    },
    {
     "name": "stdout",
     "output_type": "stream",
     "text": [
      "Loss:1.1463839065390649\n",
      "Loss:1.1123825543976733\n",
      "Loss:1.1439999539236765\n",
      "Loss:1.2319997721400358\n",
      "Loss:1.183998977832341\n",
      "Loss:1.1199954448299172\n",
      "Loss:1.2239772152941857\n",
      "Loss:1.1918956290950584\n"
     ]
    },
    {
     "name": "stderr",
     "output_type": "stream",
     "text": [
      "\r",
      " 92%|█████████▏| 460/500 [00:14<00:01, 34.69it/s]"
     ]
    },
    {
     "name": "stdout",
     "output_type": "stream",
     "text": [
      "Loss:1.1275394224752582\n",
      "Loss:1.1338466024304037\n",
      "Loss:1.1656761668648605\n",
      "Loss:1.0666440139088673\n",
      "Loss:1.1279999784207404\n",
      "Loss:1.1279998997600782\n",
      "Loss:1.1359995293265153\n"
     ]
    },
    {
     "name": "stderr",
     "output_type": "stream",
     "text": [
      " 94%|█████████▎| 468/500 [00:15<00:00, 32.18it/s]"
     ]
    },
    {
     "name": "stdout",
     "output_type": "stream",
     "text": [
      "Loss:1.1599978183110418\n",
      "Loss:1.1599896981455564\n",
      "Loss:1.143952013961025\n",
      "Loss:1.2157689036288801\n",
      "Loss:1.1589692494384953\n",
      "Loss:1.1472107708018522\n",
      "Loss:1.1298919479485061\n"
     ]
    },
    {
     "name": "stderr",
     "output_type": "stream",
     "text": [
      " 95%|█████████▌| 476/500 [00:15<00:00, 33.85it/s]"
     ]
    },
    {
     "name": "stdout",
     "output_type": "stream",
     "text": [
      "Loss:1.1359999897363147\n",
      "Loss:1.1679999511873285\n",
      "Loss:1.1199997845063556\n",
      "Loss:1.1919989430541247\n",
      "Loss:1.119995321273951\n",
      "Loss:1.1759771744397685\n",
      "Loss:1.127897174642059\n"
     ]
    },
    {
     "name": "stderr",
     "output_type": "stream",
     "text": [
      " 97%|█████████▋| 484/500 [00:15<00:00, 31.76it/s]"
     ]
    },
    {
     "name": "stdout",
     "output_type": "stream",
     "text": [
      "Loss:1.1515136356767426\n",
      "Loss:1.1337528213024355\n",
      "Loss:1.1256071647296182\n",
      "Loss:1.1759999950653424\n",
      "Loss:1.1279999780766437\n",
      "Loss:1.151999894324638\n",
      "Loss:1.1679994996207848\n"
     ]
    },
    {
     "name": "stderr",
     "output_type": "stream",
     "text": [
      "\r",
      " 98%|█████████▊| 488/500 [00:15<00:00, 31.86it/s]"
     ]
    },
    {
     "name": "stdout",
     "output_type": "stream",
     "text": [
      "Loss:1.1519976892119466\n",
      "Loss:1.1439898501630181\n",
      "Loss:1.1039529368692909\n",
      "Loss:1.1437712044895014\n",
      "Loss:1.1509529418343212\n",
      "Loss:1.1709853350982022\n",
      "Loss:1.15999999769009\n"
     ]
    },
    {
     "name": "stderr",
     "output_type": "stream",
     "text": [
      " 99%|█████████▉| 496/500 [00:16<00:00, 30.74it/s]"
     ]
    },
    {
     "name": "stdout",
     "output_type": "stream",
     "text": [
      "Loss:1.1519999894241817\n",
      "Loss:1.1439999508577399\n",
      "Loss:1.207999761769105\n",
      "Loss:1.135998938820545\n",
      "Loss:1.119995221317612\n",
      "Loss:1.1679766512174894\n"
     ]
    },
    {
     "name": "stderr",
     "output_type": "stream",
     "text": [
      "100%|██████████| 500/500 [00:16<00:00, 30.92it/s]"
     ]
    },
    {
     "name": "stdout",
     "output_type": "stream",
     "text": [
      "Loss:1.103897551116152\n",
      "Loss:1.1834915437884665\n",
      "Loss:1.1496714026123853\n"
     ]
    },
    {
     "name": "stderr",
     "output_type": "stream",
     "text": [
      "\n"
     ]
    }
   ],
   "source": [
    "# Sklearn results\n",
    "\n",
    "# Fivefold Cross validation\n",
    "# identify suitable gaussian kernels from training data quantiles\n",
    "D = imp.sqdistmat(X_tr)\n",
    "quantiles = np.quantile(D,[0.1,0.5, 0.9])\n",
    "params = { 'kernel': ['gaussian'], 'kernelparameter': np.logspace(-5,3, 50), 'regularization': np.logspace(-5,1, 10) }\n",
    "cvsvm_sk = cv(X_tr, Y_tr, imp.svm_sklearn, params, loss_function=mean_absolute_error, nfolds=5)"
   ]
  },
  {
   "cell_type": "code",
   "execution_count": 26,
   "metadata": {},
   "outputs": [
    {
     "data": {
      "text/plain": [
       "('gaussian', 0.7906043210907685, 0.46415888336127725)"
      ]
     },
     "execution_count": 26,
     "metadata": {},
     "output_type": "execute_result"
    }
   ],
   "source": [
    "cvsvm_sk.__params"
   ]
  },
  {
   "cell_type": "code",
   "execution_count": 29,
   "metadata": {},
   "outputs": [],
   "source": [
    "def plot_boundary_2d_sk(X, y, model):\n",
    "    \"\"\"\n",
    "    Plots a 2 dimensional boundary of a model.\n",
    "\n",
    "    Inputs:\n",
    "    X = 2d data array (nx2)\n",
    "    y = labels (nx1)\n",
    "    model = model (typically SVM or neural net)\n",
    "    \"\"\"\n",
    "    # 1. plot points X\n",
    "    plt.scatter(X.T[0][np.argwhere(y == 1)], X.T[1][np.argwhere(y == 1)], c='b', label='Positive class')\n",
    "    plt.scatter(X.T[0][np.argwhere(y == -1)], X.T[1][np.argwhere(y == -1)], c='r', label='Negative class')\n",
    "\n",
    "    # 2. mark support vectors with a cross if svm\n",
    "    if isinstance(model, imp.svm_sklearn):\n",
    "        plt.scatter(model.X_sv.T[0], model.X_sv.T[1], s=80, c='y', marker='x', label='Support vectors')\n",
    "\n",
    "    # 3. plot separating hyperplane\n",
    "    # 3a. create grid of predictions\n",
    "    x_max = np.amax(X, axis=0)\n",
    "    x_min = np.amin(X, axis=0)\n",
    "    x0 = np.linspace(x_min[0], x_max[0], 50)\n",
    "    x1 = np.linspace(x_min[1], x_max[1], 50)\n",
    "    x0v, x1v = np.meshgrid(x0, x1)\n",
    "    Xv = np.squeeze(np.array((x0v.reshape(2500, 1), x1v.reshape(2500, 1))))\n",
    "    grid_pred = model.predict(Xv.T)\n",
    "    # 3b plot level 0 contour line\n",
    "    plt.contour(x0, x1, grid_pred.reshape(50, 50), levels=0)\n",
    "\n",
    "    # format plot\n",
    "    plt.ylabel('X1')\n",
    "    plt.xlabel('X0')\n",
    "    plt.title('2D visualisation of model classifications with a separating hyperplane')\n",
    "    plt.legend()\n",
    "    plt.show()"
   ]
  },
  {
   "cell_type": "code",
   "execution_count": 30,
   "metadata": {},
   "outputs": [
    {
     "data": {
      "image/png": "[encoded data removed]",
      "text/plain": [
       "<Figure size 432x288 with 1 Axes>"
      ]
     },
     "metadata": {
      "needs_background": "light"
     },
     "output_type": "display_data"
    }
   ],
   "source": [
    "plot_boundary_2d_sk(X_tr, Y_tr, cvsvm_sk)"
   ]
  },
  {
   "cell_type": "code",
   "execution_count": 66,
   "metadata": {},
   "outputs": [
    {
     "name": "stderr",
     "output_type": "stream",
     "text": [
      "  2%|▏         | 1/50 [00:00<00:17,  2.84it/s]"
     ]
    },
    {
     "name": "stdout",
     "output_type": "stream",
     "text": [
      "Loss:1.1360000000000001\n"
     ]
    },
    {
     "name": "stderr",
     "output_type": "stream",
     "text": [
      "\r",
      "  4%|▍         | 2/50 [00:00<00:17,  2.69it/s]"
     ]
    },
    {
     "name": "stdout",
     "output_type": "stream",
     "text": [
      "Loss:1.1680000000000001\n"
     ]
    },
    {
     "name": "stderr",
     "output_type": "stream",
     "text": [
      "\r",
      "  6%|▌         | 3/50 [00:01<00:17,  2.70it/s]"
     ]
    },
    {
     "name": "stdout",
     "output_type": "stream",
     "text": [
      "Loss:1.2\n"
     ]
    },
    {
     "name": "stderr",
     "output_type": "stream",
     "text": [
      "\r",
      "  8%|▊         | 4/50 [00:01<00:18,  2.51it/s]"
     ]
    },
    {
     "name": "stdout",
     "output_type": "stream",
     "text": [
      "Loss:1.1760000000000002\n"
     ]
    },
    {
     "name": "stderr",
     "output_type": "stream",
     "text": [
      "\r",
      " 10%|█         | 5/50 [00:02<00:18,  2.47it/s]"
     ]
    },
    {
     "name": "stdout",
     "output_type": "stream",
     "text": [
      "Loss:1.184\n"
     ]
    },
    {
     "name": "stderr",
     "output_type": "stream",
     "text": [
      "\r",
      " 12%|█▏        | 6/50 [00:02<00:18,  2.38it/s]"
     ]
    },
    {
     "name": "stdout",
     "output_type": "stream",
     "text": [
      "Loss:1.1600000000000001\n"
     ]
    },
    {
     "name": "stderr",
     "output_type": "stream",
     "text": [
      "\r",
      " 14%|█▍        | 7/50 [00:02<00:18,  2.37it/s]"
     ]
    },
    {
     "name": "stdout",
     "output_type": "stream",
     "text": [
      "Loss:1.2080000000000002\n"
     ]
    },
    {
     "name": "stderr",
     "output_type": "stream",
     "text": [
      "\r",
      " 16%|█▌        | 8/50 [00:03<00:17,  2.35it/s]"
     ]
    },
    {
     "name": "stdout",
     "output_type": "stream",
     "text": [
      "Loss:1.104\n"
     ]
    },
    {
     "name": "stderr",
     "output_type": "stream",
     "text": [
      "\r",
      " 18%|█▊        | 9/50 [00:03<00:17,  2.32it/s]"
     ]
    },
    {
     "name": "stdout",
     "output_type": "stream",
     "text": [
      "Loss:1.1840000000000002\n"
     ]
    },
    {
     "name": "stderr",
     "output_type": "stream",
     "text": [
      "\r",
      " 20%|██        | 10/50 [00:04<00:17,  2.27it/s]"
     ]
    },
    {
     "name": "stdout",
     "output_type": "stream",
     "text": [
      "Loss:1.1600000000000001\n"
     ]
    },
    {
     "name": "stderr",
     "output_type": "stream",
     "text": [
      "\r",
      " 22%|██▏       | 11/50 [00:04<00:17,  2.27it/s]"
     ]
    },
    {
     "name": "stdout",
     "output_type": "stream",
     "text": [
      "Loss:1.1440000000000001\n"
     ]
    },
    {
     "name": "stderr",
     "output_type": "stream",
     "text": [
      "\r",
      " 24%|██▍       | 12/50 [00:05<00:16,  2.28it/s]"
     ]
    },
    {
     "name": "stdout",
     "output_type": "stream",
     "text": [
      "Loss:1.136\n"
     ]
    },
    {
     "name": "stderr",
     "output_type": "stream",
     "text": [
      "\r",
      " 26%|██▌       | 13/50 [00:05<00:16,  2.25it/s]"
     ]
    },
    {
     "name": "stdout",
     "output_type": "stream",
     "text": [
      "Loss:1.1280000000000001\n"
     ]
    },
    {
     "name": "stderr",
     "output_type": "stream",
     "text": [
      "\r",
      " 28%|██▊       | 14/50 [00:06<00:15,  2.27it/s]"
     ]
    },
    {
     "name": "stdout",
     "output_type": "stream",
     "text": [
      "Loss:1.2000000000000002\n"
     ]
    },
    {
     "name": "stderr",
     "output_type": "stream",
     "text": [
      "\r",
      " 30%|███       | 15/50 [00:06<00:15,  2.26it/s]"
     ]
    },
    {
     "name": "stdout",
     "output_type": "stream",
     "text": [
      "Loss:1.128\n"
     ]
    },
    {
     "name": "stderr",
     "output_type": "stream",
     "text": [
      "\r",
      " 32%|███▏      | 16/50 [00:06<00:15,  2.25it/s]"
     ]
    },
    {
     "name": "stdout",
     "output_type": "stream",
     "text": [
      "Loss:1.1440000000000001\n"
     ]
    },
    {
     "name": "stderr",
     "output_type": "stream",
     "text": [
      "\r",
      " 34%|███▍      | 17/50 [00:07<00:14,  2.29it/s]"
     ]
    },
    {
     "name": "stdout",
     "output_type": "stream",
     "text": [
      "Loss:1.1440000000000001\n"
     ]
    },
    {
     "name": "stderr",
     "output_type": "stream",
     "text": [
      "\r",
      " 36%|███▌      | 18/50 [00:07<00:14,  2.25it/s]"
     ]
    },
    {
     "name": "stdout",
     "output_type": "stream",
     "text": [
      "Loss:1.1239999999999999\n"
     ]
    },
    {
     "name": "stderr",
     "output_type": "stream",
     "text": [
      "\r",
      " 38%|███▊      | 19/50 [00:08<00:13,  2.25it/s]"
     ]
    },
    {
     "name": "stdout",
     "output_type": "stream",
     "text": [
      "Loss:1.136\n"
     ]
    },
    {
     "name": "stderr",
     "output_type": "stream",
     "text": [
      "\r",
      " 40%|████      | 20/50 [00:08<00:13,  2.22it/s]"
     ]
    },
    {
     "name": "stdout",
     "output_type": "stream",
     "text": [
      "Loss:1.112\n"
     ]
    },
    {
     "name": "stderr",
     "output_type": "stream",
     "text": [
      "\r",
      " 42%|████▏     | 21/50 [00:09<00:13,  2.22it/s]"
     ]
    },
    {
     "name": "stdout",
     "output_type": "stream",
     "text": [
      "Loss:1.0999999999999999\n"
     ]
    },
    {
     "name": "stderr",
     "output_type": "stream",
     "text": [
      "\r",
      " 44%|████▍     | 22/50 [00:09<00:13,  2.07it/s]"
     ]
    },
    {
     "name": "stdout",
     "output_type": "stream",
     "text": [
      "Loss:1.0359999999999996\n"
     ]
    },
    {
     "name": "stderr",
     "output_type": "stream",
     "text": [
      "\r",
      " 46%|████▌     | 23/50 [00:10<00:13,  1.98it/s]"
     ]
    },
    {
     "name": "stdout",
     "output_type": "stream",
     "text": [
      "Loss:0.8959999999999999\n"
     ]
    },
    {
     "name": "stderr",
     "output_type": "stream",
     "text": [
      "\r",
      " 48%|████▊     | 24/50 [00:10<00:13,  1.98it/s]"
     ]
    },
    {
     "name": "stdout",
     "output_type": "stream",
     "text": [
      "Loss:0.7959999999999999\n"
     ]
    },
    {
     "name": "stderr",
     "output_type": "stream",
     "text": [
      "\r",
      " 50%|█████     | 25/50 [00:11<00:12,  2.01it/s]"
     ]
    },
    {
     "name": "stdout",
     "output_type": "stream",
     "text": [
      "Loss:0.5599999999999999\n"
     ]
    },
    {
     "name": "stderr",
     "output_type": "stream",
     "text": [
      "\r",
      " 52%|█████▏    | 26/50 [00:11<00:11,  2.06it/s]"
     ]
    },
    {
     "name": "stdout",
     "output_type": "stream",
     "text": [
      "Loss:0.4360000000000001\n"
     ]
    },
    {
     "name": "stderr",
     "output_type": "stream",
     "text": [
      "\r",
      " 54%|█████▍    | 27/50 [00:12<00:10,  2.12it/s]"
     ]
    },
    {
     "name": "stdout",
     "output_type": "stream",
     "text": [
      "Loss:0.37599999999999995\n"
     ]
    },
    {
     "name": "stderr",
     "output_type": "stream",
     "text": [
      "\r",
      " 56%|█████▌    | 28/50 [00:12<00:10,  2.15it/s]"
     ]
    },
    {
     "name": "stdout",
     "output_type": "stream",
     "text": [
      "Loss:0.41600000000000004\n"
     ]
    },
    {
     "name": "stderr",
     "output_type": "stream",
     "text": [
      "\r",
      " 58%|█████▊    | 29/50 [00:13<00:09,  2.18it/s]"
     ]
    },
    {
     "name": "stdout",
     "output_type": "stream",
     "text": [
      "Loss:0.46\n"
     ]
    },
    {
     "name": "stderr",
     "output_type": "stream",
     "text": [
      "\r",
      " 60%|██████    | 30/50 [00:13<00:08,  2.23it/s]"
     ]
    },
    {
     "name": "stdout",
     "output_type": "stream",
     "text": [
      "Loss:0.44800000000000006\n"
     ]
    },
    {
     "name": "stderr",
     "output_type": "stream",
     "text": [
      "\r",
      " 62%|██████▏   | 31/50 [00:13<00:08,  2.27it/s]"
     ]
    },
    {
     "name": "stdout",
     "output_type": "stream",
     "text": [
      "Loss:0.44400000000000006\n"
     ]
    },
    {
     "name": "stderr",
     "output_type": "stream",
     "text": [
      "\r",
      " 64%|██████▍   | 32/50 [00:14<00:07,  2.50it/s]"
     ]
    },
    {
     "name": "stdout",
     "output_type": "stream",
     "text": [
      "Loss:0.46799999999999997\n"
     ]
    },
    {
     "name": "stderr",
     "output_type": "stream",
     "text": [
      "\r",
      " 66%|██████▌   | 33/50 [00:15<00:09,  1.79it/s]"
     ]
    },
    {
     "name": "stdout",
     "output_type": "stream",
     "text": [
      "Loss:0.4\n"
     ]
    },
    {
     "name": "stderr",
     "output_type": "stream",
     "text": [
      "\r",
      " 68%|██████▊   | 34/50 [00:16<00:10,  1.46it/s]"
     ]
    },
    {
     "name": "stdout",
     "output_type": "stream",
     "text": [
      "Loss:0.624\n"
     ]
    },
    {
     "name": "stderr",
     "output_type": "stream",
     "text": [
      "\r",
      " 70%|███████   | 35/50 [00:17<00:12,  1.23it/s]"
     ]
    },
    {
     "name": "stdout",
     "output_type": "stream",
     "text": [
      "Loss:0.9199999999999998\n"
     ]
    },
    {
     "name": "stderr",
     "output_type": "stream",
     "text": [
      "\r",
      " 72%|███████▏  | 36/50 [00:18<00:12,  1.11it/s]"
     ]
    },
    {
     "name": "stdout",
     "output_type": "stream",
     "text": [
      "Loss:1.06\n"
     ]
    },
    {
     "name": "stderr",
     "output_type": "stream",
     "text": [
      "\r",
      " 74%|███████▍  | 37/50 [00:19<00:12,  1.01it/s]"
     ]
    },
    {
     "name": "stdout",
     "output_type": "stream",
     "text": [
      "Loss:0.7959999999999999\n"
     ]
    },
    {
     "name": "stderr",
     "output_type": "stream",
     "text": [
      "\r",
      " 76%|███████▌  | 38/50 [00:20<00:12,  1.03s/it]"
     ]
    },
    {
     "name": "stdout",
     "output_type": "stream",
     "text": [
      "Loss:0.9560000000000002\n"
     ]
    },
    {
     "name": "stderr",
     "output_type": "stream",
     "text": [
      "\r",
      " 78%|███████▊  | 39/50 [00:21<00:11,  1.07s/it]"
     ]
    },
    {
     "name": "stdout",
     "output_type": "stream",
     "text": [
      "Loss:0.8079999999999999\n"
     ]
    },
    {
     "name": "stderr",
     "output_type": "stream",
     "text": [
      "\r",
      " 80%|████████  | 40/50 [00:22<00:10,  1.08s/it]"
     ]
    },
    {
     "name": "stdout",
     "output_type": "stream",
     "text": [
      "Loss:0.7480000000000001\n"
     ]
    },
    {
     "name": "stderr",
     "output_type": "stream",
     "text": [
      "\r",
      " 82%|████████▏ | 41/50 [00:24<00:10,  1.12s/it]"
     ]
    },
    {
     "name": "stdout",
     "output_type": "stream",
     "text": [
      "Loss:0.7680000000000001\n"
     ]
    },
    {
     "name": "stderr",
     "output_type": "stream",
     "text": [
      "\r",
      " 84%|████████▍ | 42/50 [00:25<00:09,  1.16s/it]"
     ]
    },
    {
     "name": "stdout",
     "output_type": "stream",
     "text": [
      "Loss:0.528\n"
     ]
    },
    {
     "name": "stderr",
     "output_type": "stream",
     "text": [
      "\r",
      " 86%|████████▌ | 43/50 [00:26<00:08,  1.15s/it]"
     ]
    },
    {
     "name": "stdout",
     "output_type": "stream",
     "text": [
      "Loss:0.468\n"
     ]
    },
    {
     "name": "stderr",
     "output_type": "stream",
     "text": [
      "\r",
      " 88%|████████▊ | 44/50 [00:27<00:06,  1.15s/it]"
     ]
    },
    {
     "name": "stdout",
     "output_type": "stream",
     "text": [
      "Loss:0.5760000000000001\n"
     ]
    },
    {
     "name": "stderr",
     "output_type": "stream",
     "text": [
      "\r",
      " 90%|█████████ | 45/50 [00:28<00:05,  1.13s/it]"
     ]
    },
    {
     "name": "stdout",
     "output_type": "stream",
     "text": [
      "Loss:0.608\n"
     ]
    },
    {
     "name": "stderr",
     "output_type": "stream",
     "text": [
      "\r",
      " 92%|█████████▏| 46/50 [00:29<00:04,  1.16s/it]"
     ]
    },
    {
     "name": "stdout",
     "output_type": "stream",
     "text": [
      "Loss:0.6239999999999999\n"
     ]
    },
    {
     "name": "stderr",
     "output_type": "stream",
     "text": [
      "\r",
      " 94%|█████████▍| 47/50 [00:31<00:03,  1.16s/it]"
     ]
    },
    {
     "name": "stdout",
     "output_type": "stream",
     "text": [
      "Loss:0.5720000000000001\n"
     ]
    },
    {
     "name": "stderr",
     "output_type": "stream",
     "text": [
      "\r",
      " 96%|█████████▌| 48/50 [00:32<00:02,  1.15s/it]"
     ]
    },
    {
     "name": "stdout",
     "output_type": "stream",
     "text": [
      "Loss:0.6319999999999999\n"
     ]
    },
    {
     "name": "stderr",
     "output_type": "stream",
     "text": [
      "\r",
      " 98%|█████████▊| 49/50 [00:33<00:01,  1.12s/it]"
     ]
    },
    {
     "name": "stdout",
     "output_type": "stream",
     "text": [
      "Loss:0.5920000000000001\n"
     ]
    },
    {
     "name": "stderr",
     "output_type": "stream",
     "text": [
      "100%|██████████| 50/50 [00:34<00:00,  1.46it/s]"
     ]
    },
    {
     "name": "stdout",
     "output_type": "stream",
     "text": [
      "Loss:0.62\n",
      "('gaussian', 0.17575106248547895, 100000000000)\n"
     ]
    },
    {
     "name": "stderr",
     "output_type": "stream",
     "text": [
      "\n"
     ]
    },
    {
     "data": {
      "image/png": "[encoded data removed]",
      "text/plain": [
       "<Figure size 432x288 with 1 Axes>"
      ]
     },
     "metadata": {
      "needs_background": "light"
     },
     "output_type": "display_data"
    }
   ],
   "source": [
    "# Produce Overfitting\n",
    "# Fivefold Cross validation\n",
    "# identify suitable gaussian kernels from training data quantiles\n",
    "#D = imp.sqdistmat(X_tr)\n",
    "#quantiles = np.quantile(D,[0.1,0.5, 0.9])\n",
    "params = { 'kernel': ['gaussian'], 'kernelparameter': np.logspace(-5,3, 50), 'regularization': [100000000000]}#np.logspace(1,10, 10) }\n",
    "cvsvm = cv(X_tr, Y_tr, imp.svm_qp, params, loss_function=mean_absolute_error, nfolds=5)\n",
    "print(cvsvm.__params)\n",
    "imp.plot_boundary_2d(X_tr, Y_tr, cvsvm)"
   ]
  },
  {
   "cell_type": "code",
   "execution_count": 65,
   "metadata": {},
   "outputs": [
    {
     "name": "stdout",
     "output_type": "stream",
     "text": [
      "(64, 2)\n",
      "0.4159999999999999\n",
      "80\n",
      "('gaussian', 0.17575106248547895, 10000000000)\n"
     ]
    }
   ],
   "source": [
    "print(cvsvm.X_sv.shape)\n",
    "print(cvsvm.cvloss)\n",
    "print(np.sum(cvsvm.predict(X_te) == Y_te))\n",
    "print(cvsvm.__params)"
   ]
  },
  {
   "cell_type": "code",
   "execution_count": 80,
   "metadata": {
    "scrolled": true
   },
   "outputs": [
    {
     "name": "stderr",
     "output_type": "stream",
     "text": [
      "  4%|▍         | 2/50 [00:00<00:09,  5.21it/s]"
     ]
    },
    {
     "name": "stdout",
     "output_type": "stream",
     "text": [
      "Loss:1.168\n",
      "Loss:1.1680000000000001\n"
     ]
    },
    {
     "name": "stderr",
     "output_type": "stream",
     "text": [
      "  8%|▊         | 4/50 [00:00<00:07,  6.13it/s]"
     ]
    },
    {
     "name": "stdout",
     "output_type": "stream",
     "text": [
      "Loss:1.1600000000000001\n",
      "Loss:1.1360000000000001\n"
     ]
    },
    {
     "name": "stderr",
     "output_type": "stream",
     "text": [
      " 12%|█▏        | 6/50 [00:00<00:06,  6.92it/s]"
     ]
    },
    {
     "name": "stdout",
     "output_type": "stream",
     "text": [
      "Loss:1.104\n",
      "Loss:1.1600000000000001\n"
     ]
    },
    {
     "name": "stderr",
     "output_type": "stream",
     "text": [
      " 16%|█▌        | 8/50 [00:01<00:06,  6.51it/s]"
     ]
    },
    {
     "name": "stdout",
     "output_type": "stream",
     "text": [
      "Loss:1.1760000000000002\n",
      "Loss:1.232\n"
     ]
    },
    {
     "name": "stderr",
     "output_type": "stream",
     "text": [
      " 20%|██        | 10/50 [00:01<00:06,  6.22it/s]"
     ]
    },
    {
     "name": "stdout",
     "output_type": "stream",
     "text": [
      "Loss:1.1840000000000002\n",
      "Loss:1.2\n"
     ]
    },
    {
     "name": "stderr",
     "output_type": "stream",
     "text": [
      " 24%|██▍       | 12/50 [00:01<00:05,  7.07it/s]"
     ]
    },
    {
     "name": "stdout",
     "output_type": "stream",
     "text": [
      "Loss:1.184\n",
      "Loss:1.1840000000000002\n"
     ]
    },
    {
     "name": "stderr",
     "output_type": "stream",
     "text": [
      " 28%|██▊       | 14/50 [00:02<00:04,  7.71it/s]"
     ]
    },
    {
     "name": "stdout",
     "output_type": "stream",
     "text": [
      "Loss:1.1680000000000001\n",
      "Loss:1.1840000000000002\n"
     ]
    },
    {
     "name": "stderr",
     "output_type": "stream",
     "text": [
      " 32%|███▏      | 16/50 [00:02<00:04,  7.11it/s]"
     ]
    },
    {
     "name": "stdout",
     "output_type": "stream",
     "text": [
      "Loss:1.104\n",
      "Loss:1.2080000000000002\n"
     ]
    },
    {
     "name": "stderr",
     "output_type": "stream",
     "text": [
      " 36%|███▌      | 18/50 [00:02<00:04,  7.20it/s]"
     ]
    },
    {
     "name": "stdout",
     "output_type": "stream",
     "text": [
      "Loss:1.2400000000000002\n",
      "Loss:1.1600000000000004\n"
     ]
    },
    {
     "name": "stderr",
     "output_type": "stream",
     "text": [
      " 40%|████      | 20/50 [00:02<00:04,  6.98it/s]"
     ]
    },
    {
     "name": "stdout",
     "output_type": "stream",
     "text": [
      "Loss:1.1360000000000001\n",
      "Loss:1.1680000000000001\n"
     ]
    },
    {
     "name": "stderr",
     "output_type": "stream",
     "text": [
      " 44%|████▍     | 22/50 [00:03<00:03,  7.24it/s]"
     ]
    },
    {
     "name": "stdout",
     "output_type": "stream",
     "text": [
      "Loss:1.072\n",
      "Loss:1.1760000000000004\n"
     ]
    },
    {
     "name": "stderr",
     "output_type": "stream",
     "text": [
      " 48%|████▊     | 24/50 [00:03<00:03,  6.80it/s]"
     ]
    },
    {
     "name": "stdout",
     "output_type": "stream",
     "text": [
      "Loss:1.1680000000000001\n",
      "Loss:1.2080000000000002\n"
     ]
    },
    {
     "name": "stderr",
     "output_type": "stream",
     "text": [
      " 52%|█████▏    | 26/50 [00:03<00:03,  7.16it/s]"
     ]
    },
    {
     "name": "stdout",
     "output_type": "stream",
     "text": [
      "Loss:1.128\n",
      "Loss:1.2\n"
     ]
    },
    {
     "name": "stderr",
     "output_type": "stream",
     "text": [
      " 56%|█████▌    | 28/50 [00:04<00:03,  7.01it/s]"
     ]
    },
    {
     "name": "stdout",
     "output_type": "stream",
     "text": [
      "Loss:1.1680000000000001\n",
      "Loss:1.1680000000000001\n"
     ]
    },
    {
     "name": "stderr",
     "output_type": "stream",
     "text": [
      " 60%|██████    | 30/50 [00:04<00:02,  6.71it/s]"
     ]
    },
    {
     "name": "stdout",
     "output_type": "stream",
     "text": [
      "Loss:1.1360000000000003\n",
      "Loss:1.16\n"
     ]
    },
    {
     "name": "stderr",
     "output_type": "stream",
     "text": [
      " 64%|██████▍   | 32/50 [00:04<00:02,  6.66it/s]"
     ]
    },
    {
     "name": "stdout",
     "output_type": "stream",
     "text": [
      "Loss:1.12\n",
      "Loss:1.232\n"
     ]
    },
    {
     "name": "stderr",
     "output_type": "stream",
     "text": [
      " 68%|██████▊   | 34/50 [00:04<00:02,  7.16it/s]"
     ]
    },
    {
     "name": "stdout",
     "output_type": "stream",
     "text": [
      "Loss:1.2\n",
      "Loss:1.2079999999999997\n"
     ]
    },
    {
     "name": "stderr",
     "output_type": "stream",
     "text": [
      " 72%|███████▏  | 36/50 [00:05<00:02,  6.82it/s]"
     ]
    },
    {
     "name": "stdout",
     "output_type": "stream",
     "text": [
      "Loss:1.176\n",
      "Loss:1.1360000000000001\n"
     ]
    },
    {
     "name": "stderr",
     "output_type": "stream",
     "text": [
      " 76%|███████▌  | 38/50 [00:05<00:01,  7.02it/s]"
     ]
    },
    {
     "name": "stdout",
     "output_type": "stream",
     "text": [
      "Loss:1.168\n",
      "Loss:1.12\n"
     ]
    },
    {
     "name": "stderr",
     "output_type": "stream",
     "text": [
      " 80%|████████  | 40/50 [00:05<00:01,  7.21it/s]"
     ]
    },
    {
     "name": "stdout",
     "output_type": "stream",
     "text": [
      "Loss:1.1600000000000001\n",
      "Loss:1.144\n"
     ]
    },
    {
     "name": "stderr",
     "output_type": "stream",
     "text": [
      " 84%|████████▍ | 42/50 [00:06<00:01,  7.61it/s]"
     ]
    },
    {
     "name": "stdout",
     "output_type": "stream",
     "text": [
      "Loss:1.16\n",
      "Loss:1.1920000000000002\n"
     ]
    },
    {
     "name": "stderr",
     "output_type": "stream",
     "text": [
      " 88%|████████▊ | 44/50 [00:06<00:00,  7.60it/s]"
     ]
    },
    {
     "name": "stdout",
     "output_type": "stream",
     "text": [
      "Loss:1.1520000000000001\n",
      "Loss:1.2000000000000002\n"
     ]
    },
    {
     "name": "stderr",
     "output_type": "stream",
     "text": [
      " 92%|█████████▏| 46/50 [00:06<00:00,  7.42it/s]"
     ]
    },
    {
     "name": "stdout",
     "output_type": "stream",
     "text": [
      "Loss:1.192\n",
      "Loss:1.1680000000000001\n"
     ]
    },
    {
     "name": "stderr",
     "output_type": "stream",
     "text": [
      " 96%|█████████▌| 48/50 [00:06<00:00,  7.47it/s]"
     ]
    },
    {
     "name": "stdout",
     "output_type": "stream",
     "text": [
      "Loss:1.1440000000000001\n",
      "Loss:1.1600000000000001\n"
     ]
    },
    {
     "name": "stderr",
     "output_type": "stream",
     "text": [
      "100%|██████████| 50/50 [00:07<00:00,  7.02it/s]"
     ]
    },
    {
     "name": "stdout",
     "output_type": "stream",
     "text": [
      "Loss:1.1600000000000001\n",
      "Loss:1.1840000000000002\n",
      "('gaussian', 1.67683293681101e-06, 0.0001)\n"
     ]
    },
    {
     "name": "stderr",
     "output_type": "stream",
     "text": [
      "\n",
      "/Users/leo/ML Lab Course/ML_assignment_1/assignment4/stubs/ps4_implementation.py:208: UserWarning: No contour levels were found within the data range.\n",
      "  plt.contour(x0, x1, grid_pred.reshape(50, 50), levels=0)\n"
     ]
    },
    {
     "data": {
      "image/png": "[encoded data removed]",
      "text/plain": [
       "<Figure size 432x288 with 1 Axes>"
      ]
     },
     "metadata": {
      "needs_background": "light"
     },
     "output_type": "display_data"
    }
   ],
   "source": [
    "# Produce Underfitting\n",
    "# Fivefold Cross validation\n",
    "# identify suitable gaussian kernels from training data quantiles\n",
    "#D = imp.sqdistmat(X_tr)\n",
    "#quantiles = np.quantile(D,[0.1,0.5, 0.9])\n",
    "params = { 'kernel': ['gaussian'], 'kernelparameter': np.logspace(-7,-4, 50), 'regularization': [0.0001]}#np.logspace(1,10, 10) }\n",
    "cvsvm = cv(X_tr, Y_tr, imp.svm_qp, params, loss_function=mean_absolute_error, nfolds=5)\n",
    "print(cvsvm.__params)\n",
    "imp.plot_boundary_2d(X_tr, Y_tr, cvsvm)"
   ]
  },
  {
   "cell_type": "code",
   "execution_count": 81,
   "metadata": {},
   "outputs": [
    {
     "name": "stdout",
     "output_type": "stream",
     "text": [
      "(100, 2)\n",
      "1.072\n",
      "40\n",
      "('gaussian', 1.67683293681101e-06, 0.0001)\n"
     ]
    }
   ],
   "source": [
    "print(cvsvm.X_sv.shape)\n",
    "print(cvsvm.cvloss)\n",
    "print(np.sum(cvsvm.predict(X_te) == Y_te))\n",
    "print(cvsvm.__params)\n",
    "# even worser than rando guessing"
   ]
  },
  {
   "cell_type": "markdown",
   "metadata": {},
   "source": [
    "Technically, the gamma parameter is the inverse of the standard deviation of the RBF kernel (Gaussian function), which is used as similarity measure between two points. Intuitively, a small gamma value define a Gaussian function with a large variance. In this case, two points can be considered similar even if are far from each other. In the other hand, a large gamma value means define a Gaussian function with a small variance and in this case, two points are considered similar just if they are close to each other.\n",
    "\n",
    "When gamma is very small, the model is too constrained and cannot capture the complexity or “shape” of the data. The region of influence of any selected support vector would include the whole training set. The resulting model will behave similarly to a linear model with a set of hyperplanes that separate the centers of high density of any pair of two classes"
   ]
  },
  {
   "cell_type": "code",
   "execution_count": null,
   "metadata": {},
   "outputs": [],
   "source": [
    "# ROC"
   ]
  },
  {
   "cell_type": "code",
   "execution_count": 94,
   "metadata": {},
   "outputs": [],
   "source": [
    "svm = imp.svm_qp('gaussian', 0.3727593720314938, 0.7742636826811278)"
   ]
  },
  {
   "cell_type": "code",
   "execution_count": 96,
   "metadata": {},
   "outputs": [],
   "source": [
    "svm.fit(X_tr, Y_tr)"
   ]
  },
  {
   "cell_type": "code",
   "execution_count": 98,
   "metadata": {},
   "outputs": [
    {
     "data": {
      "text/plain": [
       "array([[ True,  True,  True,  True,  True,  True,  True,  True,  True,\n",
       "         True,  True,  True,  True,  True,  True,  True,  True,  True,\n",
       "         True,  True,  True,  True,  True,  True,  True,  True,  True,\n",
       "         True,  True,  True,  True, False, False,  True,  True,  True,\n",
       "         True,  True,  True,  True,  True,  True,  True,  True,  True,\n",
       "         True,  True,  True,  True,  True,  True,  True,  True,  True,\n",
       "         True,  True,  True,  True,  True,  True,  True,  True,  True,\n",
       "         True,  True,  True,  True,  True,  True,  True,  True,  True,\n",
       "         True,  True,  True,  True,  True,  True,  True, False,  True,\n",
       "         True,  True, False,  True,  True,  True, False, False,  True,\n",
       "         True,  True,  True,  True,  True,  True,  True,  True,  True,\n",
       "         True]])"
      ]
     },
     "execution_count": 98,
     "metadata": {},
     "output_type": "execute_result"
    }
   ],
   "source": [
    "#CHANGE POS LABEL TO -1\n",
    "def auc(y_true,y_pred,plot=False):\n",
    "    #1. FIND ROC CURVE POINTS & FPR/TPR\n",
    "    pos_label=-1\n",
    "    y_true=(y_true==pos_label) #boolean vec of true labels\n",
    "\n",
    "    #arrange predictions in descending order (indexes)\n",
    "    descending_scores=np.argsort(y_pred,kind='mergesort')[::-1]\n",
    "    #ascending_scores=np.argsort(y_pred,kind='mergesort')[::1]\n",
    "    y_pred=y_pred[descending_scores]\n",
    "    y_true=y_true[descending_scores]\n",
    "\n",
    "    #determine distinct values to create an index of decreasing values\n",
    "    #'predicted value in y_pred where lower values tend to correspond to label -1 and higher values to label +1'\n",
    "    distinct_values_idx=np.where(np.diff(y_pred))[0]#length n-1 as calculating differences\n",
    "    distinct_descending_scores_idx=np.r_[distinct_values_idx,y_true.size-1]# add last entry\n",
    "\n",
    "    tps=np.cumsum(y_true)[distinct_descending_scores_idx]#cumulative sum of true positives using idx\n",
    "    fps=1-tps+distinct_descending_scores_idx #same as cum sum of false positives\n",
    "\n",
    "    #add 0,0 position for ROC curve\n",
    "    tps=np.r_[0,tps]\n",
    "    fps=np.r_[0,fps]\n",
    "\n",
    "    #false/true positive rate\n",
    "    fpr=fps/fps[-1] #rate=sum/max\n",
    "    tpr=tps/tps[-1]\n",
    "    \n",
    "    #2.PLOT ROC CURVE POINTS\n",
    "    if plot==True:\n",
    "        plt.plot(fpr,tpr,label='Algorithm')\n",
    "        plt.plot(np.arange(0,1.1,0.1),np.arange(0,1.1,0.1),label='Random guesses')\n",
    "        plt.ylabel('True Positive Rate (TPR)')\n",
    "        plt.xlabel('False Positive Rate (FPR)')\n",
    "        plt.title('ROC Curve')\n",
    "        plt.legend()\n",
    "\n",
    "    #3. CALCULATE AUC\n",
    "    #reshape needed\n",
    "    fpr=fpr.reshape(1,fpr.shape[0])\n",
    "    tpr=tpr.reshape(1,tpr.shape[0])\n",
    "    \n",
    "    #assume positive area\n",
    "    end=1\n",
    "    #check if negative area (good discrimination, just switch labels)\n",
    "    diff_fpr=np.diff(fpr)\n",
    "    if np.all(diff_fpr<=0):\n",
    "        end=-1\n",
    "    #calculate area using trapezoidal approach\n",
    "    area=end*np.trapz(tpr,fpr)\n",
    "\n",
    "    return area"
   ]
  },
  {
   "cell_type": "code",
   "execution_count": 52,
   "metadata": {},
   "outputs": [],
   "source": [
    "from cvxopt.solvers import qp, options\n",
    "from cvxopt import matrix as cvxmatrix\n",
    "class svm_qp():\n",
    "    \"\"\" Support Vector Machines via Quadratic Programming \"\"\"\n",
    "    options['show_progress'] = False\n",
    "    \n",
    "    def __init__(self, kernel='linear', kernelparameter=1., C=1.):\n",
    "        self.kernel = kernel\n",
    "        self.kernelparameter = kernelparameter\n",
    "        self.C = C\n",
    "        self.alpha_sv = None\n",
    "        self.b = None\n",
    "        self.X_sv = None\n",
    "        self.Y_sv = None\n",
    "        \n",
    "    \n",
    "    def fit(self, X, Y):\n",
    "\n",
    "        # INSERT_CODE\n",
    "        \n",
    "        # Here you have to set the matrices as in the general QP problem\n",
    "        #P = \n",
    "        #q = \n",
    "        #G = \n",
    "        #h = \n",
    "        #A =   # hint: this has to be a row vector\n",
    "        #b =   # hint: this has to be a scalar\n",
    "        \n",
    "        self.X_sv = X\n",
    "        self.Y_sv = Y\n",
    "        self.__ydim = Y.shape[0]\n",
    "        \n",
    "        # reshape ytrain\n",
    "        self.Y_sv = self.Y_sv.reshape(self.__ydim,-1)\n",
    "\n",
    "        \n",
    "        # calculate kernelmatrix\n",
    "        #if self.kernel == 'linear':\n",
    "        #    self.__linearKernel(X)\n",
    "        #elif self.kernel == 'polynomial':\n",
    "        #    self.__polynomialKernel(X)\n",
    "        #elif self.kernel == 'gaussian':\n",
    "        #    self.__gaussianKernel(X)\n",
    "        #else:\n",
    "        # print(\"\"\"The following kernel {} is not known. Please use either 'linear' , 'polynomial' or 'gaussian'.\"\"\".format(kernel))\n",
    "        #K = np.zeros((self.__ydim, self.__ydim))\n",
    "        #for i in range(self.__ydim):\n",
    "        #    for j in range(self.__ydim):\n",
    "        #        #K[i,j] = np.exp(-np.linalg.norm(X[i].reshape(-1,1)-X[j].reshape(-1,1))**2 / (2 * (1.1513953993264456 ** 2)))\n",
    "        #        K[i,j] =buildKernel(self.X_sv.T[i].reshape(-1,1), self.X_sv.T[j].reshape(-1,1), kernel=self.kernel, kernelparameter=self.kernelparameter)\n",
    "        #self.kernelmatrix = K\n",
    "        self.kernelmatrix = buildKernel(self.X_sv.T, kernel = self.kernel, kernelparameter = self.kernelparameter)\n",
    "        \n",
    "        self.P = (self.Y_sv@self.Y_sv.T)*self.kernelmatrix\n",
    "        self.q = -1*np.ones((self.__ydim,1)) #y_train has the same length as X_train\n",
    "        self.A = self.Y_sv.T\n",
    "        self.b = 0\n",
    "        if self.C is None: \n",
    "            # constraint for evrry every alpha: 0 =< alpha\n",
    "            # use matrix notation\n",
    "            # QP solver wants it: Gx =< h, where h expresses the 0 of the condition\n",
    "            # to foollow the QP_solver formulation contraint in G expressed by -1\n",
    "            self.G = -1*np.identity(self.__ydim)\n",
    "            self.h = np.zeros(self.__ydim)\n",
    "        else:\n",
    "            # constraint for every alpha: 0 =< alpha =< C\n",
    "            # use matrix notation\n",
    "            # QP solver wants it: Gx =< h, hence h expresses the upper and lower bound of the condition -> h_size = 2n x 1\n",
    "            # G of size 2n x n \n",
    "            # first n rows contain the constraint 0 =< alpha -> in G expressed by -1, in h with 0\n",
    "            # second n rows contain the constraint alpha =< C -> in G expressed by 1, in h with C\n",
    "            self.G = np.vstack((np.identity(self.__ydim),np.diag(np.ones(self.__ydim) * -1)))\n",
    "            self.h = np.hstack((self.C*np.ones(self.__ydim),np.zeros(self.__ydim))).reshape(-1,1)\n",
    "        # this is already implemented so you don't have to\n",
    "        # read throught the cvxopt manual\n",
    "        self.alpha = np.array(qp(cvxmatrix(self.P, tc='d'),\n",
    "                            cvxmatrix(self.q, tc='d'),\n",
    "                            cvxmatrix(self.G, tc='d'),\n",
    "                            cvxmatrix(self.h, tc='d'),\n",
    "                            cvxmatrix(self.A, tc='d'),\n",
    "                            cvxmatrix(self.b, tc='d'))['x']).flatten()\n",
    "        # Support vectors have non zero lagrange multipliers and are smaller than C/m\n",
    "        self.sv = np.logical_and(self.alpha > 1e-5, self.alpha < np.round(self.C,5)) #treshold 1e-5\n",
    "        self.alpha_sv = self.alpha[self.sv]\n",
    "        \n",
    "        self.X_sv = self.X_sv[self.sv]\n",
    "        self.Y_sv = self.Y_sv[self.sv]\n",
    "        # calculation of bias b\n",
    "        \n",
    "        # calculate kernelmatrix for X_sv, makes it independet of the choosen kernel\n",
    "        \n",
    "        #if self.kernel == 'linear':\n",
    "        #    self.__linearKernel(self.X_sv)\n",
    "        #elif self.kernel == 'polynomial':\n",
    "        #    self.__polynomialKernel(self.X_sv)\n",
    "        #elif self.kernel == 'gaussian':\n",
    "        #    self.__gaussianKernel(self.X_sv)\n",
    "        self.kernelmatrix = buildKernel(self.X_sv, self.X_sv,kernel = self.kernel, kernelparameter = self.kernelparameter)\n",
    "        #K = np.zeros((len(self.alpha_sv), len(self.alpha_sv)))\n",
    "        #for i in range(len(self.alpha_sv)):\n",
    "        #    for j in range(len(self.alpha_sv)):\n",
    "        #        #K[i,j] = np.exp(-np.linalg.norm(X[i].reshape(-1,1)-X[j].reshape(-1,1))**2 / (2 * (1.1513953993264456 ** 2)))\n",
    "        #        K[i,j] =buildKernel(self.X_sv.T[i].reshape(-1,1), self.X_sv.T[j].reshape(-1,1), kernel=self.kernel, kernelparameter=self.kernelparameter)\n",
    "        #self.kernelmatrix = K\n",
    "        \n",
    "        \n",
    "        # b = mean(y[sv] - sum(alpha*y*kernel(X_tr,X[sv]))\n",
    "        # w is expressed by sum alpha*y*X_tr , usually it would be multiplied with X[sv].T for linear kernels\n",
    "        # but because different kernels can be used, the kernel way is used \n",
    "        \n",
    "        # for all data points\n",
    "        #self.b = np.mean(self.Y_sv-(alpha.reshape(-1,1)*self.__ytrain).T@self.kernelmatrix)\n",
    "        \n",
    "        # use only sv \n",
    "        #self.b = np.mean(self.Y_sv-(self.alpha_sv.reshape(-1,1)*self.Y_sv).T@(self.kernelmatrix))\n",
    "        \n",
    "    def predict(self, X):\n",
    "\n",
    "        # INSERT_CODE\n",
    "        \n",
    "        # calculate kernelmatrix\n",
    "        #if self.kernel == 'linear':\n",
    "        #    self.__linearKernel(X)\n",
    "        #elif self.kernel == 'polynomial':\n",
    "        #    self.__polynomialKernel(X)\n",
    "        #elif self.kernel == 'gaussian':\n",
    "        #    self.__gaussianKernel(X)\n",
    "\n",
    "        self.kernelmatrix = buildKernel(self.X_sv.T,X.T, kernel = self.kernel, kernelparameter = self.kernelparameter)\n",
    "        self.yhat = np.sign((self.alpha_sv.reshape(-1,1)*self.Y_sv).T @ self.kernelmatrix + self.b)\n",
    "\n",
    "        return self.yhat\n",
    "    \n",
    "    def __linearKernel(self, Y):\n",
    "        self.kernelmatrix = self.X_sv.dot(Y.T)\n",
    "\n",
    "    def __polynomialKernel(self, Y):\n",
    "        self.kernelmatrix = (self.X_sv.dot(Y.T) + 1) ** self.kernelparameter\n",
    "\n",
    "    def __gaussianKernel(self, Y):\n",
    "        X_len, X_width = self.X_sv.shape\n",
    "        self.kernelmatrix = np.exp(-(\n",
    "                    np.diagonal(self.X_sv.dot(self.X_sv.T)).reshape(X_len, 1) - 2 * self.X_sv.dot(\n",
    "                Y.T) + np.diagonal(Y.dot(Y.T))) / (2 * (self.kernelparameter ** 2)))\n",
    "\n",
    "\n",
    "\n",
    "# This is already implemented for your convenience\n",
    "class svm_sklearn():\n",
    "    \"\"\" SVM via scikit-learn \"\"\"\n",
    "    def __init__(self, kernel='linear', kernelparameter=1., C=1.):\n",
    "        if kernel == 'gaussian':\n",
    "            kernel = 'rbf'\n",
    "        self.clf = sklearn.svm.SVC(C=C,\n",
    "                                   kernel=kernel,\n",
    "                                   gamma=1./(1./2. * kernelparameter ** 2),\n",
    "                                   degree=kernelparameter,\n",
    "                                   coef0=kernelparameter)\n",
    "\n",
    "    def fit(self, X, y):\n",
    "        self.clf.fit(X, y)\n",
    "        self.X_sv = X[self.clf.support_, :]\n",
    "        self.y_sv = y[self.clf.support_]\n",
    "\n",
    "    def predict(self, X):\n",
    "        return self.clf.decision_function(X)\n",
    "\n",
    "\n",
    "def plot_boundary_2d(X, y, model):\n",
    "    \"\"\"\n",
    "    Plots a 2 dimensional boundary of a model.\n",
    "\n",
    "    Inputs:\n",
    "    X = 2d data array (nx2)\n",
    "    y = labels (nx1)\n",
    "    model = model (typically SVM or neural net)\n",
    "    \"\"\"\n",
    "    # 1. plot points X\n",
    "    plt.scatter(X.T[0][np.argwhere(y == 1)], X.T[1][np.argwhere(y == 1)], c='b', label='Positive class')\n",
    "    plt.scatter(X.T[0][np.argwhere(y == -1)], X.T[1][np.argwhere(y == -1)], c='r', label='Negative class')\n",
    "\n",
    "    # 2. mark support vectors with a cross if svm\n",
    "    if isinstance(model, svm_sklearn):\n",
    "        plt.scatter(model.X_sv.T[0], model.X_sv.T[1], s=80, c='y', marker='x', label='Support vectors')\n",
    "\n",
    "    # 3. plot separating hyperplane\n",
    "    # 3a. create grid of predictions\n",
    "    x_max = np.amax(X, axis=0)\n",
    "    x_min = np.amin(X, axis=0)\n",
    "    x0 = np.linspace(x_min[0], x_max[0], 50)\n",
    "    x1 = np.linspace(x_min[1], x_max[1], 50)\n",
    "    x0v, x1v = np.meshgrid(x0, x1)\n",
    "    Xv = np.squeeze(np.array((x0v.reshape(2500, 1), x1v.reshape(2500, 1))))\n",
    "    grid_pred = model.predict(Xv.T)\n",
    "    # 3b plot level 0 contour line\n",
    "    plt.contour(x0, x1, grid_pred.reshape(50, 50), levels=0)\n",
    "\n",
    "    # format plot\n",
    "    plt.ylabel('X1')\n",
    "    plt.xlabel('X0')\n",
    "    plt.title('2D visualisation of model classifications with a separating hyperplane')\n",
    "    plt.legend()\n",
    "    plt.show()\n",
    "\n",
    "\n",
    "\n",
    "\n",
    "def sqdistmat(X, Y=False):\n",
    "    if Y is False:\n",
    "        X2 = sum(X**2, 0)[np.newaxis, :]\n",
    "        D2 = X2 + X2.T - 2*np.dot(X.T, X)\n",
    "    else:\n",
    "        X2 = sum(X**2, 0)[:, np.newaxis]\n",
    "        Y2 = sum(Y**2, 0)[np.newaxis, :]\n",
    "        D2 = X2 + Y2 - 2*np.dot(X.T, Y)\n",
    "    return D2\n",
    "\n",
    "\n",
    "def buildKernel(X, Y=False, kernel='linear', kernelparameter=0):\n",
    "    d, n = X.shape\n",
    "    if isinstance(Y,bool) and Y is False:\n",
    "        Y = X\n",
    "    if kernel == 'linear':\n",
    "        K = np.dot(X.T, Y)\n",
    "    elif kernel == 'polynomial':\n",
    "        K = np.dot(X.T, Y) + 1\n",
    "        K = K**kernelparameter\n",
    "    elif kernel == 'gaussian':\n",
    "        K = sqdistmat(X, Y)\n",
    "        K = np.exp(K / (-2 * kernelparameter**2))\n",
    "    else:\n",
    "        raise Exception('unspecified kernel')\n",
    "    return K\n"
   ]
  },
  {
   "cell_type": "code",
   "execution_count": 8,
   "metadata": {},
   "outputs": [],
   "source": [
    "test=imp.svm_qp(kernel='gaussian', kernelparameter=1.1513953993264456, C=0.46415888336127725)"
   ]
  },
  {
   "cell_type": "code",
   "execution_count": 9,
   "metadata": {},
   "outputs": [],
   "source": [
    "test.fit(X_tr,Y_tr)"
   ]
  },
  {
   "cell_type": "code",
   "execution_count": 10,
   "metadata": {},
   "outputs": [
    {
     "ename": "AttributeError",
     "evalue": "'svm_qp' object has no attribute 'P'",
     "output_type": "error",
     "traceback": [
      "\u001b[0;31m---------------------------------------------------------------------------\u001b[0m",
      "\u001b[0;31mAttributeError\u001b[0m                            Traceback (most recent call last)",
      "\u001b[0;32m<ipython-input-10-4fb4117dad59>\u001b[0m in \u001b[0;36m<module>\u001b[0;34m\u001b[0m\n\u001b[0;32m----> 1\u001b[0;31m \u001b[0mtest\u001b[0m\u001b[0;34m.\u001b[0m\u001b[0mP\u001b[0m\u001b[0;34m\u001b[0m\u001b[0;34m\u001b[0m\u001b[0m\n\u001b[0m",
      "\u001b[0;31mAttributeError\u001b[0m: 'svm_qp' object has no attribute 'P'"
     ]
    }
   ],
   "source": [
    "test.P"
   ]
  },
  {
   "cell_type": "code",
   "execution_count": 39,
   "metadata": {},
   "outputs": [
    {
     "data": {
      "text/plain": [
       "array([[ 1.        , -0.01375263, -0.59032474, ...,  0.15609541,\n",
       "        -0.46997846,  0.66332946],\n",
       "       [-0.01375263,  1.        ,  0.12277116, ..., -0.56597603,\n",
       "         0.10591244, -0.10439167],\n",
       "       [-0.59032474,  0.12277116,  1.        , ..., -0.47238401,\n",
       "         0.94562385, -0.72415769],\n",
       "       ...,\n",
       "       [ 0.15609541, -0.56597603, -0.47238401, ...,  1.        ,\n",
       "        -0.35859493,  0.56230609],\n",
       "       [-0.46997846,  0.10591244,  0.94562385, ..., -0.35859493,\n",
       "         1.        , -0.52354203],\n",
       "       [ 0.66332946, -0.10439167, -0.72415769, ...,  0.56230609,\n",
       "        -0.52354203,  1.        ]])"
      ]
     },
     "execution_count": 39,
     "metadata": {},
     "output_type": "execute_result"
    }
   ],
   "source": [
    "test3.P"
   ]
  },
  {
   "cell_type": "code",
   "execution_count": 40,
   "metadata": {},
   "outputs": [
    {
     "data": {
      "text/plain": [
       "(1, 100)"
      ]
     },
     "execution_count": 40,
     "metadata": {},
     "output_type": "execute_result"
    }
   ],
   "source": [
    "test.A.shape"
   ]
  },
  {
   "cell_type": "code",
   "execution_count": 41,
   "metadata": {},
   "outputs": [
    {
     "data": {
      "text/plain": [
       "(1, 100)"
      ]
     },
     "execution_count": 41,
     "metadata": {},
     "output_type": "execute_result"
    }
   ],
   "source": [
    "test3.A.shape"
   ]
  },
  {
   "cell_type": "code",
   "execution_count": 358,
   "metadata": {},
   "outputs": [
    {
     "data": {
      "text/plain": [
       "array([[ 1.,  0.,  0., ...,  0.,  0.,  0.],\n",
       "       [ 0.,  1.,  0., ...,  0.,  0.,  0.],\n",
       "       [ 0.,  0.,  1., ...,  0.,  0.,  0.],\n",
       "       ...,\n",
       "       [ 0.,  0.,  0., ..., -1.,  0.,  0.],\n",
       "       [ 0.,  0.,  0., ...,  0., -1.,  0.],\n",
       "       [ 0.,  0.,  0., ...,  0.,  0., -1.]])"
      ]
     },
     "execution_count": 358,
     "metadata": {},
     "output_type": "execute_result"
    }
   ],
   "source": [
    "test.G"
   ]
  },
  {
   "cell_type": "code",
   "execution_count": 359,
   "metadata": {},
   "outputs": [
    {
     "data": {
      "text/plain": [
       "array([[-1.,  0.,  0., ...,  0.,  0.,  0.],\n",
       "       [ 0., -1.,  0., ...,  0.,  0.,  0.],\n",
       "       [ 0.,  0., -1., ...,  0.,  0.,  0.],\n",
       "       ...,\n",
       "       [ 0.,  0.,  0., ...,  1.,  0.,  0.],\n",
       "       [ 0.,  0.,  0., ...,  0.,  1.,  0.],\n",
       "       [ 0.,  0.,  0., ...,  0.,  0.,  1.]])"
      ]
     },
     "execution_count": 359,
     "metadata": {},
     "output_type": "execute_result"
    }
   ],
   "source": [
    "test3.G"
   ]
  },
  {
   "cell_type": "code",
   "execution_count": 360,
   "metadata": {},
   "outputs": [
    {
     "data": {
      "text/plain": [
       "(100, 1)"
      ]
     },
     "execution_count": 360,
     "metadata": {},
     "output_type": "execute_result"
    }
   ],
   "source": [
    "test.q.shape"
   ]
  },
  {
   "cell_type": "code",
   "execution_count": 361,
   "metadata": {},
   "outputs": [
    {
     "data": {
      "text/plain": [
       "(100,)"
      ]
     },
     "execution_count": 361,
     "metadata": {},
     "output_type": "execute_result"
    }
   ],
   "source": [
    "test3.q.shape"
   ]
  },
  {
   "cell_type": "code",
   "execution_count": 362,
   "metadata": {},
   "outputs": [
    {
     "data": {
      "text/plain": [
       "array([[0.46415888],\n",
       "       [0.46415888],\n",
       "       [0.46415888],\n",
       "       [0.46415888],\n",
       "       [0.46415888],\n",
       "       [0.46415888],\n",
       "       [0.46415888],\n",
       "       [0.46415888],\n",
       "       [0.46415888],\n",
       "       [0.46415888],\n",
       "       [0.46415888],\n",
       "       [0.46415888],\n",
       "       [0.46415888],\n",
       "       [0.46415888],\n",
       "       [0.46415888],\n",
       "       [0.46415888],\n",
       "       [0.46415888],\n",
       "       [0.46415888],\n",
       "       [0.46415888],\n",
       "       [0.46415888],\n",
       "       [0.46415888],\n",
       "       [0.46415888],\n",
       "       [0.46415888],\n",
       "       [0.46415888],\n",
       "       [0.46415888],\n",
       "       [0.46415888],\n",
       "       [0.46415888],\n",
       "       [0.46415888],\n",
       "       [0.46415888],\n",
       "       [0.46415888],\n",
       "       [0.46415888],\n",
       "       [0.46415888],\n",
       "       [0.46415888],\n",
       "       [0.46415888],\n",
       "       [0.46415888],\n",
       "       [0.46415888],\n",
       "       [0.46415888],\n",
       "       [0.46415888],\n",
       "       [0.46415888],\n",
       "       [0.46415888],\n",
       "       [0.46415888],\n",
       "       [0.46415888],\n",
       "       [0.46415888],\n",
       "       [0.46415888],\n",
       "       [0.46415888],\n",
       "       [0.46415888],\n",
       "       [0.46415888],\n",
       "       [0.46415888],\n",
       "       [0.46415888],\n",
       "       [0.46415888],\n",
       "       [0.46415888],\n",
       "       [0.46415888],\n",
       "       [0.46415888],\n",
       "       [0.46415888],\n",
       "       [0.46415888],\n",
       "       [0.46415888],\n",
       "       [0.46415888],\n",
       "       [0.46415888],\n",
       "       [0.46415888],\n",
       "       [0.46415888],\n",
       "       [0.46415888],\n",
       "       [0.46415888],\n",
       "       [0.46415888],\n",
       "       [0.46415888],\n",
       "       [0.46415888],\n",
       "       [0.46415888],\n",
       "       [0.46415888],\n",
       "       [0.46415888],\n",
       "       [0.46415888],\n",
       "       [0.46415888],\n",
       "       [0.46415888],\n",
       "       [0.46415888],\n",
       "       [0.46415888],\n",
       "       [0.46415888],\n",
       "       [0.46415888],\n",
       "       [0.46415888],\n",
       "       [0.46415888],\n",
       "       [0.46415888],\n",
       "       [0.46415888],\n",
       "       [0.46415888],\n",
       "       [0.46415888],\n",
       "       [0.46415888],\n",
       "       [0.46415888],\n",
       "       [0.46415888],\n",
       "       [0.46415888],\n",
       "       [0.46415888],\n",
       "       [0.46415888],\n",
       "       [0.46415888],\n",
       "       [0.46415888],\n",
       "       [0.46415888],\n",
       "       [0.46415888],\n",
       "       [0.46415888],\n",
       "       [0.46415888],\n",
       "       [0.46415888],\n",
       "       [0.46415888],\n",
       "       [0.46415888],\n",
       "       [0.46415888],\n",
       "       [0.46415888],\n",
       "       [0.46415888],\n",
       "       [0.46415888],\n",
       "       [0.        ],\n",
       "       [0.        ],\n",
       "       [0.        ],\n",
       "       [0.        ],\n",
       "       [0.        ],\n",
       "       [0.        ],\n",
       "       [0.        ],\n",
       "       [0.        ],\n",
       "       [0.        ],\n",
       "       [0.        ],\n",
       "       [0.        ],\n",
       "       [0.        ],\n",
       "       [0.        ],\n",
       "       [0.        ],\n",
       "       [0.        ],\n",
       "       [0.        ],\n",
       "       [0.        ],\n",
       "       [0.        ],\n",
       "       [0.        ],\n",
       "       [0.        ],\n",
       "       [0.        ],\n",
       "       [0.        ],\n",
       "       [0.        ],\n",
       "       [0.        ],\n",
       "       [0.        ],\n",
       "       [0.        ],\n",
       "       [0.        ],\n",
       "       [0.        ],\n",
       "       [0.        ],\n",
       "       [0.        ],\n",
       "       [0.        ],\n",
       "       [0.        ],\n",
       "       [0.        ],\n",
       "       [0.        ],\n",
       "       [0.        ],\n",
       "       [0.        ],\n",
       "       [0.        ],\n",
       "       [0.        ],\n",
       "       [0.        ],\n",
       "       [0.        ],\n",
       "       [0.        ],\n",
       "       [0.        ],\n",
       "       [0.        ],\n",
       "       [0.        ],\n",
       "       [0.        ],\n",
       "       [0.        ],\n",
       "       [0.        ],\n",
       "       [0.        ],\n",
       "       [0.        ],\n",
       "       [0.        ],\n",
       "       [0.        ],\n",
       "       [0.        ],\n",
       "       [0.        ],\n",
       "       [0.        ],\n",
       "       [0.        ],\n",
       "       [0.        ],\n",
       "       [0.        ],\n",
       "       [0.        ],\n",
       "       [0.        ],\n",
       "       [0.        ],\n",
       "       [0.        ],\n",
       "       [0.        ],\n",
       "       [0.        ],\n",
       "       [0.        ],\n",
       "       [0.        ],\n",
       "       [0.        ],\n",
       "       [0.        ],\n",
       "       [0.        ],\n",
       "       [0.        ],\n",
       "       [0.        ],\n",
       "       [0.        ],\n",
       "       [0.        ],\n",
       "       [0.        ],\n",
       "       [0.        ],\n",
       "       [0.        ],\n",
       "       [0.        ],\n",
       "       [0.        ],\n",
       "       [0.        ],\n",
       "       [0.        ],\n",
       "       [0.        ],\n",
       "       [0.        ],\n",
       "       [0.        ],\n",
       "       [0.        ],\n",
       "       [0.        ],\n",
       "       [0.        ],\n",
       "       [0.        ],\n",
       "       [0.        ],\n",
       "       [0.        ],\n",
       "       [0.        ],\n",
       "       [0.        ],\n",
       "       [0.        ],\n",
       "       [0.        ],\n",
       "       [0.        ],\n",
       "       [0.        ],\n",
       "       [0.        ],\n",
       "       [0.        ],\n",
       "       [0.        ],\n",
       "       [0.        ],\n",
       "       [0.        ],\n",
       "       [0.        ]])"
      ]
     },
     "execution_count": 362,
     "metadata": {},
     "output_type": "execute_result"
    }
   ],
   "source": [
    "test.h"
   ]
  },
  {
   "cell_type": "code",
   "execution_count": 363,
   "metadata": {},
   "outputs": [
    {
     "data": {
      "text/plain": [
       "array([0.        , 0.        , 0.        , 0.        , 0.        ,\n",
       "       0.        , 0.        , 0.        , 0.        , 0.        ,\n",
       "       0.        , 0.        , 0.        , 0.        , 0.        ,\n",
       "       0.        , 0.        , 0.        , 0.        , 0.        ,\n",
       "       0.        , 0.        , 0.        , 0.        , 0.        ,\n",
       "       0.        , 0.        , 0.        , 0.        , 0.        ,\n",
       "       0.        , 0.        , 0.        , 0.        , 0.        ,\n",
       "       0.        , 0.        , 0.        , 0.        , 0.        ,\n",
       "       0.        , 0.        , 0.        , 0.        , 0.        ,\n",
       "       0.        , 0.        , 0.        , 0.        , 0.        ,\n",
       "       0.        , 0.        , 0.        , 0.        , 0.        ,\n",
       "       0.        , 0.        , 0.        , 0.        , 0.        ,\n",
       "       0.        , 0.        , 0.        , 0.        , 0.        ,\n",
       "       0.        , 0.        , 0.        , 0.        , 0.        ,\n",
       "       0.        , 0.        , 0.        , 0.        , 0.        ,\n",
       "       0.        , 0.        , 0.        , 0.        , 0.        ,\n",
       "       0.        , 0.        , 0.        , 0.        , 0.        ,\n",
       "       0.        , 0.        , 0.        , 0.        , 0.        ,\n",
       "       0.        , 0.        , 0.        , 0.        , 0.        ,\n",
       "       0.        , 0.        , 0.        , 0.        , 0.        ,\n",
       "       0.46415888, 0.46415888, 0.46415888, 0.46415888, 0.46415888,\n",
       "       0.46415888, 0.46415888, 0.46415888, 0.46415888, 0.46415888,\n",
       "       0.46415888, 0.46415888, 0.46415888, 0.46415888, 0.46415888,\n",
       "       0.46415888, 0.46415888, 0.46415888, 0.46415888, 0.46415888,\n",
       "       0.46415888, 0.46415888, 0.46415888, 0.46415888, 0.46415888,\n",
       "       0.46415888, 0.46415888, 0.46415888, 0.46415888, 0.46415888,\n",
       "       0.46415888, 0.46415888, 0.46415888, 0.46415888, 0.46415888,\n",
       "       0.46415888, 0.46415888, 0.46415888, 0.46415888, 0.46415888,\n",
       "       0.46415888, 0.46415888, 0.46415888, 0.46415888, 0.46415888,\n",
       "       0.46415888, 0.46415888, 0.46415888, 0.46415888, 0.46415888,\n",
       "       0.46415888, 0.46415888, 0.46415888, 0.46415888, 0.46415888,\n",
       "       0.46415888, 0.46415888, 0.46415888, 0.46415888, 0.46415888,\n",
       "       0.46415888, 0.46415888, 0.46415888, 0.46415888, 0.46415888,\n",
       "       0.46415888, 0.46415888, 0.46415888, 0.46415888, 0.46415888,\n",
       "       0.46415888, 0.46415888, 0.46415888, 0.46415888, 0.46415888,\n",
       "       0.46415888, 0.46415888, 0.46415888, 0.46415888, 0.46415888,\n",
       "       0.46415888, 0.46415888, 0.46415888, 0.46415888, 0.46415888,\n",
       "       0.46415888, 0.46415888, 0.46415888, 0.46415888, 0.46415888,\n",
       "       0.46415888, 0.46415888, 0.46415888, 0.46415888, 0.46415888,\n",
       "       0.46415888, 0.46415888, 0.46415888, 0.46415888, 0.46415888])"
      ]
     },
     "execution_count": 363,
     "metadata": {},
     "output_type": "execute_result"
    }
   ],
   "source": [
    "test3.h"
   ]
  },
  {
   "cell_type": "code",
   "execution_count": 42,
   "metadata": {},
   "outputs": [
    {
     "data": {
      "text/plain": [
       "array([4.64158852e-01, 4.64158863e-01, 3.21761300e-01, 4.64158764e-01,\n",
       "       4.64158705e-01, 4.64158717e-01, 4.64158850e-01, 4.64158871e-01,\n",
       "       4.64158786e-01, 4.64158830e-01, 9.82279542e-02, 4.64158860e-01,\n",
       "       4.64158504e-01, 4.64158862e-01, 4.64158736e-01, 4.64158237e-01,\n",
       "       4.64158867e-01, 4.64158597e-01, 4.64158862e-01, 4.64158852e-01,\n",
       "       4.64158861e-01, 4.64158377e-01, 4.64158861e-01, 4.64158862e-01,\n",
       "       4.64158708e-01, 4.64158857e-01, 4.64158818e-01, 4.64158853e-01,\n",
       "       4.64158529e-01, 4.64158845e-01, 4.64158867e-01, 4.64158677e-01,\n",
       "       4.64158854e-01, 4.64158868e-01, 4.64158824e-01, 1.69815193e-01,\n",
       "       4.64158837e-01, 5.27198358e-02, 4.64158864e-01, 4.64158859e-01,\n",
       "       6.16525553e-02, 2.87972542e-05, 4.64158813e-01, 4.64158860e-01,\n",
       "       4.64158830e-01, 2.59080908e-01, 4.64158821e-01, 4.64158743e-01,\n",
       "       4.64157911e-01, 4.64158475e-01, 4.64158823e-01, 4.64158754e-01,\n",
       "       4.64158857e-01, 4.64158857e-01, 4.64158859e-01, 4.64158842e-01,\n",
       "       4.64158848e-01, 4.64158835e-01, 4.64158320e-01])"
      ]
     },
     "execution_count": 42,
     "metadata": {},
     "output_type": "execute_result"
    }
   ],
   "source": [
    "test.alpha_sv"
   ]
  },
  {
   "cell_type": "code",
   "execution_count": 43,
   "metadata": {},
   "outputs": [
    {
     "data": {
      "text/plain": [
       "array([4.64158852e-01, 4.64158863e-01, 3.21761300e-01, 4.64158764e-01,\n",
       "       4.64158705e-01, 4.64158717e-01, 4.64158850e-01, 4.64158871e-01,\n",
       "       4.64158786e-01, 4.64158830e-01, 9.82279542e-02, 4.64158860e-01,\n",
       "       4.64158504e-01, 4.64158862e-01, 4.64158736e-01, 4.64158237e-01,\n",
       "       4.64158867e-01, 4.64158597e-01, 4.64158862e-01, 4.64158852e-01,\n",
       "       4.64158861e-01, 4.64158377e-01, 4.64158861e-01, 4.64158862e-01,\n",
       "       4.64158708e-01, 4.64158857e-01, 4.64158818e-01, 4.64158853e-01,\n",
       "       4.64158529e-01, 4.64158845e-01, 4.64158867e-01, 4.64158677e-01,\n",
       "       4.64158854e-01, 4.64158868e-01, 4.64158824e-01, 1.69815193e-01,\n",
       "       4.64158837e-01, 5.27198358e-02, 4.64158864e-01, 4.64158859e-01,\n",
       "       6.16525553e-02, 2.87972542e-05, 4.64158813e-01, 4.64158860e-01,\n",
       "       4.64158830e-01, 2.59080908e-01, 4.64158821e-01, 4.64158743e-01,\n",
       "       4.64157911e-01, 4.64158475e-01, 4.64158823e-01, 4.64158754e-01,\n",
       "       4.64158857e-01, 4.64158857e-01, 4.64158859e-01, 4.64158842e-01,\n",
       "       4.64158848e-01, 4.64158835e-01, 4.64158320e-01])"
      ]
     },
     "execution_count": 43,
     "metadata": {},
     "output_type": "execute_result"
    }
   ],
   "source": [
    "test.alpha_sv"
   ]
  },
  {
   "cell_type": "code",
   "execution_count": 44,
   "metadata": {},
   "outputs": [
    {
     "data": {
      "text/plain": [
       "(59,)"
      ]
     },
     "execution_count": 44,
     "metadata": {},
     "output_type": "execute_result"
    }
   ],
   "source": [
    "test.alpha_sv.shape"
   ]
  },
  {
   "cell_type": "code",
   "execution_count": 230,
   "metadata": {},
   "outputs": [
    {
     "data": {
      "text/plain": [
       "array([], shape=(0, 0), dtype=float64)"
      ]
     },
     "execution_count": 230,
     "metadata": {},
     "output_type": "execute_result"
    }
   ],
   "source": [
    "test.kernelmatrix"
   ]
  },
  {
   "cell_type": "code",
   "execution_count": 168,
   "metadata": {},
   "outputs": [
    {
     "data": {
      "text/plain": [
       "array([[ 1.        , -0.01375263, -0.59032474, ...,  0.15609541,\n",
       "        -0.46997846,  0.66332946],\n",
       "       [-0.01375263,  1.        ,  0.12277116, ..., -0.56597603,\n",
       "         0.10591244, -0.10439167],\n",
       "       [-0.59032474,  0.12277116,  1.        , ..., -0.47238401,\n",
       "         0.94562385, -0.72415769],\n",
       "       ...,\n",
       "       [ 0.15609541, -0.56597603, -0.47238401, ...,  1.        ,\n",
       "        -0.35859493,  0.56230609],\n",
       "       [-0.46997846,  0.10591244,  0.94562385, ..., -0.35859493,\n",
       "         1.        , -0.52354203],\n",
       "       [ 0.66332946, -0.10439167, -0.72415769, ...,  0.56230609,\n",
       "        -0.52354203,  1.        ]])"
      ]
     },
     "execution_count": 168,
     "metadata": {},
     "output_type": "execute_result"
    }
   ],
   "source": [
    "test.P"
   ]
  },
  {
   "cell_type": "code",
   "execution_count": 169,
   "metadata": {},
   "outputs": [
    {
     "data": {
      "text/plain": [
       "array([], shape=(0, 0), dtype=float64)"
      ]
     },
     "execution_count": 169,
     "metadata": {},
     "output_type": "execute_result"
    }
   ],
   "source": [
    "test.kernelmatrix"
   ]
  },
  {
   "cell_type": "code",
   "execution_count": 45,
   "metadata": {},
   "outputs": [
    {
     "data": {
      "text/plain": [
       "array([False, False,  True,  True,  True,  True, False, False,  True,\n",
       "        True,  True,  True,  True,  True,  True,  True, False,  True,\n",
       "       False,  True,  True, False,  True, False,  True,  True, False,\n",
       "        True, False,  True, False, False, False,  True,  True,  True,\n",
       "        True, False, False,  True,  True, False,  True, False, False,\n",
       "        True,  True,  True,  True, False, False, False, False,  True,\n",
       "       False,  True, False,  True, False, False,  True,  True,  True,\n",
       "       False, False,  True,  True, False, False,  True, False,  True,\n",
       "       False, False,  True,  True,  True,  True,  True,  True,  True,\n",
       "        True,  True,  True,  True, False, False,  True, False, False,\n",
       "        True, False, False,  True, False,  True, False,  True,  True,\n",
       "        True])"
      ]
     },
     "execution_count": 45,
     "metadata": {},
     "output_type": "execute_result"
    }
   ],
   "source": [
    "test.sv"
   ]
  },
  {
   "cell_type": "code",
   "execution_count": 13,
   "metadata": {},
   "outputs": [],
   "source": [
    "test2 = imp.svm_sklearn(kernel='gaussian', kernelparameter=1.1513953993264456, C=0.46415888336127725)"
   ]
  },
  {
   "cell_type": "code",
   "execution_count": 14,
   "metadata": {},
   "outputs": [],
   "source": [
    "test2.fit(X_tr,Y_tr)"
   ]
  },
  {
   "cell_type": "code",
   "execution_count": 15,
   "metadata": {},
   "outputs": [
    {
     "data": {
      "text/plain": [
       "(53, 2)"
      ]
     },
     "execution_count": 15,
     "metadata": {},
     "output_type": "execute_result"
    }
   ],
   "source": [
    "test2.X_sv.shape"
   ]
  },
  {
   "cell_type": "code",
   "execution_count": 16,
   "metadata": {},
   "outputs": [
    {
     "data": {
      "text/plain": [
       "91"
      ]
     },
     "execution_count": 16,
     "metadata": {},
     "output_type": "execute_result"
    }
   ],
   "source": [
    "np.sum(test.predict(X_te) == Y_te)"
   ]
  },
  {
   "cell_type": "code",
   "execution_count": 17,
   "metadata": {},
   "outputs": [
    {
     "ename": "NameError",
     "evalue": "name 'test3' is not defined",
     "output_type": "error",
     "traceback": [
      "\u001b[0;31m---------------------------------------------------------------------------\u001b[0m",
      "\u001b[0;31mNameError\u001b[0m                                 Traceback (most recent call last)",
      "\u001b[0;32m<ipython-input-17-9f8633acba2f>\u001b[0m in \u001b[0;36m<module>\u001b[0;34m\u001b[0m\n\u001b[0;32m----> 1\u001b[0;31m \u001b[0mtest3\u001b[0m\u001b[0;34m.\u001b[0m\u001b[0msv\u001b[0m\u001b[0;34m.\u001b[0m\u001b[0mshape\u001b[0m\u001b[0;34m\u001b[0m\u001b[0;34m\u001b[0m\u001b[0m\n\u001b[0m",
      "\u001b[0;31mNameError\u001b[0m: name 'test3' is not defined"
     ]
    }
   ],
   "source": [
    "test3.sv.shape"
   ]
  },
  {
   "cell_type": "code",
   "execution_count": 18,
   "metadata": {},
   "outputs": [
    {
     "data": {
      "text/plain": [
       "95"
      ]
     },
     "execution_count": 18,
     "metadata": {},
     "output_type": "execute_result"
    }
   ],
   "source": [
    "np.sum(np.sign(test2.predict(X_te)) == Y_te)"
   ]
  },
  {
   "cell_type": "code",
   "execution_count": 248,
   "metadata": {},
   "outputs": [
    {
     "data": {
      "text/plain": [
       "array([ 1,  1,  1,  1,  1,  1,  1,  1,  1,  1,  1,  1,  1,  1,  1,  1,  1,\n",
       "        1,  1,  1,  1,  1,  1,  1,  1,  1,  1,  1,  1,  1,  1,  1,  1,  1,\n",
       "        1,  1,  1,  1,  1,  1, -1, -1, -1, -1, -1, -1, -1, -1, -1, -1, -1,\n",
       "       -1, -1, -1, -1, -1, -1, -1, -1, -1, -1, -1, -1, -1, -1, -1, -1, -1,\n",
       "       -1, -1, -1, -1, -1, -1, -1, -1, -1, -1, -1, -1, -1, -1, -1, -1, -1,\n",
       "       -1, -1, -1, -1, -1, -1, -1, -1, -1, -1, -1, -1, -1, -1, -1])"
      ]
     },
     "execution_count": 248,
     "metadata": {},
     "output_type": "execute_result"
    }
   ],
   "source": [
    "Y_te"
   ]
  },
  {
   "cell_type": "code",
   "execution_count": 23,
   "metadata": {},
   "outputs": [],
   "source": [
    "X = X_tr\n",
    "Y = Y_tr\n",
    "X_sv = X.T\n",
    "Y_sv = Y\n",
    "kernel='gaussian'\n",
    "kernelparameter=0.7906043210907685\n",
    "C = 0.573615251044868\n",
    "__ydim = Y.shape[0]\n",
    "        \n",
    "        # reshape ytrain\n",
    "Y_sv = Y_sv.reshape(__ydim,-1)\n",
    "\n",
    "        \n",
    "        # calculate kernelmatrix\n",
    "        #if self.kernel == 'linear':\n",
    "        #    self.__linearKernel(X)\n",
    "        #elif self.kernel == 'polynomial':\n",
    "        #    self.__polynomialKernel(X)\n",
    "        #elif self.kernel == 'gaussian':\n",
    "        #    self.__gaussianKernel(X)\n",
    "        #else:\n",
    "        # print(\"\"\"The following kernel {} is not known. Please use either 'linear' , 'polynomial' or 'gaussian'.\"\"\".format(kernel))\n",
    "\n",
    "kernelmatrix = buildKernel(X_sv, kernel = kernel, kernelparameter = kernelparameter)\n"
   ]
  },
  {
   "cell_type": "code",
   "execution_count": 26,
   "metadata": {},
   "outputs": [],
   "source": [
    "P = (Y_sv@Y_sv.T)*kernelmatrix\n",
    "q = -1*np.ones((__ydim,1)) #y_train has the same length as X_train\n",
    "A = Y_sv.T\n",
    "b = 0\n",
    "if C is None: \n",
    "            # constraint for evrry every alpha: 0 =< alpha\n",
    "            # use matrix notation\n",
    "            # QP solver wants it: Gx =< h, where h expresses the 0 of the condition\n",
    "            # to foollow the QP_solver formulation contraint in G expressed by -1\n",
    "    G = -1*np.identity(__ydim)\n",
    "    h = np.zeros(__ydim)\n",
    "else:\n",
    "            # constraint for every alpha: 0 =< alpha =< C\n",
    "            # use matrix notation\n",
    "            # QP solver wants it: Gx =< h, hence h expresses the upper and lower bound of the condition -> h_size = 2n x 1\n",
    "            # G of size 2n x n \n",
    "            # first n rows contain the constraint 0 =< alpha -> in G expressed by -1, in h with 0\n",
    "            # second n rows contain the constraint alpha =< C -> in G expressed by 1, in h with C\n",
    "    G = np.vstack((-1*np.identity(__ydim),np.identity(__ydim)))\n",
    "    h = np.hstack((np.zeros(__ydim),C/__ydim*np.ones(__ydim)))\n",
    "        # this is already implemented so you don't have to\n",
    "        # read throught the cvxopt manual\n",
    "alpha = np.array(qp(cvxmatrix(P, tc='d'),\n",
    "                    cvxmatrix(q, tc='d'),\n",
    "                    cvxmatrix(G, tc='d'),\n",
    "                    cvxmatrix(h, tc='d'),\n",
    "                    cvxmatrix(A, tc='d'),\n",
    "                    cvxmatrix(b, tc='d'))['x']).flatten()\n",
    "        # Support vectors have non zero lagrange multipliers and are smaller than C/m\n",
    "sv = np.logical_and(alpha > 1e-8, alpha < np.round(C/__ydim,5)) #treshold 1e-5\n",
    "alpha_sv = alpha[sv]\n",
    "        \n",
    "X_sv = X_sv[:,sv]\n",
    "Y_sv = Y_sv[sv]"
   ]
  },
  {
   "cell_type": "code",
   "execution_count": 34,
   "metadata": {},
   "outputs": [],
   "source": [
    "X = X_tr\n",
    "Y = Y_tr\n",
    "X_sv = X\n",
    "Y_sv = Y\n",
    "X_len, X_width = X_sv.shape\n",
    "kernelmatrix_my = np.exp(-(np.diagonal(X_sv.dot(X_sv.T)).reshape(X_len, 1) - 2 * X_sv.dot(X_sv.T) + np.diagonal(X_sv.dot(X_sv.T))) / (2 * (kernelparameter ** 2)))"
   ]
  },
  {
   "cell_type": "code",
   "execution_count": 49,
   "metadata": {},
   "outputs": [
    {
     "data": {
      "text/plain": [
       "array([[1.00000000e+00, 1.12617981e-04, 3.26960446e-01, ...,\n",
       "        1.94634610e-02, 2.01601355e-01, 4.18693841e-01],\n",
       "       [1.12617981e-04, 1.00000000e+00, 1.16954820e-02, ...,\n",
       "        2.99017619e-01, 8.54988730e-03, 8.29160267e-03],\n",
       "       [3.26960446e-01, 1.16954820e-02, 1.00000000e+00, ...,\n",
       "        2.03796200e-01, 8.88177878e-01, 5.04327899e-01],\n",
       "       ...,\n",
       "       [1.94634610e-02, 2.99017619e-01, 2.03796200e-01, ...,\n",
       "        1.00000000e+00, 1.13589259e-01, 2.94920227e-01],\n",
       "       [2.01601355e-01, 8.54988730e-03, 8.88177878e-01, ...,\n",
       "        1.13589259e-01, 1.00000000e+00, 2.53460358e-01],\n",
       "       [4.18693841e-01, 8.29160267e-03, 5.04327899e-01, ...,\n",
       "        2.94920227e-01, 2.53460358e-01, 1.00000000e+00]])"
      ]
     },
     "execution_count": 49,
     "metadata": {},
     "output_type": "execute_result"
    }
   ],
   "source": [
    "kernelmatrix"
   ]
  },
  {
   "cell_type": "code",
   "execution_count": 36,
   "metadata": {},
   "outputs": [
    {
     "data": {
      "text/plain": [
       "array([[1.00000000e+00, 1.12617981e-04, 3.26960446e-01, ...,\n",
       "        1.94634610e-02, 2.01601355e-01, 4.18693841e-01],\n",
       "       [1.12617981e-04, 1.00000000e+00, 1.16954820e-02, ...,\n",
       "        2.99017619e-01, 8.54988730e-03, 8.29160267e-03],\n",
       "       [3.26960446e-01, 1.16954820e-02, 1.00000000e+00, ...,\n",
       "        2.03796200e-01, 8.88177878e-01, 5.04327899e-01],\n",
       "       ...,\n",
       "       [1.94634610e-02, 2.99017619e-01, 2.03796200e-01, ...,\n",
       "        1.00000000e+00, 1.13589259e-01, 2.94920227e-01],\n",
       "       [2.01601355e-01, 8.54988730e-03, 8.88177878e-01, ...,\n",
       "        1.13589259e-01, 1.00000000e+00, 2.53460358e-01],\n",
       "       [4.18693841e-01, 8.29160267e-03, 5.04327899e-01, ...,\n",
       "        2.94920227e-01, 2.53460358e-01, 1.00000000e+00]])"
      ]
     },
     "execution_count": 36,
     "metadata": {},
     "output_type": "execute_result"
    }
   ],
   "source": [
    "kernelmatrix_my"
   ]
  },
  {
   "cell_type": "code",
   "execution_count": 45,
   "metadata": {},
   "outputs": [
    {
     "data": {
      "text/plain": [
       "array([], shape=(0, 0), dtype=float64)"
      ]
     },
     "execution_count": 45,
     "metadata": {},
     "output_type": "execute_result"
    }
   ],
   "source": [
    "test.kernelmatrix\n",
    "\n"
   ]
  },
  {
   "cell_type": "code",
   "execution_count": 54,
   "metadata": {},
   "outputs": [
    {
     "data": {
      "text/plain": [
       "(100, 100)"
      ]
     },
     "execution_count": 54,
     "metadata": {},
     "output_type": "execute_result"
    }
   ],
   "source": [
    "buildKernel(X_tr.T, kernel = 'gaussian', kernelparameter = test.kernelparameter).shape"
   ]
  },
  {
   "cell_type": "code",
   "execution_count": 42,
   "metadata": {},
   "outputs": [],
   "source": [
    "K = sqdistmat(X_tr)"
   ]
  },
  {
   "cell_type": "code",
   "execution_count": 43,
   "metadata": {},
   "outputs": [
    {
     "data": {
      "text/plain": [
       "array([[-1.13686838e-13,  3.08400774e+02],\n",
       "       [ 3.08400774e+02,  1.42108547e-14]])"
      ]
     },
     "execution_count": 43,
     "metadata": {},
     "output_type": "execute_result"
    }
   ],
   "source": [
    "K"
   ]
  },
  {
   "cell_type": "code",
   "execution_count": 48,
   "metadata": {},
   "outputs": [],
   "source": [
    "X2 = sum(X_tr**2, 0)[np.newaxis, :]"
   ]
  },
  {
   "cell_type": "code",
   "execution_count": 49,
   "metadata": {},
   "outputs": [
    {
     "data": {
      "text/plain": [
       "array([[383.24717288,  41.12513269]])"
      ]
     },
     "execution_count": 49,
     "metadata": {},
     "output_type": "execute_result"
    }
   ],
   "source": [
    "X2"
   ]
  },
  {
   "cell_type": "code",
   "execution_count": 50,
   "metadata": {},
   "outputs": [
    {
     "data": {
      "text/plain": [
       "array([[9.84561251e+00, 2.98231516e-02, 4.77293578e+00, 2.00982567e-01,\n",
       "        9.92356418e+00, 9.25530193e+00, 7.68430981e-02, 9.57340085e+00,\n",
       "        9.93974391e+00, 1.08118826e-01, 6.36488820e+00, 1.23753822e-01,\n",
       "        2.02290739e-02, 1.15891728e+00, 7.06066588e+00, 4.71146545e+00,\n",
       "        5.30880097e+00, 1.62837732e+00, 7.80960964e+00, 7.43891268e-01,\n",
       "        9.89045126e+00, 7.25368500e-03, 7.39605320e-03, 1.20984109e+01,\n",
       "        9.81805237e-02, 2.17596475e-01, 4.73879532e+00, 4.51902627e+00,\n",
       "        7.33350990e+00, 2.26526296e+00, 1.45588644e-03, 9.57052117e-02,\n",
       "        6.44231696e+00, 1.11945193e+00, 3.31385329e+00, 4.13949956e+00,\n",
       "        2.72850711e+00, 2.00548065e-01, 1.17284581e-01, 2.07122827e-03,\n",
       "        4.22114849e+00, 3.48408466e-03, 8.10318241e+00, 7.62592523e+00,\n",
       "        1.28168106e-02, 1.91036713e+00, 1.76121246e+00, 2.96660239e-01,\n",
       "        5.63813348e-01, 9.85645733e+00, 3.83743422e-02, 2.19039449e+00,\n",
       "        2.39264600e-04, 1.56594641e-02, 2.76631542e+00, 3.88058938e+00,\n",
       "        1.22816413e+01, 6.62225297e-01, 6.28745176e+00, 6.87473246e+00,\n",
       "        3.68673654e+00, 3.10055377e-02, 5.02589475e+00, 7.77748698e+00,\n",
       "        1.59595130e+00, 6.72632354e-01, 7.47001528e+00, 6.85572646e+00,\n",
       "        1.44165563e-01, 6.04763625e+00, 1.53700294e-01, 8.23951037e+00,\n",
       "        1.09972624e+01, 2.02336583e-02, 8.69240077e-02, 8.19647471e+00,\n",
       "        4.16125998e+00, 2.92395476e+00, 3.35308169e+00, 1.35341608e-01,\n",
       "        9.03290270e+00, 6.69796922e+00, 1.24633998e+00, 1.94327949e+00,\n",
       "        3.67176720e+00, 2.89281786e+00, 1.35748125e+01, 6.02948167e+00,\n",
       "        5.23353935e-01, 6.26967030e+00, 4.66953410e+00, 4.69948059e-03,\n",
       "        4.45142812e+00, 4.49322848e+00, 2.03152336e-03, 3.01040298e-01,\n",
       "        1.22302292e+01, 8.46318963e-01, 4.95619155e+00, 4.48888836e+00],\n",
       "       [5.62025090e-01, 1.26202249e-02, 2.52686401e-03, 3.61616654e-01,\n",
       "        1.07026797e-03, 9.69184033e-02, 4.44399312e-02, 1.35801220e-01,\n",
       "        2.53645886e-01, 3.40308047e-02, 2.07736019e-04, 1.56647808e-02,\n",
       "        2.23850734e-01, 6.25502282e-01, 8.77864515e-01, 9.01799536e-02,\n",
       "        1.25328506e+00, 1.12805094e+00, 2.72910168e+00, 1.38555094e-01,\n",
       "        3.19863457e-01, 8.99897018e-02, 4.31085660e-02, 8.89158513e-02,\n",
       "        1.99110824e-01, 2.78779872e-07, 2.04627311e+00, 1.61703514e-01,\n",
       "        1.05324223e+00, 2.14336991e-01, 5.91074856e-03, 9.60520205e-02,\n",
       "        1.67478805e+00, 1.12511091e-01, 2.45850723e-01, 1.46996843e-01,\n",
       "        2.56635927e-01, 5.12850054e-02, 2.94724403e-01, 2.68738847e-01,\n",
       "        6.89610052e-02, 2.98263375e-02, 1.18688210e-02, 8.80721699e-01,\n",
       "        1.40355464e-02, 2.12447196e-01, 1.07780814e+00, 2.76875237e-01,\n",
       "        1.93011608e-02, 1.06169684e+00, 3.18712837e-01, 4.42906779e-01,\n",
       "        2.35035188e-02, 1.06604354e-01, 3.25271212e-01, 1.02756661e-01,\n",
       "        6.11121037e-02, 1.07437969e-03, 1.19952199e+00, 1.57112323e+00,\n",
       "        1.36283036e-02, 1.33090068e-02, 1.07990231e-01, 1.36284792e+00,\n",
       "        1.44832936e+00, 5.19759243e-01, 2.00468526e-02, 2.05363954e+00,\n",
       "        1.07078351e-01, 7.97584478e-02, 3.77583305e-02, 2.71430685e+00,\n",
       "        1.00255237e-01, 1.58232341e-01, 2.92307749e-01, 8.33350228e-03,\n",
       "        1.19937747e-01, 1.78686422e-04, 4.03656322e-01, 1.77728808e-01,\n",
       "        8.95188764e-03, 8.04015894e-01, 8.95914946e-01, 5.42909438e-01,\n",
       "        1.36647887e-01, 2.54668596e-01, 1.92969435e-05, 2.05492222e-02,\n",
       "        8.97946031e-02, 1.47251243e+00, 3.76345359e-02, 1.49461740e-01,\n",
       "        1.10965728e+00, 1.43103807e-02, 2.69189516e-01, 2.25839899e-01,\n",
       "        7.95151080e-02, 4.54100219e-01, 1.10560442e-01, 9.46671178e-01]])"
      ]
     },
     "execution_count": 50,
     "metadata": {},
     "output_type": "execute_result"
    }
   ],
   "source": [
    "X_tr.T**2"
   ]
  },
  {
   "cell_type": "code",
   "execution_count": null,
   "metadata": {},
   "outputs": [],
   "source": [
    "X_len, X_width = self.X_sv.shape\n",
    "        self.kernelmatrix = np.exp(-(\n",
    "                    np.diagonal(self.X_sv.dot(self.X_sv.T)).reshape(X_len, 1) - 2 * self.X_sv.dot(\n",
    "                Y.T) + np.diagonal(Y.dot(Y.T))) / (2 * (self.kernelparameter ** 2)))\n"
   ]
  },
  {
   "cell_type": "code",
   "execution_count": 21,
   "metadata": {},
   "outputs": [],
   "source": [
    "class TestSheet4():\n",
    "    def test_svm_qp(self):\n",
    "        C = imp.svm_qp(kernel='linear', C=1.)\n",
    "        np.random.seed(1)\n",
    "        X_tr = np.hstack((np.random.normal(size=[2, 30]), np.random.normal(size=[2, 30]) + np.array([2., 2.])[:, np.newaxis])).T\n",
    "        Y_tr = np.array([1] * 30 + [-1] * 30)\n",
    "        X_te = np.hstack((np.random.normal(size=[2, 30]), np.random.normal(size=[2, 30]) + np.array([2., 2.])[:, np.newaxis])).T\n",
    "        Y_te = np.array([1] * 30 + [-1] * 30)\n",
    "        C.fit(X_tr, Y_tr)\n",
    "        Y_pred = C.predict(X_te)\n",
    "        loss = float(np.sum(np.sign(Y_te) != np.sign(Y_pred)))/float(len(Y_te))\n",
    "        imp.plot_boundary_2d(X_tr, Y_tr, C)\n",
    "        print('test case loss', loss)\n",
    "        self.assertTrue(loss < 0.25, msg='svm_qp: Error. The loss is %.2f and should be below 0.25' % loss)\n"
   ]
  },
  {
   "cell_type": "code",
   "execution_count": 22,
   "metadata": {},
   "outputs": [],
   "source": [
    "a = TestSheet4()"
   ]
  },
  {
   "cell_type": "code",
   "execution_count": 23,
   "metadata": {},
   "outputs": [
    {
     "data": {
      "image/png": "[encoded data removed]",
      "text/plain": [
       "<Figure size 432x288 with 1 Axes>"
      ]
     },
     "metadata": {
      "needs_background": "light"
     },
     "output_type": "display_data"
    },
    {
     "name": "stdout",
     "output_type": "stream",
     "text": [
      "test case loss 0.11666666666666667\n"
     ]
    },
    {
     "ename": "AttributeError",
     "evalue": "'TestSheet4' object has no attribute 'assertTrue'",
     "output_type": "error",
     "traceback": [
      "\u001b[0;31m---------------------------------------------------------------------------\u001b[0m",
      "\u001b[0;31mAttributeError\u001b[0m                            Traceback (most recent call last)",
      "\u001b[0;32m<ipython-input-23-69846c37a59d>\u001b[0m in \u001b[0;36m<module>\u001b[0;34m\u001b[0m\n\u001b[0;32m----> 1\u001b[0;31m \u001b[0ma\u001b[0m\u001b[0;34m.\u001b[0m\u001b[0mtest_svm_qp\u001b[0m\u001b[0;34m(\u001b[0m\u001b[0;34m)\u001b[0m\u001b[0;34m\u001b[0m\u001b[0;34m\u001b[0m\u001b[0m\n\u001b[0m",
      "\u001b[0;32m<ipython-input-21-f0a2f8af0ec1>\u001b[0m in \u001b[0;36mtest_svm_qp\u001b[0;34m(self)\u001b[0m\n\u001b[1;32m     12\u001b[0m         \u001b[0mimp\u001b[0m\u001b[0;34m.\u001b[0m\u001b[0mplot_boundary_2d\u001b[0m\u001b[0;34m(\u001b[0m\u001b[0mX_tr\u001b[0m\u001b[0;34m,\u001b[0m \u001b[0mY_tr\u001b[0m\u001b[0;34m,\u001b[0m \u001b[0mC\u001b[0m\u001b[0;34m)\u001b[0m\u001b[0;34m\u001b[0m\u001b[0;34m\u001b[0m\u001b[0m\n\u001b[1;32m     13\u001b[0m         \u001b[0mprint\u001b[0m\u001b[0;34m(\u001b[0m\u001b[0;34m'test case loss'\u001b[0m\u001b[0;34m,\u001b[0m \u001b[0mloss\u001b[0m\u001b[0;34m)\u001b[0m\u001b[0;34m\u001b[0m\u001b[0;34m\u001b[0m\u001b[0m\n\u001b[0;32m---> 14\u001b[0;31m         \u001b[0mself\u001b[0m\u001b[0;34m.\u001b[0m\u001b[0massertTrue\u001b[0m\u001b[0;34m(\u001b[0m\u001b[0mloss\u001b[0m \u001b[0;34m<\u001b[0m \u001b[0;36m0.25\u001b[0m\u001b[0;34m,\u001b[0m \u001b[0mmsg\u001b[0m\u001b[0;34m=\u001b[0m\u001b[0;34m'svm_qp: Error. The loss is %.2f and should be below 0.25'\u001b[0m \u001b[0;34m%\u001b[0m \u001b[0mloss\u001b[0m\u001b[0;34m)\u001b[0m\u001b[0;34m\u001b[0m\u001b[0;34m\u001b[0m\u001b[0m\n\u001b[0m",
      "\u001b[0;31mAttributeError\u001b[0m: 'TestSheet4' object has no attribute 'assertTrue'"
     ]
    }
   ],
   "source": [
    "a.test_svm_qp()"
   ]
  },
  {
   "cell_type": "code",
   "execution_count": 41,
   "metadata": {},
   "outputs": [
    {
     "ename": "NameError",
     "evalue": "name 'Y_pred' is not defined",
     "output_type": "error",
     "traceback": [
      "\u001b[0;31m---------------------------------------------------------------------------\u001b[0m",
      "\u001b[0;31mNameError\u001b[0m                                 Traceback (most recent call last)",
      "\u001b[0;32m<ipython-input-41-dff0e3b17820>\u001b[0m in \u001b[0;36m<module>\u001b[0;34m\u001b[0m\n\u001b[0;32m----> 1\u001b[0;31m \u001b[0mY_pred\u001b[0m\u001b[0;34m\u001b[0m\u001b[0;34m\u001b[0m\u001b[0m\n\u001b[0m",
      "\u001b[0;31mNameError\u001b[0m: name 'Y_pred' is not defined"
     ]
    }
   ],
   "source": [
    "Y_pred"
   ]
  },
  {
   "cell_type": "code",
   "execution_count": 50,
   "metadata": {},
   "outputs": [
    {
     "data": {
      "text/plain": [
       "array([[ 1, -1, -1, ...,  1, -1,  1],\n",
       "       [-1,  1,  1, ..., -1,  1, -1],\n",
       "       [-1,  1,  1, ..., -1,  1, -1],\n",
       "       ...,\n",
       "       [ 1, -1, -1, ...,  1, -1,  1],\n",
       "       [-1,  1,  1, ..., -1,  1, -1],\n",
       "       [ 1, -1, -1, ...,  1, -1,  1]])"
      ]
     },
     "execution_count": 50,
     "metadata": {},
     "output_type": "execute_result"
    }
   ],
   "source": [
    "np.outer(Y_tr,Y_tr)"
   ]
  },
  {
   "cell_type": "code",
   "execution_count": 55,
   "metadata": {},
   "outputs": [
    {
     "data": {
      "text/plain": [
       "array([[ 1, -1, -1, ...,  1, -1,  1],\n",
       "       [-1,  1,  1, ..., -1,  1, -1],\n",
       "       [-1,  1,  1, ..., -1,  1, -1],\n",
       "       ...,\n",
       "       [ 1, -1, -1, ...,  1, -1,  1],\n",
       "       [-1,  1,  1, ..., -1,  1, -1],\n",
       "       [ 1, -1, -1, ...,  1, -1,  1]])"
      ]
     },
     "execution_count": 55,
     "metadata": {},
     "output_type": "execute_result"
    }
   ],
   "source": [
    "Y_tr.reshape(-1,1)@Y_tr.reshape(-1,1).T"
   ]
  },
  {
   "cell_type": "code",
   "execution_count": 111,
   "metadata": {},
   "outputs": [],
   "source": [
    "K = np.zeros((100, 100))\n",
    "for i in range(100):\n",
    "    for j in range(100):\n",
    "        #K[i,j] = np.exp(-np.linalg.norm(X[i].reshape(-1,1)-X[j].reshape(-1,1))**2 / (2 * (1.1513953993264456 ** 2)))\n",
    "        K[i,j] =buildKernel(X[i].reshape(-1,1), X[j].reshape(-1,1), kernel='gaussian', kernelparameter=1.1513953993264456)"
   ]
  },
  {
   "cell_type": "code",
   "execution_count": 112,
   "metadata": {},
   "outputs": [
    {
     "data": {
      "text/plain": [
       "(2,)"
      ]
     },
     "execution_count": 112,
     "metadata": {},
     "output_type": "execute_result"
    }
   ],
   "source": [
    "X[1].shape"
   ]
  },
  {
   "cell_type": "code",
   "execution_count": 113,
   "metadata": {},
   "outputs": [
    {
     "data": {
      "text/plain": [
       "array([[1.        , 0.01375263, 0.59032474, ..., 0.15609541, 0.46997846,\n",
       "        0.66332946],\n",
       "       [0.01375263, 1.        , 0.12277116, ..., 0.56597603, 0.10591244,\n",
       "        0.10439167],\n",
       "       [0.59032474, 0.12277116, 1.        , ..., 0.47238401, 0.94562385,\n",
       "        0.72415769],\n",
       "       ...,\n",
       "       [0.15609541, 0.56597603, 0.47238401, ..., 1.        , 0.35859493,\n",
       "        0.56230609],\n",
       "       [0.46997846, 0.10591244, 0.94562385, ..., 0.35859493, 1.        ,\n",
       "        0.52354203],\n",
       "       [0.66332946, 0.10439167, 0.72415769, ..., 0.56230609, 0.52354203,\n",
       "        1.        ]])"
      ]
     },
     "execution_count": 113,
     "metadata": {},
     "output_type": "execute_result"
    }
   ],
   "source": [
    "K"
   ]
  },
  {
   "cell_type": "code",
   "execution_count": 81,
   "metadata": {},
   "outputs": [
    {
     "data": {
      "text/plain": [
       "array([[1.00000000e+00, 1.12617981e-04, 3.26960446e-01, ...,\n",
       "        1.94634610e-02, 2.01601355e-01, 4.18693841e-01],\n",
       "       [1.12617981e-04, 1.00000000e+00, 1.16954820e-02, ...,\n",
       "        2.99017619e-01, 8.54988730e-03, 8.29160267e-03],\n",
       "       [3.26960446e-01, 1.16954820e-02, 1.00000000e+00, ...,\n",
       "        2.03796200e-01, 8.88177878e-01, 5.04327899e-01],\n",
       "       ...,\n",
       "       [1.94634610e-02, 2.99017619e-01, 2.03796200e-01, ...,\n",
       "        1.00000000e+00, 1.13589259e-01, 2.94920227e-01],\n",
       "       [2.01601355e-01, 8.54988730e-03, 8.88177878e-01, ...,\n",
       "        1.13589259e-01, 1.00000000e+00, 2.53460358e-01],\n",
       "       [4.18693841e-01, 8.29160267e-03, 5.04327899e-01, ...,\n",
       "        2.94920227e-01, 2.53460358e-01, 1.00000000e+00]])"
      ]
     },
     "execution_count": 81,
     "metadata": {},
     "output_type": "execute_result"
    }
   ],
   "source": [
    "kernelmatrix = buildKernel(X.T, kernel = kernel, kernelparameter = kernelparameter)\n",
    "kernelmatrix"
   ]
  },
  {
   "cell_type": "code",
   "execution_count": 90,
   "metadata": {},
   "outputs": [],
   "source": [
    "K = sqdistmat(X.T, X.T)\n",
    "#K = np.exp(K / (-2 * kernelparameter**2))"
   ]
  },
  {
   "cell_type": "code",
   "execution_count": 91,
   "metadata": {},
   "outputs": [
    {
     "data": {
      "text/plain": [
       "array([[ 0.        , 11.36539003,  1.3975185 , ...,  4.92445529,\n",
       "         2.00200556,  1.08836525],\n",
       "       [11.36539003,  0.        ,  5.56118189, ...,  1.50919924,\n",
       "         5.95282211,  5.99116903],\n",
       "       [ 1.3975185 ,  5.56118189,  0.        , ...,  1.98846909,\n",
       "         0.14824214,  0.85573635],\n",
       "       ...,\n",
       "       [ 4.92445529,  1.50919924,  1.98846909, ...,  0.        ,\n",
       "         2.71919801,  1.52644776],\n",
       "       [ 2.00200556,  5.95282211,  0.14824214, ...,  2.71919801,\n",
       "         0.        ,  1.71583632],\n",
       "       [ 1.08836525,  5.99116903,  0.85573635, ...,  1.52644776,\n",
       "         1.71583632,  0.        ]])"
      ]
     },
     "execution_count": 91,
     "metadata": {},
     "output_type": "execute_result"
    }
   ],
   "source": [
    "K"
   ]
  },
  {
   "cell_type": "code",
   "execution_count": 106,
   "metadata": {},
   "outputs": [
    {
     "ename": "ValueError",
     "evalue": "operands could not be broadcast together with shapes (100,2) (2,2) ",
     "output_type": "error",
     "traceback": [
      "\u001b[0;31m---------------------------------------------------------------------------\u001b[0m",
      "\u001b[0;31mValueError\u001b[0m                                Traceback (most recent call last)",
      "\u001b[0;32m<ipython-input-106-b3e6abe6f60a>\u001b[0m in \u001b[0;36m<module>\u001b[0;34m\u001b[0m\n\u001b[1;32m      1\u001b[0m \u001b[0mX2\u001b[0m \u001b[0;34m=\u001b[0m \u001b[0msum\u001b[0m\u001b[0;34m(\u001b[0m\u001b[0mX\u001b[0m\u001b[0;34m.\u001b[0m\u001b[0mT\u001b[0m\u001b[0;34m**\u001b[0m\u001b[0;36m2\u001b[0m\u001b[0;34m,\u001b[0m \u001b[0;36m0\u001b[0m\u001b[0;34m)\u001b[0m\u001b[0;34m[\u001b[0m\u001b[0;34m:\u001b[0m\u001b[0;34m,\u001b[0m \u001b[0mnp\u001b[0m\u001b[0;34m.\u001b[0m\u001b[0mnewaxis\u001b[0m\u001b[0;34m]\u001b[0m\u001b[0;34m\u001b[0m\u001b[0;34m\u001b[0m\u001b[0m\n\u001b[1;32m      2\u001b[0m \u001b[0mY2\u001b[0m \u001b[0;34m=\u001b[0m \u001b[0msum\u001b[0m\u001b[0;34m(\u001b[0m\u001b[0mX\u001b[0m\u001b[0;34m**\u001b[0m\u001b[0;36m2\u001b[0m\u001b[0;34m,\u001b[0m \u001b[0;36m0\u001b[0m\u001b[0;34m)\u001b[0m\u001b[0;34m[\u001b[0m\u001b[0mnp\u001b[0m\u001b[0;34m.\u001b[0m\u001b[0mnewaxis\u001b[0m\u001b[0;34m,\u001b[0m \u001b[0;34m:\u001b[0m\u001b[0;34m]\u001b[0m\u001b[0;34m\u001b[0m\u001b[0;34m\u001b[0m\u001b[0m\n\u001b[0;32m----> 3\u001b[0;31m \u001b[0mD2\u001b[0m \u001b[0;34m=\u001b[0m \u001b[0mX2\u001b[0m \u001b[0;34m+\u001b[0m \u001b[0mY2\u001b[0m \u001b[0;34m-\u001b[0m \u001b[0;36m2\u001b[0m\u001b[0;34m*\u001b[0m\u001b[0mnp\u001b[0m\u001b[0;34m.\u001b[0m\u001b[0mdot\u001b[0m\u001b[0;34m(\u001b[0m\u001b[0mX\u001b[0m\u001b[0;34m.\u001b[0m\u001b[0mT\u001b[0m\u001b[0;34m,\u001b[0m \u001b[0mX\u001b[0m\u001b[0;34m)\u001b[0m\u001b[0;34m\u001b[0m\u001b[0;34m\u001b[0m\u001b[0m\n\u001b[0m",
      "\u001b[0;31mValueError\u001b[0m: operands could not be broadcast together with shapes (100,2) (2,2) "
     ]
    }
   ],
   "source": [
    "X2 = sum(X.T**2, 0)[:, np.newaxis]\n",
    "Y2 = sum(X**2, 0)[np.newaxis, :]\n",
    "D2 = X2 + Y2 - 2*np.dot(X.T, X)"
   ]
  },
  {
   "cell_type": "code",
   "execution_count": 110,
   "metadata": {},
   "outputs": [
    {
     "data": {
      "text/plain": [
       "array([[393.65481048,  51.53277029],\n",
       "       [383.28961626,  41.16757607],\n",
       "       [388.02263553,  45.90059534],\n",
       "       [383.8097721 ,  41.68773191],\n",
       "       [393.17180733,  51.04976714],\n",
       "       [392.59939322,  50.47735303],\n",
       "       [383.36845591,  41.24641572],\n",
       "       [392.95637495,  50.83433476],\n",
       "       [393.44056267,  51.31852249],\n",
       "       [383.38932251,  41.26728232],\n",
       "       [389.61226882,  47.49022863],\n",
       "       [383.38659148,  41.2645513 ],\n",
       "       [383.49125269,  41.3692125 ],\n",
       "       [385.03159244,  42.90955225],\n",
       "       [391.18570328,  49.06366309],\n",
       "       [388.04881828,  45.92677809],\n",
       "       [389.80925891,  47.68721872],\n",
       "       [386.00360114,  43.88156095],\n",
       "       [393.7858842 ,  51.66384402],\n",
       "       [384.12961924,  42.00757905],\n",
       "       [393.4574876 ,  51.33544741],\n",
       "       [383.34441627,  41.22237608],\n",
       "       [383.2976775 ,  41.17563731],\n",
       "       [395.43449965,  53.31245946],\n",
       "       [383.54446423,  41.42242404],\n",
       "       [383.46476963,  41.34272945],\n",
       "       [390.03224131,  47.91020113],\n",
       "       [387.92790266,  45.80586248],\n",
       "       [391.63392501,  49.51188482],\n",
       "       [385.72677283,  43.60473264],\n",
       "       [383.25453951,  41.13249933],\n",
       "       [383.43893011,  41.31688992],\n",
       "       [391.3642779 ,  49.24223771],\n",
       "       [384.4791359 ,  42.35709571],\n",
       "       [386.8068769 ,  44.68483671],\n",
       "       [387.53366928,  45.4116291 ],\n",
       "       [386.23231591,  44.11027573],\n",
       "       [383.49900595,  41.37696576],\n",
       "       [383.65918186,  41.53714168],\n",
       "       [383.51798295,  41.39594277],\n",
       "       [387.53728238,  45.41524219],\n",
       "       [383.2804833 ,  41.15844311],\n",
       "       [391.36222411,  49.24018392],\n",
       "       [391.75381981,  49.63177962],\n",
       "       [383.27402524,  41.15198505],\n",
       "       [385.36998721,  43.24794702],\n",
       "       [386.08619348,  43.96415329],\n",
       "       [383.82070836,  41.69866817],\n",
       "       [383.83028739,  41.7082472 ],\n",
       "       [394.16532705,  52.04328686],\n",
       "       [383.60426006,  41.48221987],\n",
       "       [385.88047414,  43.75843396],\n",
       "       [383.27091566,  41.14887548],\n",
       "       [383.3694367 ,  41.24739651],\n",
       "       [386.33875951,  44.21671933],\n",
       "       [387.23051892,  45.10847874],\n",
       "       [395.58992623,  53.46788605],\n",
       "       [383.91047256,  41.78843237],\n",
       "       [390.73414662,  48.61210644],\n",
       "       [391.69302858,  49.57098839],\n",
       "       [386.94753773,  44.82549754],\n",
       "       [383.29148742,  41.16944724],\n",
       "       [388.38105786,  46.25901767],\n",
       "       [392.38750778,  50.26546759],\n",
       "       [386.29145355,  44.16941336],\n",
       "       [384.43956448,  42.31752429],\n",
       "       [390.73723501,  48.61519482],\n",
       "       [392.15653888,  50.03449869],\n",
       "       [383.49841679,  41.37637661],\n",
       "       [389.37456758,  47.25252739],\n",
       "       [383.4386315 ,  41.31659132],\n",
       "       [394.2009901 ,  52.07894992],\n",
       "       [394.34469048,  52.22265029],\n",
       "       [383.42563888,  41.30359869],\n",
       "       [383.62640464,  41.50436445],\n",
       "       [391.45198109,  49.3299409 ],\n",
       "       [387.52837061,  45.40633042],\n",
       "       [386.17130632,  44.04926613],\n",
       "       [387.00391089,  44.8818707 ],\n",
       "       [383.5602433 ,  41.43820311],\n",
       "       [392.28902747,  50.16698728],\n",
       "       [390.74915799,  48.62711781],\n",
       "       [385.3894278 ,  43.26738761],\n",
       "       [385.73336181,  43.61132162],\n",
       "       [387.05558796,  44.93354778],\n",
       "       [386.39465933,  44.27261914],\n",
       "       [396.82200464,  54.69996445],\n",
       "       [389.29720377,  47.17516359],\n",
       "       [383.86032142,  41.73828123],\n",
       "       [390.98935561,  48.86731542],\n",
       "       [387.95434152,  45.83230133],\n",
       "       [383.4013341 ,  41.27929391],\n",
       "       [388.80825828,  46.6862181 ],\n",
       "       [387.75471174,  45.63267155],\n",
       "       [383.51839392,  41.39635373],\n",
       "       [383.77405308,  41.65201289],\n",
       "       [395.55691718,  53.43487699],\n",
       "       [384.54759206,  42.42555187],\n",
       "       [388.31392487,  46.19188468],\n",
       "       [388.68273242,  46.56069223]])"
      ]
     },
     "execution_count": 110,
     "metadata": {},
     "output_type": "execute_result"
    }
   ],
   "source": [
    "X2 + Y2"
   ]
  },
  {
   "cell_type": "code",
   "execution_count": null,
   "metadata": {},
   "outputs": [],
   "source": [
    "def sqdistmat(X, Y=False):\n",
    "    if Y is False:\n",
    "        X2 = sum(X**2, 0)[np.newaxis, :]\n",
    "        D2 = X2 + X2.T - 2*np.dot(X.T, X)\n",
    "    else:\n",
    "        X2 = sum(X**2, 0)[:, np.newaxis]\n",
    "        Y2 = sum(Y**2, 0)[np.newaxis, :]\n",
    "        D2 = X2 + Y2 - 2*np.dot(X.T, Y)\n",
    "    return D2"
   ]
  },
  {
   "cell_type": "code",
   "execution_count": 19,
   "metadata": {},
   "outputs": [],
   "source": [
    "import numpy as np\n",
    "from numpy import linalg\n",
    "import cvxopt\n",
    "import cvxopt.solvers\n",
    "\n",
    "def linear_kernel(x1, x2):\n",
    "    return np.dot(x1, x2)\n",
    "\n",
    "def polynomial_kernel(x, y, p=3):\n",
    "    return (1 + np.dot(x, y)) ** p\n",
    "\n",
    "def gaussian_kernel(x, y, sigma=1.1513953993264456,):\n",
    "    return np.exp(-linalg.norm(x-y)**2 / (2 * (sigma ** 2)))"
   ]
  },
  {
   "cell_type": "code",
   "execution_count": 20,
   "metadata": {},
   "outputs": [],
   "source": [
    "class SVM(object):\n",
    "    \n",
    "    def __init__(self, kernel=linear_kernel, C=None):\n",
    "        self.kernel = kernel\n",
    "        self.C = C\n",
    "        if self.C is not None: self.C = float(self.C)\n",
    "    \n",
    "    def fit(self, X, y):\n",
    "        n_samples, n_features = X.shape\n",
    "        \n",
    "        # Gram matrix\n",
    "        K = np.zeros((n_samples, n_samples))\n",
    "        for i in range(n_samples):\n",
    "            for j in range(n_samples):\n",
    "                K[i,j] = self.kernel(X[i], X[j])\n",
    "        \n",
    "        P = cvxopt.matrix(np.outer(y,y) * K)\n",
    "        self.P = np.outer(y,y) * K\n",
    "        q = cvxopt.matrix(np.ones(n_samples) * -1)\n",
    "        self.q = np.ones(n_samples) * -1\n",
    "        A = cvxopt.matrix(y, (1,n_samples),tc='d')\n",
    "        self.A = y.reshape(1,n_samples)\n",
    "        b = cvxopt.matrix(0.0)\n",
    "        self.b = 0.0\n",
    "        \n",
    "        if self.C is None:\n",
    "            G = cvxopt.matrix(np.diag(np.ones(n_samples) * -1))\n",
    "            h = cvxopt.matrix(np.zeros(n_samples))\n",
    "        else:\n",
    "            tmp1 = np.diag(np.ones(n_samples) * -1)\n",
    "            tmp2 = np.identity(n_samples)\n",
    "            G = cvxopt.matrix(np.vstack((tmp1, tmp2)))\n",
    "            self.G = np.vstack((tmp1, tmp2))\n",
    "            tmp1 = np.zeros(n_samples)\n",
    "            tmp2 = np.ones(n_samples) * self.C\n",
    "            h = cvxopt.matrix(np.hstack((tmp1, tmp2)))\n",
    "            self.h = np.hstack((tmp1, tmp2))\n",
    "\n",
    "        # solve QP problem\n",
    "        solution = cvxopt.solvers.qp(P, q, G, h, A, b)\n",
    "\n",
    "        # Lagrange multipliers\n",
    "        self.a = np.ravel(solution['x'])\n",
    "\n",
    "        # Support vectors have non zero lagrange multipliers\n",
    "        sv = self.a > 1e-5\n",
    "        ind = np.arange(len(self.a))[sv]\n",
    "        self.a1 = self.a[sv]\n",
    "        self.sv = X[sv]\n",
    "        self.sv_y = y[sv]\n",
    "        print('{0} support vectors out of {1} points'.format(len(self.a1), n_samples))\n",
    "\n",
    "        # Intercept\n",
    "        self.b = 0\n",
    "        for n in range(len(self.a)):\n",
    "            self.b += self.sv_y[n]\n",
    "            self.b -= np.sum(self.a1 * self.sv_y * K[ind[n],sv])\n",
    "        self.b /= len(self.a)\n",
    "\n",
    "        # Weight vector\n",
    "        if self.kernel == linear_kernel:\n",
    "            self.w = np.zeros(n_features)\n",
    "            for n in range(len(self.a1)):\n",
    "                self.w += self.a1[n] * self.sv_y[n] * self.sv[n]\n",
    "        else:\n",
    "            self.w = None\n",
    "    \n",
    "    def project(self, X):\n",
    "        if self.w is not None:\n",
    "            return np.dot(X, self.w) + self.b\n",
    "        else:\n",
    "            y_predict = np.zeros(len(X))\n",
    "            for i in range(len(X)):\n",
    "                s = 0\n",
    "                for a, sv_y, sv in zip(self.a, self.sv_y, self.sv):\n",
    "                    s += self.a * sv_y * self.kernel(X[i], sv)\n",
    "                y_predict[i] = s\n",
    "        return y_predict + self.b\n",
    "\n",
    "    def predict(self, X):\n",
    "        return np.sign(self.project(X))"
   ]
  },
  {
   "cell_type": "code",
   "execution_count": 21,
   "metadata": {},
   "outputs": [],
   "source": [
    "test3 = SVM(kernel=gaussian_kernel, C=0.46415888336127725)"
   ]
  },
  {
   "cell_type": "code",
   "execution_count": 22,
   "metadata": {},
   "outputs": [
    {
     "name": "stdout",
     "output_type": "stream",
     "text": [
      "59 support vectors out of 100 points\n"
     ]
    },
    {
     "ename": "UFuncTypeError",
     "evalue": "Cannot cast ufunc 'subtract' output from dtype('float64') to dtype('int64') with casting rule 'same_kind'",
     "output_type": "error",
     "traceback": [
      "\u001b[0;31m---------------------------------------------------------------------------\u001b[0m",
      "\u001b[0;31mUFuncTypeError\u001b[0m                            Traceback (most recent call last)",
      "\u001b[0;32m<ipython-input-22-b04919274745>\u001b[0m in \u001b[0;36m<module>\u001b[0;34m\u001b[0m\n\u001b[0;32m----> 1\u001b[0;31m \u001b[0mtest3\u001b[0m\u001b[0;34m.\u001b[0m\u001b[0mfit\u001b[0m\u001b[0;34m(\u001b[0m\u001b[0mX_tr\u001b[0m\u001b[0;34m,\u001b[0m\u001b[0mY_tr\u001b[0m\u001b[0;34m.\u001b[0m\u001b[0mreshape\u001b[0m\u001b[0;34m(\u001b[0m\u001b[0;34m-\u001b[0m\u001b[0;36m1\u001b[0m\u001b[0;34m,\u001b[0m\u001b[0;36m1\u001b[0m\u001b[0;34m)\u001b[0m\u001b[0;34m)\u001b[0m\u001b[0;34m\u001b[0m\u001b[0;34m\u001b[0m\u001b[0m\n\u001b[0m",
      "\u001b[0;32m<ipython-input-20-b7deb2fe5e25>\u001b[0m in \u001b[0;36mfit\u001b[0;34m(self, X, y)\u001b[0m\n\u001b[1;32m     55\u001b[0m         \u001b[0;32mfor\u001b[0m \u001b[0mn\u001b[0m \u001b[0;32min\u001b[0m \u001b[0mrange\u001b[0m\u001b[0;34m(\u001b[0m\u001b[0mlen\u001b[0m\u001b[0;34m(\u001b[0m\u001b[0mself\u001b[0m\u001b[0;34m.\u001b[0m\u001b[0ma\u001b[0m\u001b[0;34m)\u001b[0m\u001b[0;34m)\u001b[0m\u001b[0;34m:\u001b[0m\u001b[0;34m\u001b[0m\u001b[0;34m\u001b[0m\u001b[0m\n\u001b[1;32m     56\u001b[0m             \u001b[0mself\u001b[0m\u001b[0;34m.\u001b[0m\u001b[0mb\u001b[0m \u001b[0;34m+=\u001b[0m \u001b[0mself\u001b[0m\u001b[0;34m.\u001b[0m\u001b[0msv_y\u001b[0m\u001b[0;34m[\u001b[0m\u001b[0mn\u001b[0m\u001b[0;34m]\u001b[0m\u001b[0;34m\u001b[0m\u001b[0;34m\u001b[0m\u001b[0m\n\u001b[0;32m---> 57\u001b[0;31m             \u001b[0mself\u001b[0m\u001b[0;34m.\u001b[0m\u001b[0mb\u001b[0m \u001b[0;34m-=\u001b[0m \u001b[0mnp\u001b[0m\u001b[0;34m.\u001b[0m\u001b[0msum\u001b[0m\u001b[0;34m(\u001b[0m\u001b[0mself\u001b[0m\u001b[0;34m.\u001b[0m\u001b[0ma1\u001b[0m \u001b[0;34m*\u001b[0m \u001b[0mself\u001b[0m\u001b[0;34m.\u001b[0m\u001b[0msv_y\u001b[0m \u001b[0;34m*\u001b[0m \u001b[0mK\u001b[0m\u001b[0;34m[\u001b[0m\u001b[0mind\u001b[0m\u001b[0;34m[\u001b[0m\u001b[0mn\u001b[0m\u001b[0;34m]\u001b[0m\u001b[0;34m,\u001b[0m\u001b[0msv\u001b[0m\u001b[0;34m]\u001b[0m\u001b[0;34m)\u001b[0m\u001b[0;34m\u001b[0m\u001b[0;34m\u001b[0m\u001b[0m\n\u001b[0m\u001b[1;32m     58\u001b[0m         \u001b[0mself\u001b[0m\u001b[0;34m.\u001b[0m\u001b[0mb\u001b[0m \u001b[0;34m/=\u001b[0m \u001b[0mlen\u001b[0m\u001b[0;34m(\u001b[0m\u001b[0mself\u001b[0m\u001b[0;34m.\u001b[0m\u001b[0ma\u001b[0m\u001b[0;34m)\u001b[0m\u001b[0;34m\u001b[0m\u001b[0;34m\u001b[0m\u001b[0m\n\u001b[1;32m     59\u001b[0m \u001b[0;34m\u001b[0m\u001b[0m\n",
      "\u001b[0;31mUFuncTypeError\u001b[0m: Cannot cast ufunc 'subtract' output from dtype('float64') to dtype('int64') with casting rule 'same_kind'"
     ]
    }
   ],
   "source": [
    "test3.fit(X_tr,Y_tr.reshape(-1,1))"
   ]
  },
  {
   "cell_type": "code",
   "execution_count": 23,
   "metadata": {},
   "outputs": [
    {
     "data": {
      "text/plain": [
       "array([4.64158852e-01, 4.64158863e-01, 3.21761300e-01, 4.64158764e-01,\n",
       "       4.64158705e-01, 4.64158717e-01, 4.64158850e-01, 4.64158871e-01,\n",
       "       4.64158786e-01, 4.64158830e-01, 9.82279542e-02, 4.64158860e-01,\n",
       "       4.64158504e-01, 4.64158862e-01, 4.64158736e-01, 4.64158237e-01,\n",
       "       4.64158867e-01, 4.64158597e-01, 4.64158862e-01, 4.64158852e-01,\n",
       "       4.64158861e-01, 4.64158377e-01, 4.64158861e-01, 4.64158862e-01,\n",
       "       4.64158708e-01, 4.64158857e-01, 4.64158818e-01, 4.64158853e-01,\n",
       "       4.64158529e-01, 4.64158845e-01, 4.64158867e-01, 4.64158677e-01,\n",
       "       4.64158854e-01, 4.64158868e-01, 4.64158824e-01, 1.69815193e-01,\n",
       "       4.64158837e-01, 5.27198358e-02, 4.64158864e-01, 4.64158859e-01,\n",
       "       6.16525553e-02, 2.87972542e-05, 4.64158813e-01, 4.64158860e-01,\n",
       "       4.64158830e-01, 2.59080908e-01, 4.64158821e-01, 4.64158743e-01,\n",
       "       4.64157911e-01, 4.64158475e-01, 4.64158823e-01, 4.64158754e-01,\n",
       "       4.64158857e-01, 4.64158857e-01, 4.64158859e-01, 4.64158842e-01,\n",
       "       4.64158848e-01, 4.64158835e-01, 4.64158320e-01])"
      ]
     },
     "execution_count": 23,
     "metadata": {},
     "output_type": "execute_result"
    }
   ],
   "source": [
    "test3.a1"
   ]
  },
  {
   "cell_type": "code",
   "execution_count": 25,
   "metadata": {},
   "outputs": [
    {
     "data": {
      "text/plain": [
       "0.46415888336127725"
      ]
     },
     "execution_count": 25,
     "metadata": {},
     "output_type": "execute_result"
    }
   ],
   "source": [
    "test3.C"
   ]
  },
  {
   "cell_type": "code",
   "execution_count": 268,
   "metadata": {},
   "outputs": [
    {
     "data": {
      "text/plain": [
       "array([-1,  1,  1, -1, -1, -1,  1, -1, -1,  1, -1, -1,  1, -1, -1,  1, -1,\n",
       "       -1, -1, -1, -1,  1,  1, -1, -1,  1, -1,  1, -1, -1,  1,  1, -1, -1,\n",
       "        1,  1,  1,  1,  1,  1,  1,  1, -1, -1,  1, -1, -1,  1, -1, -1,  1,\n",
       "        1,  1,  1,  1, -1, -1, -1, -1, -1,  1,  1,  1, -1, -1,  1,  1, -1,\n",
       "        1, -1,  1, -1, -1,  1,  1, -1,  1,  1,  1,  1, -1, -1,  1, -1,  1,\n",
       "        1, -1,  1,  1, -1,  1,  1, -1, -1,  1,  1, -1, -1,  1, -1])"
      ]
     },
     "execution_count": 268,
     "metadata": {},
     "output_type": "execute_result"
    }
   ],
   "source": [
    "Y_tr"
   ]
  },
  {
   "cell_type": "code",
   "execution_count": null,
   "metadata": {},
   "outputs": [],
   "source": []
  }
 ],
 "metadata": {
  "kernelspec": {
   "display_name": "Python 3",
   "language": "python",
   "name": "python3"
  },
  "language_info": {
   "codemirror_mode": {
    "name": "ipython",
    "version": 3
   },
   "file_extension": ".py",
   "mimetype": "text/x-python",
   "name": "python",
   "nbconvert_exporter": "python",
   "pygments_lexer": "ipython3",
   "version": "3.7.7"
  }
 },
 "nbformat": 4,
 "nbformat_minor": 4
}
