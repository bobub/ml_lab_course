{
 "cells": [
  {
   "cell_type": "code",
   "execution_count": 1,
   "metadata": {},
   "outputs": [],
   "source": [
    "import os\n",
    "import ps4_implementation as imp \n",
    "import numpy as np\n",
    "import itertools as it\n",
    "import time\n",
    "import pylab as pl\n",
    "import random\n",
    "import matplotlib.pyplot as plt\n",
    "from scipy.stats import lognorm\n",
    "from tqdm import tqdm\n"
   ]
  },
  {
   "cell_type": "code",
   "execution_count": 2,
   "metadata": {},
   "outputs": [],
   "source": [
    " def mean_absolute_error(y_true, y_pred):\n",
    "    ''' \n",
    "    your code here \n",
    "    '''\n",
    "    loss = np.mean(abs(y_pred-y_true))\n",
    "    #loss = np.sum(np.sum((y_pred-y_true)**2)**0.5, axis = 1) / len(y_pred)\n",
    "    return loss"
   ]
  },
  {
   "cell_type": "code",
   "execution_count": 3,
   "metadata": {},
   "outputs": [],
   "source": [
    "def cv(X, y, method, params, loss_function=mean_absolute_error, nfolds=10, nrepetitions=5):\n",
    "    ''' \n",
    "    your header here!\n",
    "    '''\n",
    "    # TODO progress bar, run time estimation\n",
    "    length, width = np.shape(X)\n",
    "    # model = method\n",
    "    method.cvloss = 1000000\n",
    "    params_combinations = list(it.product(params['kernel'], params['kernelparameter'], params['regularization']))\n",
    "    for parameter in tqdm(params_combinations):\n",
    "        #print(parameter[1])\n",
    "        model = method(parameter[0], parameter[1], parameter[2])\n",
    "        e = 0\n",
    "        for i in range(nrepetitions):\n",
    "            # Random Partitioning\n",
    "            X_pos = np.linspace(0,length-1, length)\n",
    "            random.shuffle(X_pos)\n",
    "            part = np.array_split(X_pos, nfolds)\n",
    "            for j in range(nfolds):\n",
    "                # Assign every part not j as training set\n",
    "                # Xtr indices\n",
    "                train = np.concatenate(np.array(part)[tuple([np.array(range(nfolds)) != j])].astype('int')) \n",
    "                X_j = X[train]\n",
    "                y_j = y[train]\n",
    "                model.fit(X_j, y_j)\n",
    "                y_pred = model.predict(X[part[j].astype('int')])\n",
    "                e = e + loss_function(y[part[j].astype('int')], y_pred)\n",
    "        e = e / (nfolds * nrepetitions)\n",
    "        print('Loss:' + str(e))\n",
    "        if e < method.cvloss:\n",
    "            #print(e)\n",
    "            method.cvloss = e\n",
    "            #print('Loss in if:' + str(model.cvloss))\n",
    "            method.__params = parameter\n",
    "    #print(method.params)\n",
    "    model = method(method.__params[0],method.__params[1],method.__params[2])\n",
    "    model.fit(X,y)\n",
    "    method = model\n",
    "    return method"
   ]
  },
  {
   "cell_type": "code",
   "execution_count": 4,
   "metadata": {},
   "outputs": [],
   "source": [
    "DATA_PATH = os.path.join(os.path.dirname(os.getcwd()),\"data/easy_2d.npz\")\n",
    "assert os.path.exists(DATA_PATH), \"The path does not excist.\""
   ]
  },
  {
   "cell_type": "code",
   "execution_count": 5,
   "metadata": {},
   "outputs": [
    {
     "name": "stdout",
     "output_type": "stream",
     "text": [
      "['Y_te', 'X_te', 'X_tr', 'Y_tr']\n"
     ]
    }
   ],
   "source": [
    "data = np.load(DATA_PATH)\n",
    "print(data.files)"
   ]
  },
  {
   "cell_type": "code",
   "execution_count": 6,
   "metadata": {},
   "outputs": [],
   "source": [
    "X_tr = data['X_tr'].T\n",
    "Y_tr = data['Y_tr'].T\n",
    "X_te = data['X_te'].T\n",
    "Y_te = data['Y_te'].T"
   ]
  },
  {
   "cell_type": "code",
   "execution_count": 7,
   "metadata": {},
   "outputs": [
    {
     "data": {
      "text/plain": [
       "<matplotlib.collections.PathCollection at 0x1a1e603690>"
      ]
     },
     "execution_count": 7,
     "metadata": {},
     "output_type": "execute_result"
    },
    {
     "data": {
      "image/png": "[encoded data removed]",
      "text/plain": [
       "<Figure size 432x288 with 1 Axes>"
      ]
     },
     "metadata": {
      "needs_background": "light"
     },
     "output_type": "display_data"
    }
   ],
   "source": [
    "plt.scatter(X_tr[Y_tr == -1,0], X_tr[Y_tr == -1,1], marker = 'x', color = 'r', label = 'Negative -1')\n",
    "plt.scatter(X_tr[Y_tr == 1,0], X_tr[Y_tr == 1,1], marker = 'o', color = 'b',label = 'Positive +1')\n"
   ]
  },
  {
   "cell_type": "code",
   "execution_count": 134,
   "metadata": {},
   "outputs": [],
   "source": [
    "X_tr_norm = (X_tr-np.min(X_tr))/(np.max(X_tr)-np.min(X_tr))"
   ]
  },
  {
   "cell_type": "code",
   "execution_count": 9,
   "metadata": {},
   "outputs": [
    {
     "name": "stderr",
     "output_type": "stream",
     "text": [
      "  0%|          | 0/500 [00:00<?, ?it/s]/Users/leo/anaconda3/envs/Python37/lib/python3.7/site-packages/numpy/core/fromnumeric.py:3335: RuntimeWarning: Mean of empty slice.\n",
      "  out=out, **kwargs)\n",
      "/Users/leo/anaconda3/envs/Python37/lib/python3.7/site-packages/numpy/core/_methods.py:161: RuntimeWarning: invalid value encountered in double_scalars\n",
      "  ret = ret.dtype.type(ret / rcount)\n",
      "  0%|          | 2/500 [00:00<01:41,  4.92it/s]"
     ]
    },
    {
     "name": "stdout",
     "output_type": "stream",
     "text": [
      "Loss:nan\n",
      "Loss:nan\n"
     ]
    },
    {
     "name": "stderr",
     "output_type": "stream",
     "text": [
      "  1%|          | 4/500 [00:00<01:24,  5.86it/s]"
     ]
    },
    {
     "name": "stdout",
     "output_type": "stream",
     "text": [
      "Loss:nan\n",
      "Loss:nan\n"
     ]
    },
    {
     "name": "stderr",
     "output_type": "stream",
     "text": [
      "  1%|          | 6/500 [00:00<01:19,  6.24it/s]"
     ]
    },
    {
     "name": "stdout",
     "output_type": "stream",
     "text": [
      "Loss:1.176\n",
      "Loss:1.192\n"
     ]
    },
    {
     "name": "stderr",
     "output_type": "stream",
     "text": [
      "  2%|▏         | 8/500 [00:01<01:16,  6.46it/s]"
     ]
    },
    {
     "name": "stdout",
     "output_type": "stream",
     "text": [
      "Loss:1.1440000000000001\n",
      "Loss:nan\n"
     ]
    },
    {
     "name": "stderr",
     "output_type": "stream",
     "text": [
      "  2%|▏         | 10/500 [00:01<01:12,  6.80it/s]"
     ]
    },
    {
     "name": "stdout",
     "output_type": "stream",
     "text": [
      "Loss:nan\n",
      "Loss:1.152\n"
     ]
    },
    {
     "name": "stderr",
     "output_type": "stream",
     "text": [
      "  2%|▏         | 12/500 [00:01<01:10,  6.92it/s]"
     ]
    },
    {
     "name": "stdout",
     "output_type": "stream",
     "text": [
      "Loss:nan\n",
      "Loss:nan\n"
     ]
    },
    {
     "name": "stderr",
     "output_type": "stream",
     "text": [
      "  3%|▎         | 14/500 [00:02<01:10,  6.93it/s]"
     ]
    },
    {
     "name": "stdout",
     "output_type": "stream",
     "text": [
      "Loss:nan\n",
      "Loss:nan\n"
     ]
    },
    {
     "name": "stderr",
     "output_type": "stream",
     "text": [
      "  3%|▎         | 16/500 [00:02<01:10,  6.84it/s]"
     ]
    },
    {
     "name": "stdout",
     "output_type": "stream",
     "text": [
      "Loss:1.1520000000000001\n",
      "Loss:1.1600000000000001\n"
     ]
    },
    {
     "name": "stderr",
     "output_type": "stream",
     "text": [
      "  4%|▎         | 18/500 [00:02<01:08,  7.06it/s]"
     ]
    },
    {
     "name": "stdout",
     "output_type": "stream",
     "text": [
      "Loss:1.1360000000000001\n",
      "Loss:nan\n"
     ]
    },
    {
     "name": "stderr",
     "output_type": "stream",
     "text": [
      "  4%|▍         | 20/500 [00:02<01:08,  7.04it/s]"
     ]
    },
    {
     "name": "stdout",
     "output_type": "stream",
     "text": [
      "Loss:nan\n",
      "Loss:1.1840000000000002\n"
     ]
    },
    {
     "name": "stderr",
     "output_type": "stream",
     "text": [
      "  4%|▍         | 22/500 [00:03<01:06,  7.24it/s]"
     ]
    },
    {
     "name": "stdout",
     "output_type": "stream",
     "text": [
      "Loss:nan\n",
      "Loss:nan\n"
     ]
    },
    {
     "name": "stderr",
     "output_type": "stream",
     "text": [
      "  5%|▍         | 24/500 [00:03<01:07,  7.05it/s]"
     ]
    },
    {
     "name": "stdout",
     "output_type": "stream",
     "text": [
      "Loss:nan\n",
      "Loss:nan\n"
     ]
    },
    {
     "name": "stderr",
     "output_type": "stream",
     "text": [
      "  5%|▌         | 26/500 [00:03<01:06,  7.09it/s]"
     ]
    },
    {
     "name": "stdout",
     "output_type": "stream",
     "text": [
      "Loss:1.1520000000000001\n",
      "Loss:1.1680000000000001\n"
     ]
    },
    {
     "name": "stderr",
     "output_type": "stream",
     "text": [
      "  6%|▌         | 28/500 [00:04<01:06,  7.10it/s]"
     ]
    },
    {
     "name": "stdout",
     "output_type": "stream",
     "text": [
      "Loss:1.1360000000000003\n",
      "Loss:nan\n"
     ]
    },
    {
     "name": "stderr",
     "output_type": "stream",
     "text": [
      "  6%|▌         | 30/500 [00:04<01:04,  7.25it/s]"
     ]
    },
    {
     "name": "stdout",
     "output_type": "stream",
     "text": [
      "Loss:nan\n",
      "Loss:1.1840000000000002\n"
     ]
    },
    {
     "name": "stderr",
     "output_type": "stream",
     "text": [
      "  6%|▋         | 32/500 [00:04<01:03,  7.35it/s]"
     ]
    },
    {
     "name": "stdout",
     "output_type": "stream",
     "text": [
      "Loss:nan\n",
      "Loss:nan\n"
     ]
    },
    {
     "name": "stderr",
     "output_type": "stream",
     "text": [
      "  7%|▋         | 34/500 [00:04<01:04,  7.28it/s]"
     ]
    },
    {
     "name": "stdout",
     "output_type": "stream",
     "text": [
      "Loss:nan\n",
      "Loss:nan\n"
     ]
    },
    {
     "name": "stderr",
     "output_type": "stream",
     "text": [
      "  7%|▋         | 36/500 [00:05<01:04,  7.14it/s]"
     ]
    },
    {
     "name": "stdout",
     "output_type": "stream",
     "text": [
      "Loss:1.168\n",
      "Loss:1.1840000000000002\n"
     ]
    },
    {
     "name": "stderr",
     "output_type": "stream",
     "text": [
      "  8%|▊         | 38/500 [00:05<01:08,  6.79it/s]"
     ]
    },
    {
     "name": "stdout",
     "output_type": "stream",
     "text": [
      "Loss:1.1280000000000001\n",
      "Loss:nan\n"
     ]
    },
    {
     "name": "stderr",
     "output_type": "stream",
     "text": [
      "  8%|▊         | 40/500 [00:05<01:09,  6.60it/s]"
     ]
    },
    {
     "name": "stdout",
     "output_type": "stream",
     "text": [
      "Loss:nan\n",
      "Loss:1.144\n"
     ]
    },
    {
     "name": "stderr",
     "output_type": "stream",
     "text": [
      "  8%|▊         | 42/500 [00:06<01:10,  6.48it/s]"
     ]
    },
    {
     "name": "stdout",
     "output_type": "stream",
     "text": [
      "Loss:nan\n",
      "Loss:nan\n"
     ]
    },
    {
     "name": "stderr",
     "output_type": "stream",
     "text": [
      "\r",
      "  9%|▊         | 43/500 [00:06<01:13,  6.21it/s]"
     ]
    },
    {
     "name": "stdout",
     "output_type": "stream",
     "text": [
      "Loss:nan\n"
     ]
    },
    {
     "name": "stderr",
     "output_type": "stream",
     "text": [
      "  9%|▉         | 45/500 [00:06<01:28,  5.13it/s]"
     ]
    },
    {
     "name": "stdout",
     "output_type": "stream",
     "text": [
      "Loss:nan\n",
      "Loss:1.1520000000000001\n"
     ]
    },
    {
     "name": "stderr",
     "output_type": "stream",
     "text": [
      "  9%|▉         | 47/500 [00:07<01:26,  5.22it/s]"
     ]
    },
    {
     "name": "stdout",
     "output_type": "stream",
     "text": [
      "Loss:1.2080000000000004\n",
      "Loss:1.1520000000000001\n"
     ]
    },
    {
     "name": "stderr",
     "output_type": "stream",
     "text": [
      "\r",
      " 10%|▉         | 48/500 [00:07<01:38,  4.57it/s]"
     ]
    },
    {
     "name": "stdout",
     "output_type": "stream",
     "text": [
      "Loss:nan\n"
     ]
    },
    {
     "name": "stderr",
     "output_type": "stream",
     "text": [
      " 10%|█         | 50/500 [00:07<01:22,  5.45it/s]"
     ]
    },
    {
     "name": "stdout",
     "output_type": "stream",
     "text": [
      "Loss:nan\n",
      "Loss:1.1440000000000003\n"
     ]
    },
    {
     "name": "stderr",
     "output_type": "stream",
     "text": [
      " 10%|█         | 52/500 [00:08<01:12,  6.22it/s]"
     ]
    },
    {
     "name": "stdout",
     "output_type": "stream",
     "text": [
      "Loss:nan\n",
      "Loss:nan\n"
     ]
    },
    {
     "name": "stderr",
     "output_type": "stream",
     "text": [
      " 11%|█         | 54/500 [00:08<01:05,  6.84it/s]"
     ]
    },
    {
     "name": "stdout",
     "output_type": "stream",
     "text": [
      "Loss:nan\n",
      "Loss:nan\n"
     ]
    },
    {
     "name": "stderr",
     "output_type": "stream",
     "text": [
      " 11%|█         | 56/500 [00:08<01:01,  7.20it/s]"
     ]
    },
    {
     "name": "stdout",
     "output_type": "stream",
     "text": [
      "Loss:1.1680000000000001\n",
      "Loss:1.1520000000000004\n"
     ]
    },
    {
     "name": "stderr",
     "output_type": "stream",
     "text": [
      "\r",
      " 11%|█▏        | 57/500 [00:08<01:03,  6.93it/s]"
     ]
    },
    {
     "name": "stdout",
     "output_type": "stream",
     "text": [
      "Loss:1.12\n"
     ]
    },
    {
     "name": "stderr",
     "output_type": "stream",
     "text": [
      " 12%|█▏        | 59/500 [00:09<01:23,  5.28it/s]"
     ]
    },
    {
     "name": "stdout",
     "output_type": "stream",
     "text": [
      "Loss:nan\n",
      "Loss:nan\n"
     ]
    },
    {
     "name": "stderr",
     "output_type": "stream",
     "text": [
      " 12%|█▏        | 61/500 [00:09<01:06,  6.63it/s]"
     ]
    },
    {
     "name": "stdout",
     "output_type": "stream",
     "text": [
      "Loss:1.1439999999999997\n",
      "Loss:nan\n"
     ]
    },
    {
     "name": "stderr",
     "output_type": "stream",
     "text": [
      " 13%|█▎        | 63/500 [00:09<01:00,  7.26it/s]"
     ]
    },
    {
     "name": "stdout",
     "output_type": "stream",
     "text": [
      "Loss:nan\n",
      "Loss:nan\n"
     ]
    },
    {
     "name": "stderr",
     "output_type": "stream",
     "text": [
      " 13%|█▎        | 65/500 [00:10<01:02,  6.92it/s]"
     ]
    },
    {
     "name": "stdout",
     "output_type": "stream",
     "text": [
      "Loss:nan\n",
      "Loss:1.16\n"
     ]
    },
    {
     "name": "stderr",
     "output_type": "stream",
     "text": [
      " 13%|█▎        | 67/500 [00:10<00:57,  7.50it/s]"
     ]
    },
    {
     "name": "stdout",
     "output_type": "stream",
     "text": [
      "Loss:1.16\n",
      "Loss:1.1760000000000002\n"
     ]
    },
    {
     "name": "stderr",
     "output_type": "stream",
     "text": [
      " 14%|█▍        | 69/500 [00:10<00:54,  7.96it/s]"
     ]
    },
    {
     "name": "stdout",
     "output_type": "stream",
     "text": [
      "Loss:nan\n",
      "Loss:nan\n"
     ]
    },
    {
     "name": "stderr",
     "output_type": "stream",
     "text": [
      "\r",
      " 14%|█▍        | 71/500 [00:10<00:52,  8.20it/s]"
     ]
    },
    {
     "name": "stdout",
     "output_type": "stream",
     "text": [
      "Loss:1.1440000000000001\n",
      "Loss:nan\n"
     ]
    },
    {
     "name": "stderr",
     "output_type": "stream",
     "text": [
      " 15%|█▍        | 73/500 [00:10<00:53,  8.04it/s]"
     ]
    },
    {
     "name": "stdout",
     "output_type": "stream",
     "text": [
      "Loss:nan\n",
      "Loss:nan\n"
     ]
    },
    {
     "name": "stderr",
     "output_type": "stream",
     "text": [
      " 15%|█▌        | 75/500 [00:11<00:58,  7.21it/s]"
     ]
    },
    {
     "name": "stdout",
     "output_type": "stream",
     "text": [
      "Loss:nan\n",
      "Loss:1.1840000000000004\n"
     ]
    },
    {
     "name": "stderr",
     "output_type": "stream",
     "text": [
      "\r",
      " 15%|█▌        | 76/500 [00:11<00:57,  7.41it/s]"
     ]
    },
    {
     "name": "stdout",
     "output_type": "stream",
     "text": [
      "Loss:1.1360000000000001\n"
     ]
    },
    {
     "name": "stderr",
     "output_type": "stream",
     "text": [
      " 16%|█▌        | 78/500 [00:11<01:02,  6.70it/s]"
     ]
    },
    {
     "name": "stdout",
     "output_type": "stream",
     "text": [
      "Loss:1.1360000000000001\n",
      "Loss:nan\n"
     ]
    },
    {
     "name": "stderr",
     "output_type": "stream",
     "text": [
      " 16%|█▌        | 80/500 [00:11<00:54,  7.77it/s]"
     ]
    },
    {
     "name": "stdout",
     "output_type": "stream",
     "text": [
      "Loss:nan\n",
      "Loss:1.208\n"
     ]
    },
    {
     "name": "stderr",
     "output_type": "stream",
     "text": [
      " 16%|█▋        | 82/500 [00:12<00:52,  7.98it/s]"
     ]
    },
    {
     "name": "stdout",
     "output_type": "stream",
     "text": [
      "Loss:nan\n",
      "Loss:nan\n"
     ]
    },
    {
     "name": "stderr",
     "output_type": "stream",
     "text": [
      " 17%|█▋        | 84/500 [00:12<00:51,  8.13it/s]"
     ]
    },
    {
     "name": "stdout",
     "output_type": "stream",
     "text": [
      "Loss:nan\n",
      "Loss:nan\n"
     ]
    },
    {
     "name": "stderr",
     "output_type": "stream",
     "text": [
      " 17%|█▋        | 86/500 [00:12<00:49,  8.35it/s]"
     ]
    },
    {
     "name": "stdout",
     "output_type": "stream",
     "text": [
      "Loss:1.1440000000000001\n",
      "Loss:1.1520000000000001\n"
     ]
    },
    {
     "name": "stderr",
     "output_type": "stream",
     "text": [
      " 18%|█▊        | 88/500 [00:12<00:47,  8.61it/s]"
     ]
    },
    {
     "name": "stdout",
     "output_type": "stream",
     "text": [
      "Loss:1.2080000000000002\n",
      "Loss:nan\n"
     ]
    },
    {
     "name": "stderr",
     "output_type": "stream",
     "text": [
      " 18%|█▊        | 90/500 [00:13<00:45,  8.92it/s]"
     ]
    },
    {
     "name": "stdout",
     "output_type": "stream",
     "text": [
      "Loss:nan\n",
      "Loss:1.1920000000000004\n"
     ]
    },
    {
     "name": "stderr",
     "output_type": "stream",
     "text": [
      " 18%|█▊        | 92/500 [00:13<00:44,  9.25it/s]"
     ]
    },
    {
     "name": "stdout",
     "output_type": "stream",
     "text": [
      "Loss:nan\n",
      "Loss:nan\n"
     ]
    },
    {
     "name": "stderr",
     "output_type": "stream",
     "text": [
      " 19%|█▉        | 94/500 [00:13<00:44,  9.09it/s]"
     ]
    },
    {
     "name": "stdout",
     "output_type": "stream",
     "text": [
      "Loss:nan\n",
      "Loss:nan\n"
     ]
    },
    {
     "name": "stderr",
     "output_type": "stream",
     "text": [
      " 19%|█▉        | 96/500 [00:13<00:45,  8.84it/s]"
     ]
    },
    {
     "name": "stdout",
     "output_type": "stream",
     "text": [
      "Loss:1.2080000000000002\n",
      "Loss:1.1600000000000001\n"
     ]
    },
    {
     "name": "stderr",
     "output_type": "stream",
     "text": [
      " 20%|█▉        | 98/500 [00:14<00:45,  8.82it/s]"
     ]
    },
    {
     "name": "stdout",
     "output_type": "stream",
     "text": [
      "Loss:1.208\n",
      "Loss:nan\n"
     ]
    },
    {
     "name": "stderr",
     "output_type": "stream",
     "text": [
      " 20%|██        | 100/500 [00:14<00:46,  8.57it/s]"
     ]
    },
    {
     "name": "stdout",
     "output_type": "stream",
     "text": [
      "Loss:nan\n",
      "Loss:1.192\n"
     ]
    },
    {
     "name": "stderr",
     "output_type": "stream",
     "text": [
      " 20%|██        | 102/500 [00:14<00:45,  8.74it/s]"
     ]
    },
    {
     "name": "stdout",
     "output_type": "stream",
     "text": [
      "Loss:nan\n",
      "Loss:nan\n"
     ]
    },
    {
     "name": "stderr",
     "output_type": "stream",
     "text": [
      " 21%|██        | 104/500 [00:14<00:44,  8.83it/s]"
     ]
    },
    {
     "name": "stdout",
     "output_type": "stream",
     "text": [
      "Loss:nan\n",
      "Loss:nan\n"
     ]
    },
    {
     "name": "stderr",
     "output_type": "stream",
     "text": [
      " 21%|██        | 106/500 [00:14<00:46,  8.54it/s]"
     ]
    },
    {
     "name": "stdout",
     "output_type": "stream",
     "text": [
      "Loss:1.2000000000000002\n",
      "Loss:1.2080000000000002\n"
     ]
    },
    {
     "name": "stderr",
     "output_type": "stream",
     "text": [
      " 22%|██▏       | 108/500 [00:15<00:44,  8.76it/s]"
     ]
    },
    {
     "name": "stdout",
     "output_type": "stream",
     "text": [
      "Loss:1.16\n",
      "Loss:nan\n"
     ]
    },
    {
     "name": "stderr",
     "output_type": "stream",
     "text": [
      " 22%|██▏       | 110/500 [00:15<00:42,  9.08it/s]"
     ]
    },
    {
     "name": "stdout",
     "output_type": "stream",
     "text": [
      "Loss:nan\n",
      "Loss:1.1840000000000002\n"
     ]
    },
    {
     "name": "stderr",
     "output_type": "stream",
     "text": [
      " 22%|██▏       | 112/500 [00:15<00:42,  9.19it/s]"
     ]
    },
    {
     "name": "stdout",
     "output_type": "stream",
     "text": [
      "Loss:nan\n",
      "Loss:nan\n"
     ]
    },
    {
     "name": "stderr",
     "output_type": "stream",
     "text": [
      " 23%|██▎       | 114/500 [00:15<00:42,  9.12it/s]"
     ]
    },
    {
     "name": "stdout",
     "output_type": "stream",
     "text": [
      "Loss:nan\n",
      "Loss:nan\n"
     ]
    },
    {
     "name": "stderr",
     "output_type": "stream",
     "text": [
      " 23%|██▎       | 116/500 [00:16<00:44,  8.69it/s]"
     ]
    },
    {
     "name": "stdout",
     "output_type": "stream",
     "text": [
      "Loss:1.2000000000000002\n",
      "Loss:1.1280000000000001\n"
     ]
    },
    {
     "name": "stderr",
     "output_type": "stream",
     "text": [
      " 24%|██▎       | 118/500 [00:16<00:43,  8.85it/s]"
     ]
    },
    {
     "name": "stdout",
     "output_type": "stream",
     "text": [
      "Loss:1.1760000000000002\n",
      "Loss:nan\n"
     ]
    },
    {
     "name": "stderr",
     "output_type": "stream",
     "text": [
      " 24%|██▍       | 120/500 [00:16<00:42,  9.01it/s]"
     ]
    },
    {
     "name": "stdout",
     "output_type": "stream",
     "text": [
      "Loss:nan\n",
      "Loss:1.1520000000000004\n"
     ]
    },
    {
     "name": "stderr",
     "output_type": "stream",
     "text": [
      " 24%|██▍       | 122/500 [00:16<00:43,  8.68it/s]"
     ]
    },
    {
     "name": "stdout",
     "output_type": "stream",
     "text": [
      "Loss:nan\n",
      "Loss:nan\n"
     ]
    },
    {
     "name": "stderr",
     "output_type": "stream",
     "text": [
      " 25%|██▍       | 124/500 [00:17<00:47,  7.94it/s]"
     ]
    },
    {
     "name": "stdout",
     "output_type": "stream",
     "text": [
      "Loss:nan\n",
      "Loss:nan\n"
     ]
    },
    {
     "name": "stderr",
     "output_type": "stream",
     "text": [
      " 25%|██▌       | 126/500 [00:17<00:46,  7.96it/s]"
     ]
    },
    {
     "name": "stdout",
     "output_type": "stream",
     "text": [
      "Loss:1.1280000000000003\n",
      "Loss:1.2\n"
     ]
    },
    {
     "name": "stderr",
     "output_type": "stream",
     "text": [
      "\r",
      " 25%|██▌       | 127/500 [00:17<00:59,  6.27it/s]"
     ]
    },
    {
     "name": "stdout",
     "output_type": "stream",
     "text": [
      "Loss:1.2\n"
     ]
    },
    {
     "name": "stderr",
     "output_type": "stream",
     "text": [
      " 26%|██▌       | 129/500 [00:18<01:15,  4.92it/s]"
     ]
    },
    {
     "name": "stdout",
     "output_type": "stream",
     "text": [
      "Loss:nan\n",
      "Loss:nan\n"
     ]
    },
    {
     "name": "stderr",
     "output_type": "stream",
     "text": [
      " 26%|██▌       | 131/500 [00:18<00:56,  6.55it/s]"
     ]
    },
    {
     "name": "stdout",
     "output_type": "stream",
     "text": [
      "Loss:1.1440000000000001\n",
      "Loss:nan\n"
     ]
    },
    {
     "name": "stderr",
     "output_type": "stream",
     "text": [
      " 27%|██▋       | 133/500 [00:18<00:50,  7.21it/s]"
     ]
    },
    {
     "name": "stdout",
     "output_type": "stream",
     "text": [
      "Loss:nan\n",
      "Loss:nan\n"
     ]
    },
    {
     "name": "stderr",
     "output_type": "stream",
     "text": [
      " 27%|██▋       | 135/500 [00:18<01:01,  5.98it/s]"
     ]
    },
    {
     "name": "stdout",
     "output_type": "stream",
     "text": [
      "Loss:nan\n",
      "Loss:1.1440000000000001\n"
     ]
    },
    {
     "name": "stderr",
     "output_type": "stream",
     "text": [
      " 27%|██▋       | 137/500 [00:19<00:51,  7.04it/s]"
     ]
    },
    {
     "name": "stdout",
     "output_type": "stream",
     "text": [
      "Loss:1.1120000000000003\n",
      "Loss:1.1840000000000002\n"
     ]
    },
    {
     "name": "stderr",
     "output_type": "stream",
     "text": [
      "\r",
      " 28%|██▊       | 138/500 [00:19<01:02,  5.80it/s]"
     ]
    },
    {
     "name": "stdout",
     "output_type": "stream",
     "text": [
      "Loss:nan\n"
     ]
    },
    {
     "name": "stderr",
     "output_type": "stream",
     "text": [
      " 28%|██▊       | 140/500 [00:19<01:08,  5.24it/s]"
     ]
    },
    {
     "name": "stdout",
     "output_type": "stream",
     "text": [
      "Loss:nan\n",
      "Loss:1.1760000000000002\n"
     ]
    },
    {
     "name": "stderr",
     "output_type": "stream",
     "text": [
      " 28%|██▊       | 142/500 [00:20<01:25,  4.21it/s]"
     ]
    },
    {
     "name": "stdout",
     "output_type": "stream",
     "text": [
      "Loss:nan\n",
      "Loss:nan\n"
     ]
    },
    {
     "name": "stderr",
     "output_type": "stream",
     "text": [
      "\r",
      " 29%|██▊       | 143/500 [00:20<01:16,  4.68it/s]"
     ]
    },
    {
     "name": "stdout",
     "output_type": "stream",
     "text": [
      "Loss:nan\n"
     ]
    },
    {
     "name": "stderr",
     "output_type": "stream",
     "text": [
      "\r",
      " 29%|██▉       | 144/500 [00:20<01:22,  4.30it/s]"
     ]
    },
    {
     "name": "stdout",
     "output_type": "stream",
     "text": [
      "Loss:nan\n"
     ]
    },
    {
     "name": "stderr",
     "output_type": "stream",
     "text": [
      "\r",
      " 29%|██▉       | 145/500 [00:21<01:27,  4.04it/s]"
     ]
    },
    {
     "name": "stdout",
     "output_type": "stream",
     "text": [
      "Loss:1.1360000000000003\n"
     ]
    },
    {
     "name": "stderr",
     "output_type": "stream",
     "text": [
      "\r",
      " 29%|██▉       | 146/500 [00:21<01:28,  3.98it/s]"
     ]
    },
    {
     "name": "stdout",
     "output_type": "stream",
     "text": [
      "Loss:1.1520000000000001\n"
     ]
    },
    {
     "name": "stderr",
     "output_type": "stream",
     "text": [
      " 30%|██▉       | 148/500 [00:21<01:13,  4.78it/s]"
     ]
    },
    {
     "name": "stdout",
     "output_type": "stream",
     "text": [
      "Loss:1.1280000000000001\n",
      "Loss:nan\n"
     ]
    },
    {
     "name": "stderr",
     "output_type": "stream",
     "text": [
      " 30%|███       | 150/500 [00:22<00:58,  6.00it/s]"
     ]
    },
    {
     "name": "stdout",
     "output_type": "stream",
     "text": [
      "Loss:nan\n",
      "Loss:1.1280000000000003\n"
     ]
    },
    {
     "name": "stderr",
     "output_type": "stream",
     "text": [
      " 30%|███       | 152/500 [00:22<00:50,  6.85it/s]"
     ]
    },
    {
     "name": "stdout",
     "output_type": "stream",
     "text": [
      "Loss:nan\n",
      "Loss:nan\n"
     ]
    },
    {
     "name": "stderr",
     "output_type": "stream",
     "text": [
      " 31%|███       | 154/500 [00:22<00:47,  7.24it/s]"
     ]
    },
    {
     "name": "stdout",
     "output_type": "stream",
     "text": [
      "Loss:nan\n",
      "Loss:nan\n"
     ]
    },
    {
     "name": "stderr",
     "output_type": "stream",
     "text": [
      " 31%|███       | 156/500 [00:22<00:44,  7.67it/s]"
     ]
    },
    {
     "name": "stdout",
     "output_type": "stream",
     "text": [
      "Loss:1.1920000000000002\n",
      "Loss:1.1760000000000004\n"
     ]
    },
    {
     "name": "stderr",
     "output_type": "stream",
     "text": [
      " 32%|███▏      | 158/500 [00:23<00:42,  7.97it/s]"
     ]
    },
    {
     "name": "stdout",
     "output_type": "stream",
     "text": [
      "Loss:1.1440000000000001\n",
      "Loss:nan\n"
     ]
    },
    {
     "name": "stderr",
     "output_type": "stream",
     "text": [
      " 32%|███▏      | 160/500 [00:23<00:40,  8.44it/s]"
     ]
    },
    {
     "name": "stdout",
     "output_type": "stream",
     "text": [
      "Loss:nan\n",
      "Loss:1.104\n"
     ]
    },
    {
     "name": "stderr",
     "output_type": "stream",
     "text": [
      " 32%|███▏      | 162/500 [00:23<00:38,  8.72it/s]"
     ]
    },
    {
     "name": "stdout",
     "output_type": "stream",
     "text": [
      "Loss:nan\n",
      "Loss:nan\n"
     ]
    },
    {
     "name": "stderr",
     "output_type": "stream",
     "text": [
      " 33%|███▎      | 164/500 [00:23<00:39,  8.49it/s]"
     ]
    },
    {
     "name": "stdout",
     "output_type": "stream",
     "text": [
      "Loss:nan\n",
      "Loss:nan\n"
     ]
    },
    {
     "name": "stderr",
     "output_type": "stream",
     "text": [
      " 33%|███▎      | 166/500 [00:23<00:40,  8.16it/s]"
     ]
    },
    {
     "name": "stdout",
     "output_type": "stream",
     "text": [
      "Loss:1.1760000000000002\n",
      "Loss:1.124\n"
     ]
    },
    {
     "name": "stderr",
     "output_type": "stream",
     "text": [
      " 34%|███▎      | 168/500 [00:24<00:40,  8.29it/s]"
     ]
    },
    {
     "name": "stdout",
     "output_type": "stream",
     "text": [
      "Loss:1.124\n",
      "Loss:nan\n"
     ]
    },
    {
     "name": "stderr",
     "output_type": "stream",
     "text": [
      " 34%|███▍      | 170/500 [00:24<00:39,  8.38it/s]"
     ]
    },
    {
     "name": "stdout",
     "output_type": "stream",
     "text": [
      "Loss:nan\n",
      "Loss:1.1360000000000001\n"
     ]
    },
    {
     "name": "stderr",
     "output_type": "stream",
     "text": [
      " 34%|███▍      | 172/500 [00:24<00:38,  8.55it/s]"
     ]
    },
    {
     "name": "stdout",
     "output_type": "stream",
     "text": [
      "Loss:nan\n",
      "Loss:nan\n"
     ]
    },
    {
     "name": "stderr",
     "output_type": "stream",
     "text": [
      " 35%|███▍      | 174/500 [00:24<00:38,  8.57it/s]"
     ]
    },
    {
     "name": "stdout",
     "output_type": "stream",
     "text": [
      "Loss:nan\n",
      "Loss:nan\n"
     ]
    },
    {
     "name": "stderr",
     "output_type": "stream",
     "text": [
      " 35%|███▌      | 176/500 [00:25<00:39,  8.27it/s]"
     ]
    },
    {
     "name": "stdout",
     "output_type": "stream",
     "text": [
      "Loss:1.1640000000000001\n",
      "Loss:1.0920000000000003\n"
     ]
    },
    {
     "name": "stderr",
     "output_type": "stream",
     "text": [
      " 36%|███▌      | 178/500 [00:25<00:38,  8.38it/s]"
     ]
    },
    {
     "name": "stdout",
     "output_type": "stream",
     "text": [
      "Loss:1.1560000000000001\n",
      "Loss:nan\n"
     ]
    },
    {
     "name": "stderr",
     "output_type": "stream",
     "text": [
      " 36%|███▌      | 180/500 [00:25<00:37,  8.64it/s]"
     ]
    },
    {
     "name": "stdout",
     "output_type": "stream",
     "text": [
      "Loss:nan\n",
      "Loss:1.1280000000000003\n"
     ]
    },
    {
     "name": "stderr",
     "output_type": "stream",
     "text": [
      " 36%|███▋      | 182/500 [00:25<00:35,  8.96it/s]"
     ]
    },
    {
     "name": "stdout",
     "output_type": "stream",
     "text": [
      "Loss:nan\n",
      "Loss:nan\n"
     ]
    },
    {
     "name": "stderr",
     "output_type": "stream",
     "text": [
      " 37%|███▋      | 184/500 [00:26<00:36,  8.55it/s]"
     ]
    },
    {
     "name": "stdout",
     "output_type": "stream",
     "text": [
      "Loss:nan\n",
      "Loss:nan\n"
     ]
    },
    {
     "name": "stderr",
     "output_type": "stream",
     "text": [
      " 37%|███▋      | 186/500 [00:26<00:37,  8.34it/s]"
     ]
    },
    {
     "name": "stdout",
     "output_type": "stream",
     "text": [
      "Loss:1.1280000000000003\n",
      "Loss:1.1720000000000002\n"
     ]
    },
    {
     "name": "stderr",
     "output_type": "stream",
     "text": [
      " 38%|███▊      | 188/500 [00:26<00:38,  8.06it/s]"
     ]
    },
    {
     "name": "stdout",
     "output_type": "stream",
     "text": [
      "Loss:1.1480000000000004\n",
      "Loss:nan\n"
     ]
    },
    {
     "name": "stderr",
     "output_type": "stream",
     "text": [
      " 38%|███▊      | 190/500 [00:26<00:37,  8.35it/s]"
     ]
    },
    {
     "name": "stdout",
     "output_type": "stream",
     "text": [
      "Loss:nan\n",
      "Loss:1.12\n"
     ]
    },
    {
     "name": "stderr",
     "output_type": "stream",
     "text": [
      " 38%|███▊      | 192/500 [00:27<00:36,  8.37it/s]"
     ]
    },
    {
     "name": "stdout",
     "output_type": "stream",
     "text": [
      "Loss:nan\n",
      "Loss:nan\n"
     ]
    },
    {
     "name": "stderr",
     "output_type": "stream",
     "text": [
      " 39%|███▉      | 194/500 [00:27<00:36,  8.35it/s]"
     ]
    },
    {
     "name": "stdout",
     "output_type": "stream",
     "text": [
      "Loss:nan\n",
      "Loss:nan\n"
     ]
    },
    {
     "name": "stderr",
     "output_type": "stream",
     "text": [
      " 39%|███▉      | 196/500 [00:27<00:37,  8.05it/s]"
     ]
    },
    {
     "name": "stdout",
     "output_type": "stream",
     "text": [
      "Loss:1.1879999999999997\n",
      "Loss:1.1520000000000001\n"
     ]
    },
    {
     "name": "stderr",
     "output_type": "stream",
     "text": [
      " 40%|███▉      | 198/500 [00:27<00:37,  7.95it/s]"
     ]
    },
    {
     "name": "stdout",
     "output_type": "stream",
     "text": [
      "Loss:1.1760000000000002\n",
      "Loss:nan\n"
     ]
    },
    {
     "name": "stderr",
     "output_type": "stream",
     "text": [
      " 40%|████      | 200/500 [00:28<00:37,  8.07it/s]"
     ]
    },
    {
     "name": "stdout",
     "output_type": "stream",
     "text": [
      "Loss:nan\n",
      "Loss:1.1160000000000003\n"
     ]
    },
    {
     "name": "stderr",
     "output_type": "stream",
     "text": [
      " 40%|████      | 202/500 [00:28<00:39,  7.62it/s]"
     ]
    },
    {
     "name": "stdout",
     "output_type": "stream",
     "text": [
      "Loss:nan\n",
      "Loss:nan\n"
     ]
    },
    {
     "name": "stderr",
     "output_type": "stream",
     "text": [
      " 41%|████      | 204/500 [00:28<00:40,  7.23it/s]"
     ]
    },
    {
     "name": "stdout",
     "output_type": "stream",
     "text": [
      "Loss:nan\n",
      "Loss:nan\n"
     ]
    },
    {
     "name": "stderr",
     "output_type": "stream",
     "text": [
      " 41%|████      | 206/500 [00:28<00:40,  7.33it/s]"
     ]
    },
    {
     "name": "stdout",
     "output_type": "stream",
     "text": [
      "Loss:1.1080000000000003\n",
      "Loss:1.172\n"
     ]
    },
    {
     "name": "stderr",
     "output_type": "stream",
     "text": [
      " 42%|████▏     | 208/500 [00:29<00:40,  7.27it/s]"
     ]
    },
    {
     "name": "stdout",
     "output_type": "stream",
     "text": [
      "Loss:1.1320000000000001\n",
      "Loss:nan\n"
     ]
    },
    {
     "name": "stderr",
     "output_type": "stream",
     "text": [
      " 42%|████▏     | 210/500 [00:29<00:38,  7.56it/s]"
     ]
    },
    {
     "name": "stdout",
     "output_type": "stream",
     "text": [
      "Loss:nan\n",
      "Loss:1.096\n"
     ]
    },
    {
     "name": "stderr",
     "output_type": "stream",
     "text": [
      " 42%|████▏     | 212/500 [00:29<00:39,  7.21it/s]"
     ]
    },
    {
     "name": "stdout",
     "output_type": "stream",
     "text": [
      "Loss:nan\n",
      "Loss:nan\n"
     ]
    },
    {
     "name": "stderr",
     "output_type": "stream",
     "text": [
      " 43%|████▎     | 214/500 [00:29<00:40,  7.08it/s]"
     ]
    },
    {
     "name": "stdout",
     "output_type": "stream",
     "text": [
      "Loss:nan\n",
      "Loss:nan\n"
     ]
    },
    {
     "name": "stderr",
     "output_type": "stream",
     "text": [
      " 43%|████▎     | 216/500 [00:30<00:41,  6.79it/s]"
     ]
    },
    {
     "name": "stdout",
     "output_type": "stream",
     "text": [
      "Loss:1.1360000000000001\n",
      "Loss:1.2\n"
     ]
    },
    {
     "name": "stderr",
     "output_type": "stream",
     "text": [
      " 44%|████▎     | 218/500 [00:30<00:43,  6.42it/s]"
     ]
    },
    {
     "name": "stdout",
     "output_type": "stream",
     "text": [
      "Loss:1.1480000000000001\n",
      "Loss:nan\n"
     ]
    },
    {
     "name": "stderr",
     "output_type": "stream",
     "text": [
      " 44%|████▍     | 220/500 [00:30<00:42,  6.60it/s]"
     ]
    },
    {
     "name": "stdout",
     "output_type": "stream",
     "text": [
      "Loss:nan\n",
      "Loss:1.168\n"
     ]
    },
    {
     "name": "stderr",
     "output_type": "stream",
     "text": [
      " 44%|████▍     | 222/500 [00:31<00:41,  6.62it/s]"
     ]
    },
    {
     "name": "stdout",
     "output_type": "stream",
     "text": [
      "Loss:nan\n",
      "Loss:nan\n"
     ]
    },
    {
     "name": "stderr",
     "output_type": "stream",
     "text": [
      " 45%|████▍     | 224/500 [00:31<00:42,  6.43it/s]"
     ]
    },
    {
     "name": "stdout",
     "output_type": "stream",
     "text": [
      "Loss:nan\n",
      "Loss:nan\n"
     ]
    },
    {
     "name": "stderr",
     "output_type": "stream",
     "text": [
      " 45%|████▌     | 226/500 [00:31<00:44,  6.20it/s]"
     ]
    },
    {
     "name": "stdout",
     "output_type": "stream",
     "text": [
      "Loss:1.12\n",
      "Loss:1.1440000000000001\n"
     ]
    },
    {
     "name": "stderr",
     "output_type": "stream",
     "text": [
      " 46%|████▌     | 228/500 [00:32<00:46,  5.85it/s]"
     ]
    },
    {
     "name": "stdout",
     "output_type": "stream",
     "text": [
      "Loss:1.072\n",
      "Loss:nan\n"
     ]
    },
    {
     "name": "stderr",
     "output_type": "stream",
     "text": [
      " 46%|████▌     | 230/500 [00:32<00:46,  5.85it/s]"
     ]
    },
    {
     "name": "stdout",
     "output_type": "stream",
     "text": [
      "Loss:nan\n",
      "Loss:1.056\n"
     ]
    },
    {
     "name": "stderr",
     "output_type": "stream",
     "text": [
      " 46%|████▋     | 232/500 [00:32<00:40,  6.66it/s]"
     ]
    },
    {
     "name": "stdout",
     "output_type": "stream",
     "text": [
      "Loss:nan\n",
      "Loss:nan\n"
     ]
    },
    {
     "name": "stderr",
     "output_type": "stream",
     "text": [
      " 47%|████▋     | 234/500 [00:33<00:38,  6.99it/s]"
     ]
    },
    {
     "name": "stdout",
     "output_type": "stream",
     "text": [
      "Loss:nan\n",
      "Loss:nan\n"
     ]
    },
    {
     "name": "stderr",
     "output_type": "stream",
     "text": [
      " 47%|████▋     | 236/500 [00:33<00:38,  6.89it/s]"
     ]
    },
    {
     "name": "stdout",
     "output_type": "stream",
     "text": [
      "Loss:1.1360000000000001\n",
      "Loss:1.08\n"
     ]
    },
    {
     "name": "stderr",
     "output_type": "stream",
     "text": [
      " 48%|████▊     | 238/500 [00:33<00:40,  6.43it/s]"
     ]
    },
    {
     "name": "stdout",
     "output_type": "stream",
     "text": [
      "Loss:1.0959999999999999\n",
      "Loss:nan\n"
     ]
    },
    {
     "name": "stderr",
     "output_type": "stream",
     "text": [
      " 48%|████▊     | 240/500 [00:34<00:40,  6.47it/s]"
     ]
    },
    {
     "name": "stdout",
     "output_type": "stream",
     "text": [
      "Loss:nan\n",
      "Loss:0.9079999999999999\n"
     ]
    },
    {
     "name": "stderr",
     "output_type": "stream",
     "text": [
      " 48%|████▊     | 242/500 [00:34<00:35,  7.26it/s]"
     ]
    },
    {
     "name": "stdout",
     "output_type": "stream",
     "text": [
      "Loss:nan\n",
      "Loss:nan\n"
     ]
    },
    {
     "name": "stderr",
     "output_type": "stream",
     "text": [
      " 49%|████▉     | 244/500 [00:34<00:33,  7.57it/s]"
     ]
    },
    {
     "name": "stdout",
     "output_type": "stream",
     "text": [
      "Loss:nan\n",
      "Loss:nan\n"
     ]
    },
    {
     "name": "stderr",
     "output_type": "stream",
     "text": [
      " 49%|████▉     | 246/500 [00:34<00:34,  7.37it/s]"
     ]
    },
    {
     "name": "stdout",
     "output_type": "stream",
     "text": [
      "Loss:1.08\n",
      "Loss:1.084\n"
     ]
    },
    {
     "name": "stderr",
     "output_type": "stream",
     "text": [
      " 50%|████▉     | 248/500 [00:35<00:35,  7.02it/s]"
     ]
    },
    {
     "name": "stdout",
     "output_type": "stream",
     "text": [
      "Loss:1.1440000000000001\n",
      "Loss:nan\n"
     ]
    },
    {
     "name": "stderr",
     "output_type": "stream",
     "text": [
      " 50%|█████     | 250/500 [00:35<00:35,  7.06it/s]"
     ]
    },
    {
     "name": "stdout",
     "output_type": "stream",
     "text": [
      "Loss:nan\n",
      "Loss:0.7440000000000001\n"
     ]
    },
    {
     "name": "stderr",
     "output_type": "stream",
     "text": [
      " 50%|█████     | 252/500 [00:35<00:32,  7.58it/s]"
     ]
    },
    {
     "name": "stdout",
     "output_type": "stream",
     "text": [
      "Loss:nan\n",
      "Loss:nan\n"
     ]
    },
    {
     "name": "stderr",
     "output_type": "stream",
     "text": [
      " 51%|█████     | 254/500 [00:35<00:31,  7.79it/s]"
     ]
    },
    {
     "name": "stdout",
     "output_type": "stream",
     "text": [
      "Loss:nan\n",
      "Loss:nan\n"
     ]
    },
    {
     "name": "stderr",
     "output_type": "stream",
     "text": [
      " 51%|█████     | 256/500 [00:36<00:32,  7.47it/s]"
     ]
    },
    {
     "name": "stdout",
     "output_type": "stream",
     "text": [
      "Loss:1.116\n",
      "Loss:1.1199999999999999\n"
     ]
    },
    {
     "name": "stderr",
     "output_type": "stream",
     "text": [
      " 52%|█████▏    | 258/500 [00:36<00:33,  7.16it/s]"
     ]
    },
    {
     "name": "stdout",
     "output_type": "stream",
     "text": [
      "Loss:0.9840000000000002\n",
      "Loss:nan\n"
     ]
    },
    {
     "name": "stderr",
     "output_type": "stream",
     "text": [
      " 52%|█████▏    | 260/500 [00:36<00:32,  7.33it/s]"
     ]
    },
    {
     "name": "stdout",
     "output_type": "stream",
     "text": [
      "Loss:nan\n",
      "Loss:0.5640000000000001\n"
     ]
    },
    {
     "name": "stderr",
     "output_type": "stream",
     "text": [
      " 52%|█████▏    | 262/500 [00:37<00:31,  7.66it/s]"
     ]
    },
    {
     "name": "stdout",
     "output_type": "stream",
     "text": [
      "Loss:nan\n",
      "Loss:nan\n"
     ]
    },
    {
     "name": "stderr",
     "output_type": "stream",
     "text": [
      " 53%|█████▎    | 264/500 [00:37<00:29,  7.87it/s]"
     ]
    },
    {
     "name": "stdout",
     "output_type": "stream",
     "text": [
      "Loss:nan\n",
      "Loss:nan\n"
     ]
    },
    {
     "name": "stderr",
     "output_type": "stream",
     "text": [
      " 53%|█████▎    | 266/500 [00:37<00:32,  7.28it/s]"
     ]
    },
    {
     "name": "stdout",
     "output_type": "stream",
     "text": [
      "Loss:1.0320000000000003\n",
      "Loss:0.9600000000000004\n"
     ]
    },
    {
     "name": "stderr",
     "output_type": "stream",
     "text": [
      " 54%|█████▎    | 268/500 [00:37<00:33,  6.99it/s]"
     ]
    },
    {
     "name": "stdout",
     "output_type": "stream",
     "text": [
      "Loss:0.9960000000000002\n",
      "Loss:nan\n"
     ]
    },
    {
     "name": "stderr",
     "output_type": "stream",
     "text": [
      " 54%|█████▍    | 270/500 [00:38<00:31,  7.32it/s]"
     ]
    },
    {
     "name": "stdout",
     "output_type": "stream",
     "text": [
      "Loss:nan\n",
      "Loss:0.4040000000000001\n"
     ]
    },
    {
     "name": "stderr",
     "output_type": "stream",
     "text": [
      " 54%|█████▍    | 272/500 [00:38<00:28,  7.98it/s]"
     ]
    },
    {
     "name": "stdout",
     "output_type": "stream",
     "text": [
      "Loss:nan\n",
      "Loss:nan\n"
     ]
    },
    {
     "name": "stderr",
     "output_type": "stream",
     "text": [
      " 55%|█████▍    | 274/500 [00:38<00:28,  7.99it/s]"
     ]
    },
    {
     "name": "stdout",
     "output_type": "stream",
     "text": [
      "Loss:nan\n",
      "Loss:nan\n"
     ]
    },
    {
     "name": "stderr",
     "output_type": "stream",
     "text": [
      " 55%|█████▌    | 276/500 [00:38<00:29,  7.61it/s]"
     ]
    },
    {
     "name": "stdout",
     "output_type": "stream",
     "text": [
      "Loss:1.008\n",
      "Loss:0.956\n"
     ]
    },
    {
     "name": "stderr",
     "output_type": "stream",
     "text": [
      " 56%|█████▌    | 278/500 [00:39<00:30,  7.39it/s]"
     ]
    },
    {
     "name": "stdout",
     "output_type": "stream",
     "text": [
      "Loss:1.028\n",
      "Loss:nan\n"
     ]
    },
    {
     "name": "stderr",
     "output_type": "stream",
     "text": [
      " 56%|█████▌    | 280/500 [00:39<00:28,  7.61it/s]"
     ]
    },
    {
     "name": "stdout",
     "output_type": "stream",
     "text": [
      "Loss:nan\n",
      "Loss:0.2839999999999999\n"
     ]
    },
    {
     "name": "stderr",
     "output_type": "stream",
     "text": [
      " 56%|█████▋    | 282/500 [00:39<00:27,  7.89it/s]"
     ]
    },
    {
     "name": "stdout",
     "output_type": "stream",
     "text": [
      "Loss:nan\n",
      "Loss:nan\n"
     ]
    },
    {
     "name": "stderr",
     "output_type": "stream",
     "text": [
      " 57%|█████▋    | 284/500 [00:39<00:26,  8.06it/s]"
     ]
    },
    {
     "name": "stdout",
     "output_type": "stream",
     "text": [
      "Loss:nan\n",
      "Loss:nan\n"
     ]
    },
    {
     "name": "stderr",
     "output_type": "stream",
     "text": [
      " 57%|█████▋    | 286/500 [00:40<00:28,  7.39it/s]"
     ]
    },
    {
     "name": "stdout",
     "output_type": "stream",
     "text": [
      "Loss:1.204\n",
      "Loss:1.084\n"
     ]
    },
    {
     "name": "stderr",
     "output_type": "stream",
     "text": [
      " 58%|█████▊    | 288/500 [00:40<00:29,  7.24it/s]"
     ]
    },
    {
     "name": "stdout",
     "output_type": "stream",
     "text": [
      "Loss:0.9\n",
      "Loss:nan\n"
     ]
    },
    {
     "name": "stderr",
     "output_type": "stream",
     "text": [
      " 58%|█████▊    | 290/500 [00:40<00:28,  7.49it/s]"
     ]
    },
    {
     "name": "stdout",
     "output_type": "stream",
     "text": [
      "Loss:nan\n",
      "Loss:0.25999999999999995\n"
     ]
    },
    {
     "name": "stderr",
     "output_type": "stream",
     "text": [
      " 58%|█████▊    | 292/500 [00:40<00:26,  7.91it/s]"
     ]
    },
    {
     "name": "stdout",
     "output_type": "stream",
     "text": [
      "Loss:nan\n",
      "Loss:nan\n"
     ]
    },
    {
     "name": "stderr",
     "output_type": "stream",
     "text": [
      " 59%|█████▉    | 294/500 [00:41<00:25,  8.13it/s]"
     ]
    },
    {
     "name": "stdout",
     "output_type": "stream",
     "text": [
      "Loss:nan\n",
      "Loss:nan\n"
     ]
    },
    {
     "name": "stderr",
     "output_type": "stream",
     "text": [
      " 59%|█████▉    | 296/500 [00:41<00:26,  7.57it/s]"
     ]
    },
    {
     "name": "stdout",
     "output_type": "stream",
     "text": [
      "Loss:1.076\n",
      "Loss:1.004\n"
     ]
    },
    {
     "name": "stderr",
     "output_type": "stream",
     "text": [
      " 60%|█████▉    | 298/500 [00:41<00:27,  7.31it/s]"
     ]
    },
    {
     "name": "stdout",
     "output_type": "stream",
     "text": [
      "Loss:1.0519999999999998\n",
      "Loss:nan\n"
     ]
    },
    {
     "name": "stderr",
     "output_type": "stream",
     "text": [
      " 60%|██████    | 300/500 [00:42<00:26,  7.46it/s]"
     ]
    },
    {
     "name": "stdout",
     "output_type": "stream",
     "text": [
      "Loss:nan\n",
      "Loss:0.27999999999999997\n"
     ]
    },
    {
     "name": "stderr",
     "output_type": "stream",
     "text": [
      " 60%|██████    | 302/500 [00:42<00:25,  7.91it/s]"
     ]
    },
    {
     "name": "stdout",
     "output_type": "stream",
     "text": [
      "Loss:nan\n",
      "Loss:nan\n"
     ]
    },
    {
     "name": "stderr",
     "output_type": "stream",
     "text": [
      " 61%|██████    | 304/500 [00:42<00:24,  8.08it/s]"
     ]
    },
    {
     "name": "stdout",
     "output_type": "stream",
     "text": [
      "Loss:nan\n",
      "Loss:nan\n"
     ]
    },
    {
     "name": "stderr",
     "output_type": "stream",
     "text": [
      " 61%|██████    | 306/500 [00:42<00:25,  7.54it/s]"
     ]
    },
    {
     "name": "stdout",
     "output_type": "stream",
     "text": [
      "Loss:1.124\n",
      "Loss:1.0240000000000002\n"
     ]
    },
    {
     "name": "stderr",
     "output_type": "stream",
     "text": [
      " 62%|██████▏   | 308/500 [00:43<00:26,  7.25it/s]"
     ]
    },
    {
     "name": "stdout",
     "output_type": "stream",
     "text": [
      "Loss:1.044\n",
      "Loss:nan\n"
     ]
    },
    {
     "name": "stderr",
     "output_type": "stream",
     "text": [
      " 62%|██████▏   | 310/500 [00:43<00:25,  7.40it/s]"
     ]
    },
    {
     "name": "stdout",
     "output_type": "stream",
     "text": [
      "Loss:nan\n",
      "Loss:0.3560000000000001\n"
     ]
    },
    {
     "name": "stderr",
     "output_type": "stream",
     "text": [
      " 62%|██████▏   | 312/500 [00:43<00:23,  7.85it/s]"
     ]
    },
    {
     "name": "stdout",
     "output_type": "stream",
     "text": [
      "Loss:nan\n",
      "Loss:nan\n"
     ]
    },
    {
     "name": "stderr",
     "output_type": "stream",
     "text": [
      " 63%|██████▎   | 314/500 [00:43<00:22,  8.11it/s]"
     ]
    },
    {
     "name": "stdout",
     "output_type": "stream",
     "text": [
      "Loss:nan\n",
      "Loss:nan\n"
     ]
    },
    {
     "name": "stderr",
     "output_type": "stream",
     "text": [
      " 63%|██████▎   | 316/500 [00:44<00:24,  7.58it/s]"
     ]
    },
    {
     "name": "stdout",
     "output_type": "stream",
     "text": [
      "Loss:1.0079999999999998\n",
      "Loss:0.9320000000000002\n"
     ]
    },
    {
     "name": "stderr",
     "output_type": "stream",
     "text": [
      " 64%|██████▎   | 318/500 [00:44<00:25,  7.02it/s]"
     ]
    },
    {
     "name": "stdout",
     "output_type": "stream",
     "text": [
      "Loss:1.0440000000000003\n",
      "Loss:nan\n"
     ]
    },
    {
     "name": "stderr",
     "output_type": "stream",
     "text": [
      " 64%|██████▍   | 320/500 [00:44<00:24,  7.21it/s]"
     ]
    },
    {
     "name": "stdout",
     "output_type": "stream",
     "text": [
      "Loss:nan\n",
      "Loss:0.45199999999999996\n"
     ]
    },
    {
     "name": "stderr",
     "output_type": "stream",
     "text": [
      " 64%|██████▍   | 322/500 [00:44<00:23,  7.67it/s]"
     ]
    },
    {
     "name": "stdout",
     "output_type": "stream",
     "text": [
      "Loss:nan\n",
      "Loss:nan\n"
     ]
    },
    {
     "name": "stderr",
     "output_type": "stream",
     "text": [
      " 65%|██████▍   | 324/500 [00:45<00:22,  7.92it/s]"
     ]
    },
    {
     "name": "stdout",
     "output_type": "stream",
     "text": [
      "Loss:nan\n",
      "Loss:nan\n"
     ]
    },
    {
     "name": "stderr",
     "output_type": "stream",
     "text": [
      " 65%|██████▌   | 326/500 [00:45<00:23,  7.30it/s]"
     ]
    },
    {
     "name": "stdout",
     "output_type": "stream",
     "text": [
      "Loss:1.084\n",
      "Loss:1.14\n"
     ]
    },
    {
     "name": "stderr",
     "output_type": "stream",
     "text": [
      " 66%|██████▌   | 328/500 [00:45<00:24,  7.07it/s]"
     ]
    },
    {
     "name": "stdout",
     "output_type": "stream",
     "text": [
      "Loss:1.1159999999999999\n",
      "Loss:nan\n"
     ]
    },
    {
     "name": "stderr",
     "output_type": "stream",
     "text": [
      " 66%|██████▌   | 330/500 [00:46<00:23,  7.24it/s]"
     ]
    },
    {
     "name": "stdout",
     "output_type": "stream",
     "text": [
      "Loss:nan\n",
      "Loss:0.49199999999999994\n"
     ]
    },
    {
     "name": "stderr",
     "output_type": "stream",
     "text": [
      " 66%|██████▋   | 332/500 [00:46<00:21,  7.77it/s]"
     ]
    },
    {
     "name": "stdout",
     "output_type": "stream",
     "text": [
      "Loss:nan\n",
      "Loss:nan\n"
     ]
    },
    {
     "name": "stderr",
     "output_type": "stream",
     "text": [
      " 67%|██████▋   | 334/500 [00:46<00:20,  7.93it/s]"
     ]
    },
    {
     "name": "stdout",
     "output_type": "stream",
     "text": [
      "Loss:nan\n",
      "Loss:nan\n"
     ]
    },
    {
     "name": "stderr",
     "output_type": "stream",
     "text": [
      " 67%|██████▋   | 336/500 [00:46<00:21,  7.52it/s]"
     ]
    },
    {
     "name": "stdout",
     "output_type": "stream",
     "text": [
      "Loss:1.036\n",
      "Loss:0.9760000000000001\n"
     ]
    },
    {
     "name": "stderr",
     "output_type": "stream",
     "text": [
      " 68%|██████▊   | 338/500 [00:47<00:22,  7.19it/s]"
     ]
    },
    {
     "name": "stdout",
     "output_type": "stream",
     "text": [
      "Loss:1.2320000000000002\n",
      "Loss:nan\n"
     ]
    },
    {
     "name": "stderr",
     "output_type": "stream",
     "text": [
      " 68%|██████▊   | 340/500 [00:47<00:22,  7.24it/s]"
     ]
    },
    {
     "name": "stdout",
     "output_type": "stream",
     "text": [
      "Loss:1.2160000000000002\n",
      "Loss:0.512\n"
     ]
    },
    {
     "name": "stderr",
     "output_type": "stream",
     "text": [
      " 68%|██████▊   | 342/500 [00:47<00:20,  7.81it/s]"
     ]
    },
    {
     "name": "stdout",
     "output_type": "stream",
     "text": [
      "Loss:nan\n",
      "Loss:nan\n"
     ]
    },
    {
     "name": "stderr",
     "output_type": "stream",
     "text": [
      " 69%|██████▉   | 344/500 [00:47<00:19,  7.92it/s]"
     ]
    },
    {
     "name": "stdout",
     "output_type": "stream",
     "text": [
      "Loss:nan\n",
      "Loss:nan\n"
     ]
    },
    {
     "name": "stderr",
     "output_type": "stream",
     "text": [
      " 69%|██████▉   | 346/500 [00:48<00:20,  7.37it/s]"
     ]
    },
    {
     "name": "stdout",
     "output_type": "stream",
     "text": [
      "Loss:0.9680000000000001\n",
      "Loss:1.056\n"
     ]
    },
    {
     "name": "stderr",
     "output_type": "stream",
     "text": [
      " 70%|██████▉   | 348/500 [00:48<00:21,  7.18it/s]"
     ]
    },
    {
     "name": "stdout",
     "output_type": "stream",
     "text": [
      "Loss:1.096\n",
      "Loss:nan\n"
     ]
    },
    {
     "name": "stderr",
     "output_type": "stream",
     "text": [
      " 70%|███████   | 350/500 [00:48<00:20,  7.30it/s]"
     ]
    },
    {
     "name": "stdout",
     "output_type": "stream",
     "text": [
      "Loss:nan\n",
      "Loss:0.5399999999999999\n"
     ]
    },
    {
     "name": "stderr",
     "output_type": "stream",
     "text": [
      " 70%|███████   | 352/500 [00:48<00:18,  7.89it/s]"
     ]
    },
    {
     "name": "stdout",
     "output_type": "stream",
     "text": [
      "Loss:nan\n",
      "Loss:nan\n"
     ]
    },
    {
     "name": "stderr",
     "output_type": "stream",
     "text": [
      " 71%|███████   | 354/500 [00:49<00:17,  8.22it/s]"
     ]
    },
    {
     "name": "stdout",
     "output_type": "stream",
     "text": [
      "Loss:nan\n",
      "Loss:nan\n"
     ]
    },
    {
     "name": "stderr",
     "output_type": "stream",
     "text": [
      " 71%|███████   | 356/500 [00:49<00:18,  7.58it/s]"
     ]
    },
    {
     "name": "stdout",
     "output_type": "stream",
     "text": [
      "Loss:1.04\n",
      "Loss:1.0440000000000003\n"
     ]
    },
    {
     "name": "stderr",
     "output_type": "stream",
     "text": [
      " 72%|███████▏  | 358/500 [00:49<00:19,  7.19it/s]"
     ]
    },
    {
     "name": "stdout",
     "output_type": "stream",
     "text": [
      "Loss:1.0199999999999998\n",
      "Loss:nan\n"
     ]
    },
    {
     "name": "stderr",
     "output_type": "stream",
     "text": [
      " 72%|███████▏  | 360/500 [00:50<00:19,  7.35it/s]"
     ]
    },
    {
     "name": "stdout",
     "output_type": "stream",
     "text": [
      "Loss:nan\n",
      "Loss:0.564\n"
     ]
    },
    {
     "name": "stderr",
     "output_type": "stream",
     "text": [
      " 72%|███████▏  | 362/500 [00:50<00:17,  7.98it/s]"
     ]
    },
    {
     "name": "stdout",
     "output_type": "stream",
     "text": [
      "Loss:nan\n",
      "Loss:nan\n"
     ]
    },
    {
     "name": "stderr",
     "output_type": "stream",
     "text": [
      " 73%|███████▎  | 364/500 [00:50<00:16,  8.28it/s]"
     ]
    },
    {
     "name": "stdout",
     "output_type": "stream",
     "text": [
      "Loss:nan\n",
      "Loss:nan\n"
     ]
    },
    {
     "name": "stderr",
     "output_type": "stream",
     "text": [
      " 73%|███████▎  | 366/500 [00:50<00:17,  7.75it/s]"
     ]
    },
    {
     "name": "stdout",
     "output_type": "stream",
     "text": [
      "Loss:1.0839999999999999\n",
      "Loss:1.192\n"
     ]
    },
    {
     "name": "stderr",
     "output_type": "stream",
     "text": [
      " 74%|███████▎  | 368/500 [00:51<00:18,  7.15it/s]"
     ]
    },
    {
     "name": "stdout",
     "output_type": "stream",
     "text": [
      "Loss:1.0680000000000003\n",
      "Loss:nan\n"
     ]
    },
    {
     "name": "stderr",
     "output_type": "stream",
     "text": [
      " 74%|███████▍  | 370/500 [00:51<00:17,  7.28it/s]"
     ]
    },
    {
     "name": "stdout",
     "output_type": "stream",
     "text": [
      "Loss:nan\n",
      "Loss:0.5760000000000001\n"
     ]
    },
    {
     "name": "stderr",
     "output_type": "stream",
     "text": [
      " 74%|███████▍  | 372/500 [00:51<00:16,  7.99it/s]"
     ]
    },
    {
     "name": "stdout",
     "output_type": "stream",
     "text": [
      "Loss:nan\n",
      "Loss:nan\n"
     ]
    },
    {
     "name": "stderr",
     "output_type": "stream",
     "text": [
      " 75%|███████▍  | 374/500 [00:51<00:15,  8.33it/s]"
     ]
    },
    {
     "name": "stdout",
     "output_type": "stream",
     "text": [
      "Loss:nan\n",
      "Loss:nan\n"
     ]
    },
    {
     "name": "stderr",
     "output_type": "stream",
     "text": [
      " 75%|███████▌  | 376/500 [00:52<00:15,  7.96it/s]"
     ]
    },
    {
     "name": "stdout",
     "output_type": "stream",
     "text": [
      "Loss:1.0240000000000002\n",
      "Loss:1.124\n"
     ]
    },
    {
     "name": "stderr",
     "output_type": "stream",
     "text": [
      " 76%|███████▌  | 378/500 [00:52<00:16,  7.33it/s]"
     ]
    },
    {
     "name": "stdout",
     "output_type": "stream",
     "text": [
      "Loss:1.012\n",
      "Loss:nan\n"
     ]
    },
    {
     "name": "stderr",
     "output_type": "stream",
     "text": [
      " 76%|███████▌  | 380/500 [00:52<00:16,  7.42it/s]"
     ]
    },
    {
     "name": "stdout",
     "output_type": "stream",
     "text": [
      "Loss:nan\n",
      "Loss:0.6599999999999998\n"
     ]
    },
    {
     "name": "stderr",
     "output_type": "stream",
     "text": [
      " 76%|███████▋  | 382/500 [00:52<00:14,  8.16it/s]"
     ]
    },
    {
     "name": "stdout",
     "output_type": "stream",
     "text": [
      "Loss:nan\n",
      "Loss:nan\n"
     ]
    },
    {
     "name": "stderr",
     "output_type": "stream",
     "text": [
      " 77%|███████▋  | 384/500 [00:53<00:13,  8.39it/s]"
     ]
    },
    {
     "name": "stdout",
     "output_type": "stream",
     "text": [
      "Loss:nan\n",
      "Loss:nan\n"
     ]
    },
    {
     "name": "stderr",
     "output_type": "stream",
     "text": [
      " 77%|███████▋  | 386/500 [00:53<00:13,  8.22it/s]"
     ]
    },
    {
     "name": "stdout",
     "output_type": "stream",
     "text": [
      "Loss:1.08\n",
      "Loss:0.996\n"
     ]
    },
    {
     "name": "stderr",
     "output_type": "stream",
     "text": [
      " 78%|███████▊  | 388/500 [00:53<00:15,  7.40it/s]"
     ]
    },
    {
     "name": "stdout",
     "output_type": "stream",
     "text": [
      "Loss:1.1640000000000001\n",
      "Loss:nan\n"
     ]
    },
    {
     "name": "stderr",
     "output_type": "stream",
     "text": [
      " 78%|███████▊  | 390/500 [00:53<00:15,  7.24it/s]"
     ]
    },
    {
     "name": "stdout",
     "output_type": "stream",
     "text": [
      "Loss:nan\n",
      "Loss:0.852\n"
     ]
    },
    {
     "name": "stderr",
     "output_type": "stream",
     "text": [
      " 78%|███████▊  | 392/500 [00:54<00:13,  8.06it/s]"
     ]
    },
    {
     "name": "stdout",
     "output_type": "stream",
     "text": [
      "Loss:nan\n",
      "Loss:nan\n"
     ]
    },
    {
     "name": "stderr",
     "output_type": "stream",
     "text": [
      " 79%|███████▉  | 394/500 [00:54<00:12,  8.57it/s]"
     ]
    },
    {
     "name": "stdout",
     "output_type": "stream",
     "text": [
      "Loss:nan\n",
      "Loss:nan\n"
     ]
    },
    {
     "name": "stderr",
     "output_type": "stream",
     "text": [
      " 79%|███████▉  | 396/500 [00:54<00:12,  8.29it/s]"
     ]
    },
    {
     "name": "stdout",
     "output_type": "stream",
     "text": [
      "Loss:1.024\n",
      "Loss:1.172\n"
     ]
    },
    {
     "name": "stderr",
     "output_type": "stream",
     "text": [
      " 80%|███████▉  | 398/500 [00:54<00:13,  7.52it/s]"
     ]
    },
    {
     "name": "stdout",
     "output_type": "stream",
     "text": [
      "Loss:1.072\n",
      "Loss:nan\n"
     ]
    },
    {
     "name": "stderr",
     "output_type": "stream",
     "text": [
      " 80%|████████  | 400/500 [00:55<00:13,  7.30it/s]"
     ]
    },
    {
     "name": "stdout",
     "output_type": "stream",
     "text": [
      "Loss:nan\n",
      "Loss:1.0599999999999998\n"
     ]
    },
    {
     "name": "stderr",
     "output_type": "stream",
     "text": [
      " 80%|████████  | 402/500 [00:55<00:11,  8.25it/s]"
     ]
    },
    {
     "name": "stdout",
     "output_type": "stream",
     "text": [
      "Loss:nan\n",
      "Loss:nan\n"
     ]
    },
    {
     "name": "stderr",
     "output_type": "stream",
     "text": [
      " 81%|████████  | 404/500 [00:55<00:11,  8.57it/s]"
     ]
    },
    {
     "name": "stdout",
     "output_type": "stream",
     "text": [
      "Loss:nan\n",
      "Loss:nan\n"
     ]
    },
    {
     "name": "stderr",
     "output_type": "stream",
     "text": [
      " 81%|████████  | 406/500 [00:55<00:10,  8.61it/s]"
     ]
    },
    {
     "name": "stdout",
     "output_type": "stream",
     "text": [
      "Loss:0.8880000000000001\n",
      "Loss:1.0759999999999998\n"
     ]
    },
    {
     "name": "stderr",
     "output_type": "stream",
     "text": [
      " 82%|████████▏ | 408/500 [00:56<00:12,  7.62it/s]"
     ]
    },
    {
     "name": "stdout",
     "output_type": "stream",
     "text": [
      "Loss:1.16\n",
      "Loss:nan\n"
     ]
    },
    {
     "name": "stderr",
     "output_type": "stream",
     "text": [
      " 82%|████████▏ | 410/500 [00:56<00:12,  7.49it/s]"
     ]
    },
    {
     "name": "stdout",
     "output_type": "stream",
     "text": [
      "Loss:nan\n",
      "Loss:1.0600000000000003\n"
     ]
    },
    {
     "name": "stderr",
     "output_type": "stream",
     "text": [
      " 82%|████████▏ | 412/500 [00:56<00:10,  8.35it/s]"
     ]
    },
    {
     "name": "stdout",
     "output_type": "stream",
     "text": [
      "Loss:nan\n",
      "Loss:nan\n"
     ]
    },
    {
     "name": "stderr",
     "output_type": "stream",
     "text": [
      " 83%|████████▎ | 414/500 [00:56<00:09,  8.94it/s]"
     ]
    },
    {
     "name": "stdout",
     "output_type": "stream",
     "text": [
      "Loss:nan\n",
      "Loss:nan\n"
     ]
    },
    {
     "name": "stderr",
     "output_type": "stream",
     "text": [
      " 83%|████████▎ | 416/500 [00:57<00:09,  8.76it/s]"
     ]
    },
    {
     "name": "stdout",
     "output_type": "stream",
     "text": [
      "Loss:1.004\n",
      "Loss:1.0639999999999998\n"
     ]
    },
    {
     "name": "stderr",
     "output_type": "stream",
     "text": [
      " 84%|████████▎ | 418/500 [00:57<00:10,  7.93it/s]"
     ]
    },
    {
     "name": "stdout",
     "output_type": "stream",
     "text": [
      "Loss:1.0960000000000003\n",
      "Loss:nan\n"
     ]
    },
    {
     "name": "stderr",
     "output_type": "stream",
     "text": [
      " 84%|████████▍ | 420/500 [00:57<00:10,  7.33it/s]"
     ]
    },
    {
     "name": "stdout",
     "output_type": "stream",
     "text": [
      "Loss:1.1840000000000004\n",
      "Loss:1.044\n"
     ]
    },
    {
     "name": "stderr",
     "output_type": "stream",
     "text": [
      " 84%|████████▍ | 422/500 [00:57<00:09,  8.29it/s]"
     ]
    },
    {
     "name": "stdout",
     "output_type": "stream",
     "text": [
      "Loss:nan\n",
      "Loss:nan\n"
     ]
    },
    {
     "name": "stderr",
     "output_type": "stream",
     "text": [
      " 85%|████████▍ | 424/500 [00:58<00:08,  8.79it/s]"
     ]
    },
    {
     "name": "stdout",
     "output_type": "stream",
     "text": [
      "Loss:nan\n",
      "Loss:nan\n"
     ]
    },
    {
     "name": "stderr",
     "output_type": "stream",
     "text": [
      " 85%|████████▌ | 426/500 [00:58<00:08,  8.81it/s]"
     ]
    },
    {
     "name": "stdout",
     "output_type": "stream",
     "text": [
      "Loss:0.9800000000000003\n",
      "Loss:1.06\n"
     ]
    },
    {
     "name": "stderr",
     "output_type": "stream",
     "text": [
      " 86%|████████▌ | 428/500 [00:58<00:09,  7.89it/s]"
     ]
    },
    {
     "name": "stdout",
     "output_type": "stream",
     "text": [
      "Loss:1.036\n",
      "Loss:nan\n"
     ]
    },
    {
     "name": "stderr",
     "output_type": "stream",
     "text": [
      " 86%|████████▌ | 430/500 [00:58<00:09,  7.72it/s]"
     ]
    },
    {
     "name": "stdout",
     "output_type": "stream",
     "text": [
      "Loss:nan\n",
      "Loss:0.9240000000000004\n"
     ]
    },
    {
     "name": "stderr",
     "output_type": "stream",
     "text": [
      " 86%|████████▋ | 432/500 [00:59<00:08,  8.34it/s]"
     ]
    },
    {
     "name": "stdout",
     "output_type": "stream",
     "text": [
      "Loss:nan\n",
      "Loss:nan\n"
     ]
    },
    {
     "name": "stderr",
     "output_type": "stream",
     "text": [
      " 87%|████████▋ | 434/500 [00:59<00:07,  8.89it/s]"
     ]
    },
    {
     "name": "stdout",
     "output_type": "stream",
     "text": [
      "Loss:nan\n",
      "Loss:nan\n"
     ]
    },
    {
     "name": "stderr",
     "output_type": "stream",
     "text": [
      " 87%|████████▋ | 436/500 [00:59<00:07,  8.84it/s]"
     ]
    },
    {
     "name": "stdout",
     "output_type": "stream",
     "text": [
      "Loss:1.1320000000000001\n",
      "Loss:1.1600000000000001\n"
     ]
    },
    {
     "name": "stderr",
     "output_type": "stream",
     "text": [
      " 88%|████████▊ | 438/500 [00:59<00:07,  8.06it/s]"
     ]
    },
    {
     "name": "stdout",
     "output_type": "stream",
     "text": [
      "Loss:1.108\n",
      "Loss:nan\n"
     ]
    },
    {
     "name": "stderr",
     "output_type": "stream",
     "text": [
      " 88%|████████▊ | 440/500 [01:00<00:07,  7.51it/s]"
     ]
    },
    {
     "name": "stdout",
     "output_type": "stream",
     "text": [
      "Loss:nan\n",
      "Loss:1.192\n"
     ]
    },
    {
     "name": "stderr",
     "output_type": "stream",
     "text": [
      " 88%|████████▊ | 442/500 [01:00<00:06,  8.34it/s]"
     ]
    },
    {
     "name": "stdout",
     "output_type": "stream",
     "text": [
      "Loss:nan\n",
      "Loss:nan\n"
     ]
    },
    {
     "name": "stderr",
     "output_type": "stream",
     "text": [
      " 89%|████████▉ | 444/500 [01:00<00:06,  8.69it/s]"
     ]
    },
    {
     "name": "stdout",
     "output_type": "stream",
     "text": [
      "Loss:nan\n",
      "Loss:nan\n"
     ]
    },
    {
     "name": "stderr",
     "output_type": "stream",
     "text": [
      " 89%|████████▉ | 446/500 [01:00<00:06,  8.80it/s]"
     ]
    },
    {
     "name": "stdout",
     "output_type": "stream",
     "text": [
      "Loss:1.0439999999999998\n",
      "Loss:1.024\n"
     ]
    },
    {
     "name": "stderr",
     "output_type": "stream",
     "text": [
      " 90%|████████▉ | 448/500 [01:00<00:06,  8.34it/s]"
     ]
    },
    {
     "name": "stdout",
     "output_type": "stream",
     "text": [
      "Loss:1.0879999999999999\n",
      "Loss:nan\n"
     ]
    },
    {
     "name": "stderr",
     "output_type": "stream",
     "text": [
      " 90%|█████████ | 450/500 [01:01<00:06,  7.78it/s]"
     ]
    },
    {
     "name": "stdout",
     "output_type": "stream",
     "text": [
      "Loss:nan\n",
      "Loss:1.096\n"
     ]
    },
    {
     "name": "stderr",
     "output_type": "stream",
     "text": [
      " 90%|█████████ | 452/500 [01:01<00:05,  8.45it/s]"
     ]
    },
    {
     "name": "stdout",
     "output_type": "stream",
     "text": [
      "Loss:nan\n",
      "Loss:nan\n"
     ]
    },
    {
     "name": "stderr",
     "output_type": "stream",
     "text": [
      " 91%|█████████ | 454/500 [01:01<00:05,  8.96it/s]"
     ]
    },
    {
     "name": "stdout",
     "output_type": "stream",
     "text": [
      "Loss:nan\n",
      "Loss:nan\n"
     ]
    },
    {
     "name": "stderr",
     "output_type": "stream",
     "text": [
      " 91%|█████████ | 456/500 [01:01<00:04,  8.92it/s]"
     ]
    },
    {
     "name": "stdout",
     "output_type": "stream",
     "text": [
      "Loss:0.9760000000000001\n",
      "Loss:1.188\n"
     ]
    },
    {
     "name": "stderr",
     "output_type": "stream",
     "text": [
      " 92%|█████████▏| 458/500 [01:02<00:05,  8.38it/s]"
     ]
    },
    {
     "name": "stdout",
     "output_type": "stream",
     "text": [
      "Loss:1.1640000000000001\n",
      "Loss:nan\n"
     ]
    },
    {
     "name": "stderr",
     "output_type": "stream",
     "text": [
      " 92%|█████████▏| 460/500 [01:02<00:04,  8.07it/s]"
     ]
    },
    {
     "name": "stdout",
     "output_type": "stream",
     "text": [
      "Loss:nan\n",
      "Loss:1.0959999999999999\n"
     ]
    },
    {
     "name": "stderr",
     "output_type": "stream",
     "text": [
      " 92%|█████████▏| 462/500 [01:02<00:04,  8.66it/s]"
     ]
    },
    {
     "name": "stdout",
     "output_type": "stream",
     "text": [
      "Loss:nan\n",
      "Loss:nan\n"
     ]
    },
    {
     "name": "stderr",
     "output_type": "stream",
     "text": [
      " 93%|█████████▎| 464/500 [01:02<00:03,  9.03it/s]"
     ]
    },
    {
     "name": "stdout",
     "output_type": "stream",
     "text": [
      "Loss:nan\n",
      "Loss:nan\n"
     ]
    },
    {
     "name": "stderr",
     "output_type": "stream",
     "text": [
      " 93%|█████████▎| 466/500 [01:03<00:03,  8.78it/s]"
     ]
    },
    {
     "name": "stdout",
     "output_type": "stream",
     "text": [
      "Loss:1.0439999999999998\n",
      "Loss:1.1160000000000003\n"
     ]
    },
    {
     "name": "stderr",
     "output_type": "stream",
     "text": [
      " 94%|█████████▎| 468/500 [01:03<00:03,  8.68it/s]"
     ]
    },
    {
     "name": "stdout",
     "output_type": "stream",
     "text": [
      "Loss:1.056\n",
      "Loss:nan\n"
     ]
    },
    {
     "name": "stderr",
     "output_type": "stream",
     "text": [
      " 94%|█████████▍| 470/500 [01:03<00:03,  8.15it/s]"
     ]
    },
    {
     "name": "stdout",
     "output_type": "stream",
     "text": [
      "Loss:nan\n",
      "Loss:0.9760000000000001\n"
     ]
    },
    {
     "name": "stderr",
     "output_type": "stream",
     "text": [
      " 94%|█████████▍| 472/500 [01:03<00:03,  8.60it/s]"
     ]
    },
    {
     "name": "stdout",
     "output_type": "stream",
     "text": [
      "Loss:nan\n",
      "Loss:nan\n"
     ]
    },
    {
     "name": "stderr",
     "output_type": "stream",
     "text": [
      " 95%|█████████▍| 474/500 [01:03<00:02,  8.74it/s]"
     ]
    },
    {
     "name": "stdout",
     "output_type": "stream",
     "text": [
      "Loss:nan\n",
      "Loss:nan\n"
     ]
    },
    {
     "name": "stderr",
     "output_type": "stream",
     "text": [
      " 95%|█████████▌| 476/500 [01:04<00:02,  8.68it/s]"
     ]
    },
    {
     "name": "stdout",
     "output_type": "stream",
     "text": [
      "Loss:1.1440000000000001\n",
      "Loss:1.0160000000000005\n"
     ]
    },
    {
     "name": "stderr",
     "output_type": "stream",
     "text": [
      " 96%|█████████▌| 478/500 [01:04<00:02,  8.80it/s]"
     ]
    },
    {
     "name": "stdout",
     "output_type": "stream",
     "text": [
      "Loss:1.112\n",
      "Loss:nan\n"
     ]
    },
    {
     "name": "stderr",
     "output_type": "stream",
     "text": [
      " 96%|█████████▌| 480/500 [01:04<00:02,  8.30it/s]"
     ]
    },
    {
     "name": "stdout",
     "output_type": "stream",
     "text": [
      "Loss:nan\n",
      "Loss:1.108\n"
     ]
    },
    {
     "name": "stderr",
     "output_type": "stream",
     "text": [
      " 96%|█████████▋| 482/500 [01:04<00:02,  8.76it/s]"
     ]
    },
    {
     "name": "stdout",
     "output_type": "stream",
     "text": [
      "Loss:nan\n",
      "Loss:nan\n"
     ]
    },
    {
     "name": "stderr",
     "output_type": "stream",
     "text": [
      " 97%|█████████▋| 484/500 [01:05<00:01,  8.73it/s]"
     ]
    },
    {
     "name": "stdout",
     "output_type": "stream",
     "text": [
      "Loss:nan\n",
      "Loss:nan\n"
     ]
    },
    {
     "name": "stderr",
     "output_type": "stream",
     "text": [
      " 97%|█████████▋| 486/500 [01:05<00:01,  8.79it/s]"
     ]
    },
    {
     "name": "stdout",
     "output_type": "stream",
     "text": [
      "Loss:1.1200000000000003\n",
      "Loss:1.04\n"
     ]
    },
    {
     "name": "stderr",
     "output_type": "stream",
     "text": [
      " 98%|█████████▊| 488/500 [01:05<00:01,  8.79it/s]"
     ]
    },
    {
     "name": "stdout",
     "output_type": "stream",
     "text": [
      "Loss:1.1480000000000004\n",
      "Loss:nan\n"
     ]
    },
    {
     "name": "stderr",
     "output_type": "stream",
     "text": [
      " 98%|█████████▊| 490/500 [01:05<00:01,  8.80it/s]"
     ]
    },
    {
     "name": "stdout",
     "output_type": "stream",
     "text": [
      "Loss:nan\n",
      "Loss:1.112\n"
     ]
    },
    {
     "name": "stderr",
     "output_type": "stream",
     "text": [
      " 98%|█████████▊| 492/500 [01:06<00:00,  8.97it/s]"
     ]
    },
    {
     "name": "stdout",
     "output_type": "stream",
     "text": [
      "Loss:nan\n",
      "Loss:nan\n"
     ]
    },
    {
     "name": "stderr",
     "output_type": "stream",
     "text": [
      " 99%|█████████▉| 494/500 [01:06<00:00,  8.99it/s]"
     ]
    },
    {
     "name": "stdout",
     "output_type": "stream",
     "text": [
      "Loss:nan\n",
      "Loss:nan\n"
     ]
    },
    {
     "name": "stderr",
     "output_type": "stream",
     "text": [
      " 99%|█████████▉| 496/500 [01:06<00:00,  8.80it/s]"
     ]
    },
    {
     "name": "stdout",
     "output_type": "stream",
     "text": [
      "Loss:1.1119999999999999\n",
      "Loss:1.068\n"
     ]
    },
    {
     "name": "stderr",
     "output_type": "stream",
     "text": [
      "100%|█████████▉| 498/500 [01:06<00:00,  8.87it/s]"
     ]
    },
    {
     "name": "stdout",
     "output_type": "stream",
     "text": [
      "Loss:1.0920000000000003\n",
      "Loss:nan\n"
     ]
    },
    {
     "name": "stderr",
     "output_type": "stream",
     "text": [
      "100%|██████████| 500/500 [01:06<00:00,  7.47it/s]"
     ]
    },
    {
     "name": "stdout",
     "output_type": "stream",
     "text": [
      "Loss:nan\n",
      "Loss:1.072\n"
     ]
    },
    {
     "name": "stderr",
     "output_type": "stream",
     "text": [
      "\n"
     ]
    }
   ],
   "source": [
    "# Fivefold Cross validation\n",
    "# identify suitable gaussian kernels from training data quantiles\n",
    "D = imp.sqdistmat(X_tr)\n",
    "quantiles = np.quantile(D,[0.1,0.5, 0.9])\n",
    "params = { 'kernel': ['gaussian'], 'kernelparameter': np.logspace(-5,3, 50), 'regularization': np.logspace(-5,1, 10) }\n",
    "cvsvm = cv(X_tr, Y_tr, imp.svm_qp, params, loss_function=mean_absolute_error, nfolds=5)\n"
   ]
  },
  {
   "cell_type": "code",
   "execution_count": 13,
   "metadata": {},
   "outputs": [
    {
     "name": "stderr",
     "output_type": "stream",
     "text": [
      "  1%|          | 3/500 [00:00<00:19, 24.89it/s]"
     ]
    },
    {
     "name": "stdout",
     "output_type": "stream",
     "text": [
      "Loss:1.2079989599999994\n",
      "Loss:1.1759959154018265\n",
      "Loss:1.1279862116179837\n",
      "Loss:1.1279359999999998\n",
      "Loss:1.1434226177509683\n",
      "Loss:1.141274556347381\n"
     ]
    },
    {
     "name": "stderr",
     "output_type": "stream",
     "text": [
      "  2%|▏         | 9/500 [00:00<00:20, 24.32it/s]"
     ]
    },
    {
     "name": "stdout",
     "output_type": "stream",
     "text": [
      "Loss:1.1604844412032158\n",
      "Loss:1.0942178247049128\n",
      "Loss:1.0114000000000003\n",
      "Loss:1.0058000000000005\n",
      "Loss:1.1599992\n",
      "Loss:1.1279970293831463\n",
      "Loss:1.1759810409747278\n"
     ]
    },
    {
     "name": "stderr",
     "output_type": "stream",
     "text": [
      "  3%|▎         | 17/500 [00:00<00:17, 27.83it/s]"
     ]
    },
    {
     "name": "stdout",
     "output_type": "stream",
     "text": [
      "Loss:1.1359319999999997\n",
      "Loss:1.1832609717212397\n",
      "Loss:1.133369181278623\n",
      "Loss:1.1460083044201022\n",
      "Loss:1.1002628334223952\n",
      "Loss:1.01\n",
      "Loss:1.0100000000000005\n"
     ]
    },
    {
     "name": "stderr",
     "output_type": "stream",
     "text": [
      "  5%|▌         | 25/500 [00:00<00:15, 31.64it/s]"
     ]
    },
    {
     "name": "stdout",
     "output_type": "stream",
     "text": [
      "Loss:1.18399908\n",
      "Loss:1.1599962867289328\n",
      "Loss:1.127986211617984\n",
      "Loss:1.1279359999999996\n",
      "Loss:1.127486790415191\n",
      "Loss:1.125495276330611\n",
      "Loss:1.1018911035646144\n",
      "Loss:1.0655721171344559\n"
     ]
    },
    {
     "name": "stderr",
     "output_type": "stream",
     "text": [
      "  7%|▋         | 33/500 [00:01<00:14, 31.34it/s]"
     ]
    },
    {
     "name": "stdout",
     "output_type": "stream",
     "text": [
      "Loss:1.0082000000000004\n",
      "Loss:1.0090000000000001\n",
      "Loss:1.1359993199999998\n",
      "Loss:1.1519964723924863\n",
      "Loss:1.135985349844108\n",
      "Loss:1.1839079999999997\n",
      "Loss:1.1195192815370263\n"
     ]
    },
    {
     "name": "stderr",
     "output_type": "stream",
     "text": [
      "  8%|▊         | 41/500 [00:01<00:14, 30.99it/s]"
     ]
    },
    {
     "name": "stdout",
     "output_type": "stream",
     "text": [
      "Loss:1.1648195962764638\n",
      "Loss:1.1460284720636391\n",
      "Loss:1.1108016167932337\n",
      "Loss:1.0064000000000002\n",
      "Loss:1.0096\n",
      "Loss:1.1519992399999999\n"
     ]
    },
    {
     "name": "stderr",
     "output_type": "stream",
     "text": [
      "\r",
      "  9%|▉         | 45/500 [00:01<00:14, 31.10it/s]"
     ]
    },
    {
     "name": "stdout",
     "output_type": "stream",
     "text": [
      "Loss:1.1439966580560397\n",
      "Loss:1.1599827645224798\n",
      "Loss:1.1759119999999998\n",
      "Loss:1.111550153499966\n",
      "Loss:1.1255251213133304\n",
      "Loss:1.1164780576202014\n"
     ]
    },
    {
     "name": "stderr",
     "output_type": "stream",
     "text": [
      " 10%|█         | 52/500 [00:01<00:16, 27.63it/s]"
     ]
    },
    {
     "name": "stdout",
     "output_type": "stream",
     "text": [
      "Loss:1.090293141212868\n",
      "Loss:1.0156000000000003\n",
      "Loss:1.0104000000000004\n",
      "Loss:1.1519992399999999\n",
      "Loss:1.127997029383146\n"
     ]
    },
    {
     "name": "stderr",
     "output_type": "stream",
     "text": [
      " 12%|█▏        | 58/500 [00:01<00:16, 27.55it/s]"
     ]
    },
    {
     "name": "stdout",
     "output_type": "stream",
     "text": [
      "Loss:1.1679819027486038\n",
      "Loss:1.1359319999999997\n",
      "Loss:1.1195134427519187\n",
      "Loss:1.1097917006602511\n",
      "Loss:1.1456249358506871\n",
      "Loss:1.098858198501536\n"
     ]
    },
    {
     "name": "stderr",
     "output_type": "stream",
     "text": [
      "\r",
      " 12%|█▏        | 61/500 [00:02<00:15, 27.89it/s]"
     ]
    },
    {
     "name": "stdout",
     "output_type": "stream",
     "text": [
      "Loss:1.0080000000000005\n",
      "Loss:1.0118\n",
      "Loss:1.1599992000000001\n",
      "Loss:1.1759959154018262\n",
      "Loss:1.1759810409747278\n"
     ]
    },
    {
     "name": "stderr",
     "output_type": "stream",
     "text": [
      " 13%|█▎        | 67/500 [00:02<00:21, 20.36it/s]"
     ]
    },
    {
     "name": "stdout",
     "output_type": "stream",
     "text": [
      "Loss:1.1998999999999997\n",
      "Loss:1.2231250059877297\n",
      "Loss:1.1569686464030788\n",
      "Loss:1.1678991598179345\n",
      "Loss:1.0957490153599432\n"
     ]
    },
    {
     "name": "stderr",
     "output_type": "stream",
     "text": [
      "\r",
      " 14%|█▍        | 70/500 [00:02<00:19, 21.60it/s]"
     ]
    },
    {
     "name": "stdout",
     "output_type": "stream",
     "text": [
      "Loss:1.0092000000000003\n",
      "Loss:1.0134\n",
      "Loss:1.1599991999999997\n",
      "Loss:1.1679961010653794\n",
      "Loss:1.175981040974728"
     ]
    },
    {
     "name": "stderr",
     "output_type": "stream",
     "text": [
      "\r",
      " 15%|█▍        | 73/500 [00:02<00:20, 20.71it/s]"
     ]
    },
    {
     "name": "stdout",
     "output_type": "stream",
     "text": [
      "\n",
      "Loss:1.1439279999999998\n",
      "Loss:1.1434218081715206\n"
     ]
    },
    {
     "name": "stderr",
     "output_type": "stream",
     "text": [
      " 16%|█▌        | 78/500 [00:03<00:23, 17.78it/s]"
     ]
    },
    {
     "name": "stdout",
     "output_type": "stream",
     "text": [
      "Loss:1.1491276899999892\n",
      "Loss:1.1236874591470165\n",
      "Loss:1.0992032178805733\n",
      "Loss:1.0112\n",
      "Loss:1.0152\n",
      "Loss:1.1919990399999998\n",
      "Loss:1.1599962867289328\n"
     ]
    },
    {
     "name": "stderr",
     "output_type": "stream",
     "text": [
      " 17%|█▋        | 86/500 [00:03<00:18, 21.87it/s]"
     ]
    },
    {
     "name": "stdout",
     "output_type": "stream",
     "text": [
      "Loss:1.1599827645224798\n",
      "Loss:1.1599199999999998\n",
      "Loss:1.1434258042774814\n",
      "Loss:1.1334523341743217\n",
      "Loss:1.2123022173767495\n"
     ]
    },
    {
     "name": "stderr",
     "output_type": "stream",
     "text": [
      " 18%|█▊        | 92/500 [00:03<00:16, 24.68it/s]"
     ]
    },
    {
     "name": "stdout",
     "output_type": "stream",
     "text": [
      "Loss:1.098858198501536\n",
      "Loss:1.0080000000000002\n",
      "Loss:1.0082000000000004\n",
      "Loss:1.12799936\n",
      "Loss:1.1679961010653797\n"
     ]
    },
    {
     "name": "stderr",
     "output_type": "stream",
     "text": [
      "\r",
      " 19%|█▉        | 95/500 [00:03<00:21, 19.23it/s]"
     ]
    },
    {
     "name": "stdout",
     "output_type": "stream",
     "text": [
      "Loss:1.1279862116179837\n",
      "Loss:1.11994\n",
      "Loss:1.2071851825459918\n"
     ]
    },
    {
     "name": "stderr",
     "output_type": "stream",
     "text": [
      "\r",
      " 20%|█▉        | 98/500 [00:03<00:22, 18.09it/s]"
     ]
    },
    {
     "name": "stdout",
     "output_type": "stream",
     "text": [
      "Loss:1.133338777654708\n",
      "Loss:1.1164434845169953\n",
      "Loss:1.0948169281227762\n",
      "Loss:1.0062000000000002\n"
     ]
    },
    {
     "name": "stderr",
     "output_type": "stream",
     "text": [
      " 21%|██        | 104/500 [00:04<00:20, 19.47it/s]"
     ]
    },
    {
     "name": "stdout",
     "output_type": "stream",
     "text": [
      "Loss:1.0120000000000005\n",
      "Loss:1.1359993199999998\n",
      "Loss:1.1519964723924863\n",
      "Loss:1.1679819027486038\n",
      "Loss:1.1759119999999998\n"
     ]
    },
    {
     "name": "stderr",
     "output_type": "stream",
     "text": [
      " 22%|██▏       | 111/500 [00:04<00:17, 22.25it/s]"
     ]
    },
    {
     "name": "stdout",
     "output_type": "stream",
     "text": [
      "Loss:1.175295891581418\n",
      "Loss:1.1490887713299547\n",
      "Loss:1.1091350781946356\n",
      "Loss:1.074864900287436\n",
      "Loss:1.0152000000000003\n",
      "Loss:1.0124000000000002\n",
      "Loss:1.13599932\n",
      "Loss:1.1759959154018265\n"
     ]
    },
    {
     "name": "stderr",
     "output_type": "stream",
     "text": [
      " 24%|██▍       | 120/500 [00:04<00:13, 28.51it/s]"
     ]
    },
    {
     "name": "stdout",
     "output_type": "stream",
     "text": [
      "Loss:1.167981902748604\n",
      "Loss:1.1759119999999998\n",
      "Loss:1.1832902590798675\n",
      "Loss:1.1648787783862686\n",
      "Loss:1.189831686281828\n",
      "Loss:1.079815280925689\n",
      "Loss:1.0054000000000003\n",
      "Loss:1.0158000000000005\n"
     ]
    },
    {
     "name": "stderr",
     "output_type": "stream",
     "text": [
      "\r",
      " 25%|██▍       | 124/500 [00:04<00:12, 29.38it/s]"
     ]
    },
    {
     "name": "stdout",
     "output_type": "stream",
     "text": [
      "Loss:1.1359993199999998\n",
      "Loss:1.1279970293831463\n",
      "Loss:1.1199870733918598\n",
      "Loss:1.1599199999999998\n",
      "Loss:1.1115535635467308\n",
      "Loss:1.125503283521097\n",
      "Loss:1.0945777470024773\n"
     ]
    },
    {
     "name": "stderr",
     "output_type": "stream",
     "text": [
      " 26%|██▋       | 132/500 [00:05<00:11, 31.38it/s]"
     ]
    },
    {
     "name": "stdout",
     "output_type": "stream",
     "text": [
      "Loss:1.0706511202191575\n",
      "Loss:1.0120000000000002\n",
      "Loss:1.0068000000000006\n",
      "Loss:1.11199944\n",
      "Loss:1.1839957297382733\n",
      "Loss:1.1919793174269757\n",
      "Loss:1.1359319999999997\n",
      "Loss:1.207197494174185\n"
     ]
    },
    {
     "name": "stderr",
     "output_type": "stream",
     "text": [
      " 28%|██▊       | 140/500 [00:05<00:10, 33.02it/s]"
     ]
    },
    {
     "name": "stdout",
     "output_type": "stream",
     "text": [
      "Loss:1.141190844810486\n",
      "Loss:1.1605185690467594\n",
      "Loss:1.0796887251915175\n",
      "Loss:1.0068000000000001\n",
      "Loss:1.0112\n",
      "Loss:1.16799916\n",
      "Loss:1.1359968437195929\n",
      "Loss:1.175981040974728\n"
     ]
    },
    {
     "name": "stderr",
     "output_type": "stream",
     "text": [
      " 30%|██▉       | 149/500 [00:05<00:09, 35.11it/s]"
     ]
    },
    {
     "name": "stdout",
     "output_type": "stream",
     "text": [
      "Loss:1.1759119999999996\n",
      "Loss:1.1992120584029706\n",
      "Loss:1.1333617327293344\n",
      "Loss:1.1754775244544953\n",
      "Loss:1.0702124909310788\n",
      "Loss:1.0114000000000003\n",
      "Loss:1.0134000000000003\n",
      "Loss:1.1279993599999998\n"
     ]
    },
    {
     "name": "stderr",
     "output_type": "stream",
     "text": [
      " 32%|███▏      | 158/500 [00:05<00:09, 37.15it/s]"
     ]
    },
    {
     "name": "stdout",
     "output_type": "stream",
     "text": [
      "Loss:1.159996286728933\n",
      "Loss:1.167981902748604\n",
      "Loss:1.1759119999999996\n",
      "Loss:1.1513859070029206\n",
      "Loss:1.1806563536649441\n",
      "Loss:1.1164408915342547\n",
      "Loss:1.0847206801790779\n",
      "Loss:1.0142000000000002\n"
     ]
    },
    {
     "name": "stderr",
     "output_type": "stream",
     "text": [
      " 33%|███▎      | 166/500 [00:06<00:09, 36.83it/s]"
     ]
    },
    {
     "name": "stdout",
     "output_type": "stream",
     "text": [
      "Loss:1.0160000000000002\n",
      "Loss:1.1359993199999998\n",
      "Loss:1.1359968437195929\n",
      "Loss:1.175981040974728\n",
      "Loss:1.1599199999999998\n",
      "Loss:1.2311047354741762\n",
      "Loss:1.164827044825753\n",
      "Loss:1.0798496718256216\n"
     ]
    },
    {
     "name": "stderr",
     "output_type": "stream",
     "text": [
      " 35%|███▍      | 174/500 [00:06<00:09, 34.74it/s]"
     ]
    },
    {
     "name": "stdout",
     "output_type": "stream",
     "text": [
      "Loss:1.1150324009878463\n",
      "Loss:1.0119999999999991\n",
      "Loss:1.0067999999999997\n",
      "Loss:1.1519992399999317\n",
      "Loss:1.1359968437192316\n",
      "Loss:1.13598534984264\n",
      "Loss:1.1439279999922132\n"
     ]
    },
    {
     "name": "stderr",
     "output_type": "stream",
     "text": [
      " 36%|███▋      | 182/500 [00:06<00:08, 35.53it/s]"
     ]
    },
    {
     "name": "stdout",
     "output_type": "stream",
     "text": [
      "Loss:1.1992168640431882\n",
      "Loss:1.1804644523198804\n",
      "Loss:1.1237516540621266\n",
      "Loss:1.069742005875396\n",
      "Loss:1.0077999899143513\n",
      "Loss:1.0107999921682271\n",
      "Loss:1.1199993998521336\n",
      "Loss:1.1919955432904457\n"
     ]
    },
    {
     "name": "stderr",
     "output_type": "stream",
     "text": [
      "\r",
      " 37%|███▋      | 186/500 [00:06<00:11, 27.01it/s]"
     ]
    },
    {
     "name": "stdout",
     "output_type": "stream",
     "text": [
      "Loss:1.207977589328738\n",
      "Loss:1.1998999831029007\n",
      "Loss:1.1752907945499216\n",
      "Loss:1.17265783258723\n"
     ]
    },
    {
     "name": "stderr",
     "output_type": "stream",
     "text": [
      "\r",
      " 38%|███▊      | 190/500 [00:06<00:12, 24.86it/s]"
     ]
    },
    {
     "name": "stdout",
     "output_type": "stream",
     "text": [
      "Loss:1.1536753933234973\n",
      "Loss:1.0786562331284282\n",
      "Loss:1.0091830747073844\n",
      "Loss:1.0091955532560888\n",
      "Loss:1.1439992719832155\n"
     ]
    },
    {
     "name": "stderr",
     "output_type": "stream",
     "text": [
      " 39%|███▉      | 197/500 [00:07<00:10, 28.80it/s]"
     ]
    },
    {
     "name": "stdout",
     "output_type": "stream",
     "text": [
      "Loss:1.1359968137100949\n",
      "Loss:1.191979179378147\n",
      "Loss:1.1359313958566537\n",
      "Loss:1.1992023914991818\n",
      "Loss:1.1333735075699283\n",
      "Loss:1.123959076912935\n",
      "Loss:1.078635062107143\n",
      "Loss:1.0139140755419485\n"
     ]
    },
    {
     "name": "stderr",
     "output_type": "stream",
     "text": [
      " 41%|████      | 206/500 [00:07<00:08, 33.76it/s]"
     ]
    },
    {
     "name": "stdout",
     "output_type": "stream",
     "text": [
      "Loss:1.0053800514118174\n",
      "Loss:1.1519991924035053\n",
      "Loss:1.207994948736381\n",
      "Loss:1.1679809060893585\n",
      "Loss:1.143924013630409\n",
      "Loss:1.1673208299619433\n",
      "Loss:1.1411751695435002\n",
      "Loss:1.1745595114458114\n",
      "Loss:1.08234777201082\n"
     ]
    },
    {
     "name": "stderr",
     "output_type": "stream",
     "text": [
      " 43%|████▎     | 215/500 [00:07<00:07, 36.13it/s]"
     ]
    },
    {
     "name": "stdout",
     "output_type": "stream",
     "text": [
      "Loss:1.0048472025722432\n",
      "Loss:1.011564354508781\n",
      "Loss:1.1919989452773787\n",
      "Loss:1.1279964042526267\n",
      "Loss:1.1359822793435002\n",
      "Loss:1.1918897453586055\n",
      "Loss:1.1593173244035166\n",
      "Loss:1.1409627654435588\n"
     ]
    },
    {
     "name": "stderr",
     "output_type": "stream",
     "text": [
      " 45%|████▍     | 223/500 [00:07<00:07, 36.93it/s]"
     ]
    },
    {
     "name": "stdout",
     "output_type": "stream",
     "text": [
      "Loss:1.1444458470583427\n",
      "Loss:1.0974667991152958\n",
      "Loss:0.9945083324533874\n",
      "Loss:1.0006413789142012\n",
      "Loss:1.1359990582901922\n",
      "Loss:1.1679947856259425\n",
      "Loss:1.1519789823141493\n",
      "Loss:1.1599019352377002\n"
     ]
    },
    {
     "name": "stderr",
     "output_type": "stream",
     "text": [
      "\r",
      " 45%|████▌     | 227/500 [00:07<00:07, 35.38it/s]"
     ]
    },
    {
     "name": "stdout",
     "output_type": "stream",
     "text": [
      "Loss:1.1592461211919824\n",
      "Loss:1.1327965205732144\n",
      "Loss:1.1723218357940026\n",
      "Loss:1.0731111441714758\n"
     ]
    },
    {
     "name": "stderr",
     "output_type": "stream",
     "text": [
      "\r",
      " 46%|████▌     | 231/500 [00:08<00:11, 23.01it/s]"
     ]
    },
    {
     "name": "stdout",
     "output_type": "stream",
     "text": [
      "Loss:0.9834624627178802\n",
      "Loss:0.9898800448783492\n",
      "Loss:1.1199989607352134\n",
      "Loss:1.1679933413053774\n"
     ]
    },
    {
     "name": "stderr",
     "output_type": "stream",
     "text": [
      " 48%|████▊     | 238/500 [00:08<00:09, 27.06it/s]"
     ]
    },
    {
     "name": "stdout",
     "output_type": "stream",
     "text": [
      "Loss:1.1679725091970108\n",
      "Loss:1.1678678591522436\n",
      "Loss:1.1830860651530293\n",
      "Loss:1.1560370263500195\n",
      "Loss:1.1850786473451473\n",
      "Loss:1.0837832184215925\n",
      "Loss:0.9639567567730585\n"
     ]
    },
    {
     "name": "stderr",
     "output_type": "stream",
     "text": [
      " 49%|████▉     | 246/500 [00:08<00:08, 29.60it/s]"
     ]
    },
    {
     "name": "stdout",
     "output_type": "stream",
     "text": [
      "Loss:0.9605868059270462\n",
      "Loss:1.1759981419766272\n",
      "Loss:1.1839906894420849\n",
      "Loss:1.1599590985436017\n",
      "Loss:1.1198175349023856\n",
      "Loss:1.1270758014446316\n",
      "Loss:1.1704585890176131\n"
     ]
    },
    {
     "name": "stderr",
     "output_type": "stream",
     "text": [
      "\r",
      " 50%|█████     | 250/500 [00:08<00:10, 23.45it/s]"
     ]
    },
    {
     "name": "stdout",
     "output_type": "stream",
     "text": [
      "Loss:1.1572081037594046\n",
      "Loss:1.0447510593907783\n",
      "Loss:0.9366350545036245\n",
      "Loss:0.9241205909272743\n"
     ]
    },
    {
     "name": "stderr",
     "output_type": "stream",
     "text": [
      "\r",
      " 51%|█████     | 254/500 [00:09<00:09, 24.68it/s]"
     ]
    },
    {
     "name": "stdout",
     "output_type": "stream",
     "text": [
      "Loss:1.1199971266362325\n",
      "Loss:1.1359864866530807\n",
      "Loss:1.199922977881827\n",
      "Loss:1.1676792902819757\n"
     ]
    },
    {
     "name": "stderr",
     "output_type": "stream",
     "text": [
      "\r",
      " 51%|█████▏    | 257/500 [00:09<00:13, 18.50it/s]"
     ]
    },
    {
     "name": "stdout",
     "output_type": "stream",
     "text": [
      "Loss:1.1822848910819064\n",
      "Loss:1.168351795141027\n",
      "Loss:1.1051534982291904\n"
     ]
    },
    {
     "name": "stderr",
     "output_type": "stream",
     "text": [
      " 53%|█████▎    | 264/500 [00:09<00:11, 20.85it/s]"
     ]
    },
    {
     "name": "stdout",
     "output_type": "stream",
     "text": [
      "Loss:1.0034796842103697\n",
      "Loss:0.8866151243801197\n",
      "Loss:0.8596350123668762\n",
      "Loss:1.143994706569602\n",
      "Loss:1.11997612551488\n",
      "Loss:1.1838730321863542\n",
      "Loss:1.1674218228061606\n"
     ]
    },
    {
     "name": "stderr",
     "output_type": "stream",
     "text": [
      " 54%|█████▍    | 271/500 [00:09<00:10, 22.33it/s]"
     ]
    },
    {
     "name": "stdout",
     "output_type": "stream",
     "text": [
      "Loss:1.1574317875060725\n",
      "Loss:1.1946046768453429\n",
      "Loss:1.08006635435287\n",
      "Loss:0.9340191825281959\n",
      "Loss:0.7330424984238094\n",
      "Loss:0.7749243072135563\n",
      "Loss:1.1679898482943636\n"
     ]
    },
    {
     "name": "stderr",
     "output_type": "stream",
     "text": [
      "\r",
      " 55%|█████▌    | 275/500 [00:10<00:09, 23.82it/s]"
     ]
    },
    {
     "name": "stdout",
     "output_type": "stream",
     "text": [
      "Loss:1.159952233397999\n",
      "Loss:1.1757775129676293\n",
      "Loss:1.1590074217619253\n",
      "Loss:1.1474368501660026\n",
      "Loss:1.13785282056053\n",
      "Loss:1.1162175202074953\n",
      "Loss:0.7074926022984493\n"
     ]
    },
    {
     "name": "stderr",
     "output_type": "stream",
     "text": [
      " 57%|█████▋    | 283/500 [00:10<00:07, 28.57it/s]"
     ]
    },
    {
     "name": "stdout",
     "output_type": "stream",
     "text": [
      "Loss:0.6211198283576749\n",
      "Loss:0.6839197560453987\n",
      "Loss:1.1439818516956586\n",
      "Loss:1.1599132039324909\n",
      "Loss:1.1516044120465565\n",
      "Loss:1.1741016301137317\n",
      "Loss:1.1989981052910783\n",
      "Loss:1.1194124324011734\n"
     ]
    },
    {
     "name": "stderr",
     "output_type": "stream",
     "text": [
      " 58%|█████▊    | 291/500 [00:10<00:06, 32.20it/s]"
     ]
    },
    {
     "name": "stdout",
     "output_type": "stream",
     "text": [
      "Loss:0.9585840794290584\n",
      "Loss:0.5565069795681263\n",
      "Loss:0.4724628227185522\n",
      "Loss:0.6253404177323462\n",
      "Loss:1.1599675455736744\n",
      "Loss:1.1518482492737023\n",
      "Loss:1.1513032648025772\n",
      "Loss:1.1806440319620217\n"
     ]
    },
    {
     "name": "stderr",
     "output_type": "stream",
     "text": [
      " 60%|█████▉    | 299/500 [00:10<00:06, 33.07it/s]"
     ]
    },
    {
     "name": "stdout",
     "output_type": "stream",
     "text": [
      "Loss:1.0892751935526193\n",
      "Loss:1.1049675377678292\n",
      "Loss:0.8157328445957881\n",
      "Loss:0.39659415972783085\n",
      "Loss:0.4229422151867726\n",
      "Loss:0.5897187395323451\n",
      "Loss:1.151947480955033\n",
      "Loss:1.1837575179955993\n"
     ]
    },
    {
     "name": "stderr",
     "output_type": "stream",
     "text": [
      " 62%|██████▏   | 308/500 [00:10<00:05, 35.95it/s]"
     ]
    },
    {
     "name": "stdout",
     "output_type": "stream",
     "text": [
      "Loss:1.1668601636808806\n",
      "Loss:1.1786359513377147\n",
      "Loss:1.1045280857231945\n",
      "Loss:1.0424795403660319\n",
      "Loss:0.6755367642143212\n",
      "Loss:0.3740863249425015\n",
      "Loss:0.4198478548470824\n",
      "Loss:0.5341510795048284\n"
     ]
    },
    {
     "name": "stderr",
     "output_type": "stream",
     "text": [
      " 63%|██████▎   | 317/500 [00:11<00:04, 37.90it/s]"
     ]
    },
    {
     "name": "stdout",
     "output_type": "stream",
     "text": [
      "Loss:1.135932895051988\n",
      "Loss:1.1516863191651314\n",
      "Loss:1.1665420967175941\n",
      "Loss:1.1292083582575674\n",
      "Loss:1.1359811018251025\n",
      "Loss:1.0129413851221976\n",
      "Loss:0.5528144926300143\n",
      "Loss:0.36507999528350543\n",
      "Loss:0.4296598300376273\n"
     ]
    },
    {
     "name": "stderr",
     "output_type": "stream",
     "text": [
      " 65%|██████▌   | 326/500 [00:11<00:04, 38.78it/s]"
     ]
    },
    {
     "name": "stdout",
     "output_type": "stream",
     "text": [
      "Loss:0.5392872452779087\n",
      "Loss:1.135929630615659\n",
      "Loss:1.1116503083149922\n",
      "Loss:1.1902177089101085\n",
      "Loss:1.1360964523426944\n",
      "Loss:1.0840127636518888\n",
      "Loss:0.9839099087607611\n",
      "Loss:0.5173951814299201\n"
     ]
    },
    {
     "name": "stderr",
     "output_type": "stream",
     "text": [
      " 67%|██████▋   | 334/500 [00:11<00:04, 38.85it/s]"
     ]
    },
    {
     "name": "stdout",
     "output_type": "stream",
     "text": [
      "Loss:0.4157532305387228\n",
      "Loss:0.5451813986148981\n",
      "Loss:0.755230490093787\n",
      "Loss:1.1359203310460166\n",
      "Loss:1.1596232105498336\n",
      "Loss:1.158175120757043\n",
      "Loss:1.1831370532627754\n",
      "Loss:1.1349259831813325\n"
     ]
    },
    {
     "name": "stderr",
     "output_type": "stream",
     "text": [
      " 69%|██████▊   | 343/500 [00:11<00:03, 39.80it/s]"
     ]
    },
    {
     "name": "stdout",
     "output_type": "stream",
     "text": [
      "Loss:0.9445296548075784\n",
      "Loss:0.5325290600199419\n",
      "Loss:0.49220862294976525\n",
      "Loss:0.5527507619241464\n",
      "Loss:0.8633035234708878\n",
      "Loss:1.1839215687429039\n",
      "Loss:1.1276572052918927\n",
      "Loss:1.1503617299482978\n",
      "Loss:1.168039254406838\n"
     ]
    },
    {
     "name": "stderr",
     "output_type": "stream",
     "text": [
      " 70%|███████   | 352/500 [00:12<00:03, 40.16it/s]"
     ]
    },
    {
     "name": "stdout",
     "output_type": "stream",
     "text": [
      "Loss:1.0846861199068678\n",
      "Loss:0.9694899284201887\n",
      "Loss:0.5458922705742151\n",
      "Loss:0.5608144798655157\n",
      "Loss:0.6326430641879589\n",
      "Loss:0.7162493288993872\n",
      "Loss:1.1359450648003608\n",
      "Loss:1.1597444789395852\n",
      "Loss:1.1667776957541733\n"
     ]
    },
    {
     "name": "stderr",
     "output_type": "stream",
     "text": [
      " 72%|███████▏  | 362/500 [00:12<00:03, 40.29it/s]"
     ]
    },
    {
     "name": "stdout",
     "output_type": "stream",
     "text": [
      "Loss:1.1225004563116392\n",
      "Loss:1.1261682289170418\n",
      "Loss:1.082383989954508\n",
      "Loss:0.6449544647377699\n",
      "Loss:0.5659422616078834\n",
      "Loss:0.7179907622161236\n",
      "Loss:0.8300021727490552\n",
      "Loss:1.14396782371783\n",
      "Loss:1.1438497498862208\n"
     ]
    },
    {
     "name": "stderr",
     "output_type": "stream",
     "text": [
      "\r",
      " 73%|███████▎  | 367/500 [00:12<00:03, 39.83it/s]"
     ]
    },
    {
     "name": "stdout",
     "output_type": "stream",
     "text": [
      "Loss:1.1592935463784269\n",
      "Loss:1.1487615839167922\n",
      "Loss:1.1604949288410853\n",
      "Loss:1.0821009242613184\n",
      "Loss:0.8082364277794816\n",
      "Loss:0.5650332689916548\n",
      "Loss:0.6475437089067312\n",
      "Loss:0.8692258637993548\n",
      "Loss:1.1359828359349606\n"
     ]
    },
    {
     "name": "stderr",
     "output_type": "stream",
     "text": [
      " 75%|███████▌  | 377/500 [00:12<00:03, 39.58it/s]"
     ]
    },
    {
     "name": "stdout",
     "output_type": "stream",
     "text": [
      "Loss:1.1359215269602685\n",
      "Loss:1.231607247806716\n",
      "Loss:1.1582533672638378\n",
      "Loss:1.1758461861711786\n",
      "Loss:1.1618231274644168\n",
      "Loss:0.9888543766415069\n",
      "Loss:0.5895516194069482\n",
      "Loss:0.5999529234988105\n",
      "Loss:0.7937283175276706\n"
     ]
    },
    {
     "name": "stderr",
     "output_type": "stream",
     "text": [
      " 77%|███████▋  | 387/500 [00:12<00:02, 40.31it/s]"
     ]
    },
    {
     "name": "stdout",
     "output_type": "stream",
     "text": [
      "Loss:1.1119916812326178\n",
      "Loss:1.1759596142690811\n",
      "Loss:1.119819520170499\n",
      "Loss:1.1671316104922387\n",
      "Loss:1.1560061641772996\n",
      "Loss:1.1413895200946214\n",
      "Loss:1.044159288922303\n",
      "Loss:0.773240646660058\n"
     ]
    },
    {
     "name": "stderr",
     "output_type": "stream",
     "text": [
      " 79%|███████▉  | 397/500 [00:13<00:02, 40.52it/s]"
     ]
    },
    {
     "name": "stdout",
     "output_type": "stream",
     "text": [
      "Loss:0.5703773580261451\n",
      "Loss:0.6886677535545495\n",
      "Loss:1.191995639007853\n",
      "Loss:1.1679804808870593\n",
      "Loss:1.14391001768498\n",
      "Loss:1.1515856268513862\n",
      "Loss:1.1261073677689586\n",
      "Loss:1.1190616797822655\n",
      "Loss:1.1034805852222185\n"
     ]
    },
    {
     "name": "stderr",
     "output_type": "stream",
     "text": [
      "\r",
      " 80%|████████  | 402/500 [00:13<00:02, 40.01it/s]"
     ]
    },
    {
     "name": "stdout",
     "output_type": "stream",
     "text": [
      "Loss:0.9801205974592435\n",
      "Loss:0.5877092516010457\n",
      "Loss:0.620190540528754\n",
      "Loss:1.1359980464879607\n",
      "Loss:1.1759905545392808\n",
      "Loss:1.1119590980332177\n",
      "Loss:1.1757999915528614\n",
      "Loss:1.1350811664348979\n"
     ]
    },
    {
     "name": "stderr",
     "output_type": "stream",
     "text": [
      " 82%|████████▏ | 412/500 [00:13<00:02, 39.61it/s]"
     ]
    },
    {
     "name": "stdout",
     "output_type": "stream",
     "text": [
      "Loss:1.123739265896801\n",
      "Loss:1.1480308591048145\n",
      "Loss:1.097847741291443\n",
      "Loss:0.7347981649514082\n",
      "Loss:0.5839729549941047\n",
      "Loss:1.1679990604857073\n",
      "Loss:1.1439957154029425\n",
      "Loss:1.1599799930317884\n"
     ]
    },
    {
     "name": "stderr",
     "output_type": "stream",
     "text": [
      " 84%|████████▍ | 421/500 [00:13<00:01, 39.80it/s]"
     ]
    },
    {
     "name": "stdout",
     "output_type": "stream",
     "text": [
      "Loss:1.1759029626451982\n",
      "Loss:1.1835533584966955\n",
      "Loss:1.165959986236502\n",
      "Loss:1.1187912303011063\n",
      "Loss:1.117246978642713\n",
      "Loss:0.9816801550102389\n",
      "Loss:0.5968289627585946\n",
      "Loss:1.1439995588028704\n",
      "Loss:1.1119980110977297\n"
     ]
    },
    {
     "name": "stderr",
     "output_type": "stream",
     "text": [
      " 86%|████████▌ | 429/500 [00:14<00:01, 39.13it/s]"
     ]
    },
    {
     "name": "stdout",
     "output_type": "stream",
     "text": [
      "Loss:1.1119907939212816\n",
      "Loss:1.1439553063037926\n",
      "Loss:1.1597930996896335\n",
      "Loss:1.1750307237751927\n",
      "Loss:1.139614733880692\n",
      "Loss:1.0998101743407678\n",
      "Loss:1.1320556476314465\n",
      "Loss:0.6981155256383711\n",
      "Loss:1.1439997901468633\n"
     ]
    },
    {
     "name": "stderr",
     "output_type": "stream",
     "text": [
      " 87%|████████▋ | 437/500 [00:14<00:01, 37.63it/s]"
     ]
    },
    {
     "name": "stdout",
     "output_type": "stream",
     "text": [
      "Loss:1.1919990266360143\n",
      "Loss:1.1919953632059\n",
      "Loss:1.1199793431056169\n",
      "Loss:1.151901683494448\n",
      "Loss:1.1595434424620181\n",
      "Loss:1.1818335179900197\n",
      "Loss:1.1661677710658522\n",
      "Loss:1.1685211061916252\n"
     ]
    },
    {
     "name": "stderr",
     "output_type": "stream",
     "text": [
      " 89%|████████▉ | 445/500 [00:14<00:01, 37.83it/s]"
     ]
    },
    {
     "name": "stdout",
     "output_type": "stream",
     "text": [
      "Loss:0.9434786722030546\n",
      "Loss:1.1199999044261275\n",
      "Loss:1.1839995309790345\n",
      "Loss:1.1519978664317063\n",
      "Loss:1.1199903117806427\n",
      "Loss:1.135954789628996\n",
      "Loss:1.1757871892819978\n",
      "Loss:1.198996023192899\n"
     ]
    },
    {
     "name": "stderr",
     "output_type": "stream",
     "text": [
      " 91%|█████████ | 454/500 [00:14<00:01, 38.72it/s]"
     ]
    },
    {
     "name": "stdout",
     "output_type": "stream",
     "text": [
      "Loss:1.147419744741975\n",
      "Loss:1.1069976451011867\n",
      "Loss:1.0758305396655432\n",
      "Loss:1.1999999514582493\n",
      "Loss:1.1039997891814033\n",
      "Loss:1.1439989952503928\n",
      "Loss:1.1679953564133674\n",
      "Loss:1.1439786482235441\n",
      "Loss:1.1838980033828808\n"
     ]
    },
    {
     "name": "stderr",
     "output_type": "stream",
     "text": [
      " 93%|█████████▎| 463/500 [00:14<00:00, 39.70it/s]"
     ]
    },
    {
     "name": "stdout",
     "output_type": "stream",
     "text": [
      "Loss:1.1355373117419332\n",
      "Loss:1.1898012597593048\n",
      "Loss:1.1735751257591003\n",
      "Loss:1.1052906298130158\n",
      "Loss:1.0959999789961747\n",
      "Loss:1.1439998988135742\n",
      "Loss:1.1679995056640562\n",
      "Loss:1.1599977571545124\n",
      "Loss:1.1039900489771797\n"
     ]
    },
    {
     "name": "stderr",
     "output_type": "stream",
     "text": [
      " 94%|█████████▍| 472/500 [00:15<00:00, 39.20it/s]"
     ]
    },
    {
     "name": "stdout",
     "output_type": "stream",
     "text": [
      "Loss:1.119952976419087\n",
      "Loss:1.167779075804551\n",
      "Loss:1.1589693591844386\n",
      "Loss:1.1632547968868376\n",
      "Loss:1.1378388289849297\n",
      "Loss:1.207999989121992\n",
      "Loss:1.1919999495999243\n",
      "Loss:1.1679997727722722\n",
      "Loss:1.1359989728069189\n"
     ]
    },
    {
     "name": "stderr",
     "output_type": "stream",
     "text": [
      " 96%|█████████▌| 481/500 [00:15<00:00, 40.00it/s]"
     ]
    },
    {
     "name": "stdout",
     "output_type": "stream",
     "text": [
      "Loss:1.1679951058091986\n",
      "Loss:1.1919773274959105\n",
      "Loss:1.10389931407663\n",
      "Loss:1.1595067059836561\n",
      "Loss:1.133831469975997\n",
      "Loss:1.205033780370603\n",
      "Loss:1.1839999949779219\n",
      "Loss:1.1439999778341492\n",
      "Loss:1.1839998939772578\n"
     ]
    },
    {
     "name": "stderr",
     "output_type": "stream",
     "text": [
      " 98%|█████████▊| 490/500 [00:15<00:00, 39.11it/s]"
     ]
    },
    {
     "name": "stdout",
     "output_type": "stream",
     "text": [
      "Loss:1.1839995034941853\n",
      "Loss:1.1199977879825418\n",
      "Loss:1.1359897134775019\n",
      "Loss:1.1199530233815518\n",
      "Loss:1.1197790383301705\n",
      "Loss:1.174915862206306\n",
      "Loss:1.163020906137019\n",
      "Loss:1.1279999977134758\n"
     ]
    },
    {
     "name": "stderr",
     "output_type": "stream",
     "text": [
      "100%|██████████| 500/500 [00:15<00:00, 31.60it/s]"
     ]
    },
    {
     "name": "stdout",
     "output_type": "stream",
     "text": [
      "Loss:1.1439999894128865\n",
      "Loss:1.1599999497805802\n",
      "Loss:1.1759997664248685\n",
      "Loss:1.1679989314820158\n",
      "Loss:1.1439951907184271\n",
      "Loss:1.1519769197018606\n",
      "Loss:1.159893124466959\n",
      "Loss:1.1435057657594216\n",
      "Loss:1.1896636561909963\n"
     ]
    },
    {
     "name": "stderr",
     "output_type": "stream",
     "text": [
      "\n"
     ]
    }
   ],
   "source": [
    "# Fivefold Cross validation\n",
    "# identify suitable gaussian kernels from training data quantiles\n",
    "D = imp.sqdistmat(X_tr)\n",
    "quantiles = np.quantile(D,[0.1,0.5, 0.9])\n",
    "params = { 'kernel': ['gaussian'], 'kernelparameter': np.logspace(-5,3, 50), 'regularization': np.logspace(-5,1, 10) }\n",
    "cvsvm_sk = cv(X_tr, Y_tr, imp.svm_sklearn, params, loss_function=mean_absolute_error, nfolds=5)"
   ]
  },
  {
   "cell_type": "code",
   "execution_count": 16,
   "metadata": {},
   "outputs": [
    {
     "data": {
      "text/plain": [
       "('gaussian', 1.1513953993264456, 0.46415888336127725)"
      ]
     },
     "execution_count": 16,
     "metadata": {},
     "output_type": "execute_result"
    }
   ],
   "source": [
    "cvsvm_sk.__params"
   ]
  },
  {
   "cell_type": "code",
   "execution_count": 10,
   "metadata": {},
   "outputs": [
    {
     "data": {
      "text/plain": [
       "(2, 100)"
      ]
     },
     "execution_count": 10,
     "metadata": {},
     "output_type": "execute_result"
    }
   ],
   "source": [
    "cvsvm.X_sv.shape"
   ]
  },
  {
   "cell_type": "code",
   "execution_count": 215,
   "metadata": {},
   "outputs": [],
   "source": [
    "test=imp.svm_qp('gaussian',quantiles[1],np.logspace(-5,1, 30)[-12])"
   ]
  },
  {
   "cell_type": "code",
   "execution_count": 216,
   "metadata": {},
   "outputs": [],
   "source": [
    "test.fit(X_tr,Y_tr)"
   ]
  },
  {
   "cell_type": "code",
   "execution_count": 217,
   "metadata": {},
   "outputs": [
    {
     "data": {
      "text/plain": [
       "(100, 2)"
      ]
     },
     "execution_count": 217,
     "metadata": {},
     "output_type": "execute_result"
    }
   ],
   "source": [
    "test.X_sv.shape"
   ]
  },
  {
   "cell_type": "code",
   "execution_count": 218,
   "metadata": {},
   "outputs": [
    {
     "data": {
      "text/plain": [
       "array([[1.        , 0.99976104, 0.99997061, ..., 0.99989645, 0.9999579 ,\n",
       "        0.99997711],\n",
       "       [0.99976104, 1.        , 0.99988307, ..., 0.99996826, 0.99987483,\n",
       "        0.99987403],\n",
       "       [0.99997061, 0.99988307, 1.        , ..., 0.99995819, 0.99999688,\n",
       "        0.99998201],\n",
       "       ...,\n",
       "       [0.99989645, 0.99996826, 0.99995819, ..., 1.        , 0.99994282,\n",
       "        0.9999679 ],\n",
       "       [0.9999579 , 0.99987483, 0.99999688, ..., 0.99994282, 1.        ,\n",
       "        0.99996392],\n",
       "       [0.99997711, 0.99987403, 0.99998201, ..., 0.9999679 , 0.99996392,\n",
       "        1.        ]])"
      ]
     },
     "execution_count": 218,
     "metadata": {},
     "output_type": "execute_result"
    }
   ],
   "source": [
    "test.kernelmatrix"
   ]
  },
  {
   "cell_type": "code",
   "execution_count": 194,
   "metadata": {},
   "outputs": [],
   "source": [
    "test = imp.svm_qp(cvsvm.kernel,cvsvm.kernelparameter,cvsvm.C)"
   ]
  },
  {
   "cell_type": "code",
   "execution_count": 110,
   "metadata": {},
   "outputs": [],
   "source": [
    "test.fit(X_tr,Y_tr)"
   ]
  },
  {
   "cell_type": "code",
   "execution_count": 115,
   "metadata": {},
   "outputs": [
    {
     "data": {
      "text/plain": [
       "False"
      ]
     },
     "execution_count": 115,
     "metadata": {},
     "output_type": "execute_result"
    }
   ],
   "source": [
    "mean_absolute_error(Y_te, test.predict(X_te)) < 100"
   ]
  },
  {
   "cell_type": "code",
   "execution_count": 11,
   "metadata": {},
   "outputs": [
    {
     "name": "stderr",
     "output_type": "stream",
     "text": [
      "100%|██████████| 30/30 [00:03<00:00,  8.37it/s]\n"
     ]
    }
   ],
   "source": [
    "test = cv(X_tr, Y_tr, imp.svm_qp, params, loss_function=mean_absolute_error, nfolds=5)"
   ]
  },
  {
   "cell_type": "code",
   "execution_count": 96,
   "metadata": {},
   "outputs": [
    {
     "name": "stderr",
     "output_type": "stream",
     "text": [
      "\r",
      "  0%|          | 0/30 [00:00<?, ?it/s]"
     ]
    },
    {
     "name": "stdout",
     "output_type": "stream",
     "text": [
      "     pcost       dcost       gap    pres   dres\n",
      " 0: -2.2244e+01 -4.6222e+00  3e+02  2e+01  0e+00\n",
      " 1: -3.0498e+00 -2.4941e-01  8e+00  6e-01  2e-16\n",
      " 2: -1.0471e-01 -1.9006e-01  1e-01  2e-03  8e-16\n",
      " 3: -9.8014e-02 -1.0200e-01  4e-03  4e-18  2e-16\n",
      " 4: -9.9918e-02 -9.9958e-02  4e-05  2e-18  2e-16\n",
      " 5: -9.9937e-02 -9.9938e-02  4e-07  2e-18  2e-16\n",
      " 6: -9.9937e-02 -9.9938e-02  4e-09  1e-18  2e-16\n",
      "Optimal solution found.\n",
      "     pcost       dcost       gap    pres   dres\n",
      " 0: -2.2189e+01 -4.6126e+00  3e+02  2e+01  1e-16\n",
      " 1: -3.0852e+00 -2.5241e-01  9e+00  6e-01  5e-16\n",
      " 2: -1.1503e-01 -1.9148e-01  2e-01  5e-03  4e-16\n",
      " 3: -9.4376e-02 -1.0832e-01  1e-02  4e-18  2e-15\n",
      " 4: -9.4933e-02 -9.5113e-02  2e-04  5e-18  3e-16\n",
      " 5: -9.4943e-02 -9.4945e-02  2e-06  7e-18  4e-17\n",
      " 6: -9.4943e-02 -9.4943e-02  2e-08  1e-17  3e-16\n",
      "Optimal solution found.\n",
      "     pcost       dcost       gap    pres   dres\n",
      " 0: -2.2189e+01 -4.6126e+00  3e+02  2e+01  2e-16\n",
      " 1: -3.0852e+00 -2.5241e-01  9e+00  6e-01  5e-16\n",
      " 2: -1.1503e-01 -1.9148e-01  2e-01  5e-03  5e-16\n",
      " 3: -9.4376e-02 -1.0832e-01  1e-02  7e-18  3e-16\n",
      " 4: -9.4933e-02 -9.5113e-02  2e-04  1e-17  3e-16\n",
      " 5: -9.4943e-02 -9.4945e-02  2e-06  7e-18  2e-16\n",
      " 6: -9.4943e-02 -9.4943e-02  2e-08  2e-17  3e-17\n",
      "Optimal solution found.\n",
      "     pcost       dcost       gap    pres   dres\n",
      " 0: -2.2231e+01 -4.6202e+00  3e+02  2e+01  2e-16\n",
      " 1: -3.0714e+00 -2.5106e-01  8e+00  6e-01  5e-16\n",
      " 2: -1.1074e-01 -1.9083e-01  1e-01  3e-03  2e-15\n",
      " 3: -9.6586e-02 -1.0577e-01  9e-03  3e-18  5e-16\n",
      " 4: -9.7414e-02 -9.7566e-02  2e-04  1e-17  5e-16\n",
      " 5: -9.7440e-02 -9.7442e-02  2e-06  3e-18  4e-17\n",
      " 6: -9.7441e-02 -9.7441e-02  2e-08  3e-18  2e-16\n",
      "Optimal solution found.\n",
      "     pcost       dcost       gap    pres   dres\n",
      " 0: -2.1897e+01 -4.5562e+00  3e+02  2e+01  1e-16\n",
      " 1: -3.0806e+00 -2.5463e-01  1e+01  7e-01  3e-16\n",
      " 2: -1.2023e-01 -1.9279e-01  2e-01  7e-03  9e-16\n",
      " 3: -8.6771e-02 -1.1132e-01  2e-02  1e-17  9e-16\n",
      " 4: -8.7445e-02 -8.7730e-02  3e-04  3e-18  7e-16\n",
      " 5: -8.7451e-02 -8.7454e-02  3e-06  2e-18  1e-16\n",
      " 6: -8.7451e-02 -8.7451e-02  3e-08  2e-18  3e-16\n",
      "Optimal solution found.\n",
      "     pcost       dcost       gap    pres   dres\n",
      " 0: -2.2119e+01 -4.5994e+00  3e+02  2e+01  2e-16\n",
      " 1: -3.0913e+00 -2.5345e-01  9e+00  6e-01  7e-16\n",
      " 2: -1.1787e-01 -1.9201e-01  2e-01  6e-03  5e-16\n",
      " 3: -9.1913e-02 -1.0991e-01  2e-02  8e-18  4e-16\n",
      " 4: -9.2441e-02 -9.2741e-02  3e-04  1e-17  2e-16\n",
      " 5: -9.2446e-02 -9.2449e-02  3e-06  9e-18  5e-16\n",
      " 6: -9.2446e-02 -9.2446e-02  3e-08  9e-18  3e-16\n",
      "Optimal solution found.\n",
      "     pcost       dcost       gap    pres   dres\n",
      " 0: -2.2022e+01 -4.5806e+00  3e+02  2e+01  2e-16\n",
      " 1: -3.0897e+00 -2.5419e-01  9e+00  7e-01  6e-16\n",
      " 2: -1.1954e-01 -1.9245e-01  2e-01  6e-03  3e-16\n",
      " 3: -8.9383e-02 -1.1080e-01  2e-02  3e-18  8e-16\n",
      " 4: -8.9943e-02 -9.0268e-02  3e-04  4e-19  7e-16\n",
      " 5: -8.9949e-02 -8.9952e-02  3e-06  3e-17  3e-16\n",
      " 6: -8.9949e-02 -8.9949e-02  3e-08  6e-17  1e-16\n",
      "Optimal solution found.\n",
      "     pcost       dcost       gap    pres   dres\n",
      " 0: -2.2119e+01 -4.5994e+00  3e+02  2e+01  2e-16\n",
      " 1: -3.0913e+00 -2.5345e-01  9e+00  6e-01  2e-16\n",
      " 2: -1.1787e-01 -1.9201e-01  2e-01  6e-03  2e-16\n",
      " 3: -9.1913e-02 -1.0991e-01  2e-02  7e-18  5e-16\n",
      " 4: -9.2441e-02 -9.2741e-02  3e-04  2e-18  2e-16\n",
      " 5: -9.2446e-02 -9.2449e-02  3e-06  2e-17  2e-16\n",
      " 6: -9.2446e-02 -9.2446e-02  3e-08  7e-18  2e-16\n",
      "Optimal solution found.\n",
      "     pcost       dcost       gap    pres   dres\n",
      " 0: -2.2189e+01 -4.6126e+00  3e+02  2e+01  1e-16\n",
      " 1: -3.0852e+00 -2.5241e-01  9e+00  6e-01  5e-16\n",
      " 2: -1.1503e-01 -1.9148e-01  2e-01  5e-03  3e-16\n",
      " 3: -9.4376e-02 -1.0832e-01  1e-02  3e-18  6e-16\n",
      " 4: -9.4933e-02 -9.5113e-02  2e-04  5e-18  2e-16\n",
      " 5: -9.4943e-02 -9.4945e-02  2e-06  6e-18  3e-16\n",
      " 6: -9.4943e-02 -9.4943e-02  2e-08  3e-18  2e-16\n",
      "Optimal solution found.\n",
      "     pcost       dcost       gap    pres   dres\n",
      " 0: -2.2022e+01 -4.5806e+00  3e+02  2e+01  2e-16\n",
      " 1: -3.0897e+00 -2.5419e-01  9e+00  7e-01  5e-16\n",
      " 2: -1.1954e-01 -1.9245e-01  2e-01  6e-03  1e-15\n",
      " 3: -8.9383e-02 -1.1080e-01  2e-02  2e-17  2e-16\n",
      " 4: -8.9943e-02 -9.0268e-02  3e-04  3e-18  2e-16\n",
      " 5: -8.9949e-02 -8.9952e-02  3e-06  3e-18  6e-17\n",
      " 6: -8.9949e-02 -8.9949e-02  3e-08  6e-18  3e-16\n",
      "Optimal solution found.\n",
      "     pcost       dcost       gap    pres   dres\n",
      " 0: -2.2189e+01 -4.6126e+00  3e+02  2e+01  2e-16\n",
      " 1: -3.0852e+00 -2.5241e-01  9e+00  6e-01  2e-16\n",
      " 2: -1.1503e-01 -1.9148e-01  2e-01  5e-03  1e-15\n",
      " 3: -9.4376e-02 -1.0832e-01  1e-02  6e-18  5e-16\n",
      " 4: -9.4933e-02 -9.5113e-02  2e-04  5e-18  2e-16\n",
      " 5: -9.4943e-02 -9.4945e-02  2e-06  8e-18  4e-17\n",
      " 6: -9.4943e-02 -9.4943e-02  2e-08  1e-18  2e-16\n",
      "Optimal solution found.\n",
      "     pcost       dcost       gap    pres   dres\n",
      " 0: -2.2231e+01 -4.6202e+00  3e+02  2e+01  2e-16\n",
      " 1: -3.0714e+00 -2.5106e-01  8e+00  6e-01  5e-16\n",
      " 2: -1.1074e-01 -1.9083e-01  1e-01  3e-03  1e-15\n",
      " 3: -9.6586e-02 -1.0577e-01  9e-03  8e-18  5e-16\n",
      " 4: -9.7414e-02 -9.7566e-02  2e-04  2e-18  2e-16\n",
      " 5: -9.7440e-02 -9.7442e-02  2e-06  4e-18  2e-16\n",
      " 6: -9.7441e-02 -9.7441e-02  2e-08  2e-18  3e-16\n",
      "Optimal solution found.\n",
      "     pcost       dcost       gap    pres   dres\n",
      " 0: -2.2231e+01 -4.6202e+00  3e+02  2e+01  2e-16\n",
      " 1: -3.0714e+00 -2.5106e-01  8e+00  6e-01  4e-16\n",
      " 2: -1.1074e-01 -1.9083e-01  1e-01  3e-03  1e-15\n",
      " 3: -9.6586e-02 -1.0577e-01  9e-03  7e-18  3e-16\n",
      " 4: -9.7414e-02 -9.7566e-02  2e-04  2e-18  4e-17\n",
      " 5: -9.7440e-02 -9.7442e-02  2e-06  3e-18  3e-16\n",
      " 6: -9.7441e-02 -9.7441e-02  2e-08  1e-18  3e-16\n",
      "Optimal solution found.\n",
      "     pcost       dcost       gap    pres   dres\n",
      " 0: -2.2244e+01 -4.6222e+00  3e+02  2e+01  0e+00\n",
      " 1: -3.0498e+00 -2.4941e-01  8e+00  6e-01  2e-16\n",
      " 2: -1.0471e-01 -1.9006e-01  1e-01  2e-03  8e-16\n",
      " 3: -9.8014e-02 -1.0200e-01  4e-03  4e-18  3e-16\n",
      " 4: -9.9918e-02 -9.9958e-02  4e-05  2e-18  2e-16\n",
      " 5: -9.9937e-02 -9.9938e-02  4e-07  2e-18  2e-16\n",
      " 6: -9.9937e-02 -9.9938e-02  4e-09  2e-18  1e-16\n",
      "Optimal solution found.\n",
      "     pcost       dcost       gap    pres   dres\n",
      " 0: -2.2189e+01 -4.6126e+00  3e+02  2e+01  1e-16\n",
      " 1: -3.0852e+00 -2.5241e-01  9e+00  6e-01  5e-16\n",
      " 2: -1.1503e-01 -1.9148e-01  2e-01  5e-03  3e-16\n",
      " 3: -9.4376e-02 -1.0832e-01  1e-02  5e-18  6e-16\n",
      " 4: -9.4933e-02 -9.5113e-02  2e-04  5e-18  2e-16\n",
      " 5: -9.4943e-02 -9.4945e-02  2e-06  7e-18  5e-16\n",
      " 6: -9.4943e-02 -9.4943e-02  2e-08  3e-18  2e-16\n",
      "Optimal solution found.\n",
      "     pcost       dcost       gap    pres   dres\n",
      " 0: -2.2189e+01 -4.6126e+00  3e+02  2e+01  2e-16\n",
      " 1: -3.0852e+00 -2.5241e-01  9e+00  6e-01  5e-16\n",
      " 2: -1.1503e-01 -1.9148e-01  2e-01  5e-03  7e-16\n",
      " 3: -9.4376e-02 -1.0832e-01  1e-02  4e-18  8e-16\n",
      " 4: -9.4933e-02 -9.5113e-02  2e-04  3e-18  2e-16\n",
      " 5: -9.4943e-02 -9.4945e-02  2e-06  2e-17  5e-16\n",
      " 6: -9.4943e-02 -9.4943e-02  2e-08  9e-18  2e-16\n",
      "Optimal solution found.\n",
      "     pcost       dcost       gap    pres   dres\n",
      " 0: -2.2189e+01 -4.6126e+00  3e+02  2e+01  1e-16\n",
      " 1: -3.0852e+00 -2.5241e-01  9e+00  6e-01  5e-16\n",
      " 2: -1.1503e-01 -1.9148e-01  2e-01  5e-03  4e-16\n",
      " 3: -9.4376e-02 -1.0832e-01  1e-02  9e-18  1e-15\n",
      " 4: -9.4933e-02 -9.5113e-02  2e-04  6e-18  2e-16\n",
      " 5: -9.4943e-02 -9.4945e-02  2e-06  7e-18  5e-16\n",
      " 6: -9.4943e-02 -9.4943e-02  2e-08  4e-18  3e-16\n",
      "Optimal solution found.\n",
      "     pcost       dcost       gap    pres   dres\n",
      " 0: -2.2189e+01 -4.6126e+00  3e+02  2e+01  1e-16\n",
      " 1: -3.0852e+00 -2.5241e-01  9e+00  6e-01  5e-16\n",
      " 2: -1.1503e-01 -1.9148e-01  2e-01  5e-03  3e-16\n",
      " 3: -9.4376e-02 -1.0832e-01  1e-02  4e-18  6e-16\n",
      " 4: -9.4933e-02 -9.5113e-02  2e-04  6e-18  6e-16\n",
      " 5: -9.4943e-02 -9.4945e-02  2e-06  7e-18  2e-16\n",
      " 6: -9.4943e-02 -9.4943e-02  2e-08  5e-18  3e-16\n",
      "Optimal solution found.\n",
      "     pcost       dcost       gap    pres   dres\n",
      " 0: -2.2231e+01 -4.6202e+00  3e+02  2e+01  2e-16\n",
      " 1: -3.0714e+00 -2.5106e-01  8e+00  6e-01  5e-16\n",
      " 2: -1.1074e-01 -1.9083e-01  1e-01  3e-03  1e-15\n",
      " 3: -9.6586e-02 -1.0577e-01  9e-03  9e-18  2e-16\n",
      " 4: -9.7414e-02 -9.7566e-02  2e-04  1e-18  2e-16\n",
      " 5: -9.7440e-02 -9.7442e-02  2e-06  3e-18  3e-16\n",
      " 6: -9.7441e-02 -9.7441e-02  2e-08  3e-18  2e-16\n",
      "Optimal solution found.\n",
      "     pcost       dcost       gap    pres   dres\n",
      " 0: -2.2119e+01 -4.5994e+00  3e+02  2e+01  2e-16\n",
      " 1: -3.0913e+00 -2.5345e-01  9e+00  6e-01  7e-16\n",
      " 2: -1.1787e-01 -1.9201e-01  2e-01  6e-03  5e-16\n",
      " 3: -9.1913e-02 -1.0991e-01  2e-02  2e-18  6e-16\n",
      " 4: -9.2441e-02 -9.2741e-02  3e-04  9e-18  5e-16\n",
      " 5: -9.2446e-02 -9.2449e-02  3e-06  1e-17  3e-16\n",
      " 6: -9.2446e-02 -9.2446e-02  3e-08  8e-18  5e-17\n",
      "Optimal solution found.\n",
      "     pcost       dcost       gap    pres   dres\n",
      " 0: -2.2231e+01 -4.6202e+00  3e+02  2e+01  2e-16\n",
      " 1: -3.0714e+00 -2.5106e-01  8e+00  6e-01  5e-16\n",
      " 2: -1.1074e-01 -1.9083e-01  1e-01  3e-03  2e-16\n",
      " 3: -9.6586e-02 -1.0577e-01  9e-03  8e-18  5e-16\n",
      " 4: -9.7414e-02 -9.7566e-02  2e-04  4e-18  2e-16\n",
      " 5: -9.7440e-02 -9.7442e-02  2e-06  3e-18  5e-16\n",
      " 6: -9.7441e-02 -9.7441e-02  2e-08  2e-18  6e-16\n",
      "Optimal solution found.\n",
      "     pcost       dcost       gap    pres   dres\n",
      " 0: -2.2119e+01 -4.5994e+00  3e+02  2e+01  2e-16\n",
      " 1: -3.0913e+00 -2.5345e-01  9e+00  6e-01  7e-16\n",
      " 2: -1.1787e-01 -1.9201e-01  2e-01  6e-03  7e-16\n",
      " 3: -9.1913e-02 -1.0991e-01  2e-02  2e-18  3e-16\n",
      " 4: -9.2441e-02 -9.2741e-02  3e-04  6e-18  5e-16\n",
      " 5: -9.2446e-02 -9.2449e-02  3e-06  8e-18  3e-16\n",
      " 6: -9.2446e-02 -9.2446e-02  3e-08  1e-17  5e-17\n",
      "Optimal solution found.\n",
      "     pcost       dcost       gap    pres   dres\n",
      " 0: -2.2231e+01 -4.6202e+00  3e+02  2e+01  2e-16\n",
      " 1: -3.0714e+00 -2.5106e-01  8e+00  6e-01  4e-16\n",
      " 2: -1.1074e-01 -1.9083e-01  1e-01  3e-03  1e-15\n",
      " 3: -9.6586e-02 -1.0577e-01  9e-03  7e-18  6e-16\n",
      " 4: -9.7414e-02 -9.7566e-02  2e-04  6e-18  5e-16\n",
      " 5: -9.7440e-02 -9.7442e-02  2e-06  3e-18  2e-16\n",
      " 6: -9.7441e-02 -9.7441e-02  2e-08  3e-18  2e-16\n",
      "Optimal solution found.\n",
      "     pcost       dcost       gap    pres   dres\n",
      " 0: -2.1897e+01 -4.5562e+00  3e+02  2e+01  1e-16\n",
      " 1: -3.0806e+00 -2.5463e-01  1e+01  7e-01  3e-16\n",
      " 2: -1.2023e-01 -1.9279e-01  2e-01  7e-03  1e-15\n",
      " 3: -8.6771e-02 -1.1132e-01  2e-02  5e-18  4e-16\n",
      " 4: -8.7445e-02 -8.7730e-02  3e-04  3e-18  4e-16\n",
      " 5: -8.7451e-02 -8.7454e-02  3e-06  4e-18  2e-16\n"
     ]
    },
    {
     "name": "stderr",
     "output_type": "stream",
     "text": [
      "\r",
      "  3%|▎         | 1/30 [00:00<00:06,  4.57it/s]"
     ]
    },
    {
     "name": "stdout",
     "output_type": "stream",
     "text": [
      " 6: -8.7451e-02 -8.7451e-02  3e-08  6e-18  2e-16\n",
      "Optimal solution found.\n",
      "     pcost       dcost       gap    pres   dres\n",
      " 0: -2.2022e+01 -4.5806e+00  3e+02  2e+01  2e-16\n",
      " 1: -3.0897e+00 -2.5419e-01  9e+00  7e-01  6e-16\n",
      " 2: -1.1954e-01 -1.9245e-01  2e-01  6e-03  2e-16\n",
      " 3: -8.9383e-02 -1.1080e-01  2e-02  2e-17  6e-16\n",
      " 4: -8.9943e-02 -9.0268e-02  3e-04  3e-18  1e-16\n",
      " 5: -8.9949e-02 -8.9952e-02  3e-06  2e-17  5e-16\n",
      " 6: -8.9949e-02 -8.9949e-02  3e-08  7e-18  1e-16\n",
      "Optimal solution found.\n",
      "     pcost       dcost       gap    pres   dres\n",
      " 0: -2.2288e+01 -5.0830e+00  3e+02  2e+01  2e-16\n",
      " 1: -3.2391e+00 -7.4841e-01  8e+00  6e-01  4e-16\n",
      " 2: -3.3801e-01 -6.6205e-01  3e-01  5e-17  6e-16\n",
      " 3: -3.4951e-01 -3.6535e-01  2e-02  6e-18  8e-17\n",
      " 4: -3.4959e-01 -3.4980e-01  2e-04  3e-17  3e-16\n",
      " 5: -3.4963e-01 -3.4963e-01  2e-06  4e-17  3e-16\n",
      " 6: -3.4963e-01 -3.4963e-01  2e-08  4e-17  5e-17\n",
      "Optimal solution found.\n",
      "     pcost       dcost       gap    pres   dres\n",
      " 0: -2.2288e+01 -5.0830e+00  3e+02  2e+01  2e-16\n",
      " 1: -3.2391e+00 -7.4841e-01  8e+00  6e-01  4e-16\n",
      " 2: -3.3801e-01 -6.6205e-01  3e-01  5e-17  7e-16\n",
      " 3: -3.4951e-01 -3.6535e-01  2e-02  6e-18  8e-17\n",
      " 4: -3.4959e-01 -3.4980e-01  2e-04  1e-17  2e-16\n",
      " 5: -3.4963e-01 -3.4963e-01  2e-06  3e-17  3e-16\n",
      " 6: -3.4963e-01 -3.4963e-01  2e-08  3e-17  5e-17\n",
      "Optimal solution found.\n",
      "     pcost       dcost       gap    pres   dres\n",
      " 0: -2.2246e+01 -5.0774e+00  3e+02  2e+01  2e-16\n",
      " 1: -3.2533e+00 -7.5154e-01  9e+00  6e-01  5e-16\n",
      " 2: -3.3717e-01 -6.6437e-01  3e-01  7e-04  4e-16\n",
      " 3: -3.4091e-01 -3.6584e-01  3e-02  5e-05  3e-16\n",
      " 4: -3.4068e-01 -3.4093e-01  3e-04  5e-07  6e-16\n",
      " 5: -3.4068e-01 -3.4068e-01  3e-06  5e-09  8e-17\n",
      " 6: -3.4068e-01 -3.4068e-01  3e-08  5e-11  2e-16\n",
      "Optimal solution found.\n",
      "     pcost       dcost       gap    pres   dres\n",
      " 0: -2.2302e+01 -5.0829e+00  3e+02  2e+01  0e+00\n",
      " 1: -3.2169e+00 -7.4476e-01  8e+00  6e-01  2e-16\n",
      " 2: -3.4046e-01 -6.5911e-01  3e-01  7e-17  2e-16\n",
      " 3: -3.5439e-01 -3.6158e-01  7e-03  8e-18  3e-16\n",
      " 4: -3.5853e-01 -3.5860e-01  7e-05  1e-17  2e-16\n",
      " 5: -3.5857e-01 -3.5857e-01  7e-07  1e-17  2e-16\n",
      " 6: -3.5857e-01 -3.5857e-01  7e-09  1e-17  4e-16\n",
      "Optimal solution found.\n",
      "     pcost       dcost       gap    pres   dres\n",
      " 0: -2.2302e+01 -5.0829e+00  3e+02  2e+01  0e+00\n",
      " 1: -3.2169e+00 -7.4476e-01  8e+00  6e-01  2e-16\n",
      " 2: -3.4046e-01 -6.5911e-01  3e-01  7e-17  2e-16\n",
      " 3: -3.5439e-01 -3.6158e-01  7e-03  8e-18  3e-16\n",
      " 4: -3.5853e-01 -3.5860e-01  7e-05  1e-17  2e-16\n",
      " 5: -3.5857e-01 -3.5857e-01  7e-07  8e-18  3e-16\n",
      " 6: -3.5857e-01 -3.5857e-01  7e-09  1e-17  3e-16\n",
      "Optimal solution found.\n",
      "     pcost       dcost       gap    pres   dres\n",
      " 0: -2.2246e+01 -5.0774e+00  3e+02  2e+01  2e-16\n",
      " 1: -3.2533e+00 -7.5154e-01  9e+00  6e-01  5e-16\n",
      " 2: -3.3717e-01 -6.6437e-01  3e-01  7e-04  6e-16\n",
      " 3: -3.4091e-01 -3.6584e-01  3e-02  5e-05  2e-16\n",
      " 4: -3.4068e-01 -3.4093e-01  3e-04  5e-07  2e-16\n",
      " 5: -3.4068e-01 -3.4068e-01  3e-06  5e-09  9e-17\n",
      " 6: -3.4068e-01 -3.4068e-01  3e-08  5e-11  4e-17\n",
      "Optimal solution found.\n",
      "     pcost       dcost       gap    pres   dres\n",
      " 0: -2.2288e+01 -5.0830e+00  3e+02  2e+01  2e-16\n",
      " 1: -3.2391e+00 -7.4841e-01  8e+00  6e-01  4e-16\n",
      " 2: -3.3801e-01 -6.6205e-01  3e-01  2e-16  0e+00\n",
      " 3: -3.4951e-01 -3.6535e-01  2e-02  2e-17  4e-16\n",
      " 4: -3.4959e-01 -3.4980e-01  2e-04  1e-17  2e-16\n",
      " 5: -3.4963e-01 -3.4963e-01  2e-06  1e-17  3e-16\n",
      " 6: -3.4963e-01 -3.4963e-01  2e-08  4e-17  2e-16\n",
      "Optimal solution found.\n",
      "     pcost       dcost       gap    pres   dres\n",
      " 0: -2.2177e+01 -5.0660e+00  3e+02  2e+01  3e-16\n",
      " 1: -3.2594e+00 -7.5416e-01  9e+00  6e-01  4e-16\n",
      " 2: -3.4601e-01 -6.6624e-01  4e-01  4e-03  6e-16\n",
      " 3: -3.3219e-01 -3.4434e-01  1e-02  9e-05  6e-16\n",
      " 4: -3.3174e-01 -3.3186e-01  1e-04  9e-07  1e-15\n",
      " 5: -3.3173e-01 -3.3173e-01  1e-06  9e-09  2e-16\n",
      " 6: -3.3173e-01 -3.3173e-01  1e-08  9e-11  2e-15\n",
      "Optimal solution found.\n",
      "     pcost       dcost       gap    pres   dres\n",
      " 0: -2.2288e+01 -5.0830e+00  3e+02  2e+01  2e-16\n",
      " 1: -3.2391e+00 -7.4841e-01  8e+00  6e-01  4e-16\n",
      " 2: -3.3801e-01 -6.6205e-01  3e-01  7e-17  9e-16\n",
      " 3: -3.4951e-01 -3.6535e-01  2e-02  5e-18  4e-16\n",
      " 4: -3.4959e-01 -3.4980e-01  2e-04  4e-17  2e-16\n",
      " 5: -3.4963e-01 -3.4963e-01  2e-06  4e-17  3e-16\n",
      " 6: -3.4963e-01 -3.4963e-01  2e-08  4e-17  2e-16\n",
      "Optimal solution found.\n",
      "     pcost       dcost       gap    pres   dres\n",
      " 0: -2.2177e+01 -5.0660e+00  3e+02  2e+01  3e-16\n",
      " 1: -3.2594e+00 -7.5416e-01  9e+00  6e-01  4e-16\n",
      " 2: -3.4601e-01 -6.6624e-01  4e-01  4e-03  4e-16\n",
      " 3: -3.3219e-01 -3.4434e-01  1e-02  9e-05  1e-16\n",
      " 4: -3.3174e-01 -3.3186e-01  1e-04  9e-07  1e-15\n",
      " 5: -3.3173e-01 -3.3173e-01  1e-06  9e-09  8e-16\n",
      " 6: -3.3173e-01 -3.3173e-01  1e-08  9e-11  2e-15\n",
      "Optimal solution found.\n",
      "     pcost       dcost       gap    pres   dres\n",
      " 0: -2.1954e+01 -5.0260e+00  3e+02  2e+01  2e-16\n",
      " 1: -3.2478e+00 -7.5785e-01  1e+01  7e-01  4e-16\n",
      " 2: -3.5229e-01 -6.6848e-01  5e-01  8e-03  1e-15\n",
      " 3: -3.1321e-01 -3.3178e-01  2e-02  9e-18  2e-16\n",
      " 4: -3.1382e-01 -3.1401e-01  2e-04  3e-17  2e-16\n",
      " 5: -3.1383e-01 -3.1383e-01  2e-06  8e-18  2e-17\n",
      " 6: -3.1383e-01 -3.1383e-01  2e-08  1e-17  2e-16\n",
      "Optimal solution found.\n",
      "     pcost       dcost       gap    pres   dres\n",
      " 0: -2.2177e+01 -5.0660e+00  3e+02  2e+01  3e-16\n",
      " 1: -3.2594e+00 -7.5416e-01  9e+00  6e-01  4e-16\n",
      " 2: -3.4601e-01 -6.6624e-01  4e-01  4e-03  3e-16\n",
      " 3: -3.3219e-01 -3.4434e-01  1e-02  9e-05  0e+00\n",
      " 4: -3.3174e-01 -3.3186e-01  1e-04  9e-07  5e-16\n",
      " 5: -3.3173e-01 -3.3173e-01  1e-06  9e-09  3e-16\n",
      " 6: -3.3173e-01 -3.3173e-01  1e-08  9e-11  2e-15\n",
      "Optimal solution found.\n",
      "     pcost       dcost       gap    pres   dres\n",
      " 0: -2.2288e+01 -5.0830e+00  3e+02  2e+01  2e-16\n",
      " 1: -3.2391e+00 -7.4841e-01  8e+00  6e-01  4e-16\n",
      " 2: -3.3801e-01 -6.6205e-01  3e-01  5e-17  7e-16\n",
      " 3: -3.4951e-01 -3.6535e-01  2e-02  2e-17  4e-16\n",
      " 4: -3.4959e-01 -3.4980e-01  2e-04  7e-18  2e-16\n",
      " 5: -3.4963e-01 -3.4963e-01  2e-06  1e-17  5e-16\n",
      " 6: -3.4963e-01 -3.4963e-01  2e-08  3e-17  5e-16\n",
      "Optimal solution found.\n",
      "     pcost       dcost       gap    pres   dres\n",
      " 0: -2.2246e+01 -5.0774e+00  3e+02  2e+01  3e-16\n",
      " 1: -3.2533e+00 -7.5154e-01  9e+00  6e-01  7e-16\n",
      " 2: -3.3717e-01 -6.6437e-01  3e-01  7e-04  9e-16\n",
      " 3: -3.4091e-01 -3.6584e-01  3e-02  5e-05  8e-17\n",
      " 4: -3.4068e-01 -3.4093e-01  3e-04  5e-07  5e-16\n",
      " 5: -3.4068e-01 -3.4068e-01  3e-06  5e-09  2e-16\n",
      " 6: -3.4068e-01 -3.4068e-01  3e-08  5e-11  5e-16\n",
      "Optimal solution found.\n",
      "     pcost       dcost       gap    pres   dres\n",
      " 0: -2.2288e+01 -5.0830e+00  3e+02  2e+01  2e-16\n",
      " 1: -3.2391e+00 -7.4841e-01  8e+00  6e-01  8e-16\n",
      " 2: -3.3801e-01 -6.6205e-01  3e-01  5e-17  2e-15\n",
      " 3: -3.4951e-01 -3.6535e-01  2e-02  6e-18  5e-16\n",
      " 4: -3.4959e-01 -3.4980e-01  2e-04  8e-18  2e-16\n",
      " 5: -3.4963e-01 -3.4963e-01  2e-06  6e-17  2e-16\n",
      " 6: -3.4963e-01 -3.4963e-01  2e-08  3e-17  5e-17\n",
      "Optimal solution found.\n",
      "     pcost       dcost       gap    pres   dres\n",
      " 0: -2.2302e+01 -5.0829e+00  3e+02  2e+01  0e+00\n",
      " 1: -3.2169e+00 -7.4476e-01  8e+00  6e-01  2e-16\n",
      " 2: -3.4046e-01 -6.5911e-01  3e-01  7e-17  2e-16\n",
      " 3: -3.5439e-01 -3.6158e-01  7e-03  8e-18  1e-16\n",
      " 4: -3.5853e-01 -3.5860e-01  7e-05  2e-17  2e-16\n",
      " 5: -3.5857e-01 -3.5857e-01  7e-07  8e-18  3e-16\n",
      " 6: -3.5857e-01 -3.5857e-01  7e-09  5e-18  2e-16\n",
      "Optimal solution found.\n",
      "     pcost       dcost       gap    pres   dres\n",
      " 0: -2.2302e+01 -5.0829e+00  3e+02  2e+01  0e+00\n",
      " 1: -3.2169e+00 -7.4476e-01  8e+00  6e-01  2e-16\n",
      " 2: -3.4046e-01 -6.5911e-01  3e-01  7e-17  2e-16\n",
      " 3: -3.5439e-01 -3.6158e-01  7e-03  8e-18  1e-16\n",
      " 4: -3.5853e-01 -3.5860e-01  7e-05  2e-17  2e-16\n",
      " 5: -3.5857e-01 -3.5857e-01  7e-07  5e-18  1e-16\n",
      " 6: -3.5857e-01 -3.5857e-01  7e-09  1e-17  2e-16\n",
      "Optimal solution found.\n",
      "     pcost       dcost       gap    pres   dres\n",
      " 0: -2.2288e+01 -5.0830e+00  3e+02  2e+01  2e-16\n",
      " 1: -3.2391e+00 -7.4841e-01  8e+00  6e-01  4e-16\n",
      " 2: -3.3801e-01 -6.6205e-01  3e-01  2e-16  1e-15\n",
      " 3: -3.4951e-01 -3.6535e-01  2e-02  6e-18  5e-16\n",
      " 4: -3.4959e-01 -3.4980e-01  2e-04  4e-17  3e-16\n",
      " 5: -3.4963e-01 -3.4963e-01  2e-06  3e-17  2e-16\n",
      " 6: -3.4963e-01 -3.4963e-01  2e-08  4e-17  6e-16\n",
      "Optimal solution found.\n",
      "     pcost       dcost       gap    pres   dres\n",
      " 0: -2.2246e+01 -5.0774e+00  3e+02  2e+01  2e-16\n",
      " 1: -3.2533e+00 -7.5154e-01  9e+00  6e-01  3e-16\n",
      " 2: -3.3717e-01 -6.6437e-01  3e-01  7e-04  2e-15\n",
      " 3: -3.4091e-01 -3.6584e-01  3e-02  5e-05  2e-16\n",
      " 4: -3.4068e-01 -3.4093e-01  3e-04  5e-07  2e-16\n",
      " 5: -3.4068e-01 -3.4068e-01  3e-06  5e-09  2e-16\n",
      " 6: -3.4068e-01 -3.4068e-01  3e-08  5e-11  4e-17\n",
      "Optimal solution found.\n",
      "     pcost       dcost       gap    pres   dres\n",
      " 0: -2.2288e+01 -5.0830e+00  3e+02  2e+01  2e-16\n",
      " 1: -3.2391e+00 -7.4841e-01  8e+00  6e-01  4e-16\n",
      " 2: -3.3801e-01 -6.6205e-01  3e-01  5e-17  6e-16\n",
      " 3: -3.4951e-01 -3.6535e-01  2e-02  9e-18  0e+00\n",
      " 4: -3.4959e-01 -3.4980e-01  2e-04  7e-18  2e-16\n",
      " 5: -3.4963e-01 -3.4963e-01  2e-06  3e-17  3e-16\n",
      " 6: -3.4963e-01 -3.4963e-01  2e-08  3e-17  2e-16\n",
      "Optimal solution found.\n",
      "     pcost       dcost       gap    pres   dres\n",
      " 0: -2.2246e+01 -5.0774e+00  3e+02  2e+01  3e-16\n",
      " 1: -3.2533e+00 -7.5154e-01  9e+00  6e-01  6e-16\n",
      " 2: -3.3717e-01 -6.6437e-01  3e-01  7e-04  7e-16\n",
      " 3: -3.4091e-01 -3.6584e-01  3e-02  5e-05  2e-16\n",
      " 4: -3.4068e-01 -3.4093e-01  3e-04  5e-07  6e-16\n",
      " 5: -3.4068e-01 -3.4068e-01  3e-06  5e-09  9e-17\n",
      " 6: -3.4068e-01 -3.4068e-01  3e-08  5e-11  5e-16\n",
      "Optimal solution found.\n",
      "     pcost       dcost       gap    pres   dres\n",
      " 0: -2.2246e+01 -5.0774e+00  3e+02  2e+01  2e-16\n",
      " 1: -3.2533e+00 -7.5154e-01  9e+00  6e-01  5e-16\n",
      " 2: -3.3717e-01 -6.6437e-01  3e-01  7e-04  7e-16\n",
      " 3: -3.4091e-01 -3.6584e-01  3e-02  5e-05  2e-16\n",
      " 4: -3.4068e-01 -3.4093e-01  3e-04  5e-07  2e-16\n",
      " 5: -3.4068e-01 -3.4068e-01  3e-06  5e-09  9e-17\n",
      " 6: -3.4068e-01 -3.4068e-01  3e-08  5e-11  2e-16\n",
      "Optimal solution found.\n",
      "     pcost       dcost       gap    pres   dres\n",
      " 0: -2.2079e+01 -5.0489e+00  3e+02  2e+01  2e-16\n",
      " 1: -3.2575e+00 -7.5626e-01  9e+00  7e-01  2e-16\n",
      " 2: -3.5076e-01 -6.6759e-01  4e-01  6e-03  7e-16\n",
      " 3: -3.2249e-01 -3.3384e-01  1e-02  2e-17  1e-15\n",
      " 4: -3.2278e-01 -3.2289e-01  1e-04  2e-17  4e-16\n",
      " 5: -3.2278e-01 -3.2278e-01  1e-06  1e-17  6e-16\n",
      " 6: -3.2278e-01 -3.2278e-01  1e-08  8e-18  4e-16\n",
      "Optimal solution found.\n",
      "     pcost       dcost       gap    pres   dres\n",
      " 0: -2.2246e+01 -5.0774e+00  3e+02  2e+01  3e-16\n",
      " 1: -3.2533e+00 -7.5154e-01  9e+00  6e-01  8e-16\n",
      " 2: -3.3717e-01 -6.6437e-01  3e-01  7e-04  7e-16\n",
      " 3: -3.4091e-01 -3.6584e-01  3e-02  5e-05  2e-16\n",
      " 4: -3.4068e-01 -3.4093e-01  3e-04  5e-07  5e-16\n",
      " 5: -3.4068e-01 -3.4068e-01  3e-06  5e-09  2e-16\n",
      " 6: -3.4068e-01 -3.4068e-01  3e-08  5e-11  3e-16\n",
      "Optimal solution found.\n",
      "     pcost       dcost       gap    pres   dres\n",
      " 0: -2.2246e+01 -5.0774e+00  3e+02  2e+01  2e-16\n",
      " 1: -3.2533e+00 -7.5154e-01  9e+00  6e-01  5e-16\n"
     ]
    },
    {
     "name": "stderr",
     "output_type": "stream",
     "text": [
      "/Users/leo/anaconda3/envs/Python37/lib/python3.7/site-packages/numpy/core/fromnumeric.py:3335: RuntimeWarning: Mean of empty slice.\n",
      "  out=out, **kwargs)\n",
      "/Users/leo/anaconda3/envs/Python37/lib/python3.7/site-packages/numpy/core/_methods.py:161: RuntimeWarning: invalid value encountered in double_scalars\n",
      "  ret = ret.dtype.type(ret / rcount)\n",
      " 10%|█         | 3/30 [00:00<00:05,  4.99it/s]"
     ]
    },
    {
     "name": "stdout",
     "output_type": "stream",
     "text": [
      " 2: -3.3717e-01 -6.6437e-01  3e-01  7e-04  5e-16\n",
      " 3: -3.4091e-01 -3.6584e-01  3e-02  5e-05  3e-16\n",
      " 4: -3.4068e-01 -3.4093e-01  3e-04  5e-07  2e-16\n",
      " 5: -3.4068e-01 -3.4068e-01  3e-06  5e-09  2e-16\n",
      " 6: -3.4068e-01 -3.4068e-01  3e-08  5e-11  4e-17\n",
      "Optimal solution found.\n",
      "     pcost       dcost       gap    pres   dres\n",
      " 0: -2.2452e+01 -6.7440e+00  3e+02  2e+01  0e+00\n",
      " 1: -3.8532e+00 -2.5284e+00  9e+00  6e-01  2e-16\n",
      " 2: -1.1944e+00 -2.1227e+00  9e-01  3e-16  6e-16\n",
      " 3: -1.2173e+00 -1.3002e+00  8e-02  1e-16  4e-17\n",
      " 4: -1.2175e+00 -1.2184e+00  8e-04  2e-16  8e-17\n",
      " 5: -1.2175e+00 -1.2175e+00  8e-06  8e-17  5e-17\n",
      " 6: -1.2175e+00 -1.2175e+00  8e-08  1e-16  2e-16\n",
      "Optimal solution found.\n",
      "     pcost       dcost       gap    pres   dres\n",
      " 0: -2.2452e+01 -6.7440e+00  3e+02  2e+01  0e+00\n",
      " 1: -3.8532e+00 -2.5284e+00  9e+00  6e-01  2e-16\n",
      " 2: -1.1944e+00 -2.1227e+00  9e-01  2e-16  6e-16\n",
      " 3: -1.2173e+00 -1.3002e+00  8e-02  7e-17  2e-16\n",
      " 4: -1.2175e+00 -1.2184e+00  8e-04  3e-17  2e-16\n",
      " 5: -1.2175e+00 -1.2175e+00  8e-06  3e-17  2e-16\n",
      " 6: -1.2175e+00 -1.2175e+00  8e-08  1e-16  1e-17\n",
      "Optimal solution found.\n",
      "     pcost       dcost       gap    pres   dres\n",
      " 0: -2.2381e+01 -6.7393e+00  3e+02  2e+01  0e+00\n",
      " 1: -3.8592e+00 -2.5367e+00  9e+00  6e-01  4e-16\n",
      " 2: -1.1733e+00 -2.1276e+00  1e+00  1e-16  6e-16\n",
      " 3: -1.1856e+00 -1.2337e+00  5e-02  4e-17  2e-16\n",
      " 4: -1.1857e+00 -1.1862e+00  5e-04  5e-17  3e-16\n",
      " 5: -1.1857e+00 -1.1857e+00  5e-06  1e-16  4e-17\n",
      " 6: -1.1857e+00 -1.1857e+00  5e-08  7e-17  2e-16\n",
      "Optimal solution found.\n",
      "     pcost       dcost       gap    pres   dres\n",
      " 0: -2.2494e+01 -6.7425e+00  3e+02  2e+01  0e+00\n",
      " 1: -3.8381e+00 -2.5188e+00  9e+00  6e-01  5e-16\n",
      " 2: -1.2105e+00 -2.1144e+00  9e-01  2e-16  9e-16\n",
      " 3: -1.2490e+00 -1.3321e+00  8e-02  6e-17  1e-16\n",
      " 4: -1.2492e+00 -1.2502e+00  9e-04  5e-17  2e-16\n",
      " 5: -1.2493e+00 -1.2494e+00  9e-06  6e-17  5e-17\n",
      " 6: -1.2493e+00 -1.2493e+00  9e-08  3e-17  2e-16\n",
      "Optimal solution found.\n",
      "     pcost       dcost       gap    pres   dres\n",
      " 0: -2.2283e+01 -6.7282e+00  3e+02  2e+01  8e-17\n",
      " 1: -3.8562e+00 -2.5437e+00  1e+01  6e-01  7e-16\n",
      " 2: -1.1539e+00 -2.1307e+00  1e+00  1e-03  4e-16\n",
      " 3: -1.1540e+00 -1.1766e+00  2e-02  3e-05  4e-17\n",
      " 4: -1.1539e+00 -1.1541e+00  2e-04  3e-07  6e-16\n",
      " 5: -1.1539e+00 -1.1539e+00  2e-06  3e-09  6e-16\n",
      " 6: -1.1539e+00 -1.1539e+00  2e-08  3e-11  6e-16\n",
      "Optimal solution found.\n",
      "     pcost       dcost       gap    pres   dres\n",
      " 0: -2.2508e+01 -6.7347e+00  3e+02  2e+01  0e+00\n",
      " 1: -3.8137e+00 -2.5079e+00  8e+00  5e-01  3e-16\n",
      " 2: -1.2202e+00 -2.1014e+00  9e-01  9e-17  9e-16\n",
      " 3: -1.2705e+00 -1.2893e+00  2e-02  3e-17  4e-16\n",
      " 4: -1.2810e+00 -1.2812e+00  2e-04  7e-18  2e-16\n",
      " 5: -1.2811e+00 -1.2811e+00  2e-06  0e+00  2e-16\n",
      " 6: -1.2811e+00 -1.2811e+00  2e-08  6e-17  3e-16\n",
      "Optimal solution found.\n",
      "     pcost       dcost       gap    pres   dres\n",
      " 0: -2.2452e+01 -6.7440e+00  3e+02  2e+01  0e+00\n",
      " 1: -3.8532e+00 -2.5284e+00  9e+00  6e-01  2e-16\n",
      " 2: -1.1944e+00 -2.1227e+00  9e-01  2e-16  6e-16\n",
      " 3: -1.2173e+00 -1.3002e+00  8e-02  4e-17  3e-16\n",
      " 4: -1.2175e+00 -1.2184e+00  8e-04  9e-17  1e-17\n",
      " 5: -1.2175e+00 -1.2175e+00  8e-06  3e-17  9e-16\n",
      " 6: -1.2175e+00 -1.2175e+00  8e-08  3e-17  2e-16\n",
      "Optimal solution found.\n",
      "     pcost       dcost       gap    pres   dres\n",
      " 0: -2.2283e+01 -6.7282e+00  3e+02  2e+01  8e-17\n",
      " 1: -3.8562e+00 -2.5437e+00  1e+01  6e-01  7e-16\n",
      " 2: -1.1539e+00 -2.1307e+00  1e+00  1e-03  1e-15\n",
      " 3: -1.1540e+00 -1.1766e+00  2e-02  3e-05  3e-16\n",
      " 4: -1.1539e+00 -1.1541e+00  2e-04  3e-07  2e-16\n",
      " 5: -1.1539e+00 -1.1539e+00  2e-06  3e-09  3e-16\n",
      " 6: -1.1539e+00 -1.1539e+00  2e-08  3e-11  3e-17\n",
      "Optimal solution found.\n",
      "     pcost       dcost       gap    pres   dres\n",
      " 0: -2.2452e+01 -6.7440e+00  3e+02  2e+01  0e+00\n",
      " 1: -3.8532e+00 -2.5284e+00  9e+00  6e-01  2e-16\n",
      " 2: -1.1944e+00 -2.1227e+00  9e-01  2e-16  5e-16\n",
      " 3: -1.2173e+00 -1.3002e+00  8e-02  4e-17  6e-16\n",
      " 4: -1.2175e+00 -1.2184e+00  8e-04  9e-17  9e-17\n",
      " 5: -1.2175e+00 -1.2175e+00  8e-06  7e-17  2e-16\n",
      " 6: -1.2175e+00 -1.2175e+00  8e-08  1e-16  2e-16\n",
      "Optimal solution found.\n",
      "     pcost       dcost       gap    pres   dres\n",
      " 0: -2.2508e+01 -6.7347e+00  3e+02  2e+01  0e+00\n",
      " 1: -3.8137e+00 -2.5079e+00  8e+00  5e-01  3e-16\n",
      " 2: -1.2202e+00 -2.1014e+00  9e-01  9e-17  9e-16\n",
      " 3: -1.2705e+00 -1.2893e+00  2e-02  3e-17  4e-16\n",
      " 4: -1.2810e+00 -1.2812e+00  2e-04  6e-17  8e-17\n",
      " 5: -1.2811e+00 -1.2811e+00  2e-06  1e-16  8e-17\n",
      " 6: -1.2811e+00 -1.2811e+00  2e-08  3e-17  3e-16\n",
      "Optimal solution found.\n",
      "     pcost       dcost       gap    pres   dres\n",
      " 0: -2.2494e+01 -6.7425e+00  3e+02  2e+01  0e+00\n",
      " 1: -3.8381e+00 -2.5188e+00  9e+00  6e-01  5e-16\n",
      " 2: -1.2105e+00 -2.1144e+00  9e-01  2e-16  8e-16\n",
      " 3: -1.2490e+00 -1.3321e+00  8e-02  8e-17  2e-16\n",
      " 4: -1.2492e+00 -1.2502e+00  9e-04  7e-17  2e-16\n",
      " 5: -1.2493e+00 -1.2494e+00  9e-06  9e-17  2e-16\n",
      " 6: -1.2493e+00 -1.2493e+00  9e-08  1e-17  3e-16\n",
      "Optimal solution found.\n",
      "     pcost       dcost       gap    pres   dres\n",
      " 0: -2.2381e+01 -6.7393e+00  3e+02  2e+01  0e+00\n",
      " 1: -3.8592e+00 -2.5367e+00  9e+00  6e-01  3e-16\n",
      " 2: -1.1733e+00 -2.1276e+00  1e+00  1e-16  4e-16\n",
      " 3: -1.1856e+00 -1.2337e+00  5e-02  2e-17  3e-16\n",
      " 4: -1.1857e+00 -1.1862e+00  5e-04  2e-17  5e-17\n",
      " 5: -1.1857e+00 -1.1857e+00  5e-06  1e-16  3e-16\n",
      " 6: -1.1857e+00 -1.1857e+00  5e-08  8e-17  3e-17\n",
      "Optimal solution found.\n",
      "     pcost       dcost       gap    pres   dres\n",
      " 0: -2.2452e+01 -6.7440e+00  3e+02  2e+01  0e+00\n",
      " 1: -3.8532e+00 -2.5284e+00  9e+00  6e-01  2e-16\n",
      " 2: -1.1944e+00 -2.1227e+00  9e-01  5e-16  9e-16\n",
      " 3: -1.2173e+00 -1.3002e+00  8e-02  2e-17  3e-16\n",
      " 4: -1.2175e+00 -1.2184e+00  8e-04  5e-17  6e-16\n",
      " 5: -1.2175e+00 -1.2175e+00  8e-06  3e-17  5e-16\n",
      " 6: -1.2175e+00 -1.2175e+00  8e-08  3e-17  1e-17\n",
      "Optimal solution found.\n",
      "     pcost       dcost       gap    pres   dres\n",
      " 0: -2.2452e+01 -6.7440e+00  3e+02  2e+01  0e+00\n",
      " 1: -3.8532e+00 -2.5284e+00  9e+00  6e-01  2e-16\n",
      " 2: -1.1944e+00 -2.1227e+00  9e-01  2e-16  6e-16\n",
      " 3: -1.2173e+00 -1.3002e+00  8e-02  3e-17  5e-16\n",
      " 4: -1.2175e+00 -1.2184e+00  8e-04  6e-17  8e-17\n",
      " 5: -1.2175e+00 -1.2175e+00  8e-06  4e-17  5e-17\n",
      " 6: -1.2175e+00 -1.2175e+00  8e-08  4e-17  6e-16\n",
      "Optimal solution found.\n",
      "     pcost       dcost       gap    pres   dres\n",
      " 0: -2.2452e+01 -6.7440e+00  3e+02  2e+01  0e+00\n",
      " 1: -3.8532e+00 -2.5284e+00  9e+00  6e-01  2e-16\n",
      " 2: -1.1944e+00 -2.1227e+00  9e-01  2e-16  6e-16\n",
      " 3: -1.2173e+00 -1.3002e+00  8e-02  2e-17  3e-16\n",
      " 4: -1.2175e+00 -1.2184e+00  8e-04  3e-17  2e-16\n",
      " 5: -1.2175e+00 -1.2175e+00  8e-06  4e-17  3e-16\n",
      " 6: -1.2175e+00 -1.2175e+00  8e-08  8e-17  1e-17\n",
      "Optimal solution found.\n",
      "     pcost       dcost       gap    pres   dres\n",
      " 0: -2.2508e+01 -6.7347e+00  3e+02  2e+01  0e+00\n",
      " 1: -3.8137e+00 -2.5079e+00  8e+00  5e-01  3e-16\n",
      " 2: -1.2202e+00 -2.1014e+00  9e-01  9e-17  9e-16\n",
      " 3: -1.2705e+00 -1.2893e+00  2e-02  3e-17  4e-16\n",
      " 4: -1.2810e+00 -1.2812e+00  2e-04  7e-18  8e-17\n",
      " 5: -1.2811e+00 -1.2811e+00  2e-06  0e+00  2e-16\n",
      " 6: -1.2811e+00 -1.2811e+00  2e-08  3e-17  2e-16\n",
      "Optimal solution found.\n",
      "     pcost       dcost       gap    pres   dres\n",
      " 0: -2.2452e+01 -6.7440e+00  3e+02  2e+01  0e+00\n",
      " 1: -3.8532e+00 -2.5284e+00  9e+00  6e-01  2e-16\n",
      " 2: -1.1944e+00 -2.1227e+00  9e-01  2e-16  6e-16\n",
      " 3: -1.2173e+00 -1.3002e+00  8e-02  2e-17  3e-16\n",
      " 4: -1.2175e+00 -1.2184e+00  8e-04  7e-17  2e-16\n",
      " 5: -1.2175e+00 -1.2175e+00  8e-06  5e-17  3e-16\n",
      " 6: -1.2175e+00 -1.2175e+00  8e-08  5e-17  2e-16\n",
      "Optimal solution found.\n",
      "     pcost       dcost       gap    pres   dres\n",
      " 0: -2.2452e+01 -6.7440e+00  3e+02  2e+01  0e+00\n",
      " 1: -3.8532e+00 -2.5284e+00  9e+00  6e-01  2e-16\n",
      " 2: -1.1944e+00 -2.1227e+00  9e-01  2e-16  6e-16\n",
      " 3: -1.2173e+00 -1.3002e+00  8e-02  3e-17  2e-16\n",
      " 4: -1.2175e+00 -1.2184e+00  8e-04  3e-17  9e-17\n",
      " 5: -1.2175e+00 -1.2175e+00  8e-06  6e-17  5e-17\n",
      " 6: -1.2175e+00 -1.2175e+00  8e-08  8e-17  6e-16\n",
      "Optimal solution found.\n",
      "     pcost       dcost       gap    pres   dres\n",
      " 0: -2.2508e+01 -6.7347e+00  3e+02  2e+01  0e+00\n",
      " 1: -3.8137e+00 -2.5079e+00  8e+00  5e-01  3e-16\n",
      " 2: -1.2202e+00 -2.1014e+00  9e-01  9e-17  9e-16\n",
      " 3: -1.2705e+00 -1.2893e+00  2e-02  3e-17  2e-16\n",
      " 4: -1.2810e+00 -1.2812e+00  2e-04  4e-17  2e-16\n",
      " 5: -1.2811e+00 -1.2811e+00  2e-06  5e-17  2e-16\n",
      " 6: -1.2811e+00 -1.2811e+00  2e-08  5e-17  2e-16\n",
      "Optimal solution found.\n",
      "     pcost       dcost       gap    pres   dres\n",
      " 0: -2.2508e+01 -6.7347e+00  3e+02  2e+01  0e+00\n",
      " 1: -3.8137e+00 -2.5079e+00  8e+00  5e-01  3e-16\n",
      " 2: -1.2202e+00 -2.1014e+00  9e-01  9e-17  9e-16\n",
      " 3: -1.2705e+00 -1.2893e+00  2e-02  3e-17  2e-16\n",
      " 4: -1.2810e+00 -1.2812e+00  2e-04  4e-17  2e-16\n",
      " 5: -1.2811e+00 -1.2811e+00  2e-06  3e-17  2e-16\n",
      " 6: -1.2811e+00 -1.2811e+00  2e-08  3e-17  8e-17\n",
      "Optimal solution found.\n",
      "     pcost       dcost       gap    pres   dres\n",
      " 0: -2.2494e+01 -6.7425e+00  3e+02  2e+01  0e+00\n",
      " 1: -3.8381e+00 -2.5188e+00  9e+00  6e-01  5e-16\n",
      " 2: -1.2105e+00 -2.1144e+00  9e-01  3e-16  1e-15\n",
      " 3: -1.2490e+00 -1.3321e+00  8e-02  1e-16  1e-16\n",
      " 4: -1.2492e+00 -1.2502e+00  9e-04  2e-17  2e-16\n",
      " 5: -1.2493e+00 -1.2494e+00  9e-06  1e-16  3e-16\n",
      " 6: -1.2493e+00 -1.2493e+00  9e-08  3e-17  4e-17\n",
      "Optimal solution found.\n",
      "     pcost       dcost       gap    pres   dres\n",
      " 0: -2.2452e+01 -6.7440e+00  3e+02  2e+01  0e+00\n",
      " 1: -3.8532e+00 -2.5284e+00  9e+00  6e-01  2e-16\n",
      " 2: -1.1944e+00 -2.1227e+00  9e-01  2e-16  5e-16\n",
      " 3: -1.2173e+00 -1.3002e+00  8e-02  6e-17  3e-16\n",
      " 4: -1.2175e+00 -1.2184e+00  8e-04  3e-17  3e-16\n",
      " 5: -1.2175e+00 -1.2175e+00  8e-06  5e-17  5e-17\n",
      " 6: -1.2175e+00 -1.2175e+00  8e-08  1e-16  2e-16\n",
      "Optimal solution found.\n",
      "     pcost       dcost       gap    pres   dres\n",
      " 0: -2.2494e+01 -6.7425e+00  3e+02  2e+01  0e+00\n",
      " 1: -3.8381e+00 -2.5188e+00  9e+00  6e-01  5e-16\n",
      " 2: -1.2105e+00 -2.1144e+00  9e-01  3e-16  1e-15\n",
      " 3: -1.2490e+00 -1.3321e+00  8e-02  2e-16  2e-16\n",
      " 4: -1.2492e+00 -1.2502e+00  9e-04  2e-17  2e-16\n",
      " 5: -1.2493e+00 -1.2494e+00  9e-06  1e-16  5e-16\n",
      " 6: -1.2493e+00 -1.2493e+00  9e-08  3e-17  3e-16\n",
      "Optimal solution found.\n",
      "     pcost       dcost       gap    pres   dres\n",
      " 0: -2.2283e+01 -6.7282e+00  3e+02  2e+01  8e-17\n",
      " 1: -3.8562e+00 -2.5437e+00  1e+01  6e-01  7e-16\n",
      " 2: -1.1539e+00 -2.1307e+00  1e+00  1e-03  7e-16\n",
      " 3: -1.1540e+00 -1.1766e+00  2e-02  3e-05  5e-16\n",
      " 4: -1.1539e+00 -1.1541e+00  2e-04  3e-07  6e-16\n",
      " 5: -1.1539e+00 -1.1539e+00  2e-06  3e-09  6e-16\n",
      " 6: -1.1539e+00 -1.1539e+00  2e-08  3e-11  6e-16\n",
      "Optimal solution found.\n",
      "     pcost       dcost       gap    pres   dres\n",
      " 0: -2.2508e+01 -6.7347e+00  3e+02  2e+01  0e+00\n",
      " 1: -3.8137e+00 -2.5079e+00  8e+00  5e-01  3e-16\n",
      " 2: -1.2202e+00 -2.1014e+00  9e-01  9e-17  9e-16\n",
      " 3: -1.2705e+00 -1.2893e+00  2e-02  3e-17  4e-16\n",
      " 4: -1.2810e+00 -1.2812e+00  2e-04  4e-17  2e-16\n",
      " 5: -1.2811e+00 -1.2811e+00  2e-06  9e-17  0e+00\n",
      " 6: -1.2811e+00 -1.2811e+00  2e-08  0e+00  8e-17\n",
      "Optimal solution found.\n",
      "     pcost       dcost       gap    pres   dres\n",
      " 0: -2.3108e+01 -1.2707e+01  3e+02  2e+01  3e-16\n",
      " 1: -5.9628e+00 -8.7238e+00  1e+01  5e-01  3e-16\n",
      " 2: -4.1287e+00 -5.5536e+00  1e+00  7e-16  4e-17\n",
      " 3: -4.1771e+00 -4.2291e+00  5e-02  2e-16  2e-16\n",
      " 4: -4.1776e+00 -4.1781e+00  5e-04  1e-16  3e-16\n",
      " 5: -4.1776e+00 -4.1776e+00  5e-06  4e-16  5e-16\n",
      " 6: -4.1776e+00 -4.1776e+00  5e-08  6e-16  3e-16\n",
      "Optimal solution found.\n",
      "     pcost       dcost       gap    pres   dres\n",
      " 0: -2.3239e+01 -1.2621e+01  3e+02  2e+01  2e-16\n",
      " 1: -5.9107e+00 -8.6221e+00  9e+00  4e-01  1e-16\n",
      " 2: -4.3398e+00 -5.4529e+00  1e+00  1e-16  2e-16\n",
      " 3: -4.4995e+00 -4.5164e+00  2e-02  2e-16  2e-16\n",
      " 4: -4.5069e+00 -4.5070e+00  2e-04  2e-16  2e-16\n",
      " 5: -4.5069e+00 -4.5069e+00  2e-06  0e+00  3e-16\n",
      "Optimal solution found.\n",
      "     pcost       dcost       gap    pres   dres\n",
      " 0: -2.3239e+01 -1.2621e+01  3e+02  2e+01  2e-16\n",
      " 1: -5.9107e+00 -8.6221e+00  9e+00  4e-01  1e-16\n",
      " 2: -4.3398e+00 -5.4529e+00  1e+00  1e-16  2e-16\n",
      " 3: -4.4995e+00 -4.5164e+00  2e-02  2e-16  2e-16\n"
     ]
    },
    {
     "name": "stderr",
     "output_type": "stream",
     "text": [
      "\r",
      " 13%|█▎        | 4/30 [00:00<00:05,  4.92it/s]"
     ]
    },
    {
     "name": "stdout",
     "output_type": "stream",
     "text": [
      " 4: -4.5069e+00 -4.5070e+00  2e-04  2e-16  2e-16\n",
      " 5: -4.5069e+00 -4.5069e+00  2e-06  0e+00  3e-16\n",
      "Optimal solution found.\n",
      "     pcost       dcost       gap    pres   dres\n",
      " 0: -2.3224e+01 -1.2658e+01  3e+02  2e+01  2e-16\n",
      " 1: -5.9411e+00 -8.6605e+00  9e+00  4e-01  5e-16\n",
      " 2: -4.2940e+00 -5.5117e+00  1e+00  1e-15  7e-16\n",
      " 3: -4.3964e+00 -4.5546e+00  2e-01  6e-16  1e-16\n",
      " 4: -4.3974e+00 -4.3990e+00  2e-03  7e-16  3e-16\n",
      " 5: -4.3975e+00 -4.3975e+00  2e-05  2e-16  2e-16\n",
      " 6: -4.3975e+00 -4.3975e+00  2e-07  4e-16  3e-16\n",
      "Optimal solution found.\n",
      "     pcost       dcost       gap    pres   dres\n",
      " 0: -2.3006e+01 -1.2719e+01  3e+02  2e+01  4e-16\n",
      " 1: -5.9544e+00 -8.7487e+00  1e+01  5e-01  6e-16\n",
      " 2: -4.0287e+00 -5.5539e+00  2e+00  3e-16  2e-16\n",
      " 3: -4.0669e+00 -4.1059e+00  4e-02  3e-16  3e-16\n",
      " 4: -4.0673e+00 -4.0676e+00  4e-04  9e-17  4e-16\n",
      " 5: -4.0673e+00 -4.0673e+00  4e-06  1e-16  2e-16\n",
      "Optimal solution found.\n",
      "     pcost       dcost       gap    pres   dres\n",
      " 0: -2.3224e+01 -1.2658e+01  3e+02  2e+01  2e-16\n",
      " 1: -5.9411e+00 -8.6605e+00  9e+00  4e-01  5e-16\n",
      " 2: -4.2940e+00 -5.5117e+00  1e+00  1e-15  1e-15\n",
      " 3: -4.3964e+00 -4.5546e+00  2e-01  3e-16  3e-16\n",
      " 4: -4.3974e+00 -4.3990e+00  2e-03  6e-16  2e-17\n",
      " 5: -4.3975e+00 -4.3975e+00  2e-05  5e-16  6e-16\n",
      " 6: -4.3975e+00 -4.3975e+00  2e-07  4e-16  5e-16\n",
      "Optimal solution found.\n",
      "     pcost       dcost       gap    pres   dres\n",
      " 0: -2.3108e+01 -1.2707e+01  3e+02  2e+01  3e-16\n",
      " 1: -5.9628e+00 -8.7238e+00  1e+01  5e-01  3e-16\n",
      " 2: -4.1287e+00 -5.5536e+00  1e+00  4e-16  5e-16\n",
      " 3: -4.1771e+00 -4.2291e+00  5e-02  4e-16  6e-16\n",
      " 4: -4.1776e+00 -4.1781e+00  5e-04  6e-17  4e-19\n",
      " 5: -4.1776e+00 -4.1776e+00  5e-06  5e-16  5e-17\n",
      " 6: -4.1776e+00 -4.1776e+00  5e-08  5e-16  5e-18\n",
      "Optimal solution found.\n",
      "     pcost       dcost       gap    pres   dres\n",
      " 0: -2.3181e+01 -1.2687e+01  3e+02  2e+01  4e-16\n",
      " 1: -5.9584e+00 -8.6944e+00  1e+01  4e-01  2e-16\n",
      " 2: -4.2195e+00 -5.5416e+00  1e+00  3e-16  5e-16\n",
      " 3: -4.2870e+00 -4.3695e+00  8e-02  2e-16  5e-16\n",
      " 4: -4.2877e+00 -4.2885e+00  8e-04  2e-16  2e-17\n",
      " 5: -4.2877e+00 -4.2877e+00  8e-06  2e-16  2e-16\n",
      " 6: -4.2877e+00 -4.2877e+00  8e-08  6e-17  1e-17\n",
      "Optimal solution found.\n",
      "     pcost       dcost       gap    pres   dres\n",
      " 0: -2.3181e+01 -1.2687e+01  3e+02  2e+01  4e-16\n",
      " 1: -5.9584e+00 -8.6944e+00  1e+01  4e-01  2e-16\n",
      " 2: -4.2195e+00 -5.5416e+00  1e+00  3e-16  6e-16\n",
      " 3: -4.2870e+00 -4.3695e+00  8e-02  1e-15  4e-17\n",
      " 4: -4.2877e+00 -4.2885e+00  8e-04  8e-16  5e-16\n",
      " 5: -4.2877e+00 -4.2877e+00  8e-06  2e-16  2e-16\n",
      " 6: -4.2877e+00 -4.2877e+00  8e-08  5e-16  2e-16\n",
      "Optimal solution found.\n",
      "     pcost       dcost       gap    pres   dres\n",
      " 0: -2.3006e+01 -1.2719e+01  3e+02  2e+01  4e-16\n",
      " 1: -5.9544e+00 -8.7487e+00  1e+01  5e-01  7e-16\n",
      " 2: -4.0287e+00 -5.5539e+00  2e+00  4e-16  5e-16\n",
      " 3: -4.0669e+00 -4.1059e+00  4e-02  8e-17  2e-16\n",
      " 4: -4.0673e+00 -4.0676e+00  4e-04  5e-17  6e-16\n",
      " 5: -4.0673e+00 -4.0673e+00  4e-06  1e-16  4e-17\n",
      "Optimal solution found.\n",
      "     pcost       dcost       gap    pres   dres\n",
      " 0: -2.3224e+01 -1.2658e+01  3e+02  2e+01  2e-16\n",
      " 1: -5.9411e+00 -8.6605e+00  9e+00  4e-01  5e-16\n",
      " 2: -4.2940e+00 -5.5117e+00  1e+00  2e-16  7e-16\n",
      " 3: -4.3964e+00 -4.5546e+00  2e-01  2e-16  3e-16\n",
      " 4: -4.3974e+00 -4.3990e+00  2e-03  1e-16  3e-16\n",
      " 5: -4.3975e+00 -4.3975e+00  2e-05  4e-16  3e-16\n",
      " 6: -4.3975e+00 -4.3975e+00  2e-07  2e-16  2e-16\n",
      "Optimal solution found.\n",
      "     pcost       dcost       gap    pres   dres\n",
      " 0: -2.3224e+01 -1.2658e+01  3e+02  2e+01  2e-16\n",
      " 1: -5.9411e+00 -8.6605e+00  9e+00  4e-01  5e-16\n",
      " 2: -4.2940e+00 -5.5117e+00  1e+00  2e-16  7e-16\n",
      " 3: -4.3964e+00 -4.5546e+00  2e-01  2e-16  3e-16\n",
      " 4: -4.3974e+00 -4.3990e+00  2e-03  1e-16  3e-16\n",
      " 5: -4.3975e+00 -4.3975e+00  2e-05  4e-16  3e-16\n",
      " 6: -4.3975e+00 -4.3975e+00  2e-07  4e-16  2e-16\n",
      "Optimal solution found.\n",
      "     pcost       dcost       gap    pres   dres\n",
      " 0: -2.3006e+01 -1.2719e+01  3e+02  2e+01  4e-16\n",
      " 1: -5.9544e+00 -8.7487e+00  1e+01  5e-01  6e-16\n",
      " 2: -4.0287e+00 -5.5539e+00  2e+00  3e-16  1e-16\n",
      " 3: -4.0669e+00 -4.1059e+00  4e-02  1e-16  3e-16\n",
      " 4: -4.0673e+00 -4.0676e+00  4e-04  3e-16  1e-16\n",
      " 5: -4.0673e+00 -4.0673e+00  4e-06  2e-16  4e-17\n",
      "Optimal solution found.\n",
      "     pcost       dcost       gap    pres   dres\n",
      " 0: -2.3224e+01 -1.2658e+01  3e+02  2e+01  2e-16\n",
      " 1: -5.9411e+00 -8.6605e+00  9e+00  4e-01  5e-16\n",
      " 2: -4.2940e+00 -5.5117e+00  1e+00  2e-16  3e-16\n",
      " 3: -4.3964e+00 -4.5546e+00  2e-01  3e-16  2e-16\n",
      " 4: -4.3974e+00 -4.3990e+00  2e-03  2e-16  3e-16\n",
      " 5: -4.3975e+00 -4.3975e+00  2e-05  5e-16  8e-16\n",
      " 6: -4.3975e+00 -4.3975e+00  2e-07  4e-16  3e-16\n",
      "Optimal solution found.\n",
      "     pcost       dcost       gap    pres   dres\n",
      " 0: -2.3224e+01 -1.2658e+01  3e+02  2e+01  2e-16\n",
      " 1: -5.9411e+00 -8.6605e+00  9e+00  4e-01  5e-16\n",
      " 2: -4.2940e+00 -5.5117e+00  1e+00  2e-16  3e-16\n",
      " 3: -4.3964e+00 -4.5546e+00  2e-01  2e-16  2e-16\n",
      " 4: -4.3974e+00 -4.3990e+00  2e-03  1e-16  2e-16\n",
      " 5: -4.3975e+00 -4.3975e+00  2e-05  1e-16  5e-16\n",
      " 6: -4.3975e+00 -4.3975e+00  2e-07  3e-16  5e-16\n",
      "Optimal solution found.\n",
      "     pcost       dcost       gap    pres   dres\n",
      " 0: -2.3181e+01 -1.2687e+01  3e+02  2e+01  4e-16\n",
      " 1: -5.9584e+00 -8.6944e+00  1e+01  4e-01  4e-16\n",
      " 2: -4.2195e+00 -5.5416e+00  1e+00  6e-16  8e-16\n",
      " 3: -4.2870e+00 -4.3695e+00  8e-02  5e-16  8e-17\n",
      " 4: -4.2877e+00 -4.2885e+00  8e-04  2e-16  2e-16\n",
      " 5: -4.2877e+00 -4.2877e+00  8e-06  2e-16  3e-16\n",
      " 6: -4.2877e+00 -4.2877e+00  8e-08  3e-16  1e-17\n",
      "Optimal solution found.\n",
      "     pcost       dcost       gap    pres   dres\n",
      " 0: -2.3224e+01 -1.2658e+01  3e+02  2e+01  2e-16\n",
      " 1: -5.9411e+00 -8.6605e+00  9e+00  4e-01  5e-16\n",
      " 2: -4.2940e+00 -5.5117e+00  1e+00  3e-16  0e+00\n",
      " 3: -4.3964e+00 -4.5546e+00  2e-01  2e-16  2e-16\n",
      " 4: -4.3974e+00 -4.3990e+00  2e-03  1e-16  3e-16\n",
      " 5: -4.3975e+00 -4.3975e+00  2e-05  5e-16  5e-16\n",
      " 6: -4.3975e+00 -4.3975e+00  2e-07  4e-16  2e-16\n",
      "Optimal solution found.\n",
      "     pcost       dcost       gap    pres   dres\n",
      " 0: -2.3181e+01 -1.2687e+01  3e+02  2e+01  4e-16\n",
      " 1: -5.9584e+00 -8.6944e+00  1e+01  4e-01  6e-16\n",
      " 2: -4.2195e+00 -5.5416e+00  1e+00  3e-16  2e-16\n",
      " 3: -4.2870e+00 -4.3695e+00  8e-02  3e-16  2e-16\n",
      " 4: -4.2877e+00 -4.2885e+00  8e-04  2e-16  6e-16\n",
      " 5: -4.2877e+00 -4.2877e+00  8e-06  1e-16  5e-16\n",
      " 6: -4.2877e+00 -4.2877e+00  8e-08  3e-16  3e-16\n",
      "Optimal solution found.\n",
      "     pcost       dcost       gap    pres   dres\n",
      " 0: -2.3224e+01 -1.2658e+01  3e+02  2e+01  2e-16\n",
      " 1: -5.9411e+00 -8.6605e+00  9e+00  4e-01  5e-16\n",
      " 2: -4.2940e+00 -5.5117e+00  1e+00  2e-16  3e-16\n",
      " 3: -4.3964e+00 -4.5546e+00  2e-01  5e-16  8e-17\n",
      " 4: -4.3974e+00 -4.3990e+00  2e-03  1e-16  2e-17\n",
      " 5: -4.3975e+00 -4.3975e+00  2e-05  5e-16  2e-16\n",
      " 6: -4.3975e+00 -4.3975e+00  2e-07  3e-16  6e-16\n",
      "Optimal solution found.\n",
      "     pcost       dcost       gap    pres   dres\n",
      " 0: -2.3181e+01 -1.2687e+01  3e+02  2e+01  4e-16\n",
      " 1: -5.9584e+00 -8.6944e+00  1e+01  4e-01  4e-16\n",
      " 2: -4.2195e+00 -5.5416e+00  1e+00  6e-16  2e-16\n",
      " 3: -4.2870e+00 -4.3695e+00  8e-02  4e-17  5e-16\n",
      " 4: -4.2877e+00 -4.2885e+00  8e-04  1e-16  8e-16\n",
      " 5: -4.2877e+00 -4.2877e+00  8e-06  1e-16  2e-16\n",
      " 6: -4.2877e+00 -4.2877e+00  8e-08  2e-16  3e-16\n",
      "Optimal solution found.\n",
      "     pcost       dcost       gap    pres   dres\n",
      " 0: -2.3239e+01 -1.2621e+01  3e+02  2e+01  2e-16\n",
      " 1: -5.9107e+00 -8.6221e+00  9e+00  4e-01  1e-16\n",
      " 2: -4.3398e+00 -5.4529e+00  1e+00  1e-16  2e-16\n",
      " 3: -4.4995e+00 -4.5164e+00  2e-02  2e-16  1e-16\n",
      " 4: -4.5069e+00 -4.5070e+00  2e-04  2e-16  3e-16\n",
      " 5: -4.5069e+00 -4.5069e+00  2e-06  0e+00  1e-16\n",
      "Optimal solution found.\n",
      "     pcost       dcost       gap    pres   dres\n",
      " 0: -2.3224e+01 -1.2658e+01  3e+02  2e+01  2e-16\n",
      " 1: -5.9411e+00 -8.6605e+00  9e+00  4e-01  5e-16\n",
      " 2: -4.2940e+00 -5.5117e+00  1e+00  2e-16  3e-16\n",
      " 3: -4.3964e+00 -4.5546e+00  2e-01  2e-16  2e-16\n",
      " 4: -4.3974e+00 -4.3990e+00  2e-03  8e-17  3e-16\n",
      " 5: -4.3975e+00 -4.3975e+00  2e-05  1e-16  5e-16\n",
      " 6: -4.3975e+00 -4.3975e+00  2e-07  2e-16  6e-16\n",
      "Optimal solution found.\n",
      "     pcost       dcost       gap    pres   dres\n",
      " 0: -2.3224e+01 -1.2658e+01  3e+02  2e+01  2e-16\n",
      " 1: -5.9411e+00 -8.6605e+00  9e+00  4e-01  5e-16\n",
      " 2: -4.2940e+00 -5.5117e+00  1e+00  2e-16  7e-16\n",
      " 3: -4.3964e+00 -4.5546e+00  2e-01  2e-16  5e-16\n",
      " 4: -4.3974e+00 -4.3990e+00  2e-03  1e-16  5e-17\n",
      " 5: -4.3975e+00 -4.3975e+00  2e-05  1e-16  5e-16\n",
      " 6: -4.3975e+00 -4.3975e+00  2e-07  2e-16  2e-16\n",
      "Optimal solution found.\n",
      "     pcost       dcost       gap    pres   dres\n",
      " 0: -2.3224e+01 -1.2658e+01  3e+02  2e+01  2e-16\n",
      " 1: -5.9411e+00 -8.6605e+00  9e+00  4e-01  5e-16\n",
      " 2: -4.2940e+00 -5.5117e+00  1e+00  1e-16  5e-16\n",
      " 3: -4.3964e+00 -4.5546e+00  2e-01  1e-16  2e-16\n",
      " 4: -4.3974e+00 -4.3990e+00  2e-03  2e-16  2e-16\n",
      " 5: -4.3975e+00 -4.3975e+00  2e-05  4e-16  6e-16\n",
      " 6: -4.3975e+00 -4.3975e+00  2e-07  2e-16  5e-16\n",
      "Optimal solution found.\n",
      "     pcost       dcost       gap    pres   dres\n",
      " 0: -2.3224e+01 -1.2658e+01  3e+02  2e+01  2e-16\n",
      " 1: -5.9411e+00 -8.6605e+00  9e+00  4e-01  5e-16\n",
      " 2: -4.2940e+00 -5.5117e+00  1e+00  1e-16  2e-16\n",
      " 3: -4.3964e+00 -4.5546e+00  2e-01  2e-16  1e-16\n",
      " 4: -4.3974e+00 -4.3990e+00  2e-03  1e-16  9e-17\n",
      " 5: -4.3975e+00 -4.3975e+00  2e-05  8e-17  5e-16\n",
      " 6: -4.3975e+00 -4.3975e+00  2e-07  2e-16  3e-16\n",
      "Optimal solution found.\n",
      "     pcost       dcost       gap    pres   dres\n",
      " 0: -2.5736e+01 -3.3133e+01  3e+02  8e+00  0e+00\n",
      " 1: -1.3119e+01 -2.7734e+01  1e+01  5e-16  0e+00\n",
      " 2: -1.4408e+01 -1.5072e+01  7e-01  1e-16  1e-16\n",
      " 3: -1.4937e+01 -1.4943e+01  7e-03  2e-16  2e-16\n",
      " 4: -1.4942e+01 -1.4942e+01  7e-05  3e-16  2e-16\n",
      " 5: -1.4942e+01 -1.4942e+01  7e-07  4e-16  3e-16\n",
      "Optimal solution found.\n",
      "     pcost       dcost       gap    pres   dres\n",
      " 0: -2.5672e+01 -3.3436e+01  3e+02  8e+00  1e-16\n"
     ]
    },
    {
     "name": "stderr",
     "output_type": "stream",
     "text": [
      "\r",
      " 17%|█▋        | 5/30 [00:01<00:05,  4.90it/s]"
     ]
    },
    {
     "name": "stdout",
     "output_type": "stream",
     "text": [
      " 1: -1.3039e+01 -2.8009e+01  1e+01  2e-15  5e-16\n",
      " 2: -1.4165e+01 -1.4748e+01  6e-01  3e-16  5e-16\n",
      " 3: -1.4264e+01 -1.4284e+01  2e-02  6e-16  3e-16\n",
      " 4: -1.4273e+01 -1.4274e+01  2e-04  2e-16  2e-16\n",
      " 5: -1.4273e+01 -1.4273e+01  2e-06  1e-16  2e-16\n",
      "Optimal solution found.\n",
      "     pcost       dcost       gap    pres   dres\n",
      " 0: -2.5736e+01 -3.3133e+01  3e+02  8e+00  0e+00\n",
      " 1: -1.3119e+01 -2.7734e+01  1e+01  5e-16  0e+00\n",
      " 2: -1.4408e+01 -1.5072e+01  7e-01  1e-16  1e-16\n",
      " 3: -1.4937e+01 -1.4943e+01  7e-03  2e-16  8e-17\n",
      " 4: -1.4942e+01 -1.4942e+01  7e-05  2e-16  3e-16\n",
      " 5: -1.4942e+01 -1.4942e+01  7e-07  3e-16  2e-16\n",
      "Optimal solution found.\n",
      "     pcost       dcost       gap    pres   dres\n",
      " 0: -2.5591e+01 -3.3563e+01  3e+02  8e+00  2e-16\n",
      " 1: -1.2964e+01 -2.8119e+01  2e+01  2e-15  2e-16\n",
      " 2: -1.3908e+01 -1.4396e+01  5e-01  1e-15  2e-16\n",
      " 3: -1.3932e+01 -1.3939e+01  7e-03  2e-15  2e-16\n",
      " 4: -1.3933e+01 -1.3934e+01  7e-05  2e-15  3e-17\n",
      " 5: -1.3933e+01 -1.3933e+01  7e-07  1e-16  3e-16\n",
      "Optimal solution found.\n",
      "     pcost       dcost       gap    pres   dres\n",
      " 0: -2.5720e+01 -3.3293e+01  3e+02  8e+00  1e-16\n",
      " 1: -1.3091e+01 -2.7881e+01  1e+01  2e-15  3e-16\n",
      " 2: -1.4339e+01 -1.4988e+01  6e-01  7e-16  2e-16\n",
      " 3: -1.4607e+01 -1.4658e+01  5e-02  5e-15  3e-16\n",
      " 4: -1.4610e+01 -1.4610e+01  5e-04  4e-15  9e-17\n",
      " 5: -1.4610e+01 -1.4610e+01  5e-06  1e-15  2e-16\n",
      "Optimal solution found.\n",
      "     pcost       dcost       gap    pres   dres\n",
      " 0: -2.5720e+01 -3.3293e+01  3e+02  8e+00  1e-16\n",
      " 1: -1.3091e+01 -2.7881e+01  1e+01  8e-16  3e-16\n",
      " 2: -1.4339e+01 -1.4988e+01  6e-01  2e-16  0e+00\n",
      " 3: -1.4607e+01 -1.4658e+01  5e-02  3e-16  8e-16\n",
      " 4: -1.4610e+01 -1.4610e+01  5e-04  3e-16  5e-16\n",
      " 5: -1.4610e+01 -1.4610e+01  5e-06  4e-16  3e-16\n",
      "Optimal solution found.\n",
      "     pcost       dcost       gap    pres   dres\n",
      " 0: -2.5736e+01 -3.3133e+01  3e+02  8e+00  0e+00\n",
      " 1: -1.3119e+01 -2.7734e+01  1e+01  5e-16  0e+00\n",
      " 2: -1.4408e+01 -1.5072e+01  7e-01  1e-16  1e-16\n",
      " 3: -1.4937e+01 -1.4943e+01  7e-03  2e-16  2e-16\n",
      " 4: -1.4942e+01 -1.4942e+01  7e-05  2e-16  2e-16\n",
      " 5: -1.4942e+01 -1.4942e+01  7e-07  4e-16  8e-17\n",
      "Optimal solution found.\n",
      "     pcost       dcost       gap    pres   dres\n",
      " 0: -2.5736e+01 -3.3133e+01  3e+02  8e+00  0e+00\n",
      " 1: -1.3119e+01 -2.7734e+01  1e+01  5e-16  0e+00\n",
      " 2: -1.4408e+01 -1.5072e+01  7e-01  1e-16  1e-16\n",
      " 3: -1.4937e+01 -1.4943e+01  7e-03  2e-16  2e-16\n",
      " 4: -1.4942e+01 -1.4942e+01  7e-05  3e-16  8e-17\n",
      " 5: -1.4942e+01 -1.4942e+01  7e-07  2e-16  2e-16\n",
      "Optimal solution found.\n",
      "     pcost       dcost       gap    pres   dres\n",
      " 0: -2.5720e+01 -3.3293e+01  3e+02  8e+00  1e-16\n",
      " 1: -1.3091e+01 -2.7881e+01  1e+01  8e-16  3e-16\n",
      " 2: -1.4339e+01 -1.4988e+01  6e-01  8e-16  8e-17\n",
      " 3: -1.4607e+01 -1.4658e+01  5e-02  1e-15  2e-16\n",
      " 4: -1.4610e+01 -1.4610e+01  5e-04  3e-16  6e-16\n",
      " 5: -1.4610e+01 -1.4610e+01  5e-06  1e-15  5e-16\n",
      "Optimal solution found.\n",
      "     pcost       dcost       gap    pres   dres\n",
      " 0: -2.5672e+01 -3.3436e+01  3e+02  8e+00  1e-16\n",
      " 1: -1.3039e+01 -2.8009e+01  1e+01  2e-15  5e-16\n",
      " 2: -1.4165e+01 -1.4748e+01  6e-01  9e-16  2e-16\n",
      " 3: -1.4264e+01 -1.4284e+01  2e-02  4e-16  2e-16\n",
      " 4: -1.4273e+01 -1.4274e+01  2e-04  2e-16  2e-16\n",
      " 5: -1.4273e+01 -1.4273e+01  2e-06  2e-16  3e-16\n",
      "Optimal solution found.\n",
      "     pcost       dcost       gap    pres   dres\n",
      " 0: -2.5672e+01 -3.3436e+01  3e+02  8e+00  1e-16\n",
      " 1: -1.3039e+01 -2.8009e+01  1e+01  2e-15  5e-16\n",
      " 2: -1.4165e+01 -1.4748e+01  6e-01  9e-16  3e-16\n",
      " 3: -1.4264e+01 -1.4284e+01  2e-02  6e-16  3e-16\n",
      " 4: -1.4273e+01 -1.4274e+01  2e-04  3e-16  5e-16\n",
      " 5: -1.4273e+01 -1.4273e+01  2e-06  4e-16  3e-16\n",
      "Optimal solution found.\n",
      "     pcost       dcost       gap    pres   dres\n",
      " 0: -2.5720e+01 -3.3293e+01  3e+02  8e+00  1e-16\n",
      " 1: -1.3091e+01 -2.7881e+01  1e+01  4e-15  3e-16\n",
      " 2: -1.4339e+01 -1.4988e+01  6e-01  3e-15  0e+00\n",
      " 3: -1.4607e+01 -1.4658e+01  5e-02  3e-15  3e-16\n",
      " 4: -1.4610e+01 -1.4610e+01  5e-04  2e-15  6e-17\n",
      " 5: -1.4610e+01 -1.4610e+01  5e-06  2e-15  5e-16\n",
      "Optimal solution found.\n",
      "     pcost       dcost       gap    pres   dres\n",
      " 0: -2.5672e+01 -3.3436e+01  3e+02  8e+00  1e-16\n",
      " 1: -1.3039e+01 -2.8009e+01  1e+01  2e-15  5e-16\n",
      " 2: -1.4165e+01 -1.4748e+01  6e-01  9e-16  3e-16\n",
      " 3: -1.4264e+01 -1.4284e+01  2e-02  6e-16  3e-16\n",
      " 4: -1.4273e+01 -1.4274e+01  2e-04  3e-16  5e-16\n",
      " 5: -1.4273e+01 -1.4273e+01  2e-06  2e-15  3e-16\n",
      "Optimal solution found.\n",
      "     pcost       dcost       gap    pres   dres\n",
      " 0: -2.5720e+01 -3.3293e+01  3e+02  8e+00  1e-16\n",
      " 1: -1.3091e+01 -2.7881e+01  1e+01  1e-15  3e-16\n",
      " 2: -1.4339e+01 -1.4988e+01  6e-01  9e-16  2e-16\n",
      " 3: -1.4607e+01 -1.4658e+01  5e-02  3e-15  4e-16\n",
      " 4: -1.4610e+01 -1.4610e+01  5e-04  2e-15  3e-16\n",
      " 5: -1.4610e+01 -1.4610e+01  5e-06  1e-16  5e-16\n",
      "Optimal solution found.\n",
      "     pcost       dcost       gap    pres   dres\n",
      " 0: -2.5672e+01 -3.3436e+01  3e+02  8e+00  2e-16\n",
      " 1: -1.3039e+01 -2.8009e+01  1e+01  2e-15  5e-16\n",
      " 2: -1.4165e+01 -1.4748e+01  6e-01  2e-16  4e-16\n",
      " 3: -1.4264e+01 -1.4284e+01  2e-02  5e-16  2e-16\n",
      " 4: -1.4273e+01 -1.4274e+01  2e-04  9e-16  2e-16\n",
      " 5: -1.4273e+01 -1.4273e+01  2e-06  7e-16  3e-16\n",
      "Optimal solution found.\n",
      "     pcost       dcost       gap    pres   dres\n",
      " 0: -2.5736e+01 -3.3133e+01  3e+02  8e+00  0e+00\n",
      " 1: -1.3119e+01 -2.7734e+01  1e+01  5e-16  0e+00\n",
      " 2: -1.4408e+01 -1.5072e+01  7e-01  1e-16  1e-16\n",
      " 3: -1.4937e+01 -1.4943e+01  7e-03  3e-16  2e-16\n",
      " 4: -1.4942e+01 -1.4942e+01  7e-05  4e-16  3e-16\n",
      " 5: -1.4942e+01 -1.4942e+01  7e-07  4e-16  1e-16\n",
      "Optimal solution found.\n",
      "     pcost       dcost       gap    pres   dres\n",
      " 0: -2.5672e+01 -3.3436e+01  3e+02  8e+00  2e-16\n",
      " 1: -1.3039e+01 -2.8009e+01  1e+01  2e-15  5e-16\n",
      " 2: -1.4165e+01 -1.4748e+01  6e-01  2e-16  5e-16\n",
      " 3: -1.4264e+01 -1.4284e+01  2e-02  7e-16  3e-16\n",
      " 4: -1.4273e+01 -1.4274e+01  2e-04  4e-16  3e-16\n",
      " 5: -1.4273e+01 -1.4273e+01  2e-06  2e-15  3e-17\n",
      "Optimal solution found.\n",
      "     pcost       dcost       gap    pres   dres\n",
      " 0: -2.5672e+01 -3.3436e+01  3e+02  8e+00  1e-16\n",
      " 1: -1.3039e+01 -2.8009e+01  1e+01  2e-15  5e-16\n",
      " 2: -1.4165e+01 -1.4748e+01  6e-01  9e-16  3e-16\n",
      " 3: -1.4264e+01 -1.4284e+01  2e-02  7e-16  3e-16\n",
      " 4: -1.4273e+01 -1.4274e+01  2e-04  1e-15  5e-16\n",
      " 5: -1.4273e+01 -1.4273e+01  2e-06  1e-15  3e-16\n",
      "Optimal solution found.\n",
      "     pcost       dcost       gap    pres   dres\n",
      " 0: -2.5720e+01 -3.3293e+01  3e+02  8e+00  1e-16\n",
      " 1: -1.3091e+01 -2.7881e+01  1e+01  2e-15  3e-16\n",
      " 2: -1.4339e+01 -1.4988e+01  6e-01  1e-15  8e-17\n",
      " 3: -1.4607e+01 -1.4658e+01  5e-02  3e-15  3e-16\n",
      " 4: -1.4610e+01 -1.4610e+01  5e-04  2e-15  3e-16\n",
      " 5: -1.4610e+01 -1.4610e+01  5e-06  2e-16  5e-16\n",
      "Optimal solution found.\n",
      "     pcost       dcost       gap    pres   dres\n",
      " 0: -2.5591e+01 -3.3563e+01  3e+02  8e+00  2e-16\n",
      " 1: -1.2964e+01 -2.8119e+01  2e+01  2e-15  2e-16\n",
      " 2: -1.3908e+01 -1.4396e+01  5e-01  1e-15  5e-16\n",
      " 3: -1.3932e+01 -1.3939e+01  7e-03  2e-15  2e-16\n",
      " 4: -1.3933e+01 -1.3934e+01  7e-05  2e-15  2e-16\n",
      " 5: -1.3933e+01 -1.3933e+01  7e-07  6e-16  5e-16\n",
      "Optimal solution found.\n",
      "     pcost       dcost       gap    pres   dres\n",
      " 0: -2.5736e+01 -3.3133e+01  3e+02  8e+00  0e+00\n",
      " 1: -1.3119e+01 -2.7734e+01  1e+01  5e-16  0e+00\n",
      " 2: -1.4408e+01 -1.5072e+01  7e-01  1e-16  1e-16\n",
      " 3: -1.4937e+01 -1.4943e+01  7e-03  2e-16  2e-16\n",
      " 4: -1.4942e+01 -1.4942e+01  7e-05  3e-16  8e-17\n",
      " 5: -1.4942e+01 -1.4942e+01  7e-07  2e-16  2e-16\n",
      "Optimal solution found.\n",
      "     pcost       dcost       gap    pres   dres\n",
      " 0: -2.5591e+01 -3.3563e+01  3e+02  8e+00  2e-16\n",
      " 1: -1.2964e+01 -2.8119e+01  2e+01  3e-15  2e-16\n",
      " 2: -1.3908e+01 -1.4396e+01  5e-01  2e-15  5e-16\n",
      " 3: -1.3932e+01 -1.3939e+01  7e-03  8e-16  2e-16\n",
      " 4: -1.3933e+01 -1.3934e+01  7e-05  1e-15  2e-16\n",
      " 5: -1.3933e+01 -1.3933e+01  7e-07  1e-15  2e-16\n",
      "Optimal solution found.\n",
      "     pcost       dcost       gap    pres   dres\n",
      " 0: -2.5479e+01 -3.3673e+01  3e+02  8e+00  3e-16\n",
      " 1: -1.2868e+01 -2.8210e+01  2e+01  2e-15  3e-16\n",
      " 2: -1.3583e+01 -1.4225e+01  6e-01  6e-16  2e-16\n",
      " 3: -1.3590e+01 -1.3597e+01  7e-03  7e-16  3e-16\n",
      " 4: -1.3590e+01 -1.3590e+01  7e-05  1e-15  7e-16\n",
      " 5: -1.3590e+01 -1.3590e+01  7e-07  1e-15  2e-16\n",
      "Optimal solution found.\n",
      "     pcost       dcost       gap    pres   dres\n",
      " 0: -2.5720e+01 -3.3293e+01  3e+02  8e+00  1e-16\n",
      " 1: -1.3091e+01 -2.7881e+01  1e+01  8e-16  3e-16\n",
      " 2: -1.4339e+01 -1.4988e+01  6e-01  2e-15  3e-16\n",
      " 3: -1.4607e+01 -1.4658e+01  5e-02  1e-15  2e-16\n",
      " 4: -1.4610e+01 -1.4610e+01  5e-04  3e-16  2e-16\n",
      " 5: -1.4610e+01 -1.4610e+01  5e-06  3e-16  3e-16\n",
      "Optimal solution found.\n",
      "     pcost       dcost       gap    pres   dres\n",
      " 0: -2.5672e+01 -3.3436e+01  3e+02  8e+00  1e-16\n",
      " 1: -1.3039e+01 -2.8009e+01  1e+01  2e-15  5e-16\n",
      " 2: -1.4165e+01 -1.4748e+01  6e-01  3e-16  2e-16\n",
      " 3: -1.4264e+01 -1.4284e+01  2e-02  1e-15  2e-16\n",
      " 4: -1.4273e+01 -1.4274e+01  2e-04  6e-16  3e-16\n",
      " 5: -1.4273e+01 -1.4273e+01  2e-06  7e-16  3e-17\n",
      "Optimal solution found.\n",
      "     pcost       dcost       gap    pres   dres\n",
      " 0: -3.3048e+01 -9.8541e+01  7e+01  2e-16  2e-16\n",
      " 1: -3.4951e+01 -3.8524e+01  4e+00  1e-16  1e-16\n",
      " 2: -3.7265e+01 -3.7509e+01  2e-01  7e-16  1e-16\n",
      " 3: -3.7484e+01 -3.7487e+01  3e-03  1e-16  1e-16\n",
      " 4: -3.7487e+01 -3.7487e+01  3e-05  7e-16  9e-17\n",
      "Optimal solution found.\n",
      "     pcost       dcost       gap    pres   dres\n",
      " 0: -3.3048e+01 -9.8541e+01  7e+01  2e-16  2e-16\n"
     ]
    },
    {
     "name": "stderr",
     "output_type": "stream",
     "text": [
      "\r",
      " 20%|██        | 6/30 [00:01<00:04,  4.91it/s]"
     ]
    },
    {
     "name": "stdout",
     "output_type": "stream",
     "text": [
      " 1: -3.4951e+01 -3.8524e+01  4e+00  1e-16  1e-16\n",
      " 2: -3.7265e+01 -3.7509e+01  2e-01  7e-16  1e-16\n",
      " 3: -3.7484e+01 -3.7487e+01  3e-03  1e-16  1e-16\n",
      " 4: -3.7487e+01 -3.7487e+01  3e-05  7e-16  9e-17\n",
      "Optimal solution found.\n",
      "     pcost       dcost       gap    pres   dres\n",
      " 0: -3.2966e+01 -1.0017e+02  7e+01  9e-16  8e-17\n",
      " 1: -3.4771e+01 -3.8266e+01  3e+00  7e-15  6e-17\n",
      " 2: -3.6612e+01 -3.6981e+01  4e-01  2e-15  4e-17\n",
      " 3: -3.6628e+01 -3.6633e+01  6e-03  1e-15  1e-17\n",
      " 4: -3.6629e+01 -3.6629e+01  6e-05  8e-15  2e-16\n",
      " 5: -3.6629e+01 -3.6629e+01  6e-07  8e-15  9e-17\n",
      "Optimal solution found.\n",
      "     pcost       dcost       gap    pres   dres\n",
      " 0: -3.3028e+01 -9.9384e+01  7e+01  2e-16  1e-16\n",
      " 1: -3.4899e+01 -3.8466e+01  4e+00  5e-15  2e-16\n",
      " 2: -3.7065e+01 -3.7361e+01  3e-01  9e-16  0e+00\n",
      " 3: -3.7079e+01 -3.7091e+01  1e-02  3e-15  1e-17\n",
      " 4: -3.7084e+01 -3.7084e+01  1e-04  3e-15  8e-17\n",
      " 5: -3.7084e+01 -3.7084e+01  1e-06  5e-15  8e-17\n",
      "Optimal solution found.\n",
      "     pcost       dcost       gap    pres   dres\n",
      " 0: -3.2862e+01 -1.0089e+02  7e+01  2e-15  2e-16\n",
      " 1: -3.4570e+01 -3.7929e+01  3e+00  2e-15  3e-16\n",
      " 2: -3.6111e+01 -3.6426e+01  3e-01  2e-15  8e-17\n",
      " 3: -3.6125e+01 -3.6128e+01  3e-03  2e-15  2e-16\n",
      " 4: -3.6125e+01 -3.6125e+01  3e-05  2e-15  8e-17\n",
      "Optimal solution found.\n",
      "     pcost       dcost       gap    pres   dres\n",
      " 0: -3.3048e+01 -9.8541e+01  7e+01  2e-16  2e-16\n",
      " 1: -3.4951e+01 -3.8524e+01  4e+00  1e-16  1e-16\n",
      " 2: -3.7265e+01 -3.7509e+01  2e-01  7e-15  1e-16\n",
      " 3: -3.7484e+01 -3.7487e+01  3e-03  1e-16  8e-17\n",
      " 4: -3.7487e+01 -3.7487e+01  3e-05  7e-16  8e-17\n",
      "Optimal solution found.\n",
      "     pcost       dcost       gap    pres   dres\n",
      " 0: -3.3028e+01 -9.9384e+01  7e+01  7e-16  1e-16\n",
      " 1: -3.4899e+01 -3.8466e+01  4e+00  3e-15  3e-16\n",
      " 2: -3.7065e+01 -3.7361e+01  3e-01  9e-16  4e-17\n",
      " 3: -3.7079e+01 -3.7091e+01  1e-02  3e-15  2e-16\n",
      " 4: -3.7084e+01 -3.7084e+01  1e-04  4e-15  2e-16\n",
      " 5: -3.7084e+01 -3.7084e+01  1e-06  6e-15  2e-16\n",
      "Optimal solution found.\n",
      "     pcost       dcost       gap    pres   dres\n",
      " 0: -3.2966e+01 -1.0017e+02  7e+01  1e-15  1e-16\n",
      " 1: -3.4771e+01 -3.8266e+01  3e+00  7e-15  6e-17\n",
      " 2: -3.6612e+01 -3.6981e+01  4e-01  7e-16  4e-17\n",
      " 3: -3.6628e+01 -3.6633e+01  6e-03  9e-16  8e-17\n",
      " 4: -3.6629e+01 -3.6629e+01  6e-05  8e-15  9e-17\n",
      " 5: -3.6629e+01 -3.6629e+01  6e-07  2e-15  4e-17\n",
      "Optimal solution found.\n",
      "     pcost       dcost       gap    pres   dres\n",
      " 0: -3.2966e+01 -1.0017e+02  7e+01  2e-15  8e-17\n",
      " 1: -3.4771e+01 -3.8266e+01  3e+00  1e-15  6e-17\n",
      " 2: -3.6612e+01 -3.6981e+01  4e-01  1e-15  8e-17\n",
      " 3: -3.6628e+01 -3.6633e+01  6e-03  7e-16  1e-17\n",
      " 4: -3.6629e+01 -3.6629e+01  6e-05  2e-16  4e-17\n",
      " 5: -3.6629e+01 -3.6629e+01  6e-07  3e-15  2e-16\n",
      "Optimal solution found.\n",
      "     pcost       dcost       gap    pres   dres\n",
      " 0: -3.3028e+01 -9.9384e+01  7e+01  2e-16  1e-16\n",
      " 1: -3.4899e+01 -3.8466e+01  4e+00  4e-15  4e-16\n",
      " 2: -3.7065e+01 -3.7361e+01  3e-01  9e-16  4e-17\n",
      " 3: -3.7079e+01 -3.7091e+01  1e-02  3e-15  3e-17\n",
      " 4: -3.7084e+01 -3.7084e+01  1e-04  3e-15  8e-17\n",
      " 5: -3.7084e+01 -3.7084e+01  1e-06  4e-15  2e-16\n",
      "Optimal solution found.\n",
      "     pcost       dcost       gap    pres   dres\n",
      " 0: -3.2966e+01 -1.0017e+02  7e+01  2e-16  8e-17\n",
      " 1: -3.4771e+01 -3.8266e+01  3e+00  1e-14  8e-17\n",
      " 2: -3.6612e+01 -3.6981e+01  4e-01  1e-14  8e-17\n",
      " 3: -3.6628e+01 -3.6633e+01  6e-03  5e-15  8e-17\n",
      " 4: -3.6629e+01 -3.6629e+01  6e-05  2e-15  2e-16\n",
      " 5: -3.6629e+01 -3.6629e+01  6e-07  2e-15  2e-16\n",
      "Optimal solution found.\n",
      "     pcost       dcost       gap    pres   dres\n",
      " 0: -3.3028e+01 -9.9384e+01  7e+01  2e-16  1e-16\n",
      " 1: -3.4899e+01 -3.8466e+01  4e+00  5e-15  4e-16\n",
      " 2: -3.7065e+01 -3.7361e+01  3e-01  2e-16  1e-16\n",
      " 3: -3.7079e+01 -3.7091e+01  1e-02  2e-15  1e-17\n",
      " 4: -3.7084e+01 -3.7084e+01  1e-04  2e-15  2e-17\n",
      " 5: -3.7084e+01 -3.7084e+01  1e-06  9e-16  2e-17\n",
      "Optimal solution found.\n",
      "     pcost       dcost       gap    pres   dres\n",
      " 0: -3.3028e+01 -9.9384e+01  7e+01  2e-15  1e-16\n",
      " 1: -3.4899e+01 -3.8466e+01  4e+00  6e-15  2e-16\n",
      " 2: -3.7065e+01 -3.7361e+01  3e-01  9e-16  7e-17\n",
      " 3: -3.7079e+01 -3.7091e+01  1e-02  8e-15  9e-17\n",
      " 4: -3.7084e+01 -3.7084e+01  1e-04  6e-15  2e-17\n",
      " 5: -3.7084e+01 -3.7084e+01  1e-06  1e-15  2e-17\n",
      "Optimal solution found.\n",
      "     pcost       dcost       gap    pres   dres\n",
      " 0: -3.3028e+01 -9.9384e+01  7e+01  2e-15  1e-16\n",
      " 1: -3.4899e+01 -3.8466e+01  4e+00  6e-15  2e-16\n",
      " 2: -3.7065e+01 -3.7361e+01  3e-01  9e-16  1e-16\n",
      " 3: -3.7079e+01 -3.7091e+01  1e-02  7e-15  1e-17\n",
      " 4: -3.7084e+01 -3.7084e+01  1e-04  6e-15  8e-17\n",
      " 5: -3.7084e+01 -3.7084e+01  1e-06  1e-15  2e-16\n",
      "Optimal solution found.\n",
      "     pcost       dcost       gap    pres   dres\n",
      " 0: -3.3028e+01 -9.9384e+01  7e+01  2e-15  1e-16\n",
      " 1: -3.4899e+01 -3.8466e+01  4e+00  7e-15  2e-16\n",
      " 2: -3.7065e+01 -3.7361e+01  3e-01  9e-16  1e-16\n",
      " 3: -3.7079e+01 -3.7091e+01  1e-02  8e-15  8e-17\n",
      " 4: -3.7084e+01 -3.7084e+01  1e-04  6e-15  2e-17\n",
      " 5: -3.7084e+01 -3.7084e+01  1e-06  4e-16  2e-16\n",
      "Optimal solution found.\n",
      "     pcost       dcost       gap    pres   dres\n",
      " 0: -3.3028e+01 -9.9384e+01  7e+01  7e-16  1e-16\n",
      " 1: -3.4899e+01 -3.8466e+01  4e+00  3e-15  2e-16\n",
      " 2: -3.7065e+01 -3.7361e+01  3e-01  9e-16  2e-17\n",
      " 3: -3.7079e+01 -3.7091e+01  1e-02  3e-15  8e-17\n",
      " 4: -3.7084e+01 -3.7084e+01  1e-04  5e-15  2e-16\n",
      " 5: -3.7084e+01 -3.7084e+01  1e-06  5e-15  8e-17\n",
      "Optimal solution found.\n",
      "     pcost       dcost       gap    pres   dres\n",
      " 0: -3.3028e+01 -9.9384e+01  7e+01  2e-15  1e-16\n",
      " 1: -3.4899e+01 -3.8466e+01  4e+00  5e-15  3e-16\n",
      " 2: -3.7065e+01 -3.7361e+01  3e-01  2e-15  4e-17\n",
      " 3: -3.7079e+01 -3.7091e+01  1e-02  9e-15  8e-17\n",
      " 4: -3.7084e+01 -3.7084e+01  1e-04  6e-15  2e-17\n",
      " 5: -3.7084e+01 -3.7084e+01  1e-06  2e-15  2e-16\n",
      "Optimal solution found.\n",
      "     pcost       dcost       gap    pres   dres\n",
      " 0: -3.2966e+01 -1.0017e+02  7e+01  9e-16  8e-17\n",
      " 1: -3.4771e+01 -3.8266e+01  3e+00  8e-15  6e-17\n",
      " 2: -3.6612e+01 -3.6981e+01  4e-01  1e-14  1e-16\n",
      " 3: -3.6628e+01 -3.6633e+01  6e-03  4e-15  1e-17\n",
      " 4: -3.6629e+01 -3.6629e+01  6e-05  2e-15  1e-18\n",
      " 5: -3.6629e+01 -3.6629e+01  6e-07  7e-15  9e-17\n",
      "Optimal solution found.\n",
      "     pcost       dcost       gap    pres   dres\n",
      " 0: -3.3048e+01 -9.8541e+01  7e+01  2e-16  2e-16\n",
      " 1: -3.4951e+01 -3.8524e+01  4e+00  1e-16  1e-16\n",
      " 2: -3.7265e+01 -3.7509e+01  2e-01  7e-16  1e-16\n",
      " 3: -3.7484e+01 -3.7487e+01  3e-03  1e-16  1e-16\n",
      " 4: -3.7487e+01 -3.7487e+01  3e-05  7e-16  9e-17\n",
      "Optimal solution found.\n",
      "     pcost       dcost       gap    pres   dres\n",
      " 0: -3.2966e+01 -1.0017e+02  7e+01  9e-16  1e-16\n",
      " 1: -3.4771e+01 -3.8266e+01  3e+00  7e-15  6e-17\n",
      " 2: -3.6612e+01 -3.6981e+01  4e-01  1e-15  5e-17\n",
      " 3: -3.6628e+01 -3.6633e+01  6e-03  1e-15  5e-17\n",
      " 4: -3.6629e+01 -3.6629e+01  6e-05  8e-15  4e-17\n",
      " 5: -3.6629e+01 -3.6629e+01  6e-07  2e-15  2e-16\n",
      "Optimal solution found.\n",
      "     pcost       dcost       gap    pres   dres\n",
      " 0: -3.3028e+01 -9.9384e+01  7e+01  6e-15  1e-16\n",
      " 1: -3.4899e+01 -3.8466e+01  4e+00  4e-15  3e-16\n",
      " 2: -3.7065e+01 -3.7361e+01  3e-01  4e-16  2e-16\n",
      " 3: -3.7079e+01 -3.7091e+01  1e-02  4e-15  5e-17\n",
      " 4: -3.7084e+01 -3.7084e+01  1e-04  6e-15  3e-16\n",
      " 5: -3.7084e+01 -3.7084e+01  1e-06  7e-16  8e-17\n",
      "Optimal solution found.\n",
      "     pcost       dcost       gap    pres   dres\n",
      " 0: -3.2966e+01 -1.0017e+02  7e+01  8e-16  8e-17\n",
      " 1: -3.4771e+01 -3.8266e+01  3e+00  8e-15  6e-17\n",
      " 2: -3.6612e+01 -3.6981e+01  4e-01  1e-14  1e-16\n",
      " 3: -3.6628e+01 -3.6633e+01  6e-03  6e-15  2e-16\n",
      " 4: -3.6629e+01 -3.6629e+01  6e-05  2e-15  2e-16\n",
      " 5: -3.6629e+01 -3.6629e+01  6e-07  5e-15  2e-16\n",
      "Optimal solution found.\n",
      "     pcost       dcost       gap    pres   dres\n",
      " 0: -3.2966e+01 -1.0017e+02  7e+01  8e-16  8e-17\n",
      " 1: -3.4771e+01 -3.8266e+01  3e+00  1e-14  6e-17\n",
      " 2: -3.6612e+01 -3.6981e+01  4e-01  1e-14  6e-17\n",
      " 3: -3.6628e+01 -3.6633e+01  6e-03  4e-15  2e-16\n",
      " 4: -3.6629e+01 -3.6629e+01  6e-05  9e-16  8e-17\n",
      " 5: -3.6629e+01 -3.6629e+01  6e-07  5e-15  8e-17\n",
      "Optimal solution found.\n",
      "     pcost       dcost       gap    pres   dres\n",
      " 0: -3.3028e+01 -9.9384e+01  7e+01  2e-16  1e-16\n",
      " 1: -3.4899e+01 -3.8466e+01  4e+00  4e-15  3e-16\n",
      " 2: -3.7065e+01 -3.7361e+01  3e-01  4e-16  8e-17\n",
      " 3: -3.7079e+01 -3.7091e+01  1e-02  2e-15  5e-17\n",
      " 4: -3.7084e+01 -3.7084e+01  1e-04  4e-15  2e-16\n",
      " 5: -3.7084e+01 -3.7084e+01  1e-06  6e-15  2e-16\n",
      "Optimal solution found.\n",
      "     pcost       dcost       gap    pres   dres\n",
      " 0: -3.2718e+01 -1.0155e+02  7e+01  4e-15  2e-16\n",
      " 1: -3.4298e+01 -3.7463e+01  3e+00  5e-15  2e-16\n",
      " 2: -3.5564e+01 -3.5786e+01  2e-01  1e-14  9e-17\n",
      " 3: -3.5576e+01 -3.5578e+01  2e-03  4e-16  2e-16\n",
      " 4: -3.5576e+01 -3.5576e+01  2e-05  1e-15  7e-18\n",
      "Optimal solution found.\n",
      "     pcost       dcost       gap    pres   dres\n",
      " 0: -3.7842e+01 -2.8249e+02  2e+02  9e-16  1e-15\n",
      " 1: -3.9579e+01 -5.0838e+01  1e+01  1e-14  7e-17\n",
      " 2: -3.9975e+01 -4.0191e+01  2e-01  9e-15  3e-17\n",
      " 3: -3.9975e+01 -3.9977e+01  2e-03  8e-15  6e-17\n",
      " 4: -3.9975e+01 -3.9975e+01  2e-05  8e-15  7e-17\n",
      "Optimal solution found.\n"
     ]
    },
    {
     "name": "stderr",
     "output_type": "stream",
     "text": [
      "\r",
      " 23%|██▎       | 7/30 [00:01<00:04,  5.18it/s]"
     ]
    },
    {
     "name": "stdout",
     "output_type": "stream",
     "text": [
      "     pcost       dcost       gap    pres   dres\n",
      " 0: -3.7652e+01 -2.9412e+02  3e+02  7e-15  7e-16\n",
      " 1: -3.9348e+01 -5.1684e+01  1e+01  4e-15  1e-16\n",
      " 2: -3.9775e+01 -4.0030e+01  3e-01  4e-15  5e-17\n",
      " 3: -3.9775e+01 -3.9778e+01  3e-03  3e-15  5e-17\n",
      " 4: -3.9775e+01 -3.9775e+01  3e-05  3e-15  4e-17\n",
      "Optimal solution found.\n",
      "     pcost       dcost       gap    pres   dres\n",
      " 0: -3.7771e+01 -2.8851e+02  3e+02  8e-15  7e-16\n",
      " 1: -3.9488e+01 -5.1284e+01  1e+01  5e-15  1e-16\n",
      " 2: -3.9900e+01 -4.0136e+01  2e-01  5e-15  7e-17\n",
      " 3: -3.9900e+01 -3.9902e+01  2e-03  3e-15  4e-17\n",
      " 4: -3.9900e+01 -3.9900e+01  2e-05  4e-15  4e-18\n",
      "Optimal solution found.\n",
      "     pcost       dcost       gap    pres   dres\n",
      " 0: -3.7771e+01 -2.8851e+02  3e+02  9e-15  7e-16\n",
      " 1: -3.9488e+01 -5.1284e+01  1e+01  3e-15  2e-16\n",
      " 2: -3.9900e+01 -4.0136e+01  2e-01  3e-15  6e-17\n",
      " 3: -3.9900e+01 -3.9902e+01  2e-03  7e-15  3e-17\n",
      " 4: -3.9900e+01 -3.9900e+01  2e-05  4e-15  1e-17\n",
      "Optimal solution found.\n",
      "     pcost       dcost       gap    pres   dres\n",
      " 0: -3.7865e+01 -2.7606e+02  2e+02  1e-15  7e-16\n",
      " 1: -3.9619e+01 -5.0347e+01  1e+01  8e-17  1e-16\n",
      " 2: -4.0000e+01 -4.0195e+01  2e-01  2e-16  8e-17\n",
      " 3: -4.0000e+01 -4.0002e+01  2e-03  1e-15  4e-17\n",
      " 4: -4.0000e+01 -4.0000e+01  2e-05  2e-16  4e-17\n",
      "Optimal solution found.\n",
      "     pcost       dcost       gap    pres   dres\n",
      " 0: -3.7865e+01 -2.7606e+02  2e+02  1e-15  7e-16\n",
      " 1: -3.9619e+01 -5.0347e+01  1e+01  8e-17  1e-16\n",
      " 2: -4.0000e+01 -4.0195e+01  2e-01  2e-16  8e-17\n",
      " 3: -4.0000e+01 -4.0002e+01  2e-03  1e-15  4e-17\n",
      " 4: -4.0000e+01 -4.0000e+01  2e-05  2e-16  4e-17\n",
      "Optimal solution found.\n",
      "     pcost       dcost       gap    pres   dres\n",
      " 0: -3.7865e+01 -2.7606e+02  2e+02  4e-16  7e-16\n",
      " 1: -3.9619e+01 -5.0347e+01  1e+01  8e-17  1e-16\n",
      " 2: -4.0000e+01 -4.0195e+01  2e-01  2e-16  8e-17\n",
      " 3: -4.0000e+01 -4.0002e+01  2e-03  4e-16  4e-17\n",
      " 4: -4.0000e+01 -4.0000e+01  2e-05  2e-16  4e-17\n",
      "Optimal solution found.\n",
      "     pcost       dcost       gap    pres   dres\n",
      " 0: -3.7842e+01 -2.8249e+02  2e+02  4e-15  1e-15\n",
      " 1: -3.9579e+01 -5.0838e+01  1e+01  2e-14  1e-16\n",
      " 2: -3.9975e+01 -4.0191e+01  2e-01  1e-14  6e-17\n",
      " 3: -3.9975e+01 -3.9977e+01  2e-03  4e-15  5e-17\n",
      " 4: -3.9975e+01 -3.9975e+01  2e-05  5e-15  6e-17\n",
      "Optimal solution found.\n",
      "     pcost       dcost       gap    pres   dres\n",
      " 0: -3.7487e+01 -2.9932e+02  3e+02  2e-15  3e-16\n",
      " 1: -3.9157e+01 -5.2038e+01  1e+01  2e-15  3e-16\n",
      " 2: -3.9600e+01 -3.9873e+01  3e-01  8e-15  5e-17\n",
      " 3: -3.9600e+01 -3.9603e+01  3e-03  2e-15  3e-17\n",
      " 4: -3.9600e+01 -3.9600e+01  3e-05  6e-15  6e-17\n",
      "Optimal solution found.\n",
      "     pcost       dcost       gap    pres   dres\n",
      " 0: -3.7274e+01 -3.0412e+02  3e+02  6e-15  7e-16\n",
      " 1: -3.8916e+01 -5.2345e+01  1e+01  9e-15  2e-16\n",
      " 2: -3.9375e+01 -3.9667e+01  3e-01  3e-15  7e-17\n",
      " 3: -3.9375e+01 -3.9378e+01  3e-03  2e-16  3e-17\n",
      " 4: -3.9375e+01 -3.9375e+01  3e-05  4e-16  7e-18\n",
      "Optimal solution found.\n",
      "     pcost       dcost       gap    pres   dres\n",
      " 0: -3.7842e+01 -2.8249e+02  2e+02  1e-15  1e-15\n",
      " 1: -3.9579e+01 -5.0838e+01  1e+01  1e-14  1e-16\n",
      " 2: -3.9975e+01 -4.0191e+01  2e-01  6e-15  2e-17\n",
      " 3: -3.9975e+01 -3.9977e+01  2e-03  1e-16  8e-17\n",
      " 4: -3.9975e+01 -3.9975e+01  2e-05  7e-15  6e-17\n",
      "Optimal solution found.\n",
      "     pcost       dcost       gap    pres   dres\n",
      " 0: -3.7842e+01 -2.8249e+02  2e+02  3e-15  1e-15\n",
      " 1: -3.9579e+01 -5.0838e+01  1e+01  2e-15  6e-17\n",
      " 2: -3.9975e+01 -4.0191e+01  2e-01  5e-15  6e-17\n",
      " 3: -3.9975e+01 -3.9977e+01  2e-03  9e-16  7e-17\n",
      " 4: -3.9975e+01 -3.9975e+01  2e-05  5e-15  7e-17\n",
      "Optimal solution found.\n",
      "     pcost       dcost       gap    pres   dres\n",
      " 0: -3.7842e+01 -2.8249e+02  2e+02  5e-15  1e-15\n",
      " 1: -3.9579e+01 -5.0838e+01  1e+01  2e-15  1e-16\n",
      " 2: -3.9975e+01 -4.0191e+01  2e-01  2e-15  6e-17\n",
      " 3: -3.9975e+01 -3.9977e+01  2e-03  8e-15  8e-17\n",
      " 4: -3.9975e+01 -3.9975e+01  2e-05  5e-15  7e-17\n",
      "Optimal solution found.\n",
      "     pcost       dcost       gap    pres   dres\n",
      " 0: -3.7842e+01 -2.8249e+02  2e+02  5e-15  1e-15\n",
      " 1: -3.9579e+01 -5.0838e+01  1e+01  3e-15  1e-16\n",
      " 2: -3.9975e+01 -4.0191e+01  2e-01  3e-15  6e-17\n",
      " 3: -3.9975e+01 -3.9977e+01  2e-03  7e-15  7e-17\n",
      " 4: -3.9975e+01 -3.9975e+01  2e-05  4e-15  7e-17\n",
      "Optimal solution found.\n",
      "     pcost       dcost       gap    pres   dres\n",
      " 0: -3.7865e+01 -2.7606e+02  2e+02  4e-16  7e-16\n",
      " 1: -3.9619e+01 -5.0347e+01  1e+01  8e-17  1e-16\n",
      " 2: -4.0000e+01 -4.0195e+01  2e-01  2e-16  8e-17\n",
      " 3: -4.0000e+01 -4.0002e+01  2e-03  4e-16  4e-17\n",
      " 4: -4.0000e+01 -4.0000e+01  2e-05  2e-16  4e-17\n",
      "Optimal solution found.\n",
      "     pcost       dcost       gap    pres   dres\n",
      " 0: -3.7865e+01 -2.7606e+02  2e+02  4e-16  7e-16\n",
      " 1: -3.9619e+01 -5.0347e+01  1e+01  8e-17  1e-16\n",
      " 2: -4.0000e+01 -4.0195e+01  2e-01  2e-16  8e-17\n",
      " 3: -4.0000e+01 -4.0002e+01  2e-03  4e-16  4e-17\n",
      " 4: -4.0000e+01 -4.0000e+01  2e-05  2e-16  4e-17\n",
      "Optimal solution found.\n",
      "     pcost       dcost       gap    pres   dres\n",
      " 0: -3.7842e+01 -2.8249e+02  2e+02  6e-15  1e-15\n",
      " 1: -3.9579e+01 -5.0838e+01  1e+01  2e-15  8e-17\n",
      " 2: -3.9975e+01 -4.0191e+01  2e-01  6e-15  5e-17\n",
      " 3: -3.9975e+01 -3.9977e+01  2e-03  3e-15  7e-17\n",
      " 4: -3.9975e+01 -3.9975e+01  2e-05  1e-15  7e-17\n",
      "Optimal solution found.\n",
      "     pcost       dcost       gap    pres   dres\n",
      " 0: -3.7865e+01 -2.7606e+02  2e+02  4e-16  7e-16\n",
      " 1: -3.9619e+01 -5.0347e+01  1e+01  8e-17  1e-16\n",
      " 2: -4.0000e+01 -4.0195e+01  2e-01  2e-16  8e-17\n",
      " 3: -4.0000e+01 -4.0002e+01  2e-03  4e-16  4e-17\n",
      " 4: -4.0000e+01 -4.0000e+01  2e-05  2e-16  4e-17\n",
      "Optimal solution found.\n",
      "     pcost       dcost       gap    pres   dres\n",
      " 0: -3.7842e+01 -2.8249e+02  2e+02  4e-15  1e-15\n",
      " 1: -3.9579e+01 -5.0838e+01  1e+01  3e-15  1e-16\n",
      " 2: -3.9975e+01 -4.0191e+01  2e-01  3e-15  6e-17\n",
      " 3: -3.9975e+01 -3.9977e+01  2e-03  7e-15  7e-17\n",
      " 4: -3.9975e+01 -3.9975e+01  2e-05  4e-15  7e-17\n",
      "Optimal solution found.\n",
      "     pcost       dcost       gap    pres   dres\n",
      " 0: -3.7865e+01 -2.7606e+02  2e+02  4e-16  7e-16\n",
      " 1: -3.9619e+01 -5.0347e+01  1e+01  8e-17  1e-16\n",
      " 2: -4.0000e+01 -4.0195e+01  2e-01  2e-16  8e-17\n",
      " 3: -4.0000e+01 -4.0002e+01  2e-03  4e-16  4e-17\n",
      " 4: -4.0000e+01 -4.0000e+01  2e-05  2e-16  4e-17\n",
      "Optimal solution found.\n",
      "     pcost       dcost       gap    pres   dres\n",
      " 0: -3.7771e+01 -2.8851e+02  3e+02  1e-14  7e-16\n",
      " 1: -3.9488e+01 -5.1284e+01  1e+01  9e-15  2e-16\n",
      " 2: -3.9900e+01 -4.0136e+01  2e-01  6e-15  5e-17\n",
      " 3: -3.9900e+01 -3.9902e+01  2e-03  2e-15  2e-17\n",
      " 4: -3.9900e+01 -3.9900e+01  2e-05  8e-15  5e-17\n",
      "Optimal solution found.\n",
      "     pcost       dcost       gap    pres   dres\n",
      " 0: -3.7771e+01 -2.8851e+02  3e+02  2e-14  7e-16\n",
      " 1: -3.9488e+01 -5.1284e+01  1e+01  1e-14  3e-16\n",
      " 2: -3.9900e+01 -4.0136e+01  2e-01  1e-14  5e-17\n",
      " 3: -3.9900e+01 -3.9902e+01  2e-03  1e-15  5e-17\n",
      " 4: -3.9900e+01 -3.9900e+01  2e-05  1e-14  6e-17\n",
      "Optimal solution found.\n",
      "     pcost       dcost       gap    pres   dres\n",
      " 0: -3.7487e+01 -2.9932e+02  3e+02  2e-15  3e-16\n",
      " 1: -3.9157e+01 -5.2038e+01  1e+01  7e-15  2e-16\n",
      " 2: -3.9600e+01 -3.9873e+01  3e-01  1e-14  4e-17\n",
      " 3: -3.9600e+01 -3.9603e+01  3e-03  5e-15  7e-17\n",
      " 4: -3.9600e+01 -3.9600e+01  3e-05  3e-15  4e-17\n",
      "Optimal solution found.\n",
      "     pcost       dcost       gap    pres   dres\n",
      " 0: -3.7771e+01 -2.8851e+02  3e+02  1e-14  7e-16\n",
      " 1: -3.9488e+01 -5.1284e+01  1e+01  3e-15  2e-16\n",
      " 2: -3.9900e+01 -4.0136e+01  2e-01  4e-16  6e-17\n",
      " 3: -3.9900e+01 -3.9902e+01  2e-03  8e-15  4e-17\n",
      " 4: -3.9900e+01 -3.9900e+01  2e-05  9e-16  1e-17\n",
      "Optimal solution found.\n",
      "     pcost       dcost       gap    pres   dres\n",
      " 0: -3.7771e+01 -2.8851e+02  3e+02  1e-14  7e-16\n",
      " 1: -3.9488e+01 -5.1284e+01  1e+01  3e-15  2e-16\n",
      " 2: -3.9900e+01 -4.0136e+01  2e-01  7e-15  6e-17\n",
      " 3: -3.9900e+01 -3.9902e+01  2e-03  9e-15  3e-17\n",
      " 4: -3.9900e+01 -3.9900e+01  2e-05  1e-16  2e-17\n",
      "Optimal solution found.\n",
      "     pcost       dcost       gap    pres   dres\n",
      " 0:  2.2078e+02 -1.4694e+03  2e+03  9e-15  9e-16\n",
      " 1:  2.4864e+00 -1.7653e+02  2e+02  4e-16  8e-16\n",
      " 2: -3.8158e+01 -5.9255e+01  2e+01  7e-15  2e-16\n",
      " 3: -3.9772e+01 -4.0437e+01  7e-01  2e-15  2e-17\n",
      " 4: -3.9775e+01 -3.9782e+01  7e-03  6e-15  7e-17\n",
      " 5: -3.9775e+01 -3.9775e+01  7e-05  2e-16  4e-17\n",
      " 6: -3.9775e+01 -3.9775e+01  7e-07  2e-15  1e-17\n",
      "Optimal solution found.\n",
      "     pcost       dcost       gap    pres   dres\n",
      " 0:  2.2189e+02 -1.3479e+03  2e+03  3e-15  2e-15\n",
      " 1: -1.0361e+00 -1.6712e+02  2e+02  8e-15  1e-15\n",
      " 2: -3.8568e+01 -5.8026e+01  2e+01  3e-14  4e-16\n",
      " 3: -3.9973e+01 -4.0533e+01  6e-01  6e-15  6e-17\n",
      " 4: -3.9975e+01 -3.9981e+01  6e-03  2e-15  4e-17\n",
      " 5: -3.9975e+01 -3.9975e+01  6e-05  7e-15  4e-17\n",
      " 6: -3.9975e+01 -3.9975e+01  6e-07  7e-16  2e-17\n",
      "Optimal solution found.\n",
      "     pcost       dcost       gap    pres   dres\n",
      " 0:  2.2189e+02 -1.3479e+03  2e+03  1e-14  2e-15\n",
      " 1: -1.0361e+00 -1.6712e+02  2e+02  9e-15  3e-16\n",
      " 2: -3.8568e+01 -5.8026e+01  2e+01  2e-14  2e-16\n",
      " 3: -3.9973e+01 -4.0533e+01  6e-01  8e-15  7e-17\n",
      " 4: -3.9975e+01 -3.9981e+01  6e-03  4e-15  7e-17\n",
      " 5: -3.9975e+01 -3.9975e+01  6e-05  1e-14  4e-17\n",
      " 6: -3.9975e+01 -3.9975e+01  6e-07  7e-16  5e-17\n",
      "Optimal solution found.\n",
      "     pcost       dcost       gap    pres   dres\n",
      " 0:  2.1981e+02 -1.5240e+03  2e+03  3e-14  1e-15\n",
      " 1:  4.2484e+00 -1.8102e+02  2e+02  1e-15  3e-16\n",
      " 2: -3.7876e+01 -5.9760e+01  2e+01  9e-16  1e-16\n",
      " 3: -3.9597e+01 -4.0316e+01  7e-01  4e-16  6e-17\n",
      " 4: -3.9600e+01 -3.9607e+01  7e-03  4e-16  2e-17\n",
      " 5: -3.9600e+01 -3.9600e+01  7e-05  2e-15  3e-17\n",
      " 6: -3.9600e+01 -3.9600e+01  7e-07  2e-16  8e-17\n",
      "Optimal solution found.\n",
      "     pcost       dcost       gap    pres   dres\n",
      " 0:  2.2189e+02 -1.3479e+03  2e+03  1e-14  2e-15\n",
      " 1: -1.0361e+00 -1.6712e+02  2e+02  1e-14  3e-16\n",
      " 2: -3.8568e+01 -5.8026e+01  2e+01  3e-14  2e-16\n",
      " 3: -3.9973e+01 -4.0533e+01  6e-01  1e-14  6e-17\n",
      " 4: -3.9975e+01 -3.9981e+01  6e-03  6e-15  4e-17\n",
      " 5: -3.9975e+01 -3.9975e+01  6e-05  2e-14  6e-17\n",
      " 6: -3.9975e+01 -3.9975e+01  6e-07  3e-14  4e-17\n",
      "Optimal solution found.\n"
     ]
    },
    {
     "name": "stderr",
     "output_type": "stream",
     "text": [
      "\r",
      " 27%|██▋       | 8/30 [00:01<00:04,  5.03it/s]"
     ]
    },
    {
     "name": "stdout",
     "output_type": "stream",
     "text": [
      "     pcost       dcost       gap    pres   dres\n",
      " 0:  2.2147e+02 -1.4107e+03  2e+03  1e-14  2e-15\n",
      " 1:  7.2728e-01 -1.7191e+02  2e+02  4e-16  1e-15\n",
      " 2: -3.8388e+01 -5.8678e+01  2e+01  1e-15  1e-16\n",
      " 3: -3.9898e+01 -4.0510e+01  6e-01  3e-15  6e-17\n",
      " 4: -3.9900e+01 -3.9906e+01  6e-03  5e-15  2e-17\n",
      " 5: -3.9900e+01 -3.9900e+01  6e-05  3e-15  3e-17\n",
      " 6: -3.9900e+01 -3.9900e+01  6e-07  6e-15  5e-17\n",
      "Optimal solution found.\n",
      "     pcost       dcost       gap    pres   dres\n",
      " 0:  2.2147e+02 -1.4107e+03  2e+03  1e-15  1e-15\n",
      " 1:  7.2728e-01 -1.7191e+02  2e+02  4e-15  1e-15\n",
      " 2: -3.8388e+01 -5.8678e+01  2e+01  6e-15  2e-16\n",
      " 3: -3.9898e+01 -4.0510e+01  6e-01  1e-16  6e-17\n",
      " 4: -3.9900e+01 -3.9906e+01  6e-03  5e-15  3e-17\n",
      " 5: -3.9900e+01 -3.9900e+01  6e-05  2e-16  5e-17\n",
      " 6: -3.9900e+01 -3.9900e+01  6e-07  3e-15  4e-17\n",
      "Optimal solution found.\n",
      "     pcost       dcost       gap    pres   dres\n",
      " 0:  2.2203e+02 -1.2810e+03  2e+03  9e-16  9e-16\n",
      " 1: -2.8199e+00 -1.6205e+02  2e+02  4e-16  0e+00\n",
      " 2: -3.8699e+01 -5.7292e+01  2e+01  2e-16  0e+00\n",
      " 3: -3.9998e+01 -4.0511e+01  5e-01  5e-17  2e-17\n",
      " 4: -4.0000e+01 -4.0005e+01  5e-03  4e-16  9e-17\n",
      " 5: -4.0000e+01 -4.0000e+01  5e-05  4e-16  2e-17\n",
      " 6: -4.0000e+01 -4.0000e+01  5e-07  4e-16  1e-16\n",
      "Optimal solution found.\n",
      "     pcost       dcost       gap    pres   dres\n",
      " 0:  2.2189e+02 -1.3479e+03  2e+03  8e-15  2e-15\n",
      " 1: -1.0361e+00 -1.6712e+02  2e+02  2e-14  2e-16\n",
      " 2: -3.8568e+01 -5.8026e+01  2e+01  7e-15  5e-16\n",
      " 3: -3.9973e+01 -4.0533e+01  6e-01  6e-15  8e-17\n",
      " 4: -3.9975e+01 -3.9981e+01  6e-03  7e-16  4e-17\n",
      " 5: -3.9975e+01 -3.9975e+01  6e-05  7e-15  3e-17\n",
      " 6: -3.9975e+01 -3.9975e+01  6e-07  7e-16  3e-17\n",
      "Optimal solution found.\n",
      "     pcost       dcost       gap    pres   dres\n",
      " 0:  2.2189e+02 -1.3479e+03  2e+03  1e-14  2e-15\n",
      " 1: -1.0361e+00 -1.6712e+02  2e+02  1e-16  3e-16\n",
      " 2: -3.8568e+01 -5.8026e+01  2e+01  7e-15  2e-16\n",
      " 3: -3.9973e+01 -4.0533e+01  6e-01  8e-15  1e-16\n",
      " 4: -3.9975e+01 -3.9981e+01  6e-03  9e-15  4e-17\n",
      " 5: -3.9975e+01 -3.9975e+01  6e-05  9e-15  4e-17\n",
      " 6: -3.9975e+01 -3.9975e+01  6e-07  3e-16  4e-17\n",
      "Optimal solution found.\n",
      "     pcost       dcost       gap    pres   dres\n",
      " 0:  2.2147e+02 -1.4107e+03  2e+03  2e-14  1e-15\n",
      " 1:  7.2728e-01 -1.7191e+02  2e+02  1e-14  1e-15\n",
      " 2: -3.8388e+01 -5.8678e+01  2e+01  3e-15  6e-17\n",
      " 3: -3.9898e+01 -4.0510e+01  6e-01  4e-15  6e-17\n",
      " 4: -3.9900e+01 -3.9906e+01  6e-03  4e-16  5e-17\n",
      " 5: -3.9900e+01 -3.9900e+01  6e-05  6e-15  5e-17\n",
      " 6: -3.9900e+01 -3.9900e+01  6e-07  9e-15  3e-17\n",
      "Optimal solution found.\n",
      "     pcost       dcost       gap    pres   dres\n",
      " 0:  2.2189e+02 -1.3479e+03  2e+03  2e-14  2e-15\n",
      " 1: -1.0361e+00 -1.6712e+02  2e+02  3e-15  4e-16\n",
      " 2: -3.8568e+01 -5.8026e+01  2e+01  2e-14  2e-16\n",
      " 3: -3.9973e+01 -4.0533e+01  6e-01  2e-14  3e-17\n",
      " 4: -3.9975e+01 -3.9981e+01  6e-03  2e-14  8e-17\n",
      " 5: -3.9975e+01 -3.9975e+01  6e-05  2e-14  7e-17\n",
      " 6: -3.9975e+01 -3.9975e+01  6e-07  6e-15  7e-17\n",
      "Optimal solution found.\n",
      "     pcost       dcost       gap    pres   dres\n",
      " 0:  2.2147e+02 -1.4107e+03  2e+03  2e-14  1e-15\n",
      " 1:  7.2728e-01 -1.7191e+02  2e+02  3e-15  1e-15\n",
      " 2: -3.8388e+01 -5.8678e+01  2e+01  1e-15  2e-16\n",
      " 3: -3.9898e+01 -4.0510e+01  6e-01  7e-15  1e-16\n",
      " 4: -3.9900e+01 -3.9906e+01  6e-03  5e-15  5e-17\n",
      " 5: -3.9900e+01 -3.9900e+01  6e-05  3e-15  4e-17\n",
      " 6: -3.9900e+01 -3.9900e+01  6e-07  4e-15  7e-17\n",
      "Optimal solution found.\n",
      "     pcost       dcost       gap    pres   dres\n",
      " 0:  2.2189e+02 -1.3479e+03  2e+03  4e-14  2e-15\n",
      " 1: -1.0361e+00 -1.6712e+02  2e+02  4e-14  5e-16\n",
      " 2: -3.8568e+01 -5.8026e+01  2e+01  2e-14  1e-16\n",
      " 3: -3.9973e+01 -4.0533e+01  6e-01  4e-16  3e-17\n",
      " 4: -3.9975e+01 -3.9981e+01  6e-03  2e-14  3e-17\n",
      " 5: -3.9975e+01 -3.9975e+01  6e-05  2e-14  6e-17\n",
      " 6: -3.9975e+01 -3.9975e+01  6e-07  4e-15  3e-17\n",
      "Optimal solution found.\n",
      "     pcost       dcost       gap    pres   dres\n",
      " 0:  2.1981e+02 -1.5240e+03  2e+03  5e-14  1e-15\n",
      " 1:  4.2484e+00 -1.8102e+02  2e+02  2e-14  4e-16\n",
      " 2: -3.7876e+01 -5.9760e+01  2e+01  1e-14  3e-16\n",
      " 3: -3.9597e+01 -4.0316e+01  7e-01  1e-14  7e-17\n",
      " 4: -3.9600e+01 -3.9607e+01  7e-03  4e-15  4e-17\n",
      " 5: -3.9600e+01 -3.9600e+01  7e-05  3e-15  3e-17\n",
      " 6: -3.9600e+01 -3.9600e+01  7e-07  4e-15  8e-17\n",
      "Optimal solution found.\n",
      "     pcost       dcost       gap    pres   dres\n",
      " 0:  2.2203e+02 -1.2810e+03  2e+03  4e-15  9e-16\n",
      " 1: -2.8199e+00 -1.6205e+02  2e+02  1e-15  2e-16\n",
      " 2: -3.8699e+01 -5.7292e+01  2e+01  2e-16  6e-17\n",
      " 3: -3.9998e+01 -4.0511e+01  5e-01  1e-16  7e-17\n",
      " 4: -4.0000e+01 -4.0005e+01  5e-03  4e-16  9e-17\n",
      " 5: -4.0000e+01 -4.0000e+01  5e-05  4e-16  2e-17\n",
      " 6: -4.0000e+01 -4.0000e+01  5e-07  4e-16  1e-16\n",
      "Optimal solution found.\n",
      "     pcost       dcost       gap    pres   dres\n",
      " 0:  2.2147e+02 -1.4107e+03  2e+03  4e-15  1e-15\n",
      " 1:  7.2728e-01 -1.7191e+02  2e+02  2e-15  1e-15\n",
      " 2: -3.8388e+01 -5.8678e+01  2e+01  4e-15  1e-16\n",
      " 3: -3.9898e+01 -4.0510e+01  6e-01  8e-15  6e-17\n",
      " 4: -3.9900e+01 -3.9906e+01  6e-03  7e-15  5e-17\n",
      " 5: -3.9900e+01 -3.9900e+01  6e-05  7e-15  2e-17\n",
      " 6: -3.9900e+01 -3.9900e+01  6e-07  8e-15  1e-17\n",
      "Optimal solution found.\n",
      "     pcost       dcost       gap    pres   dres\n",
      " 0:  2.2078e+02 -1.4694e+03  2e+03  7e-15  9e-16\n",
      " 1:  2.4864e+00 -1.7653e+02  2e+02  2e-15  9e-16\n",
      " 2: -3.8158e+01 -5.9255e+01  2e+01  6e-15  2e-16\n",
      " 3: -3.9772e+01 -4.0437e+01  7e-01  2e-15  3e-17\n",
      " 4: -3.9775e+01 -3.9782e+01  7e-03  7e-15  7e-17\n",
      " 5: -3.9775e+01 -3.9775e+01  7e-05  3e-15  3e-17\n",
      " 6: -3.9775e+01 -3.9775e+01  7e-07  4e-15  4e-17\n",
      "Optimal solution found.\n",
      "     pcost       dcost       gap    pres   dres\n",
      " 0:  2.2147e+02 -1.4107e+03  2e+03  4e-15  1e-15\n",
      " 1:  7.2728e-01 -1.7191e+02  2e+02  4e-15  1e-15\n",
      " 2: -3.8388e+01 -5.8678e+01  2e+01  8e-15  3e-16\n",
      " 3: -3.9898e+01 -4.0510e+01  6e-01  6e-15  6e-17\n",
      " 4: -3.9900e+01 -3.9906e+01  6e-03  6e-15  4e-17\n",
      " 5: -3.9900e+01 -3.9900e+01  6e-05  8e-15  2e-17\n",
      " 6: -3.9900e+01 -3.9900e+01  6e-07  5e-15  5e-18\n",
      "Optimal solution found.\n",
      "     pcost       dcost       gap    pres   dres\n",
      " 0:  2.2078e+02 -1.4694e+03  2e+03  1e-14  9e-16\n",
      " 1:  2.4864e+00 -1.7653e+02  2e+02  6e-15  8e-16\n",
      " 2: -3.8158e+01 -5.9255e+01  2e+01  2e-15  2e-17\n",
      " 3: -3.9772e+01 -4.0437e+01  7e-01  3e-15  5e-17\n",
      " 4: -3.9775e+01 -3.9782e+01  7e-03  1e-14  6e-17\n",
      " 5: -3.9775e+01 -3.9775e+01  7e-05  6e-15  8e-17\n",
      " 6: -3.9775e+01 -3.9775e+01  7e-07  2e-15  4e-18\n",
      "Optimal solution found.\n",
      "     pcost       dcost       gap    pres   dres\n",
      " 0:  2.2189e+02 -1.3479e+03  2e+03  9e-15  2e-15\n",
      " 1: -1.0361e+00 -1.6712e+02  2e+02  1e-14  3e-16\n",
      " 2: -3.8568e+01 -5.8026e+01  2e+01  2e-15  2e-16\n",
      " 3: -3.9973e+01 -4.0533e+01  6e-01  7e-15  8e-17\n",
      " 4: -3.9975e+01 -3.9981e+01  6e-03  2e-15  4e-17\n",
      " 5: -3.9975e+01 -3.9975e+01  6e-05  1e-15  4e-17\n",
      " 6: -3.9975e+01 -3.9975e+01  6e-07  5e-15  6e-17\n",
      "Optimal solution found.\n",
      "     pcost       dcost       gap    pres   dres\n",
      " 0:  2.2203e+02 -1.2810e+03  2e+03  9e-16  9e-16\n",
      " 1: -2.8199e+00 -1.6205e+02  2e+02  4e-16  0e+00\n",
      " 2: -3.8699e+01 -5.7292e+01  2e+01  2e-16  3e-17\n",
      " 3: -3.9998e+01 -4.0511e+01  5e-01  5e-17  3e-17\n",
      " 4: -4.0000e+01 -4.0005e+01  5e-03  4e-16  9e-17\n",
      " 5: -4.0000e+01 -4.0000e+01  5e-05  4e-16  2e-17\n",
      " 6: -4.0000e+01 -4.0000e+01  5e-07  4e-16  1e-16\n",
      "Optimal solution found.\n",
      "     pcost       dcost       gap    pres   dres\n",
      " 0:  2.2189e+02 -1.3479e+03  2e+03  1e-14  2e-15\n",
      " 1: -1.0361e+00 -1.6712e+02  2e+02  1e-14  3e-16\n",
      " 2: -3.8568e+01 -5.8026e+01  2e+01  2e-15  1e-16\n",
      " 3: -3.9973e+01 -4.0533e+01  6e-01  7e-15  8e-17\n",
      " 4: -3.9975e+01 -3.9981e+01  6e-03  1e-15  4e-17\n",
      " 5: -3.9975e+01 -3.9975e+01  6e-05  5e-15  4e-17\n",
      " 6: -3.9975e+01 -3.9975e+01  6e-07  6e-15  4e-17\n",
      "Optimal solution found.\n",
      "     pcost       dcost       gap    pres   dres\n",
      " 0:  2.2189e+02 -1.3479e+03  2e+03  2e-14  2e-15\n",
      " 1: -1.0361e+00 -1.6712e+02  2e+02  1e-14  3e-16\n",
      " 2: -3.8568e+01 -5.8026e+01  2e+01  6e-15  3e-16\n",
      " 3: -3.9973e+01 -4.0533e+01  6e-01  3e-15  9e-17\n",
      " 4: -3.9975e+01 -3.9981e+01  6e-03  4e-15  3e-17\n",
      " 5: -3.9975e+01 -3.9975e+01  6e-05  4e-15  4e-17\n",
      " 6: -3.9975e+01 -3.9975e+01  6e-07  5e-15  5e-17\n",
      "Optimal solution found.\n",
      "     pcost       dcost       gap    pres   dres\n",
      " 0:  2.2189e+02 -1.3479e+03  2e+03  1e-14  2e-15\n",
      " 1: -1.0361e+00 -1.6712e+02  2e+02  1e-14  3e-16\n",
      " 2: -3.8568e+01 -5.8026e+01  2e+01  6e-15  3e-16\n",
      " 3: -3.9973e+01 -4.0533e+01  6e-01  3e-15  9e-17\n",
      " 4: -3.9975e+01 -3.9981e+01  6e-03  4e-15  3e-17\n",
      " 5: -3.9975e+01 -3.9975e+01  6e-05  4e-15  4e-17\n",
      " 6: -3.9975e+01 -3.9975e+01  6e-07  4e-15  5e-17\n",
      "Optimal solution found.\n",
      "     pcost       dcost       gap    pres   dres\n",
      " 0:  4.7333e+03 -9.2784e+03  1e+04  1e-13  8e-15\n",
      " 1:  6.3148e+02 -1.2550e+03  2e+03  4e-14  2e-15\n",
      " 2:  2.7355e+01 -2.2705e+02  3e+02  1e-13  1e-15\n",
      " 3: -3.6772e+01 -6.7387e+01  3e+01  4e-16  4e-16\n",
      " 4: -3.9963e+01 -4.1411e+01  1e+00  2e-14  1e-16\n",
      " 5: -3.9975e+01 -3.9990e+01  1e-02  2e-15  3e-17\n",
      " 6: -3.9975e+01 -3.9975e+01  1e-04  4e-16  3e-17\n",
      " 7: -3.9975e+01 -3.9975e+01  1e-06  1e-14  8e-17\n",
      "Optimal solution found.\n",
      "     pcost       dcost       gap    pres   dres\n",
      " 0:  4.7333e+03 -9.2784e+03  1e+04  1e-13  8e-15\n",
      " 1:  6.3148e+02 -1.2550e+03  2e+03  7e-15  2e-15\n",
      " 2:  2.7355e+01 -2.2705e+02  3e+02  6e-14  1e-15\n",
      " 3: -3.6772e+01 -6.7387e+01  3e+01  9e-15  2e-16\n",
      " 4: -3.9963e+01 -4.1411e+01  1e+00  1e-14  6e-17\n",
      " 5: -3.9975e+01 -3.9990e+01  1e-02  8e-15  3e-17\n",
      " 6: -3.9975e+01 -3.9975e+01  1e-04  6e-15  3e-17\n",
      " 7: -3.9975e+01 -3.9975e+01  1e-06  5e-15  2e-17\n",
      "Optimal solution found.\n",
      "     pcost       dcost       gap    pres   dres\n",
      " 0:  4.6623e+03 -1.2014e+04  2e+04  3e-14  8e-15\n",
      " 1:  7.2356e+02 -1.3017e+03  2e+03  1e-13  5e-15\n",
      " 2:  3.8770e+01 -2.5136e+02  3e+02  4e-14  2e-15\n",
      " 3: -3.5349e+01 -7.0378e+01  4e+01  4e-15  3e-16\n",
      " 4: -3.9355e+01 -4.1232e+01  2e+00  2e-15  7e-17\n",
      " 5: -3.9375e+01 -3.9395e+01  2e-02  2e-15  4e-17\n",
      " 6: -3.9375e+01 -3.9375e+01  2e-04  7e-15  6e-17\n",
      " 7: -3.9375e+01 -3.9375e+01  2e-06  4e-15  6e-17\n",
      "Optimal solution found.\n",
      "     pcost       dcost       gap    pres   dres\n",
      " 0:  4.7244e+03 -1.0035e+04  1e+04  4e-15  9e-15\n",
      " 1:  6.4935e+02 -1.2466e+03  2e+03  1e-14  2e-15\n",
      " 2:  2.9414e+01 -2.3222e+02  3e+02  2e-14  3e-16\n",
      " 3: -3.6551e+01 -6.7978e+01  3e+01  4e-16  2e-16\n",
      " 4: -3.9887e+01 -4.1411e+01  2e+00  4e-15  6e-17\n"
     ]
    },
    {
     "name": "stderr",
     "output_type": "stream",
     "text": [
      "\r",
      " 30%|███       | 9/30 [00:01<00:04,  4.79it/s]"
     ]
    },
    {
     "name": "stdout",
     "output_type": "stream",
     "text": [
      " 5: -3.9900e+01 -3.9916e+01  2e-02  7e-15  4e-17\n",
      " 6: -3.9900e+01 -3.9900e+01  2e-04  2e-14  5e-17\n",
      " 7: -3.9900e+01 -3.9900e+01  2e-06  1e-14  1e-17\n",
      "Optimal solution found.\n",
      "     pcost       dcost       gap    pres   dres\n",
      " 0:  4.7096e+03 -1.0743e+04  2e+04  6e-14  8e-15\n",
      " 1:  6.6680e+02 -1.2362e+03  2e+03  9e-14  7e-16\n",
      " 2:  3.1476e+01 -2.3727e+02  3e+02  1e-15  4e-16\n",
      " 3: -3.6279e+01 -6.8492e+01  3e+01  6e-15  4e-16\n",
      " 4: -3.9761e+01 -4.1361e+01  2e+00  9e-16  1e-16\n",
      " 5: -3.9775e+01 -3.9792e+01  2e-02  2e-16  5e-17\n",
      " 6: -3.9775e+01 -3.9775e+01  2e-04  3e-15  3e-17\n",
      " 7: -3.9775e+01 -3.9775e+01  2e-06  2e-15  7e-17\n",
      "Optimal solution found.\n",
      "     pcost       dcost       gap    pres   dres\n",
      " 0:  4.7333e+03 -9.2784e+03  1e+04  9e-14  8e-15\n",
      " 1:  6.3148e+02 -1.2550e+03  2e+03  1e-13  2e-15\n",
      " 2:  2.7355e+01 -2.2705e+02  3e+02  2e-14  1e-15\n",
      " 3: -3.6772e+01 -6.7387e+01  3e+01  1e-14  2e-16\n",
      " 4: -3.9963e+01 -4.1411e+01  1e+00  1e-14  9e-17\n",
      " 5: -3.9975e+01 -3.9990e+01  1e-02  7e-15  3e-17\n",
      " 6: -3.9975e+01 -3.9975e+01  1e-04  1e-14  2e-17\n",
      " 7: -3.9975e+01 -3.9975e+01  1e-06  5e-15  4e-17\n",
      "Optimal solution found.\n",
      "     pcost       dcost       gap    pres   dres\n",
      " 0:  4.7244e+03 -1.0035e+04  1e+04  5e-14  9e-15\n",
      " 1:  6.4935e+02 -1.2466e+03  2e+03  4e-14  3e-15\n",
      " 2:  2.9414e+01 -2.3222e+02  3e+02  4e-14  5e-16\n",
      " 3: -3.6551e+01 -6.7978e+01  3e+01  1e-15  8e-17\n",
      " 4: -3.9887e+01 -4.1411e+01  2e+00  6e-15  7e-17\n",
      " 5: -3.9900e+01 -3.9916e+01  2e-02  2e-15  2e-17\n",
      " 6: -3.9900e+01 -3.9900e+01  2e-04  4e-16  4e-17\n",
      " 7: -3.9900e+01 -3.9900e+01  2e-06  4e-15  7e-17\n",
      "Optimal solution found.\n",
      "     pcost       dcost       gap    pres   dres\n",
      " 0:  4.7333e+03 -9.2784e+03  1e+04  1e-13  8e-15\n",
      " 1:  6.3148e+02 -1.2550e+03  2e+03  3e-14  2e-15\n",
      " 2:  2.7355e+01 -2.2705e+02  3e+02  2e-14  1e-15\n",
      " 3: -3.6772e+01 -6.7387e+01  3e+01  6e-15  2e-16\n",
      " 4: -3.9963e+01 -4.1411e+01  1e+00  1e-14  1e-16\n",
      " 5: -3.9975e+01 -3.9990e+01  1e-02  3e-15  5e-17\n",
      " 6: -3.9975e+01 -3.9975e+01  1e-04  5e-15  4e-17\n",
      " 7: -3.9975e+01 -3.9975e+01  1e-06  9e-15  3e-17\n",
      "Optimal solution found.\n",
      "     pcost       dcost       gap    pres   dres\n",
      " 0:  4.7333e+03 -9.2784e+03  1e+04  1e-13  8e-15\n",
      " 1:  6.3148e+02 -1.2550e+03  2e+03  3e-14  2e-15\n",
      " 2:  2.7355e+01 -2.2705e+02  3e+02  2e-14  8e-16\n",
      " 3: -3.6772e+01 -6.7387e+01  3e+01  4e-15  2e-16\n",
      " 4: -3.9963e+01 -4.1411e+01  1e+00  1e-14  9e-17\n",
      " 5: -3.9975e+01 -3.9990e+01  1e-02  6e-15  3e-17\n",
      " 6: -3.9975e+01 -3.9975e+01  1e-04  6e-15  1e-17\n",
      " 7: -3.9975e+01 -3.9975e+01  1e-06  4e-15  2e-17\n",
      "Optimal solution found.\n",
      "     pcost       dcost       gap    pres   dres\n",
      " 0:  4.7096e+03 -1.0743e+04  2e+04  6e-14  8e-15\n",
      " 1:  6.6680e+02 -1.2362e+03  2e+03  1e-13  7e-16\n",
      " 2:  3.1476e+01 -2.3727e+02  3e+02  9e-16  6e-16\n",
      " 3: -3.6279e+01 -6.8492e+01  3e+01  9e-15  2e-16\n",
      " 4: -3.9761e+01 -4.1361e+01  2e+00  1e-15  4e-17\n",
      " 5: -3.9775e+01 -3.9792e+01  2e-02  3e-15  6e-17\n",
      " 6: -3.9775e+01 -3.9775e+01  2e-04  2e-15  3e-17\n",
      " 7: -3.9775e+01 -3.9775e+01  2e-06  1e-15  5e-17\n",
      "Optimal solution found.\n",
      "     pcost       dcost       gap    pres   dres\n",
      " 0:  4.7244e+03 -1.0035e+04  1e+04  1e-14  9e-15\n",
      " 1:  6.4935e+02 -1.2466e+03  2e+03  2e-14  2e-15\n",
      " 2:  2.9414e+01 -2.3222e+02  3e+02  2e-14  3e-16\n",
      " 3: -3.6551e+01 -6.7978e+01  3e+01  2e-14  1e-16\n",
      " 4: -3.9887e+01 -4.1411e+01  2e+00  4e-15  9e-17\n",
      " 5: -3.9900e+01 -3.9916e+01  2e-02  5e-15  4e-17\n",
      " 6: -3.9900e+01 -3.9900e+01  2e-04  2e-15  5e-17\n",
      " 7: -3.9900e+01 -3.9900e+01  2e-06  4e-16  6e-17\n",
      "Optimal solution found.\n",
      "     pcost       dcost       gap    pres   dres\n",
      " 0:  4.7363e+03 -8.4730e+03  1e+04  1e-14  4e-15\n",
      " 1:  6.1325e+02 -1.2618e+03  2e+03  2e-15  5e-15\n",
      " 2:  2.5312e+01 -2.2177e+02  2e+02  9e-16  7e-16\n",
      " 3: -3.6941e+01 -6.6724e+01  3e+01  9e-15  3e-16\n",
      " 4: -3.9989e+01 -4.1363e+01  1e+00  1e-16  1e-16\n",
      " 5: -4.0000e+01 -4.0014e+01  1e-02  4e-16  8e-17\n",
      " 6: -4.0000e+01 -4.0000e+01  1e-04  4e-16  6e-17\n",
      " 7: -4.0000e+01 -4.0000e+01  1e-06  4e-16  4e-17\n",
      "Optimal solution found.\n",
      "     pcost       dcost       gap    pres   dres\n",
      " 0:  4.7244e+03 -1.0035e+04  1e+04  3e-14  9e-15\n",
      " 1:  6.4935e+02 -1.2466e+03  2e+03  1e-14  2e-15\n",
      " 2:  2.9414e+01 -2.3222e+02  3e+02  2e-14  2e-16\n",
      " 3: -3.6551e+01 -6.7978e+01  3e+01  4e-16  2e-16\n",
      " 4: -3.9887e+01 -4.1411e+01  2e+00  2e-15  5e-17\n",
      " 5: -3.9900e+01 -3.9916e+01  2e-02  3e-15  2e-17\n",
      " 6: -3.9900e+01 -3.9900e+01  2e-04  1e-14  8e-17\n",
      " 7: -3.9900e+01 -3.9900e+01  2e-06  5e-15  6e-17\n",
      "Optimal solution found.\n",
      "     pcost       dcost       gap    pres   dres\n",
      " 0:  4.7244e+03 -1.0035e+04  1e+04  3e-14  9e-15\n",
      " 1:  6.4935e+02 -1.2466e+03  2e+03  1e-14  2e-15\n",
      " 2:  2.9414e+01 -2.3222e+02  3e+02  2e-14  3e-16\n",
      " 3: -3.6551e+01 -6.7978e+01  3e+01  4e-16  2e-16\n",
      " 4: -3.9887e+01 -4.1411e+01  2e+00  3e-15  4e-17\n",
      " 5: -3.9900e+01 -3.9916e+01  2e-02  3e-15  3e-17\n",
      " 6: -3.9900e+01 -3.9900e+01  2e-04  1e-14  8e-17\n",
      " 7: -3.9900e+01 -3.9900e+01  2e-06  5e-15  6e-17\n",
      "Optimal solution found.\n",
      "     pcost       dcost       gap    pres   dres\n",
      " 0:  4.7244e+03 -1.0035e+04  1e+04  2e-14  9e-15\n",
      " 1:  6.4935e+02 -1.2466e+03  2e+03  2e-14  3e-15\n",
      " 2:  2.9414e+01 -2.3222e+02  3e+02  2e-14  3e-16\n",
      " 3: -3.6551e+01 -6.7978e+01  3e+01  9e-15  4e-17\n",
      " 4: -3.9887e+01 -4.1411e+01  2e+00  3e-15  4e-17\n",
      " 5: -3.9900e+01 -3.9916e+01  2e-02  8e-15  4e-17\n",
      " 6: -3.9900e+01 -3.9900e+01  2e-04  2e-14  4e-17\n",
      " 7: -3.9900e+01 -3.9900e+01  2e-06  1e-14  2e-17\n",
      "Optimal solution found.\n",
      "     pcost       dcost       gap    pres   dres\n",
      " 0:  4.7363e+03 -8.4730e+03  1e+04  1e-14  4e-15\n",
      " 1:  6.1325e+02 -1.2618e+03  2e+03  5e-15  5e-15\n",
      " 2:  2.5312e+01 -2.2177e+02  2e+02  3e-15  7e-16\n",
      " 3: -3.6941e+01 -6.6724e+01  3e+01  5e-15  3e-16\n",
      " 4: -3.9989e+01 -4.1363e+01  1e+00  3e-15  6e-17\n",
      " 5: -4.0000e+01 -4.0014e+01  1e-02  1e-14  5e-17\n",
      " 6: -4.0000e+01 -4.0000e+01  1e-04  6e-15  7e-17\n",
      " 7: -4.0000e+01 -4.0000e+01  1e-06  1e-15  6e-17\n",
      "Optimal solution found.\n",
      "     pcost       dcost       gap    pres   dres\n",
      " 0:  4.7096e+03 -1.0743e+04  2e+04  8e-14  8e-15\n",
      " 1:  6.6680e+02 -1.2362e+03  2e+03  1e-13  7e-16\n",
      " 2:  3.1476e+01 -2.3727e+02  3e+02  9e-15  1e-15\n",
      " 3: -3.6279e+01 -6.8492e+01  3e+01  6e-15  2e-16\n",
      " 4: -3.9761e+01 -4.1361e+01  2e+00  4e-16  3e-17\n",
      " 5: -3.9775e+01 -3.9792e+01  2e-02  3e-16  5e-17\n",
      " 6: -3.9775e+01 -3.9775e+01  2e-04  3e-15  4e-17\n",
      " 7: -3.9775e+01 -3.9775e+01  2e-06  9e-16  7e-17\n",
      "Optimal solution found.\n",
      "     pcost       dcost       gap    pres   dres\n",
      " 0:  4.7363e+03 -8.4730e+03  1e+04  1e-14  4e-15\n",
      " 1:  6.1325e+02 -1.2618e+03  2e+03  5e-15  5e-15\n",
      " 2:  2.5312e+01 -2.2177e+02  2e+02  3e-15  8e-16\n",
      " 3: -3.6941e+01 -6.6724e+01  3e+01  6e-15  3e-16\n",
      " 4: -3.9989e+01 -4.1363e+01  1e+00  5e-15  1e-16\n",
      " 5: -4.0000e+01 -4.0014e+01  1e-02  9e-15  8e-17\n",
      " 6: -4.0000e+01 -4.0000e+01  1e-04  1e-15  6e-17\n",
      " 7: -4.0000e+01 -4.0000e+01  1e-06  1e-15  5e-17\n",
      "Optimal solution found.\n",
      "     pcost       dcost       gap    pres   dres\n",
      " 0:  4.7096e+03 -1.0743e+04  2e+04  7e-14  8e-15\n",
      " 1:  6.6680e+02 -1.2362e+03  2e+03  2e-13  1e-15\n",
      " 2:  3.1476e+01 -2.3727e+02  3e+02  3e-14  1e-15\n",
      " 3: -3.6279e+01 -6.8492e+01  3e+01  6e-15  3e-16\n",
      " 4: -3.9761e+01 -4.1361e+01  2e+00  2e-15  7e-17\n",
      " 5: -3.9775e+01 -3.9792e+01  2e-02  2e-15  4e-17\n",
      " 6: -3.9775e+01 -3.9775e+01  2e-04  2e-15  3e-17\n",
      " 7: -3.9775e+01 -3.9775e+01  2e-06  1e-15  7e-17\n",
      "Optimal solution found.\n",
      "     pcost       dcost       gap    pres   dres\n",
      " 0:  4.7363e+03 -8.4730e+03  1e+04  1e-14  4e-15\n",
      " 1:  6.1325e+02 -1.2618e+03  2e+03  5e-15  5e-15\n",
      " 2:  2.5312e+01 -2.2177e+02  2e+02  4e-15  5e-16\n",
      " 3: -3.6941e+01 -6.6724e+01  3e+01  1e-15  2e-16\n",
      " 4: -3.9989e+01 -4.1363e+01  1e+00  2e-16  1e-16\n",
      " 5: -4.0000e+01 -4.0014e+01  1e-02  1e-15  7e-17\n",
      " 6: -4.0000e+01 -4.0000e+01  1e-04  1e-15  6e-17\n",
      " 7: -4.0000e+01 -4.0000e+01  1e-06  1e-15  5e-17\n",
      "Optimal solution found.\n",
      "     pcost       dcost       gap    pres   dres\n",
      " 0:  4.7333e+03 -9.2784e+03  1e+04  1e-13  8e-15\n",
      " 1:  6.3148e+02 -1.2550e+03  2e+03  1e-13  1e-15\n",
      " 2:  2.7355e+01 -2.2705e+02  3e+02  2e-14  5e-16\n",
      " 3: -3.6772e+01 -6.7387e+01  3e+01  2e-14  2e-16\n",
      " 4: -3.9963e+01 -4.1411e+01  1e+00  1e-14  6e-17\n",
      " 5: -3.9975e+01 -3.9990e+01  1e-02  1e-14  7e-17\n",
      " 6: -3.9975e+01 -3.9975e+01  1e-04  2e-15  6e-17\n",
      " 7: -3.9975e+01 -3.9975e+01  1e-06  2e-16  2e-17\n",
      "Optimal solution found.\n",
      "     pcost       dcost       gap    pres   dres\n",
      " 0:  4.7096e+03 -1.0743e+04  2e+04  2e-14  8e-15\n",
      " 1:  6.6680e+02 -1.2362e+03  2e+03  8e-14  2e-15\n",
      " 2:  3.1476e+01 -2.3727e+02  3e+02  8e-14  4e-16\n",
      " 3: -3.6279e+01 -6.8492e+01  3e+01  5e-14  3e-16\n",
      " 4: -3.9761e+01 -4.1361e+01  2e+00  1e-14  3e-17\n",
      " 5: -3.9775e+01 -3.9792e+01  2e-02  8e-15  2e-17\n",
      " 6: -3.9775e+01 -3.9775e+01  2e-04  2e-14  3e-17\n",
      " 7: -3.9775e+01 -3.9775e+01  2e-06  8e-15  4e-17\n",
      "Optimal solution found.\n",
      "     pcost       dcost       gap    pres   dres\n",
      " 0:  4.6623e+03 -1.2014e+04  2e+04  2e-14  8e-15\n",
      " 1:  7.2356e+02 -1.3017e+03  2e+03  1e-13  5e-15\n",
      " 2:  3.8770e+01 -2.5136e+02  3e+02  4e-14  2e-15\n",
      " 3: -3.5349e+01 -7.0378e+01  4e+01  2e-16  3e-16\n",
      " 4: -3.9355e+01 -4.1232e+01  2e+00  4e-15  1e-16\n",
      " 5: -3.9375e+01 -3.9395e+01  2e-02  3e-15  3e-17\n",
      " 6: -3.9375e+01 -3.9375e+01  2e-04  9e-16  6e-17\n",
      " 7: -3.9375e+01 -3.9375e+01  2e-06  2e-15  6e-17\n",
      "Optimal solution found.\n",
      "     pcost       dcost       gap    pres   dres\n",
      " 0:  4.7244e+03 -1.0035e+04  1e+04  2e-14  9e-15\n",
      " 1:  6.4935e+02 -1.2466e+03  2e+03  4e-15  2e-15\n",
      " 2:  2.9414e+01 -2.3222e+02  3e+02  2e-14  5e-16\n",
      " 3: -3.6551e+01 -6.7978e+01  3e+01  1e-15  2e-16\n",
      " 4: -3.9887e+01 -4.1411e+01  2e+00  2e-15  4e-17\n",
      " 5: -3.9900e+01 -3.9916e+01  2e-02  2e-15  2e-17\n",
      " 6: -3.9900e+01 -3.9900e+01  2e-04  2e-16  7e-17\n",
      " 7: -3.9900e+01 -3.9900e+01  2e-06  2e-16  7e-17\n",
      "Optimal solution found.\n",
      "     pcost       dcost       gap    pres   dres\n",
      " 0:  4.7333e+03 -9.2784e+03  1e+04  8e-14  8e-15\n",
      " 1:  6.3148e+02 -1.2550e+03  2e+03  1e-13  2e-15\n",
      " 2:  2.7355e+01 -2.2705e+02  3e+02  2e-14  4e-16\n",
      " 3: -3.6772e+01 -6.7387e+01  3e+01  2e-14  1e-16\n",
      " 4: -3.9963e+01 -4.1411e+01  1e+00  5e-15  5e-17\n",
      " 5: -3.9975e+01 -3.9990e+01  1e-02  4e-15  5e-17\n",
      " 6: -3.9975e+01 -3.9975e+01  1e-04  5e-15  2e-17\n",
      " 7: -3.9975e+01 -3.9975e+01  1e-06  1e-15  3e-17\n",
      "Optimal solution found.\n",
      "     pcost       dcost       gap    pres   dres\n",
      " 0:  6.7200e+04 -8.0560e+04  1e+05  4e-14  1e-14\n",
      " 1:  9.5363e+03 -1.5289e+04  2e+04  7e-15  7e-15\n"
     ]
    },
    {
     "name": "stdout",
     "output_type": "stream",
     "text": [
      " 2:  1.2339e+03 -1.9062e+03  3e+03  9e-14  3e-15\n",
      " 3:  9.8453e+01 -3.5242e+02  5e+02  3e-14  6e-16\n",
      " 4: -3.1105e+01 -8.9385e+01  6e+01  1e-14  5e-16\n",
      " 5: -3.9901e+01 -4.4250e+01  4e+00  5e-17  5e-17\n",
      " 6: -4.0000e+01 -4.0054e+01  5e-02  2e-15  1e-16\n",
      " 7: -4.0000e+01 -4.0001e+01  5e-04  4e-16  9e-17\n",
      " 8: -4.0000e+01 -4.0000e+01  5e-06  6e-17  8e-17\n",
      "Optimal solution found.\n",
      "     pcost       dcost       gap    pres   dres\n",
      " 0:  6.7158e+04 -9.0753e+04  2e+05  2e-13  2e-14\n",
      " 1:  9.7648e+03 -1.5250e+04  3e+04  3e-13  5e-15\n",
      " 2:  1.2642e+03 -1.9591e+03  3e+03  5e-14  1e-15\n",
      " 3:  1.0226e+02 -3.5857e+02  5e+02  5e-15  1e-15\n",
      " 4: -3.0744e+01 -9.0469e+01  6e+01  7e-15  6e-16\n",
      " 5: -3.9868e+01 -4.4387e+01  5e+00  9e-16  5e-17\n",
      " 6: -3.9975e+01 -4.0031e+01  6e-02  2e-15  8e-17\n",
      " 7: -3.9975e+01 -3.9976e+01  6e-04  6e-15  8e-17\n",
      " 8: -3.9975e+01 -3.9975e+01  6e-06  1e-15  5e-17\n",
      "Optimal solution found.\n",
      "     pcost       dcost       gap    pres   dres\n",
      " 0:  6.7158e+04 -9.0753e+04  2e+05  2e-13  2e-14\n",
      " 1:  9.7648e+03 -1.5250e+04  3e+04  3e-13  5e-15\n",
      " 2:  1.2642e+03 -1.9591e+03  3e+03  5e-14  1e-15\n",
      " 3:  1.0226e+02 -3.5857e+02  5e+02  5e-15  2e-15\n",
      " 4: -3.0744e+01 -9.0469e+01  6e+01  4e-16  6e-16\n",
      " 5: -3.9868e+01 -4.4387e+01  5e+00  9e-16  6e-17\n",
      " 6: -3.9975e+01 -4.0031e+01  6e-02  2e-15  7e-17\n",
      " 7: -3.9975e+01 -3.9976e+01  6e-04  6e-15  8e-17\n",
      " 8: -3.9975e+01 -3.9975e+01  6e-06  1e-15  5e-17\n",
      "Optimal solution found.\n",
      "     pcost       dcost       gap    pres   dres\n",
      " 0:  6.7158e+04 -9.0753e+04  2e+05  3e-13  2e-14\n",
      " 1:  9.7648e+03 -1.5250e+04  3e+04  3e-13  4e-15\n",
      " 2:  1.2642e+03 -1.9591e+03  3e+03  9e-14  1e-15\n",
      " 3:  1.0226e+02 -3.5857e+02  5e+02  5e-14  1e-15\n",
      " 4: -3.0744e+01 -9.0469e+01  6e+01  5e-15  3e-16\n",
      " 5: -3.9868e+01 -4.4387e+01  5e+00  9e-16  5e-17\n",
      " 6: -3.9975e+01 -4.0031e+01  6e-02  4e-15  7e-17\n",
      " 7: -3.9975e+01 -3.9976e+01  6e-04  6e-15  6e-17\n",
      " 8: -3.9975e+01 -3.9975e+01  6e-06  7e-16  5e-17\n",
      "Optimal solution found.\n",
      "     pcost       dcost       gap    pres   dres\n",
      " 0:  6.6822e+04 -1.0930e+05  2e+05  3e-13  2e-14\n",
      " 1:  1.0207e+04 -1.5144e+04  3e+04  3e-14  9e-15\n",
      " 2:  1.3228e+03 -2.0637e+03  3e+03  5e-14  3e-15\n",
      " 3:  1.0988e+02 -3.7009e+02  5e+02  2e-14  8e-16\n",
      " 4: -2.9864e+01 -9.2397e+01  6e+01  2e-14  1e-16\n",
      " 5: -3.9652e+01 -4.4513e+01  5e+00  3e-15  2e-16\n",
      " 6: -3.9775e+01 -3.9837e+01  6e-02  3e-15  8e-17\n",
      " 7: -3.9775e+01 -3.9776e+01  6e-04  2e-15  3e-17\n",
      " 8: -3.9775e+01 -3.9775e+01  6e-06  2e-15  1e-17\n",
      "Optimal solution found.\n",
      "     pcost       dcost       gap    pres   dres\n",
      " 0:  6.7158e+04 -9.0753e+04  2e+05  5e-13  2e-14\n",
      " 1:  9.7648e+03 -1.5250e+04  3e+04  5e-13  8e-15\n",
      " 2:  1.2642e+03 -1.9591e+03  3e+03  1e-13  7e-15\n",
      " 3:  1.0226e+02 -3.5857e+02  5e+02  4e-15  8e-16\n",
      " 4: -3.0744e+01 -9.0469e+01  6e+01  2e-14  4e-16\n",
      " 5: -3.9868e+01 -4.4387e+01  5e+00  3e-15  5e-17\n",
      " 6: -3.9975e+01 -4.0031e+01  6e-02  5e-15  2e-17\n",
      " 7: -3.9975e+01 -3.9976e+01  6e-04  1e-14  4e-17\n",
      " 8: -3.9975e+01 -3.9975e+01  6e-06  5e-15  7e-17\n",
      "Optimal solution found.\n",
      "     pcost       dcost       gap    pres   dres\n",
      " 0:  6.7032e+04 -1.0033e+05  2e+05  3e-13  1e-14\n",
      " 1:  9.9887e+03 -1.5206e+04  3e+04  4e-15  2e-14\n",
      " 2:  1.2939e+03 -2.0116e+03  3e+03  1e-14  3e-15\n",
      " 3:  1.0608e+02 -3.6448e+02  5e+02  4e-15  4e-16\n",
      " 4: -3.0329e+01 -9.1477e+01  6e+01  1e-14  7e-16\n",
      " 5: -3.9785e+01 -4.4475e+01  5e+00  3e-15  2e-16\n",
      " 6: -3.9900e+01 -3.9959e+01  6e-02  5e-15  8e-17\n",
      " 7: -3.9900e+01 -3.9901e+01  6e-04  2e-16  3e-17\n",
      " 8: -3.9900e+01 -3.9900e+01  6e-06  2e-15  9e-18\n",
      "Optimal solution found.\n",
      "     pcost       dcost       gap    pres   dres\n",
      " 0:  6.7158e+04 -9.0753e+04  2e+05  1e-13  2e-14\n",
      " 1:  9.7648e+03 -1.5250e+04  3e+04  3e-13  1e-14\n",
      " 2:  1.2642e+03 -1.9591e+03  3e+03  4e-14  2e-15\n",
      " 3:  1.0226e+02 -3.5857e+02  5e+02  6e-15  2e-15\n",
      " 4: -3.0744e+01 -9.0469e+01  6e+01  3e-15  3e-16\n",
      " 5: -3.9868e+01 -4.4387e+01  5e+00  4e-16  9e-17\n",
      " 6: -3.9975e+01 -4.0031e+01  6e-02  3e-15  7e-17\n",
      " 7: -3.9975e+01 -3.9976e+01  6e-04  5e-15  7e-17\n",
      " 8: -3.9975e+01 -3.9975e+01  6e-06  9e-16  4e-17\n",
      "Optimal solution found.\n",
      "     pcost       dcost       gap    pres   dres\n",
      " 0:  6.7158e+04 -9.0753e+04  2e+05  2e-13  2e-14\n",
      " 1:  9.7648e+03 -1.5250e+04  3e+04  3e-13  5e-15\n",
      " 2:  1.2642e+03 -1.9591e+03  3e+03  4e-14  6e-16\n",
      " 3:  1.0226e+02 -3.5857e+02  5e+02  5e-14  1e-15\n",
      " 4: -3.0744e+01 -9.0469e+01  6e+01  3e-15  5e-16\n",
      " 5: -3.9868e+01 -4.4387e+01  5e+00  4e-15  2e-16\n",
      " 6: -3.9975e+01 -4.0031e+01  6e-02  5e-15  5e-17\n",
      " 7: -3.9975e+01 -3.9976e+01  6e-04  3e-15  6e-17\n",
      " 8: -3.9975e+01 -3.9975e+01  6e-06  1e-16  3e-17\n",
      "Optimal solution found.\n",
      "     pcost       dcost       gap    pres   dres\n",
      " 0:  6.7158e+04 -9.0753e+04  2e+05  2e-13  2e-14\n",
      " 1:  9.7648e+03 -1.5250e+04  3e+04  3e-13  5e-15\n",
      " 2:  1.2642e+03 -1.9591e+03  3e+03  4e-14  6e-16\n",
      " 3:  1.0226e+02 -3.5857e+02  5e+02  5e-14  1e-15\n",
      " 4: -3.0744e+01 -9.0469e+01  6e+01  3e-15  5e-16\n",
      " 5: -3.9868e+01 -4.4387e+01  5e+00  9e-16  8e-17\n",
      " 6: -3.9975e+01 -4.0031e+01  6e-02  4e-15  7e-17\n",
      " 7: -3.9975e+01 -3.9976e+01  6e-04  4e-15  6e-17\n",
      " 8: -3.9975e+01 -3.9975e+01  6e-06  4e-16  3e-17\n",
      "Optimal solution found.\n",
      "     pcost       dcost       gap    pres   dres\n",
      " 0:  6.6150e+04 -1.2540e+05  2e+05  2e-13  9e-15\n",
      " 1:  1.0621e+04 -1.4927e+04  3e+04  4e-13  8e-15\n",
      " 2:  1.3773e+03 -2.1664e+03  4e+03  2e-13  3e-15\n",
      " 3:  1.1731e+02 -3.8014e+02  5e+02  5e-14  1e-15\n",
      " 4: -2.8791e+01 -9.3940e+01  7e+01  3e-15  4e-16\n",
      " 5: -3.9234e+01 -4.4432e+01  5e+00  5e-15  2e-16\n",
      " 6: -3.9375e+01 -3.9443e+01  7e-02  6e-15  6e-17\n",
      " 7: -3.9375e+01 -3.9376e+01  7e-04  4e-15  2e-17\n",
      " 8: -3.9375e+01 -3.9375e+01  7e-06  8e-15  7e-17\n",
      "Optimal solution found.\n",
      "     pcost       dcost       gap    pres   dres\n",
      " 0:  6.7032e+04 -1.0033e+05  2e+05  1e-13  1e-14\n",
      " 1:  9.9887e+03 -1.5206e+04  3e+04  2e-13  9e-15\n",
      " 2:  1.2939e+03 -2.0116e+03  3e+03  5e-14  5e-15\n",
      " 3:  1.0608e+02 -3.6448e+02  5e+02  4e-14  9e-16\n",
      " 4: -3.0329e+01 -9.1477e+01  6e+01  1e-14  2e-16\n",
      " 5: -3.9785e+01 -4.4475e+01  5e+00  2e-14  1e-16\n",
      " 6: -3.9900e+01 -3.9959e+01  6e-02  2e-14  5e-17\n",
      " 7: -3.9900e+01 -3.9901e+01  6e-04  7e-15  7e-17\n",
      " 8: -3.9900e+01 -3.9900e+01  6e-06  2e-15  5e-17\n",
      "Optimal solution found.\n",
      "     pcost       dcost       gap    pres   dres\n",
      " 0:  6.6528e+04 -1.1765e+05  2e+05  5e-13  2e-14\n",
      " 1:  1.0418e+04 -1.5053e+04  3e+04  9e-14  8e-15\n",
      " 2:  1.3507e+03 -2.1153e+03  3e+03  4e-13  7e-15\n",
      " 3:  1.1364e+02 -3.7532e+02  5e+02  3e-14  2e-15\n",
      " 4: -2.9350e+01 -9.3220e+01  6e+01  2e-14  3e-16\n",
      " 5: -3.9468e+01 -4.4499e+01  5e+00  3e-14  1e-16\n",
      " 6: -3.9600e+01 -3.9665e+01  7e-02  6e-15  6e-17\n",
      " 7: -3.9600e+01 -3.9601e+01  7e-04  9e-16  5e-17\n",
      " 8: -3.9600e+01 -3.9600e+01  7e-06  1e-14  6e-17\n",
      "Optimal solution found.\n",
      "     pcost       dcost       gap    pres   dres\n",
      " 0:  6.6822e+04 -1.0930e+05  2e+05  4e-13  1e-14\n",
      " 1:  1.0207e+04 -1.5144e+04  3e+04  5e-13  2e-15\n",
      " 2:  1.3228e+03 -2.0637e+03  3e+03  8e-14  1e-15\n",
      " 3:  1.0988e+02 -3.7009e+02  5e+02  4e-15  1e-15\n",
      " 4: -2.9864e+01 -9.2397e+01  6e+01  9e-16  7e-16\n",
      " 5: -3.9652e+01 -4.4513e+01  5e+00  2e-15  1e-16\n",
      " 6: -3.9775e+01 -3.9837e+01  6e-02  4e-15  7e-17\n",
      " 7: -3.9775e+01 -3.9776e+01  6e-04  3e-15  6e-17\n",
      " 8: -3.9775e+01 -3.9775e+01  6e-06  2e-15  2e-17\n",
      "Optimal solution found.\n",
      "     pcost       dcost       gap    pres   dres\n",
      " 0:  6.7200e+04 -8.0560e+04  1e+05  1e-13  1e-14\n",
      " 1:  9.5363e+03 -1.5289e+04  2e+04  2e-14  8e-15\n",
      " 2:  1.2339e+03 -1.9062e+03  3e+03  9e-14  1e-15\n",
      " 3:  9.8453e+01 -3.5242e+02  5e+02  4e-15  1e-15\n",
      " 4: -3.1105e+01 -8.9385e+01  6e+01  2e-14  3e-16\n",
      " 5: -3.9901e+01 -4.4250e+01  4e+00  1e-14  1e-17\n",
      " 6: -4.0000e+01 -4.0054e+01  5e-02  4e-16  7e-17\n",
      " 7: -4.0000e+01 -4.0001e+01  5e-04  4e-15  1e-16\n",
      " 8: -4.0000e+01 -4.0000e+01  5e-06  2e-15  6e-17\n",
      "Optimal solution found.\n",
      "     pcost       dcost       gap    pres   dres\n",
      " 0:  6.7200e+04 -8.0560e+04  1e+05  4e-14  1e-14\n",
      " 1:  9.5363e+03 -1.5289e+04  2e+04  2e-14  7e-15\n",
      " 2:  1.2339e+03 -1.9062e+03  3e+03  9e-14  3e-15\n",
      " 3:  9.8453e+01 -3.5242e+02  5e+02  4e-14  6e-16\n",
      " 4: -3.1105e+01 -8.9385e+01  6e+01  1e-14  5e-16\n",
      " 5: -3.9901e+01 -4.4250e+01  4e+00  5e-17  2e-16\n",
      " 6: -4.0000e+01 -4.0054e+01  5e-02  1e-16  1e-16\n",
      " 7: -4.0000e+01 -4.0001e+01  5e-04  1e-15  2e-17\n",
      " 8: -4.0000e+01 -4.0000e+01  5e-06  6e-17  8e-17\n",
      "Optimal solution found.\n",
      "     pcost       dcost       gap    pres   dres\n",
      " 0:  6.6822e+04 -1.0930e+05  2e+05  3e-13  1e-14\n",
      " 1:  1.0207e+04 -1.5144e+04  3e+04  1e-13  3e-15\n",
      " 2:  1.3228e+03 -2.0637e+03  3e+03  5e-14  2e-15\n",
      " 3:  1.0988e+02 -3.7009e+02  5e+02  6e-15  7e-16\n",
      " 4: -2.9864e+01 -9.2397e+01  6e+01  6e-15  1e-16\n",
      " 5: -3.9652e+01 -4.4513e+01  5e+00  2e-16  1e-16\n",
      " 6: -3.9775e+01 -3.9837e+01  6e-02  1e-16  8e-17\n",
      " 7: -3.9775e+01 -3.9776e+01  6e-04  4e-15  3e-17\n",
      " 8: -3.9775e+01 -3.9775e+01  6e-06  4e-15  4e-17\n",
      "Optimal solution found.\n",
      "     pcost       dcost       gap    pres   dres\n",
      " 0:  6.7200e+04 -8.0560e+04  1e+05  1e-14  1e-14\n",
      " 1:  9.5363e+03 -1.5289e+04  2e+04  7e-15  7e-15\n",
      " 2:  1.2339e+03 -1.9062e+03  3e+03  7e-14  3e-15\n",
      " 3:  9.8453e+01 -3.5242e+02  5e+02  3e-14  1e-15\n",
      " 4: -3.1105e+01 -8.9385e+01  6e+01  1e-15  6e-16\n",
      " 5: -3.9901e+01 -4.4250e+01  4e+00  5e-17  2e-16\n",
      " 6: -4.0000e+01 -4.0054e+01  5e-02  1e-16  1e-16\n",
      " 7: -4.0000e+01 -4.0001e+01  5e-04  4e-16  2e-17\n",
      " 8: -4.0000e+01 -4.0000e+01  5e-06  6e-17  8e-17\n",
      "Optimal solution found.\n",
      "     pcost       dcost       gap    pres   dres\n",
      " 0:  6.7158e+04 -9.0753e+04  2e+05  4e-13  2e-14\n",
      " 1:  9.7648e+03 -1.5250e+04  3e+04  5e-13  1e-14\n",
      " 2:  1.2642e+03 -1.9591e+03  3e+03  7e-14  9e-15\n",
      " 3:  1.0226e+02 -3.5857e+02  5e+02  2e-14  1e-15\n",
      " 4: -3.0744e+01 -9.0469e+01  6e+01  2e-15  3e-16\n",
      " 5: -3.9868e+01 -4.4387e+01  5e+00  4e-15  1e-16\n",
      " 6: -3.9975e+01 -4.0031e+01  6e-02  3e-15  3e-17\n",
      " 7: -3.9975e+01 -3.9976e+01  6e-04  1e-14  7e-17\n",
      " 8: -3.9975e+01 -3.9975e+01  6e-06  5e-15  7e-17\n",
      "Optimal solution found.\n",
      "     pcost       dcost       gap    pres   dres\n",
      " 0:  6.7032e+04 -1.0033e+05  2e+05  3e-13  1e-14\n",
      " 1:  9.9887e+03 -1.5206e+04  3e+04  4e-15  1e-14\n",
      " 2:  1.2939e+03 -2.0116e+03  3e+03  2e-15  2e-15\n",
      " 3:  1.0608e+02 -3.6448e+02  5e+02  3e-15  2e-15\n",
      " 4: -3.0329e+01 -9.1477e+01  6e+01  9e-15  4e-16\n",
      " 5: -3.9785e+01 -4.4475e+01  5e+00  7e-15  1e-16\n",
      " 6: -3.9900e+01 -3.9959e+01  6e-02  7e-15  4e-17\n",
      " 7: -3.9900e+01 -3.9901e+01  6e-04  6e-17  2e-17\n",
      " 8: -3.9900e+01 -3.9900e+01  6e-06  4e-16  9e-18\n",
      "Optimal solution found.\n",
      "     pcost       dcost       gap    pres   dres\n",
      " 0:  6.7032e+04 -1.0033e+05  2e+05  2e-14  1e-14\n",
      " 1:  9.9887e+03 -1.5206e+04  3e+04  1e-13  9e-15\n",
      " 2:  1.2939e+03 -2.0116e+03  3e+03  5e-14  6e-15\n",
      " 3:  1.0608e+02 -3.6448e+02  5e+02  5e-14  3e-16\n",
      " 4: -3.0329e+01 -9.1477e+01  6e+01  3e-14  3e-16\n",
      " 5: -3.9785e+01 -4.4475e+01  5e+00  2e-14  6e-17\n"
     ]
    },
    {
     "name": "stderr",
     "output_type": "stream",
     "text": [
      "\r",
      " 33%|███▎      | 10/30 [00:02<00:04,  4.51it/s]"
     ]
    },
    {
     "name": "stdout",
     "output_type": "stream",
     "text": [
      " 6: -3.9900e+01 -3.9959e+01  6e-02  1e-14  3e-17\n",
      " 7: -3.9900e+01 -3.9901e+01  6e-04  4e-16  6e-17\n",
      " 8: -3.9900e+01 -3.9900e+01  6e-06  3e-15  5e-17\n",
      "Optimal solution found.\n",
      "     pcost       dcost       gap    pres   dres\n",
      " 0:  6.7158e+04 -9.0753e+04  2e+05  6e-13  2e-14\n",
      " 1:  9.7648e+03 -1.5250e+04  3e+04  5e-13  8e-15\n",
      " 2:  1.2642e+03 -1.9591e+03  3e+03  1e-13  7e-15\n",
      " 3:  1.0226e+02 -3.5857e+02  5e+02  6e-15  1e-15\n",
      " 4: -3.0744e+01 -9.0469e+01  6e+01  6e-15  5e-16\n",
      " 5: -3.9868e+01 -4.4387e+01  5e+00  5e-15  5e-17\n",
      " 6: -3.9975e+01 -4.0031e+01  6e-02  8e-15  5e-17\n",
      " 7: -3.9975e+01 -3.9976e+01  6e-04  1e-14  4e-17\n",
      " 8: -3.9975e+01 -3.9975e+01  6e-06  4e-15  6e-17\n",
      "Optimal solution found.\n",
      "     pcost       dcost       gap    pres   dres\n",
      " 0:  6.7158e+04 -9.0753e+04  2e+05  8e-13  2e-14\n",
      " 1:  9.7648e+03 -1.5250e+04  3e+04  1e-12  1e-14\n",
      " 2:  1.2642e+03 -1.9591e+03  3e+03  1e-13  5e-15\n",
      " 3:  1.0226e+02 -3.5857e+02  5e+02  5e-14  1e-15\n",
      " 4: -3.0744e+01 -9.0469e+01  6e+01  3e-14  4e-16\n",
      " 5: -3.9868e+01 -4.4387e+01  5e+00  8e-15  4e-17\n",
      " 6: -3.9975e+01 -4.0031e+01  6e-02  8e-15  7e-17\n",
      " 7: -3.9975e+01 -3.9976e+01  6e-04  2e-14  4e-17\n",
      " 8: -3.9975e+01 -3.9975e+01  6e-06  1e-14  3e-17\n",
      "Optimal solution found.\n",
      "     pcost       dcost       gap    pres   dres\n",
      " 0:  6.7032e+04 -1.0033e+05  2e+05  4e-13  1e-14\n",
      " 1:  9.9887e+03 -1.5206e+04  3e+04  6e-13  3e-15\n",
      " 2:  1.2939e+03 -2.0116e+03  3e+03  6e-14  1e-15\n",
      " 3:  1.0608e+02 -3.6448e+02  5e+02  5e-14  2e-15\n",
      " 4: -3.0329e+01 -9.1477e+01  6e+01  9e-14  3e-16\n",
      " 5: -3.9785e+01 -4.4475e+01  5e+00  2e-14  1e-16\n",
      " 6: -3.9900e+01 -3.9959e+01  6e-02  1e-14  7e-17\n",
      " 7: -3.9900e+01 -3.9901e+01  6e-04  2e-16  2e-17\n",
      " 8: -3.9900e+01 -3.9900e+01  6e-06  1e-14  9e-18\n",
      "Optimal solution found.\n",
      "     pcost       dcost       gap    pres   dres\n",
      " 0:  6.6528e+04 -1.1765e+05  2e+05  3e-13  1e-14\n",
      " 1:  1.0418e+04 -1.5053e+04  3e+04  2e-14  3e-15\n",
      " 2:  1.3507e+03 -2.1153e+03  3e+03  1e-13  5e-15\n",
      " 3:  1.1364e+02 -3.7532e+02  5e+02  1e-14  1e-15\n",
      " 4: -2.9350e+01 -9.3220e+01  6e+01  1e-14  4e-17\n",
      " 5: -3.9468e+01 -4.4499e+01  5e+00  2e-16  1e-16\n",
      " 6: -3.9600e+01 -3.9665e+01  7e-02  9e-15  5e-17\n",
      " 7: -3.9600e+01 -3.9601e+01  7e-04  3e-15  6e-17\n",
      " 8: -3.9600e+01 -3.9600e+01  7e-06  1e-15  4e-17\n",
      "Optimal solution found.\n",
      "     pcost       dcost       gap    pres   dres\n",
      " 0: -3.9964e+01 -2.2146e-01  3e+02  2e+01  9e-16\n",
      " 1: -4.6987e-01 -2.0121e-01  3e+00  2e-01  1e-15\n",
      " 2: -8.0462e-02 -1.9160e-01  1e-01  2e-17  6e-16\n",
      " 3: -9.3845e-02 -1.0049e-01  7e-03  2e-18  7e-16\n",
      " 4: -9.7463e-02 -9.8332e-02  9e-04  2e-18  6e-16\n",
      " 5: -9.7498e-02 -9.7509e-02  1e-05  2e-18  6e-16\n",
      " 6: -9.7500e-02 -9.7500e-02  1e-07  2e-18  1e-15\n",
      " 7: -9.7500e-02 -9.7500e-02  1e-08  2e-18  5e-16\n",
      "Optimal solution found.\n",
      "     pcost       dcost       gap    pres   dres\n",
      " 0: -3.9751e+01 -2.2814e-01  3e+02  2e+01  9e-16\n",
      " 1: -4.6859e-01 -2.0348e-01  3e+00  2e-01  1e-15\n",
      " 2: -7.9449e-02 -1.9372e-01  1e-01  2e-17  6e-16\n",
      " 3: -9.1361e-02 -9.7350e-02  6e-03  3e-18  7e-16\n",
      " 4: -9.2386e-02 -9.2604e-02  2e-04  2e-18  5e-16\n",
      " 5: -9.2499e-02 -9.2501e-02  2e-06  5e-18  9e-16\n",
      " 6: -9.2500e-02 -9.2500e-02  2e-07  2e-18  5e-16\n",
      " 7: -9.2500e-02 -9.2500e-02  1e-07  3e-18  5e-16\n",
      " 8: -9.2500e-02 -9.2500e-02  2e-08  2e-18  5e-16\n",
      "Optimal solution found.\n",
      "     pcost       dcost       gap    pres   dres\n",
      " 0: -3.9964e+01 -2.2140e-01  3e+02  2e+01  9e-16\n",
      " 1: -4.6987e-01 -2.0120e-01  3e+00  2e-01  1e-15\n",
      " 2: -8.0464e-02 -1.9159e-01  1e-01  2e-17  6e-16\n",
      " 3: -9.3847e-02 -1.0049e-01  7e-03  3e-18  6e-16\n",
      " 4: -9.7463e-02 -9.8331e-02  9e-04  2e-18  6e-16\n",
      " 5: -9.7498e-02 -9.7509e-02  1e-05  2e-18  5e-16\n",
      " 6: -9.7500e-02 -9.7500e-02  1e-07  3e-18  8e-16\n",
      " 7: -9.7500e-02 -9.7500e-02  2e-08  2e-18  5e-16\n",
      "Optimal solution found.\n",
      "     pcost       dcost       gap    pres   dres\n",
      " 0: -3.9890e+01 -2.2237e-01  3e+02  2e+01  9e-16\n",
      " 1: -4.6958e-01 -2.0238e-01  3e+00  2e-01  9e-16\n",
      " 2: -8.0028e-02 -1.9271e-01  1e-01  2e-17  6e-16\n",
      " 3: -9.2841e-02 -9.9252e-02  6e-03  3e-18  7e-16\n",
      " 4: -9.4911e-02 -9.5116e-02  2e-04  2e-18  5e-16\n",
      " 5: -9.4999e-02 -9.5001e-02  2e-06  3e-18  6e-16\n",
      " 6: -9.5000e-02 -9.5000e-02  2e-07  2e-18  6e-16\n",
      " 7: -9.5000e-02 -9.5000e-02  2e-07  2e-18  5e-16\n",
      " 8: -9.5000e-02 -9.5000e-02  4e-08  2e-18  5e-16\n",
      "Optimal solution found.\n",
      "     pcost       dcost       gap    pres   dres\n",
      " 0: -3.9767e+01 -2.2278e-01  3e+02  2e+01  9e-16\n",
      " 1: -4.6867e-01 -2.0348e-01  3e+00  2e-01  1e-15\n",
      " 2: -7.9451e-02 -1.9372e-01  1e-01  2e-17  7e-16\n",
      " 3: -9.1362e-02 -9.7343e-02  6e-03  2e-18  6e-16\n",
      " 4: -9.2386e-02 -9.2604e-02  2e-04  2e-18  5e-16\n",
      " 5: -9.2499e-02 -9.2501e-02  2e-06  3e-18  6e-16\n",
      " 6: -9.2500e-02 -9.2500e-02  3e-07  5e-18  5e-16\n",
      " 7: -9.2500e-02 -9.2500e-02  2e-07  3e-18  4e-16\n",
      " 8: -9.2500e-02 -9.2500e-02  6e-08  2e-18  7e-16\n",
      "Optimal solution found.\n",
      "     pcost       dcost       gap    pres   dres\n",
      " 0: -3.9976e+01 -2.1751e-01  3e+02  2e+01  8e-16\n",
      " 1: -4.6993e-01 -2.0120e-01  3e+00  2e-01  1e-15\n",
      " 2: -8.0466e-02 -1.9159e-01  1e-01  2e-17  8e-16\n",
      " 3: -9.3848e-02 -1.0049e-01  7e-03  3e-18  8e-16\n",
      " 4: -9.7463e-02 -9.8330e-02  9e-04  2e-18  5e-16\n",
      " 5: -9.7498e-02 -9.7509e-02  1e-05  2e-18  5e-16\n",
      " 6: -9.7500e-02 -9.7500e-02  1e-07  2e-18  2e-15\n",
      " 7: -9.7500e-02 -9.7500e-02  1e-08  3e-18  5e-16\n",
      "Optimal solution found.\n",
      "     pcost       dcost       gap    pres   dres\n",
      " 0: -3.9894e+01 -2.2108e-01  3e+02  2e+01  8e-16\n",
      " 1: -4.6961e-01 -2.0238e-01  3e+00  2e-01  9e-16\n",
      " 2: -8.0029e-02 -1.9270e-01  1e-01  2e-17  6e-16\n",
      " 3: -9.2842e-02 -9.9252e-02  6e-03  2e-18  7e-16\n",
      " 4: -9.4911e-02 -9.5116e-02  2e-04  2e-18  5e-16\n",
      " 5: -9.4999e-02 -9.5001e-02  2e-06  2e-18  7e-16\n",
      " 6: -9.5000e-02 -9.5000e-02  2e-07  3e-18  5e-16\n",
      " 7: -9.5000e-02 -9.5000e-02  2e-07  2e-18  5e-16\n",
      " 8: -9.5000e-02 -9.5000e-02  4e-08  2e-18  7e-16\n",
      "Optimal solution found.\n",
      "     pcost       dcost       gap    pres   dres\n",
      " 0: -3.9760e+01 -2.2500e-01  3e+02  2e+01  9e-16\n",
      " 1: -4.6863e-01 -2.0347e-01  3e+00  2e-01  1e-15\n",
      " 2: -7.9452e-02 -1.9371e-01  1e-01  2e-17  7e-16\n",
      " 3: -9.1362e-02 -9.7349e-02  6e-03  2e-18  7e-16\n",
      " 4: -9.2386e-02 -9.2604e-02  2e-04  2e-18  5e-16\n",
      " 5: -9.2499e-02 -9.2501e-02  2e-06  3e-18  6e-16\n",
      " 6: -9.2500e-02 -9.2500e-02  2e-07  2e-18  5e-16\n",
      " 7: -9.2500e-02 -9.2500e-02  1e-07  2e-18  4e-16\n",
      " 8: -9.2500e-02 -9.2500e-02  2e-08  3e-18  5e-16\n",
      "Optimal solution found.\n",
      "     pcost       dcost       gap    pres   dres\n",
      " 0: -3.9883e+01 -2.2452e-01  3e+02  2e+01  9e-16\n",
      " 1: -4.6956e-01 -2.0239e-01  3e+00  2e-01  9e-16\n",
      " 2: -8.0026e-02 -1.9272e-01  1e-01  2e-17  7e-16\n",
      " 3: -9.2840e-02 -9.9253e-02  6e-03  2e-18  7e-16\n",
      " 4: -9.4911e-02 -9.5116e-02  2e-04  4e-18  5e-16\n",
      " 5: -9.4999e-02 -9.5001e-02  2e-06  2e-18  6e-16\n",
      " 6: -9.5000e-02 -9.5000e-02  2e-07  4e-18  4e-16\n",
      " 7: -9.5000e-02 -9.5000e-02  2e-07  2e-18  4e-16\n",
      " 8: -9.5000e-02 -9.5000e-02  4e-08  2e-18  5e-16\n",
      "Optimal solution found.\n",
      "     pcost       dcost       gap    pres   dres\n",
      " 0: -3.9971e+01 -2.2624e-01  3e+02  2e+01  8e-16\n",
      " 1: -4.6942e-01 -2.0003e-01  3e+00  2e-01  9e-16\n",
      " 2: -8.0737e-02 -1.9045e-01  1e-01  3e-17  6e-16\n",
      " 3: -9.4285e-02 -1.0092e-01  7e-03  3e-18  8e-16\n",
      " 4: -9.9943e-02 -1.0001e-01  7e-05  2e-18  6e-16\n",
      " 5: -9.9999e-02 -1.0000e-01  7e-07  2e-18  6e-16\n",
      " 6: -1.0000e-01 -1.0000e-01  7e-09  2e-18  2e-15\n",
      "Optimal solution found.\n",
      "     pcost       dcost       gap    pres   dres\n",
      " 0: -3.9761e+01 -2.2463e-01  3e+02  2e+01  8e-16\n",
      " 1: -4.6864e-01 -2.0348e-01  3e+00  2e-01  1e-15\n",
      " 2: -7.9450e-02 -1.9372e-01  1e-01  2e-17  6e-16\n",
      " 3: -9.1362e-02 -9.7344e-02  6e-03  2e-18  6e-16\n",
      " 4: -9.2386e-02 -9.2604e-02  2e-04  2e-18  4e-16\n",
      " 5: -9.2499e-02 -9.2501e-02  2e-06  2e-18  7e-16\n",
      " 6: -9.2500e-02 -9.2500e-02  3e-07  2e-18  4e-16\n",
      " 7: -9.2500e-02 -9.2500e-02  2e-07  3e-18  4e-16\n",
      " 8: -9.2500e-02 -9.2500e-02  6e-08  2e-18  5e-16\n",
      "Optimal solution found.\n",
      "     pcost       dcost       gap    pres   dres\n",
      " 0: -3.9893e+01 -2.2148e-01  3e+02  2e+01  1e-15\n",
      " 1: -4.6961e-01 -2.0236e-01  3e+00  2e-01  1e-15\n",
      " 2: -8.0032e-02 -1.9269e-01  1e-01  2e-17  7e-16\n",
      " 3: -9.2842e-02 -9.9258e-02  6e-03  3e-18  7e-16\n",
      " 4: -9.4911e-02 -9.5116e-02  2e-04  2e-18  5e-16\n",
      " 5: -9.4999e-02 -9.5001e-02  2e-06  3e-18  7e-16\n",
      " 6: -9.5000e-02 -9.5000e-02  1e-07  9e-18  6e-16\n",
      " 7: -9.5000e-02 -9.5000e-02  4e-08  1e-17  6e-16\n",
      "Optimal solution found.\n",
      "     pcost       dcost       gap    pres   dres\n",
      " 0: -3.9753e+01 -2.2732e-01  3e+02  2e+01  9e-16\n",
      " 1: -4.6860e-01 -2.0348e-01  3e+00  2e-01  1e-15\n",
      " 2: -7.9450e-02 -1.9372e-01  1e-01  2e-17  7e-16\n",
      " 3: -9.1362e-02 -9.7344e-02  6e-03  2e-18  7e-16\n",
      " 4: -9.2386e-02 -9.2604e-02  2e-04  4e-18  5e-16\n",
      " 5: -9.2499e-02 -9.2501e-02  2e-06  2e-18  6e-16\n",
      " 6: -9.2500e-02 -9.2500e-02  3e-07  3e-18  4e-16\n",
      " 7: -9.2500e-02 -9.2500e-02  3e-07  3e-18  4e-16\n",
      " 8: -9.2500e-02 -9.2500e-02  7e-08  4e-18  6e-16\n",
      "Optimal solution found.\n",
      "     pcost       dcost       gap    pres   dres\n",
      " 0: -3.9597e+01 -2.2209e-01  3e+02  2e+01  9e-16\n",
      " 1: -4.6710e-01 -2.0448e-01  4e+00  2e-01  9e-16\n",
      " 2: -7.8740e-02 -1.9461e-01  1e-01  2e-17  6e-16\n",
      " 3: -8.9507e-02 -9.4927e-02  5e-03  2e-18  7e-16\n",
      " 4: -8.9961e-02 -9.0072e-02  1e-04  2e-18  5e-16\n",
      " 5: -8.9999e-02 -9.0001e-02  1e-06  3e-18  5e-16\n",
      " 6: -9.0000e-02 -9.0000e-02  8e-08  3e-18  5e-16\n",
      "Optimal solution found.\n",
      "     pcost       dcost       gap    pres   dres\n",
      " 0: -3.9986e+01 -2.2143e-01  3e+02  2e+01  1e-15\n",
      " 1: -4.6949e-01 -2.0001e-01  3e+00  2e-01  1e-15\n",
      " 2: -8.0742e-02 -1.9043e-01  1e-01  2e-17  7e-16\n",
      " 3: -9.4289e-02 -1.0091e-01  7e-03  4e-18  8e-16\n",
      " 4: -9.9943e-02 -1.0001e-01  7e-05  3e-18  6e-16\n",
      " 5: -9.9999e-02 -1.0000e-01  7e-07  4e-18  6e-16\n",
      " 6: -1.0000e-01 -1.0000e-01  7e-09  6e-18  2e-15\n",
      "Optimal solution found.\n",
      "     pcost       dcost       gap    pres   dres\n",
      " 0: -3.9964e+01 -2.2138e-01  3e+02  2e+01  8e-16\n",
      " 1: -4.6987e-01 -2.0120e-01  3e+00  2e-01  1e-15\n",
      " 2: -8.0464e-02 -1.9159e-01  1e-01  2e-17  6e-16\n",
      " 3: -9.3846e-02 -1.0049e-01  7e-03  2e-18  8e-16\n",
      " 4: -9.7463e-02 -9.8331e-02  9e-04  2e-18  6e-16\n",
      " 5: -9.7498e-02 -9.7509e-02  1e-05  2e-18  4e-16\n",
      " 6: -9.7500e-02 -9.7500e-02  1e-07  2e-18  1e-15\n",
      " 7: -9.7500e-02 -9.7500e-02  1e-08  2e-18  5e-16\n",
      "Optimal solution found.\n",
      "     pcost       dcost       gap    pres   dres\n",
      " 0: -3.9891e+01 -2.2195e-01  3e+02  2e+01  7e-16\n",
      " 1: -4.6960e-01 -2.0238e-01  3e+00  2e-01  1e-15\n",
      " 2: -8.0028e-02 -1.9271e-01  1e-01  2e-17  7e-16\n",
      " 3: -9.2841e-02 -9.9253e-02  6e-03  2e-18  8e-16\n",
      " 4: -9.4911e-02 -9.5116e-02  2e-04  2e-18  5e-16\n"
     ]
    },
    {
     "name": "stderr",
     "output_type": "stream",
     "text": [
      "\r",
      " 37%|███▋      | 11/30 [00:02<00:04,  4.42it/s]"
     ]
    },
    {
     "name": "stdout",
     "output_type": "stream",
     "text": [
      " 5: -9.4999e-02 -9.5001e-02  2e-06  2e-18  6e-16\n",
      " 6: -9.5000e-02 -9.5000e-02  2e-07  2e-18  7e-16\n",
      " 7: -9.5000e-02 -9.5000e-02  2e-07  3e-18  5e-16\n",
      " 8: -9.5000e-02 -9.5000e-02  4e-08  2e-18  5e-16\n",
      "Optimal solution found.\n",
      "     pcost       dcost       gap    pres   dres\n",
      " 0: -3.9960e+01 -2.2275e-01  3e+02  2e+01  8e-16\n",
      " 1: -4.6986e-01 -2.0122e-01  3e+00  2e-01  1e-15\n",
      " 2: -8.0461e-02 -1.9160e-01  1e-01  2e-17  7e-16\n",
      " 3: -9.3844e-02 -1.0049e-01  7e-03  2e-18  7e-16\n",
      " 4: -9.7463e-02 -9.8332e-02  9e-04  2e-18  7e-16\n",
      " 5: -9.7498e-02 -9.7509e-02  1e-05  2e-18  5e-16\n",
      " 6: -9.7500e-02 -9.7500e-02  1e-07  2e-18  8e-16\n",
      " 7: -9.7500e-02 -9.7500e-02  1e-08  2e-18  5e-16\n",
      "Optimal solution found.\n",
      "     pcost       dcost       gap    pres   dres\n",
      " 0: -3.9953e+01 -2.2535e-01  3e+02  2e+01  9e-16\n",
      " 1: -4.6981e-01 -2.0122e-01  3e+00  2e-01  9e-16\n",
      " 2: -8.0460e-02 -1.9161e-01  1e-01  2e-17  7e-16\n",
      " 3: -9.3843e-02 -1.0049e-01  7e-03  2e-18  7e-16\n",
      " 4: -9.7463e-02 -9.8332e-02  9e-04  2e-18  5e-16\n",
      " 5: -9.7498e-02 -9.7509e-02  1e-05  3e-18  6e-16\n",
      " 6: -9.7500e-02 -9.7500e-02  1e-07  2e-18  9e-16\n",
      " 7: -9.7500e-02 -9.7500e-02  1e-08  3e-18  6e-16\n",
      "Optimal solution found.\n",
      "     pcost       dcost       gap    pres   dres\n",
      " 0: -3.9968e+01 -2.2015e-01  3e+02  2e+01  9e-16\n",
      " 1: -4.6989e-01 -2.0123e-01  3e+00  2e-01  1e-15\n",
      " 2: -8.0461e-02 -1.9161e-01  1e-01  2e-17  6e-16\n",
      " 3: -9.3845e-02 -1.0049e-01  7e-03  2e-18  7e-16\n",
      " 4: -9.7463e-02 -9.8331e-02  9e-04  6e-18  6e-16\n",
      " 5: -9.7498e-02 -9.7509e-02  1e-05  2e-18  6e-16\n",
      " 6: -9.7500e-02 -9.7500e-02  1e-07  2e-18  9e-16\n",
      " 7: -9.7500e-02 -9.7500e-02  2e-08  4e-18  4e-16\n",
      "Optimal solution found.\n",
      "     pcost       dcost       gap    pres   dres\n",
      " 0: -3.9961e+01 -2.2241e-01  3e+02  2e+01  1e-15\n",
      " 1: -4.6986e-01 -2.0122e-01  3e+00  2e-01  1e-15\n",
      " 2: -8.0460e-02 -1.9161e-01  1e-01  2e-17  7e-16\n",
      " 3: -9.3844e-02 -1.0049e-01  7e-03  2e-18  8e-16\n",
      " 4: -9.7463e-02 -9.8332e-02  9e-04  2e-18  6e-16\n",
      " 5: -9.7498e-02 -9.7509e-02  1e-05  3e-18  5e-16\n",
      " 6: -9.7500e-02 -9.7500e-02  1e-07  2e-18  9e-16\n",
      " 7: -9.7500e-02 -9.7500e-02  2e-08  5e-18  5e-16\n",
      "Optimal solution found.\n",
      "     pcost       dcost       gap    pres   dres\n",
      " 0: -3.9764e+01 -2.2374e-01  3e+02  2e+01  9e-16\n",
      " 1: -4.6864e-01 -2.0346e-01  3e+00  2e-01  1e-15\n",
      " 2: -7.9454e-02 -1.9370e-01  1e-01  3e-17  6e-16\n",
      " 3: -9.1363e-02 -9.7349e-02  6e-03  3e-18  7e-16\n",
      " 4: -9.2386e-02 -9.2604e-02  2e-04  3e-18  5e-16\n",
      " 5: -9.2499e-02 -9.2501e-02  2e-06  2e-18  6e-16\n",
      " 6: -9.2500e-02 -9.2500e-02  1e-07  2e-18  5e-16\n",
      " 7: -9.2500e-02 -9.2500e-02  6e-08  2e-18  5e-16\n",
      "Optimal solution found.\n",
      "     pcost       dcost       gap    pres   dres\n",
      " 0: -3.9594e+01 -2.2294e-01  3e+02  2e+01  9e-16\n",
      " 1: -4.6710e-01 -2.0450e-01  4e+00  2e-01  1e-15\n",
      " 2: -7.8737e-02 -1.9464e-01  1e-01  2e-17  7e-16\n",
      " 3: -8.9506e-02 -9.4923e-02  5e-03  3e-18  6e-16\n",
      " 4: -8.9961e-02 -9.0072e-02  1e-04  3e-18  6e-16\n",
      " 5: -8.9999e-02 -9.0001e-02  1e-06  2e-18  6e-16\n",
      " 6: -9.0000e-02 -9.0000e-02  2e-07  2e-18  6e-16\n",
      " 7: -9.0000e-02 -9.0000e-02  2e-07  3e-18  5e-16\n",
      " 8: -9.0000e-02 -9.0000e-02  6e-08  2e-18  6e-16\n",
      "Optimal solution found.\n",
      "     pcost       dcost       gap    pres   dres\n",
      " 0: -3.9892e+01 -2.2155e-01  3e+02  2e+01  1e-15\n",
      " 1: -4.6960e-01 -2.0239e-01  3e+00  2e-01  1e-15\n",
      " 2: -8.0027e-02 -1.9271e-01  1e-01  2e-17  8e-16\n",
      " 3: -9.2841e-02 -9.9252e-02  6e-03  2e-18  7e-16\n",
      " 4: -9.4911e-02 -9.5116e-02  2e-04  2e-18  5e-16\n",
      " 5: -9.4999e-02 -9.5001e-02  2e-06  2e-18  6e-16\n",
      " 6: -9.5000e-02 -9.5000e-02  2e-07  3e-18  6e-16\n",
      " 7: -9.5000e-02 -9.5000e-02  2e-07  3e-18  4e-16\n",
      " 8: -9.5000e-02 -9.5000e-02  4e-08  2e-18  5e-16\n",
      "Optimal solution found.\n",
      "     pcost       dcost       gap    pres   dres\n",
      " 0: -3.9875e+01 -2.2747e-01  3e+02  2e+01  1e-15\n",
      " 1: -4.6951e-01 -2.0237e-01  3e+00  2e-01  1e-15\n",
      " 2: -8.0028e-02 -1.9270e-01  1e-01  4e-17  7e-16\n",
      " 3: -9.2841e-02 -9.9255e-02  6e-03  3e-18  6e-16\n",
      " 4: -9.4911e-02 -9.5116e-02  2e-04  2e-18  5e-16\n",
      " 5: -9.4999e-02 -9.5001e-02  2e-06  2e-18  5e-16\n",
      " 6: -9.5000e-02 -9.5000e-02  1e-07  4e-18  5e-16\n",
      " 7: -9.5000e-02 -9.5000e-02  7e-08  2e-18  4e-16\n",
      "Optimal solution found.\n",
      "     pcost       dcost       gap    pres   dres\n",
      " 0: -4.0123e+01 -7.3778e-01  3e+02  2e+01  1e-15\n",
      " 1: -6.5070e-01 -7.1786e-01  3e+00  2e-01  1e-15\n",
      " 2: -2.9640e-01 -6.0732e-01  3e-01  3e-17  6e-16\n",
      " 3: -3.4535e-01 -3.6188e-01  2e-02  8e-18  7e-16\n",
      " 4: -3.5924e-01 -3.5941e-01  2e-04  8e-18  5e-16\n",
      " 5: -3.5938e-01 -3.5938e-01  2e-06  9e-18  7e-16\n",
      " 6: -3.5938e-01 -3.5938e-01  2e-08  2e-17  2e-15\n",
      "Optimal solution found.\n",
      "     pcost       dcost       gap    pres   dres\n",
      " 0: -4.0083e+01 -7.4706e-01  3e+02  2e+01  9e-16\n",
      " 1: -6.5257e-01 -7.2230e-01  3e+00  2e-01  1e-15\n",
      " 2: -2.9521e-01 -6.1171e-01  3e-01  2e-17  7e-16\n",
      " 3: -3.4342e-01 -3.6000e-01  2e-02  1e-17  7e-16\n",
      " 4: -3.5033e-01 -3.5150e-01  1e-03  1e-17  4e-16\n",
      " 5: -3.5039e-01 -3.5041e-01  1e-05  1e-17  7e-16\n",
      " 6: -3.5039e-01 -3.5040e-01  5e-07  9e-18  6e-16\n",
      " 7: -3.5040e-01 -3.5040e-01  3e-07  8e-18  4e-16\n",
      "Optimal solution found.\n",
      "     pcost       dcost       gap    pres   dres\n",
      " 0: -4.0095e+01 -7.4326e-01  3e+02  2e+01  9e-16\n",
      " 1: -6.5265e-01 -7.2221e-01  3e+00  2e-01  1e-15\n",
      " 2: -2.9523e-01 -6.1163e-01  3e-01  3e-17  6e-16\n",
      " 3: -3.4343e-01 -3.6000e-01  2e-02  1e-17  8e-16\n",
      " 4: -3.5033e-01 -3.5149e-01  1e-03  9e-18  4e-16\n",
      " 5: -3.5039e-01 -3.5041e-01  1e-05  8e-18  8e-16\n",
      " 6: -3.5040e-01 -3.5040e-01  3e-07  2e-17  5e-16\n",
      "Optimal solution found.\n",
      "     pcost       dcost       gap    pres   dres\n",
      " 0: -3.9714e+01 -7.5644e-01  3e+02  2e+01  1e-15\n",
      " 1: -6.5223e-01 -7.3404e-01  4e+00  2e-01  1e-15\n",
      " 2: -2.8792e-01 -6.2165e-01  3e-01  2e-17  6e-16\n",
      " 3: -3.2308e-01 -3.4884e-01  3e-02  2e-17  7e-16\n",
      " 4: -3.2341e-01 -3.2373e-01  3e-04  2e-17  5e-16\n",
      " 5: -3.2344e-01 -3.2345e-01  5e-06  1e-17  6e-16\n",
      " 6: -3.2344e-01 -3.2344e-01  2e-06  6e-18  5e-16\n",
      " 7: -3.2344e-01 -3.2344e-01  1e-06  1e-17  3e-16\n",
      " 8: -3.2344e-01 -3.2344e-01  3e-07  8e-18  5e-16\n",
      "Optimal solution found.\n",
      "     pcost       dcost       gap    pres   dres\n",
      " 0: -3.9717e+01 -7.5536e-01  3e+02  2e+01  9e-16\n",
      " 1: -6.5227e-01 -7.3395e-01  4e+00  2e-01  1e-15\n",
      " 2: -2.8793e-01 -6.2157e-01  3e-01  2e-17  5e-16\n",
      " 3: -3.2308e-01 -3.4886e-01  3e-02  9e-18  7e-16\n",
      " 4: -3.2341e-01 -3.2373e-01  3e-04  1e-17  6e-16\n",
      " 5: -3.2344e-01 -3.2345e-01  4e-06  9e-18  7e-16\n",
      " 6: -3.2344e-01 -3.2344e-01  9e-07  7e-18  5e-16\n",
      " 7: -3.2344e-01 -3.2344e-01  7e-07  8e-18  4e-16\n",
      " 8: -3.2344e-01 -3.2344e-01  2e-07  8e-18  4e-16\n",
      "Optimal solution found.\n",
      "     pcost       dcost       gap    pres   dres\n",
      " 0: -4.0095e+01 -7.4312e-01  3e+02  2e+01  7e-16\n",
      " 1: -6.5265e-01 -7.2222e-01  3e+00  2e-01  1e-15\n",
      " 2: -2.9523e-01 -6.1164e-01  3e-01  2e-17  7e-16\n",
      " 3: -3.4343e-01 -3.6000e-01  2e-02  8e-18  8e-16\n",
      " 4: -3.5033e-01 -3.5149e-01  1e-03  9e-18  5e-16\n",
      " 5: -3.5039e-01 -3.5041e-01  1e-05  9e-18  7e-16\n",
      " 6: -3.5040e-01 -3.5040e-01  3e-07  2e-17  6e-16\n",
      "Optimal solution found.\n",
      "     pcost       dcost       gap    pres   dres\n",
      " 0: -4.0125e+01 -7.3719e-01  3e+02  2e+01  1e-15\n",
      " 1: -6.5071e-01 -7.1786e-01  3e+00  2e-01  1e-15\n",
      " 2: -2.9640e-01 -6.0732e-01  3e-01  2e-17  7e-16\n",
      " 3: -3.4536e-01 -3.6188e-01  2e-02  1e-17  8e-16\n",
      " 4: -3.5924e-01 -3.5941e-01  2e-04  9e-18  6e-16\n",
      " 5: -3.5938e-01 -3.5938e-01  2e-06  1e-17  7e-16\n",
      " 6: -3.5938e-01 -3.5938e-01  2e-08  8e-18  2e-15\n",
      "Optimal solution found.\n",
      "     pcost       dcost       gap    pres   dres\n",
      " 0: -4.0006e+01 -7.5190e-01  3e+02  2e+01  9e-16\n",
      " 1: -6.5348e-01 -7.2638e-01  4e+00  2e-01  9e-16\n",
      " 2: -2.9340e-01 -6.1546e-01  3e-01  2e-17  7e-16\n",
      " 3: -3.3894e-01 -3.5466e-01  2e-02  8e-18  7e-16\n",
      " 4: -3.4101e-01 -3.4175e-01  7e-04  1e-17  5e-16\n",
      " 5: -3.4140e-01 -3.4142e-01  1e-05  8e-18  6e-16\n",
      " 6: -3.4141e-01 -3.4141e-01  3e-06  7e-18  5e-16\n",
      " 7: -3.4141e-01 -3.4141e-01  3e-06  2e-17  4e-16\n",
      " 8: -3.4141e-01 -3.4141e-01  7e-07  2e-17  5e-16\n",
      " 9: -3.4141e-01 -3.4141e-01  2e-07  9e-18  5e-16\n",
      "Optimal solution found.\n",
      "     pcost       dcost       gap    pres   dres\n",
      " 0: -4.0013e+01 -7.4960e-01  3e+02  2e+01  6e-16\n",
      " 1: -6.5351e-01 -7.2645e-01  4e+00  2e-01  1e-15\n",
      " 2: -2.9339e-01 -6.1553e-01  3e-01  2e-17  6e-16\n",
      " 3: -3.3894e-01 -3.5466e-01  2e-02  7e-18  8e-16\n",
      " 4: -3.4101e-01 -3.4175e-01  7e-04  1e-17  5e-16\n",
      " 5: -3.4141e-01 -3.4142e-01  1e-05  1e-17  6e-16\n",
      " 6: -3.4141e-01 -3.4141e-01  3e-06  9e-18  5e-16\n",
      " 7: -3.4141e-01 -3.4141e-01  2e-06  9e-18  5e-16\n",
      " 8: -3.4141e-01 -3.4141e-01  6e-07  8e-18  4e-16\n",
      " 9: -3.4141e-01 -3.4141e-01  4e-07  1e-17  4e-16\n",
      "10: -3.4141e-01 -3.4141e-01  1e-07  7e-18  4e-16\n",
      "Optimal solution found.\n",
      "     pcost       dcost       gap    pres   dres\n",
      " 0: -3.9893e+01 -7.5161e-01  3e+02  2e+01  7e-16\n",
      " 1: -6.5342e-01 -7.3031e-01  4e+00  2e-01  9e-16\n",
      " 2: -2.9096e-01 -6.1879e-01  3e-01  2e-17  6e-16\n",
      " 3: -3.3201e-01 -3.4971e-01  2e-02  1e-17  7e-16\n",
      " 4: -3.3235e-01 -3.3268e-01  3e-04  8e-18  5e-16\n",
      " 5: -3.3243e-01 -3.3243e-01  4e-06  9e-18  6e-16\n",
      " 6: -3.3243e-01 -3.3243e-01  8e-07  1e-17  6e-16\n",
      " 7: -3.3243e-01 -3.3243e-01  7e-07  1e-17  6e-16\n",
      " 8: -3.3243e-01 -3.3243e-01  4e-07  1e-17  4e-16\n",
      " 9: -3.3243e-01 -3.3243e-01  1e-07  8e-18  5e-16\n",
      "Optimal solution found.\n",
      "     pcost       dcost       gap    pres   dres\n",
      " 0: -4.0124e+01 -7.3749e-01  3e+02  2e+01  8e-16\n",
      " 1: -6.5071e-01 -7.1783e-01  3e+00  2e-01  1e-15\n",
      " 2: -2.9640e-01 -6.0730e-01  3e-01  2e-17  7e-16\n",
      " 3: -3.4536e-01 -3.6188e-01  2e-02  7e-18  7e-16\n",
      " 4: -3.5924e-01 -3.5941e-01  2e-04  9e-18  7e-16\n",
      " 5: -3.5938e-01 -3.5938e-01  2e-06  8e-18  7e-16\n",
      " 6: -3.5938e-01 -3.5938e-01  2e-08  8e-18  2e-15\n",
      "Optimal solution found.\n",
      "     pcost       dcost       gap    pres   dres\n",
      " 0: -4.0019e+01 -7.4748e-01  3e+02  2e+01  9e-16\n",
      " 1: -6.5354e-01 -7.2642e-01  4e+00  2e-01  1e-15\n",
      " 2: -2.9340e-01 -6.1549e-01  3e-01  2e-17  6e-16\n",
      " 3: -3.3894e-01 -3.5466e-01  2e-02  9e-18  6e-16\n",
      " 4: -3.4101e-01 -3.4175e-01  7e-04  9e-18  4e-16\n",
      " 5: -3.4141e-01 -3.4142e-01  1e-05  1e-17  6e-16\n",
      " 6: -3.4141e-01 -3.4141e-01  2e-06  8e-18  5e-16\n",
      " 7: -3.4141e-01 -3.4141e-01  2e-06  1e-17  5e-16\n",
      " 8: -3.4141e-01 -3.4141e-01  6e-07  9e-18  5e-16\n",
      " 9: -3.4141e-01 -3.4141e-01  4e-07  1e-17  5e-16\n",
      "10: -3.4141e-01 -3.4141e-01  1e-07  2e-17  5e-16\n",
      "Optimal solution found.\n",
      "     pcost       dcost       gap    pres   dres\n",
      " 0: -4.0092e+01 -7.4418e-01  3e+02  2e+01  8e-16\n",
      " 1: -6.5263e-01 -7.2221e-01  3e+00  2e-01  1e-15\n",
      " 2: -2.9523e-01 -6.1164e-01  3e-01  2e-17  6e-16\n",
      " 3: -3.4343e-01 -3.6000e-01  2e-02  7e-18  8e-16\n",
      " 4: -3.5033e-01 -3.5149e-01  1e-03  9e-18  5e-16\n",
      " 5: -3.5039e-01 -3.5041e-01  1e-05  9e-18  8e-16\n",
      " 6: -3.5040e-01 -3.5040e-01  3e-07  1e-17  7e-16\n",
      "Optimal solution found.\n"
     ]
    },
    {
     "name": "stderr",
     "output_type": "stream",
     "text": [
      "\r",
      " 40%|████      | 12/30 [00:02<00:04,  4.37it/s]"
     ]
    },
    {
     "name": "stdout",
     "output_type": "stream",
     "text": [
      "     pcost       dcost       gap    pres   dres\n",
      " 0: -3.9703e+01 -7.6000e-01  3e+02  2e+01  1e-15\n",
      " 1: -6.5219e-01 -7.3395e-01  4e+00  2e-01  9e-16\n",
      " 2: -2.8793e-01 -6.2157e-01  3e-01  2e-17  5e-16\n",
      " 3: -3.2308e-01 -3.4885e-01  3e-02  8e-18  6e-16\n",
      " 4: -3.2341e-01 -3.2373e-01  3e-04  7e-18  6e-16\n",
      " 5: -3.2344e-01 -3.2345e-01  4e-06  1e-17  6e-16\n",
      " 6: -3.2344e-01 -3.2344e-01  9e-07  8e-18  6e-16\n",
      " 7: -3.2344e-01 -3.2344e-01  7e-07  8e-18  4e-16\n",
      " 8: -3.2344e-01 -3.2344e-01  1e-07  1e-17  5e-16\n",
      "Optimal solution found.\n",
      "     pcost       dcost       gap    pres   dres\n",
      " 0: -3.9896e+01 -7.5067e-01  3e+02  2e+01  9e-16\n",
      " 1: -6.5343e-01 -7.3033e-01  4e+00  2e-01  1e-15\n",
      " 2: -2.9096e-01 -6.1881e-01  3e-01  4e-17  6e-16\n",
      " 3: -3.3201e-01 -3.4971e-01  2e-02  1e-17  8e-16\n",
      " 4: -3.3235e-01 -3.3268e-01  3e-04  3e-17  5e-16\n",
      " 5: -3.3243e-01 -3.3243e-01  5e-06  2e-17  5e-16\n",
      " 6: -3.3243e-01 -3.3243e-01  1e-06  8e-18  4e-16\n",
      " 7: -3.3243e-01 -3.3243e-01  1e-06  1e-17  4e-16\n",
      " 8: -3.3243e-01 -3.3243e-01  5e-07  2e-17  4e-16\n",
      " 9: -3.3243e-01 -3.3243e-01  3e-07  7e-18  4e-16\n",
      "Optimal solution found.\n",
      "     pcost       dcost       gap    pres   dres\n",
      " 0: -4.0087e+01 -7.4575e-01  3e+02  2e+01  8e-16\n",
      " 1: -6.5261e-01 -7.2224e-01  3e+00  2e-01  1e-15\n",
      " 2: -2.9523e-01 -6.1166e-01  3e-01  3e-17  7e-16\n",
      " 3: -3.4343e-01 -3.6000e-01  2e-02  2e-17  7e-16\n",
      " 4: -3.5033e-01 -3.5150e-01  1e-03  9e-18  4e-16\n",
      " 5: -3.5039e-01 -3.5041e-01  1e-05  8e-18  8e-16\n",
      " 6: -3.5040e-01 -3.5040e-01  3e-07  1e-17  6e-16\n",
      "Optimal solution found.\n",
      "     pcost       dcost       gap    pres   dres\n",
      " 0: -3.9893e+01 -7.5143e-01  3e+02  2e+01  9e-16\n",
      " 1: -6.5342e-01 -7.3031e-01  4e+00  2e-01  1e-15\n",
      " 2: -2.9096e-01 -6.1878e-01  3e-01  2e-17  5e-16\n",
      " 3: -3.3201e-01 -3.4971e-01  2e-02  8e-18  7e-16\n",
      " 4: -3.3235e-01 -3.3268e-01  3e-04  1e-17  4e-16\n",
      " 5: -3.3243e-01 -3.3243e-01  5e-06  9e-18  6e-16\n",
      " 6: -3.3243e-01 -3.3243e-01  2e-06  8e-18  4e-16\n",
      " 7: -3.3243e-01 -3.3243e-01  1e-06  1e-17  4e-16\n",
      " 8: -3.3243e-01 -3.3243e-01  5e-07  8e-18  4e-16\n",
      " 9: -3.3243e-01 -3.3243e-01  3e-07  8e-18  4e-16\n",
      "10: -3.3243e-01 -3.3243e-01  1e-07  8e-18  4e-16\n",
      "Optimal solution found.\n",
      "     pcost       dcost       gap    pres   dres\n",
      " 0: -4.0004e+01 -7.5231e-01  3e+02  2e+01  8e-16\n",
      " 1: -6.5348e-01 -7.2642e-01  4e+00  2e-01  1e-15\n",
      " 2: -2.9340e-01 -6.1549e-01  3e-01  3e-17  5e-16\n",
      " 3: -3.3894e-01 -3.5468e-01  2e-02  8e-18  6e-16\n",
      " 4: -3.4101e-01 -3.4175e-01  7e-04  9e-18  5e-16\n",
      " 5: -3.4141e-01 -3.4141e-01  9e-06  9e-18  5e-16\n",
      " 6: -3.4141e-01 -3.4141e-01  1e-06  8e-18  4e-16\n",
      " 7: -3.4141e-01 -3.4141e-01  1e-06  1e-17  4e-16\n",
      " 8: -3.4141e-01 -3.4141e-01  1e-07  8e-18  6e-16\n",
      "Optimal solution found.\n",
      "     pcost       dcost       gap    pres   dres\n",
      " 0: -4.0026e+01 -7.4512e-01  3e+02  2e+01  9e-16\n",
      " 1: -6.5358e-01 -7.2640e-01  4e+00  2e-01  9e-16\n",
      " 2: -2.9341e-01 -6.1548e-01  3e-01  2e-17  6e-16\n",
      " 3: -3.3895e-01 -3.5466e-01  2e-02  1e-17  8e-16\n",
      " 4: -3.4101e-01 -3.4175e-01  7e-04  1e-17  5e-16\n",
      " 5: -3.4141e-01 -3.4142e-01  9e-06  2e-17  6e-16\n",
      " 6: -3.4141e-01 -3.4141e-01  2e-06  2e-17  6e-16\n",
      " 7: -3.4141e-01 -3.4141e-01  2e-06  1e-17  5e-16\n",
      " 8: -3.4141e-01 -3.4141e-01  3e-07  9e-18  6e-16\n",
      "Optimal solution found.\n",
      "     pcost       dcost       gap    pres   dres\n",
      " 0: -4.0021e+01 -7.4684e-01  3e+02  2e+01  9e-16\n",
      " 1: -6.5358e-01 -7.2630e-01  4e+00  2e-01  1e-15\n",
      " 2: -2.9342e-01 -6.1540e-01  3e-01  2e-17  6e-16\n",
      " 3: -3.3895e-01 -3.5467e-01  2e-02  7e-18  7e-16\n",
      " 4: -3.4101e-01 -3.4175e-01  7e-04  1e-17  4e-16\n",
      " 5: -3.4141e-01 -3.4141e-01  9e-06  9e-18  7e-16\n",
      " 6: -3.4141e-01 -3.4141e-01  1e-06  1e-17  6e-16\n",
      " 7: -3.4141e-01 -3.4141e-01  1e-06  1e-17  5e-16\n",
      " 8: -3.4141e-01 -3.4141e-01  1e-07  8e-18  6e-16\n",
      "Optimal solution found.\n",
      "     pcost       dcost       gap    pres   dres\n",
      " 0: -4.0117e+01 -7.3974e-01  3e+02  2e+01  9e-16\n",
      " 1: -6.5067e-01 -7.1788e-01  3e+00  2e-01  1e-15\n",
      " 2: -2.9639e-01 -6.0733e-01  3e-01  2e-17  7e-16\n",
      " 3: -3.4535e-01 -3.6188e-01  2e-02  6e-18  7e-16\n",
      " 4: -3.5924e-01 -3.5941e-01  2e-04  9e-18  6e-16\n",
      " 5: -3.5938e-01 -3.5938e-01  2e-06  1e-17  7e-16\n",
      " 6: -3.5938e-01 -3.5938e-01  2e-08  8e-18  2e-15\n",
      "Optimal solution found.\n",
      "     pcost       dcost       gap    pres   dres\n",
      " 0: -4.0023e+01 -7.4620e-01  3e+02  2e+01  1e-15\n",
      " 1: -6.5357e-01 -7.2641e-01  4e+00  2e-01  1e-15\n",
      " 2: -2.9340e-01 -6.1549e-01  3e-01  2e-17  7e-16\n",
      " 3: -3.3894e-01 -3.5466e-01  2e-02  8e-18  8e-16\n",
      " 4: -3.4101e-01 -3.4175e-01  7e-04  8e-18  5e-16\n",
      " 5: -3.4141e-01 -3.4142e-01  1e-05  2e-17  6e-16\n",
      " 6: -3.4141e-01 -3.4141e-01  2e-06  7e-18  6e-16\n",
      " 7: -3.4141e-01 -3.4141e-01  2e-06  1e-17  5e-16\n",
      " 8: -3.4141e-01 -3.4141e-01  6e-07  8e-18  5e-16\n",
      " 9: -3.4141e-01 -3.4141e-01  2e-07  8e-18  5e-16\n",
      "Optimal solution found.\n",
      "     pcost       dcost       gap    pres   dres\n",
      " 0: -3.9706e+01 -7.5917e-01  3e+02  2e+01  1e-15\n",
      " 1: -6.5220e-01 -7.3405e-01  4e+00  2e-01  1e-15\n",
      " 2: -2.8792e-01 -6.2166e-01  3e-01  2e-17  6e-16\n",
      " 3: -3.2308e-01 -3.4884e-01  3e-02  2e-17  7e-16\n",
      " 4: -3.2341e-01 -3.2373e-01  3e-04  1e-17  5e-16\n",
      " 5: -3.2344e-01 -3.2345e-01  4e-06  8e-18  7e-16\n",
      " 6: -3.2344e-01 -3.2344e-01  8e-07  7e-18  5e-16\n",
      " 7: -3.2344e-01 -3.2344e-01  6e-07  1e-17  4e-16\n",
      " 8: -3.2344e-01 -3.2344e-01  1e-07  2e-17  5e-16\n",
      "Optimal solution found.\n",
      "     pcost       dcost       gap    pres   dres\n",
      " 0: -3.9889e+01 -7.5293e-01  3e+02  2e+01  8e-16\n",
      " 1: -6.5339e-01 -7.3037e-01  4e+00  2e-01  1e-15\n",
      " 2: -2.9095e-01 -6.1884e-01  3e-01  2e-17  6e-16\n",
      " 3: -3.3201e-01 -3.4969e-01  2e-02  7e-18  7e-16\n",
      " 4: -3.3235e-01 -3.3268e-01  3e-04  7e-18  5e-16\n",
      " 5: -3.3243e-01 -3.3243e-01  5e-06  8e-18  6e-16\n",
      " 6: -3.3243e-01 -3.3243e-01  2e-06  7e-18  5e-16\n",
      " 7: -3.3243e-01 -3.3243e-01  1e-06  9e-18  4e-16\n",
      " 8: -3.3243e-01 -3.3243e-01  6e-07  1e-17  5e-16\n",
      " 9: -3.3243e-01 -3.3243e-01  3e-07  8e-18  4e-16\n",
      "Optimal solution found.\n",
      "     pcost       dcost       gap    pres   dres\n",
      " 0: -4.0096e+01 -7.4263e-01  3e+02  2e+01  1e-15\n",
      " 1: -6.5267e-01 -7.2217e-01  3e+00  2e-01  1e-15\n",
      " 2: -2.9524e-01 -6.1159e-01  3e-01  2e-17  7e-16\n",
      " 3: -3.4344e-01 -3.6000e-01  2e-02  7e-18  7e-16\n",
      " 4: -3.5033e-01 -3.5149e-01  1e-03  1e-17  5e-16\n",
      " 5: -3.5039e-01 -3.5041e-01  1e-05  8e-18  7e-16\n",
      " 6: -3.5040e-01 -3.5040e-01  3e-07  8e-18  5e-16\n",
      "Optimal solution found.\n",
      "     pcost       dcost       gap    pres   dres\n",
      " 0: -4.0558e+01 -2.6202e+00  3e+02  2e+01  8e-16\n",
      " 1: -1.3106e+00 -2.5837e+00  4e+00  1e-01  1e-15\n",
      " 2: -1.1193e+00 -1.6026e+00  5e-01  4e-17  4e-16\n",
      " 3: -1.2578e+00 -1.3125e+00  5e-02  3e-17  6e-16\n",
      " 4: -1.2584e+00 -1.2607e+00  2e-03  4e-17  4e-16\n",
      " 5: -1.2592e+00 -1.2593e+00  4e-05  3e-17  5e-16\n",
      " 6: -1.2592e+00 -1.2592e+00  9e-06  3e-17  6e-16\n",
      " 7: -1.2592e+00 -1.2592e+00  8e-06  3e-17  5e-16\n",
      " 8: -1.2592e+00 -1.2592e+00  4e-06  3e-17  4e-16\n",
      " 9: -1.2592e+00 -1.2592e+00  3e-06  3e-17  4e-16\n",
      "10: -1.2592e+00 -1.2592e+00  3e-06  3e-17  3e-16\n",
      "11: -1.2592e+00 -1.2592e+00  1e-06  4e-17  5e-16\n",
      "Optimal solution found.\n",
      "     pcost       dcost       gap    pres   dres\n",
      " 0: -4.0581e+01 -2.6051e+00  3e+02  2e+01  1e-15\n",
      " 1: -1.3030e+00 -2.5679e+00  4e+00  1e-01  1e-15\n",
      " 2: -1.1260e+00 -1.5824e+00  5e-01  4e-17  5e-16\n",
      " 3: -1.2840e+00 -1.2944e+00  1e-02  3e-17  8e-16\n",
      " 4: -1.2915e+00 -1.2916e+00  1e-04  3e-17  7e-16\n",
      " 5: -1.2915e+00 -1.2915e+00  1e-06  4e-17  6e-16\n",
      "Optimal solution found.\n",
      "     pcost       dcost       gap    pres   dres\n",
      " 0: -4.0550e+01 -2.6228e+00  3e+02  2e+01  8e-16\n",
      " 1: -1.3106e+00 -2.5839e+00  4e+00  1e-01  1e-15\n",
      " 2: -1.1192e+00 -1.6027e+00  5e-01  5e-17  4e-16\n",
      " 3: -1.2578e+00 -1.3125e+00  5e-02  3e-17  6e-16\n",
      " 4: -1.2584e+00 -1.2607e+00  2e-03  3e-17  4e-16\n",
      " 5: -1.2592e+00 -1.2593e+00  4e-05  3e-17  6e-16\n",
      " 6: -1.2592e+00 -1.2592e+00  9e-06  3e-17  4e-16\n",
      " 7: -1.2592e+00 -1.2592e+00  8e-06  3e-17  4e-16\n",
      " 8: -1.2592e+00 -1.2592e+00  4e-06  3e-17  5e-16\n",
      " 9: -1.2592e+00 -1.2592e+00  3e-06  4e-17  4e-16\n",
      "10: -1.2592e+00 -1.2592e+00  3e-06  3e-17  4e-16\n",
      "11: -1.2592e+00 -1.2592e+00  1e-06  3e-17  5e-16\n",
      "Optimal solution found.\n",
      "     pcost       dcost       gap    pres   dres\n",
      " 0: -4.0555e+01 -2.6208e+00  3e+02  2e+01  9e-16\n",
      " 1: -1.3106e+00 -2.5835e+00  4e+00  1e-01  1e-15\n",
      " 2: -1.1193e+00 -1.6025e+00  5e-01  4e-17  4e-16\n",
      " 3: -1.2578e+00 -1.3125e+00  5e-02  4e-17  6e-16\n",
      " 4: -1.2584e+00 -1.2607e+00  2e-03  7e-17  5e-16\n",
      " 5: -1.2592e+00 -1.2593e+00  4e-05  3e-17  7e-16\n",
      " 6: -1.2592e+00 -1.2592e+00  8e-06  3e-17  5e-16\n",
      " 7: -1.2592e+00 -1.2592e+00  7e-06  3e-17  4e-16\n",
      " 8: -1.2592e+00 -1.2592e+00  3e-06  3e-17  4e-16\n",
      " 9: -1.2592e+00 -1.2592e+00  2e-06  3e-17  4e-16\n",
      "10: -1.2592e+00 -1.2592e+00  5e-07  3e-17  5e-16\n",
      "Optimal solution found.\n",
      "     pcost       dcost       gap    pres   dres\n",
      " 0: -4.0360e+01 -2.6481e+00  3e+02  2e+01  9e-16\n",
      " 1: -1.3183e+00 -2.6130e+00  4e+00  1e-01  8e-16\n",
      " 2: -1.0954e+00 -1.6326e+00  5e-01  4e-17  4e-16\n",
      " 3: -1.1937e+00 -1.2730e+00  8e-02  3e-17  5e-16\n",
      " 4: -1.1946e+00 -1.1955e+00  9e-04  3e-17  8e-16\n",
      " 5: -1.1947e+00 -1.1947e+00  3e-05  3e-17  8e-16\n",
      " 6: -1.1947e+00 -1.1947e+00  1e-05  2e-17  4e-16\n",
      " 7: -1.1947e+00 -1.1947e+00  6e-06  3e-17  4e-16\n",
      " 8: -1.1947e+00 -1.1947e+00  3e-06  3e-17  5e-16\n",
      " 9: -1.1947e+00 -1.1947e+00  9e-07  3e-17  6e-16\n",
      "Optimal solution found.\n",
      "     pcost       dcost       gap    pres   dres\n",
      " 0: -4.0360e+01 -2.6480e+00  3e+02  2e+01  8e-16\n",
      " 1: -1.3184e+00 -2.6128e+00  4e+00  1e-01  1e-15\n",
      " 2: -1.0955e+00 -1.6326e+00  5e-01  3e-17  4e-16\n",
      " 3: -1.1937e+00 -1.2730e+00  8e-02  3e-17  6e-16\n",
      " 4: -1.1946e+00 -1.1955e+00  9e-04  3e-17  8e-16\n",
      " 5: -1.1947e+00 -1.1947e+00  2e-05  3e-17  6e-16\n",
      " 6: -1.1947e+00 -1.1947e+00  7e-06  6e-17  5e-16\n",
      " 7: -1.1947e+00 -1.1947e+00  4e-06  3e-17  3e-16\n",
      " 8: -1.1947e+00 -1.1947e+00  9e-07  3e-17  4e-16\n",
      "Optimal solution found.\n",
      "     pcost       dcost       gap    pres   dres\n",
      " 0: -4.0561e+01 -2.6196e+00  3e+02  2e+01  1e-15\n",
      " 1: -1.3105e+00 -2.5839e+00  4e+00  1e-01  1e-15\n",
      " 2: -1.1192e+00 -1.6027e+00  5e-01  4e-17  4e-16\n",
      " 3: -1.2578e+00 -1.3125e+00  5e-02  3e-17  6e-16\n",
      " 4: -1.2584e+00 -1.2607e+00  2e-03  3e-17  5e-16\n",
      " 5: -1.2592e+00 -1.2593e+00  4e-05  3e-17  6e-16\n",
      " 6: -1.2592e+00 -1.2592e+00  1e-05  3e-17  6e-16\n",
      " 7: -1.2592e+00 -1.2592e+00  9e-06  4e-17  5e-16\n",
      " 8: -1.2592e+00 -1.2592e+00  4e-06  3e-17  5e-16\n",
      " 9: -1.2592e+00 -1.2592e+00  2e-06  3e-17  5e-16\n",
      "10: -1.2592e+00 -1.2592e+00  5e-07  3e-17  5e-16\n",
      "Optimal solution found.\n",
      "     pcost       dcost       gap    pres   dres\n",
      " 0: -4.0467e+01 -2.6405e+00  3e+02  2e+01  9e-16\n",
      " 1: -1.3156e+00 -2.5991e+00  4e+00  1e-01  8e-16\n",
      " 2: -1.1089e+00 -1.6194e+00  5e-01  3e-17  4e-16\n",
      " 3: -1.2258e+00 -1.3031e+00  8e-02  3e-17  5e-16\n",
      " 4: -1.2267e+00 -1.2279e+00  1e-03  3e-17  4e-16\n",
      " 5: -1.2269e+00 -1.2270e+00  3e-05  3e-17  6e-16\n",
      " 6: -1.2269e+00 -1.2270e+00  2e-05  3e-17  4e-16\n",
      " 7: -1.2269e+00 -1.2270e+00  1e-05  3e-17  4e-16\n",
      " 8: -1.2270e+00 -1.2270e+00  4e-06  4e-17  5e-16\n",
      " 9: -1.2270e+00 -1.2270e+00  5e-07  3e-17  7e-16\n",
      "Optimal solution found.\n"
     ]
    },
    {
     "name": "stderr",
     "output_type": "stream",
     "text": [
      "\r",
      " 43%|████▎     | 13/30 [00:02<00:03,  4.26it/s]"
     ]
    },
    {
     "name": "stdout",
     "output_type": "stream",
     "text": [
      "     pcost       dcost       gap    pres   dres\n",
      " 0: -4.0585e+01 -2.6038e+00  3e+02  2e+01  1e-15\n",
      " 1: -1.3030e+00 -2.5678e+00  4e+00  1e-01  1e-15\n",
      " 2: -1.1260e+00 -1.5824e+00  5e-01  3e-17  3e-16\n",
      " 3: -1.2840e+00 -1.2944e+00  1e-02  3e-17  6e-16\n",
      " 4: -1.2915e+00 -1.2916e+00  1e-04  3e-17  6e-16\n",
      " 5: -1.2915e+00 -1.2915e+00  1e-06  7e-17  5e-16\n",
      "Optimal solution found.\n",
      "     pcost       dcost       gap    pres   dres\n",
      " 0: -4.0582e+01 -2.6051e+00  3e+02  2e+01  1e-15\n",
      " 1: -1.3030e+00 -2.5680e+00  4e+00  1e-01  1e-15\n",
      " 2: -1.1260e+00 -1.5825e+00  5e-01  4e-17  4e-16\n",
      " 3: -1.2840e+00 -1.2944e+00  1e-02  3e-17  7e-16\n",
      " 4: -1.2915e+00 -1.2916e+00  1e-04  3e-17  6e-16\n",
      " 5: -1.2915e+00 -1.2915e+00  1e-06  3e-17  6e-16\n",
      "Optimal solution found.\n",
      "     pcost       dcost       gap    pres   dres\n",
      " 0: -4.0469e+01 -2.6398e+00  3e+02  2e+01  9e-16\n",
      " 1: -1.3156e+00 -2.5992e+00  4e+00  1e-01  9e-16\n",
      " 2: -1.1088e+00 -1.6194e+00  5e-01  3e-17  4e-16\n",
      " 3: -1.2258e+00 -1.3032e+00  8e-02  3e-17  6e-16\n",
      " 4: -1.2267e+00 -1.2280e+00  1e-03  3e-17  5e-16\n",
      " 5: -1.2269e+00 -1.2270e+00  4e-05  3e-17  7e-16\n",
      " 6: -1.2269e+00 -1.2270e+00  2e-05  3e-17  4e-16\n",
      " 7: -1.2269e+00 -1.2270e+00  1e-05  3e-17  4e-16\n",
      " 8: -1.2270e+00 -1.2270e+00  5e-06  3e-17  4e-16\n",
      " 9: -1.2270e+00 -1.2270e+00  2e-06  3e-17  5e-16\n",
      "10: -1.2270e+00 -1.2270e+00  2e-07  3e-17  7e-16\n",
      "Optimal solution found.\n",
      "     pcost       dcost       gap    pres   dres\n",
      " 0: -4.0562e+01 -2.6190e+00  3e+02  2e+01  8e-16\n",
      " 1: -1.3106e+00 -2.5837e+00  4e+00  1e-01  1e-15\n",
      " 2: -1.1193e+00 -1.6025e+00  5e-01  4e-17  4e-16\n",
      " 3: -1.2578e+00 -1.3125e+00  5e-02  3e-17  7e-16\n",
      " 4: -1.2584e+00 -1.2607e+00  2e-03  3e-17  4e-16\n",
      " 5: -1.2592e+00 -1.2593e+00  4e-05  4e-17  7e-16\n",
      " 6: -1.2592e+00 -1.2592e+00  1e-05  3e-17  5e-16\n",
      " 7: -1.2592e+00 -1.2592e+00  9e-06  4e-17  4e-16\n",
      " 8: -1.2592e+00 -1.2592e+00  4e-06  3e-17  5e-16\n",
      " 9: -1.2592e+00 -1.2592e+00  2e-06  3e-17  5e-16\n",
      "10: -1.2592e+00 -1.2592e+00  8e-07  7e-17  5e-16\n",
      "Optimal solution found.\n",
      "     pcost       dcost       gap    pres   dres\n",
      " 0: -4.0478e+01 -2.6366e+00  3e+02  2e+01  8e-16\n",
      " 1: -1.3157e+00 -2.5988e+00  4e+00  1e-01  8e-16\n",
      " 2: -1.1089e+00 -1.6193e+00  5e-01  4e-17  4e-16\n",
      " 3: -1.2258e+00 -1.3031e+00  8e-02  4e-17  6e-16\n",
      " 4: -1.2267e+00 -1.2279e+00  1e-03  3e-17  5e-16\n",
      " 5: -1.2269e+00 -1.2270e+00  2e-05  3e-17  7e-16\n",
      " 6: -1.2270e+00 -1.2270e+00  8e-06  3e-17  5e-16\n",
      " 7: -1.2270e+00 -1.2270e+00  6e-06  3e-17  3e-16\n",
      " 8: -1.2270e+00 -1.2270e+00  2e-06  2e-17  4e-16\n",
      " 9: -1.2270e+00 -1.2270e+00  8e-07  3e-17  5e-16\n",
      "Optimal solution found.\n",
      "     pcost       dcost       gap    pres   dres\n",
      " 0: -4.0551e+01 -2.6224e+00  3e+02  2e+01  8e-16\n",
      " 1: -1.3106e+00 -2.5836e+00  4e+00  1e-01  8e-16\n",
      " 2: -1.1192e+00 -1.6026e+00  5e-01  3e-17  4e-16\n",
      " 3: -1.2578e+00 -1.3125e+00  5e-02  5e-17  6e-16\n",
      " 4: -1.2584e+00 -1.2607e+00  2e-03  3e-17  4e-16\n",
      " 5: -1.2592e+00 -1.2593e+00  4e-05  5e-17  5e-16\n",
      " 6: -1.2592e+00 -1.2592e+00  9e-06  6e-17  6e-16\n",
      " 7: -1.2592e+00 -1.2592e+00  8e-06  4e-17  6e-16\n",
      " 8: -1.2592e+00 -1.2592e+00  4e-06  3e-17  5e-16\n",
      " 9: -1.2592e+00 -1.2592e+00  3e-06  3e-17  4e-16\n",
      "10: -1.2592e+00 -1.2592e+00  3e-06  3e-17  4e-16\n",
      "11: -1.2592e+00 -1.2592e+00  9e-07  3e-17  5e-16\n",
      "Optimal solution found.\n",
      "     pcost       dcost       gap    pres   dres\n",
      " 0: -4.0593e+01 -2.6012e+00  3e+02  2e+01  1e-15\n",
      " 1: -1.3031e+00 -2.5678e+00  4e+00  1e-01  1e-15\n",
      " 2: -1.1260e+00 -1.5824e+00  5e-01  4e-17  5e-16\n",
      " 3: -1.2840e+00 -1.2944e+00  1e-02  3e-17  7e-16\n",
      " 4: -1.2915e+00 -1.2916e+00  1e-04  5e-17  6e-16\n",
      " 5: -1.2915e+00 -1.2915e+00  1e-06  8e-17  6e-16\n",
      "Optimal solution found.\n",
      "     pcost       dcost       gap    pres   dres\n",
      " 0: -4.0558e+01 -2.6201e+00  3e+02  2e+01  1e-15\n",
      " 1: -1.3106e+00 -2.5835e+00  4e+00  1e-01  9e-16\n",
      " 2: -1.1193e+00 -1.6025e+00  5e-01  4e-17  4e-16\n",
      " 3: -1.2578e+00 -1.3125e+00  5e-02  3e-17  6e-16\n",
      " 4: -1.2584e+00 -1.2607e+00  2e-03  3e-17  4e-16\n",
      " 5: -1.2592e+00 -1.2593e+00  4e-05  3e-17  7e-16\n",
      " 6: -1.2592e+00 -1.2592e+00  8e-06  3e-17  5e-16\n",
      " 7: -1.2592e+00 -1.2592e+00  7e-06  4e-17  4e-16\n",
      " 8: -1.2592e+00 -1.2592e+00  4e-06  3e-17  3e-16\n",
      " 9: -1.2592e+00 -1.2592e+00  3e-06  5e-17  4e-16\n",
      "10: -1.2592e+00 -1.2592e+00  2e-06  3e-17  4e-16\n",
      "11: -1.2592e+00 -1.2592e+00  2e-07  5e-17  5e-16\n",
      "Optimal solution found.\n",
      "     pcost       dcost       gap    pres   dres\n",
      " 0: -4.0580e+01 -2.6055e+00  3e+02  2e+01  9e-16\n",
      " 1: -1.3030e+00 -2.5681e+00  4e+00  1e-01  1e-15\n",
      " 2: -1.1259e+00 -1.5825e+00  5e-01  4e-17  5e-16\n",
      " 3: -1.2840e+00 -1.2944e+00  1e-02  3e-17  6e-16\n",
      " 4: -1.2915e+00 -1.2916e+00  1e-04  7e-17  6e-16\n",
      " 5: -1.2915e+00 -1.2915e+00  1e-06  5e-17  5e-16\n",
      "Optimal solution found.\n",
      "     pcost       dcost       gap    pres   dres\n",
      " 0: -4.0467e+01 -2.6404e+00  3e+02  2e+01  9e-16\n",
      " 1: -1.3156e+00 -2.5988e+00  4e+00  1e-01  1e-15\n",
      " 2: -1.1089e+00 -1.6193e+00  5e-01  4e-17  5e-16\n",
      " 3: -1.2258e+00 -1.3031e+00  8e-02  3e-17  5e-16\n",
      " 4: -1.2267e+00 -1.2279e+00  1e-03  3e-17  6e-16\n",
      " 5: -1.2269e+00 -1.2270e+00  2e-05  3e-17  6e-16\n",
      " 6: -1.2269e+00 -1.2270e+00  7e-06  3e-17  4e-16\n",
      " 7: -1.2269e+00 -1.2270e+00  5e-06  3e-17  3e-16\n",
      " 8: -1.2270e+00 -1.2270e+00  4e-07  3e-17  8e-16\n",
      "Optimal solution found.\n",
      "     pcost       dcost       gap    pres   dres\n",
      " 0: -4.0363e+01 -2.6472e+00  3e+02  2e+01  9e-16\n",
      " 1: -1.3183e+00 -2.6130e+00  4e+00  1e-01  9e-16\n",
      " 2: -1.0954e+00 -1.6326e+00  5e-01  4e-17  4e-16\n",
      " 3: -1.1937e+00 -1.2731e+00  8e-02  3e-17  6e-16\n",
      " 4: -1.1946e+00 -1.1955e+00  9e-04  3e-17  7e-16\n",
      " 5: -1.1947e+00 -1.1947e+00  3e-05  3e-17  1e-15\n",
      " 6: -1.1947e+00 -1.1947e+00  1e-05  3e-17  3e-16\n",
      " 7: -1.1947e+00 -1.1947e+00  4e-06  3e-17  5e-16\n",
      " 8: -1.1947e+00 -1.1947e+00  1e-06  3e-17  5e-16\n",
      " 9: -1.1947e+00 -1.1947e+00  7e-07  3e-17  5e-16\n",
      "Optimal solution found.\n",
      "     pcost       dcost       gap    pres   dres\n",
      " 0: -4.0586e+01 -2.6035e+00  3e+02  2e+01  9e-16\n",
      " 1: -1.3030e+00 -2.5679e+00  4e+00  1e-01  1e-15\n",
      " 2: -1.1260e+00 -1.5824e+00  5e-01  8e-17  4e-16\n",
      " 3: -1.2840e+00 -1.2944e+00  1e-02  3e-17  6e-16\n",
      " 4: -1.2915e+00 -1.2916e+00  1e-04  4e-17  6e-16\n",
      " 5: -1.2915e+00 -1.2915e+00  1e-06  3e-17  5e-16\n",
      "Optimal solution found.\n",
      "     pcost       dcost       gap    pres   dres\n",
      " 0: -4.0554e+01 -2.6218e+00  3e+02  2e+01  1e-15\n",
      " 1: -1.3105e+00 -2.5840e+00  4e+00  1e-01  1e-15\n",
      " 2: -1.1192e+00 -1.6027e+00  5e-01  4e-17  4e-16\n",
      " 3: -1.2578e+00 -1.3125e+00  5e-02  6e-17  5e-16\n",
      " 4: -1.2584e+00 -1.2607e+00  2e-03  1e-16  4e-16\n",
      " 5: -1.2592e+00 -1.2593e+00  5e-05  2e-16  6e-16\n",
      " 6: -1.2592e+00 -1.2592e+00  9e-06  3e-17  7e-16\n",
      " 7: -1.2592e+00 -1.2592e+00  7e-06  1e-16  4e-16\n",
      " 8: -1.2592e+00 -1.2592e+00  3e-06  1e-16  4e-16\n",
      " 9: -1.2592e+00 -1.2592e+00  2e-06  1e-16  4e-16\n",
      "10: -1.2592e+00 -1.2592e+00  2e-07  3e-17  5e-16\n",
      "Optimal solution found.\n",
      "     pcost       dcost       gap    pres   dres\n",
      " 0: -4.0171e+01 -2.6649e+00  3e+02  2e+01  9e-16\n",
      " 1: -1.3185e+00 -2.6261e+00  4e+00  2e-01  9e-16\n",
      " 2: -1.0792e+00 -1.6429e+00  6e-01  4e-17  5e-16\n",
      " 3: -1.1615e+00 -1.2333e+00  7e-02  3e-17  6e-16\n",
      " 4: -1.1624e+00 -1.1631e+00  8e-04  3e-17  6e-16\n",
      " 5: -1.1624e+00 -1.1624e+00  2e-05  3e-17  1e-15\n",
      " 6: -1.1624e+00 -1.1624e+00  5e-06  5e-17  5e-16\n",
      " 7: -1.1624e+00 -1.1624e+00  2e-06  3e-17  5e-16\n",
      " 8: -1.1624e+00 -1.1624e+00  4e-07  5e-17  5e-16\n",
      "Optimal solution found.\n",
      "     pcost       dcost       gap    pres   dres\n",
      " 0: -4.0579e+01 -2.6059e+00  3e+02  2e+01  9e-16\n",
      " 1: -1.3030e+00 -2.5680e+00  4e+00  1e-01  1e-15\n",
      " 2: -1.1260e+00 -1.5824e+00  5e-01  3e-17  4e-16\n",
      " 3: -1.2840e+00 -1.2944e+00  1e-02  3e-17  7e-16\n",
      " 4: -1.2915e+00 -1.2916e+00  1e-04  4e-17  6e-16\n",
      " 5: -1.2915e+00 -1.2915e+00  1e-06  3e-17  7e-16\n",
      "Optimal solution found.\n",
      "     pcost       dcost       gap    pres   dres\n",
      " 0: -4.0555e+01 -2.6211e+00  3e+02  2e+01  9e-16\n",
      " 1: -1.3106e+00 -2.5837e+00  4e+00  1e-01  9e-16\n",
      " 2: -1.1193e+00 -1.6025e+00  5e-01  4e-17  4e-16\n",
      " 3: -1.2578e+00 -1.3125e+00  5e-02  3e-17  6e-16\n",
      " 4: -1.2584e+00 -1.2607e+00  2e-03  9e-17  5e-16\n",
      " 5: -1.2592e+00 -1.2593e+00  4e-05  8e-17  6e-16\n",
      " 6: -1.2592e+00 -1.2592e+00  1e-05  3e-17  6e-16\n",
      " 7: -1.2592e+00 -1.2592e+00  9e-06  4e-17  5e-16\n",
      " 8: -1.2592e+00 -1.2592e+00  4e-06  5e-17  5e-16\n",
      " 9: -1.2592e+00 -1.2592e+00  2e-06  3e-17  4e-16\n",
      "10: -1.2592e+00 -1.2592e+00  4e-07  3e-17  5e-16\n",
      "Optimal solution found.\n",
      "     pcost       dcost       gap    pres   dres\n",
      " 0: -4.0491e+01 -2.6327e+00  3e+02  2e+01  1e-15\n",
      " 1: -1.3157e+00 -2.5989e+00  4e+00  1e-01  8e-16\n",
      " 2: -1.1089e+00 -1.6193e+00  5e-01  5e-17  4e-16\n",
      " 3: -1.2258e+00 -1.3031e+00  8e-02  3e-17  6e-16\n",
      " 4: -1.2267e+00 -1.2280e+00  1e-03  4e-17  6e-16\n",
      " 5: -1.2269e+00 -1.2270e+00  3e-05  4e-17  6e-16\n",
      " 6: -1.2270e+00 -1.2270e+00  2e-05  3e-17  4e-16\n",
      " 7: -1.2270e+00 -1.2270e+00  8e-06  3e-17  4e-16\n",
      " 8: -1.2270e+00 -1.2270e+00  4e-06  4e-17  3e-16\n",
      " 9: -1.2270e+00 -1.2270e+00  1e-06  3e-17  5e-16\n",
      "Optimal solution found.\n",
      "     pcost       dcost       gap    pres   dres\n",
      " 0: -4.2223e+01 -9.3683e+00  3e+02  2e+01  9e-16\n",
      " 1: -3.7075e+00 -9.1332e+00  5e+00  3e-15  9e-16\n",
      " 2: -4.3325e+00 -4.6674e+00  3e-01  2e-16  6e-16\n",
      " 3: -4.5233e+00 -4.5690e+00  5e-02  2e-16  4e-16\n",
      " 4: -4.5251e+00 -4.5258e+00  7e-04  9e-17  7e-16\n",
      " 5: -4.5253e+00 -4.5253e+00  4e-05  1e-16  9e-16\n",
      " 6: -4.5253e+00 -4.5253e+00  2e-05  1e-16  5e-16\n",
      " 7: -4.5253e+00 -4.5253e+00  7e-06  2e-16  5e-16\n",
      " 8: -4.5253e+00 -4.5253e+00  3e-06  2e-16  4e-16\n",
      "Optimal solution found.\n",
      "     pcost       dcost       gap    pres   dres\n",
      " 0: -4.2240e+01 -9.3631e+00  3e+02  2e+01  1e-15\n",
      " 1: -3.7076e+00 -9.1332e+00  5e+00  2e-15  1e-15\n",
      " 2: -4.3326e+00 -4.6673e+00  3e-01  3e-16  7e-16\n",
      " 3: -4.5234e+00 -4.5690e+00  5e-02  1e-16  5e-16\n",
      " 4: -4.5252e+00 -4.5259e+00  7e-04  1e-16  7e-16\n",
      " 5: -4.5253e+00 -4.5254e+00  6e-05  9e-17  6e-16\n",
      " 6: -4.5253e+00 -4.5254e+00  5e-05  1e-16  5e-16\n",
      " 7: -4.5253e+00 -4.5254e+00  5e-05  1e-16  4e-16\n",
      " 8: -4.5253e+00 -4.5254e+00  5e-05  1e-16  4e-16\n",
      " 9: -4.5254e+00 -4.5254e+00  8e-06  1e-16  5e-16\n",
      "10: -4.5254e+00 -4.5254e+00  2e-07  3e-16  6e-16\n",
      "Optimal solution found.\n",
      "     pcost       dcost       gap    pres   dres\n",
      " 0: -4.2143e+01 -9.4250e+00  3e+02  2e+01  9e-16\n",
      " 1: -3.7081e+00 -9.1882e+00  6e+00  1e-02  1e-15\n",
      " 2: -4.2774e+00 -4.6155e+00  3e-01  6e-04  7e-16\n",
      " 3: -4.4080e+00 -4.4210e+00  1e-02  1e-05  6e-16\n",
      " 4: -4.4092e+00 -4.4094e+00  2e-04  2e-07  5e-16\n",
      " 5: -4.4092e+00 -4.4093e+00  5e-05  5e-08  6e-16\n",
      " 6: -4.4092e+00 -4.4093e+00  5e-05  4e-08  6e-16\n",
      " 7: -4.4093e+00 -4.4093e+00  3e-05  3e-09  4e-16\n",
      " 8: -4.4093e+00 -4.4093e+00  1e-05  5e-10  5e-16\n",
      " 9: -4.4093e+00 -4.4093e+00  3e-06  1e-10  5e-16\n",
      "Optimal solution found.\n",
      "     pcost       dcost       gap    pres   dres\n",
      " 0: -4.2217e+01 -9.3694e+00  3e+02  2e+01  1e-15\n",
      " 1: -3.7076e+00 -9.1327e+00  5e+00  2e-15  1e-15\n",
      " 2: -4.3326e+00 -4.6673e+00  3e-01  2e-16  7e-16\n",
      " 3: -4.5233e+00 -4.5689e+00  5e-02  1e-16  5e-16\n",
      " 4: -4.5251e+00 -4.5258e+00  7e-04  1e-16  5e-16\n"
     ]
    },
    {
     "name": "stdout",
     "output_type": "stream",
     "text": [
      " 5: -4.5252e+00 -4.5253e+00  4e-05  3e-16  8e-16\n",
      " 6: -4.5253e+00 -4.5253e+00  2e-05  3e-16  4e-16\n",
      " 7: -4.5253e+00 -4.5253e+00  3e-06  9e-17  5e-16\n",
      "Optimal solution found.\n",
      "     pcost       dcost       gap    pres   dres\n",
      " 0: -4.2021e+01 -9.4762e+00  3e+02  2e+01  9e-16\n",
      " 1: -3.7190e+00 -9.2404e+00  6e+00  3e-02  1e-15\n",
      " 2: -4.1987e+00 -4.5407e+00  4e-01  2e-03  7e-16\n",
      " 3: -4.2867e+00 -4.2994e+00  1e-02  4e-05  5e-16\n",
      " 4: -4.2929e+00 -4.2936e+00  7e-04  2e-06  5e-16\n",
      " 5: -4.2930e+00 -4.2936e+00  5e-04  1e-06  5e-16\n",
      " 6: -4.2932e+00 -4.2934e+00  1e-04  2e-07  5e-16\n",
      " 7: -4.2933e+00 -4.2933e+00  4e-05  3e-08  5e-16\n",
      " 8: -4.2933e+00 -4.2933e+00  9e-06  5e-09  7e-16\n",
      " 9: -4.2933e+00 -4.2933e+00  1e-06  3e-10  6e-16\n",
      "Optimal solution found.\n",
      "     pcost       dcost       gap    pres   dres\n",
      " 0: -4.1589e+01 -9.5769e+00  4e+02  2e+01  9e-16\n",
      " 1: -3.7178e+00 -9.3329e+00  7e+00  6e-02  9e-16\n",
      " 2: -4.0127e+00 -4.3520e+00  4e-01  3e-03  4e-16\n",
      " 3: -4.0578e+00 -4.0659e+00  8e-03  5e-05  5e-16\n",
      " 4: -4.0609e+00 -4.0615e+00  6e-04  3e-06  7e-16\n",
      " 5: -4.0610e+00 -4.0615e+00  5e-04  3e-06  6e-16\n",
      " 6: -4.0612e+00 -4.0613e+00  1e-04  4e-07  5e-16\n",
      " 7: -4.0612e+00 -4.0613e+00  5e-05  1e-07  4e-16\n",
      " 8: -4.0612e+00 -4.0613e+00  2e-05  4e-08  4e-16\n",
      " 9: -4.0612e+00 -4.0612e+00  6e-06  9e-09  7e-16\n",
      "10: -4.0612e+00 -4.0612e+00  5e-07  1e-10  5e-16\n",
      "Optimal solution found.\n",
      "     pcost       dcost       gap    pres   dres\n",
      " 0: -4.2250e+01 -9.3091e+00  3e+02  2e+01  1e-15\n",
      " 1: -3.7206e+00 -9.0753e+00  5e+00  4e-15  1e-15\n",
      " 2: -4.3526e+00 -4.6859e+00  3e-01  4e-16  7e-16\n",
      " 3: -4.6384e+00 -4.6420e+00  4e-03  1e-16  7e-16\n",
      " 4: -4.6413e+00 -4.6413e+00  4e-05  2e-16  6e-16\n",
      " 5: -4.6413e+00 -4.6413e+00  4e-07  1e-16  5e-16\n",
      "Optimal solution found.\n",
      "     pcost       dcost       gap    pres   dres\n",
      " 0: -4.2151e+01 -9.4224e+00  3e+02  2e+01  1e-15\n",
      " 1: -3.7082e+00 -9.1879e+00  6e+00  1e-02  1e-15\n",
      " 2: -4.2774e+00 -4.6156e+00  3e-01  6e-04  7e-16\n",
      " 3: -4.4080e+00 -4.4210e+00  1e-02  1e-05  6e-16\n",
      " 4: -4.4092e+00 -4.4094e+00  2e-04  2e-07  6e-16\n",
      " 5: -4.4093e+00 -4.4093e+00  5e-05  5e-08  5e-16\n",
      " 6: -4.4093e+00 -4.4093e+00  5e-05  4e-08  5e-16\n",
      " 7: -4.4093e+00 -4.4093e+00  3e-05  7e-09  4e-16\n",
      " 8: -4.4093e+00 -4.4093e+00  1e-05  2e-09  5e-16\n",
      " 9: -4.4093e+00 -4.4093e+00  5e-06  5e-10  5e-16\n",
      "10: -4.4093e+00 -4.4093e+00  3e-07  8e-17  9e-16\n",
      "Optimal solution found.\n",
      "     pcost       dcost       gap    pres   dres\n",
      " 0: -4.2013e+01 -9.4781e+00  3e+02  2e+01  1e-15\n",
      " 1: -3.7190e+00 -9.2401e+00  6e+00  3e-02  9e-16\n",
      " 2: -4.1986e+00 -4.5409e+00  4e-01  2e-03  7e-16\n",
      " 3: -4.2867e+00 -4.2993e+00  1e-02  4e-05  5e-16\n",
      " 4: -4.2930e+00 -4.2934e+00  5e-04  1e-06  5e-16\n",
      " 5: -4.2932e+00 -4.2933e+00  1e-04  3e-16  7e-16\n",
      " 6: -4.2933e+00 -4.2933e+00  2e-05  3e-16  4e-16\n",
      " 7: -4.2933e+00 -4.2933e+00  5e-06  2e-16  6e-16\n",
      " 8: -4.2933e+00 -4.2933e+00  8e-07  3e-16  6e-16\n",
      "Optimal solution found.\n",
      "     pcost       dcost       gap    pres   dres\n",
      " 0: -4.2262e+01 -9.3050e+00  3e+02  2e+01  1e-15\n",
      " 1: -3.7207e+00 -9.0748e+00  5e+00  2e-15  1e-15\n",
      " 2: -4.3528e+00 -4.6858e+00  3e-01  2e-16  7e-16\n",
      " 3: -4.6385e+00 -4.6420e+00  4e-03  1e-16  6e-16\n",
      " 4: -4.6413e+00 -4.6413e+00  4e-05  9e-17  5e-16\n",
      " 5: -4.6413e+00 -4.6413e+00  4e-07  1e-16  6e-16\n",
      "Optimal solution found.\n",
      "     pcost       dcost       gap    pres   dres\n",
      " 0: -4.2220e+01 -9.3698e+00  3e+02  2e+01  1e-15\n",
      " 1: -3.7074e+00 -9.1341e+00  5e+00  3e-15  9e-16\n",
      " 2: -4.3325e+00 -4.6672e+00  3e-01  2e-16  7e-16\n",
      " 3: -4.5233e+00 -4.5689e+00  5e-02  9e-17  5e-16\n",
      " 4: -4.5251e+00 -4.5258e+00  7e-04  1e-16  8e-16\n",
      " 5: -4.5252e+00 -4.5253e+00  7e-05  1e-16  8e-16\n",
      " 6: -4.5253e+00 -4.5253e+00  6e-05  1e-16  6e-16\n",
      " 7: -4.5253e+00 -4.5253e+00  6e-05  1e-16  6e-16\n",
      " 8: -4.5253e+00 -4.5253e+00  5e-05  1e-16  4e-16\n",
      " 9: -4.5253e+00 -4.5253e+00  8e-06  1e-16  6e-16\n",
      "10: -4.5253e+00 -4.5253e+00  1e-07  7e-17  7e-16\n",
      "Optimal solution found.\n",
      "     pcost       dcost       gap    pres   dres\n",
      " 0: -4.2221e+01 -9.3696e+00  3e+02  2e+01  9e-16\n",
      " 1: -3.7074e+00 -9.1341e+00  5e+00  3e-15  1e-15\n",
      " 2: -4.3325e+00 -4.6672e+00  3e-01  2e-16  7e-16\n",
      " 3: -4.5233e+00 -4.5689e+00  5e-02  1e-16  5e-16\n",
      " 4: -4.5251e+00 -4.5258e+00  7e-04  2e-16  7e-16\n",
      " 5: -4.5252e+00 -4.5253e+00  7e-05  1e-16  7e-16\n",
      " 6: -4.5253e+00 -4.5253e+00  6e-05  1e-16  5e-16\n",
      " 7: -4.5253e+00 -4.5253e+00  6e-05  1e-16  4e-16\n",
      " 8: -4.5253e+00 -4.5253e+00  5e-05  1e-16  4e-16\n",
      " 9: -4.5253e+00 -4.5253e+00  7e-06  9e-17  5e-16\n",
      "10: -4.5253e+00 -4.5253e+00  1e-07  1e-16  6e-16\n",
      "Optimal solution found.\n",
      "     pcost       dcost       gap    pres   dres\n",
      " 0: -4.2253e+01 -9.3080e+00  3e+02  2e+01  1e-15\n",
      " 1: -3.7206e+00 -9.0751e+00  5e+00  3e-15  1e-15\n",
      " 2: -4.3527e+00 -4.6859e+00  3e-01  2e-16  6e-16\n",
      " 3: -4.6384e+00 -4.6420e+00  4e-03  8e-17  5e-16\n",
      " 4: -4.6413e+00 -4.6413e+00  4e-05  9e-17  5e-16\n",
      " 5: -4.6413e+00 -4.6413e+00  4e-07  1e-16  6e-16\n",
      "Optimal solution found.\n",
      "     pcost       dcost       gap    pres   dres\n",
      " 0: -4.2228e+01 -9.3664e+00  3e+02  2e+01  9e-16\n",
      " 1: -3.7076e+00 -9.1328e+00  5e+00  3e-15  1e-15\n",
      " 2: -4.3326e+00 -4.6674e+00  3e-01  2e-16  6e-16\n",
      " 3: -4.5234e+00 -4.5690e+00  5e-02  1e-16  5e-16\n",
      " 4: -4.5252e+00 -4.5258e+00  7e-04  1e-16  7e-16\n",
      " 5: -4.5253e+00 -4.5253e+00  4e-05  1e-16  7e-16\n",
      " 6: -4.5253e+00 -4.5253e+00  1e-05  9e-17  5e-16\n",
      " 7: -4.5253e+00 -4.5253e+00  7e-06  1e-16  4e-16\n",
      " 8: -4.5253e+00 -4.5253e+00  4e-06  8e-17  4e-16\n",
      "Optimal solution found.\n",
      "     pcost       dcost       gap    pres   dres\n",
      " 0: -4.2240e+01 -9.3617e+00  3e+02  2e+01  9e-16\n",
      " 1: -3.7078e+00 -9.1316e+00  5e+00  3e-15  9e-16\n",
      " 2: -4.3328e+00 -4.6673e+00  3e-01  2e-16  7e-16\n",
      " 3: -4.5234e+00 -4.5690e+00  5e-02  9e-17  5e-16\n",
      " 4: -4.5252e+00 -4.5259e+00  7e-04  1e-16  7e-16\n",
      " 5: -4.5253e+00 -4.5254e+00  4e-05  1e-16  7e-16\n",
      " 6: -4.5253e+00 -4.5254e+00  2e-05  9e-17  4e-16\n",
      " 7: -4.5253e+00 -4.5254e+00  7e-06  1e-16  5e-16\n",
      " 8: -4.5253e+00 -4.5254e+00  3e-06  1e-16  5e-16\n",
      "Optimal solution found.\n",
      "     pcost       dcost       gap    pres   dres\n",
      " 0: -4.2151e+01 -9.4231e+00  3e+02  2e+01  1e-15\n",
      " 1: -3.7080e+00 -9.1886e+00  6e+00  1e-02  1e-15\n",
      " 2: -4.2774e+00 -4.6157e+00  3e-01  6e-04  6e-16\n",
      " 3: -4.4080e+00 -4.4210e+00  1e-02  1e-05  5e-16\n",
      " 4: -4.4092e+00 -4.4095e+00  3e-04  2e-07  5e-16\n",
      " 5: -4.4093e+00 -4.4094e+00  1e-04  1e-07  4e-16\n",
      " 6: -4.4093e+00 -4.4094e+00  1e-04  8e-08  4e-16\n",
      " 7: -4.4093e+00 -4.4094e+00  7e-05  2e-08  3e-16\n",
      " 8: -4.4093e+00 -4.4093e+00  5e-05  8e-09  3e-16\n",
      " 9: -4.4093e+00 -4.4093e+00  2e-05  2e-09  5e-16\n",
      "10: -4.4093e+00 -4.4093e+00  5e-06  2e-10  6e-16\n",
      "11: -4.4093e+00 -4.4093e+00  1e-07  2e-12  5e-16\n",
      "Optimal solution found.\n",
      "     pcost       dcost       gap    pres   dres\n",
      " 0: -4.2010e+01 -9.4798e+00  3e+02  2e+01  9e-16\n",
      " 1: -3.7189e+00 -9.2408e+00  6e+00  3e-02  1e-15\n",
      " 2: -4.1986e+00 -4.5407e+00  4e-01  2e-03  7e-16\n",
      " 3: -4.2867e+00 -4.2993e+00  1e-02  4e-05  5e-16\n",
      " 4: -4.2928e+00 -4.2936e+00  7e-04  2e-06  5e-16\n",
      " 5: -4.2930e+00 -4.2935e+00  5e-04  1e-06  4e-16\n",
      " 6: -4.2932e+00 -4.2933e+00  1e-04  2e-07  6e-16\n",
      " 7: -4.2932e+00 -4.2933e+00  5e-05  4e-08  6e-16\n",
      " 8: -4.2933e+00 -4.2933e+00  7e-06  2e-09  5e-16\n",
      " 9: -4.2933e+00 -4.2933e+00  1e-07  2e-11  5e-16\n",
      "Optimal solution found.\n",
      "     pcost       dcost       gap    pres   dres\n",
      " 0: -4.2235e+01 -9.3634e+00  3e+02  2e+01  1e-15\n",
      " 1: -3.7078e+00 -9.1318e+00  5e+00  3e-15  1e-15\n",
      " 2: -4.3328e+00 -4.6673e+00  3e-01  2e-16  8e-16\n",
      " 3: -4.5234e+00 -4.5689e+00  5e-02  1e-16  5e-16\n",
      " 4: -4.5252e+00 -4.5259e+00  7e-04  2e-16  6e-16\n",
      " 5: -4.5253e+00 -4.5253e+00  4e-05  9e-17  8e-16\n",
      " 6: -4.5253e+00 -4.5253e+00  1e-05  1e-16  6e-16\n",
      " 7: -4.5253e+00 -4.5253e+00  8e-06  1e-16  5e-16\n",
      " 8: -4.5253e+00 -4.5253e+00  5e-06  9e-17  4e-16\n",
      " 9: -4.5253e+00 -4.5253e+00  3e-07  3e-16  7e-16\n",
      "Optimal solution found.\n",
      "     pcost       dcost       gap    pres   dres\n",
      " 0: -4.0949e+01 -9.6638e+00  4e+02  2e+01  1e-15\n",
      " 1: -3.6868e+00 -9.4112e+00  8e+00  1e-01  9e-16\n",
      " 2: -3.7988e+00 -4.1346e+00  3e-01  2e-03  4e-16\n",
      " 3: -3.8280e+00 -3.8329e+00  5e-03  2e-05  5e-16\n",
      " 4: -3.8290e+00 -3.8293e+00  3e-04  1e-06  5e-16\n",
      " 5: -3.8291e+00 -3.8292e+00  2e-04  5e-07  5e-16\n",
      " 6: -3.8291e+00 -3.8292e+00  4e-05  1e-07  5e-16\n",
      " 7: -3.8292e+00 -3.8292e+00  2e-05  4e-08  4e-16\n",
      " 8: -3.8292e+00 -3.8292e+00  6e-06  1e-08  5e-16\n",
      " 9: -3.8292e+00 -3.8292e+00  4e-07  2e-10  5e-16\n",
      "Optimal solution found.\n",
      "     pcost       dcost       gap    pres   dres\n",
      " 0: -4.2023e+01 -9.4756e+00  3e+02  2e+01  1e-15\n",
      " 1: -3.7190e+00 -9.2404e+00  6e+00  3e-02  1e-15\n",
      " 2: -4.1987e+00 -4.5407e+00  4e-01  2e-03  6e-16\n",
      " 3: -4.2867e+00 -4.2994e+00  1e-02  4e-05  5e-16\n",
      " 4: -4.2929e+00 -4.2936e+00  7e-04  2e-06  5e-16\n",
      " 5: -4.2931e+00 -4.2936e+00  5e-04  1e-06  5e-16\n",
      " 6: -4.2932e+00 -4.2934e+00  1e-04  2e-07  5e-16\n",
      " 7: -4.2933e+00 -4.2933e+00  5e-05  4e-08  5e-16\n",
      " 8: -4.2933e+00 -4.2933e+00  1e-05  7e-09  5e-16\n",
      " 9: -4.2933e+00 -4.2933e+00  4e-07  1e-16  6e-16\n",
      "Optimal solution found.\n",
      "     pcost       dcost       gap    pres   dres\n",
      " 0: -4.2029e+01 -9.4732e+00  3e+02  2e+01  8e-16\n",
      " 1: -3.7191e+00 -9.2398e+00  6e+00  3e-02  1e-15\n",
      " 2: -4.1988e+00 -4.5408e+00  4e-01  2e-03  6e-16\n",
      " 3: -4.2868e+00 -4.2993e+00  1e-02  4e-05  4e-16\n",
      " 4: -4.2931e+00 -4.2935e+00  4e-04  1e-06  7e-16\n",
      " 5: -4.2933e+00 -4.2934e+00  9e-05  2e-16  7e-16\n",
      " 6: -4.2933e+00 -4.2933e+00  2e-05  1e-16  5e-16\n",
      " 7: -4.2933e+00 -4.2933e+00  1e-05  1e-16  5e-16\n",
      " 8: -4.2933e+00 -4.2933e+00  6e-06  2e-16  4e-16\n",
      " 9: -4.2933e+00 -4.2933e+00  1e-06  9e-17  5e-16\n",
      "Optimal solution found.\n",
      "     pcost       dcost       gap    pres   dres\n",
      " 0: -4.2251e+01 -9.3088e+00  3e+02  2e+01  8e-16\n",
      " 1: -3.7206e+00 -9.0753e+00  5e+00  2e-15  1e-15\n",
      " 2: -4.3527e+00 -4.6859e+00  3e-01  2e-16  7e-16\n",
      " 3: -4.6384e+00 -4.6420e+00  4e-03  1e-16  6e-16\n",
      " 4: -4.6413e+00 -4.6413e+00  4e-05  9e-17  5e-16\n",
      " 5: -4.6413e+00 -4.6413e+00  4e-07  1e-16  5e-16\n",
      "Optimal solution found.\n",
      "     pcost       dcost       gap    pres   dres\n",
      " 0: -4.1830e+01 -9.5272e+00  3e+02  2e+01  8e-16\n",
      " 1: -3.7224e+00 -9.2871e+00  6e+00  5e-02  1e-15\n",
      " 2: -4.1101e+00 -4.4516e+00  4e-01  2e-03  5e-16\n",
      " 3: -4.1718e+00 -4.1826e+00  1e-02  5e-05  5e-16\n",
      " 4: -4.1770e+00 -4.1774e+00  4e-04  2e-06  5e-16\n",
      " 5: -4.1772e+00 -4.1773e+00  9e-05  1e-16  5e-16\n",
      " 6: -4.1772e+00 -4.1773e+00  2e-05  8e-17  5e-16\n",
      " 7: -4.1773e+00 -4.1773e+00  7e-06  1e-16  5e-16\n",
      " 8: -4.1773e+00 -4.1773e+00  2e-06  9e-17  5e-16\n",
      "Optimal solution found.\n",
      "     pcost       dcost       gap    pres   dres\n",
      " 0: -4.2233e+01 -9.3141e+00  3e+02  2e+01  1e-15\n",
      " 1: -3.7205e+00 -9.0757e+00  5e+00  3e-15  1e-15\n",
      " 2: -4.3525e+00 -4.6859e+00  3e-01  2e-16  8e-16\n",
      " 3: -4.6383e+00 -4.6419e+00  4e-03  9e-17  7e-16\n",
      " 4: -4.6412e+00 -4.6412e+00  4e-05  1e-16  5e-16\n",
      " 5: -4.6412e+00 -4.6412e+00  4e-07  2e-16  5e-16\n",
      "Optimal solution found.\n",
      "     pcost       dcost       gap    pres   dres\n",
      " 0: -4.2236e+01 -9.3649e+00  3e+02  2e+01  9e-16\n",
      " 1: -3.7075e+00 -9.1336e+00  5e+00  2e-15  1e-15\n",
      " 2: -4.3326e+00 -4.6673e+00  3e-01  2e-16  7e-16\n"
     ]
    },
    {
     "name": "stderr",
     "output_type": "stream",
     "text": [
      "\r",
      " 47%|████▋     | 14/30 [00:03<00:03,  4.16it/s]"
     ]
    },
    {
     "name": "stdout",
     "output_type": "stream",
     "text": [
      " 3: -4.5234e+00 -4.5690e+00  5e-02  1e-16  5e-16\n",
      " 4: -4.5252e+00 -4.5259e+00  7e-04  1e-16  7e-16\n",
      " 5: -4.5253e+00 -4.5254e+00  7e-05  9e-17  8e-16\n",
      " 6: -4.5253e+00 -4.5254e+00  6e-05  2e-16  5e-16\n",
      " 7: -4.5253e+00 -4.5254e+00  6e-05  1e-16  5e-16\n",
      " 8: -4.5253e+00 -4.5254e+00  5e-05  1e-16  4e-16\n",
      " 9: -4.5253e+00 -4.5253e+00  6e-06  1e-16  5e-16\n",
      "10: -4.5253e+00 -4.5253e+00  1e-07  9e-17  5e-16\n",
      "Optimal solution found.\n",
      "     pcost       dcost       gap    pres   dres\n",
      " 0: -4.8230e+01 -3.3640e+01  3e+02  1e+01  1e-15\n",
      " 1: -1.3389e+01 -3.0931e+01  2e+01  2e-15  1e-15\n",
      " 2: -1.5698e+01 -1.6746e+01  1e+00  2e-16  7e-16\n",
      " 3: -1.6255e+01 -1.6387e+01  1e-01  2e-16  5e-16\n",
      " 4: -1.6260e+01 -1.6262e+01  2e-03  7e-16  6e-16\n",
      " 5: -1.6261e+01 -1.6261e+01  6e-04  1e-15  7e-16\n",
      " 6: -1.6261e+01 -1.6261e+01  6e-04  6e-16  6e-16\n",
      " 7: -1.6261e+01 -1.6261e+01  6e-04  3e-16  7e-16\n",
      " 8: -1.6261e+01 -1.6261e+01  6e-04  3e-16  7e-16\n",
      " 9: -1.6261e+01 -1.6261e+01  2e-04  2e-16  6e-16\n",
      "10: -1.6261e+01 -1.6261e+01  6e-06  4e-16  7e-16\n",
      "Optimal solution found.\n",
      "     pcost       dcost       gap    pres   dres\n",
      " 0: -4.8217e+01 -3.3648e+01  3e+02  1e+01  1e-15\n",
      " 1: -1.3388e+01 -3.0937e+01  2e+01  2e-15  1e-15\n",
      " 2: -1.5696e+01 -1.6746e+01  1e+00  2e-16  7e-16\n",
      " 3: -1.6254e+01 -1.6387e+01  1e-01  3e-16  6e-16\n",
      " 4: -1.6260e+01 -1.6262e+01  2e-03  2e-16  6e-16\n",
      " 5: -1.6260e+01 -1.6261e+01  7e-04  2e-16  6e-16\n",
      " 6: -1.6260e+01 -1.6261e+01  7e-04  2e-16  6e-16\n",
      " 7: -1.6260e+01 -1.6261e+01  7e-04  3e-16  6e-16\n",
      " 8: -1.6260e+01 -1.6261e+01  7e-04  6e-16  7e-16\n",
      " 9: -1.6260e+01 -1.6260e+01  2e-04  6e-16  6e-16\n",
      "10: -1.6260e+01 -1.6260e+01  3e-05  2e-16  8e-16\n",
      "11: -1.6260e+01 -1.6260e+01  3e-07  3e-16  7e-16\n",
      "Optimal solution found.\n",
      "     pcost       dcost       gap    pres   dres\n",
      " 0: -4.8242e+01 -3.3639e+01  3e+02  1e+01  1e-15\n",
      " 1: -1.3389e+01 -3.0933e+01  2e+01  1e-15  1e-15\n",
      " 2: -1.5698e+01 -1.6747e+01  1e+00  7e-16  8e-16\n",
      " 3: -1.6255e+01 -1.6388e+01  1e-01  7e-16  5e-16\n",
      " 4: -1.6261e+01 -1.6263e+01  2e-03  5e-16  7e-16\n",
      " 5: -1.6261e+01 -1.6262e+01  6e-04  2e-16  7e-16\n",
      " 6: -1.6261e+01 -1.6262e+01  6e-04  2e-16  6e-16\n",
      " 7: -1.6261e+01 -1.6262e+01  6e-04  3e-16  7e-16\n",
      " 8: -1.6261e+01 -1.6262e+01  6e-04  3e-16  6e-16\n",
      " 9: -1.6261e+01 -1.6261e+01  1e-04  2e-16  8e-16\n",
      "10: -1.6261e+01 -1.6261e+01  5e-05  3e-16  6e-16\n",
      "11: -1.6261e+01 -1.6261e+01  1e-06  2e-16  6e-16\n",
      "Optimal solution found.\n",
      "     pcost       dcost       gap    pres   dres\n",
      " 0: -4.8126e+01 -3.3877e+01  3e+02  1e+01  1e-15\n",
      " 1: -1.3309e+01 -3.1143e+01  2e+01  1e-15  1e-15\n",
      " 2: -1.5520e+01 -1.6537e+01  1e+00  5e-16  7e-16\n",
      " 3: -1.5823e+01 -1.5863e+01  4e-02  4e-16  6e-16\n",
      " 4: -1.5842e+01 -1.5845e+01  3e-03  5e-16  5e-16\n",
      " 5: -1.5842e+01 -1.5845e+01  2e-03  2e-16  5e-16\n",
      " 6: -1.5843e+01 -1.5844e+01  4e-04  2e-16  6e-16\n",
      " 7: -1.5843e+01 -1.5844e+01  2e-04  5e-16  5e-16\n",
      " 8: -1.5844e+01 -1.5844e+01  7e-05  5e-16  6e-16\n",
      " 9: -1.5844e+01 -1.5844e+01  6e-06  4e-16  6e-16\n",
      "Optimal solution found.\n",
      "     pcost       dcost       gap    pres   dres\n",
      " 0: -4.8241e+01 -3.3635e+01  3e+02  1e+01  1e-15\n",
      " 1: -1.3390e+01 -3.0929e+01  2e+01  1e-15  1e-15\n",
      " 2: -1.5698e+01 -1.6748e+01  1e+00  7e-16  8e-16\n",
      " 3: -1.6255e+01 -1.6388e+01  1e-01  2e-16  6e-16\n",
      " 4: -1.6261e+01 -1.6263e+01  2e-03  4e-16  5e-16\n",
      " 5: -1.6261e+01 -1.6261e+01  3e-04  2e-16  6e-16\n",
      " 6: -1.6261e+01 -1.6261e+01  2e-04  2e-16  5e-16\n",
      " 7: -1.6261e+01 -1.6261e+01  8e-05  2e-16  5e-16\n",
      " 8: -1.6261e+01 -1.6261e+01  1e-05  4e-16  8e-16\n",
      "Optimal solution found.\n",
      "     pcost       dcost       gap    pres   dres\n",
      " 0: -4.8135e+01 -3.3874e+01  3e+02  1e+01  1e-15\n",
      " 1: -1.3309e+01 -3.1143e+01  2e+01  1e-15  1e-15\n",
      " 2: -1.5520e+01 -1.6537e+01  1e+00  2e-16  7e-16\n",
      " 3: -1.5824e+01 -1.5864e+01  4e-02  2e-16  7e-16\n",
      " 4: -1.5842e+01 -1.5845e+01  3e-03  3e-16  7e-16\n",
      " 5: -1.5843e+01 -1.5845e+01  2e-03  5e-16  6e-16\n",
      " 6: -1.5844e+01 -1.5844e+01  4e-04  4e-16  7e-16\n",
      " 7: -1.5844e+01 -1.5844e+01  1e-04  2e-16  6e-16\n",
      " 8: -1.5844e+01 -1.5844e+01  6e-06  4e-16  6e-16\n",
      "Optimal solution found.\n",
      "     pcost       dcost       gap    pres   dres\n",
      " 0: -4.8130e+01 -3.3880e+01  3e+02  1e+01  1e-15\n",
      " 1: -1.3308e+01 -3.1147e+01  2e+01  1e-15  1e-15\n",
      " 2: -1.5519e+01 -1.6536e+01  1e+00  2e-16  7e-16\n",
      " 3: -1.5823e+01 -1.5864e+01  4e-02  2e-16  6e-16\n",
      " 4: -1.5840e+01 -1.5846e+01  6e-03  4e-16  7e-16\n",
      " 5: -1.5841e+01 -1.5847e+01  6e-03  3e-16  7e-16\n",
      " 6: -1.5843e+01 -1.5845e+01  2e-03  2e-16  5e-16\n",
      " 7: -1.5844e+01 -1.5845e+01  9e-04  7e-16  5e-16\n",
      " 8: -1.5844e+01 -1.5844e+01  3e-04  8e-16  8e-16\n",
      " 9: -1.5844e+01 -1.5844e+01  3e-05  2e-16  6e-16\n",
      "10: -1.5844e+01 -1.5844e+01  2e-06  3e-16  6e-16\n",
      "Optimal solution found.\n",
      "     pcost       dcost       gap    pres   dres\n",
      " 0: -4.8243e+01 -3.3636e+01  3e+02  1e+01  1e-15\n",
      " 1: -1.3390e+01 -3.0930e+01  2e+01  1e-15  1e-15\n",
      " 2: -1.5698e+01 -1.6747e+01  1e+00  4e-16  7e-16\n",
      " 3: -1.6255e+01 -1.6388e+01  1e-01  9e-16  5e-16\n",
      " 4: -1.6261e+01 -1.6263e+01  2e-03  6e-16  7e-16\n",
      " 5: -1.6261e+01 -1.6261e+01  3e-04  2e-16  6e-16\n",
      " 6: -1.6261e+01 -1.6261e+01  3e-04  2e-16  5e-16\n",
      " 7: -1.6261e+01 -1.6261e+01  3e-04  6e-16  6e-16\n",
      " 8: -1.6261e+01 -1.6261e+01  1e-04  5e-16  6e-16\n",
      " 9: -1.6261e+01 -1.6261e+01  3e-05  5e-16  7e-16\n",
      "10: -1.6261e+01 -1.6261e+01  9e-07  3e-16  6e-16\n",
      "Optimal solution found.\n",
      "     pcost       dcost       gap    pres   dres\n",
      " 0: -4.7988e+01 -3.4097e+01  3e+02  1e+01  1e-15\n",
      " 1: -1.3205e+01 -3.1338e+01  2e+01  1e-15  1e-15\n",
      " 2: -1.5263e+01 -1.6215e+01  1e+00  2e-16  1e-15\n",
      " 3: -1.5409e+01 -1.5445e+01  4e-02  3e-16  6e-16\n",
      " 4: -1.5424e+01 -1.5430e+01  6e-03  3e-16  9e-16\n",
      " 5: -1.5424e+01 -1.5430e+01  6e-03  5e-16  8e-16\n",
      " 6: -1.5427e+01 -1.5428e+01  1e-03  5e-16  7e-16\n",
      " 7: -1.5427e+01 -1.5428e+01  8e-04  2e-16  5e-16\n",
      " 8: -1.5427e+01 -1.5428e+01  3e-04  2e-16  6e-16\n",
      " 9: -1.5427e+01 -1.5428e+01  1e-04  3e-16  5e-16\n",
      "10: -1.5428e+01 -1.5428e+01  4e-05  2e-16  7e-16\n",
      "11: -1.5428e+01 -1.5428e+01  8e-07  2e-16  7e-16\n",
      "Optimal solution found.\n",
      "     pcost       dcost       gap    pres   dres\n",
      " 0: -4.8138e+01 -3.3870e+01  3e+02  1e+01  1e-15\n",
      " 1: -1.3310e+01 -3.1140e+01  2e+01  1e-15  1e-15\n",
      " 2: -1.5520e+01 -1.6537e+01  1e+00  2e-16  7e-16\n",
      " 3: -1.5824e+01 -1.5864e+01  4e-02  1e-15  6e-16\n",
      " 4: -1.5842e+01 -1.5845e+01  3e-03  2e-16  7e-16\n",
      " 5: -1.5843e+01 -1.5845e+01  2e-03  2e-16  8e-16\n",
      " 6: -1.5844e+01 -1.5844e+01  1e-04  3e-16  6e-16\n",
      " 7: -1.5844e+01 -1.5844e+01  1e-05  6e-16  7e-16\n",
      "Optimal solution found.\n",
      "     pcost       dcost       gap    pres   dres\n",
      " 0: -4.7972e+01 -3.4100e+01  3e+02  1e+01  8e-16\n",
      " 1: -1.3204e+01 -3.1337e+01  2e+01  3e-15  1e-15\n",
      " 2: -1.5262e+01 -1.6214e+01  1e+00  3e-16  8e-16\n",
      " 3: -1.5409e+01 -1.5444e+01  4e-02  9e-16  6e-16\n",
      " 4: -1.5423e+01 -1.5429e+01  6e-03  4e-16  7e-16\n",
      " 5: -1.5424e+01 -1.5430e+01  6e-03  2e-16  6e-16\n",
      " 6: -1.5426e+01 -1.5428e+01  2e-03  3e-16  7e-16\n",
      " 7: -1.5427e+01 -1.5427e+01  7e-04  1e-16  6e-16\n",
      " 8: -1.5427e+01 -1.5427e+01  2e-04  2e-16  6e-16\n",
      " 9: -1.5427e+01 -1.5427e+01  2e-05  9e-16  7e-16\n",
      "10: -1.5427e+01 -1.5427e+01  1e-06  2e-16  8e-16\n",
      "Optimal solution found.\n",
      "     pcost       dcost       gap    pres   dres\n",
      " 0: -4.8152e+01 -3.3872e+01  3e+02  1e+01  1e-15\n",
      " 1: -1.3310e+01 -3.1144e+01  2e+01  1e-15  1e-15\n",
      " 2: -1.5521e+01 -1.6537e+01  1e+00  2e-16  9e-16\n",
      " 3: -1.5824e+01 -1.5865e+01  4e-02  4e-16  7e-16\n",
      " 4: -1.5842e+01 -1.5847e+01  5e-03  1e-16  7e-16\n",
      " 5: -1.5842e+01 -1.5847e+01  5e-03  2e-16  6e-16\n",
      " 6: -1.5844e+01 -1.5846e+01  1e-03  7e-16  6e-16\n",
      " 7: -1.5844e+01 -1.5845e+01  8e-04  9e-16  6e-16\n",
      " 8: -1.5845e+01 -1.5845e+01  2e-04  2e-16  7e-16\n",
      " 9: -1.5845e+01 -1.5845e+01  3e-05  9e-16  8e-16\n",
      "10: -1.5845e+01 -1.5845e+01  6e-07  2e-16  6e-16\n",
      "Optimal solution found.\n",
      "     pcost       dcost       gap    pres   dres\n",
      " 0: -4.8263e+01 -3.3398e+01  3e+02  9e+00  1e-15\n",
      " 1: -1.3443e+01 -3.0707e+01  2e+01  2e-15  1e-15\n",
      " 2: -1.5778e+01 -1.6819e+01  1e+00  8e-16  8e-16\n",
      " 3: -1.6669e+01 -1.6679e+01  1e-02  1e-15  8e-16\n",
      " 4: -1.6677e+01 -1.6678e+01  1e-04  3e-16  7e-16\n",
      " 5: -1.6678e+01 -1.6678e+01  1e-06  2e-16  6e-16\n",
      "Optimal solution found.\n",
      "     pcost       dcost       gap    pres   dres\n",
      " 0: -4.8158e+01 -3.3867e+01  3e+02  1e+01  1e-15\n",
      " 1: -1.3311e+01 -3.1140e+01  2e+01  1e-15  1e-15\n",
      " 2: -1.5522e+01 -1.6538e+01  1e+00  2e-16  8e-16\n",
      " 3: -1.5825e+01 -1.5864e+01  4e-02  2e-16  6e-16\n",
      " 4: -1.5843e+01 -1.5846e+01  3e-03  4e-16  6e-16\n",
      " 5: -1.5844e+01 -1.5846e+01  2e-03  4e-16  6e-16\n",
      " 6: -1.5845e+01 -1.5845e+01  2e-04  1e-15  7e-16\n",
      " 7: -1.5845e+01 -1.5845e+01  3e-05  2e-16  6e-16\n",
      " 8: -1.5845e+01 -1.5845e+01  5e-07  3e-16  7e-16\n",
      "Optimal solution found.\n",
      "     pcost       dcost       gap    pres   dres\n",
      " 0: -4.7966e+01 -3.4102e+01  3e+02  1e+01  1e-15\n",
      " 1: -1.3204e+01 -3.1338e+01  2e+01  1e-15  1e-15\n",
      " 2: -1.5261e+01 -1.6215e+01  1e+00  4e-16  9e-16\n",
      " 3: -1.5408e+01 -1.5443e+01  3e-02  8e-16  7e-16\n",
      " 4: -1.5424e+01 -1.5428e+01  4e-03  2e-16  9e-16\n"
     ]
    },
    {
     "name": "stderr",
     "output_type": "stream",
     "text": [
      "\r",
      " 50%|█████     | 15/30 [00:03<00:03,  3.89it/s]"
     ]
    },
    {
     "name": "stdout",
     "output_type": "stream",
     "text": [
      " 5: -1.5425e+01 -1.5428e+01  3e-03  7e-16  7e-16\n",
      " 6: -1.5426e+01 -1.5427e+01  4e-04  1e-15  8e-16\n",
      " 7: -1.5427e+01 -1.5427e+01  1e-04  6e-16  7e-16\n",
      " 8: -1.5427e+01 -1.5427e+01  6e-06  4e-16  6e-16\n",
      "Optimal solution found.\n",
      "     pcost       dcost       gap    pres   dres\n",
      " 0: -4.8137e+01 -3.3876e+01  3e+02  1e+01  8e-16\n",
      " 1: -1.3309e+01 -3.1144e+01  2e+01  1e-15  1e-15\n",
      " 2: -1.5520e+01 -1.6537e+01  1e+00  2e-16  7e-16\n",
      " 3: -1.5824e+01 -1.5864e+01  4e-02  2e-16  6e-16\n",
      " 4: -1.5841e+01 -1.5846e+01  5e-03  4e-16  6e-16\n",
      " 5: -1.5841e+01 -1.5847e+01  5e-03  3e-16  6e-16\n",
      " 6: -1.5844e+01 -1.5845e+01  1e-03  2e-16  6e-16\n",
      " 7: -1.5844e+01 -1.5845e+01  9e-04  2e-16  5e-16\n",
      " 8: -1.5844e+01 -1.5844e+01  2e-04  5e-16  5e-16\n",
      " 9: -1.5844e+01 -1.5844e+01  3e-05  6e-16  6e-16\n",
      "10: -1.5844e+01 -1.5844e+01  8e-07  4e-16  8e-16\n",
      "Optimal solution found.\n",
      "     pcost       dcost       gap    pres   dres\n",
      " 0: -4.7992e+01 -3.4092e+01  3e+02  1e+01  8e-16\n",
      " 1: -1.3206e+01 -3.1334e+01  2e+01  1e-15  1e-15\n",
      " 2: -1.5263e+01 -1.6216e+01  1e+00  2e-16  9e-16\n",
      " 3: -1.5410e+01 -1.5444e+01  3e-02  2e-16  6e-16\n",
      " 4: -1.5425e+01 -1.5429e+01  3e-03  7e-16  7e-16\n",
      " 5: -1.5426e+01 -1.5429e+01  3e-03  3e-16  5e-16\n",
      " 6: -1.5427e+01 -1.5428e+01  4e-04  4e-16  1e-15\n",
      " 7: -1.5428e+01 -1.5428e+01  6e-05  2e-16  5e-16\n",
      " 8: -1.5428e+01 -1.5428e+01  7e-06  2e-16  6e-16\n",
      "Optimal solution found.\n",
      "     pcost       dcost       gap    pres   dres\n",
      " 0: -4.8224e+01 -3.3646e+01  3e+02  1e+01  1e-15\n",
      " 1: -1.3388e+01 -3.0936e+01  2e+01  2e-15  1e-15\n",
      " 2: -1.5697e+01 -1.6746e+01  1e+00  2e-16  7e-16\n",
      " 3: -1.6255e+01 -1.6387e+01  1e-01  3e-16  5e-16\n",
      " 4: -1.6260e+01 -1.6262e+01  2e-03  2e-16  6e-16\n",
      " 5: -1.6260e+01 -1.6261e+01  7e-04  2e-16  6e-16\n",
      " 6: -1.6260e+01 -1.6261e+01  7e-04  2e-16  6e-16\n",
      " 7: -1.6260e+01 -1.6261e+01  7e-04  3e-16  6e-16\n",
      " 8: -1.6260e+01 -1.6261e+01  7e-04  3e-16  6e-16\n",
      " 9: -1.6261e+01 -1.6261e+01  2e-04  2e-16  7e-16\n",
      "10: -1.6261e+01 -1.6261e+01  1e-05  4e-16  8e-16\n",
      "Optimal solution found.\n",
      "     pcost       dcost       gap    pres   dres\n",
      " 0: -4.8241e+01 -3.3640e+01  3e+02  1e+01  9e-16\n",
      " 1: -1.3389e+01 -3.0934e+01  2e+01  1e-15  1e-15\n",
      " 2: -1.5698e+01 -1.6747e+01  1e+00  2e-16  7e-16\n",
      " 3: -1.6255e+01 -1.6388e+01  1e-01  4e-16  6e-16\n",
      " 4: -1.6261e+01 -1.6263e+01  2e-03  5e-16  7e-16\n",
      " 5: -1.6261e+01 -1.6261e+01  4e-04  7e-16  7e-16\n",
      " 6: -1.6261e+01 -1.6261e+01  3e-04  2e-16  5e-16\n",
      " 7: -1.6261e+01 -1.6261e+01  3e-04  3e-16  5e-16\n",
      " 8: -1.6261e+01 -1.6261e+01  5e-05  2e-16  6e-16\n",
      " 9: -1.6261e+01 -1.6261e+01  9e-06  2e-16  7e-16\n",
      "Optimal solution found.\n",
      "     pcost       dcost       gap    pres   dres\n",
      " 0: -4.8222e+01 -3.3643e+01  3e+02  1e+01  9e-16\n",
      " 1: -1.3389e+01 -3.0933e+01  2e+01  1e-15  1e-15\n",
      " 2: -1.5697e+01 -1.6747e+01  1e+00  2e-16  6e-16\n",
      " 3: -1.6255e+01 -1.6387e+01  1e-01  2e-16  6e-16\n",
      " 4: -1.6260e+01 -1.6262e+01  2e-03  2e-16  5e-16\n",
      " 5: -1.6260e+01 -1.6261e+01  3e-04  2e-16  6e-16\n",
      " 6: -1.6260e+01 -1.6261e+01  3e-04  6e-16  6e-16\n",
      " 7: -1.6260e+01 -1.6261e+01  3e-04  2e-16  5e-16\n",
      " 8: -1.6260e+01 -1.6261e+01  2e-04  2e-16  4e-16\n",
      " 9: -1.6260e+01 -1.6261e+01  1e-04  4e-16  4e-16\n",
      "10: -1.6260e+01 -1.6261e+01  1e-04  5e-16  4e-16\n",
      "11: -1.6260e+01 -1.6260e+01  3e-05  7e-16  6e-16\n",
      "12: -1.6260e+01 -1.6260e+01  4e-07  5e-16  7e-16\n",
      "Optimal solution found.\n",
      "     pcost       dcost       gap    pres   dres\n",
      " 0: -4.8140e+01 -3.3875e+01  3e+02  1e+01  1e-15\n",
      " 1: -1.3309e+01 -3.1144e+01  2e+01  2e-15  1e-15\n",
      " 2: -1.5520e+01 -1.6537e+01  1e+00  6e-16  7e-16\n",
      " 3: -1.5824e+01 -1.5864e+01  4e-02  2e-16  6e-16\n",
      " 4: -1.5841e+01 -1.5847e+01  6e-03  2e-16  6e-16\n",
      " 5: -1.5842e+01 -1.5847e+01  5e-03  2e-16  6e-16\n",
      " 6: -1.5844e+01 -1.5845e+01  2e-03  3e-16  5e-16\n",
      " 7: -1.5844e+01 -1.5845e+01  9e-04  2e-16  6e-16\n",
      " 8: -1.5844e+01 -1.5844e+01  3e-04  3e-16  6e-16\n",
      " 9: -1.5844e+01 -1.5844e+01  1e-04  2e-16  5e-16\n",
      "10: -1.5844e+01 -1.5844e+01  6e-06  2e-16  7e-16\n",
      "Optimal solution found.\n",
      "     pcost       dcost       gap    pres   dres\n",
      " 0: -4.8262e+01 -3.3399e+01  3e+02  9e+00  1e-15\n",
      " 1: -1.3443e+01 -3.0707e+01  2e+01  1e-15  1e-15\n",
      " 2: -1.5778e+01 -1.6819e+01  1e+00  2e-16  7e-16\n",
      " 3: -1.6668e+01 -1.6679e+01  1e-02  5e-16  7e-16\n",
      " 4: -1.6677e+01 -1.6678e+01  1e-04  4e-16  6e-16\n",
      " 5: -1.6677e+01 -1.6677e+01  1e-06  3e-16  7e-16\n",
      "Optimal solution found.\n",
      "     pcost       dcost       gap    pres   dres\n",
      " 0: -4.8255e+01 -3.3396e+01  3e+02  9e+00  1e-15\n",
      " 1: -1.3443e+01 -3.0703e+01  2e+01  1e-15  9e-16\n",
      " 2: -1.5778e+01 -1.6819e+01  1e+00  2e-16  7e-16\n",
      " 3: -1.6668e+01 -1.6679e+01  1e-02  2e-16  5e-16\n",
      " 4: -1.6677e+01 -1.6677e+01  1e-04  4e-16  7e-16\n",
      " 5: -1.6677e+01 -1.6677e+01  1e-06  6e-16  6e-16\n",
      "Optimal solution found.\n",
      "     pcost       dcost       gap    pres   dres\n",
      " 0: -4.8136e+01 -3.3872e+01  3e+02  1e+01  1e-15\n",
      " 1: -1.3310e+01 -3.1140e+01  2e+01  1e-15  1e-15\n",
      " 2: -1.5520e+01 -1.6537e+01  1e+00  8e-16  7e-16\n",
      " 3: -1.5824e+01 -1.5864e+01  4e-02  2e-16  6e-16\n",
      " 4: -1.5842e+01 -1.5845e+01  3e-03  2e-16  6e-16\n",
      " 5: -1.5843e+01 -1.5845e+01  3e-03  3e-16  5e-16\n",
      " 6: -1.5844e+01 -1.5844e+01  4e-04  4e-16  9e-16\n",
      " 7: -1.5844e+01 -1.5844e+01  2e-04  2e-16  5e-16\n",
      " 8: -1.5844e+01 -1.5844e+01  2e-05  2e-16  8e-16\n",
      " 9: -1.5844e+01 -1.5844e+01  2e-07  3e-16  6e-16\n",
      "Optimal solution found.\n",
      "     pcost       dcost       gap    pres   dres\n",
      " 0: -4.8264e+01 -3.3397e+01  3e+02  9e+00  1e-15\n",
      " 1: -1.3443e+01 -3.0706e+01  2e+01  1e-15  1e-15\n",
      " 2: -1.5778e+01 -1.6819e+01  1e+00  2e-16  8e-16\n",
      " 3: -1.6669e+01 -1.6679e+01  1e-02  1e-15  6e-16\n",
      " 4: -1.6677e+01 -1.6678e+01  1e-04  1e-15  8e-16\n",
      " 5: -1.6678e+01 -1.6678e+01  1e-06  2e-16  6e-16\n",
      "Optimal solution found.\n",
      "     pcost       dcost       gap    pres   dres\n",
      " 0: -6.9837e+01 -1.1999e+02  3e+02  2e+00  1e-15\n",
      " 1: -4.9176e+01 -8.9198e+01  4e+01  4e-16  1e-15\n",
      " 2: -5.8289e+01 -6.0204e+01  2e+00  6e-16  1e-15\n",
      " 3: -5.9885e+01 -5.9905e+01  2e-02  1e-15  1e-15\n",
      " 4: -5.9901e+01 -5.9901e+01  2e-04  1e-15  1e-15\n",
      " 5: -5.9901e+01 -5.9901e+01  2e-06  1e-15  1e-15\n",
      "Optimal solution found.\n",
      "     pcost       dcost       gap    pres   dres\n",
      " 0: -6.9693e+01 -1.2245e+02  3e+02  2e+00  1e-15\n",
      " 1: -4.8508e+01 -9.1026e+01  4e+01  4e-16  1e-15\n",
      " 2: -5.6831e+01 -5.9676e+01  3e+00  2e-16  1e-15\n",
      " 3: -5.6887e+01 -5.6985e+01  1e-01  7e-16  1e-15\n",
      " 4: -5.6913e+01 -5.6932e+01  2e-02  9e-16  1e-15\n",
      " 5: -5.6917e+01 -5.6932e+01  1e-02  2e-16  1e-15\n",
      " 6: -5.6922e+01 -5.6925e+01  3e-03  6e-16  1e-15\n",
      " 7: -5.6923e+01 -5.6923e+01  2e-04  3e-16  1e-15\n",
      " 8: -5.6923e+01 -5.6923e+01  2e-06  1e-15  1e-15\n",
      "Optimal solution found.\n",
      "     pcost       dcost       gap    pres   dres\n",
      " 0: -6.9778e+01 -1.2128e+02  3e+02  2e+00  1e-15\n",
      " 1: -4.8883e+01 -9.0177e+01  4e+01  4e-16  1e-15\n",
      " 2: -5.7889e+01 -5.9855e+01  2e+00  1e-15  1e-15\n",
      " 3: -5.8316e+01 -5.8465e+01  1e-01  1e-15  1e-15\n",
      " 4: -5.8377e+01 -5.8421e+01  4e-02  2e-16  1e-15\n",
      " 5: -5.8382e+01 -5.8424e+01  4e-02  1e-15  1e-15\n",
      " 6: -5.8396e+01 -5.8420e+01  2e-02  2e-16  1e-15\n",
      " 7: -5.8403e+01 -5.8408e+01  5e-03  2e-16  1e-15\n",
      " 8: -5.8404e+01 -5.8406e+01  2e-03  1e-15  1e-15\n",
      " 9: -5.8405e+01 -5.8405e+01  1e-04  2e-16  1e-15\n",
      "10: -5.8405e+01 -5.8405e+01  1e-06  6e-16  1e-15\n",
      "Optimal solution found.\n",
      "     pcost       dcost       gap    pres   dres\n",
      " 0: -6.9810e+01 -1.2125e+02  3e+02  2e+00  1e-15\n",
      " 1: -4.8900e+01 -9.0164e+01  4e+01  7e-16  1e-15\n",
      " 2: -5.7905e+01 -5.9863e+01  2e+00  6e-16  1e-15\n",
      " 3: -5.8327e+01 -5.8473e+01  1e-01  1e-15  1e-15\n",
      " 4: -5.8393e+01 -5.8426e+01  3e-02  4e-16  9e-16\n",
      " 5: -5.8397e+01 -5.8428e+01  3e-02  4e-16  1e-15\n",
      " 6: -5.8408e+01 -5.8424e+01  2e-02  2e-16  1e-15\n",
      " 7: -5.8412e+01 -5.8416e+01  4e-03  8e-16  1e-15\n",
      " 8: -5.8413e+01 -5.8415e+01  2e-03  1e-15  1e-15\n",
      " 9: -5.8414e+01 -5.8414e+01  2e-04  4e-16  1e-15\n",
      "10: -5.8414e+01 -5.8414e+01  2e-06  1e-15  1e-15\n",
      "Optimal solution found.\n",
      "     pcost       dcost       gap    pres   dres\n",
      " 0: -6.9802e+01 -1.2000e+02  3e+02  2e+00  2e-15\n",
      " 1: -4.9162e+01 -8.9194e+01  4e+01  1e-15  1e-15\n",
      " 2: -5.8275e+01 -6.0192e+01  2e+00  2e-16  9e-16\n",
      " 3: -5.9873e+01 -5.9893e+01  2e-02  6e-16  9e-16\n",
      " 4: -5.9889e+01 -5.9889e+01  2e-04  7e-16  1e-15\n",
      " 5: -5.9889e+01 -5.9889e+01  2e-06  2e-16  1e-15\n",
      "Optimal solution found.\n",
      "     pcost       dcost       gap    pres   dres\n",
      " 0: -6.8268e+01 -1.2665e+02  4e+02  2e+00  2e-15\n",
      " 1: -4.5921e+01 -9.3561e+01  5e+01  5e-16  1e-15\n",
      " 2: -5.0872e+01 -5.5307e+01  4e+00  9e-16  1e-15\n",
      " 3: -5.0921e+01 -5.1030e+01  1e-01  1e-15  1e-15\n",
      " 4: -5.0925e+01 -5.0963e+01  4e-02  4e-16  1e-15\n",
      " 5: -5.0931e+01 -5.0946e+01  2e-02  1e-15  1e-15\n",
      " 6: -5.0935e+01 -5.0938e+01  3e-03  1e-15  1e-15\n",
      " 7: -5.0936e+01 -5.0936e+01  3e-04  1e-15  1e-15\n",
      " 8: -5.0936e+01 -5.0936e+01  3e-05  3e-16  1e-15\n",
      "Optimal solution found.\n",
      "     pcost       dcost       gap    pres   dres\n",
      " 0: -6.9801e+01 -1.2127e+02  3e+02  2e+00  2e-15\n",
      " 1: -4.8893e+01 -9.0174e+01  4e+01  1e-15  2e-15\n",
      " 2: -5.7899e+01 -5.9862e+01  2e+00  1e-15  2e-15\n",
      " 3: -5.8323e+01 -5.8472e+01  1e-01  2e-15  2e-15\n",
      " 4: -5.8385e+01 -5.8427e+01  4e-02  2e-15  2e-15\n",
      " 5: -5.8390e+01 -5.8430e+01  4e-02  1e-15  2e-15\n",
      " 6: -5.8404e+01 -5.8424e+01  2e-02  4e-15  2e-15\n",
      " 7: -5.8407e+01 -5.8422e+01  1e-02  2e-15  2e-15\n",
      " 8: -5.8411e+01 -5.8415e+01  4e-03  2e-15  2e-15\n",
      " 9: -5.8412e+01 -5.8414e+01  2e-03  7e-16  2e-15\n",
      "10: -5.8412e+01 -5.8412e+01  5e-05  6e-15  2e-15\n",
      "Optimal solution found.\n",
      "     pcost       dcost       gap    pres   dres\n",
      " 0: -6.9458e+01 -1.2360e+02  4e+02  2e+00  2e-15\n",
      " 1: -4.7994e+01 -9.1804e+01  4e+01  2e-15  2e-15\n",
      " 2: -5.5340e+01 -5.9571e+01  4e+00  3e-16  2e-15\n",
      " 3: -5.5402e+01 -5.5490e+01  9e-02  3e-15  2e-15\n",
      " 4: -5.5415e+01 -5.5435e+01  2e-02  1e-15  1e-15\n",
      " 5: -5.5418e+01 -5.5433e+01  2e-02  1e-15  2e-15\n",
      " 6: -5.5422e+01 -5.5426e+01  4e-03  3e-15  2e-15\n",
      " 7: -5.5423e+01 -5.5425e+01  2e-03  3e-15  2e-15\n",
      " 8: -5.5424e+01 -5.5424e+01  1e-04  3e-15  2e-15\n",
      " 9: -5.5424e+01 -5.5424e+01  1e-06  8e-16  2e-15\n",
      "Optimal solution found.\n",
      "     pcost       dcost       gap    pres   dres\n",
      " 0: -6.9138e+01 -1.2468e+02  4e+02  2e+00  2e-15\n",
      " 1: -4.7386e+01 -9.2477e+01  5e+01  5e-15  2e-15\n",
      " 2: -5.3849e+01 -5.8624e+01  5e+00  2e-15  2e-15\n",
      " 3: -5.3910e+01 -5.3991e+01  8e-02  4e-15  2e-15\n",
      " 4: -5.3916e+01 -5.3936e+01  2e-02  6e-16  1e-15\n",
      " 5: -5.3920e+01 -5.3932e+01  1e-02  2e-15  2e-15\n",
      " 6: -5.3922e+01 -5.3927e+01  4e-03  3e-15  2e-15\n",
      " 7: -5.3924e+01 -5.3924e+01  8e-04  2e-16  2e-15\n",
      " 8: -5.3924e+01 -5.3924e+01  2e-04  4e-15  2e-15\n",
      " 9: -5.3924e+01 -5.3924e+01  5e-06  3e-15  2e-15\n",
      "Optimal solution found.\n",
      "     pcost       dcost       gap    pres   dres\n",
      " 0: -6.9820e+01 -1.2000e+02  3e+02  2e+00  2e-15\n",
      " 1: -4.9169e+01 -8.9198e+01  4e+01  2e-15  2e-15\n",
      " 2: -5.8282e+01 -6.0199e+01  2e+00  2e-15  2e-15\n",
      " 3: -5.9879e+01 -5.9899e+01  2e-02  4e-15  3e-15\n",
      " 4: -5.9895e+01 -5.9896e+01  2e-04  2e-15  2e-15\n",
      " 5: -5.9896e+01 -5.9896e+01  2e-06  3e-16  2e-15\n",
      "Optimal solution found.\n"
     ]
    },
    {
     "name": "stderr",
     "output_type": "stream",
     "text": [
      "\r",
      " 53%|█████▎    | 16/30 [00:03<00:03,  3.84it/s]"
     ]
    },
    {
     "name": "stdout",
     "output_type": "stream",
     "text": [
      "     pcost       dcost       gap    pres   dres\n",
      " 0: -6.8275e+01 -1.2663e+02  4e+02  2e+00  2e-15\n",
      " 1: -4.5926e+01 -9.3546e+01  5e+01  2e-15  1e-15\n",
      " 2: -5.0874e+01 -5.5309e+01  4e+00  2e-16  1e-15\n",
      " 3: -5.0923e+01 -5.1004e+01  8e-02  9e-16  1e-15\n",
      " 4: -5.0928e+01 -5.0950e+01  2e-02  8e-16  1e-15\n",
      " 5: -5.0933e+01 -5.0940e+01  7e-03  4e-16  1e-15\n",
      " 6: -5.0935e+01 -5.0937e+01  1e-03  3e-16  1e-15\n",
      " 7: -5.0936e+01 -5.0936e+01  4e-04  2e-16  9e-16\n",
      " 8: -5.0936e+01 -5.0936e+01  6e-05  6e-16  1e-15\n",
      " 9: -5.0936e+01 -5.0936e+01  3e-06  3e-16  1e-15\n",
      "Optimal solution found.\n",
      "     pcost       dcost       gap    pres   dres\n",
      " 0: -6.9131e+01 -1.2471e+02  4e+02  2e+00  2e-15\n",
      " 1: -4.7381e+01 -9.2494e+01  5e+01  1e-15  2e-15\n",
      " 2: -5.3847e+01 -5.8621e+01  5e+00  3e-15  2e-15\n",
      " 3: -5.3907e+01 -5.4013e+01  1e-01  7e-15  2e-15\n",
      " 4: -5.3913e+01 -5.3956e+01  4e-02  4e-15  2e-15\n",
      " 5: -5.3916e+01 -5.3940e+01  2e-02  2e-15  2e-15\n",
      " 6: -5.3922e+01 -5.3930e+01  8e-03  2e-15  2e-15\n",
      " 7: -5.3924e+01 -5.3927e+01  3e-03  1e-15  2e-15\n",
      " 8: -5.3925e+01 -5.3926e+01  1e-03  3e-15  2e-15\n",
      " 9: -5.3926e+01 -5.3926e+01  6e-05  5e-15  2e-15\n",
      "10: -5.3926e+01 -5.3926e+01  6e-07  9e-16  2e-15\n",
      "Optimal solution found.\n",
      "     pcost       dcost       gap    pres   dres\n",
      " 0: -6.9785e+01 -1.2125e+02  3e+02  2e+00  2e-15\n",
      " 1: -4.8890e+01 -9.0159e+01  4e+01  8e-16  2e-15\n",
      " 2: -5.7893e+01 -5.9859e+01  2e+00  2e-16  2e-15\n",
      " 3: -5.8319e+01 -5.8463e+01  1e-01  3e-15  2e-15\n",
      " 4: -5.8388e+01 -5.8414e+01  3e-02  4e-15  2e-15\n",
      " 5: -5.8393e+01 -5.8415e+01  2e-02  9e-16  2e-15\n",
      " 6: -5.8398e+01 -5.8413e+01  2e-02  2e-16  2e-15\n",
      " 7: -5.8401e+01 -5.8410e+01  9e-03  4e-15  2e-15\n",
      " 8: -5.8400e+01 -5.8410e+01  9e-03  1e-15  1e-15\n",
      " 9: -5.8404e+01 -5.8407e+01  3e-03  2e-15  2e-15\n",
      "10: -5.8405e+01 -5.8406e+01  9e-04  6e-15  2e-15\n",
      "11: -5.8405e+01 -5.8405e+01  4e-05  3e-15  2e-15\n",
      "Optimal solution found.\n",
      "     pcost       dcost       gap    pres   dres\n",
      " 0: -6.9789e+01 -1.2125e+02  3e+02  2e+00  2e-15\n",
      " 1: -4.8892e+01 -9.0158e+01  4e+01  4e-15  2e-15\n",
      " 2: -5.7895e+01 -5.9860e+01  2e+00  2e-15  2e-15\n",
      " 3: -5.8320e+01 -5.8464e+01  1e-01  7e-15  2e-15\n",
      " 4: -5.8390e+01 -5.8414e+01  2e-02  4e-15  2e-15\n",
      " 5: -5.8395e+01 -5.8416e+01  2e-02  1e-15  2e-15\n",
      " 6: -5.8400e+01 -5.8413e+01  1e-02  5e-15  2e-15\n",
      " 7: -5.8402e+01 -5.8410e+01  8e-03  1e-15  2e-15\n",
      " 8: -5.8402e+01 -5.8410e+01  8e-03  6e-16  1e-15\n",
      " 9: -5.8405e+01 -5.8407e+01  2e-03  3e-15  2e-15\n",
      "10: -5.8406e+01 -5.8406e+01  4e-04  5e-15  2e-15\n",
      "11: -5.8406e+01 -5.8406e+01  8e-06  3e-15  2e-15\n",
      "Optimal solution found.\n",
      "     pcost       dcost       gap    pres   dres\n",
      " 0: -6.9156e+01 -1.2470e+02  4e+02  2e+00  2e-15\n",
      " 1: -4.7391e+01 -9.2491e+01  5e+01  3e-15  2e-15\n",
      " 2: -5.3854e+01 -5.8631e+01  5e+00  2e-16  2e-15\n",
      " 3: -5.3914e+01 -5.4017e+01  1e-01  2e-15  2e-15\n",
      " 4: -5.3919e+01 -5.3961e+01  4e-02  9e-16  1e-15\n",
      " 5: -5.3921e+01 -5.3945e+01  2e-02  6e-16  1e-15\n",
      " 6: -5.3928e+01 -5.3935e+01  7e-03  4e-16  1e-15\n",
      " 7: -5.3929e+01 -5.3932e+01  3e-03  1e-15  1e-15\n",
      " 8: -5.3930e+01 -5.3931e+01  8e-04  2e-16  1e-15\n",
      " 9: -5.3931e+01 -5.3931e+01  7e-05  3e-15  2e-15\n",
      "10: -5.3931e+01 -5.3931e+01  1e-06  3e-15  1e-15\n",
      "Optimal solution found.\n",
      "     pcost       dcost       gap    pres   dres\n",
      " 0: -6.9148e+01 -1.2470e+02  4e+02  2e+00  2e-15\n",
      " 1: -4.7387e+01 -9.2496e+01  5e+01  4e-16  2e-15\n",
      " 2: -5.3852e+01 -5.8628e+01  5e+00  9e-16  2e-15\n",
      " 3: -5.3912e+01 -5.4017e+01  1e-01  3e-15  2e-15\n",
      " 4: -5.3918e+01 -5.3960e+01  4e-02  3e-15  1e-15\n",
      " 5: -5.3921e+01 -5.3944e+01  2e-02  2e-15  1e-15\n",
      " 6: -5.3927e+01 -5.3934e+01  7e-03  2e-15  1e-15\n",
      " 7: -5.3929e+01 -5.3931e+01  2e-03  4e-16  2e-15\n",
      " 8: -5.3930e+01 -5.3930e+01  6e-04  2e-15  2e-15\n",
      " 9: -5.3930e+01 -5.3930e+01  3e-05  1e-15  2e-15\n",
      "Optimal solution found.\n",
      "     pcost       dcost       gap    pres   dres\n",
      " 0: -6.9430e+01 -1.2361e+02  4e+02  2e+00  2e-15\n",
      " 1: -4.7983e+01 -9.1803e+01  4e+01  9e-16  1e-15\n",
      " 2: -5.5331e+01 -5.9558e+01  4e+00  2e-16  2e-15\n",
      " 3: -5.5394e+01 -5.5482e+01  9e-02  7e-16  2e-15\n",
      " 4: -5.5406e+01 -5.5427e+01  2e-02  1e-15  1e-15\n",
      " 5: -5.5408e+01 -5.5426e+01  2e-02  7e-16  1e-15\n",
      " 6: -5.5412e+01 -5.5420e+01  8e-03  2e-16  1e-15\n",
      " 7: -5.5414e+01 -5.5416e+01  1e-03  1e-15  2e-15\n",
      " 8: -5.5415e+01 -5.5415e+01  8e-05  1e-15  1e-15\n",
      " 9: -5.5415e+01 -5.5415e+01  1e-06  4e-16  2e-15\n",
      "Optimal solution found.\n",
      "     pcost       dcost       gap    pres   dres\n",
      " 0: -6.9137e+01 -1.2467e+02  4e+02  2e+00  2e-15\n",
      " 1: -4.7388e+01 -9.2467e+01  5e+01  8e-16  1e-15\n",
      " 2: -5.3849e+01 -5.8625e+01  5e+00  4e-15  1e-15\n",
      " 3: -5.3909e+01 -5.3993e+01  8e-02  3e-16  1e-15\n",
      " 4: -5.3916e+01 -5.3937e+01  2e-02  6e-16  1e-15\n",
      " 5: -5.3920e+01 -5.3933e+01  1e-02  6e-16  1e-15\n",
      " 6: -5.3923e+01 -5.3927e+01  4e-03  2e-16  1e-15\n",
      " 7: -5.3924e+01 -5.3925e+01  1e-03  2e-16  1e-15\n",
      " 8: -5.3924e+01 -5.3924e+01  6e-05  2e-16  1e-15\n",
      " 9: -5.3924e+01 -5.3924e+01  2e-06  2e-16  1e-15\n",
      "Optimal solution found.\n",
      "     pcost       dcost       gap    pres   dres\n",
      " 0: -6.9797e+01 -1.2127e+02  3e+02  2e+00  2e-15\n",
      " 1: -4.8892e+01 -9.0172e+01  4e+01  1e-15  2e-15\n",
      " 2: -5.7898e+01 -5.9861e+01  2e+00  2e-15  1e-15\n",
      " 3: -5.8322e+01 -5.8470e+01  1e-01  8e-16  1e-15\n",
      " 4: -5.8383e+01 -5.8426e+01  4e-02  1e-15  1e-15\n",
      " 5: -5.8389e+01 -5.8429e+01  4e-02  1e-15  1e-15\n",
      " 6: -5.8402e+01 -5.8425e+01  2e-02  1e-15  1e-15\n",
      " 7: -5.8408e+01 -5.8414e+01  6e-03  2e-15  1e-15\n",
      " 8: -5.8410e+01 -5.8412e+01  2e-03  4e-15  1e-15\n",
      " 9: -5.8411e+01 -5.8411e+01  9e-05  3e-15  2e-15\n",
      "10: -5.8411e+01 -5.8411e+01  9e-07  4e-16  1e-15\n",
      "Optimal solution found.\n",
      "     pcost       dcost       gap    pres   dres\n",
      " 0: -6.9670e+01 -1.2247e+02  3e+02  2e+00  2e-15\n",
      " 1: -4.8495e+01 -9.1041e+01  4e+01  3e-15  2e-15\n",
      " 2: -5.6823e+01 -5.9663e+01  3e+00  7e-16  1e-15\n",
      " 3: -5.6880e+01 -5.6986e+01  1e-01  1e-15  2e-15\n",
      " 4: -5.6902e+01 -5.6938e+01  4e-02  2e-16  1e-15\n",
      " 5: -5.6904e+01 -5.6939e+01  3e-02  3e-16  1e-15\n",
      " 6: -5.6912e+01 -5.6926e+01  1e-02  2e-15  1e-15\n",
      " 7: -5.6915e+01 -5.6922e+01  7e-03  3e-15  1e-15\n",
      " 8: -5.6917e+01 -5.6920e+01  2e-03  2e-16  2e-15\n",
      " 9: -5.6918e+01 -5.6919e+01  9e-05  1e-15  2e-15\n",
      "10: -5.6918e+01 -5.6918e+01  9e-07  1e-15  1e-15\n",
      "Optimal solution found.\n",
      "     pcost       dcost       gap    pres   dres\n",
      " 0: -6.9465e+01 -1.2361e+02  4e+02  2e+00  2e-15\n",
      " 1: -4.7996e+01 -9.1810e+01  4e+01  6e-16  1e-15\n",
      " 2: -5.5342e+01 -5.9573e+01  4e+00  2e-15  1e-15\n",
      " 3: -5.5404e+01 -5.5507e+01  1e-01  2e-16  1e-15\n",
      " 4: -5.5414e+01 -5.5454e+01  4e-02  9e-16  1e-15\n",
      " 5: -5.5417e+01 -5.5448e+01  3e-02  2e-15  1e-15\n",
      " 6: -5.5424e+01 -5.5431e+01  7e-03  4e-16  1e-15\n",
      " 7: -5.5426e+01 -5.5429e+01  4e-03  2e-15  1e-15\n",
      " 8: -5.5427e+01 -5.5428e+01  1e-03  1e-15  1e-15\n",
      " 9: -5.5427e+01 -5.5427e+01  2e-04  6e-15  2e-15\n",
      "10: -5.5427e+01 -5.5427e+01  3e-06  4e-15  2e-15\n",
      "Optimal solution found.\n",
      "     pcost       dcost       gap    pres   dres\n",
      " 0: -6.9661e+01 -1.2248e+02  3e+02  2e+00  1e-15\n",
      " 1: -4.8490e+01 -9.1048e+01  4e+01  1e-15  1e-15\n",
      " 2: -5.6820e+01 -5.9658e+01  3e+00  3e-15  1e-15\n",
      " 3: -5.6877e+01 -5.6985e+01  1e-01  1e-15  1e-15\n",
      " 4: -5.6899e+01 -5.6937e+01  4e-02  2e-16  1e-15\n",
      " 5: -5.6902e+01 -5.6938e+01  4e-02  6e-16  1e-15\n",
      " 6: -5.6910e+01 -5.6924e+01  1e-02  2e-15  2e-15\n",
      " 7: -5.6914e+01 -5.6920e+01  6e-03  2e-15  1e-15\n",
      " 8: -5.6915e+01 -5.6918e+01  2e-03  3e-15  2e-15\n",
      " 9: -5.6916e+01 -5.6916e+01  7e-05  8e-16  2e-15\n",
      "10: -5.6916e+01 -5.6916e+01  5e-06  6e-15  2e-15\n",
      "Optimal solution found.\n",
      "     pcost       dcost       gap    pres   dres\n",
      " 0: -6.9679e+01 -1.2244e+02  3e+02  2e+00  2e-15\n",
      " 1: -4.8503e+01 -9.1018e+01  4e+01  5e-15  2e-15\n",
      " 2: -5.6827e+01 -5.9670e+01  3e+00  1e-15  2e-15\n",
      " 3: -5.6883e+01 -5.6981e+01  1e-01  1e-15  2e-15\n",
      " 4: -5.6909e+01 -5.6928e+01  2e-02  7e-16  1e-15\n",
      " 5: -5.6912e+01 -5.6928e+01  2e-02  1e-15  1e-15\n",
      " 6: -5.6918e+01 -5.6920e+01  1e-03  1e-15  2e-15\n",
      " 7: -5.6919e+01 -5.6919e+01  4e-04  2e-15  1e-15\n",
      " 8: -5.6919e+01 -5.6919e+01  1e-05  7e-16  1e-15\n",
      "Optimal solution found.\n",
      "     pcost       dcost       gap    pres   dres\n",
      " 0: -6.9805e+01 -1.2000e+02  3e+02  2e+00  2e-15\n",
      " 1: -4.9162e+01 -8.9198e+01  4e+01  5e-15  2e-15\n",
      " 2: -5.8276e+01 -6.0194e+01  2e+00  2e-15  1e-15\n",
      " 3: -5.9874e+01 -5.9894e+01  2e-02  2e-15  2e-15\n",
      " 4: -5.9890e+01 -5.9890e+01  2e-04  3e-15  1e-15\n",
      " 5: -5.9890e+01 -5.9890e+01  2e-06  1e-15  2e-15\n",
      "Optimal solution found.\n",
      "     pcost       dcost       gap    pres   dres\n",
      " 0: -6.9438e+01 -1.2361e+02  4e+02  2e+00  1e-15\n",
      " 1: -4.7987e+01 -9.1804e+01  4e+01  1e-15  1e-15\n",
      " 2: -5.5334e+01 -5.9562e+01  4e+00  2e-16  1e-15\n",
      " 3: -5.5396e+01 -5.5484e+01  9e-02  4e-15  1e-15\n",
      " 4: -5.5409e+01 -5.5429e+01  2e-02  3e-15  1e-15\n",
      " 5: -5.5412e+01 -5.5427e+01  1e-02  1e-15  1e-15\n",
      " 6: -5.5417e+01 -5.5420e+01  3e-03  2e-16  1e-15\n",
      " 7: -5.5417e+01 -5.5419e+01  1e-03  4e-16  1e-15\n",
      " 8: -5.5418e+01 -5.5418e+01  8e-05  1e-15  1e-15\n",
      " 9: -5.5418e+01 -5.5418e+01  9e-07  3e-16  1e-15\n",
      "Optimal solution found.\n",
      "     pcost       dcost       gap    pres   dres\n",
      " 0: -1.4718e+02 -4.4098e+02  3e+02  4e-16  3e-15\n",
      " 1: -1.8811e+02 -2.1663e+02  3e+01  2e-15  4e-15\n",
      " 2: -2.0922e+02 -2.1289e+02  4e+00  9e-16  5e-15\n",
      " 3: -2.0940e+02 -2.0959e+02  2e-01  3e-15  5e-15\n",
      " 4: -2.0946e+02 -2.0953e+02  7e-02  4e-15  4e-15\n",
      " 5: -2.0946e+02 -2.0953e+02  7e-02  4e-15  5e-15\n",
      " 6: -2.0947e+02 -2.0953e+02  5e-02  4e-15  4e-15\n",
      " 7: -2.0948e+02 -2.0953e+02  5e-02  1e-15  4e-15\n",
      " 8: -2.0950e+02 -2.0951e+02  7e-03  2e-15  5e-15\n",
      " 9: -2.0950e+02 -2.0950e+02  1e-03  2e-15  5e-15\n",
      "10: -2.0950e+02 -2.0950e+02  2e-05  4e-16  5e-15\n",
      "Optimal solution found.\n",
      "     pcost       dcost       gap    pres   dres\n",
      " 0: -1.4719e+02 -4.4095e+02  3e+02  9e-16  3e-15\n",
      " 1: -1.8814e+02 -2.1665e+02  3e+01  2e-15  4e-15\n",
      " 2: -2.0924e+02 -2.1291e+02  4e+00  5e-15  4e-15\n",
      " 3: -2.0942e+02 -2.0960e+02  2e-01  1e-14  4e-15\n",
      " 4: -2.0948e+02 -2.0954e+02  7e-02  2e-15  4e-15\n",
      " 5: -2.0948e+02 -2.0955e+02  6e-02  3e-15  4e-15\n",
      " 6: -2.0949e+02 -2.0954e+02  5e-02  2e-15  4e-15\n",
      " 7: -2.0949e+02 -2.0954e+02  5e-02  4e-15  5e-15\n",
      " 8: -2.0951e+02 -2.0954e+02  3e-02  2e-15  4e-15\n",
      " 9: -2.0951e+02 -2.0953e+02  2e-02  4e-15  4e-15\n",
      "10: -2.0951e+02 -2.0953e+02  2e-02  1e-15  6e-15\n",
      "11: -2.0952e+02 -2.0952e+02  6e-03  3e-15  5e-15\n",
      "12: -2.0952e+02 -2.0952e+02  6e-03  3e-15  4e-15\n"
     ]
    },
    {
     "name": "stdout",
     "output_type": "stream",
     "text": [
      "13: -2.0952e+02 -2.0952e+02  3e-04  1e-14  5e-15\n",
      "14: -2.0952e+02 -2.0952e+02  5e-06  1e-14  6e-15\n",
      "Optimal solution found.\n",
      "     pcost       dcost       gap    pres   dres\n",
      " 0: -1.4722e+02 -4.4093e+02  3e+02  2e-15  3e-15\n",
      " 1: -1.8818e+02 -2.1668e+02  3e+01  2e-15  4e-15\n",
      " 2: -2.0927e+02 -2.1294e+02  4e+00  8e-15  5e-15\n",
      " 3: -2.0945e+02 -2.0963e+02  2e-01  2e-15  4e-15\n",
      " 4: -2.0951e+02 -2.0957e+02  6e-02  1e-14  4e-15\n",
      " 5: -2.0951e+02 -2.0957e+02  6e-02  4e-16  3e-15\n",
      " 6: -2.0952e+02 -2.0956e+02  4e-02  2e-16  4e-15\n",
      " 7: -2.0953e+02 -2.0957e+02  4e-02  8e-15  4e-15\n",
      " 8: -2.0955e+02 -2.0955e+02  5e-03  9e-16  5e-15\n",
      " 9: -2.0955e+02 -2.0955e+02  6e-04  1e-14  5e-15\n",
      "10: -2.0955e+02 -2.0955e+02  8e-06  4e-15  5e-15\n",
      "Optimal solution found.\n",
      "     pcost       dcost       gap    pres   dres\n",
      " 0: -1.4693e+02 -4.5027e+02  3e+02  2e-15  3e-15\n",
      " 1: -1.8627e+02 -2.1500e+02  3e+01  9e-16  3e-15\n",
      " 2: -2.0396e+02 -2.0769e+02  4e+00  5e-15  4e-15\n",
      " 3: -2.0413e+02 -2.0431e+02  2e-01  2e-15  3e-15\n",
      " 4: -2.0418e+02 -2.0428e+02  1e-01  2e-16  3e-15\n",
      " 5: -2.0418e+02 -2.0427e+02  9e-02  3e-15  3e-15\n",
      " 6: -2.0420e+02 -2.0426e+02  7e-02  4e-15  3e-15\n",
      " 7: -2.0422e+02 -2.0425e+02  4e-02  5e-15  4e-15\n",
      " 8: -2.0423e+02 -2.0424e+02  2e-03  6e-15  4e-15\n",
      " 9: -2.0423e+02 -2.0423e+02  2e-05  3e-15  4e-15\n",
      "Optimal solution found.\n",
      "     pcost       dcost       gap    pres   dres\n",
      " 0: -1.4716e+02 -4.4101e+02  3e+02  7e-16  3e-15\n",
      " 1: -1.8809e+02 -2.1654e+02  3e+01  4e-15  3e-15\n",
      " 2: -2.0921e+02 -2.1286e+02  4e+00  1e-15  5e-15\n",
      " 3: -2.0938e+02 -2.0960e+02  2e-01  5e-15  4e-15\n",
      " 4: -2.0942e+02 -2.0956e+02  1e-01  3e-15  4e-15\n",
      " 5: -2.0945e+02 -2.0957e+02  1e-01  9e-15  4e-15\n",
      " 6: -2.0945e+02 -2.0955e+02  1e-01  4e-15  4e-15\n",
      " 7: -2.0947e+02 -2.0955e+02  7e-02  1e-14  4e-15\n",
      " 8: -2.0950e+02 -2.0951e+02  9e-03  4e-16  5e-15\n",
      " 9: -2.0951e+02 -2.0951e+02  1e-04  4e-15  5e-15\n",
      "Optimal solution found.\n",
      "     pcost       dcost       gap    pres   dres\n",
      " 0: -1.4728e+02 -4.3137e+02  3e+02  4e-16  3e-15\n",
      " 1: -1.8938e+02 -2.1710e+02  3e+01  6e-15  3e-15\n",
      " 2: -2.1457e+02 -2.1491e+02  3e-01  1e-14  4e-15\n",
      " 3: -2.1483e+02 -2.1483e+02  3e-03  3e-15  4e-15\n",
      " 4: -2.1483e+02 -2.1483e+02  3e-05  3e-15  4e-15\n",
      "Optimal solution found.\n",
      "     pcost       dcost       gap    pres   dres\n",
      " 0: -1.4716e+02 -4.4098e+02  3e+02  4e-15  3e-15\n",
      " 1: -1.8809e+02 -2.1661e+02  3e+01  8e-15  4e-15\n",
      " 2: -2.0920e+02 -2.1287e+02  4e+00  2e-14  4e-15\n",
      " 3: -2.0938e+02 -2.0957e+02  2e-01  1e-14  3e-15\n",
      " 4: -2.0944e+02 -2.0951e+02  7e-02  1e-15  3e-15\n",
      " 5: -2.0945e+02 -2.0952e+02  7e-02  4e-16  3e-15\n",
      " 6: -2.0946e+02 -2.0951e+02  5e-02  3e-15  3e-15\n",
      " 7: -2.0946e+02 -2.0951e+02  5e-02  3e-15  3e-15\n",
      " 8: -2.0948e+02 -2.0949e+02  7e-03  1e-14  3e-15\n",
      " 9: -2.0948e+02 -2.0949e+02  1e-03  3e-15  3e-15\n",
      "10: -2.0949e+02 -2.0949e+02  2e-05  6e-15  4e-15\n",
      "Optimal solution found.\n",
      "     pcost       dcost       gap    pres   dres\n",
      " 0: -1.4714e+02 -4.4090e+02  3e+02  6e-15  2e-15\n",
      " 1: -1.8808e+02 -2.1652e+02  3e+01  4e-16  3e-15\n",
      " 2: -2.0919e+02 -2.1283e+02  4e+00  2e-15  3e-15\n",
      " 3: -2.0936e+02 -2.0958e+02  2e-01  1e-15  3e-15\n",
      " 4: -2.0940e+02 -2.0954e+02  1e-01  9e-16  3e-15\n",
      " 5: -2.0943e+02 -2.0955e+02  1e-01  9e-15  4e-15\n",
      " 6: -2.0943e+02 -2.0953e+02  1e-01  4e-15  2e-15\n",
      " 7: -2.0945e+02 -2.0953e+02  8e-02  3e-15  2e-15\n",
      " 8: -2.0948e+02 -2.0949e+02  1e-02  2e-15  3e-15\n",
      " 9: -2.0949e+02 -2.0949e+02  1e-04  4e-16  3e-15\n",
      "Optimal solution found.\n",
      "     pcost       dcost       gap    pres   dres\n",
      " 0: -1.4694e+02 -4.5029e+02  3e+02  5e-15  3e-15\n",
      " 1: -1.8628e+02 -2.1501e+02  3e+01  8e-15  4e-15\n",
      " 2: -2.0397e+02 -2.0769e+02  4e+00  1e-14  3e-15\n",
      " 3: -2.0414e+02 -2.0437e+02  2e-01  3e-15  4e-15\n",
      " 4: -2.0418e+02 -2.0436e+02  2e-01  8e-15  3e-15\n",
      " 5: -2.0416e+02 -2.0433e+02  2e-01  9e-15  3e-15\n",
      " 6: -2.0418e+02 -2.0432e+02  1e-01  2e-15  3e-15\n",
      " 7: -2.0421e+02 -2.0433e+02  1e-01  5e-15  3e-15\n",
      " 8: -2.0421e+02 -2.0431e+02  1e-01  3e-15  3e-15\n",
      " 9: -2.0424e+02 -2.0428e+02  3e-02  4e-16  3e-15\n",
      "10: -2.0426e+02 -2.0426e+02  3e-03  9e-16  3e-15\n",
      "11: -2.0426e+02 -2.0426e+02  4e-05  1e-15  4e-15\n",
      "Optimal solution found.\n",
      "     pcost       dcost       gap    pres   dres\n",
      " 0: -1.4697e+02 -4.5011e+02  3e+02  7e-16  3e-15\n",
      " 1: -1.8633e+02 -2.1507e+02  3e+01  3e-15  3e-15\n",
      " 2: -2.0400e+02 -2.0773e+02  4e+00  6e-15  3e-15\n",
      " 3: -2.0418e+02 -2.0432e+02  1e-01  5e-15  4e-15\n",
      " 4: -2.0421e+02 -2.0428e+02  7e-02  2e-15  3e-15\n",
      " 5: -2.0422e+02 -2.0428e+02  6e-02  8e-15  3e-15\n",
      " 6: -2.0424e+02 -2.0427e+02  3e-02  3e-15  3e-15\n",
      " 7: -2.0425e+02 -2.0427e+02  2e-02  5e-15  4e-15\n",
      " 8: -2.0425e+02 -2.0426e+02  9e-03  4e-15  3e-15\n",
      " 9: -2.0426e+02 -2.0426e+02  9e-04  9e-15  3e-15\n",
      "10: -2.0426e+02 -2.0426e+02  2e-05  2e-15  4e-15\n",
      "Optimal solution found.\n",
      "     pcost       dcost       gap    pres   dres\n",
      " 0: -1.4578e+02 -4.6700e+02  3e+02  2e-15  3e-15\n",
      " 1: -1.8076e+02 -2.0887e+02  3e+01  4e-16  3e-15\n",
      " 2: -1.9325e+02 -1.9455e+02  1e+00  7e-15  4e-15\n",
      " 3: -1.9336e+02 -1.9377e+02  4e-01  4e-16  3e-15\n",
      " 4: -1.9338e+02 -1.9377e+02  4e-01  3e-15  3e-15\n",
      " 5: -1.9344e+02 -1.9365e+02  2e-01  4e-16  3e-15\n",
      " 6: -1.9348e+02 -1.9361e+02  1e-01  8e-15  3e-15\n",
      " 7: -1.9350e+02 -1.9357e+02  6e-02  3e-15  3e-15\n",
      " 8: -1.9352e+02 -1.9355e+02  3e-02  3e-15  3e-15\n",
      " 9: -1.9353e+02 -1.9354e+02  1e-02  1e-15  3e-15\n",
      "10: -1.9353e+02 -1.9353e+02  3e-03  9e-16  3e-15\n",
      "11: -1.9353e+02 -1.9353e+02  1e-04  4e-15  3e-15\n",
      "Optimal solution found.\n",
      "     pcost       dcost       gap    pres   dres\n",
      " 0: -1.4725e+02 -4.4091e+02  3e+02  2e-16  3e-15\n",
      " 1: -1.8825e+02 -2.1669e+02  3e+01  2e-15  4e-15\n",
      " 2: -2.0933e+02 -2.1298e+02  4e+00  5e-15  4e-15\n",
      " 3: -2.0950e+02 -2.0968e+02  2e-01  6e-15  5e-15\n",
      " 4: -2.0955e+02 -2.0962e+02  6e-02  1e-15  4e-15\n",
      " 5: -2.0956e+02 -2.0962e+02  6e-02  2e-15  4e-15\n",
      " 6: -2.0957e+02 -2.0962e+02  5e-02  8e-15  4e-15\n",
      " 7: -2.0957e+02 -2.0962e+02  5e-02  4e-16  4e-15\n",
      " 8: -2.0959e+02 -2.0960e+02  5e-03  9e-15  4e-15\n",
      " 9: -2.0960e+02 -2.0960e+02  9e-05  2e-15  5e-15\n",
      "Optimal solution found.\n",
      "     pcost       dcost       gap    pres   dres\n",
      " 0: -1.4647e+02 -4.5886e+02  3e+02  2e-15  3e-15\n",
      " 1: -1.8379e+02 -2.1244e+02  3e+01  9e-16  4e-15\n",
      " 2: -1.9863e+02 -2.0116e+02  3e+00  2e-15  5e-15\n",
      " 3: -1.9878e+02 -1.9895e+02  2e-01  2e-15  5e-15\n",
      " 4: -1.9882e+02 -1.9895e+02  1e-01  5e-15  4e-15\n",
      " 5: -1.9883e+02 -1.9894e+02  1e-01  2e-16  4e-15\n",
      " 6: -1.9885e+02 -1.9892e+02  7e-02  6e-15  4e-15\n",
      " 7: -1.9887e+02 -1.9890e+02  4e-02  2e-15  4e-15\n",
      " 8: -1.9887e+02 -1.9890e+02  2e-02  7e-15  4e-15\n",
      " 9: -1.9888e+02 -1.9889e+02  9e-03  1e-14  4e-15\n",
      "10: -1.9888e+02 -1.9888e+02  6e-04  4e-15  4e-15\n",
      "11: -1.9888e+02 -1.9888e+02  9e-06  4e-15  5e-15\n",
      "Optimal solution found.\n",
      "     pcost       dcost       gap    pres   dres\n",
      " 0: -1.4695e+02 -4.5028e+02  3e+02  7e-15  4e-15\n",
      " 1: -1.8629e+02 -2.1501e+02  3e+01  5e-15  5e-15\n",
      " 2: -2.0397e+02 -2.0770e+02  4e+00  4e-15  5e-15\n",
      " 3: -2.0415e+02 -2.0437e+02  2e-01  4e-15  5e-15\n",
      " 4: -2.0419e+02 -2.0436e+02  2e-01  2e-16  4e-15\n",
      " 5: -2.0417e+02 -2.0434e+02  2e-01  9e-16  4e-15\n",
      " 6: -2.0418e+02 -2.0433e+02  2e-01  5e-15  5e-15\n",
      " 7: -2.0423e+02 -2.0433e+02  9e-02  1e-14  5e-15\n",
      " 8: -2.0425e+02 -2.0429e+02  4e-02  2e-14  4e-15\n",
      " 9: -2.0426e+02 -2.0427e+02  4e-03  6e-15  5e-15\n",
      "10: -2.0427e+02 -2.0427e+02  7e-05  5e-15  6e-15\n",
      "Optimal solution found.\n",
      "     pcost       dcost       gap    pres   dres\n",
      " 0: -1.4682e+02 -4.5006e+02  3e+02  9e-16  3e-15\n",
      " 1: -1.8610e+02 -2.1493e+02  3e+01  2e-15  4e-15\n",
      " 2: -2.0381e+02 -2.0757e+02  4e+00  1e-15  4e-15\n",
      " 3: -2.0399e+02 -2.0415e+02  2e-01  3e-15  5e-15\n",
      " 4: -2.0404e+02 -2.0412e+02  8e-02  5e-15  4e-15\n",
      " 5: -2.0405e+02 -2.0411e+02  6e-02  4e-16  4e-15\n",
      " 6: -2.0406e+02 -2.0410e+02  4e-02  7e-15  4e-15\n",
      " 7: -2.0408e+02 -2.0409e+02  2e-02  5e-15  4e-15\n",
      " 8: -2.0408e+02 -2.0409e+02  3e-03  2e-15  5e-15\n",
      " 9: -2.0408e+02 -2.0408e+02  8e-05  7e-15  5e-15\n",
      "Optimal solution found.\n",
      "     pcost       dcost       gap    pres   dres\n",
      " 0: -1.4737e+02 -4.3135e+02  3e+02  3e-15  4e-15\n",
      " 1: -1.8954e+02 -2.1723e+02  3e+01  2e-15  4e-15\n",
      " 2: -2.1470e+02 -2.1505e+02  3e-01  4e-15  4e-15\n",
      " 3: -2.1496e+02 -2.1496e+02  3e-03  6e-15  5e-15\n",
      " 4: -2.1496e+02 -2.1496e+02  3e-05  1e-15  4e-15\n",
      "Optimal solution found.\n",
      "     pcost       dcost       gap    pres   dres\n",
      " 0: -1.4712e+02 -4.4083e+02  3e+02  5e-15  3e-15\n",
      " 1: -1.8803e+02 -2.1655e+02  3e+01  5e-15  5e-15\n",
      " 2: -2.0914e+02 -2.1281e+02  4e+00  2e-15  4e-15\n",
      " 3: -2.0932e+02 -2.0951e+02  2e-01  4e-15  5e-15\n",
      " 4: -2.0938e+02 -2.0945e+02  7e-02  4e-16  5e-15\n",
      " 5: -2.0939e+02 -2.0946e+02  7e-02  2e-15  5e-15\n",
      " 6: -2.0940e+02 -2.0945e+02  5e-02  4e-15  4e-15\n",
      " 7: -2.0940e+02 -2.0945e+02  5e-02  3e-15  4e-15\n",
      " 8: -2.0942e+02 -2.0943e+02  8e-03  4e-15  5e-15\n",
      " 9: -2.0943e+02 -2.0943e+02  2e-03  2e-15  5e-15\n",
      "10: -2.0943e+02 -2.0943e+02  4e-05  8e-15  5e-15\n",
      "Optimal solution found.\n"
     ]
    },
    {
     "name": "stderr",
     "output_type": "stream",
     "text": [
      "\r",
      " 57%|█████▋    | 17/30 [00:03<00:03,  3.50it/s]"
     ]
    },
    {
     "name": "stdout",
     "output_type": "stream",
     "text": [
      "     pcost       dcost       gap    pres   dres\n",
      " 0: -1.4695e+02 -4.5026e+02  3e+02  1e-15  3e-15\n",
      " 1: -1.8630e+02 -2.1502e+02  3e+01  2e-16  4e-15\n",
      " 2: -2.0398e+02 -2.0771e+02  4e+00  2e-15  5e-15\n",
      " 3: -2.0416e+02 -2.0438e+02  2e-01  1e-15  4e-15\n",
      " 4: -2.0419e+02 -2.0437e+02  2e-01  9e-16  4e-15\n",
      " 5: -2.0417e+02 -2.0434e+02  2e-01  2e-15  3e-15\n",
      " 6: -2.0420e+02 -2.0432e+02  1e-01  4e-15  3e-15\n",
      " 7: -2.0422e+02 -2.0433e+02  1e-01  1e-15  3e-15\n",
      " 8: -2.0425e+02 -2.0429e+02  4e-02  2e-15  3e-15\n",
      " 9: -2.0426e+02 -2.0427e+02  1e-02  2e-15  4e-15\n",
      "10: -2.0427e+02 -2.0427e+02  3e-04  9e-16  4e-15\n",
      "11: -2.0427e+02 -2.0427e+02  3e-06  2e-16  5e-15\n",
      "Optimal solution found.\n",
      "     pcost       dcost       gap    pres   dres\n",
      " 0: -1.4724e+02 -4.4091e+02  3e+02  9e-16  2e-15\n",
      " 1: -1.8824e+02 -2.1664e+02  3e+01  4e-16  3e-15\n",
      " 2: -2.0932e+02 -2.1296e+02  4e+00  6e-15  3e-15\n",
      " 3: -2.0949e+02 -2.0969e+02  2e-01  1e-14  4e-15\n",
      " 4: -2.0953e+02 -2.0964e+02  1e-01  9e-16  4e-15\n",
      " 5: -2.0955e+02 -2.0965e+02  9e-02  2e-15  3e-15\n",
      " 6: -2.0955e+02 -2.0964e+02  9e-02  1e-15  3e-15\n",
      " 7: -2.0956e+02 -2.0964e+02  8e-02  4e-15  2e-15\n",
      " 8: -2.0960e+02 -2.0960e+02  7e-03  4e-15  4e-15\n",
      " 9: -2.0960e+02 -2.0960e+02  2e-04  3e-15  4e-15\n",
      "Optimal solution found.\n",
      "     pcost       dcost       gap    pres   dres\n",
      " 0: -1.4678e+02 -4.5024e+02  3e+02  3e-15  3e-15\n",
      " 1: -1.8602e+02 -2.1489e+02  3e+01  6e-15  3e-15\n",
      " 2: -2.0376e+02 -2.0753e+02  4e+00  1e-15  3e-15\n",
      " 3: -2.0395e+02 -2.0411e+02  2e-01  4e-16  4e-15\n",
      " 4: -2.0398e+02 -2.0407e+02  9e-02  5e-15  4e-15\n",
      " 5: -2.0400e+02 -2.0407e+02  7e-02  5e-15  4e-15\n",
      " 6: -2.0401e+02 -2.0406e+02  5e-02  2e-15  3e-15\n",
      " 7: -2.0403e+02 -2.0405e+02  2e-02  2e-15  3e-15\n",
      " 8: -2.0404e+02 -2.0404e+02  3e-03  8e-15  4e-15\n",
      " 9: -2.0404e+02 -2.0404e+02  8e-05  5e-15  3e-15\n",
      "Optimal solution found.\n",
      "     pcost       dcost       gap    pres   dres\n",
      " 0: -1.4727e+02 -4.4105e+02  3e+02  4e-16  3e-15\n",
      " 1: -1.8827e+02 -2.1669e+02  3e+01  3e-15  4e-15\n",
      " 2: -2.0936e+02 -2.1300e+02  4e+00  1e-15  6e-15\n",
      " 3: -2.0952e+02 -2.0974e+02  2e-01  7e-15  5e-15\n",
      " 4: -2.0957e+02 -2.0970e+02  1e-01  2e-15  4e-15\n",
      " 5: -2.0960e+02 -2.0970e+02  1e-01  4e-15  4e-15\n",
      " 6: -2.0959e+02 -2.0969e+02  1e-01  9e-15  4e-15\n",
      " 7: -2.0961e+02 -2.0969e+02  8e-02  6e-15  4e-15\n",
      " 8: -2.0964e+02 -2.0965e+02  1e-02  2e-15  4e-15\n",
      " 9: -2.0965e+02 -2.0965e+02  1e-04  8e-15  5e-15\n",
      "Optimal solution found.\n",
      "     pcost       dcost       gap    pres   dres\n",
      " 0: -1.4686e+02 -4.5021e+02  3e+02  5e-15  3e-15\n",
      " 1: -1.8616e+02 -2.1490e+02  3e+01  9e-16  4e-15\n",
      " 2: -2.0387e+02 -2.0760e+02  4e+00  6e-15  4e-15\n",
      " 3: -2.0404e+02 -2.0428e+02  2e-01  4e-15  4e-15\n",
      " 4: -2.0408e+02 -2.0427e+02  2e-01  4e-16  3e-15\n",
      " 5: -2.0405e+02 -2.0424e+02  2e-01  3e-15  4e-15\n",
      " 6: -2.0407e+02 -2.0424e+02  2e-01  3e-15  4e-15\n",
      " 7: -2.0410e+02 -2.0422e+02  1e-01  2e-15  4e-15\n",
      " 8: -2.0413e+02 -2.0420e+02  6e-02  9e-16  4e-15\n",
      " 9: -2.0415e+02 -2.0418e+02  3e-02  4e-15  4e-15\n",
      "10: -2.0416e+02 -2.0417e+02  5e-03  4e-16  5e-15\n",
      "11: -2.0416e+02 -2.0416e+02  6e-05  1e-15  6e-15\n",
      "Optimal solution found.\n",
      "     pcost       dcost       gap    pres   dres\n",
      " 0: -1.4718e+02 -4.4084e+02  3e+02  3e-15  2e-15\n",
      " 1: -1.8813e+02 -2.1663e+02  3e+01  1e-14  3e-15\n",
      " 2: -2.0922e+02 -2.1289e+02  4e+00  6e-15  3e-15\n",
      " 3: -2.0940e+02 -2.0959e+02  2e-01  2e-15  4e-15\n",
      " 4: -2.0946e+02 -2.0953e+02  7e-02  7e-15  4e-15\n",
      " 5: -2.0947e+02 -2.0953e+02  7e-02  4e-16  3e-15\n",
      " 6: -2.0948e+02 -2.0953e+02  5e-02  9e-16  4e-15\n",
      " 7: -2.0948e+02 -2.0953e+02  5e-02  3e-16  3e-15\n",
      " 8: -2.0950e+02 -2.0951e+02  8e-03  4e-15  4e-15\n",
      " 9: -2.0950e+02 -2.0951e+02  3e-03  2e-16  4e-15\n",
      "10: -2.0950e+02 -2.0950e+02  1e-04  9e-16  4e-15\n",
      "Optimal solution found.\n",
      "     pcost       dcost       gap    pres   dres\n",
      " 0: -1.4694e+02 -4.5013e+02  3e+02  1e-15  3e-15\n",
      " 1: -1.8627e+02 -2.1503e+02  3e+01  4e-15  4e-15\n",
      " 2: -2.0395e+02 -2.0769e+02  4e+00  4e-16  4e-15\n",
      " 3: -2.0414e+02 -2.0428e+02  1e-01  3e-15  5e-15\n",
      " 4: -2.0417e+02 -2.0424e+02  7e-02  4e-16  4e-15\n",
      " 5: -2.0418e+02 -2.0424e+02  6e-02  4e-15  4e-15\n",
      " 6: -2.0419e+02 -2.0424e+02  5e-02  4e-15  4e-15\n",
      " 7: -2.0421e+02 -2.0423e+02  3e-02  1e-15  4e-15\n",
      " 8: -2.0421e+02 -2.0422e+02  1e-02  2e-15  4e-15\n",
      " 9: -2.0422e+02 -2.0422e+02  4e-04  3e-15  6e-15\n",
      "10: -2.0422e+02 -2.0422e+02  4e-06  2e-16  6e-15\n",
      "Optimal solution found.\n",
      "     pcost       dcost       gap    pres   dres\n",
      " 0: -1.4725e+02 -4.3140e+02  3e+02  8e-15  4e-15\n",
      " 1: -1.8932e+02 -2.1706e+02  3e+01  7e-15  5e-15\n",
      " 2: -2.1453e+02 -2.1487e+02  3e-01  6e-15  6e-15\n",
      " 3: -2.1478e+02 -2.1478e+02  3e-03  2e-16  6e-15\n",
      " 4: -2.1478e+02 -2.1478e+02  3e-05  6e-15  5e-15\n",
      "Optimal solution found.\n",
      "     pcost       dcost       gap    pres   dres\n",
      " 0: -4.2476e+02 -1.5533e+03  1e+03  2e-15  1e-14\n",
      " 1: -6.1533e+02 -7.7643e+02  2e+02  4e-15  1e-14\n",
      " 2: -7.6615e+02 -7.6908e+02  3e+00  4e-15  2e-14\n",
      " 3: -7.6766e+02 -7.6769e+02  3e-02  4e-15  2e-14\n",
      " 4: -7.6768e+02 -7.6768e+02  3e-04  4e-15  2e-14\n",
      "Optimal solution found.\n",
      "     pcost       dcost       gap    pres   dres\n",
      " 0: -4.2204e+02 -1.8388e+03  1e+03  4e-15  1e-14\n",
      " 1: -5.7130e+02 -7.6644e+02  2e+02  1e-14  1e-14\n",
      " 2: -7.0759e+02 -7.3303e+02  3e+01  2e-15  1e-14\n",
      " 3: -7.0963e+02 -7.1193e+02  2e+00  1e-14  1e-14\n",
      " 4: -7.1005e+02 -7.1195e+02  2e+00  4e-15  1e-14\n",
      " 5: -7.1032e+02 -7.1184e+02  2e+00  2e-15  1e-14\n",
      " 6: -7.1062e+02 -7.1154e+02  9e-01  1e-14  2e-14\n",
      " 7: -7.1098e+02 -7.1115e+02  2e-01  2e-16  1e-14\n",
      " 8: -7.1106e+02 -7.1107e+02  1e-02  7e-15  2e-14\n",
      " 9: -7.1106e+02 -7.1106e+02  2e-04  1e-14  2e-14\n",
      "Optimal solution found.\n",
      "     pcost       dcost       gap    pres   dres\n",
      " 0: -4.2321e+02 -1.6527e+03  1e+03  2e-15  1e-14\n",
      " 1: -5.9718e+02 -7.7459e+02  2e+02  9e-15  1e-14\n",
      " 2: -7.4298e+02 -7.6141e+02  2e+01  7e-15  2e-14\n",
      " 3: -7.4451e+02 -7.4647e+02  2e+00  2e-14  2e-14\n",
      " 4: -7.4548e+02 -7.4616e+02  7e-01  4e-15  2e-14\n",
      " 5: -7.4560e+02 -7.4601e+02  4e-01  4e-14  2e-14\n",
      " 6: -7.4569e+02 -7.4585e+02  2e-01  3e-14  2e-14\n",
      " 7: -7.4577e+02 -7.4577e+02  3e-03  2e-14  2e-14\n",
      " 8: -7.4577e+02 -7.4577e+02  3e-05  2e-14  2e-14\n",
      "Optimal solution found.\n",
      "     pcost       dcost       gap    pres   dres\n",
      " 0: -4.2193e+02 -1.8396e+03  1e+03  5e-15  9e-15\n",
      " 1: -5.7107e+02 -7.6532e+02  2e+02  4e-15  1e-14\n",
      " 2: -7.0769e+02 -7.3244e+02  2e+01  2e-14  1e-14\n",
      " 3: -7.0933e+02 -7.1306e+02  4e+00  5e-15  1e-14\n",
      " 4: -7.0963e+02 -7.1328e+02  4e+00  2e-14  1e-14\n",
      " 5: -7.0955e+02 -7.1269e+02  3e+00  2e-16  1e-14\n",
      " 6: -7.0991e+02 -7.1228e+02  2e+00  2e-14  1e-14\n",
      " 7: -7.1038e+02 -7.1190e+02  2e+00  1e-14  1e-14\n",
      " 8: -7.1087e+02 -7.1145e+02  6e-01  2e-15  1e-14\n",
      " 9: -7.1099e+02 -7.1127e+02  3e-01  2e-14  1e-14\n",
      "10: -7.1110e+02 -7.1115e+02  5e-02  2e-14  1e-14\n",
      "11: -7.1112e+02 -7.1112e+02  5e-04  4e-15  1e-14\n",
      "Optimal solution found.\n",
      "     pcost       dcost       gap    pres   dres\n",
      " 0: -4.2426e+02 -1.6537e+03  1e+03  3e-15  8e-15\n",
      " 1: -5.9996e+02 -7.7659e+02  2e+02  3e-15  9e-15\n",
      " 2: -7.4620e+02 -7.6401e+02  2e+01  1e-14  1e-14\n",
      " 3: -7.4734e+02 -7.4969e+02  2e+00  1e-14  1e-14\n",
      " 4: -7.4801e+02 -7.4987e+02  2e+00  1e-14  1e-14\n",
      " 5: -7.4791e+02 -7.4968e+02  2e+00  1e-14  1e-14\n",
      " 6: -7.4817e+02 -7.4962e+02  1e+00  2e-14  1e-14\n",
      " 7: -7.4877e+02 -7.4888e+02  1e-01  4e-15  1e-14\n",
      " 8: -7.4883e+02 -7.4883e+02  1e-03  7e-15  1e-14\n",
      " 9: -7.4883e+02 -7.4883e+02  1e-05  2e-14  1e-14\n",
      "Optimal solution found.\n",
      "     pcost       dcost       gap    pres   dres\n",
      " 0: -4.2422e+02 -1.6538e+03  1e+03  6e-15  7e-15\n",
      " 1: -5.9983e+02 -7.7656e+02  2e+02  2e-14  8e-15\n",
      " 2: -7.4606e+02 -7.6391e+02  2e+01  4e-15  1e-14\n",
      " 3: -7.4722e+02 -7.4959e+02  2e+00  4e-15  1e-14\n",
      " 4: -7.4790e+02 -7.4978e+02  2e+00  2e-14  1e-14\n",
      " 5: -7.4779e+02 -7.4959e+02  2e+00  4e-15  1e-14\n",
      " 6: -7.4811e+02 -7.4950e+02  1e+00  2e-16  1e-14\n",
      " 7: -7.4867e+02 -7.4879e+02  1e-01  3e-14  1e-14\n",
      " 8: -7.4873e+02 -7.4873e+02  1e-03  2e-14  1e-14\n",
      " 9: -7.4873e+02 -7.4873e+02  1e-05  1e-14  1e-14\n",
      "Optimal solution found.\n",
      "     pcost       dcost       gap    pres   dres\n",
      " 0: -4.2423e+02 -1.6508e+03  1e+03  4e-15  8e-15\n",
      " 1: -6.0017e+02 -7.7680e+02  2e+02  8e-15  7e-15\n",
      " 2: -7.4574e+02 -7.6404e+02  2e+01  4e-15  1e-14\n",
      " 3: -7.4722e+02 -7.4905e+02  2e+00  2e-14  1e-14\n",
      " 4: -7.4818e+02 -7.4870e+02  5e-01  1e-14  1e-14\n",
      " 5: -7.4835e+02 -7.4844e+02  8e-02  4e-14  1e-14\n",
      " 6: -7.4839e+02 -7.4840e+02  2e-02  1e-14  1e-14\n",
      " 7: -7.4840e+02 -7.4840e+02  6e-04  7e-15  1e-14\n",
      "Optimal solution found.\n",
      "     pcost       dcost       gap    pres   dres\n",
      " 0: -4.2323e+02 -1.7480e+03  1e+03  9e-16  9e-15\n",
      " 1: -5.8508e+02 -7.7288e+02  2e+02  6e-15  1e-14\n",
      " 2: -7.2636e+02 -7.5048e+02  2e+01  9e-15  1e-14\n",
      " 3: -7.2811e+02 -7.3000e+02  2e+00  2e-15  1e-14\n",
      " 4: -7.2879e+02 -7.2990e+02  1e+00  2e-14  1e-14\n",
      " 5: -7.2895e+02 -7.2974e+02  8e-01  1e-14  1e-14\n",
      " 6: -7.2913e+02 -7.2953e+02  4e-01  1e-14  1e-14\n",
      " 7: -7.2924e+02 -7.2938e+02  1e-01  5e-15  1e-14\n",
      " 8: -7.2931e+02 -7.2931e+02  6e-03  4e-15  1e-14\n",
      " 9: -7.2931e+02 -7.2931e+02  7e-05  2e-15  1e-14\n",
      "Optimal solution found.\n"
     ]
    },
    {
     "name": "stderr",
     "output_type": "stream",
     "text": [
      "\r",
      " 60%|██████    | 18/30 [00:04<00:03,  3.52it/s]"
     ]
    },
    {
     "name": "stdout",
     "output_type": "stream",
     "text": [
      "     pcost       dcost       gap    pres   dres\n",
      " 0: -4.2009e+02 -1.9251e+03  2e+03  6e-15  8e-15\n",
      " 1: -5.5726e+02 -7.5589e+02  2e+02  9e-16  6e-15\n",
      " 2: -6.8890e+02 -7.1223e+02  2e+01  2e-14  9e-15\n",
      " 3: -6.9046e+02 -6.9523e+02  5e+00  3e-14  9e-15\n",
      " 4: -6.9073e+02 -6.9537e+02  5e+00  2e-15  9e-15\n",
      " 5: -6.9121e+02 -6.9422e+02  3e+00  1e-14  9e-15\n",
      " 6: -6.9159e+02 -6.9374e+02  2e+00  7e-15  1e-14\n",
      " 7: -6.9205e+02 -6.9316e+02  1e+00  1e-14  1e-14\n",
      " 8: -6.9228e+02 -6.9288e+02  6e-01  1e-14  1e-14\n",
      " 9: -6.9241e+02 -6.9274e+02  3e-01  2e-15  1e-14\n",
      "10: -6.9250e+02 -6.9261e+02  1e-01  4e-14  1e-14\n",
      "11: -6.9255e+02 -6.9256e+02  2e-02  5e-15  1e-14\n",
      "12: -6.9255e+02 -6.9255e+02  2e-04  2e-14  1e-14\n",
      "Optimal solution found.\n",
      "     pcost       dcost       gap    pres   dres\n",
      " 0: -4.2288e+02 -1.7490e+03  1e+03  9e-16  8e-15\n",
      " 1: -5.8405e+02 -7.7239e+02  2e+02  6e-15  8e-15\n",
      " 2: -7.2525e+02 -7.4976e+02  2e+01  1e-14  1e-14\n",
      " 3: -7.2720e+02 -7.2935e+02  2e+00  2e-16  1e-14\n",
      " 4: -7.2785e+02 -7.2932e+02  1e+00  4e-15  1e-14\n",
      " 5: -7.2805e+02 -7.2916e+02  1e+00  4e-15  1e-14\n",
      " 6: -7.2840e+02 -7.2877e+02  4e-01  2e-14  1e-14\n",
      " 7: -7.2851e+02 -7.2862e+02  1e-01  1e-14  1e-14\n",
      " 8: -7.2856e+02 -7.2857e+02  1e-02  3e-14  2e-14\n",
      " 9: -7.2856e+02 -7.2856e+02  1e-04  3e-14  1e-14\n",
      "Optimal solution found.\n",
      "     pcost       dcost       gap    pres   dres\n",
      " 0: -4.2338e+02 -1.6511e+03  1e+03  2e-15  9e-15\n",
      " 1: -5.9784e+02 -7.7459e+02  2e+02  3e-15  1e-14\n",
      " 2: -7.4388e+02 -7.6167e+02  2e+01  1e-14  1e-14\n",
      " 3: -7.4503e+02 -7.4719e+02  2e+00  2e-14  2e-14\n",
      " 4: -7.4604e+02 -7.4719e+02  1e+00  3e-14  1e-14\n",
      " 5: -7.4605e+02 -7.4692e+02  9e-01  5e-15  1e-14\n",
      " 6: -7.4631e+02 -7.4656e+02  3e-01  7e-15  2e-14\n",
      " 7: -7.4642e+02 -7.4644e+02  2e-02  1e-14  1e-14\n",
      " 8: -7.4643e+02 -7.4643e+02  5e-04  1e-14  2e-14\n",
      "Optimal solution found.\n",
      "     pcost       dcost       gap    pres   dres\n",
      " 0: -4.2445e+02 -1.6539e+03  1e+03  1e-14  8e-15\n",
      " 1: -6.0047e+02 -7.7705e+02  2e+02  1e-14  7e-15\n",
      " 2: -7.4671e+02 -7.6452e+02  2e+01  1e-14  1e-14\n",
      " 3: -7.4785e+02 -7.5019e+02  2e+00  2e-14  1e-14\n",
      " 4: -7.4854e+02 -7.5036e+02  2e+00  9e-15  1e-14\n",
      " 5: -7.4845e+02 -7.5018e+02  2e+00  7e-15  1e-14\n",
      " 6: -7.4876e+02 -7.5006e+02  1e+00  1e-14  1e-14\n",
      " 7: -7.4930e+02 -7.4940e+02  1e-01  1e-14  1e-14\n",
      " 8: -7.4934e+02 -7.4934e+02  1e-03  2e-14  2e-14\n",
      " 9: -7.4934e+02 -7.4934e+02  1e-05  1e-14  2e-14\n",
      "Optimal solution found.\n",
      "     pcost       dcost       gap    pres   dres\n",
      " 0: -4.2154e+02 -1.8372e+03  1e+03  4e-15  9e-15\n",
      " 1: -5.7017e+02 -7.6568e+02  2e+02  1e-14  7e-15\n",
      " 2: -7.0635e+02 -7.3195e+02  3e+01  4e-14  1e-14\n",
      " 3: -7.0845e+02 -7.1070e+02  2e+00  5e-14  1e-14\n",
      " 4: -7.0896e+02 -7.1072e+02  2e+00  3e-14  1e-14\n",
      " 5: -7.0937e+02 -7.1052e+02  1e+00  5e-15  1e-14\n",
      " 6: -7.0967e+02 -7.1017e+02  5e-01  1e-14  9e-15\n",
      " 7: -7.0981e+02 -7.1002e+02  2e-01  2e-14  9e-15\n",
      " 8: -7.0990e+02 -7.0992e+02  2e-02  4e-14  1e-14\n",
      " 9: -7.0991e+02 -7.0991e+02  2e-04  2e-16  1e-14\n",
      "Optimal solution found.\n",
      "     pcost       dcost       gap    pres   dres\n",
      " 0: -4.2377e+02 -1.7487e+03  1e+03  5e-15  7e-15\n",
      " 1: -5.8645e+02 -7.7372e+02  2e+02  7e-15  9e-15\n",
      " 2: -7.2792e+02 -7.5170e+02  2e+01  2e-14  1e-14\n",
      " 3: -7.2945e+02 -7.3222e+02  3e+00  4e-15  1e-14\n",
      " 4: -7.2982e+02 -7.3241e+02  3e+00  1e-14  1e-14\n",
      " 5: -7.2959e+02 -7.3203e+02  2e+00  2e-15  1e-14\n",
      " 6: -7.2981e+02 -7.3206e+02  2e+00  4e-15  2e-14\n",
      " 7: -7.3062e+02 -7.3144e+02  8e-01  7e-15  1e-14\n",
      " 8: -7.3084e+02 -7.3113e+02  3e-01  7e-15  1e-14\n",
      " 9: -7.3096e+02 -7.3098e+02  2e-02  7e-15  2e-14\n",
      "10: -7.3097e+02 -7.3097e+02  2e-04  4e-14  2e-14\n",
      "Optimal solution found.\n",
      "     pcost       dcost       gap    pres   dres\n",
      " 0: -4.2409e+02 -1.6528e+03  1e+03  4e-15  8e-15\n",
      " 1: -5.9956e+02 -7.7650e+02  2e+02  9e-15  7e-15\n",
      " 2: -7.4537e+02 -7.6368e+02  2e+01  2e-14  8e-15\n",
      " 3: -7.4684e+02 -7.4878e+02  2e+00  5e-15  1e-14\n",
      " 4: -7.4780e+02 -7.4847e+02  7e-01  1e-14  1e-14\n",
      " 5: -7.4791e+02 -7.4833e+02  4e-01  4e-15  1e-14\n",
      " 6: -7.4796e+02 -7.4819e+02  2e-01  2e-14  1e-14\n",
      " 7: -7.4805e+02 -7.4810e+02  5e-02  3e-14  1e-14\n",
      " 8: -7.4807e+02 -7.4807e+02  6e-04  2e-14  1e-14\n",
      "Optimal solution found.\n",
      "     pcost       dcost       gap    pres   dres\n",
      " 0: -4.2374e+02 -1.6540e+03  1e+03  2e-15  1e-14\n",
      " 1: -5.9850e+02 -7.7553e+02  2e+02  4e-15  1e-14\n",
      " 2: -7.4482e+02 -7.6267e+02  2e+01  7e-15  2e-14\n",
      " 3: -7.4596e+02 -7.4839e+02  2e+00  9e-15  2e-14\n",
      " 4: -7.4663e+02 -7.4860e+02  2e+00  2e-14  2e-14\n",
      " 5: -7.4651e+02 -7.4840e+02  2e+00  1e-14  2e-14\n",
      " 6: -7.4678e+02 -7.4837e+02  2e+00  3e-14  2e-14\n",
      " 7: -7.4742e+02 -7.4757e+02  1e-01  6e-14  1e-14\n",
      " 8: -7.4750e+02 -7.4750e+02  2e-03  4e-14  2e-14\n",
      " 9: -7.4750e+02 -7.4750e+02  2e-05  1e-14  2e-14\n",
      "Optimal solution found.\n",
      "     pcost       dcost       gap    pres   dres\n",
      " 0: -4.2364e+02 -1.6540e+03  1e+03  2e-15  1e-14\n",
      " 1: -5.9822e+02 -7.7543e+02  2e+02  3e-15  1e-14\n",
      " 2: -7.4450e+02 -7.6244e+02  2e+01  4e-15  2e-14\n",
      " 3: -7.4569e+02 -7.4813e+02  2e+00  2e-14  2e-14\n",
      " 4: -7.4638e+02 -7.4834e+02  2e+00  4e-15  2e-14\n",
      " 5: -7.4627e+02 -7.4814e+02  2e+00  5e-15  1e-14\n",
      " 6: -7.4654e+02 -7.4808e+02  2e+00  2e-15  2e-14\n",
      " 7: -7.4719e+02 -7.4731e+02  1e-01  7e-15  2e-14\n",
      " 8: -7.4725e+02 -7.4725e+02  2e-03  1e-14  2e-14\n",
      " 9: -7.4725e+02 -7.4725e+02  2e-05  5e-15  2e-14\n",
      "Optimal solution found.\n",
      "     pcost       dcost       gap    pres   dres\n",
      " 0: -4.2209e+02 -1.8371e+03  1e+03  1e-14  1e-14\n",
      " 1: -5.7155e+02 -7.6652e+02  2e+02  3e-15  1e-14\n",
      " 2: -7.0794e+02 -7.3303e+02  3e+01  2e-14  1e-14\n",
      " 3: -7.0977e+02 -7.1194e+02  2e+00  2e-14  2e-14\n",
      " 4: -7.1025e+02 -7.1196e+02  2e+00  2e-14  1e-14\n",
      " 5: -7.1059e+02 -7.1179e+02  1e+00  7e-15  1e-14\n",
      " 6: -7.1090e+02 -7.1144e+02  5e-01  2e-14  1e-14\n",
      " 7: -7.1107e+02 -7.1126e+02  2e-01  1e-14  2e-14\n",
      " 8: -7.1115e+02 -7.1117e+02  2e-02  1e-14  1e-14\n",
      " 9: -7.1116e+02 -7.1116e+02  1e-03  7e-15  2e-14\n",
      "10: -7.1116e+02 -7.1116e+02  2e-05  9e-15  2e-14\n",
      "Optimal solution found.\n",
      "     pcost       dcost       gap    pres   dres\n",
      " 0: -4.2475e+02 -1.5533e+03  1e+03  9e-15  9e-15\n",
      " 1: -6.1529e+02 -7.7640e+02  2e+02  4e-15  9e-15\n",
      " 2: -7.6611e+02 -7.6907e+02  3e+00  7e-15  1e-14\n",
      " 3: -7.6762e+02 -7.6765e+02  3e-02  4e-14  2e-14\n",
      " 4: -7.6763e+02 -7.6763e+02  3e-04  3e-14  2e-14\n",
      "Optimal solution found.\n",
      "     pcost       dcost       gap    pres   dres\n",
      " 0: -4.2412e+02 -1.6530e+03  1e+03  5e-15  9e-15\n",
      " 1: -5.9966e+02 -7.7625e+02  2e+02  6e-15  1e-14\n",
      " 2: -7.4584e+02 -7.6364e+02  2e+01  5e-15  2e-14\n",
      " 3: -7.4697e+02 -7.4937e+02  2e+00  2e-14  2e-14\n",
      " 4: -7.4764e+02 -7.4958e+02  2e+00  1e-14  2e-14\n",
      " 5: -7.4753e+02 -7.4939e+02  2e+00  7e-15  2e-14\n",
      " 6: -7.4780e+02 -7.4933e+02  2e+00  5e-14  1e-14\n",
      " 7: -7.4843e+02 -7.4856e+02  1e-01  9e-15  2e-14\n",
      " 8: -7.4850e+02 -7.4850e+02  2e-03  2e-14  2e-14\n",
      " 9: -7.4850e+02 -7.4850e+02  2e-05  3e-14  2e-14\n",
      "Optimal solution found.\n",
      "     pcost       dcost       gap    pres   dres\n",
      " 0: -4.2407e+02 -1.6512e+03  1e+03  2e-15  9e-15\n",
      " 1: -5.9968e+02 -7.7642e+02  2e+02  4e-15  1e-14\n",
      " 2: -7.4532e+02 -7.6361e+02  2e+01  2e-14  2e-14\n",
      " 3: -7.4679e+02 -7.4870e+02  2e+00  1e-14  1e-14\n",
      " 4: -7.4775e+02 -7.4840e+02  7e-01  2e-14  1e-14\n",
      " 5: -7.4793e+02 -7.4813e+02  2e-01  2e-14  1e-14\n",
      " 6: -7.4800e+02 -7.4804e+02  4e-02  2e-14  1e-14\n",
      " 7: -7.4802e+02 -7.4802e+02  2e-03  4e-15  1e-14\n",
      " 8: -7.4802e+02 -7.4802e+02  5e-05  4e-15  1e-14\n",
      "Optimal solution found.\n",
      "     pcost       dcost       gap    pres   dres\n",
      " 0: -4.2455e+02 -1.5531e+03  1e+03  4e-15  9e-15\n",
      " 1: -6.1477e+02 -7.7591e+02  2e+02  2e-15  1e-14\n",
      " 2: -7.6557e+02 -7.6854e+02  3e+00  2e-14  1e-14\n",
      " 3: -7.6708e+02 -7.6711e+02  3e-02  4e-14  2e-14\n",
      " 4: -7.6710e+02 -7.6710e+02  3e-04  3e-14  1e-14\n",
      "Optimal solution found.\n",
      "     pcost       dcost       gap    pres   dres\n",
      " 0: -4.2449e+02 -1.6526e+03  1e+03  5e-15  9e-15\n",
      " 1: -6.0070e+02 -7.7735e+02  2e+02  9e-16  9e-15\n",
      " 2: -7.4667e+02 -7.6468e+02  2e+01  5e-15  1e-14\n",
      " 3: -7.4796e+02 -7.4973e+02  2e+00  5e-15  2e-14\n",
      " 4: -7.4888e+02 -7.4936e+02  5e-01  6e-15  1e-14\n",
      " 5: -7.4903e+02 -7.4915e+02  1e-01  4e-15  1e-14\n",
      " 6: -7.4906e+02 -7.4911e+02  5e-02  4e-16  1e-14\n",
      " 7: -7.4908e+02 -7.4909e+02  2e-03  1e-14  2e-14\n",
      " 8: -7.4908e+02 -7.4908e+02  5e-05  2e-14  2e-14\n",
      "Optimal solution found.\n",
      "     pcost       dcost       gap    pres   dres\n",
      " 0: -4.2270e+02 -1.7476e+03  1e+03  5e-15  9e-15\n",
      " 1: -5.8380e+02 -7.7165e+02  2e+02  4e-15  9e-15\n",
      " 2: -7.2527e+02 -7.4912e+02  2e+01  2e-15  1e-14\n",
      " 3: -7.2678e+02 -7.2995e+02  3e+00  9e-15  1e-14\n",
      " 4: -7.2719e+02 -7.3021e+02  3e+00  4e-15  1e-14\n",
      " 5: -7.2690e+02 -7.2975e+02  3e+00  2e-15  1e-14\n",
      " 6: -7.2715e+02 -7.2982e+02  3e+00  5e-15  1e-14\n",
      " 7: -7.2804e+02 -7.2917e+02  1e+00  5e-15  1e-14\n",
      " 8: -7.2837e+02 -7.2872e+02  3e-01  5e-15  1e-14\n",
      " 9: -7.2851e+02 -7.2855e+02  3e-02  1e-14  1e-14\n",
      "10: -7.2853e+02 -7.2853e+02  5e-04  4e-15  1e-14\n",
      "Optimal solution found.\n",
      "     pcost       dcost       gap    pres   dres\n",
      " 0: -4.2410e+02 -1.5535e+03  1e+03  8e-15  7e-15\n",
      " 1: -6.1339e+02 -7.7480e+02  2e+02  9e-15  9e-15\n",
      " 2: -7.6430e+02 -7.6729e+02  3e+00  2e-14  1e-14\n",
      " 3: -7.6581e+02 -7.6584e+02  3e-02  3e-14  2e-14\n",
      " 4: -7.6582e+02 -7.6582e+02  3e-04  1e-14  1e-14\n",
      "Optimal solution found.\n",
      "     pcost       dcost       gap    pres   dres\n",
      " 0: -1.4057e+03 -6.7985e+03  5e+03  2e-14  3e-14\n",
      " 1: -1.9312e+03 -2.7915e+03  9e+02  7e-14  3e-14\n",
      " 2: -2.6201e+03 -2.7020e+03  8e+01  1e-13  5e-14\n",
      " 3: -2.6269e+03 -2.6412e+03  1e+01  9e-14  5e-14\n",
      " 4: -2.6299e+03 -2.6418e+03  1e+01  3e-14  4e-14\n",
      " 5: -2.6312e+03 -2.6393e+03  8e+00  2e-16  4e-14\n",
      " 6: -2.6339e+03 -2.6359e+03  2e+00  5e-14  4e-14\n",
      " 7: -2.6348e+03 -2.6349e+03  1e-01  2e-14  5e-14\n",
      " 8: -2.6348e+03 -2.6348e+03  2e-03  1e-14  5e-14\n",
      "Optimal solution found.\n",
      "     pcost       dcost       gap    pres   dres\n",
      " 0: -1.3953e+03 -9.0654e+03  8e+03  1e-14  3e-14\n",
      " 1: -1.7535e+03 -2.7576e+03  1e+03  3e-14  4e-14\n",
      " 2: -2.4826e+03 -2.6108e+03  1e+02  5e-14  4e-14\n",
      " 3: -2.4909e+03 -2.5457e+03  5e+01  9e-14  4e-14\n"
     ]
    },
    {
     "name": "stdout",
     "output_type": "stream",
     "text": [
      " 4: -2.4928e+03 -2.5304e+03  4e+01  4e-14  4e-14\n",
      " 5: -2.4994e+03 -2.5221e+03  2e+01  6e-14  4e-14\n",
      " 6: -2.5059e+03 -2.5125e+03  7e+00  9e-14  4e-14\n",
      " 7: -2.5077e+03 -2.5099e+03  2e+00  4e-14  4e-14\n",
      " 8: -2.5086e+03 -2.5087e+03  1e-01  9e-14  5e-14\n",
      " 9: -2.5086e+03 -2.5086e+03  1e-03  6e-14  6e-14\n",
      "Optimal solution found.\n",
      "     pcost       dcost       gap    pres   dres\n",
      " 0: -1.3966e+03 -7.9720e+03  7e+03  1e-14  3e-14\n",
      " 1: -1.8172e+03 -2.7839e+03  1e+03  1e-14  3e-14\n",
      " 2: -2.5354e+03 -2.6499e+03  1e+02  4e-14  5e-14\n",
      " 3: -2.5443e+03 -2.5664e+03  2e+01  7e-15  4e-14\n",
      " 4: -2.5462e+03 -2.5667e+03  2e+01  4e-14  4e-14\n",
      " 5: -2.5508e+03 -2.5606e+03  1e+01  7e-15  4e-14\n",
      " 6: -2.5532e+03 -2.5567e+03  3e+00  1e-14  4e-14\n",
      " 7: -2.5541e+03 -2.5556e+03  1e+00  6e-14  4e-14\n",
      " 8: -2.5548e+03 -2.5548e+03  5e-02  3e-14  5e-14\n",
      " 9: -2.5548e+03 -2.5548e+03  6e-04  6e-14  5e-14\n",
      "Optimal solution found.\n",
      "     pcost       dcost       gap    pres   dres\n",
      " 0: -1.4035e+03 -6.8171e+03  5e+03  4e-14  3e-14\n",
      " 1: -1.9236e+03 -2.7875e+03  9e+02  6e-14  3e-14\n",
      " 2: -2.6130e+03 -2.6947e+03  8e+01  1e-14  4e-14\n",
      " 3: -2.6194e+03 -2.6342e+03  1e+01  6e-14  4e-14\n",
      " 4: -2.6224e+03 -2.6350e+03  1e+01  7e-15  4e-14\n",
      " 5: -2.6238e+03 -2.6322e+03  8e+00  1e-14  4e-14\n",
      " 6: -2.6267e+03 -2.6285e+03  2e+00  6e-14  4e-14\n",
      " 7: -2.6275e+03 -2.6276e+03  8e-02  3e-14  6e-14\n",
      " 8: -2.6275e+03 -2.6275e+03  8e-04  6e-14  5e-14\n",
      "Optimal solution found.\n",
      "     pcost       dcost       gap    pres   dres\n",
      " 0: -1.4007e+03 -6.8105e+03  5e+03  8e-14  3e-14\n",
      " 1: -1.9169e+03 -2.7714e+03  9e+02  3e-14  3e-14\n",
      " 2: -2.6040e+03 -2.6832e+03  8e+01  2e-14  4e-14\n",
      " 3: -2.6105e+03 -2.6265e+03  2e+01  2e-14  5e-14\n",
      " 4: -2.6140e+03 -2.6276e+03  1e+01  7e-15  5e-14\n",
      " 5: -2.6159e+03 -2.6245e+03  9e+00  5e-14  6e-14\n",
      " 6: -2.6191e+03 -2.6204e+03  1e+00  1e-14  4e-14\n",
      " 7: -2.6197e+03 -2.6198e+03  7e-02  8e-14  5e-14\n",
      " 8: -2.6197e+03 -2.6197e+03  9e-04  5e-14  5e-14\n",
      "Optimal solution found.\n",
      "     pcost       dcost       gap    pres   dres\n",
      " 0: -1.3989e+03 -6.8191e+03  5e+03  7e-15  3e-14\n",
      " 1: -1.9110e+03 -2.7723e+03  9e+02  1e-13  4e-14\n",
      " 2: -2.5981e+03 -2.6778e+03  8e+01  1e-13  7e-14\n",
      " 3: -2.6038e+03 -2.6282e+03  2e+01  7e-14  6e-14\n",
      " 4: -2.6079e+03 -2.6310e+03  2e+01  1e-13  7e-14\n",
      " 5: -2.6061e+03 -2.6276e+03  2e+01  7e-15  6e-14\n",
      " 6: -2.6075e+03 -2.6285e+03  2e+01  1e-13  6e-14\n",
      " 7: -2.6152e+03 -2.6173e+03  2e+00  1e-13  7e-14\n",
      " 8: -2.6162e+03 -2.6163e+03  3e-02  3e-14  8e-14\n",
      " 9: -2.6162e+03 -2.6162e+03  3e-04  7e-14  7e-14\n",
      "Optimal solution found.\n",
      "     pcost       dcost       gap    pres   dres\n",
      " 0: -1.4038e+03 -6.8324e+03  5e+03  4e-15  3e-14\n",
      " 1: -1.9240e+03 -2.7804e+03  9e+02  2e-13  5e-14\n",
      " 2: -2.6141e+03 -2.6942e+03  8e+01  2e-13  1e-13\n",
      " 3: -2.6206e+03 -2.6382e+03  2e+01  4e-14  8e-14\n",
      " 4: -2.6234e+03 -2.6399e+03  2e+01  6e-14  7e-14\n",
      " 5: -2.6229e+03 -2.6382e+03  2e+01  4e-14  7e-14\n",
      " 6: -2.6235e+03 -2.6384e+03  1e+01  7e-14  7e-14\n",
      " 7: -2.6290e+03 -2.6321e+03  3e+00  2e-13  7e-14\n",
      " 8: -2.6301e+03 -2.6306e+03  5e-01  3e-13  7e-14\n",
      " 9: -2.6303e+03 -2.6303e+03  5e-03  2e-14  7e-14\n",
      "10: -2.6303e+03 -2.6303e+03  5e-05  2e-13  7e-14\n",
      "Optimal solution found.\n",
      "     pcost       dcost       gap    pres   dres\n",
      " 0: -1.3996e+03 -7.9842e+03  7e+03  4e-14  3e-14\n",
      " 1: -1.8246e+03 -2.7796e+03  1e+03  5e-14  4e-14\n",
      " 2: -2.5458e+03 -2.6572e+03  1e+02  2e-13  6e-14\n",
      " 3: -2.5534e+03 -2.5940e+03  4e+01  2e-13  6e-14\n",
      " 4: -2.5563e+03 -2.5935e+03  4e+01  2e-13  6e-14\n",
      " 5: -2.5603e+03 -2.5778e+03  2e+01  2e-14  7e-14\n",
      " 6: -2.5652e+03 -2.5739e+03  9e+00  5e-14  8e-14\n",
      " 7: -2.5684e+03 -2.5694e+03  9e-01  1e-13  9e-14\n",
      " 8: -2.5688e+03 -2.5688e+03  1e-02  1e-13  7e-14\n",
      " 9: -2.5688e+03 -2.5688e+03  1e-04  4e-14  7e-14\n",
      "Optimal solution found.\n",
      "     pcost       dcost       gap    pres   dres\n",
      " 0: -1.4003e+03 -9.0684e+03  8e+03  2e-14  3e-14\n",
      " 1: -1.7646e+03 -2.7581e+03  1e+03  1e-13  3e-14\n",
      " 2: -2.4972e+03 -2.6225e+03  1e+02  5e-14  6e-14\n",
      " 3: -2.5059e+03 -2.5583e+03  5e+01  7e-15  5e-14\n",
      " 4: -2.5080e+03 -2.5446e+03  4e+01  6e-14  5e-14\n",
      " 5: -2.5151e+03 -2.5357e+03  2e+01  3e-14  6e-14\n",
      " 6: -2.5199e+03 -2.5283e+03  8e+00  8e-14  5e-14\n",
      " 7: -2.5217e+03 -2.5254e+03  4e+00  9e-14  6e-14\n",
      " 8: -2.5228e+03 -2.5242e+03  1e+00  5e-14  7e-14\n",
      " 9: -2.5234e+03 -2.5234e+03  4e-02  7e-15  7e-14\n",
      "10: -2.5234e+03 -2.5234e+03  4e-04  2e-13  7e-14\n",
      "Optimal solution found.\n",
      "     pcost       dcost       gap    pres   dres\n",
      " 0: -1.3574e+03 -1.2768e+04  1e+04  9e-15  3e-14\n",
      " 1: -1.5591e+03 -2.5757e+03  1e+03  2e-14  3e-14\n",
      " 2: -2.2221e+03 -2.3763e+03  2e+02  9e-14  5e-14\n",
      " 3: -2.2360e+03 -2.2618e+03  3e+01  8e-14  4e-14\n",
      " 4: -2.2437e+03 -2.2488e+03  5e+00  6e-14  5e-14\n",
      " 5: -2.2458e+03 -2.2463e+03  5e-01  3e-14  4e-14\n",
      " 6: -2.2460e+03 -2.2461e+03  9e-02  1e-14  5e-14\n",
      " 7: -2.2460e+03 -2.2461e+03  5e-03  9e-14  5e-14\n",
      " 8: -2.2461e+03 -2.2461e+03  5e-05  3e-14  5e-14\n",
      "Optimal solution found.\n",
      "     pcost       dcost       gap    pres   dres\n",
      " 0: -1.3929e+03 -7.9916e+03  7e+03  1e-14  3e-14\n",
      " 1: -1.8081e+03 -2.7674e+03  1e+03  7e-15  3e-14\n",
      " 2: -2.5250e+03 -2.6365e+03  1e+02  2e-14  4e-14\n",
      " 3: -2.5324e+03 -2.5768e+03  4e+01  4e-14  4e-14\n",
      " 4: -2.5355e+03 -2.5740e+03  4e+01  1e-14  5e-14\n",
      " 5: -2.5421e+03 -2.5589e+03  2e+01  8e-14  4e-14\n",
      " 6: -2.5435e+03 -2.5554e+03  1e+01  2e-14  5e-14\n",
      " 7: -2.5486e+03 -2.5505e+03  2e+00  2e-16  7e-14\n",
      " 8: -2.5494e+03 -2.5495e+03  2e-01  2e-14  6e-14\n",
      " 9: -2.5494e+03 -2.5494e+03  3e-03  4e-14  5e-14\n",
      "10: -2.5494e+03 -2.5494e+03  3e-05  4e-14  6e-14\n",
      "Optimal solution found.\n",
      "     pcost       dcost       gap    pres   dres\n",
      " 0: -1.4031e+03 -5.6198e+03  4e+03  1e-14  3e-14\n",
      " 1: -2.0624e+03 -2.7348e+03  7e+02  4e-15  3e-14\n",
      " 2: -2.6739e+03 -2.6927e+03  2e+01  6e-14  6e-14\n",
      " 3: -2.6811e+03 -2.6813e+03  2e-01  2e-14  6e-14\n",
      " 4: -2.6812e+03 -2.6812e+03  2e-03  4e-14  5e-14\n",
      "Optimal solution found.\n",
      "     pcost       dcost       gap    pres   dres\n",
      " 0: -1.3999e+03 -9.0573e+03  8e+03  2e-14  2e-14\n",
      " 1: -1.7635e+03 -2.7670e+03  1e+03  1e-14  2e-14\n",
      " 2: -2.4942e+03 -2.6243e+03  1e+02  2e-16  3e-14\n",
      " 3: -2.5052e+03 -2.5322e+03  3e+01  5e-14  4e-14\n",
      " 4: -2.5080e+03 -2.5307e+03  2e+01  3e-14  4e-14\n",
      " 5: -2.5136e+03 -2.5221e+03  8e+00  3e-14  4e-14\n",
      " 6: -2.5168e+03 -2.5178e+03  1e+00  6e-15  5e-14\n",
      " 7: -2.5173e+03 -2.5173e+03  6e-02  7e-15  5e-14\n",
      " 8: -2.5173e+03 -2.5173e+03  6e-04  1e-13  6e-14\n",
      "Optimal solution found.\n",
      "     pcost       dcost       gap    pres   dres\n",
      " 0: -1.4018e+03 -6.8206e+03  5e+03  4e-14  3e-14\n",
      " 1: -1.9190e+03 -2.7760e+03  9e+02  7e-14  3e-14\n",
      " 2: -2.6075e+03 -2.6873e+03  8e+01  1e-14  4e-14\n",
      " 3: -2.6139e+03 -2.6315e+03  2e+01  1e-13  5e-14\n",
      " 4: -2.6166e+03 -2.6331e+03  2e+01  2e-13  9e-14\n",
      " 5: -2.6162e+03 -2.6314e+03  2e+01  2e-14  8e-14\n",
      " 6: -2.6169e+03 -2.6315e+03  1e+01  3e-14  6e-14\n",
      " 7: -2.6227e+03 -2.6248e+03  2e+00  2e-14  6e-14\n",
      " 8: -2.6235e+03 -2.6236e+03  6e-02  2e-16  6e-14\n",
      " 9: -2.6235e+03 -2.6235e+03  6e-04  2e-14  6e-14\n",
      "Optimal solution found.\n",
      "     pcost       dcost       gap    pres   dres\n",
      " 0: -1.4048e+03 -5.6177e+03  4e+03  4e-14  3e-14\n",
      " 1: -2.0684e+03 -2.7395e+03  7e+02  4e-15  4e-14\n",
      " 2: -2.6801e+03 -2.6986e+03  2e+01  2e-14  5e-14\n",
      " 3: -2.6872e+03 -2.6874e+03  2e-01  6e-14  6e-14\n",
      " 4: -2.6873e+03 -2.6873e+03  2e-03  5e-14  6e-14\n",
      "Optimal solution found.\n",
      "     pcost       dcost       gap    pres   dres\n",
      " 0: -1.4055e+03 -5.6174e+03  4e+03  2e-14  3e-14\n",
      " 1: -2.0710e+03 -2.7416e+03  7e+02  2e-14  3e-14\n",
      " 2: -2.6827e+03 -2.7011e+03  2e+01  2e-14  4e-14\n",
      " 3: -2.6898e+03 -2.6900e+03  2e-01  3e-14  5e-14\n",
      " 4: -2.6899e+03 -2.6899e+03  2e-03  1e-14  5e-14\n",
      "Optimal solution found.\n",
      "     pcost       dcost       gap    pres   dres\n",
      " 0: -1.4000e+03 -6.8254e+03  5e+03  1e-14  3e-14\n",
      " 1: -1.9138e+03 -2.7749e+03  9e+02  7e-14  3e-14\n",
      " 2: -2.6021e+03 -2.6817e+03  8e+01  7e-15  6e-14\n",
      " 3: -2.6080e+03 -2.6321e+03  2e+01  2e-14  5e-14\n",
      " 4: -2.6120e+03 -2.6348e+03  2e+01  3e-14  4e-14\n",
      " 5: -2.6103e+03 -2.6316e+03  2e+01  7e-15  4e-14\n",
      " 6: -2.6117e+03 -2.6325e+03  2e+01  8e-14  5e-14\n",
      " 7: -2.6194e+03 -2.6214e+03  2e+00  9e-14  4e-14\n",
      " 8: -2.6204e+03 -2.6204e+03  3e-02  6e-14  5e-14\n",
      " 9: -2.6204e+03 -2.6204e+03  3e-04  4e-14  6e-14\n",
      "Optimal solution found.\n",
      "     pcost       dcost       gap    pres   dres\n",
      " 0: -1.4054e+03 -5.6186e+03  4e+03  1e-14  3e-14\n",
      " 1: -2.0699e+03 -2.7412e+03  7e+02  2e-14  4e-14\n",
      " 2: -2.6824e+03 -2.7002e+03  2e+01  3e-14  4e-14\n",
      " 3: -2.6893e+03 -2.6895e+03  2e-01  4e-14  5e-14\n",
      " 4: -2.6894e+03 -2.6894e+03  2e-03  3e-14  6e-14\n",
      "Optimal solution found.\n",
      "     pcost       dcost       gap    pres   dres\n",
      " 0: -1.3932e+03 -1.0074e+04  9e+03  0e+00  3e-14\n",
      " 1: -1.7038e+03 -2.7329e+03  1e+03  7e-15  3e-14\n",
      " 2: -2.4289e+03 -2.5685e+03  1e+02  2e-16  3e-14\n",
      " 3: -2.4403e+03 -2.4699e+03  3e+01  1e-14  5e-14\n",
      " 4: -2.4470e+03 -2.4620e+03  1e+01  2e-14  3e-14\n",
      " 5: -2.4506e+03 -2.4557e+03  5e+00  2e-14  4e-14\n",
      " 6: -2.4519e+03 -2.4536e+03  2e+00  6e-14  4e-14\n",
      " 7: -2.4525e+03 -2.4527e+03  2e-01  4e-14  4e-14\n",
      " 8: -2.4526e+03 -2.4526e+03  4e-03  4e-14  6e-14\n",
      " 9: -2.4526e+03 -2.4526e+03  4e-05  4e-14  5e-14\n",
      "Optimal solution found.\n",
      "     pcost       dcost       gap    pres   dres\n",
      " 0: -1.3890e+03 -9.0711e+03  8e+03  5e-14  3e-14\n",
      " 1: -1.7397e+03 -2.7499e+03  1e+03  2e-14  3e-14\n",
      " 2: -2.4644e+03 -2.5939e+03  1e+02  6e-14  4e-14\n",
      " 3: -2.4725e+03 -2.5310e+03  6e+01  6e-14  5e-14\n",
      " 4: -2.4747e+03 -2.5135e+03  4e+01  2e-14  4e-14\n",
      " 5: -2.4826e+03 -2.5034e+03  2e+01  4e-14  5e-14\n",
      " 6: -2.4881e+03 -2.4952e+03  7e+00  3e-14  6e-14\n",
      " 7: -2.4904e+03 -2.4920e+03  2e+00  1e-14  5e-14\n",
      " 8: -2.4910e+03 -2.4911e+03  6e-02  1e-14  5e-14\n",
      " 9: -2.4911e+03 -2.4911e+03  6e-04  4e-14  4e-14\n",
      "Optimal solution found.\n",
      "     pcost       dcost       gap    pres   dres\n",
      " 0: -1.3673e+03 -1.2791e+04  1e+04  4e-14  2e-14\n",
      " 1: -1.5755e+03 -2.5625e+03  1e+03  1e-16  3e-14\n",
      " 2: -2.2451e+03 -2.3773e+03  1e+02  4e-15  4e-14\n",
      " 3: -2.2601e+03 -2.2832e+03  2e+01  4e-14  4e-14\n",
      " 4: -2.2692e+03 -2.2719e+03  3e+00  9e-14  5e-14\n",
      " 5: -2.2702e+03 -2.2709e+03  7e-01  6e-14  5e-14\n",
      " 6: -2.2706e+03 -2.2706e+03  3e-02  2e-13  5e-14\n",
      " 7: -2.2706e+03 -2.2706e+03  3e-04  2e-13  5e-14\n",
      "Optimal solution found.\n",
      "     pcost       dcost       gap    pres   dres\n",
      " 0: -1.3980e+03 -7.9657e+03  7e+03  3e-13  4e-14\n",
      " 1: -1.8206e+03 -2.7880e+03  1e+03  3e-13  6e-14\n",
      " 2: -2.5394e+03 -2.6547e+03  1e+02  2e-13  8e-14\n",
      " 3: -2.5480e+03 -2.5696e+03  2e+01  1e-13  9e-14\n",
      " 4: -2.5501e+03 -2.5699e+03  2e+01  3e-13  6e-14\n",
      " 5: -2.5545e+03 -2.5643e+03  1e+01  4e-14  7e-14\n",
      " 6: -2.5574e+03 -2.5598e+03  2e+00  3e-14  9e-14\n",
      " 7: -2.5585e+03 -2.5586e+03  9e-02  2e-16  9e-14\n"
     ]
    },
    {
     "name": "stderr",
     "output_type": "stream",
     "text": [
      "\r",
      " 63%|██████▎   | 19/30 [00:04<00:03,  3.57it/s]"
     ]
    },
    {
     "name": "stdout",
     "output_type": "stream",
     "text": [
      " 8: -2.5585e+03 -2.5585e+03  9e-04  9e-14  1e-13\n",
      "Optimal solution found.\n",
      "     pcost       dcost       gap    pres   dres\n",
      " 0: -1.4013e+03 -6.8101e+03  5e+03  1e-13  4e-14\n",
      " 1: -1.9180e+03 -2.7819e+03  9e+02  1e-13  5e-14\n",
      " 2: -2.6057e+03 -2.6876e+03  8e+01  7e-14  7e-14\n",
      " 3: -2.6120e+03 -2.6261e+03  1e+01  7e-14  9e-14\n",
      " 4: -2.6151e+03 -2.6266e+03  1e+01  2e-13  6e-14\n",
      " 5: -2.6164e+03 -2.6238e+03  7e+00  3e-13  8e-14\n",
      " 6: -2.6188e+03 -2.6206e+03  2e+00  2e-13  9e-14\n",
      " 7: -2.6196e+03 -2.6197e+03  9e-02  2e-13  9e-14\n",
      " 8: -2.6197e+03 -2.6197e+03  9e-04  2e-14  9e-14\n",
      "Optimal solution found.\n",
      "     pcost       dcost       gap    pres   dres\n",
      " 0: -1.4031e+03 -5.6205e+03  4e+03  5e-14  4e-14\n",
      " 1: -2.0624e+03 -2.7350e+03  7e+02  3e-13  6e-14\n",
      " 2: -2.6741e+03 -2.6926e+03  2e+01  2e-13  1e-13\n",
      " 3: -2.6813e+03 -2.6815e+03  2e-01  2e-14  1e-13\n",
      " 4: -2.6814e+03 -2.6814e+03  2e-03  2e-13  1e-13\n",
      "Optimal solution found.\n",
      "     pcost       dcost       gap    pres   dres\n",
      " 0: -1.3857e+03 -1.0068e+04  9e+03  0e+00  4e-14\n",
      " 1: -1.6892e+03 -2.7264e+03  1e+03  5e-14  5e-14\n",
      " 2: -2.4095e+03 -2.5509e+03  1e+02  5e-14  6e-14\n",
      " 3: -2.4204e+03 -2.4568e+03  4e+01  7e-15  6e-14\n",
      " 4: -2.4263e+03 -2.4459e+03  2e+01  4e-14  6e-14\n",
      " 5: -2.4328e+03 -2.4352e+03  2e+00  2e-14  6e-14\n",
      " 6: -2.4338e+03 -2.4341e+03  3e-01  6e-14  7e-14\n",
      " 7: -2.4339e+03 -2.4339e+03  3e-03  2e-13  8e-14\n",
      " 8: -2.4339e+03 -2.4339e+03  3e-05  4e-14  8e-14\n",
      "Optimal solution found.\n",
      "     pcost       dcost       gap    pres   dres\n",
      " 0: -4.7612e+03 -2.0752e+04  2e+04  1e-14  7e-14\n",
      " 1: -6.7404e+03 -9.3706e+03  3e+03  1e-14  8e-14\n",
      " 2: -8.8030e+03 -8.9837e+03  2e+02  4e-14  1e-13\n",
      " 3: -8.9130e+03 -8.9152e+03  2e+00  1e-14  1e-13\n",
      " 4: -8.9145e+03 -8.9145e+03  2e-02  1e-13  1e-13\n",
      " 5: -8.9145e+03 -8.9145e+03  2e-04  2e-13  1e-13\n",
      "Optimal solution found.\n",
      "     pcost       dcost       gap    pres   dres\n",
      " 0: -4.6512e+03 -3.5893e+04  3e+04  1e-14  9e-14\n",
      " 1: -5.6049e+03 -1.0230e+04  5e+03  2e-13  8e-14\n",
      " 2: -7.8970e+03 -8.9280e+03  1e+03  3e-13  1e-13\n",
      " 3: -8.3434e+03 -8.4670e+03  1e+02  1e-13  1e-13\n",
      " 4: -8.3760e+03 -8.4486e+03  7e+01  7e-14  1e-13\n",
      " 5: -8.4088e+03 -8.4163e+03  8e+00  1e-13  1e-13\n",
      " 6: -8.4118e+03 -8.4123e+03  5e-01  2e-13  1e-13\n",
      " 7: -8.4120e+03 -8.4121e+03  1e-02  1e-14  1e-13\n",
      " 8: -8.4120e+03 -8.4120e+03  2e-04  1e-13  1e-13\n",
      "Optimal solution found.\n",
      "     pcost       dcost       gap    pres   dres\n",
      " 0: -4.6733e+03 -5.0341e+04  5e+04  4e-14  1e-13\n",
      " 1: -5.3500e+03 -1.0314e+04  5e+03  6e-14  8e-14\n",
      " 2: -7.5972e+03 -9.4449e+03  2e+03  6e-14  1e-13\n",
      " 3: -8.2961e+03 -8.6555e+03  4e+02  3e-14  1e-13\n",
      " 4: -8.4615e+03 -8.5053e+03  4e+01  7e-14  1e-13\n",
      " 5: -8.4842e+03 -8.4853e+03  1e+00  7e-14  1e-13\n",
      " 6: -8.4848e+03 -8.4848e+03  1e-02  2e-13  2e-13\n",
      " 7: -8.4848e+03 -8.4848e+03  1e-04  3e-13  1e-13\n",
      "Optimal solution found.\n",
      "     pcost       dcost       gap    pres   dres\n",
      " 0: -4.7292e+03 -3.5820e+04  3e+04  1e-14  9e-14\n",
      " 1: -5.7516e+03 -1.0327e+04  5e+03  3e-14  9e-14\n",
      " 2: -8.2829e+03 -9.1605e+03  9e+02  1e-13  2e-13\n",
      " 3: -8.6164e+03 -8.7701e+03  2e+02  1e-13  1e-13\n",
      " 4: -8.6488e+03 -8.7451e+03  1e+02  1e-13  2e-13\n",
      " 5: -8.6885e+03 -8.6984e+03  1e+01  2e-13  1e-13\n",
      " 6: -8.6925e+03 -8.6935e+03  1e+00  3e-13  1e-13\n",
      " 7: -8.6930e+03 -8.6930e+03  3e-02  2e-13  1e-13\n",
      " 8: -8.6930e+03 -8.6930e+03  1e-03  6e-14  1e-13\n",
      "Optimal solution found.\n",
      "     pcost       dcost       gap    pres   dres\n",
      " 0: -4.6815e+03 -2.0656e+04  2e+04  4e-14  1e-13\n",
      " 1: -6.5292e+03 -9.1589e+03  3e+03  3e-14  1e-13\n",
      " 2: -8.4726e+03 -8.6780e+03  2e+02  7e-14  1e-13\n",
      " 3: -8.6003e+03 -8.6051e+03  5e+00  3e-14  1e-13\n",
      " 4: -8.6036e+03 -8.6037e+03  5e-02  3e-13  2e-13\n",
      " 5: -8.6037e+03 -8.6037e+03  5e-04  1e-13  1e-13\n",
      "Optimal solution found.\n",
      "     pcost       dcost       gap    pres   dres\n",
      " 0: -4.6684e+03 -3.6082e+04  3e+04  8e-14  1e-13\n",
      " 1: -5.6360e+03 -1.0133e+04  4e+03  1e-13  1e-13\n",
      " 2: -7.9997e+03 -9.0018e+03  1e+03  1e-13  2e-13\n",
      " 3: -8.4390e+03 -8.6204e+03  2e+02  9e-14  2e-13\n",
      " 4: -8.5234e+03 -8.5425e+03  2e+01  2e-13  2e-13\n",
      " 5: -8.5322e+03 -8.5324e+03  2e-01  1e-13  2e-13\n",
      " 6: -8.5323e+03 -8.5323e+03  2e-03  1e-13  2e-13\n",
      "Optimal solution found.\n",
      "     pcost       dcost       gap    pres   dres\n",
      " 0: -4.7197e+03 -3.5872e+04  3e+04  9e-14  1e-13\n",
      " 1: -5.7357e+03 -1.0296e+04  5e+03  1e-13  1e-13\n",
      " 2: -8.2311e+03 -9.1369e+03  9e+02  5e-13  2e-13\n",
      " 3: -8.5916e+03 -8.7318e+03  1e+02  3e-13  2e-13\n",
      " 4: -8.6194e+03 -8.7118e+03  9e+01  1e-13  2e-13\n",
      " 5: -8.6499e+03 -8.6748e+03  2e+01  2e-13  2e-13\n",
      " 6: -8.6607e+03 -8.6638e+03  3e+00  9e-14  2e-13\n",
      " 7: -8.6622e+03 -8.6622e+03  4e-02  1e-13  2e-13\n",
      " 8: -8.6622e+03 -8.6622e+03  4e-04  3e-13  2e-13\n",
      "Optimal solution found.\n",
      "     pcost       dcost       gap    pres   dres\n",
      " 0: -4.6615e+03 -6.4402e+04  6e+04  7e-14  1e-13\n",
      " 1: -5.1683e+03 -1.0296e+04  5e+03  1e-13  1e-13\n",
      " 2: -7.2139e+03 -9.6561e+03  2e+03  2e-13  1e-13\n",
      " 3: -8.1247e+03 -8.4807e+03  4e+02  2e-13  1e-13\n",
      " 4: -8.3060e+03 -8.3370e+03  3e+01  3e-13  2e-13\n",
      " 5: -8.3183e+03 -8.3253e+03  7e+00  2e-13  1e-13\n",
      " 6: -8.3215e+03 -8.3216e+03  9e-02  2e-13  1e-13\n",
      " 7: -8.3215e+03 -8.3215e+03  9e-04  2e-13  1e-13\n",
      "Optimal solution found.\n",
      "     pcost       dcost       gap    pres   dres\n",
      " 0: -4.7217e+03 -2.0533e+04  2e+04  3e-14  8e-14\n",
      " 1: -6.6548e+03 -9.2569e+03  3e+03  1e-13  1e-13\n",
      " 2: -8.6361e+03 -8.8313e+03  2e+02  7e-14  1e-13\n",
      " 3: -8.7581e+03 -8.7615e+03  3e+00  3e-14  1e-13\n",
      " 4: -8.7604e+03 -8.7604e+03  3e-02  7e-14  2e-13\n",
      " 5: -8.7604e+03 -8.7604e+03  3e-04  1e-14  2e-13\n",
      "Optimal solution found.\n",
      "     pcost       dcost       gap    pres   dres\n",
      " 0: -4.6905e+03 -6.3905e+04  6e+04  5e-14  9e-14\n",
      " 1: -5.2126e+03 -1.0503e+04  5e+03  1e-14  1e-13\n",
      " 2: -7.1866e+03 -9.8208e+03  3e+03  1e-13  1e-13\n",
      " 3: -8.1937e+03 -8.5279e+03  3e+02  6e-14  2e-13\n",
      " 4: -8.3570e+03 -8.4055e+03  5e+01  3e-13  2e-13\n",
      " 5: -8.3762e+03 -8.3867e+03  1e+01  1e-13  1e-13\n",
      " 6: -8.3816e+03 -8.3819e+03  3e-01  7e-14  2e-13\n",
      " 7: -8.3817e+03 -8.3817e+03  3e-03  2e-13  2e-13\n",
      "Optimal solution found.\n",
      "     pcost       dcost       gap    pres   dres\n",
      " 0: -4.6850e+03 -2.0718e+04  2e+04  2e-14  9e-14\n",
      " 1: -6.5290e+03 -9.1687e+03  3e+03  9e-14  1e-13\n",
      " 2: -8.4831e+03 -8.6921e+03  2e+02  2e-13  2e-13\n",
      " 3: -8.6154e+03 -8.6184e+03  3e+00  2e-16  1e-13\n",
      " 4: -8.6176e+03 -8.6176e+03  3e-02  3e-14  1e-13\n",
      " 5: -8.6176e+03 -8.6176e+03  3e-04  2e-13  1e-13\n",
      "Optimal solution found.\n",
      "     pcost       dcost       gap    pres   dres\n",
      " 0: -4.7184e+03 -2.0706e+04  2e+04  7e-15  1e-13\n",
      " 1: -6.6279e+03 -9.2572e+03  3e+03  6e-14  1e-13\n",
      " 2: -8.6194e+03 -8.8212e+03  2e+02  1e-14  2e-13\n",
      " 3: -8.7449e+03 -8.7487e+03  4e+00  1e-14  1e-13\n",
      " 4: -8.7474e+03 -8.7474e+03  4e-02  2e-13  1e-13\n",
      " 5: -8.7474e+03 -8.7474e+03  4e-04  2e-13  2e-13\n",
      "Optimal solution found.\n",
      "     pcost       dcost       gap    pres   dres\n",
      " 0: -4.7250e+03 -3.5712e+04  3e+04  3e-13  1e-13\n",
      " 1: -5.7583e+03 -9.9813e+03  4e+03  2e-13  1e-13\n",
      " 2: -8.2575e+03 -9.1281e+03  9e+02  2e-13  1e-13\n",
      " 3: -8.6586e+03 -8.8100e+03  2e+02  1e-13  2e-13\n",
      " 4: -8.7211e+03 -8.7509e+03  3e+01  5e-13  1e-13\n",
      " 5: -8.7346e+03 -8.7350e+03  4e-01  1e-13  2e-13\n",
      " 6: -8.7348e+03 -8.7348e+03  4e-03  1e-13  2e-13\n",
      "Optimal solution found.\n",
      "     pcost       dcost       gap    pres   dres\n",
      " 0: -4.6381e+03 -5.0463e+04  5e+04  7e-15  1e-13\n",
      " 1: -5.2898e+03 -1.0464e+04  5e+03  2e-13  8e-14\n",
      " 2: -7.3518e+03 -9.4027e+03  2e+03  2e-13  1e-13\n",
      " 3: -8.1162e+03 -8.4368e+03  3e+02  3e-14  1e-13\n",
      " 4: -8.2658e+03 -8.3057e+03  4e+01  4e-14  1e-13\n",
      " 5: -8.2825e+03 -8.2871e+03  5e+00  4e-14  2e-13\n",
      " 6: -8.2846e+03 -8.2848e+03  1e-01  4e-14  1e-13\n",
      " 7: -8.2847e+03 -8.2847e+03  2e-03  9e-14  2e-13\n",
      "Optimal solution found.\n",
      "     pcost       dcost       gap    pres   dres\n",
      " 0: -4.7291e+03 -3.6001e+04  3e+04  1e-14  1e-13\n"
     ]
    },
    {
     "name": "stderr",
     "output_type": "stream",
     "text": [
      "\r",
      " 67%|██████▋   | 20/30 [00:04<00:02,  3.61it/s]"
     ]
    },
    {
     "name": "stdout",
     "output_type": "stream",
     "text": [
      " 1: -5.7555e+03 -1.0202e+04  4e+03  1e-13  9e-14\n",
      " 2: -8.2824e+03 -9.1676e+03  9e+02  1e-13  1e-13\n",
      " 3: -8.6237e+03 -8.8662e+03  2e+02  2e-13  1e-13\n",
      " 4: -8.6938e+03 -8.7749e+03  8e+01  1e-14  1e-13\n",
      " 5: -8.7244e+03 -8.7453e+03  2e+01  1e-13  2e-13\n",
      " 6: -8.7335e+03 -8.7344e+03  9e-01  1e-13  1e-13\n",
      " 7: -8.7339e+03 -8.7339e+03  3e-02  2e-13  1e-13\n",
      " 8: -8.7339e+03 -8.7339e+03  1e-03  2e-13  1e-13\n",
      "Optimal solution found.\n",
      "     pcost       dcost       gap    pres   dres\n",
      " 0: -4.7143e+03 -3.5793e+04  3e+04  1e-13  1e-13\n",
      " 1: -5.7218e+03 -1.0326e+04  5e+03  2e-13  2e-13\n",
      " 2: -8.1958e+03 -9.1223e+03  9e+02  2e-13  2e-13\n",
      " 3: -8.5970e+03 -8.6737e+03  8e+01  1e-13  2e-13\n",
      " 4: -8.6088e+03 -8.6684e+03  6e+01  6e-14  2e-13\n",
      " 5: -8.6272e+03 -8.6472e+03  2e+01  2e-13  2e-13\n",
      " 6: -8.6352e+03 -8.6373e+03  2e+00  3e-13  2e-13\n",
      " 7: -8.6362e+03 -8.6362e+03  5e-02  2e-13  2e-13\n",
      " 8: -8.6362e+03 -8.6362e+03  1e-03  2e-13  2e-13\n",
      "Optimal solution found.\n",
      "     pcost       dcost       gap    pres   dres\n",
      " 0: -4.7512e+03 -2.0679e+04  2e+04  3e-13  1e-13\n",
      " 1: -6.7264e+03 -9.3419e+03  3e+03  4e-13  1e-13\n",
      " 2: -8.7582e+03 -8.9452e+03  2e+02  1e-13  2e-13\n",
      " 3: -8.8737e+03 -8.8765e+03  3e+00  9e-14  2e-13\n",
      " 4: -8.8755e+03 -8.8755e+03  3e-02  5e-13  2e-13\n",
      " 5: -8.8755e+03 -8.8755e+03  3e-04  1e-13  2e-13\n",
      "Optimal solution found.\n",
      "     pcost       dcost       gap    pres   dres\n",
      " 0: -4.6164e+03 -6.4171e+04  6e+04  1e-14  1e-13\n",
      " 1: -5.1042e+03 -1.0516e+04  5e+03  1e-13  9e-14\n",
      " 2: -6.8465e+03 -9.7415e+03  3e+03  1e-13  2e-13\n",
      " 3: -7.8873e+03 -8.3308e+03  4e+02  4e-14  2e-13\n",
      " 4: -8.1124e+03 -8.1643e+03  5e+01  1e-13  2e-13\n",
      " 5: -8.1342e+03 -8.1440e+03  1e+01  1e-13  1e-13\n",
      " 6: -8.1394e+03 -8.1395e+03  1e-01  3e-14  2e-13\n",
      " 7: -8.1394e+03 -8.1394e+03  1e-03  3e-13  2e-13\n",
      "Optimal solution found.\n",
      "     pcost       dcost       gap    pres   dres\n",
      " 0: -4.7322e+03 -6.4323e+04  6e+04  2e-13  2e-13\n",
      " 1: -5.2732e+03 -1.0344e+04  5e+03  4e-14  1e-13\n",
      " 2: -7.5365e+03 -9.7544e+03  2e+03  2e-13  2e-13\n",
      " 3: -8.3901e+03 -8.7232e+03  3e+02  6e-14  2e-13\n",
      " 4: -8.5494e+03 -8.5814e+03  3e+01  3e-14  2e-13\n",
      " 5: -8.5630e+03 -8.5674e+03  4e+00  2e-16  3e-13\n",
      " 6: -8.5650e+03 -8.5651e+03  9e-02  3e-14  3e-13\n",
      " 7: -8.5650e+03 -8.5650e+03  9e-04  9e-14  3e-13\n",
      "Optimal solution found.\n",
      "     pcost       dcost       gap    pres   dres\n",
      " 0: -4.6460e+03 -3.5871e+04  3e+04  1e-13  1e-13\n",
      " 1: -5.6002e+03 -9.9843e+03  4e+03  2e-13  1e-13\n",
      " 2: -7.8962e+03 -8.9003e+03  1e+03  1e-13  2e-13\n",
      " 3: -8.3507e+03 -8.5325e+03  2e+02  1e-14  2e-13\n",
      " 4: -8.4356e+03 -8.4596e+03  2e+01  7e-14  2e-13\n",
      " 5: -8.4467e+03 -8.4470e+03  3e-01  2e-13  2e-13\n",
      " 6: -8.4468e+03 -8.4468e+03  3e-03  5e-13  3e-13\n",
      "Optimal solution found.\n",
      "     pcost       dcost       gap    pres   dres\n",
      " 0: -4.7484e+03 -5.0233e+04  5e+04  4e-14  1e-13\n",
      " 1: -5.4663e+03 -1.0575e+04  5e+03  2e-13  9e-14\n",
      " 2: -7.8077e+03 -9.6316e+03  2e+03  9e-14  1e-13\n",
      " 3: -8.5199e+03 -8.7657e+03  2e+02  1e-14  2e-13\n",
      " 4: -8.6295e+03 -8.6760e+03  5e+01  2e-13  2e-13\n",
      " 5: -8.6452e+03 -8.6527e+03  7e+00  3e-13  1e-13\n",
      " 6: -8.6484e+03 -8.6486e+03  2e-01  2e-13  1e-13\n",
      " 7: -8.6485e+03 -8.6485e+03  2e-03  1e-13  1e-13\n",
      "Optimal solution found.\n",
      "     pcost       dcost       gap    pres   dres\n",
      " 0: -4.7121e+03 -3.5830e+04  3e+04  7e-15  1e-13\n",
      " 1: -5.7233e+03 -1.0192e+04  4e+03  6e-14  8e-14\n",
      " 2: -8.2254e+03 -9.0836e+03  9e+02  1e-13  1e-13\n",
      " 3: -8.5947e+03 -8.6606e+03  7e+01  5e-13  1e-13\n",
      " 4: -8.6101e+03 -8.6517e+03  4e+01  1e-13  1e-13\n",
      " 5: -8.6279e+03 -8.6317e+03  4e+00  3e-13  2e-13\n",
      " 6: -8.6294e+03 -8.6297e+03  3e-01  2e-13  1e-13\n",
      " 7: -8.6295e+03 -8.6295e+03  1e-02  7e-14  1e-13\n",
      " 8: -8.6295e+03 -8.6295e+03  2e-04  2e-13  1e-13\n",
      "Optimal solution found.\n",
      "     pcost       dcost       gap    pres   dres\n",
      " 0: -4.6422e+03 -7.7319e+04  7e+04  6e-14  1e-13\n",
      " 1: -5.0450e+03 -1.0278e+04  5e+03  1e-14  7e-14\n",
      " 2: -6.8944e+03 -9.7977e+03  3e+03  7e-14  1e-13\n",
      " 3: -7.8798e+03 -8.5431e+03  7e+02  1e-13  1e-13\n",
      " 4: -8.1726e+03 -8.2718e+03  1e+02  2e-13  2e-13\n",
      " 5: -8.2175e+03 -8.2361e+03  2e+01  1e-13  1e-13\n",
      " 6: -8.2276e+03 -8.2279e+03  3e-01  1e-13  1e-13\n",
      " 7: -8.2277e+03 -8.2277e+03  3e-03  4e-14  1e-13\n",
      "Optimal solution found.\n",
      "     pcost       dcost       gap    pres   dres\n",
      " 0: -4.6598e+03 -6.4000e+04  6e+04  2e-13  1e-13\n",
      " 1: -5.1683e+03 -1.0472e+04  5e+03  3e-13  1e-13\n",
      " 2: -7.0695e+03 -9.7783e+03  3e+03  6e-14  1e-13\n",
      " 3: -8.0770e+03 -8.4677e+03  4e+02  3e-13  2e-13\n",
      " 4: -8.2701e+03 -8.3161e+03  5e+01  1e-13  2e-13\n",
      " 5: -8.2832e+03 -8.3036e+03  2e+01  4e-13  2e-13\n",
      " 6: -8.2912e+03 -8.2953e+03  4e+00  2e-13  2e-13\n",
      " 7: -8.2932e+03 -8.2934e+03  2e-01  1e-13  2e-13\n",
      " 8: -8.2933e+03 -8.2933e+03  3e-03  3e-13  2e-13\n",
      "Optimal solution found.\n",
      "     pcost       dcost       gap    pres   dres\n",
      " 0: -4.6660e+03 -5.0585e+04  5e+04  6e-14  9e-14\n",
      " 1: -5.3363e+03 -1.0351e+04  5e+03  3e-14  8e-14\n",
      " 2: -7.5363e+03 -9.4338e+03  2e+03  1e-13  1e-13\n",
      " 3: -8.2597e+03 -8.6281e+03  4e+02  2e-13  1e-13\n",
      " 4: -8.4295e+03 -8.4742e+03  4e+01  3e-13  1e-13\n",
      " 5: -8.4475e+03 -8.4574e+03  1e+01  9e-14  1e-13\n",
      " 6: -8.4527e+03 -8.4529e+03  3e-01  1e-13  1e-13\n",
      " 7: -8.4528e+03 -8.4528e+03  3e-03  1e-14  1e-13\n",
      "Optimal solution found.\n",
      "     pcost       dcost       gap    pres   dres\n",
      " 0: -3.9933e+01 -2.0790e-01  3e+02  2e+01  7e-16\n",
      " 1: -4.6979e-01 -2.0230e-01  3e+00  2e-01  1e-15\n",
      " 2: -8.0046e-02 -1.9263e-01  1e-01  2e-17  7e-16\n",
      " 3: -9.2851e-02 -9.9246e-02  6e-03  2e-18  7e-16\n",
      " 4: -9.4909e-02 -9.5116e-02  2e-04  3e-18  6e-16\n",
      " 5: -9.4999e-02 -9.5001e-02  2e-06  4e-18  6e-16\n",
      " 6: -9.5000e-02 -9.5000e-02  5e-08  2e-18  8e-16\n",
      "Optimal solution found.\n",
      "     pcost       dcost       gap    pres   dres\n",
      " 0: -3.9808e+01 -2.0898e-01  3e+02  2e+01  8e-16\n",
      " 1: -4.6886e-01 -2.0340e-01  3e+00  2e-01  1e-15\n",
      " 2: -7.9469e-02 -1.9364e-01  1e-01  2e-17  6e-16\n",
      " 3: -9.1371e-02 -9.7335e-02  6e-03  2e-18  9e-16\n",
      " 4: -9.2387e-02 -9.2603e-02  2e-04  2e-18  6e-16\n",
      " 5: -9.2499e-02 -9.2501e-02  2e-06  2e-18  6e-16\n",
      " 6: -9.2500e-02 -9.2500e-02  9e-08  3e-18  5e-16\n",
      "Optimal solution found.\n",
      "     pcost       dcost       gap    pres   dres\n",
      " 0: -4.0032e+01 -2.0617e-01  3e+02  2e+01  9e-16\n",
      " 1: -4.6970e-01 -1.9993e-01  3e+00  2e-01  1e-15\n",
      " 2: -8.0760e-02 -1.9036e-01  1e-01  2e-17  7e-16\n",
      " 3: -9.4301e-02 -1.0091e-01  7e-03  2e-18  8e-16\n",
      " 4: -9.9943e-02 -1.0001e-01  7e-05  3e-18  5e-16\n",
      " 5: -9.9999e-02 -1.0000e-01  7e-07  2e-18  6e-16\n",
      " 6: -1.0000e-01 -1.0000e-01  7e-09  4e-18  2e-15\n",
      "Optimal solution found.\n",
      "     pcost       dcost       gap    pres   dres\n",
      " 0: -4.0035e+01 -2.0485e-01  3e+02  2e+01  1e-15\n",
      " 1: -4.6972e-01 -1.9993e-01  3e+00  2e-01  9e-16\n",
      " 2: -8.0762e-02 -1.9035e-01  1e-01  2e-17  7e-16\n",
      " 3: -9.4302e-02 -1.0091e-01  7e-03  3e-18  8e-16\n",
      " 4: -9.9943e-02 -1.0001e-01  7e-05  2e-18  7e-16\n",
      " 5: -9.9999e-02 -1.0000e-01  7e-07  5e-18  6e-16\n",
      " 6: -1.0000e-01 -1.0000e-01  7e-09  2e-18  2e-15\n",
      "Optimal solution found.\n",
      "     pcost       dcost       gap    pres   dres\n",
      " 0: -4.0012e+01 -2.0543e-01  3e+02  2e+01  8e-16\n",
      " 1: -4.7010e-01 -2.0114e-01  3e+00  2e-01  9e-16\n",
      " 2: -8.0480e-02 -1.9153e-01  1e-01  3e-17  7e-16\n",
      " 3: -9.3856e-02 -1.0048e-01  7e-03  3e-18  7e-16\n",
      " 4: -9.7464e-02 -9.8328e-02  9e-04  2e-18  5e-16\n",
      " 5: -9.7498e-02 -9.7509e-02  1e-05  2e-18  7e-16\n",
      " 6: -9.7500e-02 -9.7500e-02  1e-07  3e-18  7e-16\n",
      " 7: -9.7500e-02 -9.7500e-02  4e-09  6e-18  7e-16\n",
      "Optimal solution found.\n",
      "     pcost       dcost       gap    pres   dres\n",
      " 0: -4.0035e+01 -2.0514e-01  3e+02  2e+01  1e-15\n",
      " 1: -4.6971e-01 -1.9993e-01  3e+00  2e-01  1e-15\n",
      " 2: -8.0761e-02 -1.9035e-01  1e-01  2e-17  8e-16\n",
      " 3: -9.4301e-02 -1.0091e-01  7e-03  2e-18  8e-16\n",
      " 4: -9.9943e-02 -1.0001e-01  7e-05  2e-18  6e-16\n",
      " 5: -9.9999e-02 -1.0000e-01  7e-07  2e-18  6e-16\n",
      " 6: -1.0000e-01 -1.0000e-01  7e-09  3e-18  2e-15\n",
      "Optimal solution found.\n",
      "     pcost       dcost       gap    pres   dres\n",
      " 0: -3.9932e+01 -2.0836e-01  3e+02  2e+01  9e-16\n",
      " 1: -4.6978e-01 -2.0231e-01  3e+00  2e-01  1e-15\n",
      " 2: -8.0045e-02 -1.9263e-01  1e-01  2e-17  7e-16\n",
      " 3: -9.2851e-02 -9.9247e-02  6e-03  2e-18  8e-16\n",
      " 4: -9.4909e-02 -9.5116e-02  2e-04  2e-18  5e-16\n",
      " 5: -9.4999e-02 -9.5001e-02  2e-06  3e-18  6e-16\n",
      " 6: -9.5000e-02 -9.5000e-02  5e-08  2e-18  6e-16\n",
      "Optimal solution found.\n",
      "     pcost       dcost       gap    pres   dres\n",
      " 0: -4.0011e+01 -2.0601e-01  3e+02  2e+01  8e-16\n",
      " 1: -4.7009e-01 -2.0115e-01  3e+00  2e-01  1e-15\n",
      " 2: -8.0478e-02 -1.9154e-01  1e-01  2e-17  6e-16\n",
      " 3: -9.3856e-02 -1.0048e-01  7e-03  3e-18  7e-16\n",
      " 4: -9.7464e-02 -9.8328e-02  9e-04  2e-18  5e-16\n",
      " 5: -9.7498e-02 -9.7509e-02  1e-05  4e-18  5e-16\n",
      " 6: -9.7500e-02 -9.7500e-02  1e-07  2e-18  9e-16\n",
      " 7: -9.7500e-02 -9.7500e-02  6e-09  2e-18  6e-16\n",
      "Optimal solution found.\n"
     ]
    },
    {
     "name": "stderr",
     "output_type": "stream",
     "text": [
      "\r",
      " 70%|███████   | 21/30 [00:05<00:02,  3.73it/s]"
     ]
    },
    {
     "name": "stdout",
     "output_type": "stream",
     "text": [
      "     pcost       dcost       gap    pres   dres\n",
      " 0: -3.9934e+01 -2.0766e-01  3e+02  2e+01  1e-15\n",
      " 1: -4.6979e-01 -2.0231e-01  3e+00  2e-01  9e-16\n",
      " 2: -8.0045e-02 -1.9264e-01  1e-01  2e-17  6e-16\n",
      " 3: -9.2851e-02 -9.9246e-02  6e-03  3e-18  7e-16\n",
      " 4: -9.4909e-02 -9.5116e-02  2e-04  5e-18  5e-16\n",
      " 5: -9.4999e-02 -9.5001e-02  2e-06  2e-18  5e-16\n",
      " 6: -9.5000e-02 -9.5000e-02  7e-08  3e-18  5e-16\n",
      "Optimal solution found.\n",
      "     pcost       dcost       gap    pres   dres\n",
      " 0: -4.0010e+01 -2.0628e-01  3e+02  2e+01  7e-16\n",
      " 1: -4.7008e-01 -2.0114e-01  3e+00  2e-01  1e-15\n",
      " 2: -8.0479e-02 -1.9153e-01  1e-01  2e-17  7e-16\n",
      " 3: -9.3856e-02 -1.0048e-01  7e-03  2e-18  6e-16\n",
      " 4: -9.7464e-02 -9.8328e-02  9e-04  2e-18  5e-16\n",
      " 5: -9.7498e-02 -9.7509e-02  1e-05  3e-18  6e-16\n",
      " 6: -9.7500e-02 -9.7500e-02  1e-07  2e-18  1e-15\n",
      " 7: -9.7500e-02 -9.7500e-02  4e-09  5e-18  5e-16\n",
      "Optimal solution found.\n",
      "     pcost       dcost       gap    pres   dres\n",
      " 0: -3.9635e+01 -2.0920e-01  3e+02  2e+01  8e-16\n",
      " 1: -4.6729e-01 -2.0443e-01  4e+00  2e-01  9e-16\n",
      " 2: -7.8753e-02 -1.9457e-01  1e-01  2e-17  7e-16\n",
      " 3: -8.9513e-02 -9.4914e-02  5e-03  2e-18  8e-16\n",
      " 4: -8.9962e-02 -9.0072e-02  1e-04  2e-18  6e-16\n",
      " 5: -9.0000e-02 -9.0001e-02  1e-06  2e-18  5e-16\n",
      " 6: -9.0000e-02 -9.0000e-02  5e-08  2e-18  7e-16\n",
      "Optimal solution found.\n",
      "     pcost       dcost       gap    pres   dres\n",
      " 0: -3.9935e+01 -2.0736e-01  3e+02  2e+01  8e-16\n",
      " 1: -4.6980e-01 -2.0230e-01  3e+00  2e-01  1e-15\n",
      " 2: -8.0047e-02 -1.9263e-01  1e-01  2e-17  7e-16\n",
      " 3: -9.2852e-02 -9.9247e-02  6e-03  3e-18  8e-16\n",
      " 4: -9.4909e-02 -9.5116e-02  2e-04  2e-18  5e-16\n",
      " 5: -9.4999e-02 -9.5001e-02  2e-06  3e-18  7e-16\n",
      " 6: -9.5000e-02 -9.5000e-02  4e-08  4e-18  7e-16\n",
      "Optimal solution found.\n",
      "     pcost       dcost       gap    pres   dres\n",
      " 0: -4.0008e+01 -2.0693e-01  3e+02  2e+01  9e-16\n",
      " 1: -4.7007e-01 -2.0115e-01  3e+00  2e-01  1e-15\n",
      " 2: -8.0478e-02 -1.9154e-01  1e-01  2e-17  7e-16\n",
      " 3: -9.3855e-02 -1.0048e-01  7e-03  3e-18  7e-16\n",
      " 4: -9.7464e-02 -9.8328e-02  9e-04  4e-18  6e-16\n",
      " 5: -9.7498e-02 -9.7509e-02  1e-05  3e-18  5e-16\n",
      " 6: -9.7500e-02 -9.7500e-02  1e-07  2e-18  1e-15\n",
      " 7: -9.7500e-02 -9.7500e-02  4e-09  2e-18  8e-16\n",
      "Optimal solution found.\n",
      "     pcost       dcost       gap    pres   dres\n",
      " 0: -4.0008e+01 -2.0677e-01  3e+02  2e+01  9e-16\n",
      " 1: -4.7007e-01 -2.0114e-01  3e+00  2e-01  1e-15\n",
      " 2: -8.0479e-02 -1.9153e-01  1e-01  3e-17  7e-16\n",
      " 3: -9.3856e-02 -1.0048e-01  7e-03  3e-18  6e-16\n",
      " 4: -9.7464e-02 -9.8328e-02  9e-04  2e-18  5e-16\n",
      " 5: -9.7498e-02 -9.7509e-02  1e-05  3e-18  5e-16\n",
      " 6: -9.7500e-02 -9.7500e-02  1e-07  7e-18  1e-15\n",
      " 7: -9.7500e-02 -9.7500e-02  5e-09  3e-18  5e-16\n",
      "Optimal solution found.\n",
      "     pcost       dcost       gap    pres   dres\n",
      " 0: -4.0035e+01 -2.0509e-01  3e+02  2e+01  1e-15\n",
      " 1: -4.6972e-01 -1.9993e-01  3e+00  2e-01  1e-15\n",
      " 2: -8.0762e-02 -1.9035e-01  1e-01  2e-17  6e-16\n",
      " 3: -9.4301e-02 -1.0091e-01  7e-03  3e-18  8e-16\n",
      " 4: -9.9943e-02 -1.0001e-01  7e-05  5e-18  5e-16\n",
      " 5: -9.9999e-02 -1.0000e-01  7e-07  2e-18  7e-16\n",
      " 6: -1.0000e-01 -1.0000e-01  7e-09  3e-18  2e-15\n",
      "Optimal solution found.\n",
      "     pcost       dcost       gap    pres   dres\n",
      " 0: -4.0009e+01 -2.0671e-01  3e+02  2e+01  8e-16\n",
      " 1: -4.7007e-01 -2.0115e-01  3e+00  2e-01  1e-15\n",
      " 2: -8.0478e-02 -1.9154e-01  1e-01  2e-17  6e-16\n",
      " 3: -9.3855e-02 -1.0048e-01  7e-03  2e-18  7e-16\n",
      " 4: -9.7464e-02 -9.8328e-02  9e-04  3e-18  5e-16\n",
      " 5: -9.7498e-02 -9.7509e-02  1e-05  2e-18  7e-16\n",
      " 6: -9.7500e-02 -9.7500e-02  1e-07  2e-18  7e-16\n",
      " 7: -9.7500e-02 -9.7500e-02  8e-09  3e-18  5e-16\n",
      "Optimal solution found.\n",
      "     pcost       dcost       gap    pres   dres\n",
      " 0: -4.0034e+01 -2.0543e-01  3e+02  2e+01  8e-16\n",
      " 1: -4.6971e-01 -1.9993e-01  3e+00  2e-01  8e-16\n",
      " 2: -8.0761e-02 -1.9035e-01  1e-01  2e-17  6e-16\n",
      " 3: -9.4301e-02 -1.0091e-01  7e-03  2e-18  9e-16\n",
      " 4: -9.9943e-02 -1.0001e-01  7e-05  2e-18  5e-16\n",
      " 5: -9.9999e-02 -1.0000e-01  7e-07  2e-18  6e-16\n",
      " 6: -1.0000e-01 -1.0000e-01  7e-09  2e-18  2e-15\n",
      "Optimal solution found.\n",
      "     pcost       dcost       gap    pres   dres\n",
      " 0: -3.9935e+01 -2.0728e-01  3e+02  2e+01  8e-16\n",
      " 1: -4.6980e-01 -2.0230e-01  3e+00  2e-01  9e-16\n",
      " 2: -8.0047e-02 -1.9263e-01  1e-01  2e-17  6e-16\n",
      " 3: -9.2852e-02 -9.9247e-02  6e-03  2e-18  8e-16\n",
      " 4: -9.4909e-02 -9.5116e-02  2e-04  2e-18  5e-16\n",
      " 5: -9.4999e-02 -9.5001e-02  2e-06  2e-18  6e-16\n",
      " 6: -9.5000e-02 -9.5000e-02  4e-08  3e-18  7e-16\n",
      "Optimal solution found.\n",
      "     pcost       dcost       gap    pres   dres\n",
      " 0: -4.0036e+01 -2.0453e-01  3e+02  2e+01  1e-15\n",
      " 1: -4.6973e-01 -1.9993e-01  3e+00  2e-01  1e-15\n",
      " 2: -8.0762e-02 -1.9035e-01  1e-01  2e-17  7e-16\n",
      " 3: -9.4302e-02 -1.0091e-01  7e-03  3e-18  9e-16\n",
      " 4: -9.9943e-02 -1.0001e-01  7e-05  2e-18  6e-16\n",
      " 5: -9.9999e-02 -1.0000e-01  7e-07  2e-18  6e-16\n",
      " 6: -1.0000e-01 -1.0000e-01  7e-09  2e-18  2e-15\n",
      "Optimal solution found.\n",
      "     pcost       dcost       gap    pres   dres\n",
      " 0: -4.0007e+01 -2.0705e-01  3e+02  2e+01  8e-16\n",
      " 1: -4.7007e-01 -2.0115e-01  3e+00  2e-01  8e-16\n",
      " 2: -8.0478e-02 -1.9154e-01  1e-01  2e-17  7e-16\n",
      " 3: -9.3856e-02 -1.0048e-01  7e-03  2e-18  6e-16\n",
      " 4: -9.7464e-02 -9.8328e-02  9e-04  3e-18  5e-16\n",
      " 5: -9.7498e-02 -9.7509e-02  1e-05  5e-18  6e-16\n",
      " 6: -9.7500e-02 -9.7500e-02  1e-07  2e-18  9e-16\n",
      " 7: -9.7500e-02 -9.7500e-02  8e-09  3e-18  5e-16\n",
      "Optimal solution found.\n",
      "     pcost       dcost       gap    pres   dres\n",
      " 0: -4.0010e+01 -2.0617e-01  3e+02  2e+01  7e-16\n",
      " 1: -4.7009e-01 -2.0114e-01  3e+00  2e-01  9e-16\n",
      " 2: -8.0480e-02 -1.9153e-01  1e-01  2e-17  7e-16\n",
      " 3: -9.3856e-02 -1.0048e-01  7e-03  3e-18  7e-16\n",
      " 4: -9.7464e-02 -9.8328e-02  9e-04  2e-18  5e-16\n",
      " 5: -9.7498e-02 -9.7509e-02  1e-05  2e-18  5e-16\n",
      " 6: -9.7500e-02 -9.7500e-02  1e-07  3e-18  1e-15\n",
      " 7: -9.7500e-02 -9.7500e-02  5e-09  3e-18  7e-16\n",
      "Optimal solution found.\n",
      "     pcost       dcost       gap    pres   dres\n",
      " 0: -4.0008e+01 -2.0705e-01  3e+02  2e+01  8e-16\n",
      " 1: -4.7007e-01 -2.0115e-01  3e+00  2e-01  1e-15\n",
      " 2: -8.0478e-02 -1.9154e-01  1e-01  2e-17  7e-16\n",
      " 3: -9.3855e-02 -1.0048e-01  7e-03  2e-18  7e-16\n",
      " 4: -9.7464e-02 -9.8328e-02  9e-04  2e-18  6e-16\n",
      " 5: -9.7498e-02 -9.7509e-02  1e-05  2e-18  5e-16\n",
      " 6: -9.7500e-02 -9.7500e-02  1e-07  2e-18  1e-15\n",
      " 7: -9.7500e-02 -9.7500e-02  8e-09  2e-18  5e-16\n",
      "Optimal solution found.\n",
      "     pcost       dcost       gap    pres   dres\n",
      " 0: -4.0010e+01 -2.0627e-01  3e+02  2e+01  8e-16\n",
      " 1: -4.7008e-01 -2.0115e-01  3e+00  2e-01  9e-16\n",
      " 2: -8.0478e-02 -1.9154e-01  1e-01  2e-17  7e-16\n",
      " 3: -9.3856e-02 -1.0048e-01  7e-03  2e-18  7e-16\n",
      " 4: -9.7464e-02 -9.8328e-02  9e-04  2e-18  5e-16\n",
      " 5: -9.7498e-02 -9.7509e-02  1e-05  3e-18  6e-16\n",
      " 6: -9.7500e-02 -9.7500e-02  1e-07  2e-18  1e-15\n",
      " 7: -9.7500e-02 -9.7500e-02  8e-09  3e-18  5e-16\n",
      "Optimal solution found.\n",
      "     pcost       dcost       gap    pres   dres\n",
      " 0: -4.0033e+01 -2.0565e-01  3e+02  2e+01  9e-16\n",
      " 1: -4.6970e-01 -1.9993e-01  3e+00  2e-01  1e-15\n",
      " 2: -8.0761e-02 -1.9035e-01  1e-01  2e-17  6e-16\n",
      " 3: -9.4301e-02 -1.0091e-01  7e-03  2e-18  7e-16\n",
      " 4: -9.9943e-02 -1.0001e-01  7e-05  2e-18  6e-16\n",
      " 5: -9.9999e-02 -1.0000e-01  7e-07  3e-18  5e-16\n",
      " 6: -1.0000e-01 -1.0000e-01  7e-09  3e-18  2e-15\n",
      "Optimal solution found.\n",
      "     pcost       dcost       gap    pres   dres\n",
      " 0: -4.0011e+01 -2.0597e-01  3e+02  2e+01  9e-16\n",
      " 1: -4.7009e-01 -2.0114e-01  3e+00  2e-01  1e-15\n",
      " 2: -8.0479e-02 -1.9153e-01  1e-01  2e-17  7e-16\n",
      " 3: -9.3856e-02 -1.0048e-01  7e-03  3e-18  7e-16\n",
      " 4: -9.7464e-02 -9.8328e-02  9e-04  3e-18  6e-16\n",
      " 5: -9.7498e-02 -9.7509e-02  1e-05  4e-18  5e-16\n",
      " 6: -9.7500e-02 -9.7500e-02  1e-07  3e-18  9e-16\n",
      " 7: -9.7500e-02 -9.7500e-02  4e-09  2e-18  6e-16\n",
      "Optimal solution found.\n",
      "     pcost       dcost       gap    pres   dres\n",
      " 0: -4.0167e+01 -7.2288e-01  3e+02  2e+01  8e-16\n",
      " 1: -6.5091e-01 -7.1757e-01  3e+00  2e-01  1e-15\n",
      " 2: -2.9646e-01 -6.0708e-01  3e-01  3e-17  7e-16\n",
      " 3: -3.4539e-01 -3.6186e-01  2e-02  1e-17  8e-16\n",
      " 4: -3.5924e-01 -3.5941e-01  2e-04  9e-18  6e-16\n",
      " 5: -3.5938e-01 -3.5938e-01  2e-06  9e-18  7e-16\n",
      " 6: -3.5938e-01 -3.5938e-01  2e-08  8e-18  2e-15\n",
      "Optimal solution found.\n",
      "     pcost       dcost       gap    pres   dres\n",
      " 0: -4.0136e+01 -7.2950e-01  3e+02  2e+01  8e-16\n",
      " 1: -6.5283e-01 -7.2197e-01  3e+00  2e-01  8e-16\n",
      " 2: -2.9529e-01 -6.1142e-01  3e-01  2e-17  7e-16\n",
      " 3: -3.4346e-01 -3.5998e-01  2e-02  7e-18  8e-16\n",
      " 4: -3.5033e-01 -3.5148e-01  1e-03  1e-17  6e-16\n",
      " 5: -3.5040e-01 -3.5041e-01  1e-05  1e-17  8e-16\n",
      " 6: -3.5040e-01 -3.5040e-01  2e-07  1e-17  5e-16\n",
      "Optimal solution found.\n",
      "     pcost       dcost       gap    pres   dres\n",
      " 0: -4.0136e+01 -7.2925e-01  3e+02  2e+01  6e-16\n",
      " 1: -6.5283e-01 -7.2198e-01  3e+00  2e-01  8e-16\n",
      " 2: -2.9529e-01 -6.1144e-01  3e-01  2e-17  6e-16\n",
      " 3: -3.4346e-01 -3.5998e-01  2e-02  8e-18  9e-16\n",
      " 4: -3.5033e-01 -3.5148e-01  1e-03  9e-18  5e-16\n",
      " 5: -3.5040e-01 -3.5041e-01  1e-05  9e-18  8e-16\n",
      " 6: -3.5040e-01 -3.5040e-01  2e-07  9e-18  7e-16\n",
      "Optimal solution found.\n",
      "     pcost       dcost       gap    pres   dres\n",
      " 0: -4.0139e+01 -7.2826e-01  3e+02  2e+01  1e-15\n",
      " 1: -6.5286e-01 -7.2196e-01  3e+00  2e-01  1e-15\n",
      " 2: -2.9529e-01 -6.1142e-01  3e-01  2e-17  6e-16\n",
      " 3: -3.4346e-01 -3.5998e-01  2e-02  7e-18  7e-16\n",
      " 4: -3.5033e-01 -3.5148e-01  1e-03  9e-18  6e-16\n",
      " 5: -3.5040e-01 -3.5041e-01  1e-05  1e-17  7e-16\n",
      " 6: -3.5040e-01 -3.5040e-01  2e-07  7e-18  5e-16\n",
      "Optimal solution found.\n"
     ]
    },
    {
     "name": "stderr",
     "output_type": "stream",
     "text": [
      "\r",
      " 73%|███████▎  | 22/30 [00:05<00:02,  3.87it/s]"
     ]
    },
    {
     "name": "stdout",
     "output_type": "stream",
     "text": [
      "     pcost       dcost       gap    pres   dres\n",
      " 0: -4.0140e+01 -7.2818e-01  3e+02  2e+01  7e-16\n",
      " 1: -6.5285e-01 -7.2197e-01  3e+00  2e-01  9e-16\n",
      " 2: -2.9529e-01 -6.1143e-01  3e-01  2e-17  6e-16\n",
      " 3: -3.4346e-01 -3.5998e-01  2e-02  6e-18  8e-16\n",
      " 4: -3.5033e-01 -3.5148e-01  1e-03  8e-18  5e-16\n",
      " 5: -3.5040e-01 -3.5041e-01  1e-05  9e-18  6e-16\n",
      " 6: -3.5040e-01 -3.5040e-01  2e-07  9e-18  7e-16\n",
      "Optimal solution found.\n",
      "     pcost       dcost       gap    pres   dres\n",
      " 0: -3.9933e+01 -7.3807e-01  3e+02  2e+01  1e-15\n",
      " 1: -6.5361e-01 -7.3008e-01  4e+00  2e-01  1e-15\n",
      " 2: -2.9101e-01 -6.1859e-01  3e-01  3e-17  7e-16\n",
      " 3: -3.3201e-01 -3.4978e-01  2e-02  7e-18  7e-16\n",
      " 4: -3.3235e-01 -3.3268e-01  3e-04  1e-17  6e-16\n",
      " 5: -3.3243e-01 -3.3243e-01  4e-06  3e-17  5e-16\n",
      " 6: -3.3243e-01 -3.3243e-01  2e-07  7e-18  6e-16\n",
      "Optimal solution found.\n",
      "     pcost       dcost       gap    pres   dres\n",
      " 0: -4.0063e+01 -7.3280e-01  3e+02  2e+01  9e-16\n",
      " 1: -6.5377e-01 -7.2611e-01  4e+00  2e-01  1e-15\n",
      " 2: -2.9347e-01 -6.1523e-01  3e-01  3e-17  6e-16\n",
      " 3: -3.3897e-01 -3.5464e-01  2e-02  7e-18  8e-16\n",
      " 4: -3.4101e-01 -3.4175e-01  7e-04  1e-17  4e-16\n",
      " 5: -3.4141e-01 -3.4142e-01  8e-06  1e-17  6e-16\n",
      " 6: -3.4141e-01 -3.4141e-01  4e-07  8e-18  7e-16\n",
      " 7: -3.4141e-01 -3.4141e-01  2e-07  2e-17  5e-16\n",
      "Optimal solution found.\n",
      "     pcost       dcost       gap    pres   dres\n",
      " 0: -4.0168e+01 -7.2260e-01  3e+02  2e+01  1e-15\n",
      " 1: -6.5092e-01 -7.1756e-01  3e+00  2e-01  1e-15\n",
      " 2: -2.9647e-01 -6.0707e-01  3e-01  5e-17  6e-16\n",
      " 3: -3.4539e-01 -3.6186e-01  2e-02  7e-18  9e-16\n",
      " 4: -3.5924e-01 -3.5941e-01  2e-04  2e-17  7e-16\n",
      " 5: -3.5938e-01 -3.5938e-01  2e-06  2e-17  6e-16\n",
      " 6: -3.5938e-01 -3.5938e-01  2e-08  9e-18  2e-15\n",
      "Optimal solution found.\n",
      "     pcost       dcost       gap    pres   dres\n",
      " 0: -4.0137e+01 -7.2889e-01  3e+02  2e+01  9e-16\n",
      " 1: -6.5284e-01 -7.2198e-01  3e+00  2e-01  1e-15\n",
      " 2: -2.9529e-01 -6.1143e-01  3e-01  2e-17  6e-16\n",
      " 3: -3.4346e-01 -3.5998e-01  2e-02  3e-17  9e-16\n",
      " 4: -3.5033e-01 -3.5148e-01  1e-03  8e-18  7e-16\n",
      " 5: -3.5040e-01 -3.5041e-01  1e-05  1e-17  8e-16\n",
      " 6: -3.5040e-01 -3.5040e-01  2e-07  3e-17  7e-16\n",
      "Optimal solution found.\n",
      "     pcost       dcost       gap    pres   dres\n",
      " 0: -3.9764e+01 -7.3970e-01  3e+02  2e+01  9e-16\n",
      " 1: -6.5249e-01 -7.3377e-01  4e+00  2e-01  1e-15\n",
      " 2: -2.8798e-01 -6.2142e-01  3e-01  2e-17  6e-16\n",
      " 3: -3.2309e-01 -3.4889e-01  3e-02  7e-18  7e-16\n",
      " 4: -3.2341e-01 -3.2373e-01  3e-04  7e-18  6e-16\n",
      " 5: -3.2344e-01 -3.2345e-01  4e-06  7e-18  7e-16\n",
      " 6: -3.2344e-01 -3.2344e-01  5e-07  7e-18  4e-16\n",
      " 7: -3.2344e-01 -3.2344e-01  4e-07  7e-18  4e-16\n",
      " 8: -3.2344e-01 -3.2344e-01  2e-07  2e-17  5e-16\n",
      "Optimal solution found.\n",
      "     pcost       dcost       gap    pres   dres\n",
      " 0: -4.0138e+01 -7.2864e-01  3e+02  2e+01  1e-15\n",
      " 1: -6.5285e-01 -7.2196e-01  3e+00  2e-01  1e-15\n",
      " 2: -2.9529e-01 -6.1142e-01  3e-01  2e-17  7e-16\n",
      " 3: -3.4346e-01 -3.5998e-01  2e-02  1e-17  7e-16\n",
      " 4: -3.5033e-01 -3.5148e-01  1e-03  2e-17  6e-16\n",
      " 5: -3.5040e-01 -3.5041e-01  1e-05  3e-17  6e-16\n",
      " 6: -3.5040e-01 -3.5040e-01  2e-07  8e-18  6e-16\n",
      "Optimal solution found.\n",
      "     pcost       dcost       gap    pres   dres\n",
      " 0: -4.0138e+01 -7.2864e-01  3e+02  2e+01  9e-16\n",
      " 1: -6.5285e-01 -7.2197e-01  3e+00  2e-01  1e-15\n",
      " 2: -2.9529e-01 -6.1143e-01  3e-01  4e-17  6e-16\n",
      " 3: -3.4346e-01 -3.5998e-01  2e-02  7e-18  8e-16\n",
      " 4: -3.5033e-01 -3.5148e-01  1e-03  8e-18  6e-16\n",
      " 5: -3.5040e-01 -3.5041e-01  1e-05  8e-18  8e-16\n",
      " 6: -3.5040e-01 -3.5040e-01  2e-07  7e-18  7e-16\n",
      "Optimal solution found.\n",
      "     pcost       dcost       gap    pres   dres\n",
      " 0: -3.9538e+01 -7.4332e-01  4e+02  2e+01  8e-16\n",
      " 1: -6.5029e-01 -7.3725e-01  4e+00  2e-01  9e-16\n",
      " 2: -2.8439e-01 -6.2380e-01  3e-01  2e-17  6e-16\n",
      " 3: -3.1416e-01 -3.4301e-01  3e-02  8e-18  8e-16\n",
      " 4: -3.1445e-01 -3.1476e-01  3e-04  6e-18  5e-16\n",
      " 5: -3.1446e-01 -3.1446e-01  4e-06  8e-18  7e-16\n",
      " 6: -3.1446e-01 -3.1446e-01  5e-07  7e-18  5e-16\n",
      " 7: -3.1446e-01 -3.1446e-01  4e-07  7e-18  5e-16\n",
      " 8: -3.1446e-01 -3.1446e-01  1e-07  6e-18  4e-16\n",
      "Optimal solution found.\n",
      "     pcost       dcost       gap    pres   dres\n",
      " 0: -4.0140e+01 -7.2800e-01  3e+02  2e+01  1e-15\n",
      " 1: -6.5286e-01 -7.2195e-01  3e+00  2e-01  1e-15\n",
      " 2: -2.9530e-01 -6.1141e-01  3e-01  2e-17  7e-16\n",
      " 3: -3.4347e-01 -3.5998e-01  2e-02  7e-18  7e-16\n",
      " 4: -3.5033e-01 -3.5148e-01  1e-03  1e-17  6e-16\n",
      " 5: -3.5040e-01 -3.5041e-01  1e-05  8e-18  8e-16\n",
      " 6: -3.5040e-01 -3.5040e-01  2e-07  8e-18  7e-16\n",
      "Optimal solution found.\n",
      "     pcost       dcost       gap    pres   dres\n",
      " 0: -4.0063e+01 -7.3284e-01  3e+02  2e+01  9e-16\n",
      " 1: -6.5377e-01 -7.2610e-01  4e+00  2e-01  1e-15\n",
      " 2: -2.9347e-01 -6.1523e-01  3e-01  2e-17  6e-16\n",
      " 3: -3.3897e-01 -3.5464e-01  2e-02  7e-18  7e-16\n",
      " 4: -3.4101e-01 -3.4175e-01  7e-04  9e-18  4e-16\n",
      " 5: -3.4141e-01 -3.4142e-01  8e-06  2e-17  6e-16\n",
      " 6: -3.4141e-01 -3.4141e-01  4e-07  2e-17  6e-16\n",
      " 7: -3.4141e-01 -3.4141e-01  1e-07  2e-17  6e-16\n",
      "Optimal solution found.\n",
      "     pcost       dcost       gap    pres   dres\n",
      " 0: -4.0059e+01 -7.3408e-01  3e+02  2e+01  1e-15\n",
      " 1: -6.5374e-01 -7.2614e-01  4e+00  2e-01  1e-15\n",
      " 2: -2.9346e-01 -6.1526e-01  3e-01  2e-17  6e-16\n",
      " 3: -3.3897e-01 -3.5464e-01  2e-02  2e-17  6e-16\n",
      " 4: -3.4101e-01 -3.4175e-01  7e-04  9e-18  5e-16\n",
      " 5: -3.4141e-01 -3.4142e-01  8e-06  9e-18  5e-16\n",
      " 6: -3.4141e-01 -3.4141e-01  5e-07  1e-17  7e-16\n",
      " 7: -3.4141e-01 -3.4141e-01  2e-07  1e-17  4e-16\n",
      "Optimal solution found.\n",
      "     pcost       dcost       gap    pres   dres\n",
      " 0: -4.0139e+01 -7.2854e-01  3e+02  2e+01  8e-16\n",
      " 1: -6.5285e-01 -7.2197e-01  3e+00  2e-01  9e-16\n",
      " 2: -2.9529e-01 -6.1143e-01  3e-01  2e-17  7e-16\n",
      " 3: -3.4346e-01 -3.5998e-01  2e-02  1e-17  7e-16\n",
      " 4: -3.5033e-01 -3.5148e-01  1e-03  1e-17  5e-16\n",
      " 5: -3.5040e-01 -3.5041e-01  1e-05  2e-17  6e-16\n",
      " 6: -3.5040e-01 -3.5040e-01  2e-07  8e-18  6e-16\n",
      "Optimal solution found.\n",
      "     pcost       dcost       gap    pres   dres\n",
      " 0: -4.0067e+01 -7.3161e-01  3e+02  2e+01  7e-16\n",
      " 1: -6.5378e-01 -7.2613e-01  4e+00  2e-01  1e-15\n",
      " 2: -2.9347e-01 -6.1525e-01  3e-01  3e-17  5e-16\n",
      " 3: -3.3897e-01 -3.5464e-01  2e-02  6e-18  8e-16\n",
      " 4: -3.4101e-01 -3.4175e-01  7e-04  9e-18  5e-16\n",
      " 5: -3.4141e-01 -3.4142e-01  8e-06  8e-18  6e-16\n",
      " 6: -3.4141e-01 -3.4141e-01  7e-07  1e-17  6e-16\n",
      " 7: -3.4141e-01 -3.4141e-01  6e-07  9e-18  4e-16\n",
      " 8: -3.4141e-01 -3.4141e-01  2e-07  8e-18  5e-16\n",
      "Optimal solution found.\n",
      "     pcost       dcost       gap    pres   dres\n",
      " 0: -3.9941e+01 -7.3554e-01  3e+02  2e+01  1e-15\n",
      " 1: -6.5366e-01 -7.3004e-01  4e+00  2e-01  1e-15\n",
      " 2: -2.9102e-01 -6.1856e-01  3e-01  2e-17  6e-16\n",
      " 3: -3.3201e-01 -3.4979e-01  2e-02  7e-18  7e-16\n",
      " 4: -3.3235e-01 -3.3268e-01  3e-04  9e-18  5e-16\n",
      " 5: -3.3243e-01 -3.3243e-01  4e-06  9e-18  5e-16\n",
      " 6: -3.3243e-01 -3.3243e-01  2e-07  1e-17  5e-16\n",
      "Optimal solution found.\n",
      "     pcost       dcost       gap    pres   dres\n",
      " 0: -4.0062e+01 -7.3312e-01  3e+02  2e+01  9e-16\n",
      " 1: -6.5376e-01 -7.2614e-01  4e+00  2e-01  1e-15\n",
      " 2: -2.9346e-01 -6.1526e-01  3e-01  2e-17  6e-16\n",
      " 3: -3.3897e-01 -3.5464e-01  2e-02  7e-18  7e-16\n",
      " 4: -3.4101e-01 -3.4175e-01  7e-04  8e-18  5e-16\n",
      " 5: -3.4141e-01 -3.4142e-01  8e-06  1e-17  5e-16\n",
      " 6: -3.4141e-01 -3.4141e-01  8e-07  8e-18  6e-16\n",
      " 7: -3.4141e-01 -3.4141e-01  7e-07  1e-17  6e-16\n",
      " 8: -3.4141e-01 -3.4141e-01  2e-07  8e-18  6e-16\n",
      "Optimal solution found.\n",
      "     pcost       dcost       gap    pres   dres\n",
      " 0: -4.0140e+01 -7.2818e-01  3e+02  2e+01  1e-15\n",
      " 1: -6.5286e-01 -7.2196e-01  3e+00  2e-01  1e-15\n",
      " 2: -2.9529e-01 -6.1142e-01  3e-01  8e-17  6e-16\n",
      " 3: -3.4346e-01 -3.5998e-01  2e-02  9e-18  8e-16\n",
      " 4: -3.5033e-01 -3.5148e-01  1e-03  1e-17  5e-16\n",
      " 5: -3.5040e-01 -3.5041e-01  1e-05  1e-17  6e-16\n",
      " 6: -3.5040e-01 -3.5040e-01  2e-07  2e-17  6e-16\n",
      "Optimal solution found.\n",
      "     pcost       dcost       gap    pres   dres\n",
      " 0: -3.9536e+01 -7.4385e-01  4e+02  2e+01  1e-15\n",
      " 1: -6.5028e-01 -7.3724e-01  4e+00  2e-01  1e-15\n",
      " 2: -2.8439e-01 -6.2380e-01  3e-01  2e-17  6e-16\n",
      " 3: -3.1416e-01 -3.4301e-01  3e-02  7e-18  8e-16\n",
      " 4: -3.1445e-01 -3.1476e-01  3e-04  2e-17  5e-16\n",
      " 5: -3.1446e-01 -3.1446e-01  3e-06  3e-17  9e-16\n",
      " 6: -3.1446e-01 -3.1446e-01  3e-07  1e-17  6e-16\n",
      "Optimal solution found.\n",
      "     pcost       dcost       gap    pres   dres\n",
      " 0: -4.0164e+01 -7.2407e-01  3e+02  2e+01  1e-15\n",
      " 1: -6.5089e-01 -7.1759e-01  3e+00  2e-01  1e-15\n",
      " 2: -2.9646e-01 -6.0709e-01  3e-01  2e-17  7e-16\n",
      " 3: -3.4539e-01 -3.6186e-01  2e-02  2e-17  7e-16\n",
      " 4: -3.5924e-01 -3.5941e-01  2e-04  2e-17  6e-16\n",
      " 5: -3.5938e-01 -3.5938e-01  2e-06  9e-18  6e-16\n",
      " 6: -3.5938e-01 -3.5938e-01  2e-08  8e-18  2e-15\n",
      "Optimal solution found.\n",
      "     pcost       dcost       gap    pres   dres\n",
      " 0: -3.9537e+01 -7.4358e-01  4e+02  2e+01  9e-16\n",
      " 1: -6.5028e-01 -7.3726e-01  4e+00  2e-01  1e-15\n",
      " 2: -2.8439e-01 -6.2381e-01  3e-01  5e-17  6e-16\n",
      " 3: -3.1416e-01 -3.4300e-01  3e-02  7e-18  9e-16\n",
      " 4: -3.1445e-01 -3.1476e-01  3e-04  1e-17  5e-16\n",
      " 5: -3.1446e-01 -3.1446e-01  4e-06  8e-18  7e-16\n",
      " 6: -3.1446e-01 -3.1446e-01  5e-07  2e-17  5e-16\n",
      " 7: -3.1446e-01 -3.1446e-01  5e-07  2e-17  6e-16\n",
      " 8: -3.1446e-01 -3.1446e-01  2e-07  7e-18  5e-16\n",
      "Optimal solution found.\n",
      "     pcost       dcost       gap    pres   dres\n",
      " 0: -4.0138e+01 -7.2871e-01  3e+02  2e+01  1e-15\n",
      " 1: -6.5284e-01 -7.2197e-01  3e+00  2e-01  1e-15\n",
      " 2: -2.9529e-01 -6.1142e-01  3e-01  4e-17  6e-16\n",
      " 3: -3.4346e-01 -3.5998e-01  2e-02  2e-17  9e-16\n",
      " 4: -3.5033e-01 -3.5148e-01  1e-03  2e-17  4e-16\n",
      " 5: -3.5040e-01 -3.5041e-01  1e-05  8e-18  9e-16\n",
      " 6: -3.5040e-01 -3.5040e-01  2e-07  8e-18  6e-16\n",
      "Optimal solution found.\n",
      "     pcost       dcost       gap    pres   dres\n",
      " 0: -4.0402e+01 -2.6336e+00  3e+02  2e+01  8e-16\n",
      " 1: -1.3186e+00 -2.6120e+00  4e+00  1e-01  9e-16\n",
      " 2: -1.0956e+00 -1.6321e+00  5e-01  4e-17  4e-16\n",
      " 3: -1.1937e+00 -1.2729e+00  8e-02  4e-17  5e-16\n",
      " 4: -1.1946e+00 -1.1955e+00  9e-04  3e-17  7e-16\n"
     ]
    },
    {
     "name": "stdout",
     "output_type": "stream",
     "text": [
      " 5: -1.1947e+00 -1.1947e+00  1e-05  3e-17  7e-16\n",
      " 6: -1.1947e+00 -1.1947e+00  3e-06  3e-17  5e-16\n",
      " 7: -1.1947e+00 -1.1947e+00  2e-06  3e-17  5e-16\n",
      " 8: -1.1947e+00 -1.1947e+00  3e-07  3e-17  6e-16\n",
      "Optimal solution found.\n",
      "     pcost       dcost       gap    pres   dres\n",
      " 0: -4.0629e+01 -2.5888e+00  3e+02  2e+01  9e-16\n",
      " 1: -1.3032e+00 -2.5669e+00  4e+00  1e-01  9e-16\n",
      " 2: -1.1262e+00 -1.5819e+00  5e-01  3e-17  4e-16\n",
      " 3: -1.2841e+00 -1.2944e+00  1e-02  3e-17  7e-16\n",
      " 4: -1.2915e+00 -1.2916e+00  1e-04  3e-17  6e-16\n",
      " 5: -1.2915e+00 -1.2915e+00  1e-06  3e-17  6e-16\n",
      "Optimal solution found.\n",
      "     pcost       dcost       gap    pres   dres\n",
      " 0: -4.0527e+01 -2.6200e+00  3e+02  2e+01  9e-16\n",
      " 1: -1.3159e+00 -2.5979e+00  4e+00  1e-01  8e-16\n",
      " 2: -1.1091e+00 -1.6188e+00  5e-01  5e-17  4e-16\n",
      " 3: -1.2258e+00 -1.3031e+00  8e-02  5e-17  6e-16\n",
      " 4: -1.2268e+00 -1.2280e+00  1e-03  6e-17  6e-16\n",
      " 5: -1.2270e+00 -1.2270e+00  2e-05  7e-17  7e-16\n",
      " 6: -1.2270e+00 -1.2270e+00  5e-06  3e-17  6e-16\n",
      " 7: -1.2270e+00 -1.2270e+00  5e-06  3e-17  5e-16\n",
      " 8: -1.2270e+00 -1.2270e+00  2e-06  3e-17  5e-16\n",
      " 9: -1.2270e+00 -1.2270e+00  9e-07  3e-17  4e-16\n",
      "Optimal solution found.\n",
      "     pcost       dcost       gap    pres   dres\n",
      " 0: -4.0528e+01 -2.6197e+00  3e+02  2e+01  1e-15\n",
      " 1: -1.3159e+00 -2.5979e+00  4e+00  1e-01  9e-16\n",
      " 2: -1.1091e+00 -1.6188e+00  5e-01  4e-17  5e-16\n",
      " 3: -1.2258e+00 -1.3031e+00  8e-02  6e-17  6e-16\n",
      " 4: -1.2268e+00 -1.2280e+00  1e-03  3e-17  5e-16\n",
      " 5: -1.2270e+00 -1.2270e+00  2e-05  3e-17  6e-16\n",
      " 6: -1.2270e+00 -1.2270e+00  5e-06  6e-17  6e-16\n",
      " 7: -1.2270e+00 -1.2270e+00  5e-06  6e-17  4e-16\n",
      " 8: -1.2270e+00 -1.2270e+00  2e-06  4e-17  4e-16\n",
      " 9: -1.2270e+00 -1.2270e+00  1e-06  3e-17  4e-16\n",
      "Optimal solution found.\n",
      "     pcost       dcost       gap    pres   dres\n",
      " 0: -4.0605e+01 -2.6043e+00  3e+02  2e+01  1e-15\n",
      " 1: -1.3108e+00 -2.5828e+00  4e+00  1e-01  1e-15\n",
      " 2: -1.1195e+00 -1.6021e+00  5e-01  7e-17  4e-16\n",
      " 3: -1.2579e+00 -1.3125e+00  5e-02  5e-17  5e-16\n",
      " 4: -1.2584e+00 -1.2607e+00  2e-03  9e-17  4e-16\n",
      " 5: -1.2592e+00 -1.2593e+00  3e-05  3e-17  7e-16\n",
      " 6: -1.2593e+00 -1.2593e+00  3e-06  2e-17  5e-16\n",
      " 7: -1.2593e+00 -1.2593e+00  2e-06  4e-17  4e-16\n",
      " 8: -1.2593e+00 -1.2593e+00  1e-07  5e-17  6e-16\n",
      "Optimal solution found.\n",
      "     pcost       dcost       gap    pres   dres\n",
      " 0: -4.0606e+01 -2.6038e+00  3e+02  2e+01  8e-16\n",
      " 1: -1.3108e+00 -2.5827e+00  4e+00  1e-01  1e-15\n",
      " 2: -1.1195e+00 -1.6021e+00  5e-01  4e-17  5e-16\n",
      " 3: -1.2579e+00 -1.3125e+00  5e-02  3e-17  6e-16\n",
      " 4: -1.2584e+00 -1.2607e+00  2e-03  3e-17  4e-16\n",
      " 5: -1.2592e+00 -1.2593e+00  3e-05  4e-17  7e-16\n",
      " 6: -1.2593e+00 -1.2593e+00  3e-06  4e-17  5e-16\n",
      " 7: -1.2593e+00 -1.2593e+00  2e-06  3e-17  4e-16\n",
      " 8: -1.2593e+00 -1.2593e+00  3e-07  3e-17  5e-16\n",
      "Optimal solution found.\n",
      "     pcost       dcost       gap    pres   dres\n",
      " 0: -4.0628e+01 -2.5892e+00  3e+02  2e+01  1e-15\n",
      " 1: -1.3032e+00 -2.5670e+00  4e+00  1e-01  1e-15\n",
      " 2: -1.1262e+00 -1.5819e+00  5e-01  3e-17  4e-16\n",
      " 3: -1.2841e+00 -1.2944e+00  1e-02  3e-17  6e-16\n",
      " 4: -1.2915e+00 -1.2916e+00  1e-04  3e-17  6e-16\n",
      " 5: -1.2915e+00 -1.2915e+00  1e-06  3e-17  6e-16\n",
      "Optimal solution found.\n",
      "     pcost       dcost       gap    pres   dres\n",
      " 0: -4.0603e+01 -2.6050e+00  3e+02  2e+01  9e-16\n",
      " 1: -1.3108e+00 -2.5828e+00  4e+00  1e-01  1e-15\n",
      " 2: -1.1195e+00 -1.6021e+00  5e-01  7e-17  4e-16\n",
      " 3: -1.2579e+00 -1.3125e+00  5e-02  3e-17  6e-16\n",
      " 4: -1.2584e+00 -1.2607e+00  2e-03  6e-17  5e-16\n",
      " 5: -1.2592e+00 -1.2593e+00  3e-05  5e-17  6e-16\n",
      " 6: -1.2593e+00 -1.2593e+00  4e-06  3e-17  7e-16\n",
      " 7: -1.2593e+00 -1.2593e+00  3e-06  3e-17  4e-16\n",
      " 8: -1.2593e+00 -1.2593e+00  5e-07  3e-17  6e-16\n",
      "Optimal solution found.\n",
      "     pcost       dcost       gap    pres   dres\n",
      " 0: -4.0606e+01 -2.6039e+00  3e+02  2e+01  8e-16\n",
      " 1: -1.3108e+00 -2.5828e+00  4e+00  1e-01  9e-16\n",
      " 2: -1.1195e+00 -1.6021e+00  5e-01  4e-17  4e-16\n",
      " 3: -1.2579e+00 -1.3125e+00  5e-02  3e-17  5e-16\n",
      " 4: -1.2584e+00 -1.2607e+00  2e-03  3e-17  3e-16\n",
      " 5: -1.2592e+00 -1.2593e+00  3e-05  3e-17  6e-16\n",
      " 6: -1.2593e+00 -1.2593e+00  6e-06  3e-17  6e-16\n",
      " 7: -1.2593e+00 -1.2593e+00  6e-06  3e-17  5e-16\n",
      " 8: -1.2593e+00 -1.2593e+00  2e-06  4e-17  4e-16\n",
      " 9: -1.2593e+00 -1.2593e+00  2e-06  4e-17  4e-16\n",
      "10: -1.2593e+00 -1.2593e+00  2e-06  3e-17  4e-16\n",
      "11: -1.2593e+00 -1.2593e+00  2e-06  3e-17  4e-16\n",
      "12: -1.2593e+00 -1.2593e+00  2e-07  3e-17  5e-16\n",
      "Optimal solution found.\n",
      "     pcost       dcost       gap    pres   dres\n",
      " 0: -4.0603e+01 -2.6049e+00  3e+02  2e+01  8e-16\n",
      " 1: -1.3108e+00 -2.5829e+00  4e+00  1e-01  9e-16\n",
      " 2: -1.1194e+00 -1.6021e+00  5e-01  3e-17  4e-16\n",
      " 3: -1.2579e+00 -1.3125e+00  5e-02  3e-17  5e-16\n",
      " 4: -1.2584e+00 -1.2607e+00  2e-03  3e-17  4e-16\n",
      " 5: -1.2592e+00 -1.2593e+00  3e-05  3e-17  6e-16\n",
      " 6: -1.2593e+00 -1.2593e+00  6e-06  3e-17  6e-16\n",
      " 7: -1.2593e+00 -1.2593e+00  6e-06  3e-17  5e-16\n",
      " 8: -1.2593e+00 -1.2593e+00  2e-06  3e-17  5e-16\n",
      " 9: -1.2593e+00 -1.2593e+00  2e-06  3e-17  4e-16\n",
      "10: -1.2593e+00 -1.2593e+00  2e-06  3e-17  4e-16\n",
      "11: -1.2593e+00 -1.2593e+00  2e-06  4e-17  4e-16\n",
      "12: -1.2593e+00 -1.2593e+00  2e-07  3e-17  6e-16\n",
      "Optimal solution found.\n",
      "     pcost       dcost       gap    pres   dres\n",
      " 0: -4.0633e+01 -2.5877e+00  3e+02  2e+01  8e-16\n",
      " 1: -1.3032e+00 -2.5669e+00  4e+00  1e-01  1e-15\n",
      " 2: -1.1262e+00 -1.5819e+00  5e-01  4e-17  5e-16\n",
      " 3: -1.2841e+00 -1.2944e+00  1e-02  3e-17  7e-16\n",
      " 4: -1.2915e+00 -1.2916e+00  1e-04  4e-17  6e-16\n",
      " 5: -1.2915e+00 -1.2915e+00  1e-06  4e-17  6e-16\n",
      "Optimal solution found.\n",
      "     pcost       dcost       gap    pres   dres\n",
      " 0: -4.0403e+01 -2.6334e+00  3e+02  2e+01  8e-16\n",
      " 1: -1.3186e+00 -2.6119e+00  4e+00  1e-01  9e-16\n",
      " 2: -1.0957e+00 -1.6321e+00  5e-01  5e-17  4e-16\n",
      " 3: -1.1937e+00 -1.2729e+00  8e-02  4e-17  6e-16\n",
      " 4: -1.1946e+00 -1.1955e+00  9e-04  6e-17  6e-16\n",
      " 5: -1.1947e+00 -1.1947e+00  1e-05  3e-17  7e-16\n",
      " 6: -1.1947e+00 -1.1947e+00  2e-06  3e-17  6e-16\n",
      " 7: -1.1947e+00 -1.1947e+00  2e-06  3e-17  4e-16\n",
      " 8: -1.1947e+00 -1.1947e+00  2e-07  3e-17  6e-16\n",
      "Optimal solution found.\n",
      "     pcost       dcost       gap    pres   dres\n",
      " 0: -4.0401e+01 -2.6341e+00  3e+02  2e+01  8e-16\n",
      " 1: -1.3186e+00 -2.6121e+00  4e+00  1e-01  1e-15\n",
      " 2: -1.0956e+00 -1.6322e+00  5e-01  4e-17  4e-16\n",
      " 3: -1.1937e+00 -1.2729e+00  8e-02  3e-17  7e-16\n",
      " 4: -1.1946e+00 -1.1955e+00  9e-04  3e-17  8e-16\n",
      " 5: -1.1947e+00 -1.1947e+00  1e-05  3e-17  6e-16\n",
      " 6: -1.1947e+00 -1.1947e+00  5e-06  3e-17  4e-16\n",
      " 7: -1.1947e+00 -1.1947e+00  4e-06  3e-17  4e-16\n",
      " 8: -1.1947e+00 -1.1947e+00  2e-06  3e-17  4e-16\n",
      " 9: -1.1947e+00 -1.1947e+00  7e-07  3e-17  4e-16\n",
      "Optimal solution found.\n",
      "     pcost       dcost       gap    pres   dres\n",
      " 0: -4.0630e+01 -2.5886e+00  3e+02  2e+01  1e-15\n",
      " 1: -1.3032e+00 -2.5669e+00  4e+00  1e-01  9e-16\n",
      " 2: -1.1262e+00 -1.5819e+00  5e-01  3e-17  4e-16\n",
      " 3: -1.2841e+00 -1.2944e+00  1e-02  7e-17  7e-16\n",
      " 4: -1.2915e+00 -1.2916e+00  1e-04  8e-17  6e-16\n",
      " 5: -1.2915e+00 -1.2915e+00  1e-06  3e-17  8e-16\n",
      "Optimal solution found.\n",
      "     pcost       dcost       gap    pres   dres\n",
      " 0: -4.0625e+01 -2.5902e+00  3e+02  2e+01  1e-15\n",
      " 1: -1.3032e+00 -2.5670e+00  4e+00  1e-01  1e-15\n",
      " 2: -1.1262e+00 -1.5819e+00  5e-01  6e-17  4e-16\n",
      " 3: -1.2841e+00 -1.2944e+00  1e-02  3e-17  6e-16\n",
      " 4: -1.2915e+00 -1.2916e+00  1e-04  3e-17  5e-16\n",
      " 5: -1.2915e+00 -1.2915e+00  1e-06  4e-17  5e-16\n",
      "Optimal solution found.\n",
      "     pcost       dcost       gap    pres   dres\n",
      " 0: -4.0606e+01 -2.6038e+00  3e+02  2e+01  1e-15\n",
      " 1: -1.3108e+00 -2.5828e+00  4e+00  1e-01  1e-15\n",
      " 2: -1.1195e+00 -1.6021e+00  5e-01  5e-17  5e-16\n",
      " 3: -1.2579e+00 -1.3125e+00  5e-02  3e-17  6e-16\n",
      " 4: -1.2584e+00 -1.2607e+00  2e-03  4e-17  4e-16\n",
      " 5: -1.2592e+00 -1.2593e+00  3e-05  8e-17  7e-16\n",
      " 6: -1.2593e+00 -1.2593e+00  3e-06  7e-17  7e-16\n",
      " 7: -1.2593e+00 -1.2593e+00  2e-06  3e-17  5e-16\n",
      " 8: -1.2593e+00 -1.2593e+00  3e-07  3e-17  6e-16\n",
      "Optimal solution found.\n",
      "     pcost       dcost       gap    pres   dres\n",
      " 0: -4.0530e+01 -2.6193e+00  3e+02  2e+01  1e-15\n",
      " 1: -1.3159e+00 -2.5979e+00  4e+00  1e-01  1e-15\n",
      " 2: -1.1091e+00 -1.6188e+00  5e-01  4e-17  4e-16\n",
      " 3: -1.2258e+00 -1.3031e+00  8e-02  3e-17  6e-16\n",
      " 4: -1.2268e+00 -1.2280e+00  1e-03  7e-17  5e-16\n",
      " 5: -1.2270e+00 -1.2270e+00  2e-05  9e-17  6e-16\n",
      " 6: -1.2270e+00 -1.2270e+00  3e-06  3e-17  5e-16\n",
      " 7: -1.2270e+00 -1.2270e+00  2e-06  2e-16  4e-16\n",
      " 8: -1.2270e+00 -1.2270e+00  9e-07  1e-16  5e-16\n",
      "Optimal solution found.\n",
      "     pcost       dcost       gap    pres   dres\n",
      " 0: -4.0402e+01 -2.6337e+00  3e+02  2e+01  9e-16\n",
      " 1: -1.3186e+00 -2.6120e+00  4e+00  1e-01  1e-15\n",
      " 2: -1.0956e+00 -1.6322e+00  5e-01  1e-16  4e-16\n",
      " 3: -1.1937e+00 -1.2729e+00  8e-02  6e-17  5e-16\n",
      " 4: -1.1946e+00 -1.1955e+00  9e-04  9e-17  1e-15\n",
      " 5: -1.1947e+00 -1.1947e+00  1e-05  7e-17  7e-16\n",
      " 6: -1.1947e+00 -1.1947e+00  5e-06  3e-17  5e-16\n",
      " 7: -1.1947e+00 -1.1947e+00  4e-06  3e-17  4e-16\n",
      " 8: -1.1947e+00 -1.1947e+00  2e-06  3e-17  4e-16\n",
      " 9: -1.1947e+00 -1.1947e+00  7e-07  6e-17  5e-16\n",
      "Optimal solution found.\n",
      "     pcost       dcost       gap    pres   dres\n",
      " 0: -4.0603e+01 -2.6052e+00  3e+02  2e+01  1e-15\n",
      " 1: -1.3108e+00 -2.5829e+00  4e+00  1e-01  1e-15\n",
      " 2: -1.1194e+00 -1.6021e+00  5e-01  3e-17  5e-16\n",
      " 3: -1.2579e+00 -1.3125e+00  5e-02  3e-17  6e-16\n",
      " 4: -1.2584e+00 -1.2607e+00  2e-03  6e-17  4e-16\n",
      " 5: -1.2592e+00 -1.2593e+00  3e-05  1e-16  6e-16\n",
      " 6: -1.2593e+00 -1.2593e+00  6e-06  3e-17  5e-16\n",
      " 7: -1.2593e+00 -1.2593e+00  6e-06  4e-17  4e-16\n",
      " 8: -1.2593e+00 -1.2593e+00  2e-06  4e-17  6e-16\n",
      " 9: -1.2593e+00 -1.2593e+00  2e-06  3e-17  5e-16\n",
      "10: -1.2593e+00 -1.2593e+00  2e-06  6e-17  5e-16\n",
      "11: -1.2593e+00 -1.2593e+00  2e-06  5e-17  4e-16\n"
     ]
    },
    {
     "name": "stderr",
     "output_type": "stream",
     "text": [
      "\r",
      " 77%|███████▋  | 23/30 [00:05<00:01,  3.68it/s]"
     ]
    },
    {
     "name": "stdout",
     "output_type": "stream",
     "text": [
      "12: -1.2593e+00 -1.2593e+00  2e-07  6e-17  7e-16\n",
      "Optimal solution found.\n",
      "     pcost       dcost       gap    pres   dres\n",
      " 0: -3.9992e+01 -2.6610e+00  4e+02  2e+01  7e-16\n",
      " 1: -1.3166e+00 -2.6378e+00  4e+00  2e-01  1e-15\n",
      " 2: -1.0606e+00 -1.6503e+00  6e-01  4e-17  5e-16\n",
      " 3: -1.1294e+00 -1.1905e+00  6e-02  3e-17  6e-16\n",
      " 4: -1.1301e+00 -1.1307e+00  6e-04  3e-17  7e-16\n",
      " 5: -1.1301e+00 -1.1301e+00  1e-05  4e-17  6e-16\n",
      " 6: -1.1301e+00 -1.1301e+00  3e-06  3e-17  3e-16\n",
      " 7: -1.1301e+00 -1.1301e+00  1e-06  3e-17  4e-16\n",
      "Optimal solution found.\n",
      "     pcost       dcost       gap    pres   dres\n",
      " 0: -4.0226e+01 -2.6466e+00  3e+02  2e+01  8e-16\n",
      " 1: -1.3188e+00 -2.6253e+00  4e+00  2e-01  1e-15\n",
      " 2: -1.0793e+00 -1.6426e+00  6e-01  3e-17  5e-16\n",
      " 3: -1.1616e+00 -1.2332e+00  7e-02  3e-17  6e-16\n",
      " 4: -1.1624e+00 -1.1631e+00  7e-04  3e-17  6e-16\n",
      " 5: -1.1624e+00 -1.1624e+00  1e-05  3e-17  1e-15\n",
      " 6: -1.1624e+00 -1.1624e+00  2e-06  3e-17  7e-16\n",
      " 7: -1.1624e+00 -1.1624e+00  1e-06  3e-17  5e-16\n",
      " 8: -1.1624e+00 -1.1624e+00  3e-07  4e-17  5e-16\n",
      "Optimal solution found.\n",
      "     pcost       dcost       gap    pres   dres\n",
      " 0: -4.0604e+01 -2.6048e+00  3e+02  2e+01  1e-15\n",
      " 1: -1.3108e+00 -2.5829e+00  4e+00  1e-01  1e-15\n",
      " 2: -1.1194e+00 -1.6021e+00  5e-01  4e-17  4e-16\n",
      " 3: -1.2579e+00 -1.3125e+00  5e-02  4e-17  6e-16\n",
      " 4: -1.2584e+00 -1.2607e+00  2e-03  4e-17  4e-16\n",
      " 5: -1.2592e+00 -1.2593e+00  3e-05  1e-16  8e-16\n",
      " 6: -1.2593e+00 -1.2593e+00  6e-06  1e-16  5e-16\n",
      " 7: -1.2593e+00 -1.2593e+00  6e-06  1e-16  5e-16\n",
      " 8: -1.2593e+00 -1.2593e+00  2e-06  9e-17  5e-16\n",
      " 9: -1.2593e+00 -1.2593e+00  2e-06  5e-17  5e-16\n",
      "10: -1.2593e+00 -1.2593e+00  2e-06  1e-16  5e-16\n",
      "11: -1.2593e+00 -1.2593e+00  2e-06  4e-17  4e-16\n",
      "12: -1.2593e+00 -1.2593e+00  2e-07  5e-17  7e-16\n",
      "Optimal solution found.\n",
      "     pcost       dcost       gap    pres   dres\n",
      " 0: -4.0628e+01 -2.5890e+00  3e+02  2e+01  1e-15\n",
      " 1: -1.3032e+00 -2.5669e+00  4e+00  1e-01  1e-15\n",
      " 2: -1.1262e+00 -1.5819e+00  5e-01  3e-17  4e-16\n",
      " 3: -1.2841e+00 -1.2944e+00  1e-02  3e-17  8e-16\n",
      " 4: -1.2915e+00 -1.2916e+00  1e-04  4e-17  6e-16\n",
      " 5: -1.2915e+00 -1.2915e+00  1e-06  3e-17  7e-16\n",
      "Optimal solution found.\n",
      "     pcost       dcost       gap    pres   dres\n",
      " 0: -4.0607e+01 -2.6038e+00  3e+02  2e+01  9e-16\n",
      " 1: -1.3108e+00 -2.5828e+00  4e+00  1e-01  1e-15\n",
      " 2: -1.1195e+00 -1.6021e+00  5e-01  6e-17  4e-16\n",
      " 3: -1.2579e+00 -1.3125e+00  5e-02  4e-17  6e-16\n",
      " 4: -1.2584e+00 -1.2607e+00  2e-03  1e-16  4e-16\n",
      " 5: -1.2592e+00 -1.2593e+00  3e-05  1e-16  8e-16\n",
      " 6: -1.2593e+00 -1.2593e+00  4e-06  3e-17  6e-16\n",
      " 7: -1.2593e+00 -1.2593e+00  4e-06  3e-17  4e-16\n",
      " 8: -1.2593e+00 -1.2593e+00  1e-06  4e-17  6e-16\n",
      " 9: -1.2593e+00 -1.2593e+00  1e-06  4e-17  5e-16\n",
      "Optimal solution found.\n",
      "     pcost       dcost       gap    pres   dres\n",
      " 0: -4.0525e+01 -2.6208e+00  3e+02  2e+01  9e-16\n",
      " 1: -1.3159e+00 -2.5979e+00  4e+00  1e-01  1e-15\n",
      " 2: -1.1091e+00 -1.6188e+00  5e-01  4e-17  4e-16\n",
      " 3: -1.2258e+00 -1.3031e+00  8e-02  7e-17  6e-16\n",
      " 4: -1.2268e+00 -1.2280e+00  1e-03  3e-17  5e-16\n",
      " 5: -1.2270e+00 -1.2270e+00  2e-05  3e-17  7e-16\n",
      " 6: -1.2270e+00 -1.2270e+00  5e-06  3e-17  5e-16\n",
      " 7: -1.2270e+00 -1.2270e+00  5e-06  3e-17  5e-16\n",
      " 8: -1.2270e+00 -1.2270e+00  2e-06  3e-17  4e-16\n",
      " 9: -1.2270e+00 -1.2270e+00  1e-06  3e-17  3e-16\n",
      "Optimal solution found.\n",
      "     pcost       dcost       gap    pres   dres\n",
      " 0: -4.2278e+01 -9.3489e+00  3e+02  2e+01  1e-15\n",
      " 1: -3.7082e+00 -9.1300e+00  5e+00  2e-15  9e-16\n",
      " 2: -4.3332e+00 -4.6673e+00  3e-01  2e-16  7e-16\n",
      " 3: -4.5236e+00 -4.5690e+00  5e-02  1e-16  5e-16\n",
      " 4: -4.5254e+00 -4.5260e+00  7e-04  2e-16  6e-16\n",
      " 5: -4.5255e+00 -4.5255e+00  2e-05  2e-16  6e-16\n",
      " 6: -4.5255e+00 -4.5255e+00  9e-06  9e-17  5e-16\n",
      " 7: -4.5255e+00 -4.5255e+00  8e-06  1e-16  4e-16\n",
      " 8: -4.5255e+00 -4.5255e+00  8e-06  1e-16  5e-16\n",
      " 9: -4.5255e+00 -4.5255e+00  8e-06  1e-16  4e-16\n",
      "10: -4.5255e+00 -4.5255e+00  1e-06  9e-17  6e-16\n",
      "Optimal solution found.\n",
      "     pcost       dcost       gap    pres   dres\n",
      " 0: -4.2199e+01 -9.4056e+00  3e+02  2e+01  8e-16\n",
      " 1: -3.7087e+00 -9.1850e+00  6e+00  1e-02  9e-16\n",
      " 2: -4.2781e+00 -4.6156e+00  3e-01  6e-04  6e-16\n",
      " 3: -4.4082e+00 -4.4210e+00  1e-02  1e-05  5e-16\n",
      " 4: -4.4094e+00 -4.4096e+00  1e-04  1e-07  5e-16\n",
      " 5: -4.4094e+00 -4.4095e+00  2e-05  2e-08  5e-16\n",
      " 6: -4.4094e+00 -4.4095e+00  2e-05  1e-08  4e-16\n",
      " 7: -4.4095e+00 -4.4095e+00  1e-05  4e-09  3e-16\n",
      " 8: -4.4095e+00 -4.4095e+00  4e-06  8e-10  4e-16\n",
      "Optimal solution found.\n",
      "     pcost       dcost       gap    pres   dres\n",
      " 0: -4.2202e+01 -9.4044e+00  3e+02  2e+01  8e-16\n",
      " 1: -3.7087e+00 -9.1847e+00  6e+00  1e-02  1e-15\n",
      " 2: -4.2781e+00 -4.6156e+00  3e-01  6e-04  7e-16\n",
      " 3: -4.4082e+00 -4.4210e+00  1e-02  1e-05  5e-16\n",
      " 4: -4.4094e+00 -4.4096e+00  1e-04  1e-07  5e-16\n",
      " 5: -4.4095e+00 -4.4095e+00  1e-05  1e-08  5e-16\n",
      " 6: -4.4095e+00 -4.4095e+00  1e-05  6e-09  4e-16\n",
      " 7: -4.4095e+00 -4.4095e+00  6e-06  2e-09  4e-16\n",
      " 8: -4.4095e+00 -4.4095e+00  2e-06  7e-10  5e-16\n",
      "Optimal solution found.\n",
      "     pcost       dcost       gap    pres   dres\n",
      " 0: -4.2301e+01 -9.2900e+00  3e+02  2e+01  9e-16\n",
      " 1: -3.7215e+00 -9.0712e+00  5e+00  3e-15  1e-15\n",
      " 2: -4.3534e+00 -4.6859e+00  3e-01  2e-16  6e-16\n",
      " 3: -4.6386e+00 -4.6422e+00  4e-03  2e-16  7e-16\n",
      " 4: -4.6415e+00 -4.6415e+00  4e-05  1e-16  6e-16\n",
      " 5: -4.6415e+00 -4.6415e+00  4e-07  1e-16  8e-16\n",
      "Optimal solution found.\n",
      "     pcost       dcost       gap    pres   dres\n",
      " 0: -4.2063e+01 -9.4606e+00  3e+02  2e+01  9e-16\n",
      " 1: -3.7196e+00 -9.2370e+00  6e+00  3e-02  1e-15\n",
      " 2: -4.1992e+00 -4.5407e+00  4e-01  2e-03  6e-16\n",
      " 3: -4.2869e+00 -4.2994e+00  1e-02  4e-05  4e-16\n",
      " 4: -4.2933e+00 -4.2935e+00  3e-04  8e-07  6e-16\n",
      " 5: -4.2934e+00 -4.2935e+00  9e-05  2e-07  4e-16\n",
      " 6: -4.2934e+00 -4.2934e+00  4e-05  6e-09  5e-16\n",
      " 7: -4.2934e+00 -4.2934e+00  8e-06  3e-10  5e-16\n",
      " 8: -4.2934e+00 -4.2934e+00  2e-06  6e-11  6e-16\n",
      "Optimal solution found.\n",
      "     pcost       dcost       gap    pres   dres\n",
      " 0: -4.1880e+01 -9.5105e+00  3e+02  2e+01  1e-15\n",
      " 1: -3.7230e+00 -9.2851e+00  6e+00  5e-02  1e-15\n",
      " 2: -4.1105e+00 -4.4513e+00  4e-01  2e-03  4e-16\n",
      " 3: -4.1720e+00 -4.1827e+00  1e-02  5e-05  4e-16\n",
      " 4: -4.1772e+00 -4.1775e+00  3e-04  1e-06  7e-16\n",
      " 5: -4.1773e+00 -4.1774e+00  9e-05  3e-07  4e-16\n",
      " 6: -4.1774e+00 -4.1774e+00  4e-05  1e-07  3e-16\n",
      " 7: -4.1774e+00 -4.1774e+00  2e-05  3e-08  5e-16\n",
      " 8: -4.1774e+00 -4.1774e+00  6e-06  1e-08  5e-16\n",
      " 9: -4.1774e+00 -4.1774e+00  3e-06  4e-09  4e-16\n",
      "Optimal solution found.\n",
      "     pcost       dcost       gap    pres   dres\n",
      " 0: -4.2069e+01 -9.4584e+00  3e+02  2e+01  1e-15\n",
      " 1: -3.7197e+00 -9.2367e+00  6e+00  3e-02  1e-15\n",
      " 2: -4.1993e+00 -4.5407e+00  4e-01  2e-03  6e-16\n",
      " 3: -4.2869e+00 -4.2994e+00  1e-02  4e-05  6e-16\n",
      " 4: -4.2933e+00 -4.2935e+00  3e-04  8e-07  5e-16\n",
      " 5: -4.2934e+00 -4.2935e+00  9e-05  2e-07  4e-16\n",
      " 6: -4.2934e+00 -4.2935e+00  4e-05  2e-16  5e-16\n",
      " 7: -4.2934e+00 -4.2934e+00  1e-05  2e-16  6e-16\n",
      " 8: -4.2934e+00 -4.2934e+00  2e-06  1e-16  5e-16\n",
      "Optimal solution found.\n",
      "     pcost       dcost       gap    pres   dres\n",
      " 0: -4.1883e+01 -9.5090e+00  3e+02  2e+01  1e-15\n",
      " 1: -3.7231e+00 -9.2844e+00  6e+00  5e-02  1e-15\n",
      " 2: -4.1106e+00 -4.4513e+00  4e-01  2e-03  4e-16\n",
      " 3: -4.1720e+00 -4.1827e+00  1e-02  5e-05  5e-16\n",
      " 4: -4.1773e+00 -4.1775e+00  2e-04  9e-07  6e-16\n",
      " 5: -4.1774e+00 -4.1774e+00  4e-05  2e-07  4e-16\n",
      " 6: -4.1774e+00 -4.1774e+00  2e-05  5e-08  3e-16\n",
      " 7: -4.1774e+00 -4.1774e+00  6e-06  1e-08  6e-16\n",
      " 8: -4.1774e+00 -4.1774e+00  2e-06  3e-09  7e-16\n",
      "Optimal solution found.\n",
      "     pcost       dcost       gap    pres   dres\n",
      " 0: -4.2197e+01 -9.4062e+00  3e+02  2e+01  1e-15\n",
      " 1: -3.7086e+00 -9.1852e+00  6e+00  1e-02  2e-15\n",
      " 2: -4.2780e+00 -4.6156e+00  3e-01  6e-04  6e-16\n",
      " 3: -4.4082e+00 -4.4210e+00  1e-02  1e-05  5e-16\n",
      " 4: -4.4094e+00 -4.4096e+00  2e-04  2e-07  5e-16\n",
      " 5: -4.4094e+00 -4.4095e+00  3e-05  3e-08  7e-16\n",
      " 6: -4.4094e+00 -4.4095e+00  3e-05  3e-08  7e-16\n",
      " 7: -4.4094e+00 -4.4095e+00  3e-05  1e-08  4e-16\n",
      " 8: -4.4094e+00 -4.4095e+00  2e-05  6e-09  4e-16\n"
     ]
    },
    {
     "name": "stderr",
     "output_type": "stream",
     "text": [
      "\r",
      " 80%|████████  | 24/30 [00:05<00:01,  3.66it/s]"
     ]
    },
    {
     "name": "stdout",
     "output_type": "stream",
     "text": [
      " 9: -4.4095e+00 -4.4095e+00  6e-06  8e-10  4e-16\n",
      "10: -4.4095e+00 -4.4095e+00  1e-06  2e-16  5e-16\n",
      "Optimal solution found.\n",
      "     pcost       dcost       gap    pres   dres\n",
      " 0: -4.1639e+01 -9.5590e+00  4e+02  2e+01  9e-16\n",
      " 1: -3.7186e+00 -9.3295e+00  7e+00  6e-02  1e-15\n",
      " 2: -4.0132e+00 -4.3518e+00  4e-01  3e-03  4e-16\n",
      " 3: -4.0580e+00 -4.0659e+00  8e-03  5e-05  5e-16\n",
      " 4: -4.0613e+00 -4.0614e+00  2e-04  9e-07  7e-16\n",
      " 5: -4.0613e+00 -4.0614e+00  5e-05  2e-07  5e-16\n",
      " 6: -4.0613e+00 -4.0614e+00  3e-05  8e-08  5e-16\n",
      " 7: -4.0613e+00 -4.0613e+00  5e-06  1e-08  4e-16\n",
      " 8: -4.0613e+00 -4.0613e+00  2e-06  5e-09  5e-16\n",
      "Optimal solution found.\n",
      "     pcost       dcost       gap    pres   dres\n",
      " 0: -4.2067e+01 -9.4590e+00  3e+02  2e+01  8e-16\n",
      " 1: -3.7197e+00 -9.2366e+00  6e+00  3e-02  9e-16\n",
      " 2: -4.1993e+00 -4.5407e+00  4e-01  2e-03  7e-16\n",
      " 3: -4.2869e+00 -4.2994e+00  1e-02  4e-05  5e-16\n",
      " 4: -4.2933e+00 -4.2935e+00  2e-04  6e-07  6e-16\n",
      " 5: -4.2934e+00 -4.2934e+00  5e-05  1e-07  4e-16\n",
      " 6: -4.2934e+00 -4.2934e+00  3e-05  3e-08  5e-16\n",
      " 7: -4.2934e+00 -4.2934e+00  7e-06  6e-09  5e-16\n",
      " 8: -4.2934e+00 -4.2934e+00  3e-06  2e-09  4e-16\n",
      "Optimal solution found.\n",
      "     pcost       dcost       gap    pres   dres\n",
      " 0: -4.2276e+01 -9.3497e+00  3e+02  2e+01  9e-16\n",
      " 1: -3.7082e+00 -9.1301e+00  5e+00  2e-15  1e-15\n",
      " 2: -4.3332e+00 -4.6673e+00  3e-01  2e-16  7e-16\n",
      " 3: -4.5236e+00 -4.5690e+00  5e-02  2e-16  5e-16\n",
      " 4: -4.5254e+00 -4.5260e+00  7e-04  1e-16  6e-16\n",
      " 5: -4.5255e+00 -4.5255e+00  2e-05  1e-16  7e-16\n",
      " 6: -4.5255e+00 -4.5255e+00  9e-06  9e-17  5e-16\n",
      " 7: -4.5255e+00 -4.5255e+00  9e-06  1e-16  4e-16\n",
      " 8: -4.5255e+00 -4.5255e+00  8e-06  1e-16  4e-16\n",
      " 9: -4.5255e+00 -4.5255e+00  8e-06  2e-16  4e-16\n",
      "10: -4.5255e+00 -4.5255e+00  1e-06  2e-16  6e-16\n",
      "Optimal solution found.\n",
      "     pcost       dcost       gap    pres   dres\n",
      " 0: -4.2276e+01 -9.3495e+00  3e+02  2e+01  1e-15\n",
      " 1: -3.7082e+00 -9.1299e+00  5e+00  2e-15  1e-15\n",
      " 2: -4.3332e+00 -4.6673e+00  3e-01  2e-16  8e-16\n",
      " 3: -4.5236e+00 -4.5690e+00  5e-02  1e-16  4e-16\n",
      " 4: -4.5254e+00 -4.5260e+00  7e-04  1e-16  7e-16\n",
      " 5: -4.5255e+00 -4.5255e+00  2e-05  1e-16  7e-16\n",
      " 6: -4.5255e+00 -4.5255e+00  7e-06  8e-17  5e-16\n",
      " 7: -4.5255e+00 -4.5255e+00  7e-06  1e-16  4e-16\n",
      " 8: -4.5255e+00 -4.5255e+00  5e-06  1e-16  3e-16\n",
      " 9: -4.5255e+00 -4.5255e+00  4e-06  8e-17  3e-16\n",
      "Optimal solution found.\n",
      "     pcost       dcost       gap    pres   dres\n",
      " 0: -4.2199e+01 -9.4055e+00  3e+02  2e+01  1e-15\n",
      " 1: -3.7087e+00 -9.1851e+00  6e+00  1e-02  8e-16\n",
      " 2: -4.2781e+00 -4.6156e+00  3e-01  6e-04  8e-16\n",
      " 3: -4.4082e+00 -4.4210e+00  1e-02  1e-05  5e-16\n",
      " 4: -4.4094e+00 -4.4096e+00  2e-04  2e-07  6e-16\n",
      " 5: -4.4094e+00 -4.4095e+00  3e-05  3e-08  6e-16\n",
      " 6: -4.4095e+00 -4.4095e+00  3e-05  3e-08  6e-16\n",
      " 7: -4.4095e+00 -4.4095e+00  2e-05  1e-08  4e-16\n",
      " 8: -4.4095e+00 -4.4095e+00  2e-05  6e-09  4e-16\n",
      " 9: -4.4095e+00 -4.4095e+00  7e-06  1e-09  6e-16\n",
      "10: -4.4095e+00 -4.4095e+00  2e-06  9e-11  5e-16\n",
      "Optimal solution found.\n",
      "     pcost       dcost       gap    pres   dres\n",
      " 0: -4.2277e+01 -9.3493e+00  3e+02  2e+01  1e-15\n",
      " 1: -3.7082e+00 -9.1301e+00  5e+00  3e-15  1e-15\n",
      " 2: -4.3332e+00 -4.6673e+00  3e-01  2e-16  7e-16\n",
      " 3: -4.5236e+00 -4.5690e+00  5e-02  9e-17  5e-16\n",
      " 4: -4.5254e+00 -4.5260e+00  7e-04  8e-17  6e-16\n",
      " 5: -4.5255e+00 -4.5255e+00  2e-05  3e-16  7e-16\n",
      " 6: -4.5255e+00 -4.5255e+00  1e-05  2e-16  5e-16\n",
      " 7: -4.5255e+00 -4.5255e+00  1e-05  8e-17  4e-16\n",
      " 8: -4.5255e+00 -4.5255e+00  1e-05  8e-17  5e-16\n",
      " 9: -4.5255e+00 -4.5255e+00  9e-06  1e-16  4e-16\n",
      "10: -4.5255e+00 -4.5255e+00  1e-06  2e-16  5e-16\n",
      "Optimal solution found.\n",
      "     pcost       dcost       gap    pres   dres\n",
      " 0: -4.2196e+01 -9.4063e+00  3e+02  2e+01  9e-16\n",
      " 1: -3.7087e+00 -9.1849e+00  6e+00  1e-02  9e-16\n",
      " 2: -4.2781e+00 -4.6156e+00  3e-01  6e-04  7e-16\n",
      " 3: -4.4082e+00 -4.4210e+00  1e-02  1e-05  4e-16\n",
      " 4: -4.4094e+00 -4.4096e+00  1e-04  1e-07  6e-16\n",
      " 5: -4.4094e+00 -4.4095e+00  2e-05  2e-08  5e-16\n",
      " 6: -4.4094e+00 -4.4095e+00  1e-05  1e-08  5e-16\n",
      " 7: -4.4094e+00 -4.4094e+00  6e-06  1e-16  3e-16\n",
      " 8: -4.4094e+00 -4.4094e+00  6e-07  8e-17  7e-16\n",
      "Optimal solution found.\n",
      "     pcost       dcost       gap    pres   dres\n",
      " 0: -4.2198e+01 -9.4060e+00  3e+02  2e+01  9e-16\n",
      " 1: -3.7086e+00 -9.1852e+00  6e+00  1e-02  8e-16\n",
      " 2: -4.2780e+00 -4.6156e+00  3e-01  6e-04  6e-16\n",
      " 3: -4.4082e+00 -4.4210e+00  1e-02  1e-05  6e-16\n",
      " 4: -4.4094e+00 -4.4096e+00  2e-04  2e-07  7e-16\n",
      " 5: -4.4094e+00 -4.4095e+00  3e-05  3e-08  6e-16\n",
      " 6: -4.4094e+00 -4.4095e+00  3e-05  3e-08  7e-16\n",
      " 7: -4.4094e+00 -4.4095e+00  3e-05  1e-08  5e-16\n",
      " 8: -4.4094e+00 -4.4095e+00  2e-05  7e-09  4e-16\n",
      " 9: -4.4095e+00 -4.4095e+00  1e-05  2e-09  5e-16\n",
      "10: -4.4095e+00 -4.4095e+00  5e-06  5e-10  4e-16\n",
      "11: -4.4095e+00 -4.4095e+00  2e-06  9e-11  5e-16\n",
      "Optimal solution found.\n",
      "     pcost       dcost       gap    pres   dres\n",
      " 0: -4.2276e+01 -9.3494e+00  3e+02  2e+01  1e-15\n",
      " 1: -3.7083e+00 -9.1299e+00  5e+00  3e-15  1e-15\n",
      " 2: -4.3332e+00 -4.6673e+00  3e-01  2e-16  7e-16\n",
      " 3: -4.5236e+00 -4.5690e+00  5e-02  1e-16  5e-16\n",
      " 4: -4.5254e+00 -4.5260e+00  7e-04  2e-16  6e-16\n",
      " 5: -4.5255e+00 -4.5255e+00  1e-05  1e-16  5e-16\n",
      " 6: -4.5255e+00 -4.5255e+00  6e-06  2e-16  5e-16\n",
      " 7: -4.5255e+00 -4.5255e+00  6e-06  1e-16  4e-16\n",
      " 8: -4.5255e+00 -4.5255e+00  5e-06  1e-16  5e-16\n",
      " 9: -4.5255e+00 -4.5255e+00  5e-06  1e-16  5e-16\n",
      "10: -4.5255e+00 -4.5255e+00  1e-06  9e-17  7e-16\n",
      "Optimal solution found.\n",
      "     pcost       dcost       gap    pres   dres\n",
      " 0: -4.2199e+01 -9.4056e+00  3e+02  2e+01  9e-16\n",
      " 1: -3.7087e+00 -9.1851e+00  6e+00  1e-02  1e-15\n",
      " 2: -4.2781e+00 -4.6156e+00  3e-01  6e-04  7e-16\n",
      " 3: -4.4082e+00 -4.4210e+00  1e-02  1e-05  6e-16\n",
      " 4: -4.4094e+00 -4.4096e+00  2e-04  2e-07  5e-16\n",
      " 5: -4.4094e+00 -4.4095e+00  3e-05  3e-08  5e-16\n",
      " 6: -4.4095e+00 -4.4095e+00  3e-05  3e-08  5e-16\n",
      " 7: -4.4095e+00 -4.4095e+00  2e-05  1e-08  4e-16\n",
      " 8: -4.4095e+00 -4.4095e+00  2e-05  6e-09  4e-16\n",
      " 9: -4.4095e+00 -4.4095e+00  6e-06  9e-10  5e-16\n",
      "10: -4.4095e+00 -4.4095e+00  1e-06  9e-17  5e-16\n",
      "Optimal solution found.\n",
      "     pcost       dcost       gap    pres   dres\n",
      " 0: -4.2280e+01 -9.3481e+00  3e+02  2e+01  8e-16\n",
      " 1: -3.7083e+00 -9.1297e+00  5e+00  2e-15  9e-16\n",
      " 2: -4.3333e+00 -4.6673e+00  3e-01  2e-16  7e-16\n",
      " 3: -4.5236e+00 -4.5690e+00  5e-02  9e-17  5e-16\n",
      " 4: -4.5254e+00 -4.5260e+00  6e-04  1e-16  7e-16\n",
      " 5: -4.5255e+00 -4.5255e+00  1e-05  1e-16  6e-16\n",
      " 6: -4.5255e+00 -4.5255e+00  6e-06  8e-17  5e-16\n",
      " 7: -4.5255e+00 -4.5255e+00  6e-06  9e-17  5e-16\n",
      " 8: -4.5255e+00 -4.5255e+00  4e-06  2e-16  4e-16\n",
      "Optimal solution found.\n",
      "     pcost       dcost       gap    pres   dres\n",
      " 0: -4.2305e+01 -9.2889e+00  3e+02  2e+01  1e-15\n",
      " 1: -3.7215e+00 -9.0712e+00  5e+00  2e-15  1e-15\n",
      " 2: -4.3534e+00 -4.6859e+00  3e-01  2e-16  7e-16\n",
      " 3: -4.6386e+00 -4.6422e+00  4e-03  1e-16  7e-16\n",
      " 4: -4.6415e+00 -4.6415e+00  4e-05  1e-16  6e-16\n",
      " 5: -4.6415e+00 -4.6415e+00  4e-07  1e-16  8e-16\n",
      "Optimal solution found.\n",
      "     pcost       dcost       gap    pres   dres\n",
      " 0: -4.2302e+01 -9.2899e+00  3e+02  2e+01  1e-15\n",
      " 1: -3.7214e+00 -9.0714e+00  5e+00  2e-15  1e-15\n",
      " 2: -4.3534e+00 -4.6859e+00  3e-01  2e-16  7e-16\n",
      " 3: -4.6386e+00 -4.6422e+00  4e-03  1e-16  7e-16\n",
      " 4: -4.6415e+00 -4.6415e+00  4e-05  9e-17  6e-16\n",
      " 5: -4.6415e+00 -4.6415e+00  4e-07  1e-16  8e-16\n",
      "Optimal solution found.\n",
      "     pcost       dcost       gap    pres   dres\n",
      " 0: -4.2200e+01 -9.4054e+00  3e+02  2e+01  9e-16\n",
      " 1: -3.7087e+00 -9.1851e+00  6e+00  1e-02  1e-15\n",
      " 2: -4.2781e+00 -4.6156e+00  3e-01  6e-04  7e-16\n",
      " 3: -4.4082e+00 -4.4210e+00  1e-02  1e-05  5e-16\n",
      " 4: -4.4094e+00 -4.4096e+00  2e-04  2e-07  6e-16\n",
      " 5: -4.4094e+00 -4.4095e+00  3e-05  3e-08  5e-16\n",
      " 6: -4.4095e+00 -4.4095e+00  3e-05  3e-08  5e-16\n",
      " 7: -4.4095e+00 -4.4095e+00  2e-05  1e-08  4e-16\n",
      " 8: -4.4095e+00 -4.4095e+00  2e-05  6e-09  4e-16\n",
      " 9: -4.4095e+00 -4.4095e+00  6e-06  1e-09  6e-16\n",
      "10: -4.4095e+00 -4.4095e+00  2e-06  5e-11  5e-16\n",
      "Optimal solution found.\n",
      "     pcost       dcost       gap    pres   dres\n",
      " 0: -4.2199e+01 -9.4054e+00  3e+02  2e+01  8e-16\n",
      " 1: -3.7087e+00 -9.1849e+00  6e+00  1e-02  1e-15\n",
      " 2: -4.2781e+00 -4.6156e+00  3e-01  6e-04  7e-16\n",
      " 3: -4.4082e+00 -4.4210e+00  1e-02  1e-05  6e-16\n",
      " 4: -4.4094e+00 -4.4096e+00  1e-04  1e-07  6e-16\n",
      " 5: -4.4094e+00 -4.4095e+00  1e-05  1e-08  5e-16\n",
      " 6: -4.4095e+00 -4.4095e+00  1e-05  7e-09  4e-16\n",
      " 7: -4.4095e+00 -4.4095e+00  6e-06  2e-09  4e-16\n",
      " 8: -4.4095e+00 -4.4095e+00  4e-07  1e-16  6e-16\n",
      "Optimal solution found.\n",
      "     pcost       dcost       gap    pres   dres\n",
      " 0: -4.2301e+01 -9.2901e+00  3e+02  2e+01  9e-16\n",
      " 1: -3.7214e+00 -9.0713e+00  5e+00  3e-15  9e-16\n",
      " 2: -4.3534e+00 -4.6859e+00  3e-01  2e-16  7e-16\n",
      " 3: -4.6386e+00 -4.6422e+00  4e-03  1e-16  6e-16\n",
      " 4: -4.6415e+00 -4.6415e+00  4e-05  9e-17  6e-16\n",
      " 5: -4.6415e+00 -4.6415e+00  4e-07  2e-16  7e-16\n",
      "Optimal solution found.\n",
      "     pcost       dcost       gap    pres   dres\n",
      " 0: -4.8199e+01 -3.3849e+01  3e+02  1e+01  1e-15\n",
      " 1: -1.3314e+01 -3.1131e+01  2e+01  1e-15  9e-16\n",
      " 2: -1.5525e+01 -1.6538e+01  1e+00  2e-16  8e-16\n",
      " 3: -1.5826e+01 -1.5866e+01  4e-02  2e-16  6e-16\n",
      " 4: -1.5846e+01 -1.5847e+01  1e-03  4e-16  7e-16\n",
      " 5: -1.5846e+01 -1.5846e+01  2e-04  2e-16  7e-16\n",
      " 6: -1.5846e+01 -1.5846e+01  6e-05  2e-16  5e-16\n",
      " 7: -1.5846e+01 -1.5846e+01  1e-05  4e-16  6e-16\n",
      "Optimal solution found.\n",
      "     pcost       dcost       gap    pres   dres\n",
      " 0: -4.8322e+01 -3.3371e+01  3e+02  9e+00  1e-15\n",
      " 1: -1.3448e+01 -3.0692e+01  2e+01  1e-15  9e-16\n",
      " 2: -1.5783e+01 -1.6821e+01  1e+00  2e-16  7e-16\n",
      " 3: -1.6671e+01 -1.6682e+01  1e-02  8e-16  7e-16\n",
      " 4: -1.6680e+01 -1.6680e+01  1e-04  4e-16  6e-16\n",
      " 5: -1.6680e+01 -1.6680e+01  1e-06  3e-16  6e-16\n",
      "Optimal solution found.\n",
      "     pcost       dcost       gap    pres   dres\n",
      " 0: -4.8200e+01 -3.3849e+01  3e+02  1e+01  9e-16\n",
      " 1: -1.3314e+01 -3.1131e+01  2e+01  1e-15  9e-16\n",
      " 2: -1.5525e+01 -1.6538e+01  1e+00  4e-16  7e-16\n",
      " 3: -1.5826e+01 -1.5866e+01  4e-02  2e-16  7e-16\n",
      " 4: -1.5845e+01 -1.5847e+01  2e-03  8e-16  8e-16\n",
      " 5: -1.5846e+01 -1.5847e+01  1e-03  3e-16  6e-16\n",
      " 6: -1.5846e+01 -1.5846e+01  3e-04  6e-16  7e-16\n",
      " 7: -1.5846e+01 -1.5846e+01  1e-04  2e-16  6e-16\n",
      " 8: -1.5846e+01 -1.5846e+01  6e-05  6e-16  5e-16\n",
      " 9: -1.5846e+01 -1.5846e+01  4e-06  3e-16  7e-16\n",
      "Optimal solution found.\n",
      "     pcost       dcost       gap    pres   dres\n",
      " 0: -4.8285e+01 -3.3619e+01  3e+02  1e+01  1e-15\n",
      " 1: -1.3393e+01 -3.0922e+01  2e+01  1e-15  1e-15\n"
     ]
    },
    {
     "name": "stdout",
     "output_type": "stream",
     "text": [
      " 2: -1.5702e+01 -1.6748e+01  1e+00  9e-16  7e-16\n",
      " 3: -1.6257e+01 -1.6389e+01  1e-01  5e-16  5e-16\n",
      " 4: -1.6263e+01 -1.6264e+01  2e-03  4e-16  7e-16\n",
      " 5: -1.6263e+01 -1.6263e+01  2e-04  7e-16  8e-16\n",
      " 6: -1.6263e+01 -1.6263e+01  2e-04  2e-16  7e-16\n",
      " 7: -1.6263e+01 -1.6263e+01  2e-04  2e-16  5e-16\n",
      " 8: -1.6263e+01 -1.6263e+01  2e-04  4e-16  4e-16\n",
      " 9: -1.6263e+01 -1.6263e+01  4e-05  6e-16  6e-16\n",
      "10: -1.6263e+01 -1.6263e+01  1e-06  8e-16  8e-16\n",
      "Optimal solution found.\n",
      "     pcost       dcost       gap    pres   dres\n",
      " 0: -4.8294e+01 -3.3613e+01  3e+02  1e+01  1e-15\n",
      " 1: -1.3394e+01 -3.0919e+01  2e+01  2e-15  1e-15\n",
      " 2: -1.5703e+01 -1.6748e+01  1e+00  2e-16  7e-16\n",
      " 3: -1.6258e+01 -1.6389e+01  1e-01  2e-16  7e-16\n",
      " 4: -1.6263e+01 -1.6265e+01  2e-03  2e-16  7e-16\n",
      " 5: -1.6263e+01 -1.6263e+01  1e-04  3e-16  7e-16\n",
      " 6: -1.6263e+01 -1.6263e+01  5e-05  9e-16  5e-16\n",
      " 7: -1.6263e+01 -1.6263e+01  3e-05  6e-16  6e-16\n",
      " 8: -1.6263e+01 -1.6263e+01  2e-05  4e-16  5e-16\n",
      " 9: -1.6263e+01 -1.6263e+01  3e-06  7e-16  7e-16\n",
      "Optimal solution found.\n",
      "     pcost       dcost       gap    pres   dres\n",
      " 0: -4.8321e+01 -3.3370e+01  3e+02  9e+00  1e-15\n",
      " 1: -1.3448e+01 -3.0692e+01  2e+01  1e-15  1e-15\n",
      " 2: -1.5783e+01 -1.6821e+01  1e+00  3e-16  7e-16\n",
      " 3: -1.6671e+01 -1.6682e+01  1e-02  2e-16  7e-16\n",
      " 4: -1.6680e+01 -1.6680e+01  1e-04  4e-16  7e-16\n",
      " 5: -1.6680e+01 -1.6680e+01  1e-06  5e-16  7e-16\n",
      "Optimal solution found.\n",
      "     pcost       dcost       gap    pres   dres\n",
      " 0: -4.8288e+01 -3.3618e+01  3e+02  1e+01  1e-15\n",
      " 1: -1.3394e+01 -3.0922e+01  2e+01  1e-15  1e-15\n",
      " 2: -1.5702e+01 -1.6748e+01  1e+00  6e-16  7e-16\n",
      " 3: -1.6257e+01 -1.6389e+01  1e-01  1e-15  5e-16\n",
      " 4: -1.6263e+01 -1.6265e+01  2e-03  7e-16  6e-16\n",
      " 5: -1.6263e+01 -1.6263e+01  2e-04  2e-16  8e-16\n",
      " 6: -1.6263e+01 -1.6263e+01  2e-04  2e-16  6e-16\n",
      " 7: -1.6263e+01 -1.6263e+01  2e-04  4e-16  5e-16\n",
      " 8: -1.6263e+01 -1.6263e+01  2e-04  2e-16  5e-16\n",
      " 9: -1.6263e+01 -1.6263e+01  4e-05  4e-16  6e-16\n",
      "10: -1.6263e+01 -1.6263e+01  1e-06  2e-16  7e-16\n",
      "Optimal solution found.\n",
      "     pcost       dcost       gap    pres   dres\n",
      " 0: -4.8042e+01 -3.4072e+01  3e+02  1e+01  9e-16\n",
      " 1: -1.3210e+01 -3.1325e+01  2e+01  2e-15  1e-15\n",
      " 2: -1.5266e+01 -1.6216e+01  9e-01  5e-16  8e-16\n",
      " 3: -1.5412e+01 -1.5445e+01  3e-02  4e-16  4e-16\n",
      " 4: -1.5428e+01 -1.5430e+01  1e-03  2e-16  7e-16\n",
      " 5: -1.5429e+01 -1.5429e+01  3e-04  7e-16  8e-16\n",
      " 6: -1.5429e+01 -1.5429e+01  7e-05  4e-16  6e-16\n",
      " 7: -1.5429e+01 -1.5429e+01  2e-05  2e-16  5e-16\n",
      " 8: -1.5429e+01 -1.5429e+01  2e-06  2e-16  6e-16\n",
      "Optimal solution found.\n",
      "     pcost       dcost       gap    pres   dres\n",
      " 0: -4.8323e+01 -3.3370e+01  3e+02  9e+00  1e-15\n",
      " 1: -1.3448e+01 -3.0692e+01  2e+01  1e-15  1e-15\n",
      " 2: -1.5783e+01 -1.6821e+01  1e+00  5e-16  7e-16\n",
      " 3: -1.6671e+01 -1.6682e+01  1e-02  6e-16  7e-16\n",
      " 4: -1.6680e+01 -1.6680e+01  1e-04  3e-16  7e-16\n",
      " 5: -1.6680e+01 -1.6680e+01  1e-06  2e-16  6e-16\n",
      "Optimal solution found.\n",
      "     pcost       dcost       gap    pres   dres\n",
      " 0: -4.8203e+01 -3.3849e+01  3e+02  1e+01  8e-16\n",
      " 1: -1.3314e+01 -3.1132e+01  2e+01  1e-15  1e-15\n",
      " 2: -1.5525e+01 -1.6538e+01  1e+00  2e-16  8e-16\n",
      " 3: -1.5826e+01 -1.5866e+01  4e-02  2e-16  6e-16\n",
      " 4: -1.5846e+01 -1.5847e+01  1e-03  7e-16  5e-16\n",
      " 5: -1.5846e+01 -1.5847e+01  3e-04  6e-16  7e-16\n",
      " 6: -1.5846e+01 -1.5846e+01  5e-05  2e-16  6e-16\n",
      " 7: -1.5846e+01 -1.5846e+01  2e-05  2e-16  5e-16\n",
      " 8: -1.5846e+01 -1.5846e+01  1e-06  2e-16  6e-16\n",
      "Optimal solution found.\n",
      "     pcost       dcost       gap    pres   dres\n",
      " 0: -4.8318e+01 -3.3371e+01  3e+02  9e+00  1e-15\n",
      " 1: -1.3448e+01 -3.0692e+01  2e+01  1e-15  1e-15\n",
      " 2: -1.5783e+01 -1.6821e+01  1e+00  3e-16  7e-16\n",
      " 3: -1.6671e+01 -1.6682e+01  1e-02  2e-16  6e-16\n",
      " 4: -1.6680e+01 -1.6680e+01  1e-04  2e-16  6e-16\n",
      " 5: -1.6680e+01 -1.6680e+01  1e-06  6e-16  6e-16\n",
      "Optimal solution found.\n",
      "     pcost       dcost       gap    pres   dres\n",
      " 0: -4.8287e+01 -3.3615e+01  3e+02  1e+01  1e-15\n",
      " 1: -1.3394e+01 -3.0920e+01  2e+01  1e-15  1e-15\n",
      " 2: -1.5702e+01 -1.6748e+01  1e+00  5e-16  6e-16\n",
      " 3: -1.6257e+01 -1.6389e+01  1e-01  5e-16  6e-16\n",
      " 4: -1.6263e+01 -1.6264e+01  2e-03  2e-16  6e-16\n",
      " 5: -1.6263e+01 -1.6263e+01  1e-04  4e-16  9e-16\n",
      " 6: -1.6263e+01 -1.6263e+01  4e-05  5e-16  5e-16\n",
      " 7: -1.6263e+01 -1.6263e+01  8e-06  4e-16  7e-16\n",
      "Optimal solution found.\n",
      "     pcost       dcost       gap    pres   dres\n",
      " 0: -4.8293e+01 -3.3615e+01  3e+02  1e+01  1e-15\n",
      " 1: -1.3394e+01 -3.0921e+01  2e+01  1e-15  1e-15\n",
      " 2: -1.5703e+01 -1.6748e+01  1e+00  4e-16  7e-16\n",
      " 3: -1.6258e+01 -1.6389e+01  1e-01  2e-16  6e-16\n",
      " 4: -1.6263e+01 -1.6265e+01  2e-03  3e-16  8e-16\n",
      " 5: -1.6263e+01 -1.6263e+01  1e-04  4e-16  7e-16\n",
      " 6: -1.6263e+01 -1.6263e+01  5e-05  2e-16  5e-16\n",
      " 7: -1.6263e+01 -1.6263e+01  3e-05  4e-16  5e-16\n",
      " 8: -1.6263e+01 -1.6263e+01  2e-05  4e-16  6e-16\n",
      "Optimal solution found.\n",
      "     pcost       dcost       gap    pres   dres\n",
      " 0: -4.8292e+01 -3.3616e+01  3e+02  1e+01  9e-16\n",
      " 1: -1.3394e+01 -3.0921e+01  2e+01  1e-15  9e-16\n",
      " 2: -1.5702e+01 -1.6748e+01  1e+00  2e-16  7e-16\n",
      " 3: -1.6258e+01 -1.6389e+01  1e-01  3e-16  5e-16\n",
      " 4: -1.6263e+01 -1.6265e+01  2e-03  6e-16  6e-16\n",
      " 5: -1.6263e+01 -1.6263e+01  2e-04  2e-16  6e-16\n",
      " 6: -1.6263e+01 -1.6263e+01  2e-04  5e-16  4e-16\n",
      " 7: -1.6263e+01 -1.6263e+01  2e-04  3e-16  4e-16\n",
      " 8: -1.6263e+01 -1.6263e+01  2e-04  2e-16  4e-16\n",
      " 9: -1.6263e+01 -1.6263e+01  3e-05  2e-16  4e-16\n",
      "10: -1.6263e+01 -1.6263e+01  2e-05  2e-16  4e-16\n",
      "11: -1.6263e+01 -1.6263e+01  6e-07  2e-16  8e-16\n",
      "Optimal solution found.\n",
      "     pcost       dcost       gap    pres   dres\n",
      " 0: -4.8290e+01 -3.3617e+01  3e+02  1e+01  1e-15\n",
      " 1: -1.3394e+01 -3.0922e+01  2e+01  2e-15  1e-15\n",
      " 2: -1.5702e+01 -1.6748e+01  1e+00  6e-16  8e-16\n",
      " 3: -1.6257e+01 -1.6389e+01  1e-01  2e-16  5e-16\n",
      " 4: -1.6263e+01 -1.6265e+01  2e-03  3e-16  6e-16\n",
      " 5: -1.6263e+01 -1.6263e+01  2e-04  3e-16  7e-16\n",
      " 6: -1.6263e+01 -1.6263e+01  2e-04  2e-16  5e-16\n",
      " 7: -1.6263e+01 -1.6263e+01  2e-04  2e-16  5e-16\n",
      " 8: -1.6263e+01 -1.6263e+01  2e-04  4e-16  4e-16\n",
      " 9: -1.6263e+01 -1.6263e+01  3e-05  2e-16  6e-16\n",
      "10: -1.6263e+01 -1.6263e+01  8e-07  4e-16  7e-16\n",
      "Optimal solution found.\n",
      "     pcost       dcost       gap    pres   dres\n",
      " 0: -4.8198e+01 -3.3849e+01  3e+02  1e+01  9e-16\n",
      " 1: -1.3314e+01 -3.1132e+01  2e+01  1e-15  1e-15\n",
      " 2: -1.5525e+01 -1.6538e+01  1e+00  3e-16  7e-16\n",
      " 3: -1.5826e+01 -1.5866e+01  4e-02  2e-16  6e-16\n",
      " 4: -1.5845e+01 -1.5847e+01  1e-03  2e-16  8e-16\n",
      " 5: -1.5846e+01 -1.5846e+01  2e-04  4e-16  6e-16\n",
      " 6: -1.5846e+01 -1.5846e+01  8e-05  3e-16  5e-16\n",
      " 7: -1.5846e+01 -1.5846e+01  3e-05  2e-16  7e-16\n",
      " 8: -1.5846e+01 -1.5846e+01  7e-06  2e-16  6e-16\n",
      "Optimal solution found.\n",
      "     pcost       dcost       gap    pres   dres\n",
      " 0: -4.8201e+01 -3.3849e+01  3e+02  1e+01  1e-15\n",
      " 1: -1.3314e+01 -3.1132e+01  2e+01  2e-15  8e-16\n",
      " 2: -1.5525e+01 -1.6538e+01  1e+00  2e-16  7e-16\n",
      " 3: -1.5826e+01 -1.5866e+01  4e-02  6e-16  6e-16\n",
      " 4: -1.5845e+01 -1.5847e+01  2e-03  5e-16  7e-16\n",
      " 5: -1.5846e+01 -1.5847e+01  1e-03  3e-16  5e-16\n",
      " 6: -1.5846e+01 -1.5846e+01  2e-04  4e-16  6e-16\n",
      " 7: -1.5846e+01 -1.5846e+01  2e-04  3e-16  6e-16\n",
      " 8: -1.5846e+01 -1.5846e+01  5e-05  3e-16  5e-16\n",
      " 9: -1.5846e+01 -1.5846e+01  4e-06  6e-16  7e-16\n",
      "Optimal solution found.\n",
      "     pcost       dcost       gap    pres   dres\n",
      " 0: -4.8317e+01 -3.3372e+01  3e+02  9e+00  9e-16\n",
      " 1: -1.3448e+01 -3.0693e+01  2e+01  1e-15  1e-15\n",
      " 2: -1.5783e+01 -1.6821e+01  1e+00  2e-16  7e-16\n",
      " 3: -1.6671e+01 -1.6682e+01  1e-02  2e-16  6e-16\n",
      " 4: -1.6680e+01 -1.6680e+01  1e-04  3e-16  6e-16\n",
      " 5: -1.6680e+01 -1.6680e+01  1e-06  2e-16  6e-16\n",
      "Optimal solution found.\n",
      "     pcost       dcost       gap    pres   dres\n",
      " 0: -4.8290e+01 -3.3616e+01  3e+02  1e+01  9e-16\n",
      " 1: -1.3394e+01 -3.0921e+01  2e+01  1e-15  1e-15\n",
      " 2: -1.5702e+01 -1.6748e+01  1e+00  2e-16  7e-16\n",
      " 3: -1.6257e+01 -1.6389e+01  1e-01  2e-16  6e-16\n",
      " 4: -1.6263e+01 -1.6265e+01  2e-03  2e-16  6e-16\n",
      " 5: -1.6263e+01 -1.6263e+01  1e-04  2e-16  7e-16\n",
      " 6: -1.6263e+01 -1.6263e+01  5e-05  2e-16  5e-16\n",
      " 7: -1.6263e+01 -1.6263e+01  2e-05  5e-16  4e-16\n",
      "Optimal solution found.\n",
      "     pcost       dcost       gap    pres   dres\n",
      " 0: -4.8293e+01 -3.3616e+01  3e+02  1e+01  1e-15\n",
      " 1: -1.3394e+01 -3.0921e+01  2e+01  1e-15  1e-15\n",
      " 2: -1.5702e+01 -1.6748e+01  1e+00  2e-16  8e-16\n",
      " 3: -1.6258e+01 -1.6389e+01  1e-01  2e-16  6e-16\n",
      " 4: -1.6263e+01 -1.6265e+01  2e-03  2e-16  7e-16\n",
      " 5: -1.6263e+01 -1.6263e+01  2e-04  2e-16  6e-16\n",
      " 6: -1.6263e+01 -1.6263e+01  2e-04  2e-16  5e-16\n",
      " 7: -1.6263e+01 -1.6263e+01  2e-04  2e-16  5e-16\n",
      " 8: -1.6263e+01 -1.6263e+01  1e-04  2e-16  4e-16\n",
      " 9: -1.6263e+01 -1.6263e+01  3e-05  2e-16  5e-16\n",
      "10: -1.6263e+01 -1.6263e+01  6e-07  2e-16  6e-16\n",
      "Optimal solution found.\n",
      "     pcost       dcost       gap    pres   dres\n",
      " 0: -4.8322e+01 -3.3370e+01  3e+02  9e+00  8e-16\n",
      " 1: -1.3448e+01 -3.0692e+01  2e+01  1e-15  9e-16\n",
      " 2: -1.5783e+01 -1.6821e+01  1e+00  2e-16  7e-16\n",
      " 3: -1.6671e+01 -1.6682e+01  1e-02  2e-16  6e-16\n",
      " 4: -1.6680e+01 -1.6680e+01  1e-04  2e-16  5e-16\n",
      " 5: -1.6680e+01 -1.6680e+01  1e-06  2e-16  5e-16\n",
      "Optimal solution found.\n",
      "     pcost       dcost       gap    pres   dres\n",
      " 0: -4.8321e+01 -3.3371e+01  3e+02  9e+00  9e-16\n",
      " 1: -1.3448e+01 -3.0692e+01  2e+01  1e-15  1e-15\n",
      " 2: -1.5783e+01 -1.6821e+01  1e+00  2e-16  7e-16\n",
      " 3: -1.6671e+01 -1.6682e+01  1e-02  2e-16  6e-16\n",
      " 4: -1.6680e+01 -1.6680e+01  1e-04  4e-16  6e-16\n",
      " 5: -1.6680e+01 -1.6680e+01  1e-06  2e-16  6e-16\n",
      "Optimal solution found.\n",
      "     pcost       dcost       gap    pres   dres\n",
      " 0: -4.8289e+01 -3.3617e+01  3e+02  1e+01  1e-15\n",
      " 1: -1.3394e+01 -3.0922e+01  2e+01  1e-15  1e-15\n",
      " 2: -1.5702e+01 -1.6748e+01  1e+00  2e-16  7e-16\n",
      " 3: -1.6257e+01 -1.6389e+01  1e-01  2e-16  5e-16\n",
      " 4: -1.6263e+01 -1.6265e+01  2e-03  2e-16  5e-16\n",
      " 5: -1.6263e+01 -1.6263e+01  2e-04  2e-16  8e-16\n",
      " 6: -1.6263e+01 -1.6263e+01  2e-04  2e-16  6e-16\n",
      " 7: -1.6263e+01 -1.6263e+01  2e-04  2e-16  7e-16\n",
      " 8: -1.6263e+01 -1.6263e+01  2e-04  2e-16  5e-16\n",
      " 9: -1.6263e+01 -1.6263e+01  3e-05  2e-16  6e-16\n",
      "10: -1.6263e+01 -1.6263e+01  8e-07  2e-16  6e-16\n",
      "Optimal solution found.\n",
      "     pcost       dcost       gap    pres   dres\n",
      " 0: -4.8288e+01 -3.3617e+01  3e+02  1e+01  9e-16\n",
      " 1: -1.3394e+01 -3.0921e+01  2e+01  1e-15  8e-16\n",
      " 2: -1.5702e+01 -1.6748e+01  1e+00  2e-16  6e-16\n",
      " 3: -1.6257e+01 -1.6389e+01  1e-01  2e-16  6e-16\n",
      " 4: -1.6263e+01 -1.6265e+01  2e-03  3e-16  6e-16\n",
      " 5: -1.6263e+01 -1.6263e+01  1e-04  3e-16  7e-16\n",
      " 6: -1.6263e+01 -1.6263e+01  6e-05  2e-16  4e-16\n",
      " 7: -1.6263e+01 -1.6263e+01  3e-05  2e-16  5e-16\n",
      " 8: -1.6263e+01 -1.6263e+01  2e-05  2e-16  4e-16\n",
      " 9: -1.6263e+01 -1.6263e+01  1e-06  2e-16  8e-16\n",
      "Optimal solution found.\n",
      "     pcost       dcost       gap    pres   dres\n",
      " 0: -4.8322e+01 -3.3371e+01  3e+02  9e+00  1e-15\n",
      " 1: -1.3448e+01 -3.0692e+01  2e+01  1e-15  8e-16\n",
      " 2: -1.5783e+01 -1.6821e+01  1e+00  2e-16  8e-16\n",
      " 3: -1.6671e+01 -1.6682e+01  1e-02  2e-16  6e-16\n",
      " 4: -1.6680e+01 -1.6680e+01  1e-04  2e-16  6e-16\n",
      " 5: -1.6680e+01 -1.6680e+01  1e-06  2e-16  6e-16\n"
     ]
    },
    {
     "name": "stderr",
     "output_type": "stream",
     "text": [
      "\r",
      " 83%|████████▎ | 25/30 [00:06<00:01,  3.81it/s]"
     ]
    },
    {
     "name": "stdout",
     "output_type": "stream",
     "text": [
      "Optimal solution found.\n",
      "     pcost       dcost       gap    pres   dres\n",
      " 0: -6.9549e+01 -1.2355e+02  4e+02  2e+00  1e-15\n",
      " 1: -4.8035e+01 -9.1776e+01  4e+01  3e-15  2e-15\n",
      " 2: -5.5368e+01 -5.9615e+01  4e+00  1e-15  1e-15\n",
      " 3: -5.5430e+01 -5.5503e+01  7e-02  7e-16  1e-15\n",
      " 4: -5.5442e+01 -5.5448e+01  6e-03  4e-15  2e-15\n",
      " 5: -5.5443e+01 -5.5447e+01  4e-03  2e-15  1e-15\n",
      " 6: -5.5444e+01 -5.5445e+01  7e-04  1e-15  1e-15\n",
      " 7: -5.5445e+01 -5.5445e+01  1e-04  2e-16  1e-15\n",
      " 8: -5.5445e+01 -5.5445e+01  2e-06  7e-16  1e-15\n",
      "Optimal solution found.\n",
      "     pcost       dcost       gap    pres   dres\n",
      " 0: -6.9772e+01 -1.2240e+02  3e+02  2e+00  2e-15\n",
      " 1: -4.8543e+01 -9.1007e+01  4e+01  2e-15  2e-15\n",
      " 2: -5.6858e+01 -5.9717e+01  3e+00  1e-15  1e-15\n",
      " 3: -5.6912e+01 -5.7003e+01  9e-02  1e-15  1e-15\n",
      " 4: -5.6940e+01 -5.6947e+01  7e-03  8e-16  1e-15\n",
      " 5: -5.6942e+01 -5.6947e+01  5e-03  1e-15  1e-15\n",
      " 6: -5.6943e+01 -5.6944e+01  9e-04  1e-15  1e-15\n",
      " 7: -5.6944e+01 -5.6944e+01  3e-04  1e-15  1e-15\n",
      " 8: -5.6944e+01 -5.6944e+01  5e-05  9e-16  1e-15\n",
      "Optimal solution found.\n",
      "     pcost       dcost       gap    pres   dres\n",
      " 0: -6.9543e+01 -1.2356e+02  4e+02  2e+00  2e-15\n",
      " 1: -4.8031e+01 -9.1783e+01  4e+01  2e-15  2e-15\n",
      " 2: -5.5366e+01 -5.9611e+01  4e+00  2e-16  1e-15\n",
      " 3: -5.5428e+01 -5.5506e+01  8e-02  2e-15  1e-15\n",
      " 4: -5.5439e+01 -5.5452e+01  1e-02  2e-16  1e-15\n",
      " 5: -5.5440e+01 -5.5452e+01  1e-02  2e-15  1e-15\n",
      " 6: -5.5442e+01 -5.5446e+01  5e-03  2e-15  1e-15\n",
      " 7: -5.5443e+01 -5.5445e+01  2e-03  2e-15  1e-15\n",
      " 8: -5.5443e+01 -5.5444e+01  5e-04  1e-15  1e-15\n",
      " 9: -5.5444e+01 -5.5444e+01  9e-05  4e-15  1e-15\n",
      "10: -5.5444e+01 -5.5444e+01  4e-06  2e-15  1e-15\n",
      "Optimal solution found.\n",
      "     pcost       dcost       gap    pres   dres\n",
      " 0: -6.9891e+01 -1.2120e+02  3e+02  2e+00  2e-15\n",
      " 1: -4.8938e+01 -9.0137e+01  4e+01  2e-15  2e-15\n",
      " 2: -5.7941e+01 -5.9885e+01  2e+00  6e-15  2e-15\n",
      " 3: -5.8353e+01 -5.8495e+01  1e-01  6e-15  2e-15\n",
      " 4: -5.8430e+01 -5.8441e+01  1e-02  3e-15  2e-15\n",
      " 5: -5.8436e+01 -5.8442e+01  5e-03  1e-15  2e-15\n",
      " 6: -5.8437e+01 -5.8438e+01  4e-04  4e-15  2e-15\n",
      " 7: -5.8438e+01 -5.8438e+01  1e-04  6e-15  2e-15\n",
      " 8: -5.8438e+01 -5.8438e+01  1e-06  2e-15  2e-15\n",
      "Optimal solution found.\n",
      "     pcost       dcost       gap    pres   dres\n",
      " 0: -6.9547e+01 -1.2355e+02  4e+02  2e+00  2e-15\n",
      " 1: -4.8034e+01 -9.1779e+01  4e+01  2e-15  2e-15\n",
      " 2: -5.5368e+01 -5.9614e+01  4e+00  7e-16  1e-15\n",
      " 3: -5.5429e+01 -5.5507e+01  8e-02  1e-15  1e-15\n",
      " 4: -5.5440e+01 -5.5453e+01  1e-02  4e-15  1e-15\n",
      " 5: -5.5441e+01 -5.5453e+01  1e-02  2e-15  1e-15\n",
      " 6: -5.5443e+01 -5.5448e+01  5e-03  1e-15  1e-15\n",
      " 7: -5.5444e+01 -5.5446e+01  3e-03  1e-15  1e-15\n",
      " 8: -5.5444e+01 -5.5445e+01  1e-03  8e-16  1e-15\n",
      " 9: -5.5445e+01 -5.5445e+01  5e-04  2e-15  1e-15\n",
      "10: -5.5445e+01 -5.5445e+01  8e-05  1e-15  1e-15\n",
      "11: -5.5445e+01 -5.5445e+01  9e-07  4e-16  1e-15\n",
      "Optimal solution found.\n",
      "     pcost       dcost       gap    pres   dres\n",
      " 0: -6.9937e+01 -1.1992e+02  3e+02  2e+00  1e-15\n",
      " 1: -4.9225e+01 -8.9163e+01  4e+01  6e-16  1e-15\n",
      " 2: -5.8336e+01 -6.0231e+01  2e+00  9e-16  1e-15\n",
      " 3: -5.9920e+01 -5.9939e+01  2e-02  1e-15  1e-15\n",
      " 4: -5.9936e+01 -5.9936e+01  2e-04  7e-16  1e-15\n",
      " 5: -5.9936e+01 -5.9936e+01  2e-06  4e-16  1e-15\n",
      "Optimal solution found.\n",
      "     pcost       dcost       gap    pres   dres\n",
      " 0: -6.9902e+01 -1.2119e+02  3e+02  2e+00  1e-15\n",
      " 1: -4.8943e+01 -9.0133e+01  4e+01  4e-16  1e-15\n",
      " 2: -5.7946e+01 -5.9889e+01  2e+00  2e-15  1e-15\n",
      " 3: -5.8357e+01 -5.8498e+01  1e-01  1e-15  1e-15\n",
      " 4: -5.8435e+01 -5.8444e+01  8e-03  2e-16  1e-15\n",
      " 5: -5.8440e+01 -5.8443e+01  3e-03  2e-16  1e-15\n",
      " 6: -5.8441e+01 -5.8441e+01  2e-04  2e-16  1e-15\n",
      " 7: -5.8441e+01 -5.8441e+01  7e-05  8e-16  1e-15\n",
      " 8: -5.8441e+01 -5.8441e+01  6e-06  2e-15  1e-15\n",
      "Optimal solution found.\n",
      "     pcost       dcost       gap    pres   dres\n",
      " 0: -6.9893e+01 -1.2119e+02  3e+02  2e+00  1e-15\n",
      " 1: -4.8940e+01 -9.0132e+01  4e+01  1e-15  1e-15\n",
      " 2: -5.7943e+01 -5.9885e+01  2e+00  2e-15  1e-15\n",
      " 3: -5.8354e+01 -5.8495e+01  1e-01  2e-15  1e-15\n",
      " 4: -5.8432e+01 -5.8442e+01  1e-02  4e-16  1e-15\n",
      " 5: -5.8437e+01 -5.8442e+01  5e-03  6e-16  1e-15\n",
      " 6: -5.8438e+01 -5.8438e+01  3e-04  7e-16  2e-15\n",
      " 7: -5.8438e+01 -5.8438e+01  9e-05  2e-16  1e-15\n",
      " 8: -5.8438e+01 -5.8438e+01  2e-06  2e-16  1e-15\n",
      "Optimal solution found.\n",
      "     pcost       dcost       gap    pres   dres\n",
      " 0: -6.9552e+01 -1.2355e+02  4e+02  2e+00  1e-15\n",
      " 1: -4.8036e+01 -9.1780e+01  4e+01  6e-16  1e-15\n",
      " 2: -5.5369e+01 -5.9616e+01  4e+00  3e-16  1e-15\n",
      " 3: -5.5431e+01 -5.5508e+01  8e-02  2e-15  1e-15\n",
      " 4: -5.5442e+01 -5.5454e+01  1e-02  2e-15  1e-15\n",
      " 5: -5.5442e+01 -5.5454e+01  1e-02  1e-15  1e-15\n",
      " 6: -5.5444e+01 -5.5449e+01  4e-03  1e-15  1e-15\n",
      " 7: -5.5445e+01 -5.5447e+01  2e-03  9e-16  1e-15\n",
      " 8: -5.5446e+01 -5.5446e+01  4e-04  9e-16  9e-16\n",
      " 9: -5.5446e+01 -5.5446e+01  5e-05  6e-16  1e-15\n",
      "Optimal solution found.\n",
      "     pcost       dcost       gap    pres   dres\n",
      " 0: -6.9891e+01 -1.2120e+02  3e+02  2e+00  1e-15\n",
      " 1: -4.8938e+01 -9.0138e+01  4e+01  4e-16  2e-15\n",
      " 2: -5.7941e+01 -5.9885e+01  2e+00  3e-16  1e-15\n",
      " 3: -5.8353e+01 -5.8495e+01  1e-01  4e-16  1e-15\n",
      " 4: -5.8430e+01 -5.8441e+01  1e-02  8e-16  1e-15\n",
      " 5: -5.8436e+01 -5.8442e+01  6e-03  2e-15  1e-15\n",
      " 6: -5.8437e+01 -5.8438e+01  4e-04  1e-15  1e-15\n",
      " 7: -5.8438e+01 -5.8438e+01  1e-04  2e-16  1e-15\n",
      " 8: -5.8438e+01 -5.8438e+01  1e-06  6e-16  1e-15\n",
      "Optimal solution found.\n",
      "     pcost       dcost       gap    pres   dres\n",
      " 0: -6.9242e+01 -1.2464e+02  4e+02  2e+00  2e-15\n",
      " 1: -4.7429e+01 -9.2459e+01  5e+01  8e-16  2e-15\n",
      " 2: -5.3879e+01 -5.8669e+01  5e+00  7e-16  2e-15\n",
      " 3: -5.3939e+01 -5.4009e+01  7e-02  3e-15  2e-15\n",
      " 4: -5.3944e+01 -5.3957e+01  1e-02  5e-15  2e-15\n",
      " 5: -5.3944e+01 -5.3956e+01  1e-02  3e-15  2e-15\n",
      " 6: -5.3946e+01 -5.3949e+01  3e-03  9e-16  1e-15\n",
      " 7: -5.3947e+01 -5.3948e+01  1e-03  6e-16  2e-15\n",
      " 8: -5.3947e+01 -5.3948e+01  5e-04  3e-16  2e-15\n",
      " 9: -5.3947e+01 -5.3948e+01  1e-04  1e-15  2e-15\n",
      "10: -5.3947e+01 -5.3947e+01  1e-06  3e-16  2e-15\n",
      "Optimal solution found.\n",
      "     pcost       dcost       gap    pres   dres\n",
      " 0: -6.8843e+01 -1.2565e+02  4e+02  2e+00  2e-15\n",
      " 1: -4.6734e+01 -9.3040e+01  5e+01  1e-15  2e-15\n",
      " 2: -5.2387e+01 -5.7173e+01  5e+00  6e-16  1e-15\n",
      " 3: -5.2443e+01 -5.2502e+01  6e-02  4e-16  1e-15\n",
      " 4: -5.2445e+01 -5.2453e+01  8e-03  4e-16  1e-15\n",
      " 5: -5.2446e+01 -5.2451e+01  6e-03  1e-15  1e-15\n",
      " 6: -5.2447e+01 -5.2448e+01  1e-03  1e-15  1e-15\n",
      " 7: -5.2447e+01 -5.2448e+01  4e-04  2e-15  1e-15\n",
      " 8: -5.2447e+01 -5.2447e+01  5e-05  9e-16  1e-15\n",
      "Optimal solution found.\n",
      "     pcost       dcost       gap    pres   dres\n",
      " 0: -6.9932e+01 -1.1992e+02  3e+02  2e+00  2e-15\n",
      " 1: -4.9223e+01 -8.9161e+01  4e+01  4e-16  2e-15\n",
      " 2: -5.8335e+01 -6.0229e+01  2e+00  4e-16  1e-15\n",
      " 3: -5.9918e+01 -5.9937e+01  2e-02  3e-15  1e-15\n",
      " 4: -5.9934e+01 -5.9934e+01  2e-04  3e-15  1e-15\n",
      " 5: -5.9934e+01 -5.9934e+01  2e-06  2e-15  2e-15\n",
      "Optimal solution found.\n",
      "     pcost       dcost       gap    pres   dres\n",
      " 0: -6.9941e+01 -1.1992e+02  3e+02  2e+00  2e-15\n",
      " 1: -4.9226e+01 -8.9163e+01  4e+01  3e-15  1e-15\n",
      " 2: -5.8338e+01 -6.0232e+01  2e+00  1e-15  1e-15\n",
      " 3: -5.9921e+01 -5.9940e+01  2e-02  9e-16  1e-15\n",
      " 4: -5.9937e+01 -5.9937e+01  2e-04  1e-15  1e-15\n",
      " 5: -5.9937e+01 -5.9937e+01  2e-06  4e-16  1e-15\n",
      "Optimal solution found.\n",
      "     pcost       dcost       gap    pres   dres\n",
      " 0: -6.9905e+01 -1.2119e+02  3e+02  2e+00  2e-15\n",
      " 1: -4.8944e+01 -9.0138e+01  4e+01  1e-15  1e-15\n",
      " 2: -5.7947e+01 -5.9889e+01  2e+00  6e-16  2e-15\n",
      " 3: -5.8358e+01 -5.8499e+01  1e-01  8e-16  2e-15\n",
      " 4: -5.8434e+01 -5.8446e+01  1e-02  1e-15  2e-15\n",
      " 5: -5.8439e+01 -5.8447e+01  8e-03  2e-16  1e-15\n",
      " 6: -5.8441e+01 -5.8443e+01  2e-03  6e-16  2e-15\n",
      " 7: -5.8442e+01 -5.8443e+01  6e-04  2e-15  2e-15\n",
      " 8: -5.8442e+01 -5.8442e+01  5e-05  1e-15  2e-15\n",
      "Optimal solution found.\n",
      "     pcost       dcost       gap    pres   dres\n",
      " 0: -6.9548e+01 -1.2355e+02  4e+02  2e+00  1e-15\n",
      " 1: -4.8034e+01 -9.1778e+01  4e+01  1e-15  1e-15\n",
      " 2: -5.5368e+01 -5.9614e+01  4e+00  2e-16  1e-15\n",
      " 3: -5.5430e+01 -5.5503e+01  7e-02  9e-16  9e-16\n",
      " 4: -5.5442e+01 -5.5448e+01  6e-03  4e-16  1e-15\n",
      " 5: -5.5443e+01 -5.5447e+01  4e-03  9e-16  9e-16\n",
      " 6: -5.5444e+01 -5.5445e+01  7e-04  2e-16  1e-15\n",
      " 7: -5.5444e+01 -5.5445e+01  2e-04  4e-16  9e-16\n",
      " 8: -5.5444e+01 -5.5444e+01  1e-05  2e-16  1e-15\n",
      "Optimal solution found.\n",
      "     pcost       dcost       gap    pres   dres\n",
      " 0: -6.9888e+01 -1.2120e+02  3e+02  2e+00  2e-15\n",
      " 1: -4.8937e+01 -9.0138e+01  4e+01  2e-15  2e-15\n",
      " 2: -5.7940e+01 -5.9884e+01  2e+00  3e-16  1e-15\n",
      " 3: -5.8353e+01 -5.8495e+01  1e-01  2e-15  1e-15\n",
      " 4: -5.8426e+01 -5.8443e+01  2e-02  1e-15  1e-15\n",
      " 5: -5.8429e+01 -5.8444e+01  2e-02  2e-15  1e-15\n",
      " 6: -5.8434e+01 -5.8442e+01  8e-03  2e-15  1e-15\n",
      " 7: -5.8435e+01 -5.8440e+01  5e-03  1e-15  1e-15\n",
      " 8: -5.8435e+01 -5.8440e+01  5e-03  9e-16  1e-15\n",
      " 9: -5.8436e+01 -5.8439e+01  4e-03  2e-15  1e-15\n",
      "10: -5.8437e+01 -5.8437e+01  3e-04  3e-15  2e-15\n",
      "11: -5.8437e+01 -5.8437e+01  4e-06  4e-16  2e-15\n",
      "Optimal solution found.\n",
      "     pcost       dcost       gap    pres   dres\n",
      " 0: -6.9766e+01 -1.2241e+02  3e+02  2e+00  2e-15\n",
      " 1: -4.8540e+01 -9.1011e+01  4e+01  1e-15  1e-15\n",
      " 2: -5.6856e+01 -5.9713e+01  3e+00  8e-16  1e-15\n",
      " 3: -5.6910e+01 -5.7002e+01  9e-02  1e-15  1e-15\n",
      " 4: -5.6938e+01 -5.6947e+01  1e-02  4e-16  1e-15\n",
      " 5: -5.6939e+01 -5.6947e+01  8e-03  2e-15  1e-15\n",
      " 6: -5.6942e+01 -5.6943e+01  2e-03  3e-15  1e-15\n",
      " 7: -5.6942e+01 -5.6943e+01  5e-04  1e-15  1e-15\n",
      " 8: -5.6942e+01 -5.6942e+01  3e-05  3e-16  1e-15\n",
      "Optimal solution found.\n",
      "     pcost       dcost       gap    pres   dres\n",
      " 0: -6.9898e+01 -1.2119e+02  3e+02  2e+00  1e-15\n",
      " 1: -4.8941e+01 -9.0136e+01  4e+01  1e-15  1e-15\n",
      " 2: -5.7944e+01 -5.9887e+01  2e+00  3e-15  1e-15\n",
      " 3: -5.8356e+01 -5.8498e+01  1e-01  3e-15  1e-15\n",
      " 4: -5.8429e+01 -5.8446e+01  2e-02  2e-15  1e-15\n",
      " 5: -5.8433e+01 -5.8447e+01  1e-02  1e-15  1e-15\n",
      " 6: -5.8438e+01 -5.8445e+01  7e-03  2e-15  1e-15\n",
      " 7: -5.8439e+01 -5.8443e+01  4e-03  8e-16  1e-15\n",
      " 8: -5.8439e+01 -5.8443e+01  4e-03  3e-16  1e-15\n",
      " 9: -5.8439e+01 -5.8442e+01  3e-03  9e-16  1e-15\n",
      "10: -5.8440e+01 -5.8441e+01  3e-04  3e-16  2e-15\n",
      "11: -5.8440e+01 -5.8440e+01  5e-06  1e-15  2e-15\n",
      "Optimal solution found.\n",
      "     pcost       dcost       gap    pres   dres\n",
      " 0: -6.9899e+01 -1.2119e+02  3e+02  2e+00  2e-15\n",
      " 1: -4.8942e+01 -9.0135e+01  4e+01  2e-15  1e-15\n",
      " 2: -5.7945e+01 -5.9888e+01  2e+00  3e-15  2e-15\n",
      " 3: -5.8356e+01 -5.8497e+01  1e-01  6e-16  2e-15\n",
      " 4: -5.8434e+01 -5.8443e+01  9e-03  2e-15  1e-15\n",
      " 5: -5.8439e+01 -5.8443e+01  4e-03  2e-15  1e-15\n",
      " 6: -5.8440e+01 -5.8440e+01  3e-04  1e-15  1e-15\n"
     ]
    },
    {
     "name": "stderr",
     "output_type": "stream",
     "text": [
      "\r",
      " 87%|████████▋ | 26/30 [00:06<00:01,  3.85it/s]"
     ]
    },
    {
     "name": "stdout",
     "output_type": "stream",
     "text": [
      " 7: -5.8440e+01 -5.8440e+01  3e-05  4e-15  1e-15\n",
      "Optimal solution found.\n",
      "     pcost       dcost       gap    pres   dres\n",
      " 0: -6.9901e+01 -1.2119e+02  3e+02  2e+00  2e-15\n",
      " 1: -4.8943e+01 -9.0135e+01  4e+01  2e-15  2e-15\n",
      " 2: -5.7945e+01 -5.9888e+01  2e+00  6e-15  1e-15\n",
      " 3: -5.8357e+01 -5.8498e+01  1e-01  5e-15  1e-15\n",
      " 4: -5.8434e+01 -5.8444e+01  1e-02  4e-15  1e-15\n",
      " 5: -5.8440e+01 -5.8444e+01  4e-03  3e-15  2e-15\n",
      " 6: -5.8441e+01 -5.8441e+01  2e-04  4e-16  2e-15\n",
      " 7: -5.8441e+01 -5.8441e+01  1e-04  2e-15  1e-15\n",
      " 8: -5.8441e+01 -5.8441e+01  1e-05  2e-15  1e-15\n",
      "Optimal solution found.\n",
      "     pcost       dcost       gap    pres   dres\n",
      " 0: -6.9945e+01 -1.1992e+02  3e+02  2e+00  2e-15\n",
      " 1: -4.9229e+01 -8.9160e+01  4e+01  2e-15  1e-15\n",
      " 2: -5.8340e+01 -6.0233e+01  2e+00  3e-15  1e-15\n",
      " 3: -5.9922e+01 -5.9942e+01  2e-02  5e-15  2e-15\n",
      " 4: -5.9938e+01 -5.9938e+01  2e-04  8e-16  2e-15\n",
      " 5: -5.9938e+01 -5.9938e+01  2e-06  1e-15  2e-15\n",
      "Optimal solution found.\n",
      "     pcost       dcost       gap    pres   dres\n",
      " 0: -6.9235e+01 -1.2464e+02  4e+02  2e+00  2e-15\n",
      " 1: -4.7427e+01 -9.2457e+01  5e+01  5e-16  2e-15\n",
      " 2: -5.3877e+01 -5.8666e+01  5e+00  4e-16  1e-15\n",
      " 3: -5.3937e+01 -5.4002e+01  6e-02  2e-16  1e-15\n",
      " 4: -5.3942e+01 -5.3950e+01  8e-03  2e-16  1e-15\n",
      " 5: -5.3943e+01 -5.3949e+01  6e-03  2e-15  1e-15\n",
      " 6: -5.3944e+01 -5.3946e+01  1e-03  1e-15  1e-15\n",
      " 7: -5.3945e+01 -5.3945e+01  2e-04  3e-16  1e-15\n",
      " 8: -5.3945e+01 -5.3945e+01  1e-05  2e-15  1e-15\n",
      "Optimal solution found.\n",
      "     pcost       dcost       gap    pres   dres\n",
      " 0: -6.9762e+01 -1.2241e+02  3e+02  2e+00  1e-15\n",
      " 1: -4.8538e+01 -9.1011e+01  4e+01  1e-15  1e-15\n",
      " 2: -5.6854e+01 -5.9712e+01  3e+00  3e-16  1e-15\n",
      " 3: -5.6909e+01 -5.7002e+01  9e-02  2e-16  1e-15\n",
      " 4: -5.6935e+01 -5.6949e+01  1e-02  2e-15  1e-15\n",
      " 5: -5.6936e+01 -5.6949e+01  1e-02  1e-15  1e-15\n",
      " 6: -5.6940e+01 -5.6944e+01  4e-03  2e-15  1e-15\n",
      " 7: -5.6940e+01 -5.6943e+01  3e-03  1e-15  9e-16\n",
      " 8: -5.6941e+01 -5.6942e+01  5e-04  2e-15  1e-15\n",
      " 9: -5.6942e+01 -5.6942e+01  4e-05  7e-16  1e-15\n",
      "Optimal solution found.\n",
      "     pcost       dcost       gap    pres   dres\n",
      " 0: -6.9544e+01 -1.2356e+02  4e+02  2e+00  2e-15\n",
      " 1: -4.8032e+01 -9.1785e+01  4e+01  9e-16  1e-15\n",
      " 2: -5.5367e+01 -5.9612e+01  4e+00  2e-15  1e-15\n",
      " 3: -5.5428e+01 -5.5507e+01  8e-02  6e-16  1e-15\n",
      " 4: -5.5440e+01 -5.5453e+01  1e-02  8e-16  1e-15\n",
      " 5: -5.5440e+01 -5.5453e+01  1e-02  6e-16  1e-15\n",
      " 6: -5.5442e+01 -5.5447e+01  5e-03  2e-15  1e-15\n",
      " 7: -5.5444e+01 -5.5445e+01  2e-03  4e-15  1e-15\n",
      " 8: -5.5444e+01 -5.5445e+01  6e-04  2e-15  1e-15\n",
      " 9: -5.5444e+01 -5.5444e+01  4e-05  2e-16  1e-15\n",
      "Optimal solution found.\n",
      "     pcost       dcost       gap    pres   dres\n",
      " 0: -1.4724e+02 -4.4991e+02  3e+02  4e-15  3e-15\n",
      " 1: -1.8678e+02 -2.1535e+02  3e+01  2e-15  3e-15\n",
      " 2: -2.0435e+02 -2.0803e+02  4e+00  9e-16  3e-15\n",
      " 3: -2.0452e+02 -2.0461e+02  1e-01  3e-15  3e-15\n",
      " 4: -2.0453e+02 -2.0458e+02  5e-02  4e-15  3e-15\n",
      " 5: -2.0453e+02 -2.0458e+02  5e-02  9e-16  3e-15\n",
      " 6: -2.0453e+02 -2.0458e+02  4e-02  9e-16  3e-15\n",
      " 7: -2.0454e+02 -2.0457e+02  3e-02  1e-16  3e-15\n",
      " 8: -2.0455e+02 -2.0456e+02  1e-02  9e-16  3e-15\n",
      " 9: -2.0455e+02 -2.0456e+02  7e-03  2e-15  3e-15\n",
      "10: -2.0456e+02 -2.0456e+02  4e-04  3e-15  4e-15\n",
      "11: -2.0456e+02 -2.0456e+02  4e-06  9e-16  5e-15\n",
      "Optimal solution found.\n",
      "     pcost       dcost       gap    pres   dres\n",
      " 0: -1.4751e+02 -4.4065e+02  3e+02  8e-15  3e-15\n",
      " 1: -1.8869e+02 -2.1696e+02  3e+01  4e-15  3e-15\n",
      " 2: -2.0968e+02 -2.1330e+02  4e+00  6e-15  5e-15\n",
      " 3: -2.0984e+02 -2.0998e+02  1e-01  1e-14  4e-15\n",
      " 4: -2.0989e+02 -2.0992e+02  3e-02  2e-15  4e-15\n",
      " 5: -2.0989e+02 -2.0992e+02  3e-02  6e-15  4e-15\n",
      " 6: -2.0989e+02 -2.0992e+02  3e-02  4e-15  4e-15\n",
      " 7: -2.0990e+02 -2.0992e+02  2e-02  3e-15  4e-15\n",
      " 8: -2.0991e+02 -2.0991e+02  6e-03  4e-16  4e-15\n",
      " 9: -2.0991e+02 -2.0991e+02  4e-03  2e-15  3e-15\n",
      "10: -2.0991e+02 -2.0991e+02  7e-04  3e-15  4e-15\n",
      "11: -2.0991e+02 -2.0991e+02  8e-06  3e-15  4e-15\n",
      "Optimal solution found.\n",
      "     pcost       dcost       gap    pres   dres\n",
      " 0: -1.4725e+02 -4.4991e+02  3e+02  4e-16  3e-15\n",
      " 1: -1.8680e+02 -2.1536e+02  3e+01  4e-15  3e-15\n",
      " 2: -2.0436e+02 -2.0804e+02  4e+00  2e-15  4e-15\n",
      " 3: -2.0453e+02 -2.0462e+02  9e-02  2e-15  4e-15\n",
      " 4: -2.0454e+02 -2.0459e+02  5e-02  1e-15  4e-15\n",
      " 5: -2.0455e+02 -2.0459e+02  5e-02  4e-16  4e-15\n",
      " 6: -2.0455e+02 -2.0458e+02  4e-02  3e-15  3e-15\n",
      " 7: -2.0455e+02 -2.0458e+02  3e-02  4e-16  3e-15\n",
      " 8: -2.0456e+02 -2.0457e+02  5e-03  1e-15  3e-15\n",
      " 9: -2.0457e+02 -2.0457e+02  7e-04  3e-15  4e-15\n",
      "10: -2.0457e+02 -2.0457e+02  9e-06  8e-15  4e-15\n",
      "Optimal solution found.\n",
      "     pcost       dcost       gap    pres   dres\n",
      " 0: -1.4726e+02 -4.4987e+02  3e+02  2e-15  3e-15\n",
      " 1: -1.8682e+02 -2.1538e+02  3e+01  3e-15  3e-15\n",
      " 2: -2.0438e+02 -2.0806e+02  4e+00  2e-15  2e-15\n",
      " 3: -2.0455e+02 -2.0462e+02  7e-02  2e-15  3e-15\n",
      " 4: -2.0456e+02 -2.0458e+02  2e-02  3e-15  2e-15\n",
      " 5: -2.0456e+02 -2.0458e+02  2e-02  3e-15  2e-15\n",
      " 6: -2.0457e+02 -2.0458e+02  2e-02  9e-16  2e-15\n",
      " 7: -2.0457e+02 -2.0458e+02  1e-02  1e-15  3e-15\n",
      " 8: -2.0457e+02 -2.0458e+02  2e-03  4e-16  3e-15\n",
      " 9: -2.0458e+02 -2.0458e+02  6e-05  4e-15  3e-15\n",
      "Optimal solution found.\n",
      "     pcost       dcost       gap    pres   dres\n",
      " 0: -1.4751e+02 -4.4067e+02  3e+02  2e-15  3e-15\n",
      " 1: -1.8869e+02 -2.1697e+02  3e+01  2e-15  3e-15\n",
      " 2: -2.0968e+02 -2.1331e+02  4e+00  5e-15  3e-15\n",
      " 3: -2.0984e+02 -2.0998e+02  1e-01  4e-15  4e-15\n",
      " 4: -2.0989e+02 -2.0992e+02  3e-02  8e-15  3e-15\n",
      " 5: -2.0989e+02 -2.0992e+02  3e-02  5e-15  3e-15\n",
      " 6: -2.0990e+02 -2.0992e+02  2e-02  8e-15  3e-15\n",
      " 7: -2.0990e+02 -2.0992e+02  1e-02  6e-15  3e-15\n",
      " 8: -2.0991e+02 -2.0991e+02  5e-03  2e-15  3e-15\n",
      " 9: -2.0991e+02 -2.0991e+02  2e-03  7e-15  3e-15\n",
      "10: -2.0991e+02 -2.0991e+02  4e-05  2e-15  4e-15\n",
      "Optimal solution found.\n",
      "     pcost       dcost       gap    pres   dres\n",
      " 0: -1.4751e+02 -4.4068e+02  3e+02  3e-15  3e-15\n",
      " 1: -1.8870e+02 -2.1697e+02  3e+01  2e-15  3e-15\n",
      " 2: -2.0969e+02 -2.1331e+02  4e+00  2e-15  4e-15\n",
      " 3: -2.0985e+02 -2.0999e+02  1e-01  3e-15  3e-15\n",
      " 4: -2.0990e+02 -2.0993e+02  3e-02  1e-15  3e-15\n",
      " 5: -2.0990e+02 -2.0993e+02  3e-02  3e-15  3e-15\n",
      " 6: -2.0991e+02 -2.0993e+02  2e-02  4e-16  2e-15\n",
      " 7: -2.0991e+02 -2.0992e+02  9e-03  4e-16  3e-15\n",
      " 8: -2.0991e+02 -2.0992e+02  3e-03  6e-15  3e-15\n",
      " 9: -2.0992e+02 -2.0992e+02  2e-04  8e-15  4e-15\n",
      "10: -2.0992e+02 -2.0992e+02  3e-06  6e-15  5e-15\n",
      "Optimal solution found.\n",
      "     pcost       dcost       gap    pres   dres\n",
      " 0: -1.4761e+02 -4.3101e+02  3e+02  2e-15  3e-15\n",
      " 1: -1.8997e+02 -2.1748e+02  3e+01  3e-15  3e-15\n",
      " 2: -2.1504e+02 -2.1537e+02  3e-01  3e-15  4e-15\n",
      " 3: -2.1529e+02 -2.1529e+02  3e-03  2e-15  5e-15\n",
      " 4: -2.1529e+02 -2.1529e+02  3e-05  4e-15  4e-15\n",
      "Optimal solution found.\n",
      "     pcost       dcost       gap    pres   dres\n",
      " 0: -1.4754e+02 -4.4070e+02  3e+02  1e-15  3e-15\n",
      " 1: -1.8874e+02 -2.1701e+02  3e+01  3e-15  3e-15\n",
      " 2: -2.0973e+02 -2.1335e+02  4e+00  3e-15  4e-15\n",
      " 3: -2.0989e+02 -2.1003e+02  1e-01  2e-15  4e-15\n",
      " 4: -2.0993e+02 -2.0997e+02  4e-02  4e-16  4e-15\n",
      " 5: -2.0994e+02 -2.0997e+02  4e-02  2e-16  4e-15\n",
      " 6: -2.0994e+02 -2.0997e+02  3e-02  5e-15  4e-15\n",
      " 7: -2.0994e+02 -2.0997e+02  3e-02  6e-15  3e-15\n",
      " 8: -2.0995e+02 -2.0996e+02  3e-03  7e-15  4e-15\n",
      " 9: -2.0996e+02 -2.0996e+02  3e-04  6e-15  3e-15\n",
      "10: -2.0996e+02 -2.0996e+02  2e-05  6e-15  4e-15\n",
      "Optimal solution found.\n",
      "     pcost       dcost       gap    pres   dres\n",
      " 0: -1.4761e+02 -4.3101e+02  3e+02  1e-15  3e-15\n",
      " 1: -1.8996e+02 -2.1747e+02  3e+01  2e-15  3e-15\n",
      " 2: -2.1503e+02 -2.1537e+02  3e-01  3e-15  4e-15\n",
      " 3: -2.1528e+02 -2.1529e+02  3e-03  4e-15  3e-15\n",
      " 4: -2.1528e+02 -2.1528e+02  3e-05  2e-15  3e-15\n",
      "Optimal solution found.\n",
      "     pcost       dcost       gap    pres   dres\n",
      " 0: -1.4760e+02 -4.3100e+02  3e+02  2e-15  3e-15\n",
      " 1: -1.8995e+02 -2.1746e+02  3e+01  3e-15  3e-15\n",
      " 2: -2.1502e+02 -2.1536e+02  3e-01  3e-15  3e-15\n",
      " 3: -2.1527e+02 -2.1527e+02  3e-03  1e-15  4e-15\n",
      " 4: -2.1527e+02 -2.1527e+02  3e-05  2e-15  4e-15\n",
      "Optimal solution found.\n",
      "     pcost       dcost       gap    pres   dres\n",
      " 0: -1.4754e+02 -4.4067e+02  3e+02  6e-15  3e-15\n",
      " 1: -1.8873e+02 -2.1700e+02  3e+01  8e-15  3e-15\n",
      " 2: -2.0972e+02 -2.1334e+02  4e+00  1e-15  4e-15\n",
      " 3: -2.0988e+02 -2.1002e+02  1e-01  8e-15  5e-15\n",
      " 4: -2.0993e+02 -2.0995e+02  3e-02  4e-16  4e-15\n",
      " 5: -2.0993e+02 -2.0996e+02  3e-02  2e-15  4e-15\n",
      " 6: -2.0993e+02 -2.0996e+02  2e-02  4e-15  4e-15\n",
      " 7: -2.0994e+02 -2.0995e+02  1e-02  6e-15  4e-15\n",
      " 8: -2.0994e+02 -2.0995e+02  6e-03  6e-15  4e-15\n",
      " 9: -2.0994e+02 -2.0995e+02  2e-03  1e-14  4e-15\n",
      "10: -2.0994e+02 -2.0994e+02  9e-05  1e-15  4e-15\n",
      "Optimal solution found.\n",
      "     pcost       dcost       gap    pres   dres\n",
      " 0: -1.4675e+02 -4.5858e+02  3e+02  2e-15  3e-15\n",
      " 1: -1.8425e+02 -2.1269e+02  3e+01  1e-15  3e-15\n",
      " 2: -1.9897e+02 -2.0144e+02  2e+00  3e-15  3e-15\n",
      " 3: -1.9911e+02 -1.9917e+02  6e-02  8e-15  3e-15\n",
      " 4: -1.9913e+02 -1.9915e+02  2e-02  5e-15  3e-15\n",
      " 5: -1.9913e+02 -1.9915e+02  2e-02  5e-15  3e-15\n",
      " 6: -1.9913e+02 -1.9915e+02  2e-02  6e-15  3e-15\n",
      " 7: -1.9914e+02 -1.9914e+02  4e-03  2e-15  3e-15\n",
      " 8: -1.9914e+02 -1.9914e+02  2e-04  7e-15  3e-15\n",
      "Optimal solution found.\n",
      "     pcost       dcost       gap    pres   dres\n",
      " 0: -1.4753e+02 -4.4071e+02  3e+02  3e-15  3e-15\n",
      " 1: -1.8872e+02 -2.1700e+02  3e+01  3e-15  4e-15\n",
      " 2: -2.0971e+02 -2.1333e+02  4e+00  4e-16  6e-15\n",
      " 3: -2.0987e+02 -2.1002e+02  2e-01  5e-15  5e-15\n",
      " 4: -2.0991e+02 -2.0996e+02  5e-02  4e-15  4e-15\n",
      " 5: -2.0992e+02 -2.0997e+02  5e-02  8e-15  5e-15\n",
      " 6: -2.0992e+02 -2.0996e+02  5e-02  4e-15  4e-15\n",
      " 7: -2.0992e+02 -2.0997e+02  5e-02  5e-15  4e-15\n",
      " 8: -2.0994e+02 -2.0994e+02  7e-03  4e-15  5e-15\n",
      " 9: -2.0994e+02 -2.0994e+02  2e-04  9e-15  5e-15\n",
      "Optimal solution found.\n",
      "     pcost       dcost       gap    pres   dres\n",
      " 0: -1.4726e+02 -4.4990e+02  3e+02  2e-15  3e-15\n",
      " 1: -1.8681e+02 -2.1537e+02  3e+01  2e-15  4e-15\n",
      " 2: -2.0437e+02 -2.0805e+02  4e+00  9e-16  4e-15\n",
      " 3: -2.0454e+02 -2.0462e+02  8e-02  3e-15  4e-15\n",
      " 4: -2.0455e+02 -2.0458e+02  3e-02  3e-15  4e-15\n",
      " 5: -2.0456e+02 -2.0459e+02  3e-02  4e-15  4e-15\n",
      " 6: -2.0456e+02 -2.0458e+02  3e-02  5e-15  4e-15\n",
      " 7: -2.0457e+02 -2.0458e+02  2e-02  2e-16  4e-15\n",
      " 8: -2.0457e+02 -2.0457e+02  2e-03  4e-15  5e-15\n",
      " 9: -2.0457e+02 -2.0457e+02  2e-05  1e-15  4e-15\n",
      "Optimal solution found.\n",
      "     pcost       dcost       gap    pres   dres\n",
      " 0: -1.4751e+02 -4.4070e+02  3e+02  3e-15  3e-15\n",
      " 1: -1.8869e+02 -2.1697e+02  3e+01  5e-15  4e-15\n",
      " 2: -2.0968e+02 -2.1331e+02  4e+00  7e-15  5e-15\n",
      " 3: -2.0984e+02 -2.1000e+02  2e-01  9e-16  4e-15\n",
      " 4: -2.0988e+02 -2.0994e+02  6e-02  8e-15  4e-15\n",
      " 5: -2.0989e+02 -2.0994e+02  5e-02  4e-15  5e-15\n",
      " 6: -2.0989e+02 -2.0994e+02  5e-02  9e-16  5e-15\n",
      " 7: -2.0989e+02 -2.0994e+02  5e-02  4e-16  5e-15\n",
      " 8: -2.0991e+02 -2.0992e+02  8e-03  3e-15  4e-15\n",
      " 9: -2.0992e+02 -2.0992e+02  2e-04  1e-14  4e-15\n",
      "Optimal solution found.\n",
      "     pcost       dcost       gap    pres   dres\n",
      " 0: -1.4726e+02 -4.4987e+02  3e+02  9e-16  3e-15\n",
      " 1: -1.8682e+02 -2.1538e+02  3e+01  1e-15  4e-15\n",
      " 2: -2.0437e+02 -2.0806e+02  4e+00  5e-15  4e-15\n",
      " 3: -2.0455e+02 -2.0462e+02  7e-02  5e-15  5e-15\n",
      " 4: -2.0456e+02 -2.0458e+02  2e-02  1e-15  4e-15\n",
      " 5: -2.0456e+02 -2.0458e+02  2e-02  6e-15  4e-15\n",
      " 6: -2.0457e+02 -2.0458e+02  2e-02  2e-16  3e-15\n",
      " 7: -2.0457e+02 -2.0458e+02  9e-03  8e-15  4e-15\n",
      " 8: -2.0457e+02 -2.0457e+02  1e-03  1e-14  5e-15\n",
      " 9: -2.0457e+02 -2.0457e+02  3e-05  6e-15  5e-15\n",
      "Optimal solution found.\n",
      "     pcost       dcost       gap    pres   dres\n",
      " 0: -1.4724e+02 -4.4983e+02  3e+02  3e-15  4e-15\n",
      " 1: -1.8680e+02 -2.1536e+02  3e+01  2e-15  4e-15\n",
      " 2: -2.0435e+02 -2.0804e+02  4e+00  1e-14  4e-15\n",
      " 3: -2.0453e+02 -2.0460e+02  7e-02  3e-15  5e-15\n",
      " 4: -2.0454e+02 -2.0456e+02  2e-02  2e-14  4e-15\n",
      " 5: -2.0454e+02 -2.0456e+02  2e-02  2e-16  4e-15\n",
      " 6: -2.0455e+02 -2.0456e+02  1e-02  9e-16  4e-15\n",
      " 7: -2.0455e+02 -2.0456e+02  8e-03  2e-15  4e-15\n",
      " 8: -2.0455e+02 -2.0456e+02  6e-03  8e-15  4e-15\n",
      " 9: -2.0455e+02 -2.0455e+02  4e-04  6e-15  4e-15\n",
      "10: -2.0455e+02 -2.0455e+02  2e-05  4e-16  5e-15\n",
      "Optimal solution found.\n",
      "     pcost       dcost       gap    pres   dres\n",
      " 0: -1.4750e+02 -4.4069e+02  3e+02  4e-15  4e-15\n",
      " 1: -1.8868e+02 -2.1696e+02  3e+01  2e-15  4e-15\n",
      " 2: -2.0967e+02 -2.1330e+02  4e+00  4e-15  4e-15\n",
      " 3: -2.0983e+02 -2.0998e+02  1e-01  1e-14  4e-15\n",
      " 4: -2.0988e+02 -2.0991e+02  3e-02  1e-15  4e-15\n",
      " 5: -2.0989e+02 -2.0992e+02  3e-02  6e-15  4e-15\n",
      " 6: -2.0989e+02 -2.0991e+02  3e-02  9e-15  5e-15\n",
      " 7: -2.0989e+02 -2.0992e+02  2e-02  9e-16  5e-15\n",
      " 8: -2.0990e+02 -2.0990e+02  5e-03  1e-14  5e-15\n",
      " 9: -2.0990e+02 -2.0990e+02  6e-04  8e-15  4e-15\n",
      "10: -2.0990e+02 -2.0990e+02  7e-06  8e-15  4e-15\n",
      "Optimal solution found.\n",
      "     pcost       dcost       gap    pres   dres\n",
      " 0: -1.4679e+02 -4.5856e+02  3e+02  2e-15  3e-15\n",
      " 1: -1.8431e+02 -2.1273e+02  3e+01  4e-16  2e-15\n",
      " 2: -1.9901e+02 -2.0147e+02  2e+00  4e-15  3e-15\n",
      " 3: -1.9915e+02 -1.9925e+02  1e-01  1e-14  3e-15\n",
      " 4: -1.9917e+02 -1.9923e+02  6e-02  4e-15  3e-15\n",
      " 5: -1.9916e+02 -1.9922e+02  6e-02  2e-15  3e-15\n",
      " 6: -1.9917e+02 -1.9923e+02  6e-02  9e-16  4e-15\n",
      " 7: -1.9917e+02 -1.9922e+02  4e-02  4e-15  2e-15\n",
      " 8: -1.9918e+02 -1.9921e+02  2e-02  2e-15  3e-15\n",
      " 9: -1.9919e+02 -1.9920e+02  1e-02  2e-15  4e-15\n",
      "10: -1.9919e+02 -1.9920e+02  4e-03  1e-15  3e-15\n",
      "11: -1.9919e+02 -1.9919e+02  1e-04  4e-16  4e-15\n",
      "Optimal solution found.\n",
      "     pcost       dcost       gap    pres   dres\n",
      " 0: -1.4724e+02 -4.4991e+02  3e+02  6e-15  3e-15\n",
      " 1: -1.8678e+02 -2.1535e+02  3e+01  1e-15  3e-15\n",
      " 2: -2.0434e+02 -2.0803e+02  4e+00  9e-15  4e-15\n",
      " 3: -2.0451e+02 -2.0460e+02  8e-02  1e-14  3e-15\n",
      " 4: -2.0453e+02 -2.0456e+02  3e-02  3e-15  4e-15\n",
      " 5: -2.0453e+02 -2.0456e+02  3e-02  8e-15  3e-15\n",
      " 6: -2.0453e+02 -2.0456e+02  3e-02  7e-15  4e-15\n",
      " 7: -2.0454e+02 -2.0456e+02  2e-02  8e-15  4e-15\n",
      " 8: -2.0455e+02 -2.0455e+02  1e-03  5e-15  5e-15\n",
      " 9: -2.0455e+02 -2.0455e+02  1e-05  5e-15  5e-15\n",
      "Optimal solution found.\n",
      "     pcost       dcost       gap    pres   dres\n",
      " 0: -1.4761e+02 -4.3101e+02  3e+02  4e-15  3e-15\n",
      " 1: -1.8997e+02 -2.1748e+02  3e+01  2e-15  3e-15\n",
      " 2: -2.1504e+02 -2.1537e+02  3e-01  7e-15  4e-15\n",
      " 3: -2.1529e+02 -2.1529e+02  3e-03  8e-15  5e-15\n",
      " 4: -2.1529e+02 -2.1529e+02  3e-05  5e-15  5e-15\n",
      "Optimal solution found.\n",
      "     pcost       dcost       gap    pres   dres\n",
      " 0: -1.4678e+02 -4.5858e+02  3e+02  1e-15  2e-15\n",
      " 1: -1.8430e+02 -2.1273e+02  3e+01  1e-15  2e-15\n",
      " 2: -1.9901e+02 -2.0147e+02  2e+00  3e-15  3e-15\n",
      " 3: -1.9915e+02 -1.9922e+02  6e-02  2e-16  3e-15\n",
      " 4: -1.9917e+02 -1.9919e+02  3e-02  2e-15  3e-15\n",
      " 5: -1.9917e+02 -1.9919e+02  2e-02  3e-15  3e-15\n",
      " 6: -1.9917e+02 -1.9919e+02  2e-02  4e-16  4e-15\n",
      " 7: -1.9918e+02 -1.9919e+02  7e-03  2e-16  3e-15\n",
      " 8: -1.9918e+02 -1.9918e+02  7e-04  4e-16  4e-15\n",
      " 9: -1.9918e+02 -1.9918e+02  1e-05  5e-15  4e-15\n",
      "Optimal solution found.\n",
      "     pcost       dcost       gap    pres   dres\n",
      " 0: -1.4614e+02 -4.6681e+02  3e+02  2e-15  3e-15\n",
      " 1: -1.8132e+02 -2.0919e+02  3e+01  2e-15  2e-15\n",
      " 2: -1.9366e+02 -1.9489e+02  1e+00  4e-16  3e-15\n",
      " 3: -1.9377e+02 -1.9386e+02  9e-02  1e-15  3e-15\n",
      " 4: -1.9378e+02 -1.9386e+02  7e-02  2e-15  3e-15\n",
      " 5: -1.9380e+02 -1.9384e+02  5e-02  5e-15  2e-15\n",
      " 6: -1.9381e+02 -1.9383e+02  2e-02  4e-15  3e-15\n",
      " 7: -1.9381e+02 -1.9382e+02  7e-03  9e-16  3e-15\n",
      " 8: -1.9381e+02 -1.9382e+02  2e-03  2e-15  3e-15\n",
      " 9: -1.9382e+02 -1.9382e+02  2e-04  6e-15  3e-15\n",
      "Optimal solution found.\n",
      "     pcost       dcost       gap    pres   dres\n",
      " 0: -1.4723e+02 -4.4987e+02  3e+02  4e-15  3e-15\n",
      " 1: -1.8678e+02 -2.1534e+02  3e+01  4e-15  4e-15\n",
      " 2: -2.0434e+02 -2.0803e+02  4e+00  2e-15  4e-15\n",
      " 3: -2.0451e+02 -2.0459e+02  7e-02  3e-15  5e-15\n",
      " 4: -2.0452e+02 -2.0455e+02  2e-02  7e-15  4e-15\n",
      " 5: -2.0453e+02 -2.0455e+02  2e-02  3e-15  5e-15\n",
      " 6: -2.0453e+02 -2.0455e+02  2e-02  3e-15  4e-15\n",
      " 7: -2.0453e+02 -2.0455e+02  1e-02  5e-15  4e-15\n",
      " 8: -2.0454e+02 -2.0454e+02  8e-03  3e-15  4e-15\n",
      " 9: -2.0454e+02 -2.0454e+02  2e-03  1e-15  4e-15\n",
      "10: -2.0454e+02 -2.0454e+02  8e-05  2e-15  6e-15\n",
      "Optimal solution found.\n",
      "     pcost       dcost       gap    pres   dres\n",
      " 0: -1.4752e+02 -4.4068e+02  3e+02  2e-16  3e-15\n",
      " 1: -1.8871e+02 -2.1699e+02  3e+01  4e-15  3e-15\n",
      " 2: -2.0970e+02 -2.1332e+02  4e+00  4e-16  4e-15\n",
      " 3: -2.0986e+02 -2.1001e+02  2e-01  3e-15  3e-15\n",
      " 4: -2.0990e+02 -2.0996e+02  5e-02  3e-15  3e-15\n",
      " 5: -2.0991e+02 -2.0996e+02  5e-02  4e-15  4e-15\n"
     ]
    },
    {
     "name": "stderr",
     "output_type": "stream",
     "text": [
      "\r",
      " 90%|█████████ | 27/30 [00:06<00:00,  3.46it/s]"
     ]
    },
    {
     "name": "stdout",
     "output_type": "stream",
     "text": [
      " 6: -2.0991e+02 -2.0996e+02  5e-02  2e-15  3e-15\n",
      " 7: -2.0991e+02 -2.0996e+02  5e-02  3e-15  3e-15\n",
      " 8: -2.0993e+02 -2.0994e+02  7e-03  1e-15  3e-15\n",
      " 9: -2.0993e+02 -2.0993e+02  2e-04  1e-15  4e-15\n",
      "Optimal solution found.\n",
      "     pcost       dcost       gap    pres   dres\n",
      " 0: -4.2405e+02 -1.8361e+03  1e+03  2e-14  1e-14\n",
      " 1: -5.7671e+02 -7.6810e+02  2e+02  5e-14  9e-15\n",
      " 2: -7.1298e+02 -7.3672e+02  2e+01  1e-14  2e-14\n",
      " 3: -7.1445e+02 -7.1528e+02  8e-01  1e-14  2e-14\n",
      " 4: -7.1465e+02 -7.1503e+02  4e-01  2e-14  1e-14\n",
      " 5: -7.1473e+02 -7.1500e+02  3e-01  4e-15  2e-14\n",
      " 6: -7.1480e+02 -7.1497e+02  2e-01  2e-14  1e-14\n",
      " 7: -7.1483e+02 -7.1493e+02  9e-02  5e-15  1e-14\n",
      " 8: -7.1487e+02 -7.1490e+02  3e-02  5e-14  2e-14\n",
      " 9: -7.1488e+02 -7.1488e+02  7e-04  7e-14  2e-14\n",
      "10: -7.1488e+02 -7.1488e+02  7e-06  5e-15  2e-14\n",
      "Optimal solution found.\n",
      "     pcost       dcost       gap    pres   dres\n",
      " 0: -4.2208e+02 -1.9218e+03  1e+03  1e-14  8e-15\n",
      " 1: -5.6233e+02 -7.5724e+02  2e+02  9e-16  7e-15\n",
      " 2: -6.9363e+02 -7.1553e+02  2e+01  1e-14  9e-15\n",
      " 3: -6.9496e+02 -6.9643e+02  1e+00  4e-15  1e-14\n",
      " 4: -6.9508e+02 -6.9640e+02  1e+00  7e-15  1e-14\n",
      " 5: -6.9513e+02 -6.9615e+02  1e+00  3e-14  1e-14\n",
      " 6: -6.9528e+02 -6.9597e+02  7e-01  2e-14  1e-14\n",
      " 7: -6.9543e+02 -6.9576e+02  3e-01  2e-14  2e-14\n",
      " 8: -6.9553e+02 -6.9562e+02  9e-02  2e-14  1e-14\n",
      " 9: -6.9556e+02 -6.9559e+02  2e-02  3e-14  1e-14\n",
      "10: -6.9557e+02 -6.9558e+02  2e-03  1e-14  1e-14\n",
      "11: -6.9558e+02 -6.9558e+02  2e-05  1e-14  1e-14\n",
      "Optimal solution found.\n",
      "     pcost       dcost       gap    pres   dres\n",
      " 0: -4.2618e+02 -1.6503e+03  1e+03  2e-14  9e-15\n",
      " 1: -6.0574e+02 -7.8021e+02  2e+02  2e-14  1e-14\n",
      " 2: -7.5154e+02 -7.6886e+02  2e+01  1e-14  1e-14\n",
      " 3: -7.5252e+02 -7.5390e+02  1e+00  4e-14  1e-14\n",
      " 4: -7.5289e+02 -7.5360e+02  7e-01  4e-15  1e-14\n",
      " 5: -7.5305e+02 -7.5363e+02  6e-01  4e-15  1e-14\n",
      " 6: -7.5310e+02 -7.5354e+02  4e-01  5e-15  1e-14\n",
      " 7: -7.5316e+02 -7.5352e+02  4e-01  1e-14  2e-14\n",
      " 8: -7.5329e+02 -7.5335e+02  6e-02  2e-15  1e-14\n",
      " 9: -7.5331e+02 -7.5331e+02  8e-04  1e-14  1e-14\n",
      "10: -7.5331e+02 -7.5331e+02  8e-06  1e-14  2e-14\n",
      "Optimal solution found.\n",
      "     pcost       dcost       gap    pres   dres\n",
      " 0: -4.2626e+02 -1.6500e+03  1e+03  1e-14  1e-14\n",
      " 1: -6.0596e+02 -7.8051e+02  2e+02  3e-14  1e-14\n",
      " 2: -7.5170e+02 -7.6907e+02  2e+01  2e-14  2e-14\n",
      " 3: -7.5271e+02 -7.5395e+02  1e+00  2e-14  1e-14\n",
      " 4: -7.5318e+02 -7.5355e+02  4e-01  2e-14  1e-14\n",
      " 5: -7.5323e+02 -7.5356e+02  3e-01  2e-15  1e-14\n",
      " 6: -7.5340e+02 -7.5344e+02  5e-02  2e-14  2e-14\n",
      " 7: -7.5342e+02 -7.5342e+02  1e-03  2e-16  2e-14\n",
      " 8: -7.5342e+02 -7.5342e+02  1e-05  1e-14  1e-14\n",
      "Optimal solution found.\n",
      "     pcost       dcost       gap    pres   dres\n",
      " 0: -4.2609e+02 -1.6501e+03  1e+03  2e-14  9e-15\n",
      " 1: -6.0549e+02 -7.8013e+02  2e+02  8e-15  9e-15\n",
      " 2: -7.5121e+02 -7.6866e+02  2e+01  5e-15  1e-14\n",
      " 3: -7.5227e+02 -7.5354e+02  1e+00  2e-14  1e-14\n",
      " 4: -7.5274e+02 -7.5315e+02  4e-01  2e-14  1e-14\n",
      " 5: -7.5278e+02 -7.5317e+02  4e-01  5e-15  1e-14\n",
      " 6: -7.5287e+02 -7.5310e+02  2e-01  7e-15  1e-14\n",
      " 7: -7.5288e+02 -7.5311e+02  2e-01  2e-15  1e-14\n",
      " 8: -7.5299e+02 -7.5301e+02  3e-02  1e-14  1e-14\n",
      " 9: -7.5300e+02 -7.5300e+02  1e-03  3e-14  1e-14\n",
      "10: -7.5300e+02 -7.5300e+02  1e-05  9e-15  2e-14\n",
      "Optimal solution found.\n",
      "     pcost       dcost       gap    pres   dres\n",
      " 0: -4.2600e+02 -1.6506e+03  1e+03  3e-15  8e-15\n",
      " 1: -6.0518e+02 -7.7990e+02  2e+02  9e-16  9e-15\n",
      " 2: -7.5106e+02 -7.6840e+02  2e+01  4e-15  1e-14\n",
      " 3: -7.5204e+02 -7.5346e+02  1e+00  2e-14  2e-14\n",
      " 4: -7.5243e+02 -7.5317e+02  7e-01  2e-15  1e-14\n",
      " 5: -7.5260e+02 -7.5319e+02  6e-01  2e-14  2e-14\n",
      " 6: -7.5266e+02 -7.5308e+02  4e-01  2e-15  1e-14\n",
      " 7: -7.5274e+02 -7.5303e+02  3e-01  5e-15  1e-14\n",
      " 8: -7.5285e+02 -7.5289e+02  4e-02  2e-16  1e-14\n",
      " 9: -7.5287e+02 -7.5287e+02  4e-04  1e-14  1e-14\n",
      "Optimal solution found.\n",
      "     pcost       dcost       gap    pres   dres\n",
      " 0: -4.2636e+02 -1.5497e+03  1e+03  8e-15  8e-15\n",
      " 1: -6.2044e+02 -7.8018e+02  2e+02  9e-15  9e-15\n",
      " 2: -7.7062e+02 -7.7341e+02  3e+00  4e-15  2e-14\n",
      " 3: -7.7212e+02 -7.7215e+02  3e-02  1e-14  1e-14\n",
      " 4: -7.7214e+02 -7.7214e+02  3e-04  7e-15  1e-14\n",
      "Optimal solution found.\n",
      "     pcost       dcost       gap    pres   dres\n",
      " 0: -4.2652e+02 -1.5494e+03  1e+03  7e-15  1e-14\n",
      " 1: -6.2094e+02 -7.8055e+02  2e+02  6e-15  9e-15\n",
      " 2: -7.7105e+02 -7.7384e+02  3e+00  4e-15  2e-14\n",
      " 3: -7.7256e+02 -7.7259e+02  3e-02  1e-14  2e-14\n",
      " 4: -7.7258e+02 -7.7258e+02  3e-04  2e-14  2e-14\n",
      "Optimal solution found.\n",
      "     pcost       dcost       gap    pres   dres\n",
      " 0: -4.2607e+02 -1.6503e+03  1e+03  2e-15  9e-15\n",
      " 1: -6.0542e+02 -7.8011e+02  2e+02  2e-15  7e-15\n",
      " 2: -7.5122e+02 -7.6860e+02  2e+01  2e-14  1e-14\n",
      " 3: -7.5223e+02 -7.5351e+02  1e+00  2e-14  1e-14\n",
      " 4: -7.5269e+02 -7.5312e+02  4e-01  1e-14  9e-15\n",
      " 5: -7.5274e+02 -7.5314e+02  4e-01  1e-14  1e-14\n",
      " 6: -7.5282e+02 -7.5308e+02  3e-01  1e-14  9e-15\n",
      " 7: -7.5283e+02 -7.5309e+02  3e-01  7e-15  1e-14\n",
      " 8: -7.5296e+02 -7.5298e+02  2e-02  7e-15  1e-14\n",
      " 9: -7.5296e+02 -7.5296e+02  3e-04  4e-15  1e-14\n",
      "Optimal solution found.\n",
      "     pcost       dcost       gap    pres   dres\n",
      " 0: -4.2658e+02 -1.5496e+03  1e+03  9e-16  8e-15\n",
      " 1: -6.2109e+02 -7.8072e+02  2e+02  4e-15  8e-15\n",
      " 2: -7.7122e+02 -7.7400e+02  3e+00  7e-15  1e-14\n",
      " 3: -7.7273e+02 -7.7276e+02  3e-02  4e-15  2e-14\n",
      " 4: -7.7274e+02 -7.7274e+02  3e-04  2e-16  2e-14\n",
      "Optimal solution found.\n",
      "     pcost       dcost       gap    pres   dres\n",
      " 0: -4.2529e+02 -1.7458e+03  1e+03  2e-14  1e-14\n",
      " 1: -5.9085e+02 -7.7570e+02  2e+02  1e-16  1e-14\n",
      " 2: -7.3207e+02 -7.5502e+02  2e+01  2e-14  2e-14\n",
      " 3: -7.3336e+02 -7.3456e+02  1e+00  2e-14  2e-14\n",
      " 4: -7.3357e+02 -7.3432e+02  8e-01  7e-15  1e-14\n",
      " 5: -7.3362e+02 -7.3421e+02  6e-01  2e-14  2e-14\n",
      " 6: -7.3374e+02 -7.3420e+02  5e-01  6e-14  2e-14\n",
      " 7: -7.3387e+02 -7.3404e+02  2e-01  9e-15  1e-14\n",
      " 8: -7.3394e+02 -7.3397e+02  4e-02  2e-14  2e-14\n",
      " 9: -7.3395e+02 -7.3396e+02  4e-03  2e-14  2e-14\n",
      "10: -7.3395e+02 -7.3395e+02  1e-04  4e-15  2e-14\n",
      "Optimal solution found.\n",
      "     pcost       dcost       gap    pres   dres\n",
      " 0: -4.2529e+02 -1.7461e+03  1e+03  5e-15  1e-14\n",
      " 1: -5.9085e+02 -7.7557e+02  2e+02  1e-14  1e-14\n",
      " 2: -7.3208e+02 -7.5500e+02  2e+01  5e-15  2e-14\n",
      " 3: -7.3336e+02 -7.3457e+02  1e+00  1e-14  2e-14\n",
      " 4: -7.3357e+02 -7.3434e+02  8e-01  5e-14  1e-14\n",
      " 5: -7.3361e+02 -7.3423e+02  6e-01  2e-14  1e-14\n",
      " 6: -7.3375e+02 -7.3421e+02  5e-01  3e-14  2e-14\n",
      " 7: -7.3392e+02 -7.3402e+02  1e-01  2e-14  2e-14\n",
      " 8: -7.3396e+02 -7.3398e+02  2e-02  4e-15  2e-14\n",
      " 9: -7.3397e+02 -7.3397e+02  3e-04  3e-14  2e-14\n",
      "Optimal solution found.\n",
      "     pcost       dcost       gap    pres   dres\n",
      " 0: -4.2608e+02 -1.6502e+03  1e+03  0e+00  9e-15\n",
      " 1: -6.0544e+02 -7.8012e+02  2e+02  2e-14  1e-14\n",
      " 2: -7.5118e+02 -7.6863e+02  2e+01  3e-14  2e-14\n",
      " 3: -7.5224e+02 -7.5352e+02  1e+00  1e-14  2e-14\n",
      " 4: -7.5269e+02 -7.5314e+02  4e-01  5e-15  1e-14\n",
      " 5: -7.5276e+02 -7.5317e+02  4e-01  4e-15  1e-14\n",
      " 6: -7.5283e+02 -7.5313e+02  3e-01  2e-14  2e-14\n",
      " 7: -7.5285e+02 -7.5313e+02  3e-01  1e-14  1e-14\n",
      " 8: -7.5295e+02 -7.5300e+02  6e-02  5e-15  2e-14\n",
      " 9: -7.5297e+02 -7.5297e+02  3e-03  3e-14  2e-14\n",
      "10: -7.5297e+02 -7.5297e+02  3e-05  4e-14  2e-14\n",
      "Optimal solution found.\n",
      "     pcost       dcost       gap    pres   dres\n",
      " 0: -4.2630e+02 -1.6501e+03  1e+03  1e-14  1e-14\n",
      " 1: -6.0608e+02 -7.8060e+02  2e+02  2e-14  1e-14\n",
      " 2: -7.5183e+02 -7.6919e+02  2e+01  1e-14  2e-14\n",
      " 3: -7.5284e+02 -7.5407e+02  1e+00  4e-15  2e-14\n",
      " 4: -7.5329e+02 -7.5368e+02  4e-01  7e-14  2e-14\n",
      " 5: -7.5334e+02 -7.5370e+02  4e-01  4e-15  2e-14\n",
      " 6: -7.5343e+02 -7.5367e+02  2e-01  9e-15  2e-14\n",
      " 7: -7.5345e+02 -7.5366e+02  2e-01  6e-14  1e-14\n",
      " 8: -7.5351e+02 -7.5357e+02  5e-02  6e-14  2e-14\n",
      " 9: -7.5354e+02 -7.5354e+02  4e-03  1e-14  2e-14\n",
      "10: -7.5354e+02 -7.5354e+02  4e-05  7e-15  2e-14\n",
      "Optimal solution found.\n",
      "     pcost       dcost       gap    pres   dres\n",
      " 0: -4.2542e+02 -1.7456e+03  1e+03  3e-15  9e-15\n",
      " 1: -5.9119e+02 -7.7604e+02  2e+02  3e-15  1e-14\n",
      " 2: -7.3228e+02 -7.5537e+02  2e+01  4e-15  2e-14\n",
      " 3: -7.3368e+02 -7.3459e+02  9e-01  5e-15  1e-14\n",
      " 4: -7.3393e+02 -7.3428e+02  3e-01  4e-14  2e-14\n",
      " 5: -7.3397e+02 -7.3429e+02  3e-01  4e-14  2e-14\n",
      " 6: -7.3407e+02 -7.3424e+02  2e-01  3e-14  1e-14\n",
      " 7: -7.3412e+02 -7.3419e+02  7e-02  3e-14  2e-14\n",
      " 8: -7.3415e+02 -7.3416e+02  3e-03  2e-16  2e-14\n",
      " 9: -7.3415e+02 -7.3415e+02  3e-05  5e-15  2e-14\n",
      "Optimal solution found.\n",
      "     pcost       dcost       gap    pres   dres\n",
      " 0: -4.2619e+02 -1.6505e+03  1e+03  3e-14  8e-15\n",
      " 1: -6.0572e+02 -7.8029e+02  2e+02  3e-14  9e-15\n",
      " 2: -7.5156e+02 -7.6889e+02  2e+01  7e-15  1e-14\n",
      " 3: -7.5254e+02 -7.5393e+02  1e+00  1e-14  1e-14\n",
      " 4: -7.5291e+02 -7.5364e+02  7e-01  3e-14  1e-14\n"
     ]
    },
    {
     "name": "stderr",
     "output_type": "stream",
     "text": [
      "\r",
      " 93%|█████████▎| 28/30 [00:06<00:00,  3.45it/s]"
     ]
    },
    {
     "name": "stdout",
     "output_type": "stream",
     "text": [
      " 5: -7.5308e+02 -7.5367e+02  6e-01  2e-14  1e-14\n",
      " 6: -7.5313e+02 -7.5357e+02  4e-01  3e-14  1e-14\n",
      " 7: -7.5319e+02 -7.5354e+02  3e-01  1e-14  1e-14\n",
      " 8: -7.5332e+02 -7.5337e+02  5e-02  1e-14  1e-14\n",
      " 9: -7.5334e+02 -7.5334e+02  6e-04  2e-14  2e-14\n",
      "Optimal solution found.\n",
      "     pcost       dcost       gap    pres   dres\n",
      " 0: -4.2404e+02 -1.8361e+03  1e+03  6e-15  9e-15\n",
      " 1: -5.7669e+02 -7.6808e+02  2e+02  7e-15  7e-15\n",
      " 2: -7.1296e+02 -7.3670e+02  2e+01  7e-15  9e-15\n",
      " 3: -7.1443e+02 -7.1526e+02  8e-01  4e-15  1e-14\n",
      " 4: -7.1465e+02 -7.1500e+02  4e-01  7e-15  9e-15\n",
      " 5: -7.1471e+02 -7.1499e+02  3e-01  2e-15  8e-15\n",
      " 6: -7.1478e+02 -7.1494e+02  2e-01  4e-15  8e-15\n",
      " 7: -7.1484e+02 -7.1490e+02  7e-02  4e-15  1e-14\n",
      " 8: -7.1487e+02 -7.1487e+02  3e-03  7e-15  1e-14\n",
      " 9: -7.1487e+02 -7.1487e+02  3e-05  4e-15  1e-14\n",
      "Optimal solution found.\n",
      "     pcost       dcost       gap    pres   dres\n",
      " 0: -4.2618e+02 -1.6506e+03  1e+03  2e-15  8e-15\n",
      " 1: -6.0570e+02 -7.8027e+02  2e+02  6e-15  8e-15\n",
      " 2: -7.5154e+02 -7.6886e+02  2e+01  2e-14  1e-14\n",
      " 3: -7.5252e+02 -7.5383e+02  1e+00  2e-14  1e-14\n",
      " 4: -7.5296e+02 -7.5348e+02  5e-01  1e-14  1e-14\n",
      " 5: -7.5304e+02 -7.5351e+02  5e-01  2e-14  1e-14\n",
      " 6: -7.5310e+02 -7.5346e+02  4e-01  9e-15  1e-14\n",
      " 7: -7.5314e+02 -7.5344e+02  3e-01  5e-15  1e-14\n",
      " 8: -7.5327e+02 -7.5329e+02  2e-02  9e-15  1e-14\n",
      " 9: -7.5328e+02 -7.5328e+02  1e-03  5e-15  1e-14\n",
      "10: -7.5328e+02 -7.5328e+02  3e-05  9e-15  1e-14\n",
      "Optimal solution found.\n",
      "     pcost       dcost       gap    pres   dres\n",
      " 0: -4.2644e+02 -1.5497e+03  1e+03  6e-15  1e-14\n",
      " 1: -6.2067e+02 -7.8037e+02  2e+02  3e-14  1e-14\n",
      " 2: -7.7083e+02 -7.7362e+02  3e+00  2e-14  1e-14\n",
      " 3: -7.7233e+02 -7.7236e+02  3e-02  3e-14  1e-14\n",
      " 4: -7.7235e+02 -7.7235e+02  3e-04  3e-14  2e-14\n",
      "Optimal solution found.\n",
      "     pcost       dcost       gap    pres   dres\n",
      " 0: -4.2606e+02 -1.6499e+03  1e+03  9e-16  9e-15\n",
      " 1: -6.0544e+02 -7.7995e+02  2e+02  1e-16  9e-15\n",
      " 2: -7.5122e+02 -7.6854e+02  2e+01  2e-14  1e-14\n",
      " 3: -7.5220e+02 -7.5360e+02  1e+00  2e-14  2e-14\n",
      " 4: -7.5257e+02 -7.5331e+02  7e-01  5e-15  1e-14\n",
      " 5: -7.5274e+02 -7.5333e+02  6e-01  1e-14  1e-14\n",
      " 6: -7.5280e+02 -7.5323e+02  4e-01  5e-15  1e-14\n",
      " 7: -7.5287e+02 -7.5320e+02  3e-01  2e-15  1e-14\n",
      " 8: -7.5299e+02 -7.5303e+02  5e-02  2e-14  2e-14\n",
      " 9: -7.5301e+02 -7.5301e+02  6e-04  2e-14  1e-14\n",
      "Optimal solution found.\n",
      "     pcost       dcost       gap    pres   dres\n",
      " 0: -4.2605e+02 -1.6505e+03  1e+03  7e-15  1e-14\n",
      " 1: -6.0532e+02 -7.8000e+02  2e+02  1e-14  1e-14\n",
      " 2: -7.5117e+02 -7.6851e+02  2e+01  2e-14  2e-14\n",
      " 3: -7.5215e+02 -7.5356e+02  1e+00  2e-16  2e-14\n",
      " 4: -7.5252e+02 -7.5327e+02  7e-01  5e-15  2e-14\n",
      " 5: -7.5270e+02 -7.5329e+02  6e-01  3e-14  2e-14\n",
      " 6: -7.5275e+02 -7.5319e+02  4e-01  4e-14  2e-14\n",
      " 7: -7.5283e+02 -7.5316e+02  3e-01  7e-15  2e-14\n",
      " 8: -7.5295e+02 -7.5299e+02  5e-02  3e-14  2e-14\n",
      " 9: -7.5297e+02 -7.5297e+02  5e-04  3e-14  2e-14\n",
      "Optimal solution found.\n",
      "     pcost       dcost       gap    pres   dres\n",
      " 0: -4.2642e+02 -1.5497e+03  1e+03  2e-15  1e-14\n",
      " 1: -6.2060e+02 -7.8031e+02  2e+02  4e-15  1e-14\n",
      " 2: -7.7077e+02 -7.7355e+02  3e+00  3e-14  1e-14\n",
      " 3: -7.7227e+02 -7.7230e+02  3e-02  6e-14  2e-14\n",
      " 4: -7.7229e+02 -7.7229e+02  3e-04  2e-14  2e-14\n",
      "Optimal solution found.\n",
      "     pcost       dcost       gap    pres   dres\n",
      " 0: -4.2404e+02 -1.8361e+03  1e+03  3e-15  9e-15\n",
      " 1: -5.7672e+02 -7.6798e+02  2e+02  2e-14  8e-15\n",
      " 2: -7.1308e+02 -7.3665e+02  2e+01  3e-14  1e-14\n",
      " 3: -7.1443e+02 -7.1564e+02  1e+00  1e-14  1e-14\n",
      " 4: -7.1460e+02 -7.1549e+02  9e-01  2e-14  2e-14\n",
      " 5: -7.1460e+02 -7.1536e+02  8e-01  2e-15  1e-14\n",
      " 6: -7.1474e+02 -7.1521e+02  5e-01  1e-14  1e-14\n",
      " 7: -7.1481e+02 -7.1521e+02  4e-01  1e-14  1e-14\n",
      " 8: -7.1494e+02 -7.1503e+02  9e-02  5e-15  2e-14\n",
      " 9: -7.1497e+02 -7.1498e+02  8e-03  3e-14  2e-14\n",
      "10: -7.1498e+02 -7.1498e+02  1e-04  3e-14  1e-14\n",
      "Optimal solution found.\n",
      "     pcost       dcost       gap    pres   dres\n",
      " 0: -4.2538e+02 -1.7458e+03  1e+03  8e-15  9e-15\n",
      " 1: -5.9107e+02 -7.7595e+02  2e+02  8e-15  9e-15\n",
      " 2: -7.3219e+02 -7.5527e+02  2e+01  4e-15  1e-14\n",
      " 3: -7.3358e+02 -7.3452e+02  9e-01  1e-14  2e-14\n",
      " 4: -7.3382e+02 -7.3422e+02  4e-01  9e-15  1e-14\n",
      " 5: -7.3387e+02 -7.3423e+02  4e-01  1e-14  2e-14\n",
      " 6: -7.3394e+02 -7.3420e+02  3e-01  2e-15  1e-14\n",
      " 7: -7.3399e+02 -7.3415e+02  2e-01  7e-15  1e-14\n",
      " 8: -7.3404e+02 -7.3410e+02  6e-02  2e-15  1e-14\n",
      " 9: -7.3406e+02 -7.3407e+02  7e-03  2e-16  1e-14\n",
      "10: -7.3407e+02 -7.3407e+02  9e-04  1e-14  2e-14\n",
      "11: -7.3407e+02 -7.3407e+02  2e-05  2e-15  1e-14\n",
      "Optimal solution found.\n",
      "     pcost       dcost       gap    pres   dres\n",
      " 0: -4.2545e+02 -1.7455e+03  1e+03  4e-15  1e-14\n",
      " 1: -5.9128e+02 -7.7610e+02  2e+02  9e-16  1e-14\n",
      " 2: -7.3236e+02 -7.5544e+02  2e+01  1e-14  2e-14\n",
      " 3: -7.3376e+02 -7.3463e+02  9e-01  5e-15  2e-14\n",
      " 4: -7.3402e+02 -7.3431e+02  3e-01  4e-15  2e-14\n",
      " 5: -7.3407e+02 -7.3432e+02  3e-01  3e-14  2e-14\n",
      " 6: -7.3415e+02 -7.3428e+02  1e-01  2e-14  2e-14\n",
      " 7: -7.3421e+02 -7.3422e+02  8e-03  9e-15  2e-14\n",
      " 8: -7.3422e+02 -7.3422e+02  2e-04  9e-15  2e-14\n",
      "Optimal solution found.\n",
      "     pcost       dcost       gap    pres   dres\n",
      " 0: -1.4195e+03 -7.9441e+03  7e+03  7e-15  3e-14\n",
      " 1: -1.8772e+03 -2.7849e+03  9e+02  1e-14  5e-14\n",
      " 2: -2.6083e+03 -2.7091e+03  1e+02  1e-13  7e-14\n",
      " 3: -2.6155e+03 -2.6283e+03  1e+01  2e-13  7e-14\n",
      " 4: -2.6168e+03 -2.6289e+03  1e+01  6e-14  5e-14\n",
      " 5: -2.6169e+03 -2.6262e+03  9e+00  4e-14  6e-14\n",
      " 6: -2.6182e+03 -2.6253e+03  7e+00  2e-13  7e-14\n",
      " 7: -2.6205e+03 -2.6222e+03  2e+00  3e-13  8e-14\n",
      " 8: -2.6210e+03 -2.6215e+03  5e-01  2e-13  7e-14\n",
      " 9: -2.6212e+03 -2.6213e+03  3e-02  2e-13  9e-14\n",
      "10: -2.6213e+03 -2.6213e+03  4e-04  2e-13  9e-14\n",
      "Optimal solution found.\n",
      "     pcost       dcost       gap    pres   dres\n",
      " 0: -1.4173e+03 -9.0271e+03  8e+03  1e-14  3e-14\n",
      " 1: -1.8049e+03 -2.7556e+03  1e+03  1e-13  4e-14\n",
      " 2: -2.5463e+03 -2.6585e+03  1e+02  2e-13  6e-14\n",
      " 3: -2.5551e+03 -2.5643e+03  9e+00  2e-13  6e-14\n",
      " 4: -2.5563e+03 -2.5637e+03  7e+00  1e-13  5e-14\n",
      " 5: -2.5583e+03 -2.5608e+03  2e+00  7e-15  6e-14\n",
      " 6: -2.5592e+03 -2.5596e+03  4e-01  9e-14  6e-14\n",
      " 7: -2.5594e+03 -2.5594e+03  3e-02  1e-13  5e-14\n",
      " 8: -2.5594e+03 -2.5594e+03  3e-04  4e-14  5e-14\n",
      "Optimal solution found.\n",
      "     pcost       dcost       gap    pres   dres\n",
      " 0: -1.4018e+03 -1.1013e+04  1e+04  3e-14  4e-14\n",
      " 1: -1.6865e+03 -2.6582e+03  1e+03  6e-14  3e-14\n",
      " 2: -2.4065e+03 -2.5203e+03  1e+02  4e-14  4e-14\n",
      " 3: -2.4150e+03 -2.4279e+03  1e+01  4e-14  5e-14\n",
      " 4: -2.4176e+03 -2.4253e+03  8e+00  4e-15  5e-14\n",
      " 5: -2.4195e+03 -2.4215e+03  2e+00  2e-14  5e-14\n",
      " 6: -2.4202e+03 -2.4207e+03  5e-01  9e-14  5e-14\n",
      " 7: -2.4204e+03 -2.4204e+03  4e-02  6e-14  7e-14\n",
      " 8: -2.4204e+03 -2.4204e+03  1e-03  2e-14  6e-14\n",
      "Optimal solution found.\n",
      "     pcost       dcost       gap    pres   dres\n",
      " 0: -1.4164e+03 -9.0261e+03  8e+03  2e-14  4e-14\n",
      " 1: -1.8031e+03 -2.7512e+03  9e+02  2e-14  4e-14\n",
      " 2: -2.5445e+03 -2.6549e+03  1e+02  5e-14  5e-14\n",
      " 3: -2.5525e+03 -2.5626e+03  1e+01  8e-14  6e-14\n",
      " 4: -2.5542e+03 -2.5622e+03  8e+00  1e-13  6e-14\n",
      " 5: -2.5557e+03 -2.5600e+03  4e+00  9e-14  6e-14\n",
      " 6: -2.5567e+03 -2.5587e+03  2e+00  1e-13  6e-14\n",
      " 7: -2.5570e+03 -2.5581e+03  1e+00  4e-14  6e-14\n",
      " 8: -2.5574e+03 -2.5576e+03  2e-01  6e-14  7e-14\n",
      " 9: -2.5575e+03 -2.5575e+03  9e-03  2e-16  7e-14\n",
      "10: -2.5575e+03 -2.5575e+03  9e-05  1e-14  7e-14\n",
      "Optimal solution found.\n",
      "     pcost       dcost       gap    pres   dres\n",
      " 0: -1.4165e+03 -9.0300e+03  8e+03  3e-14  4e-14\n",
      " 1: -1.8030e+03 -2.7534e+03  1e+03  4e-15  4e-14\n",
      " 2: -2.5446e+03 -2.6559e+03  1e+02  1e-13  6e-14\n",
      " 3: -2.5523e+03 -2.5680e+03  2e+01  4e-14  6e-14\n",
      " 4: -2.5533e+03 -2.5682e+03  1e+01  1e-13  5e-14\n",
      " 5: -2.5546e+03 -2.5630e+03  8e+00  4e-14  5e-14\n",
      " 6: -2.5557e+03 -2.5610e+03  5e+00  1e-13  5e-14\n",
      " 7: -2.5571e+03 -2.5595e+03  2e+00  5e-14  5e-14\n",
      " 8: -2.5581e+03 -2.5584e+03  3e-01  2e-14  7e-14\n",
      " 9: -2.5582e+03 -2.5582e+03  4e-03  1e-13  6e-14\n",
      "10: -2.5582e+03 -2.5582e+03  4e-05  3e-14  7e-14\n",
      "Optimal solution found.\n",
      "     pcost       dcost       gap    pres   dres\n",
      " 0: -1.4171e+03 -9.0303e+03  8e+03  5e-14  3e-14\n",
      " 1: -1.8044e+03 -2.7536e+03  9e+02  4e-15  3e-14\n",
      " 2: -2.5464e+03 -2.6572e+03  1e+02  4e-14  3e-14\n",
      " 3: -2.5546e+03 -2.5644e+03  1e+01  4e-15  4e-14\n",
      " 4: -2.5561e+03 -2.5638e+03  8e+00  2e-14  4e-14\n",
      " 5: -2.5576e+03 -2.5617e+03  4e+00  7e-15  5e-14\n",
      " 6: -2.5585e+03 -2.5603e+03  2e+00  1e-14  4e-14\n",
      " 7: -2.5589e+03 -2.5597e+03  8e-01  5e-14  3e-14\n",
      " 8: -2.5591e+03 -2.5594e+03  3e-01  2e-14  4e-14\n",
      " 9: -2.5592e+03 -2.5592e+03  1e-02  4e-14  5e-14\n",
      "10: -2.5592e+03 -2.5592e+03  5e-04  1e-13  6e-14\n",
      "Optimal solution found.\n",
      "     pcost       dcost       gap    pres   dres\n",
      " 0: -1.4231e+03 -5.5748e+03  4e+03  9e-14  3e-14\n",
      " 1: -2.1359e+03 -2.7873e+03  7e+02  8e-14  4e-14\n",
      " 2: -2.7469e+03 -2.7611e+03  1e+01  4e-14  5e-14\n",
      " 3: -2.7531e+03 -2.7533e+03  1e-01  7e-14  5e-14\n",
      " 4: -2.7532e+03 -2.7532e+03  1e-03  1e-13  6e-14\n",
      "Optimal solution found.\n",
      "     pcost       dcost       gap    pres   dres\n",
      " 0: -1.4247e+03 -6.7861e+03  5e+03  3e-14  3e-14\n",
      " 1: -1.9886e+03 -2.8101e+03  8e+02  3e-14  3e-14\n",
      " 2: -2.6847e+03 -2.7598e+03  8e+01  2e-14  5e-14\n",
      " 3: -2.6916e+03 -2.6980e+03  6e+00  2e-16  5e-14\n",
      " 4: -2.6945e+03 -2.6962e+03  2e+00  6e-14  6e-14\n",
      " 5: -2.6950e+03 -2.6954e+03  3e-01  4e-14  7e-14\n",
      " 6: -2.6951e+03 -2.6953e+03  1e-01  5e-14  4e-14\n",
      " 7: -2.6952e+03 -2.6952e+03  1e-02  2e-14  7e-14\n",
      " 8: -2.6952e+03 -2.6952e+03  1e-04  1e-13  6e-14\n",
      "Optimal solution found.\n",
      "     pcost       dcost       gap    pres   dres\n",
      " 0: -1.4099e+03 -1.0049e+04  9e+03  4e-14  3e-14\n",
      " 1: -1.7395e+03 -2.7098e+03  1e+03  1e-14  3e-14\n",
      " 2: -2.4745e+03 -2.5901e+03  1e+02  5e-14  4e-14\n",
      " 3: -2.4833e+03 -2.4945e+03  1e+01  2e-14  4e-14\n",
      " 4: -2.4850e+03 -2.4933e+03  8e+00  6e-14  5e-14\n",
      " 5: -2.4872e+03 -2.4898e+03  3e+00  9e-14  4e-14\n",
      " 6: -2.4879e+03 -2.4889e+03  1e+00  4e-14  5e-14\n",
      " 7: -2.4881e+03 -2.4886e+03  4e-01  6e-14  5e-14\n",
      " 8: -2.4883e+03 -2.4883e+03  3e-02  6e-14  6e-14\n",
      " 9: -2.4883e+03 -2.4883e+03  4e-04  8e-14  6e-14\n",
      "Optimal solution found.\n",
      "     pcost       dcost       gap    pres   dres\n",
      " 0: -1.4196e+03 -7.9440e+03  7e+03  6e-14  3e-14\n",
      " 1: -1.8775e+03 -2.7858e+03  9e+02  4e-14  3e-14\n",
      " 2: -2.6086e+03 -2.7096e+03  1e+02  1e-13  5e-14\n",
      " 3: -2.6159e+03 -2.6286e+03  1e+01  2e-13  5e-14\n",
      " 4: -2.6172e+03 -2.6292e+03  1e+01  6e-14  6e-14\n",
      " 5: -2.6174e+03 -2.6265e+03  9e+00  1e-13  5e-14\n",
      " 6: -2.6189e+03 -2.6255e+03  7e+00  3e-14  6e-14\n",
      " 7: -2.6213e+03 -2.6222e+03  9e-01  7e-14  8e-14\n",
      " 8: -2.6216e+03 -2.6218e+03  1e-01  6e-14  6e-14\n",
      " 9: -2.6217e+03 -2.6217e+03  3e-03  1e-14  8e-14\n",
      "10: -2.6217e+03 -2.6217e+03  3e-05  2e-13  6e-14\n",
      "Optimal solution found.\n",
      "     pcost       dcost       gap    pres   dres\n",
      " 0: -1.4198e+03 -7.9374e+03  7e+03  1e-14  3e-14\n",
      " 1: -1.8785e+03 -2.7846e+03  9e+02  6e-14  4e-14\n",
      " 2: -2.6080e+03 -2.7099e+03  1e+02  4e-14  6e-14\n",
      " 3: -2.6167e+03 -2.6240e+03  7e+00  1e-13  6e-14\n",
      " 4: -2.6190e+03 -2.6228e+03  4e+00  2e-13  6e-14\n",
      " 5: -2.6198e+03 -2.6214e+03  2e+00  7e-14  7e-14\n"
     ]
    },
    {
     "name": "stderr",
     "output_type": "stream",
     "text": [
      "\r",
      " 97%|█████████▋| 29/30 [00:07<00:00,  3.63it/s]"
     ]
    },
    {
     "name": "stdout",
     "output_type": "stream",
     "text": [
      " 6: -2.6203e+03 -2.6208e+03  5e-01  6e-14  5e-14\n",
      " 7: -2.6205e+03 -2.6205e+03  2e-02  1e-13  6e-14\n",
      " 8: -2.6205e+03 -2.6205e+03  2e-04  1e-14  6e-14\n",
      "Optimal solution found.\n",
      "     pcost       dcost       gap    pres   dres\n",
      " 0: -1.4161e+03 -9.0321e+03  8e+03  1e-14  3e-14\n",
      " 1: -1.8023e+03 -2.7482e+03  9e+02  1e-14  3e-14\n",
      " 2: -2.5435e+03 -2.6531e+03  1e+02  5e-14  5e-14\n",
      " 3: -2.5511e+03 -2.5676e+03  2e+01  3e-14  5e-14\n",
      " 4: -2.5521e+03 -2.5679e+03  2e+01  6e-14  5e-14\n",
      " 5: -2.5537e+03 -2.5624e+03  9e+00  2e-14  5e-14\n",
      " 6: -2.5551e+03 -2.5601e+03  5e+00  1e-13  6e-14\n",
      " 7: -2.5568e+03 -2.5585e+03  2e+00  1e-14  5e-14\n",
      " 8: -2.5574e+03 -2.5577e+03  3e-01  5e-14  6e-14\n",
      " 9: -2.5576e+03 -2.5576e+03  3e-02  4e-14  6e-14\n",
      "10: -2.5576e+03 -2.5576e+03  3e-04  1e-13  5e-14\n",
      "Optimal solution found.\n",
      "     pcost       dcost       gap    pres   dres\n",
      " 0: -1.4221e+03 -7.9415e+03  7e+03  2e-14  3e-14\n",
      " 1: -1.8842e+03 -2.7883e+03  9e+02  8e-14  3e-14\n",
      " 2: -2.6167e+03 -2.7164e+03  1e+02  6e-14  5e-14\n",
      " 3: -2.6240e+03 -2.6353e+03  1e+01  1e-13  5e-14\n",
      " 4: -2.6252e+03 -2.6357e+03  1e+01  2e-16  4e-14\n",
      " 5: -2.6253e+03 -2.6335e+03  8e+00  9e-14  4e-14\n",
      " 6: -2.6265e+03 -2.6326e+03  6e+00  1e-13  5e-14\n",
      " 7: -2.6283e+03 -2.6299e+03  2e+00  2e-14  6e-14\n",
      " 8: -2.6287e+03 -2.6294e+03  7e-01  7e-14  5e-14\n",
      " 9: -2.6290e+03 -2.6291e+03  4e-02  1e-13  6e-14\n",
      "10: -2.6291e+03 -2.6291e+03  4e-04  1e-13  7e-14\n",
      "Optimal solution found.\n",
      "     pcost       dcost       gap    pres   dres\n",
      " 0: -1.4220e+03 -6.7897e+03  5e+03  4e-15  3e-14\n",
      " 1: -1.9802e+03 -2.8049e+03  8e+02  2e-14  3e-14\n",
      " 2: -2.6755e+03 -2.7512e+03  8e+01  7e-15  4e-14\n",
      " 3: -2.6823e+03 -2.6894e+03  7e+00  4e-14  5e-14\n",
      " 4: -2.6854e+03 -2.6878e+03  2e+00  9e-14  6e-14\n",
      " 5: -2.6860e+03 -2.6867e+03  6e-01  2e-16  5e-14\n",
      " 6: -2.6862e+03 -2.6864e+03  2e-01  4e-14  6e-14\n",
      " 7: -2.6863e+03 -2.6863e+03  2e-03  1e-13  6e-14\n",
      "Optimal solution found.\n",
      "     pcost       dcost       gap    pres   dres\n",
      " 0: -1.4215e+03 -7.9388e+03  7e+03  3e-14  3e-14\n",
      " 1: -1.8825e+03 -2.7903e+03  9e+02  4e-15  3e-14\n",
      " 2: -2.6143e+03 -2.7155e+03  1e+02  7e-15  4e-14\n",
      " 3: -2.6223e+03 -2.6297e+03  7e+00  6e-14  4e-14\n",
      " 4: -2.6248e+03 -2.6284e+03  4e+00  5e-14  4e-14\n",
      " 5: -2.6258e+03 -2.6266e+03  8e-01  2e-14  5e-14\n",
      " 6: -2.6262e+03 -2.6262e+03  9e-02  1e-14  4e-14\n",
      " 7: -2.6262e+03 -2.6262e+03  1e-03  4e-14  7e-14\n",
      "Optimal solution found.\n",
      "     pcost       dcost       gap    pres   dres\n",
      " 0: -1.4099e+03 -1.0054e+04  9e+03  4e-14  3e-14\n",
      " 1: -1.7395e+03 -2.7102e+03  1e+03  2e-14  3e-14\n",
      " 2: -2.4746e+03 -2.5904e+03  1e+02  7e-14  4e-14\n",
      " 3: -2.4834e+03 -2.4935e+03  1e+01  9e-14  4e-14\n",
      " 4: -2.4850e+03 -2.4924e+03  7e+00  5e-14  4e-14\n",
      " 5: -2.4874e+03 -2.4886e+03  1e+00  4e-14  4e-14\n",
      " 6: -2.4877e+03 -2.4883e+03  6e-01  9e-14  5e-14\n",
      " 7: -2.4879e+03 -2.4881e+03  2e-01  8e-14  5e-14\n",
      " 8: -2.4880e+03 -2.4880e+03  7e-03  6e-14  6e-14\n",
      " 9: -2.4880e+03 -2.4880e+03  7e-05  5e-14  5e-14\n",
      "Optimal solution found.\n",
      "     pcost       dcost       gap    pres   dres\n",
      " 0: -1.4237e+03 -6.7873e+03  5e+03  1e-14  3e-14\n",
      " 1: -1.9854e+03 -2.8085e+03  8e+02  1e-14  4e-14\n",
      " 2: -2.6818e+03 -2.7564e+03  7e+01  4e-14  6e-14\n",
      " 3: -2.6881e+03 -2.6947e+03  7e+00  5e-14  7e-14\n",
      " 4: -2.6910e+03 -2.6930e+03  2e+00  5e-14  8e-14\n",
      " 5: -2.6916e+03 -2.6920e+03  4e-01  4e-14  7e-14\n",
      " 6: -2.6917e+03 -2.6919e+03  2e-01  5e-14  6e-14\n",
      " 7: -2.6918e+03 -2.6918e+03  1e-02  1e-13  8e-14\n",
      " 8: -2.6918e+03 -2.6918e+03  1e-04  5e-14  9e-14\n",
      "Optimal solution found.\n",
      "     pcost       dcost       gap    pres   dres\n",
      " 0: -1.4240e+03 -6.7913e+03  5e+03  4e-14  3e-14\n",
      " 1: -1.9861e+03 -2.8071e+03  8e+02  2e-14  4e-14\n",
      " 2: -2.6830e+03 -2.7568e+03  7e+01  5e-14  5e-14\n",
      " 3: -2.6889e+03 -2.6976e+03  9e+00  1e-13  7e-14\n",
      " 4: -2.6910e+03 -2.6978e+03  7e+00  1e-13  6e-14\n",
      " 5: -2.6907e+03 -2.6968e+03  6e+00  2e-14  7e-14\n",
      " 6: -2.6913e+03 -2.6965e+03  5e+00  1e-14  6e-14\n",
      " 7: -2.6934e+03 -2.6937e+03  4e-01  4e-14  7e-14\n",
      " 8: -2.6935e+03 -2.6936e+03  6e-03  6e-14  8e-14\n",
      " 9: -2.6935e+03 -2.6935e+03  6e-05  2e-13  7e-14\n",
      "Optimal solution found.\n",
      "     pcost       dcost       gap    pres   dres\n",
      " 0: -1.4169e+03 -9.0309e+03  8e+03  3e-14  3e-14\n",
      " 1: -1.8040e+03 -2.7525e+03  9e+02  5e-14  3e-14\n",
      " 2: -2.5460e+03 -2.6565e+03  1e+02  2e-16  5e-14\n",
      " 3: -2.5537e+03 -2.5695e+03  2e+01  1e-14  5e-14\n",
      " 4: -2.5546e+03 -2.5697e+03  2e+01  4e-14  5e-14\n",
      " 5: -2.5559e+03 -2.5646e+03  9e+00  2e-13  5e-14\n",
      " 6: -2.5571e+03 -2.5624e+03  5e+00  4e-14  5e-14\n",
      " 7: -2.5585e+03 -2.5610e+03  3e+00  7e-14  6e-14\n",
      " 8: -2.5591e+03 -2.5601e+03  1e+00  1e-14  5e-14\n",
      " 9: -2.5595e+03 -2.5598e+03  3e-01  1e-13  7e-14\n",
      "10: -2.5596e+03 -2.5596e+03  1e-02  1e-13  7e-14\n",
      "11: -2.5596e+03 -2.5596e+03  1e-04  2e-13  6e-14\n",
      "Optimal solution found.\n",
      "     pcost       dcost       gap    pres   dres\n",
      " 0: -1.4218e+03 -6.7900e+03  5e+03  7e-14  3e-14\n",
      " 1: -1.9800e+03 -2.8008e+03  8e+02  2e-14  4e-14\n",
      " 2: -2.6757e+03 -2.7495e+03  7e+01  1e-13  6e-14\n",
      " 3: -2.6815e+03 -2.6908e+03  9e+00  1e-13  6e-14\n",
      " 4: -2.6836e+03 -2.6912e+03  8e+00  4e-14  6e-14\n",
      " 5: -2.6834e+03 -2.6903e+03  7e+00  7e-15  6e-14\n",
      " 6: -2.6844e+03 -2.6898e+03  5e+00  5e-14  6e-14\n",
      " 7: -2.6865e+03 -2.6869e+03  4e-01  1e-13  8e-14\n",
      " 8: -2.6867e+03 -2.6867e+03  4e-03  7e-15  8e-14\n",
      " 9: -2.6867e+03 -2.6867e+03  4e-05  1e-13  8e-14\n",
      "Optimal solution found.\n",
      "     pcost       dcost       gap    pres   dres\n",
      " 0: -1.4237e+03 -6.7862e+03  5e+03  1e-14  3e-14\n",
      " 1: -1.9853e+03 -2.8092e+03  8e+02  2e-14  3e-14\n",
      " 2: -2.6815e+03 -2.7565e+03  7e+01  9e-14  6e-14\n",
      " 3: -2.6880e+03 -2.6944e+03  6e+00  1e-14  6e-14\n",
      " 4: -2.6907e+03 -2.6927e+03  2e+00  9e-14  6e-14\n",
      " 5: -2.6910e+03 -2.6923e+03  1e+00  4e-14  5e-14\n",
      " 6: -2.6912e+03 -2.6918e+03  6e-01  4e-14  6e-14\n",
      " 7: -2.6915e+03 -2.6916e+03  8e-02  7e-15  7e-14\n",
      " 8: -2.6915e+03 -2.6915e+03  1e-03  6e-14  6e-14\n",
      "Optimal solution found.\n",
      "     pcost       dcost       gap    pres   dres\n",
      " 0: -1.4202e+03 -7.9398e+03  7e+03  2e-14  3e-14\n",
      " 1: -1.8795e+03 -2.7862e+03  9e+02  1e-14  3e-14\n",
      " 2: -2.6108e+03 -2.7113e+03  1e+02  2e-14  5e-14\n",
      " 3: -2.6180e+03 -2.6304e+03  1e+01  1e-13  7e-14\n",
      " 4: -2.6193e+03 -2.6309e+03  1e+01  7e-15  6e-14\n",
      " 5: -2.6194e+03 -2.6283e+03  9e+00  5e-14  6e-14\n",
      " 6: -2.6207e+03 -2.6275e+03  7e+00  2e-14  5e-14\n",
      " 7: -2.6229e+03 -2.6244e+03  1e+00  1e-14  6e-14\n",
      " 8: -2.6234e+03 -2.6238e+03  4e-01  2e-14  8e-14\n",
      " 9: -2.6236e+03 -2.6236e+03  2e-02  1e-13  6e-14\n",
      "10: -2.6236e+03 -2.6236e+03  2e-04  6e-14  7e-14\n",
      "Optimal solution found.\n",
      "     pcost       dcost       gap    pres   dres\n",
      " 0: -1.4232e+03 -6.7880e+03  5e+03  4e-15  3e-14\n",
      " 1: -1.9838e+03 -2.8078e+03  8e+02  2e-14  3e-14\n",
      " 2: -2.6795e+03 -2.7551e+03  8e+01  2e-14  5e-14\n",
      " 3: -2.6863e+03 -2.6932e+03  7e+00  1e-14  5e-14\n",
      " 4: -2.6893e+03 -2.6915e+03  2e+00  7e-15  6e-14\n",
      " 5: -2.6898e+03 -2.6907e+03  9e-01  5e-14  7e-14\n",
      " 6: -2.6900e+03 -2.6903e+03  3e-01  1e-14  6e-14\n",
      " 7: -2.6902e+03 -2.6902e+03  4e-03  1e-14  6e-14\n",
      " 8: -2.6902e+03 -2.6902e+03  4e-05  3e-14  5e-14\n",
      "Optimal solution found.\n",
      "     pcost       dcost       gap    pres   dres\n",
      " 0: -1.4250e+03 -5.5777e+03  4e+03  2e-14  3e-14\n",
      " 1: -2.1423e+03 -2.7935e+03  7e+02  3e-14  3e-14\n",
      " 2: -2.7538e+03 -2.7679e+03  1e+01  7e-15  4e-14\n",
      " 3: -2.7600e+03 -2.7602e+03  1e-01  3e-14  5e-14\n",
      " 4: -2.7601e+03 -2.7601e+03  1e-03  7e-15  5e-14\n",
      "Optimal solution found.\n",
      "     pcost       dcost       gap    pres   dres\n",
      " 0: -1.4237e+03 -5.5780e+03  4e+03  1e-14  3e-14\n",
      " 1: -2.1376e+03 -2.7896e+03  7e+02  4e-15  3e-14\n",
      " 2: -2.7491e+03 -2.7633e+03  1e+01  2e-14  6e-14\n",
      " 3: -2.7553e+03 -2.7555e+03  1e-01  4e-14  5e-14\n",
      " 4: -2.7554e+03 -2.7554e+03  1e-03  5e-14  5e-14\n",
      "Optimal solution found.\n",
      "     pcost       dcost       gap    pres   dres\n",
      " 0: -4.9348e+03 -3.5409e+04  3e+04  5e-14  1e-13\n",
      " 1: -6.1804e+03 -1.0189e+04  4e+03  3e-13  1e-13\n",
      " 2: -9.3301e+03 -9.7738e+03  4e+02  1e-14  1e-13\n",
      " 3: -9.3713e+03 -9.4451e+03  7e+01  3e-13  1e-13\n",
      " 4: -9.3767e+03 -9.4413e+03  6e+01  1e-14  2e-13\n",
      " 5: -9.3823e+03 -9.4105e+03  3e+01  2e-13  2e-13\n",
      " 6: -9.3925e+03 -9.3965e+03  4e+00  2e-13  2e-13\n",
      " 7: -9.3938e+03 -9.3949e+03  1e+00  1e-13  2e-13\n",
      " 8: -9.3943e+03 -9.3944e+03  3e-02  9e-14  2e-13\n",
      " 9: -9.3943e+03 -9.3943e+03  5e-04  2e-16  2e-13\n",
      "Optimal solution found.\n",
      "     pcost       dcost       gap    pres   dres\n",
      " 0: -4.9476e+03 -3.5493e+04  3e+04  9e-14  1e-13\n",
      " 1: -6.2064e+03 -1.0203e+04  4e+03  1e-13  9e-14\n",
      " 2: -9.3775e+03 -9.8157e+03  4e+02  3e-13  1e-13\n",
      " 3: -9.4184e+03 -9.4946e+03  8e+01  6e-14  2e-13\n",
      " 4: -9.4239e+03 -9.4913e+03  7e+01  3e-14  2e-13\n",
      " 5: -9.4295e+03 -9.4596e+03  3e+01  1e-13  2e-13\n",
      " 6: -9.4403e+03 -9.4458e+03  5e+00  4e-14  2e-13\n",
      " 7: -9.4425e+03 -9.4429e+03  4e-01  2e-13  2e-13\n",
      " 8: -9.4427e+03 -9.4427e+03  4e-03  4e-13  2e-13\n",
      "Optimal solution found.\n",
      "     pcost       dcost       gap    pres   dres\n",
      " 0: -4.9527e+03 -3.5520e+04  3e+04  4e-14  9e-14\n",
      " 1: -6.2194e+03 -1.0158e+04  4e+03  7e-14  8e-14\n",
      " 2: -9.4017e+03 -9.8166e+03  4e+02  7e-14  1e-13\n",
      " 3: -9.4388e+03 -9.5320e+03  9e+01  1e-13  1e-13\n",
      " 4: -9.4453e+03 -9.5294e+03  8e+01  1e-14  1e-13\n",
      " 5: -9.4484e+03 -9.4946e+03  5e+01  2e-13  1e-13\n",
      " 6: -9.4583e+03 -9.4833e+03  3e+01  1e-13  1e-13\n",
      " 7: -9.4683e+03 -9.4699e+03  2e+00  6e-14  1e-13\n",
      " 8: -9.4690e+03 -9.4690e+03  5e-02  7e-14  1e-13\n",
      " 9: -9.4690e+03 -9.4690e+03  6e-04  2e-13  1e-13\n",
      "Optimal solution found.\n",
      "     pcost       dcost       gap    pres   dres\n",
      " 0: -4.9509e+03 -3.5528e+04  3e+04  9e-14  1e-13\n",
      " 1: -6.2146e+03 -1.0164e+04  4e+03  1e-13  8e-14\n",
      " 2: -9.3947e+03 -9.8129e+03  4e+02  1e-13  1e-13\n",
      " 3: -9.4281e+03 -9.5591e+03  1e+02  3e-14  2e-13\n",
      " 4: -9.4376e+03 -9.5517e+03  1e+02  2e-13  1e-13\n",
      " 5: -9.4374e+03 -9.5099e+03  7e+01  2e-13  2e-13\n",
      " 6: -9.4444e+03 -9.5046e+03  6e+01  1e-13  1e-13\n",
      " 7: -9.4647e+03 -9.4727e+03  8e+00  1e-13  1e-13\n",
      " 8: -9.4681e+03 -9.4682e+03  9e-02  2e-13  1e-13\n",
      " 9: -9.4682e+03 -9.4682e+03  9e-04  2e-13  1e-13\n",
      "Optimal solution found.\n",
      "     pcost       dcost       gap    pres   dres\n",
      " 0: -4.9765e+03 -2.0156e+04  2e+04  3e-14  1e-13\n",
      " 1: -7.4531e+03 -9.9262e+03  2e+03  2e-13  1e-13\n",
      " 2: -9.7286e+03 -9.7950e+03  7e+01  2e-16  1e-13\n",
      " 3: -9.7532e+03 -9.7539e+03  7e-01  4e-14  1e-13\n",
      " 4: -9.7535e+03 -9.7535e+03  7e-03  2e-13  2e-13\n",
      "Optimal solution found.\n",
      "     pcost       dcost       gap    pres   dres\n",
      " 0: -4.9584e+03 -3.5489e+04  3e+04  1e-13  1e-13\n",
      " 1: -6.2310e+03 -1.0206e+04  4e+03  6e-14  1e-13\n",
      " 2: -9.4200e+03 -9.8487e+03  4e+02  3e-14  2e-13\n",
      " 3: -9.4582e+03 -9.5325e+03  7e+01  2e-13  2e-13\n",
      " 4: -9.4645e+03 -9.5280e+03  6e+01  6e-14  2e-13\n",
      " 5: -9.4726e+03 -9.4964e+03  2e+01  3e-14  1e-13\n",
      " 6: -9.4823e+03 -9.4839e+03  2e+00  2e-13  2e-13\n",
      " 7: -9.4830e+03 -9.4830e+03  2e-02  5e-13  2e-13\n",
      " 8: -9.4830e+03 -9.4830e+03  2e-04  3e-13  2e-13\n",
      "Optimal solution found.\n",
      "     pcost       dcost       gap    pres   dres\n",
      " 0: -4.9517e+03 -3.5541e+04  3e+04  9e-14  1e-13\n",
      " 1: -6.2157e+03 -1.0172e+04  4e+03  2e-13  1e-13\n",
      " 2: -9.3962e+03 -9.8185e+03  4e+02  2e-13  1e-13\n",
      " 3: -9.4352e+03 -9.5135e+03  8e+01  1e-13  2e-13\n"
     ]
    },
    {
     "name": "stderr",
     "output_type": "stream",
     "text": [
      "100%|██████████| 30/30 [00:07<00:00,  4.02it/s]"
     ]
    },
    {
     "name": "stdout",
     "output_type": "stream",
     "text": [
      " 4: -9.4420e+03 -9.5085e+03  7e+01  2e-13  1e-13\n",
      " 5: -9.4523e+03 -9.4743e+03  2e+01  2e-13  1e-13\n",
      " 6: -9.4615e+03 -9.4623e+03  8e-01  1e-13  1e-13\n",
      " 7: -9.4618e+03 -9.4619e+03  8e-03  3e-13  1e-13\n",
      "Optimal solution found.\n",
      "     pcost       dcost       gap    pres   dres\n",
      " 0: -4.9421e+03 -3.5461e+04  3e+04  2e-13  1e-13\n",
      " 1: -6.1956e+03 -1.0187e+04  4e+03  6e-14  1e-13\n",
      " 2: -9.3568e+03 -9.7960e+03  4e+02  3e-14  2e-13\n",
      " 3: -9.3983e+03 -9.4662e+03  7e+01  2e-13  2e-13\n",
      " 4: -9.4045e+03 -9.4600e+03  6e+01  2e-13  2e-13\n",
      " 5: -9.4130e+03 -9.4303e+03  2e+01  1e-13  2e-13\n",
      " 6: -9.4199e+03 -9.4213e+03  1e+00  7e-14  2e-13\n",
      " 7: -9.4205e+03 -9.4205e+03  2e-02  4e-14  2e-13\n",
      " 8: -9.4205e+03 -9.4205e+03  2e-04  9e-14  2e-13\n",
      "Optimal solution found.\n",
      "     pcost       dcost       gap    pres   dres\n",
      " 0: -4.9477e+03 -4.9987e+04  5e+04  9e-14  1e-13\n",
      " 1: -5.8079e+03 -1.0198e+04  4e+03  2e-13  1e-13\n",
      " 2: -9.1850e+03 -9.8240e+03  6e+02  5e-13  2e-13\n",
      " 3: -9.2314e+03 -9.3409e+03  1e+02  2e-13  2e-13\n",
      " 4: -9.2408e+03 -9.3030e+03  6e+01  3e-13  2e-13\n",
      " 5: -9.2570e+03 -9.2626e+03  6e+00  4e-13  2e-13\n",
      " 6: -9.2592e+03 -9.2594e+03  3e-01  3e-14  2e-13\n",
      " 7: -9.2593e+03 -9.2593e+03  3e-03  3e-13  2e-13\n",
      "Optimal solution found.\n",
      "     pcost       dcost       gap    pres   dres\n",
      " 0: -4.9289e+03 -6.3863e+04  6e+04  2e-13  1e-13\n",
      " 1: -5.5675e+03 -1.0078e+04  5e+03  1e-13  1e-13\n",
      " 2: -8.9147e+03 -9.6884e+03  8e+02  2e-13  2e-13\n",
      " 3: -8.9968e+03 -9.1593e+03  2e+02  2e-13  2e-13\n",
      " 4: -9.0230e+03 -9.0802e+03  6e+01  2e-13  2e-13\n",
      " 5: -9.0385e+03 -9.0513e+03  1e+01  2e-13  2e-13\n",
      " 6: -9.0430e+03 -9.0444e+03  1e+00  2e-13  2e-13\n",
      " 7: -9.0436e+03 -9.0436e+03  2e-02  3e-14  2e-13\n",
      " 8: -9.0436e+03 -9.0436e+03  2e-04  1e-13  2e-13\n",
      "Optimal solution found.\n",
      "     pcost       dcost       gap    pres   dres\n",
      " 0: -4.9326e+03 -6.3814e+04  6e+04  9e-14  1e-13\n",
      " 1: -5.5732e+03 -1.0130e+04  5e+03  3e-13  1e-13\n",
      " 2: -8.8345e+03 -9.7430e+03  9e+02  2e-16  2e-13\n",
      " 3: -8.9854e+03 -9.1527e+03  2e+02  3e-13  2e-13\n",
      " 4: -9.0225e+03 -9.0618e+03  4e+01  6e-14  2e-13\n",
      " 5: -9.0352e+03 -9.0414e+03  6e+00  2e-13  2e-13\n",
      " 6: -9.0379e+03 -9.0381e+03  2e-01  1e-13  2e-13\n",
      " 7: -9.0380e+03 -9.0380e+03  2e-03  1e-13  2e-13\n",
      "Optimal solution found.\n",
      "     pcost       dcost       gap    pres   dres\n",
      " 0: -4.9460e+03 -3.5404e+04  3e+04  9e-14  1e-13\n",
      " 1: -6.2058e+03 -1.0200e+04  4e+03  3e-14  2e-13\n",
      " 2: -9.3743e+03 -9.8094e+03  4e+02  2e-13  2e-13\n",
      " 3: -9.4142e+03 -9.4807e+03  7e+01  4e-14  2e-13\n",
      " 4: -9.4232e+03 -9.4683e+03  5e+01  9e-14  2e-13\n",
      " 5: -9.4340e+03 -9.4399e+03  6e+00  5e-13  2e-13\n",
      " 6: -9.4358e+03 -9.4365e+03  7e-01  3e-13  2e-13\n",
      " 7: -9.4361e+03 -9.4361e+03  1e-02  2e-13  2e-13\n",
      " 8: -9.4361e+03 -9.4361e+03  2e-04  2e-16  2e-13\n",
      "Optimal solution found.\n",
      "     pcost       dcost       gap    pres   dres\n",
      " 0: -4.9538e+03 -3.5523e+04  3e+04  5e-13  1e-13\n",
      " 1: -6.2208e+03 -1.0171e+04  4e+03  5e-13  1e-13\n",
      " 2: -9.4045e+03 -9.8246e+03  4e+02  1e-13  2e-13\n",
      " 3: -9.4407e+03 -9.5311e+03  9e+01  3e-13  2e-13\n",
      " 4: -9.4473e+03 -9.5300e+03  8e+01  2e-13  2e-13\n",
      " 5: -9.4486e+03 -9.4991e+03  5e+01  2e-13  2e-13\n",
      " 6: -9.4523e+03 -9.4957e+03  4e+01  4e-13  2e-13\n",
      " 7: -9.4686e+03 -9.4715e+03  3e+00  1e-13  2e-13\n",
      " 8: -9.4699e+03 -9.4699e+03  3e-02  1e-13  2e-13\n",
      " 9: -9.4699e+03 -9.4699e+03  3e-04  2e-13  2e-13\n",
      "Optimal solution found.\n",
      "     pcost       dcost       gap    pres   dres\n",
      " 0: -4.9194e+03 -6.3846e+04  6e+04  4e-14  1e-13\n",
      " 1: -5.5526e+03 -1.0090e+04  5e+03  1e-14  1e-13\n",
      " 2: -8.7878e+03 -9.6957e+03  9e+02  3e-13  1e-13\n",
      " 3: -8.9433e+03 -9.1745e+03  2e+02  4e-13  2e-13\n",
      " 4: -8.9894e+03 -9.0651e+03  8e+01  1e-13  2e-13\n",
      " 5: -9.0112e+03 -9.0283e+03  2e+01  1e-13  2e-13\n",
      " 6: -9.0175e+03 -9.0189e+03  1e+00  2e-13  2e-13\n",
      " 7: -9.0182e+03 -9.0182e+03  2e-02  3e-13  2e-13\n",
      " 8: -9.0182e+03 -9.0182e+03  2e-04  6e-13  2e-13\n",
      "Optimal solution found.\n",
      "     pcost       dcost       gap    pres   dres\n",
      " 0: -4.9647e+03 -2.0177e+04  2e+04  9e-14  1e-13\n",
      " 1: -7.4084e+03 -9.8930e+03  2e+03  3e-13  2e-13\n",
      " 2: -9.6822e+03 -9.7513e+03  7e+01  7e-13  2e-13\n",
      " 3: -9.7076e+03 -9.7083e+03  7e-01  5e-13  2e-13\n",
      " 4: -9.7078e+03 -9.7078e+03  7e-03  1e-13  2e-13\n",
      "Optimal solution found.\n",
      "     pcost       dcost       gap    pres   dres\n",
      " 0: -4.9512e+03 -5.0050e+04  5e+04  7e-14  2e-13\n",
      " 1: -5.8133e+03 -1.0199e+04  4e+03  1e-13  1e-13\n",
      " 2: -9.1946e+03 -9.8333e+03  6e+02  3e-13  2e-13\n",
      " 3: -9.2402e+03 -9.3674e+03  1e+02  9e-14  2e-13\n",
      " 4: -9.2446e+03 -9.3404e+03  1e+02  4e-13  2e-13\n",
      " 5: -9.2646e+03 -9.2747e+03  1e+01  6e-13  3e-13\n",
      " 6: -9.2691e+03 -9.2707e+03  2e+00  8e-13  2e-13\n",
      " 7: -9.2698e+03 -9.2699e+03  6e-02  8e-13  2e-13\n",
      " 8: -9.2699e+03 -9.2699e+03  8e-04  1e-13  2e-13\n",
      "Optimal solution found.\n",
      "     pcost       dcost       gap    pres   dres\n",
      " 0: -4.9339e+03 -6.3797e+04  6e+04  2e-13  1e-13\n",
      " 1: -5.5752e+03 -1.0129e+04  5e+03  1e-13  2e-13\n",
      " 2: -8.8463e+03 -9.7433e+03  9e+02  1e-13  2e-13\n",
      " 3: -8.9917e+03 -9.1466e+03  2e+02  2e-13  2e-13\n",
      " 4: -9.0266e+03 -9.0634e+03  4e+01  5e-13  2e-13\n",
      " 5: -9.0367e+03 -9.0463e+03  1e+01  7e-13  3e-13\n",
      " 6: -9.0400e+03 -9.0414e+03  1e+00  5e-13  3e-13\n",
      " 7: -9.0406e+03 -9.0406e+03  2e-02  5e-13  2e-13\n",
      " 8: -9.0406e+03 -9.0406e+03  2e-04  1e-13  2e-13\n",
      "Optimal solution found.\n",
      "     pcost       dcost       gap    pres   dres\n",
      " 0: -4.9221e+03 -5.0054e+04  5e+04  4e-14  1e-13\n",
      " 1: -5.7615e+03 -1.0175e+04  4e+03  4e-13  1e-13\n",
      " 2: -9.0880e+03 -9.7558e+03  7e+02  3e-13  2e-13\n",
      " 3: -9.1403e+03 -9.2704e+03  1e+02  1e-12  2e-13\n",
      " 4: -9.1457e+03 -9.2377e+03  9e+01  4e-13  2e-13\n",
      " 5: -9.1615e+03 -9.1893e+03  3e+01  5e-13  2e-13\n",
      " 6: -9.1665e+03 -9.1778e+03  1e+01  5e-13  2e-13\n",
      " 7: -9.1698e+03 -9.1711e+03  1e+00  3e-14  2e-13\n",
      " 8: -9.1703e+03 -9.1704e+03  4e-02  4e-13  2e-13\n",
      " 9: -9.1703e+03 -9.1703e+03  1e-03  4e-13  3e-13\n",
      "Optimal solution found.\n",
      "     pcost       dcost       gap    pres   dres\n",
      " 0: -4.9232e+03 -6.3878e+04  6e+04  8e-14  1e-13\n",
      " 1: -5.5585e+03 -1.0071e+04  5e+03  4e-14  1e-13\n",
      " 2: -8.8704e+03 -9.6789e+03  8e+02  2e-13  2e-13\n",
      " 3: -8.9785e+03 -9.1413e+03  2e+02  6e-13  2e-13\n",
      " 4: -9.0133e+03 -9.0500e+03  4e+01  4e-13  2e-13\n",
      " 5: -9.0248e+03 -9.0347e+03  1e+01  2e-13  2e-13\n",
      " 6: -9.0287e+03 -9.0297e+03  1e+00  6e-14  2e-13\n",
      " 7: -9.0292e+03 -9.0292e+03  1e-02  2e-13  2e-13\n",
      " 8: -9.0292e+03 -9.0292e+03  1e-04  6e-13  2e-13\n",
      "Optimal solution found.\n",
      "     pcost       dcost       gap    pres   dres\n",
      " 0: -4.9171e+03 -7.6852e+04  7e+04  1e-13  1e-13\n",
      " 1: -5.4236e+03 -9.9354e+03  5e+03  2e-13  1e-13\n",
      " 2: -8.6774e+03 -9.4957e+03  8e+02  2e-13  1e-13\n",
      " 3: -8.7902e+03 -8.9619e+03  2e+02  9e-14  1e-13\n",
      " 4: -8.8299e+03 -8.8492e+03  2e+01  1e-13  2e-13\n",
      " 5: -8.8372e+03 -8.8404e+03  3e+00  7e-14  2e-13\n",
      " 6: -8.8386e+03 -8.8389e+03  3e-01  1e-13  1e-13\n",
      " 7: -8.8387e+03 -8.8387e+03  3e-03  6e-14  1e-13\n",
      "Optimal solution found.\n",
      "     pcost       dcost       gap    pres   dres\n",
      " 0: -4.9481e+03 -3.5510e+04  3e+04  4e-14  1e-13\n",
      " 1: -6.2097e+03 -1.0143e+04  4e+03  4e-14  1e-13\n",
      " 2: -9.3840e+03 -9.7992e+03  4e+02  7e-14  1e-13\n",
      " 3: -9.4165e+03 -9.5462e+03  1e+02  1e-13  1e-13\n",
      " 4: -9.4263e+03 -9.5403e+03  1e+02  7e-14  1e-13\n",
      " 5: -9.4250e+03 -9.4897e+03  6e+01  1e-14  2e-13\n",
      " 6: -9.4322e+03 -9.4840e+03  5e+01  3e-13  1e-13\n",
      " 7: -9.4504e+03 -9.4582e+03  8e+00  7e-14  1e-13\n",
      " 8: -9.4537e+03 -9.4541e+03  4e-01  2e-13  1e-13\n",
      " 9: -9.4539e+03 -9.4539e+03  9e-03  2e-13  1e-13\n",
      "Optimal solution found.\n",
      "     pcost       dcost       gap    pres   dres\n",
      " 0: -4.9488e+03 -3.5477e+04  3e+04  1e-14  8e-14\n",
      " 1: -6.2092e+03 -1.0209e+04  4e+03  4e-14  1e-13\n",
      " 2: -9.3829e+03 -9.8212e+03  4e+02  1e-14  1e-13\n",
      " 3: -9.4234e+03 -9.4941e+03  7e+01  6e-14  2e-13\n",
      " 4: -9.4297e+03 -9.4883e+03  6e+01  6e-14  2e-13\n",
      " 5: -9.4384e+03 -9.4572e+03  2e+01  3e-13  1e-13\n",
      " 6: -9.4460e+03 -9.4473e+03  1e+00  6e-14  1e-13\n",
      " 7: -9.4466e+03 -9.4466e+03  3e-02  2e-13  1e-13\n",
      " 8: -9.4466e+03 -9.4466e+03  3e-04  6e-14  1e-13\n",
      "Optimal solution found.\n",
      "     pcost       dcost       gap    pres   dres\n",
      " 0: -4.9632e+03 -3.5467e+04  3e+04  1e-14  1e-13\n",
      " 1: -6.2420e+03 -1.0222e+04  4e+03  1e-14  8e-14\n",
      " 2: -9.4380e+03 -9.8667e+03  4e+02  6e-14  1e-13\n",
      " 3: -9.4759e+03 -9.5438e+03  7e+01  4e-14  1e-13\n",
      " 4: -9.4822e+03 -9.5383e+03  6e+01  2e-16  1e-13\n",
      " 5: -9.4907e+03 -9.5085e+03  2e+01  2e-16  1e-13\n",
      " 6: -9.4979e+03 -9.4991e+03  1e+00  2e-13  1e-13\n",
      " 7: -9.4984e+03 -9.4985e+03  3e-02  1e-13  1e-13\n",
      " 8: -9.4984e+03 -9.4984e+03  3e-04  1e-14  1e-13\n",
      "Optimal solution found.\n",
      "     pcost       dcost       gap    pres   dres\n",
      " 0: -4.9426e+03 -3.5459e+04  3e+04  6e-14  9e-14\n",
      " 1: -6.1963e+03 -1.0198e+04  4e+03  9e-14  1e-13\n",
      " 2: -9.3577e+03 -9.8005e+03  4e+02  4e-14  1e-13\n",
      " 3: -9.3991e+03 -9.4693e+03  7e+01  1e-14  2e-13\n",
      " 4: -9.4049e+03 -9.4649e+03  6e+01  9e-14  1e-13\n",
      " 5: -9.4120e+03 -9.4347e+03  2e+01  9e-14  2e-13\n",
      " 6: -9.4207e+03 -9.4237e+03  3e+00  4e-14  2e-13\n",
      " 7: -9.4219e+03 -9.4220e+03  8e-02  1e-13  2e-13\n",
      " 8: -9.4220e+03 -9.4220e+03  8e-04  1e-13  1e-13\n",
      "Optimal solution found.\n",
      "     pcost       dcost       gap    pres   dres\n",
      " 0: -4.9522e+03 -5.0079e+04  5e+04  2e-14  9e-14\n",
      " 1: -5.8156e+03 -1.0159e+04  4e+03  7e-14  9e-14\n",
      " 2: -9.2056e+03 -9.8107e+03  6e+02  4e-14  1e-13\n",
      " 3: -9.2415e+03 -9.4565e+03  2e+02  4e-14  1e-13\n",
      " 4: -9.2528e+03 -9.3636e+03  1e+02  3e-13  2e-13\n",
      " 5: -9.2721e+03 -9.3134e+03  4e+01  4e-14  1e-13\n",
      " 6: -9.2861e+03 -9.2914e+03  5e+00  1e-13  1e-13\n",
      " 7: -9.2886e+03 -9.2887e+03  1e-01  3e-13  1e-13\n",
      " 8: -9.2887e+03 -9.2887e+03  1e-03  4e-13  1e-13\n",
      "Optimal solution found.\n"
     ]
    },
    {
     "name": "stderr",
     "output_type": "stream",
     "text": [
      "\n"
     ]
    }
   ],
   "source": [
    "X = X_tr\n",
    "y = Y_tr \n",
    "method = svm_qp\n",
    "params = { 'kernel': ['gaussian'], 'kernelparameter': quantiles, 'regularization': np.logspace(-1,4, 10) }\n",
    "loss_function=mean_absolute_error\n",
    "nfolds=5\n",
    "nrepetitions=5\n",
    "\n",
    "length, width = np.shape(X)\n",
    "# model = method\n",
    "method.cvloss = 1000000\n",
    "params_combinations = list(it.product(params['kernel'], params['kernelparameter'], params['regularization']))\n",
    "for parameter in tqdm(params_combinations):\n",
    "        #print(parameter[1])\n",
    "    model = method(parameter[0], parameter[1], parameter[2])\n",
    "    e = 0\n",
    "    for i in range(nrepetitions):\n",
    "            # Random Partitioning\n",
    "        X_pos = np.linspace(0,length-1, length)\n",
    "        random.shuffle(X_pos)\n",
    "        part = np.array_split(X_pos, nfolds)\n",
    "        for j in range(nfolds):\n",
    "                # Assign every part not j as training set\n",
    "                # Xtr indices\n",
    "            train = np.concatenate(np.array(part)[tuple([np.array(range(nfolds)) != j])].astype('int')) \n",
    "            X_j = X[train]\n",
    "            y_j = y[train]\n",
    "            model.fit(X_j, y_j)\n",
    "            y_pred = model.predict(X[part[j].astype('int')])\n",
    "            e = e + loss_function(y[part[j].astype('int')], y_pred)\n",
    "    e = e / (nfolds * nrepetitions)\n",
    "        #print('Loss:' + str(model.cvloss))\n",
    "    if e < method.cvloss:\n",
    "            #print(e)\n",
    "        method.cvloss = e\n",
    "            #print('Loss in if:' + str(model.cvloss))\n",
    "        method.__params = parameter\n",
    "    #print(method.params)\n",
    "#model = method(method.__params[0],method.__params[1],method.__params[2])    \n",
    "#method = model.fit(X,y)\n"
   ]
  },
  {
   "cell_type": "code",
   "execution_count": 97,
   "metadata": {},
   "outputs": [
    {
     "name": "stdout",
     "output_type": "stream",
     "text": [
      "     pcost       dcost       gap    pres   dres\n",
      " 0: -4.7124e+03 -2.0699e+04  2e+04  6e-14  9e-14\n",
      " 1: -6.5936e+03 -9.2177e+03  3e+03  2e-13  1e-13\n",
      " 2: -8.5652e+03 -8.7673e+03  2e+02  2e-13  2e-13\n",
      " 3: -8.6912e+03 -8.6953e+03  4e+00  4e-14  2e-13\n",
      " 4: -8.6939e+03 -8.6939e+03  4e-02  3e-14  2e-13\n",
      " 5: -8.6939e+03 -8.6939e+03  4e-04  7e-14  2e-13\n",
      "Optimal solution found.\n"
     ]
    }
   ],
   "source": [
    "test = method(method.__params[0],method.__params[1],method.__params[2]) \n",
    "test.fit(X,y)"
   ]
  },
  {
   "cell_type": "code",
   "execution_count": 98,
   "metadata": {},
   "outputs": [
    {
     "data": {
      "text/plain": [
       "array([[1.        , 0.99976104, 0.99997061, ..., 0.99989645, 0.9999579 ,\n",
       "        0.99997711],\n",
       "       [0.99976104, 1.        , 0.99988307, ..., 0.99996826, 0.99987483,\n",
       "        0.99987403],\n",
       "       [0.99997061, 0.99988307, 1.        , ..., 0.99995819, 0.99999688,\n",
       "        0.99998201],\n",
       "       ...,\n",
       "       [0.99989645, 0.99996826, 0.99995819, ..., 1.        , 0.99994282,\n",
       "        0.9999679 ],\n",
       "       [0.9999579 , 0.99987483, 0.99999688, ..., 0.99994282, 1.        ,\n",
       "        0.99996392],\n",
       "       [0.99997711, 0.99987403, 0.99998201, ..., 0.9999679 , 0.99996392,\n",
       "        1.        ]])"
      ]
     },
     "execution_count": 98,
     "metadata": {},
     "output_type": "execute_result"
    }
   ],
   "source": [
    "test.kernelmatrix"
   ]
  },
  {
   "cell_type": "code",
   "execution_count": 87,
   "metadata": {},
   "outputs": [
    {
     "data": {
      "text/plain": [
       "('gaussian', 154.20038714019256, 10000.0)"
      ]
     },
     "execution_count": 87,
     "metadata": {},
     "output_type": "execute_result"
    }
   ],
   "source": [
    "method.__params"
   ]
  },
  {
   "cell_type": "code",
   "execution_count": 77,
   "metadata": {},
   "outputs": [],
   "source": [
    "D = imp.sqdistmat(X_tr)\n",
    "quantiles = np.quantile(D,[0.1,0.5, 0.9])\n",
    "\n",
    "X = X_tr\n",
    "y = Y_tr \n",
    "method = imp.svm_qp\n",
    "params = { 'kernel': ['gaussian'], 'kernelparameter': quantiles, 'regularization': np.logspace(-1,4, 10) }\n",
    "loss_function=mean_absolute_error\n",
    "nfolds=5\n",
    "nrepetitions=5\n",
    "\n",
    "length, width = np.shape(X)\n",
    "# model = method\n",
    "method.cvloss = 1000000\n",
    "params_combinations = list(it.product(params['kernel'], params['kernelparameter'], params['regularization']))\n"
   ]
  },
  {
   "cell_type": "code",
   "execution_count": 79,
   "metadata": {},
   "outputs": [],
   "source": [
    "parameter = params_combinations[0]\n",
    "model = method(parameter[0], parameter[1], parameter[2])\n",
    "e = 0"
   ]
  },
  {
   "cell_type": "code",
   "execution_count": 80,
   "metadata": {
    "scrolled": true
   },
   "outputs": [
    {
     "name": "stdout",
     "output_type": "stream",
     "text": [
      "     pcost       dcost       gap    pres   dres\n",
      " 0: -2.1744e+01 -4.5262e+00  3e+02  2e+01  2e-16\n",
      " 1: -3.0641e+00 -2.5478e-01  1e+01  7e-01  3e-16\n",
      " 2: -1.2013e-01 -1.9303e-01  2e-01  8e-03  2e-15\n",
      " 3: -8.4169e-02 -1.1144e-01  3e-02  4e-18  9e-16\n",
      " 4: -8.4943e-02 -8.5235e-02  3e-04  3e-18  4e-16\n",
      " 5: -8.4954e-02 -8.4957e-02  3e-06  3e-18  2e-16\n",
      " 6: -8.4954e-02 -8.4954e-02  3e-08  7e-18  3e-16\n",
      "Optimal solution found.\n",
      "1.6\n",
      "     pcost       dcost       gap    pres   dres\n",
      " 0: -2.2231e+01 -4.6202e+00  3e+02  2e+01  2e-16\n",
      " 1: -3.0714e+00 -2.5106e-01  8e+00  6e-01  5e-16\n",
      " 2: -1.1074e-01 -1.9083e-01  1e-01  3e-03  3e-16\n",
      " 3: -9.6586e-02 -1.0577e-01  9e-03  3e-18  3e-16\n",
      " 4: -9.7414e-02 -9.7566e-02  2e-04  5e-18  9e-17\n",
      " 5: -9.7440e-02 -9.7442e-02  2e-06  3e-18  4e-17\n",
      " 6: -9.7441e-02 -9.7441e-02  2e-08  4e-18  3e-16\n",
      "Optimal solution found.\n",
      "2.7\n",
      "     pcost       dcost       gap    pres   dres\n",
      " 0: -2.2022e+01 -4.5806e+00  3e+02  2e+01  2e-16\n",
      " 1: -3.0897e+00 -2.5419e-01  9e+00  7e-01  5e-16\n",
      " 2: -1.1954e-01 -1.9245e-01  2e-01  6e-03  9e-16\n",
      " 3: -8.9383e-02 -1.1080e-01  2e-02  7e-18  1e-15\n",
      " 4: -8.9943e-02 -9.0268e-02  3e-04  2e-18  1e-16\n",
      " 5: -8.9949e-02 -8.9952e-02  3e-06  3e-17  6e-16\n",
      " 6: -8.9949e-02 -8.9949e-02  3e-08  5e-17  4e-16\n",
      "Optimal solution found.\n",
      "4.1\n",
      "     pcost       dcost       gap    pres   dres\n",
      " 0: -2.2231e+01 -4.6202e+00  3e+02  2e+01  2e-16\n",
      " 1: -3.0714e+00 -2.5106e-01  8e+00  6e-01  5e-16\n",
      " 2: -1.1074e-01 -1.9083e-01  1e-01  3e-03  2e-16\n",
      " 3: -9.6586e-02 -1.0577e-01  9e-03  4e-18  2e-16\n",
      " 4: -9.7414e-02 -9.7566e-02  2e-04  2e-18  3e-16\n",
      " 5: -9.7440e-02 -9.7442e-02  2e-06  3e-18  5e-17\n",
      " 6: -9.7441e-02 -9.7441e-02  2e-08  3e-18  5e-16\n",
      "Optimal solution found.\n",
      "5.199999999999999\n",
      "     pcost       dcost       gap    pres   dres\n",
      " 0: -2.2189e+01 -4.6126e+00  3e+02  2e+01  2e-16\n",
      " 1: -3.0852e+00 -2.5241e-01  9e+00  6e-01  5e-16\n",
      " 2: -1.1503e-01 -1.9148e-01  2e-01  5e-03  1e-15\n",
      " 3: -9.4376e-02 -1.0832e-01  1e-02  6e-18  2e-16\n",
      " 4: -9.4933e-02 -9.5113e-02  2e-04  6e-18  5e-17\n",
      " 5: -9.4943e-02 -9.4945e-02  2e-06  2e-17  2e-16\n",
      " 6: -9.4943e-02 -9.4943e-02  2e-08  2e-17  3e-17\n",
      "Optimal solution found.\n",
      "6.3999999999999995\n",
      "     pcost       dcost       gap    pres   dres\n",
      " 0: -2.2189e+01 -4.6126e+00  3e+02  2e+01  1e-16\n",
      " 1: -3.0852e+00 -2.5241e-01  9e+00  6e-01  5e-16\n",
      " 2: -1.1503e-01 -1.9148e-01  2e-01  5e-03  4e-16\n",
      " 3: -9.4376e-02 -1.0832e-01  1e-02  9e-18  1e-15\n",
      " 4: -9.4933e-02 -9.5113e-02  2e-04  4e-18  2e-16\n",
      " 5: -9.4943e-02 -9.4945e-02  2e-06  7e-18  5e-16\n",
      " 6: -9.4943e-02 -9.4943e-02  2e-08  1e-18  3e-16\n",
      "Optimal solution found.\n",
      "7.6\n",
      "     pcost       dcost       gap    pres   dres\n",
      " 0: -2.2244e+01 -4.6222e+00  3e+02  2e+01  0e+00\n",
      " 1: -3.0498e+00 -2.4941e-01  8e+00  6e-01  2e-16\n",
      " 2: -1.0471e-01 -1.9006e-01  1e-01  2e-03  8e-16\n",
      " 3: -9.8014e-02 -1.0200e-01  4e-03  4e-18  2e-16\n",
      " 4: -9.9918e-02 -9.9958e-02  4e-05  2e-18  8e-17\n",
      " 5: -9.9937e-02 -9.9938e-02  4e-07  2e-18  2e-16\n",
      " 6: -9.9937e-02 -9.9938e-02  4e-09  2e-18  2e-16\n",
      "Optimal solution found.\n",
      "8.6\n",
      "     pcost       dcost       gap    pres   dres\n",
      " 0: -2.2189e+01 -4.6126e+00  3e+02  2e+01  1e-16\n",
      " 1: -3.0852e+00 -2.5241e-01  9e+00  6e-01  5e-16\n",
      " 2: -1.1503e-01 -1.9148e-01  2e-01  5e-03  3e-16\n",
      " 3: -9.4376e-02 -1.0832e-01  1e-02  4e-18  3e-16\n",
      " 4: -9.4933e-02 -9.5113e-02  2e-04  5e-18  5e-16\n",
      " 5: -9.4943e-02 -9.4945e-02  2e-06  8e-18  4e-17\n",
      " 6: -9.4943e-02 -9.4943e-02  2e-08  4e-18  3e-17\n",
      "Optimal solution found.\n",
      "9.799999999999999\n",
      "     pcost       dcost       gap    pres   dres\n",
      " 0: -2.2244e+01 -4.6222e+00  3e+02  2e+01  0e+00\n",
      " 1: -3.0498e+00 -2.4941e-01  8e+00  6e-01  2e-16\n",
      " 2: -1.0471e-01 -1.9006e-01  1e-01  2e-03  8e-16\n",
      " 3: -9.8014e-02 -1.0200e-01  4e-03  4e-18  3e-16\n",
      " 4: -9.9918e-02 -9.9958e-02  4e-05  2e-18  2e-16\n",
      " 5: -9.9937e-02 -9.9938e-02  4e-07  2e-18  2e-16\n",
      " 6: -9.9937e-02 -9.9938e-02  4e-09  3e-18  4e-16\n",
      "Optimal solution found.\n",
      "10.799999999999999\n",
      "     pcost       dcost       gap    pres   dres\n",
      " 0: -2.2244e+01 -4.6222e+00  3e+02  2e+01  0e+00\n",
      " 1: -3.0498e+00 -2.4941e-01  8e+00  6e-01  2e-16\n",
      " 2: -1.0471e-01 -1.9006e-01  1e-01  2e-03  8e-16\n",
      " 3: -9.8014e-02 -1.0200e-01  4e-03  4e-18  3e-16\n",
      " 4: -9.9918e-02 -9.9958e-02  4e-05  2e-18  2e-16\n",
      " 5: -9.9937e-02 -9.9938e-02  4e-07  2e-18  2e-16\n",
      " 6: -9.9937e-02 -9.9938e-02  4e-09  3e-18  2e-16\n",
      "Optimal solution found.\n",
      "11.799999999999999\n",
      "     pcost       dcost       gap    pres   dres\n",
      " 0: -2.2189e+01 -4.6126e+00  3e+02  2e+01  2e-16\n",
      " 1: -3.0852e+00 -2.5241e-01  9e+00  6e-01  5e-16\n",
      " 2: -1.1503e-01 -1.9148e-01  2e-01  5e-03  1e-15\n",
      " 3: -9.4376e-02 -1.0832e-01  1e-02  3e-18  4e-16\n",
      " 4: -9.4933e-02 -9.5113e-02  2e-04  2e-18  3e-16\n",
      " 5: -9.4943e-02 -9.4945e-02  2e-06  2e-18  6e-16\n",
      " 6: -9.4943e-02 -9.4943e-02  2e-08  4e-18  3e-17\n",
      "Optimal solution found.\n",
      "12.999999999999998\n",
      "     pcost       dcost       gap    pres   dres\n",
      " 0: -2.2231e+01 -4.6202e+00  3e+02  2e+01  2e-16\n",
      " 1: -3.0714e+00 -2.5106e-01  8e+00  6e-01  4e-16\n",
      " 2: -1.1074e-01 -1.9083e-01  1e-01  3e-03  2e-15\n",
      " 3: -9.6586e-02 -1.0577e-01  9e-03  6e-18  3e-16\n",
      " 4: -9.7414e-02 -9.7566e-02  2e-04  3e-18  2e-16\n",
      " 5: -9.7440e-02 -9.7442e-02  2e-06  4e-18  3e-16\n",
      " 6: -9.7441e-02 -9.7441e-02  2e-08  3e-18  3e-16\n",
      "Optimal solution found.\n",
      "14.099999999999998\n",
      "     pcost       dcost       gap    pres   dres\n",
      " 0: -2.2189e+01 -4.6126e+00  3e+02  2e+01  1e-16\n",
      " 1: -3.0852e+00 -2.5241e-01  9e+00  6e-01  5e-16\n",
      " 2: -1.1503e-01 -1.9148e-01  2e-01  5e-03  6e-16\n",
      " 3: -9.4376e-02 -1.0832e-01  1e-02  3e-18  4e-16\n",
      " 4: -9.4933e-02 -9.5113e-02  2e-04  4e-18  6e-18\n",
      " 5: -9.4943e-02 -9.4945e-02  2e-06  1e-17  2e-16\n",
      " 6: -9.4943e-02 -9.4943e-02  2e-08  1e-18  2e-16\n",
      "Optimal solution found.\n",
      "15.299999999999997\n",
      "     pcost       dcost       gap    pres   dres\n",
      " 0: -2.2231e+01 -4.6202e+00  3e+02  2e+01  2e-16\n",
      " 1: -3.0714e+00 -2.5106e-01  8e+00  6e-01  5e-16\n",
      " 2: -1.1074e-01 -1.9083e-01  1e-01  3e-03  1e-15\n",
      " 3: -9.6586e-02 -1.0577e-01  9e-03  7e-18  3e-16\n",
      " 4: -9.7414e-02 -9.7566e-02  2e-04  3e-18  3e-17\n",
      " 5: -9.7440e-02 -9.7442e-02  2e-06  4e-18  4e-17\n",
      " 6: -9.7441e-02 -9.7441e-02  2e-08  1e-18  5e-16\n",
      "Optimal solution found.\n",
      "16.4\n",
      "     pcost       dcost       gap    pres   dres\n",
      " 0: -2.2244e+01 -4.6222e+00  3e+02  2e+01  0e+00\n",
      " 1: -3.0498e+00 -2.4941e-01  8e+00  6e-01  2e-16\n",
      " 2: -1.0471e-01 -1.9006e-01  1e-01  2e-03  8e-16\n",
      " 3: -9.8014e-02 -1.0200e-01  4e-03  4e-18  3e-16\n",
      " 4: -9.9918e-02 -9.9958e-02  4e-05  2e-18  1e-16\n",
      " 5: -9.9937e-02 -9.9938e-02  4e-07  2e-18  4e-16\n",
      " 6: -9.9937e-02 -9.9938e-02  4e-09  2e-18  3e-16\n",
      "Optimal solution found.\n",
      "17.4\n",
      "     pcost       dcost       gap    pres   dres\n",
      " 0: -2.2231e+01 -4.6202e+00  3e+02  2e+01  2e-16\n",
      " 1: -3.0714e+00 -2.5106e-01  8e+00  6e-01  4e-16\n",
      " 2: -1.1074e-01 -1.9083e-01  1e-01  3e-03  1e-15\n",
      " 3: -9.6586e-02 -1.0577e-01  9e-03  4e-18  3e-16\n",
      " 4: -9.7414e-02 -9.7566e-02  2e-04  8e-18  3e-16\n",
      " 5: -9.7440e-02 -9.7442e-02  2e-06  2e-18  4e-17\n",
      " 6: -9.7441e-02 -9.7441e-02  2e-08  3e-18  3e-17\n",
      "Optimal solution found.\n",
      "18.5\n",
      "     pcost       dcost       gap    pres   dres\n",
      " 0: -2.2119e+01 -4.5994e+00  3e+02  2e+01  2e-16\n",
      " 1: -3.0913e+00 -2.5345e-01  9e+00  6e-01  7e-16\n",
      " 2: -1.1787e-01 -1.9201e-01  2e-01  6e-03  4e-16\n",
      " 3: -9.1913e-02 -1.0991e-01  2e-02  3e-18  3e-16\n",
      " 4: -9.2441e-02 -9.2741e-02  3e-04  8e-18  2e-16\n",
      " 5: -9.2446e-02 -9.2449e-02  3e-06  8e-18  5e-16\n",
      " 6: -9.2446e-02 -9.2446e-02  3e-08  7e-18  3e-16\n",
      "Optimal solution found.\n",
      "19.8\n",
      "     pcost       dcost       gap    pres   dres\n",
      " 0: -2.2119e+01 -4.5994e+00  3e+02  2e+01  2e-16\n",
      " 1: -3.0913e+00 -2.5345e-01  9e+00  6e-01  7e-16\n",
      " 2: -1.1787e-01 -1.9201e-01  2e-01  6e-03  4e-16\n",
      " 3: -9.1913e-02 -1.0991e-01  2e-02  5e-18  1e-15\n",
      " 4: -9.2441e-02 -9.2741e-02  3e-04  1e-17  2e-16\n",
      " 5: -9.2446e-02 -9.2449e-02  3e-06  1e-17  3e-16\n",
      " 6: -9.2446e-02 -9.2446e-02  3e-08  1e-17  5e-17\n",
      "Optimal solution found.\n",
      "21.1\n",
      "     pcost       dcost       gap    pres   dres\n",
      " 0: -2.2231e+01 -4.6202e+00  3e+02  2e+01  2e-16\n",
      " 1: -3.0714e+00 -2.5106e-01  8e+00  6e-01  5e-16\n",
      " 2: -1.1074e-01 -1.9083e-01  1e-01  3e-03  1e-15\n",
      " 3: -9.6586e-02 -1.0577e-01  9e-03  7e-18  2e-16\n",
      " 4: -9.7414e-02 -9.7566e-02  2e-04  7e-18  6e-16\n",
      " 5: -9.7440e-02 -9.7442e-02  2e-06  2e-17  2e-16\n",
      " 6: -9.7441e-02 -9.7441e-02  2e-08  3e-18  3e-16\n",
      "Optimal solution found.\n",
      "22.200000000000003\n",
      "     pcost       dcost       gap    pres   dres\n",
      " 0: -2.2189e+01 -4.6126e+00  3e+02  2e+01  2e-16\n",
      " 1: -3.0852e+00 -2.5241e-01  9e+00  6e-01  3e-16\n",
      " 2: -1.1503e-01 -1.9148e-01  2e-01  5e-03  1e-15\n",
      " 3: -9.4376e-02 -1.0832e-01  1e-02  9e-18  2e-15\n",
      " 4: -9.4933e-02 -9.5113e-02  2e-04  3e-18  3e-16\n",
      " 5: -9.4943e-02 -9.4945e-02  2e-06  2e-18  2e-16\n",
      " 6: -9.4943e-02 -9.4943e-02  2e-08  3e-18  2e-16\n",
      "Optimal solution found.\n",
      "23.400000000000002\n",
      "     pcost       dcost       gap    pres   dres\n",
      " 0: -2.2189e+01 -4.6126e+00  3e+02  2e+01  2e-16\n",
      " 1: -3.0852e+00 -2.5241e-01  9e+00  6e-01  5e-16\n",
      " 2: -1.1503e-01 -1.9148e-01  2e-01  5e-03  8e-16\n",
      " 3: -9.4376e-02 -1.0832e-01  1e-02  2e-18  3e-16\n",
      " 4: -9.4933e-02 -9.5113e-02  2e-04  2e-18  3e-16\n",
      " 5: -9.4943e-02 -9.4945e-02  2e-06  6e-18  3e-16\n",
      " 6: -9.4943e-02 -9.4943e-02  2e-08  2e-18  3e-17\n",
      "Optimal solution found.\n",
      "24.6\n",
      "     pcost       dcost       gap    pres   dres\n",
      " 0: -2.2119e+01 -4.5994e+00  3e+02  2e+01  2e-16\n",
      " 1: -3.0913e+00 -2.5345e-01  9e+00  6e-01  7e-16\n",
      " 2: -1.1787e-01 -1.9201e-01  2e-01  6e-03  6e-16\n",
      " 3: -9.1913e-02 -1.0991e-01  2e-02  3e-18  3e-16\n",
      " 4: -9.2441e-02 -9.2741e-02  3e-04  1e-17  5e-16\n",
      " 5: -9.2446e-02 -9.2449e-02  3e-06  1e-17  2e-16\n",
      " 6: -9.2446e-02 -9.2446e-02  3e-08  7e-18  5e-16\n",
      "Optimal solution found.\n",
      "25.900000000000002\n",
      "     pcost       dcost       gap    pres   dres\n",
      " 0: -2.2189e+01 -4.6126e+00  3e+02  2e+01  2e-16\n",
      " 1: -3.0852e+00 -2.5241e-01  9e+00  6e-01  5e-16\n",
      " 2: -1.1503e-01 -1.9148e-01  2e-01  5e-03  8e-16\n",
      " 3: -9.4376e-02 -1.0832e-01  1e-02  3e-18  3e-16\n",
      " 4: -9.4933e-02 -9.5113e-02  2e-04  3e-18  3e-17\n",
      " 5: -9.4943e-02 -9.4945e-02  2e-06  2e-17  3e-16\n",
      " 6: -9.4943e-02 -9.4943e-02  2e-08  1e-17  2e-16\n",
      "Optimal solution found.\n",
      "27.1\n",
      "     pcost       dcost       gap    pres   dres\n",
      " 0: -2.2231e+01 -4.6202e+00  3e+02  2e+01  2e-16\n",
      " 1: -3.0714e+00 -2.5106e-01  8e+00  6e-01  5e-16\n",
      " 2: -1.1074e-01 -1.9083e-01  1e-01  3e-03  3e-16\n",
      " 3: -9.6586e-02 -1.0577e-01  9e-03  4e-18  2e-16\n",
      " 4: -9.7414e-02 -9.7566e-02  2e-04  7e-18  2e-16\n",
      " 5: -9.7440e-02 -9.7442e-02  2e-06  4e-18  2e-16\n",
      " 6: -9.7441e-02 -9.7441e-02  2e-08  3e-18  2e-16\n",
      "Optimal solution found.\n",
      "28.200000000000003\n",
      "     pcost       dcost       gap    pres   dres\n",
      " 0: -2.2189e+01 -4.6126e+00  3e+02  2e+01  2e-16\n",
      " 1: -3.0852e+00 -2.5241e-01  9e+00  6e-01  5e-16\n",
      " 2: -1.1503e-01 -1.9148e-01  2e-01  5e-03  1e-15\n",
      " 3: -9.4376e-02 -1.0832e-01  1e-02  3e-18  2e-16\n",
      " 4: -9.4933e-02 -9.5113e-02  2e-04  3e-18  3e-16\n",
      " 5: -9.4943e-02 -9.4945e-02  2e-06  4e-18  6e-16\n",
      " 6: -9.4943e-02 -9.4943e-02  2e-08  2e-18  3e-17\n",
      "Optimal solution found.\n",
      "29.400000000000002\n"
     ]
    }
   ],
   "source": [
    "for i in range(nrepetitions):\n",
    "            # Random Partitioning\n",
    "    X_pos = np.linspace(0,length-1, length)\n",
    "    random.shuffle(X_pos)\n",
    "    part = np.array_split(X_pos, nfolds)\n",
    "    for j in range(nfolds):\n",
    "                # Assign every part not j as training set\n",
    "                # Xtr indices\n",
    "        train = np.concatenate(np.array(part)[tuple([np.array(range(nfolds)) != j])].astype('int')) \n",
    "        X_j = X[train]\n",
    "        y_j = y[train]\n",
    "        model.fit(X_j, y_j)\n",
    "        y_pred = model.predict(X[part[j].astype('int')])\n",
    "        e = e + loss_function(y[part[j].astype('int')], y_pred)\n",
    "        print(e)\n",
    "e = e / (nfolds * nrepetitions)\n",
    "if e < method.cvloss:\n",
    "            #print(e)\n",
    "    method.cvloss = e\n",
    "            #print('Loss in if:' + str(model.cvloss))\n",
    "    method.__params = parameter"
   ]
  },
  {
   "cell_type": "code",
   "execution_count": 83,
   "metadata": {},
   "outputs": [
    {
     "data": {
      "text/plain": [
       "('gaussian', -7.531752999057062e-14, 0.1)"
      ]
     },
     "execution_count": 83,
     "metadata": {},
     "output_type": "execute_result"
    }
   ],
   "source": [
    "method.__params"
   ]
  },
  {
   "cell_type": "code",
   "execution_count": 38,
   "metadata": {},
   "outputs": [],
   "source": [
    "X_pos = np.linspace(0,length-1, length)\n",
    "random.shuffle(X_pos)\n",
    "part = np.array_split(X_pos, nfolds)"
   ]
  },
  {
   "cell_type": "code",
   "execution_count": 40,
   "metadata": {},
   "outputs": [
    {
     "name": "stdout",
     "output_type": "stream",
     "text": [
      "     pcost       dcost       gap    pres   dres\n",
      " 0: -2.5010e+01 -5.1760e+00  3e+02  2e+01  1e-16\n",
      " 1: -3.4450e+00 -2.5824e-01  9e+00  7e-01  7e-16\n",
      " 2: -1.1384e-01 -1.9104e-01  1e-01  4e-03  7e-16\n",
      " 3: -9.6578e-02 -1.0810e-01  1e-02  2e-18  6e-16\n",
      " 4: -9.7713e-02 -9.8203e-02  5e-04  7e-18  5e-16\n",
      " 5: -9.7725e-02 -9.7729e-02  5e-06  7e-18  8e-16\n",
      " 6: -9.7725e-02 -9.7725e-02  5e-08  2e-17  2e-16\n",
      "Optimal solution found.\n",
      "[[-1. -1. -1. -1. -1. -1. -1. -1. -1. -1.]]\n",
      "nan\n"
     ]
    }
   ],
   "source": [
    "j = 0\n",
    "train = np.concatenate(np.array(part)[tuple([np.array(range(nfolds)) != j])].astype('int')) \n",
    "X_j = X[train]\n",
    "y_j = y[train]\n",
    "model.fit(X_j, y_j)\n",
    "y_pred = model.predict(X[part[j].astype('int')])\n",
    "e = e + loss_function(y[part[j].astype('int')], y_pred)\n",
    "print(y_pred)\n",
    "print(e)"
   ]
  },
  {
   "cell_type": "code",
   "execution_count": 28,
   "metadata": {},
   "outputs": [],
   "source": [
    "def __linearKernel(X_sv, Y):\n",
    "    kernelmatrix = X_sv.dot(Y.T)\n",
    "    return kernelmatrix\n",
    "def __polynomialKernel(X_sv, Y, kernelparameter):\n",
    "    kernelmatrix = (X_sv.dot(Y.T) + 1) ** kernelparameter\n",
    "    return kernelmatrix\n",
    "def __gaussianKernel(X_sv, Y, kernelparameter):\n",
    "    X_len, X_width = X_sv.shape\n",
    "    kernelmatrix = np.exp(-(np.diagonal(X_sv.dot(X_sv.T)).reshape(X_len, 1) - 2 * X_sv.dot(\n",
    "                Y.T) + np.diagonal(Y.dot(Y.T))) / (2 * (kernelparameter ** 2)))\n",
    "    return kernelmatrix"
   ]
  },
  {
   "cell_type": "code",
   "execution_count": 31,
   "metadata": {},
   "outputs": [],
   "source": [
    "        # INSERT_CODE\n",
    "        \n",
    "        # Here you have to set the matrices as in the general QP problem\n",
    "        #P = \n",
    "        #q = \n",
    "        #G = \n",
    "        #h = \n",
    "        #A =   # hint: this has to be a row vector\n",
    "        #b =   # hint: this has to be a scalar\n",
    "X = X_j\n",
    "Y = y_j\n",
    "X_sv = X\n",
    "Y_sv = Y\n",
    "__ydim = Y.shape[0]\n",
    "kernel = parameter[0]\n",
    "kernelparameter = parameter[1]\n",
    "        \n",
    "        # reshape ytrain\n",
    "Y_sv = Y_sv.reshape(__ydim,-1)\n",
    "\n",
    "        \n",
    "# calculate kernelmatrix\n",
    "if kernel == 'linear':\n",
    "    __linearKernel(X_sv,X_sv,kernelparameter)\n",
    "elif kernel == 'polynomial':\n",
    "    __polynomialKernel(X_sv,X_sv,kernelparameter)\n",
    "elif kernel == 'gaussian':\n",
    "    kernelmatrix = __gaussianKernel(X_sv,X_sv,kernelparameter)\n",
    "else:\n",
    "    print(\"\"\"The following kernel {} is not known. Please use either 'linear' , 'polynomial' or 'gaussian'.\"\"\".format(kernel))"
   ]
  },
  {
   "cell_type": "code",
   "execution_count": 32,
   "metadata": {},
   "outputs": [
    {
     "data": {
      "text/plain": [
       "array([[1., 0., 0., ..., 0., 0., 0.],\n",
       "       [0., 1., 0., ..., 0., 0., 0.],\n",
       "       [0., 0., 1., ..., 0., 0., 0.],\n",
       "       ...,\n",
       "       [0., 0., 0., ..., 1., 0., 0.],\n",
       "       [0., 0., 0., ..., 0., 1., 0.],\n",
       "       [0., 0., 0., ..., 0., 0., 1.]])"
      ]
     },
     "execution_count": 32,
     "metadata": {},
     "output_type": "execute_result"
    }
   ],
   "source": [
    "kernelmatrix"
   ]
  },
  {
   "cell_type": "code",
   "execution_count": null,
   "metadata": {},
   "outputs": [],
   "source": [
    "        P = (self.Y_sv@self.Y_sv.T)*self.kernelmatrix\n",
    "        q = -1*np.ones((self.__ydim,1)) #y_train has the same length as X_train\n",
    "        A = self.Y_sv.T\n",
    "        b = 0\n",
    "        if self.C is None: \n",
    "            # constraint for evrry every alpha: 0 =< alpha\n",
    "            # use matrix notation\n",
    "            # QP solver wants it: Gx =< h, where h expresses the 0 of the condition\n",
    "            # to foollow the QP_solver formulation contraint in G expressed by -1\n",
    "            G = -1*np.identity(self.__ydim)\n",
    "            h = np.zeros(self.__ydim)\n",
    "        else:\n",
    "            # constraint for every alpha: 0 =< alpha =< C\n",
    "            # use matrix notation\n",
    "            # QP solver wants it: Gx =< h, hence h expresses the upper and lower bound of the condition -> h_size = 2n x 1\n",
    "            # G of size 2n x n \n",
    "            # first n rows contain the constraint 0 =< alpha -> in G expressed by -1, in h with 0\n",
    "            # second n rows contain the constraint alpha =< C -> in G expressed by 1, in h with C\n",
    "            G = np.vstack((-1*np.identity(self.__ydim),np.identity(self.__ydim)))\n",
    "            h = np.hstack((np.zeros(self.__ydim),self.C/self.__ydim*np.ones(self.__ydim)))\n",
    "        # this is already implemented so you don't have to\n",
    "        # read throught the cvxopt manual\n",
    "        alpha = np.array(qp(cvxmatrix(P, tc='d'),\n",
    "                            cvxmatrix(q, tc='d'),\n",
    "                            cvxmatrix(G, tc='d'),\n",
    "                            cvxmatrix(h, tc='d'),\n",
    "                            cvxmatrix(A, tc='d'),\n",
    "                            cvxmatrix(b, tc='d'))['x']).flatten()\n",
    "        # Support vectors have non zero lagrange multipliers and are smaller than C/m\n",
    "        self.sv = np.logical_and(alpha > 1e-8, alpha < np.round(self.C/self.__ydim,5)) #treshold 1e-5\n",
    "        self.alpha_sv = alpha[self.sv]\n",
    "        \n",
    "        self.X_sv = self.X_sv[self.sv]\n",
    "        self.Y_sv = self.Y_sv[self.sv]\n",
    "        # calculation of bias b\n",
    "        \n",
    "        # calculate kernelmatrix for X_sv, makes it independet of the choosen kernel\n",
    "        if self.kernel == 'linear':\n",
    "            self.__linearKernel(self.X_sv)\n",
    "        elif self.kernel == 'polynomial':\n",
    "            self.__polynomialKernel(self.X_sv)\n",
    "        elif self.kernel == 'gaussian':\n",
    "            self.__gaussianKernel(self.X_sv)\n",
    "        \n",
    "        # b = mean(y[sv] - sum(alpha*y*kernel(X_tr,X[sv]))\n",
    "        # w is expressed by sum alpha*y*X_tr , usually it would be multiplied with X[sv].T for linear kernels\n",
    "        # but because different kernels can be used, the kernel way is used \n",
    "        \n",
    "        # for all data points\n",
    "        #self.b = np.mean(self.Y_sv-(alpha.reshape(-1,1)*self.__ytrain).T@self.kernelmatrix)\n",
    "        \n",
    "        # use only sv \n",
    "        self.b = np.mean(self.Y_sv-(self.alpha_sv.reshape(-1,1)*self.Y_sv).T@(self.kernelmatrix))"
   ]
  },
  {
   "cell_type": "code",
   "execution_count": 46,
   "metadata": {},
   "outputs": [],
   "source": [
    "from cvxopt.solvers import qp, options\n",
    "from cvxopt import matrix as cvxmatrix\n",
    "class svm_qp():\n",
    "    \"\"\" Support Vector Machines via Quadratic Programming \"\"\"\n",
    "    options['show_progress'] = False\n",
    "    \n",
    "    def __init__(self, kernel='linear', kernelparameter=1., C=1.):\n",
    "        self.kernel = kernel\n",
    "        self.kernelparameter = kernelparameter\n",
    "        self.C = C\n",
    "        self.alpha_sv = None\n",
    "        self.b = None\n",
    "        self.X_sv = None\n",
    "        self.Y_sv = None\n",
    "        \n",
    "    \n",
    "    def fit(self, X, Y):\n",
    "\n",
    "        # INSERT_CODE\n",
    "        \n",
    "        # Here you have to set the matrices as in the general QP problem\n",
    "        #P = \n",
    "        #q = \n",
    "        #G = \n",
    "        #h = \n",
    "        #A =   # hint: this has to be a row vector\n",
    "        #b =   # hint: this has to be a scalar\n",
    "        \n",
    "        self.X_sv = X.T\n",
    "        self.Y_sv = Y\n",
    "        self.__ydim = Y.shape[0]\n",
    "        \n",
    "        # reshape ytrain\n",
    "        self.Y_sv = self.Y_sv.reshape(self.__ydim,-1)\n",
    "\n",
    "        \n",
    "        # calculate kernelmatrix\n",
    "        #if self.kernel == 'linear':\n",
    "        #    self.__linearKernel(X)\n",
    "        #elif self.kernel == 'polynomial':\n",
    "        #    self.__polynomialKernel(X)\n",
    "        #elif self.kernel == 'gaussian':\n",
    "        #    self.__gaussianKernel(X)\n",
    "        #else:\n",
    "        # print(\"\"\"The following kernel {} is not known. Please use either 'linear' , 'polynomial' or 'gaussian'.\"\"\".format(kernel))\n",
    "\n",
    "        self.kernelmatrix = buildKernel(self.X_sv, kernel = self.kernel, kernelparameter = self.kernelparameter)\n",
    "        \n",
    "        P = (self.Y_sv@self.Y_sv.T)*self.kernelmatrix\n",
    "        q = -1*np.ones((self.__ydim,1)) #y_train has the same length as X_train\n",
    "        A = self.Y_sv.T\n",
    "        b = 0\n",
    "        if self.C is None: \n",
    "            # constraint for evrry every alpha: 0 =< alpha\n",
    "            # use matrix notation\n",
    "            # QP solver wants it: Gx =< h, where h expresses the 0 of the condition\n",
    "            # to foollow the QP_solver formulation contraint in G expressed by -1\n",
    "            G = -1*np.identity(self.__ydim)\n",
    "            h = np.zeros(self.__ydim)\n",
    "        else:\n",
    "            # constraint for every alpha: 0 =< alpha =< C\n",
    "            # use matrix notation\n",
    "            # QP solver wants it: Gx =< h, hence h expresses the upper and lower bound of the condition -> h_size = 2n x 1\n",
    "            # G of size 2n x n \n",
    "            # first n rows contain the constraint 0 =< alpha -> in G expressed by -1, in h with 0\n",
    "            # second n rows contain the constraint alpha =< C -> in G expressed by 1, in h with C\n",
    "            G = np.vstack((-1*np.identity(self.__ydim),np.identity(self.__ydim)))\n",
    "            h = np.hstack((np.zeros(self.__ydim),self.C/self.__ydim*np.ones(self.__ydim)))\n",
    "        # this is already implemented so you don't have to\n",
    "        # read throught the cvxopt manual\n",
    "        alpha = np.array(qp(cvxmatrix(P, tc='d'),\n",
    "                            cvxmatrix(q, tc='d'),\n",
    "                            cvxmatrix(G, tc='d'),\n",
    "                            cvxmatrix(h, tc='d'),\n",
    "                            cvxmatrix(A, tc='d'),\n",
    "                            cvxmatrix(b, tc='d'))['x']).flatten()\n",
    "        # Support vectors have non zero lagrange multipliers and are smaller than C/m\n",
    "        self.sv = np.logical_and(alpha > 1e-8, alpha < np.round(self.C/self.__ydim,5)) #treshold 1e-5\n",
    "        self.alpha_sv = alpha[self.sv]\n",
    "        \n",
    "        self.X_sv = self.X_sv[:,self.sv]\n",
    "        self.Y_sv = self.Y_sv[self.sv]\n",
    "        # calculation of bias b\n",
    "        \n",
    "        # calculate kernelmatrix for X_sv, makes it independet of the choosen kernel\n",
    "        \n",
    "        #if self.kernel == 'linear':\n",
    "        #    self.__linearKernel(self.X_sv)\n",
    "        #elif self.kernel == 'polynomial':\n",
    "        #    self.__polynomialKernel(self.X_sv)\n",
    "        #elif self.kernel == 'gaussian':\n",
    "        #    self.__gaussianKernel(self.X_sv)\n",
    "        self.kernelmatrix = buildKernel(self.X_sv, kernel = self.kernel, kernelparameter = self.kernelparameter)\n",
    "        \n",
    "        # b = mean(y[sv] - sum(alpha*y*kernel(X_tr,X[sv]))\n",
    "        # w is expressed by sum alpha*y*X_tr , usually it would be multiplied with X[sv].T for linear kernels\n",
    "        # but because different kernels can be used, the kernel way is used \n",
    "        \n",
    "        # for all data points\n",
    "        #self.b = np.mean(self.Y_sv-(alpha.reshape(-1,1)*self.__ytrain).T@self.kernelmatrix)\n",
    "        \n",
    "        # use only sv \n",
    "        self.b = np.mean(self.Y_sv-(self.alpha_sv.reshape(-1,1)*self.Y_sv).T@(self.kernelmatrix))\n",
    "        \n",
    "    def predict(self, X):\n",
    "\n",
    "        # INSERT_CODE\n",
    "        \n",
    "        # calculate kernelmatrix\n",
    "        #if self.kernel == 'linear':\n",
    "        #    self.__linearKernel(X)\n",
    "        #elif self.kernel == 'polynomial':\n",
    "        #    self.__polynomialKernel(X)\n",
    "        #elif self.kernel == 'gaussian':\n",
    "        #    self.__gaussianKernel(X)\n",
    "\n",
    "        self.kernelmatrix = buildKernel(self.X_sv,X.T, kernel = self.kernel, kernelparameter = self.kernelparameter)\n",
    "        self.yhat = np.sign((self.alpha_sv.reshape(-1,1)*self.Y_sv).T @ self.kernelmatrix + self.b)\n",
    "\n",
    "        return self.yhat\n",
    "    \n",
    "    def __linearKernel(self, Y):\n",
    "        self.kernelmatrix = self.X_sv.dot(Y.T)\n",
    "\n",
    "    def __polynomialKernel(self, Y):\n",
    "        self.kernelmatrix = (self.X_sv.dot(Y.T) + 1) ** self.kernelparameter\n",
    "\n",
    "    def __gaussianKernel(self, Y):\n",
    "        X_len, X_width = self.X_sv.shape\n",
    "        self.kernelmatrix = np.exp(-(\n",
    "                    np.diagonal(self.X_sv.dot(self.X_sv.T)).reshape(X_len, 1) - 2 * self.X_sv.dot(\n",
    "                Y.T) + np.diagonal(Y.dot(Y.T))) / (2 * (self.kernelparameter ** 2)))\n",
    "\n",
    "\n",
    "\n",
    "# This is already implemented for your convenience\n",
    "class svm_sklearn():\n",
    "    \"\"\" SVM via scikit-learn \"\"\"\n",
    "    def __init__(self, kernel='linear', kernelparameter=1., C=1.):\n",
    "        if kernel == 'gaussian':\n",
    "            kernel = 'rbf'\n",
    "        self.clf = sklearn.svm.SVC(C=C,\n",
    "                                   kernel=kernel,\n",
    "                                   gamma=1./(1./2. * kernelparameter ** 2),\n",
    "                                   degree=kernelparameter,\n",
    "                                   coef0=kernelparameter)\n",
    "\n",
    "    def fit(self, X, y):\n",
    "        self.clf.fit(X, y)\n",
    "        self.X_sv = X[self.clf.support_, :]\n",
    "        self.y_sv = y[self.clf.support_]\n",
    "\n",
    "    def predict(self, X):\n",
    "        return self.clf.decision_function(X)\n",
    "\n",
    "\n",
    "def plot_boundary_2d(X, y, model):\n",
    "    \"\"\"\n",
    "    Plots a 2 dimensional boundary of a model.\n",
    "\n",
    "    Inputs:\n",
    "    X = 2d data array (nx2)\n",
    "    y = labels (nx1)\n",
    "    model = model (typically SVM or neural net)\n",
    "    \"\"\"\n",
    "    # 1. plot points X\n",
    "    plt.scatter(X.T[0][np.argwhere(y == 1)], X.T[1][np.argwhere(y == 1)], c='b', label='Positive class')\n",
    "    plt.scatter(X.T[0][np.argwhere(y == -1)], X.T[1][np.argwhere(y == -1)], c='r', label='Negative class')\n",
    "\n",
    "    # 2. mark support vectors with a cross if svm\n",
    "    if isinstance(model, svm_sklearn):\n",
    "        plt.scatter(model.X_sv.T[0], model.X_sv.T[1], s=80, c='y', marker='x', label='Support vectors')\n",
    "\n",
    "    # 3. plot separating hyperplane\n",
    "    # 3a. create grid of predictions\n",
    "    x_max = np.amax(X, axis=0)\n",
    "    x_min = np.amin(X, axis=0)\n",
    "    x0 = np.linspace(x_min[0], x_max[0], 50)\n",
    "    x1 = np.linspace(x_min[1], x_max[1], 50)\n",
    "    x0v, x1v = np.meshgrid(x0, x1)\n",
    "    Xv = np.squeeze(np.array((x0v.reshape(2500, 1), x1v.reshape(2500, 1))))\n",
    "    grid_pred = model.predict(Xv.T)\n",
    "    # 3b plot level 0 contour line\n",
    "    plt.contour(x0, x1, grid_pred.reshape(50, 50), levels=0)\n",
    "\n",
    "    # format plot\n",
    "    plt.ylabel('X1')\n",
    "    plt.xlabel('X0')\n",
    "    plt.title('2D visualisation of model classifications with a separating hyperplane')\n",
    "    plt.legend()\n",
    "    plt.show()\n",
    "\n",
    "\n",
    "\n",
    "\n",
    "def sqdistmat(X, Y=False):\n",
    "    if Y is False:\n",
    "        X2 = sum(X**2, 0)[np.newaxis, :]\n",
    "        D2 = X2 + X2.T - 2*np.dot(X.T, X)\n",
    "    else:\n",
    "        X2 = sum(X**2, 0)[:, np.newaxis]\n",
    "        Y2 = sum(Y**2, 0)[np.newaxis, :]\n",
    "        D2 = X2 + Y2 - 2*np.dot(X.T, Y)\n",
    "    return D2\n",
    "\n",
    "\n",
    "def buildKernel(X, Y=False, kernel='linear', kernelparameter=0):\n",
    "    d, n = X.shape\n",
    "    if isinstance(Y,bool) and Y is False:\n",
    "        Y = X\n",
    "    if kernel == 'linear':\n",
    "        K = np.dot(X.T, Y)\n",
    "    elif kernel == 'polynomial':\n",
    "        K = np.dot(X.T, Y) + 1\n",
    "        K = K**kernelparameter\n",
    "    elif kernel == 'gaussian':\n",
    "        K = sqdistmat(X, Y)\n",
    "        K = np.exp(K / (-2 * kernelparameter**2))\n",
    "    else:\n",
    "        raise Exception('unspecified kernel')\n",
    "    return K\n"
   ]
  },
  {
   "cell_type": "code",
   "execution_count": 47,
   "metadata": {},
   "outputs": [],
   "source": [
    "test=svm_qp(kernel='gaussian', kernelparameter=1.1513953993264456, C=0.46415888336127725)"
   ]
  },
  {
   "cell_type": "code",
   "execution_count": 48,
   "metadata": {},
   "outputs": [],
   "source": [
    "test.fit(X_tr,Y_tr)"
   ]
  },
  {
   "cell_type": "code",
   "execution_count": 23,
   "metadata": {},
   "outputs": [],
   "source": [
    "X = X_tr\n",
    "Y = Y_tr\n",
    "X_sv = X.T\n",
    "Y_sv = Y\n",
    "kernel='gaussian'\n",
    "kernelparameter=0.7906043210907685\n",
    "C = 0.573615251044868\n",
    "__ydim = Y.shape[0]\n",
    "        \n",
    "        # reshape ytrain\n",
    "Y_sv = Y_sv.reshape(__ydim,-1)\n",
    "\n",
    "        \n",
    "        # calculate kernelmatrix\n",
    "        #if self.kernel == 'linear':\n",
    "        #    self.__linearKernel(X)\n",
    "        #elif self.kernel == 'polynomial':\n",
    "        #    self.__polynomialKernel(X)\n",
    "        #elif self.kernel == 'gaussian':\n",
    "        #    self.__gaussianKernel(X)\n",
    "        #else:\n",
    "        # print(\"\"\"The following kernel {} is not known. Please use either 'linear' , 'polynomial' or 'gaussian'.\"\"\".format(kernel))\n",
    "\n",
    "kernelmatrix = buildKernel(X_sv, kernel = kernel, kernelparameter = kernelparameter)\n"
   ]
  },
  {
   "cell_type": "code",
   "execution_count": 26,
   "metadata": {},
   "outputs": [],
   "source": [
    "P = (Y_sv@Y_sv.T)*kernelmatrix\n",
    "q = -1*np.ones((__ydim,1)) #y_train has the same length as X_train\n",
    "A = Y_sv.T\n",
    "b = 0\n",
    "if C is None: \n",
    "            # constraint for evrry every alpha: 0 =< alpha\n",
    "            # use matrix notation\n",
    "            # QP solver wants it: Gx =< h, where h expresses the 0 of the condition\n",
    "            # to foollow the QP_solver formulation contraint in G expressed by -1\n",
    "    G = -1*np.identity(__ydim)\n",
    "    h = np.zeros(__ydim)\n",
    "else:\n",
    "            # constraint for every alpha: 0 =< alpha =< C\n",
    "            # use matrix notation\n",
    "            # QP solver wants it: Gx =< h, hence h expresses the upper and lower bound of the condition -> h_size = 2n x 1\n",
    "            # G of size 2n x n \n",
    "            # first n rows contain the constraint 0 =< alpha -> in G expressed by -1, in h with 0\n",
    "            # second n rows contain the constraint alpha =< C -> in G expressed by 1, in h with C\n",
    "    G = np.vstack((-1*np.identity(__ydim),np.identity(__ydim)))\n",
    "    h = np.hstack((np.zeros(__ydim),C/__ydim*np.ones(__ydim)))\n",
    "        # this is already implemented so you don't have to\n",
    "        # read throught the cvxopt manual\n",
    "alpha = np.array(qp(cvxmatrix(P, tc='d'),\n",
    "                    cvxmatrix(q, tc='d'),\n",
    "                    cvxmatrix(G, tc='d'),\n",
    "                    cvxmatrix(h, tc='d'),\n",
    "                    cvxmatrix(A, tc='d'),\n",
    "                    cvxmatrix(b, tc='d'))['x']).flatten()\n",
    "        # Support vectors have non zero lagrange multipliers and are smaller than C/m\n",
    "sv = np.logical_and(alpha > 1e-8, alpha < np.round(C/__ydim,5)) #treshold 1e-5\n",
    "alpha_sv = alpha[sv]\n",
    "        \n",
    "X_sv = X_sv[:,sv]\n",
    "Y_sv = Y_sv[sv]"
   ]
  },
  {
   "cell_type": "code",
   "execution_count": 34,
   "metadata": {},
   "outputs": [],
   "source": [
    "X = X_tr\n",
    "Y = Y_tr\n",
    "X_sv = X\n",
    "Y_sv = Y\n",
    "X_len, X_width = X_sv.shape\n",
    "kernelmatrix_my = np.exp(-(np.diagonal(X_sv.dot(X_sv.T)).reshape(X_len, 1) - 2 * X_sv.dot(X_sv.T) + np.diagonal(X_sv.dot(X_sv.T))) / (2 * (kernelparameter ** 2)))"
   ]
  },
  {
   "cell_type": "code",
   "execution_count": 49,
   "metadata": {},
   "outputs": [
    {
     "data": {
      "text/plain": [
       "array([[1.00000000e+00, 1.12617981e-04, 3.26960446e-01, ...,\n",
       "        1.94634610e-02, 2.01601355e-01, 4.18693841e-01],\n",
       "       [1.12617981e-04, 1.00000000e+00, 1.16954820e-02, ...,\n",
       "        2.99017619e-01, 8.54988730e-03, 8.29160267e-03],\n",
       "       [3.26960446e-01, 1.16954820e-02, 1.00000000e+00, ...,\n",
       "        2.03796200e-01, 8.88177878e-01, 5.04327899e-01],\n",
       "       ...,\n",
       "       [1.94634610e-02, 2.99017619e-01, 2.03796200e-01, ...,\n",
       "        1.00000000e+00, 1.13589259e-01, 2.94920227e-01],\n",
       "       [2.01601355e-01, 8.54988730e-03, 8.88177878e-01, ...,\n",
       "        1.13589259e-01, 1.00000000e+00, 2.53460358e-01],\n",
       "       [4.18693841e-01, 8.29160267e-03, 5.04327899e-01, ...,\n",
       "        2.94920227e-01, 2.53460358e-01, 1.00000000e+00]])"
      ]
     },
     "execution_count": 49,
     "metadata": {},
     "output_type": "execute_result"
    }
   ],
   "source": [
    "kernelmatrix"
   ]
  },
  {
   "cell_type": "code",
   "execution_count": 36,
   "metadata": {},
   "outputs": [
    {
     "data": {
      "text/plain": [
       "array([[1.00000000e+00, 1.12617981e-04, 3.26960446e-01, ...,\n",
       "        1.94634610e-02, 2.01601355e-01, 4.18693841e-01],\n",
       "       [1.12617981e-04, 1.00000000e+00, 1.16954820e-02, ...,\n",
       "        2.99017619e-01, 8.54988730e-03, 8.29160267e-03],\n",
       "       [3.26960446e-01, 1.16954820e-02, 1.00000000e+00, ...,\n",
       "        2.03796200e-01, 8.88177878e-01, 5.04327899e-01],\n",
       "       ...,\n",
       "       [1.94634610e-02, 2.99017619e-01, 2.03796200e-01, ...,\n",
       "        1.00000000e+00, 1.13589259e-01, 2.94920227e-01],\n",
       "       [2.01601355e-01, 8.54988730e-03, 8.88177878e-01, ...,\n",
       "        1.13589259e-01, 1.00000000e+00, 2.53460358e-01],\n",
       "       [4.18693841e-01, 8.29160267e-03, 5.04327899e-01, ...,\n",
       "        2.94920227e-01, 2.53460358e-01, 1.00000000e+00]])"
      ]
     },
     "execution_count": 36,
     "metadata": {},
     "output_type": "execute_result"
    }
   ],
   "source": [
    "kernelmatrix_my"
   ]
  },
  {
   "cell_type": "code",
   "execution_count": 45,
   "metadata": {},
   "outputs": [
    {
     "data": {
      "text/plain": [
       "array([], shape=(0, 0), dtype=float64)"
      ]
     },
     "execution_count": 45,
     "metadata": {},
     "output_type": "execute_result"
    }
   ],
   "source": [
    "test.kernelmatrix\n",
    "\n"
   ]
  },
  {
   "cell_type": "code",
   "execution_count": 54,
   "metadata": {},
   "outputs": [
    {
     "data": {
      "text/plain": [
       "(100, 100)"
      ]
     },
     "execution_count": 54,
     "metadata": {},
     "output_type": "execute_result"
    }
   ],
   "source": [
    "buildKernel(X_tr.T, kernel = 'gaussian', kernelparameter = test.kernelparameter).shape"
   ]
  },
  {
   "cell_type": "code",
   "execution_count": 42,
   "metadata": {},
   "outputs": [],
   "source": [
    "K = sqdistmat(X_tr)"
   ]
  },
  {
   "cell_type": "code",
   "execution_count": 43,
   "metadata": {},
   "outputs": [
    {
     "data": {
      "text/plain": [
       "array([[-1.13686838e-13,  3.08400774e+02],\n",
       "       [ 3.08400774e+02,  1.42108547e-14]])"
      ]
     },
     "execution_count": 43,
     "metadata": {},
     "output_type": "execute_result"
    }
   ],
   "source": [
    "K"
   ]
  },
  {
   "cell_type": "code",
   "execution_count": 48,
   "metadata": {},
   "outputs": [],
   "source": [
    "X2 = sum(X_tr**2, 0)[np.newaxis, :]"
   ]
  },
  {
   "cell_type": "code",
   "execution_count": 49,
   "metadata": {},
   "outputs": [
    {
     "data": {
      "text/plain": [
       "array([[383.24717288,  41.12513269]])"
      ]
     },
     "execution_count": 49,
     "metadata": {},
     "output_type": "execute_result"
    }
   ],
   "source": [
    "X2"
   ]
  },
  {
   "cell_type": "code",
   "execution_count": 50,
   "metadata": {},
   "outputs": [
    {
     "data": {
      "text/plain": [
       "array([[9.84561251e+00, 2.98231516e-02, 4.77293578e+00, 2.00982567e-01,\n",
       "        9.92356418e+00, 9.25530193e+00, 7.68430981e-02, 9.57340085e+00,\n",
       "        9.93974391e+00, 1.08118826e-01, 6.36488820e+00, 1.23753822e-01,\n",
       "        2.02290739e-02, 1.15891728e+00, 7.06066588e+00, 4.71146545e+00,\n",
       "        5.30880097e+00, 1.62837732e+00, 7.80960964e+00, 7.43891268e-01,\n",
       "        9.89045126e+00, 7.25368500e-03, 7.39605320e-03, 1.20984109e+01,\n",
       "        9.81805237e-02, 2.17596475e-01, 4.73879532e+00, 4.51902627e+00,\n",
       "        7.33350990e+00, 2.26526296e+00, 1.45588644e-03, 9.57052117e-02,\n",
       "        6.44231696e+00, 1.11945193e+00, 3.31385329e+00, 4.13949956e+00,\n",
       "        2.72850711e+00, 2.00548065e-01, 1.17284581e-01, 2.07122827e-03,\n",
       "        4.22114849e+00, 3.48408466e-03, 8.10318241e+00, 7.62592523e+00,\n",
       "        1.28168106e-02, 1.91036713e+00, 1.76121246e+00, 2.96660239e-01,\n",
       "        5.63813348e-01, 9.85645733e+00, 3.83743422e-02, 2.19039449e+00,\n",
       "        2.39264600e-04, 1.56594641e-02, 2.76631542e+00, 3.88058938e+00,\n",
       "        1.22816413e+01, 6.62225297e-01, 6.28745176e+00, 6.87473246e+00,\n",
       "        3.68673654e+00, 3.10055377e-02, 5.02589475e+00, 7.77748698e+00,\n",
       "        1.59595130e+00, 6.72632354e-01, 7.47001528e+00, 6.85572646e+00,\n",
       "        1.44165563e-01, 6.04763625e+00, 1.53700294e-01, 8.23951037e+00,\n",
       "        1.09972624e+01, 2.02336583e-02, 8.69240077e-02, 8.19647471e+00,\n",
       "        4.16125998e+00, 2.92395476e+00, 3.35308169e+00, 1.35341608e-01,\n",
       "        9.03290270e+00, 6.69796922e+00, 1.24633998e+00, 1.94327949e+00,\n",
       "        3.67176720e+00, 2.89281786e+00, 1.35748125e+01, 6.02948167e+00,\n",
       "        5.23353935e-01, 6.26967030e+00, 4.66953410e+00, 4.69948059e-03,\n",
       "        4.45142812e+00, 4.49322848e+00, 2.03152336e-03, 3.01040298e-01,\n",
       "        1.22302292e+01, 8.46318963e-01, 4.95619155e+00, 4.48888836e+00],\n",
       "       [5.62025090e-01, 1.26202249e-02, 2.52686401e-03, 3.61616654e-01,\n",
       "        1.07026797e-03, 9.69184033e-02, 4.44399312e-02, 1.35801220e-01,\n",
       "        2.53645886e-01, 3.40308047e-02, 2.07736019e-04, 1.56647808e-02,\n",
       "        2.23850734e-01, 6.25502282e-01, 8.77864515e-01, 9.01799536e-02,\n",
       "        1.25328506e+00, 1.12805094e+00, 2.72910168e+00, 1.38555094e-01,\n",
       "        3.19863457e-01, 8.99897018e-02, 4.31085660e-02, 8.89158513e-02,\n",
       "        1.99110824e-01, 2.78779872e-07, 2.04627311e+00, 1.61703514e-01,\n",
       "        1.05324223e+00, 2.14336991e-01, 5.91074856e-03, 9.60520205e-02,\n",
       "        1.67478805e+00, 1.12511091e-01, 2.45850723e-01, 1.46996843e-01,\n",
       "        2.56635927e-01, 5.12850054e-02, 2.94724403e-01, 2.68738847e-01,\n",
       "        6.89610052e-02, 2.98263375e-02, 1.18688210e-02, 8.80721699e-01,\n",
       "        1.40355464e-02, 2.12447196e-01, 1.07780814e+00, 2.76875237e-01,\n",
       "        1.93011608e-02, 1.06169684e+00, 3.18712837e-01, 4.42906779e-01,\n",
       "        2.35035188e-02, 1.06604354e-01, 3.25271212e-01, 1.02756661e-01,\n",
       "        6.11121037e-02, 1.07437969e-03, 1.19952199e+00, 1.57112323e+00,\n",
       "        1.36283036e-02, 1.33090068e-02, 1.07990231e-01, 1.36284792e+00,\n",
       "        1.44832936e+00, 5.19759243e-01, 2.00468526e-02, 2.05363954e+00,\n",
       "        1.07078351e-01, 7.97584478e-02, 3.77583305e-02, 2.71430685e+00,\n",
       "        1.00255237e-01, 1.58232341e-01, 2.92307749e-01, 8.33350228e-03,\n",
       "        1.19937747e-01, 1.78686422e-04, 4.03656322e-01, 1.77728808e-01,\n",
       "        8.95188764e-03, 8.04015894e-01, 8.95914946e-01, 5.42909438e-01,\n",
       "        1.36647887e-01, 2.54668596e-01, 1.92969435e-05, 2.05492222e-02,\n",
       "        8.97946031e-02, 1.47251243e+00, 3.76345359e-02, 1.49461740e-01,\n",
       "        1.10965728e+00, 1.43103807e-02, 2.69189516e-01, 2.25839899e-01,\n",
       "        7.95151080e-02, 4.54100219e-01, 1.10560442e-01, 9.46671178e-01]])"
      ]
     },
     "execution_count": 50,
     "metadata": {},
     "output_type": "execute_result"
    }
   ],
   "source": [
    "X_tr.T**2"
   ]
  },
  {
   "cell_type": "code",
   "execution_count": null,
   "metadata": {},
   "outputs": [],
   "source": [
    "X_len, X_width = self.X_sv.shape\n",
    "        self.kernelmatrix = np.exp(-(\n",
    "                    np.diagonal(self.X_sv.dot(self.X_sv.T)).reshape(X_len, 1) - 2 * self.X_sv.dot(\n",
    "                Y.T) + np.diagonal(Y.dot(Y.T))) / (2 * (self.kernelparameter ** 2)))\n"
   ]
  },
  {
   "cell_type": "code",
   "execution_count": 38,
   "metadata": {},
   "outputs": [],
   "source": [
    "class TestSheet4():\n",
    "    def test_svm_qp(self):\n",
    "        C = imp.svm_qp(kernel='linear', C=1.)\n",
    "        np.random.seed(1)\n",
    "        X_tr = np.hstack((np.random.normal(size=[2, 30]), np.random.normal(size=[2, 30]) + np.array([2., 2.])[:, np.newaxis])).T\n",
    "        Y_tr = np.array([1] * 30 + [-1] * 30)\n",
    "        X_te = np.hstack((np.random.normal(size=[2, 30]), np.random.normal(size=[2, 30]) + np.array([2., 2.])[:, np.newaxis])).T\n",
    "        Y_te = np.array([1] * 30 + [-1] * 30)\n",
    "        C.fit(X_tr, Y_tr)\n",
    "        Y_pred = C.predict(X_te)\n",
    "        loss = float(np.sum(np.sign(Y_te) != np.sign(Y_pred)))/float(len(Y_te))\n",
    "        imp.plot_boundary_2d(X_tr, Y_tr, C)\n",
    "        print('test case loss', loss)\n",
    "        self.assertTrue(loss < 0.25, msg='svm_qp: Error. The loss is %.2f and should be below 0.25' % loss)\n"
   ]
  },
  {
   "cell_type": "code",
   "execution_count": 39,
   "metadata": {},
   "outputs": [],
   "source": [
    "a = TestSheet4()"
   ]
  },
  {
   "cell_type": "code",
   "execution_count": 40,
   "metadata": {},
   "outputs": [
    {
     "data": {
      "image/png": "[encoded data removed]",
      "text/plain": [
       "<Figure size 432x288 with 1 Axes>"
      ]
     },
     "metadata": {
      "needs_background": "light"
     },
     "output_type": "display_data"
    },
    {
     "name": "stdout",
     "output_type": "stream",
     "text": [
      "test case loss 0.11666666666666667\n"
     ]
    },
    {
     "ename": "AttributeError",
     "evalue": "'TestSheet4' object has no attribute 'assertTrue'",
     "output_type": "error",
     "traceback": [
      "\u001b[0;31m---------------------------------------------------------------------------\u001b[0m",
      "\u001b[0;31mAttributeError\u001b[0m                            Traceback (most recent call last)",
      "\u001b[0;32m<ipython-input-40-69846c37a59d>\u001b[0m in \u001b[0;36m<module>\u001b[0;34m\u001b[0m\n\u001b[0;32m----> 1\u001b[0;31m \u001b[0ma\u001b[0m\u001b[0;34m.\u001b[0m\u001b[0mtest_svm_qp\u001b[0m\u001b[0;34m(\u001b[0m\u001b[0;34m)\u001b[0m\u001b[0;34m\u001b[0m\u001b[0;34m\u001b[0m\u001b[0m\n\u001b[0m",
      "\u001b[0;32m<ipython-input-38-f0a2f8af0ec1>\u001b[0m in \u001b[0;36mtest_svm_qp\u001b[0;34m(self)\u001b[0m\n\u001b[1;32m     12\u001b[0m         \u001b[0mimp\u001b[0m\u001b[0;34m.\u001b[0m\u001b[0mplot_boundary_2d\u001b[0m\u001b[0;34m(\u001b[0m\u001b[0mX_tr\u001b[0m\u001b[0;34m,\u001b[0m \u001b[0mY_tr\u001b[0m\u001b[0;34m,\u001b[0m \u001b[0mC\u001b[0m\u001b[0;34m)\u001b[0m\u001b[0;34m\u001b[0m\u001b[0;34m\u001b[0m\u001b[0m\n\u001b[1;32m     13\u001b[0m         \u001b[0mprint\u001b[0m\u001b[0;34m(\u001b[0m\u001b[0;34m'test case loss'\u001b[0m\u001b[0;34m,\u001b[0m \u001b[0mloss\u001b[0m\u001b[0;34m)\u001b[0m\u001b[0;34m\u001b[0m\u001b[0;34m\u001b[0m\u001b[0m\n\u001b[0;32m---> 14\u001b[0;31m         \u001b[0mself\u001b[0m\u001b[0;34m.\u001b[0m\u001b[0massertTrue\u001b[0m\u001b[0;34m(\u001b[0m\u001b[0mloss\u001b[0m \u001b[0;34m<\u001b[0m \u001b[0;36m0.25\u001b[0m\u001b[0;34m,\u001b[0m \u001b[0mmsg\u001b[0m\u001b[0;34m=\u001b[0m\u001b[0;34m'svm_qp: Error. The loss is %.2f and should be below 0.25'\u001b[0m \u001b[0;34m%\u001b[0m \u001b[0mloss\u001b[0m\u001b[0;34m)\u001b[0m\u001b[0;34m\u001b[0m\u001b[0;34m\u001b[0m\u001b[0m\n\u001b[0m",
      "\u001b[0;31mAttributeError\u001b[0m: 'TestSheet4' object has no attribute 'assertTrue'"
     ]
    }
   ],
   "source": [
    "a.test_svm_qp()"
   ]
  },
  {
   "cell_type": "code",
   "execution_count": 41,
   "metadata": {},
   "outputs": [
    {
     "ename": "NameError",
     "evalue": "name 'Y_pred' is not defined",
     "output_type": "error",
     "traceback": [
      "\u001b[0;31m---------------------------------------------------------------------------\u001b[0m",
      "\u001b[0;31mNameError\u001b[0m                                 Traceback (most recent call last)",
      "\u001b[0;32m<ipython-input-41-dff0e3b17820>\u001b[0m in \u001b[0;36m<module>\u001b[0;34m\u001b[0m\n\u001b[0;32m----> 1\u001b[0;31m \u001b[0mY_pred\u001b[0m\u001b[0;34m\u001b[0m\u001b[0;34m\u001b[0m\u001b[0m\n\u001b[0m",
      "\u001b[0;31mNameError\u001b[0m: name 'Y_pred' is not defined"
     ]
    }
   ],
   "source": [
    "Y_pred"
   ]
  },
  {
   "cell_type": "code",
   "execution_count": null,
   "metadata": {},
   "outputs": [],
   "source": []
  }
 ],
 "metadata": {
  "kernelspec": {
   "display_name": "Python 3",
   "language": "python",
   "name": "python3"
  },
  "language_info": {
   "codemirror_mode": {
    "name": "ipython",
    "version": 3
   },
   "file_extension": ".py",
   "mimetype": "text/x-python",
   "name": "python",
   "nbconvert_exporter": "python",
   "pygments_lexer": "ipython3",
   "version": "3.7.7"
  }
 },
 "nbformat": 4,
 "nbformat_minor": 4
}
