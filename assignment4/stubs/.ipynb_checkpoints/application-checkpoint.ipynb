{
 "cells": [
  {
   "cell_type": "code",
   "execution_count": 1,
   "metadata": {},
   "outputs": [],
   "source": [
    "import os\n",
    "import ps4_implementation as imp \n",
    "import numpy as np\n",
    "import itertools as it\n",
    "import time\n",
    "import pylab as pl\n",
    "import random\n",
    "import matplotlib.pyplot as plt\n",
    "from scipy.stats import lognorm\n",
    "from tqdm import tqdm\n",
    "import sklearn.svm"
   ]
  },
  {
   "cell_type": "code",
   "execution_count": 2,
   "metadata": {},
   "outputs": [],
   "source": [
    " def mean_absolute_error(y_true, y_pred):\n",
    "    ''' \n",
    "    your code here \n",
    "    '''\n",
    "    loss = np.mean(abs(y_pred-y_true))\n",
    "    #loss = np.sum(np.sum((y_pred-y_true)**2)**0.5, axis = 1) / len(y_pred)\n",
    "    return loss"
   ]
  },
  {
   "cell_type": "code",
   "execution_count": 3,
   "metadata": {},
   "outputs": [],
   "source": [
    "def cv(X, y, method, params, loss_function=mean_absolute_error, nfolds=10, nrepetitions=5):\n",
    "    ''' \n",
    "    your header here!\n",
    "    '''\n",
    "    # TODO progress bar, run time estimation\n",
    "    length, width = np.shape(X)\n",
    "    # model = method\n",
    "    method.cvloss = 1000000\n",
    "    params_combinations = list(it.product(params['kernel'], params['kernelparameter'], params['regularization']))\n",
    "    for parameter in tqdm(params_combinations):\n",
    "        #print(parameter[1])\n",
    "        model = method(parameter[0], parameter[1], parameter[2])\n",
    "        e = 0\n",
    "        for i in range(nrepetitions):\n",
    "            # Random Partitioning\n",
    "            X_pos = np.linspace(0,length-1, length)\n",
    "            random.shuffle(X_pos)\n",
    "            part = np.array_split(X_pos, nfolds)\n",
    "            for j in range(nfolds):\n",
    "                # Assign every part not j as training set\n",
    "                # Xtr indices\n",
    "                train = np.concatenate(np.array(part)[tuple([np.array(range(nfolds)) != j])].astype('int')) \n",
    "                X_j = X[train]\n",
    "                y_j = y[train]\n",
    "                model.fit(X_j, y_j)\n",
    "                y_pred = model.predict(X[part[j].astype('int')])\n",
    "                e = e + loss_function(y[part[j].astype('int')], y_pred)\n",
    "        e = e / (nfolds * nrepetitions)\n",
    "        print('Loss:' + str(e))\n",
    "        if e < method.cvloss:\n",
    "            #print(e)\n",
    "            method.cvloss = e\n",
    "            #print('Loss in if:' + str(model.cvloss))\n",
    "            method.__params = parameter\n",
    "    #print(method.params)\n",
    "    model = method(method.__params[0],method.__params[1],method.__params[2])\n",
    "    model.fit(X,y)\n",
    "    method = model\n",
    "    return method"
   ]
  },
  {
   "cell_type": "code",
   "execution_count": 4,
   "metadata": {},
   "outputs": [],
   "source": [
    "DATA_PATH = os.path.join(os.path.dirname(os.getcwd()),\"data/easy_2d.npz\")\n",
    "assert os.path.exists(DATA_PATH), \"The path does not excist.\""
   ]
  },
  {
   "cell_type": "code",
   "execution_count": 5,
   "metadata": {},
   "outputs": [
    {
     "name": "stdout",
     "output_type": "stream",
     "text": [
      "['Y_te', 'X_te', 'X_tr', 'Y_tr']\n"
     ]
    }
   ],
   "source": [
    "data = np.load(DATA_PATH)\n",
    "print(data.files)"
   ]
  },
  {
   "cell_type": "code",
   "execution_count": 6,
   "metadata": {},
   "outputs": [],
   "source": [
    "X_tr = data['X_tr'].T\n",
    "Y_tr = data['Y_tr'].T\n",
    "X_te = data['X_te'].T\n",
    "Y_te = data['Y_te'].T"
   ]
  },
  {
   "cell_type": "code",
   "execution_count": 7,
   "metadata": {},
   "outputs": [
    {
     "data": {
      "text/plain": [
       "<matplotlib.collections.PathCollection at 0x1a254e3550>"
      ]
     },
     "execution_count": 7,
     "metadata": {},
     "output_type": "execute_result"
    },
    {
     "data": {
      "image/png": "[encoded data removed]",
      "text/plain": [
       "<Figure size 432x288 with 1 Axes>"
      ]
     },
     "metadata": {
      "needs_background": "light"
     },
     "output_type": "display_data"
    }
   ],
   "source": [
    "# Visualize data\n",
    "plt.scatter(X_tr[Y_tr == -1,0], X_tr[Y_tr == -1,1], marker = 'x', color = 'r', label = 'Negative -1')\n",
    "plt.scatter(X_tr[Y_tr == 1,0], X_tr[Y_tr == 1,1], marker = 'o', color = 'b',label = 'Positive +1')\n",
    "#plt.scatter(X_te[Y_te == -1,0], X_te[Y_te == -1,1], marker = 'x', color = 'g', label = 'Negative -1')\n",
    "#plt.scatter(X_te[Y_te == 1,0], X_te[Y_te == 1,1], marker = 'o', color = 'g',label = 'Positive +1')"
   ]
  },
  {
   "cell_type": "code",
   "execution_count": 147,
   "metadata": {},
   "outputs": [
    {
     "name": "stderr",
     "output_type": "stream",
     "text": [
      "  0%|          | 2/500 [00:00<01:22,  6.05it/s]"
     ]
    },
    {
     "name": "stdout",
     "output_type": "stream",
     "text": [
      "Loss:1.0786937310771716\n",
      "Loss:1.0093999999994305\n"
     ]
    },
    {
     "name": "stderr",
     "output_type": "stream",
     "text": [
      "/Users/leo/anaconda3/envs/Python37/lib/python3.7/site-packages/numpy/core/fromnumeric.py:3335: RuntimeWarning: Mean of empty slice.\n",
      "  out=out, **kwargs)\n",
      "/Users/leo/anaconda3/envs/Python37/lib/python3.7/site-packages/numpy/core/_methods.py:161: RuntimeWarning: invalid value encountered in double_scalars\n",
      "  ret = ret.dtype.type(ret / rcount)\n",
      "  1%|          | 4/500 [00:00<01:19,  6.24it/s]"
     ]
    },
    {
     "name": "stdout",
     "output_type": "stream",
     "text": [
      "Loss:nan\n",
      "Loss:nan\n"
     ]
    },
    {
     "name": "stderr",
     "output_type": "stream",
     "text": [
      "  1%|          | 6/500 [00:00<01:20,  6.12it/s]"
     ]
    },
    {
     "name": "stdout",
     "output_type": "stream",
     "text": [
      "Loss:nan\n",
      "Loss:1.0091999998920214\n"
     ]
    },
    {
     "name": "stderr",
     "output_type": "stream",
     "text": [
      "  2%|▏         | 8/500 [00:01<01:13,  6.74it/s]"
     ]
    },
    {
     "name": "stdout",
     "output_type": "stream",
     "text": [
      "Loss:nan\n",
      "Loss:nan\n"
     ]
    },
    {
     "name": "stderr",
     "output_type": "stream",
     "text": [
      "  2%|▏         | 10/500 [00:01<01:09,  7.05it/s]"
     ]
    },
    {
     "name": "stdout",
     "output_type": "stream",
     "text": [
      "Loss:1.0082000017610107\n",
      "Loss:1.0105999983992155\n"
     ]
    },
    {
     "name": "stderr",
     "output_type": "stream",
     "text": [
      "\r",
      "  2%|▏         | 11/500 [00:01<01:10,  6.92it/s]"
     ]
    },
    {
     "name": "stdout",
     "output_type": "stream",
     "text": [
      "Loss:1.042396625792651\n"
     ]
    },
    {
     "name": "stderr",
     "output_type": "stream",
     "text": [
      "\r",
      "  2%|▏         | 12/500 [00:02<01:50,  4.44it/s]"
     ]
    },
    {
     "name": "stdout",
     "output_type": "stream",
     "text": [
      "Loss:1.0068000000006445\n"
     ]
    },
    {
     "name": "stderr",
     "output_type": "stream",
     "text": [
      "  3%|▎         | 14/500 [00:02<01:57,  4.13it/s]"
     ]
    },
    {
     "name": "stdout",
     "output_type": "stream",
     "text": [
      "Loss:nan\n",
      "Loss:nan\n"
     ]
    },
    {
     "name": "stderr",
     "output_type": "stream",
     "text": [
      "  3%|▎         | 16/500 [00:02<01:29,  5.38it/s]"
     ]
    },
    {
     "name": "stdout",
     "output_type": "stream",
     "text": [
      "Loss:nan\n",
      "Loss:1.0105999999660247\n"
     ]
    },
    {
     "name": "stderr",
     "output_type": "stream",
     "text": [
      "  4%|▎         | 18/500 [00:03<01:22,  5.82it/s]"
     ]
    },
    {
     "name": "stdout",
     "output_type": "stream",
     "text": [
      "Loss:nan\n",
      "Loss:nan\n"
     ]
    },
    {
     "name": "stderr",
     "output_type": "stream",
     "text": [
      "  4%|▍         | 20/500 [00:03<01:24,  5.70it/s]"
     ]
    },
    {
     "name": "stdout",
     "output_type": "stream",
     "text": [
      "Loss:1.0089999986428224\n",
      "Loss:1.0119999997408586\n"
     ]
    },
    {
     "name": "stderr",
     "output_type": "stream",
     "text": [
      "  4%|▍         | 22/500 [00:03<01:16,  6.24it/s]"
     ]
    },
    {
     "name": "stdout",
     "output_type": "stream",
     "text": [
      "Loss:1.0905924955599466\n",
      "Loss:1.0107999999995827\n"
     ]
    },
    {
     "name": "stderr",
     "output_type": "stream",
     "text": [
      "  5%|▍         | 24/500 [00:04<01:17,  6.17it/s]"
     ]
    },
    {
     "name": "stdout",
     "output_type": "stream",
     "text": [
      "Loss:nan\n",
      "Loss:nan\n"
     ]
    },
    {
     "name": "stderr",
     "output_type": "stream",
     "text": [
      "\r",
      "  5%|▌         | 25/500 [00:04<01:15,  6.25it/s]"
     ]
    },
    {
     "name": "stdout",
     "output_type": "stream",
     "text": [
      "Loss:nan\n"
     ]
    },
    {
     "name": "stderr",
     "output_type": "stream",
     "text": [
      "\r",
      "  5%|▌         | 26/500 [00:04<01:51,  4.26it/s]"
     ]
    },
    {
     "name": "stdout",
     "output_type": "stream",
     "text": [
      "Loss:1.0083999999729347\n"
     ]
    },
    {
     "name": "stderr",
     "output_type": "stream",
     "text": [
      "  6%|▌         | 28/500 [00:05<01:43,  4.54it/s]"
     ]
    },
    {
     "name": "stdout",
     "output_type": "stream",
     "text": [
      "Loss:nan\n",
      "Loss:nan\n"
     ]
    },
    {
     "name": "stderr",
     "output_type": "stream",
     "text": [
      "  6%|▌         | 30/500 [00:05<01:24,  5.55it/s]"
     ]
    },
    {
     "name": "stdout",
     "output_type": "stream",
     "text": [
      "Loss:1.0094000006080024\n",
      "Loss:1.0092000004398212\n"
     ]
    },
    {
     "name": "stderr",
     "output_type": "stream",
     "text": [
      "  6%|▋         | 32/500 [00:05<01:17,  6.06it/s]"
     ]
    },
    {
     "name": "stdout",
     "output_type": "stream",
     "text": [
      "Loss:1.0825932515854466\n",
      "Loss:1.0098000000002028\n"
     ]
    },
    {
     "name": "stderr",
     "output_type": "stream",
     "text": [
      "\r",
      "  7%|▋         | 33/500 [00:06<01:50,  4.22it/s]"
     ]
    },
    {
     "name": "stdout",
     "output_type": "stream",
     "text": [
      "Loss:nan\n"
     ]
    },
    {
     "name": "stderr",
     "output_type": "stream",
     "text": [
      "  7%|▋         | 35/500 [00:06<01:40,  4.62it/s]"
     ]
    },
    {
     "name": "stdout",
     "output_type": "stream",
     "text": [
      "Loss:nan\n",
      "Loss:nan\n"
     ]
    },
    {
     "name": "stderr",
     "output_type": "stream",
     "text": [
      "\r",
      "  7%|▋         | 36/500 [00:06<01:49,  4.23it/s]"
     ]
    },
    {
     "name": "stdout",
     "output_type": "stream",
     "text": [
      "Loss:1.0100000000255593\n"
     ]
    },
    {
     "name": "stderr",
     "output_type": "stream",
     "text": [
      "  8%|▊         | 38/500 [00:07<01:44,  4.43it/s]"
     ]
    },
    {
     "name": "stdout",
     "output_type": "stream",
     "text": [
      "Loss:nan\n",
      "Loss:1.0539676807710512\n"
     ]
    },
    {
     "name": "stderr",
     "output_type": "stream",
     "text": [
      "  8%|▊         | 40/500 [00:07<01:24,  5.47it/s]"
     ]
    },
    {
     "name": "stdout",
     "output_type": "stream",
     "text": [
      "Loss:1.0058000002130416\n",
      "Loss:1.01280000028823\n"
     ]
    },
    {
     "name": "stderr",
     "output_type": "stream",
     "text": [
      "  8%|▊         | 42/500 [00:07<01:20,  5.66it/s]"
     ]
    },
    {
     "name": "stdout",
     "output_type": "stream",
     "text": [
      "Loss:1.0953926985199733\n",
      "Loss:1.0094000000000727\n"
     ]
    },
    {
     "name": "stderr",
     "output_type": "stream",
     "text": [
      "\r",
      "  9%|▊         | 43/500 [00:08<01:11,  6.40it/s]"
     ]
    },
    {
     "name": "stdout",
     "output_type": "stream",
     "text": [
      "Loss:nan\n",
      "Loss:nan\n"
     ]
    },
    {
     "name": "stderr",
     "output_type": "stream",
     "text": [
      "\r",
      "  9%|▉         | 45/500 [00:08<01:03,  7.14it/s]"
     ]
    },
    {
     "name": "stdout",
     "output_type": "stream",
     "text": [
      "Loss:nan\n"
     ]
    },
    {
     "name": "stderr",
     "output_type": "stream",
     "text": [
      "  9%|▉         | 47/500 [00:08<01:10,  6.44it/s]"
     ]
    },
    {
     "name": "stdout",
     "output_type": "stream",
     "text": [
      "Loss:1.0084000000050202\n",
      "Loss:nan\n"
     ]
    },
    {
     "name": "stderr",
     "output_type": "stream",
     "text": [
      " 10%|▉         | 49/500 [00:08<00:58,  7.70it/s]"
     ]
    },
    {
     "name": "stdout",
     "output_type": "stream",
     "text": [
      "Loss:nan\n",
      "Loss:1.0070000001122588\n"
     ]
    },
    {
     "name": "stderr",
     "output_type": "stream",
     "text": [
      " 10%|█         | 51/500 [00:09<01:03,  7.11it/s]"
     ]
    },
    {
     "name": "stdout",
     "output_type": "stream",
     "text": [
      "Loss:1.0104000000122806\n",
      "Loss:1.0947926985199818\n"
     ]
    },
    {
     "name": "stderr",
     "output_type": "stream",
     "text": [
      " 11%|█         | 53/500 [00:09<01:11,  6.27it/s]"
     ]
    },
    {
     "name": "stdout",
     "output_type": "stream",
     "text": [
      "Loss:1.0127999999999857\n",
      "Loss:nan\n"
     ]
    },
    {
     "name": "stderr",
     "output_type": "stream",
     "text": [
      " 11%|█         | 55/500 [00:09<01:30,  4.89it/s]"
     ]
    },
    {
     "name": "stdout",
     "output_type": "stream",
     "text": [
      "Loss:nan\n",
      "Loss:nan\n"
     ]
    },
    {
     "name": "stderr",
     "output_type": "stream",
     "text": [
      " 11%|█▏        | 57/500 [00:10<01:11,  6.19it/s]"
     ]
    },
    {
     "name": "stdout",
     "output_type": "stream",
     "text": [
      "Loss:1.008599999998678\n",
      "Loss:nan\n"
     ]
    },
    {
     "name": "stderr",
     "output_type": "stream",
     "text": [
      "\r",
      " 12%|█▏        | 58/500 [00:10<01:04,  6.85it/s]"
     ]
    },
    {
     "name": "stdout",
     "output_type": "stream",
     "text": [
      "Loss:nan\n"
     ]
    },
    {
     "name": "stderr",
     "output_type": "stream",
     "text": [
      "\r",
      " 12%|█▏        | 59/500 [00:10<01:31,  4.82it/s]"
     ]
    },
    {
     "name": "stdout",
     "output_type": "stream",
     "text": [
      "Loss:1.0159999999056815\n"
     ]
    },
    {
     "name": "stderr",
     "output_type": "stream",
     "text": [
      " 12%|█▏        | 61/500 [00:11<01:23,  5.24it/s]"
     ]
    },
    {
     "name": "stdout",
     "output_type": "stream",
     "text": [
      "Loss:1.0126000000503967\n",
      "Loss:1.0043999999999995\n"
     ]
    },
    {
     "name": "stderr",
     "output_type": "stream",
     "text": [
      "\r",
      " 12%|█▏        | 62/500 [00:11<01:45,  4.17it/s]"
     ]
    },
    {
     "name": "stdout",
     "output_type": "stream",
     "text": [
      "Loss:1.0120000000000153\n"
     ]
    },
    {
     "name": "stderr",
     "output_type": "stream",
     "text": [
      " 13%|█▎        | 64/500 [00:11<01:43,  4.19it/s]"
     ]
    },
    {
     "name": "stdout",
     "output_type": "stream",
     "text": [
      "Loss:nan\n",
      "Loss:nan\n"
     ]
    },
    {
     "name": "stderr",
     "output_type": "stream",
     "text": [
      "\r",
      " 13%|█▎        | 65/500 [00:12<01:53,  3.82it/s]"
     ]
    },
    {
     "name": "stdout",
     "output_type": "stream",
     "text": [
      "Loss:nan\n"
     ]
    },
    {
     "name": "stderr",
     "output_type": "stream",
     "text": [
      " 13%|█▎        | 67/500 [00:12<01:45,  4.10it/s]"
     ]
    },
    {
     "name": "stdout",
     "output_type": "stream",
     "text": [
      "Loss:1.006999999999275\n",
      "Loss:nan\n"
     ]
    },
    {
     "name": "stderr",
     "output_type": "stream",
     "text": [
      "\r",
      " 14%|█▎        | 68/500 [00:12<01:28,  4.86it/s]"
     ]
    },
    {
     "name": "stdout",
     "output_type": "stream",
     "text": [
      "Loss:nan\n",
      "Loss:1.005199999992234\n"
     ]
    },
    {
     "name": "stderr",
     "output_type": "stream",
     "text": [
      " 14%|█▍        | 71/500 [00:13<01:10,  6.11it/s]"
     ]
    },
    {
     "name": "stdout",
     "output_type": "stream",
     "text": [
      "Loss:1.0114000000517263\n",
      "Loss:1.1115911864692878\n"
     ]
    },
    {
     "name": "stderr",
     "output_type": "stream",
     "text": [
      " 15%|█▍        | 73/500 [00:13<01:03,  6.70it/s]"
     ]
    },
    {
     "name": "stdout",
     "output_type": "stream",
     "text": [
      "Loss:1.0122000000000089\n",
      "Loss:nan\n"
     ]
    },
    {
     "name": "stderr",
     "output_type": "stream",
     "text": [
      " 15%|█▌        | 75/500 [00:13<01:00,  6.98it/s]"
     ]
    },
    {
     "name": "stdout",
     "output_type": "stream",
     "text": [
      "Loss:nan\n",
      "Loss:nan\n"
     ]
    },
    {
     "name": "stderr",
     "output_type": "stream",
     "text": [
      " 15%|█▌        | 77/500 [00:13<00:54,  7.80it/s]"
     ]
    },
    {
     "name": "stdout",
     "output_type": "stream",
     "text": [
      "Loss:1.0179999999995681\n",
      "Loss:nan\n"
     ]
    },
    {
     "name": "stderr",
     "output_type": "stream",
     "text": [
      "\r",
      " 16%|█▌        | 78/500 [00:14<00:50,  8.29it/s]"
     ]
    },
    {
     "name": "stdout",
     "output_type": "stream",
     "text": [
      "Loss:nan\n",
      "Loss:1.011999999974294\n"
     ]
    },
    {
     "name": "stderr",
     "output_type": "stream",
     "text": [
      " 16%|█▌        | 81/500 [00:14<00:49,  8.52it/s]"
     ]
    },
    {
     "name": "stdout",
     "output_type": "stream",
     "text": [
      "Loss:1.0104000000361697\n",
      "Loss:1.0279979348837136\n"
     ]
    },
    {
     "name": "stderr",
     "output_type": "stream",
     "text": [
      " 17%|█▋        | 83/500 [00:14<00:51,  8.09it/s]"
     ]
    },
    {
     "name": "stdout",
     "output_type": "stream",
     "text": [
      "Loss:1.008400000000001\n",
      "Loss:nan\n"
     ]
    },
    {
     "name": "stderr",
     "output_type": "stream",
     "text": [
      " 17%|█▋        | 85/500 [00:14<00:51,  8.08it/s]"
     ]
    },
    {
     "name": "stdout",
     "output_type": "stream",
     "text": [
      "Loss:nan\n",
      "Loss:nan\n"
     ]
    },
    {
     "name": "stderr",
     "output_type": "stream",
     "text": [
      " 17%|█▋        | 87/500 [00:15<00:50,  8.18it/s]"
     ]
    },
    {
     "name": "stdout",
     "output_type": "stream",
     "text": [
      "Loss:1.0133999999998944\n",
      "Loss:nan\n"
     ]
    },
    {
     "name": "stderr",
     "output_type": "stream",
     "text": [
      " 18%|█▊        | 89/500 [00:15<00:56,  7.30it/s]"
     ]
    },
    {
     "name": "stdout",
     "output_type": "stream",
     "text": [
      "Loss:nan\n",
      "Loss:1.0144000000155204\n"
     ]
    },
    {
     "name": "stderr",
     "output_type": "stream",
     "text": [
      " 18%|█▊        | 91/500 [00:15<01:05,  6.21it/s]"
     ]
    },
    {
     "name": "stdout",
     "output_type": "stream",
     "text": [
      "Loss:1.0152000000040713\n",
      "Loss:1.0554955932346475\n"
     ]
    },
    {
     "name": "stderr",
     "output_type": "stream",
     "text": [
      " 19%|█▉        | 94/500 [00:16<00:54,  7.46it/s]"
     ]
    },
    {
     "name": "stdout",
     "output_type": "stream",
     "text": [
      "Loss:1.0129999999999983\n",
      "Loss:nan\n",
      "Loss:nan\n"
     ]
    },
    {
     "name": "stderr",
     "output_type": "stream",
     "text": [
      " 19%|█▉        | 96/500 [00:16<00:52,  7.66it/s]"
     ]
    },
    {
     "name": "stdout",
     "output_type": "stream",
     "text": [
      "Loss:nan\n",
      "Loss:1.015599999999839\n"
     ]
    },
    {
     "name": "stderr",
     "output_type": "stream",
     "text": [
      " 20%|█▉        | 98/500 [00:16<00:48,  8.35it/s]"
     ]
    },
    {
     "name": "stdout",
     "output_type": "stream",
     "text": [
      "Loss:nan\n",
      "Loss:nan\n",
      "Loss:1.0126000000014295\n"
     ]
    },
    {
     "name": "stderr",
     "output_type": "stream",
     "text": [
      " 20%|██        | 101/500 [00:16<00:50,  7.93it/s]"
     ]
    },
    {
     "name": "stdout",
     "output_type": "stream",
     "text": [
      "Loss:1.0043999999953805\n",
      "Loss:1.076194007610944\n"
     ]
    },
    {
     "name": "stderr",
     "output_type": "stream",
     "text": [
      " 21%|██        | 103/500 [00:17<00:55,  7.21it/s]"
     ]
    },
    {
     "name": "stdout",
     "output_type": "stream",
     "text": [
      "Loss:1.0090000000000001\n",
      "Loss:nan\n"
     ]
    },
    {
     "name": "stderr",
     "output_type": "stream",
     "text": [
      " 21%|██        | 105/500 [00:17<00:51,  7.73it/s]"
     ]
    },
    {
     "name": "stdout",
     "output_type": "stream",
     "text": [
      "Loss:nan\n",
      "Loss:nan\n"
     ]
    },
    {
     "name": "stderr",
     "output_type": "stream",
     "text": [
      " 21%|██▏       | 107/500 [00:17<00:49,  7.89it/s]"
     ]
    },
    {
     "name": "stdout",
     "output_type": "stream",
     "text": [
      "Loss:1.0064000000001079\n",
      "Loss:nan\n"
     ]
    },
    {
     "name": "stderr",
     "output_type": "stream",
     "text": [
      "\r",
      " 22%|██▏       | 108/500 [00:18<01:09,  5.64it/s]"
     ]
    },
    {
     "name": "stdout",
     "output_type": "stream",
     "text": [
      "Loss:nan\n"
     ]
    },
    {
     "name": "stderr",
     "output_type": "stream",
     "text": [
      "\r",
      " 22%|██▏       | 109/500 [00:18<01:26,  4.51it/s]"
     ]
    },
    {
     "name": "stdout",
     "output_type": "stream",
     "text": [
      "Loss:1.0104000000026436\n"
     ]
    },
    {
     "name": "stderr",
     "output_type": "stream",
     "text": [
      " 22%|██▏       | 111/500 [00:18<01:27,  4.46it/s]"
     ]
    },
    {
     "name": "stdout",
     "output_type": "stream",
     "text": [
      "Loss:1.0107999999986323\n",
      "Loss:1.0664950401690874\n"
     ]
    },
    {
     "name": "stderr",
     "output_type": "stream",
     "text": [
      " 23%|██▎       | 113/500 [00:19<01:10,  5.48it/s]"
     ]
    },
    {
     "name": "stdout",
     "output_type": "stream",
     "text": [
      "Loss:1.0071999999999999\n",
      "Loss:nan\n"
     ]
    },
    {
     "name": "stderr",
     "output_type": "stream",
     "text": [
      " 23%|██▎       | 115/500 [00:19<01:08,  5.59it/s]"
     ]
    },
    {
     "name": "stdout",
     "output_type": "stream",
     "text": [
      "Loss:nan\n",
      "Loss:nan\n"
     ]
    },
    {
     "name": "stderr",
     "output_type": "stream",
     "text": [
      " 23%|██▎       | 117/500 [00:19<00:55,  6.90it/s]"
     ]
    },
    {
     "name": "stdout",
     "output_type": "stream",
     "text": [
      "Loss:1.0080000000000564\n",
      "Loss:nan\n"
     ]
    },
    {
     "name": "stderr",
     "output_type": "stream",
     "text": [
      " 24%|██▍       | 119/500 [00:20<00:50,  7.48it/s]"
     ]
    },
    {
     "name": "stdout",
     "output_type": "stream",
     "text": [
      "Loss:nan\n",
      "Loss:1.0074000000015797\n"
     ]
    },
    {
     "name": "stderr",
     "output_type": "stream",
     "text": [
      " 24%|██▍       | 121/500 [00:20<00:48,  7.80it/s]"
     ]
    },
    {
     "name": "stdout",
     "output_type": "stream",
     "text": [
      "Loss:1.0066000000012414\n",
      "Loss:1.0993919424946583\n"
     ]
    },
    {
     "name": "stderr",
     "output_type": "stream",
     "text": [
      " 25%|██▍       | 123/500 [00:20<00:48,  7.85it/s]"
     ]
    },
    {
     "name": "stdout",
     "output_type": "stream",
     "text": [
      "Loss:1.0084\n",
      "Loss:nan\n"
     ]
    },
    {
     "name": "stderr",
     "output_type": "stream",
     "text": [
      " 25%|██▌       | 125/500 [00:20<00:45,  8.21it/s]"
     ]
    },
    {
     "name": "stdout",
     "output_type": "stream",
     "text": [
      "Loss:nan\n",
      "Loss:nan\n"
     ]
    },
    {
     "name": "stderr",
     "output_type": "stream",
     "text": [
      " 25%|██▌       | 127/500 [00:20<00:45,  8.23it/s]"
     ]
    },
    {
     "name": "stdout",
     "output_type": "stream",
     "text": [
      "Loss:1.0182000000000242\n",
      "Loss:nan\n"
     ]
    },
    {
     "name": "stderr",
     "output_type": "stream",
     "text": [
      "\r",
      " 26%|██▌       | 128/500 [00:21<00:46,  8.02it/s]"
     ]
    },
    {
     "name": "stdout",
     "output_type": "stream",
     "text": [
      "Loss:nan\n",
      "Loss:1.0095999999999612\n",
      "Loss:1.0085999999999722"
     ]
    },
    {
     "name": "stderr",
     "output_type": "stream",
     "text": [
      " 26%|██▌       | 131/500 [00:21<00:44,  8.29it/s]"
     ]
    },
    {
     "name": "stdout",
     "output_type": "stream",
     "text": [
      "\n",
      "Loss:1.0820935281183623\n"
     ]
    },
    {
     "name": "stderr",
     "output_type": "stream",
     "text": [
      " 27%|██▋       | 133/500 [00:21<00:44,  8.26it/s]"
     ]
    },
    {
     "name": "stdout",
     "output_type": "stream",
     "text": [
      "Loss:1.0151999999999999\n",
      "Loss:nan\n"
     ]
    },
    {
     "name": "stderr",
     "output_type": "stream",
     "text": [
      " 27%|██▋       | 135/500 [00:21<00:44,  8.18it/s]"
     ]
    },
    {
     "name": "stdout",
     "output_type": "stream",
     "text": [
      "Loss:nan\n",
      "Loss:nan\n"
     ]
    },
    {
     "name": "stderr",
     "output_type": "stream",
     "text": [
      " 27%|██▋       | 137/500 [00:22<00:42,  8.57it/s]"
     ]
    },
    {
     "name": "stdout",
     "output_type": "stream",
     "text": [
      "Loss:1.0122000000000055\n",
      "Loss:nan\n"
     ]
    },
    {
     "name": "stderr",
     "output_type": "stream",
     "text": [
      " 28%|██▊       | 139/500 [00:22<00:40,  8.95it/s]"
     ]
    },
    {
     "name": "stdout",
     "output_type": "stream",
     "text": [
      "Loss:nan\n",
      "Loss:1.012199999999856\n"
     ]
    },
    {
     "name": "stderr",
     "output_type": "stream",
     "text": [
      " 28%|██▊       | 141/500 [00:22<00:44,  8.07it/s]"
     ]
    },
    {
     "name": "stdout",
     "output_type": "stream",
     "text": [
      "Loss:1.0079999999999891\n",
      "Loss:1.0816935281183626\n"
     ]
    },
    {
     "name": "stderr",
     "output_type": "stream",
     "text": [
      " 29%|██▊       | 143/500 [00:22<00:44,  8.01it/s]"
     ]
    },
    {
     "name": "stdout",
     "output_type": "stream",
     "text": [
      "Loss:1.0102000000000004\n",
      "Loss:nan\n"
     ]
    },
    {
     "name": "stderr",
     "output_type": "stream",
     "text": [
      " 29%|██▉       | 145/500 [00:23<00:43,  8.16it/s]"
     ]
    },
    {
     "name": "stdout",
     "output_type": "stream",
     "text": [
      "Loss:nan\n",
      "Loss:nan\n"
     ]
    },
    {
     "name": "stderr",
     "output_type": "stream",
     "text": [
      " 29%|██▉       | 147/500 [00:23<00:43,  8.06it/s]"
     ]
    },
    {
     "name": "stdout",
     "output_type": "stream",
     "text": [
      "Loss:1.009199999999998\n",
      "Loss:nan\n"
     ]
    },
    {
     "name": "stderr",
     "output_type": "stream",
     "text": [
      " 30%|██▉       | 149/500 [00:23<00:39,  8.78it/s]"
     ]
    },
    {
     "name": "stdout",
     "output_type": "stream",
     "text": [
      "Loss:nan\n",
      "Loss:1.0066000000001751\n"
     ]
    },
    {
     "name": "stderr",
     "output_type": "stream",
     "text": [
      " 30%|███       | 151/500 [00:23<00:41,  8.42it/s]"
     ]
    },
    {
     "name": "stdout",
     "output_type": "stream",
     "text": [
      "Loss:1.00880000000002\n",
      "Loss:1.07249428414361\n"
     ]
    },
    {
     "name": "stderr",
     "output_type": "stream",
     "text": [
      " 31%|███       | 153/500 [00:24<00:41,  8.33it/s]"
     ]
    },
    {
     "name": "stdout",
     "output_type": "stream",
     "text": [
      "Loss:1.007399999999545\n",
      "Loss:nan\n"
     ]
    },
    {
     "name": "stderr",
     "output_type": "stream",
     "text": [
      " 31%|███       | 155/500 [00:24<00:43,  7.97it/s]"
     ]
    },
    {
     "name": "stdout",
     "output_type": "stream",
     "text": [
      "Loss:nan\n",
      "Loss:nan\n"
     ]
    },
    {
     "name": "stderr",
     "output_type": "stream",
     "text": [
      " 31%|███▏      | 157/500 [00:24<00:41,  8.29it/s]"
     ]
    },
    {
     "name": "stdout",
     "output_type": "stream",
     "text": [
      "Loss:1.0121999999406208\n",
      "Loss:nan\n"
     ]
    },
    {
     "name": "stderr",
     "output_type": "stream",
     "text": [
      " 32%|███▏      | 159/500 [00:24<00:38,  8.87it/s]"
     ]
    },
    {
     "name": "stdout",
     "output_type": "stream",
     "text": [
      "Loss:nan\n",
      "Loss:1.0059999984166916\n"
     ]
    },
    {
     "name": "stderr",
     "output_type": "stream",
     "text": [
      " 32%|███▏      | 161/500 [00:25<00:41,  8.19it/s]"
     ]
    },
    {
     "name": "stdout",
     "output_type": "stream",
     "text": [
      "Loss:1.0149999986099072\n",
      "Loss:1.071494283429657\n"
     ]
    },
    {
     "name": "stderr",
     "output_type": "stream",
     "text": [
      " 33%|███▎      | 163/500 [00:25<00:41,  8.02it/s]"
     ]
    },
    {
     "name": "stdout",
     "output_type": "stream",
     "text": [
      "Loss:1.0117999968394082\n",
      "Loss:nan\n"
     ]
    },
    {
     "name": "stderr",
     "output_type": "stream",
     "text": [
      " 33%|███▎      | 165/500 [00:25<00:41,  8.13it/s]"
     ]
    },
    {
     "name": "stdout",
     "output_type": "stream",
     "text": [
      "Loss:nan\n",
      "Loss:nan\n"
     ]
    },
    {
     "name": "stderr",
     "output_type": "stream",
     "text": [
      " 33%|███▎      | 167/500 [00:25<00:39,  8.47it/s]"
     ]
    },
    {
     "name": "stdout",
     "output_type": "stream",
     "text": [
      "Loss:1.0085995169668749\n",
      "Loss:nan\n"
     ]
    },
    {
     "name": "stderr",
     "output_type": "stream",
     "text": [
      " 34%|███▍      | 169/500 [00:26<00:39,  8.48it/s]"
     ]
    },
    {
     "name": "stdout",
     "output_type": "stream",
     "text": [
      "Loss:nan\n",
      "Loss:1.008592049019309\n"
     ]
    },
    {
     "name": "stderr",
     "output_type": "stream",
     "text": [
      " 34%|███▍      | 171/500 [00:26<00:39,  8.32it/s]"
     ]
    },
    {
     "name": "stdout",
     "output_type": "stream",
     "text": [
      "Loss:1.01339264226614\n",
      "Loss:1.0792936914607782\n"
     ]
    },
    {
     "name": "stderr",
     "output_type": "stream",
     "text": [
      " 35%|███▍      | 173/500 [00:26<00:40,  8.13it/s]"
     ]
    },
    {
     "name": "stdout",
     "output_type": "stream",
     "text": [
      "Loss:1.0169998418026884\n",
      "Loss:nan\n"
     ]
    },
    {
     "name": "stderr",
     "output_type": "stream",
     "text": [
      " 35%|███▌      | 175/500 [00:26<00:39,  8.27it/s]"
     ]
    },
    {
     "name": "stdout",
     "output_type": "stream",
     "text": [
      "Loss:nan\n",
      "Loss:nan\n"
     ]
    },
    {
     "name": "stderr",
     "output_type": "stream",
     "text": [
      " 35%|███▌      | 177/500 [00:27<00:39,  8.27it/s]"
     ]
    },
    {
     "name": "stdout",
     "output_type": "stream",
     "text": [
      "Loss:1.014766207026669\n",
      "Loss:nan\n",
      "Loss:nan\n"
     ]
    },
    {
     "name": "stderr",
     "output_type": "stream",
     "text": [
      " 36%|███▌      | 180/500 [00:27<00:36,  8.82it/s]"
     ]
    },
    {
     "name": "stdout",
     "output_type": "stream",
     "text": [
      "Loss:1.0090846729484237\n",
      "Loss:1.007473528924597\n"
     ]
    },
    {
     "name": "stderr",
     "output_type": "stream",
     "text": [
      " 36%|███▋      | 182/500 [00:27<00:39,  8.03it/s]"
     ]
    },
    {
     "name": "stdout",
     "output_type": "stream",
     "text": [
      "Loss:1.0775937135564715\n",
      "Loss:1.0121987968153185\n"
     ]
    },
    {
     "name": "stderr",
     "output_type": "stream",
     "text": [
      " 37%|███▋      | 184/500 [00:27<00:38,  8.23it/s]"
     ]
    },
    {
     "name": "stdout",
     "output_type": "stream",
     "text": [
      "Loss:nan\n",
      "Loss:nan\n"
     ]
    },
    {
     "name": "stderr",
     "output_type": "stream",
     "text": [
      " 37%|███▋      | 186/500 [00:28<00:38,  8.16it/s]"
     ]
    },
    {
     "name": "stdout",
     "output_type": "stream",
     "text": [
      "Loss:nan\n",
      "Loss:1.0052894898720095\n"
     ]
    },
    {
     "name": "stderr",
     "output_type": "stream",
     "text": [
      " 38%|███▊      | 188/500 [00:28<00:36,  8.52it/s]"
     ]
    },
    {
     "name": "stdout",
     "output_type": "stream",
     "text": [
      "Loss:nan\n",
      "Loss:nan\n"
     ]
    },
    {
     "name": "stderr",
     "output_type": "stream",
     "text": [
      " 38%|███▊      | 190/500 [00:28<00:35,  8.75it/s]"
     ]
    },
    {
     "name": "stdout",
     "output_type": "stream",
     "text": [
      "Loss:1.007881289878194\n",
      "Loss:1.0103899881966911\n"
     ]
    },
    {
     "name": "stderr",
     "output_type": "stream",
     "text": [
      " 38%|███▊      | 192/500 [00:28<00:38,  8.07it/s]"
     ]
    },
    {
     "name": "stdout",
     "output_type": "stream",
     "text": [
      "Loss:1.0095989937173389\n",
      "Loss:1.009196123472913\n"
     ]
    },
    {
     "name": "stderr",
     "output_type": "stream",
     "text": [
      " 39%|███▉      | 194/500 [00:29<00:40,  7.48it/s]"
     ]
    },
    {
     "name": "stdout",
     "output_type": "stream",
     "text": [
      "Loss:nan\n",
      "Loss:nan\n"
     ]
    },
    {
     "name": "stderr",
     "output_type": "stream",
     "text": [
      "\r",
      " 39%|███▉      | 195/500 [00:29<00:54,  5.61it/s]"
     ]
    },
    {
     "name": "stdout",
     "output_type": "stream",
     "text": [
      "Loss:nan\n"
     ]
    },
    {
     "name": "stderr",
     "output_type": "stream",
     "text": [
      "\r",
      " 39%|███▉      | 196/500 [00:29<01:02,  4.88it/s]"
     ]
    },
    {
     "name": "stdout",
     "output_type": "stream",
     "text": [
      "Loss:1.0070663867077712\n"
     ]
    },
    {
     "name": "stderr",
     "output_type": "stream",
     "text": [
      " 40%|███▉      | 198/500 [00:29<00:55,  5.48it/s]"
     ]
    },
    {
     "name": "stdout",
     "output_type": "stream",
     "text": [
      "Loss:nan\n",
      "Loss:nan\n"
     ]
    },
    {
     "name": "stderr",
     "output_type": "stream",
     "text": [
      "\r",
      " 40%|███▉      | 199/500 [00:30<00:48,  6.27it/s]"
     ]
    },
    {
     "name": "stdout",
     "output_type": "stream",
     "text": [
      "Loss:1.0033190420583462\n"
     ]
    },
    {
     "name": "stderr",
     "output_type": "stream",
     "text": [
      "\r",
      " 40%|████      | 200/500 [00:30<01:03,  4.76it/s]"
     ]
    },
    {
     "name": "stdout",
     "output_type": "stream",
     "text": [
      "Loss:0.9947044411166124\n"
     ]
    },
    {
     "name": "stderr",
     "output_type": "stream",
     "text": [
      "\r",
      " 40%|████      | 201/500 [00:30<01:10,  4.24it/s]"
     ]
    },
    {
     "name": "stdout",
     "output_type": "stream",
     "text": [
      "Loss:1.0125980183826884\n"
     ]
    },
    {
     "name": "stderr",
     "output_type": "stream",
     "text": [
      " 41%|████      | 203/500 [00:31<01:10,  4.20it/s]"
     ]
    },
    {
     "name": "stdout",
     "output_type": "stream",
     "text": [
      "Loss:1.0097935711324182\n",
      "Loss:nan\n"
     ]
    },
    {
     "name": "stderr",
     "output_type": "stream",
     "text": [
      " 41%|████      | 205/500 [00:31<00:58,  5.04it/s]"
     ]
    },
    {
     "name": "stdout",
     "output_type": "stream",
     "text": [
      "Loss:nan\n",
      "Loss:nan\n"
     ]
    },
    {
     "name": "stderr",
     "output_type": "stream",
     "text": [
      "\r",
      " 41%|████      | 206/500 [00:31<00:53,  5.52it/s]"
     ]
    },
    {
     "name": "stdout",
     "output_type": "stream",
     "text": [
      "Loss:1.0051911901588277\n"
     ]
    },
    {
     "name": "stderr",
     "output_type": "stream",
     "text": [
      "\r",
      " 41%|████▏     | 207/500 [00:32<01:06,  4.39it/s]"
     ]
    },
    {
     "name": "stdout",
     "output_type": "stream",
     "text": [
      "Loss:nan\n"
     ]
    },
    {
     "name": "stderr",
     "output_type": "stream",
     "text": [
      " 42%|████▏     | 209/500 [00:32<01:01,  4.74it/s]"
     ]
    },
    {
     "name": "stdout",
     "output_type": "stream",
     "text": [
      "Loss:1.0601105177022583\n",
      "Loss:0.9911409569586678\n"
     ]
    },
    {
     "name": "stderr",
     "output_type": "stream",
     "text": [
      " 42%|████▏     | 211/500 [00:32<00:53,  5.39it/s]"
     ]
    },
    {
     "name": "stdout",
     "output_type": "stream",
     "text": [
      "Loss:0.9891347180535907\n",
      "Loss:1.010796693743413\n"
     ]
    },
    {
     "name": "stderr",
     "output_type": "stream",
     "text": [
      "\r",
      " 42%|████▏     | 212/500 [00:33<01:22,  3.49it/s]"
     ]
    },
    {
     "name": "stdout",
     "output_type": "stream",
     "text": [
      "Loss:1.0073843338257773\n"
     ]
    },
    {
     "name": "stderr",
     "output_type": "stream",
     "text": [
      " 43%|████▎     | 214/500 [00:33<01:05,  4.34it/s]"
     ]
    },
    {
     "name": "stdout",
     "output_type": "stream",
     "text": [
      "Loss:nan\n",
      "Loss:nan\n"
     ]
    },
    {
     "name": "stderr",
     "output_type": "stream",
     "text": [
      " 43%|████▎     | 216/500 [00:34<01:07,  4.21it/s]"
     ]
    },
    {
     "name": "stdout",
     "output_type": "stream",
     "text": [
      "Loss:nan\n",
      "Loss:1.007557453891437\n"
     ]
    },
    {
     "name": "stderr",
     "output_type": "stream",
     "text": [
      " 44%|████▎     | 218/500 [00:34<00:54,  5.21it/s]"
     ]
    },
    {
     "name": "stdout",
     "output_type": "stream",
     "text": [
      "Loss:nan\n",
      "Loss:1.0491769959111004\n"
     ]
    },
    {
     "name": "stderr",
     "output_type": "stream",
     "text": [
      " 44%|████▍     | 220/500 [00:34<00:48,  5.78it/s]"
     ]
    },
    {
     "name": "stdout",
     "output_type": "stream",
     "text": [
      "Loss:0.9678267717192516\n",
      "Loss:0.9712787135018824\n"
     ]
    },
    {
     "name": "stderr",
     "output_type": "stream",
     "text": [
      "\r",
      " 44%|████▍     | 221/500 [00:35<01:15,  3.69it/s]"
     ]
    },
    {
     "name": "stdout",
     "output_type": "stream",
     "text": [
      "Loss:1.0099925623865786\n"
     ]
    },
    {
     "name": "stderr",
     "output_type": "stream",
     "text": [
      " 45%|████▍     | 223/500 [00:35<01:13,  3.75it/s]"
     ]
    },
    {
     "name": "stdout",
     "output_type": "stream",
     "text": [
      "Loss:1.0163726183911772\n",
      "Loss:nan\n"
     ]
    },
    {
     "name": "stderr",
     "output_type": "stream",
     "text": [
      " 45%|████▌     | 225/500 [00:36<01:03,  4.34it/s]"
     ]
    },
    {
     "name": "stdout",
     "output_type": "stream",
     "text": [
      "Loss:nan\n",
      "Loss:nan\n"
     ]
    },
    {
     "name": "stderr",
     "output_type": "stream",
     "text": [
      " 45%|████▌     | 227/500 [00:36<00:56,  4.80it/s]"
     ]
    },
    {
     "name": "stdout",
     "output_type": "stream",
     "text": [
      "Loss:1.003357791334424\n",
      "Loss:nan\n"
     ]
    },
    {
     "name": "stderr",
     "output_type": "stream",
     "text": [
      "\r",
      " 46%|████▌     | 228/500 [00:37<01:12,  3.76it/s]"
     ]
    },
    {
     "name": "stdout",
     "output_type": "stream",
     "text": [
      "Loss:1.033003890504455\n"
     ]
    },
    {
     "name": "stderr",
     "output_type": "stream",
     "text": [
      " 46%|████▌     | 230/500 [00:37<01:16,  3.55it/s]"
     ]
    },
    {
     "name": "stdout",
     "output_type": "stream",
     "text": [
      "Loss:0.9311577472908525\n",
      "Loss:0.917294817646002\n"
     ]
    },
    {
     "name": "stderr",
     "output_type": "stream",
     "text": [
      " 46%|████▋     | 232/500 [00:38<01:03,  4.22it/s]"
     ]
    },
    {
     "name": "stdout",
     "output_type": "stream",
     "text": [
      "Loss:1.0065848945890952\n",
      "Loss:1.0097430445824591\n"
     ]
    },
    {
     "name": "stderr",
     "output_type": "stream",
     "text": [
      "\r",
      " 47%|████▋     | 233/500 [00:38<00:59,  4.48it/s]"
     ]
    },
    {
     "name": "stdout",
     "output_type": "stream",
     "text": [
      "Loss:nan\n"
     ]
    },
    {
     "name": "stderr",
     "output_type": "stream",
     "text": [
      "\r",
      " 47%|████▋     | 234/500 [00:38<00:58,  4.54it/s]"
     ]
    },
    {
     "name": "stdout",
     "output_type": "stream",
     "text": [
      "Loss:nan\n"
     ]
    },
    {
     "name": "stderr",
     "output_type": "stream",
     "text": [
      "\r",
      " 47%|████▋     | 235/500 [00:38<00:58,  4.53it/s]"
     ]
    },
    {
     "name": "stdout",
     "output_type": "stream",
     "text": [
      "Loss:nan\n"
     ]
    },
    {
     "name": "stderr",
     "output_type": "stream",
     "text": [
      " 47%|████▋     | 237/500 [00:39<00:52,  4.97it/s]"
     ]
    },
    {
     "name": "stdout",
     "output_type": "stream",
     "text": [
      "Loss:0.9973696526885873\n",
      "Loss:nan\n"
     ]
    },
    {
     "name": "stderr",
     "output_type": "stream",
     "text": [
      " 48%|████▊     | 239/500 [00:39<00:44,  5.90it/s]"
     ]
    },
    {
     "name": "stdout",
     "output_type": "stream",
     "text": [
      "Loss:1.003507707603538\n",
      "Loss:0.8513739305529525\n"
     ]
    },
    {
     "name": "stderr",
     "output_type": "stream",
     "text": [
      " 48%|████▊     | 241/500 [00:39<00:42,  6.07it/s]"
     ]
    },
    {
     "name": "stdout",
     "output_type": "stream",
     "text": [
      "Loss:0.8507797876396002\n",
      "Loss:1.0157823720078007\n"
     ]
    },
    {
     "name": "stderr",
     "output_type": "stream",
     "text": [
      " 49%|████▊     | 243/500 [00:39<00:41,  6.14it/s]"
     ]
    },
    {
     "name": "stdout",
     "output_type": "stream",
     "text": [
      "Loss:1.0068253412531774\n",
      "Loss:nan\n"
     ]
    },
    {
     "name": "stderr",
     "output_type": "stream",
     "text": [
      " 49%|████▉     | 245/500 [00:40<00:39,  6.44it/s]"
     ]
    },
    {
     "name": "stdout",
     "output_type": "stream",
     "text": [
      "Loss:nan\n",
      "Loss:nan\n"
     ]
    },
    {
     "name": "stderr",
     "output_type": "stream",
     "text": [
      " 49%|████▉     | 247/500 [00:40<00:38,  6.50it/s]"
     ]
    },
    {
     "name": "stdout",
     "output_type": "stream",
     "text": [
      "Loss:0.9890647232650934\n",
      "Loss:nan\n"
     ]
    },
    {
     "name": "stderr",
     "output_type": "stream",
     "text": [
      " 50%|████▉     | 249/500 [00:40<00:35,  7.02it/s]"
     ]
    },
    {
     "name": "stdout",
     "output_type": "stream",
     "text": [
      "Loss:0.9181168760004391\n",
      "Loss:0.7720882063104757\n"
     ]
    },
    {
     "name": "stderr",
     "output_type": "stream",
     "text": [
      " 50%|█████     | 251/500 [00:41<00:35,  6.92it/s]"
     ]
    },
    {
     "name": "stdout",
     "output_type": "stream",
     "text": [
      "Loss:0.7556607963178026\n",
      "Loss:1.0047682259750266\n"
     ]
    },
    {
     "name": "stderr",
     "output_type": "stream",
     "text": [
      " 51%|█████     | 253/500 [00:41<00:37,  6.63it/s]"
     ]
    },
    {
     "name": "stdout",
     "output_type": "stream",
     "text": [
      "Loss:1.004683697365338\n",
      "Loss:nan\n"
     ]
    },
    {
     "name": "stderr",
     "output_type": "stream",
     "text": [
      " 51%|█████     | 255/500 [00:41<00:36,  6.80it/s]"
     ]
    },
    {
     "name": "stdout",
     "output_type": "stream",
     "text": [
      "Loss:nan\n",
      "Loss:nan\n"
     ]
    },
    {
     "name": "stderr",
     "output_type": "stream",
     "text": [
      " 51%|█████▏    | 257/500 [00:42<00:36,  6.73it/s]"
     ]
    },
    {
     "name": "stdout",
     "output_type": "stream",
     "text": [
      "Loss:0.9688724501010582\n",
      "Loss:nan\n"
     ]
    },
    {
     "name": "stderr",
     "output_type": "stream",
     "text": [
      " 52%|█████▏    | 259/500 [00:42<00:34,  7.05it/s]"
     ]
    },
    {
     "name": "stdout",
     "output_type": "stream",
     "text": [
      "Loss:0.8025009576893912\n",
      "Loss:0.6592369537285879\n"
     ]
    },
    {
     "name": "stderr",
     "output_type": "stream",
     "text": [
      " 52%|█████▏    | 261/500 [00:42<00:34,  6.88it/s]"
     ]
    },
    {
     "name": "stdout",
     "output_type": "stream",
     "text": [
      "Loss:0.6724205050799356\n",
      "Loss:1.0072466470466974\n"
     ]
    },
    {
     "name": "stderr",
     "output_type": "stream",
     "text": [
      " 53%|█████▎    | 263/500 [00:42<00:36,  6.47it/s]"
     ]
    },
    {
     "name": "stdout",
     "output_type": "stream",
     "text": [
      "Loss:1.0037090510385298\n",
      "Loss:nan\n"
     ]
    },
    {
     "name": "stderr",
     "output_type": "stream",
     "text": [
      " 53%|█████▎    | 265/500 [00:43<00:35,  6.55it/s]"
     ]
    },
    {
     "name": "stdout",
     "output_type": "stream",
     "text": [
      "Loss:nan\n",
      "Loss:nan\n"
     ]
    },
    {
     "name": "stderr",
     "output_type": "stream",
     "text": [
      " 53%|█████▎    | 267/500 [00:43<00:34,  6.73it/s]"
     ]
    },
    {
     "name": "stdout",
     "output_type": "stream",
     "text": [
      "Loss:0.9298241578809949\n",
      "Loss:nan\n"
     ]
    },
    {
     "name": "stderr",
     "output_type": "stream",
     "text": [
      " 54%|█████▍    | 269/500 [00:43<00:34,  6.75it/s]"
     ]
    },
    {
     "name": "stdout",
     "output_type": "stream",
     "text": [
      "Loss:0.6328941449520518\n",
      "Loss:0.5384301153462936\n"
     ]
    },
    {
     "name": "stderr",
     "output_type": "stream",
     "text": [
      " 54%|█████▍    | 271/500 [00:44<00:34,  6.70it/s]"
     ]
    },
    {
     "name": "stdout",
     "output_type": "stream",
     "text": [
      "Loss:0.6425624156404744\n",
      "Loss:1.0095599491934504\n"
     ]
    },
    {
     "name": "stderr",
     "output_type": "stream",
     "text": [
      " 55%|█████▍    | 273/500 [00:44<00:35,  6.40it/s]"
     ]
    },
    {
     "name": "stdout",
     "output_type": "stream",
     "text": [
      "Loss:1.0014162081346079\n",
      "Loss:nan\n"
     ]
    },
    {
     "name": "stderr",
     "output_type": "stream",
     "text": [
      " 55%|█████▌    | 275/500 [00:44<00:34,  6.53it/s]"
     ]
    },
    {
     "name": "stdout",
     "output_type": "stream",
     "text": [
      "Loss:nan\n",
      "Loss:nan\n"
     ]
    },
    {
     "name": "stderr",
     "output_type": "stream",
     "text": [
      " 55%|█████▌    | 277/500 [00:45<00:32,  6.81it/s]"
     ]
    },
    {
     "name": "stdout",
     "output_type": "stream",
     "text": [
      "Loss:0.8637937176247185\n",
      "Loss:1.0141981753417442\n"
     ]
    },
    {
     "name": "stderr",
     "output_type": "stream",
     "text": [
      " 56%|█████▌    | 279/500 [00:45<00:33,  6.57it/s]"
     ]
    },
    {
     "name": "stdout",
     "output_type": "stream",
     "text": [
      "Loss:0.500983788492301\n",
      "Loss:0.4469979871311239\n"
     ]
    },
    {
     "name": "stderr",
     "output_type": "stream",
     "text": [
      " 56%|█████▌    | 281/500 [00:45<00:33,  6.62it/s]"
     ]
    },
    {
     "name": "stdout",
     "output_type": "stream",
     "text": [
      "Loss:0.5869113941099755\n",
      "Loss:1.006265803241151\n"
     ]
    },
    {
     "name": "stderr",
     "output_type": "stream",
     "text": [
      " 57%|█████▋    | 283/500 [00:46<00:34,  6.37it/s]"
     ]
    },
    {
     "name": "stdout",
     "output_type": "stream",
     "text": [
      "Loss:1.0014602880781878\n",
      "Loss:nan\n"
     ]
    },
    {
     "name": "stderr",
     "output_type": "stream",
     "text": [
      " 57%|█████▋    | 285/500 [00:46<00:33,  6.45it/s]"
     ]
    },
    {
     "name": "stdout",
     "output_type": "stream",
     "text": [
      "Loss:nan\n",
      "Loss:nan\n"
     ]
    },
    {
     "name": "stderr",
     "output_type": "stream",
     "text": [
      " 57%|█████▋    | 287/500 [00:46<00:36,  5.90it/s]"
     ]
    },
    {
     "name": "stdout",
     "output_type": "stream",
     "text": [
      "Loss:0.7771647877416474\n",
      "Loss:0.9330310673248331\n"
     ]
    },
    {
     "name": "stderr",
     "output_type": "stream",
     "text": [
      " 58%|█████▊    | 289/500 [00:47<00:39,  5.28it/s]"
     ]
    },
    {
     "name": "stdout",
     "output_type": "stream",
     "text": [
      "Loss:0.4977238870445371\n",
      "Loss:0.41813025879723414\n"
     ]
    },
    {
     "name": "stderr",
     "output_type": "stream",
     "text": [
      " 58%|█████▊    | 291/500 [00:47<00:36,  5.69it/s]"
     ]
    },
    {
     "name": "stdout",
     "output_type": "stream",
     "text": [
      "Loss:0.5585913133471464\n",
      "Loss:1.0067885976108717\n"
     ]
    },
    {
     "name": "stderr",
     "output_type": "stream",
     "text": [
      " 59%|█████▊    | 293/500 [00:47<00:36,  5.74it/s]"
     ]
    },
    {
     "name": "stdout",
     "output_type": "stream",
     "text": [
      "Loss:1.0034725585020152\n",
      "Loss:nan\n"
     ]
    },
    {
     "name": "stderr",
     "output_type": "stream",
     "text": [
      " 59%|█████▉    | 295/500 [00:48<00:33,  6.10it/s]"
     ]
    },
    {
     "name": "stdout",
     "output_type": "stream",
     "text": [
      "Loss:nan\n",
      "Loss:nan\n"
     ]
    },
    {
     "name": "stderr",
     "output_type": "stream",
     "text": [
      " 59%|█████▉    | 297/500 [00:48<00:32,  6.24it/s]"
     ]
    },
    {
     "name": "stdout",
     "output_type": "stream",
     "text": [
      "Loss:0.6887538440596999\n",
      "Loss:0.9101227255005646\n"
     ]
    },
    {
     "name": "stderr",
     "output_type": "stream",
     "text": [
      " 60%|█████▉    | 299/500 [00:48<00:30,  6.63it/s]"
     ]
    },
    {
     "name": "stdout",
     "output_type": "stream",
     "text": [
      "Loss:0.533685235470293\n",
      "Loss:0.4629302417234946\n"
     ]
    },
    {
     "name": "stderr",
     "output_type": "stream",
     "text": [
      " 60%|██████    | 301/500 [00:49<00:30,  6.57it/s]"
     ]
    },
    {
     "name": "stdout",
     "output_type": "stream",
     "text": [
      "Loss:0.591462881897915\n",
      "Loss:1.005411243889049\n"
     ]
    },
    {
     "name": "stderr",
     "output_type": "stream",
     "text": [
      " 61%|██████    | 303/500 [00:49<00:30,  6.38it/s]"
     ]
    },
    {
     "name": "stdout",
     "output_type": "stream",
     "text": [
      "Loss:1.001013422076973\n",
      "Loss:nan\n"
     ]
    },
    {
     "name": "stderr",
     "output_type": "stream",
     "text": [
      " 61%|██████    | 305/500 [00:49<00:30,  6.36it/s]"
     ]
    },
    {
     "name": "stdout",
     "output_type": "stream",
     "text": [
      "Loss:nan\n",
      "Loss:nan\n"
     ]
    },
    {
     "name": "stderr",
     "output_type": "stream",
     "text": [
      " 61%|██████▏   | 307/500 [00:49<00:29,  6.65it/s]"
     ]
    },
    {
     "name": "stdout",
     "output_type": "stream",
     "text": [
      "Loss:0.6366477481834825\n",
      "Loss:0.9075913442064624\n"
     ]
    },
    {
     "name": "stderr",
     "output_type": "stream",
     "text": [
      " 62%|██████▏   | 309/500 [00:50<00:28,  6.69it/s]"
     ]
    },
    {
     "name": "stdout",
     "output_type": "stream",
     "text": [
      "Loss:0.6813621620412639\n",
      "Loss:0.5715368437140006\n"
     ]
    },
    {
     "name": "stderr",
     "output_type": "stream",
     "text": [
      " 62%|██████▏   | 311/500 [00:50<00:28,  6.56it/s]"
     ]
    },
    {
     "name": "stdout",
     "output_type": "stream",
     "text": [
      "Loss:0.7296551263698636\n",
      "Loss:1.0072646520373754\n"
     ]
    },
    {
     "name": "stderr",
     "output_type": "stream",
     "text": [
      " 63%|██████▎   | 313/500 [00:50<00:29,  6.43it/s]"
     ]
    },
    {
     "name": "stdout",
     "output_type": "stream",
     "text": [
      "Loss:1.00327602479502\n",
      "Loss:nan\n"
     ]
    },
    {
     "name": "stderr",
     "output_type": "stream",
     "text": [
      " 63%|██████▎   | 315/500 [00:51<00:28,  6.54it/s]"
     ]
    },
    {
     "name": "stdout",
     "output_type": "stream",
     "text": [
      "Loss:nan\n",
      "Loss:nan\n"
     ]
    },
    {
     "name": "stderr",
     "output_type": "stream",
     "text": [
      " 63%|██████▎   | 317/500 [00:51<00:27,  6.67it/s]"
     ]
    },
    {
     "name": "stdout",
     "output_type": "stream",
     "text": [
      "Loss:0.6121940618879345\n",
      "Loss:0.9125101452547557\n"
     ]
    },
    {
     "name": "stderr",
     "output_type": "stream",
     "text": [
      " 64%|██████▍   | 319/500 [00:51<00:27,  6.56it/s]"
     ]
    },
    {
     "name": "stdout",
     "output_type": "stream",
     "text": [
      "Loss:0.7025178293426556\n",
      "Loss:0.6067465841698861\n"
     ]
    },
    {
     "name": "stderr",
     "output_type": "stream",
     "text": [
      " 64%|██████▍   | 321/500 [00:52<00:27,  6.43it/s]"
     ]
    },
    {
     "name": "stdout",
     "output_type": "stream",
     "text": [
      "Loss:0.8785799314205666\n",
      "Loss:1.0073478074939914\n"
     ]
    },
    {
     "name": "stderr",
     "output_type": "stream",
     "text": [
      " 65%|██████▍   | 323/500 [00:52<00:28,  6.22it/s]"
     ]
    },
    {
     "name": "stdout",
     "output_type": "stream",
     "text": [
      "Loss:1.0017955584720797\n",
      "Loss:nan\n"
     ]
    },
    {
     "name": "stderr",
     "output_type": "stream",
     "text": [
      " 65%|██████▌   | 325/500 [00:52<00:27,  6.46it/s]"
     ]
    },
    {
     "name": "stdout",
     "output_type": "stream",
     "text": [
      "Loss:nan\n",
      "Loss:nan\n"
     ]
    },
    {
     "name": "stderr",
     "output_type": "stream",
     "text": [
      " 65%|██████▌   | 327/500 [00:53<00:25,  6.66it/s]"
     ]
    },
    {
     "name": "stdout",
     "output_type": "stream",
     "text": [
      "Loss:0.632086579430605\n",
      "Loss:0.9288879978601501\n"
     ]
    },
    {
     "name": "stderr",
     "output_type": "stream",
     "text": [
      " 66%|██████▌   | 329/500 [00:53<00:25,  6.61it/s]"
     ]
    },
    {
     "name": "stdout",
     "output_type": "stream",
     "text": [
      "Loss:0.7717490821683535\n",
      "Loss:0.5968391444736842\n"
     ]
    },
    {
     "name": "stderr",
     "output_type": "stream",
     "text": [
      " 66%|██████▌   | 331/500 [00:53<00:25,  6.50it/s]"
     ]
    },
    {
     "name": "stdout",
     "output_type": "stream",
     "text": [
      "Loss:0.7385074421531893\n",
      "Loss:1.0055092857220054\n"
     ]
    },
    {
     "name": "stderr",
     "output_type": "stream",
     "text": [
      " 67%|██████▋   | 333/500 [00:53<00:26,  6.22it/s]"
     ]
    },
    {
     "name": "stdout",
     "output_type": "stream",
     "text": [
      "Loss:0.999147052964237\n",
      "Loss:nan\n"
     ]
    },
    {
     "name": "stderr",
     "output_type": "stream",
     "text": [
      " 67%|██████▋   | 335/500 [00:54<00:25,  6.45it/s]"
     ]
    },
    {
     "name": "stdout",
     "output_type": "stream",
     "text": [
      "Loss:nan\n",
      "Loss:nan\n"
     ]
    },
    {
     "name": "stderr",
     "output_type": "stream",
     "text": [
      " 67%|██████▋   | 337/500 [00:54<00:24,  6.65it/s]"
     ]
    },
    {
     "name": "stdout",
     "output_type": "stream",
     "text": [
      "Loss:0.7425995350362743\n",
      "Loss:0.9596837639241328\n"
     ]
    },
    {
     "name": "stderr",
     "output_type": "stream",
     "text": [
      " 68%|██████▊   | 339/500 [00:54<00:24,  6.57it/s]"
     ]
    },
    {
     "name": "stdout",
     "output_type": "stream",
     "text": [
      "Loss:0.8346177113432824\n",
      "Loss:0.7256767871822863\n"
     ]
    },
    {
     "name": "stderr",
     "output_type": "stream",
     "text": [
      " 68%|██████▊   | 341/500 [00:55<00:24,  6.38it/s]"
     ]
    },
    {
     "name": "stdout",
     "output_type": "stream",
     "text": [
      "Loss:0.8206098097643927\n",
      "Loss:1.0044195961128186\n"
     ]
    },
    {
     "name": "stderr",
     "output_type": "stream",
     "text": [
      " 69%|██████▊   | 343/500 [00:55<00:25,  6.22it/s]"
     ]
    },
    {
     "name": "stdout",
     "output_type": "stream",
     "text": [
      "Loss:1.0009359370617255\n",
      "Loss:nan\n"
     ]
    },
    {
     "name": "stderr",
     "output_type": "stream",
     "text": [
      " 69%|██████▉   | 345/500 [00:55<00:24,  6.35it/s]"
     ]
    },
    {
     "name": "stdout",
     "output_type": "stream",
     "text": [
      "Loss:nan\n",
      "Loss:nan\n"
     ]
    },
    {
     "name": "stderr",
     "output_type": "stream",
     "text": [
      " 69%|██████▉   | 347/500 [00:56<00:22,  6.68it/s]"
     ]
    },
    {
     "name": "stdout",
     "output_type": "stream",
     "text": [
      "Loss:0.8431124718275507\n",
      "Loss:nan\n"
     ]
    },
    {
     "name": "stderr",
     "output_type": "stream",
     "text": [
      " 70%|██████▉   | 349/500 [00:56<00:22,  6.63it/s]"
     ]
    },
    {
     "name": "stdout",
     "output_type": "stream",
     "text": [
      "Loss:0.8885354636919349\n",
      "Loss:0.6881593246818758\n"
     ]
    },
    {
     "name": "stderr",
     "output_type": "stream",
     "text": [
      " 70%|███████   | 351/500 [00:56<00:22,  6.63it/s]"
     ]
    },
    {
     "name": "stdout",
     "output_type": "stream",
     "text": [
      "Loss:0.8635178334778206\n",
      "Loss:1.003965702075895\n"
     ]
    },
    {
     "name": "stderr",
     "output_type": "stream",
     "text": [
      " 71%|███████   | 353/500 [00:57<00:23,  6.33it/s]"
     ]
    },
    {
     "name": "stdout",
     "output_type": "stream",
     "text": [
      "Loss:1.0018571076782634\n",
      "Loss:nan\n"
     ]
    },
    {
     "name": "stderr",
     "output_type": "stream",
     "text": [
      " 71%|███████   | 355/500 [00:57<00:23,  6.28it/s]"
     ]
    },
    {
     "name": "stdout",
     "output_type": "stream",
     "text": [
      "Loss:nan\n",
      "Loss:nan\n"
     ]
    },
    {
     "name": "stderr",
     "output_type": "stream",
     "text": [
      " 71%|███████▏  | 357/500 [00:57<00:21,  6.64it/s]"
     ]
    },
    {
     "name": "stdout",
     "output_type": "stream",
     "text": [
      "Loss:0.9167136643071798\n",
      "Loss:nan\n"
     ]
    },
    {
     "name": "stderr",
     "output_type": "stream",
     "text": [
      " 72%|███████▏  | 359/500 [00:57<00:20,  6.81it/s]"
     ]
    },
    {
     "name": "stdout",
     "output_type": "stream",
     "text": [
      "Loss:0.9487616913566334\n",
      "Loss:0.6246436286277014\n"
     ]
    },
    {
     "name": "stderr",
     "output_type": "stream",
     "text": [
      " 72%|███████▏  | 361/500 [00:58<00:20,  6.72it/s]"
     ]
    },
    {
     "name": "stdout",
     "output_type": "stream",
     "text": [
      "Loss:0.7986282718558347\n",
      "Loss:1.0099959062476385\n"
     ]
    },
    {
     "name": "stderr",
     "output_type": "stream",
     "text": [
      " 73%|███████▎  | 363/500 [00:58<00:21,  6.34it/s]"
     ]
    },
    {
     "name": "stdout",
     "output_type": "stream",
     "text": [
      "Loss:1.002026220837555\n",
      "Loss:nan\n"
     ]
    },
    {
     "name": "stderr",
     "output_type": "stream",
     "text": [
      " 73%|███████▎  | 365/500 [00:58<00:21,  6.38it/s]"
     ]
    },
    {
     "name": "stdout",
     "output_type": "stream",
     "text": [
      "Loss:nan\n",
      "Loss:nan\n"
     ]
    },
    {
     "name": "stderr",
     "output_type": "stream",
     "text": [
      " 73%|███████▎  | 367/500 [00:59<00:20,  6.57it/s]"
     ]
    },
    {
     "name": "stdout",
     "output_type": "stream",
     "text": [
      "Loss:0.9582343731221201\n",
      "Loss:nan\n"
     ]
    },
    {
     "name": "stderr",
     "output_type": "stream",
     "text": [
      " 74%|███████▍  | 369/500 [00:59<00:18,  6.93it/s]"
     ]
    },
    {
     "name": "stdout",
     "output_type": "stream",
     "text": [
      "Loss:0.9778066187272372\n",
      "Loss:0.5946820495777236\n"
     ]
    },
    {
     "name": "stderr",
     "output_type": "stream",
     "text": [
      " 74%|███████▍  | 371/500 [00:59<00:18,  6.82it/s]"
     ]
    },
    {
     "name": "stdout",
     "output_type": "stream",
     "text": [
      "Loss:0.6967497231681772\n",
      "Loss:1.0069925958216175\n"
     ]
    },
    {
     "name": "stderr",
     "output_type": "stream",
     "text": [
      " 75%|███████▍  | 373/500 [01:00<00:19,  6.62it/s]"
     ]
    },
    {
     "name": "stdout",
     "output_type": "stream",
     "text": [
      "Loss:1.0027232638352483\n",
      "Loss:nan\n"
     ]
    },
    {
     "name": "stderr",
     "output_type": "stream",
     "text": [
      " 75%|███████▌  | 375/500 [01:00<00:19,  6.41it/s]"
     ]
    },
    {
     "name": "stdout",
     "output_type": "stream",
     "text": [
      "Loss:nan\n",
      "Loss:nan\n"
     ]
    },
    {
     "name": "stderr",
     "output_type": "stream",
     "text": [
      " 75%|███████▌  | 377/500 [01:00<00:18,  6.64it/s]"
     ]
    },
    {
     "name": "stdout",
     "output_type": "stream",
     "text": [
      "Loss:0.9816931530497882\n",
      "Loss:nan\n"
     ]
    },
    {
     "name": "stderr",
     "output_type": "stream",
     "text": [
      " 76%|███████▌  | 379/500 [01:01<00:17,  6.96it/s]"
     ]
    },
    {
     "name": "stdout",
     "output_type": "stream",
     "text": [
      "Loss:nan\n",
      "Loss:0.5846645344311611\n"
     ]
    },
    {
     "name": "stderr",
     "output_type": "stream",
     "text": [
      " 76%|███████▌  | 381/500 [01:01<00:17,  6.82it/s]"
     ]
    },
    {
     "name": "stdout",
     "output_type": "stream",
     "text": [
      "Loss:0.6182048139756299\n",
      "Loss:1.007285521928511\n"
     ]
    },
    {
     "name": "stderr",
     "output_type": "stream",
     "text": [
      " 77%|███████▋  | 383/500 [01:01<00:17,  6.69it/s]"
     ]
    },
    {
     "name": "stdout",
     "output_type": "stream",
     "text": [
      "Loss:1.0075504379300424\n",
      "Loss:nan\n"
     ]
    },
    {
     "name": "stderr",
     "output_type": "stream",
     "text": [
      " 77%|███████▋  | 385/500 [01:01<00:17,  6.49it/s]"
     ]
    },
    {
     "name": "stdout",
     "output_type": "stream",
     "text": [
      "Loss:nan\n",
      "Loss:nan\n"
     ]
    },
    {
     "name": "stderr",
     "output_type": "stream",
     "text": [
      " 77%|███████▋  | 387/500 [01:02<00:17,  6.55it/s]"
     ]
    },
    {
     "name": "stdout",
     "output_type": "stream",
     "text": [
      "Loss:0.9944693276487061\n",
      "Loss:nan\n"
     ]
    },
    {
     "name": "stderr",
     "output_type": "stream",
     "text": [
      " 78%|███████▊  | 389/500 [01:02<00:16,  6.81it/s]"
     ]
    },
    {
     "name": "stdout",
     "output_type": "stream",
     "text": [
      "Loss:nan\n",
      "Loss:0.613735062755318\n"
     ]
    },
    {
     "name": "stderr",
     "output_type": "stream",
     "text": [
      " 78%|███████▊  | 391/500 [01:02<00:16,  6.75it/s]"
     ]
    },
    {
     "name": "stdout",
     "output_type": "stream",
     "text": [
      "Loss:0.5903224472625136\n",
      "Loss:1.0131914494828154\n"
     ]
    },
    {
     "name": "stderr",
     "output_type": "stream",
     "text": [
      " 79%|███████▊  | 393/500 [01:03<00:15,  6.81it/s]"
     ]
    },
    {
     "name": "stdout",
     "output_type": "stream",
     "text": [
      "Loss:1.006606086007321\n",
      "Loss:nan\n"
     ]
    },
    {
     "name": "stderr",
     "output_type": "stream",
     "text": [
      " 79%|███████▉  | 395/500 [01:03<00:15,  6.64it/s]"
     ]
    },
    {
     "name": "stdout",
     "output_type": "stream",
     "text": [
      "Loss:nan\n",
      "Loss:nan\n"
     ]
    },
    {
     "name": "stderr",
     "output_type": "stream",
     "text": [
      " 79%|███████▉  | 397/500 [01:03<00:15,  6.86it/s]"
     ]
    },
    {
     "name": "stdout",
     "output_type": "stream",
     "text": [
      "Loss:0.9969449012080878\n",
      "Loss:nan\n"
     ]
    },
    {
     "name": "stderr",
     "output_type": "stream",
     "text": [
      " 80%|███████▉  | 399/500 [01:04<00:14,  6.86it/s]"
     ]
    },
    {
     "name": "stdout",
     "output_type": "stream",
     "text": [
      "Loss:nan\n",
      "Loss:0.7907323590007883\n"
     ]
    },
    {
     "name": "stderr",
     "output_type": "stream",
     "text": [
      " 80%|████████  | 401/500 [01:04<00:13,  7.35it/s]"
     ]
    },
    {
     "name": "stdout",
     "output_type": "stream",
     "text": [
      "Loss:0.5761929004867554\n",
      "Loss:1.0151959624885962\n"
     ]
    },
    {
     "name": "stderr",
     "output_type": "stream",
     "text": [
      " 81%|████████  | 403/500 [01:04<00:13,  7.03it/s]"
     ]
    },
    {
     "name": "stdout",
     "output_type": "stream",
     "text": [
      "Loss:1.0048030715113985\n",
      "Loss:nan\n"
     ]
    },
    {
     "name": "stderr",
     "output_type": "stream",
     "text": [
      " 81%|████████  | 405/500 [01:04<00:13,  6.79it/s]"
     ]
    },
    {
     "name": "stdout",
     "output_type": "stream",
     "text": [
      "Loss:nan\n",
      "Loss:nan\n"
     ]
    },
    {
     "name": "stderr",
     "output_type": "stream",
     "text": [
      " 81%|████████▏ | 407/500 [01:05<00:13,  6.67it/s]"
     ]
    },
    {
     "name": "stdout",
     "output_type": "stream",
     "text": [
      "Loss:1.005755856203074\n",
      "Loss:nan\n"
     ]
    },
    {
     "name": "stderr",
     "output_type": "stream",
     "text": [
      " 82%|████████▏ | 409/500 [01:05<00:13,  6.72it/s]"
     ]
    },
    {
     "name": "stdout",
     "output_type": "stream",
     "text": [
      "Loss:nan\n",
      "Loss:0.8998832148146495\n"
     ]
    },
    {
     "name": "stderr",
     "output_type": "stream",
     "text": [
      " 82%|████████▏ | 411/500 [01:05<00:12,  7.29it/s]"
     ]
    },
    {
     "name": "stdout",
     "output_type": "stream",
     "text": [
      "Loss:0.6410749866113595\n",
      "Loss:1.00679808749276\n"
     ]
    },
    {
     "name": "stderr",
     "output_type": "stream",
     "text": [
      " 83%|████████▎ | 413/500 [01:06<00:12,  7.07it/s]"
     ]
    },
    {
     "name": "stdout",
     "output_type": "stream",
     "text": [
      "Loss:1.0094286307259566\n",
      "Loss:nan\n"
     ]
    },
    {
     "name": "stderr",
     "output_type": "stream",
     "text": [
      " 83%|████████▎ | 415/500 [01:06<00:12,  6.94it/s]"
     ]
    },
    {
     "name": "stdout",
     "output_type": "stream",
     "text": [
      "Loss:nan\n",
      "Loss:nan\n"
     ]
    },
    {
     "name": "stderr",
     "output_type": "stream",
     "text": [
      " 83%|████████▎ | 417/500 [01:06<00:12,  6.82it/s]"
     ]
    },
    {
     "name": "stdout",
     "output_type": "stream",
     "text": [
      "Loss:1.0039826320920744\n",
      "Loss:nan\n"
     ]
    },
    {
     "name": "stderr",
     "output_type": "stream",
     "text": [
      " 84%|████████▍ | 419/500 [01:06<00:11,  7.06it/s]"
     ]
    },
    {
     "name": "stdout",
     "output_type": "stream",
     "text": [
      "Loss:nan\n",
      "Loss:0.9529754806212448\n"
     ]
    },
    {
     "name": "stderr",
     "output_type": "stream",
     "text": [
      " 84%|████████▍ | 421/500 [01:07<00:10,  7.40it/s]"
     ]
    },
    {
     "name": "stdout",
     "output_type": "stream",
     "text": [
      "Loss:0.8247819498287927\n",
      "Loss:1.0071990821123569\n"
     ]
    },
    {
     "name": "stderr",
     "output_type": "stream",
     "text": [
      " 85%|████████▍ | 423/500 [01:07<00:10,  7.47it/s]"
     ]
    },
    {
     "name": "stdout",
     "output_type": "stream",
     "text": [
      "Loss:1.0103967298015604\n",
      "Loss:nan\n"
     ]
    },
    {
     "name": "stderr",
     "output_type": "stream",
     "text": [
      " 85%|████████▌ | 425/500 [01:07<00:10,  7.00it/s]"
     ]
    },
    {
     "name": "stdout",
     "output_type": "stream",
     "text": [
      "Loss:nan\n",
      "Loss:nan\n"
     ]
    },
    {
     "name": "stderr",
     "output_type": "stream",
     "text": [
      " 85%|████████▌ | 427/500 [01:08<00:10,  6.81it/s]"
     ]
    },
    {
     "name": "stdout",
     "output_type": "stream",
     "text": [
      "Loss:1.0084070081233227\n",
      "Loss:nan\n"
     ]
    },
    {
     "name": "stderr",
     "output_type": "stream",
     "text": [
      " 86%|████████▌ | 429/500 [01:08<00:10,  6.85it/s]"
     ]
    },
    {
     "name": "stdout",
     "output_type": "stream",
     "text": [
      "Loss:nan\n",
      "Loss:0.9869225295290791\n"
     ]
    },
    {
     "name": "stderr",
     "output_type": "stream",
     "text": [
      " 86%|████████▌ | 431/500 [01:08<00:09,  7.11it/s]"
     ]
    },
    {
     "name": "stdout",
     "output_type": "stream",
     "text": [
      "Loss:0.9238268985847873\n",
      "Loss:1.0061995695724932\n"
     ]
    },
    {
     "name": "stderr",
     "output_type": "stream",
     "text": [
      " 87%|████████▋ | 433/500 [01:08<00:08,  7.55it/s]"
     ]
    },
    {
     "name": "stdout",
     "output_type": "stream",
     "text": [
      "Loss:1.007998459537251\n",
      "Loss:nan\n"
     ]
    },
    {
     "name": "stderr",
     "output_type": "stream",
     "text": [
      " 87%|████████▋ | 435/500 [01:09<00:08,  7.45it/s]"
     ]
    },
    {
     "name": "stdout",
     "output_type": "stream",
     "text": [
      "Loss:nan\n",
      "Loss:nan\n"
     ]
    },
    {
     "name": "stderr",
     "output_type": "stream",
     "text": [
      " 87%|████████▋ | 437/500 [01:09<00:09,  6.88it/s]"
     ]
    },
    {
     "name": "stdout",
     "output_type": "stream",
     "text": [
      "Loss:1.0089218882729185\n",
      "Loss:nan\n"
     ]
    },
    {
     "name": "stderr",
     "output_type": "stream",
     "text": [
      " 88%|████████▊ | 439/500 [01:09<00:09,  6.77it/s]"
     ]
    },
    {
     "name": "stdout",
     "output_type": "stream",
     "text": [
      "Loss:nan\n",
      "Loss:0.9988129489353477\n"
     ]
    },
    {
     "name": "stderr",
     "output_type": "stream",
     "text": [
      " 88%|████████▊ | 441/500 [01:10<00:08,  7.25it/s]"
     ]
    },
    {
     "name": "stdout",
     "output_type": "stream",
     "text": [
      "Loss:0.9664958178778381\n",
      "Loss:1.0147997970569302\n"
     ]
    },
    {
     "name": "stderr",
     "output_type": "stream",
     "text": [
      " 89%|████████▊ | 443/500 [01:10<00:07,  7.54it/s]"
     ]
    },
    {
     "name": "stdout",
     "output_type": "stream",
     "text": [
      "Loss:1.0101992695945454\n",
      "Loss:nan\n"
     ]
    },
    {
     "name": "stderr",
     "output_type": "stream",
     "text": [
      " 89%|████████▉ | 445/500 [01:10<00:07,  7.39it/s]"
     ]
    },
    {
     "name": "stdout",
     "output_type": "stream",
     "text": [
      "Loss:nan\n",
      "Loss:nan\n"
     ]
    },
    {
     "name": "stderr",
     "output_type": "stream",
     "text": [
      " 89%|████████▉ | 447/500 [01:10<00:07,  6.94it/s]"
     ]
    },
    {
     "name": "stdout",
     "output_type": "stream",
     "text": [
      "Loss:1.0136884669776074\n",
      "Loss:nan\n"
     ]
    },
    {
     "name": "stderr",
     "output_type": "stream",
     "text": [
      " 90%|████████▉ | 449/500 [01:11<00:07,  6.92it/s]"
     ]
    },
    {
     "name": "stdout",
     "output_type": "stream",
     "text": [
      "Loss:nan\n",
      "Loss:1.001716353297239\n"
     ]
    },
    {
     "name": "stderr",
     "output_type": "stream",
     "text": [
      " 90%|█████████ | 451/500 [01:11<00:06,  7.09it/s]"
     ]
    },
    {
     "name": "stdout",
     "output_type": "stream",
     "text": [
      "Loss:0.9889751608436348\n",
      "Loss:1.0103999042931335\n"
     ]
    },
    {
     "name": "stderr",
     "output_type": "stream",
     "text": [
      " 91%|█████████ | 453/500 [01:11<00:06,  7.72it/s]"
     ]
    },
    {
     "name": "stdout",
     "output_type": "stream",
     "text": [
      "Loss:1.0139996580076096\n",
      "Loss:nan\n"
     ]
    },
    {
     "name": "stderr",
     "output_type": "stream",
     "text": [
      " 91%|█████████ | 455/500 [01:11<00:05,  7.62it/s]"
     ]
    },
    {
     "name": "stdout",
     "output_type": "stream",
     "text": [
      "Loss:nan\n",
      "Loss:nan\n"
     ]
    },
    {
     "name": "stderr",
     "output_type": "stream",
     "text": [
      " 91%|█████████▏| 457/500 [01:12<00:05,  7.19it/s]"
     ]
    },
    {
     "name": "stdout",
     "output_type": "stream",
     "text": [
      "Loss:1.0099465781048718\n",
      "Loss:nan\n"
     ]
    },
    {
     "name": "stderr",
     "output_type": "stream",
     "text": [
      " 92%|█████████▏| 459/500 [01:12<00:06,  6.69it/s]"
     ]
    },
    {
     "name": "stdout",
     "output_type": "stream",
     "text": [
      "Loss:nan\n",
      "Loss:1.0050949904231303\n"
     ]
    },
    {
     "name": "stderr",
     "output_type": "stream",
     "text": [
      " 92%|█████████▏| 461/500 [01:12<00:05,  6.95it/s]"
     ]
    },
    {
     "name": "stdout",
     "output_type": "stream",
     "text": [
      "Loss:1.0011668585708942\n",
      "Loss:1.0097999548919736\n"
     ]
    },
    {
     "name": "stderr",
     "output_type": "stream",
     "text": [
      " 93%|█████████▎| 463/500 [01:13<00:04,  7.44it/s]"
     ]
    },
    {
     "name": "stdout",
     "output_type": "stream",
     "text": [
      "Loss:1.0093998386245253\n",
      "Loss:nan\n"
     ]
    },
    {
     "name": "stderr",
     "output_type": "stream",
     "text": [
      " 93%|█████████▎| 465/500 [01:13<00:04,  7.53it/s]"
     ]
    },
    {
     "name": "stdout",
     "output_type": "stream",
     "text": [
      "Loss:nan\n",
      "Loss:nan\n"
     ]
    },
    {
     "name": "stderr",
     "output_type": "stream",
     "text": [
      " 93%|█████████▎| 467/500 [01:13<00:04,  7.35it/s]"
     ]
    },
    {
     "name": "stdout",
     "output_type": "stream",
     "text": [
      "Loss:1.011174727095362\n",
      "Loss:nan\n"
     ]
    },
    {
     "name": "stderr",
     "output_type": "stream",
     "text": [
      " 94%|█████████▍| 469/500 [01:13<00:04,  6.92it/s]"
     ]
    },
    {
     "name": "stdout",
     "output_type": "stream",
     "text": [
      "Loss:nan\n",
      "Loss:1.0094406166914147\n"
     ]
    },
    {
     "name": "stderr",
     "output_type": "stream",
     "text": [
      " 94%|█████████▍| 471/500 [01:14<00:04,  6.70it/s]"
     ]
    },
    {
     "name": "stdout",
     "output_type": "stream",
     "text": [
      "Loss:1.0067643353468383\n",
      "Loss:1.0081999787038571\n"
     ]
    },
    {
     "name": "stderr",
     "output_type": "stream",
     "text": [
      " 95%|█████████▍| 473/500 [01:14<00:03,  7.19it/s]"
     ]
    },
    {
     "name": "stdout",
     "output_type": "stream",
     "text": [
      "Loss:1.009799924369428\n",
      "Loss:nan\n"
     ]
    },
    {
     "name": "stderr",
     "output_type": "stream",
     "text": [
      " 95%|█████████▌| 475/500 [01:14<00:03,  7.58it/s]"
     ]
    },
    {
     "name": "stdout",
     "output_type": "stream",
     "text": [
      "Loss:nan\n",
      "Loss:nan\n"
     ]
    },
    {
     "name": "stderr",
     "output_type": "stream",
     "text": [
      " 95%|█████████▌| 477/500 [01:15<00:03,  7.42it/s]"
     ]
    },
    {
     "name": "stdout",
     "output_type": "stream",
     "text": [
      "Loss:1.0073879538967119\n",
      "Loss:nan\n"
     ]
    },
    {
     "name": "stderr",
     "output_type": "stream",
     "text": [
      " 96%|█████████▌| 479/500 [01:15<00:02,  7.08it/s]"
     ]
    },
    {
     "name": "stdout",
     "output_type": "stream",
     "text": [
      "Loss:nan\n",
      "Loss:1.0130562092680833\n"
     ]
    },
    {
     "name": "stderr",
     "output_type": "stream",
     "text": [
      " 96%|█████████▌| 481/500 [01:15<00:02,  6.91it/s]"
     ]
    },
    {
     "name": "stdout",
     "output_type": "stream",
     "text": [
      "Loss:1.011449041565518\n",
      "Loss:1.0125999900026834\n"
     ]
    },
    {
     "name": "stderr",
     "output_type": "stream",
     "text": [
      " 97%|█████████▋| 483/500 [01:15<00:02,  7.59it/s]"
     ]
    },
    {
     "name": "stdout",
     "output_type": "stream",
     "text": [
      "Loss:1.011799964106029\n",
      "Loss:nan\n"
     ]
    },
    {
     "name": "stderr",
     "output_type": "stream",
     "text": [
      " 97%|█████████▋| 485/500 [01:16<00:01,  7.88it/s]"
     ]
    },
    {
     "name": "stdout",
     "output_type": "stream",
     "text": [
      "Loss:nan\n",
      "Loss:nan\n"
     ]
    },
    {
     "name": "stderr",
     "output_type": "stream",
     "text": [
      " 97%|█████████▋| 487/500 [01:16<00:01,  7.97it/s]"
     ]
    },
    {
     "name": "stdout",
     "output_type": "stream",
     "text": [
      "Loss:1.0067940782509728\n",
      "Loss:nan\n"
     ]
    },
    {
     "name": "stderr",
     "output_type": "stream",
     "text": [
      " 98%|█████████▊| 489/500 [01:16<00:01,  7.59it/s]"
     ]
    },
    {
     "name": "stdout",
     "output_type": "stream",
     "text": [
      "Loss:nan\n",
      "Loss:1.008136642048792\n"
     ]
    },
    {
     "name": "stderr",
     "output_type": "stream",
     "text": [
      " 98%|█████████▊| 491/500 [01:16<00:01,  7.34it/s]"
     ]
    },
    {
     "name": "stdout",
     "output_type": "stream",
     "text": [
      "Loss:1.0054430174586226\n",
      "Loss:1.0067999952614108\n"
     ]
    },
    {
     "name": "stderr",
     "output_type": "stream",
     "text": [
      " 99%|█████████▊| 493/500 [01:17<00:00,  7.06it/s]"
     ]
    },
    {
     "name": "stdout",
     "output_type": "stream",
     "text": [
      "Loss:1.011799982967618\n",
      "Loss:nan\n"
     ]
    },
    {
     "name": "stderr",
     "output_type": "stream",
     "text": [
      "\r",
      " 99%|█████████▉| 494/500 [01:17<00:00,  7.36it/s]"
     ]
    },
    {
     "name": "stdout",
     "output_type": "stream",
     "text": [
      "Loss:nan\n"
     ]
    },
    {
     "name": "stderr",
     "output_type": "stream",
     "text": [
      "\r",
      " 99%|█████████▉| 495/500 [01:17<00:00,  6.23it/s]"
     ]
    },
    {
     "name": "stdout",
     "output_type": "stream",
     "text": [
      "Loss:nan\n"
     ]
    },
    {
     "name": "stderr",
     "output_type": "stream",
     "text": [
      "\r",
      " 99%|█████████▉| 496/500 [01:17<00:00,  4.67it/s]"
     ]
    },
    {
     "name": "stdout",
     "output_type": "stream",
     "text": [
      "Loss:1.0149972751215035\n"
     ]
    },
    {
     "name": "stderr",
     "output_type": "stream",
     "text": [
      "\r",
      " 99%|█████████▉| 497/500 [01:18<00:00,  3.46it/s]"
     ]
    },
    {
     "name": "stdout",
     "output_type": "stream",
     "text": [
      "Loss:nan\n"
     ]
    },
    {
     "name": "stderr",
     "output_type": "stream",
     "text": [
      "100%|█████████▉| 499/500 [01:18<00:00,  3.74it/s]"
     ]
    },
    {
     "name": "stdout",
     "output_type": "stream",
     "text": [
      "Loss:nan\n",
      "Loss:1.019879918784266\n"
     ]
    },
    {
     "name": "stderr",
     "output_type": "stream",
     "text": [
      "100%|██████████| 500/500 [01:19<00:00,  6.33it/s]"
     ]
    },
    {
     "name": "stdout",
     "output_type": "stream",
     "text": [
      "Loss:1.0153683878541264\n"
     ]
    },
    {
     "name": "stderr",
     "output_type": "stream",
     "text": [
      "\n"
     ]
    }
   ],
   "source": [
    "# Fivefold Cross validation\n",
    "# identify suitable gaussian kernels from training data quantiles\n",
    "D = imp.sqdistmat(X_tr)\n",
    "quantiles = np.quantile(D,[0.1,0.5, 0.9])\n",
    "params = { 'kernel': ['gaussian'], 'kernelparameter': np.logspace(-5,3, 50), 'regularization': np.logspace(-4,1, 10) }\n",
    "cvsvm = cv(X_tr, Y_tr, imp.svm_qp, params, loss_function=mean_absolute_error, nfolds=5)\n"
   ]
  },
  {
   "cell_type": "code",
   "execution_count": 148,
   "metadata": {},
   "outputs": [
    {
     "data": {
      "text/plain": [
       "('gaussian', 0.3727593720314938, 2.782559402207126)"
      ]
     },
     "execution_count": 148,
     "metadata": {},
     "output_type": "execute_result"
    }
   ],
   "source": [
    "cvsvm.__params"
   ]
  },
  {
   "cell_type": "code",
   "execution_count": 149,
   "metadata": {},
   "outputs": [
    {
     "data": {
      "text/plain": [
       "92"
      ]
     },
     "execution_count": 149,
     "metadata": {},
     "output_type": "execute_result"
    }
   ],
   "source": [
    "np.sum(np.sign(cvsvm.predict(X_te)) == Y_te)"
   ]
  },
  {
   "cell_type": "code",
   "execution_count": 150,
   "metadata": {},
   "outputs": [
    {
     "data": {
      "image/png": "[encoded data removed]",
      "text/plain": [
       "<Figure size 432x288 with 1 Axes>"
      ]
     },
     "metadata": {
      "needs_background": "light"
     },
     "output_type": "display_data"
    }
   ],
   "source": [
    "imp.plot_boundary_2d(X_tr, Y_tr, cvsvm)"
   ]
  },
  {
   "cell_type": "code",
   "execution_count": 151,
   "metadata": {},
   "outputs": [
    {
     "data": {
      "text/plain": [
       "(49,)"
      ]
     },
     "execution_count": 151,
     "metadata": {},
     "output_type": "execute_result"
    }
   ],
   "source": [
    "cvsvm.alpha_sv.shape"
   ]
  },
  {
   "cell_type": "code",
   "execution_count": 12,
   "metadata": {},
   "outputs": [
    {
     "name": "stderr",
     "output_type": "stream",
     "text": [
      "  1%|▏         | 7/500 [00:00<00:18, 27.19it/s]"
     ]
    },
    {
     "name": "stdout",
     "output_type": "stream",
     "text": [
      "Loss:1.17599912\n",
      "Loss:1.1679961010653797\n",
      "Loss:1.135985349844108\n",
      "Loss:1.1759119999999996\n",
      "Loss:1.1992195643457553\n",
      "Loss:1.1412789013344657\n",
      "Loss:1.146097853995755\n",
      "Loss:1.1254578511071067\n"
     ]
    },
    {
     "name": "stderr",
     "output_type": "stream",
     "text": [
      "  3%|▎         | 14/500 [00:00<00:16, 29.71it/s]"
     ]
    },
    {
     "name": "stdout",
     "output_type": "stream",
     "text": [
      "Loss:1.0076000000000003\n",
      "Loss:1.0124000000000002\n",
      "Loss:1.1439992799999998\n",
      "Loss:1.1679961010653797\n",
      "Loss:1.1679819027486043\n",
      "Loss:1.1759119999999998\n",
      "Loss:1.1513909362085808\n",
      "Loss:1.1648833046802685\n"
     ]
    },
    {
     "name": "stderr",
     "output_type": "stream",
     "text": [
      "  4%|▍         | 22/500 [00:00<00:14, 31.93it/s]"
     ]
    },
    {
     "name": "stdout",
     "output_type": "stream",
     "text": [
      "Loss:1.160476897980698\n",
      "Loss:1.0939078178632828\n",
      "Loss:1.0076000000000003\n",
      "Loss:1.0098000000000003\n",
      "Loss:1.1439992799999996\n",
      "Loss:1.1999953584111662\n",
      "Loss:1.1279862116179837\n"
     ]
    },
    {
     "name": "stderr",
     "output_type": "stream",
     "text": [
      "  6%|▌         | 30/500 [00:00<00:14, 33.46it/s]"
     ]
    },
    {
     "name": "stdout",
     "output_type": "stream",
     "text": [
      "Loss:1.1359319999999997\n",
      "Loss:1.1513977563021098\n",
      "Loss:1.1412421156580914\n",
      "Loss:1.116475464637461\n",
      "Loss:1.104292068241421\n",
      "Loss:1.0088000000000001\n",
      "Loss:1.0104000000000002\n"
     ]
    },
    {
     "name": "stderr",
     "output_type": "stream",
     "text": [
      "\r",
      "  7%|▋         | 34/500 [00:01<00:14, 33.18it/s]"
     ]
    },
    {
     "name": "stdout",
     "output_type": "stream",
     "text": [
      "Loss:1.1759991199999995\n",
      "Loss:1.135996843719593\n",
      "Loss:1.1279862116179842\n",
      "Loss:1.1359319999999997\n",
      "Loss:1.175311710481961\n",
      "Loss:1.1648185297796338\n"
     ]
    },
    {
     "name": "stderr",
     "output_type": "stream",
     "text": [
      "  8%|▊         | 42/500 [00:01<00:14, 30.56it/s]"
     ]
    },
    {
     "name": "stdout",
     "output_type": "stream",
     "text": [
      "Loss:1.1535471457136799\n",
      "Loss:1.0792977518571327\n",
      "Loss:1.0070000000000001\n",
      "Loss:1.0050000000000001\n",
      "Loss:1.1279993599999998\n",
      "Loss:1.1199972150466997\n",
      "Loss:1.1039887969396118\n"
     ]
    },
    {
     "name": "stderr",
     "output_type": "stream",
     "text": [
      "\r",
      "  9%|▉         | 46/500 [00:01<00:15, 29.60it/s]"
     ]
    },
    {
     "name": "stdout",
     "output_type": "stream",
     "text": [
      "Loss:1.087956\n",
      "Loss:1.1912454071030354\n",
      "Loss:1.1411833962611972\n",
      "Loss:1.145966633354041\n"
     ]
    },
    {
     "name": "stderr",
     "output_type": "stream",
     "text": [
      "\r",
      " 10%|█         | 50/500 [00:01<00:23, 18.80it/s]"
     ]
    },
    {
     "name": "stdout",
     "output_type": "stream",
     "text": [
      "Loss:1.103498572298159\n",
      "Loss:1.0066000000000004\n",
      "Loss:1.0094000000000003\n"
     ]
    },
    {
     "name": "stderr",
     "output_type": "stream",
     "text": [
      "\r",
      " 11%|█         | 53/500 [00:02<00:30, 14.55it/s]"
     ]
    },
    {
     "name": "stdout",
     "output_type": "stream",
     "text": [
      "Loss:1.1759991200000002\n",
      "Loss:1.1359968437195929\n",
      "Loss:1.183980179200852\n"
     ]
    },
    {
     "name": "stderr",
     "output_type": "stream",
     "text": [
      "\r",
      " 11%|█         | 55/500 [00:02<00:39, 11.36it/s]"
     ]
    },
    {
     "name": "stdout",
     "output_type": "stream",
     "text": [
      "Loss:1.1839079999999997\n",
      "Loss:1.1593650416600232\n",
      "Loss:1.1412655785883516\n",
      "Loss:1.1457286551603054\n"
     ]
    },
    {
     "name": "stderr",
     "output_type": "stream",
     "text": [
      " 13%|█▎        | 63/500 [00:02<00:25, 17.09it/s]"
     ]
    },
    {
     "name": "stdout",
     "output_type": "stream",
     "text": [
      "Loss:1.1295756027732533\n",
      "Loss:1.0066000000000002\n",
      "Loss:1.0122000000000002\n",
      "Loss:1.16799916\n",
      "Loss:1.135996843719593\n",
      "Loss:1.1759810409747278\n",
      "Loss:1.1759119999999998\n",
      "Loss:1.1513975327818584\n"
     ]
    },
    {
     "name": "stderr",
     "output_type": "stream",
     "text": [
      " 14%|█▍        | 71/500 [00:03<00:18, 22.92it/s]"
     ]
    },
    {
     "name": "stdout",
     "output_type": "stream",
     "text": [
      "Loss:1.1411988520009715\n",
      "Loss:1.1384797302905072\n",
      "Loss:1.101830876041617\n",
      "Loss:1.0074\n",
      "Loss:1.0126000000000004\n",
      "Loss:1.17599912\n",
      "Loss:1.1679961010653797\n",
      "Loss:1.1599827645224798\n"
     ]
    },
    {
     "name": "stderr",
     "output_type": "stream",
     "text": [
      "\r",
      " 15%|█▌        | 75/500 [00:03<00:19, 21.77it/s]"
     ]
    },
    {
     "name": "stdout",
     "output_type": "stream",
     "text": [
      "Loss:1.1759119999999996\n",
      "Loss:1.1673251443854624\n",
      "Loss:1.164881419235562\n"
     ]
    },
    {
     "name": "stderr",
     "output_type": "stream",
     "text": [
      "\r",
      " 16%|█▌        | 78/500 [00:03<00:24, 17.58it/s]"
     ]
    },
    {
     "name": "stdout",
     "output_type": "stream",
     "text": [
      "Loss:1.1457585137494382\n",
      "Loss:1.1042701854055412\n"
     ]
    },
    {
     "name": "stderr",
     "output_type": "stream",
     "text": [
      " 17%|█▋        | 86/500 [00:03<00:18, 22.87it/s]"
     ]
    },
    {
     "name": "stdout",
     "output_type": "stream",
     "text": [
      "Loss:1.0138000000000003\n",
      "Loss:1.0106000000000002\n",
      "Loss:1.1279993599999998\n",
      "Loss:1.2239948014205062\n",
      "Loss:1.143984488070232\n",
      "Loss:1.1199399999999997\n",
      "Loss:1.1513975327818584\n",
      "Loss:1.1570053812938899\n"
     ]
    },
    {
     "name": "stderr",
     "output_type": "stream",
     "text": [
      " 19%|█▊        | 93/500 [00:03<00:15, 26.68it/s]"
     ]
    },
    {
     "name": "stdout",
     "output_type": "stream",
     "text": [
      "Loss:1.1754775244544955\n",
      "Loss:1.1203157654454028\n",
      "Loss:1.0104000000000004\n",
      "Loss:1.0076000000000003\n",
      "Loss:1.1759991200000002\n",
      "Loss:1.1279970293831463\n",
      "Loss:1.1839801792008515\n"
     ]
    },
    {
     "name": "stderr",
     "output_type": "stream",
     "text": [
      "\r",
      " 19%|█▉        | 97/500 [00:04<00:14, 27.51it/s]"
     ]
    },
    {
     "name": "stdout",
     "output_type": "stream",
     "text": [
      "Loss:1.1599199999999998\n",
      "Loss:1.0796767079405427\n",
      "Loss:1.1648339855194083\n",
      "Loss:1.1238259872855445\n",
      "Loss:1.0980547337108177\n",
      "Loss:1.0070000000000006\n",
      "Loss:1.0070000000000001\n"
     ]
    },
    {
     "name": "stderr",
     "output_type": "stream",
     "text": [
      " 21%|██        | 105/500 [00:04<00:13, 28.76it/s]"
     ]
    },
    {
     "name": "stdout",
     "output_type": "stream",
     "text": [
      "Loss:1.16799916\n",
      "Loss:1.1119974007102527\n",
      "Loss:1.1439844880702317\n",
      "Loss:1.1519239999999997\n",
      "Loss:1.2071727471876061\n",
      "Loss:1.1805524582883467\n",
      "Loss:1.1532007075045076\n"
     ]
    },
    {
     "name": "stderr",
     "output_type": "stream",
     "text": [
      "\r",
      " 22%|██▏       | 109/500 [00:04<00:15, 26.05it/s]"
     ]
    },
    {
     "name": "stdout",
     "output_type": "stream",
     "text": [
      "Loss:1.1039810888293076\n",
      "Loss:1.0084000000000004\n"
     ]
    },
    {
     "name": "stderr",
     "output_type": "stream",
     "text": [
      " 23%|██▎       | 116/500 [00:04<00:15, 24.97it/s]"
     ]
    },
    {
     "name": "stdout",
     "output_type": "stream",
     "text": [
      "Loss:1.0086000000000004\n",
      "Loss:1.1999989999999996\n",
      "Loss:1.1839957297382728\n",
      "Loss:1.1839801792008517\n",
      "Loss:1.1279359999999998\n",
      "Loss:1.1753045025628166\n",
      "Loss:1.1255096655735557\n",
      "Loss:1.1603849911480084\n"
     ]
    },
    {
     "name": "stderr",
     "output_type": "stream",
     "text": [
      " 25%|██▌       | 125/500 [00:05<00:12, 30.72it/s]"
     ]
    },
    {
     "name": "stdout",
     "output_type": "stream",
     "text": [
      "Loss:1.095389285852342\n",
      "Loss:1.0116000000000005\n",
      "Loss:1.0080000000000005\n",
      "Loss:1.1919990399999998\n",
      "Loss:1.14399665805604\n",
      "Loss:1.1599827645224798\n",
      "Loss:1.1599199999999998\n",
      "Loss:1.1753168141910095\n",
      "Loss:1.1648195003481776\n"
     ]
    },
    {
     "name": "stderr",
     "output_type": "stream",
     "text": [
      " 27%|██▋       | 133/500 [00:05<00:10, 34.09it/s]"
     ]
    },
    {
     "name": "stdout",
     "output_type": "stream",
     "text": [
      "Loss:1.1607801494189223\n",
      "Loss:1.0895565406428935\n",
      "Loss:1.0036000000000003\n",
      "Loss:1.0084000000000004\n",
      "Loss:1.16799916\n",
      "Loss:1.1359968437195926\n",
      "Loss:1.183980179200852\n",
      "Loss:1.1919039999999996\n"
     ]
    },
    {
     "name": "stderr",
     "output_type": "stream",
     "text": [
      " 28%|██▊       | 141/500 [00:05<00:10, 33.44it/s]"
     ]
    },
    {
     "name": "stdout",
     "output_type": "stream",
     "text": [
      "Loss:1.1513901266291329\n",
      "Loss:1.133479966563313\n",
      "Loss:1.1531957572647302\n",
      "Loss:1.1035215492758328\n",
      "Loss:1.0074000000000003\n",
      "Loss:1.0084000000000004\n",
      "Loss:1.1519992399999994\n",
      "Loss:1.1679961010653797\n"
     ]
    },
    {
     "name": "stderr",
     "output_type": "stream",
     "text": [
      " 30%|██▉       | 149/500 [00:05<00:09, 36.39it/s]"
     ]
    },
    {
     "name": "stdout",
     "output_type": "stream",
     "text": [
      "Loss:1.0799913822612401\n",
      "Loss:1.1279359999999998\n",
      "Loss:1.143426613856929\n",
      "Loss:1.2120515992127856\n",
      "Loss:1.174974538186336\n",
      "Loss:1.0650896006033073\n",
      "Loss:1.0080000000000005\n",
      "Loss:1.0092000000000003\n",
      "Loss:1.1279993599999996\n"
     ]
    },
    {
     "name": "stderr",
     "output_type": "stream",
     "text": [
      " 31%|███▏      | 157/500 [00:05<00:09, 37.16it/s]"
     ]
    },
    {
     "name": "stdout",
     "output_type": "stream",
     "text": [
      "Loss:1.1599962867289328\n",
      "Loss:1.1839801792008517\n",
      "Loss:1.1759119999999998\n",
      "Loss:1.1673394704217765\n",
      "Loss:1.1648783156733584\n",
      "Loss:1.138650919534867\n",
      "Loss:1.089094934377141\n",
      "Loss:1.0124000000000004\n"
     ]
    },
    {
     "name": "stderr",
     "output_type": "stream",
     "text": [
      " 33%|███▎      | 166/500 [00:06<00:08, 38.37it/s]"
     ]
    },
    {
     "name": "stdout",
     "output_type": "stream",
     "text": [
      "Loss:1.0092000000000003\n",
      "Loss:1.1599992\n",
      "Loss:1.1039975863738063\n",
      "Loss:1.1679819027486038\n",
      "Loss:1.103948\n",
      "Loss:1.1753008689958002\n",
      "Loss:1.1883890697043504\n",
      "Loss:1.1239645154240727\n"
     ]
    },
    {
     "name": "stderr",
     "output_type": "stream",
     "text": [
      " 35%|███▍      | 174/500 [00:06<00:08, 37.79it/s]"
     ]
    },
    {
     "name": "stdout",
     "output_type": "stream",
     "text": [
      "Loss:1.0904465800637742\n",
      "Loss:1.0091999999999997\n",
      "Loss:1.0053999999999992\n",
      "Loss:1.1679991599999024\n",
      "Loss:1.135996843719141\n",
      "Loss:1.2319750085563375\n",
      "Loss:1.1839079999922133\n",
      "Loss:1.1195150618714669\n"
     ]
    },
    {
     "name": "stderr",
     "output_type": "stream",
     "text": [
      " 36%|███▋      | 182/500 [00:06<00:08, 37.07it/s]"
     ]
    },
    {
     "name": "stdout",
     "output_type": "stream",
     "text": [
      "Loss:1.1648574482198453\n",
      "Loss:1.1165377477756546\n",
      "Loss:1.0695344829171578\n",
      "Loss:1.0157999899365457\n",
      "Loss:1.0045999900087377\n",
      "Loss:1.1519992397887893\n",
      "Loss:1.1439966572717457\n",
      "Loss:1.1359853452937159\n"
     ]
    },
    {
     "name": "stderr",
     "output_type": "stream",
     "text": [
      " 38%|███▊      | 190/500 [00:06<00:08, 37.04it/s]"
     ]
    },
    {
     "name": "stdout",
     "output_type": "stream",
     "text": [
      "Loss:1.1279359873268502\n",
      "Loss:1.199226607038796\n",
      "Loss:1.1176273565609047\n",
      "Loss:1.1091653950258957\n",
      "Loss:1.0798181629313968\n",
      "Loss:1.0089790520581206\n",
      "Loss:1.007582764901741\n",
      "Loss:1.159999195158197\n"
     ]
    },
    {
     "name": "stderr",
     "output_type": "stream",
     "text": [
      " 40%|███▉      | 198/500 [00:07<00:08, 36.56it/s]"
     ]
    },
    {
     "name": "stdout",
     "output_type": "stream",
     "text": [
      "Loss:1.1919955106654954\n",
      "Loss:1.1519834876260653\n",
      "Loss:1.1199393628397156\n",
      "Loss:1.1513843101401777\n",
      "Loss:1.117609429369654\n",
      "Loss:1.1386342692681108\n",
      "Loss:1.1130866652429288\n",
      "Loss:1.0133248950919092\n"
     ]
    },
    {
     "name": "stderr",
     "output_type": "stream",
     "text": [
      " 41%|████      | 206/500 [00:07<00:07, 37.31it/s]"
     ]
    },
    {
     "name": "stdout",
     "output_type": "stream",
     "text": [
      "Loss:1.0142703404268745\n",
      "Loss:1.1439992424314802\n",
      "Loss:1.2079950467867664\n",
      "Loss:1.079990300049259\n",
      "Loss:1.1359297216407602\n",
      "Loss:1.1673119231911442\n",
      "Loss:1.1647524374814826\n",
      "Loss:1.1382227122127495\n"
     ]
    },
    {
     "name": "stderr",
     "output_type": "stream",
     "text": [
      " 43%|████▎     | 214/500 [00:07<00:07, 36.57it/s]"
     ]
    },
    {
     "name": "stdout",
     "output_type": "stream",
     "text": [
      "Loss:1.0769264300017916\n",
      "Loss:1.0015033810609735\n",
      "Loss:1.0057370935292758\n",
      "Loss:1.135999193223234\n",
      "Loss:1.1439960825877364\n",
      "Loss:1.16797963588518\n",
      "Loss:1.1838948648620304\n",
      "Loss:1.1592940141987702\n"
     ]
    },
    {
     "name": "stderr",
     "output_type": "stream",
     "text": [
      " 44%|████▍     | 222/500 [00:07<00:08, 34.71it/s]"
     ]
    },
    {
     "name": "stdout",
     "output_type": "stream",
     "text": [
      "Loss:1.1409499330227637\n",
      "Loss:1.137188825974051\n",
      "Loss:1.0730513775388548\n",
      "Loss:0.9965654078391556\n",
      "Loss:1.0005624903515489\n",
      "Loss:1.1599989598140446\n",
      "Loss:1.1759946971039383\n"
     ]
    },
    {
     "name": "stderr",
     "output_type": "stream",
     "text": [
      "\r",
      " 45%|████▌     | 226/500 [00:07<00:08, 33.60it/s]"
     ]
    },
    {
     "name": "stdout",
     "output_type": "stream",
     "text": [
      "Loss:1.183976415532396\n",
      "Loss:1.159896700604911\n",
      "Loss:1.1672295070388237\n",
      "Loss:1.132808387736012\n",
      "Loss:1.1069876689051024\n",
      "Loss:1.083314191805294\n",
      "Loss:0.9932866720220271\n"
     ]
    },
    {
     "name": "stderr",
     "output_type": "stream",
     "text": [
      " 47%|████▋     | 234/500 [00:08<00:07, 34.48it/s]"
     ]
    },
    {
     "name": "stdout",
     "output_type": "stream",
     "text": [
      "Loss:0.985134741565913\n",
      "Loss:1.1359986812254024\n",
      "Loss:1.1839929017203135\n",
      "Loss:1.183970493561875\n",
      "Loss:1.1358815124531518\n",
      "Loss:1.183056232951052\n",
      "Loss:1.1872436268876254\n",
      "Loss:1.1479892245272847\n"
     ]
    },
    {
     "name": "stderr",
     "output_type": "stream",
     "text": [
      " 48%|████▊     | 242/500 [00:08<00:07, 35.63it/s]"
     ]
    },
    {
     "name": "stdout",
     "output_type": "stream",
     "text": [
      "Loss:1.0891329884049623\n",
      "Loss:0.9686609648737331\n",
      "Loss:0.9635934254108243\n",
      "Loss:1.167998121568401\n",
      "Loss:1.1439914687861579\n",
      "Loss:1.1039646258656408\n",
      "Loss:1.1438209851432366\n",
      "Loss:1.1669157771592606\n"
     ]
    },
    {
     "name": "stderr",
     "output_type": "stream",
     "text": [
      " 50%|█████     | 250/500 [00:08<00:07, 34.29it/s]"
     ]
    },
    {
     "name": "stdout",
     "output_type": "stream",
     "text": [
      "Loss:1.147026719908509\n",
      "Loss:1.1798984911165957\n",
      "Loss:1.0483139210282963\n",
      "Loss:0.9191180066182819\n",
      "Loss:0.9198188500175543\n",
      "Loss:1.1359968793237507\n",
      "Loss:1.1359849334471017\n",
      "Loss:1.1679304996382938\n"
     ]
    },
    {
     "name": "stderr",
     "output_type": "stream",
     "text": [
      " 51%|█████▏    | 257/500 [00:09<00:12, 20.14it/s]"
     ]
    },
    {
     "name": "stdout",
     "output_type": "stream",
     "text": [
      "Loss:1.167682097221616\n",
      "Loss:1.1744504663402764\n",
      "Loss:1.1527866680143644\n",
      "Loss:1.1210322692752002\n",
      "Loss:1.0246502795923789\n",
      "Loss:0.8741728165441917\n"
     ]
    },
    {
     "name": "stderr",
     "output_type": "stream",
     "text": [
      " 53%|█████▎    | 265/500 [00:09<00:09, 25.23it/s]"
     ]
    },
    {
     "name": "stdout",
     "output_type": "stream",
     "text": [
      "Loss:0.8781315124301189\n",
      "Loss:1.1999940514576684\n",
      "Loss:1.1519737993020776\n",
      "Loss:1.135880792864297\n",
      "Loss:1.1114706331934172\n",
      "Loss:1.189212873141703\n",
      "Loss:1.1162300177908409\n"
     ]
    },
    {
     "name": "stderr",
     "output_type": "stream",
     "text": [
      " 54%|█████▍    | 271/500 [00:09<00:08, 26.60it/s]"
     ]
    },
    {
     "name": "stdout",
     "output_type": "stream",
     "text": [
      "Loss:1.0797013850650077\n",
      "Loss:0.8878358314124876\n",
      "Loss:0.7739281825048456\n",
      "Loss:0.7594509481148003\n",
      "Loss:1.159990300373191\n",
      "Loss:1.1759547095459426\n"
     ]
    },
    {
     "name": "stderr",
     "output_type": "stream",
     "text": [
      " 56%|█████▌    | 278/500 [00:09<00:07, 28.88it/s]"
     ]
    },
    {
     "name": "stdout",
     "output_type": "stream",
     "text": [
      "Loss:1.1437986402481066\n",
      "Loss:1.1270362462210273\n",
      "Loss:1.1870161336400573\n",
      "Loss:1.1231051085188712\n",
      "Loss:1.0682042150709048\n",
      "Loss:0.7535189697771828\n",
      "Loss:0.6288007142692195\n"
     ]
    },
    {
     "name": "stderr",
     "output_type": "stream",
     "text": [
      " 57%|█████▋    | 286/500 [00:09<00:07, 30.24it/s]"
     ]
    },
    {
     "name": "stdout",
     "output_type": "stream",
     "text": [
      "Loss:0.6579731933988825\n",
      "Loss:1.1679812669681282\n",
      "Loss:1.1039185024958165\n",
      "Loss:1.1356012364465586\n",
      "Loss:1.1422169084691776\n",
      "Loss:1.1752737301317153\n",
      "Loss:1.1062831828726842\n"
     ]
    },
    {
     "name": "stderr",
     "output_type": "stream",
     "text": [
      "\r",
      " 58%|█████▊    | 290/500 [00:10<00:07, 28.68it/s]"
     ]
    },
    {
     "name": "stdout",
     "output_type": "stream",
     "text": [
      "Loss:0.9470601910566547\n",
      "Loss:0.5360639329532811\n",
      "Loss:0.49037308338357993\n",
      "Loss:0.6445511777290445\n",
      "Loss:1.1439680225436133\n",
      "Loss:1.127851824396075\n",
      "Loss:1.1433183024213878\n"
     ]
    },
    {
     "name": "stderr",
     "output_type": "stream",
     "text": [
      " 60%|█████▉    | 298/500 [00:10<00:06, 31.22it/s]"
     ]
    },
    {
     "name": "stdout",
     "output_type": "stream",
     "text": [
      "Loss:1.1168473042997418\n",
      "Loss:1.1840827849238709\n",
      "Loss:1.1363799939487604\n",
      "Loss:0.8397853643232566\n",
      "Loss:0.4063437030563994\n",
      "Loss:0.4138575946906146\n",
      "Loss:0.6048700872075498\n",
      "Loss:1.0959500499233337\n"
     ]
    },
    {
     "name": "stderr",
     "output_type": "stream",
     "text": [
      " 61%|██████    | 306/500 [00:10<00:06, 31.85it/s]"
     ]
    },
    {
     "name": "stdout",
     "output_type": "stream",
     "text": [
      "Loss:1.143769075517862\n",
      "Loss:1.1509066596797295\n",
      "Loss:1.1548056716193995\n",
      "Loss:1.1357017511899137\n",
      "Loss:1.0705554257974494\n",
      "Loss:0.6558872283789919\n",
      "Loss:0.369479191779608\n"
     ]
    },
    {
     "name": "stderr",
     "output_type": "stream",
     "text": [
      " 63%|██████▎   | 314/500 [00:10<00:05, 34.33it/s]"
     ]
    },
    {
     "name": "stdout",
     "output_type": "stream",
     "text": [
      "Loss:0.4113775293366203\n",
      "Loss:0.5400865236085348\n",
      "Loss:1.1439322197318094\n",
      "Loss:1.1436870622187205\n",
      "Loss:1.1745007236093747\n",
      "Loss:1.1451268670880808\n",
      "Loss:1.1122373775433925\n",
      "Loss:1.0132322878401316\n"
     ]
    },
    {
     "name": "stderr",
     "output_type": "stream",
     "text": [
      " 64%|██████▍   | 322/500 [00:11<00:05, 33.35it/s]"
     ]
    },
    {
     "name": "stdout",
     "output_type": "stream",
     "text": [
      "Loss:0.5244279626771585\n",
      "Loss:0.37519103098668954\n",
      "Loss:0.4257795774925801\n",
      "Loss:0.6129212536105328\n",
      "Loss:1.1839276547524886\n",
      "Loss:1.1676436263907555\n",
      "Loss:1.15034463204534\n"
     ]
    },
    {
     "name": "stderr",
     "output_type": "stream",
     "text": [
      " 66%|██████▌   | 331/500 [00:11<00:04, 36.38it/s]"
     ]
    },
    {
     "name": "stdout",
     "output_type": "stream",
     "text": [
      "Loss:1.1840134372563162\n",
      "Loss:1.052991227670556\n",
      "Loss:1.0155396199578535\n",
      "Loss:0.5309188163743509\n",
      "Loss:0.4066919634418891\n",
      "Loss:0.5378709423584063\n",
      "Loss:0.7677899734094773\n",
      "Loss:1.1679176637869189\n",
      "Loss:1.1676262761488545\n"
     ]
    },
    {
     "name": "stderr",
     "output_type": "stream",
     "text": [
      " 68%|██████▊   | 339/500 [00:11<00:04, 36.80it/s]"
     ]
    },
    {
     "name": "stdout",
     "output_type": "stream",
     "text": [
      "Loss:1.1501871281451737\n",
      "Loss:1.1989822355172177\n",
      "Loss:1.182253552264263\n",
      "Loss:0.9615305157250147\n",
      "Loss:0.5308489684203551\n",
      "Loss:0.48864059629901385\n",
      "Loss:0.5347893914513068\n",
      "Loss:0.8854210141607349\n"
     ]
    },
    {
     "name": "stderr",
     "output_type": "stream",
     "text": [
      " 69%|██████▉   | 347/500 [00:11<00:04, 35.23it/s]"
     ]
    },
    {
     "name": "stdout",
     "output_type": "stream",
     "text": [
      "Loss:1.119925320334075\n",
      "Loss:1.1356426289728234\n",
      "Loss:1.1583179685754732\n",
      "Loss:1.1680135028088303\n",
      "Loss:1.138812391768484\n",
      "Loss:0.9699018085974808\n",
      "Loss:0.5459189762856763\n"
     ]
    },
    {
     "name": "stderr",
     "output_type": "stream",
     "text": [
      " 71%|███████   | 355/500 [00:11<00:03, 37.00it/s]"
     ]
    },
    {
     "name": "stdout",
     "output_type": "stream",
     "text": [
      "Loss:0.5642599361668322\n",
      "Loss:0.6362850162339444\n",
      "Loss:0.7148817614858072\n",
      "Loss:1.127945026579612\n",
      "Loss:1.1517415737667098\n",
      "Loss:1.1508031493851298\n",
      "Loss:1.1384438574805085\n",
      "Loss:1.1340763931028999\n"
     ]
    },
    {
     "name": "stderr",
     "output_type": "stream",
     "text": [
      "\r",
      " 72%|███████▏  | 359/500 [00:12<00:03, 35.27it/s]"
     ]
    },
    {
     "name": "stdout",
     "output_type": "stream",
     "text": [
      "Loss:1.0375139408582903\n",
      "Loss:0.6332787774630629\n",
      "Loss:0.5610751229042059\n",
      "Loss:0.7114465087700252\n",
      "Loss:0.8304070350769428\n",
      "Loss:1.1839664458572643\n"
     ]
    },
    {
     "name": "stderr",
     "output_type": "stream",
     "text": [
      " 73%|███████▎  | 367/500 [00:12<00:03, 33.61it/s]"
     ]
    },
    {
     "name": "stdout",
     "output_type": "stream",
     "text": [
      "Loss:1.1518486492902493\n",
      "Loss:1.1992826514281973\n",
      "Loss:1.1566632565005226\n",
      "Loss:1.1371321681768956\n",
      "Loss:1.0816826498407854\n",
      "Loss:0.7938110493685151\n",
      "Loss:0.5653490165119794\n",
      "Loss:0.6486057391371469\n",
      "Loss:0.8745430047543021\n"
     ]
    },
    {
     "name": "stderr",
     "output_type": "stream",
     "text": [
      " 75%|███████▌  | 376/500 [00:12<00:03, 36.15it/s]"
     ]
    },
    {
     "name": "stdout",
     "output_type": "stream",
     "text": [
      "Loss:1.1759824623705928\n",
      "Loss:1.167918317797605\n",
      "Loss:1.1436311417981329\n",
      "Loss:1.1902011968521273\n",
      "Loss:1.1280590303460047\n",
      "Loss:1.091304024700805\n",
      "Loss:0.9882357771882565\n",
      "Loss:0.5964798045156087\n"
     ]
    },
    {
     "name": "stderr",
     "output_type": "stream",
     "text": [
      " 77%|███████▋  | 384/500 [00:12<00:03, 33.29it/s]"
     ]
    },
    {
     "name": "stdout",
     "output_type": "stream",
     "text": [
      "Loss:0.596083160331068\n",
      "Loss:0.788468491499482\n",
      "Loss:1.1679915636253342\n",
      "Loss:1.1279616009653766\n",
      "Loss:1.1358171781043154\n",
      "Loss:1.151124556732876\n",
      "Loss:1.2118341308751366\n"
     ]
    },
    {
     "name": "stderr",
     "output_type": "stream",
     "text": [
      " 78%|███████▊  | 392/500 [00:13<00:03, 35.61it/s]"
     ]
    },
    {
     "name": "stdout",
     "output_type": "stream",
     "text": [
      "Loss:1.1420807876172736\n",
      "Loss:1.0660703330031167\n",
      "Loss:0.7560485043314665\n",
      "Loss:0.5729472733413122\n",
      "Loss:0.6968942041333562\n",
      "Loss:1.1839957424373115\n",
      "Loss:1.1519805420202724\n",
      "Loss:1.143910765562888\n"
     ]
    },
    {
     "name": "stderr",
     "output_type": "stream",
     "text": [
      " 80%|████████  | 400/500 [00:13<00:02, 35.41it/s]"
     ]
    },
    {
     "name": "stdout",
     "output_type": "stream",
     "text": [
      "Loss:1.1435845074138633\n",
      "Loss:1.1501014237697935\n",
      "Loss:1.1508073240547518\n",
      "Loss:1.1107790641201296\n",
      "Loss:1.0003113576491502\n",
      "Loss:0.5814633808452969\n",
      "Loss:0.6221474477252598\n",
      "Loss:1.1839979649573358\n"
     ]
    },
    {
     "name": "stderr",
     "output_type": "stream",
     "text": [
      " 82%|████████▏ | 408/500 [00:13<00:02, 33.23it/s]"
     ]
    },
    {
     "name": "stdout",
     "output_type": "stream",
     "text": [
      "Loss:1.1439910613208377\n",
      "Loss:1.1679566299385349\n",
      "Loss:1.1278053197123266\n",
      "Loss:1.1750704870438902\n",
      "Loss:1.1795893140408602\n",
      "Loss:1.1090459048638612\n",
      "Loss:1.0834460378066024\n"
     ]
    },
    {
     "name": "stderr",
     "output_type": "stream",
     "text": [
      " 83%|████████▎ | 416/500 [00:13<00:02, 34.44it/s]"
     ]
    },
    {
     "name": "stdout",
     "output_type": "stream",
     "text": [
      "Loss:0.745599603087948\n",
      "Loss:0.5863435843932282\n",
      "Loss:1.1919990306410895\n",
      "Loss:1.2079954429923132\n",
      "Loss:1.1599796757374674\n",
      "Loss:1.111908323896073\n",
      "Loss:1.1915477604044902\n",
      "Loss:1.1499401875352822\n"
     ]
    },
    {
     "name": "stderr",
     "output_type": "stream",
     "text": [
      "\r",
      " 84%|████████▍ | 420/500 [00:13<00:02, 33.34it/s]"
     ]
    },
    {
     "name": "stdout",
     "output_type": "stream",
     "text": [
      "Loss:1.1188778702715299\n",
      "Loss:1.1241600568303336\n",
      "Loss:0.9619095279732354\n",
      "Loss:0.5843947311508547\n",
      "Loss:1.1839995518894062\n",
      "Loss:1.1439979338057873\n",
      "Loss:1.1599903975344747\n"
     ]
    },
    {
     "name": "stderr",
     "output_type": "stream",
     "text": [
      " 86%|████████▌ | 428/500 [00:14<00:02, 33.91it/s]"
     ]
    },
    {
     "name": "stdout",
     "output_type": "stream",
     "text": [
      "Loss:1.1679557164496335\n",
      "Loss:1.1437938244408523\n",
      "Loss:1.1830063721495658\n",
      "Loss:1.1954388833317224\n",
      "Loss:1.146929086535607\n",
      "Loss:1.033655348603118\n",
      "Loss:0.736627806441196\n",
      "Loss:1.127999795326596\n"
     ]
    },
    {
     "name": "stderr",
     "output_type": "stream",
     "text": [
      "\r",
      " 86%|████████▋ | 432/500 [00:14<00:02, 33.96it/s]"
     ]
    },
    {
     "name": "stdout",
     "output_type": "stream",
     "text": [
      "Loss:1.159999017916933\n",
      "Loss:1.1359954998810047\n",
      "Loss:1.1519796672233213\n"
     ]
    },
    {
     "name": "stderr",
     "output_type": "stream",
     "text": [
      "\r",
      " 87%|████████▋ | 436/500 [00:14<00:02, 22.28it/s]"
     ]
    },
    {
     "name": "stdout",
     "output_type": "stream",
     "text": [
      "Loss:1.1439034990939028\n",
      "Loss:1.1355474719517884\n",
      "Loss:1.1578818665768558\n"
     ]
    },
    {
     "name": "stderr",
     "output_type": "stream",
     "text": [
      " 89%|████████▊ | 443/500 [00:14<00:02, 22.06it/s]"
     ]
    },
    {
     "name": "stdout",
     "output_type": "stream",
     "text": [
      "Loss:1.1104416382305697\n",
      "Loss:1.0680022543584433\n",
      "Loss:0.9777811684920745\n",
      "Loss:1.151999901053174\n",
      "Loss:1.1359995362008515\n",
      "Loss:1.1519978586288457\n",
      "Loss:1.1599899954965869\n",
      "Loss:1.1119561794256319\n"
     ]
    },
    {
     "name": "stderr",
     "output_type": "stream",
     "text": [
      " 90%|█████████ | 452/500 [00:15<00:01, 28.49it/s]"
     ]
    },
    {
     "name": "stdout",
     "output_type": "stream",
     "text": [
      "Loss:1.1437883868881167\n",
      "Loss:1.1989749475365654\n",
      "Loss:1.1952133896426256\n",
      "Loss:1.1387323012896273\n",
      "Loss:1.0570434048470398\n",
      "Loss:1.1519999536702585\n",
      "Loss:1.1599997859544597\n",
      "Loss:1.1439990020806807\n",
      "Loss:1.1519953633583178\n"
     ]
    },
    {
     "name": "stderr",
     "output_type": "stream",
     "text": [
      " 92%|█████████▏| 460/500 [00:15<00:01, 32.86it/s]"
     ]
    },
    {
     "name": "stdout",
     "output_type": "stream",
     "text": [
      "Loss:1.1199791879333105\n",
      "Loss:1.1279011385578832\n",
      "Loss:1.1355365319577728\n",
      "Loss:1.1418631048158168\n",
      "Loss:1.1420021922010335\n",
      "Loss:1.1053385835741518\n",
      "Loss:1.1759999776346297\n",
      "Loss:1.1279998993360054\n"
     ]
    },
    {
     "name": "stderr",
     "output_type": "stream",
     "text": [
      " 94%|█████████▎| 468/500 [00:15<00:00, 33.44it/s]"
     ]
    },
    {
     "name": "stdout",
     "output_type": "stream",
     "text": [
      "Loss:1.1519995210718181\n",
      "Loss:1.1679977676542341\n",
      "Loss:1.1199900062552097\n",
      "Loss:1.175950771654479\n",
      "Loss:1.1197883706301175\n",
      "Loss:1.1509787780513363\n",
      "Loss:1.1472108989453236\n",
      "Loss:1.1379579685166723\n"
     ]
    },
    {
     "name": "stderr",
     "output_type": "stream",
     "text": [
      " 95%|█████████▌| 476/500 [00:15<00:00, 35.63it/s]"
     ]
    },
    {
     "name": "stdout",
     "output_type": "stream",
     "text": [
      "Loss:1.1599999895853144\n",
      "Loss:1.1839999505934566\n",
      "Loss:1.1599997763172663\n",
      "Loss:1.1599989611111923\n",
      "Loss:1.1279952592966995\n",
      "Loss:1.1359783084191712\n",
      "Loss:1.143896836504443\n",
      "Loss:1.1515133472563663\n"
     ]
    },
    {
     "name": "stderr",
     "output_type": "stream",
     "text": [
      " 97%|█████████▋| 484/500 [00:15<00:00, 36.92it/s]"
     ]
    },
    {
     "name": "stdout",
     "output_type": "stream",
     "text": [
      "Loss:1.1338098709377304\n",
      "Loss:1.1257498521681797\n",
      "Loss:1.1599999951284259\n",
      "Loss:1.1599999769279956\n",
      "Loss:1.1759998925060724\n",
      "Loss:1.1599995089346473\n",
      "Loss:1.1839977058441158\n",
      "Loss:1.1999890789512613\n",
      "Loss:1.167949517448006\n"
     ]
    },
    {
     "name": "stderr",
     "output_type": "stream",
     "text": [
      " 98%|█████████▊| 492/500 [00:16<00:00, 37.57it/s]"
     ]
    },
    {
     "name": "stdout",
     "output_type": "stream",
     "text": [
      "Loss:1.1677736511753471\n",
      "Loss:1.1509275262923704\n",
      "Loss:1.1391613659344026\n",
      "Loss:1.167999997676699\n",
      "Loss:1.111999989439513\n",
      "Loss:1.1679999495028361\n",
      "Loss:1.175999763813555\n",
      "Loss:1.1359989327004443\n"
     ]
    },
    {
     "name": "stderr",
     "output_type": "stream",
     "text": [
      "100%|██████████| 500/500 [00:16<00:00, 30.45it/s]"
     ]
    },
    {
     "name": "stdout",
     "output_type": "stream",
     "text": [
      "Loss:1.1999948257725879\n",
      "Loss:1.1199778020836155\n",
      "Loss:1.2318883547806407\n",
      "Loss:1.1115157528594597\n",
      "Loss:1.1577122748802293\n"
     ]
    },
    {
     "name": "stderr",
     "output_type": "stream",
     "text": [
      "\n"
     ]
    }
   ],
   "source": [
    "# Sklearn results\n",
    "\n",
    "# Fivefold Cross validation\n",
    "# identify suitable gaussian kernels from training data quantiles\n",
    "D = imp.sqdistmat(X_tr)\n",
    "quantiles = np.quantile(D,[0.1,0.5, 0.9])\n",
    "params = { 'kernel': ['gaussian'], 'kernelparameter': np.logspace(-5,3, 50), 'regularization': np.logspace(-5,1, 10) }\n",
    "cvsvm_sk = cv(X_tr, Y_tr, imp.svm_sklearn, params, loss_function=mean_absolute_error, nfolds=5)"
   ]
  },
  {
   "cell_type": "code",
   "execution_count": 13,
   "metadata": {},
   "outputs": [
    {
     "data": {
      "text/plain": [
       "('gaussian', 0.7906043210907685, 0.46415888336127725)"
      ]
     },
     "execution_count": 13,
     "metadata": {},
     "output_type": "execute_result"
    }
   ],
   "source": [
    "cvsvm_sk.__params"
   ]
  },
  {
   "cell_type": "code",
   "execution_count": 18,
   "metadata": {},
   "outputs": [],
   "source": [
    "def plot_boundary_2d_sk(X, y, model):\n",
    "    \"\"\"\n",
    "    Plots a 2 dimensional boundary of a model.\n",
    "\n",
    "    Inputs:\n",
    "    X = 2d data array (nx2)\n",
    "    y = labels (nx1)\n",
    "    model = model (typically SVM or neural net)\n",
    "    \"\"\"\n",
    "    # 1. plot points X\n",
    "    plt.scatter(X.T[0][np.argwhere(y == 1)], X.T[1][np.argwhere(y == 1)], c='b', label='Positive class')\n",
    "    plt.scatter(X.T[0][np.argwhere(y == -1)], X.T[1][np.argwhere(y == -1)], c='r', label='Negative class')\n",
    "\n",
    "    # 2. mark support vectors with a cross if svm\n",
    "    if isinstance(model, imp.svm_sklearn):\n",
    "        plt.scatter(model.X_sv.T[0], model.X_sv.T[1], s=80, c='y', marker='x', label='Support vectors')\n",
    "\n",
    "    # 3. plot separating hyperplane\n",
    "    # 3a. create grid of predictions\n",
    "    x_max = np.amax(X, axis=0)\n",
    "    x_min = np.amin(X, axis=0)\n",
    "    x0 = np.linspace(x_min[0], x_max[0], 50)\n",
    "    x1 = np.linspace(x_min[1], x_max[1], 50)\n",
    "    x0v, x1v = np.meshgrid(x0, x1)\n",
    "    Xv = np.squeeze(np.array((x0v.reshape(2500, 1), x1v.reshape(2500, 1))))\n",
    "    grid_pred = model.predict(Xv.T)\n",
    "    # 3b plot level 0 contour line\n",
    "    plt.contour(x0, x1, grid_pred.reshape(50, 50), levels=0)\n",
    "\n",
    "    # format plot\n",
    "    plt.ylabel('X1')\n",
    "    plt.xlabel('X0')\n",
    "    plt.title('2D visualisation of model classifications with a separating hyperplane')\n",
    "    plt.legend()\n",
    "    plt.show()"
   ]
  },
  {
   "cell_type": "code",
   "execution_count": 19,
   "metadata": {},
   "outputs": [
    {
     "data": {
      "image/png": "[encoded data removed]",
      "text/plain": [
       "<Figure size 432x288 with 1 Axes>"
      ]
     },
     "metadata": {
      "needs_background": "light"
     },
     "output_type": "display_data"
    }
   ],
   "source": [
    "plot_boundary_2d_sk(X_tr, Y_tr, cvsvm_sk)"
   ]
  },
  {
   "cell_type": "code",
   "execution_count": 24,
   "metadata": {},
   "outputs": [
    {
     "name": "stderr",
     "output_type": "stream",
     "text": [
      "  2%|▏         | 1/50 [00:00<00:21,  2.32it/s]"
     ]
    },
    {
     "name": "stdout",
     "output_type": "stream",
     "text": [
      "Loss:1.0116000006236\n"
     ]
    },
    {
     "name": "stderr",
     "output_type": "stream",
     "text": [
      "\r",
      "  4%|▍         | 2/50 [00:00<00:21,  2.26it/s]"
     ]
    },
    {
     "name": "stdout",
     "output_type": "stream",
     "text": [
      "Loss:1.0093999991007125\n"
     ]
    },
    {
     "name": "stderr",
     "output_type": "stream",
     "text": [
      "\r",
      "  6%|▌         | 3/50 [00:01<00:21,  2.14it/s]"
     ]
    },
    {
     "name": "stdout",
     "output_type": "stream",
     "text": [
      "Loss:1.0120000018921407\n"
     ]
    },
    {
     "name": "stderr",
     "output_type": "stream",
     "text": [
      "\r",
      "  8%|▊         | 4/50 [00:01<00:21,  2.17it/s]"
     ]
    },
    {
     "name": "stdout",
     "output_type": "stream",
     "text": [
      "Loss:1.0088000000234727\n"
     ]
    },
    {
     "name": "stderr",
     "output_type": "stream",
     "text": [
      "\r",
      " 10%|█         | 5/50 [00:02<00:21,  2.05it/s]"
     ]
    },
    {
     "name": "stdout",
     "output_type": "stream",
     "text": [
      "Loss:1.0112000001689387\n"
     ]
    },
    {
     "name": "stderr",
     "output_type": "stream",
     "text": [
      "\r",
      " 12%|█▏        | 6/50 [00:02<00:20,  2.14it/s]"
     ]
    },
    {
     "name": "stdout",
     "output_type": "stream",
     "text": [
      "Loss:1.0091999999022416\n"
     ]
    },
    {
     "name": "stderr",
     "output_type": "stream",
     "text": [
      "\r",
      " 14%|█▍        | 7/50 [00:03<00:19,  2.20it/s]"
     ]
    },
    {
     "name": "stdout",
     "output_type": "stream",
     "text": [
      "Loss:1.0090000000423118\n"
     ]
    },
    {
     "name": "stderr",
     "output_type": "stream",
     "text": [
      "\r",
      " 16%|█▌        | 8/50 [00:03<00:20,  2.04it/s]"
     ]
    },
    {
     "name": "stdout",
     "output_type": "stream",
     "text": [
      "Loss:1.016399999977496\n"
     ]
    },
    {
     "name": "stderr",
     "output_type": "stream",
     "text": [
      "\r",
      " 18%|█▊        | 9/50 [00:04<00:19,  2.14it/s]"
     ]
    },
    {
     "name": "stdout",
     "output_type": "stream",
     "text": [
      "Loss:1.0080000000021756\n"
     ]
    },
    {
     "name": "stderr",
     "output_type": "stream",
     "text": [
      "\r",
      " 20%|██        | 10/50 [00:04<00:19,  2.03it/s]"
     ]
    },
    {
     "name": "stdout",
     "output_type": "stream",
     "text": [
      "Loss:1.003999999998807\n"
     ]
    },
    {
     "name": "stderr",
     "output_type": "stream",
     "text": [
      "\r",
      " 22%|██▏       | 11/50 [00:05<00:17,  2.18it/s]"
     ]
    },
    {
     "name": "stdout",
     "output_type": "stream",
     "text": [
      "Loss:1.0076000000016152\n"
     ]
    },
    {
     "name": "stderr",
     "output_type": "stream",
     "text": [
      "\r",
      " 24%|██▍       | 12/50 [00:05<00:16,  2.32it/s]"
     ]
    },
    {
     "name": "stdout",
     "output_type": "stream",
     "text": [
      "Loss:1.01119999999803\n"
     ]
    },
    {
     "name": "stderr",
     "output_type": "stream",
     "text": [
      "\r",
      " 26%|██▌       | 13/50 [00:05<00:15,  2.40it/s]"
     ]
    },
    {
     "name": "stdout",
     "output_type": "stream",
     "text": [
      "Loss:1.012199999999292\n"
     ]
    },
    {
     "name": "stderr",
     "output_type": "stream",
     "text": [
      "\r",
      " 28%|██▊       | 14/50 [00:06<00:14,  2.43it/s]"
     ]
    },
    {
     "name": "stdout",
     "output_type": "stream",
     "text": [
      "Loss:1.0196000000001655\n"
     ]
    },
    {
     "name": "stderr",
     "output_type": "stream",
     "text": [
      "\r",
      " 30%|███       | 15/50 [00:06<00:14,  2.47it/s]"
     ]
    },
    {
     "name": "stdout",
     "output_type": "stream",
     "text": [
      "Loss:1.0117999999999845\n"
     ]
    },
    {
     "name": "stderr",
     "output_type": "stream",
     "text": [
      "\r",
      " 32%|███▏      | 16/50 [00:07<00:13,  2.50it/s]"
     ]
    },
    {
     "name": "stdout",
     "output_type": "stream",
     "text": [
      "Loss:1.0095999983021637\n"
     ]
    },
    {
     "name": "stderr",
     "output_type": "stream",
     "text": [
      "\r",
      " 34%|███▍      | 17/50 [00:07<00:12,  2.54it/s]"
     ]
    },
    {
     "name": "stdout",
     "output_type": "stream",
     "text": [
      "Loss:1.0081924533943516\n"
     ]
    },
    {
     "name": "stderr",
     "output_type": "stream",
     "text": [
      "\r",
      " 36%|███▌      | 18/50 [00:07<00:12,  2.51it/s]"
     ]
    },
    {
     "name": "stdout",
     "output_type": "stream",
     "text": [
      "Loss:1.009849574707415\n"
     ]
    },
    {
     "name": "stderr",
     "output_type": "stream",
     "text": [
      "\r",
      " 38%|███▊      | 19/50 [00:08<00:12,  2.45it/s]"
     ]
    },
    {
     "name": "stdout",
     "output_type": "stream",
     "text": [
      "Loss:1.008824022818069\n"
     ]
    },
    {
     "name": "stderr",
     "output_type": "stream",
     "text": [
      "\r",
      " 40%|████      | 20/50 [00:08<00:12,  2.42it/s]"
     ]
    },
    {
     "name": "stdout",
     "output_type": "stream",
     "text": [
      "Loss:1.001750976588779\n"
     ]
    },
    {
     "name": "stderr",
     "output_type": "stream",
     "text": [
      "\r",
      " 42%|████▏     | 21/50 [00:09<00:17,  1.66it/s]"
     ]
    },
    {
     "name": "stdout",
     "output_type": "stream",
     "text": [
      "Loss:0.993465679346171\n"
     ]
    },
    {
     "name": "stderr",
     "output_type": "stream",
     "text": [
      "\r",
      " 44%|████▍     | 22/50 [00:10<00:17,  1.59it/s]"
     ]
    },
    {
     "name": "stdout",
     "output_type": "stream",
     "text": [
      "Loss:0.979073806849797\n"
     ]
    },
    {
     "name": "stderr",
     "output_type": "stream",
     "text": [
      "\r",
      " 46%|████▌     | 23/50 [00:11<00:16,  1.67it/s]"
     ]
    },
    {
     "name": "stdout",
     "output_type": "stream",
     "text": [
      "Loss:0.9329356277571353\n"
     ]
    },
    {
     "name": "stderr",
     "output_type": "stream",
     "text": [
      "\r",
      " 48%|████▊     | 24/50 [00:11<00:15,  1.69it/s]"
     ]
    },
    {
     "name": "stdout",
     "output_type": "stream",
     "text": [
      "Loss:0.8835438251286583\n"
     ]
    },
    {
     "name": "stderr",
     "output_type": "stream",
     "text": [
      "\r",
      " 50%|█████     | 25/50 [00:12<00:13,  1.85it/s]"
     ]
    },
    {
     "name": "stdout",
     "output_type": "stream",
     "text": [
      "Loss:0.7805776606761516\n"
     ]
    },
    {
     "name": "stderr",
     "output_type": "stream",
     "text": [
      "\r",
      " 52%|█████▏    | 26/50 [00:12<00:11,  2.00it/s]"
     ]
    },
    {
     "name": "stdout",
     "output_type": "stream",
     "text": [
      "Loss:0.6757952110622061\n"
     ]
    },
    {
     "name": "stderr",
     "output_type": "stream",
     "text": [
      "\r",
      " 54%|█████▍    | 27/50 [00:12<00:11,  2.07it/s]"
     ]
    },
    {
     "name": "stdout",
     "output_type": "stream",
     "text": [
      "Loss:0.7365172696863306\n"
     ]
    },
    {
     "name": "stderr",
     "output_type": "stream",
     "text": [
      "\r",
      " 56%|█████▌    | 28/50 [00:13<00:10,  2.14it/s]"
     ]
    },
    {
     "name": "stdout",
     "output_type": "stream",
     "text": [
      "Loss:1.45578577836038\n"
     ]
    },
    {
     "name": "stderr",
     "output_type": "stream",
     "text": [
      "\r",
      " 58%|█████▊    | 29/50 [00:13<00:09,  2.17it/s]"
     ]
    },
    {
     "name": "stdout",
     "output_type": "stream",
     "text": [
      "Loss:4.256124271889078\n"
     ]
    },
    {
     "name": "stderr",
     "output_type": "stream",
     "text": [
      "\r",
      " 60%|██████    | 30/50 [00:14<00:09,  2.14it/s]"
     ]
    },
    {
     "name": "stdout",
     "output_type": "stream",
     "text": [
      "Loss:15.08534008103549\n"
     ]
    },
    {
     "name": "stderr",
     "output_type": "stream",
     "text": [
      "\r",
      " 62%|██████▏   | 31/50 [00:14<00:08,  2.18it/s]"
     ]
    },
    {
     "name": "stdout",
     "output_type": "stream",
     "text": [
      "Loss:49.26839694058428\n"
     ]
    },
    {
     "name": "stderr",
     "output_type": "stream",
     "text": [
      "\r",
      " 64%|██████▍   | 32/50 [00:15<00:10,  1.80it/s]"
     ]
    },
    {
     "name": "stdout",
     "output_type": "stream",
     "text": [
      "Loss:177.73380496183918\n"
     ]
    },
    {
     "name": "stderr",
     "output_type": "stream",
     "text": [
      "\r",
      " 66%|██████▌   | 33/50 [00:16<00:10,  1.64it/s]"
     ]
    },
    {
     "name": "stdout",
     "output_type": "stream",
     "text": [
      "Loss:427.39313643640185\n"
     ]
    },
    {
     "name": "stderr",
     "output_type": "stream",
     "text": [
      "\r",
      " 68%|██████▊   | 34/50 [00:18<00:15,  1.00it/s]"
     ]
    },
    {
     "name": "stdout",
     "output_type": "stream",
     "text": [
      "Loss:1264091843.8663785\n"
     ]
    },
    {
     "name": "stderr",
     "output_type": "stream",
     "text": [
      "\r",
      " 70%|███████   | 35/50 [00:19<00:17,  1.19s/it]"
     ]
    },
    {
     "name": "stdout",
     "output_type": "stream",
     "text": [
      "Loss:6327951816.880524\n"
     ]
    },
    {
     "name": "stderr",
     "output_type": "stream",
     "text": [
      "\r",
      " 72%|███████▏  | 36/50 [00:21<00:18,  1.30s/it]"
     ]
    },
    {
     "name": "stdout",
     "output_type": "stream",
     "text": [
      "Loss:3944655469.2680993\n"
     ]
    },
    {
     "name": "stderr",
     "output_type": "stream",
     "text": [
      "\r",
      " 74%|███████▍  | 37/50 [00:22<00:16,  1.29s/it]"
     ]
    },
    {
     "name": "stdout",
     "output_type": "stream",
     "text": [
      "Loss:1967446274.2448592\n"
     ]
    },
    {
     "name": "stderr",
     "output_type": "stream",
     "text": [
      "\r",
      " 76%|███████▌  | 38/50 [00:23<00:14,  1.23s/it]"
     ]
    },
    {
     "name": "stdout",
     "output_type": "stream",
     "text": [
      "Loss:811430802.4591593\n"
     ]
    },
    {
     "name": "stderr",
     "output_type": "stream",
     "text": [
      "\r",
      " 78%|███████▊  | 39/50 [00:24<00:13,  1.19s/it]"
     ]
    },
    {
     "name": "stdout",
     "output_type": "stream",
     "text": [
      "Loss:449424349.15042037\n"
     ]
    },
    {
     "name": "stderr",
     "output_type": "stream",
     "text": [
      "\r",
      " 80%|████████  | 40/50 [00:25<00:11,  1.15s/it]"
     ]
    },
    {
     "name": "stdout",
     "output_type": "stream",
     "text": [
      "Loss:234148728.95293435\n"
     ]
    },
    {
     "name": "stderr",
     "output_type": "stream",
     "text": [
      "\r",
      " 82%|████████▏ | 41/50 [00:26<00:10,  1.13s/it]"
     ]
    },
    {
     "name": "stdout",
     "output_type": "stream",
     "text": [
      "Loss:82283333.08570002\n"
     ]
    },
    {
     "name": "stderr",
     "output_type": "stream",
     "text": [
      "\r",
      " 84%|████████▍ | 42/50 [00:27<00:08,  1.11s/it]"
     ]
    },
    {
     "name": "stdout",
     "output_type": "stream",
     "text": [
      "Loss:54390897.471087225\n"
     ]
    },
    {
     "name": "stderr",
     "output_type": "stream",
     "text": [
      "\r",
      " 86%|████████▌ | 43/50 [00:29<00:07,  1.14s/it]"
     ]
    },
    {
     "name": "stdout",
     "output_type": "stream",
     "text": [
      "Loss:29410870.503948513\n"
     ]
    },
    {
     "name": "stderr",
     "output_type": "stream",
     "text": [
      "\r",
      " 88%|████████▊ | 44/50 [00:30<00:06,  1.15s/it]"
     ]
    },
    {
     "name": "stdout",
     "output_type": "stream",
     "text": [
      "Loss:17693215.392310835\n"
     ]
    },
    {
     "name": "stderr",
     "output_type": "stream",
     "text": [
      "\r",
      " 90%|█████████ | 45/50 [00:31<00:05,  1.14s/it]"
     ]
    },
    {
     "name": "stdout",
     "output_type": "stream",
     "text": [
      "Loss:8794564.518781485\n"
     ]
    },
    {
     "name": "stderr",
     "output_type": "stream",
     "text": [
      "\r",
      " 92%|█████████▏| 46/50 [00:32<00:04,  1.13s/it]"
     ]
    },
    {
     "name": "stdout",
     "output_type": "stream",
     "text": [
      "Loss:4873572.655507468\n"
     ]
    },
    {
     "name": "stderr",
     "output_type": "stream",
     "text": [
      "\r",
      " 94%|█████████▍| 47/50 [00:33<00:03,  1.20s/it]"
     ]
    },
    {
     "name": "stdout",
     "output_type": "stream",
     "text": [
      "Loss:2565076.683661073\n"
     ]
    },
    {
     "name": "stderr",
     "output_type": "stream",
     "text": [
      "\r",
      " 96%|█████████▌| 48/50 [00:34<00:02,  1.16s/it]"
     ]
    },
    {
     "name": "stdout",
     "output_type": "stream",
     "text": [
      "Loss:1085865.9920733403\n"
     ]
    },
    {
     "name": "stderr",
     "output_type": "stream",
     "text": [
      "\r",
      " 98%|█████████▊| 49/50 [00:36<00:01,  1.29s/it]"
     ]
    },
    {
     "name": "stdout",
     "output_type": "stream",
     "text": [
      "Loss:478184.73547758855\n"
     ]
    },
    {
     "name": "stderr",
     "output_type": "stream",
     "text": [
      "100%|██████████| 50/50 [00:37<00:00,  1.32it/s]"
     ]
    },
    {
     "name": "stdout",
     "output_type": "stream",
     "text": [
      "Loss:205214.84056019402\n",
      "('gaussian', 0.1206792640639329, 100000000000)\n"
     ]
    },
    {
     "name": "stderr",
     "output_type": "stream",
     "text": [
      "\n"
     ]
    },
    {
     "data": {
      "image/png": "[encoded data removed]",
      "text/plain": [
       "<Figure size 432x288 with 1 Axes>"
      ]
     },
     "metadata": {
      "needs_background": "light"
     },
     "output_type": "display_data"
    }
   ],
   "source": [
    "# Produce Overfitting\n",
    "# Fivefold Cross validation\n",
    "# identify suitable gaussian kernels from training data quantiles\n",
    "#D = imp.sqdistmat(X_tr)\n",
    "#quantiles = np.quantile(D,[0.1,0.5, 0.9])\n",
    "params = { 'kernel': ['gaussian'], 'kernelparameter': np.logspace(-5,3, 50), 'regularization': [100000000000]}#np.logspace(1,10, 10) }\n",
    "cvsvm = cv(X_tr, Y_tr, imp.svm_qp, params, loss_function=mean_absolute_error, nfolds=5)\n",
    "print(cvsvm.__params)\n",
    "imp.plot_boundary_2d(X_tr, Y_tr, cvsvm)"
   ]
  },
  {
   "cell_type": "code",
   "execution_count": 25,
   "metadata": {},
   "outputs": [
    {
     "name": "stdout",
     "output_type": "stream",
     "text": [
      "(85, 2)\n",
      "0.6757952110622061\n",
      "0\n",
      "('gaussian', 0.1206792640639329, 100000000000)\n"
     ]
    }
   ],
   "source": [
    "print(cvsvm.X_sv.shape)\n",
    "print(cvsvm.cvloss)\n",
    "print(np.sum(cvsvm.predict(X_te) == Y_te))\n",
    "print(cvsvm.__params)"
   ]
  },
  {
   "cell_type": "code",
   "execution_count": 137,
   "metadata": {
    "scrolled": true
   },
   "outputs": [
    {
     "name": "stderr",
     "output_type": "stream",
     "text": [
      "  6%|▌         | 3/50 [00:00<00:07,  6.52it/s]"
     ]
    },
    {
     "name": "stdout",
     "output_type": "stream",
     "text": [
      "Loss:1.0557960688144652\n",
      "Loss:1.0413973723145367\n",
      "Loss:1.0104000030918052\n"
     ]
    },
    {
     "name": "stderr",
     "output_type": "stream",
     "text": [
      " 10%|█         | 5/50 [00:00<00:06,  6.77it/s]"
     ]
    },
    {
     "name": "stdout",
     "output_type": "stream",
     "text": [
      "Loss:1.0365973800203419\n",
      "Loss:1.0037999998799174\n"
     ]
    },
    {
     "name": "stderr",
     "output_type": "stream",
     "text": [
      "\r",
      " 12%|█▏        | 6/50 [00:00<00:06,  6.71it/s]"
     ]
    },
    {
     "name": "stdout",
     "output_type": "stream",
     "text": [
      "Loss:1.0070000006997124\n"
     ]
    },
    {
     "name": "stderr",
     "output_type": "stream",
     "text": [
      " 16%|█▌        | 8/50 [00:01<00:07,  5.60it/s]"
     ]
    },
    {
     "name": "stdout",
     "output_type": "stream",
     "text": [
      "Loss:1.0227986911028062\n",
      "Loss:1.0266989676013918\n"
     ]
    },
    {
     "name": "stderr",
     "output_type": "stream",
     "text": [
      " 20%|██        | 10/50 [00:01<00:06,  5.73it/s]"
     ]
    },
    {
     "name": "stdout",
     "output_type": "stream",
     "text": [
      "Loss:1.0084000002111964\n",
      "Loss:1.0820937308438985\n"
     ]
    },
    {
     "name": "stderr",
     "output_type": "stream",
     "text": [
      " 24%|██▍       | 12/50 [00:01<00:06,  6.22it/s]"
     ]
    },
    {
     "name": "stdout",
     "output_type": "stream",
     "text": [
      "Loss:1.0660950399672473\n",
      "Loss:1.1163906327611188\n"
     ]
    },
    {
     "name": "stderr",
     "output_type": "stream",
     "text": [
      " 28%|██▊       | 14/50 [00:02<00:05,  6.20it/s]"
     ]
    },
    {
     "name": "stdout",
     "output_type": "stream",
     "text": [
      "Loss:1.0180989673289906\n",
      "Loss:1.0393973817464441\n"
     ]
    },
    {
     "name": "stderr",
     "output_type": "stream",
     "text": [
      " 32%|███▏      | 16/50 [00:02<00:05,  6.36it/s]"
     ]
    },
    {
     "name": "stdout",
     "output_type": "stream",
     "text": [
      "Loss:1.0683945604348801\n",
      "Loss:1.0855932514961\n"
     ]
    },
    {
     "name": "stderr",
     "output_type": "stream",
     "text": [
      " 36%|███▌      | 18/50 [00:02<00:04,  6.61it/s]"
     ]
    },
    {
     "name": "stdout",
     "output_type": "stream",
     "text": [
      "Loss:1.0913924954783683\n",
      "Loss:1.050595869722146\n"
     ]
    },
    {
     "name": "stderr",
     "output_type": "stream",
     "text": [
      " 40%|████      | 20/50 [00:03<00:04,  6.88it/s]"
     ]
    },
    {
     "name": "stdout",
     "output_type": "stream",
     "text": [
      "Loss:1.1133913893657308\n",
      "Loss:1.0273979348930324\n"
     ]
    },
    {
     "name": "stderr",
     "output_type": "stream",
     "text": [
      " 44%|████▍     | 22/50 [00:03<00:04,  6.78it/s]"
     ]
    },
    {
     "name": "stdout",
     "output_type": "stream",
     "text": [
      "Loss:1.077694284103972\n",
      "Loss:1.0660948372056382\n"
     ]
    },
    {
     "name": "stderr",
     "output_type": "stream",
     "text": [
      " 48%|████▊     | 24/50 [00:03<00:03,  7.17it/s]"
     ]
    },
    {
     "name": "stdout",
     "output_type": "stream",
     "text": [
      "Loss:1.0338976583440715\n",
      "Loss:1.018898967444034\n"
     ]
    },
    {
     "name": "stderr",
     "output_type": "stream",
     "text": [
      "\r",
      " 50%|█████     | 25/50 [00:03<00:04,  5.75it/s]"
     ]
    },
    {
     "name": "stdout",
     "output_type": "stream",
     "text": [
      "Loss:1.1130909099176431\n"
     ]
    },
    {
     "name": "stderr",
     "output_type": "stream",
     "text": [
      " 54%|█████▍    | 27/50 [00:04<00:04,  4.86it/s]"
     ]
    },
    {
     "name": "stdout",
     "output_type": "stream",
     "text": [
      "Loss:1.100191942484462\n",
      "Loss:1.0591953166996673\n"
     ]
    },
    {
     "name": "stderr",
     "output_type": "stream",
     "text": [
      " 58%|█████▊    | 29/50 [00:04<00:04,  5.02it/s]"
     ]
    },
    {
     "name": "stdout",
     "output_type": "stream",
     "text": [
      "Loss:1.0430969023224903\n",
      "Loss:1.100892219023808\n"
     ]
    },
    {
     "name": "stderr",
     "output_type": "stream",
     "text": [
      " 62%|██████▏   | 31/50 [00:05<00:03,  6.03it/s]"
     ]
    },
    {
     "name": "stdout",
     "output_type": "stream",
     "text": [
      "Loss:1.0842935281142152\n",
      "Loss:1.0861932515830113\n"
     ]
    },
    {
     "name": "stderr",
     "output_type": "stream",
     "text": [
      " 66%|██████▌   | 33/50 [00:05<00:02,  6.54it/s]"
     ]
    },
    {
     "name": "stdout",
     "output_type": "stream",
     "text": [
      "Loss:1.0511958697663384\n",
      "Loss:1.076794007609697\n"
     ]
    },
    {
     "name": "stderr",
     "output_type": "stream",
     "text": [
      " 70%|███████   | 35/50 [00:05<00:02,  6.45it/s]"
     ]
    },
    {
     "name": "stdout",
     "output_type": "stream",
     "text": [
      "Loss:1.087292772092475\n",
      "Loss:1.0324976583505934\n"
     ]
    },
    {
     "name": "stderr",
     "output_type": "stream",
     "text": [
      " 74%|███████▍  | 37/50 [00:06<00:02,  6.44it/s]"
     ]
    },
    {
     "name": "stdout",
     "output_type": "stream",
     "text": [
      "Loss:1.0170989674418072\n",
      "Loss:1.0675945606759563\n"
     ]
    },
    {
     "name": "stderr",
     "output_type": "stream",
     "text": [
      " 78%|███████▊  | 39/50 [00:06<00:01,  6.38it/s]"
     ]
    },
    {
     "name": "stdout",
     "output_type": "stream",
     "text": [
      "Loss:1.048896349260031\n",
      "Loss:1.0762942841434306\n"
     ]
    },
    {
     "name": "stderr",
     "output_type": "stream",
     "text": [
      " 82%|████████▏ | 41/50 [00:06<00:01,  6.52it/s]"
     ]
    },
    {
     "name": "stdout",
     "output_type": "stream",
     "text": [
      "Loss:1.1385887712469658\n",
      "Loss:1.0271979348836735\n"
     ]
    },
    {
     "name": "stderr",
     "output_type": "stream",
     "text": [
      " 86%|████████▌ | 43/50 [00:06<00:01,  7.00it/s]"
     ]
    },
    {
     "name": "stdout",
     "output_type": "stream",
     "text": [
      "Loss:1.0613953167017627\n",
      "Loss:1.0773940076108537\n"
     ]
    },
    {
     "name": "stderr",
     "output_type": "stream",
     "text": [
      " 90%|█████████ | 45/50 [00:07<00:00,  7.15it/s]"
     ]
    },
    {
     "name": "stdout",
     "output_type": "stream",
     "text": [
      "Loss:1.0508963492599985\n",
      "Loss:1.0507958697674156\n"
     ]
    },
    {
     "name": "stderr",
     "output_type": "stream",
     "text": [
      " 94%|█████████▍| 47/50 [00:07<00:00,  7.36it/s]"
     ]
    },
    {
     "name": "stdout",
     "output_type": "stream",
     "text": [
      "Loss:1.0476963492599851\n",
      "Loss:1.0433966257927882\n"
     ]
    },
    {
     "name": "stderr",
     "output_type": "stream",
     "text": [
      " 98%|█████████▊| 49/50 [00:07<00:00,  7.44it/s]"
     ]
    },
    {
     "name": "stdout",
     "output_type": "stream",
     "text": [
      "Loss:1.0320976583509238\n",
      "Loss:1.0437966257927878\n"
     ]
    },
    {
     "name": "stderr",
     "output_type": "stream",
     "text": [
      "100%|██████████| 50/50 [00:07<00:00,  6.38it/s]\n"
     ]
    },
    {
     "name": "stdout",
     "output_type": "stream",
     "text": [
      "Loss:1.0687945606764968\n",
      "('gaussian', 1.757510624854793e-07, 0.0001)\n"
     ]
    },
    {
     "data": {
      "image/png": "[encoded data removed]",
      "text/plain": [
       "<Figure size 432x288 with 1 Axes>"
      ]
     },
     "metadata": {
      "needs_background": "light"
     },
     "output_type": "display_data"
    }
   ],
   "source": [
    "# Produce Underfitting\n",
    "# Fivefold Cross validation\n",
    "# identify suitable gaussian kernels from training data quantiles\n",
    "#D = imp.sqdistmat(X_tr)\n",
    "#quantiles = np.quantile(D,[0.1,0.5, 0.9])\n",
    "params = { 'kernel': ['gaussian'], 'kernelparameter': np.logspace(-7,-4, 50), 'regularization': [0.0001]}#np.logspace(1,10, 10) }\n",
    "cvsvm = cv(X_tr, Y_tr, imp.svm_qp, params, loss_function=mean_absolute_error, nfolds=5)\n",
    "print(cvsvm.__params)\n",
    "imp.plot_boundary_2d(X_tr, Y_tr, cvsvm)"
   ]
  },
  {
   "cell_type": "code",
   "execution_count": 138,
   "metadata": {},
   "outputs": [
    {
     "name": "stdout",
     "output_type": "stream",
     "text": [
      "(100, 2)\n",
      "1.0037999998799174\n",
      "0\n",
      "('gaussian', 1.757510624854793e-07, 0.0001)\n"
     ]
    }
   ],
   "source": [
    "print(cvsvm.X_sv.shape)\n",
    "print(cvsvm.cvloss)\n",
    "print(np.sum(cvsvm.predict(X_te) == Y_te))\n",
    "print(cvsvm.__params)\n",
    "# even worser than rando guessing"
   ]
  },
  {
   "cell_type": "markdown",
   "metadata": {},
   "source": [
    "Technically, the gamma parameter is the inverse of the standard deviation of the RBF kernel (Gaussian function), which is used as similarity measure between two points. Intuitively, a small gamma value define a Gaussian function with a large variance. In this case, two points can be considered similar even if are far from each other. In the other hand, a large gamma value means define a Gaussian function with a small variance and in this case, two points are considered similar just if they are close to each other.\n",
    "\n",
    "When gamma is very small, the model is too constrained and cannot capture the complexity or “shape” of the data. The region of influence of any selected support vector would include the whole training set. The resulting model will behave similarly to a linear model with a set of hyperplanes that separate the centers of high density of any pair of two classes"
   ]
  },
  {
   "cell_type": "code",
   "execution_count": 28,
   "metadata": {},
   "outputs": [],
   "source": [
    "# ROC"
   ]
  },
  {
   "cell_type": "code",
   "execution_count": 139,
   "metadata": {},
   "outputs": [
    {
     "data": {
      "text/plain": [
       "('gaussian', 1.757510624854793e-07, 0.0001)"
      ]
     },
     "execution_count": 139,
     "metadata": {},
     "output_type": "execute_result"
    }
   ],
   "source": [
    "cvsvm.__params"
   ]
  },
  {
   "cell_type": "code",
   "execution_count": 130,
   "metadata": {},
   "outputs": [],
   "source": [
    "svm = imp.svm_qp('gaussian', 4.0949150623804273e-07, 0.0001)"
   ]
  },
  {
   "cell_type": "code",
   "execution_count": 131,
   "metadata": {},
   "outputs": [],
   "source": [
    "svm.fit(X_tr, Y_tr)"
   ]
  },
  {
   "cell_type": "code",
   "execution_count": 132,
   "metadata": {},
   "outputs": [
    {
     "data": {
      "text/plain": [
       "array([[1.17774034e-08, 1.17774034e-08, 1.17774034e-08, 1.17774034e-08,\n",
       "        1.17774034e-08, 1.17774034e-08, 1.17774034e-08, 1.17774034e-08,\n",
       "        1.17774034e-08, 1.17774034e-08, 1.17774034e-08, 1.17774034e-08,\n",
       "        1.17774034e-08, 1.17774034e-08, 1.17774034e-08, 1.17774034e-08,\n",
       "        1.17774034e-08, 1.17774034e-08, 1.17774034e-08, 1.17774034e-08,\n",
       "        1.17774034e-08, 1.17774034e-08, 1.17774034e-08, 1.17774034e-08,\n",
       "        1.17774034e-08, 1.17774034e-08, 1.17774034e-08, 1.17774034e-08,\n",
       "        1.17774034e-08, 1.17774034e-08, 1.17774034e-08, 1.17774034e-08,\n",
       "        1.17774034e-08, 1.17774034e-08, 1.17774034e-08, 1.17774034e-08,\n",
       "        1.17774034e-08, 1.17774034e-08, 1.17774034e-08, 1.17774034e-08,\n",
       "        1.17774034e-08, 1.17774034e-08, 1.17774034e-08, 1.17774034e-08,\n",
       "        1.17774034e-08, 1.17774034e-08, 1.17774034e-08, 1.17774034e-08,\n",
       "        1.17774034e-08, 1.17774034e-08, 1.17774034e-08, 1.17774034e-08,\n",
       "        1.17774034e-08, 1.17774034e-08, 1.17774034e-08, 1.17774034e-08,\n",
       "        1.17774034e-08, 1.17774034e-08, 1.17774034e-08, 1.17774034e-08,\n",
       "        1.17774034e-08, 1.17774034e-08, 1.17774034e-08, 1.17774034e-08,\n",
       "        1.17774034e-08, 1.17774034e-08, 1.17774034e-08, 1.17774034e-08,\n",
       "        1.17774034e-08, 1.17774034e-08, 1.17774034e-08, 1.17774034e-08,\n",
       "        1.17774034e-08, 1.17774034e-08, 1.17774034e-08, 1.17774034e-08,\n",
       "        1.17774034e-08, 1.17774034e-08, 1.17774034e-08, 1.17774034e-08,\n",
       "        1.17774034e-08, 1.17774034e-08, 1.17774034e-08, 1.17774034e-08,\n",
       "        1.17774034e-08, 1.17774034e-08, 1.17774034e-08, 1.17774034e-08,\n",
       "        1.17774034e-08, 1.17774034e-08, 1.17774034e-08, 1.17774034e-08,\n",
       "        1.17774034e-08, 1.17774034e-08, 1.17774034e-08, 1.17774034e-08,\n",
       "        1.17774034e-08, 1.17774034e-08, 1.17774034e-08, 1.17774034e-08]])"
      ]
     },
     "execution_count": 132,
     "metadata": {},
     "output_type": "execute_result"
    }
   ],
   "source": [
    "svm.predict(X_te)"
   ]
  },
  {
   "cell_type": "code",
   "execution_count": 152,
   "metadata": {},
   "outputs": [],
   "source": [
    "def ROC (y_true,xtrain,ytrain,xtest,params,method,biases):\n",
    "    tpr = [np.zeros(1)]\n",
    "    fpr = [np.zeros(1)]\n",
    "    threshold = 0\n",
    "    pos_label=-1\n",
    "    neg = np.sum(np.array(y_true.flatten() == -1))\n",
    "    pos = len(y_true) - neg\n",
    "    #y_true=(y_true==pos_label) #boolean vec of true labels\n",
    "    model = method(params[0],params[1],params[2])\n",
    "    model.fit(X_tr,Y_tr)\n",
    "    y_pred = model.predict(X_te)\n",
    "    for bias in biases:\n",
    "        prediction = y_pred.T + bias > threshold\n",
    "        tpr.append(prediction[y_true == 1].sum(axis=0) / pos)\n",
    "        fpr.append(prediction[y_true == -1, :].sum(axis=0) / neg)\n",
    "    tpr = np.concatenate(tpr)\n",
    "    fpr = np.concatenate(fpr)\n",
    "    plt.plot(fpr,tpr,label='SVM')\n",
    "    plt.plot(np.arange(0,1.1,0.1),np.arange(0,1.1,0.1),label='Random guesses')\n",
    "    plt.ylabel('True Positive Rate (TPR)')\n",
    "    plt.xlabel('False Positive Rate (FPR)')\n",
    "    plt.title('ROC Curve')\n",
    "    plt.legend()\n",
    "    "
   ]
  },
  {
   "cell_type": "code",
   "execution_count": 153,
   "metadata": {},
   "outputs": [
    {
     "data": {
      "image/png": "[encoded data removed]",
      "text/plain": [
       "<Figure size 432x288 with 1 Axes>"
      ]
     },
     "metadata": {
      "needs_background": "light"
     },
     "output_type": "display_data"
    }
   ],
   "source": [
    "ROC(Y_te,X_tr,Y_tr,X_te,params = svm.__params, method = imp.svm_qp,biases = np.linspace(-1,2,200))"
   ]
  },
  {
   "cell_type": "code",
   "execution_count": 142,
   "metadata": {},
   "outputs": [
    {
     "data": {
      "text/plain": [
       "('gaussian', 1.757510624854793e-07, 0.0001)"
      ]
     },
     "execution_count": 142,
     "metadata": {},
     "output_type": "execute_result"
    }
   ],
   "source": [
    "svm.__params"
   ]
  },
  {
   "cell_type": "code",
   "execution_count": 99,
   "metadata": {},
   "outputs": [],
   "source": [
    "#CHANGE POS LABEL TO -1\n",
    "def auc(y_true,y_pred,plot=False):\n",
    "    #1. FIND ROC CURVE POINTS & FPR/TPR\n",
    "    pos_label=-1\n",
    "    y_true=(y_true==pos_label) #boolean vec of true labels\n",
    "\n",
    "    #arrange predictions in descending order (indexes)\n",
    "    descending_scores=np.argsort(y_pred,kind='mergesort')[::-1]\n",
    "    #ascending_scores=np.argsort(y_pred,kind='mergesort')[::1]\n",
    "    y_pred=y_pred[descending_scores]\n",
    "    y_true=y_true[descending_scores]\n",
    "\n",
    "    #determine distinct values to create an index of decreasing values\n",
    "    #'predicted value in y_pred where lower values tend to correspond to label -1 and higher values to label +1'\n",
    "    distinct_values_idx=np.where(np.diff(y_pred))[0]#length n-1 as calculating differences\n",
    "    distinct_descending_scores_idx=np.r_[distinct_values_idx,y_true.size-1]# add last entry\n",
    "\n",
    "    tps=np.cumsum(y_true)[distinct_descending_scores_idx]#cumulative sum of true positives using idx\n",
    "    fps=1-tps+distinct_descending_scores_idx #same as cum sum of false positives\n",
    "\n",
    "    #add 0,0 position for ROC curve\n",
    "    tps=np.r_[0,tps]\n",
    "    fps=np.r_[0,fps]\n",
    "\n",
    "    #false/true positive rate\n",
    "    fpr=fps/fps[-1] #rate=sum/max\n",
    "    tpr=tps/tps[-1]\n",
    "    \n",
    "    #2.PLOT ROC CURVE POINTS\n",
    "    if plot==True:\n",
    "        plt.plot(fpr,tpr,label='Algorithm')\n",
    "        plt.plot(np.arange(0,1.1,0.1),np.arange(0,1.1,0.1),label='Random guesses')\n",
    "        plt.ylabel('True Positive Rate (TPR)')\n",
    "        plt.xlabel('False Positive Rate (FPR)')\n",
    "        plt.title('ROC Curve')\n",
    "        plt.legend()\n",
    "\n",
    "    #3. CALCULATE AUC\n",
    "    #reshape needed\n",
    "    fpr=fpr.reshape(1,fpr.shape[0])\n",
    "    tpr=tpr.reshape(1,tpr.shape[0])\n",
    "    \n",
    "    #assume positive area\n",
    "    end=1\n",
    "    #check if negative area (good discrimination, just switch labels)\n",
    "    diff_fpr=np.diff(fpr)\n",
    "    if np.all(diff_fpr<=0):\n",
    "        end=-1\n",
    "    #calculate area using trapezoidal approach\n",
    "    area=end*np.trapz(tpr,fpr)\n",
    "\n",
    "    return area"
   ]
  },
  {
   "cell_type": "code",
   "execution_count": 104,
   "metadata": {},
   "outputs": [],
   "source": [
    "svm.b = 1"
   ]
  },
  {
   "cell_type": "code",
   "execution_count": 105,
   "metadata": {},
   "outputs": [
    {
     "data": {
      "text/plain": [
       "1"
      ]
     },
     "execution_count": 105,
     "metadata": {},
     "output_type": "execute_result"
    }
   ],
   "source": [
    "svm.b"
   ]
  },
  {
   "cell_type": "code",
   "execution_count": 106,
   "metadata": {},
   "outputs": [],
   "source": [
    "y_pred = svm.predict(X_te)\n"
   ]
  },
  {
   "cell_type": "code",
   "execution_count": 108,
   "metadata": {},
   "outputs": [
    {
     "data": {
      "text/plain": [
       "array([[ 1.,  1.,  1.,  1.,  1.,  1.,  1.,  1.,  1.,  1.,  1.,  1.,  1.,\n",
       "         1.,  1.,  1.,  1.,  1.,  1.,  1.,  1.,  1.,  1.,  1.,  1.,  1.,\n",
       "         1.,  1.,  1.,  1.,  1.,  1.,  1.,  1.,  1.,  1.,  1.,  1.,  1.,\n",
       "         1.,  1.,  1.,  1.,  1.,  1.,  1.,  1.,  1.,  1., -1.,  1.,  1.,\n",
       "        -1.,  1.,  1.,  1.,  1.,  1.,  1.,  1.,  1., -1.,  1., -1.,  1.,\n",
       "         1.,  1.,  1., -1.,  1., -1.,  1.,  1., -1.,  1.,  1., -1.,  1.,\n",
       "         1.,  1.,  1.,  1.,  1.,  1., -1.,  1.,  1.,  1.,  1.,  1.,  1.,\n",
       "         1., -1.,  1., -1.,  1.,  1.,  1.,  1.,  1.]])"
      ]
     },
     "execution_count": 108,
     "metadata": {},
     "output_type": "execute_result"
    }
   ],
   "source": [
    "y_pred"
   ]
  },
  {
   "cell_type": "code",
   "execution_count": 107,
   "metadata": {},
   "outputs": [
    {
     "name": "stderr",
     "output_type": "stream",
     "text": [
      "/Users/leo/anaconda3/envs/Python37/lib/python3.7/site-packages/ipykernel_launcher.py:27: RuntimeWarning: invalid value encountered in true_divide\n"
     ]
    },
    {
     "data": {
      "text/plain": [
       "array([nan])"
      ]
     },
     "execution_count": 107,
     "metadata": {},
     "output_type": "execute_result"
    },
    {
     "data": {
      "image/png": "[encoded data removed]",
      "text/plain": [
       "<Figure size 432x288 with 1 Axes>"
      ]
     },
     "metadata": {
      "needs_background": "light"
     },
     "output_type": "display_data"
    }
   ],
   "source": [
    "auc(Y_te,X_te,True)"
   ]
  },
  {
   "cell_type": "code",
   "execution_count": 58,
   "metadata": {},
   "outputs": [],
   "source": [
    "def roc_fun(y_true, y_pred, biases=20, threshold=0):\n",
    "    \"\"\"\n",
    "    ROC function used to plot average ROC curve for assignment 4c.\n",
    "\n",
    "    It creates a set of predictions for each bias and then average over biases to get an average TPR and FPR.\n",
    "\n",
    "    This is then used a loss function in CV.\n",
    "    \"\"\"\n",
    "    y_pred = y_pred[:, np.newaxis]\n",
    "\n",
    "    b = np.linspace(-1, 1, biases)\n",
    "    prediction = (y_pred - b) > threshold\n",
    "\n",
    "    neg = np.sum(np.array(y_true.flatten() == -1))\n",
    "    pos = len(y_true) - neg\n",
    "\n",
    "    tpr = prediction[y_true.flatten() == 1, :].sum(axis=0) / pos\n",
    "    # print('tpr\\n',np.shape(tpr))\n",
    "    fpr = prediction[y_true.flatten() == -1, :].sum(axis=0) / neg\n",
    "    # print(fpr)\n",
    "    result = np.squeeze(np.array([fpr, tpr]))\n",
    "\n",
    "    return result\n"
   ]
  },
  {
   "cell_type": "code",
   "execution_count": 59,
   "metadata": {},
   "outputs": [
    {
     "data": {
      "text/plain": [
       "(100,)"
      ]
     },
     "execution_count": 59,
     "metadata": {},
     "output_type": "execute_result"
    }
   ],
   "source": [
    "ytrain.shape"
   ]
  },
  {
   "cell_type": "code",
   "execution_count": null,
   "metadata": {},
   "outputs": [],
   "source": []
  },
  {
   "cell_type": "code",
   "execution_count": 60,
   "metadata": {},
   "outputs": [
    {
     "name": "stderr",
     "output_type": "stream",
     "text": [
      "  0%|          | 0/1 [00:00<?, ?it/s]"
     ]
    },
    {
     "name": "stdout",
     "output_type": "stream",
     "text": [
      "Xtrain\n",
      " (100, 2)\n",
      "ytrain\n",
      " (100,)\n"
     ]
    },
    {
     "name": "stderr",
     "output_type": "stream",
     "text": [
      "\n"
     ]
    },
    {
     "ename": "IndexError",
     "evalue": "boolean index did not match indexed array along dimension 0; dimension is 1 but corresponding boolean dimension is 20",
     "output_type": "error",
     "traceback": [
      "\u001b[0;31m---------------------------------------------------------------------------\u001b[0m",
      "\u001b[0;31mIndexError\u001b[0m                                Traceback (most recent call last)",
      "\u001b[0;32m<ipython-input-60-bb57a8d5cadc>\u001b[0m in \u001b[0;36m<module>\u001b[0;34m\u001b[0m\n\u001b[1;32m     12\u001b[0m                   'regularization': [2.7825594022071268]}\n\u001b[1;32m     13\u001b[0m     \u001b[0;31m# print(params['kernel'])\u001b[0m\u001b[0;34m\u001b[0m\u001b[0;34m\u001b[0m\u001b[0;34m\u001b[0m\u001b[0m\n\u001b[0;32m---> 14\u001b[0;31m \u001b[0mcvkrr\u001b[0m \u001b[0;34m=\u001b[0m \u001b[0mcv\u001b[0m\u001b[0;34m(\u001b[0m\u001b[0mxtrain\u001b[0m\u001b[0;34m,\u001b[0m \u001b[0mytrain\u001b[0m\u001b[0;34m,\u001b[0m \u001b[0mimp\u001b[0m\u001b[0;34m.\u001b[0m\u001b[0msvm_qp\u001b[0m\u001b[0;34m,\u001b[0m \u001b[0mparams\u001b[0m\u001b[0;34m,\u001b[0m \u001b[0mloss_function\u001b[0m\u001b[0;34m=\u001b[0m\u001b[0mroc_fun\u001b[0m\u001b[0;34m,\u001b[0m \u001b[0mnfolds\u001b[0m\u001b[0;34m=\u001b[0m\u001b[0mfold\u001b[0m\u001b[0;34m,\u001b[0m \u001b[0mnrepetitions\u001b[0m\u001b[0;34m=\u001b[0m\u001b[0;36m5\u001b[0m\u001b[0;34m)\u001b[0m\u001b[0;34m\u001b[0m\u001b[0;34m\u001b[0m\u001b[0m\n\u001b[0m\u001b[1;32m     15\u001b[0m \u001b[0;34m\u001b[0m\u001b[0m\n\u001b[1;32m     16\u001b[0m \u001b[0mloss\u001b[0m \u001b[0;34m=\u001b[0m \u001b[0mcvkrr\u001b[0m\u001b[0;34m.\u001b[0m\u001b[0mcvloss\u001b[0m\u001b[0;34m\u001b[0m\u001b[0;34m\u001b[0m\u001b[0m\n",
      "\u001b[0;32m<ipython-input-3-193e9f00be77>\u001b[0m in \u001b[0;36mcv\u001b[0;34m(X, y, method, params, loss_function, nfolds, nrepetitions)\u001b[0m\n\u001b[1;32m     25\u001b[0m                 \u001b[0mmodel\u001b[0m\u001b[0;34m.\u001b[0m\u001b[0mfit\u001b[0m\u001b[0;34m(\u001b[0m\u001b[0mX_j\u001b[0m\u001b[0;34m,\u001b[0m \u001b[0my_j\u001b[0m\u001b[0;34m)\u001b[0m\u001b[0;34m\u001b[0m\u001b[0;34m\u001b[0m\u001b[0m\n\u001b[1;32m     26\u001b[0m                 \u001b[0my_pred\u001b[0m \u001b[0;34m=\u001b[0m \u001b[0mmodel\u001b[0m\u001b[0;34m.\u001b[0m\u001b[0mpredict\u001b[0m\u001b[0;34m(\u001b[0m\u001b[0mX\u001b[0m\u001b[0;34m[\u001b[0m\u001b[0mpart\u001b[0m\u001b[0;34m[\u001b[0m\u001b[0mj\u001b[0m\u001b[0;34m]\u001b[0m\u001b[0;34m.\u001b[0m\u001b[0mastype\u001b[0m\u001b[0;34m(\u001b[0m\u001b[0;34m'int'\u001b[0m\u001b[0;34m)\u001b[0m\u001b[0;34m]\u001b[0m\u001b[0;34m)\u001b[0m\u001b[0;34m\u001b[0m\u001b[0;34m\u001b[0m\u001b[0m\n\u001b[0;32m---> 27\u001b[0;31m                 \u001b[0me\u001b[0m \u001b[0;34m=\u001b[0m \u001b[0me\u001b[0m \u001b[0;34m+\u001b[0m \u001b[0mloss_function\u001b[0m\u001b[0;34m(\u001b[0m\u001b[0my\u001b[0m\u001b[0;34m[\u001b[0m\u001b[0mpart\u001b[0m\u001b[0;34m[\u001b[0m\u001b[0mj\u001b[0m\u001b[0;34m]\u001b[0m\u001b[0;34m.\u001b[0m\u001b[0mastype\u001b[0m\u001b[0;34m(\u001b[0m\u001b[0;34m'int'\u001b[0m\u001b[0;34m)\u001b[0m\u001b[0;34m]\u001b[0m\u001b[0;34m,\u001b[0m \u001b[0my_pred\u001b[0m\u001b[0;34m)\u001b[0m\u001b[0;34m\u001b[0m\u001b[0;34m\u001b[0m\u001b[0m\n\u001b[0m\u001b[1;32m     28\u001b[0m         \u001b[0me\u001b[0m \u001b[0;34m=\u001b[0m \u001b[0me\u001b[0m \u001b[0;34m/\u001b[0m \u001b[0;34m(\u001b[0m\u001b[0mnfolds\u001b[0m \u001b[0;34m*\u001b[0m \u001b[0mnrepetitions\u001b[0m\u001b[0;34m)\u001b[0m\u001b[0;34m\u001b[0m\u001b[0;34m\u001b[0m\u001b[0m\n\u001b[1;32m     29\u001b[0m         \u001b[0mprint\u001b[0m\u001b[0;34m(\u001b[0m\u001b[0;34m'Loss:'\u001b[0m \u001b[0;34m+\u001b[0m \u001b[0mstr\u001b[0m\u001b[0;34m(\u001b[0m\u001b[0me\u001b[0m\u001b[0;34m)\u001b[0m\u001b[0;34m)\u001b[0m\u001b[0;34m\u001b[0m\u001b[0;34m\u001b[0m\u001b[0m\n",
      "\u001b[0;32m<ipython-input-58-e6c82c98ba7f>\u001b[0m in \u001b[0;36mroc_fun\u001b[0;34m(y_true, y_pred, biases, threshold)\u001b[0m\n\u001b[1;32m     15\u001b[0m     \u001b[0mpos\u001b[0m \u001b[0;34m=\u001b[0m \u001b[0mlen\u001b[0m\u001b[0;34m(\u001b[0m\u001b[0my_true\u001b[0m\u001b[0;34m)\u001b[0m \u001b[0;34m-\u001b[0m \u001b[0mneg\u001b[0m\u001b[0;34m\u001b[0m\u001b[0;34m\u001b[0m\u001b[0m\n\u001b[1;32m     16\u001b[0m \u001b[0;34m\u001b[0m\u001b[0m\n\u001b[0;32m---> 17\u001b[0;31m     \u001b[0mtpr\u001b[0m \u001b[0;34m=\u001b[0m \u001b[0mprediction\u001b[0m\u001b[0;34m[\u001b[0m\u001b[0my_true\u001b[0m\u001b[0;34m.\u001b[0m\u001b[0mflatten\u001b[0m\u001b[0;34m(\u001b[0m\u001b[0;34m)\u001b[0m \u001b[0;34m==\u001b[0m \u001b[0;36m1\u001b[0m\u001b[0;34m,\u001b[0m \u001b[0;34m:\u001b[0m\u001b[0;34m]\u001b[0m\u001b[0;34m.\u001b[0m\u001b[0msum\u001b[0m\u001b[0;34m(\u001b[0m\u001b[0maxis\u001b[0m\u001b[0;34m=\u001b[0m\u001b[0;36m0\u001b[0m\u001b[0;34m)\u001b[0m \u001b[0;34m/\u001b[0m \u001b[0mpos\u001b[0m\u001b[0;34m\u001b[0m\u001b[0;34m\u001b[0m\u001b[0m\n\u001b[0m\u001b[1;32m     18\u001b[0m     \u001b[0;31m# print('tpr\\n',np.shape(tpr))\u001b[0m\u001b[0;34m\u001b[0m\u001b[0;34m\u001b[0m\u001b[0;34m\u001b[0m\u001b[0m\n\u001b[1;32m     19\u001b[0m     \u001b[0mfpr\u001b[0m \u001b[0;34m=\u001b[0m \u001b[0mprediction\u001b[0m\u001b[0;34m[\u001b[0m\u001b[0my_true\u001b[0m\u001b[0;34m.\u001b[0m\u001b[0mflatten\u001b[0m\u001b[0;34m(\u001b[0m\u001b[0;34m)\u001b[0m \u001b[0;34m==\u001b[0m \u001b[0;34m-\u001b[0m\u001b[0;36m1\u001b[0m\u001b[0;34m,\u001b[0m \u001b[0;34m:\u001b[0m\u001b[0;34m]\u001b[0m\u001b[0;34m.\u001b[0m\u001b[0msum\u001b[0m\u001b[0;34m(\u001b[0m\u001b[0maxis\u001b[0m\u001b[0;34m=\u001b[0m\u001b[0;36m0\u001b[0m\u001b[0;34m)\u001b[0m \u001b[0;34m/\u001b[0m \u001b[0mneg\u001b[0m\u001b[0;34m\u001b[0m\u001b[0;34m\u001b[0m\u001b[0m\n",
      "\u001b[0;31mIndexError\u001b[0m: boolean index did not match indexed array along dimension 0; dimension is 1 but corresponding boolean dimension is 20"
     ]
    }
   ],
   "source": [
    "#4C - PLOT ROC CURVES FOR VARYING BIASES\n",
    "\n",
    "xtrain = X_tr\n",
    "ytrain = Y_tr\n",
    "fold = 5\n",
    "    \n",
    "print('Xtrain\\n', xtrain.shape)\n",
    "print('ytrain\\n', ytrain.shape)\n",
    "\n",
    "params = {'kernel':['gaussian'],\n",
    "                  'kernelparameter': [0.3727593720314938],\n",
    "                  'regularization': [2.7825594022071268]}\n",
    "    # print(params['kernel'])\n",
    "cvkrr = cv(xtrain, ytrain, imp.svm_qp, params, loss_function=roc_fun, nfolds=fold, nrepetitions=5)\n",
    "    \n",
    "loss = cvkrr.cvloss\n",
    "    # print('fpr\\n',loss[0])\n",
    "    # print('tpr\\n',loss[1])\n",
    "    # print(loss)\n",
    "\n",
    "fpr = np.append(loss[0], 0)\n",
    "fpr = np.insert(fpr, 0, 1)\n",
    "\n",
    "tpr = np.append(loss[1], 0)\n",
    "tpr = np.insert(tpr, 0, 1)\n",
    "\n",
    "# plot ROC fun\n",
    "plt.figure(figsize=(4.5, 4.5))\n",
    "plt.plot(fpr, tpr, label='KRR algorithm')\n",
    "plt.plot(np.arange(0, 1.1, 0.1), np.arange(0, 1.1, 0.1), label='Random guess')\n",
    "plt.ylabel('True Positive Rate (TPR)')\n",
    "plt.xlabel('False Positive Rate (FPR)')\n",
    "plt.title('%s dataset\\'s average ROC curve from a varying bias' % dataset)\n",
    "plt.legend()\n"
   ]
  },
  {
   "cell_type": "code",
   "execution_count": 52,
   "metadata": {},
   "outputs": [],
   "source": [
    "from cvxopt.solvers import qp, options\n",
    "from cvxopt import matrix as cvxmatrix\n",
    "class svm_qp():\n",
    "    \"\"\" Support Vector Machines via Quadratic Programming \"\"\"\n",
    "    options['show_progress'] = False\n",
    "    \n",
    "    def __init__(self, kernel='linear', kernelparameter=1., C=1.):\n",
    "        self.kernel = kernel\n",
    "        self.kernelparameter = kernelparameter\n",
    "        self.C = C\n",
    "        self.alpha_sv = None\n",
    "        self.b = None\n",
    "        self.X_sv = None\n",
    "        self.Y_sv = None\n",
    "        \n",
    "    \n",
    "    def fit(self, X, Y):\n",
    "\n",
    "        # INSERT_CODE\n",
    "        \n",
    "        # Here you have to set the matrices as in the general QP problem\n",
    "        #P = \n",
    "        #q = \n",
    "        #G = \n",
    "        #h = \n",
    "        #A =   # hint: this has to be a row vector\n",
    "        #b =   # hint: this has to be a scalar\n",
    "        \n",
    "        self.X_sv = X\n",
    "        self.Y_sv = Y\n",
    "        self.__ydim = Y.shape[0]\n",
    "        \n",
    "        # reshape ytrain\n",
    "        self.Y_sv = self.Y_sv.reshape(self.__ydim,-1)\n",
    "\n",
    "        \n",
    "        # calculate kernelmatrix\n",
    "        #if self.kernel == 'linear':\n",
    "        #    self.__linearKernel(X)\n",
    "        #elif self.kernel == 'polynomial':\n",
    "        #    self.__polynomialKernel(X)\n",
    "        #elif self.kernel == 'gaussian':\n",
    "        #    self.__gaussianKernel(X)\n",
    "        #else:\n",
    "        # print(\"\"\"The following kernel {} is not known. Please use either 'linear' , 'polynomial' or 'gaussian'.\"\"\".format(kernel))\n",
    "        #K = np.zeros((self.__ydim, self.__ydim))\n",
    "        #for i in range(self.__ydim):\n",
    "        #    for j in range(self.__ydim):\n",
    "        #        #K[i,j] = np.exp(-np.linalg.norm(X[i].reshape(-1,1)-X[j].reshape(-1,1))**2 / (2 * (1.1513953993264456 ** 2)))\n",
    "        #        K[i,j] =buildKernel(self.X_sv.T[i].reshape(-1,1), self.X_sv.T[j].reshape(-1,1), kernel=self.kernel, kernelparameter=self.kernelparameter)\n",
    "        #self.kernelmatrix = K\n",
    "        self.kernelmatrix = buildKernel(self.X_sv.T, kernel = self.kernel, kernelparameter = self.kernelparameter)\n",
    "        \n",
    "        self.P = (self.Y_sv@self.Y_sv.T)*self.kernelmatrix\n",
    "        self.q = -1*np.ones((self.__ydim,1)) #y_train has the same length as X_train\n",
    "        self.A = self.Y_sv.T\n",
    "        self.b = 0\n",
    "        if self.C is None: \n",
    "            # constraint for evrry every alpha: 0 =< alpha\n",
    "            # use matrix notation\n",
    "            # QP solver wants it: Gx =< h, where h expresses the 0 of the condition\n",
    "            # to foollow the QP_solver formulation contraint in G expressed by -1\n",
    "            self.G = -1*np.identity(self.__ydim)\n",
    "            self.h = np.zeros(self.__ydim)\n",
    "        else:\n",
    "            # constraint for every alpha: 0 =< alpha =< C\n",
    "            # use matrix notation\n",
    "            # QP solver wants it: Gx =< h, hence h expresses the upper and lower bound of the condition -> h_size = 2n x 1\n",
    "            # G of size 2n x n \n",
    "            # first n rows contain the constraint 0 =< alpha -> in G expressed by -1, in h with 0\n",
    "            # second n rows contain the constraint alpha =< C -> in G expressed by 1, in h with C\n",
    "            self.G = np.vstack((np.identity(self.__ydim),np.diag(np.ones(self.__ydim) * -1)))\n",
    "            self.h = np.hstack((self.C*np.ones(self.__ydim),np.zeros(self.__ydim))).reshape(-1,1)\n",
    "        # this is already implemented so you don't have to\n",
    "        # read throught the cvxopt manual\n",
    "        self.alpha = np.array(qp(cvxmatrix(self.P, tc='d'),\n",
    "                            cvxmatrix(self.q, tc='d'),\n",
    "                            cvxmatrix(self.G, tc='d'),\n",
    "                            cvxmatrix(self.h, tc='d'),\n",
    "                            cvxmatrix(self.A, tc='d'),\n",
    "                            cvxmatrix(self.b, tc='d'))['x']).flatten()\n",
    "        # Support vectors have non zero lagrange multipliers and are smaller than C/m\n",
    "        self.sv = np.logical_and(self.alpha > 1e-5, self.alpha < np.round(self.C,5)) #treshold 1e-5\n",
    "        self.alpha_sv = self.alpha[self.sv]\n",
    "        \n",
    "        self.X_sv = self.X_sv[self.sv]\n",
    "        self.Y_sv = self.Y_sv[self.sv]\n",
    "        # calculation of bias b\n",
    "        \n",
    "        # calculate kernelmatrix for X_sv, makes it independet of the choosen kernel\n",
    "        \n",
    "        #if self.kernel == 'linear':\n",
    "        #    self.__linearKernel(self.X_sv)\n",
    "        #elif self.kernel == 'polynomial':\n",
    "        #    self.__polynomialKernel(self.X_sv)\n",
    "        #elif self.kernel == 'gaussian':\n",
    "        #    self.__gaussianKernel(self.X_sv)\n",
    "        self.kernelmatrix = buildKernel(self.X_sv, self.X_sv,kernel = self.kernel, kernelparameter = self.kernelparameter)\n",
    "        #K = np.zeros((len(self.alpha_sv), len(self.alpha_sv)))\n",
    "        #for i in range(len(self.alpha_sv)):\n",
    "        #    for j in range(len(self.alpha_sv)):\n",
    "        #        #K[i,j] = np.exp(-np.linalg.norm(X[i].reshape(-1,1)-X[j].reshape(-1,1))**2 / (2 * (1.1513953993264456 ** 2)))\n",
    "        #        K[i,j] =buildKernel(self.X_sv.T[i].reshape(-1,1), self.X_sv.T[j].reshape(-1,1), kernel=self.kernel, kernelparameter=self.kernelparameter)\n",
    "        #self.kernelmatrix = K\n",
    "        \n",
    "        \n",
    "        # b = mean(y[sv] - sum(alpha*y*kernel(X_tr,X[sv]))\n",
    "        # w is expressed by sum alpha*y*X_tr , usually it would be multiplied with X[sv].T for linear kernels\n",
    "        # but because different kernels can be used, the kernel way is used \n",
    "        \n",
    "        # for all data points\n",
    "        #self.b = np.mean(self.Y_sv-(alpha.reshape(-1,1)*self.__ytrain).T@self.kernelmatrix)\n",
    "        \n",
    "        # use only sv \n",
    "        #self.b = np.mean(self.Y_sv-(self.alpha_sv.reshape(-1,1)*self.Y_sv).T@(self.kernelmatrix))\n",
    "        \n",
    "    def predict(self, X):\n",
    "\n",
    "        # INSERT_CODE\n",
    "        \n",
    "        # calculate kernelmatrix\n",
    "        #if self.kernel == 'linear':\n",
    "        #    self.__linearKernel(X)\n",
    "        #elif self.kernel == 'polynomial':\n",
    "        #    self.__polynomialKernel(X)\n",
    "        #elif self.kernel == 'gaussian':\n",
    "        #    self.__gaussianKernel(X)\n",
    "\n",
    "        self.kernelmatrix = buildKernel(self.X_sv.T,X.T, kernel = self.kernel, kernelparameter = self.kernelparameter)\n",
    "        self.yhat = np.sign((self.alpha_sv.reshape(-1,1)*self.Y_sv).T @ self.kernelmatrix + self.b)\n",
    "\n",
    "        return self.yhat\n",
    "    \n",
    "    def __linearKernel(self, Y):\n",
    "        self.kernelmatrix = self.X_sv.dot(Y.T)\n",
    "\n",
    "    def __polynomialKernel(self, Y):\n",
    "        self.kernelmatrix = (self.X_sv.dot(Y.T) + 1) ** self.kernelparameter\n",
    "\n",
    "    def __gaussianKernel(self, Y):\n",
    "        X_len, X_width = self.X_sv.shape\n",
    "        self.kernelmatrix = np.exp(-(\n",
    "                    np.diagonal(self.X_sv.dot(self.X_sv.T)).reshape(X_len, 1) - 2 * self.X_sv.dot(\n",
    "                Y.T) + np.diagonal(Y.dot(Y.T))) / (2 * (self.kernelparameter ** 2)))\n",
    "\n",
    "\n",
    "\n",
    "# This is already implemented for your convenience\n",
    "class svm_sklearn():\n",
    "    \"\"\" SVM via scikit-learn \"\"\"\n",
    "    def __init__(self, kernel='linear', kernelparameter=1., C=1.):\n",
    "        if kernel == 'gaussian':\n",
    "            kernel = 'rbf'\n",
    "        self.clf = sklearn.svm.SVC(C=C,\n",
    "                                   kernel=kernel,\n",
    "                                   gamma=1./(1./2. * kernelparameter ** 2),\n",
    "                                   degree=kernelparameter,\n",
    "                                   coef0=kernelparameter)\n",
    "\n",
    "    def fit(self, X, y):\n",
    "        self.clf.fit(X, y)\n",
    "        self.X_sv = X[self.clf.support_, :]\n",
    "        self.y_sv = y[self.clf.support_]\n",
    "\n",
    "    def predict(self, X):\n",
    "        return self.clf.decision_function(X)\n",
    "\n",
    "\n",
    "def plot_boundary_2d(X, y, model):\n",
    "    \"\"\"\n",
    "    Plots a 2 dimensional boundary of a model.\n",
    "\n",
    "    Inputs:\n",
    "    X = 2d data array (nx2)\n",
    "    y = labels (nx1)\n",
    "    model = model (typically SVM or neural net)\n",
    "    \"\"\"\n",
    "    # 1. plot points X\n",
    "    plt.scatter(X.T[0][np.argwhere(y == 1)], X.T[1][np.argwhere(y == 1)], c='b', label='Positive class')\n",
    "    plt.scatter(X.T[0][np.argwhere(y == -1)], X.T[1][np.argwhere(y == -1)], c='r', label='Negative class')\n",
    "\n",
    "    # 2. mark support vectors with a cross if svm\n",
    "    if isinstance(model, svm_sklearn):\n",
    "        plt.scatter(model.X_sv.T[0], model.X_sv.T[1], s=80, c='y', marker='x', label='Support vectors')\n",
    "\n",
    "    # 3. plot separating hyperplane\n",
    "    # 3a. create grid of predictions\n",
    "    x_max = np.amax(X, axis=0)\n",
    "    x_min = np.amin(X, axis=0)\n",
    "    x0 = np.linspace(x_min[0], x_max[0], 50)\n",
    "    x1 = np.linspace(x_min[1], x_max[1], 50)\n",
    "    x0v, x1v = np.meshgrid(x0, x1)\n",
    "    Xv = np.squeeze(np.array((x0v.reshape(2500, 1), x1v.reshape(2500, 1))))\n",
    "    grid_pred = model.predict(Xv.T)\n",
    "    # 3b plot level 0 contour line\n",
    "    plt.contour(x0, x1, grid_pred.reshape(50, 50), levels=0)\n",
    "\n",
    "    # format plot\n",
    "    plt.ylabel('X1')\n",
    "    plt.xlabel('X0')\n",
    "    plt.title('2D visualisation of model classifications with a separating hyperplane')\n",
    "    plt.legend()\n",
    "    plt.show()\n",
    "\n",
    "\n",
    "\n",
    "\n",
    "def sqdistmat(X, Y=False):\n",
    "    if Y is False:\n",
    "        X2 = sum(X**2, 0)[np.newaxis, :]\n",
    "        D2 = X2 + X2.T - 2*np.dot(X.T, X)\n",
    "    else:\n",
    "        X2 = sum(X**2, 0)[:, np.newaxis]\n",
    "        Y2 = sum(Y**2, 0)[np.newaxis, :]\n",
    "        D2 = X2 + Y2 - 2*np.dot(X.T, Y)\n",
    "    return D2\n",
    "\n",
    "\n",
    "def buildKernel(X, Y=False, kernel='linear', kernelparameter=0):\n",
    "    d, n = X.shape\n",
    "    if isinstance(Y,bool) and Y is False:\n",
    "        Y = X\n",
    "    if kernel == 'linear':\n",
    "        K = np.dot(X.T, Y)\n",
    "    elif kernel == 'polynomial':\n",
    "        K = np.dot(X.T, Y) + 1\n",
    "        K = K**kernelparameter\n",
    "    elif kernel == 'gaussian':\n",
    "        K = sqdistmat(X, Y)\n",
    "        K = np.exp(K / (-2 * kernelparameter**2))\n",
    "    else:\n",
    "        raise Exception('unspecified kernel')\n",
    "    return K\n"
   ]
  },
  {
   "cell_type": "code",
   "execution_count": 8,
   "metadata": {},
   "outputs": [],
   "source": [
    "test=imp.svm_qp(kernel='gaussian', kernelparameter=1.1513953993264456, C=0.46415888336127725)"
   ]
  },
  {
   "cell_type": "code",
   "execution_count": 9,
   "metadata": {},
   "outputs": [],
   "source": [
    "test.fit(X_tr,Y_tr)"
   ]
  },
  {
   "cell_type": "code",
   "execution_count": 10,
   "metadata": {},
   "outputs": [
    {
     "ename": "AttributeError",
     "evalue": "'svm_qp' object has no attribute 'P'",
     "output_type": "error",
     "traceback": [
      "\u001b[0;31m---------------------------------------------------------------------------\u001b[0m",
      "\u001b[0;31mAttributeError\u001b[0m                            Traceback (most recent call last)",
      "\u001b[0;32m<ipython-input-10-4fb4117dad59>\u001b[0m in \u001b[0;36m<module>\u001b[0;34m\u001b[0m\n\u001b[0;32m----> 1\u001b[0;31m \u001b[0mtest\u001b[0m\u001b[0;34m.\u001b[0m\u001b[0mP\u001b[0m\u001b[0;34m\u001b[0m\u001b[0;34m\u001b[0m\u001b[0m\n\u001b[0m",
      "\u001b[0;31mAttributeError\u001b[0m: 'svm_qp' object has no attribute 'P'"
     ]
    }
   ],
   "source": [
    "test.P"
   ]
  },
  {
   "cell_type": "code",
   "execution_count": 39,
   "metadata": {},
   "outputs": [
    {
     "data": {
      "text/plain": [
       "array([[ 1.        , -0.01375263, -0.59032474, ...,  0.15609541,\n",
       "        -0.46997846,  0.66332946],\n",
       "       [-0.01375263,  1.        ,  0.12277116, ..., -0.56597603,\n",
       "         0.10591244, -0.10439167],\n",
       "       [-0.59032474,  0.12277116,  1.        , ..., -0.47238401,\n",
       "         0.94562385, -0.72415769],\n",
       "       ...,\n",
       "       [ 0.15609541, -0.56597603, -0.47238401, ...,  1.        ,\n",
       "        -0.35859493,  0.56230609],\n",
       "       [-0.46997846,  0.10591244,  0.94562385, ..., -0.35859493,\n",
       "         1.        , -0.52354203],\n",
       "       [ 0.66332946, -0.10439167, -0.72415769, ...,  0.56230609,\n",
       "        -0.52354203,  1.        ]])"
      ]
     },
     "execution_count": 39,
     "metadata": {},
     "output_type": "execute_result"
    }
   ],
   "source": [
    "test3.P"
   ]
  },
  {
   "cell_type": "code",
   "execution_count": 40,
   "metadata": {},
   "outputs": [
    {
     "data": {
      "text/plain": [
       "(1, 100)"
      ]
     },
     "execution_count": 40,
     "metadata": {},
     "output_type": "execute_result"
    }
   ],
   "source": [
    "test.A.shape"
   ]
  },
  {
   "cell_type": "code",
   "execution_count": 41,
   "metadata": {},
   "outputs": [
    {
     "data": {
      "text/plain": [
       "(1, 100)"
      ]
     },
     "execution_count": 41,
     "metadata": {},
     "output_type": "execute_result"
    }
   ],
   "source": [
    "test3.A.shape"
   ]
  },
  {
   "cell_type": "code",
   "execution_count": 358,
   "metadata": {},
   "outputs": [
    {
     "data": {
      "text/plain": [
       "array([[ 1.,  0.,  0., ...,  0.,  0.,  0.],\n",
       "       [ 0.,  1.,  0., ...,  0.,  0.,  0.],\n",
       "       [ 0.,  0.,  1., ...,  0.,  0.,  0.],\n",
       "       ...,\n",
       "       [ 0.,  0.,  0., ..., -1.,  0.,  0.],\n",
       "       [ 0.,  0.,  0., ...,  0., -1.,  0.],\n",
       "       [ 0.,  0.,  0., ...,  0.,  0., -1.]])"
      ]
     },
     "execution_count": 358,
     "metadata": {},
     "output_type": "execute_result"
    }
   ],
   "source": [
    "test.G"
   ]
  },
  {
   "cell_type": "code",
   "execution_count": 359,
   "metadata": {},
   "outputs": [
    {
     "data": {
      "text/plain": [
       "array([[-1.,  0.,  0., ...,  0.,  0.,  0.],\n",
       "       [ 0., -1.,  0., ...,  0.,  0.,  0.],\n",
       "       [ 0.,  0., -1., ...,  0.,  0.,  0.],\n",
       "       ...,\n",
       "       [ 0.,  0.,  0., ...,  1.,  0.,  0.],\n",
       "       [ 0.,  0.,  0., ...,  0.,  1.,  0.],\n",
       "       [ 0.,  0.,  0., ...,  0.,  0.,  1.]])"
      ]
     },
     "execution_count": 359,
     "metadata": {},
     "output_type": "execute_result"
    }
   ],
   "source": [
    "test3.G"
   ]
  },
  {
   "cell_type": "code",
   "execution_count": 360,
   "metadata": {},
   "outputs": [
    {
     "data": {
      "text/plain": [
       "(100, 1)"
      ]
     },
     "execution_count": 360,
     "metadata": {},
     "output_type": "execute_result"
    }
   ],
   "source": [
    "test.q.shape"
   ]
  },
  {
   "cell_type": "code",
   "execution_count": 361,
   "metadata": {},
   "outputs": [
    {
     "data": {
      "text/plain": [
       "(100,)"
      ]
     },
     "execution_count": 361,
     "metadata": {},
     "output_type": "execute_result"
    }
   ],
   "source": [
    "test3.q.shape"
   ]
  },
  {
   "cell_type": "code",
   "execution_count": 362,
   "metadata": {},
   "outputs": [
    {
     "data": {
      "text/plain": [
       "array([[0.46415888],\n",
       "       [0.46415888],\n",
       "       [0.46415888],\n",
       "       [0.46415888],\n",
       "       [0.46415888],\n",
       "       [0.46415888],\n",
       "       [0.46415888],\n",
       "       [0.46415888],\n",
       "       [0.46415888],\n",
       "       [0.46415888],\n",
       "       [0.46415888],\n",
       "       [0.46415888],\n",
       "       [0.46415888],\n",
       "       [0.46415888],\n",
       "       [0.46415888],\n",
       "       [0.46415888],\n",
       "       [0.46415888],\n",
       "       [0.46415888],\n",
       "       [0.46415888],\n",
       "       [0.46415888],\n",
       "       [0.46415888],\n",
       "       [0.46415888],\n",
       "       [0.46415888],\n",
       "       [0.46415888],\n",
       "       [0.46415888],\n",
       "       [0.46415888],\n",
       "       [0.46415888],\n",
       "       [0.46415888],\n",
       "       [0.46415888],\n",
       "       [0.46415888],\n",
       "       [0.46415888],\n",
       "       [0.46415888],\n",
       "       [0.46415888],\n",
       "       [0.46415888],\n",
       "       [0.46415888],\n",
       "       [0.46415888],\n",
       "       [0.46415888],\n",
       "       [0.46415888],\n",
       "       [0.46415888],\n",
       "       [0.46415888],\n",
       "       [0.46415888],\n",
       "       [0.46415888],\n",
       "       [0.46415888],\n",
       "       [0.46415888],\n",
       "       [0.46415888],\n",
       "       [0.46415888],\n",
       "       [0.46415888],\n",
       "       [0.46415888],\n",
       "       [0.46415888],\n",
       "       [0.46415888],\n",
       "       [0.46415888],\n",
       "       [0.46415888],\n",
       "       [0.46415888],\n",
       "       [0.46415888],\n",
       "       [0.46415888],\n",
       "       [0.46415888],\n",
       "       [0.46415888],\n",
       "       [0.46415888],\n",
       "       [0.46415888],\n",
       "       [0.46415888],\n",
       "       [0.46415888],\n",
       "       [0.46415888],\n",
       "       [0.46415888],\n",
       "       [0.46415888],\n",
       "       [0.46415888],\n",
       "       [0.46415888],\n",
       "       [0.46415888],\n",
       "       [0.46415888],\n",
       "       [0.46415888],\n",
       "       [0.46415888],\n",
       "       [0.46415888],\n",
       "       [0.46415888],\n",
       "       [0.46415888],\n",
       "       [0.46415888],\n",
       "       [0.46415888],\n",
       "       [0.46415888],\n",
       "       [0.46415888],\n",
       "       [0.46415888],\n",
       "       [0.46415888],\n",
       "       [0.46415888],\n",
       "       [0.46415888],\n",
       "       [0.46415888],\n",
       "       [0.46415888],\n",
       "       [0.46415888],\n",
       "       [0.46415888],\n",
       "       [0.46415888],\n",
       "       [0.46415888],\n",
       "       [0.46415888],\n",
       "       [0.46415888],\n",
       "       [0.46415888],\n",
       "       [0.46415888],\n",
       "       [0.46415888],\n",
       "       [0.46415888],\n",
       "       [0.46415888],\n",
       "       [0.46415888],\n",
       "       [0.46415888],\n",
       "       [0.46415888],\n",
       "       [0.46415888],\n",
       "       [0.46415888],\n",
       "       [0.46415888],\n",
       "       [0.        ],\n",
       "       [0.        ],\n",
       "       [0.        ],\n",
       "       [0.        ],\n",
       "       [0.        ],\n",
       "       [0.        ],\n",
       "       [0.        ],\n",
       "       [0.        ],\n",
       "       [0.        ],\n",
       "       [0.        ],\n",
       "       [0.        ],\n",
       "       [0.        ],\n",
       "       [0.        ],\n",
       "       [0.        ],\n",
       "       [0.        ],\n",
       "       [0.        ],\n",
       "       [0.        ],\n",
       "       [0.        ],\n",
       "       [0.        ],\n",
       "       [0.        ],\n",
       "       [0.        ],\n",
       "       [0.        ],\n",
       "       [0.        ],\n",
       "       [0.        ],\n",
       "       [0.        ],\n",
       "       [0.        ],\n",
       "       [0.        ],\n",
       "       [0.        ],\n",
       "       [0.        ],\n",
       "       [0.        ],\n",
       "       [0.        ],\n",
       "       [0.        ],\n",
       "       [0.        ],\n",
       "       [0.        ],\n",
       "       [0.        ],\n",
       "       [0.        ],\n",
       "       [0.        ],\n",
       "       [0.        ],\n",
       "       [0.        ],\n",
       "       [0.        ],\n",
       "       [0.        ],\n",
       "       [0.        ],\n",
       "       [0.        ],\n",
       "       [0.        ],\n",
       "       [0.        ],\n",
       "       [0.        ],\n",
       "       [0.        ],\n",
       "       [0.        ],\n",
       "       [0.        ],\n",
       "       [0.        ],\n",
       "       [0.        ],\n",
       "       [0.        ],\n",
       "       [0.        ],\n",
       "       [0.        ],\n",
       "       [0.        ],\n",
       "       [0.        ],\n",
       "       [0.        ],\n",
       "       [0.        ],\n",
       "       [0.        ],\n",
       "       [0.        ],\n",
       "       [0.        ],\n",
       "       [0.        ],\n",
       "       [0.        ],\n",
       "       [0.        ],\n",
       "       [0.        ],\n",
       "       [0.        ],\n",
       "       [0.        ],\n",
       "       [0.        ],\n",
       "       [0.        ],\n",
       "       [0.        ],\n",
       "       [0.        ],\n",
       "       [0.        ],\n",
       "       [0.        ],\n",
       "       [0.        ],\n",
       "       [0.        ],\n",
       "       [0.        ],\n",
       "       [0.        ],\n",
       "       [0.        ],\n",
       "       [0.        ],\n",
       "       [0.        ],\n",
       "       [0.        ],\n",
       "       [0.        ],\n",
       "       [0.        ],\n",
       "       [0.        ],\n",
       "       [0.        ],\n",
       "       [0.        ],\n",
       "       [0.        ],\n",
       "       [0.        ],\n",
       "       [0.        ],\n",
       "       [0.        ],\n",
       "       [0.        ],\n",
       "       [0.        ],\n",
       "       [0.        ],\n",
       "       [0.        ],\n",
       "       [0.        ],\n",
       "       [0.        ],\n",
       "       [0.        ],\n",
       "       [0.        ],\n",
       "       [0.        ],\n",
       "       [0.        ]])"
      ]
     },
     "execution_count": 362,
     "metadata": {},
     "output_type": "execute_result"
    }
   ],
   "source": [
    "test.h"
   ]
  },
  {
   "cell_type": "code",
   "execution_count": 363,
   "metadata": {},
   "outputs": [
    {
     "data": {
      "text/plain": [
       "array([0.        , 0.        , 0.        , 0.        , 0.        ,\n",
       "       0.        , 0.        , 0.        , 0.        , 0.        ,\n",
       "       0.        , 0.        , 0.        , 0.        , 0.        ,\n",
       "       0.        , 0.        , 0.        , 0.        , 0.        ,\n",
       "       0.        , 0.        , 0.        , 0.        , 0.        ,\n",
       "       0.        , 0.        , 0.        , 0.        , 0.        ,\n",
       "       0.        , 0.        , 0.        , 0.        , 0.        ,\n",
       "       0.        , 0.        , 0.        , 0.        , 0.        ,\n",
       "       0.        , 0.        , 0.        , 0.        , 0.        ,\n",
       "       0.        , 0.        , 0.        , 0.        , 0.        ,\n",
       "       0.        , 0.        , 0.        , 0.        , 0.        ,\n",
       "       0.        , 0.        , 0.        , 0.        , 0.        ,\n",
       "       0.        , 0.        , 0.        , 0.        , 0.        ,\n",
       "       0.        , 0.        , 0.        , 0.        , 0.        ,\n",
       "       0.        , 0.        , 0.        , 0.        , 0.        ,\n",
       "       0.        , 0.        , 0.        , 0.        , 0.        ,\n",
       "       0.        , 0.        , 0.        , 0.        , 0.        ,\n",
       "       0.        , 0.        , 0.        , 0.        , 0.        ,\n",
       "       0.        , 0.        , 0.        , 0.        , 0.        ,\n",
       "       0.        , 0.        , 0.        , 0.        , 0.        ,\n",
       "       0.46415888, 0.46415888, 0.46415888, 0.46415888, 0.46415888,\n",
       "       0.46415888, 0.46415888, 0.46415888, 0.46415888, 0.46415888,\n",
       "       0.46415888, 0.46415888, 0.46415888, 0.46415888, 0.46415888,\n",
       "       0.46415888, 0.46415888, 0.46415888, 0.46415888, 0.46415888,\n",
       "       0.46415888, 0.46415888, 0.46415888, 0.46415888, 0.46415888,\n",
       "       0.46415888, 0.46415888, 0.46415888, 0.46415888, 0.46415888,\n",
       "       0.46415888, 0.46415888, 0.46415888, 0.46415888, 0.46415888,\n",
       "       0.46415888, 0.46415888, 0.46415888, 0.46415888, 0.46415888,\n",
       "       0.46415888, 0.46415888, 0.46415888, 0.46415888, 0.46415888,\n",
       "       0.46415888, 0.46415888, 0.46415888, 0.46415888, 0.46415888,\n",
       "       0.46415888, 0.46415888, 0.46415888, 0.46415888, 0.46415888,\n",
       "       0.46415888, 0.46415888, 0.46415888, 0.46415888, 0.46415888,\n",
       "       0.46415888, 0.46415888, 0.46415888, 0.46415888, 0.46415888,\n",
       "       0.46415888, 0.46415888, 0.46415888, 0.46415888, 0.46415888,\n",
       "       0.46415888, 0.46415888, 0.46415888, 0.46415888, 0.46415888,\n",
       "       0.46415888, 0.46415888, 0.46415888, 0.46415888, 0.46415888,\n",
       "       0.46415888, 0.46415888, 0.46415888, 0.46415888, 0.46415888,\n",
       "       0.46415888, 0.46415888, 0.46415888, 0.46415888, 0.46415888,\n",
       "       0.46415888, 0.46415888, 0.46415888, 0.46415888, 0.46415888,\n",
       "       0.46415888, 0.46415888, 0.46415888, 0.46415888, 0.46415888])"
      ]
     },
     "execution_count": 363,
     "metadata": {},
     "output_type": "execute_result"
    }
   ],
   "source": [
    "test3.h"
   ]
  },
  {
   "cell_type": "code",
   "execution_count": 42,
   "metadata": {},
   "outputs": [
    {
     "data": {
      "text/plain": [
       "array([4.64158852e-01, 4.64158863e-01, 3.21761300e-01, 4.64158764e-01,\n",
       "       4.64158705e-01, 4.64158717e-01, 4.64158850e-01, 4.64158871e-01,\n",
       "       4.64158786e-01, 4.64158830e-01, 9.82279542e-02, 4.64158860e-01,\n",
       "       4.64158504e-01, 4.64158862e-01, 4.64158736e-01, 4.64158237e-01,\n",
       "       4.64158867e-01, 4.64158597e-01, 4.64158862e-01, 4.64158852e-01,\n",
       "       4.64158861e-01, 4.64158377e-01, 4.64158861e-01, 4.64158862e-01,\n",
       "       4.64158708e-01, 4.64158857e-01, 4.64158818e-01, 4.64158853e-01,\n",
       "       4.64158529e-01, 4.64158845e-01, 4.64158867e-01, 4.64158677e-01,\n",
       "       4.64158854e-01, 4.64158868e-01, 4.64158824e-01, 1.69815193e-01,\n",
       "       4.64158837e-01, 5.27198358e-02, 4.64158864e-01, 4.64158859e-01,\n",
       "       6.16525553e-02, 2.87972542e-05, 4.64158813e-01, 4.64158860e-01,\n",
       "       4.64158830e-01, 2.59080908e-01, 4.64158821e-01, 4.64158743e-01,\n",
       "       4.64157911e-01, 4.64158475e-01, 4.64158823e-01, 4.64158754e-01,\n",
       "       4.64158857e-01, 4.64158857e-01, 4.64158859e-01, 4.64158842e-01,\n",
       "       4.64158848e-01, 4.64158835e-01, 4.64158320e-01])"
      ]
     },
     "execution_count": 42,
     "metadata": {},
     "output_type": "execute_result"
    }
   ],
   "source": [
    "test.alpha_sv"
   ]
  },
  {
   "cell_type": "code",
   "execution_count": 43,
   "metadata": {},
   "outputs": [
    {
     "data": {
      "text/plain": [
       "array([4.64158852e-01, 4.64158863e-01, 3.21761300e-01, 4.64158764e-01,\n",
       "       4.64158705e-01, 4.64158717e-01, 4.64158850e-01, 4.64158871e-01,\n",
       "       4.64158786e-01, 4.64158830e-01, 9.82279542e-02, 4.64158860e-01,\n",
       "       4.64158504e-01, 4.64158862e-01, 4.64158736e-01, 4.64158237e-01,\n",
       "       4.64158867e-01, 4.64158597e-01, 4.64158862e-01, 4.64158852e-01,\n",
       "       4.64158861e-01, 4.64158377e-01, 4.64158861e-01, 4.64158862e-01,\n",
       "       4.64158708e-01, 4.64158857e-01, 4.64158818e-01, 4.64158853e-01,\n",
       "       4.64158529e-01, 4.64158845e-01, 4.64158867e-01, 4.64158677e-01,\n",
       "       4.64158854e-01, 4.64158868e-01, 4.64158824e-01, 1.69815193e-01,\n",
       "       4.64158837e-01, 5.27198358e-02, 4.64158864e-01, 4.64158859e-01,\n",
       "       6.16525553e-02, 2.87972542e-05, 4.64158813e-01, 4.64158860e-01,\n",
       "       4.64158830e-01, 2.59080908e-01, 4.64158821e-01, 4.64158743e-01,\n",
       "       4.64157911e-01, 4.64158475e-01, 4.64158823e-01, 4.64158754e-01,\n",
       "       4.64158857e-01, 4.64158857e-01, 4.64158859e-01, 4.64158842e-01,\n",
       "       4.64158848e-01, 4.64158835e-01, 4.64158320e-01])"
      ]
     },
     "execution_count": 43,
     "metadata": {},
     "output_type": "execute_result"
    }
   ],
   "source": [
    "test.alpha_sv"
   ]
  },
  {
   "cell_type": "code",
   "execution_count": 44,
   "metadata": {},
   "outputs": [
    {
     "data": {
      "text/plain": [
       "(59,)"
      ]
     },
     "execution_count": 44,
     "metadata": {},
     "output_type": "execute_result"
    }
   ],
   "source": [
    "test.alpha_sv.shape"
   ]
  },
  {
   "cell_type": "code",
   "execution_count": 230,
   "metadata": {},
   "outputs": [
    {
     "data": {
      "text/plain": [
       "array([], shape=(0, 0), dtype=float64)"
      ]
     },
     "execution_count": 230,
     "metadata": {},
     "output_type": "execute_result"
    }
   ],
   "source": [
    "test.kernelmatrix"
   ]
  },
  {
   "cell_type": "code",
   "execution_count": 168,
   "metadata": {},
   "outputs": [
    {
     "data": {
      "text/plain": [
       "array([[ 1.        , -0.01375263, -0.59032474, ...,  0.15609541,\n",
       "        -0.46997846,  0.66332946],\n",
       "       [-0.01375263,  1.        ,  0.12277116, ..., -0.56597603,\n",
       "         0.10591244, -0.10439167],\n",
       "       [-0.59032474,  0.12277116,  1.        , ..., -0.47238401,\n",
       "         0.94562385, -0.72415769],\n",
       "       ...,\n",
       "       [ 0.15609541, -0.56597603, -0.47238401, ...,  1.        ,\n",
       "        -0.35859493,  0.56230609],\n",
       "       [-0.46997846,  0.10591244,  0.94562385, ..., -0.35859493,\n",
       "         1.        , -0.52354203],\n",
       "       [ 0.66332946, -0.10439167, -0.72415769, ...,  0.56230609,\n",
       "        -0.52354203,  1.        ]])"
      ]
     },
     "execution_count": 168,
     "metadata": {},
     "output_type": "execute_result"
    }
   ],
   "source": [
    "test.P"
   ]
  },
  {
   "cell_type": "code",
   "execution_count": 169,
   "metadata": {},
   "outputs": [
    {
     "data": {
      "text/plain": [
       "array([], shape=(0, 0), dtype=float64)"
      ]
     },
     "execution_count": 169,
     "metadata": {},
     "output_type": "execute_result"
    }
   ],
   "source": [
    "test.kernelmatrix"
   ]
  },
  {
   "cell_type": "code",
   "execution_count": 45,
   "metadata": {},
   "outputs": [
    {
     "data": {
      "text/plain": [
       "array([False, False,  True,  True,  True,  True, False, False,  True,\n",
       "        True,  True,  True,  True,  True,  True,  True, False,  True,\n",
       "       False,  True,  True, False,  True, False,  True,  True, False,\n",
       "        True, False,  True, False, False, False,  True,  True,  True,\n",
       "        True, False, False,  True,  True, False,  True, False, False,\n",
       "        True,  True,  True,  True, False, False, False, False,  True,\n",
       "       False,  True, False,  True, False, False,  True,  True,  True,\n",
       "       False, False,  True,  True, False, False,  True, False,  True,\n",
       "       False, False,  True,  True,  True,  True,  True,  True,  True,\n",
       "        True,  True,  True,  True, False, False,  True, False, False,\n",
       "        True, False, False,  True, False,  True, False,  True,  True,\n",
       "        True])"
      ]
     },
     "execution_count": 45,
     "metadata": {},
     "output_type": "execute_result"
    }
   ],
   "source": [
    "test.sv"
   ]
  },
  {
   "cell_type": "code",
   "execution_count": 13,
   "metadata": {},
   "outputs": [],
   "source": [
    "test2 = imp.svm_sklearn(kernel='gaussian', kernelparameter=1.1513953993264456, C=0.46415888336127725)"
   ]
  },
  {
   "cell_type": "code",
   "execution_count": 14,
   "metadata": {},
   "outputs": [],
   "source": [
    "test2.fit(X_tr,Y_tr)"
   ]
  },
  {
   "cell_type": "code",
   "execution_count": 15,
   "metadata": {},
   "outputs": [
    {
     "data": {
      "text/plain": [
       "(53, 2)"
      ]
     },
     "execution_count": 15,
     "metadata": {},
     "output_type": "execute_result"
    }
   ],
   "source": [
    "test2.X_sv.shape"
   ]
  },
  {
   "cell_type": "code",
   "execution_count": 16,
   "metadata": {},
   "outputs": [
    {
     "data": {
      "text/plain": [
       "91"
      ]
     },
     "execution_count": 16,
     "metadata": {},
     "output_type": "execute_result"
    }
   ],
   "source": [
    "np.sum(test.predict(X_te) == Y_te)"
   ]
  },
  {
   "cell_type": "code",
   "execution_count": 17,
   "metadata": {},
   "outputs": [
    {
     "ename": "NameError",
     "evalue": "name 'test3' is not defined",
     "output_type": "error",
     "traceback": [
      "\u001b[0;31m---------------------------------------------------------------------------\u001b[0m",
      "\u001b[0;31mNameError\u001b[0m                                 Traceback (most recent call last)",
      "\u001b[0;32m<ipython-input-17-9f8633acba2f>\u001b[0m in \u001b[0;36m<module>\u001b[0;34m\u001b[0m\n\u001b[0;32m----> 1\u001b[0;31m \u001b[0mtest3\u001b[0m\u001b[0;34m.\u001b[0m\u001b[0msv\u001b[0m\u001b[0;34m.\u001b[0m\u001b[0mshape\u001b[0m\u001b[0;34m\u001b[0m\u001b[0;34m\u001b[0m\u001b[0m\n\u001b[0m",
      "\u001b[0;31mNameError\u001b[0m: name 'test3' is not defined"
     ]
    }
   ],
   "source": [
    "test3.sv.shape"
   ]
  },
  {
   "cell_type": "code",
   "execution_count": 18,
   "metadata": {},
   "outputs": [
    {
     "data": {
      "text/plain": [
       "95"
      ]
     },
     "execution_count": 18,
     "metadata": {},
     "output_type": "execute_result"
    }
   ],
   "source": [
    "np.sum(np.sign(test2.predict(X_te)) == Y_te)"
   ]
  },
  {
   "cell_type": "code",
   "execution_count": 248,
   "metadata": {},
   "outputs": [
    {
     "data": {
      "text/plain": [
       "array([ 1,  1,  1,  1,  1,  1,  1,  1,  1,  1,  1,  1,  1,  1,  1,  1,  1,\n",
       "        1,  1,  1,  1,  1,  1,  1,  1,  1,  1,  1,  1,  1,  1,  1,  1,  1,\n",
       "        1,  1,  1,  1,  1,  1, -1, -1, -1, -1, -1, -1, -1, -1, -1, -1, -1,\n",
       "       -1, -1, -1, -1, -1, -1, -1, -1, -1, -1, -1, -1, -1, -1, -1, -1, -1,\n",
       "       -1, -1, -1, -1, -1, -1, -1, -1, -1, -1, -1, -1, -1, -1, -1, -1, -1,\n",
       "       -1, -1, -1, -1, -1, -1, -1, -1, -1, -1, -1, -1, -1, -1, -1])"
      ]
     },
     "execution_count": 248,
     "metadata": {},
     "output_type": "execute_result"
    }
   ],
   "source": [
    "Y_te"
   ]
  },
  {
   "cell_type": "code",
   "execution_count": 23,
   "metadata": {},
   "outputs": [],
   "source": [
    "X = X_tr\n",
    "Y = Y_tr\n",
    "X_sv = X.T\n",
    "Y_sv = Y\n",
    "kernel='gaussian'\n",
    "kernelparameter=0.7906043210907685\n",
    "C = 0.573615251044868\n",
    "__ydim = Y.shape[0]\n",
    "        \n",
    "        # reshape ytrain\n",
    "Y_sv = Y_sv.reshape(__ydim,-1)\n",
    "\n",
    "        \n",
    "        # calculate kernelmatrix\n",
    "        #if self.kernel == 'linear':\n",
    "        #    self.__linearKernel(X)\n",
    "        #elif self.kernel == 'polynomial':\n",
    "        #    self.__polynomialKernel(X)\n",
    "        #elif self.kernel == 'gaussian':\n",
    "        #    self.__gaussianKernel(X)\n",
    "        #else:\n",
    "        # print(\"\"\"The following kernel {} is not known. Please use either 'linear' , 'polynomial' or 'gaussian'.\"\"\".format(kernel))\n",
    "\n",
    "kernelmatrix = buildKernel(X_sv, kernel = kernel, kernelparameter = kernelparameter)\n"
   ]
  },
  {
   "cell_type": "code",
   "execution_count": 26,
   "metadata": {},
   "outputs": [],
   "source": [
    "P = (Y_sv@Y_sv.T)*kernelmatrix\n",
    "q = -1*np.ones((__ydim,1)) #y_train has the same length as X_train\n",
    "A = Y_sv.T\n",
    "b = 0\n",
    "if C is None: \n",
    "            # constraint for evrry every alpha: 0 =< alpha\n",
    "            # use matrix notation\n",
    "            # QP solver wants it: Gx =< h, where h expresses the 0 of the condition\n",
    "            # to foollow the QP_solver formulation contraint in G expressed by -1\n",
    "    G = -1*np.identity(__ydim)\n",
    "    h = np.zeros(__ydim)\n",
    "else:\n",
    "            # constraint for every alpha: 0 =< alpha =< C\n",
    "            # use matrix notation\n",
    "            # QP solver wants it: Gx =< h, hence h expresses the upper and lower bound of the condition -> h_size = 2n x 1\n",
    "            # G of size 2n x n \n",
    "            # first n rows contain the constraint 0 =< alpha -> in G expressed by -1, in h with 0\n",
    "            # second n rows contain the constraint alpha =< C -> in G expressed by 1, in h with C\n",
    "    G = np.vstack((-1*np.identity(__ydim),np.identity(__ydim)))\n",
    "    h = np.hstack((np.zeros(__ydim),C/__ydim*np.ones(__ydim)))\n",
    "        # this is already implemented so you don't have to\n",
    "        # read throught the cvxopt manual\n",
    "alpha = np.array(qp(cvxmatrix(P, tc='d'),\n",
    "                    cvxmatrix(q, tc='d'),\n",
    "                    cvxmatrix(G, tc='d'),\n",
    "                    cvxmatrix(h, tc='d'),\n",
    "                    cvxmatrix(A, tc='d'),\n",
    "                    cvxmatrix(b, tc='d'))['x']).flatten()\n",
    "        # Support vectors have non zero lagrange multipliers and are smaller than C/m\n",
    "sv = np.logical_and(alpha > 1e-8, alpha < np.round(C/__ydim,5)) #treshold 1e-5\n",
    "alpha_sv = alpha[sv]\n",
    "        \n",
    "X_sv = X_sv[:,sv]\n",
    "Y_sv = Y_sv[sv]"
   ]
  },
  {
   "cell_type": "code",
   "execution_count": 34,
   "metadata": {},
   "outputs": [],
   "source": [
    "X = X_tr\n",
    "Y = Y_tr\n",
    "X_sv = X\n",
    "Y_sv = Y\n",
    "X_len, X_width = X_sv.shape\n",
    "kernelmatrix_my = np.exp(-(np.diagonal(X_sv.dot(X_sv.T)).reshape(X_len, 1) - 2 * X_sv.dot(X_sv.T) + np.diagonal(X_sv.dot(X_sv.T))) / (2 * (kernelparameter ** 2)))"
   ]
  },
  {
   "cell_type": "code",
   "execution_count": 49,
   "metadata": {},
   "outputs": [
    {
     "data": {
      "text/plain": [
       "array([[1.00000000e+00, 1.12617981e-04, 3.26960446e-01, ...,\n",
       "        1.94634610e-02, 2.01601355e-01, 4.18693841e-01],\n",
       "       [1.12617981e-04, 1.00000000e+00, 1.16954820e-02, ...,\n",
       "        2.99017619e-01, 8.54988730e-03, 8.29160267e-03],\n",
       "       [3.26960446e-01, 1.16954820e-02, 1.00000000e+00, ...,\n",
       "        2.03796200e-01, 8.88177878e-01, 5.04327899e-01],\n",
       "       ...,\n",
       "       [1.94634610e-02, 2.99017619e-01, 2.03796200e-01, ...,\n",
       "        1.00000000e+00, 1.13589259e-01, 2.94920227e-01],\n",
       "       [2.01601355e-01, 8.54988730e-03, 8.88177878e-01, ...,\n",
       "        1.13589259e-01, 1.00000000e+00, 2.53460358e-01],\n",
       "       [4.18693841e-01, 8.29160267e-03, 5.04327899e-01, ...,\n",
       "        2.94920227e-01, 2.53460358e-01, 1.00000000e+00]])"
      ]
     },
     "execution_count": 49,
     "metadata": {},
     "output_type": "execute_result"
    }
   ],
   "source": [
    "kernelmatrix"
   ]
  },
  {
   "cell_type": "code",
   "execution_count": 36,
   "metadata": {},
   "outputs": [
    {
     "data": {
      "text/plain": [
       "array([[1.00000000e+00, 1.12617981e-04, 3.26960446e-01, ...,\n",
       "        1.94634610e-02, 2.01601355e-01, 4.18693841e-01],\n",
       "       [1.12617981e-04, 1.00000000e+00, 1.16954820e-02, ...,\n",
       "        2.99017619e-01, 8.54988730e-03, 8.29160267e-03],\n",
       "       [3.26960446e-01, 1.16954820e-02, 1.00000000e+00, ...,\n",
       "        2.03796200e-01, 8.88177878e-01, 5.04327899e-01],\n",
       "       ...,\n",
       "       [1.94634610e-02, 2.99017619e-01, 2.03796200e-01, ...,\n",
       "        1.00000000e+00, 1.13589259e-01, 2.94920227e-01],\n",
       "       [2.01601355e-01, 8.54988730e-03, 8.88177878e-01, ...,\n",
       "        1.13589259e-01, 1.00000000e+00, 2.53460358e-01],\n",
       "       [4.18693841e-01, 8.29160267e-03, 5.04327899e-01, ...,\n",
       "        2.94920227e-01, 2.53460358e-01, 1.00000000e+00]])"
      ]
     },
     "execution_count": 36,
     "metadata": {},
     "output_type": "execute_result"
    }
   ],
   "source": [
    "kernelmatrix_my"
   ]
  },
  {
   "cell_type": "code",
   "execution_count": 45,
   "metadata": {},
   "outputs": [
    {
     "data": {
      "text/plain": [
       "array([], shape=(0, 0), dtype=float64)"
      ]
     },
     "execution_count": 45,
     "metadata": {},
     "output_type": "execute_result"
    }
   ],
   "source": [
    "test.kernelmatrix\n",
    "\n"
   ]
  },
  {
   "cell_type": "code",
   "execution_count": 54,
   "metadata": {},
   "outputs": [
    {
     "data": {
      "text/plain": [
       "(100, 100)"
      ]
     },
     "execution_count": 54,
     "metadata": {},
     "output_type": "execute_result"
    }
   ],
   "source": [
    "buildKernel(X_tr.T, kernel = 'gaussian', kernelparameter = test.kernelparameter).shape"
   ]
  },
  {
   "cell_type": "code",
   "execution_count": 42,
   "metadata": {},
   "outputs": [],
   "source": [
    "K = sqdistmat(X_tr)"
   ]
  },
  {
   "cell_type": "code",
   "execution_count": 43,
   "metadata": {},
   "outputs": [
    {
     "data": {
      "text/plain": [
       "array([[-1.13686838e-13,  3.08400774e+02],\n",
       "       [ 3.08400774e+02,  1.42108547e-14]])"
      ]
     },
     "execution_count": 43,
     "metadata": {},
     "output_type": "execute_result"
    }
   ],
   "source": [
    "K"
   ]
  },
  {
   "cell_type": "code",
   "execution_count": 48,
   "metadata": {},
   "outputs": [],
   "source": [
    "X2 = sum(X_tr**2, 0)[np.newaxis, :]"
   ]
  },
  {
   "cell_type": "code",
   "execution_count": 49,
   "metadata": {},
   "outputs": [
    {
     "data": {
      "text/plain": [
       "array([[383.24717288,  41.12513269]])"
      ]
     },
     "execution_count": 49,
     "metadata": {},
     "output_type": "execute_result"
    }
   ],
   "source": [
    "X2"
   ]
  },
  {
   "cell_type": "code",
   "execution_count": 50,
   "metadata": {},
   "outputs": [
    {
     "data": {
      "text/plain": [
       "array([[9.84561251e+00, 2.98231516e-02, 4.77293578e+00, 2.00982567e-01,\n",
       "        9.92356418e+00, 9.25530193e+00, 7.68430981e-02, 9.57340085e+00,\n",
       "        9.93974391e+00, 1.08118826e-01, 6.36488820e+00, 1.23753822e-01,\n",
       "        2.02290739e-02, 1.15891728e+00, 7.06066588e+00, 4.71146545e+00,\n",
       "        5.30880097e+00, 1.62837732e+00, 7.80960964e+00, 7.43891268e-01,\n",
       "        9.89045126e+00, 7.25368500e-03, 7.39605320e-03, 1.20984109e+01,\n",
       "        9.81805237e-02, 2.17596475e-01, 4.73879532e+00, 4.51902627e+00,\n",
       "        7.33350990e+00, 2.26526296e+00, 1.45588644e-03, 9.57052117e-02,\n",
       "        6.44231696e+00, 1.11945193e+00, 3.31385329e+00, 4.13949956e+00,\n",
       "        2.72850711e+00, 2.00548065e-01, 1.17284581e-01, 2.07122827e-03,\n",
       "        4.22114849e+00, 3.48408466e-03, 8.10318241e+00, 7.62592523e+00,\n",
       "        1.28168106e-02, 1.91036713e+00, 1.76121246e+00, 2.96660239e-01,\n",
       "        5.63813348e-01, 9.85645733e+00, 3.83743422e-02, 2.19039449e+00,\n",
       "        2.39264600e-04, 1.56594641e-02, 2.76631542e+00, 3.88058938e+00,\n",
       "        1.22816413e+01, 6.62225297e-01, 6.28745176e+00, 6.87473246e+00,\n",
       "        3.68673654e+00, 3.10055377e-02, 5.02589475e+00, 7.77748698e+00,\n",
       "        1.59595130e+00, 6.72632354e-01, 7.47001528e+00, 6.85572646e+00,\n",
       "        1.44165563e-01, 6.04763625e+00, 1.53700294e-01, 8.23951037e+00,\n",
       "        1.09972624e+01, 2.02336583e-02, 8.69240077e-02, 8.19647471e+00,\n",
       "        4.16125998e+00, 2.92395476e+00, 3.35308169e+00, 1.35341608e-01,\n",
       "        9.03290270e+00, 6.69796922e+00, 1.24633998e+00, 1.94327949e+00,\n",
       "        3.67176720e+00, 2.89281786e+00, 1.35748125e+01, 6.02948167e+00,\n",
       "        5.23353935e-01, 6.26967030e+00, 4.66953410e+00, 4.69948059e-03,\n",
       "        4.45142812e+00, 4.49322848e+00, 2.03152336e-03, 3.01040298e-01,\n",
       "        1.22302292e+01, 8.46318963e-01, 4.95619155e+00, 4.48888836e+00],\n",
       "       [5.62025090e-01, 1.26202249e-02, 2.52686401e-03, 3.61616654e-01,\n",
       "        1.07026797e-03, 9.69184033e-02, 4.44399312e-02, 1.35801220e-01,\n",
       "        2.53645886e-01, 3.40308047e-02, 2.07736019e-04, 1.56647808e-02,\n",
       "        2.23850734e-01, 6.25502282e-01, 8.77864515e-01, 9.01799536e-02,\n",
       "        1.25328506e+00, 1.12805094e+00, 2.72910168e+00, 1.38555094e-01,\n",
       "        3.19863457e-01, 8.99897018e-02, 4.31085660e-02, 8.89158513e-02,\n",
       "        1.99110824e-01, 2.78779872e-07, 2.04627311e+00, 1.61703514e-01,\n",
       "        1.05324223e+00, 2.14336991e-01, 5.91074856e-03, 9.60520205e-02,\n",
       "        1.67478805e+00, 1.12511091e-01, 2.45850723e-01, 1.46996843e-01,\n",
       "        2.56635927e-01, 5.12850054e-02, 2.94724403e-01, 2.68738847e-01,\n",
       "        6.89610052e-02, 2.98263375e-02, 1.18688210e-02, 8.80721699e-01,\n",
       "        1.40355464e-02, 2.12447196e-01, 1.07780814e+00, 2.76875237e-01,\n",
       "        1.93011608e-02, 1.06169684e+00, 3.18712837e-01, 4.42906779e-01,\n",
       "        2.35035188e-02, 1.06604354e-01, 3.25271212e-01, 1.02756661e-01,\n",
       "        6.11121037e-02, 1.07437969e-03, 1.19952199e+00, 1.57112323e+00,\n",
       "        1.36283036e-02, 1.33090068e-02, 1.07990231e-01, 1.36284792e+00,\n",
       "        1.44832936e+00, 5.19759243e-01, 2.00468526e-02, 2.05363954e+00,\n",
       "        1.07078351e-01, 7.97584478e-02, 3.77583305e-02, 2.71430685e+00,\n",
       "        1.00255237e-01, 1.58232341e-01, 2.92307749e-01, 8.33350228e-03,\n",
       "        1.19937747e-01, 1.78686422e-04, 4.03656322e-01, 1.77728808e-01,\n",
       "        8.95188764e-03, 8.04015894e-01, 8.95914946e-01, 5.42909438e-01,\n",
       "        1.36647887e-01, 2.54668596e-01, 1.92969435e-05, 2.05492222e-02,\n",
       "        8.97946031e-02, 1.47251243e+00, 3.76345359e-02, 1.49461740e-01,\n",
       "        1.10965728e+00, 1.43103807e-02, 2.69189516e-01, 2.25839899e-01,\n",
       "        7.95151080e-02, 4.54100219e-01, 1.10560442e-01, 9.46671178e-01]])"
      ]
     },
     "execution_count": 50,
     "metadata": {},
     "output_type": "execute_result"
    }
   ],
   "source": [
    "X_tr.T**2"
   ]
  },
  {
   "cell_type": "code",
   "execution_count": null,
   "metadata": {},
   "outputs": [],
   "source": [
    "X_len, X_width = self.X_sv.shape\n",
    "        self.kernelmatrix = np.exp(-(\n",
    "                    np.diagonal(self.X_sv.dot(self.X_sv.T)).reshape(X_len, 1) - 2 * self.X_sv.dot(\n",
    "                Y.T) + np.diagonal(Y.dot(Y.T))) / (2 * (self.kernelparameter ** 2)))\n"
   ]
  },
  {
   "cell_type": "code",
   "execution_count": 21,
   "metadata": {},
   "outputs": [],
   "source": [
    "class TestSheet4():\n",
    "    def test_svm_qp(self):\n",
    "        C = imp.svm_qp(kernel='linear', C=1.)\n",
    "        np.random.seed(1)\n",
    "        X_tr = np.hstack((np.random.normal(size=[2, 30]), np.random.normal(size=[2, 30]) + np.array([2., 2.])[:, np.newaxis])).T\n",
    "        Y_tr = np.array([1] * 30 + [-1] * 30)\n",
    "        X_te = np.hstack((np.random.normal(size=[2, 30]), np.random.normal(size=[2, 30]) + np.array([2., 2.])[:, np.newaxis])).T\n",
    "        Y_te = np.array([1] * 30 + [-1] * 30)\n",
    "        C.fit(X_tr, Y_tr)\n",
    "        Y_pred = C.predict(X_te)\n",
    "        loss = float(np.sum(np.sign(Y_te) != np.sign(Y_pred)))/float(len(Y_te))\n",
    "        imp.plot_boundary_2d(X_tr, Y_tr, C)\n",
    "        print('test case loss', loss)\n",
    "        self.assertTrue(loss < 0.25, msg='svm_qp: Error. The loss is %.2f and should be below 0.25' % loss)\n"
   ]
  },
  {
   "cell_type": "code",
   "execution_count": 22,
   "metadata": {},
   "outputs": [],
   "source": [
    "a = TestSheet4()"
   ]
  },
  {
   "cell_type": "code",
   "execution_count": 23,
   "metadata": {},
   "outputs": [
    {
     "data": {
      "image/png": "[encoded data removed]",
      "text/plain": [
       "<Figure size 432x288 with 1 Axes>"
      ]
     },
     "metadata": {
      "needs_background": "light"
     },
     "output_type": "display_data"
    },
    {
     "name": "stdout",
     "output_type": "stream",
     "text": [
      "test case loss 0.11666666666666667\n"
     ]
    },
    {
     "ename": "AttributeError",
     "evalue": "'TestSheet4' object has no attribute 'assertTrue'",
     "output_type": "error",
     "traceback": [
      "\u001b[0;31m---------------------------------------------------------------------------\u001b[0m",
      "\u001b[0;31mAttributeError\u001b[0m                            Traceback (most recent call last)",
      "\u001b[0;32m<ipython-input-23-69846c37a59d>\u001b[0m in \u001b[0;36m<module>\u001b[0;34m\u001b[0m\n\u001b[0;32m----> 1\u001b[0;31m \u001b[0ma\u001b[0m\u001b[0;34m.\u001b[0m\u001b[0mtest_svm_qp\u001b[0m\u001b[0;34m(\u001b[0m\u001b[0;34m)\u001b[0m\u001b[0;34m\u001b[0m\u001b[0;34m\u001b[0m\u001b[0m\n\u001b[0m",
      "\u001b[0;32m<ipython-input-21-f0a2f8af0ec1>\u001b[0m in \u001b[0;36mtest_svm_qp\u001b[0;34m(self)\u001b[0m\n\u001b[1;32m     12\u001b[0m         \u001b[0mimp\u001b[0m\u001b[0;34m.\u001b[0m\u001b[0mplot_boundary_2d\u001b[0m\u001b[0;34m(\u001b[0m\u001b[0mX_tr\u001b[0m\u001b[0;34m,\u001b[0m \u001b[0mY_tr\u001b[0m\u001b[0;34m,\u001b[0m \u001b[0mC\u001b[0m\u001b[0;34m)\u001b[0m\u001b[0;34m\u001b[0m\u001b[0;34m\u001b[0m\u001b[0m\n\u001b[1;32m     13\u001b[0m         \u001b[0mprint\u001b[0m\u001b[0;34m(\u001b[0m\u001b[0;34m'test case loss'\u001b[0m\u001b[0;34m,\u001b[0m \u001b[0mloss\u001b[0m\u001b[0;34m)\u001b[0m\u001b[0;34m\u001b[0m\u001b[0;34m\u001b[0m\u001b[0m\n\u001b[0;32m---> 14\u001b[0;31m         \u001b[0mself\u001b[0m\u001b[0;34m.\u001b[0m\u001b[0massertTrue\u001b[0m\u001b[0;34m(\u001b[0m\u001b[0mloss\u001b[0m \u001b[0;34m<\u001b[0m \u001b[0;36m0.25\u001b[0m\u001b[0;34m,\u001b[0m \u001b[0mmsg\u001b[0m\u001b[0;34m=\u001b[0m\u001b[0;34m'svm_qp: Error. The loss is %.2f and should be below 0.25'\u001b[0m \u001b[0;34m%\u001b[0m \u001b[0mloss\u001b[0m\u001b[0;34m)\u001b[0m\u001b[0;34m\u001b[0m\u001b[0;34m\u001b[0m\u001b[0m\n\u001b[0m",
      "\u001b[0;31mAttributeError\u001b[0m: 'TestSheet4' object has no attribute 'assertTrue'"
     ]
    }
   ],
   "source": [
    "a.test_svm_qp()"
   ]
  },
  {
   "cell_type": "code",
   "execution_count": 41,
   "metadata": {},
   "outputs": [
    {
     "ename": "NameError",
     "evalue": "name 'Y_pred' is not defined",
     "output_type": "error",
     "traceback": [
      "\u001b[0;31m---------------------------------------------------------------------------\u001b[0m",
      "\u001b[0;31mNameError\u001b[0m                                 Traceback (most recent call last)",
      "\u001b[0;32m<ipython-input-41-dff0e3b17820>\u001b[0m in \u001b[0;36m<module>\u001b[0;34m\u001b[0m\n\u001b[0;32m----> 1\u001b[0;31m \u001b[0mY_pred\u001b[0m\u001b[0;34m\u001b[0m\u001b[0;34m\u001b[0m\u001b[0m\n\u001b[0m",
      "\u001b[0;31mNameError\u001b[0m: name 'Y_pred' is not defined"
     ]
    }
   ],
   "source": [
    "Y_pred"
   ]
  },
  {
   "cell_type": "code",
   "execution_count": 50,
   "metadata": {},
   "outputs": [
    {
     "data": {
      "text/plain": [
       "array([[ 1, -1, -1, ...,  1, -1,  1],\n",
       "       [-1,  1,  1, ..., -1,  1, -1],\n",
       "       [-1,  1,  1, ..., -1,  1, -1],\n",
       "       ...,\n",
       "       [ 1, -1, -1, ...,  1, -1,  1],\n",
       "       [-1,  1,  1, ..., -1,  1, -1],\n",
       "       [ 1, -1, -1, ...,  1, -1,  1]])"
      ]
     },
     "execution_count": 50,
     "metadata": {},
     "output_type": "execute_result"
    }
   ],
   "source": [
    "np.outer(Y_tr,Y_tr)"
   ]
  },
  {
   "cell_type": "code",
   "execution_count": 55,
   "metadata": {},
   "outputs": [
    {
     "data": {
      "text/plain": [
       "array([[ 1, -1, -1, ...,  1, -1,  1],\n",
       "       [-1,  1,  1, ..., -1,  1, -1],\n",
       "       [-1,  1,  1, ..., -1,  1, -1],\n",
       "       ...,\n",
       "       [ 1, -1, -1, ...,  1, -1,  1],\n",
       "       [-1,  1,  1, ..., -1,  1, -1],\n",
       "       [ 1, -1, -1, ...,  1, -1,  1]])"
      ]
     },
     "execution_count": 55,
     "metadata": {},
     "output_type": "execute_result"
    }
   ],
   "source": [
    "Y_tr.reshape(-1,1)@Y_tr.reshape(-1,1).T"
   ]
  },
  {
   "cell_type": "code",
   "execution_count": 111,
   "metadata": {},
   "outputs": [],
   "source": [
    "K = np.zeros((100, 100))\n",
    "for i in range(100):\n",
    "    for j in range(100):\n",
    "        #K[i,j] = np.exp(-np.linalg.norm(X[i].reshape(-1,1)-X[j].reshape(-1,1))**2 / (2 * (1.1513953993264456 ** 2)))\n",
    "        K[i,j] =buildKernel(X[i].reshape(-1,1), X[j].reshape(-1,1), kernel='gaussian', kernelparameter=1.1513953993264456)"
   ]
  },
  {
   "cell_type": "code",
   "execution_count": 112,
   "metadata": {},
   "outputs": [
    {
     "data": {
      "text/plain": [
       "(2,)"
      ]
     },
     "execution_count": 112,
     "metadata": {},
     "output_type": "execute_result"
    }
   ],
   "source": [
    "X[1].shape"
   ]
  },
  {
   "cell_type": "code",
   "execution_count": 113,
   "metadata": {},
   "outputs": [
    {
     "data": {
      "text/plain": [
       "array([[1.        , 0.01375263, 0.59032474, ..., 0.15609541, 0.46997846,\n",
       "        0.66332946],\n",
       "       [0.01375263, 1.        , 0.12277116, ..., 0.56597603, 0.10591244,\n",
       "        0.10439167],\n",
       "       [0.59032474, 0.12277116, 1.        , ..., 0.47238401, 0.94562385,\n",
       "        0.72415769],\n",
       "       ...,\n",
       "       [0.15609541, 0.56597603, 0.47238401, ..., 1.        , 0.35859493,\n",
       "        0.56230609],\n",
       "       [0.46997846, 0.10591244, 0.94562385, ..., 0.35859493, 1.        ,\n",
       "        0.52354203],\n",
       "       [0.66332946, 0.10439167, 0.72415769, ..., 0.56230609, 0.52354203,\n",
       "        1.        ]])"
      ]
     },
     "execution_count": 113,
     "metadata": {},
     "output_type": "execute_result"
    }
   ],
   "source": [
    "K"
   ]
  },
  {
   "cell_type": "code",
   "execution_count": 81,
   "metadata": {},
   "outputs": [
    {
     "data": {
      "text/plain": [
       "array([[1.00000000e+00, 1.12617981e-04, 3.26960446e-01, ...,\n",
       "        1.94634610e-02, 2.01601355e-01, 4.18693841e-01],\n",
       "       [1.12617981e-04, 1.00000000e+00, 1.16954820e-02, ...,\n",
       "        2.99017619e-01, 8.54988730e-03, 8.29160267e-03],\n",
       "       [3.26960446e-01, 1.16954820e-02, 1.00000000e+00, ...,\n",
       "        2.03796200e-01, 8.88177878e-01, 5.04327899e-01],\n",
       "       ...,\n",
       "       [1.94634610e-02, 2.99017619e-01, 2.03796200e-01, ...,\n",
       "        1.00000000e+00, 1.13589259e-01, 2.94920227e-01],\n",
       "       [2.01601355e-01, 8.54988730e-03, 8.88177878e-01, ...,\n",
       "        1.13589259e-01, 1.00000000e+00, 2.53460358e-01],\n",
       "       [4.18693841e-01, 8.29160267e-03, 5.04327899e-01, ...,\n",
       "        2.94920227e-01, 2.53460358e-01, 1.00000000e+00]])"
      ]
     },
     "execution_count": 81,
     "metadata": {},
     "output_type": "execute_result"
    }
   ],
   "source": [
    "kernelmatrix = buildKernel(X.T, kernel = kernel, kernelparameter = kernelparameter)\n",
    "kernelmatrix"
   ]
  },
  {
   "cell_type": "code",
   "execution_count": 90,
   "metadata": {},
   "outputs": [],
   "source": [
    "K = sqdistmat(X.T, X.T)\n",
    "#K = np.exp(K / (-2 * kernelparameter**2))"
   ]
  },
  {
   "cell_type": "code",
   "execution_count": 91,
   "metadata": {},
   "outputs": [
    {
     "data": {
      "text/plain": [
       "array([[ 0.        , 11.36539003,  1.3975185 , ...,  4.92445529,\n",
       "         2.00200556,  1.08836525],\n",
       "       [11.36539003,  0.        ,  5.56118189, ...,  1.50919924,\n",
       "         5.95282211,  5.99116903],\n",
       "       [ 1.3975185 ,  5.56118189,  0.        , ...,  1.98846909,\n",
       "         0.14824214,  0.85573635],\n",
       "       ...,\n",
       "       [ 4.92445529,  1.50919924,  1.98846909, ...,  0.        ,\n",
       "         2.71919801,  1.52644776],\n",
       "       [ 2.00200556,  5.95282211,  0.14824214, ...,  2.71919801,\n",
       "         0.        ,  1.71583632],\n",
       "       [ 1.08836525,  5.99116903,  0.85573635, ...,  1.52644776,\n",
       "         1.71583632,  0.        ]])"
      ]
     },
     "execution_count": 91,
     "metadata": {},
     "output_type": "execute_result"
    }
   ],
   "source": [
    "K"
   ]
  },
  {
   "cell_type": "code",
   "execution_count": 106,
   "metadata": {},
   "outputs": [
    {
     "ename": "ValueError",
     "evalue": "operands could not be broadcast together with shapes (100,2) (2,2) ",
     "output_type": "error",
     "traceback": [
      "\u001b[0;31m---------------------------------------------------------------------------\u001b[0m",
      "\u001b[0;31mValueError\u001b[0m                                Traceback (most recent call last)",
      "\u001b[0;32m<ipython-input-106-b3e6abe6f60a>\u001b[0m in \u001b[0;36m<module>\u001b[0;34m\u001b[0m\n\u001b[1;32m      1\u001b[0m \u001b[0mX2\u001b[0m \u001b[0;34m=\u001b[0m \u001b[0msum\u001b[0m\u001b[0;34m(\u001b[0m\u001b[0mX\u001b[0m\u001b[0;34m.\u001b[0m\u001b[0mT\u001b[0m\u001b[0;34m**\u001b[0m\u001b[0;36m2\u001b[0m\u001b[0;34m,\u001b[0m \u001b[0;36m0\u001b[0m\u001b[0;34m)\u001b[0m\u001b[0;34m[\u001b[0m\u001b[0;34m:\u001b[0m\u001b[0;34m,\u001b[0m \u001b[0mnp\u001b[0m\u001b[0;34m.\u001b[0m\u001b[0mnewaxis\u001b[0m\u001b[0;34m]\u001b[0m\u001b[0;34m\u001b[0m\u001b[0;34m\u001b[0m\u001b[0m\n\u001b[1;32m      2\u001b[0m \u001b[0mY2\u001b[0m \u001b[0;34m=\u001b[0m \u001b[0msum\u001b[0m\u001b[0;34m(\u001b[0m\u001b[0mX\u001b[0m\u001b[0;34m**\u001b[0m\u001b[0;36m2\u001b[0m\u001b[0;34m,\u001b[0m \u001b[0;36m0\u001b[0m\u001b[0;34m)\u001b[0m\u001b[0;34m[\u001b[0m\u001b[0mnp\u001b[0m\u001b[0;34m.\u001b[0m\u001b[0mnewaxis\u001b[0m\u001b[0;34m,\u001b[0m \u001b[0;34m:\u001b[0m\u001b[0;34m]\u001b[0m\u001b[0;34m\u001b[0m\u001b[0;34m\u001b[0m\u001b[0m\n\u001b[0;32m----> 3\u001b[0;31m \u001b[0mD2\u001b[0m \u001b[0;34m=\u001b[0m \u001b[0mX2\u001b[0m \u001b[0;34m+\u001b[0m \u001b[0mY2\u001b[0m \u001b[0;34m-\u001b[0m \u001b[0;36m2\u001b[0m\u001b[0;34m*\u001b[0m\u001b[0mnp\u001b[0m\u001b[0;34m.\u001b[0m\u001b[0mdot\u001b[0m\u001b[0;34m(\u001b[0m\u001b[0mX\u001b[0m\u001b[0;34m.\u001b[0m\u001b[0mT\u001b[0m\u001b[0;34m,\u001b[0m \u001b[0mX\u001b[0m\u001b[0;34m)\u001b[0m\u001b[0;34m\u001b[0m\u001b[0;34m\u001b[0m\u001b[0m\n\u001b[0m",
      "\u001b[0;31mValueError\u001b[0m: operands could not be broadcast together with shapes (100,2) (2,2) "
     ]
    }
   ],
   "source": [
    "X2 = sum(X.T**2, 0)[:, np.newaxis]\n",
    "Y2 = sum(X**2, 0)[np.newaxis, :]\n",
    "D2 = X2 + Y2 - 2*np.dot(X.T, X)"
   ]
  },
  {
   "cell_type": "code",
   "execution_count": 110,
   "metadata": {},
   "outputs": [
    {
     "data": {
      "text/plain": [
       "array([[393.65481048,  51.53277029],\n",
       "       [383.28961626,  41.16757607],\n",
       "       [388.02263553,  45.90059534],\n",
       "       [383.8097721 ,  41.68773191],\n",
       "       [393.17180733,  51.04976714],\n",
       "       [392.59939322,  50.47735303],\n",
       "       [383.36845591,  41.24641572],\n",
       "       [392.95637495,  50.83433476],\n",
       "       [393.44056267,  51.31852249],\n",
       "       [383.38932251,  41.26728232],\n",
       "       [389.61226882,  47.49022863],\n",
       "       [383.38659148,  41.2645513 ],\n",
       "       [383.49125269,  41.3692125 ],\n",
       "       [385.03159244,  42.90955225],\n",
       "       [391.18570328,  49.06366309],\n",
       "       [388.04881828,  45.92677809],\n",
       "       [389.80925891,  47.68721872],\n",
       "       [386.00360114,  43.88156095],\n",
       "       [393.7858842 ,  51.66384402],\n",
       "       [384.12961924,  42.00757905],\n",
       "       [393.4574876 ,  51.33544741],\n",
       "       [383.34441627,  41.22237608],\n",
       "       [383.2976775 ,  41.17563731],\n",
       "       [395.43449965,  53.31245946],\n",
       "       [383.54446423,  41.42242404],\n",
       "       [383.46476963,  41.34272945],\n",
       "       [390.03224131,  47.91020113],\n",
       "       [387.92790266,  45.80586248],\n",
       "       [391.63392501,  49.51188482],\n",
       "       [385.72677283,  43.60473264],\n",
       "       [383.25453951,  41.13249933],\n",
       "       [383.43893011,  41.31688992],\n",
       "       [391.3642779 ,  49.24223771],\n",
       "       [384.4791359 ,  42.35709571],\n",
       "       [386.8068769 ,  44.68483671],\n",
       "       [387.53366928,  45.4116291 ],\n",
       "       [386.23231591,  44.11027573],\n",
       "       [383.49900595,  41.37696576],\n",
       "       [383.65918186,  41.53714168],\n",
       "       [383.51798295,  41.39594277],\n",
       "       [387.53728238,  45.41524219],\n",
       "       [383.2804833 ,  41.15844311],\n",
       "       [391.36222411,  49.24018392],\n",
       "       [391.75381981,  49.63177962],\n",
       "       [383.27402524,  41.15198505],\n",
       "       [385.36998721,  43.24794702],\n",
       "       [386.08619348,  43.96415329],\n",
       "       [383.82070836,  41.69866817],\n",
       "       [383.83028739,  41.7082472 ],\n",
       "       [394.16532705,  52.04328686],\n",
       "       [383.60426006,  41.48221987],\n",
       "       [385.88047414,  43.75843396],\n",
       "       [383.27091566,  41.14887548],\n",
       "       [383.3694367 ,  41.24739651],\n",
       "       [386.33875951,  44.21671933],\n",
       "       [387.23051892,  45.10847874],\n",
       "       [395.58992623,  53.46788605],\n",
       "       [383.91047256,  41.78843237],\n",
       "       [390.73414662,  48.61210644],\n",
       "       [391.69302858,  49.57098839],\n",
       "       [386.94753773,  44.82549754],\n",
       "       [383.29148742,  41.16944724],\n",
       "       [388.38105786,  46.25901767],\n",
       "       [392.38750778,  50.26546759],\n",
       "       [386.29145355,  44.16941336],\n",
       "       [384.43956448,  42.31752429],\n",
       "       [390.73723501,  48.61519482],\n",
       "       [392.15653888,  50.03449869],\n",
       "       [383.49841679,  41.37637661],\n",
       "       [389.37456758,  47.25252739],\n",
       "       [383.4386315 ,  41.31659132],\n",
       "       [394.2009901 ,  52.07894992],\n",
       "       [394.34469048,  52.22265029],\n",
       "       [383.42563888,  41.30359869],\n",
       "       [383.62640464,  41.50436445],\n",
       "       [391.45198109,  49.3299409 ],\n",
       "       [387.52837061,  45.40633042],\n",
       "       [386.17130632,  44.04926613],\n",
       "       [387.00391089,  44.8818707 ],\n",
       "       [383.5602433 ,  41.43820311],\n",
       "       [392.28902747,  50.16698728],\n",
       "       [390.74915799,  48.62711781],\n",
       "       [385.3894278 ,  43.26738761],\n",
       "       [385.73336181,  43.61132162],\n",
       "       [387.05558796,  44.93354778],\n",
       "       [386.39465933,  44.27261914],\n",
       "       [396.82200464,  54.69996445],\n",
       "       [389.29720377,  47.17516359],\n",
       "       [383.86032142,  41.73828123],\n",
       "       [390.98935561,  48.86731542],\n",
       "       [387.95434152,  45.83230133],\n",
       "       [383.4013341 ,  41.27929391],\n",
       "       [388.80825828,  46.6862181 ],\n",
       "       [387.75471174,  45.63267155],\n",
       "       [383.51839392,  41.39635373],\n",
       "       [383.77405308,  41.65201289],\n",
       "       [395.55691718,  53.43487699],\n",
       "       [384.54759206,  42.42555187],\n",
       "       [388.31392487,  46.19188468],\n",
       "       [388.68273242,  46.56069223]])"
      ]
     },
     "execution_count": 110,
     "metadata": {},
     "output_type": "execute_result"
    }
   ],
   "source": [
    "X2 + Y2"
   ]
  },
  {
   "cell_type": "code",
   "execution_count": null,
   "metadata": {},
   "outputs": [],
   "source": [
    "def sqdistmat(X, Y=False):\n",
    "    if Y is False:\n",
    "        X2 = sum(X**2, 0)[np.newaxis, :]\n",
    "        D2 = X2 + X2.T - 2*np.dot(X.T, X)\n",
    "    else:\n",
    "        X2 = sum(X**2, 0)[:, np.newaxis]\n",
    "        Y2 = sum(Y**2, 0)[np.newaxis, :]\n",
    "        D2 = X2 + Y2 - 2*np.dot(X.T, Y)\n",
    "    return D2"
   ]
  },
  {
   "cell_type": "code",
   "execution_count": 19,
   "metadata": {},
   "outputs": [],
   "source": [
    "import numpy as np\n",
    "from numpy import linalg\n",
    "import cvxopt\n",
    "import cvxopt.solvers\n",
    "\n",
    "def linear_kernel(x1, x2):\n",
    "    return np.dot(x1, x2)\n",
    "\n",
    "def polynomial_kernel(x, y, p=3):\n",
    "    return (1 + np.dot(x, y)) ** p\n",
    "\n",
    "def gaussian_kernel(x, y, sigma=1.1513953993264456,):\n",
    "    return np.exp(-linalg.norm(x-y)**2 / (2 * (sigma ** 2)))"
   ]
  },
  {
   "cell_type": "code",
   "execution_count": 20,
   "metadata": {},
   "outputs": [],
   "source": [
    "class SVM(object):\n",
    "    \n",
    "    def __init__(self, kernel=linear_kernel, C=None):\n",
    "        self.kernel = kernel\n",
    "        self.C = C\n",
    "        if self.C is not None: self.C = float(self.C)\n",
    "    \n",
    "    def fit(self, X, y):\n",
    "        n_samples, n_features = X.shape\n",
    "        \n",
    "        # Gram matrix\n",
    "        K = np.zeros((n_samples, n_samples))\n",
    "        for i in range(n_samples):\n",
    "            for j in range(n_samples):\n",
    "                K[i,j] = self.kernel(X[i], X[j])\n",
    "        \n",
    "        P = cvxopt.matrix(np.outer(y,y) * K)\n",
    "        self.P = np.outer(y,y) * K\n",
    "        q = cvxopt.matrix(np.ones(n_samples) * -1)\n",
    "        self.q = np.ones(n_samples) * -1\n",
    "        A = cvxopt.matrix(y, (1,n_samples),tc='d')\n",
    "        self.A = y.reshape(1,n_samples)\n",
    "        b = cvxopt.matrix(0.0)\n",
    "        self.b = 0.0\n",
    "        \n",
    "        if self.C is None:\n",
    "            G = cvxopt.matrix(np.diag(np.ones(n_samples) * -1))\n",
    "            h = cvxopt.matrix(np.zeros(n_samples))\n",
    "        else:\n",
    "            tmp1 = np.diag(np.ones(n_samples) * -1)\n",
    "            tmp2 = np.identity(n_samples)\n",
    "            G = cvxopt.matrix(np.vstack((tmp1, tmp2)))\n",
    "            self.G = np.vstack((tmp1, tmp2))\n",
    "            tmp1 = np.zeros(n_samples)\n",
    "            tmp2 = np.ones(n_samples) * self.C\n",
    "            h = cvxopt.matrix(np.hstack((tmp1, tmp2)))\n",
    "            self.h = np.hstack((tmp1, tmp2))\n",
    "\n",
    "        # solve QP problem\n",
    "        solution = cvxopt.solvers.qp(P, q, G, h, A, b)\n",
    "\n",
    "        # Lagrange multipliers\n",
    "        self.a = np.ravel(solution['x'])\n",
    "\n",
    "        # Support vectors have non zero lagrange multipliers\n",
    "        sv = self.a > 1e-5\n",
    "        ind = np.arange(len(self.a))[sv]\n",
    "        self.a1 = self.a[sv]\n",
    "        self.sv = X[sv]\n",
    "        self.sv_y = y[sv]\n",
    "        print('{0} support vectors out of {1} points'.format(len(self.a1), n_samples))\n",
    "\n",
    "        # Intercept\n",
    "        self.b = 0\n",
    "        for n in range(len(self.a)):\n",
    "            self.b += self.sv_y[n]\n",
    "            self.b -= np.sum(self.a1 * self.sv_y * K[ind[n],sv])\n",
    "        self.b /= len(self.a)\n",
    "\n",
    "        # Weight vector\n",
    "        if self.kernel == linear_kernel:\n",
    "            self.w = np.zeros(n_features)\n",
    "            for n in range(len(self.a1)):\n",
    "                self.w += self.a1[n] * self.sv_y[n] * self.sv[n]\n",
    "        else:\n",
    "            self.w = None\n",
    "    \n",
    "    def project(self, X):\n",
    "        if self.w is not None:\n",
    "            return np.dot(X, self.w) + self.b\n",
    "        else:\n",
    "            y_predict = np.zeros(len(X))\n",
    "            for i in range(len(X)):\n",
    "                s = 0\n",
    "                for a, sv_y, sv in zip(self.a, self.sv_y, self.sv):\n",
    "                    s += self.a * sv_y * self.kernel(X[i], sv)\n",
    "                y_predict[i] = s\n",
    "        return y_predict + self.b\n",
    "\n",
    "    def predict(self, X):\n",
    "        return np.sign(self.project(X))"
   ]
  },
  {
   "cell_type": "code",
   "execution_count": 21,
   "metadata": {},
   "outputs": [],
   "source": [
    "test3 = SVM(kernel=gaussian_kernel, C=0.46415888336127725)"
   ]
  },
  {
   "cell_type": "code",
   "execution_count": 22,
   "metadata": {},
   "outputs": [
    {
     "name": "stdout",
     "output_type": "stream",
     "text": [
      "59 support vectors out of 100 points\n"
     ]
    },
    {
     "ename": "UFuncTypeError",
     "evalue": "Cannot cast ufunc 'subtract' output from dtype('float64') to dtype('int64') with casting rule 'same_kind'",
     "output_type": "error",
     "traceback": [
      "\u001b[0;31m---------------------------------------------------------------------------\u001b[0m",
      "\u001b[0;31mUFuncTypeError\u001b[0m                            Traceback (most recent call last)",
      "\u001b[0;32m<ipython-input-22-b04919274745>\u001b[0m in \u001b[0;36m<module>\u001b[0;34m\u001b[0m\n\u001b[0;32m----> 1\u001b[0;31m \u001b[0mtest3\u001b[0m\u001b[0;34m.\u001b[0m\u001b[0mfit\u001b[0m\u001b[0;34m(\u001b[0m\u001b[0mX_tr\u001b[0m\u001b[0;34m,\u001b[0m\u001b[0mY_tr\u001b[0m\u001b[0;34m.\u001b[0m\u001b[0mreshape\u001b[0m\u001b[0;34m(\u001b[0m\u001b[0;34m-\u001b[0m\u001b[0;36m1\u001b[0m\u001b[0;34m,\u001b[0m\u001b[0;36m1\u001b[0m\u001b[0;34m)\u001b[0m\u001b[0;34m)\u001b[0m\u001b[0;34m\u001b[0m\u001b[0;34m\u001b[0m\u001b[0m\n\u001b[0m",
      "\u001b[0;32m<ipython-input-20-b7deb2fe5e25>\u001b[0m in \u001b[0;36mfit\u001b[0;34m(self, X, y)\u001b[0m\n\u001b[1;32m     55\u001b[0m         \u001b[0;32mfor\u001b[0m \u001b[0mn\u001b[0m \u001b[0;32min\u001b[0m \u001b[0mrange\u001b[0m\u001b[0;34m(\u001b[0m\u001b[0mlen\u001b[0m\u001b[0;34m(\u001b[0m\u001b[0mself\u001b[0m\u001b[0;34m.\u001b[0m\u001b[0ma\u001b[0m\u001b[0;34m)\u001b[0m\u001b[0;34m)\u001b[0m\u001b[0;34m:\u001b[0m\u001b[0;34m\u001b[0m\u001b[0;34m\u001b[0m\u001b[0m\n\u001b[1;32m     56\u001b[0m             \u001b[0mself\u001b[0m\u001b[0;34m.\u001b[0m\u001b[0mb\u001b[0m \u001b[0;34m+=\u001b[0m \u001b[0mself\u001b[0m\u001b[0;34m.\u001b[0m\u001b[0msv_y\u001b[0m\u001b[0;34m[\u001b[0m\u001b[0mn\u001b[0m\u001b[0;34m]\u001b[0m\u001b[0;34m\u001b[0m\u001b[0;34m\u001b[0m\u001b[0m\n\u001b[0;32m---> 57\u001b[0;31m             \u001b[0mself\u001b[0m\u001b[0;34m.\u001b[0m\u001b[0mb\u001b[0m \u001b[0;34m-=\u001b[0m \u001b[0mnp\u001b[0m\u001b[0;34m.\u001b[0m\u001b[0msum\u001b[0m\u001b[0;34m(\u001b[0m\u001b[0mself\u001b[0m\u001b[0;34m.\u001b[0m\u001b[0ma1\u001b[0m \u001b[0;34m*\u001b[0m \u001b[0mself\u001b[0m\u001b[0;34m.\u001b[0m\u001b[0msv_y\u001b[0m \u001b[0;34m*\u001b[0m \u001b[0mK\u001b[0m\u001b[0;34m[\u001b[0m\u001b[0mind\u001b[0m\u001b[0;34m[\u001b[0m\u001b[0mn\u001b[0m\u001b[0;34m]\u001b[0m\u001b[0;34m,\u001b[0m\u001b[0msv\u001b[0m\u001b[0;34m]\u001b[0m\u001b[0;34m)\u001b[0m\u001b[0;34m\u001b[0m\u001b[0;34m\u001b[0m\u001b[0m\n\u001b[0m\u001b[1;32m     58\u001b[0m         \u001b[0mself\u001b[0m\u001b[0;34m.\u001b[0m\u001b[0mb\u001b[0m \u001b[0;34m/=\u001b[0m \u001b[0mlen\u001b[0m\u001b[0;34m(\u001b[0m\u001b[0mself\u001b[0m\u001b[0;34m.\u001b[0m\u001b[0ma\u001b[0m\u001b[0;34m)\u001b[0m\u001b[0;34m\u001b[0m\u001b[0;34m\u001b[0m\u001b[0m\n\u001b[1;32m     59\u001b[0m \u001b[0;34m\u001b[0m\u001b[0m\n",
      "\u001b[0;31mUFuncTypeError\u001b[0m: Cannot cast ufunc 'subtract' output from dtype('float64') to dtype('int64') with casting rule 'same_kind'"
     ]
    }
   ],
   "source": [
    "test3.fit(X_tr,Y_tr.reshape(-1,1))"
   ]
  },
  {
   "cell_type": "code",
   "execution_count": 23,
   "metadata": {},
   "outputs": [
    {
     "data": {
      "text/plain": [
       "array([4.64158852e-01, 4.64158863e-01, 3.21761300e-01, 4.64158764e-01,\n",
       "       4.64158705e-01, 4.64158717e-01, 4.64158850e-01, 4.64158871e-01,\n",
       "       4.64158786e-01, 4.64158830e-01, 9.82279542e-02, 4.64158860e-01,\n",
       "       4.64158504e-01, 4.64158862e-01, 4.64158736e-01, 4.64158237e-01,\n",
       "       4.64158867e-01, 4.64158597e-01, 4.64158862e-01, 4.64158852e-01,\n",
       "       4.64158861e-01, 4.64158377e-01, 4.64158861e-01, 4.64158862e-01,\n",
       "       4.64158708e-01, 4.64158857e-01, 4.64158818e-01, 4.64158853e-01,\n",
       "       4.64158529e-01, 4.64158845e-01, 4.64158867e-01, 4.64158677e-01,\n",
       "       4.64158854e-01, 4.64158868e-01, 4.64158824e-01, 1.69815193e-01,\n",
       "       4.64158837e-01, 5.27198358e-02, 4.64158864e-01, 4.64158859e-01,\n",
       "       6.16525553e-02, 2.87972542e-05, 4.64158813e-01, 4.64158860e-01,\n",
       "       4.64158830e-01, 2.59080908e-01, 4.64158821e-01, 4.64158743e-01,\n",
       "       4.64157911e-01, 4.64158475e-01, 4.64158823e-01, 4.64158754e-01,\n",
       "       4.64158857e-01, 4.64158857e-01, 4.64158859e-01, 4.64158842e-01,\n",
       "       4.64158848e-01, 4.64158835e-01, 4.64158320e-01])"
      ]
     },
     "execution_count": 23,
     "metadata": {},
     "output_type": "execute_result"
    }
   ],
   "source": [
    "test3.a1"
   ]
  },
  {
   "cell_type": "code",
   "execution_count": 25,
   "metadata": {},
   "outputs": [
    {
     "data": {
      "text/plain": [
       "0.46415888336127725"
      ]
     },
     "execution_count": 25,
     "metadata": {},
     "output_type": "execute_result"
    }
   ],
   "source": [
    "test3.C"
   ]
  },
  {
   "cell_type": "code",
   "execution_count": 268,
   "metadata": {},
   "outputs": [
    {
     "data": {
      "text/plain": [
       "array([-1,  1,  1, -1, -1, -1,  1, -1, -1,  1, -1, -1,  1, -1, -1,  1, -1,\n",
       "       -1, -1, -1, -1,  1,  1, -1, -1,  1, -1,  1, -1, -1,  1,  1, -1, -1,\n",
       "        1,  1,  1,  1,  1,  1,  1,  1, -1, -1,  1, -1, -1,  1, -1, -1,  1,\n",
       "        1,  1,  1,  1, -1, -1, -1, -1, -1,  1,  1,  1, -1, -1,  1,  1, -1,\n",
       "        1, -1,  1, -1, -1,  1,  1, -1,  1,  1,  1,  1, -1, -1,  1, -1,  1,\n",
       "        1, -1,  1,  1, -1,  1,  1, -1, -1,  1,  1, -1, -1,  1, -1])"
      ]
     },
     "execution_count": 268,
     "metadata": {},
     "output_type": "execute_result"
    }
   ],
   "source": [
    "Y_tr"
   ]
  },
  {
   "cell_type": "code",
   "execution_count": null,
   "metadata": {},
   "outputs": [],
   "source": []
  }
 ],
 "metadata": {
  "kernelspec": {
   "display_name": "Python 3",
   "language": "python",
   "name": "python3"
  },
  "language_info": {
   "codemirror_mode": {
    "name": "ipython",
    "version": 3
   },
   "file_extension": ".py",
   "mimetype": "text/x-python",
   "name": "python",
   "nbconvert_exporter": "python",
   "pygments_lexer": "ipython3",
   "version": "3.7.7"
  }
 },
 "nbformat": 4,
 "nbformat_minor": 4
}
