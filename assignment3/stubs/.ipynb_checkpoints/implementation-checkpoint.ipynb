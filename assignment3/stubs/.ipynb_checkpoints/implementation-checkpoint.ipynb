{
 "cells": [
  {
   "cell_type": "code",
   "execution_count": 1,
   "metadata": {},
   "outputs": [],
   "source": [
    "import numpy as np\n",
    "import scipy.linalg as la\n",
    "import itertools as it\n",
    "import time\n",
    "import pylab as pl\n",
    "import random\n",
    "from mpl_toolkits.mplot3d import Axes3D\n",
    "import matplotlib.pyplot as plt\n",
    "from scipy.stats import lognorm\n",
    "from tqdm import tqdm"
   ]
  },
  {
   "cell_type": "code",
   "execution_count": 2,
   "metadata": {},
   "outputs": [
    {
     "data": {
      "text/plain": [
       "[<matplotlib.lines.Line2D at 0x1a21b864d0>]"
      ]
     },
     "execution_count": 2,
     "metadata": {},
     "output_type": "execute_result"
    },
    {
     "data": {
      "image/png": "[encoded data removed]",
      "text/plain": [
       "<Figure size 432x288 with 1 Axes>"
      ]
     },
     "metadata": {
      "needs_background": "light"
     },
     "output_type": "display_data"
    }
   ],
   "source": [
    "# Test\n",
    "def noisysincfunction(N, noise):\n",
    "    ''' noisysincfunction - generate data from the \"noisy sinc function\"\n",
    "        % usage\n",
    "        %     [X, Y] = noisysincfunction(N, noise)\n",
    "        %\n",
    "        % input\n",
    "        %     N: number of data points\n",
    "        %     noise: standard variation of the noise\n",
    "        %\n",
    "        % output\n",
    "        %     X: (1, N)-matrix uniformly sampled in -2pi, pi\n",
    "        %     Y: (1, N)-matrix equal to sinc(X) + noise\n",
    "        %\n",
    "        % description\n",
    "        %     Generates N points from the noisy sinc function\n",
    "        %\n",
    "        %        X ~ uniformly in [-2pi, pi]\n",
    "        %        Y = sinc(X) + eps, eps ~ Normal(0, noise.^2)\n",
    "        %\n",
    "        % author\n",
    "        %     Mikio Braun\n",
    "    '''\n",
    "    X = np.sort(2 * np.pi * np.random.rand(1, N) ) - np.pi\n",
    "    Y = np.sinc(X) + noise * np.random.randn(1, N)\n",
    "    return X.reshape(-1, 1), Y.flatten()\n",
    "Xtr, Ytr = noisysincfunction(100, 0.1)\n",
    "Xte = np.arange( -np.pi, np.pi, 0.01 ).reshape(-1, 1)\n",
    "pl.plot(Xtr,Ytr, 'o')"
   ]
  },
  {
   "cell_type": "code",
   "execution_count": 3,
   "metadata": {},
   "outputs": [],
   "source": [
    "def zero_one_loss(y_true, y_pred):\n",
    "    ''' your header here!\n",
    "    '''\n",
    "    "
   ]
  },
  {
   "cell_type": "code",
   "execution_count": 4,
   "metadata": {},
   "outputs": [],
   "source": [
    "def mean_absolute_error(y_true, y_pred):\n",
    "    ''' \n",
    "    your code here \n",
    "    '''\n",
    "    loss = np.mean(abs(y_pred-y_true))\n",
    "    #loss = np.sum(np.sum((y_pred-y_true)**2)**0.5, axis = 1) / len(y_pred)\n",
    "    return loss"
   ]
  },
  {
   "cell_type": "code",
   "execution_count": 5,
   "metadata": {},
   "outputs": [],
   "source": [
    "def cv(X, y, method, params, loss_function=mean_absolute_error, nfolds=10, nrepetitions=5):\n",
    "    ''' \n",
    "    your header here!\n",
    "    '''\n",
    "    # TODO progress bar, run time estimation\n",
    "    length, width = np.shape(X)\n",
    "    # model = method\n",
    "    method.cvloss = 1000000\n",
    "    params_combinations = list(it.product(params['kernel'], params['kernelparameter'], params['regularization']))\n",
    "    for parameter in tqdm(params_combinations):\n",
    "        #print(parameter[1])\n",
    "        model = method(parameter[0], parameter[1], parameter[2])\n",
    "        e = 0\n",
    "        for i in range(nrepetitions):\n",
    "            # Random Partitioning\n",
    "            X_pos = np.linspace(0,length-1, length)\n",
    "            random.shuffle(X_pos)\n",
    "            part = np.array_split(X_pos, nfolds)\n",
    "            for j in range(nfolds):\n",
    "                # Assign every part not j as training set\n",
    "                # Xtr indices\n",
    "                train = np.concatenate(np.array(part)[tuple([np.array(range(nfolds)) != j])].astype('int')) \n",
    "                X_j = X[train]\n",
    "                y_j = y[train]\n",
    "                model.fit(X_j, y_j)\n",
    "                y_pred = model.predict(X[part[j].astype('int')])\n",
    "                e = e + loss_function(y[part[j].astype('int')], y_pred)\n",
    "        e = e / (nfolds * nrepetitions)\n",
    "        #print('Loss:' + str(model.cvloss))\n",
    "        if e < method.cvloss:\n",
    "            #print(e)\n",
    "            method.cvloss = e\n",
    "            #print('Loss in if:' + str(model.cvloss))\n",
    "            method.__params = parameter\n",
    "    #print(method.params)\n",
    "    method = model.fit(X,y,method.__params[0],method.__params[1],method.__params[2])\n",
    "    return method"
   ]
  },
  {
   "cell_type": "code",
   "execution_count": 6,
   "metadata": {},
   "outputs": [],
   "source": [
    "class krr():\n",
    "    ''' your header here!\n",
    "    '''\n",
    "    def __init__(self, kernel='linear', kernelparameter=1, regularization=0):\n",
    "        self.kernel = kernel\n",
    "        self.kernelparameter = kernelparameter\n",
    "        self.regularization = regularization\n",
    "\n",
    "    def fit(self, X, y, kernel=False, kernelparameter=False, regularization=False):\n",
    "        ''' your header here!\n",
    "        '''\n",
    "        self.__Xtrain = X\n",
    "        self.__ytrain = y\n",
    "        self.__ydim = y.reshape(len(y),-1).shape[1]\n",
    "        \n",
    "        if kernel is not False:\n",
    "            self.kernel = kernel\n",
    "        if kernelparameter is not False:\n",
    "            self.kernelparameter = kernelparameter\n",
    "        if regularization is not False:\n",
    "            self.regularization = regularization\n",
    "        # calculate kernelmatrix\n",
    "        if self.kernel == 'linear':\n",
    "            self.__linearKernel(X)\n",
    "        elif self.kernel == 'polynomial':\n",
    "            self.__polynomialKernel(X)\n",
    "        elif self.kernel == 'gaussian':\n",
    "            self.__gaussianKernel(X)\n",
    "        else:\n",
    "            print(\"\"\"The following kernel {} is not known. Please use either 'linear' , 'polynomial' or 'gaussian'.\"\"\".format(kernel))\n",
    "        if self.regularization == 0:\n",
    "            self.__LOOCV()\n",
    "        \n",
    "        # calculate optimized alpha\n",
    "        I_length = len(self.kernelmatrix)\n",
    "        self.alpha = np.linalg.solve(self.kernelmatrix+self.regularization*np.identity(I_length), self.__ytrain).reshape(-1,len(self.__ytrain))\n",
    "        \n",
    "        return self\n",
    "\n",
    "    def predict(self, X):\n",
    "        ''' your header here!\n",
    "        '''\n",
    "        # calculate kernelmatrix\n",
    "        if self.kernel == 'linear':\n",
    "            self.__linearKernel(X)\n",
    "        elif self.kernel == 'polynomial':\n",
    "            self.__polynomialKernel(X)\n",
    "        elif self.kernel == 'gaussian':\n",
    "            self.__gaussianKernel(X)\n",
    "        # calculate prediction\n",
    "        y_pred = self.alpha.dot(self.kernelmatrix) # <alpha,kernelmatrix>\n",
    "        return y_pred.reshape(len(X),self.__ydim) #len(self.alpha)\n",
    "    \n",
    "    def __linearKernel(self,Y):\n",
    "        self.kernelmatrix = self.__Xtrain.dot(Y.T)\n",
    "        \n",
    "    def __polynomialKernel(self,Y):\n",
    "        self.kernelmatrix = (self.__Xtrain.dot(Y.T)+1)**self.kernelparameter\n",
    "        \n",
    "    def __gaussianKernel(self,Y):\n",
    "        X_len, X_width = self.__Xtrain.shape\n",
    "        self.kernelmatrix = np.exp(-(np.diagonal(self.__Xtrain.dot(self.__Xtrain.T)).reshape(X_len, 1)-2*self.__Xtrain.dot(Y.T)+np.diagonal(Y.dot(Y.T)))/(2*(self.kernelparameter**2)))\n",
    "        \n",
    "    def __LOOCV(self):\n",
    "        # Leave-One-Out-Cross-Validation\n",
    "        # starting squared error\n",
    "        #min_squared_loss = 1000\n",
    "        # Eigenvalue decomposition\n",
    "        squared_loss = []\n",
    "        L, U = np.linalg.eigh(self.kernelmatrix) # L = Eigenvalue, U = Eigenvector\n",
    "        mean_L = np.mean(L)\n",
    "        I = np.identity(len(L))\n",
    "        # for faster computation precalculate U.T.y\n",
    "        UTy = U.T.dot(self.__ytrain)\n",
    "        # logarithmic distribution with mu = mean_L and sigma = 1\n",
    "        # create 50 values of C\n",
    "        # identify C around Kernel eigenvalue means with logarithmic distribution \n",
    "        Cs = np.logspace(-10, 10, 50)*mean_L\n",
    "        for C in Cs: #np.random.lognormal(mean_L,sigma = 1, size = 30):\n",
    "            ULCI = U.dot(L*I).dot((1/(L + C))*I) # (1/(L + C))*I: inverse of diagonal matrix\n",
    "            squared_loss.append(np.sum(((self.__ytrain - ULCI.dot(UTy)) / (1-np.diagonal(ULCI.dot(U.T))))**2) / len(self.__ytrain))\n",
    "        self.regularization = Cs[np.argmin(squared_loss)]\n",
    "                \n",
    "        # Eigenvalue decomposition\n",
    "        #L, U = np.linalg.eigh(self.kernelmatrix) # L = Eigenvalue, U = Eigenvector\n",
    "        #mean_L = np.mean(L)        \n",
    "                \n",
    "        # create candidates\n",
    "        #C = np.logspace(-10, 10, 50)*mean_L\n",
    "        \n",
    "        #UTy = U.T.dot(self.__ytrain)\n",
    "        # \n",
    "        #UL = U.dot(np.diag(L))[None,:,:]\n",
    "        #LC = np.diag(L)[None,:,:]+C[:,None,None]*I[None,:,:]\n",
    "        #ULCI = np.linalg.solve(LC,UL)\n",
    "        \n",
    "        #calculate all quadratic losses for c candidates\n",
    "        #c   =    0xnx1-cxnx1 / (1-cxn)\n",
    "        #epsilon = (np.sum(((Ytr - ULCI.dot(UTy)) / (1-np.diagonal(ULCI.dot(U.T))).reshape(len(C),len(Ytr)))**2, axis = 1) /len(Ytr))\n",
    "    \n",
    "        #best_epsilon = epsilon[np.argmin(epsilon)]\n",
    "    \n",
    "        #self.regularization = C[np.argmin(epsilon)]        \n",
    "        \n",
    "        return self"
   ]
  },
  {
   "cell_type": "code",
   "execution_count": 9,
   "metadata": {},
   "outputs": [
    {
     "ename": "IndexError",
     "evalue": "tuple index out of range",
     "output_type": "error",
     "traceback": [
      "\u001b[0;31m---------------------------------------------------------------------------\u001b[0m",
      "\u001b[0;31mIndexError\u001b[0m                                Traceback (most recent call last)",
      "\u001b[0;32m<ipython-input-9-350650e18817>\u001b[0m in \u001b[0;36m<module>\u001b[0;34m\u001b[0m\n\u001b[1;32m     14\u001b[0m                 \u001b[0mkernelparameter\u001b[0m\u001b[0;34m=\u001b[0m\u001b[0mparams\u001b[0m\u001b[0;34m[\u001b[0m\u001b[0mi\u001b[0m\u001b[0;34m]\u001b[0m\u001b[0;34m,\u001b[0m\u001b[0;34m\u001b[0m\u001b[0;34m\u001b[0m\u001b[0m\n\u001b[1;32m     15\u001b[0m                 regularization=regularizations[i])\n\u001b[0;32m---> 16\u001b[0;31m             \u001b[0mmodel\u001b[0m\u001b[0;34m.\u001b[0m\u001b[0mfit\u001b[0m\u001b[0;34m(\u001b[0m\u001b[0mXtr\u001b[0m\u001b[0;34m,\u001b[0m\u001b[0mYtr\u001b[0m\u001b[0;34m.\u001b[0m\u001b[0mT\u001b[0m\u001b[0;34m)\u001b[0m\u001b[0;34m\u001b[0m\u001b[0;34m\u001b[0m\u001b[0m\n\u001b[0m\u001b[1;32m     17\u001b[0m         \u001b[0;32mif\u001b[0m \u001b[0mj\u001b[0m\u001b[0;34m==\u001b[0m\u001b[0;36m1\u001b[0m\u001b[0;34m:\u001b[0m\u001b[0;34m\u001b[0m\u001b[0;34m\u001b[0m\u001b[0m\n\u001b[1;32m     18\u001b[0m             model = krr(kernel=kernels[i],\n",
      "\u001b[0;32m<ipython-input-6-7d948b8f9704>\u001b[0m in \u001b[0;36mfit\u001b[0;34m(self, X, y, kernel, kernelparameter, regularization)\u001b[0m\n\u001b[1;32m     12\u001b[0m         \u001b[0mself\u001b[0m\u001b[0;34m.\u001b[0m\u001b[0m__Xtrain\u001b[0m \u001b[0;34m=\u001b[0m \u001b[0mX\u001b[0m\u001b[0;34m\u001b[0m\u001b[0;34m\u001b[0m\u001b[0m\n\u001b[1;32m     13\u001b[0m         \u001b[0mself\u001b[0m\u001b[0;34m.\u001b[0m\u001b[0m__ytrain\u001b[0m \u001b[0;34m=\u001b[0m \u001b[0my\u001b[0m\u001b[0;34m\u001b[0m\u001b[0;34m\u001b[0m\u001b[0m\n\u001b[0;32m---> 14\u001b[0;31m         \u001b[0mself\u001b[0m\u001b[0;34m.\u001b[0m\u001b[0m__ydim\u001b[0m \u001b[0;34m=\u001b[0m \u001b[0my\u001b[0m\u001b[0;34m.\u001b[0m\u001b[0mshape\u001b[0m\u001b[0;34m[\u001b[0m\u001b[0;36m1\u001b[0m\u001b[0;34m]\u001b[0m\u001b[0;34m\u001b[0m\u001b[0;34m\u001b[0m\u001b[0m\n\u001b[0m\u001b[1;32m     15\u001b[0m \u001b[0;34m\u001b[0m\u001b[0m\n\u001b[1;32m     16\u001b[0m         \u001b[0;32mif\u001b[0m \u001b[0mkernel\u001b[0m \u001b[0;32mis\u001b[0m \u001b[0;32mnot\u001b[0m \u001b[0;32mFalse\u001b[0m\u001b[0;34m:\u001b[0m\u001b[0;34m\u001b[0m\u001b[0;34m\u001b[0m\u001b[0m\n",
      "\u001b[0;31mIndexError\u001b[0m: tuple index out of range"
     ]
    },
    {
     "data": {
      "image/png": "[encoded data removed]",
      "text/plain": [
       "<Figure size 432x288 with 1 Axes>"
      ]
     },
     "metadata": {
      "needs_background": "light"
     },
     "output_type": "display_data"
    }
   ],
   "source": [
    "Xtr, Ytr = noisysincfunction(100, 0.1)\n",
    "Xte = np.arange( -np.pi, np.pi, 0.01 ).reshape(-1, 1)\n",
    "\n",
    "pl.figure()\n",
    "kernels = ['gaussian','polynomial','linear']\n",
    "titles = ['gaussian','polynomial','linear']\n",
    "params = [0.5,6,0]\n",
    "regularizations = [ 0.01,0.01,0.01]\n",
    "for i in range(3):\n",
    "    for j in range(2):\n",
    "        pl.subplot(2,3,1+i+3*j)\n",
    "        if j==0:\n",
    "            model = krr(kernel=kernels[i],\n",
    "                kernelparameter=params[i],\n",
    "                regularization=regularizations[i])\n",
    "            model.fit(Xtr,Ytr)\n",
    "        if j==1:\n",
    "            model = krr(kernel=kernels[i],\n",
    "                kernelparameter=params[i],\n",
    "                regularization=0)\n",
    "            model.fit(Xtr,Ytr)\n",
    "        ypred = model.predict(Xte)\n",
    "        pl.plot(Xtr,Ytr)\n",
    "        pl.plot(Xte,ypred)\n",
    "        if j==0 and i == 0:\n",
    "            pl.ylabel('fixed regularization')\n",
    "        if j==1 and i == 0:\n",
    "            pl.ylabel('reg. by efficent cv')\n",
    "        pl.title( titles[i] )\n",
    "pl.show()\n"
   ]
  },
  {
   "cell_type": "code",
   "execution_count": 15,
   "metadata": {},
   "outputs": [
    {
     "data": {
      "text/plain": [
       "(100, 1)"
      ]
     },
     "execution_count": 15,
     "metadata": {},
     "output_type": "execute_result"
    }
   ],
   "source": [
    "Ytr.reshape(100,-1).shape"
   ]
  },
  {
   "cell_type": "code",
   "execution_count": null,
   "metadata": {},
   "outputs": [],
   "source": [
    "Xtr, Ytr = noisysincfunction(100, 0.1)\n",
    "Xte = np.arange( -np.pi, np.pi, 0.01 ).reshape(-1, 1)\n",
    "\n",
    "pl.figure()\n",
    "kernels = ['gaussian','polynomial','linear']\n",
    "titles = ['gaussian','polynomial','linear']\n",
    "params = [0.5,6,0]\n",
    "regularizations = [ 0.01,0.01,0.01]"
   ]
  },
  {
   "cell_type": "code",
   "execution_count": null,
   "metadata": {},
   "outputs": [],
   "source": [
    "model = krr(kernel=kernels[0],\n",
    "                kernelparameter=params[0],\n",
    "                regularization=regularizations[0])"
   ]
  },
  {
   "cell_type": "code",
   "execution_count": null,
   "metadata": {},
   "outputs": [],
   "source": [
    "model.fit(Xtr,Ytr)"
   ]
  },
  {
   "cell_type": "code",
   "execution_count": null,
   "metadata": {},
   "outputs": [],
   "source": [
    "model.kernelmatrix"
   ]
  },
  {
   "cell_type": "code",
   "execution_count": null,
   "metadata": {},
   "outputs": [],
   "source": [
    "model.kernelmatrix"
   ]
  },
  {
   "cell_type": "code",
   "execution_count": null,
   "metadata": {},
   "outputs": [],
   "source": [
    "model.alpha.dot(model.kernelmatrix.reshape(len(Xtr), len(Xtr)))"
   ]
  },
  {
   "cell_type": "markdown",
   "metadata": {},
   "source": [
    "Ytr"
   ]
  },
  {
   "cell_type": "markdown",
   "metadata": {},
   "source": [
    "model.predict(Xte)"
   ]
  },
  {
   "cell_type": "markdown",
   "metadata": {},
   "source": [
    "I_length = len(model.kernelmatrix)\n",
    "#self.alpha = np.linalg.solve(self.kernelmatrix+self.regularization*np.identity(I_length), self.__ytrain).reshape(-1,len(self.__ytrain))\n",
    "y_pred = (model.kernelmatrix+model.regularization*np.identity(I_length)).dot(model.alpha)"
   ]
  },
  {
   "cell_type": "markdown",
   "metadata": {},
   "source": [
    "y_pred"
   ]
  },
  {
   "cell_type": "markdown",
   "metadata": {},
   "source": [
    "float(y_pred[0])"
   ]
  },
  {
   "cell_type": "markdown",
   "metadata": {},
   "source": [
    "float(Ytr[0])"
   ]
  },
  {
   "cell_type": "code",
   "execution_count": 8,
   "metadata": {},
   "outputs": [
    {
     "name": "stderr",
     "output_type": "stream",
     "text": [
      "  0%|          | 0/200 [00:00<?, ?it/s]\n"
     ]
    },
    {
     "ename": "IndexError",
     "evalue": "tuple index out of range",
     "output_type": "error",
     "traceback": [
      "\u001b[0;31m---------------------------------------------------------------------------\u001b[0m",
      "\u001b[0;31mIndexError\u001b[0m                                Traceback (most recent call last)",
      "\u001b[0;32m<ipython-input-8-e458ed3cf69c>\u001b[0m in \u001b[0;36m<module>\u001b[0;34m\u001b[0m\n\u001b[1;32m      5\u001b[0m \u001b[0mpl\u001b[0m\u001b[0;34m.\u001b[0m\u001b[0msubplot\u001b[0m\u001b[0;34m(\u001b[0m\u001b[0;36m1\u001b[0m\u001b[0;34m,\u001b[0m\u001b[0;36m2\u001b[0m\u001b[0;34m,\u001b[0m\u001b[0;36m1\u001b[0m\u001b[0;34m)\u001b[0m\u001b[0;34m\u001b[0m\u001b[0;34m\u001b[0m\u001b[0m\n\u001b[1;32m      6\u001b[0m \u001b[0mparams\u001b[0m \u001b[0;34m=\u001b[0m \u001b[0;34m{\u001b[0m \u001b[0;34m'kernel'\u001b[0m\u001b[0;34m:\u001b[0m \u001b[0;34m[\u001b[0m\u001b[0;34m'gaussian'\u001b[0m\u001b[0;34m]\u001b[0m\u001b[0;34m,\u001b[0m \u001b[0;34m'kernelparameter'\u001b[0m\u001b[0;34m:\u001b[0m \u001b[0mnp\u001b[0m\u001b[0;34m.\u001b[0m\u001b[0mlogspace\u001b[0m\u001b[0;34m(\u001b[0m\u001b[0;34m-\u001b[0m\u001b[0;36m4\u001b[0m\u001b[0;34m,\u001b[0m\u001b[0;36m4\u001b[0m\u001b[0;34m,\u001b[0m\u001b[0;36m20\u001b[0m\u001b[0;34m)\u001b[0m\u001b[0;34m,\u001b[0m \u001b[0;34m'regularization'\u001b[0m\u001b[0;34m:\u001b[0m \u001b[0mnp\u001b[0m\u001b[0;34m.\u001b[0m\u001b[0mlogspace\u001b[0m\u001b[0;34m(\u001b[0m\u001b[0;34m-\u001b[0m\u001b[0;36m2\u001b[0m\u001b[0;34m,\u001b[0m\u001b[0;36m2\u001b[0m\u001b[0;34m,\u001b[0m\u001b[0;36m10\u001b[0m\u001b[0;34m)\u001b[0m \u001b[0;34m}\u001b[0m\u001b[0;34m\u001b[0m\u001b[0;34m\u001b[0m\u001b[0m\n\u001b[0;32m----> 7\u001b[0;31m \u001b[0mcvkrr\u001b[0m \u001b[0;34m=\u001b[0m \u001b[0mcv\u001b[0m\u001b[0;34m(\u001b[0m\u001b[0mXtr\u001b[0m\u001b[0;34m,\u001b[0m \u001b[0mYtr\u001b[0m\u001b[0;34m,\u001b[0m \u001b[0mkrr\u001b[0m\u001b[0;34m,\u001b[0m \u001b[0mparams\u001b[0m\u001b[0;34m,\u001b[0m \u001b[0mloss_function\u001b[0m\u001b[0;34m=\u001b[0m\u001b[0mmean_absolute_error\u001b[0m\u001b[0;34m,\u001b[0m \u001b[0mnrepetitions\u001b[0m\u001b[0;34m=\u001b[0m\u001b[0;36m2\u001b[0m\u001b[0;34m)\u001b[0m\u001b[0;34m\u001b[0m\u001b[0;34m\u001b[0m\u001b[0m\n\u001b[0m\u001b[1;32m      8\u001b[0m \u001b[0mypred\u001b[0m \u001b[0;34m=\u001b[0m \u001b[0mcvkrr\u001b[0m\u001b[0;34m.\u001b[0m\u001b[0mpredict\u001b[0m\u001b[0;34m(\u001b[0m\u001b[0mXte\u001b[0m\u001b[0;34m)\u001b[0m\u001b[0;34m\u001b[0m\u001b[0;34m\u001b[0m\u001b[0m\n\u001b[1;32m      9\u001b[0m \u001b[0mprint\u001b[0m\u001b[0;34m(\u001b[0m\u001b[0;34m'Regularization range: 10**-4 .. 10**4'\u001b[0m\u001b[0;34m)\u001b[0m\u001b[0;34m\u001b[0m\u001b[0;34m\u001b[0m\u001b[0m\n",
      "\u001b[0;32m<ipython-input-5-7f5ac4ba156c>\u001b[0m in \u001b[0;36mcv\u001b[0;34m(X, y, method, params, loss_function, nfolds, nrepetitions)\u001b[0m\n\u001b[1;32m     23\u001b[0m                 \u001b[0mX_j\u001b[0m \u001b[0;34m=\u001b[0m \u001b[0mX\u001b[0m\u001b[0;34m[\u001b[0m\u001b[0mtrain\u001b[0m\u001b[0;34m]\u001b[0m\u001b[0;34m\u001b[0m\u001b[0;34m\u001b[0m\u001b[0m\n\u001b[1;32m     24\u001b[0m                 \u001b[0my_j\u001b[0m \u001b[0;34m=\u001b[0m \u001b[0my\u001b[0m\u001b[0;34m[\u001b[0m\u001b[0mtrain\u001b[0m\u001b[0;34m]\u001b[0m\u001b[0;34m\u001b[0m\u001b[0;34m\u001b[0m\u001b[0m\n\u001b[0;32m---> 25\u001b[0;31m                 \u001b[0mmodel\u001b[0m\u001b[0;34m.\u001b[0m\u001b[0mfit\u001b[0m\u001b[0;34m(\u001b[0m\u001b[0mX_j\u001b[0m\u001b[0;34m,\u001b[0m \u001b[0my_j\u001b[0m\u001b[0;34m)\u001b[0m\u001b[0;34m\u001b[0m\u001b[0;34m\u001b[0m\u001b[0m\n\u001b[0m\u001b[1;32m     26\u001b[0m                 \u001b[0my_pred\u001b[0m \u001b[0;34m=\u001b[0m \u001b[0mmodel\u001b[0m\u001b[0;34m.\u001b[0m\u001b[0mpredict\u001b[0m\u001b[0;34m(\u001b[0m\u001b[0mX\u001b[0m\u001b[0;34m[\u001b[0m\u001b[0mpart\u001b[0m\u001b[0;34m[\u001b[0m\u001b[0mj\u001b[0m\u001b[0;34m]\u001b[0m\u001b[0;34m.\u001b[0m\u001b[0mastype\u001b[0m\u001b[0;34m(\u001b[0m\u001b[0;34m'int'\u001b[0m\u001b[0;34m)\u001b[0m\u001b[0;34m]\u001b[0m\u001b[0;34m)\u001b[0m\u001b[0;34m\u001b[0m\u001b[0;34m\u001b[0m\u001b[0m\n\u001b[1;32m     27\u001b[0m                 \u001b[0me\u001b[0m \u001b[0;34m=\u001b[0m \u001b[0me\u001b[0m \u001b[0;34m+\u001b[0m \u001b[0mloss_function\u001b[0m\u001b[0;34m(\u001b[0m\u001b[0my\u001b[0m\u001b[0;34m[\u001b[0m\u001b[0mpart\u001b[0m\u001b[0;34m[\u001b[0m\u001b[0mj\u001b[0m\u001b[0;34m]\u001b[0m\u001b[0;34m.\u001b[0m\u001b[0mastype\u001b[0m\u001b[0;34m(\u001b[0m\u001b[0;34m'int'\u001b[0m\u001b[0;34m)\u001b[0m\u001b[0;34m]\u001b[0m\u001b[0;34m,\u001b[0m \u001b[0my_pred\u001b[0m\u001b[0;34m)\u001b[0m\u001b[0;34m\u001b[0m\u001b[0;34m\u001b[0m\u001b[0m\n",
      "\u001b[0;32m<ipython-input-6-7d948b8f9704>\u001b[0m in \u001b[0;36mfit\u001b[0;34m(self, X, y, kernel, kernelparameter, regularization)\u001b[0m\n\u001b[1;32m     12\u001b[0m         \u001b[0mself\u001b[0m\u001b[0;34m.\u001b[0m\u001b[0m__Xtrain\u001b[0m \u001b[0;34m=\u001b[0m \u001b[0mX\u001b[0m\u001b[0;34m\u001b[0m\u001b[0;34m\u001b[0m\u001b[0m\n\u001b[1;32m     13\u001b[0m         \u001b[0mself\u001b[0m\u001b[0;34m.\u001b[0m\u001b[0m__ytrain\u001b[0m \u001b[0;34m=\u001b[0m \u001b[0my\u001b[0m\u001b[0;34m\u001b[0m\u001b[0;34m\u001b[0m\u001b[0m\n\u001b[0;32m---> 14\u001b[0;31m         \u001b[0mself\u001b[0m\u001b[0;34m.\u001b[0m\u001b[0m__ydim\u001b[0m \u001b[0;34m=\u001b[0m \u001b[0my\u001b[0m\u001b[0;34m.\u001b[0m\u001b[0mshape\u001b[0m\u001b[0;34m[\u001b[0m\u001b[0;36m1\u001b[0m\u001b[0;34m]\u001b[0m\u001b[0;34m\u001b[0m\u001b[0;34m\u001b[0m\u001b[0m\n\u001b[0m\u001b[1;32m     15\u001b[0m \u001b[0;34m\u001b[0m\u001b[0m\n\u001b[1;32m     16\u001b[0m         \u001b[0;32mif\u001b[0m \u001b[0mkernel\u001b[0m \u001b[0;32mis\u001b[0m \u001b[0;32mnot\u001b[0m \u001b[0;32mFalse\u001b[0m\u001b[0;34m:\u001b[0m\u001b[0;34m\u001b[0m\u001b[0;34m\u001b[0m\u001b[0m\n",
      "\u001b[0;31mIndexError\u001b[0m: tuple index out of range"
     ]
    },
    {
     "data": {
      "image/png": "[encoded data removed]",
      "text/plain": [
       "<Figure size 432x288 with 1 Axes>"
      ]
     },
     "metadata": {
      "needs_background": "light"
     },
     "output_type": "display_data"
    }
   ],
   "source": [
    "Xtr, Ytr = noisysincfunction(100, 0.1)\n",
    "Xte = np.arange( -np.pi, np.pi, 0.01 ).reshape(-1, 1)\n",
    "\n",
    "pl.figure()\n",
    "pl.subplot(1,2,1)\n",
    "params = { 'kernel': ['gaussian'], 'kernelparameter': np.logspace(-4,4,20), 'regularization': np.logspace(-2,2,10) }\n",
    "cvkrr = cv(Xtr, Ytr, krr, params, loss_function=mean_absolute_error, nrepetitions=2)\n",
    "ypred = cvkrr.predict(Xte)\n",
    "print('Regularization range: 10**-4 .. 10**4')\n",
    "print('Gaussian kernel parameter: ', cvkrr.kernelparameter)\n",
    "print('Regularization paramter: ', cvkrr.regularization)\n",
    "\n",
    "pl.plot(Xtr,Ytr)\n",
    "pl.plot(Xte,ypred)\n",
    "\n",
    "pl.subplot(1,2,2)\n",
    "params = { 'kernel': ['gaussian'], 'kernelparameter': np.logspace(-2,2,10), 'regularization': [0]}\n",
    "cvkrr = cv(Xtr, Ytr, krr, params, loss_function=mean_absolute_error, nrepetitions=2)\n",
    "ypred = cvkrr.predict(Xte)\n",
    "print('Regularization via efficient leave on out')\n",
    "print('Kernel parameter: ', cvkrr.kernelparameter)\n",
    "print('Regularization paramter: ', cvkrr.regularization)\n",
    "\n",
    "pl.plot(Xtr,Ytr)\n",
    "pl.plot(Xte,ypred)\n",
    "pl.show()"
   ]
  },
  {
   "cell_type": "code",
   "execution_count": null,
   "metadata": {},
   "outputs": [],
   "source": []
  }
 ],
 "metadata": {
  "kernelspec": {
   "display_name": "Python 3",
   "language": "python",
   "name": "python3"
  },
  "language_info": {
   "codemirror_mode": {
    "name": "ipython",
    "version": 3
   },
   "file_extension": ".py",
   "mimetype": "text/x-python",
   "name": "python",
   "nbconvert_exporter": "python",
   "pygments_lexer": "ipython3",
   "version": "3.7.7"
  }
 },
 "nbformat": 4,
 "nbformat_minor": 4
}
