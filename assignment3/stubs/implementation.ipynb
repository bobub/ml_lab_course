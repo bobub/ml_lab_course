{
 "cells": [
  {
   "cell_type": "code",
   "execution_count": 50,
   "metadata": {},
   "outputs": [],
   "source": [
    "import numpy as np\n",
    "import scipy.linalg as la\n",
    "import itertools as it\n",
    "import time\n",
    "import pylab as pl\n",
    "import random\n",
    "from mpl_toolkits.mplot3d import Axes3D"
   ]
  },
  {
   "cell_type": "code",
   "execution_count": 6,
   "metadata": {},
   "outputs": [
    {
     "data": {
      "text/plain": [
       "[<matplotlib.lines.Line2D at 0x614602ed0>]"
      ]
     },
     "execution_count": 6,
     "metadata": {},
     "output_type": "execute_result"
    },
    {
     "data": {
      "image/png": "[encoded data removed]",
      "text/plain": [
       "<Figure size 432x288 with 1 Axes>"
      ]
     },
     "metadata": {
      "needs_background": "light"
     },
     "output_type": "display_data"
    }
   ],
   "source": [
    "# Test\n",
    "def noisysincfunction(N, noise):\n",
    "    ''' noisysincfunction - generate data from the \"noisy sinc function\"\n",
    "        % usage\n",
    "        %     [X, Y] = noisysincfunction(N, noise)\n",
    "        %\n",
    "        % input\n",
    "        %     N: number of data points\n",
    "        %     noise: standard variation of the noise\n",
    "        %\n",
    "        % output\n",
    "        %     X: (1, N)-matrix uniformly sampled in -2pi, pi\n",
    "        %     Y: (1, N)-matrix equal to sinc(X) + noise\n",
    "        %\n",
    "        % description\n",
    "        %     Generates N points from the noisy sinc function\n",
    "        %\n",
    "        %        X ~ uniformly in [-2pi, pi]\n",
    "        %        Y = sinc(X) + eps, eps ~ Normal(0, noise.^2)\n",
    "        %\n",
    "        % author\n",
    "        %     Mikio Braun\n",
    "    '''\n",
    "    X = np.sort(2 * np.pi * np.random.rand(1, N) ) - np.pi\n",
    "    Y = np.sinc(X) + noise * np.random.randn(1, N)\n",
    "    return X.reshape(-1, 1), Y.flatten()\n",
    "Xtr, Ytr = noisysincfunction(100, 0.1)\n",
    "Xte = np.arange( -np.pi, np.pi, 0.01 ).reshape(-1, 1)\n",
    "pl.plot(Xtr,Ytr, 'o')"
   ]
  },
  {
   "cell_type": "code",
   "execution_count": 267,
   "metadata": {},
   "outputs": [],
   "source": [
    "X = Xtr\n",
    "y = Ytr"
   ]
  },
  {
   "cell_type": "code",
   "execution_count": null,
   "metadata": {},
   "outputs": [],
   "source": [
    "def zero_one_loss(y_true, y_pred):\n",
    "    ''' your header here!\n",
    "    '''\n",
    "    "
   ]
  },
  {
   "cell_type": "code",
   "execution_count": 265,
   "metadata": {},
   "outputs": [],
   "source": [
    "def mean_absolute_error(y_true, y_pred):\n",
    "    ''' \n",
    "    your code here \n",
    "    '''\n",
    "    loss = np.sum(((y_pred-y_true)**2)**0.5) / len(y_pred)\n",
    "    return loss"
   ]
  },
  {
   "cell_type": "code",
   "execution_count": null,
   "metadata": {},
   "outputs": [],
   "source": [
    "def cv(X, y, method, params, loss_function=mean_absolute_error, nfolds=10, nrepetitions=5):\n",
    "    ''' \n",
    "    your header here!\n",
    "    '''\n",
    "    length, width = np.shape(Xtr)\n",
    "    for parameter in it.product(parameters['key1'],parameters['key2'])\n",
    "        for i in range(nrepetitions):\n",
    "            e_avg = 0\n",
    "            # Random Partitioning\n",
    "            X_pos = np.linspace(0,length-1, length)\n",
    "            random.shuffle(X_pos)\n",
    "            part = np.array_split(X_pos, nfolds)\n",
    "            for j in range(nfolds):\n",
    "                # Assign every part not j as training set\n",
    "                # Xtr indices\n",
    "                train = np.concatenate(np.array(part)[tuple([np.array(range(nfolds)) != j])]) \n",
    "                X_j = X[train]\n",
    "                y_j = y[train]\n",
    "                method.fit(X_j, y_j)\n",
    "                y_pred = method.predict(X[part[j]])\n",
    "                e = e + loss_function(y[part[j], y_pred])\n",
    "        e = e / nfolds * nrepetitions\n",
    "    return method"
   ]
  },
  {
   "cell_type": "code",
   "execution_count": 273,
   "metadata": {},
   "outputs": [],
   "source": [
    "class krr():\n",
    "    ''' your header here!\n",
    "    '''\n",
    "    def __init__(self, kernel='linear', kernelparameter=1, regularization=0):\n",
    "        self.kernel = kernel\n",
    "        self.kernelparameter = kernelparameter\n",
    "        self.regularization = regularization\n",
    "\n",
    "    def fit(self, X, y, kernel=False, kernelparameter=False, regularization=False):\n",
    "        ''' your header here!\n",
    "        '''\n",
    "        if kernel is not False:\n",
    "            self.kernel = kernel\n",
    "        if kernelparameter is not False:\n",
    "            self.kernelparameter = kernelparameter\n",
    "        if regularization is not False:\n",
    "            self.regularization = regularization\n",
    "        if self.kernel == 'linear':\n",
    "            self.kernelmatrix = X.T.dot(X)\n",
    "        elif self.kernel == 'polynomial':\n",
    "            self.kernelmatrix = (X.T.dot(X)+1)**self.kernelparameter\n",
    "        #elif self.kernel == 'gaussian':\n",
    "        #    self.kernelmatrix = np.exp(-np.linalg.norm(X[None, :] - X[:,None], axis = 2)**2/(2*self.kernelparameter)**2)\n",
    "\n",
    "        return self\n",
    "\n",
    "    def predict(self, X):\n",
    "        ''' your header here!\n",
    "        '''\n",
    "        return self\n"
   ]
  },
  {
   "cell_type": "code",
   "execution_count": 290,
   "metadata": {},
   "outputs": [
    {
     "data": {
      "text/plain": [
       "array([[357.42454284]])"
      ]
     },
     "execution_count": 290,
     "metadata": {},
     "output_type": "execute_result"
    }
   ],
   "source": [
    "# linear kernel\n",
    "X.T.dot(X)"
   ]
  },
  {
   "cell_type": "code",
   "execution_count": 279,
   "metadata": {},
   "outputs": [],
   "source": [
    "test = method.fit(Xtr,Ytr)"
   ]
  },
  {
   "cell_type": "code",
   "execution_count": 184,
   "metadata": {},
   "outputs": [],
   "source": [
    "e_avg = 0\n",
    "length, width = np.shape(Xtr)\n",
    "k = 5\n",
    "# Random Partitioning\n",
    "array = np.array(range(0,length))\n",
    "random.Random(seed).shuffle(array)\n",
    "part = np.array_split(array, k)\n",
    "for j in range(k):\n",
    "    # Assign every part not j as training set\n",
    "    # Xtr indices\n",
    "    train = np.concatenate(np.array(part)[tuple([np.array(range(k)) != j])]) \n",
    "    X_j = X[train]\n",
    "    y_j = y[train]\n",
    "    method.fit(X_j, y_j)\n",
    "    y_pred = method.predict(X[part[j]])\n",
    "    e = e + loss_function(y[part[j], y_pred])"
   ]
  },
  {
   "cell_type": "code",
   "execution_count": 269,
   "metadata": {},
   "outputs": [
    {
     "data": {
      "text/plain": [
       "array([[73, 86, 82, 23,  1, 42, 57, 40, 76, 69, 25, 94,  9, 41, 88, 83,\n",
       "        74, 91, 67, 95],\n",
       "       [79, 75,  6, 72,  4, 71, 63, 62, 20, 65, 89, 60, 29, 56, 59, 90,\n",
       "        16, 84, 14, 10],\n",
       "       [85, 44, 58, 98, 77, 26, 12, 32, 48, 54, 45, 36, 18,  0, 93, 53,\n",
       "        81, 55, 52,  5],\n",
       "       [17, 99, 15, 80, 31, 64, 49, 43, 96, 47, 87, 39, 21, 24, 34, 78,\n",
       "         3, 27, 33, 97],\n",
       "       [22, 35, 46, 68, 66, 28,  7, 37, 70, 51,  2,  8, 11, 19, 61, 50,\n",
       "        92, 13, 38, 30]])"
      ]
     },
     "execution_count": 269,
     "metadata": {},
     "output_type": "execute_result"
    }
   ],
   "source": [
    "np.array(part)"
   ]
  },
  {
   "cell_type": "code",
   "execution_count": 262,
   "metadata": {},
   "outputs": [],
   "source": [
    "train = np.concatenate(np.array(part)[tuple([np.array(range(k)) != j])])"
   ]
  },
  {
   "cell_type": "code",
   "execution_count": 271,
   "metadata": {},
   "outputs": [
    {
     "data": {
      "text/plain": [
       "array([[-2.1667773 ],\n",
       "       [-1.60085082],\n",
       "       [-0.90474632],\n",
       "       [ 0.80515206],\n",
       "       [ 0.43998515],\n",
       "       [-1.85977173],\n",
       "       [-2.52885584],\n",
       "       [-1.41944831],\n",
       "       [ 1.02201808],\n",
       "       [-0.63847983],\n",
       "       [-2.7641784 ],\n",
       "       [-2.51567777],\n",
       "       [-2.44158305],\n",
       "       [-2.24314595],\n",
       "       [ 0.09750934],\n",
       "       [-0.82943265],\n",
       "       [ 2.63488265],\n",
       "       [-2.32327049],\n",
       "       [-1.41760621],\n",
       "       [-1.82927739]])"
      ]
     },
     "execution_count": 271,
     "metadata": {},
     "output_type": "execute_result"
    }
   ],
   "source": [
    "Xtr[part[j]]"
   ]
  },
  {
   "cell_type": "code",
   "execution_count": 258,
   "metadata": {},
   "outputs": [
    {
     "name": "stdout",
     "output_type": "stream",
     "text": [
      "[[79 75  6 72  4 71 63 62 20 65 89 60 29 56 59 90 16 84 14 10]\n",
      " [85 44 58 98 77 26 12 32 48 54 45 36 18  0 93 53 81 55 52  5]\n",
      " [17 99 15 80 31 64 49 43 96 47 87 39 21 24 34 78  3 27 33 97]\n",
      " [22 35 46 68 66 28  7 37 70 51  2  8 11 19 61 50 92 13 38 30]]\n",
      "[[73 86 82 23  1 42 57 40 76 69 25 94  9 41 88 83 74 91 67 95]\n",
      " [85 44 58 98 77 26 12 32 48 54 45 36 18  0 93 53 81 55 52  5]\n",
      " [17 99 15 80 31 64 49 43 96 47 87 39 21 24 34 78  3 27 33 97]\n",
      " [22 35 46 68 66 28  7 37 70 51  2  8 11 19 61 50 92 13 38 30]]\n",
      "[[73 86 82 23  1 42 57 40 76 69 25 94  9 41 88 83 74 91 67 95]\n",
      " [79 75  6 72  4 71 63 62 20 65 89 60 29 56 59 90 16 84 14 10]\n",
      " [17 99 15 80 31 64 49 43 96 47 87 39 21 24 34 78  3 27 33 97]\n",
      " [22 35 46 68 66 28  7 37 70 51  2  8 11 19 61 50 92 13 38 30]]\n",
      "[[73 86 82 23  1 42 57 40 76 69 25 94  9 41 88 83 74 91 67 95]\n",
      " [79 75  6 72  4 71 63 62 20 65 89 60 29 56 59 90 16 84 14 10]\n",
      " [85 44 58 98 77 26 12 32 48 54 45 36 18  0 93 53 81 55 52  5]\n",
      " [22 35 46 68 66 28  7 37 70 51  2  8 11 19 61 50 92 13 38 30]]\n",
      "[[73 86 82 23  1 42 57 40 76 69 25 94  9 41 88 83 74 91 67 95]\n",
      " [79 75  6 72  4 71 63 62 20 65 89 60 29 56 59 90 16 84 14 10]\n",
      " [85 44 58 98 77 26 12 32 48 54 45 36 18  0 93 53 81 55 52  5]\n",
      " [17 99 15 80 31 64 49 43 96 47 87 39 21 24 34 78  3 27 33 97]]\n"
     ]
    }
   ],
   "source": [
    "for j in range(k):\n",
    "    print(np.array(part)[tuple([np.array(range(k)) != j])])"
   ]
  },
  {
   "cell_type": "code",
   "execution_count": 243,
   "metadata": {},
   "outputs": [
    {
     "data": {
      "text/plain": [
       "array([30, 40,  5,  0])"
      ]
     },
     "execution_count": 243,
     "metadata": {},
     "output_type": "execute_result"
    }
   ],
   "source": [
    "np.array([1,30,40,5,0])[tuple([np.array(range(k)) != j])]"
   ]
  },
  {
   "cell_type": "code",
   "execution_count": 236,
   "metadata": {},
   "outputs": [
    {
     "ename": "TypeError",
     "evalue": "list indices must be integers or slices, not list",
     "output_type": "error",
     "traceback": [
      "\u001b[0;31m---------------------------------------------------------------------------\u001b[0m",
      "\u001b[0;31mTypeError\u001b[0m                                 Traceback (most recent call last)",
      "\u001b[0;32m<ipython-input-236-23d0790949c6>\u001b[0m in \u001b[0;36m<module>\u001b[0;34m\u001b[0m\n\u001b[0;32m----> 1\u001b[0;31m \u001b[0mpart\u001b[0m\u001b[0;34m[\u001b[0m\u001b[0;34m[\u001b[0m\u001b[0mtuple\u001b[0m\u001b[0;34m(\u001b[0m\u001b[0;34m[\u001b[0m\u001b[0mnp\u001b[0m\u001b[0;34m.\u001b[0m\u001b[0marray\u001b[0m\u001b[0;34m(\u001b[0m\u001b[0mrange\u001b[0m\u001b[0;34m(\u001b[0m\u001b[0mk\u001b[0m\u001b[0;34m)\u001b[0m\u001b[0;34m)\u001b[0m \u001b[0;34m!=\u001b[0m \u001b[0mj\u001b[0m\u001b[0;34m]\u001b[0m\u001b[0;34m)\u001b[0m\u001b[0;34m]\u001b[0m\u001b[0;34m]\u001b[0m\u001b[0;34m\u001b[0m\u001b[0;34m\u001b[0m\u001b[0m\n\u001b[0m",
      "\u001b[0;31mTypeError\u001b[0m: list indices must be integers or slices, not list"
     ]
    }
   ],
   "source": [
    "part[[tuple([np.array(range(k)) != j])]]"
   ]
  },
  {
   "cell_type": "code",
   "execution_count": 235,
   "metadata": {},
   "outputs": [
    {
     "data": {
      "text/plain": [
       "array([1, 2, 3, 4])"
      ]
     },
     "execution_count": 235,
     "metadata": {},
     "output_type": "execute_result"
    }
   ],
   "source": [
    "np.array(range(k))[tuple([np.array(range(k)) != j])]"
   ]
  },
  {
   "cell_type": "code",
   "execution_count": 213,
   "metadata": {},
   "outputs": [
    {
     "ename": "TypeError",
     "evalue": "only integer scalar arrays can be converted to a scalar index",
     "output_type": "error",
     "traceback": [
      "\u001b[0;31m---------------------------------------------------------------------------\u001b[0m",
      "\u001b[0;31mTypeError\u001b[0m                                 Traceback (most recent call last)",
      "\u001b[0;32m<ipython-input-213-d981e9012395>\u001b[0m in \u001b[0;36m<module>\u001b[0;34m\u001b[0m\n\u001b[0;32m----> 1\u001b[0;31m \u001b[0mpart\u001b[0m\u001b[0;34m[\u001b[0m\u001b[0mnp\u001b[0m\u001b[0;34m.\u001b[0m\u001b[0marray\u001b[0m\u001b[0;34m(\u001b[0m\u001b[0mrange\u001b[0m\u001b[0;34m(\u001b[0m\u001b[0mk\u001b[0m\u001b[0;34m)\u001b[0m\u001b[0;34m)\u001b[0m\u001b[0;34m[\u001b[0m\u001b[0;32mTrue\u001b[0m\u001b[0;34m,\u001b[0m \u001b[0;32mTrue\u001b[0m\u001b[0;34m,\u001b[0m \u001b[0;32mTrue\u001b[0m\u001b[0;34m,\u001b[0m \u001b[0;32mFalse\u001b[0m\u001b[0;34m,\u001b[0m \u001b[0;32mFalse\u001b[0m\u001b[0;34m]\u001b[0m\u001b[0;34m]\u001b[0m\u001b[0;34m\u001b[0m\u001b[0;34m\u001b[0m\u001b[0m\n\u001b[0m",
      "\u001b[0;31mTypeError\u001b[0m: only integer scalar arrays can be converted to a scalar index"
     ]
    }
   ],
   "source": [
    "part[np.array(range(k))[True, True, True, False, False]]"
   ]
  },
  {
   "cell_type": "code",
   "execution_count": 223,
   "metadata": {},
   "outputs": [
    {
     "name": "stderr",
     "output_type": "stream",
     "text": [
      "/Users/leo/anaconda3/envs/Python37/lib/python3.7/site-packages/ipykernel_launcher.py:1: FutureWarning: Using a non-tuple sequence for multidimensional indexing is deprecated; use `arr[tuple(seq)]` instead of `arr[seq]`. In the future this will be interpreted as an array index, `arr[np.array(seq)]`, which will result either in an error or a different result.\n",
      "  \"\"\"Entry point for launching an IPython kernel.\n"
     ]
    },
    {
     "data": {
      "text/plain": [
       "array([1, 2, 3, 4])"
      ]
     },
     "execution_count": 223,
     "metadata": {},
     "output_type": "execute_result"
    }
   ],
   "source": [
    "np.array(range(k))[[np.array(range(k)) != j]]"
   ]
  },
  {
   "cell_type": "code",
   "execution_count": 105,
   "metadata": {},
   "outputs": [
    {
     "ename": "SyntaxError",
     "evalue": "invalid syntax (<ipython-input-105-c9b5012e0ffc>, line 1)",
     "output_type": "error",
     "traceback": [
      "\u001b[0;36m  File \u001b[0;32m\"<ipython-input-105-c9b5012e0ffc>\"\u001b[0;36m, line \u001b[0;32m1\u001b[0m\n\u001b[0;31m    Xtr[np.concatenate(part[[0:0, 0:]])]\u001b[0m\n\u001b[0m                              ^\u001b[0m\n\u001b[0;31mSyntaxError\u001b[0m\u001b[0;31m:\u001b[0m invalid syntax\n"
     ]
    }
   ],
   "source": [
    "Xtr[np.concatenate(part[[0:0, 0:]])]"
   ]
  },
  {
   "cell_type": "code",
   "execution_count": 120,
   "metadata": {},
   "outputs": [
    {
     "data": {
      "text/plain": [
       "array([73, 86, 82, 23,  1, 42, 57, 40, 76, 69, 25, 94,  9, 41, 88, 83, 74,\n",
       "       91, 67, 95])"
      ]
     },
     "execution_count": 120,
     "metadata": {},
     "output_type": "execute_result"
    }
   ],
   "source": [
    "np.concatenate(part[0:1])"
   ]
  },
  {
   "cell_type": "code",
   "execution_count": 121,
   "metadata": {},
   "outputs": [
    {
     "data": {
      "text/plain": [
       "5"
      ]
     },
     "execution_count": 121,
     "metadata": {},
     "output_type": "execute_result"
    }
   ],
   "source": [
    "len(part)"
   ]
  },
  {
   "cell_type": "code",
   "execution_count": 118,
   "metadata": {},
   "outputs": [
    {
     "data": {
      "text/plain": [
       "range(0, 3)"
      ]
     },
     "execution_count": 118,
     "metadata": {},
     "output_type": "execute_result"
    }
   ],
   "source": [
    "range(3)"
   ]
  },
  {
   "cell_type": "code",
   "execution_count": 53,
   "metadata": {},
   "outputs": [
    {
     "data": {
      "text/plain": [
       "[array([73., 86., 82., 23.,  1., 42., 57., 40., 76., 69., 25., 94.,  9.,\n",
       "        41., 88., 83., 74., 91., 67., 95.]),\n",
       " array([79., 75.,  6., 72.,  4., 71., 63., 62., 20., 65., 89., 60., 29.,\n",
       "        56., 59., 90., 16., 84., 14., 10.]),\n",
       " array([85., 44., 58., 98., 77., 26., 12., 32., 48., 54., 45., 36., 18.,\n",
       "         0., 93., 53., 81., 55., 52.,  5.]),\n",
       " array([17., 99., 15., 80., 31., 64., 49., 43., 96., 47., 87., 39., 21.,\n",
       "        24., 34., 78.,  3., 27., 33., 97.]),\n",
       " array([22., 35., 46., 68., 66., 28.,  7., 37., 70., 51.,  2.,  8., 11.,\n",
       "        19., 61., 50., 92., 13., 38., 30.])]"
      ]
     },
     "execution_count": 53,
     "metadata": {},
     "output_type": "execute_result"
    }
   ],
   "source": [
    "array = np.linspace(0,length-1, length)\n",
    "random.Random(4).shuffle(array)\n",
    "np.array_split(array, 5)"
   ]
  },
  {
   "cell_type": "code",
   "execution_count": 38,
   "metadata": {},
   "outputs": [],
   "source": [
    "array = np.linspace(0,length-1, length)"
   ]
  },
  {
   "cell_type": "code",
   "execution_count": 39,
   "metadata": {},
   "outputs": [
    {
     "data": {
      "text/plain": [
       "array([ 0.,  1.,  2.,  3.,  4.,  5.,  6.,  7.,  8.,  9., 10., 11., 12.,\n",
       "       13., 14., 15., 16., 17., 18., 19., 20., 21., 22., 23., 24., 25.,\n",
       "       26., 27., 28., 29., 30., 31., 32., 33., 34., 35., 36., 37., 38.,\n",
       "       39., 40., 41., 42., 43., 44., 45., 46., 47., 48., 49., 50., 51.,\n",
       "       52., 53., 54., 55., 56., 57., 58., 59., 60., 61., 62., 63., 64.,\n",
       "       65., 66., 67., 68., 69., 70., 71., 72., 73., 74., 75., 76., 77.,\n",
       "       78., 79., 80., 81., 82., 83., 84., 85., 86., 87., 88., 89., 90.,\n",
       "       91., 92., 93., 94., 95., 96., 97., 98., 99.])"
      ]
     },
     "execution_count": 39,
     "metadata": {},
     "output_type": "execute_result"
    }
   ],
   "source": [
    "array"
   ]
  },
  {
   "cell_type": "code",
   "execution_count": null,
   "metadata": {},
   "outputs": [],
   "source": []
  }
 ],
 "metadata": {
  "kernelspec": {
   "display_name": "Python 3",
   "language": "python",
   "name": "python3"
  },
  "language_info": {
   "codemirror_mode": {
    "name": "ipython",
    "version": 3
   },
   "file_extension": ".py",
   "mimetype": "text/x-python",
   "name": "python",
   "nbconvert_exporter": "python",
   "pygments_lexer": "ipython3",
   "version": "3.7.7"
  }
 },
 "nbformat": 4,
 "nbformat_minor": 4
}
