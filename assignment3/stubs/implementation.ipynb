{
 "cells": [
  {
   "cell_type": "code",
   "execution_count": 20,
   "metadata": {},
   "outputs": [],
   "source": [
    "import numpy as np\n",
    "import scipy.linalg as la\n",
    "import itertools as it\n",
    "import time\n",
    "import pylab as pl\n",
    "import random\n",
    "from mpl_toolkits.mplot3d import Axes3D\n",
    "import matplotlib.pyplot as plt\n",
    "from scipy.stats import lognorm"
   ]
  },
  {
   "cell_type": "code",
   "execution_count": 45,
   "metadata": {},
   "outputs": [
    {
     "data": {
      "text/plain": [
       "[<matplotlib.lines.Line2D at 0x1a19916cd0>]"
      ]
     },
     "execution_count": 45,
     "metadata": {},
     "output_type": "execute_result"
    },
    {
     "data": {
      "image/png": "[encoded data removed]",
      "text/plain": [
       "<Figure size 432x288 with 1 Axes>"
      ]
     },
     "metadata": {
      "needs_background": "light"
     },
     "output_type": "display_data"
    }
   ],
   "source": [
    "# Test\n",
    "def noisysincfunction(N, noise):\n",
    "    ''' noisysincfunction - generate data from the \"noisy sinc function\"\n",
    "        % usage\n",
    "        %     [X, Y] = noisysincfunction(N, noise)\n",
    "        %\n",
    "        % input\n",
    "        %     N: number of data points\n",
    "        %     noise: standard variation of the noise\n",
    "        %\n",
    "        % output\n",
    "        %     X: (1, N)-matrix uniformly sampled in -2pi, pi\n",
    "        %     Y: (1, N)-matrix equal to sinc(X) + noise\n",
    "        %\n",
    "        % description\n",
    "        %     Generates N points from the noisy sinc function\n",
    "        %\n",
    "        %        X ~ uniformly in [-2pi, pi]\n",
    "        %        Y = sinc(X) + eps, eps ~ Normal(0, noise.^2)\n",
    "        %\n",
    "        % author\n",
    "        %     Mikio Braun\n",
    "    '''\n",
    "    X = np.sort(2 * np.pi * np.random.rand(1, N) ) - np.pi\n",
    "    Y = np.sinc(X) + noise * np.random.randn(1, N)\n",
    "    return X.reshape(-1, 1), Y.flatten()\n",
    "Xtr, Ytr = noisysincfunction(100, 0.1)\n",
    "Xte = np.arange( -np.pi, np.pi, 0.01 ).reshape(-1, 1)\n",
    "pl.plot(Xtr,Ytr, 'o')"
   ]
  },
  {
   "cell_type": "code",
   "execution_count": 3,
   "metadata": {},
   "outputs": [],
   "source": [
    "def zero_one_loss(y_true, y_pred):\n",
    "    ''' your header here!\n",
    "    '''\n",
    "    "
   ]
  },
  {
   "cell_type": "code",
   "execution_count": 4,
   "metadata": {},
   "outputs": [],
   "source": [
    "def mean_absolute_error(y_true, y_pred):\n",
    "    ''' \n",
    "    your code here \n",
    "    '''\n",
    "    loss = np.sum(((y_pred-y_true)**2)**0.5) / len(y_pred)\n",
    "    return loss"
   ]
  },
  {
   "cell_type": "code",
   "execution_count": 47,
   "metadata": {},
   "outputs": [],
   "source": [
    "def cv(X, y, method, params, loss_function=mean_absolute_error, nfolds=10, nrepetitions=5):\n",
    "    ''' \n",
    "    your header here!\n",
    "    '''\n",
    "    # TODO progress bar, run time estimation\n",
    "    length, width = np.shape(X)\n",
    "    # model = method\n",
    "    method.cvloss = 1000000\n",
    "    params_combinations = list(it.product(params['kernel'], params['kernelparameter'], params['regularization']))\n",
    "    for parameter in params_combinations:\n",
    "        #print(parameter[1])\n",
    "        model = method(parameter[0], parameter[1], parameter[2])\n",
    "        for i in range(nrepetitions):\n",
    "            e = 0\n",
    "            # Random Partitioning\n",
    "            X_pos = np.linspace(0,length-1, length)\n",
    "            random.shuffle(X_pos)\n",
    "            part = np.array_split(X_pos, nfolds)\n",
    "            for j in range(nfolds):\n",
    "                # Assign every part not j as training set\n",
    "                # Xtr indices\n",
    "                train = np.concatenate(np.array(part)[tuple([np.array(range(nfolds)) != j])].astype('int')) \n",
    "                X_j = X[train]\n",
    "                y_j = y[train]\n",
    "                model.fit(X_j, y_j)\n",
    "                y_pred = model.predict(X[part[j].astype('int')])\n",
    "                e = e + loss_function(y[part[j].astype('int')], y_pred)\n",
    "        e = e / (nfolds * nrepetitions)\n",
    "        #print('Loss:' + str(model.cvloss))\n",
    "        if e < method.cvloss:\n",
    "            #print(e)\n",
    "            method.cvloss = e\n",
    "            #print('Loss in if:' + str(model.cvloss))\n",
    "            method.__params = parameter\n",
    "    #print(method.params)\n",
    "    method = model.fit(X,y,method.__params[0],method.__params[1],method.__params[2])\n",
    "    return method"
   ]
  },
  {
   "cell_type": "code",
   "execution_count": 627,
   "metadata": {},
   "outputs": [],
   "source": [
    "class krr():\n",
    "    ''' your header here!\n",
    "    '''\n",
    "    def __init__(self, kernel='linear', kernelparameter=1, regularization=0):\n",
    "        self.kernel = kernel\n",
    "        self.kernelparameter = kernelparameter\n",
    "        self.regularization = regularization\n",
    "\n",
    "    def fit(self, X, y, kernel=False, kernelparameter=False, regularization=False):\n",
    "        ''' your header here!\n",
    "        '''\n",
    "        self.__Xtrain = X\n",
    "        self.__ytrain = y\n",
    "        \n",
    "        if kernel is not False:\n",
    "            self.kernel = kernel\n",
    "        if kernelparameter is not False:\n",
    "            self.kernelparameter = kernelparameter\n",
    "        if regularization is not False:\n",
    "            self.regularization = regularization\n",
    "        # calculate kernelmatrix\n",
    "        if self.kernel == 'linear':\n",
    "            self.__linearKernel(X)\n",
    "        elif self.kernel == 'polynomial':\n",
    "            self.__polynomialKernel(X)\n",
    "        elif self.kernel == 'gaussian':\n",
    "            self.__gaussianKernel(X)\n",
    "        else:\n",
    "            print(\"\"\"The following kernel {} is not known. Please use either 'linear' , 'polynomial' or 'gaussian'.\"\"\".format(kernel))\n",
    "        if self.regularization == 0:\n",
    "            self.__LOOCV()\n",
    "        \n",
    "        # calculate optimized alpha\n",
    "        I_length = len(self.kernelmatrix)\n",
    "        self.alpha = np.linalg.solve(self.kernelmatrix+self.regularization*np.identity(I_length), self.__ytrain).reshape(-1,len(self.__ytrain))\n",
    "        \n",
    "        return self\n",
    "\n",
    "    def predict(self, X):\n",
    "        ''' your header here!\n",
    "        '''\n",
    "        # calculate kernelmatrix\n",
    "        if self.kernel == 'linear':\n",
    "            self.__linearKernel(X)\n",
    "        elif self.kernel == 'polynomial':\n",
    "            self.__polynomialKernel(X)\n",
    "        elif self.kernel == 'gaussian':\n",
    "            self.__gaussianKernel(X)\n",
    "        # calculate prediction\n",
    "        y_pred = self.alpha.dot(self.kernelmatrix) # <alpha, kernelmatrix>\n",
    "        return y_pred.reshape(len(X))\n",
    "    \n",
    "    def __linearKernel(self,Y):\n",
    "        self.kernelmatrix = self.__Xtrain.dot(Y.T)\n",
    "        \n",
    "    def __polynomialKernel(self,Y):\n",
    "        self.kernelmatrix = (self.__Xtrain.dot(Y.T)+1)**self.kernelparameter\n",
    "        \n",
    "    def __gaussianKernel(self,Y):\n",
    "        X_len, X_width = self.__Xtrain.shape\n",
    "        self.kernelmatrix = np.exp(-(np.diagonal(self.__Xtrain.dot(self.__Xtrain.T)).reshape(X_len, 1)-2*self.__Xtrain.dot(Y.T)+np.diagonal(Y.dot(Y.T)))/(2*(self.kernelparameter**2)))\n",
    "        \n",
    "    def __LOOCV(self):\n",
    "        # Leave-One-Out-Cross-Validation\n",
    "        # starting squared error\n",
    "        #min_squared_loss = 1000\n",
    "        # Eigenvalue decomposition\n",
    "        squared_loss = []\n",
    "        L, U = np.linalg.eigh(self.kernelmatrix) # L = Eigenvalue, U = Eigenvector\n",
    "        mean_L = np.mean(L)\n",
    "        I = np.identity(len(L))\n",
    "        # for faster computation precalculate U.T.y\n",
    "        UTy = U.T.dot(self.__ytrain)\n",
    "        # logarithmic distribution with mu = mean_L and sigma = 1\n",
    "        # create 50 values of C\n",
    "        # identify C around Kernel eigenvalue means with logarithmic distribution \n",
    "        Cs = np.logspace(-10, 10, 50)*mean_L\n",
    "        for C in Cs: #np.random.lognormal(mean_L,sigma = 1, size = 30):\n",
    "            ULCI = U.dot(L*I).dot((1/(L + C))*I) # (1/(L + C))*I: inverse of diagonal matrix\n",
    "            squared_loss.append(np.sum(((self.__ytrain - ULCI.dot(UTy)) / (1-np.diagonal(ULCI.dot(U.T))))**2) / len(self.__ytrain))\n",
    "        self.regularization = Cs[np.argmin(squared_loss)]\n",
    "                \n",
    "        # Eigenvalue decomposition\n",
    "        #L, U = np.linalg.eigh(self.kernelmatrix) # L = Eigenvalue, U = Eigenvector\n",
    "        #mean_L = np.mean(L)        \n",
    "                \n",
    "        # create candidates\n",
    "        #C = np.logspace(-10, 10, 50)*mean_L\n",
    "        \n",
    "        #UTy = U.T.dot(self.__ytrain)\n",
    "        # \n",
    "        #UL = U.dot(np.diag(L))[None,:,:]\n",
    "        #LC = np.diag(L)[None,:,:]+C[:,None,None]*I[None,:,:]\n",
    "        #ULCI = np.linalg.solve(LC,UL)\n",
    "        \n",
    "        #calculate all quadratic losses for c candidates\n",
    "        #c   =    0xnx1-cxnx1 / (1-cxn)\n",
    "        #epsilon = (np.sum(((Ytr - ULCI.dot(UTy)) / (1-np.diagonal(ULCI.dot(U.T))).reshape(len(C),len(Ytr)))**2, axis = 1) /len(Ytr))\n",
    "    \n",
    "        #best_epsilon = epsilon[np.argmin(epsilon)]\n",
    "    \n",
    "        #self.regularization = C[np.argmin(epsilon)]        \n",
    "        \n",
    "        return self"
   ]
  },
  {
   "cell_type": "code",
   "execution_count": 628,
   "metadata": {},
   "outputs": [
    {
     "data": {
      "image/png": "[encoded data removed]",
      "text/plain": [
       "<Figure size 432x288 with 6 Axes>"
      ]
     },
     "metadata": {
      "needs_background": "light"
     },
     "output_type": "display_data"
    }
   ],
   "source": [
    "Xtr, Ytr = noisysincfunction(100, 0.1)\n",
    "Xte = np.arange( -np.pi, np.pi, 0.01 ).reshape(-1, 1)\n",
    "\n",
    "pl.figure()\n",
    "kernels = ['gaussian','polynomial','linear']\n",
    "titles = ['gaussian','polynomial','linear']\n",
    "params = [0.5,6,0]\n",
    "regularizations = [ 0.01,0.01,0.01]\n",
    "for i in range(3):\n",
    "    for j in range(2):\n",
    "        pl.subplot(2,3,1+i+3*j)\n",
    "        if j==0:\n",
    "            model = krr(kernel=kernels[i],\n",
    "                kernelparameter=params[i],\n",
    "                regularization=regularizations[i])\n",
    "            model.fit(Xtr,Ytr)\n",
    "        if j==1:\n",
    "            model = krr(kernel=kernels[i],\n",
    "                kernelparameter=params[i],\n",
    "                regularization=0)\n",
    "            model.fit(Xtr,Ytr)\n",
    "        ypred = model.predict(Xte)\n",
    "        pl.plot(Xtr,Ytr)\n",
    "        pl.plot(Xte,ypred)\n",
    "        if j==0 and i == 0:\n",
    "            pl.ylabel('fixed regularization')\n",
    "        if j==1 and i == 0:\n",
    "            pl.ylabel('reg. by efficent cv')\n",
    "        pl.title( titles[i] )\n",
    "pl.show()\n"
   ]
  },
  {
   "cell_type": "code",
   "execution_count": 658,
   "metadata": {},
   "outputs": [
    {
     "name": "stdout",
     "output_type": "stream",
     "text": [
      "Regularization range: 10**-4 .. 10**4\n",
      "Gaussian kernel parameter:  0.615848211066026\n",
      "Regularization paramter:  0.21544346900318834\n",
      "Regularization via efficient leave on out\n",
      "Kernel parameter:  1.6681005372000592\n",
      "Regularization paramter:  2.0235896477251552e-05\n"
     ]
    },
    {
     "data": {
      "image/png": "[encoded data removed]",
      "text/plain": [
       "<Figure size 432x288 with 2 Axes>"
      ]
     },
     "metadata": {
      "needs_background": "light"
     },
     "output_type": "display_data"
    }
   ],
   "source": [
    "Xtr, Ytr = noisysincfunction(100, 0.1)\n",
    "Xte = np.arange( -np.pi, np.pi, 0.01 ).reshape(-1, 1)\n",
    "\n",
    "pl.figure()\n",
    "pl.subplot(1,2,1)\n",
    "params = { 'kernel': ['gaussian'], 'kernelparameter': np.logspace(-4,4,20), 'regularization': np.logspace(-2,2,10) }\n",
    "cvkrr = cv(Xtr, Ytr, krr, params, loss_function=mean_absolute_error, nrepetitions=2)\n",
    "ypred = cvkrr.predict(Xte)\n",
    "print('Regularization range: 10**-4 .. 10**4')\n",
    "print('Gaussian kernel parameter: ', cvkrr.kernelparameter)\n",
    "print('Regularization paramter: ', cvkrr.regularization)\n",
    "\n",
    "pl.plot(Xtr,Ytr)\n",
    "pl.plot(Xte,ypred)\n",
    "\n",
    "pl.subplot(1,2,2)\n",
    "params = { 'kernel': ['gaussian'], 'kernelparameter': np.logspace(-2,2,10), 'regularization': [0]}\n",
    "cvkrr = cv(Xtr, Ytr, krr, params, loss_function=mean_absolute_error, nrepetitions=2)\n",
    "ypred = cvkrr.predict(Xte)\n",
    "print('Regularization via efficient leave on out')\n",
    "print('Kernel parameter: ', cvkrr.kernelparameter)\n",
    "print('Regularization paramter: ', cvkrr.regularization)\n",
    "\n",
    "pl.plot(Xtr,Ytr)\n",
    "pl.plot(Xte,ypred)\n",
    "pl.show()"
   ]
  },
  {
   "cell_type": "code",
   "execution_count": 645,
   "metadata": {},
   "outputs": [],
   "source": [
    "params = { 'kernel': ['gaussian'], 'kernelparameter': 0.01, 'regularization': 0.1 }\n"
   ]
  },
  {
   "cell_type": "code",
   "execution_count": 646,
   "metadata": {},
   "outputs": [],
   "source": [
    "model = krr(kernel='gaussian',kernelparameter=params['kernelparameter'],regularization=params['regularization'])"
   ]
  },
  {
   "cell_type": "code",
   "execution_count": 647,
   "metadata": {},
   "outputs": [
    {
     "data": {
      "text/plain": [
       "<__main__.krr at 0x1a1ca7b590>"
      ]
     },
     "execution_count": 647,
     "metadata": {},
     "output_type": "execute_result"
    }
   ],
   "source": [
    "model.fit(Xtr,Ytr)"
   ]
  },
  {
   "cell_type": "code",
   "execution_count": 648,
   "metadata": {},
   "outputs": [
    {
     "data": {
      "text/plain": [
       "array([[1.00000000e+000, 4.99595355e-018, 1.36048678e-077, ...,\n",
       "        0.00000000e+000, 0.00000000e+000, 0.00000000e+000],\n",
       "       [4.99595355e-018, 1.00000000e+000, 5.85755893e-022, ...,\n",
       "        0.00000000e+000, 0.00000000e+000, 0.00000000e+000],\n",
       "       [1.36048678e-077, 5.85755893e-022, 1.00000000e+000, ...,\n",
       "        0.00000000e+000, 0.00000000e+000, 0.00000000e+000],\n",
       "       ...,\n",
       "       [0.00000000e+000, 0.00000000e+000, 0.00000000e+000, ...,\n",
       "        1.00000000e+000, 4.20717335e-029, 0.00000000e+000],\n",
       "       [0.00000000e+000, 0.00000000e+000, 0.00000000e+000, ...,\n",
       "        4.20717335e-029, 1.00000000e+000, 8.53360808e-230],\n",
       "       [0.00000000e+000, 0.00000000e+000, 0.00000000e+000, ...,\n",
       "        0.00000000e+000, 8.53360808e-230, 1.00000000e+000]])"
      ]
     },
     "execution_count": 648,
     "metadata": {},
     "output_type": "execute_result"
    }
   ],
   "source": [
    "model.kernelmatrix"
   ]
  },
  {
   "cell_type": "code",
   "execution_count": 649,
   "metadata": {},
   "outputs": [],
   "source": [
    "L, U = np.linalg.eigh(model.kernelmatrix)\n",
    "mean_L = np.mean(L)        \n",
    "# create candidates\n",
    "C = np.logspace(-10, 10, 50)*mean_L\n",
    "I = np.identity(len(L))"
   ]
  },
  {
   "cell_type": "code",
   "execution_count": 650,
   "metadata": {},
   "outputs": [],
   "source": [
    "UTy = U.T.dot(Ytr)#self.__ytrain"
   ]
  },
  {
   "cell_type": "code",
   "execution_count": 651,
   "metadata": {},
   "outputs": [],
   "source": [
    "UL = U.dot(np.diag(L))[None,:,:]"
   ]
  },
  {
   "cell_type": "code",
   "execution_count": 652,
   "metadata": {},
   "outputs": [
    {
     "data": {
      "text/plain": [
       "(50, 100, 100)"
      ]
     },
     "execution_count": 652,
     "metadata": {},
     "output_type": "execute_result"
    }
   ],
   "source": [
    "LC.shape"
   ]
  },
  {
   "cell_type": "code",
   "execution_count": 653,
   "metadata": {},
   "outputs": [],
   "source": [
    "LC = np.diag(L)[None,:,:]+C[:,None,None]*I[None,:,:]"
   ]
  },
  {
   "cell_type": "code",
   "execution_count": 654,
   "metadata": {},
   "outputs": [],
   "source": [
    "#ULCI_1 = U.dot(L*I).dot((1/(L + C))*I) # (1/(L + C))*I: inverse of diagonal matrix\n",
    "#ULCI = np.linalg.solve((L + C)*I,U.dot(L*I))\n",
    "ULCI_2 = UL*((np.linalg.inv(LC)))"
   ]
  },
  {
   "cell_type": "code",
   "execution_count": 656,
   "metadata": {},
   "outputs": [
    {
     "data": {
      "text/plain": [
       "(50, 100, 100)"
      ]
     },
     "execution_count": 656,
     "metadata": {},
     "output_type": "execute_result"
    }
   ],
   "source": [
    "ULCI_2.shape"
   ]
  },
  {
   "cell_type": "code",
   "execution_count": 657,
   "metadata": {},
   "outputs": [
    {
     "data": {
      "text/plain": [
       "array([[ 0.00000000e+000,  0.00000000e+000,  0.00000000e+000, ...,\n",
       "         0.00000000e+000,  0.00000000e+000,  0.00000000e+000],\n",
       "       [ 0.00000000e+000,  0.00000000e+000, -0.00000000e+000, ...,\n",
       "         0.00000000e+000,  0.00000000e+000,  0.00000000e+000],\n",
       "       [-0.00000000e+000,  0.00000000e+000,  8.85725547e-201, ...,\n",
       "        -0.00000000e+000, -0.00000000e+000,  0.00000000e+000],\n",
       "       ...,\n",
       "       [ 0.00000000e+000,  0.00000000e+000,  0.00000000e+000, ...,\n",
       "         0.00000000e+000,  0.00000000e+000, -0.00000000e+000],\n",
       "       [ 0.00000000e+000,  0.00000000e+000,  0.00000000e+000, ...,\n",
       "         0.00000000e+000,  0.00000000e+000, -0.00000000e+000],\n",
       "       [ 0.00000000e+000,  0.00000000e+000,  0.00000000e+000, ...,\n",
       "         0.00000000e+000,  0.00000000e+000,  0.00000000e+000]])"
      ]
     },
     "execution_count": 657,
     "metadata": {},
     "output_type": "execute_result"
    }
   ],
   "source": [
    "ULCI_2[20]"
   ]
  },
  {
   "cell_type": "code",
   "execution_count": 476,
   "metadata": {},
   "outputs": [
    {
     "data": {
      "text/plain": [
       "(50, 100)"
      ]
     },
     "execution_count": 476,
     "metadata": {},
     "output_type": "execute_result"
    }
   ],
   "source": [
    "#solve\n",
    "(Ytr - ULCI.dot(UTy)).shape"
   ]
  },
  {
   "cell_type": "code",
   "execution_count": 491,
   "metadata": {},
   "outputs": [
    {
     "data": {
      "text/plain": [
       "0.014563484775012445"
      ]
     },
     "execution_count": 491,
     "metadata": {},
     "output_type": "execute_result"
    }
   ],
   "source": [
    "C[20]"
   ]
  },
  {
   "cell_type": "code",
   "execution_count": 494,
   "metadata": {},
   "outputs": [
    {
     "data": {
      "text/plain": [
       "0.011217768345839985"
      ]
     },
     "execution_count": 494,
     "metadata": {},
     "output_type": "execute_result"
    }
   ],
   "source": [
    "# solve\n",
    "(np.sum(((Ytr - ULCI.dot(UTy)) / (1-np.diagonal(ULCI.dot(U.T))).reshape(len(C),len(Ytr)))**2, axis = 1) /len(Ytr))[24]"
   ]
  },
  {
   "cell_type": "code",
   "execution_count": 467,
   "metadata": {},
   "outputs": [
    {
     "data": {
      "text/plain": [
       "116.2904633374159"
      ]
     },
     "execution_count": 467,
     "metadata": {},
     "output_type": "execute_result"
    }
   ],
   "source": [
    "np.sum(((Ytr - ULCI.dot(UTy))[20] / (1-np.diagonal(ULCI[20].dot(U.T))))**2) / len(Ytr)"
   ]
  },
  {
   "cell_type": "code",
   "execution_count": 451,
   "metadata": {},
   "outputs": [
    {
     "data": {
      "text/plain": [
       "array([[ 0.00000000e+000,  0.00000000e+000,  0.00000000e+000, ...,\n",
       "         0.00000000e+000,  0.00000000e+000,  0.00000000e+000],\n",
       "       [ 0.00000000e+000,  0.00000000e+000,  0.00000000e+000, ...,\n",
       "         0.00000000e+000,  0.00000000e+000,  0.00000000e+000],\n",
       "       [ 0.00000000e+000,  0.00000000e+000,  0.00000000e+000, ...,\n",
       "         0.00000000e+000,  0.00000000e+000,  0.00000000e+000],\n",
       "       ...,\n",
       "       [ 4.11342324e-114, -1.75286977e-101, -1.21497129e-030, ...,\n",
       "         0.00000000e+000,  4.26591704e-223, -1.53231091e-109],\n",
       "       [ 2.94430502e-117, -1.25464773e-104, -2.62997037e-032, ...,\n",
       "         0.00000000e+000,  7.90863509e-228, -6.64577544e-113],\n",
       "       [ 2.58313699e-117, -1.10074285e-104, -2.60588159e-032, ...,\n",
       "         0.00000000e+000,  5.77546104e-228, -5.63265580e-113]])"
      ]
     },
     "execution_count": 451,
     "metadata": {},
     "output_type": "execute_result"
    }
   ],
   "source": [
    "# loop\n",
    "ULCI"
   ]
  },
  {
   "cell_type": "code",
   "execution_count": 452,
   "metadata": {},
   "outputs": [
    {
     "data": {
      "text/plain": [
       "array([-0.02496521,  0.07447856,  0.02817419, -0.15004742,  0.16462112,\n",
       "        0.09742316,  0.14423584,  0.02520127,  0.10363982,  0.10731574,\n",
       "       -0.05032638,  0.04459193, -0.0373356 ,  0.00735331,  0.09713251,\n",
       "       -0.01465422, -0.10560719, -0.15692142, -0.15442488, -0.14528894,\n",
       "        0.0141154 , -0.27071248, -0.00981178, -0.04188355, -0.03594997,\n",
       "       -0.17619834, -0.11331828,  0.07433797, -0.03653893,  0.04160065,\n",
       "       -0.02960037,  0.17577326,  0.30639633,  0.00721651,  0.50433992,\n",
       "        0.7341467 ,  0.05404192, -0.01964625,  0.88021288,  0.97589703,\n",
       "        0.42864946,  0.484225  ,  0.70001886,  0.77556415,  0.51915551,\n",
       "        0.41543213,  0.52776856,  0.05542626,  0.07840126,  0.25294341,\n",
       "        0.36858901, -0.06316825,  0.26668437,  0.24566382,  0.21616534,\n",
       "        0.00805549, -0.00675335, -0.01821299,  0.10263124, -0.14202462,\n",
       "        0.1832932 , -0.27273094,  0.02464382, -0.13813081, -0.38701225,\n",
       "        0.02716201, -0.30582805, -0.19094841, -0.20375619, -0.11646761,\n",
       "       -0.08023588, -0.17444261, -0.2210817 ,  0.23150048,  0.0467748 ,\n",
       "       -0.04122969, -0.00140955, -0.09198717,  0.06996148, -0.0612234 ,\n",
       "        0.06701725,  0.19497955, -0.1863676 ,  0.15007403,  0.06633599,\n",
       "       -0.01086617,  0.16779899, -0.16527323,  0.1304688 ,  0.10712983,\n",
       "       -0.09720152,  0.20887818, -0.25252488,  0.26248443,  0.06827534,\n",
       "       -0.06643926, -0.16031361, -0.02191988,  0.23771678, -0.23606943])"
      ]
     },
     "execution_count": 452,
     "metadata": {},
     "output_type": "execute_result"
    }
   ],
   "source": [
    "#loop\n",
    "((Ytr - ULCI.dot(UTy)) / (1-np.diagonal(ULCI.dot(U.T))))"
   ]
  },
  {
   "cell_type": "code",
   "execution_count": 453,
   "metadata": {},
   "outputs": [
    {
     "data": {
      "text/plain": [
       "array([0.01435444, 0.01435444, 0.01435443, 0.01435443, 0.01435443,\n",
       "       0.01435443, 0.01435443, 0.01435443, 0.01436033, 0.01436033,\n",
       "       0.01435443, 0.01435443, 0.06200224, 0.0780511 , 0.02321124,\n",
       "       0.01435443, 0.01435443, 0.01435443, 0.01435443, 0.01435443,\n",
       "       0.01514875, 0.01677054, 0.07931524, 0.07618647, 0.01435577,\n",
       "       0.01435577, 0.01435443, 0.01502653, 0.01507653, 0.19699843,\n",
       "       0.19685445, 0.01435738, 0.01437096, 0.01436801, 0.01435443,\n",
       "       0.01435443, 0.32048174, 0.32048174, 0.01435443, 0.01435443,\n",
       "       0.02020077, 0.02020077, 0.01435443, 0.01435444, 0.01469819,\n",
       "       0.01469819, 0.01435443, 0.0407235 , 0.04544214, 0.01757245,\n",
       "       0.01435444, 0.02757612, 0.02757612, 0.01435444, 0.01435444,\n",
       "       0.17385632, 0.17385632, 0.01435443, 0.0565213 , 0.06952304,\n",
       "       0.02185065, 0.01767249, 0.01767249, 0.01437764, 0.014754  ,\n",
       "       0.01473078, 0.01435443, 0.01435443, 0.01435443, 0.01435626,\n",
       "       0.01448197, 0.01448022, 0.05057422, 0.05057413, 0.18757065,\n",
       "       0.20520978, 0.02659709, 0.02057967, 0.01435444, 0.01435444,\n",
       "       0.01435443, 0.19332399, 0.19332399, 0.01435443, 0.02067106,\n",
       "       0.02067106, 0.47429705, 0.47429705, 0.01436061, 0.33437434,\n",
       "       0.57944163, 0.11346843, 0.01924633, 0.01924633, 0.42700018,\n",
       "       0.42700018, 0.01435443, 0.01435446, 0.40578928, 0.40578915])"
      ]
     },
     "execution_count": 453,
     "metadata": {},
     "output_type": "execute_result"
    }
   ],
   "source": [
    "#loop\n",
    "(1-np.diagonal(ULCI.dot(U.T)))"
   ]
  },
  {
   "cell_type": "code",
   "execution_count": 454,
   "metadata": {},
   "outputs": [
    {
     "data": {
      "text/plain": [
       "array([-3.58361472e-04,  1.06909787e-03,  4.04424577e-04, -2.15384576e-03,\n",
       "        2.36304306e-03,  1.39845429e-03,  2.07042394e-03,  3.61750016e-04,\n",
       "        1.48830167e-03,  1.54108902e-03, -7.22406731e-04,  6.40091926e-04,\n",
       "       -2.31489072e-03,  5.73933639e-04,  2.25456611e-03, -2.10353018e-04,\n",
       "       -1.51593142e-03, -2.25251816e-03, -2.21668178e-03, -2.08554056e-03,\n",
       "        2.13830621e-04, -4.53999346e-03, -7.78223334e-04, -3.19095969e-03,\n",
       "       -5.16089610e-04, -2.52946352e-03, -1.62661975e-03,  1.11704160e-03,\n",
       "       -5.50880352e-04,  8.19526341e-03, -5.82696396e-03,  2.52364307e-03,\n",
       "        4.40320825e-03,  1.03686845e-04,  7.23951416e-03,  1.05382605e-02,\n",
       "        1.73194476e-02, -6.29626543e-03,  1.26349579e-02,  1.40084497e-02,\n",
       "        8.65904846e-03,  9.78171698e-03,  1.00483747e-02,  1.11327854e-02,\n",
       "        7.63064526e-03,  6.10609926e-03,  7.57581930e-03,  2.25715147e-03,\n",
       "        3.56272142e-03,  4.44483532e-03,  5.29088698e-03, -1.74193544e-03,\n",
       "        7.35412110e-03,  3.52636701e-03,  3.10293276e-03,  1.40049707e-03,\n",
       "       -1.17411263e-03, -2.61437119e-04,  5.80085061e-03, -9.87398405e-03,\n",
       "        4.00507601e-03, -4.81983447e-03,  4.35517714e-04, -1.98599452e-03,\n",
       "       -5.70997722e-03,  4.00117644e-04, -4.38998865e-03, -2.74095640e-03,\n",
       "       -2.92480477e-03, -1.67203913e-03, -1.16197399e-03, -2.52596785e-03,\n",
       "       -1.11810345e-02,  1.17079359e-02,  8.77357902e-03, -8.46073540e-03,\n",
       "       -3.74898748e-05, -1.89306536e-03,  1.00425752e-03, -8.78827313e-04,\n",
       "        9.61994770e-04,  3.76942240e-02, -3.60293285e-02,  2.15422775e-03,\n",
       "        1.37123514e-03, -2.24615254e-04,  7.95865638e-02, -7.83886031e-02,\n",
       "        1.87361196e-03,  3.58214658e-02, -5.63226076e-02,  2.37010781e-02,\n",
       "       -4.86017613e-03,  5.05186089e-03,  2.91535824e-02, -2.83695772e-02,\n",
       "       -2.30121118e-03, -3.14648061e-04,  9.64629208e-02, -9.57944107e-02])"
      ]
     },
     "execution_count": 454,
     "metadata": {},
     "output_type": "execute_result"
    }
   ],
   "source": [
    "#loop\n",
    "(Ytr - ULCI.dot(UTy))"
   ]
  },
  {
   "cell_type": "code",
   "execution_count": 287,
   "metadata": {},
   "outputs": [
    {
     "data": {
      "text/plain": [
       "(50, 100)"
      ]
     },
     "execution_count": 287,
     "metadata": {},
     "output_type": "execute_result"
    }
   ],
   "source": [
    "(Ytr - (ULCI.dot(UTy))).shape# / (1-np.diagonal(ULCI*(U.T[None,:,:])))"
   ]
  },
  {
   "cell_type": "code",
   "execution_count": 285,
   "metadata": {},
   "outputs": [
    {
     "data": {
      "text/plain": [
       "(100, 50)"
      ]
     },
     "execution_count": 285,
     "metadata": {},
     "output_type": "execute_result"
    }
   ],
   "source": [
    "(1-np.diagonal(ULCI*(U.T[None,:,:]))).shape"
   ]
  },
  {
   "cell_type": "code",
   "execution_count": 289,
   "metadata": {},
   "outputs": [
    {
     "data": {
      "text/plain": [
       "array([-0.02493205,  0.07446755,  0.02817442, -0.15004742,  0.16462112,\n",
       "        0.09742316,  0.14423584,  0.02520127,  0.10585701,  0.10945866,\n",
       "       -0.05032365,  0.04459193, -0.0923849 , -0.01884937,  0.14090422,\n",
       "       -0.01463991, -0.10560719, -0.15692142, -0.15442488, -0.14528894,\n",
       "       -0.05455377, -0.34448936, -0.32048868, -0.29912552, -0.03765583,\n",
       "       -0.17656215, -0.11331828,  0.0697439 , -0.01095581,  0.17889219,\n",
       "        0.14305345,  0.18019958,  0.30948726,  0.01665231,  0.50433992,\n",
       "        0.73416962,  0.77788175,  0.74060768,  0.88021288,  0.97589703,\n",
       "        0.9698269 ,  1.00596255,  0.70001886,  0.77570134,  0.59684134,\n",
       "        0.50673654,  0.52783025,  0.38309513,  0.47568848,  0.40863609,\n",
       "        0.3685689 ,  0.23346496,  0.42829871,  0.24582375,  0.21634462,\n",
       "        0.01922045,  0.01165655, -0.01821299, -0.11578925, -0.21994863,\n",
       "        0.03685356, -0.32260812, -0.11515162, -0.15413039, -0.39882065,\n",
       "       -0.03566529, -0.30582806, -0.19094842, -0.20375619, -0.11739134,\n",
       "       -0.09865173, -0.18441711, -0.08891437,  0.15642557,  0.04607565,\n",
       "       -0.01172002, -0.13232519, -0.14288122,  0.06994458, -0.06120494,\n",
       "        0.06701726,  0.21096565,  0.01661483,  0.15007403,  0.08687697,\n",
       "        0.03715866,  0.16672729, -0.00108829,  0.13480135,  0.08816291,\n",
       "        0.02160957,  0.17800174, -0.16115249,  0.18123852,  0.08812124,\n",
       "        0.02018813, -0.16031363, -0.02035671,  0.16565101, -0.0733703 ])"
      ]
     },
     "execution_count": 289,
     "metadata": {},
     "output_type": "execute_result"
    }
   ],
   "source": [
    "(Ytr - ULCI.dot(UTy))"
   ]
  },
  {
   "cell_type": "code",
   "execution_count": 290,
   "metadata": {},
   "outputs": [
    {
     "data": {
      "text/plain": [
       "array([1., 1., 1., 1., 1., 1., 1., 1., 1., 1., 1., 1., 1., 1., 1., 1., 1.,\n",
       "       1., 1., 1., 1., 1., 1., 1., 1., 1., 1., 1., 1., 1., 1., 1., 1., 1.,\n",
       "       1., 1., 1., 1., 1., 1., 1., 1., 1., 1., 1., 1., 1., 1., 1., 1., 1.,\n",
       "       1., 1., 1., 1., 1., 1., 1., 1., 1., 1., 1., 1., 1., 1., 1., 1., 1.,\n",
       "       1., 1., 1., 1., 1., 1., 1., 1., 1., 1., 1., 1., 1., 1., 1., 1., 1.,\n",
       "       1., 1., 1., 1., 1., 1., 1., 1., 1., 1., 1., 1., 1., 1., 1.])"
      ]
     },
     "execution_count": 290,
     "metadata": {},
     "output_type": "execute_result"
    }
   ],
   "source": [
    "(1-np.diagonal(ULCI.dot(U.T)))"
   ]
  },
  {
   "cell_type": "code",
   "execution_count": 292,
   "metadata": {},
   "outputs": [
    {
     "data": {
      "text/plain": [
       "array([-0.02493205,  0.07446755,  0.02817442, -0.15004742,  0.16462112,\n",
       "        0.09742316,  0.14423584,  0.02520127,  0.10585701,  0.10945866,\n",
       "       -0.05032365,  0.04459193, -0.0923849 , -0.01884937,  0.14090422,\n",
       "       -0.01463991, -0.10560719, -0.15692142, -0.15442488, -0.14528894,\n",
       "       -0.05455377, -0.34448936, -0.32048868, -0.29912552, -0.03765583,\n",
       "       -0.17656215, -0.11331828,  0.0697439 , -0.01095581,  0.17889219,\n",
       "        0.14305345,  0.18019958,  0.30948726,  0.01665231,  0.50433992,\n",
       "        0.73416962,  0.77788175,  0.74060768,  0.88021288,  0.97589703,\n",
       "        0.9698269 ,  1.00596255,  0.70001886,  0.77570134,  0.59684134,\n",
       "        0.50673654,  0.52783025,  0.38309513,  0.47568848,  0.40863609,\n",
       "        0.3685689 ,  0.23346496,  0.42829871,  0.24582375,  0.21634462,\n",
       "        0.01922045,  0.01165655, -0.01821299, -0.11578925, -0.21994863,\n",
       "        0.03685356, -0.32260812, -0.11515162, -0.15413039, -0.39882065,\n",
       "       -0.03566529, -0.30582806, -0.19094842, -0.20375619, -0.11739134,\n",
       "       -0.09865173, -0.18441711, -0.08891437,  0.15642557,  0.04607565,\n",
       "       -0.01172002, -0.13232519, -0.14288122,  0.06994458, -0.06120494,\n",
       "        0.06701726,  0.21096565,  0.01661483,  0.15007403,  0.08687697,\n",
       "        0.03715866,  0.16672729, -0.00108829,  0.13480135,  0.08816291,\n",
       "        0.02160957,  0.17800174, -0.16115249,  0.18123852,  0.08812124,\n",
       "        0.02018813, -0.16031363, -0.02035671,  0.16565101, -0.0733703 ])"
      ]
     },
     "execution_count": 292,
     "metadata": {},
     "output_type": "execute_result"
    }
   ],
   "source": [
    "((Ytr - ULCI.dot(UTy)) / (1-np.diagonal(ULCI.dot(U.T))))"
   ]
  },
  {
   "cell_type": "code",
   "execution_count": 262,
   "metadata": {},
   "outputs": [
    {
     "data": {
      "text/plain": [
       "(100,)"
      ]
     },
     "execution_count": 262,
     "metadata": {},
     "output_type": "execute_result"
    }
   ],
   "source": [
    "(Ytr - ULCI.dot(UTy)).shape"
   ]
  },
  {
   "cell_type": "code",
   "execution_count": 241,
   "metadata": {},
   "outputs": [
    {
     "data": {
      "text/plain": [
       "25461.344985467942"
      ]
     },
     "execution_count": 241,
     "metadata": {},
     "output_type": "execute_result"
    }
   ],
   "source": [
    "np.sum(((Ytr - (ULCI*(UTy[None,:,None]))[0]) / (1-np.diagonal(ULCI*(U.T[None,:,:]),axis1 =1 , axis2 = 2))[0])**2)"
   ]
  },
  {
   "cell_type": "code",
   "execution_count": 239,
   "metadata": {},
   "outputs": [
    {
     "data": {
      "text/plain": [
       "254.61344985467943"
      ]
     },
     "execution_count": 239,
     "metadata": {},
     "output_type": "execute_result"
    }
   ],
   "source": [
    "np.sum(((Ytr - (ULCI*(UTy[None,:,None]))[0]) / (1-np.diagonal(ULCI*(U.T[None,:,:]),axis1 =1 , axis2 = 2))[0])**2 )/len(Ytr)"
   ]
  },
  {
   "cell_type": "code",
   "execution_count": 234,
   "metadata": {},
   "outputs": [
    {
     "data": {
      "text/plain": [
       "(100, 50)"
      ]
     },
     "execution_count": 234,
     "metadata": {},
     "output_type": "execute_result"
    }
   ],
   "source": [
    "(1-np.diagonal(ULCI.dot(U.T))).shape"
   ]
  },
  {
   "cell_type": "code",
   "execution_count": 219,
   "metadata": {},
   "outputs": [],
   "source": [
    "squared_loss = np.sum(((Ytr-ULCI*(UTy[None,:,None])) / (1-np.diagonal(ULCI.dot(U.T[None,:,:]), axis1 = 1, axis2 = 2)))**2 / len(Ytr))"
   ]
  },
  {
   "cell_type": "code",
   "execution_count": 220,
   "metadata": {},
   "outputs": [
    {
     "data": {
      "text/plain": [
       "3906.845608472146"
      ]
     },
     "execution_count": 220,
     "metadata": {},
     "output_type": "execute_result"
    }
   ],
   "source": [
    "squared_loss"
   ]
  },
  {
   "cell_type": "code",
   "execution_count": 146,
   "metadata": {},
   "outputs": [],
   "source": [
    "ULCI = U.dot(np.diag(L))[None,:,:]*(np.linalg.inv((np.diag(L))[None,:,:]+ C[:,None,None]*I[None,:,:]))"
   ]
  },
  {
   "cell_type": "code",
   "execution_count": 190,
   "metadata": {},
   "outputs": [],
   "source": [
    "LC = (np.diag(L))[None,:,:] + C[:,None,None]*I[None,:,:]"
   ]
  },
  {
   "cell_type": "code",
   "execution_count": 176,
   "metadata": {},
   "outputs": [
    {
     "data": {
      "text/plain": [
       "array([[[1.10232611e+03, 0.00000000e+00, 0.00000000e+00, ...,\n",
       "         0.00000000e+00, 0.00000000e+00, 0.00000000e+00],\n",
       "        [0.00000000e+00, 8.96818898e+02, 0.00000000e+00, ...,\n",
       "         0.00000000e+00, 0.00000000e+00, 0.00000000e+00],\n",
       "        [0.00000000e+00, 0.00000000e+00, 3.79427550e+02, ...,\n",
       "         0.00000000e+00, 0.00000000e+00, 0.00000000e+00],\n",
       "        ...,\n",
       "        [0.00000000e+00, 0.00000000e+00, 0.00000000e+00, ...,\n",
       "         4.75289804e-01, 0.00000000e+00, 0.00000000e+00],\n",
       "        [0.00000000e+00, 0.00000000e+00, 0.00000000e+00, ...,\n",
       "         0.00000000e+00, 4.61242655e-01, 0.00000000e+00],\n",
       "        [0.00000000e+00, 0.00000000e+00, 0.00000000e+00, ...,\n",
       "         0.00000000e+00, 0.00000000e+00, 3.49962998e-01]],\n",
       "\n",
       "       [[1.10232592e+03, 0.00000000e+00, 0.00000000e+00, ...,\n",
       "         0.00000000e+00, 0.00000000e+00, 0.00000000e+00],\n",
       "        [0.00000000e+00, 8.96818773e+02, 0.00000000e+00, ...,\n",
       "         0.00000000e+00, 0.00000000e+00, 0.00000000e+00],\n",
       "        [0.00000000e+00, 0.00000000e+00, 3.79427527e+02, ...,\n",
       "         0.00000000e+00, 0.00000000e+00, 0.00000000e+00],\n",
       "        ...,\n",
       "        [0.00000000e+00, 0.00000000e+00, 0.00000000e+00, ...,\n",
       "         4.75289804e-01, 0.00000000e+00, 0.00000000e+00],\n",
       "        [0.00000000e+00, 0.00000000e+00, 0.00000000e+00, ...,\n",
       "         0.00000000e+00, 4.61242655e-01, 0.00000000e+00],\n",
       "        [0.00000000e+00, 0.00000000e+00, 0.00000000e+00, ...,\n",
       "         0.00000000e+00, 0.00000000e+00, 3.49962997e-01]],\n",
       "\n",
       "       [[1.10232543e+03, 0.00000000e+00, 0.00000000e+00, ...,\n",
       "         0.00000000e+00, 0.00000000e+00, 0.00000000e+00],\n",
       "        [0.00000000e+00, 8.96818451e+02, 0.00000000e+00, ...,\n",
       "         0.00000000e+00, 0.00000000e+00, 0.00000000e+00],\n",
       "        [0.00000000e+00, 0.00000000e+00, 3.79427470e+02, ...,\n",
       "         0.00000000e+00, 0.00000000e+00, 0.00000000e+00],\n",
       "        ...,\n",
       "        [0.00000000e+00, 0.00000000e+00, 0.00000000e+00, ...,\n",
       "         4.75289804e-01, 0.00000000e+00, 0.00000000e+00],\n",
       "        [0.00000000e+00, 0.00000000e+00, 0.00000000e+00, ...,\n",
       "         0.00000000e+00, 4.61242655e-01, 0.00000000e+00],\n",
       "        [0.00000000e+00, 0.00000000e+00, 0.00000000e+00, ...,\n",
       "         0.00000000e+00, 0.00000000e+00, 3.49962997e-01]],\n",
       "\n",
       "       ...,\n",
       "\n",
       "       [[6.55128557e-10, 0.00000000e+00, 0.00000000e+00, ...,\n",
       "         0.00000000e+00, 0.00000000e+00, 0.00000000e+00],\n",
       "        [0.00000000e+00, 6.55128557e-10, 0.00000000e+00, ...,\n",
       "         0.00000000e+00, 0.00000000e+00, 0.00000000e+00],\n",
       "        [0.00000000e+00, 0.00000000e+00, 6.55128557e-10, ...,\n",
       "         0.00000000e+00, 0.00000000e+00, 0.00000000e+00],\n",
       "        ...,\n",
       "        [0.00000000e+00, 0.00000000e+00, 0.00000000e+00, ...,\n",
       "         6.55128556e-10, 0.00000000e+00, 0.00000000e+00],\n",
       "        [0.00000000e+00, 0.00000000e+00, 0.00000000e+00, ...,\n",
       "         0.00000000e+00, 6.55128556e-10, 0.00000000e+00],\n",
       "        [0.00000000e+00, 0.00000000e+00, 0.00000000e+00, ...,\n",
       "         0.00000000e+00, 0.00000000e+00, 6.55128556e-10]],\n",
       "\n",
       "       [[2.55954792e-10, 0.00000000e+00, 0.00000000e+00, ...,\n",
       "         0.00000000e+00, 0.00000000e+00, 0.00000000e+00],\n",
       "        [0.00000000e+00, 2.55954792e-10, 0.00000000e+00, ...,\n",
       "         0.00000000e+00, 0.00000000e+00, 0.00000000e+00],\n",
       "        [0.00000000e+00, 0.00000000e+00, 2.55954792e-10, ...,\n",
       "         0.00000000e+00, 0.00000000e+00, 0.00000000e+00],\n",
       "        ...,\n",
       "        [0.00000000e+00, 0.00000000e+00, 0.00000000e+00, ...,\n",
       "         2.55954792e-10, 0.00000000e+00, 0.00000000e+00],\n",
       "        [0.00000000e+00, 0.00000000e+00, 0.00000000e+00, ...,\n",
       "         0.00000000e+00, 2.55954792e-10, 0.00000000e+00],\n",
       "        [0.00000000e+00, 0.00000000e+00, 0.00000000e+00, ...,\n",
       "         0.00000000e+00, 0.00000000e+00, 2.55954792e-10]],\n",
       "\n",
       "       [[1.00000000e-10, 0.00000000e+00, 0.00000000e+00, ...,\n",
       "         0.00000000e+00, 0.00000000e+00, 0.00000000e+00],\n",
       "        [0.00000000e+00, 1.00000000e-10, 0.00000000e+00, ...,\n",
       "         0.00000000e+00, 0.00000000e+00, 0.00000000e+00],\n",
       "        [0.00000000e+00, 0.00000000e+00, 1.00000000e-10, ...,\n",
       "         0.00000000e+00, 0.00000000e+00, 0.00000000e+00],\n",
       "        ...,\n",
       "        [0.00000000e+00, 0.00000000e+00, 0.00000000e+00, ...,\n",
       "         1.00000000e-10, 0.00000000e+00, 0.00000000e+00],\n",
       "        [0.00000000e+00, 0.00000000e+00, 0.00000000e+00, ...,\n",
       "         0.00000000e+00, 1.00000000e-10, 0.00000000e+00],\n",
       "        [0.00000000e+00, 0.00000000e+00, 0.00000000e+00, ...,\n",
       "         0.00000000e+00, 0.00000000e+00, 1.00000000e-10]]])"
      ]
     },
     "execution_count": 176,
     "metadata": {},
     "output_type": "execute_result"
    }
   ],
   "source": [
    "np.linalg.inv(LC)"
   ]
  },
  {
   "cell_type": "code",
   "execution_count": 164,
   "metadata": {},
   "outputs": [
    {
     "data": {
      "text/plain": [
       "array([0.00090717, 0.        , 0.        , 0.        , 0.        ,\n",
       "       0.        , 0.        , 0.        , 0.        , 0.        ,\n",
       "       0.        , 0.        , 0.        , 0.        , 0.        ,\n",
       "       0.        , 0.        , 0.        , 0.        , 0.        ,\n",
       "       0.        , 0.        , 0.        , 0.        , 0.        ,\n",
       "       0.        , 0.        , 0.        , 0.        , 0.        ,\n",
       "       0.        , 0.        , 0.        , 0.        , 0.        ,\n",
       "       0.        , 0.        , 0.        , 0.        , 0.        ,\n",
       "       0.        , 0.        , 0.        , 0.        , 0.        ,\n",
       "       0.        , 0.        , 0.        , 0.        , 0.        ,\n",
       "       0.        , 0.        , 0.        , 0.        , 0.        ,\n",
       "       0.        , 0.        , 0.        , 0.        , 0.        ,\n",
       "       0.        , 0.        , 0.        , 0.        , 0.        ,\n",
       "       0.        , 0.        , 0.        , 0.        , 0.        ,\n",
       "       0.        , 0.        , 0.        , 0.        , 0.        ,\n",
       "       0.        , 0.        , 0.        , 0.        , 0.        ,\n",
       "       0.        , 0.        , 0.        , 0.        , 0.        ,\n",
       "       0.        , 0.        , 0.        , 0.        , 0.        ,\n",
       "       0.        , 0.        , 0.        , 0.        , 0.        ,\n",
       "       0.        , 0.        , 0.        , 0.        , 0.        ])"
      ]
     },
     "execution_count": 164,
     "metadata": {},
     "output_type": "execute_result"
    }
   ],
   "source": [
    "(np.diag(L))[None,:,:][0,0,:]"
   ]
  },
  {
   "cell_type": "code",
   "execution_count": 130,
   "metadata": {},
   "outputs": [],
   "source": [
    "squared_loss = np.sum(((Ytr-ULCI*UTy[None,:,None]) / (1-np.diagonal(ULCI.dot(U.T[None,:,:]), axis1 = 1, axis2 = 2)))**2 / len(Ytr))"
   ]
  },
  {
   "cell_type": "code",
   "execution_count": 132,
   "metadata": {},
   "outputs": [
    {
     "data": {
      "text/plain": [
       "3906.845608472146"
      ]
     },
     "execution_count": 132,
     "metadata": {},
     "output_type": "execute_result"
    }
   ],
   "source": [
    "squared_loss"
   ]
  },
  {
   "cell_type": "code",
   "execution_count": 638,
   "metadata": {},
   "outputs": [],
   "source": [
    "squared_loss = []\n",
    "for C in np.logspace(-10, 10, 50)*mean_L: #np.random.lognormal(mean_L,sigma = 1, size = 30):\n",
    "            #ULCI = U.dot(L*I).dot((1/(L + C))*I) # (1/(L + C))*I: inverse of diagonal matrix\n",
    "            #ULCI = np.linalg.solve((L + C)*I,U.dot(L*I))\n",
    "            ULCI = U.dot(L*I).dot((np.linalg.inv((L + C)*I)))\n",
    "            squared_loss.append( np.sum(((Ytr - ULCI.dot(UTy)) / (1-np.diagonal(ULCI.dot(U.T))))**2) / len(Ytr))"
   ]
  },
  {
   "cell_type": "code",
   "execution_count": 641,
   "metadata": {},
   "outputs": [
    {
     "data": {
      "text/plain": [
       "(100, 100)"
      ]
     },
     "execution_count": 641,
     "metadata": {},
     "output_type": "execute_result"
    }
   ],
   "source": [
    "((L + C)*I).shape"
   ]
  },
  {
   "cell_type": "code",
   "execution_count": 564,
   "metadata": {},
   "outputs": [
    {
     "data": {
      "text/plain": [
       "array([ 0.00000000e+00,  0.00000000e+00,  0.00000000e+00,  0.00000000e+00,\n",
       "        0.00000000e+00,  0.00000000e+00,  0.00000000e+00,  0.00000000e+00,\n",
       "        0.00000000e+00,  0.00000000e+00,  0.00000000e+00,  0.00000000e+00,\n",
       "        0.00000000e+00,  0.00000000e+00,  0.00000000e+00,  0.00000000e+00,\n",
       "        0.00000000e+00,  0.00000000e+00,  0.00000000e+00,  0.00000000e+00,\n",
       "        0.00000000e+00,  0.00000000e+00,  0.00000000e+00,  0.00000000e+00,\n",
       "        0.00000000e+00,  0.00000000e+00,  0.00000000e+00,  0.00000000e+00,\n",
       "        0.00000000e+00,  0.00000000e+00,  0.00000000e+00, -7.04693291e-11,\n",
       "        0.00000000e+00,  0.00000000e+00,  0.00000000e+00,  0.00000000e+00,\n",
       "        0.00000000e+00,  0.00000000e+00,  0.00000000e+00,  0.00000000e+00,\n",
       "        0.00000000e+00,  0.00000000e+00,  0.00000000e+00,  0.00000000e+00,\n",
       "        0.00000000e+00,  0.00000000e+00,  0.00000000e+00,  0.00000000e+00,\n",
       "        0.00000000e+00,  0.00000000e+00,  0.00000000e+00,  0.00000000e+00,\n",
       "        0.00000000e+00,  0.00000000e+00,  0.00000000e+00,  0.00000000e+00,\n",
       "        0.00000000e+00,  0.00000000e+00,  0.00000000e+00,  0.00000000e+00,\n",
       "        0.00000000e+00,  0.00000000e+00,  0.00000000e+00,  0.00000000e+00,\n",
       "        0.00000000e+00,  0.00000000e+00,  0.00000000e+00,  0.00000000e+00,\n",
       "        0.00000000e+00,  0.00000000e+00,  0.00000000e+00,  0.00000000e+00,\n",
       "        0.00000000e+00,  0.00000000e+00, -7.09520272e-11,  0.00000000e+00,\n",
       "        0.00000000e+00,  0.00000000e+00,  0.00000000e+00,  0.00000000e+00,\n",
       "        0.00000000e+00,  0.00000000e+00,  0.00000000e+00,  0.00000000e+00,\n",
       "        0.00000000e+00,  0.00000000e+00,  0.00000000e+00,  0.00000000e+00,\n",
       "        0.00000000e+00,  0.00000000e+00,  0.00000000e+00,  0.00000000e+00,\n",
       "        0.00000000e+00,  0.00000000e+00,  0.00000000e+00,  0.00000000e+00,\n",
       "        0.00000000e+00,  0.00000000e+00,  0.00000000e+00,  0.00000000e+00])"
      ]
     },
     "execution_count": 564,
     "metadata": {},
     "output_type": "execute_result"
    }
   ],
   "source": [
    "ULCI[0]"
   ]
  },
  {
   "cell_type": "code",
   "execution_count": 565,
   "metadata": {},
   "outputs": [
    {
     "data": {
      "text/plain": [
       "array([ 0.00000000e+00,  0.00000000e+00,  0.00000000e+00,  0.00000000e+00,\n",
       "        0.00000000e+00,  0.00000000e+00,  0.00000000e+00,  0.00000000e+00,\n",
       "        0.00000000e+00,  0.00000000e+00,  0.00000000e+00,  0.00000000e+00,\n",
       "        0.00000000e+00,  0.00000000e+00,  0.00000000e+00,  0.00000000e+00,\n",
       "        0.00000000e+00,  0.00000000e+00,  0.00000000e+00,  0.00000000e+00,\n",
       "        0.00000000e+00,  0.00000000e+00,  0.00000000e+00,  0.00000000e+00,\n",
       "        0.00000000e+00,  0.00000000e+00,  0.00000000e+00,  0.00000000e+00,\n",
       "        0.00000000e+00,  0.00000000e+00,  0.00000000e+00, -7.04693291e-11,\n",
       "        0.00000000e+00,  0.00000000e+00,  0.00000000e+00,  0.00000000e+00,\n",
       "        0.00000000e+00,  0.00000000e+00,  0.00000000e+00,  0.00000000e+00,\n",
       "        0.00000000e+00,  0.00000000e+00,  0.00000000e+00,  0.00000000e+00,\n",
       "        0.00000000e+00,  0.00000000e+00,  0.00000000e+00,  0.00000000e+00,\n",
       "        0.00000000e+00,  0.00000000e+00,  0.00000000e+00,  0.00000000e+00,\n",
       "        0.00000000e+00,  0.00000000e+00,  0.00000000e+00,  0.00000000e+00,\n",
       "        0.00000000e+00,  0.00000000e+00,  0.00000000e+00,  0.00000000e+00,\n",
       "        0.00000000e+00,  0.00000000e+00,  0.00000000e+00,  0.00000000e+00,\n",
       "        0.00000000e+00,  0.00000000e+00,  0.00000000e+00,  0.00000000e+00,\n",
       "        0.00000000e+00,  0.00000000e+00,  0.00000000e+00,  0.00000000e+00,\n",
       "        0.00000000e+00,  0.00000000e+00, -7.09520272e-11,  0.00000000e+00,\n",
       "        0.00000000e+00,  0.00000000e+00,  0.00000000e+00,  0.00000000e+00,\n",
       "        0.00000000e+00,  0.00000000e+00,  0.00000000e+00,  0.00000000e+00,\n",
       "        0.00000000e+00,  0.00000000e+00,  0.00000000e+00,  0.00000000e+00,\n",
       "        0.00000000e+00,  0.00000000e+00,  0.00000000e+00,  0.00000000e+00,\n",
       "        0.00000000e+00,  0.00000000e+00,  0.00000000e+00,  0.00000000e+00,\n",
       "        0.00000000e+00,  0.00000000e+00,  0.00000000e+00,  0.00000000e+00])"
      ]
     },
     "execution_count": 565,
     "metadata": {},
     "output_type": "execute_result"
    }
   ],
   "source": [
    "ULCI_2[0]"
   ]
  },
  {
   "cell_type": "code",
   "execution_count": 566,
   "metadata": {},
   "outputs": [
    {
     "data": {
      "text/plain": [
       "array([ 0.00000000e+00,  0.00000000e+00,  0.00000000e+00,  0.00000000e+00,\n",
       "        0.00000000e+00,  0.00000000e+00,  0.00000000e+00,  0.00000000e+00,\n",
       "        0.00000000e+00,  0.00000000e+00,  0.00000000e+00,  0.00000000e+00,\n",
       "        0.00000000e+00,  0.00000000e+00,  0.00000000e+00,  0.00000000e+00,\n",
       "        0.00000000e+00,  0.00000000e+00,  0.00000000e+00,  0.00000000e+00,\n",
       "        0.00000000e+00,  0.00000000e+00,  0.00000000e+00,  0.00000000e+00,\n",
       "        0.00000000e+00,  0.00000000e+00,  0.00000000e+00,  0.00000000e+00,\n",
       "        0.00000000e+00,  0.00000000e+00,  0.00000000e+00, -7.04693291e-11,\n",
       "        0.00000000e+00,  0.00000000e+00,  0.00000000e+00,  0.00000000e+00,\n",
       "        0.00000000e+00,  0.00000000e+00,  0.00000000e+00,  0.00000000e+00,\n",
       "        0.00000000e+00,  0.00000000e+00,  0.00000000e+00,  0.00000000e+00,\n",
       "        0.00000000e+00,  0.00000000e+00,  0.00000000e+00,  0.00000000e+00,\n",
       "        0.00000000e+00,  0.00000000e+00,  0.00000000e+00,  0.00000000e+00,\n",
       "        0.00000000e+00,  0.00000000e+00,  0.00000000e+00,  0.00000000e+00,\n",
       "        0.00000000e+00,  0.00000000e+00,  0.00000000e+00,  0.00000000e+00,\n",
       "        0.00000000e+00,  0.00000000e+00,  0.00000000e+00,  0.00000000e+00,\n",
       "        0.00000000e+00,  0.00000000e+00,  0.00000000e+00,  0.00000000e+00,\n",
       "        0.00000000e+00,  0.00000000e+00,  0.00000000e+00,  0.00000000e+00,\n",
       "        0.00000000e+00,  0.00000000e+00, -7.09520272e-11,  0.00000000e+00,\n",
       "        0.00000000e+00,  0.00000000e+00,  0.00000000e+00,  0.00000000e+00,\n",
       "        0.00000000e+00,  0.00000000e+00,  0.00000000e+00,  0.00000000e+00,\n",
       "        0.00000000e+00,  0.00000000e+00,  0.00000000e+00,  0.00000000e+00,\n",
       "        0.00000000e+00,  0.00000000e+00,  0.00000000e+00,  0.00000000e+00,\n",
       "        0.00000000e+00,  0.00000000e+00,  0.00000000e+00,  0.00000000e+00,\n",
       "        0.00000000e+00,  0.00000000e+00,  0.00000000e+00,  0.00000000e+00])"
      ]
     },
     "execution_count": 566,
     "metadata": {},
     "output_type": "execute_result"
    }
   ],
   "source": [
    "ULCI_1[0]"
   ]
  },
  {
   "cell_type": "code",
   "execution_count": 582,
   "metadata": {},
   "outputs": [
    {
     "data": {
      "text/plain": [
       "0.1621639464533877"
      ]
     },
     "execution_count": 582,
     "metadata": {},
     "output_type": "execute_result"
    }
   ],
   "source": [
    "np.sum(((Ytr - ULCI.dot(UTy)) / (1-np.diagonal(ULCI.dot(U.T))))**2) / len(Ytr)"
   ]
  },
  {
   "cell_type": "code",
   "execution_count": 580,
   "metadata": {},
   "outputs": [
    {
     "name": "stdout",
     "output_type": "stream",
     "text": [
      "-7.046932908003238e-11\n",
      "-7.046932907300979e-11\n"
     ]
    },
    {
     "data": {
      "text/plain": [
       "False"
      ]
     },
     "execution_count": 580,
     "metadata": {},
     "output_type": "execute_result"
    }
   ],
   "source": [
    "print(ULCI[0,31])\n",
    "print(ULCI_1[0,31])\n",
    "ULCI[0,31] == ULCI_1[0,31]"
   ]
  },
  {
   "cell_type": "code",
   "execution_count": 260,
   "metadata": {},
   "outputs": [
    {
     "data": {
      "text/plain": [
       "(100,)"
      ]
     },
     "execution_count": 260,
     "metadata": {},
     "output_type": "execute_result"
    }
   ],
   "source": [
    "(Ytr - ULCI.dot(UTy)).shape"
   ]
  },
  {
   "cell_type": "code",
   "execution_count": 247,
   "metadata": {},
   "outputs": [
    {
     "data": {
      "text/plain": [
       "10.369369547085737"
      ]
     },
     "execution_count": 247,
     "metadata": {},
     "output_type": "execute_result"
    }
   ],
   "source": [
    "np.sum(((Ytr - ULCI.dot(UTy)) / (1-np.diagonal(ULCI.dot(U.T))))**2)"
   ]
  },
  {
   "cell_type": "code",
   "execution_count": 583,
   "metadata": {},
   "outputs": [],
   "source": [
    "_C = (np.logspace(-10, 10, 50)*mean_L)[0]"
   ]
  },
  {
   "cell_type": "code",
   "execution_count": 584,
   "metadata": {},
   "outputs": [],
   "source": [
    "ULCI = np.linalg.solve((L + _C)*I,U.dot(L*I))"
   ]
  },
  {
   "cell_type": "code",
   "execution_count": 585,
   "metadata": {},
   "outputs": [
    {
     "data": {
      "text/plain": [
       "array([[ 0.00000000e+00,  0.00000000e+00,  0.00000000e+00, ...,\n",
       "         0.00000000e+00,  0.00000000e+00,  0.00000000e+00],\n",
       "       [ 0.00000000e+00,  0.00000000e+00,  0.00000000e+00, ...,\n",
       "         0.00000000e+00,  0.00000000e+00,  0.00000000e+00],\n",
       "       [ 0.00000000e+00,  0.00000000e+00,  0.00000000e+00, ...,\n",
       "         0.00000000e+00,  0.00000000e+00,  0.00000000e+00],\n",
       "       ...,\n",
       "       [-3.24832378e-09,  0.00000000e+00,  0.00000000e+00, ...,\n",
       "         0.00000000e+00,  0.00000000e+00, -7.19662437e-04],\n",
       "       [ 2.99504651e-10,  0.00000000e+00,  0.00000000e+00, ...,\n",
       "         0.00000000e+00,  0.00000000e+00, -4.26445366e-05],\n",
       "       [-1.67648938e-10,  0.00000000e+00,  0.00000000e+00, ...,\n",
       "         0.00000000e+00,  0.00000000e+00, -1.33413157e-05]])"
      ]
     },
     "execution_count": 585,
     "metadata": {},
     "output_type": "execute_result"
    }
   ],
   "source": [
    "ULCI"
   ]
  },
  {
   "cell_type": "code",
   "execution_count": 586,
   "metadata": {},
   "outputs": [],
   "source": [
    "ULCI_1 = U.dot(L*I).dot((1/(L + _C))*I)"
   ]
  },
  {
   "cell_type": "code",
   "execution_count": 587,
   "metadata": {},
   "outputs": [
    {
     "data": {
      "text/plain": [
       "array([[ 0.00000000e+00,  0.00000000e+00,  0.00000000e+00, ...,\n",
       "         0.00000000e+00,  0.00000000e+00,  0.00000000e+00],\n",
       "       [ 0.00000000e+00,  0.00000000e+00,  0.00000000e+00, ...,\n",
       "         0.00000000e+00,  0.00000000e+00,  0.00000000e+00],\n",
       "       [ 0.00000000e+00,  0.00000000e+00,  0.00000000e+00, ...,\n",
       "         0.00000000e+00,  0.00000000e+00,  0.00000000e+00],\n",
       "       ...,\n",
       "       [-2.60724769e-04,  0.00000000e+00,  0.00000000e+00, ...,\n",
       "         0.00000000e+00,  0.00000000e+00, -6.78058012e-04],\n",
       "       [ 2.52570625e-05,  0.00000000e+00,  0.00000000e+00, ...,\n",
       "         0.00000000e+00,  0.00000000e+00, -4.22141166e-05],\n",
       "       [-1.42818928e-05,  0.00000000e+00,  0.00000000e+00, ...,\n",
       "         0.00000000e+00,  0.00000000e+00, -1.33413157e-05]])"
      ]
     },
     "execution_count": 587,
     "metadata": {},
     "output_type": "execute_result"
    }
   ],
   "source": [
    "ULCI_1"
   ]
  },
  {
   "cell_type": "code",
   "execution_count": 590,
   "metadata": {},
   "outputs": [],
   "source": [
    "ULCI_2 = U.dot(L*I).dot((np.linalg.inv((L + _C)*I)))"
   ]
  },
  {
   "cell_type": "code",
   "execution_count": 591,
   "metadata": {},
   "outputs": [
    {
     "data": {
      "text/plain": [
       "array([[ 0.00000000e+00,  0.00000000e+00,  0.00000000e+00, ...,\n",
       "         0.00000000e+00,  0.00000000e+00,  0.00000000e+00],\n",
       "       [ 0.00000000e+00,  0.00000000e+00,  0.00000000e+00, ...,\n",
       "         0.00000000e+00,  0.00000000e+00,  0.00000000e+00],\n",
       "       [ 0.00000000e+00,  0.00000000e+00,  0.00000000e+00, ...,\n",
       "         0.00000000e+00,  0.00000000e+00,  0.00000000e+00],\n",
       "       ...,\n",
       "       [-2.60724769e-04,  0.00000000e+00,  0.00000000e+00, ...,\n",
       "         0.00000000e+00,  0.00000000e+00, -6.78058012e-04],\n",
       "       [ 2.52570625e-05,  0.00000000e+00,  0.00000000e+00, ...,\n",
       "         0.00000000e+00,  0.00000000e+00, -4.22141166e-05],\n",
       "       [-1.42818928e-05,  0.00000000e+00,  0.00000000e+00, ...,\n",
       "         0.00000000e+00,  0.00000000e+00, -1.33413157e-05]])"
      ]
     },
     "execution_count": 591,
     "metadata": {},
     "output_type": "execute_result"
    }
   ],
   "source": [
    "ULCI_2"
   ]
  },
  {
   "cell_type": "code",
   "execution_count": 392,
   "metadata": {},
   "outputs": [
    {
     "data": {
      "text/plain": [
       "0.06782572833481033"
      ]
     },
     "execution_count": 392,
     "metadata": {},
     "output_type": "execute_result"
    }
   ],
   "source": [
    "np.sum(((Ytr - ULCI.dot(UTy)) / (1-np.diagonal(ULCI.dot(U.T))))**2) / len(Ytr)"
   ]
  },
  {
   "cell_type": "code",
   "execution_count": 346,
   "metadata": {},
   "outputs": [
    {
     "data": {
      "text/plain": [
       "array([0.01435444, 0.01435444, 0.01435443, 0.01435443, 0.01435443,\n",
       "       0.01435443, 0.01435443, 0.01435443, 0.01436033, 0.01436033,\n",
       "       0.01435443, 0.01435443, 0.06200224, 0.0780511 , 0.02321124,\n",
       "       0.01435443, 0.01435443, 0.01435443, 0.01435443, 0.01435443,\n",
       "       0.01514875, 0.01677054, 0.07931524, 0.07618647, 0.01435577,\n",
       "       0.01435577, 0.01435443, 0.01502653, 0.01507653, 0.19699843,\n",
       "       0.19685445, 0.01435738, 0.01437096, 0.01436801, 0.01435443,\n",
       "       0.01435443, 0.32048174, 0.32048174, 0.01435443, 0.01435443,\n",
       "       0.02020077, 0.02020077, 0.01435443, 0.01435444, 0.01469819,\n",
       "       0.01469819, 0.01435443, 0.0407235 , 0.04544214, 0.01757245,\n",
       "       0.01435444, 0.02757612, 0.02757612, 0.01435444, 0.01435444,\n",
       "       0.17385632, 0.17385632, 0.01435443, 0.0565213 , 0.06952304,\n",
       "       0.02185065, 0.01767249, 0.01767249, 0.01437764, 0.014754  ,\n",
       "       0.01473078, 0.01435443, 0.01435443, 0.01435443, 0.01435626,\n",
       "       0.01448197, 0.01448022, 0.05057422, 0.05057413, 0.18757065,\n",
       "       0.20520978, 0.02659709, 0.02057967, 0.01435444, 0.01435444,\n",
       "       0.01435443, 0.19332399, 0.19332399, 0.01435443, 0.02067106,\n",
       "       0.02067106, 0.47429705, 0.47429705, 0.01436061, 0.33437434,\n",
       "       0.57944163, 0.11346843, 0.01924633, 0.01924633, 0.42700018,\n",
       "       0.42700018, 0.01435443, 0.01435446, 0.40578928, 0.40578915])"
      ]
     },
     "execution_count": 346,
     "metadata": {},
     "output_type": "execute_result"
    }
   ],
   "source": [
    "(1-np.diagonal(ULCI.dot(U.T)))"
   ]
  },
  {
   "cell_type": "code",
   "execution_count": 310,
   "metadata": {},
   "outputs": [
    {
     "data": {
      "text/plain": [
       "0.06782572833481033"
      ]
     },
     "execution_count": 310,
     "metadata": {},
     "output_type": "execute_result"
    }
   ],
   "source": [
    "squared_loss[np.argmin(squared_loss)]"
   ]
  },
  {
   "cell_type": "code",
   "execution_count": 311,
   "metadata": {},
   "outputs": [
    {
     "data": {
      "text/plain": [
       "[0.06808165905914898,\n",
       " 0.06808167385988831,\n",
       " 0.06808167466245837,\n",
       " 0.06808167838536196,\n",
       " 0.06808167895687943,\n",
       " 0.0680816800445239,\n",
       " 0.06808167937246118,\n",
       " 0.06808167898189108,\n",
       " 0.06808167743813118,\n",
       " 0.06808167371665158,\n",
       " 0.0680816641946278,\n",
       " 0.0680816399136044,\n",
       " 0.06808157860586522,\n",
       " 0.0680814267957929,\n",
       " 0.06808106652578863,\n",
       " 0.06808025838474435,\n",
       " 0.06807820483955528,\n",
       " 0.06806941843144172,\n",
       " 0.06803096364159215,\n",
       " 0.06793420928667154,\n",
       " 0.06782572833481033,\n",
       " 0.0678832915420413,\n",
       " 0.06844248937623225,\n",
       " 0.07027152511015342,\n",
       " 0.07492181694259838,\n",
       " 0.08318127346406254,\n",
       " 0.09211791547202719,\n",
       " 0.09825760156025139,\n",
       " 0.10139109969765608,\n",
       " 0.10276371952414765,\n",
       " 0.10332551771730537,\n",
       " 0.10354909865572157,\n",
       " 0.1036370867978135,\n",
       " 0.10367156111827432,\n",
       " 0.10368504501347121,\n",
       " 0.10369031538036852,\n",
       " 0.10369237483077313,\n",
       " 0.10369317949906685,\n",
       " 0.1036934938862863,\n",
       " 0.10369361671672869,\n",
       " 0.10369366470603472,\n",
       " 0.10369368345519732,\n",
       " 0.10369369078038697,\n",
       " 0.10369369364229522,\n",
       " 0.1036936947604257,\n",
       " 0.10369369519727262,\n",
       " 0.10369369536794601,\n",
       " 0.10369369543462711,\n",
       " 0.10369369546067904,\n",
       " 0.10369369547085737]"
      ]
     },
     "execution_count": 311,
     "metadata": {},
     "output_type": "execute_result"
    }
   ],
   "source": [
    "squared_loss"
   ]
  },
  {
   "cell_type": "code",
   "execution_count": null,
   "metadata": {},
   "outputs": [],
   "source": [
    "# Eigenvalue decomposition\n",
    "        L, U = np.linalg.eig(self.kernelmatrix) # L = Eigenvalue, U = Eigenvector\n",
    "        mean_L = np.mean(L)\n",
    "        I = np.identity(len(L))\n",
    "        # for faster computation precalculate U.T.y\n",
    "        UTy = U.T.dot(self.__ytrain)\n",
    "        # logarithmic distribution with mu = mean_L and sigma = 1\n",
    "        # create 50 values of C\n",
    "        # identify C around Kernel eigenvalue means with logarithmic distribution \n",
    "        for C in np.logspace(-10, 10, 50)*mean_L: #np.random.lognormal(mean_L,sigma = 1, size = 30):\n",
    "            ULCI = U.dot(L*I).dot((1/(L + C))*I) # (1/(L + C))*I: inverse of diagonal matrix\n",
    "            squared_loss = np.sum(((self.__ytrain - ULCI.dot(UTy)) / (1-np.diagonal(ULCI.dot(U.T))))**2) / len(self.__ytrain)\n",
    "            if squared_loss < min_squared_loss:\n",
    "                min_squared_loss = squared_loss\n",
    "                self.regularization = C\n",
    "                \n",
    "        # Eigenvalue decomposition\n",
    "        L, U = np.linalg.eigh(self.kernelmatrix) # L = Eigenvalue, U = Eigenvector\n",
    "        mean_L = np.mean(L)        \n",
    "                \n",
    "        # create candidates\n",
    "        C = np.logspace(-10, 10, 50)*mean_L\n",
    "        \n",
    "        # \n",
    "        ULCI = U.dot(np.diag(L))[None,:,:]*(np.li)\n",
    "\n",
    "    \n",
    "        #compute S\n",
    "        #cxnxn\n",
    "        S = (np.dot(eigvec,np.diag(eigval))[None,:,:]*np.linalg.inv(np.diag(eigval) + C[:,None,None]*np.eye(K_matrix.shape[0])[None,:,:]))*eigvec.T[None,:,:]\n",
    "\n",
    "        #cxnx1 = cxnxn X nx1\n",
    "        Sy = np.dot(S,ytrain)\n",
    "        \n",
    "        #calculate all quadratic losses for c candidates\n",
    "        #c   =    0xnx1-cxnx1 / (1-cxn)\n",
    "        epsilon = np.sum((((ytrain[None,:,:]-Sy)/(1-np.diagonal(S,axis1=1,axis2=2))[:,:,None])**2),axis=1)\n",
    "    \n",
    "        best_epsilon = epsilon[np.argmin(epsilon)]\n",
    "    \n",
    "        best_C = C[np.argmin(epsilon)] "
   ]
  },
  {
   "cell_type": "code",
   "execution_count": 599,
   "metadata": {},
   "outputs": [
    {
     "name": "stdout",
     "output_type": "stream",
     "text": [
      "[[1 2]\n",
      " [3 4]]\n",
      "[[5 3]\n",
      " [6 2]]\n"
     ]
    }
   ],
   "source": [
    "A = np.array([[1, 2], [3, 4]])\n",
    "print(A)\n",
    "\n",
    "b = np.array([[5, 3], [6,2]])\n",
    "print(b)"
   ]
  },
  {
   "cell_type": "code",
   "execution_count": 600,
   "metadata": {},
   "outputs": [
    {
     "data": {
      "text/plain": [
       "array([[-4. , -4. ],\n",
       "       [ 4.5,  3.5]])"
      ]
     },
     "execution_count": 600,
     "metadata": {},
     "output_type": "execute_result"
    }
   ],
   "source": [
    "np.linalg.inv(A).dot(b)"
   ]
  },
  {
   "cell_type": "code",
   "execution_count": 603,
   "metadata": {},
   "outputs": [
    {
     "data": {
      "text/plain": [
       "array([[-5.5,  3.5],\n",
       "       [-9. ,  5. ]])"
      ]
     },
     "execution_count": 603,
     "metadata": {},
     "output_type": "execute_result"
    }
   ],
   "source": [
    "b.dot(np.linalg.inv(A))"
   ]
  },
  {
   "cell_type": "code",
   "execution_count": 601,
   "metadata": {},
   "outputs": [
    {
     "data": {
      "text/plain": [
       "array([[-4. , -4. ],\n",
       "       [ 4.5,  3.5]])"
      ]
     },
     "execution_count": 601,
     "metadata": {},
     "output_type": "execute_result"
    }
   ],
   "source": [
    "np.linalg.solve(A,b)"
   ]
  },
  {
   "cell_type": "code",
   "execution_count": null,
   "metadata": {},
   "outputs": [],
   "source": []
  }
 ],
 "metadata": {
  "kernelspec": {
   "display_name": "Python 3",
   "language": "python",
   "name": "python3"
  },
  "language_info": {
   "codemirror_mode": {
    "name": "ipython",
    "version": 3
   },
   "file_extension": ".py",
   "mimetype": "text/x-python",
   "name": "python",
   "nbconvert_exporter": "python",
   "pygments_lexer": "ipython3",
   "version": "3.7.7"
  }
 },
 "nbformat": 4,
 "nbformat_minor": 4
}
