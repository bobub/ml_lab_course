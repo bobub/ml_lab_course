{
 "cells": [
  {
   "cell_type": "code",
   "execution_count": 17,
   "metadata": {},
   "outputs": [],
   "source": [
    "import numpy as np\n",
    "import scipy.linalg as la\n",
    "import itertools as it\n",
    "import time\n",
    "import pylab as pl\n",
    "import random\n",
    "from mpl_toolkits.mplot3d import Axes3D\n",
    "import matplotlib.pyplot as plt\n",
    "from scipy.stats import lognorm\n",
    "from tqdm import tqdm\n",
    "import numpy as np\n",
    "#import pylab as pl\n",
    "import random\n",
    "import matplotlib as plt\n",
    "# from mpl_toolkits.mplot3d import Axes3D\n",
    "# from matplotlib.lines import Line2D\n",
    "#from scipy.stats import norm\n",
    "import os\n",
    "import scipy.io as sio\n",
    "import pickle"
   ]
  },
  {
   "cell_type": "code",
   "execution_count": 18,
   "metadata": {},
   "outputs": [
    {
     "data": {
      "text/plain": [
       "[<matplotlib.lines.Line2D at 0x1a1ba83790>]"
      ]
     },
     "execution_count": 18,
     "metadata": {},
     "output_type": "execute_result"
    },
    {
     "data": {
      "image/png": "[encoded data removed]",
      "text/plain": [
       "<Figure size 432x288 with 1 Axes>"
      ]
     },
     "metadata": {
      "needs_background": "light"
     },
     "output_type": "display_data"
    }
   ],
   "source": [
    "# Test\n",
    "def noisysincfunction(N, noise):\n",
    "    ''' noisysincfunction - generate data from the \"noisy sinc function\"\n",
    "        % usage\n",
    "        %     [X, Y] = noisysincfunction(N, noise)\n",
    "        %\n",
    "        % input\n",
    "        %     N: number of data points\n",
    "        %     noise: standard variation of the noise\n",
    "        %\n",
    "        % output\n",
    "        %     X: (1, N)-matrix uniformly sampled in -2pi, pi\n",
    "        %     Y: (1, N)-matrix equal to sinc(X) + noise\n",
    "        %\n",
    "        % description\n",
    "        %     Generates N points from the noisy sinc function\n",
    "        %\n",
    "        %        X ~ uniformly in [-2pi, pi]\n",
    "        %        Y = sinc(X) + eps, eps ~ Normal(0, noise.^2)\n",
    "        %\n",
    "        % author\n",
    "        %     Mikio Braun\n",
    "    '''\n",
    "    X = np.sort(2 * np.pi * np.random.rand(1, N) ) - np.pi\n",
    "    Y = np.sinc(X) + noise * np.random.randn(1, N)\n",
    "    return X.reshape(-1, 1), Y.flatten()\n",
    "Xtr, Ytr = noisysincfunction(100, 0.1)\n",
    "Xte = np.arange( -np.pi, np.pi, 0.01 ).reshape(-1, 1)\n",
    "pl.plot(Xtr,Ytr, 'o')"
   ]
  },
  {
   "cell_type": "code",
   "execution_count": 3,
   "metadata": {},
   "outputs": [],
   "source": [
    "def zero_one_loss(y_true, y_pred):\n",
    "    ''' your header here!\n",
    "    '''\n",
    "    "
   ]
  },
  {
   "cell_type": "code",
   "execution_count": 4,
   "metadata": {},
   "outputs": [],
   "source": [
    "def mean_absolute_error(y_true, y_pred):\n",
    "    ''' \n",
    "    your code here \n",
    "    '''\n",
    "    loss = np.mean(abs(y_pred-y_true))\n",
    "    #loss = np.sum(np.sum((y_pred-y_true)**2)**0.5, axis = 1) / len(y_pred)\n",
    "    return loss"
   ]
  },
  {
   "cell_type": "code",
   "execution_count": 5,
   "metadata": {},
   "outputs": [],
   "source": [
    "def cv(X, y, method, params, loss_function=mean_absolute_error, nfolds=10, nrepetitions=5):\n",
    "    ''' \n",
    "    your header here!\n",
    "    '''\n",
    "    # TODO progress bar, run time estimation\n",
    "    length, width = np.shape(X)\n",
    "    # model = method\n",
    "    method.cvloss = 1000000\n",
    "    params_combinations = list(it.product(params['kernel'], params['kernelparameter'], params['regularization']))\n",
    "    for parameter in tqdm(params_combinations):\n",
    "        #print(parameter[1])\n",
    "        model = method(parameter[0], parameter[1], parameter[2])\n",
    "        e = 0\n",
    "        for i in range(nrepetitions):\n",
    "            # Random Partitioning\n",
    "            X_pos = np.linspace(0,length-1, length)\n",
    "            random.shuffle(X_pos)\n",
    "            part = np.array_split(X_pos, nfolds)\n",
    "            for j in range(nfolds):\n",
    "                # Assign every part not j as training set\n",
    "                # Xtr indices\n",
    "                train = np.concatenate(np.array(part)[tuple([np.array(range(nfolds)) != j])].astype('int')) \n",
    "                X_j = X[train]\n",
    "                y_j = y[train]\n",
    "                model.fit(X_j, y_j)\n",
    "                y_pred = model.predict(X[part[j].astype('int')])\n",
    "                e = e + loss_function(y[part[j].astype('int')], y_pred)\n",
    "        e = e / (nfolds * nrepetitions)\n",
    "        #print('Loss:' + str(model.cvloss))\n",
    "        if e < method.cvloss:\n",
    "            #print(e)\n",
    "            method.cvloss = e\n",
    "            #print('Loss in if:' + str(model.cvloss))\n",
    "            method.__params = parameter\n",
    "    #print(method.params)\n",
    "    method = model.fit(X,y,method.__params[0],method.__params[1],method.__params[2])\n",
    "    return method"
   ]
  },
  {
   "cell_type": "code",
   "execution_count": 12,
   "metadata": {},
   "outputs": [],
   "source": [
    "class krr():\n",
    "    ''' your header here!\n",
    "    '''\n",
    "    def __init__(self, kernel='linear', kernelparameter=1, regularization=0):\n",
    "        self.kernel = kernel\n",
    "        self.kernelparameter = kernelparameter\n",
    "        self.regularization = regularization\n",
    "\n",
    "    def fit(self, X, y, kernel=False, kernelparameter=False, regularization=False):\n",
    "        ''' your header here!\n",
    "        '''\n",
    "        self.__Xtrain = X\n",
    "        self.__ytrain = y\n",
    "        self.ydim = y.reshape(len(y),-1).shape[1]\n",
    "        \n",
    "        if kernel is not False:\n",
    "            self.kernel = kernel\n",
    "        if kernelparameter is not False:\n",
    "            self.kernelparameter = kernelparameter\n",
    "        if regularization is not False:\n",
    "            self.regularization = regularization\n",
    "        # calculate kernelmatrix\n",
    "        if self.kernel == 'linear':\n",
    "            self.__linearKernel(X)\n",
    "        elif self.kernel == 'polynomial':\n",
    "            self.__polynomialKernel(X)\n",
    "        elif self.kernel == 'gaussian':\n",
    "            self.__gaussianKernel(X)\n",
    "        else:\n",
    "            print(\"\"\"The following kernel {} is not known. Please use either 'linear' , 'polynomial' or 'gaussian'.\"\"\".format(kernel))\n",
    "        if self.regularization == 0:\n",
    "            self.__LOOCV()\n",
    "        \n",
    "        # calculate optimized alpha\n",
    "        I_length = len(self.kernelmatrix)\n",
    "        self.alpha = np.linalg.solve(self.kernelmatrix+self.regularization*np.identity(I_length), self.__ytrain).reshape(-1,len(self.__ytrain))\n",
    "        \n",
    "        return self\n",
    "\n",
    "    def predict(self, X):\n",
    "        ''' your header here!\n",
    "        '''\n",
    "        # calculate kernelmatrix\n",
    "        if self.kernel == 'linear':\n",
    "            self.__linearKernel(X)\n",
    "        elif self.kernel == 'polynomial':\n",
    "            self.__polynomialKernel(X)\n",
    "        elif self.kernel == 'gaussian':\n",
    "            self.__gaussianKernel(X)\n",
    "        # calculate prediction\n",
    "        y_pred = self.alpha.dot(self.kernelmatrix) # <alpha,kernelmatrix>\n",
    "        return y_pred.reshape(len(X),self.ydim) #len(self.alpha)\n",
    "    \n",
    "    def __linearKernel(self,Y):\n",
    "        self.kernelmatrix = self.__Xtrain.dot(Y.T)\n",
    "        \n",
    "    def __polynomialKernel(self,Y):\n",
    "        self.kernelmatrix = (self.__Xtrain.dot(Y.T)+1)**self.kernelparameter\n",
    "        \n",
    "    def __gaussianKernel(self,Y):\n",
    "        X_len, X_width = self.__Xtrain.shape\n",
    "        self.kernelmatrix = np.exp(-(np.diagonal(self.__Xtrain.dot(self.__Xtrain.T)).reshape(X_len, 1)-2*self.__Xtrain.dot(Y.T)+np.diagonal(Y.dot(Y.T)))/(2*(self.kernelparameter**2)))\n",
    "        \n",
    "    def __LOOCV(self):\n",
    "        # Leave-One-Out-Cross-Validation\n",
    "        # starting squared error\n",
    "        #min_squared_loss = 1000\n",
    "        # Eigenvalue decomposition\n",
    "        squared_loss = []\n",
    "        L, U = np.linalg.eigh(self.kernelmatrix) # L = Eigenvalue, U = Eigenvector\n",
    "        mean_L = np.mean(L)\n",
    "        I = np.identity(len(L))\n",
    "        # for faster computation precalculate U.T.y\n",
    "        UTy = U.T.dot(self.__ytrain)\n",
    "        # logarithmic distribution with mu = mean_L and sigma = 1\n",
    "        # create 50 values of C\n",
    "        # identify C around Kernel eigenvalue means with logarithmic distribution \n",
    "        Cs = np.logspace(-10, 10, 50)*mean_L\n",
    "        for C in Cs: #np.random.lognormal(mean_L,sigma = 1, size = 30):\n",
    "            ULCI = U.dot(L*I).dot((1/(L + C))*I) # (1/(L + C))*I: inverse of diagonal matrix\n",
    "            squared_loss.append(np.sum(((self.__ytrain - ULCI.dot(UTy)) / (1-np.diagonal(ULCI.dot(U.T))))**2) / len(self.__ytrain))\n",
    "        self.regularization = Cs[np.argmin(squared_loss)]\n",
    "                \n",
    "        # Eigenvalue decomposition\n",
    "        #L, U = np.linalg.eigh(self.kernelmatrix) # L = Eigenvalue, U = Eigenvector\n",
    "        #mean_L = np.mean(L)        \n",
    "                \n",
    "        # create candidates\n",
    "        #C = np.logspace(-10, 10, 50)*mean_L\n",
    "        \n",
    "        #UTy = U.T.dot(self.__ytrain)\n",
    "        # \n",
    "        #UL = U.dot(np.diag(L))[None,:,:]\n",
    "        #LC = np.diag(L)[None,:,:]+C[:,None,None]*I[None,:,:]\n",
    "        #ULCI = np.linalg.solve(LC,UL)\n",
    "        \n",
    "        #calculate all quadratic losses for c candidates\n",
    "        #c   =    0xnx1-cxnx1 / (1-cxn)\n",
    "        #epsilon = (np.sum(((Ytr - ULCI.dot(UTy)) / (1-np.diagonal(ULCI.dot(U.T))).reshape(len(C),len(Ytr)))**2, axis = 1) /len(Ytr))\n",
    "    \n",
    "        #best_epsilon = epsilon[np.argmin(epsilon)]\n",
    "    \n",
    "        #self.regularization = C[np.argmin(epsilon)]        \n",
    "        \n",
    "        return self"
   ]
  },
  {
   "cell_type": "code",
   "execution_count": 29,
   "metadata": {},
   "outputs": [],
   "source": [
    "\"\"\" ps3_implementation.py\n",
    "\n",
    "PUT YOUR NAME HERE:\n",
    "<FIRST_NAME><LAST_NAME>\n",
    "\n",
    "\n",
    "Write the functions\n",
    "- cv\n",
    "- zero_one_loss\n",
    "- krr\n",
    "Write your implementations in the given functions stubs!\n",
    "\n",
    "\n",
    "(c) Daniel Bartz, TU Berlin, 2013\n",
    "\"\"\"\n",
    "import numpy as np\n",
    "import scipy.linalg as la\n",
    "import itertools as it\n",
    "import time\n",
    "import pylab as pl\n",
    "import random\n",
    "from mpl_toolkits.mplot3d import Axes3D\n",
    "import matplotlib.pyplot as plt\n",
    "from scipy.stats import lognorm\n",
    "from tqdm import tqdm\n",
    "\n",
    "\n",
    "def zero_one_loss(y_true, y_pred):\n",
    "    '''\n",
    "    Applies a the zero one loss function to predictions.\n",
    "\n",
    "    Input:\n",
    "    y_true = the true data labels (nx1)\n",
    "    y_pred = the predicted data labels (nx1)\n",
    "\n",
    "    Output:\n",
    "    loss = the zero one loss\n",
    "    '''\n",
    "    loss = np.count_nonzero(y_true != np.sign(y_pred))\n",
    "    return loss\n",
    "\n",
    "\n",
    "def mean_absolute_error(y_true, y_pred):\n",
    "    '''\n",
    "    your code here\n",
    "    '''\n",
    "    loss = np.mean(abs(y_pred-y_true))\n",
    "    return loss\n",
    "\n",
    "\n",
    "def cv(X, y, method, params, loss_function=mean_absolute_error, nfolds=10, nrepetitions=5):\n",
    "    '''\n",
    "    This function applies a cross validation procedure with a specified loss function and model parameters.\n",
    "\n",
    "    Inputs:\n",
    "    X = X training data (nxd)\n",
    "    y = y training data (nxe)\n",
    "    method = model\n",
    "    params = the model parameters: the 'kernel', the 'kernelparameter' and 'regularisation' term.\n",
    "    loss_function = the loss function to be used to calculate error.\n",
    "    nfolds = number of equal sized folds\n",
    "    nrepetitions = number of repetitions\n",
    "\n",
    "    Outputs:\n",
    "    method = the model object with the best parameters and cvloss.\n",
    "    '''\n",
    "    length, width = np.shape(X)\n",
    "    # model = method\n",
    "    method.cvloss = 1000000\n",
    "    params_combinations = list(it.product(params['kernel'], params['kernelparameter'], params['regularization']))\n",
    "    for parameter in tqdm(params_combinations):\n",
    "        #print(parameter[1])\n",
    "        model = method(parameter[0], parameter[1], parameter[2])\n",
    "        e = 0\n",
    "        for i in range(nrepetitions):\n",
    "            # Random Partitioning\n",
    "            X_pos = np.linspace(0,length-1, length)\n",
    "            random.shuffle(X_pos)\n",
    "            part = np.array_split(X_pos, nfolds)\n",
    "            for j in range(nfolds):\n",
    "                # Assign every part not j as training set\n",
    "                # Xtr indices\n",
    "                train = np.concatenate(np.array(part)[tuple([np.array(range(nfolds)) != j])].astype('int'))\n",
    "                X_j = X[train]\n",
    "                y_j = y[train]\n",
    "                model.fit(X_j, y_j)\n",
    "                y_pred = model.predict(X[part[j].astype('int')])\n",
    "                e = e + loss_function(y[part[j].astype('int')], y_pred)\n",
    "        e = e / (nfolds * nrepetitions)\n",
    "        #print('Loss:' + str(model.cvloss))\n",
    "        if e < method.cvloss:\n",
    "            #print(e)\n",
    "            method.cvloss = e\n",
    "            #print('Loss in if:' + str(model.cvloss))\n",
    "            method.__params = parameter\n",
    "    #print(method.params)\n",
    "    method = model.fit(X,y,method.__params[0],method.__params[1],method.__params[2])\n",
    "    return method\n",
    "\n",
    "\n",
    "class krr():\n",
    "    '''\n",
    "    This class is used for kernel ridge regression.\n",
    "\n",
    "    Attributes:\n",
    "        self.kernel = kernel to be used. Can be linear, gaussian, polynomial.\n",
    "        self.kernelparameter = the value of the kernelparameter, if relevant.\n",
    "        self.regularisation = the regularisation constant. If 0, efficient LOOCV is used.\n",
    "\n",
    "    Methods:\n",
    "        fit = fits given data to krr model with given parameters.\n",
    "        pred = uses fitted model to predict new unseen test data.\n",
    "        __linearKernel = implements a linear kernel\n",
    "        __polynomialKernel = implements a polynomial kernel with kernelparameter\n",
    "        __gaussianKernel = implements a gaussian kernel with kernelparameter.\n",
    "        LOOCV = implements efficient leave one out cross validation to find a regularisation constant for the model.\n",
    "\n",
    "    Outputs:\n",
    "    the krr object\n",
    "    '''\n",
    "\n",
    "    def __init__(self, kernel='linear', kernelparameter=1, regularization=0):\n",
    "        self.kernel = kernel\n",
    "        self.kernelparameter = kernelparameter\n",
    "        self.regularization = regularization\n",
    "\n",
    "    def fit(self, X, y, kernel=False, kernelparameter=False, regularization=False):\n",
    "        '''\n",
    "        Fits training data to the specified model parameters by calculating alpha. Uses LOOCV is regularization =0.\n",
    "\n",
    "        Inputs:\n",
    "        X = training data X\n",
    "        y = training data y\n",
    "        kernel = kernel (see krr attributes)\n",
    "        kernelparameter = kernelparameter\n",
    "        regularisation = regularisation term\n",
    "\n",
    "        Outputs:\n",
    "        fitted model with optimised alpha.\n",
    "\n",
    "        '''\n",
    "        self.__Xtrain = X\n",
    "        self.__ytrain = y\n",
    "        self.__ydim = y.shape[1]\n",
    "\n",
    "        if kernel is not False:\n",
    "            self.kernel = kernel\n",
    "        if kernelparameter is not False:\n",
    "            self.kernelparameter = kernelparameter\n",
    "        if regularization is not False:\n",
    "            self.regularization = regularization\n",
    "        # calculate kernelmatrix\n",
    "        if self.kernel == 'linear':\n",
    "            self.__linearKernel(X)\n",
    "        elif self.kernel == 'polynomial':\n",
    "            self.__polynomialKernel(X)\n",
    "        elif self.kernel == 'gaussian':\n",
    "            self.__gaussianKernel(X)\n",
    "        else:\n",
    "            print(\n",
    "                \"\"\"The following kernel {} is not known. Please use either 'linear' , 'polynomial' or 'gaussian'.\"\"\".format(\n",
    "                    kernel))\n",
    "        if self.regularization == 0:\n",
    "            self.__LOOCV()\n",
    "\n",
    "        # calculate optimized alpha\n",
    "        I_length = len(self.kernelmatrix)\n",
    "        self.alpha = np.linalg.solve(self.kernelmatrix + self.regularization * np.identity(I_length),self.__ytrain).reshape(-1, len(self.__ytrain))\n",
    "\n",
    "        return self\n",
    "\n",
    "    def predict(self, X):\n",
    "        '''\n",
    "        Makes y-predictions based on x testing data.\n",
    "\n",
    "        Input:\n",
    "        X = xtesting data\n",
    "\n",
    "        Output\n",
    "        y_pred = y predictions\n",
    "\n",
    "        '''\n",
    "        # calculate kernelmatrix\n",
    "        if self.kernel == 'linear':\n",
    "            self.__linearKernel(X)\n",
    "        elif self.kernel == 'polynomial':\n",
    "            self.__polynomialKernel(X)\n",
    "        elif self.kernel == 'gaussian':\n",
    "            self.__gaussianKernel(X)\n",
    "        # calculate prediction\n",
    "        y_pred = self.alpha.dot(self.kernelmatrix)  # <alpha,kernelmatrix>\n",
    "        return y_pred.reshape(len(X), self.__ydim)  # len(self.alpha)\n",
    "\n",
    "    def __linearKernel(self, Y):\n",
    "        self.kernelmatrix = self.__Xtrain.dot(Y.T)\n",
    "\n",
    "    def __polynomialKernel(self, Y):\n",
    "        self.kernelmatrix = (self.__Xtrain.dot(Y.T) + 1) ** self.kernelparameter\n",
    "\n",
    "    def __gaussianKernel(self, Y):\n",
    "        X_len, X_width = self.__Xtrain.shape\n",
    "        self.kernelmatrix = np.exp(-(\n",
    "                    np.diagonal(self.__Xtrain.dot(self.__Xtrain.T)).reshape(X_len, 1) - 2 * self.__Xtrain.dot(\n",
    "                Y.T) + np.diagonal(Y.dot(Y.T))) / (2 * (self.kernelparameter ** 2)))\n",
    "\n",
    "    def __LOOCV(self):\n",
    "        \"\"\"\n",
    "        Finds the regularisation constant according to efficient leave one out cross validation as in guide.pdf\n",
    "        \"\"\"\n",
    "        # Leave-One-Out-Cross-Validation\n",
    "        # Eigenvalue decomposition\n",
    "        squared_loss = []\n",
    "        L, U = np.linalg.eigh(self.kernelmatrix)  # L = Eigenvalue, U = Eigenvector\n",
    "        mean_L = np.mean(L)\n",
    "        I = np.identity(len(L))\n",
    "        # for faster computation precalculate U.T.y\n",
    "        UTy = U.T.dot(self.__ytrain)\n",
    "        # logarithmic distribution with mu = mean_L and sigma = 1\n",
    "        # create 50 values of C\n",
    "        # identify C around Kernel eigenvalue means with logarithmic distribution\n",
    "        Cs = np.logspace(-10, 10, 50) * mean_L\n",
    "        for C in Cs:\n",
    "            ULCI = U.dot(L * I).dot((1 / (L + C)) * I)  # (1/(L + C))*I: inverse of diagonal matrix\n",
    "            squared_loss.append(\n",
    "                np.sum(((self.__ytrain - ULCI.dot(UTy)) / (1 - np.diagonal(ULCI.dot(U.T)))) ** 2) / len(self.__ytrain))\n",
    "        self.regularization = Cs[np.argmin(squared_loss)]\n",
    "\n",
    "        return self\n",
    "\n",
    "\n",
    "def roc_fun(y_true, y_pred, biases=100, threshold=0):\n",
    "    \"\"\"\n",
    "    ROC function used to plot average ROC curve for assignment 4c.\n",
    "\n",
    "    It creates a set of predictions for each bias and then average over biases to get an average TPR and FPR.\n",
    "\n",
    "    This is then used a loss function in CV.\n",
    "    \"\"\"\n",
    "    y_pred = y_pred[:, np.newaxis]\n",
    "\n",
    "    b = np.linspace(-1, 1, biases)\n",
    "    prediction = (y_pred - b) > threshold\n",
    "\n",
    "    neg = np.sum(np.array(y_true.flatten() == -1))\n",
    "    pos = len(y_true) - neg\n",
    "\n",
    "    tpr = prediction[y_true.flatten() == 1, :].sum(axis=0) / pos\n",
    "    # print('tpr\\n',np.shape(tpr))\n",
    "    fpr = prediction[y_true.flatten() == -1, :].sum(axis=0) / neg\n",
    "    # print(fpr)\n",
    "    result = np.squeeze(np.array([fpr, tpr]))\n",
    "\n",
    "    return result\n",
    "\n",
    "\n",
    "\n",
    "\n",
    "\n"
   ]
  },
  {
   "cell_type": "code",
   "execution_count": 23,
   "metadata": {},
   "outputs": [
    {
     "data": {
      "image/png": "[encoded data removed]",
      "text/plain": [
       "<Figure size 432x288 with 6 Axes>"
      ]
     },
     "metadata": {
      "needs_background": "light"
     },
     "output_type": "display_data"
    }
   ],
   "source": [
    "Xtr, Ytr = noisysincfunction(100, 0.1)\n",
    "Xte = np.arange( -np.pi, np.pi, 0.01 ).reshape(-1, 1)\n",
    "\n",
    "pl.figure()\n",
    "kernels = ['gaussian','polynomial','linear']\n",
    "titles = ['gaussian','polynomial','linear']\n",
    "params = [0.5,6,0]\n",
    "regularizations = [ 0.01,0.01,0.01]\n",
    "for i in range(3):\n",
    "    for j in range(2):\n",
    "        pl.subplot(2,3,1+i+3*j)\n",
    "        if j==0:\n",
    "            model = krr(kernel=kernels[i],\n",
    "                kernelparameter=params[i],\n",
    "                regularization=regularizations[i])\n",
    "            model.fit(Xtr,Ytr)\n",
    "        if j==1:\n",
    "            model = krr(kernel=kernels[i],\n",
    "                kernelparameter=params[i],\n",
    "                regularization=0)\n",
    "            model.fit(Xtr,Ytr)\n",
    "        ypred = model.predict(Xte)\n",
    "        pl.plot(Xtr,Ytr)\n",
    "        pl.plot(Xte,ypred)\n",
    "        if j==0 and i == 0:\n",
    "            pl.ylabel('fixed regularization')\n",
    "        if j==1 and i == 0:\n",
    "            pl.ylabel('reg. by efficent cv')\n",
    "        pl.title( titles[i] )\n",
    "pl.show()\n"
   ]
  },
  {
   "cell_type": "code",
   "execution_count": 32,
   "metadata": {},
   "outputs": [
    {
     "data": {
      "text/plain": [
       "(100,)"
      ]
     },
     "execution_count": 32,
     "metadata": {},
     "output_type": "execute_result"
    }
   ],
   "source": [
    "np.asarray(Ytr).shape"
   ]
  },
  {
   "cell_type": "code",
   "execution_count": 29,
   "metadata": {},
   "outputs": [
    {
     "data": {
      "text/plain": [
       "(100, 1)"
      ]
     },
     "execution_count": 29,
     "metadata": {},
     "output_type": "execute_result"
    }
   ],
   "source": [
    "as.aYtr.reshape(100,-1).shape"
   ]
  },
  {
   "cell_type": "markdown",
   "metadata": {},
   "source": [
    "Xtr, Ytr = noisysincfunction(100, 0.1)\n",
    "Xte = np.arange( -np.pi, np.pi, 0.01 ).reshape(-1, 1)\n",
    "\n",
    "pl.figure()\n",
    "kernels = ['gaussian','polynomial','linear']\n",
    "titles = ['gaussian','polynomial','linear']\n",
    "params = [0.5,6,0]\n",
    "regularizations = [ 0.01,0.01,0.01]"
   ]
  },
  {
   "cell_type": "markdown",
   "metadata": {},
   "source": [
    "model = krr(kernel=kernels[0],\n",
    "                kernelparameter=params[0],\n",
    "                regularization=regularizations[0])"
   ]
  },
  {
   "cell_type": "markdown",
   "metadata": {},
   "source": [
    "model.fit(Xtr,Ytr)"
   ]
  },
  {
   "cell_type": "markdown",
   "metadata": {},
   "source": [
    "model.kernelmatrix"
   ]
  },
  {
   "cell_type": "markdown",
   "metadata": {},
   "source": [
    "model.kernelmatrix"
   ]
  },
  {
   "cell_type": "markdown",
   "metadata": {},
   "source": [
    "model.alpha.dot(model.kernelmatrix.reshape(len(Xtr), len(Xtr)))"
   ]
  },
  {
   "cell_type": "markdown",
   "metadata": {},
   "source": [
    "Ytr"
   ]
  },
  {
   "cell_type": "markdown",
   "metadata": {},
   "source": [
    "model.predict(Xte)"
   ]
  },
  {
   "cell_type": "markdown",
   "metadata": {},
   "source": [
    "I_length = len(model.kernelmatrix)\n",
    "#self.alpha = np.linalg.solve(self.kernelmatrix+self.regularization*np.identity(I_length), self.__ytrain).reshape(-1,len(self.__ytrain))\n",
    "y_pred = (model.kernelmatrix+model.regularization*np.identity(I_length)).dot(model.alpha)"
   ]
  },
  {
   "cell_type": "markdown",
   "metadata": {},
   "source": [
    "y_pred"
   ]
  },
  {
   "cell_type": "markdown",
   "metadata": {},
   "source": [
    "float(y_pred[0])"
   ]
  },
  {
   "cell_type": "markdown",
   "metadata": {},
   "source": [
    "float(Ytr[0])"
   ]
  },
  {
   "cell_type": "code",
   "execution_count": 36,
   "metadata": {},
   "outputs": [
    {
     "name": "stderr",
     "output_type": "stream",
     "text": [
      "100%|██████████| 200/200 [00:02<00:00, 82.61it/s]\n",
      " 20%|██        | 2/10 [00:00<00:00, 18.57it/s]"
     ]
    },
    {
     "name": "stdout",
     "output_type": "stream",
     "text": [
      "Regularization range: 10**-4 .. 10**4\n",
      "Gaussian kernel parameter:  0.615848211066026\n",
      "Regularization paramter:  0.21544346900318834\n"
     ]
    },
    {
     "name": "stderr",
     "output_type": "stream",
     "text": [
      "100%|██████████| 10/10 [00:00<00:00, 24.09it/s]\n"
     ]
    },
    {
     "name": "stdout",
     "output_type": "stream",
     "text": [
      "Regularization via efficient leave on out\n",
      "Kernel parameter:  1.6681005372000592\n",
      "Regularization paramter:  5.179474679231214e-05\n"
     ]
    },
    {
     "data": {
      "image/png": "[encoded data removed]",
      "text/plain": [
       "<Figure size 432x288 with 2 Axes>"
      ]
     },
     "metadata": {
      "needs_background": "light"
     },
     "output_type": "display_data"
    }
   ],
   "source": [
    "Xtr, Ytr = noisysincfunction(100, 0.1)\n",
    "Xte = np.arange( -np.pi, np.pi, 0.01 ).reshape(-1, 1)\n",
    "Ytr = Ytr.reshape(len(Ytr),-1)\n",
    "pl.figure()\n",
    "pl.subplot(1,2,1)\n",
    "params = { 'kernel': ['gaussian'], 'kernelparameter': np.logspace(-4,4,20), 'regularization': np.logspace(-2,2,10) }\n",
    "cvkrr = cv(Xtr, Ytr, krr, params, loss_function=mean_absolute_error, nrepetitions=2)\n",
    "ypred = cvkrr.predict(Xte)\n",
    "print('Regularization range: 10**-4 .. 10**4')\n",
    "print('Gaussian kernel parameter: ', cvkrr.kernelparameter)\n",
    "print('Regularization paramter: ', cvkrr.regularization)\n",
    "\n",
    "pl.plot(Xtr,Ytr)\n",
    "pl.plot(Xte,ypred)\n",
    "\n",
    "pl.subplot(1,2,2)\n",
    "params = { 'kernel': ['gaussian'], 'kernelparameter': np.logspace(-2,2,10), 'regularization': [0]}\n",
    "cvkrr = cv(Xtr, Ytr, krr, params, loss_function=mean_absolute_error, nrepetitions=2)\n",
    "ypred = cvkrr.predict(Xte)\n",
    "print('Regularization via efficient leave on out')\n",
    "print('Kernel parameter: ', cvkrr.kernelparameter)\n",
    "print('Regularization paramter: ', cvkrr.regularization)\n",
    "\n",
    "pl.plot(Xtr,Ytr)\n",
    "pl.plot(Xte,ypred)\n",
    "pl.show()"
   ]
  },
  {
   "cell_type": "code",
   "execution_count": 35,
   "metadata": {},
   "outputs": [
    {
     "data": {
      "text/plain": [
       "(100,)"
      ]
     },
     "execution_count": 35,
     "metadata": {},
     "output_type": "execute_result"
    }
   ],
   "source": [
    "Ytr.shape"
   ]
  },
  {
   "cell_type": "code",
   "execution_count": 30,
   "metadata": {},
   "outputs": [],
   "source": [
    "class assignment3():\n",
    "    \"\"\"\n",
    "    the object contains the tasks for assignment 3 of the ML Learning Course Excercise 3 \n",
    "    \"\"\"\n",
    "    def __init__(self):\n",
    "        \"\"\"\n",
    "        load data for assignment 3\n",
    "        CAVEAT path to data might be different \n",
    "        \"\"\"\n",
    "        # load data \n",
    "        cwd = os.getcwd()\n",
    "        file_name = 'qm7.mat'\n",
    "        path_to_data = os.path.dirname(cwd ) + '/data/'+file_name\n",
    "        assert os.path.exists(path_to_data), \"The path does not excist.\"\n",
    "        data = sio.loadmat(path_to_data)\n",
    "        data_X = data['X'] # of shape 7165x23x23 \n",
    "        self.y = data['T'].T\n",
    "        # transform each msteolecule into a vector xi of R23 by eigenvalues of the M of R 23x23\n",
    "        self.X, eigenvec = np.linalg.eigh(data_X)\n",
    "\n",
    "        # Visualize data\n",
    "        #plt.scatter(data['X'], data['R'])\n",
    "    def distance_plot(self):\n",
    "        \"\"\" \n",
    "        Excercise 3a\n",
    "        calculate pairwise distance of the dataset\n",
    "        \"\"\"\n",
    "        # calculate pairwise distance\n",
    "        D = np.linalg.norm(self.X[None,:]-self.X[:,None], axis = 2)\n",
    "        # calculate absolute energy difference\n",
    "        y_abs_diff = abs(self.y[None,:,:] - self.y[:,:,None])\n",
    "        # plot\n",
    "        plt.figure(figsize=(8, 8))\n",
    "        plt.plot(D,y_abs_diff.reshape(len(self.y),len(self.y)),'bo');\n",
    "        plt.xlabel(\"||$x_{i}$ - $x_{j}$||\")\n",
    "        plt.ylabel(\"|$y_{i}$ - $y_{j}$|\")\n",
    "        \n",
    "    def split_data(self):\n",
    "        \"\"\"\n",
    "        # Excercise 3b\n",
    "        Split data randomly into training set of 5000 and test of 2165 samples\n",
    "        seed = 2\n",
    "        \"\"\"\n",
    "        # split data\n",
    "        # Random Partitioning\n",
    "        X_pos = np.linspace(0,len(self.X)-1, len(self.X))\n",
    "        random.Random(2).shuffle(X_pos)\n",
    "        self.Xtr = self.X[X_pos[:5000].astype('int')]\n",
    "        self.Xte = self.X[X_pos[5000:].astype('int')]\n",
    "        self.Ytr = self.y[X_pos[:5000].astype('int')]\n",
    "        self.Yte = self.y[X_pos[5000:].astype('int')]\n",
    "\n",
    "    def fold_cross_validation(self):\n",
    "        \"\"\"\n",
    "        # Excercise 3c\n",
    "        Perform a cross validation on a training set of 2500\n",
    "        Perform split_data before\n",
    "        \"\"\"\n",
    "        # Fivefold Cross validation\n",
    "        train_samples = random.sample(range(0, 5000), 2500)\n",
    "        Xtr2500 = self.Xtr[train_samples]\n",
    "        Ytr2500 = self.Ytr[train_samples]\n",
    "        D2500= np.linalg.norm(Xtr2500[None,:]-Xtr2500[:,None], axis = 2)\n",
    "        quantiles = np.quantile(D2500,[0.5])\n",
    "        params = { 'kernel': ['gaussian'], 'kernelparameter': quantiles, 'regularization': np.logspace(-7,0, 2) }\n",
    "        self.cvkrr = cv(Xtr2500, Ytr2500, krr, params, loss_function=mean_absolute_error, nfolds=5)\n",
    "        y_pred2500 = self.cvkrr.predict(self.Xte)\n",
    "        MAE = mean_absolute_error(self.Yte, y_pred2500)\n",
    "        print(\"The mean absolute error is: {} \".format(round(MAE,2)))\n",
    "        print(\"The best regularzation parameter C is: {}\".format(self.cvkrr.regularization))\n",
    "        print(\"The best kernelparameter sigma is: {}\".format(self.cvkrr.kernelparameter))\n",
    "\n",
    "    def plot_MAE_for_different_nsamples(self):\n",
    "        \"\"\"\n",
    "        # Excercise 3d\n",
    "        Plot MAE for different nsamples\n",
    "        Perform fold_cross_validation before\n",
    "        \"\"\"\n",
    "        MAE = []\n",
    "        n_samples = [100,300,600,900,1200,1700,2000,2700,3000,3900,4200,4500,4700,4800,4900,4950,5000]\n",
    "        for i in tqdm(n_samples):\n",
    "            train_samples = random.sample(range(0, 5000), i)\n",
    "            Xtr_nsample = self.Xtr[train_samples]\n",
    "            Ytr_nsample = self.Ytr[train_samples]\n",
    "            model = krr([self.cvkrr.kernel][0], [self.cvkrr.kernelparameter][0], [self.cvkrr.regularization])\n",
    "            model.fit(Xtr_nsample, Ytr_nsample)\n",
    "            y_pred = model.predict(self.Xte)\n",
    "            MAE.append(mean_absolute_error(self.Yte,y_pred))\n",
    "        plt.figure(figsize =(8,6))\n",
    "        plt.plot(n_samples, MAE, 'bo')\n",
    "        plt.xlabel(\"n training samples\")\n",
    "        plt.ylabel(\"Mean Absolute Error [kcal/mol]\")\n",
    "        \n",
    "    def plot_energies_for_1000(self):\n",
    "        \"\"\" \n",
    "        Excercise 3e, perform under-, well- and overfit for 1000 training samples\n",
    "        \"\"\"\n",
    "        # split data\n",
    "        # Random Partitioning\n",
    "        X_pos = np.linspace(0,len(self.X)-1, len(self.X))\n",
    "        random.Random(4).shuffle(X_pos)\n",
    "        Xtr1000 = self.X[X_pos[:1000].astype('int')]\n",
    "        Xte1000 = self.X[X_pos[1000:].astype('int')]\n",
    "        Ytr1000 = self.y[X_pos[:1000].astype('int')]\n",
    "        Yte1000 = self.y[X_pos[1000:].astype('int')]\n",
    "        \n",
    "        # get parameter for good fit\n",
    "        # Fivefold Cross validation\n",
    "\n",
    "        D1000= np.linalg.norm(Xtr1000[None,:]-Xtr1000[:,None], axis = 2)\n",
    "        quantiles = np.quantile(D1000,[0.1,0.5, 0.9])\n",
    "        params = { 'kernel': ['gaussian'], 'kernelparameter': quantiles, 'regularization': np.logspace(-7,0, 10) }\n",
    "        cvkrr = cv(Xtr1000, Ytr1000, krr, params, loss_function=mean_absolute_error, nfolds=5)\n",
    "        y_pred1000 = cvkrr.predict(Xte1000)\n",
    "        MAE = mean_absolute_error(Yte1000, y_pred1000)\n",
    "        \n",
    "        # result of CV\n",
    "        print(\"The mean absolute error is: {} \".format(round(MAE,2)))\n",
    "        print(\"The best regularzation parameter C is: {}\".format(cvkrr.regularization))\n",
    "        print(\"The best kernelparameter sigma is: {}\".format(cvkrr.kernelparameter))\n",
    "        print(\"The cvloss: {}\".format(cvkrr.cvloss))\n",
    "        \n",
    "        # define parameters for training\n",
    "        params = { 'kernel': ['linear','gaussian', 'gaussian'], 'kernelparameter': [False, cvkrr.kernelparameter, 1], 'regularization': [cvkrr.regularization, cvkrr.regularization, 0] }\n",
    "        \n",
    "        # plot\n",
    "        plt.figure(figsize =(10,6))\n",
    "        for i in [0,1,2]:\n",
    "            model = krr(params['kernel'][i], params['kernelparameter'][i], params['regularization'][i])\n",
    "            model.fit(Xtr1000,Ytr1000)\n",
    "            y_pred_train = model.predict(Xtr1000)\n",
    "            y_pred = model.predict(self.Xte)\n",
    "            plt.subplot(1,3,i+1)\n",
    "            plt.plot(self.Yte,y_pred,'bo')\n",
    "            plt.plot(Ytr1000,y_pred_train,'ro')\n",
    "            plt.xlabel(\"y_true\")\n",
    "            plt.ylabel(\"y_pred\")\n",
    "            plt.legend(labels = ['test', 'train'])\n",
    "        plt.tight_layout(pad=3.0)\n",
    "\n",
    "\n"
   ]
  },
  {
   "cell_type": "code",
   "execution_count": 31,
   "metadata": {},
   "outputs": [
    {
     "name": "stderr",
     "output_type": "stream",
     "text": [
      "100%|██████████| 2/2 [00:16<00:00,  8.10s/it]\n",
      " 12%|█▏        | 2/17 [00:00<00:00, 18.16it/s]"
     ]
    },
    {
     "name": "stdout",
     "output_type": "stream",
     "text": [
      "The mean absolute error is: 90.77 \n",
      "The best regularzation parameter C is: 1.0\n",
      "The best kernelparameter sigma is: 22.0502872467041\n"
     ]
    },
    {
     "name": "stderr",
     "output_type": "stream",
     "text": [
      "100%|██████████| 17/17 [00:25<00:00,  1.48s/it]\n",
      "100%|██████████| 30/30 [00:24<00:00,  1.23it/s]\n"
     ]
    },
    {
     "name": "stdout",
     "output_type": "stream",
     "text": [
      "The mean absolute error is: 16.19 \n",
      "The best regularzation parameter C is: 2.1544346900318867e-05\n",
      "The best kernelparameter sigma is: 50.44218254089354\n",
      "The cvloss: 19.663841365319016\n"
     ]
    },
    {
     "data": {
      "image/png": "[encoded data removed]",
      "text/plain": [
       "<Figure size 576x432 with 1 Axes>"
      ]
     },
     "metadata": {
      "needs_background": "light"
     },
     "output_type": "display_data"
    },
    {
     "data": {
      "image/png": "[encoded data removed]",
      "text/plain": [
       "<Figure size 720x432 with 3 Axes>"
      ]
     },
     "metadata": {
      "needs_background": "light"
     },
     "output_type": "display_data"
    }
   ],
   "source": [
    "\n",
    "assign = assignment3()\n",
    "# Excecise 3a - takes long\n",
    "#assign.distance_plot()\n",
    "# Excecise 3b\n",
    "assign.split_data()\n",
    "# Excecise 3c\n",
    "assign.fold_cross_validation()\n",
    "# Excecise 3d\n",
    "assign.plot_MAE_for_different_nsamples()\n",
    "# Excecise 3e\n",
    "assign.plot_energies_for_1000()"
   ]
  },
  {
   "cell_type": "code",
   "execution_count": null,
   "metadata": {},
   "outputs": [],
   "source": []
  }
 ],
 "metadata": {
  "kernelspec": {
   "display_name": "Python 3",
   "language": "python",
   "name": "python3"
  },
  "language_info": {
   "codemirror_mode": {
    "name": "ipython",
    "version": 3
   },
   "file_extension": ".py",
   "mimetype": "text/x-python",
   "name": "python",
   "nbconvert_exporter": "python",
   "pygments_lexer": "ipython3",
   "version": "3.7.7"
  }
 },
 "nbformat": 4,
 "nbformat_minor": 4
}
