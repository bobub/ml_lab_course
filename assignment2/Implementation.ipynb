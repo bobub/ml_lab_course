{
 "cells": [
  {
   "cell_type": "code",
   "execution_count": 370,
   "metadata": {},
   "outputs": [],
   "source": [
    "import numpy as np\n",
    "import math\n",
    "import matplotlib.pyplot as plt\n",
    "import random as random\n",
    "from copy import deepcopy"
   ]
  },
  {
   "cell_type": "code",
   "execution_count": 1,
   "metadata": {},
   "outputs": [],
   "source": [
    "# 1 Assignment - kmeans algorithm"
   ]
  },
  {
   "cell_type": "code",
   "execution_count": 485,
   "metadata": {},
   "outputs": [],
   "source": [
    "def kmeans(X, k, max_iter=100):\n",
    "    \"\"\" Performs k-means clustering\n",
    "\n",
    "    Input:\n",
    "    X: (d x n) data matrix with each datapoint in one column\n",
    "    k: number of clusters\n",
    "    max_iter: maximum number of iterations\n",
    "\n",
    "    Output:\n",
    "    mu: (d x k) matrix with each cluster center in one column\n",
    "    r: assignment vector\n",
    "    \"\"\"\n",
    "    # initailize k random centroids at data mean\n",
    "    X_mean = np.mean(X, axis = 0)\n",
    "    w_init = np.array([np.random.normal(X_mean[i],1,k) for i in range(len(X_mean))])\n",
    "    w_q = w_init\n",
    "    converged = False\n",
    "    iteration = 1\n",
    "    m_q = np.zeros(len(X))\n",
    "    m_q_old = deepcopy(m_q)\n",
    "    while (not converged) & (iteration <= max_iter):\n",
    "        # calculate distance to centroids\n",
    "        D = np.linalg.norm(X[None, :] - w_q.T[:,None], axis = 2)\n",
    "        # assign every data point to its nearest centroids\n",
    "        m_q = np.argmin(D, axis=0)\n",
    "        # assign random data point to not empty centroids\n",
    "        m_empty = [x for x in range(k) if x not in np.unique(m_q)]\n",
    "        for m in m_empty:\n",
    "            m_q[random.randint(0,len(X)-1)] = m\n",
    "        # calculate position of centroids as mean of assigned data\n",
    "        w_q.T[np.unique(m_q)] = [np.sum(X[m_q == j], axis = 0) / (np.sum(m_q == j)) for j in np.unique(m_q)]\n",
    "        \n",
    "        # calculate objective\n",
    "        loss = np.sum([np.sum((X[m_q == j, :] - w_q[:,j])**2) for j in np.unique(m_q)])\n",
    "        print('iteration-step: ' + str(iteration))\n",
    "        print('number of changes in assignment: ' + str(list(m_q == m_q_old).count(False)))\n",
    "        print('loss function value: ' + str(loss))\n",
    "        if (m_q == m_q_old).all():\n",
    "            converged = True\n",
    "            break\n",
    "        \n",
    "        m_q_old = deepcopy(m_q)\n",
    "        iteration+=1\n",
    "    return w_q.T, m_q, loss"
   ]
  },
  {
   "cell_type": "code",
   "execution_count": 486,
   "metadata": {},
   "outputs": [],
   "source": [
    "# Test set\n",
    "k=3\n",
    "X = np.array([[0., 1., 1., 10., 10.25, 11., 10., 10.25, 11.],\n",
    "                  [0., 0., 1.,  0.,   0.5,  0.,  5.,   5.5,  5.]]).T\n",
    "perfect_r = [1,0,1,2,2,1,2,2,2]"
   ]
  },
  {
   "cell_type": "code",
   "execution_count": 487,
   "metadata": {},
   "outputs": [
    {
     "name": "stdout",
     "output_type": "stream",
     "text": [
      "iteration-step: 1\n",
      "number of changes in assignment: 4\n",
      "loss function value: 118.70833333333333\n",
      "iteration-step: 2\n",
      "number of changes in assignment: 2\n",
      "loss function value: 2.7500000000000004\n",
      "iteration-step: 3\n",
      "number of changes in assignment: 0\n",
      "loss function value: 2.7500000000000004\n"
     ]
    }
   ],
   "source": [
    "mu, r, loss =  kmeans(X,3)"
   ]
  },
  {
   "cell_type": "code",
   "execution_count": 489,
   "metadata": {},
   "outputs": [
    {
     "data": {
      "text/plain": [
       "[<matplotlib.lines.Line2D at 0x121979c50>]"
      ]
     },
     "execution_count": 489,
     "metadata": {},
     "output_type": "execute_result"
    },
    {
     "data": {
      "image/png": "[encoded data removed]",
      "text/plain": [
       "<Figure size 432x288 with 1 Axes>"
      ]
     },
     "metadata": {
      "needs_background": "light"
     },
     "output_type": "display_data"
    }
   ],
   "source": [
    "plt.plot(X[:,0], X[:,1], 'o')\n",
    "plt.plot (mu.T[0], mu.T[1], 'o')"
   ]
  },
  {
   "cell_type": "code",
   "execution_count": null,
   "metadata": {},
   "outputs": [],
   "source": []
  }
 ],
 "metadata": {
  "kernelspec": {
   "display_name": "Python 3",
   "language": "python",
   "name": "python3"
  },
  "language_info": {
   "codemirror_mode": {
    "name": "ipython",
    "version": 3
   },
   "file_extension": ".py",
   "mimetype": "text/x-python",
   "name": "python",
   "nbconvert_exporter": "python",
   "pygments_lexer": "ipython3",
   "version": "3.7.7"
  }
 },
 "nbformat": 4,
 "nbformat_minor": 4
}
