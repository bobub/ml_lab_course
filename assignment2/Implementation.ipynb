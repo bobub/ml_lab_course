{
 "cells": [
  {
   "cell_type": "code",
   "execution_count": 1,
   "metadata": {},
   "outputs": [],
   "source": [
    "import numpy as np\n",
    "import math\n",
    "import matplotlib.pyplot as plt\n",
    "import random as random\n",
    "from copy import deepcopy\n",
    "from scipy.cluster.hierarchy import dendrogram, linkage"
   ]
  },
  {
   "cell_type": "code",
   "execution_count": 2,
   "metadata": {},
   "outputs": [],
   "source": [
    "# 1 Assignment - kmeans algorithm"
   ]
  },
  {
   "cell_type": "code",
   "execution_count": 3,
   "metadata": {},
   "outputs": [],
   "source": [
    "def kmeans(X, k, max_iter=100):\n",
    "    \"\"\" Performs k-means clustering\n",
    "\n",
    "    Input:\n",
    "    X: (d x n) data matrix with each datapoint in one column\n",
    "    k: number of clusters\n",
    "    max_iter: maximum number of iterations\n",
    "\n",
    "    Output:\n",
    "    mu: (d x k) matrix with each cluster center in one column\n",
    "    r: assignment vector\n",
    "    \"\"\"\n",
    "    # initailize k random centroids at data mean\n",
    "    X_mean = np.mean(X, axis = 0)\n",
    "    w_init = np.array([np.random.normal(X_mean[i],1,k) for i in range(len(X_mean))])\n",
    "    w_q = w_init\n",
    "    converged = False\n",
    "    iteration = 1\n",
    "    m_q = np.zeros(len(X))\n",
    "    m_q_old = deepcopy(m_q)\n",
    "    while (not converged) & (iteration <= max_iter):\n",
    "        # calculate distance to centroids\n",
    "        D = np.linalg.norm(X[None, :] - w_q.T[:,None], axis = 2)\n",
    "        # assign every data point to its nearest centroids\n",
    "        m_q = np.argmin(D, axis=0)\n",
    "        # assign random data point to not empty centroids\n",
    "        m_empty = [x for x in range(k) if x not in np.unique(m_q)]\n",
    "        for m in m_empty:\n",
    "            m_q[random.randint(0,len(X)-1)] = m\n",
    "        # calculate position of centroids as mean of assigned data\n",
    "        w_q.T[np.unique(m_q)] = [np.sum(X[m_q == j], axis = 0) / (np.sum(m_q == j)) for j in np.unique(m_q)]\n",
    "        \n",
    "        # calculate objective\n",
    "        loss = np.sum([np.sum((X[m_q == j, :] - w_q[:,j])**2) for j in np.unique(m_q)])\n",
    "        print('iteration-step: ' + str(iteration))\n",
    "        print('number of changes in assignment: ' + str(list(m_q == m_q_old).count(False)))\n",
    "        print('loss function value: ' + str(loss))\n",
    "        if (m_q == m_q_old).all():\n",
    "            converged = True\n",
    "            break\n",
    "        \n",
    "        m_q_old = deepcopy(m_q)\n",
    "        iteration+=1\n",
    "    return w_q.T, m_q, loss"
   ]
  },
  {
   "cell_type": "code",
   "execution_count": 4,
   "metadata": {},
   "outputs": [],
   "source": [
    "# Test set\n",
    "k=3\n",
    "X = np.array([[0., 1., 1., 10., 10.25, 11., 10., 10.25, 11.],\n",
    "                  [0., 0., 1.,  0.,   0.5,  0.,  5.,   5.5,  5.]]).T\n",
    "perfect_r = [1,0,1,2,2,1,2,2,2]"
   ]
  },
  {
   "cell_type": "code",
   "execution_count": 5,
   "metadata": {},
   "outputs": [
    {
     "name": "stdout",
     "output_type": "stream",
     "text": [
      "iteration-step: 1\n",
      "number of changes in assignment: 6\n",
      "loss function value: 2.7500000000000004\n",
      "iteration-step: 2\n",
      "number of changes in assignment: 0\n",
      "loss function value: 2.7500000000000004\n"
     ]
    }
   ],
   "source": [
    "mu, r, loss =  kmeans(X,3)"
   ]
  },
  {
   "cell_type": "code",
   "execution_count": 6,
   "metadata": {},
   "outputs": [
    {
     "data": {
      "text/plain": [
       "[<matplotlib.lines.Line2D at 0x8173342d0>]"
      ]
     },
     "execution_count": 6,
     "metadata": {},
     "output_type": "execute_result"
    },
    {
     "data": {
      "image/png": "[encoded data removed]",
      "text/plain": [
       "<Figure size 432x288 with 1 Axes>"
      ]
     },
     "metadata": {
      "needs_background": "light"
     },
     "output_type": "display_data"
    }
   ],
   "source": [
    "plt.plot(X[:,0], X[:,1], 'o')\n",
    "plt.plot (mu.T[0], mu.T[1], 'o')"
   ]
  },
  {
   "cell_type": "code",
   "execution_count": 7,
   "metadata": {},
   "outputs": [
    {
     "data": {
      "text/plain": [
       "array([0, 0, 0, 1, 1, 1, 2, 2, 2])"
      ]
     },
     "execution_count": 7,
     "metadata": {},
     "output_type": "execute_result"
    }
   ],
   "source": [
    "r"
   ]
  },
  {
   "cell_type": "code",
   "execution_count": 8,
   "metadata": {},
   "outputs": [],
   "source": [
    "def kmeans_agglo(X, r):\n",
    "    \"\"\" Performs agglomerative clustering with k-means criterion\n",
    "\n",
    "    Input:\n",
    "    X: (d x n) data matrix with each datapoint in one column\n",
    "    r: assignment vector\n",
    "\n",
    "    Output:\n",
    "    R: (k-1) x n matrix that contains cluster memberships before each step\n",
    "    kmloss: vector with loss after each step\n",
    "    mergeidx: (k-1) x 2 matrix that contains merge idx for each step\n",
    "    \"\"\"\n",
    "   \n",
    "    def kmeans_crit(X, r):\n",
    "        \"\"\" Computes k-means criterion\n",
    "\n",
    "        Input: \n",
    "        X: (d x n) data matrix with each datapoint in one column\n",
    "        r: assignment vector\n",
    "\n",
    "        Output:\n",
    "        value: scalar for sum of euclidean distances to cluster centers\n",
    "        \"\"\"\n",
    "        # calculate init centroids\n",
    "        w_q = np.array([np.sum(X[r == j], axis = 0) / (np.sum(r == j)) for j in np.unique(r)])\n",
    "        # compute initial clustering cost\n",
    "        loss = np.sum([np.sum((X[r == j, :] - w_q.T[:,np.unique(r) == j].reshape(len(w_q.T)))**2) for j in np.unique(r)])\n",
    "        return loss\n",
    "    \n",
    "    # initialization\n",
    "    k = len(np.unique(r))\n",
    "    n, d = np.shape(X)\n",
    "    R = np.zeros((k-1,n))\n",
    "    kmloss = np.zeros((k,1)) \n",
    "    mergeidx = np.zeros((k-1,2))\n",
    "    \n",
    "    kmloss[0] = kmeans_crit(X,r) \n",
    "    \n",
    "    \n",
    "    for l in range(1,k):\n",
    "        R[l-1] = r\n",
    "        # calculate init centroids\n",
    "        w_q = np.array([np.sum(X[r == j], axis = 0) / (np.sum(r == j)) for j in np.unique(r)])\n",
    "        # calculate distance between centroids -> covariance matrix\n",
    "        D = np.linalg.norm(w_q[None, :] - w_q[:,None], axis = 2)\n",
    "        # sort covariance ascending order\n",
    "        pairs = list(zip(np.argsort(D,kind='mergesort', axis = None)//len(D), np.argsort(D,kind='mergesort', axis = None)%len(D))) # zeile / spalte\n",
    "        # determine centroid pair with smallest loss, Caveat first elements are 0 explain the diagonal of the cov-matrix\n",
    "        min_pair_idx = pairs[k-l+1]\n",
    "        # get names of merged clusters by r (clusters used before have the highest index plus 1 )\n",
    "        min_pair = np.unique(r)[np.array(min_pair_idx)]  \n",
    "        mergeidx[l-1] = min_pair\n",
    "        #if np.isin(mergeidx[l-1, 0], mergeidx[:l-1]):\n",
    "        #    mergeidx[l-1, 0] = k+l-1\n",
    "\n",
    "        # new cluster membership\n",
    "        r[np.isin(r, min_pair)] = k+l-1\n",
    "        # new kmloss\n",
    "        kmloss[l] = kmeans_crit(X,r)\n",
    "    return R, kmloss, mergeidx\n"
   ]
  },
  {
   "cell_type": "code",
   "execution_count": 9,
   "metadata": {},
   "outputs": [],
   "source": [
    "R, kmloss, mergeidx = kmeans_agglo(X,r)"
   ]
  },
  {
   "cell_type": "code",
   "execution_count": 10,
   "metadata": {},
   "outputs": [],
   "source": [
    "def agglo_dendro(kmloss, mergeidx):\n",
    "    \"\"\" Plots dendrogram for agglomerative clustering\n",
    "\n",
    "    Input:\n",
    "    kmloss: vector with loss after each step\n",
    "    mergeidx: (k-1) x 2 matrix that contains merge idx for each step\n",
    "    \"\"\"\n",
    "    fourth_column = 2*np.ones((len(mergeidx),1)) # necessary for dendogram function, sample count\n",
    "    Z = np.concatenate([mergeidx, kmloss[1:], fourth_column], axis = 1)\n",
    "    \n",
    "    plt.figure(figsize=(25, 10))\n",
    "    plt.title('Hierarchical Clustering Dendrogram')\n",
    "    plt.xlabel('sample index')\n",
    "    plt.ylabel('distance')\n",
    "    dendrogram(\n",
    "        Z,\n",
    "        leaf_rotation=90.,  # rotates the x axis labels\n",
    "        leaf_font_size=8.,  # font size for the x axis labels\n",
    "    )\n",
    "    return"
   ]
  },
  {
   "cell_type": "code",
   "execution_count": 11,
   "metadata": {},
   "outputs": [
    {
     "data": {
      "text/plain": [
       "array([[  2.75      ],\n",
       "       [ 40.25      ],\n",
       "       [241.26388889]])"
      ]
     },
     "execution_count": 11,
     "metadata": {},
     "output_type": "execute_result"
    }
   ],
   "source": [
    "kmloss"
   ]
  },
  {
   "cell_type": "code",
   "execution_count": 12,
   "metadata": {},
   "outputs": [
    {
     "data": {
      "text/plain": [
       "array([[1., 2.],\n",
       "       [0., 3.]])"
      ]
     },
     "execution_count": 12,
     "metadata": {},
     "output_type": "execute_result"
    }
   ],
   "source": [
    "mergeidx"
   ]
  },
  {
   "cell_type": "code",
   "execution_count": 13,
   "metadata": {},
   "outputs": [
    {
     "data": {
      "text/plain": [
       "array([[0., 0., 0., 1., 1., 1., 2., 2., 2.],\n",
       "       [0., 0., 0., 3., 3., 3., 3., 3., 3.]])"
      ]
     },
     "execution_count": 13,
     "metadata": {},
     "output_type": "execute_result"
    }
   ],
   "source": [
    "R"
   ]
  },
  {
   "cell_type": "code",
   "execution_count": 14,
   "metadata": {},
   "outputs": [],
   "source": [
    "k = np.unique(mergeidx)"
   ]
  },
  {
   "cell_type": "code",
   "execution_count": 15,
   "metadata": {},
   "outputs": [],
   "source": [
    "fourth_column = 2*np.ones((len(mergeidx),1))"
   ]
  },
  {
   "cell_type": "code",
   "execution_count": 16,
   "metadata": {},
   "outputs": [
    {
     "data": {
      "text/plain": [
       "array([[  1.        ,   2.        ,  40.25      ,   2.        ],\n",
       "       [  0.        ,   3.        , 241.26388889,   2.        ]])"
      ]
     },
     "execution_count": 16,
     "metadata": {},
     "output_type": "execute_result"
    }
   ],
   "source": [
    "np.concatenate([mergeidx, kmloss[1:], fourth_column], axis = 1)"
   ]
  },
  {
   "cell_type": "code",
   "execution_count": 17,
   "metadata": {},
   "outputs": [
    {
     "data": {
      "image/png": "[encoded data removed]",
      "text/plain": [
       "<Figure size 1800x720 with 1 Axes>"
      ]
     },
     "metadata": {
      "needs_background": "light"
     },
     "output_type": "display_data"
    }
   ],
   "source": [
    "agglo_dendro(kmloss, mergeidx)"
   ]
  },
  {
   "cell_type": "code",
   "execution_count": 512,
   "metadata": {},
   "outputs": [
    {
     "data": {
      "text/plain": [
       "{'icoord': [[15.0, 15.0, 25.0, 25.0], [5.0, 5.0, 20.0, 20.0]],\n",
       " 'dcoord': [[0.0, 40.25, 40.25, 0.0],\n",
       "  [0.0, 241.26388888888889, 241.26388888888889, 40.25]],\n",
       " 'ivl': ['0', '1', '2'],\n",
       " 'leaves': [0, 1, 2],\n",
       " 'color_list': ['g', 'b']}"
      ]
     },
     "execution_count": 512,
     "metadata": {},
     "output_type": "execute_result"
    },
    {
     "data": {
      "image/png": "[encoded data removed]",
      "text/plain": [
       "<Figure size 1800x720 with 1 Axes>"
      ]
     },
     "metadata": {
      "needs_background": "light"
     },
     "output_type": "display_data"
    }
   ],
   "source": [
    "plt.figure(figsize=(25, 10))\n",
    "plt.title('Hierarchical Clustering Dendrogram')\n",
    "plt.xlabel('sample index')\n",
    "plt.ylabel('distance')\n",
    "dendrogram(\n",
    "    Z,\n",
    "    leaf_rotation=90.,  # rotates the x axis labels\n",
    "    leaf_font_size=8.,  # font size for the x axis labels\n",
    ")"
   ]
  },
  {
   "cell_type": "code",
   "execution_count": 20,
   "metadata": {},
   "outputs": [
    {
     "name": "stdout",
     "output_type": "stream",
     "text": [
      "iteration-step: 1\n",
      "number of changes in assignment: 3\n",
      "loss function value: 39.416666666666664\n",
      "iteration-step: 2\n",
      "number of changes in assignment: 0\n",
      "loss function value: 39.416666666666664\n"
     ]
    },
    {
     "ename": "NameError",
     "evalue": "name 'worked' is not defined",
     "output_type": "error",
     "traceback": [
      "\u001b[0;31m---------------------------------------------------------------------------\u001b[0m",
      "\u001b[0;31mNameError\u001b[0m                                 Traceback (most recent call last)",
      "\u001b[0;32m<ipython-input-20-d9ad11b3bb6c>\u001b[0m in \u001b[0;36m<module>\u001b[0;34m\u001b[0m\n\u001b[1;32m      8\u001b[0m         \u001b[0mimp\u001b[0m\u001b[0;34m.\u001b[0m\u001b[0magglo_dendro\u001b[0m\u001b[0;34m(\u001b[0m\u001b[0mkmloss\u001b[0m\u001b[0;34m,\u001b[0m \u001b[0mmergeidx\u001b[0m\u001b[0;34m)\u001b[0m\u001b[0;34m\u001b[0m\u001b[0;34m\u001b[0m\u001b[0m\n\u001b[1;32m      9\u001b[0m         \u001b[0;32mbreak\u001b[0m\u001b[0;34m\u001b[0m\u001b[0;34m\u001b[0m\u001b[0m\n\u001b[0;32m---> 10\u001b[0;31m     \u001b[0;32mif\u001b[0m \u001b[0;32mnot\u001b[0m \u001b[0mworked\u001b[0m\u001b[0;34m:\u001b[0m\u001b[0;34m\u001b[0m\u001b[0;34m\u001b[0m\u001b[0m\n\u001b[0m\u001b[1;32m     11\u001b[0m         \u001b[0;32mraise\u001b[0m \u001b[0mAssertionError\u001b[0m\u001b[0;34m(\u001b[0m\u001b[0;34m'test_agglo: the first merge is not correct.'\u001b[0m\u001b[0;34m)\u001b[0m\u001b[0;34m\u001b[0m\u001b[0;34m\u001b[0m\u001b[0m\n",
      "\u001b[0;31mNameError\u001b[0m: name 'worked' is not defined"
     ]
    }
   ],
   "source": [
    "for _ in range(10):\n",
    "    mu, r, _ = kmeans(X, k=3)\n",
    "    r = r.flatten()\n",
    "    R, kmloss, mergeidx = kmeans_agglo(X, r)\n",
    "    mergeidx = np.array(mergeidx, dtype=int)\n",
    "    if set([int(r[3]), int(r[6])]) == set(mergeidx[0, :]):\n",
    "        worked = True\n",
    "        imp.agglo_dendro(kmloss, mergeidx)\n",
    "        break\n",
    "    if not worked:\n",
    "        raise AssertionError('test_agglo: the first merge is not correct.')\n"
   ]
  },
  {
   "cell_type": "code",
   "execution_count": 30,
   "metadata": {},
   "outputs": [],
   "source": [
    "# agglo fails due to updated cluster names, which is mandatory for the dendogram plot -> question for Q&A"
   ]
  },
  {
   "cell_type": "code",
   "execution_count": 29,
   "metadata": {},
   "outputs": [
    {
     "name": "stdout",
     "output_type": "stream",
     "text": [
      "iteration-step: 1\n",
      "number of changes in assignment: 6\n",
      "loss function value: 2.75\n",
      "iteration-step: 2\n",
      "number of changes in assignment: 0\n",
      "loss function value: 2.75\n"
     ]
    }
   ],
   "source": [
    "worked1 = False\n",
    "worked2 = False\n",
    "for _ in range(10):\n",
    "    mu, r, _ = kmeans(X, k=3)\n",
    "    if (r[0]==r[1]==r[2]!=r[3] and r[3]==r[4]==r[5]!=r[6] and r[6]==r[7]==r[8]):\n",
    "        worked1 = True\n",
    "\n",
    "    # test one cluster center\n",
    "    if (np.linalg.norm(mu[0] - [10.41666, 0.1666]) < 0.1 or\n",
    "        np.linalg.norm(mu[1] - [10.41666, 0.1666]) < 0.1 or\n",
    "        np.linalg.norm(mu[2] - [10.41666, 0.1666]) < 0.1):\n",
    "            worked2 = True\n",
    "    if worked1 and worked2:\n",
    "        break\n",
    "if not worked1:\n",
    "    raise AssertionError('test_kmeans cluster assignments are wrong.')\n",
    "if not worked2:\n",
    "    raise AssertionError('test_kmeans did not find the correct cluster center.')\n"
   ]
  },
  {
   "cell_type": "code",
   "execution_count": null,
   "metadata": {},
   "outputs": [],
   "source": []
  }
 ],
 "metadata": {
  "kernelspec": {
   "display_name": "Python 3",
   "language": "python",
   "name": "python3"
  },
  "language_info": {
   "codemirror_mode": {
    "name": "ipython",
    "version": 3
   },
   "file_extension": ".py",
   "mimetype": "text/x-python",
   "name": "python",
   "nbconvert_exporter": "python",
   "pygments_lexer": "ipython3",
   "version": "3.7.7"
  }
 },
 "nbformat": 4,
 "nbformat_minor": 4
}
