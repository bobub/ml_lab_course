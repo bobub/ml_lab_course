{
 "cells": [
  {
   "cell_type": "code",
   "execution_count": 1,
   "metadata": {},
   "outputs": [],
   "source": [
    "import numpy as np\n",
    "from matplotlib import pyplot as plt"
   ]
  },
  {
   "cell_type": "code",
   "execution_count": null,
   "metadata": {},
   "outputs": [],
   "source": [
    "#Assignment 1"
   ]
  },
  {
   "cell_type": "code",
   "execution_count": 2,
   "metadata": {},
   "outputs": [
    {
     "ename": "SyntaxError",
     "evalue": "invalid syntax (<ipython-input-2-89e2a9002131>, line 1)",
     "output_type": "error",
     "traceback": [
      "\u001b[1;36m  File \u001b[1;32m\"<ipython-input-2-89e2a9002131>\"\u001b[1;36m, line \u001b[1;32m1\u001b[0m\n\u001b[1;33m    def k_means(X,k,m)\u001b[0m\n\u001b[1;37m                      ^\u001b[0m\n\u001b[1;31mSyntaxError\u001b[0m\u001b[1;31m:\u001b[0m invalid syntax\n"
     ]
    }
   ],
   "source": [
    "def k_means(X,k,m):\n",
    "    \"\"\"\n",
    "    Performs k_means clustering using algorithm and symbols in guide.pdf pg 22\n",
    "    \n",
    "    Inputs:\n",
    "    X=data\n",
    "    k=number of clusters\n",
    "    m=maximum number of iterations\n",
    "    \n",
    "    Outputs:\n",
    "    mu=cluster centres\n",
    "    r=assignment vector\n",
    "    \"\"\"\n",
    "    #choose random data points as initial cluster centres\n",
    "    rand_samples=np.random.choice(X.shape[0],size=(k, ),replace=False)\n",
    "    mu=X[rand_samples]\n",
    "    #initialise assignment vector\n",
    "    r=np.zeros((X.shape[0],))\n",
    "    r_=np.zeros((X.shape[0],))\n",
    "    \n",
    "    #max iterations\n",
    "    for i in range(m)\n",
    "    \n",
    "    "
   ]
  },
  {
   "cell_type": "code",
   "execution_count": 124,
   "metadata": {},
   "outputs": [
    {
     "name": "stdout",
     "output_type": "stream",
     "text": [
      "{0: [], 1: [array([1, 3, 3]), array([1, 2, 3]), array([5, 4, 3])]}\n",
      "class 0\n",
      "class datapoints []\n",
      "class 1\n",
      "class datapoints [array([1, 3, 3]), array([1, 2, 3]), array([5, 4, 3])]\n"
     ]
    },
    {
     "ename": "ValueError",
     "evalue": "The truth value of an array with more than one element is ambiguous. Use a.any() or a.all()",
     "output_type": "error",
     "traceback": [
      "\u001b[1;31m---------------------------------------------------------------------------\u001b[0m",
      "\u001b[1;31mValueError\u001b[0m                                Traceback (most recent call last)",
      "\u001b[1;32m<ipython-input-124-fa3394d4cc84>\u001b[0m in \u001b[0;36m<module>\u001b[1;34m\u001b[0m\n\u001b[0;32m     33\u001b[0m         \u001b[0mprint\u001b[0m\u001b[1;33m(\u001b[0m\u001b[1;34m'class datapoints'\u001b[0m\u001b[1;33m,\u001b[0m\u001b[0mclassifications\u001b[0m\u001b[1;33m[\u001b[0m\u001b[0mclassification\u001b[0m\u001b[1;33m]\u001b[0m\u001b[1;33m)\u001b[0m\u001b[1;33m\u001b[0m\u001b[1;33m\u001b[0m\u001b[0m\n\u001b[0;32m     34\u001b[0m \u001b[1;33m\u001b[0m\u001b[0m\n\u001b[1;32m---> 35\u001b[1;33m     \u001b[1;32mif\u001b[0m \u001b[0mnp\u001b[0m\u001b[1;33m.\u001b[0m\u001b[0mall\u001b[0m\u001b[1;33m(\u001b[0m\u001b[0mprev_centroids\u001b[0m\u001b[1;33m==\u001b[0m\u001b[0mmu\u001b[0m\u001b[1;33m)\u001b[0m\u001b[1;33m:\u001b[0m\u001b[1;33m\u001b[0m\u001b[1;33m\u001b[0m\u001b[0m\n\u001b[0m\u001b[0;32m     36\u001b[0m         \u001b[1;32mbreak\u001b[0m\u001b[1;33m\u001b[0m\u001b[1;33m\u001b[0m\u001b[0m\n\u001b[0;32m     37\u001b[0m \u001b[1;33m\u001b[0m\u001b[0m\n",
      "\u001b[1;31mValueError\u001b[0m: The truth value of an array with more than one element is ambiguous. Use a.any() or a.all()"
     ]
    }
   ],
   "source": [
    "X=np.array([[1,3,3],[1,2,3],[5,4,3]])\n",
    "k=2\n",
    "m=5\n",
    "\n",
    "\n",
    "#init centroids\n",
    "mu = {}\n",
    "rand_samples=np.random.choice(X.shape[0],size=(k,),replace=False) #choose k random data points as centroids\n",
    "for i, sample in enumerate(rand_samples): #assign each a cluster number in dict mu\n",
    "    mu[i]=X[rand_samples]\n",
    "    \n",
    "#up to max iterations\n",
    "for i in range(m):\n",
    "    classifications = {} #record each data point's cluster assignment\n",
    "    #for each centroid\n",
    "    for j in range(k):\n",
    "        classifications[j] = []\n",
    "        \n",
    "    #for each datapoint\n",
    "    for datapoint in X:\n",
    "            dist = [np.linalg.norm(datapoint-centroid,axis=0) for centroid in mu] #compute norm to each centroid\n",
    "            classification = np.argmin(dist) #assign class to closest centroid\n",
    "            #print(classification)\n",
    "            classifications[classification].append(datapoint) #add datapoint to that centroid's dictionary\n",
    "    print(classifications)\n",
    "    prev_centroids = dict(mu) \n",
    "    #print(prev_centroids)\n",
    "    \n",
    "    #update centroids\n",
    "    for classification in classifications:\n",
    "        mu[classification]=np.mean(classifications[classification],axis=0)\n",
    "        print('class',classification)\n",
    "        print('class datapoints',classifications[classification])\n",
    "    \n",
    "    if :\n",
    "        break\n",
    "        \n",
    "    \n",
    "    prev_classifications=dict(classifications)\n",
    "    \n",
    "   # if np.all(prev_class==new_class):\n",
    "    #    break\n",
    "        \n",
    "    #prev_class=new_class "
   ]
  },
  {
   "cell_type": "code",
   "execution_count": 98,
   "metadata": {},
   "outputs": [
    {
     "name": "stdout",
     "output_type": "stream",
     "text": [
      "[[5 4 3]\n",
      " [1 2 3]]\n"
     ]
    }
   ],
   "source": [
    "mu = {}\n",
    "        \n",
    "#init centroids\n",
    "rand_samples=np.random.choice(X.shape[0],size=(k,),replace=False)\n",
    "mu=X[rand_samples]\n",
    "print(mu)\n",
    "\n",
    "#for i in range(self.k):\n",
    "#self.centroids[i] = data[i]"
   ]
  },
  {
   "cell_type": "code",
   "execution_count": null,
   "metadata": {},
   "outputs": [],
   "source": [
    "def fit(self,data):\n",
    "\n",
    "        self.centroids = {}\n",
    "        \n",
    "        #init centroids\n",
    "        for i in range(self.k):\n",
    "            self.centroids[i] = data[i]\n",
    "        #max iterations\n",
    "        for i in range(self.max_iter):\n",
    "            self.classifications = {}\n",
    "            #\n",
    "            for i in range(self.k):\n",
    "                self.classifications[i] = []\n",
    "\n",
    "            for featureset in data:\n",
    "                distances = [np.linalg.norm(featureset-self.centroids[centroid]) for centroid in self.centroids]\n",
    "                classification = distances.index(min(distances))\n",
    "                self.classifications[classification].append(featureset)\n",
    "\n",
    "            prev_centroids = dict(self.centroids)\n",
    "\n",
    "            for classification in self.classifications:\n",
    "                self.centroids[classification] = np.average(self.classifications[classification],axis=0)\n",
    "\n",
    "            optimized = True\n",
    "\n",
    "            for c in self.centroids:\n",
    "                original_centroid = prev_centroids[c]\n",
    "                current_centroid = self.centroids[c]\n",
    "                if np.sum((current_centroid-original_centroid)/original_centroid*100.0) > self.tol:\n",
    "                    print(np.sum((current_centroid-original_centroid)/original_centroid*100.0))\n",
    "                    optimized = False\n",
    "\n",
    "            if optimized:\n",
    "                break"
   ]
  }
 ],
 "metadata": {
  "kernelspec": {
   "display_name": "Python 3",
   "language": "python",
   "name": "python3"
  },
  "language_info": {
   "codemirror_mode": {
    "name": "ipython",
    "version": 3
   },
   "file_extension": ".py",
   "mimetype": "text/x-python",
   "name": "python",
   "nbconvert_exporter": "python",
   "pygments_lexer": "ipython3",
   "version": "3.7.3"
  }
 },
 "nbformat": 4,
 "nbformat_minor": 2
}
