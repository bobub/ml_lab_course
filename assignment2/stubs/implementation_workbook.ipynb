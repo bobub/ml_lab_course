{
 "cells": [
  {
   "cell_type": "code",
   "execution_count": 1,
   "metadata": {},
   "outputs": [],
   "source": [
    "import numpy as np\n",
    "from matplotlib import pyplot as plt"
   ]
  },
  {
   "cell_type": "code",
   "execution_count": 165,
   "metadata": {
    "scrolled": true
   },
   "outputs": [
    {
     "name": "stdout",
     "output_type": "stream",
     "text": [
      "shape (3,)\n",
      "[4. 1. 0.]\n",
      "[2. 0. 0.]\n",
      "shape (3,)\n",
      "[4.         2.23606798 0.        ]\n",
      "[2. 2. 0.]\n",
      "shape (3,)\n",
      "[4. 1. 0.]\n",
      "[2. 2. 2.]\n",
      "r_empty [0, 1]\n",
      "r_empty2 [0, 1]\n",
      "np.unique\n",
      " [1 2]\n"
     ]
    },
    {
     "ename": "ValueError",
     "evalue": "setting an array element with a sequence.",
     "output_type": "error",
     "traceback": [
      "\u001b[1;31m---------------------------------------------------------------------------\u001b[0m",
      "\u001b[1;31mValueError\u001b[0m                                Traceback (most recent call last)",
      "\u001b[1;32m<ipython-input-165-6c562e28b977>\u001b[0m in \u001b[0;36m<module>\u001b[1;34m\u001b[0m\n\u001b[0;32m     33\u001b[0m     \u001b[1;31m#w_q.T[np.unique(m_q)] = [np.sum(X[m_q == j], axis = 0) / (np.sum(m_q == j)) for j in np.unique(m_q)]\u001b[0m\u001b[1;33m\u001b[0m\u001b[1;33m\u001b[0m\u001b[1;33m\u001b[0m\u001b[0m\n\u001b[0;32m     34\u001b[0m     \u001b[1;31m#calc new centroids\u001b[0m\u001b[1;33m\u001b[0m\u001b[1;33m\u001b[0m\u001b[1;33m\u001b[0m\u001b[0m\n\u001b[1;32m---> 35\u001b[1;33m     \u001b[0mmu\u001b[0m\u001b[1;33m.\u001b[0m\u001b[0mT\u001b[0m\u001b[1;33m[\u001b[0m\u001b[0mnp\u001b[0m\u001b[1;33m.\u001b[0m\u001b[0munique\u001b[0m\u001b[1;33m(\u001b[0m\u001b[0mr\u001b[0m\u001b[1;33m.\u001b[0m\u001b[0mastype\u001b[0m\u001b[1;33m(\u001b[0m\u001b[0mint\u001b[0m\u001b[1;33m)\u001b[0m\u001b[1;33m)\u001b[0m\u001b[1;33m]\u001b[0m\u001b[1;33m=\u001b[0m\u001b[1;33m[\u001b[0m\u001b[0mnp\u001b[0m\u001b[1;33m.\u001b[0m\u001b[0mmean\u001b[0m\u001b[1;33m(\u001b[0m\u001b[0mX\u001b[0m\u001b[1;33m[\u001b[0m\u001b[0mr\u001b[0m\u001b[1;33m==\u001b[0m\u001b[0mj\u001b[0m\u001b[1;33m]\u001b[0m\u001b[1;33m,\u001b[0m\u001b[0maxis\u001b[0m\u001b[1;33m=\u001b[0m\u001b[1;36m1\u001b[0m\u001b[1;33m)\u001b[0m \u001b[1;32mfor\u001b[0m \u001b[0mj\u001b[0m \u001b[1;32min\u001b[0m \u001b[0mnp\u001b[0m\u001b[1;33m.\u001b[0m\u001b[0munique\u001b[0m\u001b[1;33m(\u001b[0m\u001b[0mr\u001b[0m\u001b[1;33m)\u001b[0m\u001b[1;33m]\u001b[0m\u001b[1;33m\u001b[0m\u001b[1;33m\u001b[0m\u001b[0m\n\u001b[0m\u001b[0;32m     36\u001b[0m \u001b[1;33m\u001b[0m\u001b[0m\n\u001b[0;32m     37\u001b[0m     \u001b[1;31m#calc loss\u001b[0m\u001b[1;33m\u001b[0m\u001b[1;33m\u001b[0m\u001b[1;33m\u001b[0m\u001b[0m\n",
      "\u001b[1;31mValueError\u001b[0m: setting an array element with a sequence."
     ]
    }
   ],
   "source": [
    "#ASSIGNMENT 1: KMEANS (BORIS), not working\n",
    "\n",
    "X=np.array([[1,3,3],[1,2,3],[5,4,3]])\n",
    "k=2\n",
    "m=5\n",
    "    \n",
    "#init centroids as random data points\n",
    "rand_samples=np.random.choice(X.shape[0],size=(k,),replace=False) #choose k random data points as centroids\n",
    "mu=X[rand_samples] #centroid initialisation\n",
    "\n",
    "r=np.zeros(X.shape[0]) #current memberships\n",
    "r_=r #prev memberships\n",
    "\n",
    "\n",
    "for i in range(m):\n",
    "    for count, datapoint in enumerate(X):\n",
    "        D = np.linalg.norm(mu-datapoint,axis=0)#calc dist\n",
    "        print('shape',D.shape)\n",
    "        r[count]=np.argmin(D,axis=0) #assign membership\n",
    "        \n",
    "        print(D)\n",
    "        print(r)\n",
    "        \n",
    "    # assign a rand datapoint to any empty centroids (empty centroids workaround)\n",
    "    r_empty = [x for x in range(k) if x not in np.unique(r)]\n",
    "    #print('r_empty',r_empty)\n",
    "    for m in r_empty:\n",
    "        r[np.random.randint(0,len(X)-1)] = m\n",
    "    #print('r_empty2',r_empty)\n",
    "    \n",
    "    #print('np.unique\\n',np.unique(r.astype(int)))\n",
    "    \n",
    "    #calc new centroids\n",
    "    mu.T[np.unique(r.astype(int))]=[np.mean(X[r==j],axis=1) for j in np.unique(r)]\n",
    "    \n",
    "    #calc loss\n",
    "    loss=np.sum([np.sum((X[r==j,:] - mu[:,j.astype(int)])**2) for j in np.unique(r)])\n",
    "    \n",
    "    #printouts\n",
    "    print('Iteration:' + i)\n",
    "    print('Memberships' + str(list(r == r_).count(False)))\n",
    "    print('Loss function' + str(loss))\n",
    "    \n",
    "    #end if all memberships same as previous iteration\n",
    "    if (r==r_).all():\n",
    "        break\n",
    "    \n",
    "    r_=r\n",
    "    \n",
    "print('Final centroids\\n',mu.T)\n",
    "print('Final memberships\\n',r)\n",
    "print('Final loss\\n',loss)\n",
    "    \n",
    "    "
   ]
  },
  {
   "cell_type": "code",
   "execution_count": 148,
   "metadata": {},
   "outputs": [],
   "source": [
    "#ASSIGNMENT 1: LEO'S \n",
    "def kmeans(X, k, max_iter=100): \n",
    "    \"\"\" Performs k-means clustering\n",
    "\n",
    "    Input:\n",
    "    X: (d x n) data matrix with each datapoint in one column\n",
    "    k: number of clusters\n",
    "    max_iter: maximum number of iterations\n",
    "\n",
    "    Output:\n",
    "    mu: (d x k) matrix with each cluster center in one column\n",
    "    r: assignment vector\n",
    "    \"\"\"\n",
    "    # initailize k random centroids at data mean\n",
    "    X_mean = np.mean(X, axis = 0)\n",
    "    w_init = np.array([np.random.normal(X_mean[i],1,k) for i in range(len(X_mean))])\n",
    "    w_q = w_init\n",
    "    converged = False\n",
    "    iteration = 1\n",
    "    m_q = np.zeros(len(X))\n",
    "    m_q_old = deepcopy(m_q)\n",
    "    while (not converged) & (iteration <= max_iter):\n",
    "        # calculate distance to centroids\n",
    "        D = np.linalg.norm(X[None, :] - w_q.T[:,None], axis = 2)\n",
    "        # assign every data point to its nearest centroids\n",
    "        m_q = np.argmin(D, axis=0)\n",
    "        # assign random data point to not empty centroids\n",
    "        m_empty = [x for x in range(k) if x not in np.unique(m_q)]\n",
    "        for m in m_empty:\n",
    "            m_q[random.randint(0,len(X)-1)] = m\n",
    "        # calculate position of centroids as mean of assigned data\n",
    "        w_q.T[np.unique(m_q)] = [np.sum(X[m_q == j], axis = 0) / (np.sum(m_q == j)) for j in np.unique(m_q)]\n",
    "        \n",
    "        # calculate objective\n",
    "        loss = np.sum([np.sum((X[m_q == j, :] - w_q[:,j])**2) for j in np.unique(m_q)])\n",
    "        print('iteration-step: ' + str(iteration))\n",
    "        print('number of changes in assignment: ' + str(list(m_q == m_q_old).count(False)))\n",
    "        print('loss function value: ' + str(loss))\n",
    "        if (m_q == m_q_old).all():\n",
    "            converged = True\n",
    "            break\n",
    "        \n",
    "        m_q_old = deepcopy(m_q)\n",
    "        iteration+=1\n",
    "    return w_q.T, m_q, loss"
   ]
  },
  {
   "cell_type": "code",
   "execution_count": null,
   "metadata": {},
   "outputs": [],
   "source": [
    "#Assignment 4\n",
    "np.power()"
   ]
  },
  {
   "cell_type": "code",
   "execution_count": 299,
   "metadata": {},
   "outputs": [],
   "source": [
    "def norm_pdf(X, mu, C): \n",
    "    \"\"\"\n",
    "    This function computes the probability density function when given a multivariate gaussian distribution as an input.\n",
    "    \n",
    "    Input:\n",
    "    X=data (nxd)\n",
    "    mu=centre of Gaussian distribution (1xd)\n",
    "    C=covariance matrix (nxn) , np.cov(X.T)\n",
    "    \n",
    "    Output:\n",
    "    y=probability density function (nx1)\n",
    "    \"\"\"\n",
    "    \n",
    "    det=np.linalg.det(np.linalg.inv(C)) #1x1\n",
    "    \n",
    "    frac = 1 / (2**(X.shape[1]/2) * np.sqrt(det)) #1x1 \n",
    "    \n",
    "    exp = np.exp((-1/2) * np.dot( np.dot((X-mu),np.linalg.inv(C)) , (X-mu).T)) #nxd dxd dxn = nxn \n",
    "    exp = np.diagonal(exp) #we only want diagonals, since only x_i should affect y_i\n",
    "    \n",
    "    y = frac * exp\n",
    "    \n",
    "    return y\n",
    "    "
   ]
  },
  {
   "cell_type": "code",
   "execution_count": 306,
   "metadata": {},
   "outputs": [
    {
     "name": "stdout",
     "output_type": "stream",
     "text": [
      "[[ 0 11]\n",
      " [10  1]\n",
      " [-5 50]]\n",
      "(3, 2)\n",
      "(2,)\n",
      "[[  58.33333333 -171.66666667]\n",
      " [-171.66666667  670.33333333]]\n",
      "0.00010380622837370248\n",
      "49.07477288111818\n",
      "[[0.51341712 1.39561243 1.39561243]\n",
      " [1.39561243 0.51341712 1.39561243]\n",
      " [1.39561243 1.39561243 0.51341712]]\n",
      "(3,)\n",
      "9633.333333333327\n",
      "98.14954576223634\n",
      "[25.19582851 25.19582851 25.19582851]\n"
     ]
    }
   ],
   "source": [
    "#DEV CELL\n",
    "\n",
    "#why does np.cov return nxn not dxd?? -->docs\n",
    "#\"A 1-D or 2-D array containing multiple variables and observations. \n",
    "#Each row of m represents a variable, and each column a single observation of all those variables. Also see rowvar below.\"\n",
    "# TL;DR ----->transpose data before handing it to np.cov\n",
    "\n",
    "X = np.array([[0,11],[10,1],[-5,50]])\n",
    "print(X)\n",
    "print(X.shape)\n",
    "\n",
    "C=np.cov(X.T) #dxd , transpose is to rectify weird np.cov function\n",
    "mu=np.mean(X,axis=0) #1xd\n",
    "print(mu.shape)\n",
    "print(C)\n",
    "\n",
    "det=np.linalg.det(np.linalg.inv(C))\n",
    "print(det)\n",
    "\n",
    "frac = 1 / (2**(X.shape[1]/2) * np.sqrt(det)) #1x1 \n",
    "print(frac)\n",
    "\n",
    "exp = np.exp((-1/2) * np.dot( np.dot((X-mu),np.linalg.inv(C)) , (X-mu).T)) #nxd dxd dxn = nxn --> check this with Jakob\n",
    "#the sheet2.pdf formula says to transpose the first (X-mu)\n",
    "print(exp)\n",
    "exp = np.diagonal(exp) #we only want diagonals, since only x_i should affect y_i\n",
    "\n",
    "print(exp.shape)\n",
    "\n",
    "\n",
    "y = frac * exp\n",
    "\n",
    "\n",
    "\n",
    "\n",
    "\n",
    "print(np.linalg.det(C))\n",
    "print(np.sqrt(np.linalg.det(C)))\n",
    "\n",
    "\n",
    "print(y)"
   ]
  },
  {
   "cell_type": "code",
   "execution_count": 302,
   "metadata": {},
   "outputs": [
    {
     "name": "stdout",
     "output_type": "stream",
     "text": [
      "[10.22654216 10.22654216 10.22654216]\n"
     ]
    }
   ],
   "source": [
    "X = np.array([[7,11],[10,1],[-5,5]])\n",
    "\n",
    "y=norm_pdf(X,np.mean(X,axis=0),np.cov(X.T))\n",
    "\n",
    "print(y)"
   ]
  },
  {
   "cell_type": "code",
   "execution_count": null,
   "metadata": {},
   "outputs": [],
   "source": []
  }
 ],
 "metadata": {
  "kernelspec": {
   "display_name": "Python 3",
   "language": "python",
   "name": "python3"
  },
  "language_info": {
   "codemirror_mode": {
    "name": "ipython",
    "version": 3
   },
   "file_extension": ".py",
   "mimetype": "text/x-python",
   "name": "python",
   "nbconvert_exporter": "python",
   "pygments_lexer": "ipython3",
   "version": "3.7.3"
  }
 },
 "nbformat": 4,
 "nbformat_minor": 2
}
