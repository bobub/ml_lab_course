{
 "cells": [
  {
   "cell_type": "code",
   "execution_count": 433,
   "metadata": {},
   "outputs": [],
   "source": [
    "import numpy as np\n",
    "from matplotlib import pyplot as plt\n",
    "import copy\n",
    "import random"
   ]
  },
  {
   "cell_type": "code",
   "execution_count": 434,
   "metadata": {
    "scrolled": true
   },
   "outputs": [
    {
     "name": "stdout",
     "output_type": "stream",
     "text": [
      "shape (3,)\n",
      "[4. 1. 0.]\n",
      "[2. 0. 0.]\n",
      "shape (3,)\n",
      "[4.         2.23606798 0.        ]\n",
      "[2. 2. 0.]\n",
      "shape (3,)\n",
      "[4. 1. 0.]\n",
      "[2. 2. 2.]\n"
     ]
    },
    {
     "ename": "ValueError",
     "evalue": "setting an array element with a sequence.",
     "output_type": "error",
     "traceback": [
      "\u001b[1;31m---------------------------------------------------------------------------\u001b[0m",
      "\u001b[1;31mValueError\u001b[0m                                Traceback (most recent call last)",
      "\u001b[1;32m<ipython-input-434-0a9020630375>\u001b[0m in \u001b[0;36m<module>\u001b[1;34m\u001b[0m\n\u001b[0;32m     32\u001b[0m \u001b[1;33m\u001b[0m\u001b[0m\n\u001b[0;32m     33\u001b[0m     \u001b[1;31m#calc new centroids\u001b[0m\u001b[1;33m\u001b[0m\u001b[1;33m\u001b[0m\u001b[1;33m\u001b[0m\u001b[0m\n\u001b[1;32m---> 34\u001b[1;33m     \u001b[0mmu\u001b[0m\u001b[1;33m.\u001b[0m\u001b[0mT\u001b[0m\u001b[1;33m[\u001b[0m\u001b[0mnp\u001b[0m\u001b[1;33m.\u001b[0m\u001b[0munique\u001b[0m\u001b[1;33m(\u001b[0m\u001b[0mr\u001b[0m\u001b[1;33m.\u001b[0m\u001b[0mastype\u001b[0m\u001b[1;33m(\u001b[0m\u001b[0mint\u001b[0m\u001b[1;33m)\u001b[0m\u001b[1;33m)\u001b[0m\u001b[1;33m]\u001b[0m\u001b[1;33m=\u001b[0m\u001b[1;33m[\u001b[0m\u001b[0mnp\u001b[0m\u001b[1;33m.\u001b[0m\u001b[0mmean\u001b[0m\u001b[1;33m(\u001b[0m\u001b[0mX\u001b[0m\u001b[1;33m[\u001b[0m\u001b[0mr\u001b[0m\u001b[1;33m==\u001b[0m\u001b[0mj\u001b[0m\u001b[1;33m]\u001b[0m\u001b[1;33m,\u001b[0m\u001b[0maxis\u001b[0m\u001b[1;33m=\u001b[0m\u001b[1;36m1\u001b[0m\u001b[1;33m)\u001b[0m \u001b[1;32mfor\u001b[0m \u001b[0mj\u001b[0m \u001b[1;32min\u001b[0m \u001b[0mnp\u001b[0m\u001b[1;33m.\u001b[0m\u001b[0munique\u001b[0m\u001b[1;33m(\u001b[0m\u001b[0mr\u001b[0m\u001b[1;33m)\u001b[0m\u001b[1;33m]\u001b[0m\u001b[1;33m\u001b[0m\u001b[1;33m\u001b[0m\u001b[0m\n\u001b[0m\u001b[0;32m     35\u001b[0m \u001b[1;33m\u001b[0m\u001b[0m\n\u001b[0;32m     36\u001b[0m     \u001b[1;31m#calc loss\u001b[0m\u001b[1;33m\u001b[0m\u001b[1;33m\u001b[0m\u001b[1;33m\u001b[0m\u001b[0m\n",
      "\u001b[1;31mValueError\u001b[0m: setting an array element with a sequence."
     ]
    }
   ],
   "source": [
    "#ASSIGNMENT 1: KMEANS (BORIS), not working\n",
    "\n",
    "X=np.array([[1,3,3],[1,2,3],[5,4,3]])\n",
    "k=2\n",
    "m=5\n",
    "    \n",
    "#init centroids as random data points\n",
    "rand_samples=np.random.choice(X.shape[0],size=(k,),replace=False) #choose k random data points as centroids\n",
    "mu=X[rand_samples] #centroid initialisation\n",
    "\n",
    "r=np.zeros(X.shape[0]) #current memberships\n",
    "r_=r #prev memberships\n",
    "\n",
    "\n",
    "for i in range(m):\n",
    "    for count, datapoint in enumerate(X):\n",
    "        D = np.linalg.norm(mu-datapoint,axis=0)#calc dist\n",
    "        print('shape',D.shape)\n",
    "        r[count]=np.argmin(D,axis=0) #assign membership\n",
    "        \n",
    "        print(D)\n",
    "        print(r)\n",
    "        \n",
    "    # assign a rand datapoint to any empty centroids (empty centroids workaround)\n",
    "    r_empty = [x for x in range(k) if x not in np.unique(r)]\n",
    "    #print('r_empty',r_empty)\n",
    "    for m in r_empty:\n",
    "        r[np.random.randint(0,len(X)-1)] = m\n",
    "    #print('r_empty2',r_empty)\n",
    "    \n",
    "    #print('np.unique\\n',np.unique(r.astype(int)))\n",
    "    \n",
    "    #calc new centroids\n",
    "    mu.T[np.unique(r.astype(int))]=[np.mean(X[r==j],axis=1) for j in np.unique(r)]\n",
    "    \n",
    "    #calc loss\n",
    "    loss=np.sum([np.sum((X[r==j,:] - mu[:,j.astype(int)])**2) for j in np.unique(r)])\n",
    "    \n",
    "    #printouts\n",
    "    print('Iteration:' + i)\n",
    "    print('Memberships' + str(list(r == r_).count(False)))\n",
    "    print('Loss function' + str(loss))\n",
    "    \n",
    "    #end if all memberships same as previous iteration\n",
    "    if (r==r_).all():\n",
    "        break\n",
    "    \n",
    "    r_=r\n",
    "    \n",
    "print('Final centroids\\n',mu.T)\n",
    "print('Final memberships\\n',r)\n",
    "print('Final loss\\n',loss)\n",
    "    \n",
    "    "
   ]
  },
  {
   "cell_type": "code",
   "execution_count": 438,
   "metadata": {},
   "outputs": [],
   "source": [
    "#ASSIGNMENT 1: LEO'S \n",
    "def kmeans(X, k, max_iter=100): \n",
    "    \"\"\" Performs k-means clustering\n",
    "\n",
    "    Input:\n",
    "    X: (d x n) data matrix with each datapoint in one column\n",
    "    k: number of clusters\n",
    "    max_iter: maximum number of iterations\n",
    "\n",
    "    Output:\n",
    "    mu: (d x k) matrix with each cluster center in one column\n",
    "    r: assignment vector\n",
    "    \"\"\"\n",
    "    # initailize k random centroids at data mean\n",
    "    X_mean = np.mean(X, axis = 0)\n",
    "    w_init = np.array([np.random.normal(X_mean[i],1,k) for i in range(len(X_mean))])\n",
    "    w_q = w_init\n",
    "    converged = False\n",
    "    iteration = 1\n",
    "    m_q = np.zeros(len(X))\n",
    "    m_q_old = copy.deepcopy(m_q)\n",
    "    while (not converged) & (iteration <= max_iter):\n",
    "        # calculate distance to centroids\n",
    "        D = np.linalg.norm(X[None, :] - w_q.T[:,None], axis = 2)\n",
    "        # assign every data point to its nearest centroids\n",
    "        m_q = np.argmin(D, axis=0)\n",
    "        # assign random data point to not empty centroids\n",
    "        m_empty = [x for x in range(k) if x not in np.unique(m_q)]\n",
    "        for m in m_empty:\n",
    "            m_q[random.randint(0,len(X)-1)] = m\n",
    "        # calculate position of centroids as mean of assigned data\n",
    "        w_q.T[np.unique(m_q)] = [np.sum(X[m_q == j], axis = 0) / (np.sum(m_q == j)) for j in np.unique(m_q)]\n",
    "        \n",
    "        # calculate objective\n",
    "        loss = np.sum([np.sum((X[m_q == j, :] - w_q[:,j])**2) for j in np.unique(m_q)])\n",
    "        print('iteration-step: ' + str(iteration))\n",
    "        print('number of changes in assignment: ' + str(list(m_q == m_q_old).count(False)))\n",
    "        print('loss function value: ' + str(loss))\n",
    "        if (m_q == m_q_old).all():\n",
    "            converged = True\n",
    "            break\n",
    "        \n",
    "        m_q_old = copy.deepcopy(m_q)\n",
    "        iteration+=1\n",
    "    return w_q.T, m_q, loss"
   ]
  },
  {
   "cell_type": "code",
   "execution_count": 439,
   "metadata": {},
   "outputs": [],
   "source": [
    "#Assignment 4"
   ]
  },
  {
   "cell_type": "code",
   "execution_count": 440,
   "metadata": {},
   "outputs": [],
   "source": [
    "def norm_pdf(X, mu, C): #not correct ~ old version, see below\n",
    "    \"\"\"\n",
    "    This function computes the probability density function when given a multivariate gaussian distribution as an input.\n",
    "    \n",
    "    Input:\n",
    "    X=data (nxd)\n",
    "    mu=centre of Gaussian distribution (1xd)\n",
    "    C=covariance matrix (nxn) , np.cov(X.T)\n",
    "    \n",
    "    Output:\n",
    "    y=probability density function (nx1)\n",
    "    \"\"\"\n",
    "    \n",
    "    det=np.linalg.det(np.linalg.inv(C)) #1x1\n",
    "    \n",
    "    frac = 1 / (2**(X.shape[1]/2) * np.sqrt(det)) #1x1 \n",
    "    \n",
    "    exp = np.exp((-1/2) * np.dot( np.dot((X-mu),np.linalg.inv(C)) , (X-mu).T)) #nxd dxd dxn = nxn \n",
    "    exp = np.diagonal(exp) #we only want diagonals, since only x_i should affect y_i\n",
    "    \n",
    "    y = frac * exp\n",
    "    \n",
    "    return y\n",
    "    "
   ]
  },
  {
   "cell_type": "code",
   "execution_count": 224,
   "metadata": {},
   "outputs": [
    {
     "name": "stdout",
     "output_type": "stream",
     "text": [
      "[[ 0 11]\n",
      " [10  1]\n",
      " [-5 50]]\n",
      "(3, 2)\n",
      "(3,)\n",
      "[[  58.33333333 -171.66666667]\n",
      " [-171.66666667  670.33333333]]\n",
      "0.00010380622837370248\n",
      "49.07477288111818\n"
     ]
    },
    {
     "ename": "ValueError",
     "evalue": "operands could not be broadcast together with shapes (3,2) (3,) ",
     "output_type": "error",
     "traceback": [
      "\u001b[1;31m---------------------------------------------------------------------------\u001b[0m",
      "\u001b[1;31mValueError\u001b[0m                                Traceback (most recent call last)",
      "\u001b[1;32m<ipython-input-224-50cebded021d>\u001b[0m in \u001b[0;36m<module>\u001b[1;34m\u001b[0m\n\u001b[0;32m     21\u001b[0m \u001b[0mprint\u001b[0m\u001b[1;33m(\u001b[0m\u001b[0mfrac\u001b[0m\u001b[1;33m)\u001b[0m\u001b[1;33m\u001b[0m\u001b[1;33m\u001b[0m\u001b[0m\n\u001b[0;32m     22\u001b[0m \u001b[1;33m\u001b[0m\u001b[0m\n\u001b[1;32m---> 23\u001b[1;33m \u001b[0mexp\u001b[0m \u001b[1;33m=\u001b[0m \u001b[0mnp\u001b[0m\u001b[1;33m.\u001b[0m\u001b[0mexp\u001b[0m\u001b[1;33m(\u001b[0m\u001b[1;33m(\u001b[0m\u001b[1;33m-\u001b[0m\u001b[1;36m1\u001b[0m\u001b[1;33m/\u001b[0m\u001b[1;36m2\u001b[0m\u001b[1;33m)\u001b[0m \u001b[1;33m*\u001b[0m \u001b[0mnp\u001b[0m\u001b[1;33m.\u001b[0m\u001b[0mdot\u001b[0m\u001b[1;33m(\u001b[0m \u001b[0mnp\u001b[0m\u001b[1;33m.\u001b[0m\u001b[0mdot\u001b[0m\u001b[1;33m(\u001b[0m\u001b[1;33m(\u001b[0m\u001b[0mX\u001b[0m\u001b[1;33m-\u001b[0m\u001b[0mmu\u001b[0m\u001b[1;33m)\u001b[0m\u001b[1;33m,\u001b[0m\u001b[0mnp\u001b[0m\u001b[1;33m.\u001b[0m\u001b[0mlinalg\u001b[0m\u001b[1;33m.\u001b[0m\u001b[0minv\u001b[0m\u001b[1;33m(\u001b[0m\u001b[0mC\u001b[0m\u001b[1;33m)\u001b[0m\u001b[1;33m)\u001b[0m \u001b[1;33m,\u001b[0m \u001b[1;33m(\u001b[0m\u001b[0mX\u001b[0m\u001b[1;33m-\u001b[0m\u001b[0mmu\u001b[0m\u001b[1;33m)\u001b[0m\u001b[1;33m.\u001b[0m\u001b[0mT\u001b[0m\u001b[1;33m)\u001b[0m\u001b[1;33m)\u001b[0m \u001b[1;31m#nxd dxd dxn = nxn --> check this with Jakob\u001b[0m\u001b[1;33m\u001b[0m\u001b[1;33m\u001b[0m\u001b[0m\n\u001b[0m\u001b[0;32m     24\u001b[0m \u001b[1;31m#the sheet2.pdf formula says to transpose the first (X-mu)\u001b[0m\u001b[1;33m\u001b[0m\u001b[1;33m\u001b[0m\u001b[1;33m\u001b[0m\u001b[0m\n\u001b[0;32m     25\u001b[0m \u001b[0mprint\u001b[0m\u001b[1;33m(\u001b[0m\u001b[0mexp\u001b[0m\u001b[1;33m)\u001b[0m\u001b[1;33m\u001b[0m\u001b[1;33m\u001b[0m\u001b[0m\n",
      "\u001b[1;31mValueError\u001b[0m: operands could not be broadcast together with shapes (3,2) (3,) "
     ]
    }
   ],
   "source": [
    "#DEV CELL\n",
    "\n",
    "#why does np.cov return nxn not dxd?? -->docs\n",
    "#\"A 1-D or 2-D array containing multiple variables and observations. \n",
    "#Each row of m represents a variable, and each column a single observation of all those variables. Also see rowvar below.\"\n",
    "# TL;DR ----->transpose data before handing it to np.cov\n",
    "\n",
    "X = np.array([[0,11],[10,1],[-5,50]])\n",
    "print(X)\n",
    "print(X.shape)\n",
    "\n",
    "C=np.cov(X.T) #dxd , transpose is to rectify weird np.cov function\n",
    "mu=np.mean(X,axis=1) #1xd\n",
    "print(mu.shape)\n",
    "print(C)\n",
    "\n",
    "det=np.linalg.det(np.linalg.inv(C))\n",
    "print(det)\n",
    "\n",
    "frac = 1 / (2**(X.shape[1]/2) * np.sqrt(det)) #1x1 \n",
    "print(frac)\n",
    "\n",
    "exp = np.exp((-1/2) * np.dot( np.dot((X-mu),np.linalg.inv(C)) , (X-mu).T)) #nxd dxd dxn = nxn --> check this with Jakob\n",
    "#the sheet2.pdf formula says to transpose the first (X-mu)\n",
    "print(exp)\n",
    "exp = np.diagonal(exp) #we only want diagonals, since only x_i should affect y_i\n",
    "\n",
    "print(exp.shape)\n",
    "\n",
    "\n",
    "y = frac * exp\n",
    "\n",
    "\n",
    "\n",
    "\n",
    "\n",
    "print(np.linalg.det(C))\n",
    "print(np.sqrt(np.linalg.det(C)))\n",
    "\n",
    "\n",
    "print(y)"
   ]
  },
  {
   "cell_type": "code",
   "execution_count": 225,
   "metadata": {},
   "outputs": [
    {
     "name": "stdout",
     "output_type": "stream",
     "text": [
      "[10.22654216 10.22654216 10.22654216]\n"
     ]
    }
   ],
   "source": [
    "X = np.array([[7,11],[10,1],[-5,5]])\n",
    "\n",
    "y=norm_pdf(X,np.mean(X,axis=0),np.cov(X.T))\n",
    "\n",
    "print(y)"
   ]
  },
  {
   "cell_type": "code",
   "execution_count": 226,
   "metadata": {},
   "outputs": [],
   "source": [
    "#DEV 2 CELL: VAR METHOD ---> WORKS \n",
    "#not 100% accurate (see comparison below), but pretty good.\n",
    "def norm_pdf(X, mu, C):\n",
    "    \"\"\"\n",
    "    This function computes the probability density function when given a multivariate gaussian distribution as an input.\n",
    "    \n",
    "    Input:\n",
    "    X=data (nxd)\n",
    "    mu=centre of Gaussian distribution (1xd)\n",
    "    C=covariance matrix (nxn) , np.cov(X.T)\n",
    "    \n",
    "    Output:\n",
    "    y=probability density function (nx1)\n",
    "    \"\"\"\n",
    "\n",
    "    var=np.diagonal(C) #trace of cov matrix is var\n",
    "    \n",
    "    det=np.linalg.det(C)\n",
    "    \n",
    "    frac = 1 / ((np.power((2*np.pi),(X.shape[1]/2)))*np.sqrt(det))\n",
    "    \n",
    "    exp = np.exp( (-1/2) *  (np.dot((np.square(X-mu)), 1/(var))) )\n",
    "\n",
    "    y = frac*exp\n",
    "\n",
    "    return y"
   ]
  },
  {
   "cell_type": "code",
   "execution_count": 227,
   "metadata": {},
   "outputs": [
    {
     "name": "stdout",
     "output_type": "stream",
     "text": [
      "28525.837500000012\n",
      "(2,)\n",
      "[0.24059709 0.74737907 0.79544001 0.79154369 0.1617739 ]\n",
      "[0.00022672 0.00070427 0.00074956 0.00074589 0.00015244]\n"
     ]
    }
   ],
   "source": [
    "X = np.array([[7,11],[10,1],[-5,5],[1,2],[99,1]])\n",
    "mu = np.mean(X,axis=0)\n",
    "C = np.cov(X.T)\n",
    "\n",
    "var=np.diagonal(C) #trace of cov matrix is var\n",
    "    \n",
    "det=np.linalg.det(C)\n",
    "\n",
    "print(det)\n",
    "\n",
    "\n",
    "frac = 1 / (((2*np.pi)**(X.shape[1]/2))*np.sqrt(det))\n",
    "\n",
    "exp = np.exp( (-1/2) *  (np.dot(((X-mu)**2), 1/(var))) )\n",
    "\n",
    "print(np.diagonal(C).shape)\n",
    "#print(np.dot(((X-mu.reshape(1,mu.shape[0]))**2),(1/2*np.diagonal(C))))\n",
    "print(exp)\n",
    "\n",
    "print(frac*exp)"
   ]
  },
  {
   "cell_type": "code",
   "execution_count": 228,
   "metadata": {},
   "outputs": [
    {
     "name": "stdout",
     "output_type": "stream",
     "text": [
      "Our output\n",
      "[0.00022672 0.00070427 0.00074956 0.00074589 0.00015244]\n",
      "Correct output\n",
      "[0.00023031 0.00060937 0.00077062 0.00064296 0.0001957 ]\n",
      "(10, 2)\n",
      "Correct output\n",
      "[0.00970558 0.01602077 0.00982328 0.00977784 0.0134664  0.01508864\n",
      " 0.0030866  0.00871177 0.00366591 0.00223946]\n",
      "Our output\n",
      "[0.00771902 0.01650381 0.00912485 0.00802926 0.01188255 0.01434514\n",
      " 0.00533104 0.01164806 0.0064915  0.00104459]\n"
     ]
    }
   ],
   "source": [
    "import matplotlib.pyplot as plt\n",
    "from scipy.stats import multivariate_normal\n",
    "\n",
    "y=norm_pdf(X,mu,C)\n",
    "print(\"Our output\")\n",
    "print(y) \n",
    "\n",
    "y = multivariate_normal.pdf(X, np.mean(X,axis=0), np.cov(X.T))\n",
    "print(\"Correct output\")\n",
    "print(y)\n",
    "\n",
    "X=np.array([[0,0],[1,3],[4,6],[-1,1],[0.5,1],[0.5,2],[1,7],[5,1],[7,1],[9,7]])\n",
    "print(X.shape)\n",
    "\n",
    "y = multivariate_normal.pdf(X, np.mean(X,axis=0), np.cov(X.T))\n",
    "print(\"Correct output\")\n",
    "print(y)\n",
    "\n",
    "z = norm_pdf(X,np.mean(X,axis=0),np.cov(X.T))\n",
    "print(\"Our output\")\n",
    "print(z)"
   ]
  },
  {
   "cell_type": "code",
   "execution_count": 229,
   "metadata": {},
   "outputs": [],
   "source": [
    "#ASSIGNMENT 5"
   ]
  },
  {
   "cell_type": "code",
   "execution_count": 473,
   "metadata": {},
   "outputs": [
    {
     "name": "stdout",
     "output_type": "stream",
     "text": [
      "(9, 2)\n"
     ]
    },
    {
     "data": {
      "text/plain": [
       "<matplotlib.collections.PathCollection at 0x2182f4039b0>"
      ]
     },
     "execution_count": 473,
     "metadata": {},
     "output_type": "execute_result"
    },
    {
     "data": {
      "image/png": "[encoded data removed]",
      "text/plain": [
       "<Figure size 432x288 with 1 Axes>"
      ]
     },
     "metadata": {
      "needs_background": "light"
     },
     "output_type": "display_data"
    }
   ],
   "source": [
    "#from test.py\n",
    "X = np.array([[0., 1., 1., 10., 10.25, 11., 10., 10.25, 11.],\n",
    "            [0., 0., 1.,  0.,   0.5,  0.,  5.,   5.5,  5.]]).T\n",
    "print(X.shape)\n",
    "perfect_r = [1,0,1,2,2,1,2,2,2]\n",
    "\n",
    "plt.scatter(X.T[0],X.T[1]) #this shows the clusters, for inspection checking EMM algorithm"
   ]
  },
  {
   "cell_type": "code",
   "execution_count": 491,
   "metadata": {},
   "outputs": [
    {
     "name": "stdout",
     "output_type": "stream",
     "text": [
      "Iteration Number:\n",
      " 1\n",
      "New likelihoods\n",
      " [[6.13132402e-02 8.85182042e-28 1.66666667e-01]\n",
      " [1.01088443e-01 3.21458308e-23 1.01088443e-01]\n",
      " [1.66666667e-01 1.94974320e-23 6.13132402e-02]\n",
      " [2.60480365e-19 1.01088443e-01 3.21458308e-23]\n",
      " [3.87169498e-20 1.11023935e-01 2.25699157e-24]\n",
      " [1.94974320e-23 1.66666667e-01 8.85182042e-28]\n",
      " [1.44067619e-22 3.76721568e-07 1.19796362e-28]\n",
      " [1.75774680e-24 3.39624794e-08 6.90418959e-31]\n",
      " [1.07837249e-26 6.21108862e-07 3.29876646e-33]]\n",
      "Responsibilities:\n",
      " [[2.68941421e-01 3.88271955e-27 7.31058579e-01]\n",
      " [5.00000000e-01 1.58998545e-22 5.00000000e-01]\n",
      " [7.31058579e-01 8.55225894e-23 2.68941421e-01]\n",
      " [2.57675711e-18 1.00000000e+00 3.17997090e-22]\n",
      " [3.48726153e-19 1.00000000e+00 2.03288738e-23]\n",
      " [1.16984592e-22 1.00000000e+00 5.31109225e-27]\n",
      " [3.82424663e-16 1.00000000e+00 3.17997090e-22]\n",
      " [5.17555501e-17 1.00000000e+00 2.03288738e-23]\n",
      " [1.73620528e-20 1.00000000e+00 5.31109225e-27]]\n",
      "Sigma\n",
      " [[[ 0.14714784  0.08738308]\n",
      "  [ 0.08738308  0.24984054]]\n",
      "\n",
      " [[ 0.18055556 -0.02777778]\n",
      "  [-0.02777778  6.30555556]]\n",
      "\n",
      " [[ 0.24984054  0.08738308]\n",
      "  [ 0.08738308  0.14714784]]]\n",
      "Reg_sigma\n",
      " [[[ 0.14715784  0.08738308]\n",
      "  [ 0.08738308  0.24985054]]\n",
      "\n",
      " [[ 0.18056556 -0.02777778]\n",
      "  [-0.02777778  6.30556556]]\n",
      "\n",
      " [[ 0.24985054  0.08738308]\n",
      "  [ 0.08738308  0.14715784]]]\n",
      "loglik\n",
      " -57.1186646674561\n",
      "Iteration Number:\n",
      " 2\n",
      "New likelihoods\n",
      " [[1.44242826e-003 2.70976274e-132 8.40641664e-003]\n",
      " [5.23294294e-003 2.13230078e-108 5.23294294e-003]\n",
      " [8.40641664e-003 3.78460577e-108 1.44242826e-003]\n",
      " [1.38361792e-165 1.21660770e-001 1.39230495e-103]\n",
      " [5.25266646e-168 2.24843386e-001 1.05719772e-102]\n",
      " [2.83778832e-202 8.18193545e-002 9.99071785e-126]\n",
      " [7.14221843e-128 1.46108048e-001 5.24267192e-085]\n",
      " [3.77581710e-134 1.76135363e-001 8.24963833e-092]\n",
      " [4.77888311e-158 8.69693109e-002 1.22728230e-100]]\n",
      "Responsibilities:\n",
      " [[1.46456592e-001 2.75135081e-130 8.53543408e-001]\n",
      " [5.00000000e-001 2.03738203e-106 5.00000000e-001]\n",
      " [8.53543408e-001 3.84268999e-106 1.46456592e-001]\n",
      " [1.13727533e-164 1.00000000e+000 1.14441570e-102]\n",
      " [2.33614453e-167 1.00000000e+000 4.70192939e-102]\n",
      " [3.46835823e-201 1.00000000e+000 1.22107024e-124]\n",
      " [4.88831281e-127 1.00000000e+000 3.58821570e-084]\n",
      " [2.14370189e-133 1.00000000e+000 4.68369224e-091]\n",
      " [5.49490742e-157 1.00000000e+000 1.41116709e-099]]\n",
      "Sigma\n",
      " [[[ 0.0881046   0.05555869]\n",
      "  [ 0.05555869  0.24523501]]\n",
      "\n",
      " [[ 0.18055556 -0.02777778]\n",
      "  [-0.02777778  6.30555556]]\n",
      "\n",
      " [[ 0.24523501  0.05555869]\n",
      "  [ 0.05555869  0.0881046 ]]]\n",
      "Reg_sigma\n",
      " [[[ 0.0881146   0.05555869]\n",
      "  [ 0.05555869  0.24524501]]\n",
      "\n",
      " [[ 0.18056556 -0.02777778]\n",
      "  [-0.02777778  6.30556556]]\n",
      "\n",
      " [[ 0.24524501  0.05555869]\n",
      "  [ 0.05555869  0.0881146 ]]]\n",
      "loglik\n",
      " -26.004659110008898\n",
      "Iteration Number:\n",
      " 3\n",
      "New likelihoods\n",
      " [[1.11696264e-004 2.70976274e-132 7.76635032e-003]\n",
      " [4.17270631e-003 2.13230078e-108 4.17270631e-003]\n",
      " [7.76635032e-003 3.78460577e-108 1.11696264e-004]\n",
      " [1.04048873e-247 1.21660770e-001 1.67392019e-098]\n",
      " [9.81851830e-255 2.24843386e-001 1.38796281e-097]\n",
      " [1.22629764e-303 8.18193545e-002 1.96911463e-119]\n",
      " [2.11725059e-208 1.46108048e-001 3.02010415e-105]\n",
      " [5.80732191e-219 1.76135363e-001 4.48457251e-117]\n",
      " [8.13533847e-258 8.69693109e-002 1.15825191e-119]]\n",
      "Responsibilities:\n",
      " [[1.41781676e-002 3.43963787e-130 9.85821832e-001]\n",
      " [5.00000000e-001 2.55505735e-106 5.00000000e-001]\n",
      " [9.85821832e-001 4.80399009e-106 1.41781676e-002]\n",
      " [8.55237668e-247 1.00000000e+000 1.37589149e-097]\n",
      " [4.36682549e-254 1.00000000e+000 6.17302039e-097]\n",
      " [1.49878675e-302 1.00000000e+000 2.40666117e-118]\n",
      " [1.44909922e-207 1.00000000e+000 2.06703477e-104]\n",
      " [3.29707891e-218 1.00000000e+000 2.54609434e-116]\n",
      " [9.35426347e-257 1.00000000e+000 1.33179383e-118]]\n",
      "Sigma\n",
      " [[[ 9.36276929e-03  6.21206539e-03]\n",
      "  [ 6.21206539e-03  2.25283584e-01]]\n",
      "\n",
      " [[ 1.80555556e-01 -2.77777778e-02]\n",
      "  [-2.77777778e-02  6.30555556e+00]]\n",
      "\n",
      " [[ 2.25283584e-01  6.21206539e-03]\n",
      "  [ 6.21206539e-03  9.36276929e-03]]]\n",
      "Reg_sigma\n",
      " [[[ 9.37276929e-03  6.21206539e-03]\n",
      "  [ 6.21206539e-03  2.25293584e-01]]\n",
      "\n",
      " [[ 1.80565556e-01 -2.77777778e-02]\n",
      "  [-2.77777778e-02  6.30556556e+00]]\n",
      "\n",
      " [[ 2.25293584e-01  6.21206539e-03]\n",
      "  [ 6.21206539e-03  9.37276929e-03]]]\n",
      "loglik\n",
      " -26.677616517792675\n",
      "Likelihoods\n",
      " [[1.11696264e-004 2.70976274e-132 7.76635032e-003]\n",
      " [4.17270631e-003 2.13230078e-108 4.17270631e-003]\n",
      " [7.76635032e-003 3.78460577e-108 1.11696264e-004]\n",
      " [1.04048873e-247 1.21660770e-001 1.67392019e-098]\n",
      " [9.81851830e-255 2.24843386e-001 1.38796281e-097]\n",
      " [1.22629764e-303 8.18193545e-002 1.96911463e-119]\n",
      " [2.11725059e-208 1.46108048e-001 3.02010415e-105]\n",
      " [5.80732191e-219 1.76135363e-001 4.48457251e-117]\n",
      " [8.13533847e-258 8.69693109e-002 1.15825191e-119]]\n",
      "Loglik\n",
      " [[  -9.0997273  -302.94437119   -4.85795494]\n",
      " [  -5.47919046 -247.92198847   -5.47919046]\n",
      " [  -4.85795494 -247.34824832   -9.0997273 ]\n",
      " [-568.69882743   -2.10651868 -225.13817082]\n",
      " [-584.87492849   -1.49235118 -223.02291696]\n",
      " [-697.4792836    -2.50324146 -273.33004205]\n",
      " [-478.18758099   -1.92340888 -240.66614345]\n",
      " [-502.50701585   -1.73650247 -267.90181271]\n",
      " [-591.97073665   -2.44219997 -273.86071417]]\n",
      "[array([[0.00937277, 0.00621207],\n",
      "       [0.00621207, 0.22529358]]), array([[ 0.18056556, -0.02777778],\n",
      "       [-0.02777778,  6.30556556]]), array([[0.22529358, 0.00621207],\n",
      "       [0.00621207, 0.00937277]])]\n"
     ]
    }
   ],
   "source": [
    "#EMM ALGORITHM DEV CELL\n",
    "k=3\n",
    "max_iter=10\n",
    "init_kmeans=False\n",
    "tol=0.00001\n",
    "converge_tol=0.00001\n",
    "\n",
    "\n",
    "#1. INITIALISATIONS\n",
    "pi = np.full(shape=(k,1), fill_value=1/k) #kx1\n",
    "rand_samples = np.random.choice(X.shape[0], size=(k,), replace=False) #choose k random data points\n",
    "mu = X[rand_samples] #centroid initialisation as random points, kxd\n",
    "sigma = [np.eye(X.shape[1]) for i in range(k)] #dxd\n",
    "likelihoods = np.zeros(shape=(X.shape[0],k)) #nxk\n",
    "\n",
    "converged = False\n",
    "iteration = 1\n",
    "while (not converged) & (iteration <= max_iter):\n",
    "    \n",
    "    print('Iteration Number:\\n',iteration)\n",
    "    \n",
    "    #2. E-STEP - compute new likelihoods and responsibilities\n",
    "    old_likelihoods = copy.deepcopy(likelihoods)\n",
    "    #print('Old likelihoods\\n', old_likelihoods)\n",
    "    #2.1 first find all k likelihoods\n",
    "    for i in range(k):\n",
    "        #nx1                             1x1 X nx1  = nx1 \n",
    "        likelihood = (pi[i] * norm_pdf(X,mu[i],sigma[i])) #norm_pdf written to handle mu=(1xd) only\n",
    "        likelihoods.T[i]=likelihood\n",
    "        #print(likelihood)\n",
    "    print('New likelihoods\\n',likelihoods)\n",
    "    #print(\"Old Likelihoods\\n\",old_likelihoods)\n",
    "    \n",
    "    #2.2 use likelihoods to calculate individual k responsibilities\n",
    "        #nxk            nxk              nx1\n",
    "    responsibilities = likelihoods / np.sum(likelihoods, axis=1).reshape(likelihoods.shape[0],1)\n",
    "    print('Responsibilities:\\n',responsibilities)\n",
    "    \n",
    "    #3. M-STEP - compute new n,pi,mu,sigma\n",
    "    #1xk\n",
    "    n = np.sum(responsibilities,axis=0)\n",
    "    #print('n\\n',n)\n",
    "    #1xk\n",
    "    pi = n / np.sum(n,axis=0)\n",
    "    #print('pi\\n',pi)\n",
    "    #kxd                    (nxkx0)x(nx0xd)=nxkxd --> kxd / kx1\n",
    "    mu = np.sum(responsibilities[:,:,None]*X[:,None,:],axis=0)/n.reshape(n.shape[0],1)\n",
    "    #print('mu\\n',mu)\n",
    "    #return sigma as list of k dxd matrices\n",
    "    #kxdxd         =  sum ((nxkx0x0)     x    (nxkxdx0)x(nxkx0xd)) = nxkxdxd-->kxdxd/kx0x0\n",
    "    sigma = np.sum(responsibilities[:,:,None,None]*(X[:,None,:,None]-mu[None,:,:,None])*(X[:,None,None,:]-mu[None,:,None,:]),axis=0) / n[:,None,None]\n",
    "                                                #   (nx0xdx0-nxkx0x0)-->(nxkxdx0)\n",
    "    print('Sigma\\n',sigma)\n",
    "    #add regularisation term, tol    \n",
    "    sigma = sigma + tol*np.eye(X.shape[1])\n",
    "    print('Reg_sigma\\n',sigma)\n",
    "    \n",
    "    #CALC LOGLIK\n",
    "    loglik = np.log(np.sum(likelihoods,axis=1)).sum()\n",
    "    print('loglik\\n',loglik)\n",
    "    \n",
    "    \n",
    "    #print('sigma\\n',sigma)\n",
    "    \n",
    "    #break condition\n",
    "    if np.abs(old_likelihoods-likelihoods).all()<converge_tol:\n",
    "        converged=True\n",
    "\n",
    "    iteration=iteration+1\n",
    "                          \n",
    "    #print(old_likelihoods)\n",
    "\n",
    "#return as a list of covariances    \n",
    "list_sigma=[sigma[i,:,:] for i in range(k)]\n",
    "\n",
    "print('Likelihoods\\n',likelihoods)\n",
    "\n",
    "print('Loglik\\n',np.log(likelihoods))\n",
    "\n",
    "print(list_sigma)\n",
    "                       "
   ]
  },
  {
   "cell_type": "code",
   "execution_count": 554,
   "metadata": {},
   "outputs": [],
   "source": [
    "def em_gmm(X, k, max_iter=100, init_kmeans=False, tol=0.00001,converge_tol=0.0001):\n",
    "    \"\"\"\n",
    "    This function applies the EM algorithm for Gaussian Mixture Models. \n",
    "    \n",
    "    Inputs:\n",
    "    X = data (nxd)\n",
    "    k = number of gaussian components\n",
    "    max_iter = the maximum amount of iterations attempted to find convergence\n",
    "    init_kmeans = Initialises the EM algorithm using kmeans function, if True. Default is False.\n",
    "    tol = The tolerance set for the convergence condition\n",
    "    converge_tol = Tolerance for the convergence condition (optional)\n",
    "    \n",
    "    Outputs:\n",
    "    pi = probability that a datapoint belongs to a cluster (1xk)\n",
    "    mu = center points of clusters (kxd)\n",
    "    sigma = list of k dxd covariance matrices\n",
    "    loglik = the loglikehlihood at each iteration\n",
    "    \"\"\"\n",
    "    \n",
    "    if init_kmeans==True:\n",
    "        #1.a INIT_KMEANS\n",
    "        mu, r, _ = kmeans(X,k)\n",
    "        unique, counts = np.unique(r, return_counts=True)\n",
    "        pi = counts/np.sum(counts)\n",
    "        \n",
    "    else:\n",
    "        #1.b RANDOM INITIALISATIONS\n",
    "        pi = np.full(shape=(k,1), fill_value=1/k) #kx1\n",
    "        rand_samples = np.random.choice(X.shape[0], size=(k,), replace=False) #choose k random data points\n",
    "        mu = X[rand_samples] #centroid initialisation as random points, kxd\n",
    "    \n",
    "    \n",
    "    #setup storage and loop\n",
    "    sigma = [np.eye(X.shape[1]) for i in range(k)] #dxd\n",
    "    likelihoods = np.zeros(shape=(X.shape[0],k),dtype=float) #nxk\n",
    "    converged = False\n",
    "    iteration = 1\n",
    "    while (not converged) & (iteration <= max_iter):\n",
    "    \n",
    "        print('Iteration Number:\\n',iteration)\n",
    "    \n",
    "        #2. E-STEP - compute new likelihoods and responsibilities\n",
    "        old_likelihoods = copy.deepcopy(likelihoods)\n",
    "        #print('Old likelihoods\\n', old_likelihoods)\n",
    "        \n",
    "        #2.1 first find all k likelihoods\n",
    "        for i in range(k):\n",
    "            #nx1                             1x1 X nx1  = nx1 \n",
    "            likelihood = (pi[i] * norm_pdf(X,mu[i],sigma[i])) #norm_pdf written to handle mu=(1xd) only\n",
    "            likelihoods.T[i]=likelihood\n",
    "        \n",
    "        #CALC LOGLIK\n",
    "        loglik = np.log(np.sum(likelihoods,axis=1)).sum()\n",
    "        print('Loglikelihood\\n',loglik)\n",
    "    \n",
    "        #2.2 use likelihoods to calculate individual k responsibilities\n",
    "            #nxk            nxk              nx1\n",
    "        responsibilities = likelihoods / np.sum(likelihoods, axis=1).reshape(likelihoods.shape[0],1)\n",
    "    \n",
    "        #3. M-STEP - compute new n,pi,mu,sigma\n",
    "        #1xk\n",
    "        n = np.sum(responsibilities,axis=0)\n",
    "        #1xk\n",
    "        pi = n / np.sum(n,axis=0)\n",
    "        #kxd                    (nxkx0)x(nx0xd)=nxkxd --> kxd / kx1\n",
    "        mu = np.sum(responsibilities[:,:,None]*X[:,None,:],axis=0)/n.reshape(n.shape[0],1)\n",
    "        #kxdxd         =  sum ((nxkx0x0)     x    (nxkxdx0)x(nxkx0xd)) = nxkxdxd-->kxdxd/kx0x0\n",
    "        sigma = np.sum(responsibilities[:,:,None,None]*(X[:,None,:,None]-mu[None,:,:,None])*(X[:,None,None,:]-mu[None,:,None,:]),axis=0) / n[:,None,None]\n",
    "                                                    #   (nx0xdx0-nxkx0x0)-->(nxkxdx0)\n",
    "        #add regularisation term, tol    \n",
    "        sigma = sigma + tol*np.eye(X.shape[1])\n",
    "    \n",
    "        #break condition - only runs from second iteration to prevent log of old_likelihoods, which is 0 in iteration 1\n",
    "        if iteration>1:\n",
    "            if (np.log(np.sum(old_likelihoods,axis=1)).sum()-loglik).all()<converge_tol:\n",
    "                converged=True\n",
    "\n",
    "        iteration=iteration+1\n",
    "        \n",
    "    #return as a list of covariances    \n",
    "    list_sigma=[sigma[i,:,:] for i in range(k)]\n",
    "    return pi, mu, list_sigma, loglik"
   ]
  },
  {
   "cell_type": "code",
   "execution_count": 555,
   "metadata": {},
   "outputs": [
    {
     "name": "stdout",
     "output_type": "stream",
     "text": [
      "(9, 2)\n"
     ]
    },
    {
     "data": {
      "text/plain": [
       "<matplotlib.collections.PathCollection at 0x21830fb6f28>"
      ]
     },
     "execution_count": 555,
     "metadata": {},
     "output_type": "execute_result"
    },
    {
     "data": {
      "image/png": "[encoded data removed]",
      "text/plain": [
       "<Figure size 432x288 with 1 Axes>"
      ]
     },
     "metadata": {
      "needs_background": "light"
     },
     "output_type": "display_data"
    }
   ],
   "source": [
    "#from test.py\n",
    "X = np.array([[0., 1., 1., 10., 10.25, 11., 10., 10.25, 11.],\n",
    "            [0., 0., 1.,  0.,   0.5,  0.,  5.,   5.5,  5.]]).T\n",
    "print(X.shape)\n",
    "perfect_r = [1,0,1,2,2,1,2,2,2]\n",
    "\n",
    "plt.scatter(X.T[0],X.T[1]) #this shows the clusters, for inspection checking EMM algorithm"
   ]
  },
  {
   "cell_type": "code",
   "execution_count": 556,
   "metadata": {},
   "outputs": [
    {
     "name": "stdout",
     "output_type": "stream",
     "text": [
      "Iteration Number:\n",
      " 1\n",
      "Loglikelihood\n",
      " -18.594570552815426\n",
      "Iteration Number:\n",
      " 2\n",
      "Loglikelihood\n",
      " -44.10745421109303\n",
      "Iteration Number:\n",
      " 3\n",
      "Loglikelihood\n",
      " -44.114094419059356\n",
      "Iteration Number:\n",
      " 4\n",
      "Loglikelihood\n",
      " -44.114094419059356\n"
     ]
    }
   ],
   "source": [
    "pi, mu, sigma, loglik = em_gmm(X,k=3,tol=0.00001)"
   ]
  },
  {
   "cell_type": "code",
   "execution_count": 557,
   "metadata": {},
   "outputs": [
    {
     "data": {
      "text/plain": [
       "array([[10.41666667,  5.16666667],\n",
       "       [ 0.66666667,  0.33333333],\n",
       "       [10.41666667,  0.16666667]])"
      ]
     },
     "execution_count": 557,
     "metadata": {},
     "output_type": "execute_result"
    }
   ],
   "source": [
    "mu"
   ]
  },
  {
   "cell_type": "code",
   "execution_count": 558,
   "metadata": {},
   "outputs": [
    {
     "data": {
      "image/png": "[encoded data removed]",
      "text/plain": [
       "<Figure size 720x720 with 1 Axes>"
      ]
     },
     "metadata": {
      "needs_background": "light"
     },
     "output_type": "display_data"
    }
   ],
   "source": [
    "import scipy as sp\n",
    "\n",
    "#ASSIGNMENT 6 GMM PLOT\n",
    "plt.figure(figsize=(10,10))\n",
    "plt.scatter(X.T[0],X.T[1],s=20)\n",
    "plt.title('GMM solution found by EM algorithm')\n",
    "plt.ylabel('X2')\n",
    "plt.xlabel('X1')\n",
    "plt.grid(True)\n",
    "\n",
    "\n",
    "#draw ellipse\n",
    "for i,sig in enumerate(sigma):\n",
    "    tline = np.linspace(0, 2 * np.pi, 100)\n",
    "    sphere = np.vstack((np.sin([tline]), np.cos([tline])))\n",
    "    ellipse = sp.linalg.sqrtm(sig).dot(sphere)\n",
    "    plt.plot(mu[i][0] + ellipse[0, :], mu[i][1] + ellipse[1, :],linewidth=4)\n",
    "    #plot centre points\n",
    "    plt.scatter(mu[i][0],mu[i][1],c='r',marker='x')"
   ]
  },
  {
   "cell_type": "code",
   "execution_count": 559,
   "metadata": {},
   "outputs": [],
   "source": [
    "#ASSIGNMENT 6 GMM PLOT ---> NEEDS SCIPY.LINALG.SQRTM\n",
    "def plot_gmm_solution(X,mu,sigma):\n",
    "    \"\"\"\n",
    "    This function plots the different gaussians found by the EM algorithm as ellipses centred around the distributions' means.\n",
    "    \n",
    "    Input:\n",
    "    X=data (nxd)\n",
    "    mu=distribution centres (kxd)\n",
    "    sigma=list of k dxd covariance matrices\n",
    "    \n",
    "    \"\"\"\n",
    "    #plot data points and setup plot parameters\n",
    "    plt.figure(figsize=(10,10))\n",
    "    plt.scatter(X.T[0],X.T[1],s=20)\n",
    "    plt.title('GMM solution found by EM algorithm')\n",
    "    plt.ylabel('X2')\n",
    "    plt.xlabel('X1')\n",
    "    plt.grid(True)\n",
    "\n",
    "\n",
    "    #draw ellipse\n",
    "    for i,sig in enumerate(sigma):\n",
    "        tline = np.linspace(0, 2 * np.pi, 100)\n",
    "        sphere = np.vstack((np.sin([tline]), np.cos([tline])))\n",
    "        ellipse = sp.linalg.sqrtm(sig).dot(sphere)\n",
    "        plt.plot(mu[i][0] + ellipse[0, :], mu[i][1] + ellipse[1, :],linewidth=4)\n",
    "        #plot centre points\n",
    "        plt.scatter(mu[i][0],mu[i][1],c='r',marker='x')"
   ]
  },
  {
   "cell_type": "code",
   "execution_count": 560,
   "metadata": {},
   "outputs": [
    {
     "data": {
      "image/png": "[encoded data removed]",
      "text/plain": [
       "<Figure size 720x720 with 1 Axes>"
      ]
     },
     "metadata": {
      "needs_background": "light"
     },
     "output_type": "display_data"
    }
   ],
   "source": [
    "plot_gmm_solution(X,mu,sigma)"
   ]
  },
  {
   "cell_type": "code",
   "execution_count": 361,
   "metadata": {},
   "outputs": [],
   "source": [
    "#now 100% accurate\n",
    "def norm_pdf(X, mu, C):\n",
    "    \"\"\"\n",
    "    This function computes the probability density function when given a multivariate gaussian distribution as an input.\n",
    "    \n",
    "    Input:\n",
    "    X=data (nxd)\n",
    "    mu=centre of Gaussian distribution (1xd)\n",
    "    C=covariance matrix (nxn) , np.cov(X.T)\n",
    "    \n",
    "    Output:\n",
    "    y=probability density function (nx1)\n",
    "\n",
    "    \"\"\"\n",
    "    \n",
    "    B = np.linalg.solve(C,(X-mu).T).T\n",
    "\n",
    "    D = np.einsum('ji,ij->i',(X-mu).T,B)\n",
    "\n",
    "    y = np.exp(-0.5*D) / (np.power((2*np.pi),X.shape[1]/2)*(np.linalg.det(C)**0.5))\n",
    "\n",
    "    return y"
   ]
  },
  {
   "cell_type": "code",
   "execution_count": 362,
   "metadata": {},
   "outputs": [],
   "source": [
    "X = np.array([[7,11],[10,1],[-5,5],[1,2],[99,1]])\n",
    "mu = np.mean(X,axis=0)\n",
    "C = np.cov(X.T)\n",
    "\n",
    "#inv = np.linalg.solve(C, (X - mu).T).T\n",
    "\n",
    "#nxd\n",
    "B = np.linalg.solve(C,(X-mu).T).T\n",
    "\n",
    "D = np.einsum('ji,ij->i',(X-mu).T,B)\n",
    "\n",
    "E = np.dot(B,(X-mu).T)\n",
    "\n",
    "F = np.diag(E)\n",
    "\n",
    "#E = (X-mu).T*np.linalg.solve(C,X-mu)\n",
    "\n",
    "#print(np.sqrt(np.linalg.det(C)))\n",
    "\n",
    "#print(np.linalg.det(C))\n",
    "\n",
    "#denom = (np.power((2*np.pi),X.shape[1]/2)*(np.linalg.det(C)**0.5))\n",
    "\n",
    "y = np.exp(-0.5*F) / (np.power((2*np.pi),X.shape[1]/2)*(np.linalg.det(C)**0.5))"
   ]
  },
  {
   "cell_type": "code",
   "execution_count": 363,
   "metadata": {},
   "outputs": [
    {
     "name": "stdout",
     "output_type": "stream",
     "text": [
      "Our output\n",
      "[0.00023031 0.00060937 0.00077062 0.00064296 0.0001957 ]\n",
      "Correct output\n",
      "[0.00023031 0.00060937 0.00077062 0.00064296 0.0001957 ]\n",
      "(10, 2)\n",
      "Correct output\n",
      "[0.00970558 0.01602077 0.00982328 0.00977784 0.0134664  0.01508864\n",
      " 0.0030866  0.00871177 0.00366591 0.00223946]\n",
      "Our output\n",
      "[0.00970558 0.01602077 0.00982328 0.00977784 0.0134664  0.01508864\n",
      " 0.0030866  0.00871177 0.00366591 0.00223946]\n"
     ]
    }
   ],
   "source": [
    "X = np.array([[7,11],[10,1],[-5,5],[1,2],[99,1]])\n",
    "mu = np.mean(X,axis=0)\n",
    "C = np.cov(X.T)\n",
    "\n",
    "import matplotlib.pyplot as plt\n",
    "from scipy.stats import multivariate_normal\n",
    "\n",
    "y=norm_pdf(X,mu,C)\n",
    "print(\"Our output\")\n",
    "print(y) \n",
    "\n",
    "y = multivariate_normal.pdf(X, mu, C)\n",
    "print(\"Correct output\")\n",
    "print(y)\n",
    "\n",
    "X=np.array([[0,0],[1,3],[4,6],[-1,1],[0.5,1],[0.5,2],[1,7],[5,1],[7,1],[9,7]])\n",
    "print(X.shape)\n",
    "\n",
    "y = multivariate_normal.pdf(X, np.mean(X,axis=0), np.cov(X.T))\n",
    "print(\"Correct output\")\n",
    "print(y)\n",
    "\n",
    "z = norm_pdf(X,np.mean(X,axis=0),np.cov(X.T))\n",
    "print(\"Our output\")\n",
    "print(z)"
   ]
  },
  {
   "cell_type": "code",
   "execution_count": null,
   "metadata": {},
   "outputs": [],
   "source": [
    "#ASSIGNMENT 8\n"
   ]
  }
 ],
 "metadata": {
  "kernelspec": {
   "display_name": "Python 3",
   "language": "python",
   "name": "python3"
  },
  "language_info": {
   "codemirror_mode": {
    "name": "ipython",
    "version": 3
   },
   "file_extension": ".py",
   "mimetype": "text/x-python",
   "name": "python",
   "nbconvert_exporter": "python",
   "pygments_lexer": "ipython3",
   "version": "3.7.3"
  }
 },
 "nbformat": 4,
 "nbformat_minor": 2
}
