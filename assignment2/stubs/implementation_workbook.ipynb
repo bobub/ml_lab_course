{
 "cells": [
  {
   "cell_type": "code",
   "execution_count": 1,
   "metadata": {},
   "outputs": [],
   "source": [
    "import numpy as np\n",
    "from matplotlib import pyplot as plt"
   ]
  },
  {
   "cell_type": "code",
   "execution_count": 2,
   "metadata": {
    "scrolled": true
   },
   "outputs": [
    {
     "name": "stdout",
     "output_type": "stream",
     "text": [
      "shape (3,)\n",
      "[0. 1. 0.]\n",
      "[0. 0. 0.]\n",
      "shape (3,)\n",
      "[0. 1. 0.]\n",
      "[0. 0. 0.]\n",
      "shape (3,)\n",
      "[5.65685425 2.23606798 0.        ]\n",
      "[0. 0. 2.]\n"
     ]
    },
    {
     "ename": "ValueError",
     "evalue": "operands could not be broadcast together with shapes (1,3) (2,) ",
     "output_type": "error",
     "traceback": [
      "\u001b[1;31m---------------------------------------------------------------------------\u001b[0m",
      "\u001b[1;31mValueError\u001b[0m                                Traceback (most recent call last)",
      "\u001b[1;32m<ipython-input-2-0a9020630375>\u001b[0m in \u001b[0;36m<module>\u001b[1;34m\u001b[0m\n\u001b[0;32m     35\u001b[0m \u001b[1;33m\u001b[0m\u001b[0m\n\u001b[0;32m     36\u001b[0m     \u001b[1;31m#calc loss\u001b[0m\u001b[1;33m\u001b[0m\u001b[1;33m\u001b[0m\u001b[1;33m\u001b[0m\u001b[0m\n\u001b[1;32m---> 37\u001b[1;33m     \u001b[0mloss\u001b[0m\u001b[1;33m=\u001b[0m\u001b[0mnp\u001b[0m\u001b[1;33m.\u001b[0m\u001b[0msum\u001b[0m\u001b[1;33m(\u001b[0m\u001b[1;33m[\u001b[0m\u001b[0mnp\u001b[0m\u001b[1;33m.\u001b[0m\u001b[0msum\u001b[0m\u001b[1;33m(\u001b[0m\u001b[1;33m(\u001b[0m\u001b[0mX\u001b[0m\u001b[1;33m[\u001b[0m\u001b[0mr\u001b[0m\u001b[1;33m==\u001b[0m\u001b[0mj\u001b[0m\u001b[1;33m,\u001b[0m\u001b[1;33m:\u001b[0m\u001b[1;33m]\u001b[0m \u001b[1;33m-\u001b[0m \u001b[0mmu\u001b[0m\u001b[1;33m[\u001b[0m\u001b[1;33m:\u001b[0m\u001b[1;33m,\u001b[0m\u001b[0mj\u001b[0m\u001b[1;33m.\u001b[0m\u001b[0mastype\u001b[0m\u001b[1;33m(\u001b[0m\u001b[0mint\u001b[0m\u001b[1;33m)\u001b[0m\u001b[1;33m]\u001b[0m\u001b[1;33m)\u001b[0m\u001b[1;33m**\u001b[0m\u001b[1;36m2\u001b[0m\u001b[1;33m)\u001b[0m \u001b[1;32mfor\u001b[0m \u001b[0mj\u001b[0m \u001b[1;32min\u001b[0m \u001b[0mnp\u001b[0m\u001b[1;33m.\u001b[0m\u001b[0munique\u001b[0m\u001b[1;33m(\u001b[0m\u001b[0mr\u001b[0m\u001b[1;33m)\u001b[0m\u001b[1;33m]\u001b[0m\u001b[1;33m)\u001b[0m\u001b[1;33m\u001b[0m\u001b[1;33m\u001b[0m\u001b[0m\n\u001b[0m\u001b[0;32m     38\u001b[0m \u001b[1;33m\u001b[0m\u001b[0m\n\u001b[0;32m     39\u001b[0m     \u001b[1;31m#printouts\u001b[0m\u001b[1;33m\u001b[0m\u001b[1;33m\u001b[0m\u001b[1;33m\u001b[0m\u001b[0m\n",
      "\u001b[1;32m<ipython-input-2-0a9020630375>\u001b[0m in \u001b[0;36m<listcomp>\u001b[1;34m(.0)\u001b[0m\n\u001b[0;32m     35\u001b[0m \u001b[1;33m\u001b[0m\u001b[0m\n\u001b[0;32m     36\u001b[0m     \u001b[1;31m#calc loss\u001b[0m\u001b[1;33m\u001b[0m\u001b[1;33m\u001b[0m\u001b[1;33m\u001b[0m\u001b[0m\n\u001b[1;32m---> 37\u001b[1;33m     \u001b[0mloss\u001b[0m\u001b[1;33m=\u001b[0m\u001b[0mnp\u001b[0m\u001b[1;33m.\u001b[0m\u001b[0msum\u001b[0m\u001b[1;33m(\u001b[0m\u001b[1;33m[\u001b[0m\u001b[0mnp\u001b[0m\u001b[1;33m.\u001b[0m\u001b[0msum\u001b[0m\u001b[1;33m(\u001b[0m\u001b[1;33m(\u001b[0m\u001b[0mX\u001b[0m\u001b[1;33m[\u001b[0m\u001b[0mr\u001b[0m\u001b[1;33m==\u001b[0m\u001b[0mj\u001b[0m\u001b[1;33m,\u001b[0m\u001b[1;33m:\u001b[0m\u001b[1;33m]\u001b[0m \u001b[1;33m-\u001b[0m \u001b[0mmu\u001b[0m\u001b[1;33m[\u001b[0m\u001b[1;33m:\u001b[0m\u001b[1;33m,\u001b[0m\u001b[0mj\u001b[0m\u001b[1;33m.\u001b[0m\u001b[0mastype\u001b[0m\u001b[1;33m(\u001b[0m\u001b[0mint\u001b[0m\u001b[1;33m)\u001b[0m\u001b[1;33m]\u001b[0m\u001b[1;33m)\u001b[0m\u001b[1;33m**\u001b[0m\u001b[1;36m2\u001b[0m\u001b[1;33m)\u001b[0m \u001b[1;32mfor\u001b[0m \u001b[0mj\u001b[0m \u001b[1;32min\u001b[0m \u001b[0mnp\u001b[0m\u001b[1;33m.\u001b[0m\u001b[0munique\u001b[0m\u001b[1;33m(\u001b[0m\u001b[0mr\u001b[0m\u001b[1;33m)\u001b[0m\u001b[1;33m]\u001b[0m\u001b[1;33m)\u001b[0m\u001b[1;33m\u001b[0m\u001b[1;33m\u001b[0m\u001b[0m\n\u001b[0m\u001b[0;32m     38\u001b[0m \u001b[1;33m\u001b[0m\u001b[0m\n\u001b[0;32m     39\u001b[0m     \u001b[1;31m#printouts\u001b[0m\u001b[1;33m\u001b[0m\u001b[1;33m\u001b[0m\u001b[1;33m\u001b[0m\u001b[0m\n",
      "\u001b[1;31mValueError\u001b[0m: operands could not be broadcast together with shapes (1,3) (2,) "
     ]
    }
   ],
   "source": [
    "#ASSIGNMENT 1: KMEANS (BORIS), not working\n",
    "\n",
    "X=np.array([[1,3,3],[1,2,3],[5,4,3]])\n",
    "k=2\n",
    "m=5\n",
    "    \n",
    "#init centroids as random data points\n",
    "rand_samples=np.random.choice(X.shape[0],size=(k,),replace=False) #choose k random data points as centroids\n",
    "mu=X[rand_samples] #centroid initialisation\n",
    "\n",
    "r=np.zeros(X.shape[0]) #current memberships\n",
    "r_=r #prev memberships\n",
    "\n",
    "\n",
    "for i in range(m):\n",
    "    for count, datapoint in enumerate(X):\n",
    "        D = np.linalg.norm(mu-datapoint,axis=0)#calc dist\n",
    "        print('shape',D.shape)\n",
    "        r[count]=np.argmin(D,axis=0) #assign membership\n",
    "        \n",
    "        print(D)\n",
    "        print(r)\n",
    "        \n",
    "    # assign a rand datapoint to any empty centroids (empty centroids workaround)\n",
    "    r_empty = [x for x in range(k) if x not in np.unique(r)]\n",
    "    #print('r_empty',r_empty)\n",
    "    for m in r_empty:\n",
    "        r[np.random.randint(0,len(X)-1)] = m\n",
    "    #print('r_empty2',r_empty)\n",
    "    \n",
    "    #print('np.unique\\n',np.unique(r.astype(int)))\n",
    "    \n",
    "    #calc new centroids\n",
    "    mu.T[np.unique(r.astype(int))]=[np.mean(X[r==j],axis=1) for j in np.unique(r)]\n",
    "    \n",
    "    #calc loss\n",
    "    loss=np.sum([np.sum((X[r==j,:] - mu[:,j.astype(int)])**2) for j in np.unique(r)])\n",
    "    \n",
    "    #printouts\n",
    "    print('Iteration:' + i)\n",
    "    print('Memberships' + str(list(r == r_).count(False)))\n",
    "    print('Loss function' + str(loss))\n",
    "    \n",
    "    #end if all memberships same as previous iteration\n",
    "    if (r==r_).all():\n",
    "        break\n",
    "    \n",
    "    r_=r\n",
    "    \n",
    "print('Final centroids\\n',mu.T)\n",
    "print('Final memberships\\n',r)\n",
    "print('Final loss\\n',loss)\n",
    "    \n",
    "    "
   ]
  },
  {
   "cell_type": "code",
   "execution_count": 3,
   "metadata": {},
   "outputs": [],
   "source": [
    "#ASSIGNMENT 1: LEO'S \n",
    "def kmeans(X, k, max_iter=100): \n",
    "    \"\"\" Performs k-means clustering\n",
    "\n",
    "    Input:\n",
    "    X: (d x n) data matrix with each datapoint in one column\n",
    "    k: number of clusters\n",
    "    max_iter: maximum number of iterations\n",
    "\n",
    "    Output:\n",
    "    mu: (d x k) matrix with each cluster center in one column\n",
    "    r: assignment vector\n",
    "    \"\"\"\n",
    "    # initailize k random centroids at data mean\n",
    "    X_mean = np.mean(X, axis = 0)\n",
    "    w_init = np.array([np.random.normal(X_mean[i],1,k) for i in range(len(X_mean))])\n",
    "    w_q = w_init\n",
    "    converged = False\n",
    "    iteration = 1\n",
    "    m_q = np.zeros(len(X))\n",
    "    m_q_old = deepcopy(m_q)\n",
    "    while (not converged) & (iteration <= max_iter):\n",
    "        # calculate distance to centroids\n",
    "        D = np.linalg.norm(X[None, :] - w_q.T[:,None], axis = 2)\n",
    "        # assign every data point to its nearest centroids\n",
    "        m_q = np.argmin(D, axis=0)\n",
    "        # assign random data point to not empty centroids\n",
    "        m_empty = [x for x in range(k) if x not in np.unique(m_q)]\n",
    "        for m in m_empty:\n",
    "            m_q[random.randint(0,len(X)-1)] = m\n",
    "        # calculate position of centroids as mean of assigned data\n",
    "        w_q.T[np.unique(m_q)] = [np.sum(X[m_q == j], axis = 0) / (np.sum(m_q == j)) for j in np.unique(m_q)]\n",
    "        \n",
    "        # calculate objective\n",
    "        loss = np.sum([np.sum((X[m_q == j, :] - w_q[:,j])**2) for j in np.unique(m_q)])\n",
    "        print('iteration-step: ' + str(iteration))\n",
    "        print('number of changes in assignment: ' + str(list(m_q == m_q_old).count(False)))\n",
    "        print('loss function value: ' + str(loss))\n",
    "        if (m_q == m_q_old).all():\n",
    "            converged = True\n",
    "            break\n",
    "        \n",
    "        m_q_old = deepcopy(m_q)\n",
    "        iteration+=1\n",
    "    return w_q.T, m_q, loss"
   ]
  },
  {
   "cell_type": "code",
   "execution_count": 4,
   "metadata": {},
   "outputs": [],
   "source": [
    "#Assignment 4"
   ]
  },
  {
   "cell_type": "code",
   "execution_count": 5,
   "metadata": {},
   "outputs": [],
   "source": [
    "def norm_pdf(X, mu, C): #not correct ~ old version, see below\n",
    "    \"\"\"\n",
    "    This function computes the probability density function when given a multivariate gaussian distribution as an input.\n",
    "    \n",
    "    Input:\n",
    "    X=data (nxd)\n",
    "    mu=centre of Gaussian distribution (1xd)\n",
    "    C=covariance matrix (nxn) , np.cov(X.T)\n",
    "    \n",
    "    Output:\n",
    "    y=probability density function (nx1)\n",
    "    \"\"\"\n",
    "    \n",
    "    det=np.linalg.det(np.linalg.inv(C)) #1x1\n",
    "    \n",
    "    frac = 1 / (2**(X.shape[1]/2) * np.sqrt(det)) #1x1 \n",
    "    \n",
    "    exp = np.exp((-1/2) * np.dot( np.dot((X-mu),np.linalg.inv(C)) , (X-mu).T)) #nxd dxd dxn = nxn \n",
    "    exp = np.diagonal(exp) #we only want diagonals, since only x_i should affect y_i\n",
    "    \n",
    "    y = frac * exp\n",
    "    \n",
    "    return y\n",
    "    "
   ]
  },
  {
   "cell_type": "code",
   "execution_count": 6,
   "metadata": {},
   "outputs": [
    {
     "name": "stdout",
     "output_type": "stream",
     "text": [
      "[[ 0 11]\n",
      " [10  1]\n",
      " [-5 50]]\n",
      "(3, 2)\n",
      "(3,)\n",
      "[[  58.33333333 -171.66666667]\n",
      " [-171.66666667  670.33333333]]\n",
      "0.00010380622837370248\n",
      "49.07477288111818\n"
     ]
    },
    {
     "ename": "ValueError",
     "evalue": "operands could not be broadcast together with shapes (3,2) (3,) ",
     "output_type": "error",
     "traceback": [
      "\u001b[1;31m---------------------------------------------------------------------------\u001b[0m",
      "\u001b[1;31mValueError\u001b[0m                                Traceback (most recent call last)",
      "\u001b[1;32m<ipython-input-6-50cebded021d>\u001b[0m in \u001b[0;36m<module>\u001b[1;34m\u001b[0m\n\u001b[0;32m     21\u001b[0m \u001b[0mprint\u001b[0m\u001b[1;33m(\u001b[0m\u001b[0mfrac\u001b[0m\u001b[1;33m)\u001b[0m\u001b[1;33m\u001b[0m\u001b[1;33m\u001b[0m\u001b[0m\n\u001b[0;32m     22\u001b[0m \u001b[1;33m\u001b[0m\u001b[0m\n\u001b[1;32m---> 23\u001b[1;33m \u001b[0mexp\u001b[0m \u001b[1;33m=\u001b[0m \u001b[0mnp\u001b[0m\u001b[1;33m.\u001b[0m\u001b[0mexp\u001b[0m\u001b[1;33m(\u001b[0m\u001b[1;33m(\u001b[0m\u001b[1;33m-\u001b[0m\u001b[1;36m1\u001b[0m\u001b[1;33m/\u001b[0m\u001b[1;36m2\u001b[0m\u001b[1;33m)\u001b[0m \u001b[1;33m*\u001b[0m \u001b[0mnp\u001b[0m\u001b[1;33m.\u001b[0m\u001b[0mdot\u001b[0m\u001b[1;33m(\u001b[0m \u001b[0mnp\u001b[0m\u001b[1;33m.\u001b[0m\u001b[0mdot\u001b[0m\u001b[1;33m(\u001b[0m\u001b[1;33m(\u001b[0m\u001b[0mX\u001b[0m\u001b[1;33m-\u001b[0m\u001b[0mmu\u001b[0m\u001b[1;33m)\u001b[0m\u001b[1;33m,\u001b[0m\u001b[0mnp\u001b[0m\u001b[1;33m.\u001b[0m\u001b[0mlinalg\u001b[0m\u001b[1;33m.\u001b[0m\u001b[0minv\u001b[0m\u001b[1;33m(\u001b[0m\u001b[0mC\u001b[0m\u001b[1;33m)\u001b[0m\u001b[1;33m)\u001b[0m \u001b[1;33m,\u001b[0m \u001b[1;33m(\u001b[0m\u001b[0mX\u001b[0m\u001b[1;33m-\u001b[0m\u001b[0mmu\u001b[0m\u001b[1;33m)\u001b[0m\u001b[1;33m.\u001b[0m\u001b[0mT\u001b[0m\u001b[1;33m)\u001b[0m\u001b[1;33m)\u001b[0m \u001b[1;31m#nxd dxd dxn = nxn --> check this with Jakob\u001b[0m\u001b[1;33m\u001b[0m\u001b[1;33m\u001b[0m\u001b[0m\n\u001b[0m\u001b[0;32m     24\u001b[0m \u001b[1;31m#the sheet2.pdf formula says to transpose the first (X-mu)\u001b[0m\u001b[1;33m\u001b[0m\u001b[1;33m\u001b[0m\u001b[1;33m\u001b[0m\u001b[0m\n\u001b[0;32m     25\u001b[0m \u001b[0mprint\u001b[0m\u001b[1;33m(\u001b[0m\u001b[0mexp\u001b[0m\u001b[1;33m)\u001b[0m\u001b[1;33m\u001b[0m\u001b[1;33m\u001b[0m\u001b[0m\n",
      "\u001b[1;31mValueError\u001b[0m: operands could not be broadcast together with shapes (3,2) (3,) "
     ]
    }
   ],
   "source": [
    "#DEV CELL\n",
    "\n",
    "#why does np.cov return nxn not dxd?? -->docs\n",
    "#\"A 1-D or 2-D array containing multiple variables and observations. \n",
    "#Each row of m represents a variable, and each column a single observation of all those variables. Also see rowvar below.\"\n",
    "# TL;DR ----->transpose data before handing it to np.cov\n",
    "\n",
    "X = np.array([[0,11],[10,1],[-5,50]])\n",
    "print(X)\n",
    "print(X.shape)\n",
    "\n",
    "C=np.cov(X.T) #dxd , transpose is to rectify weird np.cov function\n",
    "mu=np.mean(X,axis=1) #1xd\n",
    "print(mu.shape)\n",
    "print(C)\n",
    "\n",
    "det=np.linalg.det(np.linalg.inv(C))\n",
    "print(det)\n",
    "\n",
    "frac = 1 / (2**(X.shape[1]/2) * np.sqrt(det)) #1x1 \n",
    "print(frac)\n",
    "\n",
    "exp = np.exp((-1/2) * np.dot( np.dot((X-mu),np.linalg.inv(C)) , (X-mu).T)) #nxd dxd dxn = nxn --> check this with Jakob\n",
    "#the sheet2.pdf formula says to transpose the first (X-mu)\n",
    "print(exp)\n",
    "exp = np.diagonal(exp) #we only want diagonals, since only x_i should affect y_i\n",
    "\n",
    "print(exp.shape)\n",
    "\n",
    "\n",
    "y = frac * exp\n",
    "\n",
    "\n",
    "\n",
    "\n",
    "\n",
    "print(np.linalg.det(C))\n",
    "print(np.sqrt(np.linalg.det(C)))\n",
    "\n",
    "\n",
    "print(y)"
   ]
  },
  {
   "cell_type": "code",
   "execution_count": 7,
   "metadata": {},
   "outputs": [
    {
     "name": "stdout",
     "output_type": "stream",
     "text": [
      "[10.22654216 10.22654216 10.22654216]\n"
     ]
    }
   ],
   "source": [
    "X = np.array([[7,11],[10,1],[-5,5]])\n",
    "\n",
    "y=norm_pdf(X,np.mean(X,axis=0),np.cov(X.T))\n",
    "\n",
    "print(y)"
   ]
  },
  {
   "cell_type": "code",
   "execution_count": 8,
   "metadata": {},
   "outputs": [],
   "source": [
    "#DEV 2 CELL: VAR METHOD ---> WORKS \n",
    "#not 100% accurate (see comparison below), but pretty good.\n",
    "def norm_pdf(X, mu, C):\n",
    "    \"\"\"\n",
    "    This function computes the probability density function when given a multivariate gaussian distribution as an input.\n",
    "    \n",
    "    Input:\n",
    "    X=data (nxd)\n",
    "    mu=centre of Gaussian distribution (1xd)\n",
    "    C=covariance matrix (nxn) , np.cov(X.T)\n",
    "    \n",
    "    Output:\n",
    "    y=probability density function (nx1)\n",
    "    \"\"\"\n",
    "\n",
    "    var=np.diagonal(C) #trace of cov matrix is var\n",
    "    \n",
    "    det=np.linalg.det(C)\n",
    "\n",
    "    #frac = 1 / (2**(X.shape[1]/2) * np.sqrt(var))  \n",
    "    \n",
    "    #frac = 1 / (((2*np.pi)**(X.shape[1]/2))*np.sqrt(det))\n",
    "    \n",
    "    frac = 1 / ((np.power((2*np.pi),(X.shape[1]/2)))*np.sqrt(det))\n",
    "    \n",
    "    exp = np.exp( (-1/2) *  (np.dot((np.square(X-mu)), 1/(var))) )\n",
    "    \n",
    "    #exp = np.exp( (-1/2) *  (np.dot((np.dot((X-mu).T,(X-mu))), 1/(var))) )\n",
    "    \n",
    "    #exp = np.exp( (-1/2) *  (np.dot(((X-mu)**2), 1/(var))) )\n",
    "    \n",
    "    #exp = np.exp(-((X-mu.reshape(1,mu.shape[0]))**2)/(2*var))\n",
    "\n",
    "    y = frac*exp\n",
    "\n",
    "    return y"
   ]
  },
  {
   "cell_type": "code",
   "execution_count": 9,
   "metadata": {},
   "outputs": [
    {
     "name": "stdout",
     "output_type": "stream",
     "text": [
      "28525.837500000012\n",
      "(2,)\n",
      "[0.24059709 0.74737907 0.79544001 0.79154369 0.1617739 ]\n",
      "[0.00022672 0.00070427 0.00074956 0.00074589 0.00015244]\n"
     ]
    }
   ],
   "source": [
    "X = np.array([[7,11],[10,1],[-5,5],[1,2],[99,1]])\n",
    "mu = np.mean(X,axis=0)\n",
    "C = np.cov(X.T)\n",
    "\n",
    "var=np.diagonal(C) #trace of cov matrix is var\n",
    "    \n",
    "det=np.linalg.det(C)\n",
    "\n",
    "print(det)\n",
    "\n",
    "\n",
    "frac = 1 / (((2*np.pi)**(X.shape[1]/2))*np.sqrt(det))\n",
    "\n",
    "exp = np.exp( (-1/2) *  (np.dot(((X-mu)**2), 1/(var))) )\n",
    "\n",
    "print(np.diagonal(C).shape)\n",
    "#print(np.dot(((X-mu.reshape(1,mu.shape[0]))**2),(1/2*np.diagonal(C))))\n",
    "print(exp)\n",
    "\n",
    "print(frac*exp)"
   ]
  },
  {
   "cell_type": "code",
   "execution_count": 10,
   "metadata": {},
   "outputs": [
    {
     "name": "stdout",
     "output_type": "stream",
     "text": [
      "Our output\n",
      "[0.00022672 0.00070427 0.00074956 0.00074589 0.00015244]\n",
      "Correct output\n",
      "[0.00023031 0.00060937 0.00077062 0.00064296 0.0001957 ]\n",
      "(10, 2)\n",
      "Correct output\n",
      "[0.00970558 0.01602077 0.00982328 0.00977784 0.0134664  0.01508864\n",
      " 0.0030866  0.00871177 0.00366591 0.00223946]\n",
      "Our output\n",
      "[0.00771902 0.01650381 0.00912485 0.00802926 0.01188255 0.01434514\n",
      " 0.00533104 0.01164806 0.0064915  0.00104459]\n"
     ]
    }
   ],
   "source": [
    "import matplotlib.pyplot as plt\n",
    "from scipy.stats import multivariate_normal\n",
    "\n",
    "y=norm_pdf(X,mu,C)\n",
    "print(\"Our output\")\n",
    "print(y) \n",
    "\n",
    "y = multivariate_normal.pdf(X, np.mean(X,axis=0), np.cov(X.T))\n",
    "print(\"Correct output\")\n",
    "print(y)\n",
    "\n",
    "X=np.array([[0,0],[1,3],[4,6],[-1,1],[0.5,1],[0.5,2],[1,7],[5,1],[7,1],[9,7]])\n",
    "print(X.shape)\n",
    "\n",
    "y = multivariate_normal.pdf(X, np.mean(X,axis=0), np.cov(X.T))\n",
    "print(\"Correct output\")\n",
    "print(y)\n",
    "\n",
    "z = norm_pdf(X,np.mean(X,axis=0),np.cov(X.T))\n",
    "print(\"Our output\")\n",
    "print(z)"
   ]
  },
  {
   "cell_type": "code",
   "execution_count": 11,
   "metadata": {},
   "outputs": [],
   "source": [
    "#ASSIGNMENT 6"
   ]
  },
  {
   "cell_type": "code",
   "execution_count": 142,
   "metadata": {},
   "outputs": [
    {
     "name": "stdout",
     "output_type": "stream",
     "text": [
      "(9, 2)\n"
     ]
    },
    {
     "data": {
      "text/plain": [
       "<matplotlib.collections.PathCollection at 0x2182cafabe0>"
      ]
     },
     "execution_count": 142,
     "metadata": {},
     "output_type": "execute_result"
    },
    {
     "data": {
      "image/png": "[encoded data removed]",
      "text/plain": [
       "<Figure size 432x288 with 1 Axes>"
      ]
     },
     "metadata": {
      "needs_background": "light"
     },
     "output_type": "display_data"
    }
   ],
   "source": [
    "#from test.py\n",
    "X = np.array([[0., 1., 1., 10., 10.25, 11., 10., 10.25, 11.],\n",
    "            [0., 0., 1.,  0.,   0.5,  0.,  5.,   5.5,  5.]]).T\n",
    "print(X.shape)\n",
    "perfect_r = [1,0,1,2,2,1,2,2,2]\n",
    "\n",
    "plt.scatter(X.T[0],X.T[1]) #this shows the clusters, for inspection checking EMM algorithm"
   ]
  },
  {
   "cell_type": "code",
   "execution_count": 147,
   "metadata": {},
   "outputs": [
    {
     "name": "stdout",
     "output_type": "stream",
     "text": [
      "Iteration Number:\n",
      " 1\n",
      "Old likelihoods\n",
      " [[0. 0. 0.]\n",
      " [0. 0. 0.]\n",
      " [0. 0. 0.]\n",
      " [0. 0. 0.]\n",
      " [0. 0. 0.]\n",
      " [0. 0. 0.]\n",
      " [0. 0. 0.]\n",
      " [0. 0. 0.]\n",
      " [0. 0. 0.]]\n",
      "New likelihoods\n",
      " [[2.81762195e-28 1.05002998e-33 1.95166105e-02]\n",
      " [1.02323357e-23 3.81323665e-29 3.21774509e-02]\n",
      " [6.20622535e-24 3.43256624e-27 5.30516477e-02]\n",
      " [3.21774509e-02 1.19914199e-07 8.29134753e-20]\n",
      " [3.53400162e-02 1.60443425e-06 1.23239879e-20]\n",
      " [5.30516477e-02 1.97705091e-07 6.20622535e-24]\n",
      " [1.19914199e-07 3.21774509e-02 4.58581473e-23]\n",
      " [1.08105929e-08 3.53400162e-02 5.59508184e-25]\n",
      " [1.97705091e-07 5.30516477e-02 3.43256624e-27]]\n",
      "Responsibilities:\n",
      " [[1.44370456e-26 5.38018616e-32 1.00000000e+00]\n",
      " [3.17997090e-22 1.18506486e-27 1.00000000e+00]\n",
      " [1.16984592e-22 6.47023493e-26 1.00000000e+00]\n",
      " [9.99996273e-01 3.72663928e-06 2.57674751e-18]\n",
      " [9.99954602e-01 4.53978687e-05 3.48710322e-19]\n",
      " [9.99996273e-01 3.72663928e-06 1.16984156e-22]\n",
      " [3.72663928e-06 9.99996273e-01 1.42515877e-21]\n",
      " [3.05902227e-07 9.99999694e-01 1.58321380e-23]\n",
      " [3.72663928e-06 9.99996273e-01 6.47021081e-26]]\n",
      "n\n",
      " [2.99995491 3.00004509 3.        ]\n",
      "pi\n",
      " [0.33332832 0.33333834 0.33333333]\n",
      "mu\n",
      " [[10.41666917  0.16667459]\n",
      " [10.41666416  5.16658359]\n",
      " [ 0.66666667  0.33333333]]\n"
     ]
    }
   ],
   "source": [
    "#EMM ALGORITHM DEV CELL\n",
    "k=3\n",
    "max_iter=10\n",
    "init_kmeans=False\n",
    "tol=0.00001\n",
    "\n",
    "\n",
    "#1. INITIALISATIONS\n",
    "pi = np.full(shape=(k,1), fill_value=1/k) #kx1\n",
    "rand_samples = np.random.choice(X.shape[0], size=(k,), replace=False) #choose k random data points\n",
    "mu = X[rand_samples] #centroid initialisation as random points, kxd\n",
    "sigma = [np.eye(X.shape[1]) for i in range(k)] #dxd\n",
    "likelihoods = np.empty(shape=(X.shape[0],k)) #nxk\n",
    "\n",
    "converged = False\n",
    "iteration = 1\n",
    "while (not converged) & (iteration <= max_iter):\n",
    "    \n",
    "    print('Iteration Number:\\n',iteration)\n",
    "    \n",
    "    #2. E-STEP - compute new likelihoods and responsibilities\n",
    "    old_likelihoods = likelihoods\n",
    "    print('Old likelihoods\\n', old_likelihoods)\n",
    "    #2.1 first find all k likelihoods\n",
    "    for i in range(k):\n",
    "        #nx1                             1x1 X nx1  = nx1 \n",
    "        likelihood = (pi[i] * norm_pdf(X,mu[i],sigma[i])) #norm_pdf written to handle mu=(1xd) only\n",
    "        likelihoods.T[i]=likelihood\n",
    "    print('New likelihoods\\n',likelihoods)\n",
    "    \n",
    "    #2.2 use likelihoods to calculate individual k responsibilities\n",
    "        #nxk            nxk              nx1\n",
    "    responsibilities = likelihoods / np.sum(likelihoods, axis=1).reshape(likelihoods.shape[0],1)\n",
    "    print('Responsibilities:\\n',responsibilities)\n",
    "    \n",
    "    #3. M-STEP - compute new n,pi,mu,sigma\n",
    "    #1xk\n",
    "    n = np.sum(responsibilities,axis=0)\n",
    "    print('n\\n',n)\n",
    "    #1xk\n",
    "    pi = n / np.sum(n,axis=0)\n",
    "    print('pi\\n',pi)\n",
    "    #kxd                    (nxkx0)x(nx0xd)=nxkxd --> kxd / kx1\n",
    "    mu = np.sum(responsibilities[:,:,None]*X[:,None,:],axis=0)/n.reshape(n.shape[0],1)\n",
    "    print('mu\\n',mu)\n",
    "    #return sigma as list of k dxd matrices\n",
    "    #kxdxd         =  sum ((nxkx0x0)     x    (nxkxdx0)x(nxkx0xd)) = nxkxdxd-->kxdxd/kx0x0\n",
    "    sigma = np.sum(responsibilities[:,:,None,None]*(X[:,None,:,None]-mu[None,:,:,None])*(X[:,None,None,:]-mu[None,:,None,:]),axis=0) / n[:,None,None]\n",
    "                                                #   (nx0xdx0-nxkx0x0)-->(nxkxdx0)\n",
    "    #print('sigma\\n',sigma)\n",
    "    \n",
    "    #break condition\n",
    "    if (old_likelihoods-likelihoods).all()<tol:\n",
    "        converged=True\n",
    "\n",
    "    iteration=iteration+1\n",
    "                          \n",
    "    \n",
    "                          \n",
    "                       "
   ]
  },
  {
   "cell_type": "code",
   "execution_count": 214,
   "metadata": {},
   "outputs": [],
   "source": [
    "def em_gmm(X, k, max_iter=100, init_kmeans=False, tol=0.00001):\n",
    "    \n",
    "    if init_kmeans==True:\n",
    "        #1.a INIT_KMEANS\n",
    "        mu, r, _ = kmeans(X,k)\n",
    "        unique, counts = np.unique(r, return_counts=True)\n",
    "        pi = counts/np.sum(counts)\n",
    "        \n",
    "    else:\n",
    "        #1.b RANDOM INITIALISATIONS\n",
    "        pi = np.full(shape=(k,1), fill_value=1/k) #kx1\n",
    "        rand_samples = np.random.choice(X.shape[0], size=(k,), replace=False) #choose k random data points\n",
    "        mu = X[rand_samples] #centroid initialisation as random points, kxd\n",
    "    \n",
    "    \n",
    "    #setup storage and loop\n",
    "    sigma = [np.eye(X.shape[1]) for i in range(k)] #dxd\n",
    "    #sigma = np.array((np.eye(X.shape[1],k)))\n",
    "    print(np.shape(sigma))\n",
    "    likelihoods = np.empty(shape=(X.shape[0],k)) #nxk\n",
    "    converged = False\n",
    "    iteration = 1\n",
    "    while (not converged) & (iteration <= max_iter):\n",
    "    \n",
    "        print('Iteration Number:\\n',iteration)\n",
    "    \n",
    "        #2. E-STEP - compute new likelihoods and responsibilities\n",
    "        old_likelihoods = likelihoods\n",
    "        print('Old likelihoods\\n', old_likelihoods)\n",
    "        #2.1 first find all k likelihoods\n",
    "        for i in range(k):\n",
    "            #nx1                             1x1 X nx1  = nx1 \n",
    "            likelihood = (pi[i] * norm_pdf(X,mu[i],sigma[i])) #norm_pdf written to handle mu=(1xd) only\n",
    "            likelihoods.T[i]=likelihood\n",
    "        print('New likelihoods\\n',likelihoods)\n",
    "    \n",
    "        #2.2 use likelihoods to calculate individual k responsibilities\n",
    "            #nxk            nxk              nx1\n",
    "        responsibilities = likelihoods / np.sum(likelihoods, axis=1).reshape(likelihoods.shape[0],1)\n",
    "    \n",
    "        #3. M-STEP - compute new n,pi,mu,sigma\n",
    "        #1xk\n",
    "        n = np.sum(responsibilities,axis=0)\n",
    "        #1xk\n",
    "        pi = n / np.sum(n,axis=0)\n",
    "        #kxd                    (nxkx0)x(nx0xd)=nxkxd --> kxd / kx1\n",
    "        mu = np.sum(responsibilities[:,:,None]*X[:,None,:],axis=0)/n.reshape(n.shape[0],1)\n",
    "        #kxdxd         =  sum ((nxkx0x0)     x    (nxkxdx0)x(nxkx0xd)) = nxkxdxd-->kxdxd/kx0x0\n",
    "        sigma = np.sum(responsibilities[:,:,None,None]*(X[:,None,:,None]-mu[None,:,:,None])*(X[:,None,None,:]-mu[None,:,None,:]),axis=0) / n[:,None,None]\n",
    "                                                    #   (nx0xdx0-nxkx0x0)-->(nxkxdx0)\n",
    "    \n",
    "        #break condition\n",
    "        if (old_likelihoods-likelihoods).all()<tol:\n",
    "            converged=True\n",
    "\n",
    "        iteration=iteration+1\n",
    "        \n",
    "    list_sigma=[sigma[i,:,:] for i in range(k)]\n",
    "    return pi, mu, list_sigma, likelihoods"
   ]
  },
  {
   "cell_type": "code",
   "execution_count": 215,
   "metadata": {},
   "outputs": [
    {
     "name": "stdout",
     "output_type": "stream",
     "text": [
      "(9, 2)\n"
     ]
    },
    {
     "data": {
      "text/plain": [
       "<matplotlib.collections.PathCollection at 0x2182e4c5748>"
      ]
     },
     "execution_count": 215,
     "metadata": {},
     "output_type": "execute_result"
    },
    {
     "data": {
      "image/png": "[encoded data removed]",
      "text/plain": [
       "<Figure size 432x288 with 1 Axes>"
      ]
     },
     "metadata": {
      "needs_background": "light"
     },
     "output_type": "display_data"
    }
   ],
   "source": [
    "#from test.py\n",
    "X = np.array([[0., 1., 1., 10., 10.25, 11., 10., 10.25, 11.],\n",
    "            [0., 0., 1.,  0.,   0.5,  0.,  5.,   5.5,  5.]]).T\n",
    "print(X.shape)\n",
    "perfect_r = [1,0,1,2,2,1,2,2,2]\n",
    "\n",
    "plt.scatter(X.T[0],X.T[1]) #this shows the clusters, for inspection checking EMM algorithm"
   ]
  },
  {
   "cell_type": "code",
   "execution_count": 216,
   "metadata": {},
   "outputs": [
    {
     "name": "stdout",
     "output_type": "stream",
     "text": [
      "(3, 2, 2)\n",
      "Iteration Number:\n",
      " 1\n",
      "Old likelihoods\n",
      " [[7.18422730e-25 3.21774509e-02 2.19767180e-31]\n",
      " [1.23239879e-20 5.30516477e-02 3.76993649e-27]\n",
      " [1.23239879e-20 3.21774509e-02 5.59508184e-25]\n",
      " [4.53774790e-02 1.36701210e-19 1.38810761e-08]\n",
      " [5.30516477e-02 1.23239879e-20 1.97705091e-07]\n",
      " [3.53400162e-02 1.02323357e-23 1.08105929e-08]\n",
      " [2.06013436e-06 5.09437999e-25 4.53774790e-02]\n",
      " [1.97705091e-07 3.76993649e-27 5.30516477e-02]\n",
      " [1.60443425e-06 3.81323665e-29 3.53400162e-02]]\n",
      "New likelihoods\n",
      " [[1.05002998e-33 2.19767180e-31 1.02323357e-23]\n",
      " [3.81323665e-29 3.76993649e-27 1.36701210e-19]\n",
      " [3.43256624e-27 5.59508184e-25 8.29134753e-20]\n",
      " [1.19914199e-07 1.38810761e-08 5.30516477e-02]\n",
      " [1.60443425e-06 1.97705091e-07 4.53774790e-02]\n",
      " [1.97705091e-07 1.08105929e-08 3.21774509e-02]\n",
      " [3.21774509e-02 4.53774790e-02 1.97705091e-07]\n",
      " [3.53400162e-02 5.30516477e-02 1.38810761e-08]\n",
      " [5.30516477e-02 3.53400162e-02 1.19914199e-07]]\n"
     ]
    }
   ],
   "source": [
    "pi, mu, sigma, loglik = em_gmm(X,k=3,tol=0.00001)"
   ]
  },
  {
   "cell_type": "code",
   "execution_count": 217,
   "metadata": {},
   "outputs": [
    {
     "data": {
      "text/plain": [
       "[array([[ 0.19699046, -0.03456845],\n",
       "        [-0.03456845,  0.05137557]]), array([[ 0.15593606, -0.01817456],\n",
       "        [-0.01817456,  0.05896388]]), array([[23.96702452, -0.36457296],\n",
       "        [-0.36457296,  0.14584885]])]"
      ]
     },
     "execution_count": 217,
     "metadata": {},
     "output_type": "execute_result"
    }
   ],
   "source": [
    "sigma"
   ]
  },
  {
   "cell_type": "code",
   "execution_count": 218,
   "metadata": {},
   "outputs": [
    {
     "name": "stdout",
     "output_type": "stream",
     "text": [
      "[0.4 0.4 0.2]\n"
     ]
    }
   ],
   "source": [
    "r=[0,1,2,1,1,2,1,0,0,0]\n",
    "unique, counts = np.unique(r, return_counts=True)\n",
    "print(counts/np.sum(counts))"
   ]
  },
  {
   "cell_type": "code",
   "execution_count": null,
   "metadata": {},
   "outputs": [],
   "source": []
  }
 ],
 "metadata": {
  "kernelspec": {
   "display_name": "Python 3",
   "language": "python",
   "name": "python3"
  },
  "language_info": {
   "codemirror_mode": {
    "name": "ipython",
    "version": 3
   },
   "file_extension": ".py",
   "mimetype": "text/x-python",
   "name": "python",
   "nbconvert_exporter": "python",
   "pygments_lexer": "ipython3",
   "version": "3.7.3"
  }
 },
 "nbformat": 4,
 "nbformat_minor": 2
}
