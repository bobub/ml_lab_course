{
 "cells": [
  {
   "cell_type": "code",
   "execution_count": 1,
   "metadata": {},
   "outputs": [],
   "source": [
    "import numpy as np\n",
    "from matplotlib import pyplot as plt\n",
    "import copy\n",
    "import random\n",
    "from scipy.linalg import sqrtm"
   ]
  },
  {
   "cell_type": "code",
   "execution_count": 2,
   "metadata": {},
   "outputs": [],
   "source": [
    "#ASSIGNMENT 1\n",
    "def kmeans(X, k, max_iter=100): \n",
    "    \"\"\" Performs k-means clustering\n",
    "\n",
    "    Input:\n",
    "    X: (d x n) data matrix with each datapoint in one column\n",
    "    k: number of clusters\n",
    "    max_iter: maximum number of iterations\n",
    "\n",
    "    Output:\n",
    "    mu: (d x k) matrix with each cluster center in one column\n",
    "    r: assignment vector\n",
    "    \"\"\"\n",
    "    # initailize k random centroids at data mean\n",
    "    X_mean = np.mean(X, axis = 0)\n",
    "    w_init = np.array([np.random.normal(X_mean[i],1,k) for i in range(len(X_mean))])\n",
    "    w_q = w_init\n",
    "    converged = False\n",
    "    iteration = 1\n",
    "    m_q = np.zeros(len(X))\n",
    "    m_q_old = copy.deepcopy(m_q)\n",
    "    while (not converged) & (iteration <= max_iter):\n",
    "        # calculate distance to centroids\n",
    "        D = np.linalg.norm(X[None, :] - w_q.T[:,None], axis = 2)\n",
    "        # assign every data point to its nearest centroids\n",
    "        m_q = np.argmin(D, axis=0)\n",
    "        # assign random data point to not empty centroids\n",
    "        m_empty = [x for x in range(k) if x not in np.unique(m_q)]\n",
    "        for m in m_empty:\n",
    "            m_q[random.randint(0,len(X)-1)] = m\n",
    "        # calculate position of centroids as mean of assigned data\n",
    "        w_q.T[np.unique(m_q)] = [np.sum(X[m_q == j], axis = 0) / (np.sum(m_q == j)) for j in np.unique(m_q)]\n",
    "        \n",
    "        # calculate objective\n",
    "        loss = np.sum([np.sum((X[m_q == j, :] - w_q[:,j])**2) for j in np.unique(m_q)])\n",
    "        print('iteration-step: ' + str(iteration))\n",
    "        print('number of changes in assignment: ' + str(list(m_q == m_q_old).count(False)))\n",
    "        print('loss function value: ' + str(loss))\n",
    "        if (m_q == m_q_old).all():\n",
    "            converged = True\n",
    "            break\n",
    "        \n",
    "        m_q_old = copy.deepcopy(m_q)\n",
    "        iteration+=1\n",
    "    return w_q.T, m_q, loss"
   ]
  },
  {
   "cell_type": "code",
   "execution_count": 3,
   "metadata": {},
   "outputs": [],
   "source": [
    "#ASSIGNMENT 2\n",
    "def kmeans_agglo(X, r):\n",
    "    \"\"\" Performs agglomerative clustering with k-means criterion\n",
    "\n",
    "    Input:\n",
    "    X: (d x n) data matrix with each datapoint in one column\n",
    "    r: assignment vector\n",
    "\n",
    "    Output:\n",
    "    R: (k-1) x n matrix that contains cluster memberships before each step\n",
    "    kmloss: vector with loss after each step\n",
    "    mergeidx: (k-1) x 2 matrix that contains merge idx for each step\n",
    "    \"\"\"\n",
    "\n",
    "    def kmeans_crit(X, r):\n",
    "        \"\"\" Computes k-means criterion\n",
    "\n",
    "        Input: \n",
    "        X: (d x n) data matrix with each datapoint in one column\n",
    "        r: assignment vector\n",
    "\n",
    "        Output:\n",
    "        value: scalar for sum of euclidean distances to cluster centers\n",
    "        \"\"\"\n",
    "        # calculate init centroids\n",
    "        w_q = np.array([np.sum(X[r == j], axis=0) / (np.sum(r == j)) for j in np.unique(r)])\n",
    "        # compute initial clustering cost\n",
    "        loss = np.sum(\n",
    "            [np.sum((X[r == j, :] - w_q.T[:, np.unique(r) == j].reshape(len(w_q.T))) ** 2) for j in np.unique(r)])\n",
    "        return loss\n",
    "\n",
    "    # initialization\n",
    "    k = len(np.unique(r))\n",
    "    n, d = np.shape(X)\n",
    "    R = np.zeros((k - 1, n))\n",
    "    kmloss = np.zeros((k, 1))\n",
    "    mergeidx = np.zeros((k - 1, 2))\n",
    "\n",
    "    kmloss[0] = kmeans_crit(X, r)\n",
    "\n",
    "    for l in range(1, k):\n",
    "        R[l - 1] = r\n",
    "        # calculate init centroids\n",
    "        w_q = np.array([np.sum(X[r == j], axis=0) / (np.sum(r == j)) for j in np.unique(r)])\n",
    "        # calculate distance between centroids -> covariance matrix\n",
    "        D = np.linalg.norm(w_q[None, :] - w_q[:, None], axis=2)\n",
    "        # sort covariance ascending order\n",
    "        pairs = list(zip(np.argsort(D, kind='mergesort', axis=None) // len(D),\n",
    "                         np.argsort(D, kind='mergesort', axis=None) % len(D)))  # zeile / spalte\n",
    "        # determine centroid pair with smallest loss, Caveat first elements are 0 explain the diagonal of the cov-matrix\n",
    "        min_pair_idx = pairs[k - l + 1]\n",
    "        # get names of merged clusters by r (clusters used before have the highest index plus 1 )\n",
    "        min_pair = np.unique(r)[np.array(min_pair_idx)]\n",
    "        mergeidx[l - 1] = min_pair\n",
    "        # if np.isin(mergeidx[l-1, 0], mergeidx[:l-1]):\n",
    "        #    mergeidx[l-1, 0] = k+l-1\n",
    "\n",
    "        # new cluster membership\n",
    "        r[np.isin(r, min_pair)] = k + l - 1\n",
    "        # new kmloss\n",
    "        kmloss[l] = kmeans_crit(X, r)\n",
    "    return R, kmloss, mergeidx"
   ]
  },
  {
   "cell_type": "code",
   "execution_count": 4,
   "metadata": {},
   "outputs": [],
   "source": [
    "#ASSIGNMENT 3\n",
    "def agglo_dendro(kmloss, mergeidx):\n",
    "    \"\"\" Plots dendrogram for agglomerative clustering\n",
    "\n",
    "    Input:\n",
    "    kmloss: vector with loss after each step\n",
    "    mergeidx: (k-1) x 2 matrix that contains merge idx for each step\n",
    "    \"\"\"\n",
    "    fourth_column = 2 * np.ones((len(mergeidx), 1))  # necessary for dendogram function, sample count\n",
    "    Z = np.concatenate([mergeidx, kmloss[1:], fourth_column], axis=1)\n",
    "\n",
    "    plt.figure(figsize=(25, 10))\n",
    "    plt.title('Hierarchical Clustering Dendrogram')\n",
    "    plt.xlabel('sample index')\n",
    "    plt.ylabel('distance')\n",
    "    dendrogram(\n",
    "        Z,\n",
    "        leaf_rotation=90.,  # rotates the x axis labels\n",
    "        leaf_font_size=8.,  # font size for the x axis labels\n",
    "    )\n",
    "    return"
   ]
  },
  {
   "cell_type": "code",
   "execution_count": 5,
   "metadata": {},
   "outputs": [],
   "source": [
    "#Assignment 4\n",
    "#now 100% accurate\n",
    "def norm_pdf(X, mu, C):\n",
    "    \"\"\"\n",
    "    This function computes the probability density function when given a multivariate gaussian distribution as an input.\n",
    "    \n",
    "    Input:\n",
    "    X=data (nxd)\n",
    "    mu=centre of Gaussian distribution (1xd)\n",
    "    C=covariance matrix (nxn) , np.cov(X.T)\n",
    "    \n",
    "    Output:\n",
    "    y=probability density function (nx1)\n",
    "\n",
    "    \"\"\"\n",
    "    \n",
    "    B = np.linalg.solve(C,(X-mu).T).T\n",
    "\n",
    "    D = np.einsum('ji,ij->i',(X-mu).T,B)\n",
    "\n",
    "    y = np.exp(-0.5*D) / (np.power((2*np.pi),X.shape[1]/2)*(np.linalg.det(C)**0.5))\n",
    "\n",
    "    return y"
   ]
  },
  {
   "cell_type": "code",
   "execution_count": 6,
   "metadata": {},
   "outputs": [
    {
     "name": "stdout",
     "output_type": "stream",
     "text": [
      "Our output\n",
      "[0.00023031 0.00060937 0.00077062 0.00064296 0.0001957 ]\n",
      "Correct output\n",
      "[0.00023031 0.00060937 0.00077062 0.00064296 0.0001957 ]\n",
      "(10, 2)\n",
      "Correct output\n",
      "[0.00970558 0.01602077 0.00982328 0.00977784 0.0134664  0.01508864\n",
      " 0.0030866  0.00871177 0.00366591 0.00223946]\n",
      "Our output\n",
      "[0.00970558 0.01602077 0.00982328 0.00977784 0.0134664  0.01508864\n",
      " 0.0030866  0.00871177 0.00366591 0.00223946]\n"
     ]
    }
   ],
   "source": [
    "#TEST CELL FOR ASSIGNMENT 4\n",
    "\n",
    "X = np.array([[7,11],[10,1],[-5,5],[1,2],[99,1]])\n",
    "mu = np.mean(X,axis=0)\n",
    "C = np.cov(X.T)\n",
    "\n",
    "import matplotlib.pyplot as plt\n",
    "from scipy.stats import multivariate_normal\n",
    "\n",
    "y=norm_pdf(X,mu,C)\n",
    "print(\"Our output\")\n",
    "print(y) \n",
    "\n",
    "y = multivariate_normal.pdf(X, mu, C)\n",
    "print(\"Correct output\")\n",
    "print(y)\n",
    "\n",
    "X=np.array([[0,0],[1,3],[4,6],[-1,1],[0.5,1],[0.5,2],[1,7],[5,1],[7,1],[9,7]])\n",
    "print(X.shape)\n",
    "\n",
    "y = multivariate_normal.pdf(X, np.mean(X,axis=0), np.cov(X.T))\n",
    "print(\"Correct output\")\n",
    "print(y)\n",
    "\n",
    "z = norm_pdf(X,np.mean(X,axis=0),np.cov(X.T))\n",
    "print(\"Our output\")\n",
    "print(z)"
   ]
  },
  {
   "cell_type": "code",
   "execution_count": 7,
   "metadata": {},
   "outputs": [],
   "source": [
    "#ASSIGNMENT 5"
   ]
  },
  {
   "cell_type": "code",
   "execution_count": 8,
   "metadata": {},
   "outputs": [
    {
     "name": "stdout",
     "output_type": "stream",
     "text": [
      "(9, 2)\n"
     ]
    },
    {
     "data": {
      "text/plain": [
       "<matplotlib.collections.PathCollection at 0x1a950cac208>"
      ]
     },
     "execution_count": 8,
     "metadata": {},
     "output_type": "execute_result"
    },
    {
     "data": {
      "image/png": "[encoded data removed]",
      "text/plain": [
       "<Figure size 432x288 with 1 Axes>"
      ]
     },
     "metadata": {
      "needs_background": "light"
     },
     "output_type": "display_data"
    }
   ],
   "source": [
    "#from test.py\n",
    "X = np.array([[0., 1., 1., 10., 10.25, 11., 10., 10.25, 11.],\n",
    "            [0., 0., 1.,  0.,   0.5,  0.,  5.,   5.5,  5.]]).T\n",
    "print(X.shape)\n",
    "perfect_r = [1,0,1,2,2,1,2,2,2]\n",
    "\n",
    "plt.scatter(X.T[0],X.T[1]) #this shows the clusters, for inspection checking EMM algorithm"
   ]
  },
  {
   "cell_type": "code",
   "execution_count": 34,
   "metadata": {},
   "outputs": [],
   "source": [
    "#ASSIGNMENT 5 : COMPLETE\n",
    "def em_gmm(X, k, max_iter=100, init_kmeans=False, tol=0.00001,converge_tol=0.0001):\n",
    "    \"\"\"\n",
    "    This function applies the EM algorithm for Gaussian Mixture Models. \n",
    "    \n",
    "    Inputs:\n",
    "    X = data (nxd)\n",
    "    k = number of gaussian components\n",
    "    max_iter = the maximum amount of iterations attempted to find convergence\n",
    "    init_kmeans = Initialises the EM algorithm using kmeans function, if True. Default is False.\n",
    "    tol = The tolerance set for the convergence condition\n",
    "    converge_tol = Tolerance for the convergence condition (optional)\n",
    "    \n",
    "    Outputs:\n",
    "    pi = probability that a datapoint belongs to a cluster (1xk)\n",
    "    mu = center points of clusters (kxd)\n",
    "    sigma = list of k dxd covariance matrices\n",
    "    loglik = the loglikehlihood at each iteration\n",
    "    \"\"\"\n",
    "    \n",
    "    if init_kmeans==True:\n",
    "        #1.a INIT_KMEANS\n",
    "        mu, r, _ = kmeans(X,k)\n",
    "        unique, counts = np.unique(r, return_counts=True)\n",
    "        pi = counts/np.sum(counts)\n",
    "        \n",
    "    else:\n",
    "        #1.b RANDOM INITIALISATIONS\n",
    "        pi = np.full(shape=(k,1), fill_value=1/k) #kx1\n",
    "        rand_samples = np.random.choice(X.shape[0], size=(k,), replace=False) #choose k random data points\n",
    "        mu = X[rand_samples] #centroid initialisation as random points, kxd\n",
    "    \n",
    "    \n",
    "    #setup storage and loop\n",
    "    sigma = [np.eye(X.shape[1]) for i in range(k)] #dxd\n",
    "    likelihoods = np.zeros(shape=(X.shape[0],k),dtype=float) #nxk\n",
    "    converged = False\n",
    "    iteration = 1\n",
    "    while (not converged) & (iteration <= max_iter):\n",
    "    \n",
    "        print('Iteration Number:\\n',iteration)\n",
    "    \n",
    "        #2. E-STEP - compute new likelihoods and responsibilities\n",
    "        old_likelihoods = copy.deepcopy(likelihoods)\n",
    "        #print('Old likelihoods\\n', old_likelihoods)\n",
    "        \n",
    "        #2.1 first find all k likelihoods\n",
    "        for i in range(k):\n",
    "            #nx1                             1x1 X nx1  = nx1 \n",
    "            likelihood = (pi[i] * norm_pdf(X,mu[i],sigma[i])) #norm_pdf written to handle mu=(1xd) only\n",
    "            likelihoods.T[i]=likelihood\n",
    "        \n",
    "        #CALC LOGLIK\n",
    "        loglik = np.log(np.sum(likelihoods,axis=1)).sum()\n",
    "        print('Loglikelihood\\n',loglik)\n",
    "    \n",
    "        #2.2 use likelihoods to calculate individual k responsibilities\n",
    "            #nxk            nxk              nx1\n",
    "        responsibilities = likelihoods / np.sum(likelihoods, axis=1).reshape(likelihoods.shape[0],1)\n",
    "    \n",
    "        #3. M-STEP - compute new n,pi,mu,sigma\n",
    "        #1xk\n",
    "        n = np.sum(responsibilities,axis=0)\n",
    "        #1xk\n",
    "        pi = n / np.sum(n,axis=0)\n",
    "        #kxd                    (nxkx0)x(nx0xd)=nxkxd --> kxd / kx1\n",
    "        mu = np.sum(responsibilities[:,:,None]*X[:,None,:],axis=0)/n.reshape(n.shape[0],1)\n",
    "        #kxdxd         =  sum ((nxkx0x0)     x    (nxkxdx0)x(nxkx0xd)) = nxkxdxd-->kxdxd/kx0x0\n",
    "        sigma = np.sum(responsibilities[:,:,None,None]*(X[:,None,:,None]-mu[None,:,:,None])*(X[:,None,None,:]-mu[None,:,None,:]),axis=0) / n[:,None,None]\n",
    "                                                    #   (nx0xdx0-nxkx0x0)-->(nxkxdx0)\n",
    "        #add regularisation term, tol    \n",
    "        sigma = sigma + tol*np.eye(X.shape[1])\n",
    "    \n",
    "        #break condition - only runs from second iteration to prevent log of old_likelihoods, which is 0 in iteration 1\n",
    "        if iteration>1:\n",
    "            if (np.log(np.sum(old_likelihoods,axis=1)).sum()-loglik).all()<converge_tol:\n",
    "                converged=True\n",
    "\n",
    "        iteration=iteration+1\n",
    "        \n",
    "    #return as a list of covariances    \n",
    "    list_sigma=[sigma[i,:,:] for i in range(k)]\n",
    "    return pi, mu, list_sigma, loglik"
   ]
  },
  {
   "cell_type": "code",
   "execution_count": 113,
   "metadata": {},
   "outputs": [
    {
     "name": "stdout",
     "output_type": "stream",
     "text": [
      "(9, 2)\n"
     ]
    },
    {
     "data": {
      "text/plain": [
       "<matplotlib.collections.PathCollection at 0x1a952fb46a0>"
      ]
     },
     "execution_count": 113,
     "metadata": {},
     "output_type": "execute_result"
    },
    {
     "data": {
      "image/png": "[encoded data removed]",
      "text/plain": [
       "<Figure size 432x288 with 1 Axes>"
      ]
     },
     "metadata": {
      "needs_background": "light"
     },
     "output_type": "display_data"
    }
   ],
   "source": [
    "#from test.py\n",
    "X = np.array([[0., 1., 1., 10., 10.25, 11., 10., 10.25, 11.],\n",
    "            [0., 0., 1.,  0.,   0.5,  0.,  5.,   5.5,  5.]]).T\n",
    "print(X.shape)\n",
    "perfect_r = [1,0,1,2,2,1,2,2,2]\n",
    "\n",
    "plt.scatter(X.T[0],X.T[1]) #this shows the clusters, for inspection checking EMM algorithm"
   ]
  },
  {
   "cell_type": "code",
   "execution_count": 114,
   "metadata": {},
   "outputs": [
    {
     "name": "stdout",
     "output_type": "stream",
     "text": [
      "Iteration Number:\n",
      " 1\n",
      "Loglikelihood\n",
      " -59.36414317283165\n",
      "Iteration Number:\n",
      " 2\n",
      "Loglikelihood\n",
      " -26.45362499277262\n",
      "Iteration Number:\n",
      " 3\n",
      "Loglikelihood\n",
      " -25.57106988022097\n",
      "Iteration Number:\n",
      " 4\n",
      "Loglikelihood\n",
      " -22.219555731180527\n",
      "Iteration Number:\n",
      " 5\n",
      "Loglikelihood\n",
      " -20.33095928245402\n",
      "Iteration Number:\n",
      " 6\n",
      "Loglikelihood\n",
      " -16.510734111958307\n",
      "Iteration Number:\n",
      " 7\n",
      "Loglikelihood\n",
      " -16.438255287188053\n",
      "Iteration Number:\n",
      " 8\n",
      "Loglikelihood\n",
      " -16.438255287188053\n"
     ]
    }
   ],
   "source": [
    "pi, mu, sigma, loglik = em_gmm(X,k=3,tol=0.00001)"
   ]
  },
  {
   "cell_type": "code",
   "execution_count": 115,
   "metadata": {},
   "outputs": [
    {
     "data": {
      "image/png": "[encoded data removed]",
      "text/plain": [
       "<Figure size 720x720 with 1 Axes>"
      ]
     },
     "metadata": {
      "needs_background": "light"
     },
     "output_type": "display_data"
    }
   ],
   "source": [
    "#ASSIGNMENT 6 DEV CELL\n",
    "\n",
    "#ASSIGNMENT 6 GMM PLOT\n",
    "plt.figure(figsize=(10,10))\n",
    "plt.scatter(X.T[0],X.T[1],s=20)\n",
    "plt.title('GMM solution found by EM algorithm')\n",
    "plt.ylabel('X2')\n",
    "plt.xlabel('X1')\n",
    "plt.grid(True)\n",
    "\n",
    "\n",
    "#draw ellipse\n",
    "for i,sig in enumerate(sigma):\n",
    "    tline = np.linspace(0, 2 * np.pi, 100)\n",
    "    sphere = np.vstack((np.sin([tline]), np.cos([tline])))\n",
    "    ellipse = sqrtm(sig).dot(sphere)\n",
    "    plt.plot(mu[i][0] + ellipse[0, :], mu[i][1] + ellipse[1, :],linewidth=4)\n",
    "    #plot centre points\n",
    "    plt.scatter(mu[i][0],mu[i][1],c='r',marker='x')"
   ]
  },
  {
   "cell_type": "code",
   "execution_count": 116,
   "metadata": {},
   "outputs": [],
   "source": [
    "#ASSIGNMENT 6 GMM PLOT ---> NEEDS SCIPY.LINALG.SQRTM\n",
    "def plot_gmm_solution(X,mu,sigma):\n",
    "    \"\"\"\n",
    "    This function plots the different gaussians found by the EM algorithm as ellipses centred around the distributions' means.\n",
    "    \n",
    "    Input:\n",
    "    X=data (nxd)\n",
    "    mu=distribution centres (kxd)\n",
    "    sigma=list of k dxd covariance matrices\n",
    "    \n",
    "    \"\"\"\n",
    "    #plot data points and setup plot parameters\n",
    "    plt.figure(figsize=(10,10))\n",
    "    plt.scatter(X.T[0],X.T[1],s=20)\n",
    "    plt.title('GMM solution found by EM algorithm')\n",
    "    plt.ylabel('X2')\n",
    "    plt.xlabel('X1')\n",
    "    plt.grid(True)\n",
    "\n",
    "\n",
    "    #draw ellipse\n",
    "    for i,sig in enumerate(sigma):\n",
    "        tline = np.linspace(0, 2 * np.pi, 100)\n",
    "        sphere = np.vstack((np.sin([tline]), np.cos([tline])))\n",
    "        ellipse = sqrtm(sig).dot(sphere)\n",
    "        plt.plot(mu[i][0] + ellipse[0, :], mu[i][1] + ellipse[1, :],linewidth=4)\n",
    "        #plot centre points\n",
    "        plt.scatter(mu[i][0],mu[i][1],c='r',marker='x')"
   ]
  },
  {
   "cell_type": "code",
   "execution_count": 117,
   "metadata": {},
   "outputs": [
    {
     "data": {
      "image/png": "[encoded data removed]",
      "text/plain": [
       "<Figure size 720x720 with 1 Axes>"
      ]
     },
     "metadata": {
      "needs_background": "light"
     },
     "output_type": "display_data"
    }
   ],
   "source": [
    "plot_gmm_solution(X,mu,sigma)"
   ]
  },
  {
   "cell_type": "code",
   "execution_count": null,
   "metadata": {},
   "outputs": [],
   "source": []
  }
 ],
 "metadata": {
  "kernelspec": {
   "display_name": "Python 3",
   "language": "python",
   "name": "python3"
  },
  "language_info": {
   "codemirror_mode": {
    "name": "ipython",
    "version": 3
   },
   "file_extension": ".py",
   "mimetype": "text/x-python",
   "name": "python",
   "nbconvert_exporter": "python",
   "pygments_lexer": "ipython3",
   "version": "3.7.3"
  }
 },
 "nbformat": 4,
 "nbformat_minor": 2
}
